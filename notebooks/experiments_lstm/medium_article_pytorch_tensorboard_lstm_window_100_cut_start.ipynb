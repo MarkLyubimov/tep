{
 "cells": [
  {
   "cell_type": "code",
   "execution_count": 1,
   "metadata": {},
   "outputs": [
    {
     "name": "stdout",
     "output_type": "stream",
     "text": [
      "cuda:5\n"
     ]
    }
   ],
   "source": [
    "import os\n",
    "import gc\n",
    "import time\n",
    "\n",
    "import pyreadr as py\n",
    "import pandas as pd\n",
    "import numpy as np\n",
    "import seaborn as sns\n",
    "import matplotlib.pyplot as plt\n",
    "\n",
    "from tqdm.notebook import tqdm\n",
    "\n",
    "import torch\n",
    "import torch.nn.functional as F\n",
    "\n",
    "from torch import nn\n",
    "from torch.optim import Adam, RMSprop\n",
    "from torch.optim.lr_scheduler import StepLR, ReduceLROnPlateau\n",
    "from torch.utils.data import Dataset, DataLoader\n",
    "from torch.utils.tensorboard import SummaryWriter\n",
    "from torch.nn.utils.rnn import pad_sequence, pack_padded_sequence, pad_packed_sequence\n",
    "\n",
    "from sklearn.model_selection import train_test_split\n",
    "from sklearn.preprocessing import StandardScaler\n",
    "from sklearn.metrics import confusion_matrix\n",
    "\n",
    "device = torch.device(\"cuda:5\" if torch.cuda.is_available() else \"cpu\")\n",
    "# device = torch.device(\"cpu\")\n",
    "print(device)"
   ]
  },
  {
   "cell_type": "markdown",
   "metadata": {},
   "source": [
    "> ### Data downloading\n",
    "Data link  \n",
    "https://dataverse.harvard.edu/dataset.xhtml?persistentId=doi:10.7910/DVN/6C3JR1"
   ]
  },
  {
   "cell_type": "markdown",
   "metadata": {},
   "source": [
    "##### Data description\n",
    "Here we consoder dataset of \"Additional Tennessee Eastman Process Simulation Data for Anomaly Detection Evaluation\"\n",
    "This dataverse contains the data referenced in Rieth et al. (2017). Issues and Advances in Anomaly Detection Evaluation for Joint Human-Automated Systems. To be presented at Applied Human Factors and Ergonomics 2017.\n",
    "##### Columns description\n",
    "* **faultNumber** ranges from 1 to 20 in the “Faulty” datasets and represents the fault type in the TEP. The “FaultFree” datasets only contain fault 0 (i.e. normal operating conditions).\n",
    "* **simulationRun** ranges from 1 to 500 and represents a different random number generator state from which a full TEP dataset was generated (Note: the actual seeds used to generate training and testing datasets were non-overlapping).\n",
    "* **sample** ranges either from 1 to 500 (“Training” datasets) or 1 to 960 (“Testing” datasets). The TEP variables (columns 4 to 55) were sampled every 3 minutes for a total duration of 25 hours and 48 hours respectively. Note that the faults were introduced 1 and 8 hours into the Faulty Training and Faulty Testing datasets, respectively.\n",
    "* **columns 4-55** contain the process variables; the column names retain the original variable names."
   ]
  },
  {
   "cell_type": "code",
   "execution_count": 2,
   "metadata": {},
   "outputs": [],
   "source": [
    "# ! unzip ../../data/raw/dataverse_files.zip -d ../../data/raw/dataverse_files"
   ]
  },
  {
   "cell_type": "code",
   "execution_count": 3,
   "metadata": {},
   "outputs": [],
   "source": [
    "#reading train data in .R format\n",
    "a1 = py.read_r(\"../../data/raw/dataverse_files/TEP_FaultFree_Training.RData\")\n",
    "a2 = py.read_r(\"../../data/raw/dataverse_files/TEP_Faulty_Training.RData\")"
   ]
  },
  {
   "cell_type": "code",
   "execution_count": 4,
   "metadata": {},
   "outputs": [],
   "source": [
    "#reading test data in .R format\n",
    "# a3 = py.read_r(\"../../data/raw/dataverse_files/TEP_FaultFree_Testing.RData\")\n",
    "# a4 = py.read_r(\"../../data/raw/dataverse_files/TEP_Faulty_Testing.RData\")"
   ]
  },
  {
   "cell_type": "code",
   "execution_count": 5,
   "metadata": {},
   "outputs": [
    {
     "name": "stdout",
     "output_type": "stream",
     "text": [
      "Objects that are present in a1 : odict_keys(['fault_free_training'])\n",
      "Objects that are present in a2 : odict_keys(['faulty_training'])\n"
     ]
    }
   ],
   "source": [
    "print(\"Objects that are present in a1 :\", a1.keys())\n",
    "print(\"Objects that are present in a2 :\", a2.keys())\n",
    "# print(\"Objects that are present in a3 :\", a3.keys())\n",
    "# print(\"Objects that are present in a4 :\", a4.keys())"
   ]
  },
  {
   "cell_type": "code",
   "execution_count": 6,
   "metadata": {},
   "outputs": [],
   "source": [
    "# concatinating the train and the test dataset\n",
    "\n",
    "raw_train = pd.concat([a1['fault_free_training'], a2['faulty_training']])\n",
    "# raw_test = pd.concat([a3['fault_free_testing'], a4['faulty_testing']])"
   ]
  },
  {
   "cell_type": "code",
   "execution_count": 7,
   "metadata": {},
   "outputs": [],
   "source": [
    "# 5.250.000, 10.080.000\n",
    "# len(raw_train), len(raw_test)"
   ]
  },
  {
   "cell_type": "markdown",
   "metadata": {},
   "source": [
    "> ### Train-test-split"
   ]
  },
  {
   "cell_type": "code",
   "execution_count": 8,
   "metadata": {},
   "outputs": [],
   "source": [
    "features = [\n",
    "        'xmeas_1', 'xmeas_2', 'xmeas_3', 'xmeas_4', 'xmeas_5', 'xmeas_6', 'xmeas_7', 'xmeas_8',\n",
    "        'xmeas_9', 'xmeas_10', 'xmeas_11', 'xmeas_12', 'xmeas_13', 'xmeas_14', 'xmeas_15', 'xmeas_16', \n",
    "        'xmeas_17', 'xmeas_18', 'xmeas_19', 'xmeas_20', 'xmeas_21', 'xmeas_22', 'xmeas_23', 'xmeas_24', \n",
    "        'xmeas_25', 'xmeas_26', 'xmeas_27', 'xmeas_28', 'xmeas_29', 'xmeas_30', 'xmeas_31', 'xmeas_32',\n",
    "        'xmeas_33', 'xmeas_34', 'xmeas_35', 'xmeas_36', 'xmeas_37', 'xmeas_38', 'xmeas_39', 'xmeas_40', \n",
    "        'xmeas_41', 'xmv_1', 'xmv_2', 'xmv_3', 'xmv_4', 'xmv_5', 'xmv_6', 'xmv_7', 'xmv_8', 'xmv_9', \n",
    "        'xmv_10', 'xmv_11'\n",
    "    ]"
   ]
  },
  {
   "cell_type": "code",
   "execution_count": 9,
   "metadata": {},
   "outputs": [],
   "source": [
    "raw_train['index'] = raw_train['faultNumber'] * 500 + raw_train['simulationRun'] - 1\n",
    "# raw_test['index'] = raw_test['faultNumber'] * 500 + raw_test['simulationRun'] - 1"
   ]
  },
  {
   "cell_type": "code",
   "execution_count": 10,
   "metadata": {},
   "outputs": [],
   "source": [
    "simulation_idx = raw_train[['index', 'faultNumber']].drop_duplicates()"
   ]
  },
  {
   "cell_type": "code",
   "execution_count": 11,
   "metadata": {},
   "outputs": [],
   "source": [
    "X_train_idx, X_val_idx = train_test_split(simulation_idx['index'], \n",
    "                                          stratify=simulation_idx['faultNumber'],\n",
    "                                          test_size=0.2, \n",
    "                                          random_state=42)"
   ]
  },
  {
   "cell_type": "code",
   "execution_count": 12,
   "metadata": {},
   "outputs": [],
   "source": [
    "X_train = raw_train[raw_train['index'].isin(X_train_idx)].drop('index', axis=1)\n",
    "X_val = raw_train[raw_train['index'].isin(X_val_idx)].drop('index', axis=1)\n",
    "# X_test = raw_test.drop('index', axis=1)"
   ]
  },
  {
   "cell_type": "markdown",
   "metadata": {},
   "source": [
    "> ### Scaling"
   ]
  },
  {
   "cell_type": "code",
   "execution_count": 13,
   "metadata": {},
   "outputs": [],
   "source": [
    "scaler = StandardScaler()\n",
    "scaler.fit(X_train[features])\n",
    "\n",
    "X_train[features] = scaler.transform(X_train[features])\n",
    "X_val[features] = scaler.transform(X_val[features])\n",
    "# X_test[features] = scaler.transform(X_test[features])"
   ]
  },
  {
   "cell_type": "markdown",
   "metadata": {},
   "source": [
    "> ### Dataset and dataloader"
   ]
  },
  {
   "cell_type": "code",
   "execution_count": 20,
   "metadata": {},
   "outputs": [],
   "source": [
    "def correct(y_pred, target):\n",
    "    \n",
    "    y_pred = torch.softmax(y_pred, dim=1)\n",
    "    y_pred = torch.max(y_pred, dim=1)[1]  \n",
    "    \n",
    "    return torch.eq(y_pred, target).sum().item()"
   ]
  },
  {
   "cell_type": "code",
   "execution_count": 21,
   "metadata": {},
   "outputs": [],
   "source": [
    "# s_list = [0, 100, 200, 300, 400] #len = 5\n",
    "# l_list = [1, 5, 10, 25, 50, 100] #len = 6\n",
    "\n",
    "\n",
    "# for idx in range(239, 271): \n",
    "\n",
    "#     fault_sim_idx = idx // (len(s_list) * len(l_list))\n",
    "    \n",
    "#     start_length_idxs = idx % (len(s_list) * len(l_list))\n",
    "    \n",
    "#     print(fault_sim_idx, start_length_idxs)\n",
    "#     start_idx = s_list[start_length_idxs // len(l_list)]\n",
    "#     seq_length = l_list[start_length_idxs % len(l_list)]\n",
    "#     print(\"start:\", start_idx)\n",
    "#     print(\"length:\", seq_length)\n",
    "    \n",
    "#     X_train_tmp = X_train[X_train['index'] == fault_sim_idx].values[start_idx:start_idx+seq_length, :]\n",
    "    \n",
    "#     print(X_train_tmp.shape)"
   ]
  },
  {
   "cell_type": "code",
   "execution_count": 22,
   "metadata": {},
   "outputs": [],
   "source": [
    "class DataTEP(Dataset):\n",
    "\n",
    "    def __init__(self, X):\n",
    "    \n",
    "        self.X = X\n",
    "        self.X = self.X.sort_values(['faultNumber', 'simulationRun', 'sample'])\n",
    "        self.X['index'] = self.X.groupby(['faultNumber', 'simulationRun']).ngroup()\n",
    "        self.X = self.X.set_index('index')\n",
    "        \n",
    "        self.s_list = [20, 100, 200, 300, 400]\n",
    "#         self.s_list = [450]\n",
    "#         self.l_list = [1, 5, 10, 25, 50, 100]\n",
    "#         self.l_list = [10, 50]\n",
    "        self.l_list = [100]\n",
    "        \n",
    "        self.features = [\n",
    "                'xmeas_1', 'xmeas_2', 'xmeas_3', 'xmeas_4', 'xmeas_5', 'xmeas_6', 'xmeas_7', 'xmeas_8', 'xmeas_9', \n",
    "                'xmeas_10', 'xmeas_11', 'xmeas_12', 'xmeas_13', 'xmeas_14', 'xmeas_15', 'xmeas_16', 'xmeas_17', \n",
    "                'xmeas_18', 'xmeas_19', 'xmeas_20', 'xmeas_21', 'xmeas_22', 'xmeas_23', 'xmeas_24', 'xmeas_25', \n",
    "                'xmeas_26', 'xmeas_27', 'xmeas_28', 'xmeas_29', 'xmeas_30', 'xmeas_31', 'xmeas_32', 'xmeas_33', \n",
    "                'xmeas_34', 'xmeas_35', 'xmeas_36', 'xmeas_37', 'xmeas_38', 'xmeas_39', 'xmeas_40', 'xmeas_41', \n",
    "                'xmv_1', 'xmv_2', 'xmv_3', 'xmv_4', 'xmv_5', 'xmv_6', 'xmv_7', 'xmv_8', 'xmv_9', 'xmv_10', 'xmv_11'\n",
    "            ]\n",
    "\n",
    "    def __len__(self):\n",
    "        return self.X.index.nunique() * len(self.s_list) * len(self.l_list)\n",
    "    \n",
    "    def __getitem__(self, idx):\n",
    "        \n",
    "        fault_sim_idx = idx // (len(self.s_list) * len(self.l_list))\n",
    "    \n",
    "        start_length_idxs = idx % (len(self.s_list) * len(self.l_list))\n",
    "        \n",
    "        start_idx = self.s_list[start_length_idxs // len(self.l_list)]\n",
    "        seq_length = self.l_list[start_length_idxs % len(self.l_list)]\n",
    "        \n",
    "#         print(start_idx, start_idx+seq_length)\n",
    "\n",
    "        features = self.X.loc[fault_sim_idx][self.features].values[start_idx : (start_idx+seq_length), :]\n",
    "        target = self.X.loc[fault_sim_idx]['faultNumber'].unique()[0]\n",
    "\n",
    "        features = torch.tensor(features, dtype=torch.float)\n",
    "        target = torch.tensor(target, dtype=torch.long)\n",
    "\n",
    "        return features, target"
   ]
  },
  {
   "cell_type": "code",
   "execution_count": 23,
   "metadata": {},
   "outputs": [],
   "source": [
    "BATCH_SIZE = 64\n",
    "NUM_CLASSES = 21"
   ]
  },
  {
   "cell_type": "code",
   "execution_count": 24,
   "metadata": {},
   "outputs": [],
   "source": [
    "def collate_fn(batch):\n",
    "\n",
    "    sequences = [x[0] for x in batch]\n",
    "    labels = [x[1] for x in batch]\n",
    "        \n",
    "    lengths = torch.LongTensor([len(x) for x in sequences])\n",
    "    lengths, idx = lengths.sort(0, descending=True)\n",
    "    \n",
    "    sequences = [sequences[i] for i in idx]\n",
    "    \n",
    "    labels = torch.tensor(labels, dtype=torch.long)[idx]\n",
    "    \n",
    "    sequences_padded = pad_sequence(sequences, batch_first=True)\n",
    "\n",
    "    return sequences_padded, lengths, labels"
   ]
  },
  {
   "cell_type": "code",
   "execution_count": 25,
   "metadata": {},
   "outputs": [],
   "source": [
    "train_ds = DataTEP(X_train)\n",
    "train_dl = DataLoader(train_ds, batch_size=BATCH_SIZE, collate_fn=collate_fn, shuffle=True)\n",
    "\n",
    "val_ds = DataTEP(X_val)\n",
    "val_dl = DataLoader(val_ds, batch_size=BATCH_SIZE*4, collate_fn=collate_fn)\n",
    "\n",
    "# test_ds = DataTEP(X_test)\n",
    "# test_dl = DataLoader(test_ds, batch_size=BATCH_SIZE*4, collate_fn=collate_fn)"
   ]
  },
  {
   "cell_type": "code",
   "execution_count": 26,
   "metadata": {},
   "outputs": [
    {
     "data": {
      "text/plain": [
       "(42000, 10500)"
      ]
     },
     "execution_count": 26,
     "metadata": {},
     "output_type": "execute_result"
    }
   ],
   "source": [
    "len(train_ds), len(val_ds)"
   ]
  },
  {
   "cell_type": "code",
   "execution_count": 27,
   "metadata": {},
   "outputs": [
    {
     "data": {
      "text/plain": [
       "14"
      ]
     },
     "execution_count": 27,
     "metadata": {},
     "output_type": "execute_result"
    }
   ],
   "source": [
    "gc.collect()"
   ]
  },
  {
   "cell_type": "markdown",
   "metadata": {},
   "source": [
    "> ### Model"
   ]
  },
  {
   "cell_type": "code",
   "execution_count": 28,
   "metadata": {},
   "outputs": [],
   "source": [
    "class TwinModel(torch.nn.Module) :\n",
    "    def __init__(self, NUM_LAYERS, INPUT_SIZE, HIDDEN_SIZE, LINEAR_SIZE, OUTPUT_SIZE, BIDIRECTIONAL, DEVICE):\n",
    "        super().__init__()\n",
    "        \n",
    "        self.hidden_size = HIDDEN_SIZE\n",
    "        self.num_layers = NUM_LAYERS\n",
    "        self.input_size = INPUT_SIZE\n",
    "        self.linear_size = LINEAR_SIZE\n",
    "        self.output_size = OUTPUT_SIZE\n",
    "        self.bidirectional = BIDIRECTIONAL\n",
    "        \n",
    "        self.lstm_1 = nn.LSTM(\n",
    "                        input_size=self.input_size[0], \n",
    "                        hidden_size=self.hidden_size,\n",
    "                        num_layers=self.num_layers, \n",
    "                        bidirectional=self.bidirectional,\n",
    "                        batch_first=True,\n",
    "                        dropout=0.4\n",
    "            )\n",
    "        \n",
    "        self.lstm_2 = nn.LSTM(\n",
    "                        input_size=self.input_size[1],\n",
    "                        hidden_size=self.hidden_size,\n",
    "                        num_layers=self.num_layers, \n",
    "                        bidirectional=self.bidirectional,\n",
    "                        batch_first=True,\n",
    "                        dropout=0.4\n",
    "            )\n",
    "        \n",
    "        \n",
    "        self.head = nn.Sequential(\n",
    "                        nn.Linear(in_features=2*self.hidden_size*(self.bidirectional+1), out_features=self.linear_size),\n",
    "                        nn.ReLU(),\n",
    "                        nn.Dropout(p=0.4),\n",
    "                        nn.Linear(in_features=self.linear_size, out_features=OUTPUT_SIZE),\n",
    "            )\n",
    "        \n",
    "    def forward(self, x):\n",
    "        \n",
    "        x_1 = x[:, :, :41]\n",
    "        x_2 = x[:, :, 41:]\n",
    "        \n",
    "        x_1, _ = self.lstm_1(x_1)\n",
    "        x_2, __ = self.lstm_2(x_2)\n",
    "        \n",
    "        x_3 = torch.cat((x_1[:, -1], x_2[:, -1]), dim=-1)\n",
    "        \n",
    "        x = self.head(x_3)\n",
    "        \n",
    "        return x"
   ]
  },
  {
   "cell_type": "code",
   "execution_count": 29,
   "metadata": {},
   "outputs": [],
   "source": [
    "class UniModel(torch.nn.Module) :\n",
    "    def __init__(self, NUM_LAYERS, INPUT_SIZE, HIDDEN_SIZE, LINEAR_SIZE, OUTPUT_SIZE, BIDIRECTIONAL, DEVICE):\n",
    "        super().__init__()\n",
    "        \n",
    "        self.hidden_size = HIDDEN_SIZE\n",
    "        self.num_layers = NUM_LAYERS\n",
    "        self.input_size = INPUT_SIZE\n",
    "        self.linear_size = LINEAR_SIZE\n",
    "        self.output_size = OUTPUT_SIZE\n",
    "        self.bidirectional = BIDIRECTIONAL\n",
    "        \n",
    "        self.lstm = nn.LSTM(\n",
    "                        input_size=self.input_size, \n",
    "                        hidden_size=self.hidden_size,\n",
    "                        num_layers=self.num_layers, \n",
    "                        bidirectional=self.bidirectional,\n",
    "                        batch_first=True,\n",
    "                        dropout=0.4\n",
    "            )\n",
    "        \n",
    "        self.head = nn.Sequential(\n",
    "                        nn.Linear(in_features=self.hidden_size*(self.bidirectional+1), out_features=self.linear_size),\n",
    "                        nn.ReLU(),\n",
    "                        nn.Dropout(p=0.4),\n",
    "                        nn.Linear(in_features=self.linear_size, out_features=OUTPUT_SIZE),\n",
    "            )\n",
    "        \n",
    "    def forward(self, x, x_length):\n",
    "        \n",
    "        x_packed = pack_padded_sequence(x, x_length, batch_first=True)\n",
    "        \n",
    "        x_lstm_out, _ = self.lstm(x_packed)\n",
    "        \n",
    "        x_unpacked, _ = pad_packed_sequence(x_lstm_out, batch_first=True)\n",
    "        \n",
    "        x = self.head(x_unpacked[:, -1])\n",
    "        \n",
    "        return x"
   ]
  },
  {
   "cell_type": "code",
   "execution_count": 30,
   "metadata": {},
   "outputs": [],
   "source": [
    "NUM_EPOCHS = 100\n",
    "LEARNING_RATE = 0.001\n",
    "\n",
    "NUM_LAYERS = 2\n",
    "HIDDEN_SIZE = 256\n",
    "LINEAR_SIZE = 128\n",
    "BIDIRECTIONAL = True"
   ]
  },
  {
   "cell_type": "code",
   "execution_count": 31,
   "metadata": {},
   "outputs": [
    {
     "data": {
      "text/plain": [
       "<torch._C.Generator at 0x7f107c1da770>"
      ]
     },
     "execution_count": 31,
     "metadata": {},
     "output_type": "execute_result"
    }
   ],
   "source": [
    "model = UniModel(NUM_LAYERS=NUM_LAYERS, INPUT_SIZE=52, HIDDEN_SIZE=HIDDEN_SIZE, \n",
    "                 LINEAR_SIZE=LINEAR_SIZE, OUTPUT_SIZE=NUM_CLASSES, BIDIRECTIONAL=BIDIRECTIONAL, DEVICE=device)\n",
    "\n",
    "# model = TwinModel(NUM_LAYERS=NUM_LAYERS, INPUT_SIZE=[41, 11], HIDDEN_SIZE=HIDDEN_SIZE,\n",
    "#                  LINEAR_SIZE=LINEAR_SIZE, OUTPUT_SIZE=NUM_CLASSES, BIDIRECTIONAL=BIDIRECTIONAL, DEVICE=device)\n",
    "\n",
    "model = model.to(device)\n",
    "\n",
    "optimizer = torch.optim.Adam(model.parameters(), lr=LEARNING_RATE)\n",
    "criterion = nn.CrossEntropyLoss()\n",
    "scheduler = StepLR(optimizer, step_size=25, gamma=0.5)\n",
    "# scheduler = ReduceLROnPlateau(optimizer, mode='min', verbose=True)\n",
    "\n",
    "torch.manual_seed(42)"
   ]
  },
  {
   "cell_type": "code",
   "execution_count": 32,
   "metadata": {},
   "outputs": [
    {
     "name": "stdout",
     "output_type": "stream",
     "text": [
      "<class 'torch.Tensor'> <class 'torch.Tensor'> <class 'torch.Tensor'>\n",
      "64 64 64\n",
      "y_batch_train.size() torch.Size([64])\n",
      "y_pred_train.size() torch.Size([64, 21]) \n",
      "\n"
     ]
    }
   ],
   "source": [
    "for i, (X_batch, X_lengths, y_batch) in enumerate(train_dl):\n",
    "    if i < 1:\n",
    "        print(type(X_batch), type(X_lengths), type(y_batch))\n",
    "        print(len(X_batch), len(X_lengths), len(y_batch))\n",
    "        X_batch, y_batch_train = X_batch.to(device), y_batch.to(device)\n",
    "        y_pred_train = model(X_batch, X_lengths)\n",
    "        print(\"y_batch_train.size()\", y_batch.size())\n",
    "        print(\"y_pred_train.size()\", y_pred_train.size(), '\\n')\n",
    "    else:\n",
    "        break"
   ]
  },
  {
   "cell_type": "code",
   "execution_count": 33,
   "metadata": {},
   "outputs": [],
   "source": [
    "# !rm -r runs"
   ]
  },
  {
   "cell_type": "markdown",
   "metadata": {},
   "source": [
    "> ### Training"
   ]
  },
  {
   "cell_type": "code",
   "execution_count": 34,
   "metadata": {},
   "outputs": [],
   "source": [
    "# writer = SummaryWriter(comment=f'NL{NUM_LAYERS}_H{HIDDEN_SIZE}_L{LINEAR_SIZE}_B{BIDIRECTIONAL}_S{-100}')\n",
    "\n",
    "writer = SummaryWriter(comment=f'window_100_cut_start')"
   ]
  },
  {
   "cell_type": "code",
   "execution_count": 35,
   "metadata": {
    "scrolled": true
   },
   "outputs": [
    {
     "name": "stdout",
     "output_type": "stream",
     "text": [
      "Epoch: 0, Learning Rate: 0.001\n",
      "\n"
     ]
    },
    {
     "data": {
      "application/vnd.jupyter.widget-view+json": {
       "model_id": "d6b4781e91c945d3b0e77c415d1debc4",
       "version_major": 2,
       "version_minor": 0
      },
      "text/plain": [
       "HBox(children=(FloatProgress(value=0.0, max=657.0), HTML(value='')))"
      ]
     },
     "metadata": {},
     "output_type": "display_data"
    },
    {
     "name": "stdout",
     "output_type": "stream",
     "text": [
      "\n",
      "tensor(-9.6609e-06, device='cuda:5')\n",
      "tensor(2.7035e-06, device='cuda:5')\n",
      "tensor(-0.0006, device='cuda:5')\n",
      "tensor(-0.0006, device='cuda:5')\n",
      "tensor(-8.7892e-07, device='cuda:5')\n",
      "tensor(1.1910e-07, device='cuda:5')\n",
      "tensor(-2.6242e-05, device='cuda:5')\n",
      "tensor(-2.6242e-05, device='cuda:5')\n",
      "tensor(7.5466e-07, device='cuda:5')\n",
      "tensor(7.8357e-07, device='cuda:5')\n",
      "tensor(-0.0001, device='cuda:5')\n",
      "tensor(-0.0001, device='cuda:5')\n",
      "tensor(9.3478e-09, device='cuda:5')\n",
      "tensor(0., device='cuda:5')\n",
      "tensor(-2.9383e-05, device='cuda:5')\n",
      "tensor(-2.9383e-05, device='cuda:5')\n",
      "tensor(-1.3563e-07, device='cuda:5')\n",
      "tensor(0.0002, device='cuda:5')\n",
      "tensor(1.0187e-09, device='cuda:5')\n",
      "tensor(-1.4192e-09, device='cuda:5')\n"
     ]
    },
    {
     "data": {
      "application/vnd.jupyter.widget-view+json": {
       "model_id": "2d8a5e7f57a8421c8aa592b3dfe3b0d4",
       "version_major": 2,
       "version_minor": 0
      },
      "text/plain": [
       "HBox(children=(FloatProgress(value=0.0, max=42.0), HTML(value='')))"
      ]
     },
     "metadata": {},
     "output_type": "display_data"
    },
    {
     "name": "stdout",
     "output_type": "stream",
     "text": [
      "\n",
      "epoch time: 163.15401649475098\n",
      "mean loss train: 1.3667882441566104, mean loss val: 0.6768577030499776\n",
      "accuracy train: 0.5241190476190476, accuracy val: 0.7214285714285714\n",
      "---------------------------------------------------------------------------------------------------\n",
      "Epoch: 1, Learning Rate: 0.001\n",
      "\n"
     ]
    },
    {
     "data": {
      "application/vnd.jupyter.widget-view+json": {
       "model_id": "8a3c395046b84c639632dca233709286",
       "version_major": 2,
       "version_minor": 0
      },
      "text/plain": [
       "HBox(children=(FloatProgress(value=0.0, max=657.0), HTML(value='')))"
      ]
     },
     "metadata": {},
     "output_type": "display_data"
    },
    {
     "name": "stdout",
     "output_type": "stream",
     "text": [
      "\n",
      "tensor(-1.1898e-05, device='cuda:5')\n",
      "tensor(1.3487e-06, device='cuda:5')\n",
      "tensor(0.0002, device='cuda:5')\n",
      "tensor(0.0002, device='cuda:5')\n",
      "tensor(9.3765e-06, device='cuda:5')\n",
      "tensor(5.5119e-09, device='cuda:5')\n",
      "tensor(-2.3836e-05, device='cuda:5')\n",
      "tensor(-2.3836e-05, device='cuda:5')\n",
      "tensor(-5.6271e-09, device='cuda:5')\n",
      "tensor(2.0308e-06, device='cuda:5')\n",
      "tensor(-8.6925e-05, device='cuda:5')\n",
      "tensor(-8.6925e-05, device='cuda:5')\n",
      "tensor(1.1806e-07, device='cuda:5')\n",
      "tensor(0., device='cuda:5')\n",
      "tensor(5.6772e-05, device='cuda:5')\n",
      "tensor(5.6772e-05, device='cuda:5')\n",
      "tensor(6.9305e-06, device='cuda:5')\n",
      "tensor(-0.0004, device='cuda:5')\n",
      "tensor(2.9372e-09, device='cuda:5')\n",
      "tensor(1.5966e-09, device='cuda:5')\n"
     ]
    },
    {
     "data": {
      "application/vnd.jupyter.widget-view+json": {
       "model_id": "10dc203d9f734e61b75e7421b062d310",
       "version_major": 2,
       "version_minor": 0
      },
      "text/plain": [
       "HBox(children=(FloatProgress(value=0.0, max=42.0), HTML(value='')))"
      ]
     },
     "metadata": {},
     "output_type": "display_data"
    },
    {
     "name": "stdout",
     "output_type": "stream",
     "text": [
      "\n",
      "epoch time: 143.4803864955902\n",
      "mean loss train: 0.5730537755829948, mean loss val: 0.4396893901370821\n",
      "accuracy train: 0.7667380952380952, accuracy val: 0.8037142857142857\n",
      "---------------------------------------------------------------------------------------------------\n",
      "Epoch: 2, Learning Rate: 0.001\n",
      "\n"
     ]
    },
    {
     "data": {
      "application/vnd.jupyter.widget-view+json": {
       "model_id": "636374fd0c0c4853874642663f4fc8c0",
       "version_major": 2,
       "version_minor": 0
      },
      "text/plain": [
       "HBox(children=(FloatProgress(value=0.0, max=657.0), HTML(value='')))"
      ]
     },
     "metadata": {},
     "output_type": "display_data"
    },
    {
     "name": "stdout",
     "output_type": "stream",
     "text": [
      "\n",
      "tensor(5.6115e-07, device='cuda:5')\n",
      "tensor(2.2139e-06, device='cuda:5')\n",
      "tensor(-0.0007, device='cuda:5')\n",
      "tensor(-0.0007, device='cuda:5')\n",
      "tensor(-7.9831e-06, device='cuda:5')\n",
      "tensor(-1.9859e-07, device='cuda:5')\n",
      "tensor(0.0001, device='cuda:5')\n",
      "tensor(0.0001, device='cuda:5')\n",
      "tensor(-7.5720e-07, device='cuda:5')\n",
      "tensor(1.3912e-07, device='cuda:5')\n",
      "tensor(0.0003, device='cuda:5')\n",
      "tensor(0.0003, device='cuda:5')\n",
      "tensor(5.8267e-08, device='cuda:5')\n",
      "tensor(0., device='cuda:5')\n",
      "tensor(-4.7639e-05, device='cuda:5')\n",
      "tensor(-4.7639e-05, device='cuda:5')\n",
      "tensor(-5.8893e-06, device='cuda:5')\n",
      "tensor(0.0007, device='cuda:5')\n",
      "tensor(1.1382e-09, device='cuda:5')\n",
      "tensor(1.0644e-09, device='cuda:5')\n"
     ]
    },
    {
     "data": {
      "application/vnd.jupyter.widget-view+json": {
       "model_id": "66df9bd42f0a4dbb8fac2e00baafec83",
       "version_major": 2,
       "version_minor": 0
      },
      "text/plain": [
       "HBox(children=(FloatProgress(value=0.0, max=42.0), HTML(value='')))"
      ]
     },
     "metadata": {},
     "output_type": "display_data"
    },
    {
     "name": "stdout",
     "output_type": "stream",
     "text": [
      "\n",
      "epoch time: 131.68979859352112\n",
      "mean loss train: 0.4254364867664519, mean loss val: 0.37298871249244325\n",
      "accuracy train: 0.8045714285714286, accuracy val: 0.8137142857142857\n",
      "---------------------------------------------------------------------------------------------------\n",
      "Epoch: 3, Learning Rate: 0.001\n",
      "\n"
     ]
    },
    {
     "data": {
      "application/vnd.jupyter.widget-view+json": {
       "model_id": "cf39262012394d0e996a959def895cc3",
       "version_major": 2,
       "version_minor": 0
      },
      "text/plain": [
       "HBox(children=(FloatProgress(value=0.0, max=657.0), HTML(value='')))"
      ]
     },
     "metadata": {},
     "output_type": "display_data"
    },
    {
     "name": "stdout",
     "output_type": "stream",
     "text": [
      "\n",
      "tensor(-3.8868e-06, device='cuda:5')\n",
      "tensor(2.0428e-07, device='cuda:5')\n",
      "tensor(8.3030e-05, device='cuda:5')\n",
      "tensor(8.3030e-05, device='cuda:5')\n",
      "tensor(-2.5280e-05, device='cuda:5')\n",
      "tensor(1.3566e-07, device='cuda:5')\n",
      "tensor(6.9693e-05, device='cuda:5')\n",
      "tensor(6.9693e-05, device='cuda:5')\n",
      "tensor(-7.0249e-07, device='cuda:5')\n",
      "tensor(7.6217e-07, device='cuda:5')\n",
      "tensor(1.3954e-05, device='cuda:5')\n",
      "tensor(1.3954e-05, device='cuda:5')\n",
      "tensor(-4.2062e-07, device='cuda:5')\n",
      "tensor(0., device='cuda:5')\n",
      "tensor(0.0001, device='cuda:5')\n",
      "tensor(0.0001, device='cuda:5')\n",
      "tensor(2.4056e-05, device='cuda:5')\n",
      "tensor(0.0010, device='cuda:5')\n",
      "tensor(8.5262e-09, device='cuda:5')\n",
      "tensor(4.0801e-09, device='cuda:5')\n"
     ]
    },
    {
     "data": {
      "application/vnd.jupyter.widget-view+json": {
       "model_id": "152e2dd7894a4b29830b2d794161f975",
       "version_major": 2,
       "version_minor": 0
      },
      "text/plain": [
       "HBox(children=(FloatProgress(value=0.0, max=42.0), HTML(value='')))"
      ]
     },
     "metadata": {},
     "output_type": "display_data"
    },
    {
     "name": "stdout",
     "output_type": "stream",
     "text": [
      "\n",
      "epoch time: 132.02962064743042\n",
      "mean loss train: 0.35327427686963764, mean loss val: 0.3060898940222604\n",
      "accuracy train: 0.8249047619047619, accuracy val: 0.8448571428571429\n",
      "---------------------------------------------------------------------------------------------------\n",
      "Epoch: 4, Learning Rate: 0.001\n",
      "\n"
     ]
    },
    {
     "data": {
      "application/vnd.jupyter.widget-view+json": {
       "model_id": "d78d19e8dea34aaf90a16c3b4d5cebda",
       "version_major": 2,
       "version_minor": 0
      },
      "text/plain": [
       "HBox(children=(FloatProgress(value=0.0, max=657.0), HTML(value='')))"
      ]
     },
     "metadata": {},
     "output_type": "display_data"
    },
    {
     "name": "stdout",
     "output_type": "stream",
     "text": [
      "\n",
      "tensor(-2.5840e-07, device='cuda:5')\n",
      "tensor(-2.6458e-08, device='cuda:5')\n",
      "tensor(0.0001, device='cuda:5')\n",
      "tensor(0.0001, device='cuda:5')\n",
      "tensor(-2.7157e-07, device='cuda:5')\n",
      "tensor(3.3875e-10, device='cuda:5')\n",
      "tensor(-6.1510e-06, device='cuda:5')\n",
      "tensor(-6.1510e-06, device='cuda:5')\n",
      "tensor(2.1259e-08, device='cuda:5')\n",
      "tensor(-2.9291e-07, device='cuda:5')\n",
      "tensor(-6.0967e-05, device='cuda:5')\n",
      "tensor(-6.0967e-05, device='cuda:5')\n",
      "tensor(6.0177e-09, device='cuda:5')\n",
      "tensor(0., device='cuda:5')\n",
      "tensor(2.4759e-05, device='cuda:5')\n",
      "tensor(2.4759e-05, device='cuda:5')\n",
      "tensor(-9.3320e-07, device='cuda:5')\n",
      "tensor(-0.0003, device='cuda:5')\n",
      "tensor(-2.6959e-10, device='cuda:5')\n",
      "tensor(1.0644e-09, device='cuda:5')\n"
     ]
    },
    {
     "data": {
      "application/vnd.jupyter.widget-view+json": {
       "model_id": "91c39d5a8b2c43a8a96f6cd37d7337e6",
       "version_major": 2,
       "version_minor": 0
      },
      "text/plain": [
       "HBox(children=(FloatProgress(value=0.0, max=42.0), HTML(value='')))"
      ]
     },
     "metadata": {},
     "output_type": "display_data"
    },
    {
     "name": "stdout",
     "output_type": "stream",
     "text": [
      "\n",
      "epoch time: 130.47721457481384\n",
      "mean loss train: 0.32505887946628387, mean loss val: 0.2994682630811419\n",
      "accuracy train: 0.8425714285714285, accuracy val: 0.8529523809523809\n",
      "---------------------------------------------------------------------------------------------------\n",
      "Epoch: 5, Learning Rate: 0.001\n",
      "\n"
     ]
    },
    {
     "data": {
      "application/vnd.jupyter.widget-view+json": {
       "model_id": "16db8f5fd1674ab2867dbc473a2557ca",
       "version_major": 2,
       "version_minor": 0
      },
      "text/plain": [
       "HBox(children=(FloatProgress(value=0.0, max=657.0), HTML(value='')))"
      ]
     },
     "metadata": {},
     "output_type": "display_data"
    },
    {
     "name": "stdout",
     "output_type": "stream",
     "text": [
      "\n",
      "tensor(-1.6132e-05, device='cuda:5')\n",
      "tensor(1.4294e-06, device='cuda:5')\n",
      "tensor(0.0003, device='cuda:5')\n",
      "tensor(0.0003, device='cuda:5')\n",
      "tensor(5.1261e-07, device='cuda:5')\n",
      "tensor(-1.1504e-08, device='cuda:5')\n",
      "tensor(4.4810e-06, device='cuda:5')\n",
      "tensor(4.4810e-06, device='cuda:5')\n",
      "tensor(6.8988e-08, device='cuda:5')\n",
      "tensor(2.3423e-08, device='cuda:5')\n",
      "tensor(-1.0807e-05, device='cuda:5')\n",
      "tensor(-1.0807e-05, device='cuda:5')\n",
      "tensor(4.2457e-09, device='cuda:5')\n",
      "tensor(0., device='cuda:5')\n",
      "tensor(-2.7701e-06, device='cuda:5')\n",
      "tensor(-2.7701e-06, device='cuda:5')\n",
      "tensor(3.2438e-07, device='cuda:5')\n",
      "tensor(-6.1526e-05, device='cuda:5')\n",
      "tensor(1.2513e-08, device='cuda:5')\n",
      "tensor(7.4506e-09, device='cuda:5')\n"
     ]
    },
    {
     "data": {
      "application/vnd.jupyter.widget-view+json": {
       "model_id": "6c4ae0eab73c4100940492bea8ece23e",
       "version_major": 2,
       "version_minor": 0
      },
      "text/plain": [
       "HBox(children=(FloatProgress(value=0.0, max=42.0), HTML(value='')))"
      ]
     },
     "metadata": {},
     "output_type": "display_data"
    },
    {
     "name": "stdout",
     "output_type": "stream",
     "text": [
      "\n",
      "epoch time: 131.00763750076294\n",
      "mean loss train: 0.2847353477932158, mean loss val: 0.2737971176192874\n",
      "accuracy train: 0.8566666666666667, accuracy val: 0.8673333333333333\n",
      "---------------------------------------------------------------------------------------------------\n",
      "Epoch: 6, Learning Rate: 0.001\n",
      "\n"
     ]
    },
    {
     "data": {
      "application/vnd.jupyter.widget-view+json": {
       "model_id": "ddfff8752428405787ae20d90588b2ca",
       "version_major": 2,
       "version_minor": 0
      },
      "text/plain": [
       "HBox(children=(FloatProgress(value=0.0, max=657.0), HTML(value='')))"
      ]
     },
     "metadata": {},
     "output_type": "display_data"
    },
    {
     "name": "stdout",
     "output_type": "stream",
     "text": [
      "\n",
      "tensor(1.8495e-06, device='cuda:5')\n",
      "tensor(2.1088e-07, device='cuda:5')\n",
      "tensor(-1.9921e-05, device='cuda:5')\n",
      "tensor(-1.9921e-05, device='cuda:5')\n",
      "tensor(9.5862e-07, device='cuda:5')\n",
      "tensor(-4.4436e-09, device='cuda:5')\n",
      "tensor(-2.4216e-05, device='cuda:5')\n",
      "tensor(-2.4216e-05, device='cuda:5')\n",
      "tensor(-4.5703e-08, device='cuda:5')\n",
      "tensor(2.9731e-07, device='cuda:5')\n",
      "tensor(3.7870e-05, device='cuda:5')\n",
      "tensor(3.7870e-05, device='cuda:5')\n",
      "tensor(-7.6141e-09, device='cuda:5')\n",
      "tensor(0., device='cuda:5')\n",
      "tensor(8.4821e-07, device='cuda:5')\n",
      "tensor(8.4821e-07, device='cuda:5')\n",
      "tensor(6.0847e-08, device='cuda:5')\n",
      "tensor(9.8844e-06, device='cuda:5')\n",
      "tensor(5.0655e-09, device='cuda:5')\n",
      "tensor(2.8383e-09, device='cuda:5')\n"
     ]
    },
    {
     "data": {
      "application/vnd.jupyter.widget-view+json": {
       "model_id": "d1d0ef0ac11c4f20bae00402a20634c5",
       "version_major": 2,
       "version_minor": 0
      },
      "text/plain": [
       "HBox(children=(FloatProgress(value=0.0, max=42.0), HTML(value='')))"
      ]
     },
     "metadata": {},
     "output_type": "display_data"
    },
    {
     "name": "stdout",
     "output_type": "stream",
     "text": [
      "\n",
      "epoch time: 131.2990915775299\n",
      "mean loss train: 0.2888971384252821, mean loss val: 0.274676832596461\n",
      "accuracy train: 0.8560476190476191, accuracy val: 0.8603809523809524\n",
      "---------------------------------------------------------------------------------------------------\n",
      "Epoch: 7, Learning Rate: 0.001\n",
      "\n"
     ]
    },
    {
     "data": {
      "application/vnd.jupyter.widget-view+json": {
       "model_id": "dd1541442af54549867641dcdb4fe230",
       "version_major": 2,
       "version_minor": 0
      },
      "text/plain": [
       "HBox(children=(FloatProgress(value=0.0, max=657.0), HTML(value='')))"
      ]
     },
     "metadata": {},
     "output_type": "display_data"
    },
    {
     "name": "stdout",
     "output_type": "stream",
     "text": [
      "\n",
      "tensor(-2.3579e-06, device='cuda:5')\n",
      "tensor(-8.2458e-08, device='cuda:5')\n",
      "tensor(0.0002, device='cuda:5')\n",
      "tensor(0.0002, device='cuda:5')\n",
      "tensor(4.0653e-06, device='cuda:5')\n",
      "tensor(-2.4196e-09, device='cuda:5')\n",
      "tensor(-1.9149e-05, device='cuda:5')\n",
      "tensor(-1.9149e-05, device='cuda:5')\n",
      "tensor(-1.8240e-08, device='cuda:5')\n",
      "tensor(9.0495e-08, device='cuda:5')\n",
      "tensor(-9.0065e-05, device='cuda:5')\n",
      "tensor(-9.0065e-05, device='cuda:5')\n",
      "tensor(-1.5863e-08, device='cuda:5')\n",
      "tensor(0., device='cuda:5')\n",
      "tensor(-2.0780e-06, device='cuda:5')\n",
      "tensor(-2.0780e-06, device='cuda:5')\n",
      "tensor(-2.8374e-07, device='cuda:5')\n",
      "tensor(-0.0002, device='cuda:5')\n",
      "tensor(-8.8385e-10, device='cuda:5')\n",
      "tensor(3.5479e-10, device='cuda:5')\n"
     ]
    },
    {
     "data": {
      "application/vnd.jupyter.widget-view+json": {
       "model_id": "78d81bae3359433fb57f0f8740dcbb4c",
       "version_major": 2,
       "version_minor": 0
      },
      "text/plain": [
       "HBox(children=(FloatProgress(value=0.0, max=42.0), HTML(value='')))"
      ]
     },
     "metadata": {},
     "output_type": "display_data"
    },
    {
     "name": "stdout",
     "output_type": "stream",
     "text": [
      "\n",
      "epoch time: 130.27042484283447\n",
      "mean loss train: 0.2789846646558671, mean loss val: 0.2711005809307098\n",
      "accuracy train: 0.8590952380952381, accuracy val: 0.8640952380952381\n",
      "---------------------------------------------------------------------------------------------------\n",
      "Epoch: 8, Learning Rate: 0.001\n",
      "\n"
     ]
    },
    {
     "data": {
      "application/vnd.jupyter.widget-view+json": {
       "model_id": "ecfb7a1fd79949ebb50119b21024e755",
       "version_major": 2,
       "version_minor": 0
      },
      "text/plain": [
       "HBox(children=(FloatProgress(value=0.0, max=657.0), HTML(value='')))"
      ]
     },
     "metadata": {},
     "output_type": "display_data"
    },
    {
     "name": "stdout",
     "output_type": "stream",
     "text": [
      "\n",
      "tensor(1.5025e-07, device='cuda:5')\n",
      "tensor(2.0714e-09, device='cuda:5')\n",
      "tensor(-9.1538e-06, device='cuda:5')\n",
      "tensor(-9.1538e-06, device='cuda:5')\n",
      "tensor(-1.0085e-06, device='cuda:5')\n",
      "tensor(-3.9962e-09, device='cuda:5')\n",
      "tensor(1.7261e-05, device='cuda:5')\n",
      "tensor(1.7261e-05, device='cuda:5')\n",
      "tensor(-9.7849e-08, device='cuda:5')\n",
      "tensor(2.8661e-07, device='cuda:5')\n",
      "tensor(2.9154e-05, device='cuda:5')\n",
      "tensor(2.9154e-05, device='cuda:5')\n",
      "tensor(6.1129e-08, device='cuda:5')\n",
      "tensor(0., device='cuda:5')\n",
      "tensor(-1.3208e-05, device='cuda:5')\n",
      "tensor(-1.3208e-05, device='cuda:5')\n",
      "tensor(6.1575e-08, device='cuda:5')\n",
      "tensor(4.7340e-05, device='cuda:5')\n",
      "tensor(-1.1362e-09, device='cuda:5')\n",
      "tensor(-5.3218e-10, device='cuda:5')\n"
     ]
    },
    {
     "data": {
      "application/vnd.jupyter.widget-view+json": {
       "model_id": "14e9a50d11224effbb224b11d6ddf05d",
       "version_major": 2,
       "version_minor": 0
      },
      "text/plain": [
       "HBox(children=(FloatProgress(value=0.0, max=42.0), HTML(value='')))"
      ]
     },
     "metadata": {},
     "output_type": "display_data"
    },
    {
     "name": "stdout",
     "output_type": "stream",
     "text": [
      "\n",
      "epoch time: 129.85930252075195\n",
      "mean loss train: 0.29286299528394427, mean loss val: 0.274823147274199\n",
      "accuracy train: 0.8546666666666667, accuracy val: 0.8598095238095238\n",
      "---------------------------------------------------------------------------------------------------\n",
      "Epoch: 9, Learning Rate: 0.001\n",
      "\n"
     ]
    },
    {
     "data": {
      "application/vnd.jupyter.widget-view+json": {
       "model_id": "65df3d9a618a4fad8dc3352d685cdf33",
       "version_major": 2,
       "version_minor": 0
      },
      "text/plain": [
       "HBox(children=(FloatProgress(value=0.0, max=657.0), HTML(value='')))"
      ]
     },
     "metadata": {},
     "output_type": "display_data"
    },
    {
     "name": "stdout",
     "output_type": "stream",
     "text": [
      "\n",
      "tensor(-7.5661e-07, device='cuda:5')\n",
      "tensor(-3.7075e-08, device='cuda:5')\n",
      "tensor(-3.2314e-05, device='cuda:5')\n",
      "tensor(-3.2314e-05, device='cuda:5')\n",
      "tensor(-8.3675e-08, device='cuda:5')\n",
      "tensor(-4.9990e-10, device='cuda:5')\n",
      "tensor(-8.6845e-06, device='cuda:5')\n",
      "tensor(-8.6845e-06, device='cuda:5')\n",
      "tensor(8.3817e-09, device='cuda:5')\n",
      "tensor(-1.6239e-08, device='cuda:5')\n",
      "tensor(-6.5565e-06, device='cuda:5')\n",
      "tensor(-6.5565e-06, device='cuda:5')\n",
      "tensor(-7.8429e-09, device='cuda:5')\n",
      "tensor(0., device='cuda:5')\n",
      "tensor(-1.1743e-05, device='cuda:5')\n",
      "tensor(-1.1743e-05, device='cuda:5')\n",
      "tensor(-1.2339e-07, device='cuda:5')\n",
      "tensor(-0.0002, device='cuda:5')\n",
      "tensor(3.1046e-10, device='cuda:5')\n",
      "tensor(-3.5479e-10, device='cuda:5')\n"
     ]
    },
    {
     "data": {
      "application/vnd.jupyter.widget-view+json": {
       "model_id": "a15885f58b364b7f81493ec89983cadd",
       "version_major": 2,
       "version_minor": 0
      },
      "text/plain": [
       "HBox(children=(FloatProgress(value=0.0, max=42.0), HTML(value='')))"
      ]
     },
     "metadata": {},
     "output_type": "display_data"
    },
    {
     "name": "stdout",
     "output_type": "stream",
     "text": [
      "\n",
      "epoch time: 131.30103850364685\n",
      "mean loss train: 0.28425772036257246, mean loss val: 0.27951818395796274\n",
      "accuracy train: 0.8576904761904762, accuracy val: 0.8598095238095238\n",
      "---------------------------------------------------------------------------------------------------\n",
      "Epoch: 10, Learning Rate: 0.001\n",
      "\n"
     ]
    },
    {
     "data": {
      "application/vnd.jupyter.widget-view+json": {
       "model_id": "e4b321dcc74a474fb88cca401acc0ac7",
       "version_major": 2,
       "version_minor": 0
      },
      "text/plain": [
       "HBox(children=(FloatProgress(value=0.0, max=657.0), HTML(value='')))"
      ]
     },
     "metadata": {},
     "output_type": "display_data"
    },
    {
     "name": "stdout",
     "output_type": "stream",
     "text": [
      "\n",
      "tensor(-4.8888e-06, device='cuda:5')\n",
      "tensor(5.2590e-07, device='cuda:5')\n",
      "tensor(6.7770e-05, device='cuda:5')\n",
      "tensor(6.7770e-05, device='cuda:5')\n",
      "tensor(-1.4433e-06, device='cuda:5')\n",
      "tensor(1.4069e-08, device='cuda:5')\n",
      "tensor(2.2178e-05, device='cuda:5')\n",
      "tensor(2.2178e-05, device='cuda:5')\n",
      "tensor(-7.1596e-09, device='cuda:5')\n",
      "tensor(-5.3498e-07, device='cuda:5')\n",
      "tensor(-4.4705e-05, device='cuda:5')\n",
      "tensor(-4.4705e-05, device='cuda:5')\n",
      "tensor(1.3200e-08, device='cuda:5')\n",
      "tensor(0., device='cuda:5')\n",
      "tensor(1.1391e-05, device='cuda:5')\n",
      "tensor(1.1391e-05, device='cuda:5')\n",
      "tensor(7.4854e-08, device='cuda:5')\n",
      "tensor(-3.2886e-05, device='cuda:5')\n",
      "tensor(1.8688e-09, device='cuda:5')\n",
      "tensor(1.7739e-09, device='cuda:5')\n"
     ]
    },
    {
     "data": {
      "application/vnd.jupyter.widget-view+json": {
       "model_id": "3b6ecd45ac7648c88c70dff38a63f9e0",
       "version_major": 2,
       "version_minor": 0
      },
      "text/plain": [
       "HBox(children=(FloatProgress(value=0.0, max=42.0), HTML(value='')))"
      ]
     },
     "metadata": {},
     "output_type": "display_data"
    },
    {
     "name": "stdout",
     "output_type": "stream",
     "text": [
      "\n",
      "epoch time: 130.81543350219727\n",
      "mean loss train: 0.28287167633147464, mean loss val: 0.25747331966672626\n",
      "accuracy train: 0.8597857142857143, accuracy val: 0.8817142857142857\n",
      "---------------------------------------------------------------------------------------------------\n",
      "Epoch: 11, Learning Rate: 0.001\n",
      "\n"
     ]
    },
    {
     "data": {
      "application/vnd.jupyter.widget-view+json": {
       "model_id": "c005b94a3362452dba31ddd29a1148e5",
       "version_major": 2,
       "version_minor": 0
      },
      "text/plain": [
       "HBox(children=(FloatProgress(value=0.0, max=657.0), HTML(value='')))"
      ]
     },
     "metadata": {},
     "output_type": "display_data"
    },
    {
     "name": "stdout",
     "output_type": "stream",
     "text": [
      "\n",
      "tensor(6.9588e-06, device='cuda:5')\n",
      "tensor(3.2540e-07, device='cuda:5')\n",
      "tensor(-2.8097e-05, device='cuda:5')\n",
      "tensor(-2.8097e-05, device='cuda:5')\n",
      "tensor(-6.3552e-07, device='cuda:5')\n",
      "tensor(2.7284e-08, device='cuda:5')\n",
      "tensor(1.6278e-05, device='cuda:5')\n",
      "tensor(1.6278e-05, device='cuda:5')\n",
      "tensor(-1.9307e-07, device='cuda:5')\n",
      "tensor(-5.3492e-07, device='cuda:5')\n",
      "tensor(-5.5512e-06, device='cuda:5')\n",
      "tensor(-5.5512e-06, device='cuda:5')\n",
      "tensor(-3.2174e-08, device='cuda:5')\n",
      "tensor(0., device='cuda:5')\n",
      "tensor(1.0594e-06, device='cuda:5')\n",
      "tensor(1.0594e-06, device='cuda:5')\n",
      "tensor(-7.6662e-07, device='cuda:5')\n",
      "tensor(-0.0002, device='cuda:5')\n",
      "tensor(3.5293e-09, device='cuda:5')\n",
      "tensor(2.7496e-09, device='cuda:5')\n"
     ]
    },
    {
     "data": {
      "application/vnd.jupyter.widget-view+json": {
       "model_id": "0084e995ee87492bb29b03afdfb19616",
       "version_major": 2,
       "version_minor": 0
      },
      "text/plain": [
       "HBox(children=(FloatProgress(value=0.0, max=42.0), HTML(value='')))"
      ]
     },
     "metadata": {},
     "output_type": "display_data"
    },
    {
     "name": "stdout",
     "output_type": "stream",
     "text": [
      "\n",
      "epoch time: 130.9742307662964\n",
      "mean loss train: 0.2701653776168823, mean loss val: 0.28228721763974146\n",
      "accuracy train: 0.8711428571428571, accuracy val: 0.854\n",
      "---------------------------------------------------------------------------------------------------\n",
      "Epoch: 12, Learning Rate: 0.001\n",
      "\n"
     ]
    },
    {
     "data": {
      "application/vnd.jupyter.widget-view+json": {
       "model_id": "2b149e40ba3340a693153727f5d43170",
       "version_major": 2,
       "version_minor": 0
      },
      "text/plain": [
       "HBox(children=(FloatProgress(value=0.0, max=657.0), HTML(value='')))"
      ]
     },
     "metadata": {},
     "output_type": "display_data"
    },
    {
     "name": "stdout",
     "output_type": "stream",
     "text": [
      "\n",
      "tensor(0.0001, device='cuda:5')\n",
      "tensor(4.9154e-06, device='cuda:5')\n",
      "tensor(-0.0012, device='cuda:5')\n",
      "tensor(-0.0012, device='cuda:5')\n",
      "tensor(-0.0001, device='cuda:5')\n",
      "tensor(-3.1249e-06, device='cuda:5')\n",
      "tensor(5.2414e-05, device='cuda:5')\n",
      "tensor(5.2414e-05, device='cuda:5')\n",
      "tensor(-1.9884e-06, device='cuda:5')\n",
      "tensor(9.1341e-06, device='cuda:5')\n",
      "tensor(5.1942e-05, device='cuda:5')\n",
      "tensor(5.1942e-05, device='cuda:5')\n",
      "tensor(1.4170e-06, device='cuda:5')\n",
      "tensor(0., device='cuda:5')\n",
      "tensor(8.4419e-05, device='cuda:5')\n",
      "tensor(8.4419e-05, device='cuda:5')\n",
      "tensor(-1.9490e-05, device='cuda:5')\n",
      "tensor(0.0021, device='cuda:5')\n",
      "tensor(9.7299e-10, device='cuda:5')\n",
      "tensor(1.1087e-09, device='cuda:5')\n"
     ]
    },
    {
     "data": {
      "application/vnd.jupyter.widget-view+json": {
       "model_id": "380bf3b617c84699b267bc3842688fd5",
       "version_major": 2,
       "version_minor": 0
      },
      "text/plain": [
       "HBox(children=(FloatProgress(value=0.0, max=42.0), HTML(value='')))"
      ]
     },
     "metadata": {},
     "output_type": "display_data"
    },
    {
     "name": "stdout",
     "output_type": "stream",
     "text": [
      "\n",
      "epoch time: 129.7918713092804\n",
      "mean loss train: 0.2695906505244119, mean loss val: 0.3920557715892792\n",
      "accuracy train: 0.870904761904762, accuracy val: 0.8271428571428572\n",
      "---------------------------------------------------------------------------------------------------\n",
      "Epoch: 13, Learning Rate: 0.001\n",
      "\n"
     ]
    },
    {
     "data": {
      "application/vnd.jupyter.widget-view+json": {
       "model_id": "62708385bd8a424389e46dedd777d63a",
       "version_major": 2,
       "version_minor": 0
      },
      "text/plain": [
       "HBox(children=(FloatProgress(value=0.0, max=657.0), HTML(value='')))"
      ]
     },
     "metadata": {},
     "output_type": "display_data"
    },
    {
     "name": "stdout",
     "output_type": "stream",
     "text": [
      "\n",
      "tensor(-9.1920e-06, device='cuda:5')\n",
      "tensor(1.2652e-06, device='cuda:5')\n",
      "tensor(0.0004, device='cuda:5')\n",
      "tensor(0.0004, device='cuda:5')\n",
      "tensor(-3.6713e-06, device='cuda:5')\n",
      "tensor(2.2572e-07, device='cuda:5')\n",
      "tensor(-0.0001, device='cuda:5')\n",
      "tensor(-0.0001, device='cuda:5')\n",
      "tensor(4.2483e-08, device='cuda:5')\n",
      "tensor(-4.4892e-08, device='cuda:5')\n",
      "tensor(-0.0001, device='cuda:5')\n",
      "tensor(-0.0001, device='cuda:5')\n",
      "tensor(9.7154e-08, device='cuda:5')\n",
      "tensor(0., device='cuda:5')\n",
      "tensor(2.6719e-05, device='cuda:5')\n",
      "tensor(2.6719e-05, device='cuda:5')\n",
      "tensor(5.6378e-07, device='cuda:5')\n",
      "tensor(-0.0001, device='cuda:5')\n",
      "tensor(1.8952e-09, device='cuda:5')\n",
      "tensor(1.3305e-09, device='cuda:5')\n"
     ]
    },
    {
     "data": {
      "application/vnd.jupyter.widget-view+json": {
       "model_id": "58784a80d3b244a29771d72ac0df74f8",
       "version_major": 2,
       "version_minor": 0
      },
      "text/plain": [
       "HBox(children=(FloatProgress(value=0.0, max=42.0), HTML(value='')))"
      ]
     },
     "metadata": {},
     "output_type": "display_data"
    },
    {
     "name": "stdout",
     "output_type": "stream",
     "text": [
      "\n",
      "epoch time: 130.51077246665955\n",
      "mean loss train: 0.2773419391427721, mean loss val: 0.2828779523032052\n",
      "accuracy train: 0.862, accuracy val: 0.8588571428571429\n",
      "---------------------------------------------------------------------------------------------------\n",
      "Epoch: 14, Learning Rate: 0.001\n",
      "\n"
     ]
    },
    {
     "data": {
      "application/vnd.jupyter.widget-view+json": {
       "model_id": "0cc5a906060a475fb0825902726e98de",
       "version_major": 2,
       "version_minor": 0
      },
      "text/plain": [
       "HBox(children=(FloatProgress(value=0.0, max=657.0), HTML(value='')))"
      ]
     },
     "metadata": {},
     "output_type": "display_data"
    },
    {
     "name": "stdout",
     "output_type": "stream",
     "text": [
      "\n",
      "tensor(-3.1389e-06, device='cuda:5')\n",
      "tensor(1.0086e-06, device='cuda:5')\n",
      "tensor(0.0004, device='cuda:5')\n",
      "tensor(0.0004, device='cuda:5')\n",
      "tensor(-1.4648e-06, device='cuda:5')\n",
      "tensor(-1.5843e-08, device='cuda:5')\n",
      "tensor(-6.3610e-05, device='cuda:5')\n",
      "tensor(-6.3610e-05, device='cuda:5')\n",
      "tensor(1.0194e-07, device='cuda:5')\n",
      "tensor(-2.8363e-07, device='cuda:5')\n",
      "tensor(-0.0001, device='cuda:5')\n",
      "tensor(-0.0001, device='cuda:5')\n",
      "tensor(4.9245e-08, device='cuda:5')\n",
      "tensor(0., device='cuda:5')\n",
      "tensor(8.6494e-06, device='cuda:5')\n",
      "tensor(8.6494e-06, device='cuda:5')\n",
      "tensor(-7.9880e-08, device='cuda:5')\n",
      "tensor(-2.8487e-05, device='cuda:5')\n",
      "tensor(3.8222e-09, device='cuda:5')\n",
      "tensor(2.8383e-09, device='cuda:5')\n"
     ]
    },
    {
     "data": {
      "application/vnd.jupyter.widget-view+json": {
       "model_id": "4c8f467d46d64a218fd2d0f5ffd5bc2f",
       "version_major": 2,
       "version_minor": 0
      },
      "text/plain": [
       "HBox(children=(FloatProgress(value=0.0, max=42.0), HTML(value='')))"
      ]
     },
     "metadata": {},
     "output_type": "display_data"
    },
    {
     "name": "stdout",
     "output_type": "stream",
     "text": [
      "\n",
      "epoch time: 129.7289741039276\n",
      "mean loss train: 0.2504011934825352, mean loss val: 0.27346651292982554\n",
      "accuracy train: 0.8773333333333333, accuracy val: 0.8741904761904762\n",
      "---------------------------------------------------------------------------------------------------\n",
      "Epoch: 15, Learning Rate: 0.001\n",
      "\n"
     ]
    },
    {
     "data": {
      "application/vnd.jupyter.widget-view+json": {
       "model_id": "f2e9ab093b10469ba81d1b25bb9c5259",
       "version_major": 2,
       "version_minor": 0
      },
      "text/plain": [
       "HBox(children=(FloatProgress(value=0.0, max=657.0), HTML(value='')))"
      ]
     },
     "metadata": {},
     "output_type": "display_data"
    },
    {
     "name": "stdout",
     "output_type": "stream",
     "text": [
      "\n",
      "tensor(-2.5909e-05, device='cuda:5')\n",
      "tensor(1.9718e-05, device='cuda:5')\n",
      "tensor(0.0052, device='cuda:5')\n",
      "tensor(0.0052, device='cuda:5')\n",
      "tensor(4.5865e-06, device='cuda:5')\n",
      "tensor(-3.1302e-06, device='cuda:5')\n",
      "tensor(-0.0010, device='cuda:5')\n",
      "tensor(-0.0010, device='cuda:5')\n",
      "tensor(-9.0527e-07, device='cuda:5')\n",
      "tensor(-2.0550e-07, device='cuda:5')\n",
      "tensor(-0.0003, device='cuda:5')\n",
      "tensor(-0.0003, device='cuda:5')\n",
      "tensor(-7.5171e-08, device='cuda:5')\n",
      "tensor(0., device='cuda:5')\n",
      "tensor(1.7074e-06, device='cuda:5')\n",
      "tensor(1.7074e-06, device='cuda:5')\n",
      "tensor(-1.7118e-07, device='cuda:5')\n",
      "tensor(-0.0001, device='cuda:5')\n",
      "tensor(-1.7336e-10, device='cuda:5')\n",
      "tensor(8.8697e-10, device='cuda:5')\n"
     ]
    },
    {
     "data": {
      "application/vnd.jupyter.widget-view+json": {
       "model_id": "6d133ea08b00435dae8de14c06c6cb8a",
       "version_major": 2,
       "version_minor": 0
      },
      "text/plain": [
       "HBox(children=(FloatProgress(value=0.0, max=42.0), HTML(value='')))"
      ]
     },
     "metadata": {},
     "output_type": "display_data"
    },
    {
     "name": "stdout",
     "output_type": "stream",
     "text": [
      "\n",
      "epoch time: 130.47857570648193\n",
      "mean loss train: 0.23308663907505217, mean loss val: 0.19296505510239373\n",
      "accuracy train: 0.8828095238095238, accuracy val: 0.8957142857142857\n",
      "---------------------------------------------------------------------------------------------------\n",
      "Epoch: 16, Learning Rate: 0.001\n",
      "\n"
     ]
    },
    {
     "data": {
      "application/vnd.jupyter.widget-view+json": {
       "model_id": "e70696a1c4ef44ca9e642c06dffa93d7",
       "version_major": 2,
       "version_minor": 0
      },
      "text/plain": [
       "HBox(children=(FloatProgress(value=0.0, max=657.0), HTML(value='')))"
      ]
     },
     "metadata": {},
     "output_type": "display_data"
    },
    {
     "name": "stdout",
     "output_type": "stream",
     "text": [
      "\n",
      "tensor(8.3156e-06, device='cuda:5')\n",
      "tensor(-5.9158e-07, device='cuda:5')\n",
      "tensor(-0.0003, device='cuda:5')\n",
      "tensor(-0.0003, device='cuda:5')\n",
      "tensor(-1.6830e-06, device='cuda:5')\n",
      "tensor(1.1079e-07, device='cuda:5')\n",
      "tensor(6.6643e-05, device='cuda:5')\n",
      "tensor(6.6643e-05, device='cuda:5')\n",
      "tensor(4.6512e-08, device='cuda:5')\n",
      "tensor(-5.3913e-08, device='cuda:5')\n",
      "tensor(3.3819e-06, device='cuda:5')\n",
      "tensor(3.3819e-06, device='cuda:5')\n",
      "tensor(5.0085e-08, device='cuda:5')\n",
      "tensor(0., device='cuda:5')\n",
      "tensor(1.7800e-06, device='cuda:5')\n",
      "tensor(1.7800e-06, device='cuda:5')\n",
      "tensor(-9.8773e-07, device='cuda:5')\n",
      "tensor(-0.0001, device='cuda:5')\n",
      "tensor(4.1977e-09, device='cuda:5')\n",
      "tensor(3.4592e-09, device='cuda:5')\n"
     ]
    },
    {
     "data": {
      "application/vnd.jupyter.widget-view+json": {
       "model_id": "210eda72417b4c24a4fc64c3721ca8de",
       "version_major": 2,
       "version_minor": 0
      },
      "text/plain": [
       "HBox(children=(FloatProgress(value=0.0, max=42.0), HTML(value='')))"
      ]
     },
     "metadata": {},
     "output_type": "display_data"
    },
    {
     "name": "stdout",
     "output_type": "stream",
     "text": [
      "\n",
      "epoch time: 142.30692982673645\n",
      "mean loss train: 0.23567781852540515, mean loss val: 0.19390843843846095\n",
      "accuracy train: 0.8824761904761905, accuracy val: 0.8951428571428571\n",
      "---------------------------------------------------------------------------------------------------\n",
      "Epoch: 17, Learning Rate: 0.001\n",
      "\n"
     ]
    },
    {
     "data": {
      "application/vnd.jupyter.widget-view+json": {
       "model_id": "6fdd4fac5bdd4fa587bb37da1a91f388",
       "version_major": 2,
       "version_minor": 0
      },
      "text/plain": [
       "HBox(children=(FloatProgress(value=0.0, max=657.0), HTML(value='')))"
      ]
     },
     "metadata": {},
     "output_type": "display_data"
    },
    {
     "name": "stdout",
     "output_type": "stream",
     "text": [
      "\n",
      "tensor(-8.4423e-05, device='cuda:5')\n",
      "tensor(1.6661e-05, device='cuda:5')\n",
      "tensor(0.0038, device='cuda:5')\n",
      "tensor(0.0038, device='cuda:5')\n",
      "tensor(2.6955e-05, device='cuda:5')\n",
      "tensor(-2.5782e-07, device='cuda:5')\n",
      "tensor(-0.0015, device='cuda:5')\n",
      "tensor(-0.0015, device='cuda:5')\n",
      "tensor(-1.0420e-06, device='cuda:5')\n",
      "tensor(-1.4881e-06, device='cuda:5')\n",
      "tensor(-0.0004, device='cuda:5')\n",
      "tensor(-0.0004, device='cuda:5')\n",
      "tensor(-7.5519e-08, device='cuda:5')\n",
      "tensor(0., device='cuda:5')\n",
      "tensor(1.3036e-05, device='cuda:5')\n",
      "tensor(1.3036e-05, device='cuda:5')\n",
      "tensor(2.5664e-06, device='cuda:5')\n",
      "tensor(0.0011, device='cuda:5')\n",
      "tensor(2.4671e-09, device='cuda:5')\n",
      "tensor(2.3727e-09, device='cuda:5')\n"
     ]
    },
    {
     "data": {
      "application/vnd.jupyter.widget-view+json": {
       "model_id": "345856459fc342af979527588963ae63",
       "version_major": 2,
       "version_minor": 0
      },
      "text/plain": [
       "HBox(children=(FloatProgress(value=0.0, max=42.0), HTML(value='')))"
      ]
     },
     "metadata": {},
     "output_type": "display_data"
    },
    {
     "name": "stdout",
     "output_type": "stream",
     "text": [
      "\n",
      "epoch time: 147.05241227149963\n",
      "mean loss train: 0.19210470794496082, mean loss val: 0.19065075622286115\n",
      "accuracy train: 0.9035238095238095, accuracy val: 0.9023809523809524\n",
      "---------------------------------------------------------------------------------------------------\n",
      "Epoch: 18, Learning Rate: 0.001\n",
      "\n"
     ]
    },
    {
     "data": {
      "application/vnd.jupyter.widget-view+json": {
       "model_id": "e21692713578472e84cb4518dc5bf3c1",
       "version_major": 2,
       "version_minor": 0
      },
      "text/plain": [
       "HBox(children=(FloatProgress(value=0.0, max=657.0), HTML(value='')))"
      ]
     },
     "metadata": {},
     "output_type": "display_data"
    },
    {
     "name": "stdout",
     "output_type": "stream",
     "text": [
      "\n",
      "tensor(-1.2055e-06, device='cuda:5')\n",
      "tensor(-9.2187e-07, device='cuda:5')\n",
      "tensor(2.7123e-05, device='cuda:5')\n",
      "tensor(2.7123e-05, device='cuda:5')\n",
      "tensor(-7.4010e-06, device='cuda:5')\n",
      "tensor(-2.8349e-07, device='cuda:5')\n",
      "tensor(3.9039e-05, device='cuda:5')\n",
      "tensor(3.9039e-05, device='cuda:5')\n",
      "tensor(-1.0345e-07, device='cuda:5')\n",
      "tensor(-3.4234e-07, device='cuda:5')\n",
      "tensor(-7.0632e-05, device='cuda:5')\n",
      "tensor(-7.0632e-05, device='cuda:5')\n",
      "tensor(7.1714e-09, device='cuda:5')\n",
      "tensor(0., device='cuda:5')\n",
      "tensor(3.7511e-06, device='cuda:5')\n",
      "tensor(3.7511e-06, device='cuda:5')\n",
      "tensor(3.6281e-07, device='cuda:5')\n",
      "tensor(-0.0004, device='cuda:5')\n",
      "tensor(8.1653e-11, device='cuda:5')\n",
      "tensor(4.4349e-10, device='cuda:5')\n"
     ]
    },
    {
     "data": {
      "application/vnd.jupyter.widget-view+json": {
       "model_id": "62e992f16f2748ab9e594c6ff6d7ec64",
       "version_major": 2,
       "version_minor": 0
      },
      "text/plain": [
       "HBox(children=(FloatProgress(value=0.0, max=42.0), HTML(value='')))"
      ]
     },
     "metadata": {},
     "output_type": "display_data"
    },
    {
     "name": "stdout",
     "output_type": "stream",
     "text": [
      "\n",
      "epoch time: 145.04924845695496\n",
      "mean loss train: 0.16240558081013814, mean loss val: 0.19434442631403606\n",
      "accuracy train: 0.9233571428571429, accuracy val: 0.9172380952380952\n",
      "---------------------------------------------------------------------------------------------------\n",
      "Epoch: 19, Learning Rate: 0.001\n",
      "\n"
     ]
    },
    {
     "data": {
      "application/vnd.jupyter.widget-view+json": {
       "model_id": "75a7a07b977842818f4409ead99bda5a",
       "version_major": 2,
       "version_minor": 0
      },
      "text/plain": [
       "HBox(children=(FloatProgress(value=0.0, max=657.0), HTML(value='')))"
      ]
     },
     "metadata": {},
     "output_type": "display_data"
    },
    {
     "name": "stdout",
     "output_type": "stream",
     "text": [
      "\n",
      "tensor(1.6728e-07, device='cuda:5')\n",
      "tensor(-3.2096e-07, device='cuda:5')\n",
      "tensor(-0.0002, device='cuda:5')\n",
      "tensor(-0.0002, device='cuda:5')\n",
      "tensor(-5.3099e-06, device='cuda:5')\n",
      "tensor(4.7471e-08, device='cuda:5')\n",
      "tensor(5.4040e-05, device='cuda:5')\n",
      "tensor(5.4040e-05, device='cuda:5')\n",
      "tensor(-1.5112e-08, device='cuda:5')\n",
      "tensor(8.7821e-09, device='cuda:5')\n",
      "tensor(-2.4153e-06, device='cuda:5')\n",
      "tensor(-2.4153e-06, device='cuda:5')\n",
      "tensor(-1.4086e-08, device='cuda:5')\n",
      "tensor(0., device='cuda:5')\n",
      "tensor(-1.7840e-05, device='cuda:5')\n",
      "tensor(-1.7840e-05, device='cuda:5')\n",
      "tensor(-2.3428e-07, device='cuda:5')\n",
      "tensor(-5.6226e-05, device='cuda:5')\n",
      "tensor(2.6566e-09, device='cuda:5')\n",
      "tensor(2.8383e-09, device='cuda:5')\n"
     ]
    },
    {
     "data": {
      "application/vnd.jupyter.widget-view+json": {
       "model_id": "bf44bda6a4074f7eaaf1df682920df39",
       "version_major": 2,
       "version_minor": 0
      },
      "text/plain": [
       "HBox(children=(FloatProgress(value=0.0, max=42.0), HTML(value='')))"
      ]
     },
     "metadata": {},
     "output_type": "display_data"
    },
    {
     "name": "stdout",
     "output_type": "stream",
     "text": [
      "\n",
      "epoch time: 146.4614155292511\n",
      "mean loss train: 0.13791030543191093, mean loss val: 0.10669028816336677\n",
      "accuracy train: 0.9345238095238095, accuracy val: 0.9411428571428572\n",
      "---------------------------------------------------------------------------------------------------\n",
      "Epoch: 20, Learning Rate: 0.001\n",
      "\n"
     ]
    },
    {
     "data": {
      "application/vnd.jupyter.widget-view+json": {
       "model_id": "d46fe4ea322b4ba6ad75d3f07c2ae80c",
       "version_major": 2,
       "version_minor": 0
      },
      "text/plain": [
       "HBox(children=(FloatProgress(value=0.0, max=657.0), HTML(value='')))"
      ]
     },
     "metadata": {},
     "output_type": "display_data"
    },
    {
     "name": "stdout",
     "output_type": "stream",
     "text": [
      "\n",
      "tensor(-4.7446e-05, device='cuda:5')\n",
      "tensor(-5.1890e-06, device='cuda:5')\n",
      "tensor(-0.0023, device='cuda:5')\n",
      "tensor(-0.0023, device='cuda:5')\n",
      "tensor(1.9987e-05, device='cuda:5')\n",
      "tensor(1.0742e-07, device='cuda:5')\n",
      "tensor(-0.0002, device='cuda:5')\n",
      "tensor(-0.0002, device='cuda:5')\n",
      "tensor(1.5861e-07, device='cuda:5')\n",
      "tensor(-7.4598e-09, device='cuda:5')\n",
      "tensor(-2.5304e-05, device='cuda:5')\n",
      "tensor(-2.5304e-05, device='cuda:5')\n",
      "tensor(-7.3702e-09, device='cuda:5')\n",
      "tensor(0., device='cuda:5')\n",
      "tensor(-2.0481e-05, device='cuda:5')\n",
      "tensor(-2.0481e-05, device='cuda:5')\n",
      "tensor(-2.0361e-06, device='cuda:5')\n",
      "tensor(-0.0007, device='cuda:5')\n",
      "tensor(2.2837e-09, device='cuda:5')\n",
      "tensor(2.1287e-09, device='cuda:5')\n"
     ]
    },
    {
     "data": {
      "application/vnd.jupyter.widget-view+json": {
       "model_id": "7293c88519844cddaec4ce1dd3ad9a20",
       "version_major": 2,
       "version_minor": 0
      },
      "text/plain": [
       "HBox(children=(FloatProgress(value=0.0, max=42.0), HTML(value='')))"
      ]
     },
     "metadata": {},
     "output_type": "display_data"
    },
    {
     "name": "stdout",
     "output_type": "stream",
     "text": [
      "\n",
      "epoch time: 146.26371002197266\n",
      "mean loss train: 0.10135179517382667, mean loss val: 0.10719633171671913\n",
      "accuracy train: 0.9425476190476191, accuracy val: 0.9408571428571428\n",
      "---------------------------------------------------------------------------------------------------\n",
      "Epoch: 21, Learning Rate: 0.001\n",
      "\n"
     ]
    },
    {
     "data": {
      "application/vnd.jupyter.widget-view+json": {
       "model_id": "f2e9836b1df940fd9bde1cec38112b9a",
       "version_major": 2,
       "version_minor": 0
      },
      "text/plain": [
       "HBox(children=(FloatProgress(value=0.0, max=657.0), HTML(value='')))"
      ]
     },
     "metadata": {},
     "output_type": "display_data"
    },
    {
     "name": "stdout",
     "output_type": "stream",
     "text": [
      "\n",
      "tensor(1.5325e-07, device='cuda:5')\n",
      "tensor(7.4124e-09, device='cuda:5')\n",
      "tensor(8.3172e-06, device='cuda:5')\n",
      "tensor(8.3172e-06, device='cuda:5')\n",
      "tensor(1.8599e-06, device='cuda:5')\n",
      "tensor(1.3869e-07, device='cuda:5')\n",
      "tensor(4.3526e-05, device='cuda:5')\n",
      "tensor(4.3526e-05, device='cuda:5')\n",
      "tensor(-2.2852e-08, device='cuda:5')\n",
      "tensor(8.3708e-08, device='cuda:5')\n",
      "tensor(-2.6522e-05, device='cuda:5')\n",
      "tensor(-2.6522e-05, device='cuda:5')\n",
      "tensor(-4.8131e-09, device='cuda:5')\n",
      "tensor(0., device='cuda:5')\n",
      "tensor(-2.6115e-06, device='cuda:5')\n",
      "tensor(-2.6115e-06, device='cuda:5')\n",
      "tensor(1.6795e-07, device='cuda:5')\n",
      "tensor(-0.0002, device='cuda:5')\n",
      "tensor(3.5203e-09, device='cuda:5')\n",
      "tensor(3.5479e-09, device='cuda:5')\n"
     ]
    },
    {
     "data": {
      "application/vnd.jupyter.widget-view+json": {
       "model_id": "b0ae50a3cb454c40a252be5bae61e12d",
       "version_major": 2,
       "version_minor": 0
      },
      "text/plain": [
       "HBox(children=(FloatProgress(value=0.0, max=42.0), HTML(value='')))"
      ]
     },
     "metadata": {},
     "output_type": "display_data"
    },
    {
     "name": "stdout",
     "output_type": "stream",
     "text": [
      "\n",
      "epoch time: 145.90847325325012\n",
      "mean loss train: 0.10047711866526376, mean loss val: 0.092934023527872\n",
      "accuracy train: 0.9442619047619047, accuracy val: 0.9458095238095238\n",
      "---------------------------------------------------------------------------------------------------\n",
      "Epoch: 22, Learning Rate: 0.001\n",
      "\n"
     ]
    },
    {
     "data": {
      "application/vnd.jupyter.widget-view+json": {
       "model_id": "ce213b6fc42f44b1a923332389523cc8",
       "version_major": 2,
       "version_minor": 0
      },
      "text/plain": [
       "HBox(children=(FloatProgress(value=0.0, max=657.0), HTML(value='')))"
      ]
     },
     "metadata": {},
     "output_type": "display_data"
    },
    {
     "name": "stdout",
     "output_type": "stream",
     "text": [
      "\n",
      "tensor(2.9101e-06, device='cuda:5')\n",
      "tensor(-2.0110e-07, device='cuda:5')\n",
      "tensor(-7.7049e-05, device='cuda:5')\n",
      "tensor(-7.7049e-05, device='cuda:5')\n",
      "tensor(5.9346e-06, device='cuda:5')\n",
      "tensor(-2.5692e-07, device='cuda:5')\n",
      "tensor(-0.0001, device='cuda:5')\n",
      "tensor(-0.0001, device='cuda:5')\n",
      "tensor(-2.8390e-08, device='cuda:5')\n",
      "tensor(-1.3998e-07, device='cuda:5')\n",
      "tensor(-2.3836e-05, device='cuda:5')\n",
      "tensor(-2.3836e-05, device='cuda:5')\n",
      "tensor(-8.1694e-11, device='cuda:5')\n",
      "tensor(0., device='cuda:5')\n",
      "tensor(-8.8410e-08, device='cuda:5')\n",
      "tensor(-8.8410e-08, device='cuda:5')\n",
      "tensor(-1.6768e-07, device='cuda:5')\n",
      "tensor(-8.2089e-05, device='cuda:5')\n",
      "tensor(1.7340e-09, device='cuda:5')\n",
      "tensor(1.0810e-09, device='cuda:5')\n"
     ]
    },
    {
     "data": {
      "application/vnd.jupyter.widget-view+json": {
       "model_id": "65f4a8c776e140bcb59328196fdfe6ae",
       "version_major": 2,
       "version_minor": 0
      },
      "text/plain": [
       "HBox(children=(FloatProgress(value=0.0, max=42.0), HTML(value='')))"
      ]
     },
     "metadata": {},
     "output_type": "display_data"
    },
    {
     "name": "stdout",
     "output_type": "stream",
     "text": [
      "\n",
      "epoch time: 148.4168140888214\n",
      "mean loss train: 0.09167682038602375, mean loss val: 0.12146805520284744\n",
      "accuracy train: 0.9469047619047619, accuracy val: 0.9385714285714286\n",
      "---------------------------------------------------------------------------------------------------\n",
      "Epoch: 23, Learning Rate: 0.001\n",
      "\n"
     ]
    },
    {
     "data": {
      "application/vnd.jupyter.widget-view+json": {
       "model_id": "91bd040aa2ef499eb7772d071b91cf92",
       "version_major": 2,
       "version_minor": 0
      },
      "text/plain": [
       "HBox(children=(FloatProgress(value=0.0, max=657.0), HTML(value='')))"
      ]
     },
     "metadata": {},
     "output_type": "display_data"
    },
    {
     "name": "stdout",
     "output_type": "stream",
     "text": [
      "\n",
      "tensor(-1.7616e-07, device='cuda:5')\n",
      "tensor(1.6713e-09, device='cuda:5')\n",
      "tensor(1.7404e-06, device='cuda:5')\n",
      "tensor(1.7404e-06, device='cuda:5')\n",
      "tensor(2.7403e-09, device='cuda:5')\n",
      "tensor(1.4249e-08, device='cuda:5')\n",
      "tensor(8.9242e-06, device='cuda:5')\n",
      "tensor(8.9242e-06, device='cuda:5')\n",
      "tensor(7.8457e-09, device='cuda:5')\n",
      "tensor(-2.1635e-08, device='cuda:5')\n",
      "tensor(1.0539e-05, device='cuda:5')\n",
      "tensor(1.0539e-05, device='cuda:5')\n",
      "tensor(-2.6381e-09, device='cuda:5')\n",
      "tensor(0., device='cuda:5')\n",
      "tensor(-1.2590e-06, device='cuda:5')\n",
      "tensor(-1.2590e-06, device='cuda:5')\n",
      "tensor(-4.9990e-08, device='cuda:5')\n",
      "tensor(0.0001, device='cuda:5')\n",
      "tensor(-6.8940e-10, device='cuda:5')\n",
      "tensor(-1.2418e-09, device='cuda:5')\n"
     ]
    },
    {
     "data": {
      "application/vnd.jupyter.widget-view+json": {
       "model_id": "cce51a7f3dcb4ae7be44a802198a5184",
       "version_major": 2,
       "version_minor": 0
      },
      "text/plain": [
       "HBox(children=(FloatProgress(value=0.0, max=42.0), HTML(value='')))"
      ]
     },
     "metadata": {},
     "output_type": "display_data"
    },
    {
     "name": "stdout",
     "output_type": "stream",
     "text": [
      "\n",
      "epoch time: 146.29528951644897\n",
      "mean loss train: 0.10247143049467178, mean loss val: 0.0912660437652043\n",
      "accuracy train: 0.9444523809523809, accuracy val: 0.9466666666666667\n",
      "---------------------------------------------------------------------------------------------------\n",
      "Epoch: 24, Learning Rate: 0.001\n",
      "\n"
     ]
    },
    {
     "data": {
      "application/vnd.jupyter.widget-view+json": {
       "model_id": "b575cdf0f0a2472f9d81e5892b8779f0",
       "version_major": 2,
       "version_minor": 0
      },
      "text/plain": [
       "HBox(children=(FloatProgress(value=0.0, max=657.0), HTML(value='')))"
      ]
     },
     "metadata": {},
     "output_type": "display_data"
    },
    {
     "name": "stdout",
     "output_type": "stream",
     "text": [
      "\n",
      "tensor(-1.4139e-07, device='cuda:5')\n",
      "tensor(1.3954e-09, device='cuda:5')\n",
      "tensor(4.6297e-06, device='cuda:5')\n",
      "tensor(4.6297e-06, device='cuda:5')\n",
      "tensor(1.6054e-07, device='cuda:5')\n",
      "tensor(1.3477e-08, device='cuda:5')\n",
      "tensor(1.4205e-05, device='cuda:5')\n",
      "tensor(1.4205e-05, device='cuda:5')\n",
      "tensor(-4.5921e-10, device='cuda:5')\n",
      "tensor(6.5332e-09, device='cuda:5')\n",
      "tensor(-1.2049e-06, device='cuda:5')\n",
      "tensor(-1.2049e-06, device='cuda:5')\n",
      "tensor(4.1064e-11, device='cuda:5')\n",
      "tensor(0., device='cuda:5')\n",
      "tensor(-1.1493e-06, device='cuda:5')\n",
      "tensor(-1.1493e-06, device='cuda:5')\n",
      "tensor(1.2457e-08, device='cuda:5')\n",
      "tensor(-5.6283e-06, device='cuda:5')\n",
      "tensor(-1.9614e-09, device='cuda:5')\n",
      "tensor(-2.0400e-09, device='cuda:5')\n"
     ]
    },
    {
     "data": {
      "application/vnd.jupyter.widget-view+json": {
       "model_id": "c2322b984a12416bb20644e4a31d97d4",
       "version_major": 2,
       "version_minor": 0
      },
      "text/plain": [
       "HBox(children=(FloatProgress(value=0.0, max=42.0), HTML(value='')))"
      ]
     },
     "metadata": {},
     "output_type": "display_data"
    },
    {
     "name": "stdout",
     "output_type": "stream",
     "text": [
      "\n",
      "epoch time: 143.04084038734436\n",
      "mean loss train: 0.08733218091442471, mean loss val: 0.08955280315308344\n",
      "accuracy train: 0.9484047619047619, accuracy val: 0.9471428571428572\n",
      "---------------------------------------------------------------------------------------------------\n",
      "Epoch: 25, Learning Rate: 0.0005\n",
      "\n"
     ]
    },
    {
     "data": {
      "application/vnd.jupyter.widget-view+json": {
       "model_id": "a57123fdf95441e99bf73132a824988c",
       "version_major": 2,
       "version_minor": 0
      },
      "text/plain": [
       "HBox(children=(FloatProgress(value=0.0, max=657.0), HTML(value='')))"
      ]
     },
     "metadata": {},
     "output_type": "display_data"
    },
    {
     "name": "stdout",
     "output_type": "stream",
     "text": [
      "\n",
      "tensor(-1.7072e-07, device='cuda:5')\n",
      "tensor(7.1047e-08, device='cuda:5')\n",
      "tensor(-2.1079e-05, device='cuda:5')\n",
      "tensor(-2.1079e-05, device='cuda:5')\n",
      "tensor(-2.7474e-07, device='cuda:5')\n",
      "tensor(-9.2374e-08, device='cuda:5')\n",
      "tensor(-9.7331e-06, device='cuda:5')\n",
      "tensor(-9.7331e-06, device='cuda:5')\n",
      "tensor(5.3321e-09, device='cuda:5')\n",
      "tensor(2.0436e-08, device='cuda:5')\n",
      "tensor(-5.2342e-06, device='cuda:5')\n",
      "tensor(-5.2342e-06, device='cuda:5')\n",
      "tensor(-1.5511e-08, device='cuda:5')\n",
      "tensor(0., device='cuda:5')\n",
      "tensor(4.2106e-06, device='cuda:5')\n",
      "tensor(4.2106e-06, device='cuda:5')\n",
      "tensor(2.2130e-08, device='cuda:5')\n",
      "tensor(-8.4370e-06, device='cuda:5')\n",
      "tensor(1.3381e-09, device='cuda:5')\n",
      "tensor(1.3305e-09, device='cuda:5')\n"
     ]
    },
    {
     "data": {
      "application/vnd.jupyter.widget-view+json": {
       "model_id": "28eb7303b056411ba49eed216e9d445e",
       "version_major": 2,
       "version_minor": 0
      },
      "text/plain": [
       "HBox(children=(FloatProgress(value=0.0, max=42.0), HTML(value='')))"
      ]
     },
     "metadata": {},
     "output_type": "display_data"
    },
    {
     "name": "stdout",
     "output_type": "stream",
     "text": [
      "\n",
      "epoch time: 145.2865149974823\n",
      "mean loss train: 0.07552057365292594, mean loss val: 0.083161114719652\n",
      "accuracy train: 0.9503095238095238, accuracy val: 0.9482857142857143\n",
      "---------------------------------------------------------------------------------------------------\n",
      "Epoch: 26, Learning Rate: 0.0005\n",
      "\n"
     ]
    },
    {
     "data": {
      "application/vnd.jupyter.widget-view+json": {
       "model_id": "51c0a8ff6f1c4c13a01186e333071df1",
       "version_major": 2,
       "version_minor": 0
      },
      "text/plain": [
       "HBox(children=(FloatProgress(value=0.0, max=657.0), HTML(value='')))"
      ]
     },
     "metadata": {},
     "output_type": "display_data"
    },
    {
     "name": "stdout",
     "output_type": "stream",
     "text": [
      "\n",
      "tensor(-6.0198e-07, device='cuda:5')\n",
      "tensor(-2.8636e-08, device='cuda:5')\n",
      "tensor(-1.8843e-05, device='cuda:5')\n",
      "tensor(-1.8843e-05, device='cuda:5')\n",
      "tensor(-1.5935e-07, device='cuda:5')\n",
      "tensor(-2.3283e-09, device='cuda:5')\n",
      "tensor(2.5441e-05, device='cuda:5')\n",
      "tensor(2.5441e-05, device='cuda:5')\n",
      "tensor(7.6376e-09, device='cuda:5')\n",
      "tensor(3.5833e-08, device='cuda:5')\n",
      "tensor(-5.0175e-06, device='cuda:5')\n",
      "tensor(-5.0175e-06, device='cuda:5')\n",
      "tensor(-7.7834e-09, device='cuda:5')\n",
      "tensor(0., device='cuda:5')\n",
      "tensor(-1.7380e-06, device='cuda:5')\n",
      "tensor(-1.7380e-06, device='cuda:5')\n",
      "tensor(2.7295e-07, device='cuda:5')\n",
      "tensor(-9.3203e-05, device='cuda:5')\n",
      "tensor(3.5694e-09, device='cuda:5')\n",
      "tensor(2.2396e-09, device='cuda:5')\n"
     ]
    },
    {
     "data": {
      "application/vnd.jupyter.widget-view+json": {
       "model_id": "b959d3b5b22a4a2bb94eaba209dc87d2",
       "version_major": 2,
       "version_minor": 0
      },
      "text/plain": [
       "HBox(children=(FloatProgress(value=0.0, max=42.0), HTML(value='')))"
      ]
     },
     "metadata": {},
     "output_type": "display_data"
    },
    {
     "name": "stdout",
     "output_type": "stream",
     "text": [
      "\n",
      "epoch time: 145.78643441200256\n",
      "mean loss train: 0.07368022528148833, mean loss val: 0.08115071313154129\n",
      "accuracy train: 0.9516428571428571, accuracy val: 0.9496190476190476\n",
      "---------------------------------------------------------------------------------------------------\n",
      "Epoch: 27, Learning Rate: 0.0005\n",
      "\n"
     ]
    },
    {
     "data": {
      "application/vnd.jupyter.widget-view+json": {
       "model_id": "14430fc2503c49e689b67cf811c5f15b",
       "version_major": 2,
       "version_minor": 0
      },
      "text/plain": [
       "HBox(children=(FloatProgress(value=0.0, max=657.0), HTML(value='')))"
      ]
     },
     "metadata": {},
     "output_type": "display_data"
    },
    {
     "name": "stdout",
     "output_type": "stream",
     "text": [
      "\n",
      "tensor(-1.2853e-05, device='cuda:5')\n",
      "tensor(1.0880e-06, device='cuda:5')\n",
      "tensor(0.0002, device='cuda:5')\n",
      "tensor(0.0002, device='cuda:5')\n",
      "tensor(-4.0398e-05, device='cuda:5')\n",
      "tensor(3.3616e-06, device='cuda:5')\n",
      "tensor(0.0013, device='cuda:5')\n",
      "tensor(0.0013, device='cuda:5')\n",
      "tensor(5.4406e-08, device='cuda:5')\n",
      "tensor(5.7345e-07, device='cuda:5')\n",
      "tensor(7.2769e-05, device='cuda:5')\n",
      "tensor(7.2769e-05, device='cuda:5')\n",
      "tensor(1.2091e-09, device='cuda:5')\n",
      "tensor(0., device='cuda:5')\n",
      "tensor(5.2592e-06, device='cuda:5')\n",
      "tensor(5.2592e-06, device='cuda:5')\n",
      "tensor(3.3261e-08, device='cuda:5')\n",
      "tensor(0.0002, device='cuda:5')\n",
      "tensor(1.9172e-09, device='cuda:5')\n",
      "tensor(1.7739e-09, device='cuda:5')\n"
     ]
    },
    {
     "data": {
      "application/vnd.jupyter.widget-view+json": {
       "model_id": "e0c85c97efdb411ca80102f8cc2e5860",
       "version_major": 2,
       "version_minor": 0
      },
      "text/plain": [
       "HBox(children=(FloatProgress(value=0.0, max=42.0), HTML(value='')))"
      ]
     },
     "metadata": {},
     "output_type": "display_data"
    },
    {
     "name": "stdout",
     "output_type": "stream",
     "text": [
      "\n",
      "epoch time: 147.4979910850525\n",
      "mean loss train: 0.07461429223702068, mean loss val: 0.08620764523460751\n",
      "accuracy train: 0.9516904761904762, accuracy val: 0.9478095238095238\n",
      "---------------------------------------------------------------------------------------------------\n",
      "Epoch: 28, Learning Rate: 0.0005\n",
      "\n"
     ]
    },
    {
     "data": {
      "application/vnd.jupyter.widget-view+json": {
       "model_id": "35848f8a8317436a928f7a947289254c",
       "version_major": 2,
       "version_minor": 0
      },
      "text/plain": [
       "HBox(children=(FloatProgress(value=0.0, max=657.0), HTML(value='')))"
      ]
     },
     "metadata": {},
     "output_type": "display_data"
    },
    {
     "name": "stdout",
     "output_type": "stream",
     "text": [
      "\n",
      "tensor(3.2502e-05, device='cuda:5')\n",
      "tensor(1.0369e-06, device='cuda:5')\n",
      "tensor(3.5749e-05, device='cuda:5')\n",
      "tensor(3.5749e-05, device='cuda:5')\n",
      "tensor(0.0002, device='cuda:5')\n",
      "tensor(-2.2395e-05, device='cuda:5')\n",
      "tensor(-0.0101, device='cuda:5')\n",
      "tensor(-0.0101, device='cuda:5')\n",
      "tensor(-1.1854e-07, device='cuda:5')\n",
      "tensor(2.2931e-07, device='cuda:5')\n",
      "tensor(-0.0003, device='cuda:5')\n",
      "tensor(-0.0003, device='cuda:5')\n",
      "tensor(-7.0311e-09, device='cuda:5')\n",
      "tensor(0., device='cuda:5')\n",
      "tensor(-2.2802e-05, device='cuda:5')\n",
      "tensor(-2.2802e-05, device='cuda:5')\n",
      "tensor(-4.5338e-07, device='cuda:5')\n",
      "tensor(-0.0001, device='cuda:5')\n",
      "tensor(4.1981e-09, device='cuda:5')\n",
      "tensor(3.3705e-09, device='cuda:5')\n"
     ]
    },
    {
     "data": {
      "application/vnd.jupyter.widget-view+json": {
       "model_id": "542289b6f5a346d6931a6070542a5604",
       "version_major": 2,
       "version_minor": 0
      },
      "text/plain": [
       "HBox(children=(FloatProgress(value=0.0, max=42.0), HTML(value='')))"
      ]
     },
     "metadata": {},
     "output_type": "display_data"
    },
    {
     "name": "stdout",
     "output_type": "stream",
     "text": [
      "\n",
      "epoch time: 147.60717725753784\n",
      "mean loss train: 0.07307810027400652, mean loss val: 0.08602725084055038\n",
      "accuracy train: 0.9521904761904761, accuracy val: 0.9460952380952381\n",
      "---------------------------------------------------------------------------------------------------\n",
      "Epoch: 29, Learning Rate: 0.0005\n",
      "\n"
     ]
    },
    {
     "data": {
      "application/vnd.jupyter.widget-view+json": {
       "model_id": "e7ea4152027f43349b82d8ac5e4adc26",
       "version_major": 2,
       "version_minor": 0
      },
      "text/plain": [
       "HBox(children=(FloatProgress(value=0.0, max=657.0), HTML(value='')))"
      ]
     },
     "metadata": {},
     "output_type": "display_data"
    },
    {
     "name": "stdout",
     "output_type": "stream",
     "text": [
      "\n",
      "tensor(-1.4249e-07, device='cuda:5')\n",
      "tensor(1.0280e-08, device='cuda:5')\n",
      "tensor(1.7334e-05, device='cuda:5')\n",
      "tensor(1.7334e-05, device='cuda:5')\n",
      "tensor(-4.9339e-07, device='cuda:5')\n",
      "tensor(3.4447e-08, device='cuda:5')\n",
      "tensor(4.7208e-05, device='cuda:5')\n",
      "tensor(4.7208e-05, device='cuda:5')\n",
      "tensor(-3.2367e-09, device='cuda:5')\n",
      "tensor(2.7042e-08, device='cuda:5')\n",
      "tensor(-4.5418e-06, device='cuda:5')\n",
      "tensor(-4.5418e-06, device='cuda:5')\n",
      "tensor(-1.0159e-08, device='cuda:5')\n",
      "tensor(0., device='cuda:5')\n",
      "tensor(-4.6167e-06, device='cuda:5')\n",
      "tensor(-4.6167e-06, device='cuda:5')\n",
      "tensor(-5.8550e-07, device='cuda:5')\n",
      "tensor(0.0001, device='cuda:5')\n",
      "tensor(2.4341e-09, device='cuda:5')\n",
      "tensor(1.9513e-09, device='cuda:5')\n"
     ]
    },
    {
     "data": {
      "application/vnd.jupyter.widget-view+json": {
       "model_id": "5cc095dd26954c739a098bc9bbccf275",
       "version_major": 2,
       "version_minor": 0
      },
      "text/plain": [
       "HBox(children=(FloatProgress(value=0.0, max=42.0), HTML(value='')))"
      ]
     },
     "metadata": {},
     "output_type": "display_data"
    },
    {
     "name": "stdout",
     "output_type": "stream",
     "text": [
      "\n",
      "epoch time: 144.35458135604858\n",
      "mean loss train: 0.07477152934812364, mean loss val: 0.09349353644961403\n",
      "accuracy train: 0.9524523809523809, accuracy val: 0.9451428571428572\n",
      "---------------------------------------------------------------------------------------------------\n",
      "Epoch: 30, Learning Rate: 0.0005\n",
      "\n"
     ]
    },
    {
     "data": {
      "application/vnd.jupyter.widget-view+json": {
       "model_id": "b0b8251ca6e14db2a4e89989cce2f531",
       "version_major": 2,
       "version_minor": 0
      },
      "text/plain": [
       "HBox(children=(FloatProgress(value=0.0, max=657.0), HTML(value='')))"
      ]
     },
     "metadata": {},
     "output_type": "display_data"
    },
    {
     "name": "stdout",
     "output_type": "stream",
     "text": [
      "\n",
      "tensor(1.5741e-07, device='cuda:5')\n",
      "tensor(-1.3355e-08, device='cuda:5')\n",
      "tensor(2.5645e-05, device='cuda:5')\n",
      "tensor(2.5645e-05, device='cuda:5')\n",
      "tensor(-2.5864e-10, device='cuda:5')\n",
      "tensor(-1.9584e-10, device='cuda:5')\n",
      "tensor(2.0647e-06, device='cuda:5')\n",
      "tensor(2.0647e-06, device='cuda:5')\n",
      "tensor(3.5566e-09, device='cuda:5')\n",
      "tensor(-6.3495e-09, device='cuda:5')\n",
      "tensor(1.5688e-06, device='cuda:5')\n",
      "tensor(1.5688e-06, device='cuda:5')\n",
      "tensor(-5.2027e-09, device='cuda:5')\n",
      "tensor(0., device='cuda:5')\n",
      "tensor(-3.1235e-06, device='cuda:5')\n",
      "tensor(-3.1235e-06, device='cuda:5')\n",
      "tensor(-6.5419e-09, device='cuda:5')\n",
      "tensor(4.9509e-06, device='cuda:5')\n",
      "tensor(3.6284e-10, device='cuda:5')\n",
      "tensor(1.7739e-10, device='cuda:5')\n"
     ]
    },
    {
     "data": {
      "application/vnd.jupyter.widget-view+json": {
       "model_id": "99b1ecd5b73e42ab822fd0ccafe1622e",
       "version_major": 2,
       "version_minor": 0
      },
      "text/plain": [
       "HBox(children=(FloatProgress(value=0.0, max=42.0), HTML(value='')))"
      ]
     },
     "metadata": {},
     "output_type": "display_data"
    },
    {
     "name": "stdout",
     "output_type": "stream",
     "text": [
      "\n",
      "epoch time: 146.4605746269226\n",
      "mean loss train: 0.07372036494243712, mean loss val: 0.08636380897249495\n",
      "accuracy train: 0.9512142857142857, accuracy val: 0.9478095238095238\n",
      "---------------------------------------------------------------------------------------------------\n",
      "Epoch: 31, Learning Rate: 0.0005\n",
      "\n"
     ]
    },
    {
     "data": {
      "application/vnd.jupyter.widget-view+json": {
       "model_id": "7444d7769aa14e45b46e9fff08aaef6f",
       "version_major": 2,
       "version_minor": 0
      },
      "text/plain": [
       "HBox(children=(FloatProgress(value=0.0, max=657.0), HTML(value='')))"
      ]
     },
     "metadata": {},
     "output_type": "display_data"
    },
    {
     "name": "stdout",
     "output_type": "stream",
     "text": [
      "\n",
      "tensor(4.5738e-07, device='cuda:5')\n",
      "tensor(1.7206e-08, device='cuda:5')\n",
      "tensor(-2.4444e-05, device='cuda:5')\n",
      "tensor(-2.4444e-05, device='cuda:5')\n",
      "tensor(-7.2342e-07, device='cuda:5')\n",
      "tensor(3.7648e-08, device='cuda:5')\n",
      "tensor(3.2902e-05, device='cuda:5')\n",
      "tensor(3.2902e-05, device='cuda:5')\n",
      "tensor(8.0551e-09, device='cuda:5')\n",
      "tensor(3.3689e-08, device='cuda:5')\n",
      "tensor(3.5907e-06, device='cuda:5')\n",
      "tensor(3.5907e-06, device='cuda:5')\n",
      "tensor(-1.4222e-08, device='cuda:5')\n",
      "tensor(0., device='cuda:5')\n",
      "tensor(-1.2497e-06, device='cuda:5')\n",
      "tensor(-1.2497e-06, device='cuda:5')\n",
      "tensor(3.5335e-08, device='cuda:5')\n",
      "tensor(-1.2366e-05, device='cuda:5')\n",
      "tensor(1.0812e-09, device='cuda:5')\n",
      "tensor(7.9828e-10, device='cuda:5')\n"
     ]
    },
    {
     "data": {
      "application/vnd.jupyter.widget-view+json": {
       "model_id": "3cb36f45580c4a4d9d904e866e6ba1aa",
       "version_major": 2,
       "version_minor": 0
      },
      "text/plain": [
       "HBox(children=(FloatProgress(value=0.0, max=42.0), HTML(value='')))"
      ]
     },
     "metadata": {},
     "output_type": "display_data"
    },
    {
     "name": "stdout",
     "output_type": "stream",
     "text": [
      "\n",
      "epoch time: 147.21740674972534\n",
      "mean loss train: 0.0745433608747664, mean loss val: 0.08089614154043652\n",
      "accuracy train: 0.952, accuracy val: 0.9467619047619048\n",
      "---------------------------------------------------------------------------------------------------\n",
      "Epoch: 32, Learning Rate: 0.0005\n",
      "\n"
     ]
    },
    {
     "data": {
      "application/vnd.jupyter.widget-view+json": {
       "model_id": "8a9056c3a75e4711b85a66cfb70ee714",
       "version_major": 2,
       "version_minor": 0
      },
      "text/plain": [
       "HBox(children=(FloatProgress(value=0.0, max=657.0), HTML(value='')))"
      ]
     },
     "metadata": {},
     "output_type": "display_data"
    },
    {
     "name": "stdout",
     "output_type": "stream",
     "text": [
      "\n",
      "tensor(-2.8999e-08, device='cuda:5')\n",
      "tensor(2.5945e-09, device='cuda:5')\n",
      "tensor(1.8712e-06, device='cuda:5')\n",
      "tensor(1.8712e-06, device='cuda:5')\n",
      "tensor(-1.3377e-08, device='cuda:5')\n",
      "tensor(5.6846e-09, device='cuda:5')\n",
      "tensor(5.6568e-06, device='cuda:5')\n",
      "tensor(5.6568e-06, device='cuda:5')\n",
      "tensor(-2.1436e-10, device='cuda:5')\n",
      "tensor(-5.6312e-10, device='cuda:5')\n",
      "tensor(2.3771e-08, device='cuda:5')\n",
      "tensor(2.3771e-08, device='cuda:5')\n",
      "tensor(6.4617e-11, device='cuda:5')\n",
      "tensor(0., device='cuda:5')\n",
      "tensor(1.0712e-08, device='cuda:5')\n",
      "tensor(1.0712e-08, device='cuda:5')\n",
      "tensor(-1.3394e-09, device='cuda:5')\n",
      "tensor(-2.1081e-06, device='cuda:5')\n",
      "tensor(2.9329e-09, device='cuda:5')\n",
      "tensor(3.5761e-09, device='cuda:5')\n"
     ]
    },
    {
     "data": {
      "application/vnd.jupyter.widget-view+json": {
       "model_id": "65c47919002148fea675a85e4f43c982",
       "version_major": 2,
       "version_minor": 0
      },
      "text/plain": [
       "HBox(children=(FloatProgress(value=0.0, max=42.0), HTML(value='')))"
      ]
     },
     "metadata": {},
     "output_type": "display_data"
    },
    {
     "name": "stdout",
     "output_type": "stream",
     "text": [
      "\n",
      "epoch time: 147.86705040931702\n",
      "mean loss train: 0.07028996174108415, mean loss val: 0.09013829615002587\n",
      "accuracy train: 0.9532619047619048, accuracy val: 0.9475238095238095\n",
      "---------------------------------------------------------------------------------------------------\n",
      "Epoch: 33, Learning Rate: 0.0005\n",
      "\n"
     ]
    },
    {
     "data": {
      "application/vnd.jupyter.widget-view+json": {
       "model_id": "508f45a1e97e4a27934905ecaed5ddf3",
       "version_major": 2,
       "version_minor": 0
      },
      "text/plain": [
       "HBox(children=(FloatProgress(value=0.0, max=657.0), HTML(value='')))"
      ]
     },
     "metadata": {},
     "output_type": "display_data"
    },
    {
     "name": "stdout",
     "output_type": "stream",
     "text": [
      "\n",
      "tensor(-1.9261e-06, device='cuda:5')\n",
      "tensor(1.0125e-07, device='cuda:5')\n",
      "tensor(6.6581e-05, device='cuda:5')\n",
      "tensor(6.6581e-05, device='cuda:5')\n",
      "tensor(-3.0887e-07, device='cuda:5')\n",
      "tensor(3.6722e-08, device='cuda:5')\n",
      "tensor(3.7124e-05, device='cuda:5')\n",
      "tensor(3.7124e-05, device='cuda:5')\n",
      "tensor(2.9551e-09, device='cuda:5')\n",
      "tensor(1.4977e-08, device='cuda:5')\n",
      "tensor(7.0165e-06, device='cuda:5')\n",
      "tensor(7.0165e-06, device='cuda:5')\n",
      "tensor(-1.6026e-08, device='cuda:5')\n",
      "tensor(0., device='cuda:5')\n",
      "tensor(-4.7004e-06, device='cuda:5')\n",
      "tensor(-4.7004e-06, device='cuda:5')\n",
      "tensor(1.3847e-07, device='cuda:5')\n",
      "tensor(0.0001, device='cuda:5')\n",
      "tensor(2.1681e-09, device='cuda:5')\n",
      "tensor(1.3305e-09, device='cuda:5')\n"
     ]
    },
    {
     "data": {
      "application/vnd.jupyter.widget-view+json": {
       "model_id": "b0915edbd72744bb8dfe3c70808e516f",
       "version_major": 2,
       "version_minor": 0
      },
      "text/plain": [
       "HBox(children=(FloatProgress(value=0.0, max=42.0), HTML(value='')))"
      ]
     },
     "metadata": {},
     "output_type": "display_data"
    },
    {
     "name": "stdout",
     "output_type": "stream",
     "text": [
      "\n",
      "epoch time: 144.90258502960205\n",
      "mean loss train: 0.07386938603435243, mean loss val: 0.09169171714782715\n",
      "accuracy train: 0.954, accuracy val: 0.9495238095238095\n",
      "---------------------------------------------------------------------------------------------------\n",
      "Epoch: 34, Learning Rate: 0.0005\n",
      "\n"
     ]
    },
    {
     "data": {
      "application/vnd.jupyter.widget-view+json": {
       "model_id": "e1ef834418184e0d98b683b4ed3f892a",
       "version_major": 2,
       "version_minor": 0
      },
      "text/plain": [
       "HBox(children=(FloatProgress(value=0.0, max=657.0), HTML(value='')))"
      ]
     },
     "metadata": {},
     "output_type": "display_data"
    },
    {
     "name": "stdout",
     "output_type": "stream",
     "text": [
      "\n",
      "tensor(-6.9408e-09, device='cuda:5')\n",
      "tensor(-7.7126e-10, device='cuda:5')\n",
      "tensor(-5.8262e-08, device='cuda:5')\n",
      "tensor(-5.8262e-08, device='cuda:5')\n",
      "tensor(3.0011e-09, device='cuda:5')\n",
      "tensor(-7.9451e-13, device='cuda:5')\n",
      "tensor(5.2260e-08, device='cuda:5')\n",
      "tensor(5.2260e-08, device='cuda:5')\n",
      "tensor(-4.9340e-11, device='cuda:5')\n",
      "tensor(9.3750e-10, device='cuda:5')\n",
      "tensor(-4.6781e-08, device='cuda:5')\n",
      "tensor(-4.6781e-08, device='cuda:5')\n",
      "tensor(2.6561e-11, device='cuda:5')\n",
      "tensor(0., device='cuda:5')\n",
      "tensor(2.3029e-08, device='cuda:5')\n",
      "tensor(2.3029e-08, device='cuda:5')\n",
      "tensor(2.1104e-09, device='cuda:5')\n",
      "tensor(-5.0561e-07, device='cuda:5')\n",
      "tensor(3.0159e-09, device='cuda:5')\n",
      "tensor(3.1605e-09, device='cuda:5')\n"
     ]
    },
    {
     "data": {
      "application/vnd.jupyter.widget-view+json": {
       "model_id": "2eb6f33ef9634cf19264f654ccd3374f",
       "version_major": 2,
       "version_minor": 0
      },
      "text/plain": [
       "HBox(children=(FloatProgress(value=0.0, max=42.0), HTML(value='')))"
      ]
     },
     "metadata": {},
     "output_type": "display_data"
    },
    {
     "name": "stdout",
     "output_type": "stream",
     "text": [
      "\n",
      "epoch time: 143.94898462295532\n",
      "mean loss train: 0.07141058980283282, mean loss val: 0.07823191818736848\n",
      "accuracy train: 0.9575476190476191, accuracy val: 0.9571428571428572\n",
      "---------------------------------------------------------------------------------------------------\n",
      "Epoch: 35, Learning Rate: 0.0005\n",
      "\n"
     ]
    },
    {
     "data": {
      "application/vnd.jupyter.widget-view+json": {
       "model_id": "759fca12771e4b63ab7bddd187a33b32",
       "version_major": 2,
       "version_minor": 0
      },
      "text/plain": [
       "HBox(children=(FloatProgress(value=0.0, max=657.0), HTML(value='')))"
      ]
     },
     "metadata": {},
     "output_type": "display_data"
    },
    {
     "name": "stderr",
     "output_type": "stream",
     "text": [
      "IOPub message rate exceeded.\n",
      "The notebook server will temporarily stop sending output\n",
      "to the client in order to avoid crashing it.\n",
      "To change this limit, set the config variable\n",
      "`--NotebookApp.iopub_msg_rate_limit`.\n",
      "\n",
      "Current values:\n",
      "NotebookApp.iopub_msg_rate_limit=1000.0 (msgs/sec)\n",
      "NotebookApp.rate_limit_window=3.0 (secs)\n",
      "\n"
     ]
    },
    {
     "name": "stdout",
     "output_type": "stream",
     "text": [
      "\n",
      "tensor(-9.3121e-08, device='cuda:5')\n",
      "tensor(3.3048e-08, device='cuda:5')\n",
      "tensor(3.3138e-06, device='cuda:5')\n",
      "tensor(3.3138e-06, device='cuda:5')\n",
      "tensor(1.1594e-06, device='cuda:5')\n",
      "tensor(-5.4218e-08, device='cuda:5')\n",
      "tensor(-4.4732e-05, device='cuda:5')\n",
      "tensor(-4.4732e-05, device='cuda:5')\n",
      "tensor(-2.1241e-09, device='cuda:5')\n",
      "tensor(3.8876e-08, device='cuda:5')\n",
      "tensor(-2.8061e-06, device='cuda:5')\n",
      "tensor(-2.8061e-06, device='cuda:5')\n",
      "tensor(-7.6256e-09, device='cuda:5')\n",
      "tensor(0., device='cuda:5')\n",
      "tensor(-3.4447e-06, device='cuda:5')\n",
      "tensor(-3.4447e-06, device='cuda:5')\n",
      "tensor(7.4418e-07, device='cuda:5')\n",
      "tensor(-0.0001, device='cuda:5')\n",
      "tensor(1.3342e-09, device='cuda:5')\n",
      "tensor(1.1531e-09, device='cuda:5')\n"
     ]
    },
    {
     "data": {
      "application/vnd.jupyter.widget-view+json": {
       "model_id": "ec5463dabaac406da5e3ac552596c1cf",
       "version_major": 2,
       "version_minor": 0
      },
      "text/plain": [
       "HBox(children=(FloatProgress(value=0.0, max=42.0), HTML(value='')))"
      ]
     },
     "metadata": {},
     "output_type": "display_data"
    },
    {
     "name": "stdout",
     "output_type": "stream",
     "text": [
      "\n",
      "epoch time: 147.11505579948425\n",
      "mean loss train: 0.0697880396757807, mean loss val: 0.08362275582551956\n",
      "accuracy train: 0.9642857142857143, accuracy val: 0.954\n",
      "---------------------------------------------------------------------------------------------------\n",
      "Epoch: 39, Learning Rate: 0.0005\n",
      "\n"
     ]
    },
    {
     "data": {
      "application/vnd.jupyter.widget-view+json": {
       "model_id": "29c84cf0dd5e43349be133939d1e24c2",
       "version_major": 2,
       "version_minor": 0
      },
      "text/plain": [
       "HBox(children=(FloatProgress(value=0.0, max=657.0), HTML(value='')))"
      ]
     },
     "metadata": {},
     "output_type": "display_data"
    },
    {
     "name": "stdout",
     "output_type": "stream",
     "text": [
      "\n",
      "tensor(4.1670e-06, device='cuda:5')\n",
      "tensor(4.4168e-08, device='cuda:5')\n",
      "tensor(9.9086e-05, device='cuda:5')\n",
      "tensor(9.9086e-05, device='cuda:5')\n",
      "tensor(-9.6050e-07, device='cuda:5')\n",
      "tensor(4.0034e-08, device='cuda:5')\n",
      "tensor(-6.6167e-05, device='cuda:5')\n",
      "tensor(-6.6167e-05, device='cuda:5')\n",
      "tensor(-6.8852e-08, device='cuda:5')\n",
      "tensor(1.2709e-08, device='cuda:5')\n",
      "tensor(-4.6650e-06, device='cuda:5')\n",
      "tensor(-4.6650e-06, device='cuda:5')\n",
      "tensor(6.3891e-09, device='cuda:5')\n",
      "tensor(0., device='cuda:5')\n",
      "tensor(8.8088e-06, device='cuda:5')\n",
      "tensor(8.8088e-06, device='cuda:5')\n",
      "tensor(-1.5309e-06, device='cuda:5')\n",
      "tensor(0.0003, device='cuda:5')\n",
      "tensor(1.6807e-09, device='cuda:5')\n",
      "tensor(1.1531e-09, device='cuda:5')\n"
     ]
    },
    {
     "data": {
      "application/vnd.jupyter.widget-view+json": {
       "model_id": "527e262f403445b897e20aba562018eb",
       "version_major": 2,
       "version_minor": 0
      },
      "text/plain": [
       "HBox(children=(FloatProgress(value=0.0, max=42.0), HTML(value='')))"
      ]
     },
     "metadata": {},
     "output_type": "display_data"
    },
    {
     "name": "stdout",
     "output_type": "stream",
     "text": [
      "\n",
      "epoch time: 144.96690487861633\n",
      "mean loss train: 0.06373605561753114, mean loss val: 0.08480183858530863\n",
      "accuracy train: 0.967, accuracy val: 0.9587619047619048\n",
      "---------------------------------------------------------------------------------------------------\n",
      "Epoch: 40, Learning Rate: 0.0005\n",
      "\n"
     ]
    },
    {
     "data": {
      "application/vnd.jupyter.widget-view+json": {
       "model_id": "f4d72349105547a299e64e670be2d076",
       "version_major": 2,
       "version_minor": 0
      },
      "text/plain": [
       "HBox(children=(FloatProgress(value=0.0, max=657.0), HTML(value='')))"
      ]
     },
     "metadata": {},
     "output_type": "display_data"
    },
    {
     "name": "stdout",
     "output_type": "stream",
     "text": [
      "\n",
      "tensor(9.6515e-07, device='cuda:5')\n",
      "tensor(-2.8932e-08, device='cuda:5')\n",
      "tensor(-3.8559e-05, device='cuda:5')\n",
      "tensor(-3.8559e-05, device='cuda:5')\n",
      "tensor(2.9492e-07, device='cuda:5')\n",
      "tensor(-7.6570e-08, device='cuda:5')\n",
      "tensor(-8.0279e-06, device='cuda:5')\n",
      "tensor(-8.0279e-06, device='cuda:5')\n",
      "tensor(-1.0054e-08, device='cuda:5')\n",
      "tensor(-4.3741e-08, device='cuda:5')\n",
      "tensor(-5.2582e-06, device='cuda:5')\n",
      "tensor(-5.2582e-06, device='cuda:5')\n",
      "tensor(8.0152e-09, device='cuda:5')\n",
      "tensor(0., device='cuda:5')\n",
      "tensor(3.0591e-06, device='cuda:5')\n",
      "tensor(3.0591e-06, device='cuda:5')\n",
      "tensor(-4.6183e-07, device='cuda:5')\n",
      "tensor(-0.0001, device='cuda:5')\n",
      "tensor(3.3822e-09, device='cuda:5')\n",
      "tensor(3.3262e-09, device='cuda:5')\n"
     ]
    },
    {
     "data": {
      "application/vnd.jupyter.widget-view+json": {
       "model_id": "8db519126b6e4a8f94b9990cef9f5064",
       "version_major": 2,
       "version_minor": 0
      },
      "text/plain": [
       "HBox(children=(FloatProgress(value=0.0, max=42.0), HTML(value='')))"
      ]
     },
     "metadata": {},
     "output_type": "display_data"
    },
    {
     "name": "stdout",
     "output_type": "stream",
     "text": [
      "\n",
      "epoch time: 145.55561447143555\n",
      "mean loss train: 0.06120900914250385, mean loss val: 0.08996781866607212\n",
      "accuracy train: 0.9691666666666666, accuracy val: 0.9577142857142857\n",
      "---------------------------------------------------------------------------------------------------\n",
      "Epoch: 41, Learning Rate: 0.0005\n",
      "\n"
     ]
    },
    {
     "data": {
      "application/vnd.jupyter.widget-view+json": {
       "model_id": "598f5b2782cb4e0eacc2c81d980d9d8b",
       "version_major": 2,
       "version_minor": 0
      },
      "text/plain": [
       "HBox(children=(FloatProgress(value=0.0, max=657.0), HTML(value='')))"
      ]
     },
     "metadata": {},
     "output_type": "display_data"
    },
    {
     "name": "stdout",
     "output_type": "stream",
     "text": [
      "\n",
      "tensor(1.4460e-06, device='cuda:5')\n",
      "tensor(-1.7807e-07, device='cuda:5')\n",
      "tensor(-5.9286e-05, device='cuda:5')\n",
      "tensor(-5.9286e-05, device='cuda:5')\n",
      "tensor(-3.4176e-06, device='cuda:5')\n",
      "tensor(1.3416e-07, device='cuda:5')\n",
      "tensor(0.0001, device='cuda:5')\n",
      "tensor(0.0001, device='cuda:5')\n",
      "tensor(-4.1550e-07, device='cuda:5')\n",
      "tensor(-1.4828e-06, device='cuda:5')\n",
      "tensor(-0.0003, device='cuda:5')\n",
      "tensor(-0.0003, device='cuda:5')\n",
      "tensor(-1.1036e-08, device='cuda:5')\n",
      "tensor(0., device='cuda:5')\n",
      "tensor(4.9165e-06, device='cuda:5')\n",
      "tensor(4.9165e-06, device='cuda:5')\n",
      "tensor(5.3726e-07, device='cuda:5')\n",
      "tensor(-0.0002, device='cuda:5')\n",
      "tensor(2.2243e-09, device='cuda:5')\n",
      "tensor(1.5966e-09, device='cuda:5')\n"
     ]
    },
    {
     "data": {
      "application/vnd.jupyter.widget-view+json": {
       "model_id": "0e58e796ca02494497f5831495db9045",
       "version_major": 2,
       "version_minor": 0
      },
      "text/plain": [
       "HBox(children=(FloatProgress(value=0.0, max=42.0), HTML(value='')))"
      ]
     },
     "metadata": {},
     "output_type": "display_data"
    },
    {
     "name": "stdout",
     "output_type": "stream",
     "text": [
      "\n",
      "epoch time: 145.16333675384521\n",
      "mean loss train: 0.05925065208474795, mean loss val: 0.08692303247820764\n",
      "accuracy train: 0.9712857142857143, accuracy val: 0.9607619047619048\n",
      "---------------------------------------------------------------------------------------------------\n",
      "Epoch: 42, Learning Rate: 0.0005\n",
      "\n"
     ]
    },
    {
     "data": {
      "application/vnd.jupyter.widget-view+json": {
       "model_id": "a39aa7a8d2644806b797ef8bcb188daf",
       "version_major": 2,
       "version_minor": 0
      },
      "text/plain": [
       "HBox(children=(FloatProgress(value=0.0, max=657.0), HTML(value='')))"
      ]
     },
     "metadata": {},
     "output_type": "display_data"
    },
    {
     "name": "stdout",
     "output_type": "stream",
     "text": [
      "\n",
      "tensor(1.1788e-05, device='cuda:5')\n",
      "tensor(2.8506e-07, device='cuda:5')\n",
      "tensor(-0.0003, device='cuda:5')\n",
      "tensor(-0.0003, device='cuda:5')\n",
      "tensor(1.5223e-05, device='cuda:5')\n",
      "tensor(-2.0141e-07, device='cuda:5')\n",
      "tensor(3.6979e-05, device='cuda:5')\n",
      "tensor(3.6979e-05, device='cuda:5')\n",
      "tensor(-9.9130e-08, device='cuda:5')\n",
      "tensor(-1.5409e-07, device='cuda:5')\n",
      "tensor(-2.7614e-05, device='cuda:5')\n",
      "tensor(-2.7614e-05, device='cuda:5')\n",
      "tensor(3.5897e-08, device='cuda:5')\n",
      "tensor(0., device='cuda:5')\n",
      "tensor(4.1540e-06, device='cuda:5')\n",
      "tensor(4.1540e-06, device='cuda:5')\n",
      "tensor(2.6516e-07, device='cuda:5')\n",
      "tensor(-0.0004, device='cuda:5')\n",
      "tensor(9.6820e-10, device='cuda:5')\n",
      "tensor(4.4349e-10, device='cuda:5')\n"
     ]
    },
    {
     "data": {
      "application/vnd.jupyter.widget-view+json": {
       "model_id": "a78f2ad1336444a39490daaea55a1690",
       "version_major": 2,
       "version_minor": 0
      },
      "text/plain": [
       "HBox(children=(FloatProgress(value=0.0, max=42.0), HTML(value='')))"
      ]
     },
     "metadata": {},
     "output_type": "display_data"
    },
    {
     "name": "stdout",
     "output_type": "stream",
     "text": [
      "\n",
      "epoch time: 146.19249820709229\n",
      "mean loss train: 0.05704771627698626, mean loss val: 0.07766801745550973\n",
      "accuracy train: 0.9725952380952381, accuracy val: 0.9653333333333334\n",
      "---------------------------------------------------------------------------------------------------\n",
      "Epoch: 43, Learning Rate: 0.0005\n",
      "\n"
     ]
    },
    {
     "data": {
      "application/vnd.jupyter.widget-view+json": {
       "model_id": "a5323a11ad4848d4b8a4cd47fcc1efdf",
       "version_major": 2,
       "version_minor": 0
      },
      "text/plain": [
       "HBox(children=(FloatProgress(value=0.0, max=657.0), HTML(value='')))"
      ]
     },
     "metadata": {},
     "output_type": "display_data"
    },
    {
     "name": "stdout",
     "output_type": "stream",
     "text": [
      "\n",
      "tensor(3.5253e-07, device='cuda:5')\n",
      "tensor(1.0622e-08, device='cuda:5')\n",
      "tensor(5.3920e-06, device='cuda:5')\n",
      "tensor(5.3920e-06, device='cuda:5')\n",
      "tensor(2.9467e-07, device='cuda:5')\n",
      "tensor(-5.7299e-09, device='cuda:5')\n",
      "tensor(9.8913e-06, device='cuda:5')\n",
      "tensor(9.8913e-06, device='cuda:5')\n",
      "tensor(1.0346e-08, device='cuda:5')\n",
      "tensor(2.6829e-08, device='cuda:5')\n",
      "tensor(2.6139e-06, device='cuda:5')\n",
      "tensor(2.6139e-06, device='cuda:5')\n",
      "tensor(-3.7450e-10, device='cuda:5')\n",
      "tensor(0., device='cuda:5')\n",
      "tensor(1.6795e-07, device='cuda:5')\n",
      "tensor(1.6795e-07, device='cuda:5')\n",
      "tensor(3.1001e-07, device='cuda:5')\n",
      "tensor(-0.0001, device='cuda:5')\n",
      "tensor(9.3173e-10, device='cuda:5')\n",
      "tensor(6.6523e-10, device='cuda:5')\n"
     ]
    },
    {
     "data": {
      "application/vnd.jupyter.widget-view+json": {
       "model_id": "8f7f2ee008cb42779ce837d0989251b1",
       "version_major": 2,
       "version_minor": 0
      },
      "text/plain": [
       "HBox(children=(FloatProgress(value=0.0, max=42.0), HTML(value='')))"
      ]
     },
     "metadata": {},
     "output_type": "display_data"
    },
    {
     "name": "stdout",
     "output_type": "stream",
     "text": [
      "\n",
      "epoch time: 147.1387951374054\n",
      "mean loss train: 0.05800193814010847, mean loss val: 0.08506809294201612\n",
      "accuracy train: 0.9731666666666666, accuracy val: 0.9596190476190476\n",
      "---------------------------------------------------------------------------------------------------\n",
      "Epoch: 44, Learning Rate: 0.0005\n",
      "\n"
     ]
    },
    {
     "data": {
      "application/vnd.jupyter.widget-view+json": {
       "model_id": "61e561a6538249bab6c89835f3a4b12c",
       "version_major": 2,
       "version_minor": 0
      },
      "text/plain": [
       "HBox(children=(FloatProgress(value=0.0, max=657.0), HTML(value='')))"
      ]
     },
     "metadata": {},
     "output_type": "display_data"
    },
    {
     "name": "stdout",
     "output_type": "stream",
     "text": [
      "\n",
      "tensor(2.8387e-08, device='cuda:5')\n",
      "tensor(5.1059e-09, device='cuda:5')\n",
      "tensor(-5.6328e-07, device='cuda:5')\n",
      "tensor(-5.6328e-07, device='cuda:5')\n",
      "tensor(2.7205e-09, device='cuda:5')\n",
      "tensor(-8.2446e-10, device='cuda:5')\n",
      "tensor(-1.0245e-07, device='cuda:5')\n",
      "tensor(-1.0245e-07, device='cuda:5')\n",
      "tensor(1.9395e-10, device='cuda:5')\n",
      "tensor(1.4783e-10, device='cuda:5')\n",
      "tensor(7.9341e-09, device='cuda:5')\n",
      "tensor(7.9341e-09, device='cuda:5')\n",
      "tensor(-5.6759e-13, device='cuda:5')\n",
      "tensor(0., device='cuda:5')\n",
      "tensor(-2.6675e-08, device='cuda:5')\n",
      "tensor(-2.6675e-08, device='cuda:5')\n",
      "tensor(-9.1798e-09, device='cuda:5')\n",
      "tensor(-6.8563e-07, device='cuda:5')\n",
      "tensor(-3.7419e-10, device='cuda:5')\n",
      "tensor(-6.8229e-10, device='cuda:5')\n"
     ]
    },
    {
     "data": {
      "application/vnd.jupyter.widget-view+json": {
       "model_id": "c783bf94adfe467988b90f78503e293d",
       "version_major": 2,
       "version_minor": 0
      },
      "text/plain": [
       "HBox(children=(FloatProgress(value=0.0, max=42.0), HTML(value='')))"
      ]
     },
     "metadata": {},
     "output_type": "display_data"
    },
    {
     "name": "stdout",
     "output_type": "stream",
     "text": [
      "\n",
      "epoch time: 144.50227570533752\n",
      "mean loss train: 0.05455375799749579, mean loss val: 0.10784208512873876\n",
      "accuracy train: 0.9750238095238095, accuracy val: 0.9573333333333334\n",
      "---------------------------------------------------------------------------------------------------\n",
      "Epoch: 45, Learning Rate: 0.0005\n",
      "\n"
     ]
    },
    {
     "data": {
      "application/vnd.jupyter.widget-view+json": {
       "model_id": "7ecfd0c8df4c4287a883cec45530a6d2",
       "version_major": 2,
       "version_minor": 0
      },
      "text/plain": [
       "HBox(children=(FloatProgress(value=0.0, max=657.0), HTML(value='')))"
      ]
     },
     "metadata": {},
     "output_type": "display_data"
    },
    {
     "name": "stdout",
     "output_type": "stream",
     "text": [
      "\n",
      "tensor(-2.3681e-06, device='cuda:5')\n",
      "tensor(4.0410e-08, device='cuda:5')\n",
      "tensor(-9.8247e-05, device='cuda:5')\n",
      "tensor(-9.8247e-05, device='cuda:5')\n",
      "tensor(3.2617e-06, device='cuda:5')\n",
      "tensor(3.0198e-08, device='cuda:5')\n",
      "tensor(2.8452e-05, device='cuda:5')\n",
      "tensor(2.8452e-05, device='cuda:5')\n",
      "tensor(2.5782e-08, device='cuda:5')\n",
      "tensor(-1.4767e-07, device='cuda:5')\n",
      "tensor(-1.5016e-05, device='cuda:5')\n",
      "tensor(-1.5016e-05, device='cuda:5')\n",
      "tensor(4.8596e-09, device='cuda:5')\n",
      "tensor(0., device='cuda:5')\n",
      "tensor(-8.5031e-06, device='cuda:5')\n",
      "tensor(-8.5031e-06, device='cuda:5')\n",
      "tensor(-1.5719e-07, device='cuda:5')\n",
      "tensor(-0.0004, device='cuda:5')\n",
      "tensor(-3.2139e-10, device='cuda:5')\n",
      "tensor(-7.4284e-10, device='cuda:5')\n"
     ]
    },
    {
     "data": {
      "application/vnd.jupyter.widget-view+json": {
       "model_id": "bd1eb9b5e1e34f7eb1ab01d9c4033074",
       "version_major": 2,
       "version_minor": 0
      },
      "text/plain": [
       "HBox(children=(FloatProgress(value=0.0, max=42.0), HTML(value='')))"
      ]
     },
     "metadata": {},
     "output_type": "display_data"
    },
    {
     "name": "stdout",
     "output_type": "stream",
     "text": [
      "\n",
      "epoch time: 146.76156902313232\n",
      "mean loss train: 0.05145764114033608, mean loss val: 0.07925255081483296\n",
      "accuracy train: 0.9775952380952381, accuracy val: 0.9633333333333334\n",
      "---------------------------------------------------------------------------------------------------\n",
      "Epoch: 46, Learning Rate: 0.0005\n",
      "\n"
     ]
    },
    {
     "data": {
      "application/vnd.jupyter.widget-view+json": {
       "model_id": "ba1834546cd04640bdd545241e48b4d8",
       "version_major": 2,
       "version_minor": 0
      },
      "text/plain": [
       "HBox(children=(FloatProgress(value=0.0, max=657.0), HTML(value='')))"
      ]
     },
     "metadata": {},
     "output_type": "display_data"
    },
    {
     "name": "stdout",
     "output_type": "stream",
     "text": [
      "\n",
      "tensor(-4.4834e-06, device='cuda:5')\n",
      "tensor(4.1993e-07, device='cuda:5')\n",
      "tensor(0.0004, device='cuda:5')\n",
      "tensor(0.0004, device='cuda:5')\n",
      "tensor(-4.6573e-06, device='cuda:5')\n",
      "tensor(-1.7481e-07, device='cuda:5')\n",
      "tensor(3.6347e-05, device='cuda:5')\n",
      "tensor(3.6347e-05, device='cuda:5')\n",
      "tensor(3.8520e-08, device='cuda:5')\n",
      "tensor(2.2993e-07, device='cuda:5')\n",
      "tensor(0.0001, device='cuda:5')\n",
      "tensor(0.0001, device='cuda:5')\n",
      "tensor(9.2857e-10, device='cuda:5')\n",
      "tensor(0., device='cuda:5')\n",
      "tensor(-3.6856e-06, device='cuda:5')\n",
      "tensor(-3.6856e-06, device='cuda:5')\n",
      "tensor(5.2517e-08, device='cuda:5')\n",
      "tensor(-8.6738e-05, device='cuda:5')\n",
      "tensor(7.3446e-10, device='cuda:5')\n",
      "tensor(6.2088e-10, device='cuda:5')\n"
     ]
    },
    {
     "data": {
      "application/vnd.jupyter.widget-view+json": {
       "model_id": "230b100ee9834d52b374e53ee5fdcfb6",
       "version_major": 2,
       "version_minor": 0
      },
      "text/plain": [
       "HBox(children=(FloatProgress(value=0.0, max=42.0), HTML(value='')))"
      ]
     },
     "metadata": {},
     "output_type": "display_data"
    },
    {
     "name": "stdout",
     "output_type": "stream",
     "text": [
      "\n",
      "epoch time: 144.79227423667908\n",
      "mean loss train: 0.048236951467536746, mean loss val: 0.07677954272854896\n",
      "accuracy train: 0.9781190476190477, accuracy val: 0.9663809523809523\n",
      "---------------------------------------------------------------------------------------------------\n",
      "Epoch: 47, Learning Rate: 0.0005\n",
      "\n"
     ]
    },
    {
     "data": {
      "application/vnd.jupyter.widget-view+json": {
       "model_id": "bcf5f9996d894d1882fb321a23b77444",
       "version_major": 2,
       "version_minor": 0
      },
      "text/plain": [
       "HBox(children=(FloatProgress(value=0.0, max=657.0), HTML(value='')))"
      ]
     },
     "metadata": {},
     "output_type": "display_data"
    },
    {
     "name": "stdout",
     "output_type": "stream",
     "text": [
      "\n",
      "tensor(-2.0075e-05, device='cuda:5')\n",
      "tensor(-2.5857e-06, device='cuda:5')\n",
      "tensor(-0.0007, device='cuda:5')\n",
      "tensor(-0.0007, device='cuda:5')\n",
      "tensor(1.0475e-05, device='cuda:5')\n",
      "tensor(-1.5052e-07, device='cuda:5')\n",
      "tensor(-8.8181e-05, device='cuda:5')\n",
      "tensor(-8.8181e-05, device='cuda:5')\n",
      "tensor(-2.3721e-07, device='cuda:5')\n",
      "tensor(-7.2511e-07, device='cuda:5')\n",
      "tensor(-0.0003, device='cuda:5')\n",
      "tensor(-0.0003, device='cuda:5')\n",
      "tensor(-9.7013e-10, device='cuda:5')\n",
      "tensor(0., device='cuda:5')\n",
      "tensor(1.9145e-06, device='cuda:5')\n",
      "tensor(1.9145e-06, device='cuda:5')\n",
      "tensor(-1.0198e-06, device='cuda:5')\n",
      "tensor(-0.0004, device='cuda:5')\n",
      "tensor(-1.2410e-09, device='cuda:5')\n",
      "tensor(-1.4192e-09, device='cuda:5')\n"
     ]
    },
    {
     "data": {
      "application/vnd.jupyter.widget-view+json": {
       "model_id": "fdd1958ae4f145eba952fc6bd6e34556",
       "version_major": 2,
       "version_minor": 0
      },
      "text/plain": [
       "HBox(children=(FloatProgress(value=0.0, max=42.0), HTML(value='')))"
      ]
     },
     "metadata": {},
     "output_type": "display_data"
    },
    {
     "name": "stdout",
     "output_type": "stream",
     "text": [
      "\n",
      "epoch time: 144.43090677261353\n",
      "mean loss train: 0.046381798383735476, mean loss val: 0.07654286961789641\n",
      "accuracy train: 0.9797857142857143, accuracy val: 0.9638095238095238\n",
      "---------------------------------------------------------------------------------------------------\n",
      "Epoch: 48, Learning Rate: 0.0005\n",
      "\n"
     ]
    },
    {
     "data": {
      "application/vnd.jupyter.widget-view+json": {
       "model_id": "c088fba62982458ea37b0664166e93ee",
       "version_major": 2,
       "version_minor": 0
      },
      "text/plain": [
       "HBox(children=(FloatProgress(value=0.0, max=657.0), HTML(value='')))"
      ]
     },
     "metadata": {},
     "output_type": "display_data"
    },
    {
     "name": "stdout",
     "output_type": "stream",
     "text": [
      "\n",
      "tensor(-5.5544e-06, device='cuda:5')\n",
      "tensor(-4.8000e-07, device='cuda:5')\n",
      "tensor(-0.0002, device='cuda:5')\n",
      "tensor(-0.0002, device='cuda:5')\n",
      "tensor(-4.4115e-06, device='cuda:5')\n",
      "tensor(-1.8665e-07, device='cuda:5')\n",
      "tensor(3.2998e-05, device='cuda:5')\n",
      "tensor(3.2998e-05, device='cuda:5')\n",
      "tensor(-1.6061e-07, device='cuda:5')\n",
      "tensor(-9.3877e-07, device='cuda:5')\n",
      "tensor(-7.8058e-05, device='cuda:5')\n",
      "tensor(-7.8058e-05, device='cuda:5')\n",
      "tensor(2.7887e-09, device='cuda:5')\n",
      "tensor(0., device='cuda:5')\n",
      "tensor(-7.6645e-06, device='cuda:5')\n",
      "tensor(-7.6645e-06, device='cuda:5')\n",
      "tensor(-1.0721e-06, device='cuda:5')\n",
      "tensor(-0.0003, device='cuda:5')\n",
      "tensor(-1.0228e-09, device='cuda:5')\n",
      "tensor(-7.7333e-10, device='cuda:5')\n"
     ]
    },
    {
     "data": {
      "application/vnd.jupyter.widget-view+json": {
       "model_id": "ddf78b1810804c58a064083cf1d33970",
       "version_major": 2,
       "version_minor": 0
      },
      "text/plain": [
       "HBox(children=(FloatProgress(value=0.0, max=42.0), HTML(value='')))"
      ]
     },
     "metadata": {},
     "output_type": "display_data"
    },
    {
     "name": "stdout",
     "output_type": "stream",
     "text": [
      "\n",
      "epoch time: 147.08492946624756\n",
      "mean loss train: 0.046559629609542234, mean loss val: 0.08391432988643646\n",
      "accuracy train: 0.9806904761904762, accuracy val: 0.9633333333333334\n",
      "---------------------------------------------------------------------------------------------------\n",
      "Epoch: 49, Learning Rate: 0.0005\n",
      "\n"
     ]
    },
    {
     "data": {
      "application/vnd.jupyter.widget-view+json": {
       "model_id": "2c2790baa0e0427da635cd725a074930",
       "version_major": 2,
       "version_minor": 0
      },
      "text/plain": [
       "HBox(children=(FloatProgress(value=0.0, max=657.0), HTML(value='')))"
      ]
     },
     "metadata": {},
     "output_type": "display_data"
    },
    {
     "name": "stdout",
     "output_type": "stream",
     "text": [
      "\n",
      "tensor(-8.7448e-05, device='cuda:5')\n",
      "tensor(4.4816e-07, device='cuda:5')\n",
      "tensor(0.0009, device='cuda:5')\n",
      "tensor(0.0009, device='cuda:5')\n",
      "tensor(-2.8080e-05, device='cuda:5')\n",
      "tensor(1.3170e-06, device='cuda:5')\n",
      "tensor(0.0004, device='cuda:5')\n",
      "tensor(0.0004, device='cuda:5')\n",
      "tensor(5.2693e-07, device='cuda:5')\n",
      "tensor(1.3505e-06, device='cuda:5')\n",
      "tensor(0.0005, device='cuda:5')\n",
      "tensor(0.0005, device='cuda:5')\n",
      "tensor(-8.6191e-09, device='cuda:5')\n",
      "tensor(0., device='cuda:5')\n",
      "tensor(-6.5437e-06, device='cuda:5')\n",
      "tensor(-6.5437e-06, device='cuda:5')\n",
      "tensor(8.3130e-06, device='cuda:5')\n",
      "tensor(0.0009, device='cuda:5')\n",
      "tensor(2.4593e-10, device='cuda:5')\n",
      "tensor(0., device='cuda:5')\n"
     ]
    },
    {
     "data": {
      "application/vnd.jupyter.widget-view+json": {
       "model_id": "85fd3bb80fd4453992abc5244bad103f",
       "version_major": 2,
       "version_minor": 0
      },
      "text/plain": [
       "HBox(children=(FloatProgress(value=0.0, max=42.0), HTML(value='')))"
      ]
     },
     "metadata": {},
     "output_type": "display_data"
    },
    {
     "name": "stdout",
     "output_type": "stream",
     "text": [
      "\n",
      "epoch time: 146.33126521110535\n",
      "mean loss train: 0.040282766310232025, mean loss val: 0.08310499984025956\n",
      "accuracy train: 0.9826904761904762, accuracy val: 0.9657142857142857\n",
      "---------------------------------------------------------------------------------------------------\n",
      "Epoch: 50, Learning Rate: 0.00025\n",
      "\n"
     ]
    },
    {
     "data": {
      "application/vnd.jupyter.widget-view+json": {
       "model_id": "8348602037884a5bba4e8ae1bd3b8cb1",
       "version_major": 2,
       "version_minor": 0
      },
      "text/plain": [
       "HBox(children=(FloatProgress(value=0.0, max=657.0), HTML(value='')))"
      ]
     },
     "metadata": {},
     "output_type": "display_data"
    },
    {
     "name": "stdout",
     "output_type": "stream",
     "text": [
      "\n",
      "tensor(-1.9223e-07, device='cuda:5')\n",
      "tensor(1.5042e-08, device='cuda:5')\n",
      "tensor(1.0982e-05, device='cuda:5')\n",
      "tensor(1.0982e-05, device='cuda:5')\n",
      "tensor(1.2336e-07, device='cuda:5')\n",
      "tensor(-5.8840e-09, device='cuda:5')\n",
      "tensor(3.5210e-06, device='cuda:5')\n",
      "tensor(3.5210e-06, device='cuda:5')\n",
      "tensor(2.2778e-09, device='cuda:5')\n",
      "tensor(1.2250e-08, device='cuda:5')\n",
      "tensor(4.1021e-06, device='cuda:5')\n",
      "tensor(4.1021e-06, device='cuda:5')\n",
      "tensor(-3.0906e-09, device='cuda:5')\n",
      "tensor(0., device='cuda:5')\n",
      "tensor(-9.1010e-07, device='cuda:5')\n",
      "tensor(-9.1010e-07, device='cuda:5')\n",
      "tensor(8.9316e-08, device='cuda:5')\n",
      "tensor(-2.4114e-05, device='cuda:5')\n",
      "tensor(-7.2147e-11, device='cuda:5')\n",
      "tensor(-2.8272e-10, device='cuda:5')\n"
     ]
    },
    {
     "data": {
      "application/vnd.jupyter.widget-view+json": {
       "model_id": "e7ae1257825c4a3db5c7714649cda8d3",
       "version_major": 2,
       "version_minor": 0
      },
      "text/plain": [
       "HBox(children=(FloatProgress(value=0.0, max=42.0), HTML(value='')))"
      ]
     },
     "metadata": {},
     "output_type": "display_data"
    },
    {
     "name": "stdout",
     "output_type": "stream",
     "text": [
      "\n",
      "epoch time: 143.8235490322113\n",
      "mean loss train: 0.03374091514004838, mean loss val: 0.09201867246060144\n",
      "accuracy train: 0.9858571428571429, accuracy val: 0.965047619047619\n",
      "---------------------------------------------------------------------------------------------------\n",
      "Epoch: 51, Learning Rate: 0.00025\n",
      "\n"
     ]
    },
    {
     "data": {
      "application/vnd.jupyter.widget-view+json": {
       "model_id": "352cd13992164f158555aad5f23588e3",
       "version_major": 2,
       "version_minor": 0
      },
      "text/plain": [
       "HBox(children=(FloatProgress(value=0.0, max=657.0), HTML(value='')))"
      ]
     },
     "metadata": {},
     "output_type": "display_data"
    },
    {
     "name": "stdout",
     "output_type": "stream",
     "text": [
      "\n",
      "tensor(-2.2416e-06, device='cuda:5')\n",
      "tensor(-1.1606e-07, device='cuda:5')\n",
      "tensor(1.5410e-05, device='cuda:5')\n",
      "tensor(1.5410e-05, device='cuda:5')\n",
      "tensor(5.0551e-07, device='cuda:5')\n",
      "tensor(-5.3852e-08, device='cuda:5')\n",
      "tensor(1.9632e-05, device='cuda:5')\n",
      "tensor(1.9632e-05, device='cuda:5')\n",
      "tensor(2.0761e-08, device='cuda:5')\n",
      "tensor(6.9468e-08, device='cuda:5')\n",
      "tensor(1.5452e-05, device='cuda:5')\n",
      "tensor(1.5452e-05, device='cuda:5')\n",
      "tensor(-7.1451e-10, device='cuda:5')\n",
      "tensor(0., device='cuda:5')\n",
      "tensor(-3.7920e-07, device='cuda:5')\n",
      "tensor(-3.7920e-07, device='cuda:5')\n",
      "tensor(-3.4316e-08, device='cuda:5')\n",
      "tensor(-4.1486e-05, device='cuda:5')\n",
      "tensor(-8.9777e-11, device='cuda:5')\n",
      "tensor(-2.2174e-10, device='cuda:5')\n"
     ]
    },
    {
     "data": {
      "application/vnd.jupyter.widget-view+json": {
       "model_id": "ee719284db3a4c18bbabca561f13bd38",
       "version_major": 2,
       "version_minor": 0
      },
      "text/plain": [
       "HBox(children=(FloatProgress(value=0.0, max=42.0), HTML(value='')))"
      ]
     },
     "metadata": {},
     "output_type": "display_data"
    },
    {
     "name": "stdout",
     "output_type": "stream",
     "text": [
      "\n",
      "epoch time: 147.3166115283966\n",
      "mean loss train: 0.029531866933795666, mean loss val: 0.09634236067604451\n",
      "accuracy train: 0.9880476190476191, accuracy val: 0.9637142857142857\n",
      "---------------------------------------------------------------------------------------------------\n",
      "Epoch: 52, Learning Rate: 0.00025\n",
      "\n"
     ]
    },
    {
     "data": {
      "application/vnd.jupyter.widget-view+json": {
       "model_id": "f7fa5070dfbc4c56b1b42ae82eb82b07",
       "version_major": 2,
       "version_minor": 0
      },
      "text/plain": [
       "HBox(children=(FloatProgress(value=0.0, max=657.0), HTML(value='')))"
      ]
     },
     "metadata": {},
     "output_type": "display_data"
    },
    {
     "name": "stdout",
     "output_type": "stream",
     "text": [
      "\n",
      "tensor(-9.7226e-10, device='cuda:5')\n",
      "tensor(1.0633e-10, device='cuda:5')\n",
      "tensor(4.2849e-08, device='cuda:5')\n",
      "tensor(4.2849e-08, device='cuda:5')\n",
      "tensor(-1.4999e-09, device='cuda:5')\n",
      "tensor(7.6991e-11, device='cuda:5')\n",
      "tensor(1.2412e-07, device='cuda:5')\n",
      "tensor(1.2412e-07, device='cuda:5')\n",
      "tensor(1.1101e-11, device='cuda:5')\n",
      "tensor(-3.4884e-11, device='cuda:5')\n",
      "tensor(9.9804e-09, device='cuda:5')\n",
      "tensor(9.9804e-09, device='cuda:5')\n",
      "tensor(-4.9826e-12, device='cuda:5')\n",
      "tensor(0., device='cuda:5')\n",
      "tensor(-1.1894e-09, device='cuda:5')\n",
      "tensor(-1.1894e-09, device='cuda:5')\n",
      "tensor(8.5142e-11, device='cuda:5')\n",
      "tensor(-6.7658e-08, device='cuda:5')\n",
      "tensor(9.9886e-11, device='cuda:5')\n",
      "tensor(2.6987e-11, device='cuda:5')\n"
     ]
    },
    {
     "data": {
      "application/vnd.jupyter.widget-view+json": {
       "model_id": "2433a37dbbd94ea8b59e6bf956ac2971",
       "version_major": 2,
       "version_minor": 0
      },
      "text/plain": [
       "HBox(children=(FloatProgress(value=0.0, max=42.0), HTML(value='')))"
      ]
     },
     "metadata": {},
     "output_type": "display_data"
    },
    {
     "name": "stdout",
     "output_type": "stream",
     "text": [
      "\n",
      "epoch time: 144.3223752975464\n",
      "mean loss train: 0.029628637579225358, mean loss val: 0.10235295047078814\n",
      "accuracy train: 0.9879761904761905, accuracy val: 0.9641904761904762\n",
      "---------------------------------------------------------------------------------------------------\n",
      "Epoch: 53, Learning Rate: 0.00025\n",
      "\n"
     ]
    },
    {
     "data": {
      "application/vnd.jupyter.widget-view+json": {
       "model_id": "ad71502854234db5a7ff18465050a866",
       "version_major": 2,
       "version_minor": 0
      },
      "text/plain": [
       "HBox(children=(FloatProgress(value=0.0, max=657.0), HTML(value='')))"
      ]
     },
     "metadata": {},
     "output_type": "display_data"
    },
    {
     "name": "stdout",
     "output_type": "stream",
     "text": [
      "\n",
      "tensor(1.5447e-05, device='cuda:5')\n",
      "tensor(-8.3332e-07, device='cuda:5')\n",
      "tensor(0.0002, device='cuda:5')\n",
      "tensor(0.0002, device='cuda:5')\n",
      "tensor(-3.5255e-06, device='cuda:5')\n",
      "tensor(6.4761e-08, device='cuda:5')\n",
      "tensor(7.0534e-05, device='cuda:5')\n",
      "tensor(7.0534e-05, device='cuda:5')\n",
      "tensor(1.5075e-07, device='cuda:5')\n",
      "tensor(9.2426e-07, device='cuda:5')\n",
      "tensor(0.0001, device='cuda:5')\n",
      "tensor(0.0001, device='cuda:5')\n",
      "tensor(-2.6209e-09, device='cuda:5')\n",
      "tensor(0., device='cuda:5')\n",
      "tensor(-2.9941e-06, device='cuda:5')\n",
      "tensor(-2.9941e-06, device='cuda:5')\n",
      "tensor(3.1532e-07, device='cuda:5')\n",
      "tensor(-0.0001, device='cuda:5')\n",
      "tensor(-8.4165e-11, device='cuda:5')\n",
      "tensor(-3.1044e-10, device='cuda:5')\n"
     ]
    },
    {
     "data": {
      "application/vnd.jupyter.widget-view+json": {
       "model_id": "37db600aafc04446933f380b1639e84d",
       "version_major": 2,
       "version_minor": 0
      },
      "text/plain": [
       "HBox(children=(FloatProgress(value=0.0, max=42.0), HTML(value='')))"
      ]
     },
     "metadata": {},
     "output_type": "display_data"
    },
    {
     "name": "stdout",
     "output_type": "stream",
     "text": [
      "\n",
      "epoch time: 144.08791732788086\n",
      "mean loss train: 0.025890650797990106, mean loss val: 0.11430471458037694\n",
      "accuracy train: 0.9900238095238095, accuracy val: 0.9644761904761905\n",
      "---------------------------------------------------------------------------------------------------\n",
      "Epoch: 54, Learning Rate: 0.00025\n",
      "\n"
     ]
    },
    {
     "data": {
      "application/vnd.jupyter.widget-view+json": {
       "model_id": "6911d03a4caf4009b69ed9d4e993d680",
       "version_major": 2,
       "version_minor": 0
      },
      "text/plain": [
       "HBox(children=(FloatProgress(value=0.0, max=657.0), HTML(value='')))"
      ]
     },
     "metadata": {},
     "output_type": "display_data"
    },
    {
     "name": "stdout",
     "output_type": "stream",
     "text": [
      "\n",
      "tensor(7.5729e-07, device='cuda:5')\n",
      "tensor(4.2969e-08, device='cuda:5')\n",
      "tensor(-5.5779e-05, device='cuda:5')\n",
      "tensor(-5.5779e-05, device='cuda:5')\n",
      "tensor(-1.1138e-07, device='cuda:5')\n",
      "tensor(1.5152e-08, device='cuda:5')\n",
      "tensor(-7.3814e-06, device='cuda:5')\n",
      "tensor(-7.3814e-06, device='cuda:5')\n",
      "tensor(-2.2653e-08, device='cuda:5')\n",
      "tensor(-1.0950e-07, device='cuda:5')\n",
      "tensor(-1.4293e-05, device='cuda:5')\n",
      "tensor(-1.4293e-05, device='cuda:5')\n",
      "tensor(-2.8488e-09, device='cuda:5')\n",
      "tensor(0., device='cuda:5')\n",
      "tensor(-1.7737e-06, device='cuda:5')\n",
      "tensor(-1.7737e-06, device='cuda:5')\n",
      "tensor(-2.0621e-07, device='cuda:5')\n",
      "tensor(-0.0001, device='cuda:5')\n",
      "tensor(5.4257e-10, device='cuda:5')\n",
      "tensor(5.0447e-10, device='cuda:5')\n"
     ]
    },
    {
     "data": {
      "application/vnd.jupyter.widget-view+json": {
       "model_id": "88cf3f6595cd41cfbe4048694ddfce27",
       "version_major": 2,
       "version_minor": 0
      },
      "text/plain": [
       "HBox(children=(FloatProgress(value=0.0, max=42.0), HTML(value='')))"
      ]
     },
     "metadata": {},
     "output_type": "display_data"
    },
    {
     "name": "stdout",
     "output_type": "stream",
     "text": [
      "\n",
      "epoch time: 134.6710500717163\n",
      "mean loss train: 0.026091923020070507, mean loss val: 0.1009511509736379\n",
      "accuracy train: 0.9897380952380952, accuracy val: 0.964\n",
      "---------------------------------------------------------------------------------------------------\n",
      "Epoch: 55, Learning Rate: 0.00025\n",
      "\n"
     ]
    },
    {
     "data": {
      "application/vnd.jupyter.widget-view+json": {
       "model_id": "4d2d5c1549374873bdf5e5cc5665319c",
       "version_major": 2,
       "version_minor": 0
      },
      "text/plain": [
       "HBox(children=(FloatProgress(value=0.0, max=657.0), HTML(value='')))"
      ]
     },
     "metadata": {},
     "output_type": "display_data"
    },
    {
     "name": "stdout",
     "output_type": "stream",
     "text": [
      "\n",
      "tensor(-2.2183e-06, device='cuda:5')\n",
      "tensor(-9.7067e-08, device='cuda:5')\n",
      "tensor(0.0002, device='cuda:5')\n",
      "tensor(0.0002, device='cuda:5')\n",
      "tensor(1.7212e-06, device='cuda:5')\n",
      "tensor(3.3376e-07, device='cuda:5')\n",
      "tensor(4.4989e-05, device='cuda:5')\n",
      "tensor(4.4989e-05, device='cuda:5')\n",
      "tensor(2.3524e-08, device='cuda:5')\n",
      "tensor(2.1074e-07, device='cuda:5')\n",
      "tensor(6.2460e-05, device='cuda:5')\n",
      "tensor(6.2460e-05, device='cuda:5')\n",
      "tensor(-4.8667e-09, device='cuda:5')\n",
      "tensor(0., device='cuda:5')\n",
      "tensor(-6.0071e-06, device='cuda:5')\n",
      "tensor(-6.0071e-06, device='cuda:5')\n",
      "tensor(6.2593e-08, device='cuda:5')\n",
      "tensor(-0.0001, device='cuda:5')\n",
      "tensor(1.1976e-09, device='cuda:5')\n",
      "tensor(2.3061e-09, device='cuda:5')\n"
     ]
    },
    {
     "data": {
      "application/vnd.jupyter.widget-view+json": {
       "model_id": "4f4237c5e32f41b0a06b4524bf213e8c",
       "version_major": 2,
       "version_minor": 0
      },
      "text/plain": [
       "HBox(children=(FloatProgress(value=0.0, max=42.0), HTML(value='')))"
      ]
     },
     "metadata": {},
     "output_type": "display_data"
    },
    {
     "name": "stdout",
     "output_type": "stream",
     "text": [
      "\n",
      "epoch time: 134.2046811580658\n",
      "mean loss train: 0.02230016150857721, mean loss val: 0.11415164295832315\n",
      "accuracy train: 0.9917857142857143, accuracy val: 0.965047619047619\n",
      "---------------------------------------------------------------------------------------------------\n",
      "Epoch: 56, Learning Rate: 0.00025\n",
      "\n"
     ]
    },
    {
     "data": {
      "application/vnd.jupyter.widget-view+json": {
       "model_id": "2e56ac882530411bb7a7b15efbc791b6",
       "version_major": 2,
       "version_minor": 0
      },
      "text/plain": [
       "HBox(children=(FloatProgress(value=0.0, max=657.0), HTML(value='')))"
      ]
     },
     "metadata": {},
     "output_type": "display_data"
    },
    {
     "name": "stdout",
     "output_type": "stream",
     "text": [
      "\n",
      "tensor(9.4219e-12, device='cuda:5')\n",
      "tensor(-1.5627e-11, device='cuda:5')\n",
      "tensor(7.4733e-10, device='cuda:5')\n",
      "tensor(7.4733e-10, device='cuda:5')\n",
      "tensor(7.9523e-12, device='cuda:5')\n",
      "tensor(-3.3019e-13, device='cuda:5')\n",
      "tensor(-1.2206e-10, device='cuda:5')\n",
      "tensor(-1.2206e-10, device='cuda:5')\n",
      "tensor(6.9978e-13, device='cuda:5')\n",
      "tensor(4.1309e-13, device='cuda:5')\n",
      "tensor(-4.7725e-10, device='cuda:5')\n",
      "tensor(-4.7725e-10, device='cuda:5')\n",
      "tensor(-6.9934e-13, device='cuda:5')\n",
      "tensor(0., device='cuda:5')\n",
      "tensor(-7.9960e-11, device='cuda:5')\n",
      "tensor(-7.9960e-11, device='cuda:5')\n",
      "tensor(7.5526e-12, device='cuda:5')\n",
      "tensor(-5.8660e-09, device='cuda:5')\n",
      "tensor(1.7860e-10, device='cuda:5')\n",
      "tensor(4.0619e-10, device='cuda:5')\n"
     ]
    },
    {
     "data": {
      "application/vnd.jupyter.widget-view+json": {
       "model_id": "60c6ab66936d47689302c2fabd20c7a5",
       "version_major": 2,
       "version_minor": 0
      },
      "text/plain": [
       "HBox(children=(FloatProgress(value=0.0, max=42.0), HTML(value='')))"
      ]
     },
     "metadata": {},
     "output_type": "display_data"
    },
    {
     "name": "stdout",
     "output_type": "stream",
     "text": [
      "\n",
      "epoch time: 133.3496687412262\n",
      "mean loss train: 0.019668620544884885, mean loss val: 0.11675440131482624\n",
      "accuracy train: 0.9924761904761905, accuracy val: 0.9654285714285714\n",
      "---------------------------------------------------------------------------------------------------\n",
      "Epoch: 57, Learning Rate: 0.00025\n",
      "\n"
     ]
    },
    {
     "data": {
      "application/vnd.jupyter.widget-view+json": {
       "model_id": "ffc414c43f51463c9b50fbe6f30df31d",
       "version_major": 2,
       "version_minor": 0
      },
      "text/plain": [
       "HBox(children=(FloatProgress(value=0.0, max=657.0), HTML(value='')))"
      ]
     },
     "metadata": {},
     "output_type": "display_data"
    },
    {
     "name": "stdout",
     "output_type": "stream",
     "text": [
      "\n",
      "tensor(-0.0002, device='cuda:5')\n",
      "tensor(-4.9784e-06, device='cuda:5')\n",
      "tensor(0.0013, device='cuda:5')\n",
      "tensor(0.0013, device='cuda:5')\n",
      "tensor(-2.3432e-05, device='cuda:5')\n",
      "tensor(3.0304e-06, device='cuda:5')\n",
      "tensor(0.0010, device='cuda:5')\n",
      "tensor(0.0010, device='cuda:5')\n",
      "tensor(-6.8228e-07, device='cuda:5')\n",
      "tensor(9.6812e-07, device='cuda:5')\n",
      "tensor(0.0004, device='cuda:5')\n",
      "tensor(0.0004, device='cuda:5')\n",
      "tensor(-1.0126e-08, device='cuda:5')\n",
      "tensor(0., device='cuda:5')\n",
      "tensor(-3.3286e-06, device='cuda:5')\n",
      "tensor(-3.3286e-06, device='cuda:5')\n",
      "tensor(-1.0180e-06, device='cuda:5')\n",
      "tensor(-0.0003, device='cuda:5')\n",
      "tensor(1.4275e-09, device='cuda:5')\n",
      "tensor(1.6409e-09, device='cuda:5')\n"
     ]
    },
    {
     "data": {
      "application/vnd.jupyter.widget-view+json": {
       "model_id": "39809fb188d245f2a682df098658965f",
       "version_major": 2,
       "version_minor": 0
      },
      "text/plain": [
       "HBox(children=(FloatProgress(value=0.0, max=42.0), HTML(value='')))"
      ]
     },
     "metadata": {},
     "output_type": "display_data"
    },
    {
     "name": "stdout",
     "output_type": "stream",
     "text": [
      "\n",
      "epoch time: 133.47095036506653\n",
      "mean loss train: 0.020172368492398944, mean loss val: 0.1260403712477003\n",
      "accuracy train: 0.9922619047619048, accuracy val: 0.9619047619047619\n",
      "---------------------------------------------------------------------------------------------------\n",
      "Epoch: 58, Learning Rate: 0.00025\n",
      "\n"
     ]
    },
    {
     "data": {
      "application/vnd.jupyter.widget-view+json": {
       "model_id": "008bf03018c4469ebcbe787cd91b6229",
       "version_major": 2,
       "version_minor": 0
      },
      "text/plain": [
       "HBox(children=(FloatProgress(value=0.0, max=657.0), HTML(value='')))"
      ]
     },
     "metadata": {},
     "output_type": "display_data"
    },
    {
     "name": "stdout",
     "output_type": "stream",
     "text": [
      "\n",
      "tensor(4.8888e-06, device='cuda:5')\n",
      "tensor(8.6457e-07, device='cuda:5')\n",
      "tensor(-0.0003, device='cuda:5')\n",
      "tensor(-0.0003, device='cuda:5')\n",
      "tensor(8.2593e-06, device='cuda:5')\n",
      "tensor(2.6386e-07, device='cuda:5')\n",
      "tensor(-0.0003, device='cuda:5')\n",
      "tensor(-0.0003, device='cuda:5')\n",
      "tensor(-2.0561e-07, device='cuda:5')\n",
      "tensor(-8.4610e-07, device='cuda:5')\n",
      "tensor(-0.0001, device='cuda:5')\n",
      "tensor(-0.0001, device='cuda:5')\n",
      "tensor(-5.5382e-09, device='cuda:5')\n",
      "tensor(0., device='cuda:5')\n",
      "tensor(5.8276e-06, device='cuda:5')\n",
      "tensor(5.8276e-06, device='cuda:5')\n",
      "tensor(-6.3780e-07, device='cuda:5')\n",
      "tensor(-0.0004, device='cuda:5')\n",
      "tensor(1.9959e-10, device='cuda:5')\n",
      "tensor(1.3305e-10, device='cuda:5')\n"
     ]
    },
    {
     "data": {
      "application/vnd.jupyter.widget-view+json": {
       "model_id": "abcd83d45edd4410baee551791849fca",
       "version_major": 2,
       "version_minor": 0
      },
      "text/plain": [
       "HBox(children=(FloatProgress(value=0.0, max=42.0), HTML(value='')))"
      ]
     },
     "metadata": {},
     "output_type": "display_data"
    },
    {
     "name": "stdout",
     "output_type": "stream",
     "text": [
      "\n",
      "epoch time: 133.47446084022522\n",
      "mean loss train: 0.023886423824088916, mean loss val: 0.11894437531062535\n",
      "accuracy train: 0.9918095238095238, accuracy val: 0.964952380952381\n",
      "---------------------------------------------------------------------------------------------------\n",
      "Epoch: 59, Learning Rate: 0.00025\n",
      "\n"
     ]
    },
    {
     "data": {
      "application/vnd.jupyter.widget-view+json": {
       "model_id": "0262836eca79489cac839b3cca942e8a",
       "version_major": 2,
       "version_minor": 0
      },
      "text/plain": [
       "HBox(children=(FloatProgress(value=0.0, max=657.0), HTML(value='')))"
      ]
     },
     "metadata": {},
     "output_type": "display_data"
    },
    {
     "name": "stdout",
     "output_type": "stream",
     "text": [
      "\n",
      "tensor(-9.4624e-12, device='cuda:5')\n",
      "tensor(1.5808e-13, device='cuda:5')\n",
      "tensor(-7.8690e-11, device='cuda:5')\n",
      "tensor(-7.8690e-11, device='cuda:5')\n",
      "tensor(3.1144e-13, device='cuda:5')\n",
      "tensor(-1.0603e-13, device='cuda:5')\n",
      "tensor(2.0151e-11, device='cuda:5')\n",
      "tensor(2.0151e-11, device='cuda:5')\n",
      "tensor(-5.0578e-14, device='cuda:5')\n",
      "tensor(-2.9666e-13, device='cuda:5')\n",
      "tensor(-8.3152e-11, device='cuda:5')\n",
      "tensor(-8.3152e-11, device='cuda:5')\n",
      "tensor(1.8988e-14, device='cuda:5')\n",
      "tensor(0., device='cuda:5')\n",
      "tensor(-2.5144e-11, device='cuda:5')\n",
      "tensor(-2.5144e-11, device='cuda:5')\n",
      "tensor(-2.7567e-12, device='cuda:5')\n",
      "tensor(-1.3092e-09, device='cuda:5')\n",
      "tensor(2.3789e-10, device='cuda:5')\n",
      "tensor(6.3937e-11, device='cuda:5')\n"
     ]
    },
    {
     "data": {
      "application/vnd.jupyter.widget-view+json": {
       "model_id": "2dcc362ce6fc46cf95a2f8f3e29051bc",
       "version_major": 2,
       "version_minor": 0
      },
      "text/plain": [
       "HBox(children=(FloatProgress(value=0.0, max=42.0), HTML(value='')))"
      ]
     },
     "metadata": {},
     "output_type": "display_data"
    },
    {
     "name": "stdout",
     "output_type": "stream",
     "text": [
      "\n",
      "epoch time: 136.35276198387146\n",
      "mean loss train: 0.016897245936095713, mean loss val: 0.12577900074209486\n",
      "accuracy train: 0.9939285714285714, accuracy val: 0.966\n",
      "---------------------------------------------------------------------------------------------------\n",
      "Epoch: 60, Learning Rate: 0.00025\n",
      "\n"
     ]
    },
    {
     "data": {
      "application/vnd.jupyter.widget-view+json": {
       "model_id": "c9d3d6c9af75484fae7528d824031b17",
       "version_major": 2,
       "version_minor": 0
      },
      "text/plain": [
       "HBox(children=(FloatProgress(value=0.0, max=657.0), HTML(value='')))"
      ]
     },
     "metadata": {},
     "output_type": "display_data"
    },
    {
     "name": "stdout",
     "output_type": "stream",
     "text": [
      "\n",
      "tensor(2.1309e-08, device='cuda:5')\n",
      "tensor(4.4134e-10, device='cuda:5')\n",
      "tensor(1.1676e-05, device='cuda:5')\n",
      "tensor(1.1676e-05, device='cuda:5')\n",
      "tensor(-5.0969e-07, device='cuda:5')\n",
      "tensor(3.1120e-08, device='cuda:5')\n",
      "tensor(1.1280e-05, device='cuda:5')\n",
      "tensor(1.1280e-05, device='cuda:5')\n",
      "tensor(7.9563e-09, device='cuda:5')\n",
      "tensor(1.1505e-08, device='cuda:5')\n",
      "tensor(6.3534e-07, device='cuda:5')\n",
      "tensor(6.3534e-07, device='cuda:5')\n",
      "tensor(1.2033e-09, device='cuda:5')\n",
      "tensor(0., device='cuda:5')\n",
      "tensor(-2.1534e-07, device='cuda:5')\n",
      "tensor(-2.1534e-07, device='cuda:5')\n",
      "tensor(6.2297e-08, device='cuda:5')\n",
      "tensor(-3.4792e-05, device='cuda:5')\n",
      "tensor(1.5721e-09, device='cuda:5')\n",
      "tensor(1.6021e-09, device='cuda:5')\n"
     ]
    },
    {
     "data": {
      "application/vnd.jupyter.widget-view+json": {
       "model_id": "517d8f6556f04c6a8fa3d7bf2253788b",
       "version_major": 2,
       "version_minor": 0
      },
      "text/plain": [
       "HBox(children=(FloatProgress(value=0.0, max=42.0), HTML(value='')))"
      ]
     },
     "metadata": {},
     "output_type": "display_data"
    },
    {
     "name": "stdout",
     "output_type": "stream",
     "text": [
      "\n",
      "epoch time: 133.91575455665588\n",
      "mean loss train: 0.01446880284847603, mean loss val: 0.1439684651323727\n",
      "accuracy train: 0.9949285714285714, accuracy val: 0.9645714285714285\n",
      "---------------------------------------------------------------------------------------------------\n",
      "Epoch: 61, Learning Rate: 0.00025\n",
      "\n"
     ]
    },
    {
     "data": {
      "application/vnd.jupyter.widget-view+json": {
       "model_id": "5d574d586bee44e7a89e6eeed00fb8d9",
       "version_major": 2,
       "version_minor": 0
      },
      "text/plain": [
       "HBox(children=(FloatProgress(value=0.0, max=657.0), HTML(value='')))"
      ]
     },
     "metadata": {},
     "output_type": "display_data"
    },
    {
     "name": "stdout",
     "output_type": "stream",
     "text": [
      "\n",
      "tensor(2.7170e-05, device='cuda:5')\n",
      "tensor(2.6577e-06, device='cuda:5')\n",
      "tensor(0.0007, device='cuda:5')\n",
      "tensor(0.0007, device='cuda:5')\n",
      "tensor(-3.6200e-06, device='cuda:5')\n",
      "tensor(2.6630e-07, device='cuda:5')\n",
      "tensor(0.0002, device='cuda:5')\n",
      "tensor(0.0002, device='cuda:5')\n",
      "tensor(2.7099e-07, device='cuda:5')\n",
      "tensor(4.5038e-07, device='cuda:5')\n",
      "tensor(0.0001, device='cuda:5')\n",
      "tensor(0.0001, device='cuda:5')\n",
      "tensor(-1.0150e-08, device='cuda:5')\n",
      "tensor(0., device='cuda:5')\n",
      "tensor(-1.8975e-06, device='cuda:5')\n",
      "tensor(-1.8975e-06, device='cuda:5')\n",
      "tensor(8.4582e-07, device='cuda:5')\n",
      "tensor(-0.0002, device='cuda:5')\n",
      "tensor(-4.1523e-10, device='cuda:5')\n",
      "tensor(-8.8697e-10, device='cuda:5')\n"
     ]
    },
    {
     "data": {
      "application/vnd.jupyter.widget-view+json": {
       "model_id": "896e2c73a6fc4d118dbb46a3371906fb",
       "version_major": 2,
       "version_minor": 0
      },
      "text/plain": [
       "HBox(children=(FloatProgress(value=0.0, max=42.0), HTML(value='')))"
      ]
     },
     "metadata": {},
     "output_type": "display_data"
    },
    {
     "name": "stdout",
     "output_type": "stream",
     "text": [
      "\n",
      "epoch time: 134.18628001213074\n",
      "mean loss train: 0.014587214133391778, mean loss val: 0.14973813538750014\n",
      "accuracy train: 0.9946666666666667, accuracy val: 0.9626666666666667\n",
      "---------------------------------------------------------------------------------------------------\n",
      "Epoch: 62, Learning Rate: 0.00025\n",
      "\n"
     ]
    },
    {
     "data": {
      "application/vnd.jupyter.widget-view+json": {
       "model_id": "6355ec9bba6f41c4b360a581d1df7246",
       "version_major": 2,
       "version_minor": 0
      },
      "text/plain": [
       "HBox(children=(FloatProgress(value=0.0, max=657.0), HTML(value='')))"
      ]
     },
     "metadata": {},
     "output_type": "display_data"
    },
    {
     "name": "stdout",
     "output_type": "stream",
     "text": [
      "\n",
      "tensor(-1.0762e-05, device='cuda:5')\n",
      "tensor(-4.8976e-06, device='cuda:5')\n",
      "tensor(-0.0016, device='cuda:5')\n",
      "tensor(-0.0016, device='cuda:5')\n",
      "tensor(2.6828e-05, device='cuda:5')\n",
      "tensor(4.1509e-07, device='cuda:5')\n",
      "tensor(-0.0011, device='cuda:5')\n",
      "tensor(-0.0011, device='cuda:5')\n",
      "tensor(-4.8920e-07, device='cuda:5')\n",
      "tensor(-4.3192e-06, device='cuda:5')\n",
      "tensor(-0.0004, device='cuda:5')\n",
      "tensor(-0.0004, device='cuda:5')\n",
      "tensor(4.4054e-08, device='cuda:5')\n",
      "tensor(0., device='cuda:5')\n",
      "tensor(3.4435e-05, device='cuda:5')\n",
      "tensor(3.4435e-05, device='cuda:5')\n",
      "tensor(-1.0928e-06, device='cuda:5')\n",
      "tensor(-0.0005, device='cuda:5')\n",
      "tensor(1.9371e-09, device='cuda:5')\n",
      "tensor(1.5966e-09, device='cuda:5')\n"
     ]
    },
    {
     "data": {
      "application/vnd.jupyter.widget-view+json": {
       "model_id": "cd4811fb16e24859b2f4b8fd099fed21",
       "version_major": 2,
       "version_minor": 0
      },
      "text/plain": [
       "HBox(children=(FloatProgress(value=0.0, max=42.0), HTML(value='')))"
      ]
     },
     "metadata": {},
     "output_type": "display_data"
    },
    {
     "name": "stdout",
     "output_type": "stream",
     "text": [
      "\n",
      "epoch time: 133.15939378738403\n",
      "mean loss train: 0.016859873280816135, mean loss val: 0.13714565617129917\n",
      "accuracy train: 0.9937142857142857, accuracy val: 0.9644761904761905\n",
      "---------------------------------------------------------------------------------------------------\n",
      "Epoch: 63, Learning Rate: 0.00025\n",
      "\n"
     ]
    },
    {
     "data": {
      "application/vnd.jupyter.widget-view+json": {
       "model_id": "f8fa16649b9749cc88aaa7af8e4bd4ae",
       "version_major": 2,
       "version_minor": 0
      },
      "text/plain": [
       "HBox(children=(FloatProgress(value=0.0, max=657.0), HTML(value='')))"
      ]
     },
     "metadata": {},
     "output_type": "display_data"
    },
    {
     "name": "stdout",
     "output_type": "stream",
     "text": [
      "\n",
      "tensor(1.4870e-05, device='cuda:5')\n",
      "tensor(3.0786e-07, device='cuda:5')\n",
      "tensor(-0.0003, device='cuda:5')\n",
      "tensor(-0.0003, device='cuda:5')\n",
      "tensor(3.5971e-06, device='cuda:5')\n",
      "tensor(-1.5902e-08, device='cuda:5')\n",
      "tensor(-7.2892e-05, device='cuda:5')\n",
      "tensor(-7.2892e-05, device='cuda:5')\n",
      "tensor(-2.3361e-07, device='cuda:5')\n",
      "tensor(-7.6744e-07, device='cuda:5')\n",
      "tensor(-0.0001, device='cuda:5')\n",
      "tensor(-0.0001, device='cuda:5')\n",
      "tensor(-1.2544e-09, device='cuda:5')\n",
      "tensor(0., device='cuda:5')\n",
      "tensor(-2.5890e-07, device='cuda:5')\n",
      "tensor(-2.5890e-07, device='cuda:5')\n",
      "tensor(-5.5102e-07, device='cuda:5')\n",
      "tensor(-0.0002, device='cuda:5')\n",
      "tensor(4.3061e-10, device='cuda:5')\n",
      "tensor(4.4349e-10, device='cuda:5')\n"
     ]
    },
    {
     "data": {
      "application/vnd.jupyter.widget-view+json": {
       "model_id": "bc6e3c6c9b5343dcbfa2cece9c67e3d2",
       "version_major": 2,
       "version_minor": 0
      },
      "text/plain": [
       "HBox(children=(FloatProgress(value=0.0, max=42.0), HTML(value='')))"
      ]
     },
     "metadata": {},
     "output_type": "display_data"
    },
    {
     "name": "stdout",
     "output_type": "stream",
     "text": [
      "\n",
      "epoch time: 134.72250843048096\n",
      "mean loss train: 0.015455805653351404, mean loss val: 0.14766899230934324\n",
      "accuracy train: 0.994452380952381, accuracy val: 0.9622857142857143\n",
      "---------------------------------------------------------------------------------------------------\n",
      "Epoch: 64, Learning Rate: 0.00025\n",
      "\n"
     ]
    },
    {
     "data": {
      "application/vnd.jupyter.widget-view+json": {
       "model_id": "db37b2a236394298bbd4e1c3ff12a264",
       "version_major": 2,
       "version_minor": 0
      },
      "text/plain": [
       "HBox(children=(FloatProgress(value=0.0, max=657.0), HTML(value='')))"
      ]
     },
     "metadata": {},
     "output_type": "display_data"
    },
    {
     "name": "stdout",
     "output_type": "stream",
     "text": [
      "\n",
      "tensor(-4.7987e-07, device='cuda:5')\n",
      "tensor(-2.4520e-09, device='cuda:5')\n",
      "tensor(-0.0001, device='cuda:5')\n",
      "tensor(-0.0001, device='cuda:5')\n",
      "tensor(2.8176e-06, device='cuda:5')\n",
      "tensor(-1.1821e-07, device='cuda:5')\n",
      "tensor(-6.4694e-05, device='cuda:5')\n",
      "tensor(-6.4694e-05, device='cuda:5')\n",
      "tensor(6.2451e-08, device='cuda:5')\n",
      "tensor(-9.0631e-07, device='cuda:5')\n",
      "tensor(-0.0001, device='cuda:5')\n",
      "tensor(-0.0001, device='cuda:5')\n",
      "tensor(-4.1407e-08, device='cuda:5')\n",
      "tensor(0., device='cuda:5')\n",
      "tensor(7.5579e-06, device='cuda:5')\n",
      "tensor(7.5579e-06, device='cuda:5')\n",
      "tensor(-2.3667e-07, device='cuda:5')\n",
      "tensor(-0.0002, device='cuda:5')\n",
      "tensor(-7.1678e-11, device='cuda:5')\n",
      "tensor(-5.7653e-10, device='cuda:5')\n"
     ]
    },
    {
     "data": {
      "application/vnd.jupyter.widget-view+json": {
       "model_id": "b4b227f2c79648fbb504a56d1201e126",
       "version_major": 2,
       "version_minor": 0
      },
      "text/plain": [
       "HBox(children=(FloatProgress(value=0.0, max=42.0), HTML(value='')))"
      ]
     },
     "metadata": {},
     "output_type": "display_data"
    },
    {
     "name": "stdout",
     "output_type": "stream",
     "text": [
      "\n",
      "epoch time: 133.95180678367615\n",
      "mean loss train: 0.013648545343539722, mean loss val: 0.150368503286725\n",
      "accuracy train: 0.9950952380952381, accuracy val: 0.9633333333333334\n",
      "---------------------------------------------------------------------------------------------------\n",
      "Epoch: 65, Learning Rate: 0.00025\n",
      "\n"
     ]
    },
    {
     "data": {
      "application/vnd.jupyter.widget-view+json": {
       "model_id": "7fdd2f1f135b4735a6c7e8a263d1aa6b",
       "version_major": 2,
       "version_minor": 0
      },
      "text/plain": [
       "HBox(children=(FloatProgress(value=0.0, max=657.0), HTML(value='')))"
      ]
     },
     "metadata": {},
     "output_type": "display_data"
    },
    {
     "name": "stdout",
     "output_type": "stream",
     "text": [
      "\n",
      "tensor(4.5436e-07, device='cuda:5')\n",
      "tensor(-7.5907e-08, device='cuda:5')\n",
      "tensor(-5.2376e-05, device='cuda:5')\n",
      "tensor(-5.2376e-05, device='cuda:5')\n",
      "tensor(1.0266e-07, device='cuda:5')\n",
      "tensor(-4.4631e-09, device='cuda:5')\n",
      "tensor(-7.5769e-06, device='cuda:5')\n",
      "tensor(-7.5769e-06, device='cuda:5')\n",
      "tensor(2.0574e-09, device='cuda:5')\n",
      "tensor(-1.8068e-07, device='cuda:5')\n",
      "tensor(-1.9286e-05, device='cuda:5')\n",
      "tensor(-1.9286e-05, device='cuda:5')\n",
      "tensor(2.0001e-09, device='cuda:5')\n",
      "tensor(0., device='cuda:5')\n",
      "tensor(2.1559e-06, device='cuda:5')\n",
      "tensor(2.1559e-06, device='cuda:5')\n",
      "tensor(-6.6947e-08, device='cuda:5')\n",
      "tensor(-3.4745e-05, device='cuda:5')\n",
      "tensor(1.2102e-09, device='cuda:5')\n",
      "tensor(1.7684e-09, device='cuda:5')\n"
     ]
    },
    {
     "data": {
      "application/vnd.jupyter.widget-view+json": {
       "model_id": "bb4061dd3fea41c0825aa6d2d0e5b985",
       "version_major": 2,
       "version_minor": 0
      },
      "text/plain": [
       "HBox(children=(FloatProgress(value=0.0, max=42.0), HTML(value='')))"
      ]
     },
     "metadata": {},
     "output_type": "display_data"
    },
    {
     "name": "stdout",
     "output_type": "stream",
     "text": [
      "\n",
      "epoch time: 134.21686148643494\n",
      "mean loss train: 0.01386702433698589, mean loss val: 0.15861326184159233\n",
      "accuracy train: 0.9952619047619048, accuracy val: 0.9619047619047619\n",
      "---------------------------------------------------------------------------------------------------\n",
      "Epoch: 66, Learning Rate: 0.00025\n",
      "\n"
     ]
    },
    {
     "data": {
      "application/vnd.jupyter.widget-view+json": {
       "model_id": "abba38e02c984baeba0bc5699a6d4d21",
       "version_major": 2,
       "version_minor": 0
      },
      "text/plain": [
       "HBox(children=(FloatProgress(value=0.0, max=657.0), HTML(value='')))"
      ]
     },
     "metadata": {},
     "output_type": "display_data"
    },
    {
     "name": "stdout",
     "output_type": "stream",
     "text": [
      "\n",
      "tensor(1.4579e-05, device='cuda:5')\n",
      "tensor(7.1379e-07, device='cuda:5')\n",
      "tensor(-0.0005, device='cuda:5')\n",
      "tensor(-0.0005, device='cuda:5')\n",
      "tensor(-2.9465e-06, device='cuda:5')\n",
      "tensor(1.0963e-06, device='cuda:5')\n",
      "tensor(4.3905e-05, device='cuda:5')\n",
      "tensor(4.3905e-05, device='cuda:5')\n",
      "tensor(-8.2761e-08, device='cuda:5')\n",
      "tensor(-1.0161e-06, device='cuda:5')\n",
      "tensor(-0.0002, device='cuda:5')\n",
      "tensor(-0.0002, device='cuda:5')\n",
      "tensor(8.6602e-08, device='cuda:5')\n",
      "tensor(0., device='cuda:5')\n",
      "tensor(-1.4215e-05, device='cuda:5')\n",
      "tensor(-1.4215e-05, device='cuda:5')\n",
      "tensor(-9.6383e-08, device='cuda:5')\n",
      "tensor(-0.0003, device='cuda:5')\n",
      "tensor(2.7135e-10, device='cuda:5')\n",
      "tensor(1.1087e-10, device='cuda:5')\n"
     ]
    },
    {
     "data": {
      "application/vnd.jupyter.widget-view+json": {
       "model_id": "9cd2c15032df403a9986abe1417033e0",
       "version_major": 2,
       "version_minor": 0
      },
      "text/plain": [
       "HBox(children=(FloatProgress(value=0.0, max=42.0), HTML(value='')))"
      ]
     },
     "metadata": {},
     "output_type": "display_data"
    },
    {
     "name": "stdout",
     "output_type": "stream",
     "text": [
      "\n",
      "epoch time: 134.40364599227905\n",
      "mean loss train: 0.01308839182517979, mean loss val: 0.13853979141939254\n",
      "accuracy train: 0.995452380952381, accuracy val: 0.9637142857142857\n",
      "---------------------------------------------------------------------------------------------------\n",
      "Epoch: 67, Learning Rate: 0.00025\n",
      "\n"
     ]
    },
    {
     "data": {
      "application/vnd.jupyter.widget-view+json": {
       "model_id": "34473fc24ed541749fc0f65a4a9ac6bc",
       "version_major": 2,
       "version_minor": 0
      },
      "text/plain": [
       "HBox(children=(FloatProgress(value=0.0, max=657.0), HTML(value='')))"
      ]
     },
     "metadata": {},
     "output_type": "display_data"
    },
    {
     "name": "stdout",
     "output_type": "stream",
     "text": [
      "\n",
      "tensor(-1.3334e-06, device='cuda:5')\n",
      "tensor(2.1578e-08, device='cuda:5')\n",
      "tensor(-6.7683e-05, device='cuda:5')\n",
      "tensor(-6.7683e-05, device='cuda:5')\n",
      "tensor(2.7050e-07, device='cuda:5')\n",
      "tensor(-2.2916e-08, device='cuda:5')\n",
      "tensor(-2.6855e-05, device='cuda:5')\n",
      "tensor(-2.6855e-05, device='cuda:5')\n",
      "tensor(-2.4667e-08, device='cuda:5')\n",
      "tensor(-1.2464e-07, device='cuda:5')\n",
      "tensor(-2.5605e-05, device='cuda:5')\n",
      "tensor(-2.5605e-05, device='cuda:5')\n",
      "tensor(3.3904e-09, device='cuda:5')\n",
      "tensor(0., device='cuda:5')\n",
      "tensor(2.0723e-06, device='cuda:5')\n",
      "tensor(2.0723e-06, device='cuda:5')\n",
      "tensor(1.3034e-07, device='cuda:5')\n",
      "tensor(-6.8944e-05, device='cuda:5')\n",
      "tensor(7.9925e-11, device='cuda:5')\n",
      "tensor(1.4413e-10, device='cuda:5')\n"
     ]
    },
    {
     "data": {
      "application/vnd.jupyter.widget-view+json": {
       "model_id": "80e72bb27a194c1f9bfa50534f1d754e",
       "version_major": 2,
       "version_minor": 0
      },
      "text/plain": [
       "HBox(children=(FloatProgress(value=0.0, max=42.0), HTML(value='')))"
      ]
     },
     "metadata": {},
     "output_type": "display_data"
    },
    {
     "name": "stdout",
     "output_type": "stream",
     "text": [
      "\n",
      "epoch time: 134.24023008346558\n",
      "mean loss train: 0.012076668988381114, mean loss val: 0.15516252837649414\n",
      "accuracy train: 0.9957142857142857, accuracy val: 0.9634285714285714\n",
      "---------------------------------------------------------------------------------------------------\n",
      "Epoch: 68, Learning Rate: 0.00025\n",
      "\n"
     ]
    },
    {
     "data": {
      "application/vnd.jupyter.widget-view+json": {
       "model_id": "8cda6bcfdde94ac385ed7f7d04448447",
       "version_major": 2,
       "version_minor": 0
      },
      "text/plain": [
       "HBox(children=(FloatProgress(value=0.0, max=657.0), HTML(value='')))"
      ]
     },
     "metadata": {},
     "output_type": "display_data"
    },
    {
     "name": "stdout",
     "output_type": "stream",
     "text": [
      "\n",
      "tensor(-1.3871e-06, device='cuda:5')\n",
      "tensor(3.0609e-07, device='cuda:5')\n",
      "tensor(9.9224e-05, device='cuda:5')\n",
      "tensor(9.9224e-05, device='cuda:5')\n",
      "tensor(2.3452e-08, device='cuda:5')\n",
      "tensor(-5.1982e-09, device='cuda:5')\n",
      "tensor(-2.8163e-06, device='cuda:5')\n",
      "tensor(-2.8163e-06, device='cuda:5')\n",
      "tensor(1.8295e-09, device='cuda:5')\n",
      "tensor(-2.9153e-08, device='cuda:5')\n",
      "tensor(2.6797e-07, device='cuda:5')\n",
      "tensor(2.6797e-07, device='cuda:5')\n",
      "tensor(6.2226e-09, device='cuda:5')\n",
      "tensor(0., device='cuda:5')\n",
      "tensor(1.7255e-06, device='cuda:5')\n",
      "tensor(1.7255e-06, device='cuda:5')\n",
      "tensor(3.3751e-09, device='cuda:5')\n",
      "tensor(-2.4519e-06, device='cuda:5')\n",
      "tensor(-2.2600e-10, device='cuda:5')\n",
      "tensor(-3.7281e-10, device='cuda:5')\n"
     ]
    },
    {
     "data": {
      "application/vnd.jupyter.widget-view+json": {
       "model_id": "f9b2218f053c4bbc8bfd7c312e9445e3",
       "version_major": 2,
       "version_minor": 0
      },
      "text/plain": [
       "HBox(children=(FloatProgress(value=0.0, max=42.0), HTML(value='')))"
      ]
     },
     "metadata": {},
     "output_type": "display_data"
    },
    {
     "name": "stdout",
     "output_type": "stream",
     "text": [
      "\n",
      "epoch time: 133.14477586746216\n",
      "mean loss train: 0.01205647500369343, mean loss val: 0.1875062903676714\n",
      "accuracy train: 0.995904761904762, accuracy val: 0.9615238095238096\n",
      "---------------------------------------------------------------------------------------------------\n",
      "Epoch: 69, Learning Rate: 0.00025\n",
      "\n"
     ]
    },
    {
     "data": {
      "application/vnd.jupyter.widget-view+json": {
       "model_id": "5c1f40aa2d4548ffac1cbdd18d3e7c32",
       "version_major": 2,
       "version_minor": 0
      },
      "text/plain": [
       "HBox(children=(FloatProgress(value=0.0, max=657.0), HTML(value='')))"
      ]
     },
     "metadata": {},
     "output_type": "display_data"
    },
    {
     "name": "stdout",
     "output_type": "stream",
     "text": [
      "\n",
      "tensor(5.5947e-05, device='cuda:5')\n",
      "tensor(2.8340e-06, device='cuda:5')\n",
      "tensor(0.0014, device='cuda:5')\n",
      "tensor(0.0014, device='cuda:5')\n",
      "tensor(-9.5217e-06, device='cuda:5')\n",
      "tensor(5.5874e-07, device='cuda:5')\n",
      "tensor(0.0004, device='cuda:5')\n",
      "tensor(0.0004, device='cuda:5')\n",
      "tensor(8.3041e-07, device='cuda:5')\n",
      "tensor(-4.5867e-10, device='cuda:5')\n",
      "tensor(0.0004, device='cuda:5')\n",
      "tensor(0.0004, device='cuda:5')\n",
      "tensor(-1.1999e-07, device='cuda:5')\n",
      "tensor(0., device='cuda:5')\n",
      "tensor(-2.8261e-05, device='cuda:5')\n",
      "tensor(-2.8261e-05, device='cuda:5')\n",
      "tensor(-1.2826e-06, device='cuda:5')\n",
      "tensor(0.0002, device='cuda:5')\n",
      "tensor(5.8356e-10, device='cuda:5')\n",
      "tensor(7.0958e-10, device='cuda:5')\n"
     ]
    },
    {
     "data": {
      "application/vnd.jupyter.widget-view+json": {
       "model_id": "fe2a384c156845e6b3634c3e2e9ee141",
       "version_major": 2,
       "version_minor": 0
      },
      "text/plain": [
       "HBox(children=(FloatProgress(value=0.0, max=42.0), HTML(value='')))"
      ]
     },
     "metadata": {},
     "output_type": "display_data"
    },
    {
     "name": "stdout",
     "output_type": "stream",
     "text": [
      "\n",
      "epoch time: 134.9158136844635\n",
      "mean loss train: 0.013597941046403278, mean loss val: 0.14976121120225816\n",
      "accuracy train: 0.9950476190476191, accuracy val: 0.9638095238095238\n",
      "---------------------------------------------------------------------------------------------------\n",
      "Epoch: 70, Learning Rate: 0.00025\n",
      "\n"
     ]
    },
    {
     "data": {
      "application/vnd.jupyter.widget-view+json": {
       "model_id": "d02acd54ecd54d6085665577aa0ab1b4",
       "version_major": 2,
       "version_minor": 0
      },
      "text/plain": [
       "HBox(children=(FloatProgress(value=0.0, max=657.0), HTML(value='')))"
      ]
     },
     "metadata": {},
     "output_type": "display_data"
    },
    {
     "name": "stdout",
     "output_type": "stream",
     "text": [
      "\n",
      "tensor(1.5615e-09, device='cuda:5')\n",
      "tensor(-1.4749e-10, device='cuda:5')\n",
      "tensor(-1.3762e-07, device='cuda:5')\n",
      "tensor(-1.3762e-07, device='cuda:5')\n",
      "tensor(-1.7374e-09, device='cuda:5')\n",
      "tensor(-1.0684e-09, device='cuda:5')\n",
      "tensor(-2.4279e-09, device='cuda:5')\n",
      "tensor(-2.4279e-09, device='cuda:5')\n",
      "tensor(4.4676e-10, device='cuda:5')\n",
      "tensor(-2.0073e-09, device='cuda:5')\n",
      "tensor(-1.2711e-07, device='cuda:5')\n",
      "tensor(-1.2711e-07, device='cuda:5')\n",
      "tensor(-1.9839e-10, device='cuda:5')\n",
      "tensor(0., device='cuda:5')\n",
      "tensor(2.5886e-08, device='cuda:5')\n",
      "tensor(2.5886e-08, device='cuda:5')\n",
      "tensor(-1.0339e-09, device='cuda:5')\n",
      "tensor(-4.5414e-07, device='cuda:5')\n",
      "tensor(7.7871e-11, device='cuda:5')\n",
      "tensor(-9.4744e-11, device='cuda:5')\n"
     ]
    },
    {
     "data": {
      "application/vnd.jupyter.widget-view+json": {
       "model_id": "4a4f6e5951dc4e1981085f0c2b81eca3",
       "version_major": 2,
       "version_minor": 0
      },
      "text/plain": [
       "HBox(children=(FloatProgress(value=0.0, max=42.0), HTML(value='')))"
      ]
     },
     "metadata": {},
     "output_type": "display_data"
    },
    {
     "name": "stdout",
     "output_type": "stream",
     "text": [
      "\n",
      "epoch time: 134.7992296218872\n",
      "mean loss train: 0.012352262489320268, mean loss val: 0.15356775106134868\n",
      "accuracy train: 0.9958095238095238, accuracy val: 0.9634285714285714\n",
      "---------------------------------------------------------------------------------------------------\n",
      "Epoch: 71, Learning Rate: 0.00025\n",
      "\n"
     ]
    },
    {
     "data": {
      "application/vnd.jupyter.widget-view+json": {
       "model_id": "8a562259d7fe4a86ac138ff7b5f02267",
       "version_major": 2,
       "version_minor": 0
      },
      "text/plain": [
       "HBox(children=(FloatProgress(value=0.0, max=657.0), HTML(value='')))"
      ]
     },
     "metadata": {},
     "output_type": "display_data"
    },
    {
     "name": "stdout",
     "output_type": "stream",
     "text": [
      "\n",
      "tensor(-0.0001, device='cuda:5')\n",
      "tensor(-2.2753e-05, device='cuda:5')\n",
      "tensor(0.0027, device='cuda:5')\n",
      "tensor(0.0027, device='cuda:5')\n",
      "tensor(-8.3447e-05, device='cuda:5')\n",
      "tensor(2.0291e-06, device='cuda:5')\n",
      "tensor(0.0036, device='cuda:5')\n",
      "tensor(0.0036, device='cuda:5')\n",
      "tensor(-1.0775e-06, device='cuda:5')\n",
      "tensor(1.1342e-05, device='cuda:5')\n",
      "tensor(0.0020, device='cuda:5')\n",
      "tensor(0.0020, device='cuda:5')\n",
      "tensor(-9.5341e-09, device='cuda:5')\n",
      "tensor(0., device='cuda:5')\n",
      "tensor(2.0002e-05, device='cuda:5')\n",
      "tensor(2.0002e-05, device='cuda:5')\n",
      "tensor(5.7133e-06, device='cuda:5')\n",
      "tensor(0.0006, device='cuda:5')\n",
      "tensor(-9.3678e-10, device='cuda:5')\n",
      "tensor(-1.9513e-09, device='cuda:5')\n"
     ]
    },
    {
     "data": {
      "application/vnd.jupyter.widget-view+json": {
       "model_id": "79165469ccb049fa93230d1b59b6398e",
       "version_major": 2,
       "version_minor": 0
      },
      "text/plain": [
       "HBox(children=(FloatProgress(value=0.0, max=42.0), HTML(value='')))"
      ]
     },
     "metadata": {},
     "output_type": "display_data"
    },
    {
     "name": "stdout",
     "output_type": "stream",
     "text": [
      "\n",
      "epoch time: 133.65046906471252\n",
      "mean loss train: 0.010631777969055942, mean loss val: 0.17392056336857023\n",
      "accuracy train: 0.9960714285714286, accuracy val: 0.962\n",
      "---------------------------------------------------------------------------------------------------\n",
      "Epoch: 72, Learning Rate: 0.00025\n",
      "\n"
     ]
    },
    {
     "data": {
      "application/vnd.jupyter.widget-view+json": {
       "model_id": "68e1d8ab671949609e62c887bab71980",
       "version_major": 2,
       "version_minor": 0
      },
      "text/plain": [
       "HBox(children=(FloatProgress(value=0.0, max=657.0), HTML(value='')))"
      ]
     },
     "metadata": {},
     "output_type": "display_data"
    },
    {
     "name": "stdout",
     "output_type": "stream",
     "text": [
      "\n",
      "tensor(1.7460e-13, device='cuda:5')\n",
      "tensor(-1.0403e-14, device='cuda:5')\n",
      "tensor(-1.3971e-13, device='cuda:5')\n",
      "tensor(-1.3971e-13, device='cuda:5')\n",
      "tensor(4.2123e-13, device='cuda:5')\n",
      "tensor(6.6387e-14, device='cuda:5')\n",
      "tensor(3.1601e-12, device='cuda:5')\n",
      "tensor(3.1601e-12, device='cuda:5')\n",
      "tensor(-3.0043e-14, device='cuda:5')\n",
      "tensor(2.0749e-14, device='cuda:5')\n",
      "tensor(-3.1124e-12, device='cuda:5')\n",
      "tensor(-3.1124e-12, device='cuda:5')\n",
      "tensor(-2.4650e-14, device='cuda:5')\n",
      "tensor(0., device='cuda:5')\n",
      "tensor(-9.2177e-13, device='cuda:5')\n",
      "tensor(-9.2177e-13, device='cuda:5')\n",
      "tensor(1.6448e-13, device='cuda:5')\n",
      "tensor(-3.9538e-11, device='cuda:5')\n",
      "tensor(4.6914e-11, device='cuda:5')\n",
      "tensor(3.6676e-11, device='cuda:5')\n"
     ]
    },
    {
     "data": {
      "application/vnd.jupyter.widget-view+json": {
       "model_id": "0e70fac7c12547cfaaefdf4ac18f6621",
       "version_major": 2,
       "version_minor": 0
      },
      "text/plain": [
       "HBox(children=(FloatProgress(value=0.0, max=42.0), HTML(value='')))"
      ]
     },
     "metadata": {},
     "output_type": "display_data"
    },
    {
     "name": "stdout",
     "output_type": "stream",
     "text": [
      "\n",
      "epoch time: 135.01121830940247\n",
      "mean loss train: 0.010114507971686266, mean loss val: 0.17397067802009128\n",
      "accuracy train: 0.9963809523809524, accuracy val: 0.9628571428571429\n",
      "---------------------------------------------------------------------------------------------------\n",
      "Epoch: 73, Learning Rate: 0.00025\n",
      "\n"
     ]
    },
    {
     "data": {
      "application/vnd.jupyter.widget-view+json": {
       "model_id": "db8554d203874ca3aab9782652946a1d",
       "version_major": 2,
       "version_minor": 0
      },
      "text/plain": [
       "HBox(children=(FloatProgress(value=0.0, max=657.0), HTML(value='')))"
      ]
     },
     "metadata": {},
     "output_type": "display_data"
    },
    {
     "name": "stdout",
     "output_type": "stream",
     "text": [
      "\n",
      "tensor(0.0001, device='cuda:5')\n",
      "tensor(-3.2132e-06, device='cuda:5')\n",
      "tensor(-0.0024, device='cuda:5')\n",
      "tensor(-0.0024, device='cuda:5')\n",
      "tensor(6.3177e-05, device='cuda:5')\n",
      "tensor(-2.9491e-06, device='cuda:5')\n",
      "tensor(-0.0015, device='cuda:5')\n",
      "tensor(-0.0015, device='cuda:5')\n",
      "tensor(-4.4879e-07, device='cuda:5')\n",
      "tensor(-2.5714e-06, device='cuda:5')\n",
      "tensor(-0.0006, device='cuda:5')\n",
      "tensor(-0.0006, device='cuda:5')\n",
      "tensor(-3.6026e-10, device='cuda:5')\n",
      "tensor(0., device='cuda:5')\n",
      "tensor(-1.9549e-07, device='cuda:5')\n",
      "tensor(-1.9549e-07, device='cuda:5')\n",
      "tensor(1.8486e-06, device='cuda:5')\n",
      "tensor(-0.0005, device='cuda:5')\n",
      "tensor(1.3879e-11, device='cuda:5')\n",
      "tensor(0., device='cuda:5')\n"
     ]
    },
    {
     "data": {
      "application/vnd.jupyter.widget-view+json": {
       "model_id": "9e7242ad5dc1487eb86c7dc21b02e043",
       "version_major": 2,
       "version_minor": 0
      },
      "text/plain": [
       "HBox(children=(FloatProgress(value=0.0, max=42.0), HTML(value='')))"
      ]
     },
     "metadata": {},
     "output_type": "display_data"
    },
    {
     "name": "stdout",
     "output_type": "stream",
     "text": [
      "\n",
      "epoch time: 133.53217363357544\n",
      "mean loss train: 0.011466312493641106, mean loss val: 0.1728859464810008\n",
      "accuracy train: 0.9958095238095238, accuracy val: 0.9614285714285714\n",
      "---------------------------------------------------------------------------------------------------\n",
      "Epoch: 74, Learning Rate: 0.00025\n",
      "\n"
     ]
    },
    {
     "data": {
      "application/vnd.jupyter.widget-view+json": {
       "model_id": "55a50639b40a45099a1fb0b1ad0bae6e",
       "version_major": 2,
       "version_minor": 0
      },
      "text/plain": [
       "HBox(children=(FloatProgress(value=0.0, max=657.0), HTML(value='')))"
      ]
     },
     "metadata": {},
     "output_type": "display_data"
    },
    {
     "name": "stdout",
     "output_type": "stream",
     "text": [
      "\n",
      "tensor(1.1958e-05, device='cuda:5')\n",
      "tensor(1.9239e-08, device='cuda:5')\n",
      "tensor(0.0004, device='cuda:5')\n",
      "tensor(0.0004, device='cuda:5')\n",
      "tensor(-3.5171e-06, device='cuda:5')\n",
      "tensor(1.2284e-07, device='cuda:5')\n",
      "tensor(4.8966e-05, device='cuda:5')\n",
      "tensor(4.8966e-05, device='cuda:5')\n",
      "tensor(6.3161e-08, device='cuda:5')\n",
      "tensor(2.3933e-07, device='cuda:5')\n",
      "tensor(9.1503e-05, device='cuda:5')\n",
      "tensor(9.1503e-05, device='cuda:5')\n",
      "tensor(3.3382e-09, device='cuda:5')\n",
      "tensor(0., device='cuda:5')\n",
      "tensor(-5.7310e-06, device='cuda:5')\n",
      "tensor(-5.7310e-06, device='cuda:5')\n",
      "tensor(5.1749e-07, device='cuda:5')\n",
      "tensor(-0.0002, device='cuda:5')\n",
      "tensor(1.7096e-09, device='cuda:5')\n",
      "tensor(1.7296e-09, device='cuda:5')\n"
     ]
    },
    {
     "data": {
      "application/vnd.jupyter.widget-view+json": {
       "model_id": "08c34a8edccc492e8e143a5a6ea71699",
       "version_major": 2,
       "version_minor": 0
      },
      "text/plain": [
       "HBox(children=(FloatProgress(value=0.0, max=42.0), HTML(value='')))"
      ]
     },
     "metadata": {},
     "output_type": "display_data"
    },
    {
     "name": "stdout",
     "output_type": "stream",
     "text": [
      "\n",
      "epoch time: 133.51680374145508\n",
      "mean loss train: 0.009449309975130573, mean loss val: 0.17320462821956192\n",
      "accuracy train: 0.9966666666666667, accuracy val: 0.9624761904761905\n",
      "---------------------------------------------------------------------------------------------------\n",
      "Epoch: 75, Learning Rate: 0.000125\n",
      "\n"
     ]
    },
    {
     "data": {
      "application/vnd.jupyter.widget-view+json": {
       "model_id": "16c261c9226c41ccb46962971e207935",
       "version_major": 2,
       "version_minor": 0
      },
      "text/plain": [
       "HBox(children=(FloatProgress(value=0.0, max=657.0), HTML(value='')))"
      ]
     },
     "metadata": {},
     "output_type": "display_data"
    },
    {
     "name": "stdout",
     "output_type": "stream",
     "text": [
      "\n",
      "tensor(2.4737e-08, device='cuda:5')\n",
      "tensor(3.5945e-08, device='cuda:5')\n",
      "tensor(1.2160e-05, device='cuda:5')\n",
      "tensor(1.2160e-05, device='cuda:5')\n",
      "tensor(-4.9738e-07, device='cuda:5')\n",
      "tensor(-3.0827e-09, device='cuda:5')\n",
      "tensor(2.1642e-06, device='cuda:5')\n",
      "tensor(2.1642e-06, device='cuda:5')\n",
      "tensor(2.9744e-09, device='cuda:5')\n",
      "tensor(8.1209e-10, device='cuda:5')\n",
      "tensor(1.3910e-06, device='cuda:5')\n",
      "tensor(1.3910e-06, device='cuda:5')\n",
      "tensor(-3.4674e-09, device='cuda:5')\n",
      "tensor(0., device='cuda:5')\n",
      "tensor(-5.2622e-07, device='cuda:5')\n",
      "tensor(-5.2622e-07, device='cuda:5')\n",
      "tensor(-1.1046e-08, device='cuda:5')\n",
      "tensor(-7.8209e-06, device='cuda:5')\n",
      "tensor(1.3829e-09, device='cuda:5')\n",
      "tensor(1.0782e-09, device='cuda:5')\n"
     ]
    },
    {
     "data": {
      "application/vnd.jupyter.widget-view+json": {
       "model_id": "a208562a7ace4702a27ccce76c723b39",
       "version_major": 2,
       "version_minor": 0
      },
      "text/plain": [
       "HBox(children=(FloatProgress(value=0.0, max=42.0), HTML(value='')))"
      ]
     },
     "metadata": {},
     "output_type": "display_data"
    },
    {
     "name": "stdout",
     "output_type": "stream",
     "text": [
      "\n",
      "epoch time: 133.65203762054443\n",
      "mean loss train: 0.005885102197439188, mean loss val: 0.21878114995644207\n",
      "accuracy train: 0.9979761904761905, accuracy val: 0.9602857142857143\n",
      "---------------------------------------------------------------------------------------------------\n",
      "Epoch: 76, Learning Rate: 0.000125\n",
      "\n"
     ]
    },
    {
     "data": {
      "application/vnd.jupyter.widget-view+json": {
       "model_id": "3f883c05266c45228e78cb7aba0d74ef",
       "version_major": 2,
       "version_minor": 0
      },
      "text/plain": [
       "HBox(children=(FloatProgress(value=0.0, max=657.0), HTML(value='')))"
      ]
     },
     "metadata": {},
     "output_type": "display_data"
    },
    {
     "name": "stdout",
     "output_type": "stream",
     "text": [
      "\n",
      "tensor(-1.3787e-11, device='cuda:5')\n",
      "tensor(1.8667e-13, device='cuda:5')\n",
      "tensor(-3.6747e-10, device='cuda:5')\n",
      "tensor(-3.6747e-10, device='cuda:5')\n",
      "tensor(6.7311e-12, device='cuda:5')\n",
      "tensor(-4.2761e-13, device='cuda:5')\n",
      "tensor(2.0411e-10, device='cuda:5')\n",
      "tensor(2.0411e-10, device='cuda:5')\n",
      "tensor(-3.0297e-13, device='cuda:5')\n",
      "tensor(-9.2769e-14, device='cuda:5')\n",
      "tensor(-5.2398e-11, device='cuda:5')\n",
      "tensor(-5.2398e-11, device='cuda:5')\n",
      "tensor(-5.2984e-14, device='cuda:5')\n",
      "tensor(0., device='cuda:5')\n",
      "tensor(-2.1700e-11, device='cuda:5')\n",
      "tensor(-2.1700e-11, device='cuda:5')\n",
      "tensor(8.9455e-13, device='cuda:5')\n",
      "tensor(-1.1749e-09, device='cuda:5')\n",
      "tensor(8.7013e-10, device='cuda:5')\n",
      "tensor(1.2683e-09, device='cuda:5')\n"
     ]
    },
    {
     "data": {
      "application/vnd.jupyter.widget-view+json": {
       "model_id": "967bace932804c308681bedbe1bd34ee",
       "version_major": 2,
       "version_minor": 0
      },
      "text/plain": [
       "HBox(children=(FloatProgress(value=0.0, max=42.0), HTML(value='')))"
      ]
     },
     "metadata": {},
     "output_type": "display_data"
    },
    {
     "name": "stdout",
     "output_type": "stream",
     "text": [
      "\n",
      "epoch time: 136.49353337287903\n",
      "mean loss train: 0.00386056194099642, mean loss val: 0.2144928873521941\n",
      "accuracy train: 0.9988095238095238, accuracy val: 0.9616190476190476\n",
      "---------------------------------------------------------------------------------------------------\n",
      "Epoch: 77, Learning Rate: 0.000125\n",
      "\n"
     ]
    },
    {
     "data": {
      "application/vnd.jupyter.widget-view+json": {
       "model_id": "828373da11de436ea8e66454563ca73d",
       "version_major": 2,
       "version_minor": 0
      },
      "text/plain": [
       "HBox(children=(FloatProgress(value=0.0, max=657.0), HTML(value='')))"
      ]
     },
     "metadata": {},
     "output_type": "display_data"
    },
    {
     "name": "stdout",
     "output_type": "stream",
     "text": [
      "\n",
      "tensor(-3.4880e-12, device='cuda:5')\n",
      "tensor(1.1921e-12, device='cuda:5')\n",
      "tensor(5.9741e-11, device='cuda:5')\n",
      "tensor(5.9741e-11, device='cuda:5')\n",
      "tensor(2.5877e-12, device='cuda:5')\n",
      "tensor(-7.6497e-14, device='cuda:5')\n",
      "tensor(2.4413e-11, device='cuda:5')\n",
      "tensor(2.4413e-11, device='cuda:5')\n",
      "tensor(6.3991e-14, device='cuda:5')\n",
      "tensor(-2.9031e-13, device='cuda:5')\n",
      "tensor(-3.6615e-11, device='cuda:5')\n",
      "tensor(-3.6615e-11, device='cuda:5')\n",
      "tensor(3.7822e-14, device='cuda:5')\n",
      "tensor(0., device='cuda:5')\n",
      "tensor(-1.8061e-11, device='cuda:5')\n",
      "tensor(-1.8061e-11, device='cuda:5')\n",
      "tensor(-1.0499e-12, device='cuda:5')\n",
      "tensor(-3.0351e-10, device='cuda:5')\n",
      "tensor(1.6461e-09, device='cuda:5')\n",
      "tensor(1.2892e-09, device='cuda:5')\n"
     ]
    },
    {
     "data": {
      "application/vnd.jupyter.widget-view+json": {
       "model_id": "851ac98b0fa14f4e8d0a69aed6564e57",
       "version_major": 2,
       "version_minor": 0
      },
      "text/plain": [
       "HBox(children=(FloatProgress(value=0.0, max=42.0), HTML(value='')))"
      ]
     },
     "metadata": {},
     "output_type": "display_data"
    },
    {
     "name": "stdout",
     "output_type": "stream",
     "text": [
      "\n",
      "epoch time: 134.34295392036438\n",
      "mean loss train: 0.0036859597153739913, mean loss val: 0.23649822217793692\n",
      "accuracy train: 0.9988809523809524, accuracy val: 0.9621904761904762\n",
      "---------------------------------------------------------------------------------------------------\n",
      "Epoch: 78, Learning Rate: 0.000125\n",
      "\n"
     ]
    },
    {
     "data": {
      "application/vnd.jupyter.widget-view+json": {
       "model_id": "f346e32df7b04eb7ab0bd9d85f31356e",
       "version_major": 2,
       "version_minor": 0
      },
      "text/plain": [
       "HBox(children=(FloatProgress(value=0.0, max=657.0), HTML(value='')))"
      ]
     },
     "metadata": {},
     "output_type": "display_data"
    },
    {
     "name": "stdout",
     "output_type": "stream",
     "text": [
      "\n",
      "tensor(-8.8419e-09, device='cuda:5')\n",
      "tensor(9.7775e-11, device='cuda:5')\n",
      "tensor(-1.9394e-07, device='cuda:5')\n",
      "tensor(-1.9394e-07, device='cuda:5')\n",
      "tensor(4.5493e-10, device='cuda:5')\n",
      "tensor(-7.6769e-12, device='cuda:5')\n",
      "tensor(-8.4056e-09, device='cuda:5')\n",
      "tensor(-8.4056e-09, device='cuda:5')\n",
      "tensor(-7.6885e-11, device='cuda:5')\n",
      "tensor(-9.4581e-10, device='cuda:5')\n",
      "tensor(-6.9445e-08, device='cuda:5')\n",
      "tensor(-6.9445e-08, device='cuda:5')\n",
      "tensor(2.5901e-11, device='cuda:5')\n",
      "tensor(0., device='cuda:5')\n",
      "tensor(7.9961e-09, device='cuda:5')\n",
      "tensor(7.9961e-09, device='cuda:5')\n",
      "tensor(-2.6306e-09, device='cuda:5')\n",
      "tensor(-2.8912e-07, device='cuda:5')\n",
      "tensor(-7.1427e-11, device='cuda:5')\n",
      "tensor(-1.4034e-10, device='cuda:5')\n"
     ]
    },
    {
     "data": {
      "application/vnd.jupyter.widget-view+json": {
       "model_id": "0a9f43ad4b1747ad857492c37f9ae0ee",
       "version_major": 2,
       "version_minor": 0
      },
      "text/plain": [
       "HBox(children=(FloatProgress(value=0.0, max=42.0), HTML(value='')))"
      ]
     },
     "metadata": {},
     "output_type": "display_data"
    },
    {
     "name": "stdout",
     "output_type": "stream",
     "text": [
      "\n",
      "epoch time: 135.20783638954163\n",
      "mean loss train: 0.0037055618421928515, mean loss val: 0.2121666143054054\n",
      "accuracy train: 0.9987619047619047, accuracy val: 0.9643809523809523\n",
      "---------------------------------------------------------------------------------------------------\n",
      "Epoch: 79, Learning Rate: 0.000125\n",
      "\n"
     ]
    },
    {
     "data": {
      "application/vnd.jupyter.widget-view+json": {
       "model_id": "a7c173736c464bb1b8d7f7d561597880",
       "version_major": 2,
       "version_minor": 0
      },
      "text/plain": [
       "HBox(children=(FloatProgress(value=0.0, max=657.0), HTML(value='')))"
      ]
     },
     "metadata": {},
     "output_type": "display_data"
    },
    {
     "name": "stdout",
     "output_type": "stream",
     "text": [
      "\n",
      "tensor(1.3558e-06, device='cuda:5')\n",
      "tensor(-1.2717e-08, device='cuda:5')\n",
      "tensor(2.3779e-05, device='cuda:5')\n",
      "tensor(2.3779e-05, device='cuda:5')\n",
      "tensor(-7.6824e-07, device='cuda:5')\n",
      "tensor(1.9318e-08, device='cuda:5')\n",
      "tensor(1.5057e-05, device='cuda:5')\n",
      "tensor(1.5057e-05, device='cuda:5')\n",
      "tensor(-1.2424e-08, device='cuda:5')\n",
      "tensor(8.5315e-08, device='cuda:5')\n",
      "tensor(1.0698e-05, device='cuda:5')\n",
      "tensor(1.0698e-05, device='cuda:5')\n",
      "tensor(-1.5436e-11, device='cuda:5')\n",
      "tensor(0., device='cuda:5')\n",
      "tensor(1.5419e-08, device='cuda:5')\n",
      "tensor(1.5419e-08, device='cuda:5')\n",
      "tensor(-5.2277e-08, device='cuda:5')\n",
      "tensor(-1.5190e-05, device='cuda:5')\n",
      "tensor(1.8910e-10, device='cuda:5')\n",
      "tensor(2.4530e-10, device='cuda:5')\n"
     ]
    },
    {
     "data": {
      "application/vnd.jupyter.widget-view+json": {
       "model_id": "de0d1036048a4108b6212ecc9d31f9c6",
       "version_major": 2,
       "version_minor": 0
      },
      "text/plain": [
       "HBox(children=(FloatProgress(value=0.0, max=42.0), HTML(value='')))"
      ]
     },
     "metadata": {},
     "output_type": "display_data"
    },
    {
     "name": "stdout",
     "output_type": "stream",
     "text": [
      "\n",
      "epoch time: 134.38317918777466\n",
      "mean loss train: 0.003989676769046734, mean loss val: 0.230248593103318\n",
      "accuracy train: 0.9986904761904762, accuracy val: 0.9612380952380952\n",
      "---------------------------------------------------------------------------------------------------\n",
      "Epoch: 80, Learning Rate: 0.000125\n",
      "\n"
     ]
    },
    {
     "data": {
      "application/vnd.jupyter.widget-view+json": {
       "model_id": "bc4fbf9bec1640d58b55698dcb620be1",
       "version_major": 2,
       "version_minor": 0
      },
      "text/plain": [
       "HBox(children=(FloatProgress(value=0.0, max=657.0), HTML(value='')))"
      ]
     },
     "metadata": {},
     "output_type": "display_data"
    },
    {
     "name": "stdout",
     "output_type": "stream",
     "text": [
      "\n",
      "tensor(1.3925e-11, device='cuda:5')\n",
      "tensor(-2.6247e-11, device='cuda:5')\n",
      "tensor(-5.5228e-10, device='cuda:5')\n",
      "tensor(-5.5228e-10, device='cuda:5')\n",
      "tensor(7.2931e-12, device='cuda:5')\n",
      "tensor(-2.4198e-12, device='cuda:5')\n",
      "tensor(1.0739e-10, device='cuda:5')\n",
      "tensor(1.0739e-10, device='cuda:5')\n",
      "tensor(-9.2391e-12, device='cuda:5')\n",
      "tensor(-1.3368e-11, device='cuda:5')\n",
      "tensor(-2.5029e-10, device='cuda:5')\n",
      "tensor(-2.5029e-10, device='cuda:5')\n",
      "tensor(-2.4313e-12, device='cuda:5')\n",
      "tensor(0., device='cuda:5')\n",
      "tensor(-8.4478e-11, device='cuda:5')\n",
      "tensor(-8.4478e-11, device='cuda:5')\n",
      "tensor(-5.3112e-11, device='cuda:5')\n",
      "tensor(-3.0195e-09, device='cuda:5')\n",
      "tensor(4.2968e-10, device='cuda:5')\n",
      "tensor(3.4176e-10, device='cuda:5')\n"
     ]
    },
    {
     "data": {
      "application/vnd.jupyter.widget-view+json": {
       "model_id": "07543d243d984702a7aec02eae0989ef",
       "version_major": 2,
       "version_minor": 0
      },
      "text/plain": [
       "HBox(children=(FloatProgress(value=0.0, max=42.0), HTML(value='')))"
      ]
     },
     "metadata": {},
     "output_type": "display_data"
    },
    {
     "name": "stdout",
     "output_type": "stream",
     "text": [
      "\n",
      "epoch time: 133.76668453216553\n",
      "mean loss train: 0.0033083539697829458, mean loss val: 0.2266681878396443\n",
      "accuracy train: 0.9989761904761905, accuracy val: 0.9627619047619047\n",
      "---------------------------------------------------------------------------------------------------\n",
      "Epoch: 81, Learning Rate: 0.000125\n",
      "\n"
     ]
    },
    {
     "data": {
      "application/vnd.jupyter.widget-view+json": {
       "model_id": "ee1246838f1e446bbeacf9a51966a5d3",
       "version_major": 2,
       "version_minor": 0
      },
      "text/plain": [
       "HBox(children=(FloatProgress(value=0.0, max=657.0), HTML(value='')))"
      ]
     },
     "metadata": {},
     "output_type": "display_data"
    },
    {
     "name": "stdout",
     "output_type": "stream",
     "text": [
      "\n",
      "tensor(2.4299e-06, device='cuda:5')\n",
      "tensor(1.7126e-07, device='cuda:5')\n",
      "tensor(-1.8914e-05, device='cuda:5')\n",
      "tensor(-1.8914e-05, device='cuda:5')\n",
      "tensor(-2.4542e-06, device='cuda:5')\n",
      "tensor(1.9590e-07, device='cuda:5')\n",
      "tensor(4.9848e-05, device='cuda:5')\n",
      "tensor(4.9848e-05, device='cuda:5')\n",
      "tensor(-5.4936e-09, device='cuda:5')\n",
      "tensor(1.4864e-07, device='cuda:5')\n",
      "tensor(3.8196e-05, device='cuda:5')\n",
      "tensor(3.8196e-05, device='cuda:5')\n",
      "tensor(-2.4597e-09, device='cuda:5')\n",
      "tensor(0., device='cuda:5')\n",
      "tensor(-1.1330e-06, device='cuda:5')\n",
      "tensor(-1.1330e-06, device='cuda:5')\n",
      "tensor(3.0237e-08, device='cuda:5')\n",
      "tensor(-3.3790e-05, device='cuda:5')\n",
      "tensor(2.1299e-10, device='cuda:5')\n",
      "tensor(1.2473e-10, device='cuda:5')\n"
     ]
    },
    {
     "data": {
      "application/vnd.jupyter.widget-view+json": {
       "model_id": "786e1a27bc2e4e7a8b7e1b41feee35a0",
       "version_major": 2,
       "version_minor": 0
      },
      "text/plain": [
       "HBox(children=(FloatProgress(value=0.0, max=42.0), HTML(value='')))"
      ]
     },
     "metadata": {},
     "output_type": "display_data"
    },
    {
     "name": "stdout",
     "output_type": "stream",
     "text": [
      "\n",
      "epoch time: 134.75261545181274\n",
      "mean loss train: 0.004155962062245678, mean loss val: 0.2154403012166066\n",
      "accuracy train: 0.9986904761904762, accuracy val: 0.9644761904761905\n",
      "---------------------------------------------------------------------------------------------------\n",
      "Epoch: 82, Learning Rate: 0.000125\n",
      "\n"
     ]
    },
    {
     "data": {
      "application/vnd.jupyter.widget-view+json": {
       "model_id": "77ecc055a43a42b0ba83ee5faced4acc",
       "version_major": 2,
       "version_minor": 0
      },
      "text/plain": [
       "HBox(children=(FloatProgress(value=0.0, max=657.0), HTML(value='')))"
      ]
     },
     "metadata": {},
     "output_type": "display_data"
    },
    {
     "name": "stdout",
     "output_type": "stream",
     "text": [
      "\n",
      "tensor(-1.0882e-06, device='cuda:5')\n",
      "tensor(2.7213e-08, device='cuda:5')\n",
      "tensor(1.6690e-05, device='cuda:5')\n",
      "tensor(1.6690e-05, device='cuda:5')\n",
      "tensor(3.8248e-07, device='cuda:5')\n",
      "tensor(-9.5994e-10, device='cuda:5')\n",
      "tensor(2.6215e-06, device='cuda:5')\n",
      "tensor(2.6215e-06, device='cuda:5')\n",
      "tensor(2.3326e-09, device='cuda:5')\n",
      "tensor(2.5770e-09, device='cuda:5')\n",
      "tensor(6.7277e-07, device='cuda:5')\n",
      "tensor(6.7277e-07, device='cuda:5')\n",
      "tensor(-8.2958e-10, device='cuda:5')\n",
      "tensor(0., device='cuda:5')\n",
      "tensor(-1.7547e-07, device='cuda:5')\n",
      "tensor(-1.7547e-07, device='cuda:5')\n",
      "tensor(3.7496e-09, device='cuda:5')\n",
      "tensor(-4.3059e-06, device='cuda:5')\n",
      "tensor(-1.3342e-11, device='cuda:5')\n",
      "tensor(-1.2300e-10, device='cuda:5')\n"
     ]
    },
    {
     "data": {
      "application/vnd.jupyter.widget-view+json": {
       "model_id": "ea7c0788ff2745c796292ba283b6867a",
       "version_major": 2,
       "version_minor": 0
      },
      "text/plain": [
       "HBox(children=(FloatProgress(value=0.0, max=42.0), HTML(value='')))"
      ]
     },
     "metadata": {},
     "output_type": "display_data"
    },
    {
     "name": "stdout",
     "output_type": "stream",
     "text": [
      "\n",
      "epoch time: 133.92423105239868\n",
      "mean loss train: 0.004253234867322524, mean loss val: 0.21875161111824923\n",
      "accuracy train: 0.9985, accuracy val: 0.9647619047619047\n",
      "---------------------------------------------------------------------------------------------------\n",
      "Epoch: 83, Learning Rate: 0.000125\n",
      "\n"
     ]
    },
    {
     "data": {
      "application/vnd.jupyter.widget-view+json": {
       "model_id": "cf1de4b705fe49f0aa31540422b067ca",
       "version_major": 2,
       "version_minor": 0
      },
      "text/plain": [
       "HBox(children=(FloatProgress(value=0.0, max=657.0), HTML(value='')))"
      ]
     },
     "metadata": {},
     "output_type": "display_data"
    },
    {
     "name": "stdout",
     "output_type": "stream",
     "text": [
      "\n",
      "tensor(-7.4349e-05, device='cuda:5')\n",
      "tensor(1.5577e-06, device='cuda:5')\n",
      "tensor(0.0006, device='cuda:5')\n",
      "tensor(0.0006, device='cuda:5')\n",
      "tensor(-3.7873e-06, device='cuda:5')\n",
      "tensor(1.8563e-07, device='cuda:5')\n",
      "tensor(0.0003, device='cuda:5')\n",
      "tensor(0.0003, device='cuda:5')\n",
      "tensor(4.4469e-09, device='cuda:5')\n",
      "tensor(7.5352e-07, device='cuda:5')\n",
      "tensor(0.0002, device='cuda:5')\n",
      "tensor(0.0002, device='cuda:5')\n",
      "tensor(-3.2102e-09, device='cuda:5')\n",
      "tensor(0., device='cuda:5')\n",
      "tensor(7.9614e-06, device='cuda:5')\n",
      "tensor(7.9614e-06, device='cuda:5')\n",
      "tensor(-8.6544e-08, device='cuda:5')\n",
      "tensor(-0.0001, device='cuda:5')\n",
      "tensor(1.0977e-09, device='cuda:5')\n",
      "tensor(1.3970e-09, device='cuda:5')\n"
     ]
    },
    {
     "data": {
      "application/vnd.jupyter.widget-view+json": {
       "model_id": "2b68ea5768044895b0c800483af53827",
       "version_major": 2,
       "version_minor": 0
      },
      "text/plain": [
       "HBox(children=(FloatProgress(value=0.0, max=42.0), HTML(value='')))"
      ]
     },
     "metadata": {},
     "output_type": "display_data"
    },
    {
     "name": "stdout",
     "output_type": "stream",
     "text": [
      "\n",
      "epoch time: 134.52691054344177\n",
      "mean loss train: 0.0038446689332125796, mean loss val: 0.21900779612575258\n",
      "accuracy train: 0.9988095238095238, accuracy val: 0.9645714285714285\n",
      "---------------------------------------------------------------------------------------------------\n",
      "Epoch: 84, Learning Rate: 0.000125\n",
      "\n"
     ]
    },
    {
     "data": {
      "application/vnd.jupyter.widget-view+json": {
       "model_id": "383dbda1a92c4d3390d0f9818932bbdc",
       "version_major": 2,
       "version_minor": 0
      },
      "text/plain": [
       "HBox(children=(FloatProgress(value=0.0, max=657.0), HTML(value='')))"
      ]
     },
     "metadata": {},
     "output_type": "display_data"
    },
    {
     "name": "stdout",
     "output_type": "stream",
     "text": [
      "\n",
      "tensor(2.7867e-13, device='cuda:5')\n",
      "tensor(1.1570e-13, device='cuda:5')\n",
      "tensor(-9.0037e-12, device='cuda:5')\n",
      "tensor(-9.0037e-12, device='cuda:5')\n",
      "tensor(-3.8472e-12, device='cuda:5')\n",
      "tensor(2.6308e-13, device='cuda:5')\n",
      "tensor(4.8436e-10, device='cuda:5')\n",
      "tensor(4.8436e-10, device='cuda:5')\n",
      "tensor(-3.1140e-13, device='cuda:5')\n",
      "tensor(6.0816e-13, device='cuda:5')\n",
      "tensor(-2.2789e-10, device='cuda:5')\n",
      "tensor(-2.2789e-10, device='cuda:5')\n",
      "tensor(-4.6079e-14, device='cuda:5')\n",
      "tensor(0., device='cuda:5')\n",
      "tensor(4.8261e-11, device='cuda:5')\n",
      "tensor(4.8261e-11, device='cuda:5')\n",
      "tensor(-1.5586e-12, device='cuda:5')\n",
      "tensor(-1.2036e-09, device='cuda:5')\n",
      "tensor(5.5856e-11, device='cuda:5')\n",
      "tensor(-6.2940e-11, device='cuda:5')\n"
     ]
    },
    {
     "data": {
      "application/vnd.jupyter.widget-view+json": {
       "model_id": "b422450e125a4a0a874b3b94969a05d4",
       "version_major": 2,
       "version_minor": 0
      },
      "text/plain": [
       "HBox(children=(FloatProgress(value=0.0, max=42.0), HTML(value='')))"
      ]
     },
     "metadata": {},
     "output_type": "display_data"
    },
    {
     "name": "stdout",
     "output_type": "stream",
     "text": [
      "\n",
      "epoch time: 135.64473509788513\n",
      "mean loss train: 0.00410373699325802, mean loss val: 0.23040915628841946\n",
      "accuracy train: 0.9984761904761905, accuracy val: 0.9622857142857143\n",
      "---------------------------------------------------------------------------------------------------\n",
      "Epoch: 85, Learning Rate: 0.000125\n",
      "\n"
     ]
    },
    {
     "data": {
      "application/vnd.jupyter.widget-view+json": {
       "model_id": "e79d7db3352b48e48e3487075ca38fa6",
       "version_major": 2,
       "version_minor": 0
      },
      "text/plain": [
       "HBox(children=(FloatProgress(value=0.0, max=657.0), HTML(value='')))"
      ]
     },
     "metadata": {},
     "output_type": "display_data"
    },
    {
     "name": "stdout",
     "output_type": "stream",
     "text": [
      "\n",
      "tensor(2.1562e-08, device='cuda:5')\n",
      "tensor(-1.7455e-08, device='cuda:5')\n",
      "tensor(-5.4735e-06, device='cuda:5')\n",
      "tensor(-5.4735e-06, device='cuda:5')\n",
      "tensor(1.8670e-08, device='cuda:5')\n",
      "tensor(1.9376e-09, device='cuda:5')\n",
      "tensor(7.2481e-08, device='cuda:5')\n",
      "tensor(7.2481e-08, device='cuda:5')\n",
      "tensor(-1.4923e-09, device='cuda:5')\n",
      "tensor(7.9232e-09, device='cuda:5')\n",
      "tensor(-7.7821e-07, device='cuda:5')\n",
      "tensor(-7.7821e-07, device='cuda:5')\n",
      "tensor(-3.0517e-10, device='cuda:5')\n",
      "tensor(0., device='cuda:5')\n",
      "tensor(-9.5285e-08, device='cuda:5')\n",
      "tensor(-9.5285e-08, device='cuda:5')\n",
      "tensor(8.2930e-09, device='cuda:5')\n",
      "tensor(-2.1604e-06, device='cuda:5')\n",
      "tensor(9.3539e-10, device='cuda:5')\n",
      "tensor(1.4455e-09, device='cuda:5')\n"
     ]
    },
    {
     "data": {
      "application/vnd.jupyter.widget-view+json": {
       "model_id": "7bb42bc1a92c49a48bda3f0bce79ef17",
       "version_major": 2,
       "version_minor": 0
      },
      "text/plain": [
       "HBox(children=(FloatProgress(value=0.0, max=42.0), HTML(value='')))"
      ]
     },
     "metadata": {},
     "output_type": "display_data"
    },
    {
     "name": "stdout",
     "output_type": "stream",
     "text": [
      "\n",
      "epoch time: 136.5040397644043\n",
      "mean loss train: 0.0029170254179542617, mean loss val: 0.23997339326852843\n",
      "accuracy train: 0.9990952380952381, accuracy val: 0.9640952380952381\n",
      "---------------------------------------------------------------------------------------------------\n",
      "Epoch: 86, Learning Rate: 0.000125\n",
      "\n"
     ]
    },
    {
     "data": {
      "application/vnd.jupyter.widget-view+json": {
       "model_id": "6f554fe7a13648a9910ef89c127f5788",
       "version_major": 2,
       "version_minor": 0
      },
      "text/plain": [
       "HBox(children=(FloatProgress(value=0.0, max=657.0), HTML(value='')))"
      ]
     },
     "metadata": {},
     "output_type": "display_data"
    },
    {
     "name": "stdout",
     "output_type": "stream",
     "text": [
      "\n",
      "tensor(1.5037e-12, device='cuda:5')\n",
      "tensor(2.0369e-13, device='cuda:5')\n",
      "tensor(3.7795e-12, device='cuda:5')\n",
      "tensor(3.7795e-12, device='cuda:5')\n",
      "tensor(-2.8893e-13, device='cuda:5')\n",
      "tensor(8.9411e-14, device='cuda:5')\n",
      "tensor(7.4794e-12, device='cuda:5')\n",
      "tensor(7.4794e-12, device='cuda:5')\n",
      "tensor(-2.7902e-13, device='cuda:5')\n",
      "tensor(-3.3726e-13, device='cuda:5')\n",
      "tensor(-9.8244e-12, device='cuda:5')\n",
      "tensor(-9.8244e-12, device='cuda:5')\n",
      "tensor(-8.0815e-16, device='cuda:5')\n",
      "tensor(0., device='cuda:5')\n",
      "tensor(3.7964e-13, device='cuda:5')\n",
      "tensor(3.7964e-13, device='cuda:5')\n",
      "tensor(-5.2292e-13, device='cuda:5')\n",
      "tensor(-5.1228e-11, device='cuda:5')\n",
      "tensor(5.5737e-11, device='cuda:5')\n",
      "tensor(5.0186e-11, device='cuda:5')\n"
     ]
    },
    {
     "data": {
      "application/vnd.jupyter.widget-view+json": {
       "model_id": "5d93b5170be1417ca2c75fd277ff24cf",
       "version_major": 2,
       "version_minor": 0
      },
      "text/plain": [
       "HBox(children=(FloatProgress(value=0.0, max=42.0), HTML(value='')))"
      ]
     },
     "metadata": {},
     "output_type": "display_data"
    },
    {
     "name": "stdout",
     "output_type": "stream",
     "text": [
      "\n",
      "epoch time: 135.10541129112244\n",
      "mean loss train: 0.003791806222937469, mean loss val: 0.22719056068289847\n",
      "accuracy train: 0.9987619047619047, accuracy val: 0.9631428571428572\n",
      "---------------------------------------------------------------------------------------------------\n",
      "Epoch: 87, Learning Rate: 0.000125\n",
      "\n"
     ]
    },
    {
     "data": {
      "application/vnd.jupyter.widget-view+json": {
       "model_id": "27bc16992f524d34b4eeb18b07bf3b8a",
       "version_major": 2,
       "version_minor": 0
      },
      "text/plain": [
       "HBox(children=(FloatProgress(value=0.0, max=657.0), HTML(value='')))"
      ]
     },
     "metadata": {},
     "output_type": "display_data"
    },
    {
     "name": "stdout",
     "output_type": "stream",
     "text": [
      "\n",
      "tensor(-1.5058e-09, device='cuda:5')\n",
      "tensor(-1.2925e-11, device='cuda:5')\n",
      "tensor(-2.0458e-08, device='cuda:5')\n",
      "tensor(-2.0458e-08, device='cuda:5')\n",
      "tensor(1.5135e-11, device='cuda:5')\n",
      "tensor(7.5100e-12, device='cuda:5')\n",
      "tensor(-2.9887e-09, device='cuda:5')\n",
      "tensor(-2.9887e-09, device='cuda:5')\n",
      "tensor(4.9617e-12, device='cuda:5')\n",
      "tensor(-2.2512e-11, device='cuda:5')\n",
      "tensor(-3.8215e-09, device='cuda:5')\n",
      "tensor(-3.8215e-09, device='cuda:5')\n",
      "tensor(1.5077e-11, device='cuda:5')\n",
      "tensor(0., device='cuda:5')\n",
      "tensor(-2.7259e-09, device='cuda:5')\n",
      "tensor(-2.7259e-09, device='cuda:5')\n",
      "tensor(-4.7856e-10, device='cuda:5')\n",
      "tensor(-3.0487e-08, device='cuda:5')\n",
      "tensor(-7.5327e-10, device='cuda:5')\n",
      "tensor(-9.1444e-10, device='cuda:5')\n"
     ]
    },
    {
     "data": {
      "application/vnd.jupyter.widget-view+json": {
       "model_id": "ce2ff4c2072a4e13ad887d3e74f2f471",
       "version_major": 2,
       "version_minor": 0
      },
      "text/plain": [
       "HBox(children=(FloatProgress(value=0.0, max=42.0), HTML(value='')))"
      ]
     },
     "metadata": {},
     "output_type": "display_data"
    },
    {
     "name": "stdout",
     "output_type": "stream",
     "text": [
      "\n",
      "epoch time: 134.5262520313263\n",
      "mean loss train: 0.0027059266043361276, mean loss val: 0.23166937546840027\n",
      "accuracy train: 0.9990952380952381, accuracy val: 0.9644761904761905\n",
      "---------------------------------------------------------------------------------------------------\n",
      "Epoch: 88, Learning Rate: 0.000125\n",
      "\n"
     ]
    },
    {
     "data": {
      "application/vnd.jupyter.widget-view+json": {
       "model_id": "69b23b13d28943359b2ffe2d2c5f5c9d",
       "version_major": 2,
       "version_minor": 0
      },
      "text/plain": [
       "HBox(children=(FloatProgress(value=0.0, max=657.0), HTML(value='')))"
      ]
     },
     "metadata": {},
     "output_type": "display_data"
    },
    {
     "name": "stdout",
     "output_type": "stream",
     "text": [
      "\n",
      "tensor(-1.3997e-07, device='cuda:5')\n",
      "tensor(9.6418e-10, device='cuda:5')\n",
      "tensor(4.4701e-06, device='cuda:5')\n",
      "tensor(4.4701e-06, device='cuda:5')\n",
      "tensor(1.0475e-08, device='cuda:5')\n",
      "tensor(4.9276e-10, device='cuda:5')\n",
      "tensor(3.8268e-07, device='cuda:5')\n",
      "tensor(3.8268e-07, device='cuda:5')\n",
      "tensor(-1.7858e-10, device='cuda:5')\n",
      "tensor(5.4943e-09, device='cuda:5')\n",
      "tensor(5.1192e-07, device='cuda:5')\n",
      "tensor(5.1192e-07, device='cuda:5')\n",
      "tensor(6.5442e-11, device='cuda:5')\n",
      "tensor(0., device='cuda:5')\n",
      "tensor(-4.3749e-08, device='cuda:5')\n",
      "tensor(-4.3749e-08, device='cuda:5')\n",
      "tensor(8.8745e-10, device='cuda:5')\n",
      "tensor(-1.3385e-06, device='cuda:5')\n",
      "tensor(2.4793e-09, device='cuda:5')\n",
      "tensor(2.2595e-09, device='cuda:5')\n"
     ]
    },
    {
     "data": {
      "application/vnd.jupyter.widget-view+json": {
       "model_id": "20c729e0d797402c8cb0940f8c8859fd",
       "version_major": 2,
       "version_minor": 0
      },
      "text/plain": [
       "HBox(children=(FloatProgress(value=0.0, max=42.0), HTML(value='')))"
      ]
     },
     "metadata": {},
     "output_type": "display_data"
    },
    {
     "name": "stdout",
     "output_type": "stream",
     "text": [
      "\n",
      "epoch time: 133.4199514389038\n",
      "mean loss train: 0.00463514709548049, mean loss val: 0.2377014597711109\n",
      "accuracy train: 0.9986666666666667, accuracy val: 0.9640952380952381\n",
      "---------------------------------------------------------------------------------------------------\n",
      "Epoch: 89, Learning Rate: 0.000125\n",
      "\n"
     ]
    },
    {
     "data": {
      "application/vnd.jupyter.widget-view+json": {
       "model_id": "380450696bf9423b93056f8af0976516",
       "version_major": 2,
       "version_minor": 0
      },
      "text/plain": [
       "HBox(children=(FloatProgress(value=0.0, max=657.0), HTML(value='')))"
      ]
     },
     "metadata": {},
     "output_type": "display_data"
    },
    {
     "name": "stdout",
     "output_type": "stream",
     "text": [
      "\n",
      "tensor(6.4167e-08, device='cuda:5')\n",
      "tensor(-6.1891e-10, device='cuda:5')\n",
      "tensor(5.4904e-07, device='cuda:5')\n",
      "tensor(5.4904e-07, device='cuda:5')\n",
      "tensor(-9.1693e-10, device='cuda:5')\n",
      "tensor(-2.5548e-10, device='cuda:5')\n",
      "tensor(9.2469e-07, device='cuda:5')\n",
      "tensor(9.2469e-07, device='cuda:5')\n",
      "tensor(-1.3929e-10, device='cuda:5')\n",
      "tensor(1.0895e-09, device='cuda:5')\n",
      "tensor(4.4937e-08, device='cuda:5')\n",
      "tensor(4.4937e-08, device='cuda:5')\n",
      "tensor(1.8228e-11, device='cuda:5')\n",
      "tensor(0., device='cuda:5')\n",
      "tensor(-1.2345e-08, device='cuda:5')\n",
      "tensor(-1.2345e-08, device='cuda:5')\n",
      "tensor(-2.2377e-09, device='cuda:5')\n",
      "tensor(-2.0972e-06, device='cuda:5')\n",
      "tensor(9.5605e-10, device='cuda:5')\n",
      "tensor(1.5035e-09, device='cuda:5')\n"
     ]
    },
    {
     "data": {
      "application/vnd.jupyter.widget-view+json": {
       "model_id": "f0478e4b864a4af6bd3d7bc3d4240bfd",
       "version_major": 2,
       "version_minor": 0
      },
      "text/plain": [
       "HBox(children=(FloatProgress(value=0.0, max=42.0), HTML(value='')))"
      ]
     },
     "metadata": {},
     "output_type": "display_data"
    },
    {
     "name": "stdout",
     "output_type": "stream",
     "text": [
      "\n",
      "epoch time: 133.04908084869385\n",
      "mean loss train: 0.003686740832492, mean loss val: 0.22459039472965966\n",
      "accuracy train: 0.9988809523809524, accuracy val: 0.9633333333333334\n",
      "---------------------------------------------------------------------------------------------------\n",
      "Epoch: 90, Learning Rate: 0.000125\n",
      "\n"
     ]
    },
    {
     "data": {
      "application/vnd.jupyter.widget-view+json": {
       "model_id": "977cfdd0fbae401db9f1303cb66be54d",
       "version_major": 2,
       "version_minor": 0
      },
      "text/plain": [
       "HBox(children=(FloatProgress(value=0.0, max=657.0), HTML(value='')))"
      ]
     },
     "metadata": {},
     "output_type": "display_data"
    },
    {
     "name": "stdout",
     "output_type": "stream",
     "text": [
      "\n",
      "tensor(-1.5503e-10, device='cuda:5')\n",
      "tensor(-5.1580e-11, device='cuda:5')\n",
      "tensor(-9.4933e-09, device='cuda:5')\n",
      "tensor(-9.4933e-09, device='cuda:5')\n",
      "tensor(1.8126e-11, device='cuda:5')\n",
      "tensor(-6.4690e-13, device='cuda:5')\n",
      "tensor(2.0421e-11, device='cuda:5')\n",
      "tensor(2.0421e-11, device='cuda:5')\n",
      "tensor(6.6296e-13, device='cuda:5')\n",
      "tensor(2.6375e-13, device='cuda:5')\n",
      "tensor(-3.3662e-10, device='cuda:5')\n",
      "tensor(-3.3662e-10, device='cuda:5')\n",
      "tensor(6.1285e-13, device='cuda:5')\n",
      "tensor(0., device='cuda:5')\n",
      "tensor(-1.0524e-10, device='cuda:5')\n",
      "tensor(-1.0524e-10, device='cuda:5')\n",
      "tensor(4.8442e-12, device='cuda:5')\n",
      "tensor(-1.1076e-09, device='cuda:5')\n",
      "tensor(-3.9167e-11, device='cuda:5')\n",
      "tensor(-3.9366e-11, device='cuda:5')\n"
     ]
    },
    {
     "data": {
      "application/vnd.jupyter.widget-view+json": {
       "model_id": "168da49ded88459386ee9a3f0ce7cf75",
       "version_major": 2,
       "version_minor": 0
      },
      "text/plain": [
       "HBox(children=(FloatProgress(value=0.0, max=42.0), HTML(value='')))"
      ]
     },
     "metadata": {},
     "output_type": "display_data"
    },
    {
     "name": "stdout",
     "output_type": "stream",
     "text": [
      "\n",
      "epoch time: 136.77274227142334\n",
      "mean loss train: 0.002391528111694026, mean loss val: 0.2424759371188425\n",
      "accuracy train: 0.9992857142857143, accuracy val: 0.9651428571428572\n",
      "---------------------------------------------------------------------------------------------------\n",
      "Epoch: 91, Learning Rate: 0.000125\n",
      "\n"
     ]
    },
    {
     "data": {
      "application/vnd.jupyter.widget-view+json": {
       "model_id": "1268bf9cc26d4964ac8595ef1274e4e2",
       "version_major": 2,
       "version_minor": 0
      },
      "text/plain": [
       "HBox(children=(FloatProgress(value=0.0, max=657.0), HTML(value='')))"
      ]
     },
     "metadata": {},
     "output_type": "display_data"
    },
    {
     "name": "stdout",
     "output_type": "stream",
     "text": [
      "\n",
      "tensor(-5.1938e-11, device='cuda:5')\n",
      "tensor(-3.9906e-11, device='cuda:5')\n",
      "tensor(4.3542e-08, device='cuda:5')\n",
      "tensor(4.3542e-08, device='cuda:5')\n",
      "tensor(-2.2330e-10, device='cuda:5')\n",
      "tensor(2.3237e-11, device='cuda:5')\n",
      "tensor(9.6438e-09, device='cuda:5')\n",
      "tensor(9.6438e-09, device='cuda:5')\n",
      "tensor(-1.1597e-11, device='cuda:5')\n",
      "tensor(3.3777e-12, device='cuda:5')\n",
      "tensor(-1.8781e-09, device='cuda:5')\n",
      "tensor(-1.8781e-09, device='cuda:5')\n",
      "tensor(-9.6582e-14, device='cuda:5')\n",
      "tensor(0., device='cuda:5')\n",
      "tensor(-4.7971e-11, device='cuda:5')\n",
      "tensor(-4.7971e-11, device='cuda:5')\n",
      "tensor(8.3564e-11, device='cuda:5')\n",
      "tensor(-2.6956e-08, device='cuda:5')\n",
      "tensor(3.9482e-10, device='cuda:5')\n",
      "tensor(6.2890e-10, device='cuda:5')\n"
     ]
    },
    {
     "data": {
      "application/vnd.jupyter.widget-view+json": {
       "model_id": "7090431b872645ecae6b135a76d892a0",
       "version_major": 2,
       "version_minor": 0
      },
      "text/plain": [
       "HBox(children=(FloatProgress(value=0.0, max=42.0), HTML(value='')))"
      ]
     },
     "metadata": {},
     "output_type": "display_data"
    },
    {
     "name": "stdout",
     "output_type": "stream",
     "text": [
      "\n",
      "epoch time: 134.4534957408905\n",
      "mean loss train: 0.00289035724385065, mean loss val: 0.25759238021146685\n",
      "accuracy train: 0.9991428571428571, accuracy val: 0.9623809523809523\n",
      "---------------------------------------------------------------------------------------------------\n",
      "Epoch: 92, Learning Rate: 0.000125\n",
      "\n"
     ]
    },
    {
     "data": {
      "application/vnd.jupyter.widget-view+json": {
       "model_id": "8e25d2637d0e4312a79d4ecf97ecea5a",
       "version_major": 2,
       "version_minor": 0
      },
      "text/plain": [
       "HBox(children=(FloatProgress(value=0.0, max=657.0), HTML(value='')))"
      ]
     },
     "metadata": {},
     "output_type": "display_data"
    },
    {
     "name": "stdout",
     "output_type": "stream",
     "text": [
      "\n",
      "tensor(-2.9743e-08, device='cuda:5')\n",
      "tensor(6.0704e-09, device='cuda:5')\n",
      "tensor(-3.6958e-07, device='cuda:5')\n",
      "tensor(-3.6958e-07, device='cuda:5')\n",
      "tensor(1.3973e-10, device='cuda:5')\n",
      "tensor(-7.9000e-10, device='cuda:5')\n",
      "tensor(1.1449e-06, device='cuda:5')\n",
      "tensor(1.1449e-06, device='cuda:5')\n",
      "tensor(5.6307e-10, device='cuda:5')\n",
      "tensor(5.3106e-09, device='cuda:5')\n",
      "tensor(4.5823e-07, device='cuda:5')\n",
      "tensor(4.5823e-07, device='cuda:5')\n",
      "tensor(1.2233e-11, device='cuda:5')\n",
      "tensor(0., device='cuda:5')\n",
      "tensor(-3.0113e-08, device='cuda:5')\n",
      "tensor(-3.0113e-08, device='cuda:5')\n",
      "tensor(-3.1536e-09, device='cuda:5')\n",
      "tensor(-1.6685e-06, device='cuda:5')\n",
      "tensor(2.6981e-10, device='cuda:5')\n",
      "tensor(4.4357e-10, device='cuda:5')\n"
     ]
    },
    {
     "data": {
      "application/vnd.jupyter.widget-view+json": {
       "model_id": "882cb0d0634e455d936a9331221d94cc",
       "version_major": 2,
       "version_minor": 0
      },
      "text/plain": [
       "HBox(children=(FloatProgress(value=0.0, max=42.0), HTML(value='')))"
      ]
     },
     "metadata": {},
     "output_type": "display_data"
    },
    {
     "name": "stdout",
     "output_type": "stream",
     "text": [
      "\n",
      "epoch time: 133.37012314796448\n",
      "mean loss train: 0.0038075352168553287, mean loss val: 0.22894976587717733\n",
      "accuracy train: 0.9987380952380952, accuracy val: 0.9647619047619047\n",
      "---------------------------------------------------------------------------------------------------\n",
      "Epoch: 93, Learning Rate: 0.000125\n",
      "\n"
     ]
    },
    {
     "data": {
      "application/vnd.jupyter.widget-view+json": {
       "model_id": "9a5e2d15386649f881e344b495844748",
       "version_major": 2,
       "version_minor": 0
      },
      "text/plain": [
       "HBox(children=(FloatProgress(value=0.0, max=657.0), HTML(value='')))"
      ]
     },
     "metadata": {},
     "output_type": "display_data"
    },
    {
     "name": "stdout",
     "output_type": "stream",
     "text": [
      "\n",
      "tensor(-3.8446e-09, device='cuda:5')\n",
      "tensor(1.4988e-10, device='cuda:5')\n",
      "tensor(3.0084e-07, device='cuda:5')\n",
      "tensor(3.0084e-07, device='cuda:5')\n",
      "tensor(2.9005e-10, device='cuda:5')\n",
      "tensor(1.6101e-11, device='cuda:5')\n",
      "tensor(-9.7713e-10, device='cuda:5')\n",
      "tensor(-9.7713e-10, device='cuda:5')\n",
      "tensor(-1.0486e-11, device='cuda:5')\n",
      "tensor(-5.7819e-11, device='cuda:5')\n",
      "tensor(-5.1384e-08, device='cuda:5')\n",
      "tensor(-5.1384e-08, device='cuda:5')\n",
      "tensor(9.8722e-12, device='cuda:5')\n",
      "tensor(0., device='cuda:5')\n",
      "tensor(2.5457e-08, device='cuda:5')\n",
      "tensor(2.5457e-08, device='cuda:5')\n",
      "tensor(-1.2414e-09, device='cuda:5')\n",
      "tensor(-3.7723e-07, device='cuda:5')\n",
      "tensor(4.9513e-10, device='cuda:5')\n",
      "tensor(3.9095e-10, device='cuda:5')\n"
     ]
    },
    {
     "data": {
      "application/vnd.jupyter.widget-view+json": {
       "model_id": "21f9efe9169242b3aceb23bd78b7e786",
       "version_major": 2,
       "version_minor": 0
      },
      "text/plain": [
       "HBox(children=(FloatProgress(value=0.0, max=42.0), HTML(value='')))"
      ]
     },
     "metadata": {},
     "output_type": "display_data"
    },
    {
     "name": "stdout",
     "output_type": "stream",
     "text": [
      "\n",
      "epoch time: 135.0046842098236\n",
      "mean loss train: 0.0033993488667710195, mean loss val: 0.23841754730684417\n",
      "accuracy train: 0.9989047619047619, accuracy val: 0.9628571428571429\n",
      "---------------------------------------------------------------------------------------------------\n",
      "Epoch: 94, Learning Rate: 0.000125\n",
      "\n"
     ]
    },
    {
     "data": {
      "application/vnd.jupyter.widget-view+json": {
       "model_id": "70988f6dd8bc45529daacdd266d2c812",
       "version_major": 2,
       "version_minor": 0
      },
      "text/plain": [
       "HBox(children=(FloatProgress(value=0.0, max=657.0), HTML(value='')))"
      ]
     },
     "metadata": {},
     "output_type": "display_data"
    },
    {
     "name": "stdout",
     "output_type": "stream",
     "text": [
      "\n",
      "tensor(1.7223e-06, device='cuda:5')\n",
      "tensor(6.3609e-08, device='cuda:5')\n",
      "tensor(4.0395e-05, device='cuda:5')\n",
      "tensor(4.0395e-05, device='cuda:5')\n",
      "tensor(-5.5333e-07, device='cuda:5')\n",
      "tensor(3.2152e-09, device='cuda:5')\n",
      "tensor(1.2488e-05, device='cuda:5')\n",
      "tensor(1.2488e-05, device='cuda:5')\n",
      "tensor(1.2129e-08, device='cuda:5')\n",
      "tensor(1.8449e-08, device='cuda:5')\n",
      "tensor(5.2222e-06, device='cuda:5')\n",
      "tensor(5.2222e-06, device='cuda:5')\n",
      "tensor(-1.7941e-09, device='cuda:5')\n",
      "tensor(0., device='cuda:5')\n",
      "tensor(-3.5484e-07, device='cuda:5')\n",
      "tensor(-3.5484e-07, device='cuda:5')\n",
      "tensor(-5.4923e-08, device='cuda:5')\n",
      "tensor(-1.5536e-05, device='cuda:5')\n",
      "tensor(-3.9413e-11, device='cuda:5')\n",
      "tensor(-2.8134e-10, device='cuda:5')\n"
     ]
    },
    {
     "data": {
      "application/vnd.jupyter.widget-view+json": {
       "model_id": "e46a9c51586241f8a5b3e8667fa28185",
       "version_major": 2,
       "version_minor": 0
      },
      "text/plain": [
       "HBox(children=(FloatProgress(value=0.0, max=42.0), HTML(value='')))"
      ]
     },
     "metadata": {},
     "output_type": "display_data"
    },
    {
     "name": "stdout",
     "output_type": "stream",
     "text": [
      "\n",
      "epoch time: 134.0387668609619\n",
      "mean loss train: 0.004470574637231905, mean loss val: 0.2241129998536337\n",
      "accuracy train: 0.9985952380952381, accuracy val: 0.9640952380952381\n",
      "---------------------------------------------------------------------------------------------------\n",
      "Epoch: 95, Learning Rate: 0.000125\n",
      "\n"
     ]
    },
    {
     "data": {
      "application/vnd.jupyter.widget-view+json": {
       "model_id": "4f0e5c317512432f927a61093dc49c59",
       "version_major": 2,
       "version_minor": 0
      },
      "text/plain": [
       "HBox(children=(FloatProgress(value=0.0, max=657.0), HTML(value='')))"
      ]
     },
     "metadata": {},
     "output_type": "display_data"
    },
    {
     "name": "stdout",
     "output_type": "stream",
     "text": [
      "\n",
      "tensor(-4.2322e-07, device='cuda:5')\n",
      "tensor(1.3749e-07, device='cuda:5')\n",
      "tensor(8.2996e-05, device='cuda:5')\n",
      "tensor(8.2996e-05, device='cuda:5')\n",
      "tensor(-2.8176e-07, device='cuda:5')\n",
      "tensor(8.2773e-08, device='cuda:5')\n",
      "tensor(1.7019e-05, device='cuda:5')\n",
      "tensor(1.7019e-05, device='cuda:5')\n",
      "tensor(6.6326e-09, device='cuda:5')\n",
      "tensor(1.3480e-09, device='cuda:5')\n",
      "tensor(7.1169e-06, device='cuda:5')\n",
      "tensor(7.1169e-06, device='cuda:5')\n",
      "tensor(-1.0245e-09, device='cuda:5')\n",
      "tensor(0., device='cuda:5')\n",
      "tensor(3.2280e-07, device='cuda:5')\n",
      "tensor(3.2280e-07, device='cuda:5')\n",
      "tensor(3.2428e-08, device='cuda:5')\n",
      "tensor(-1.5155e-05, device='cuda:5')\n",
      "tensor(2.0625e-10, device='cuda:5')\n",
      "tensor(7.2067e-11, device='cuda:5')\n"
     ]
    },
    {
     "data": {
      "application/vnd.jupyter.widget-view+json": {
       "model_id": "e9a7953335dd49d78ee52109d7249b00",
       "version_major": 2,
       "version_minor": 0
      },
      "text/plain": [
       "HBox(children=(FloatProgress(value=0.0, max=42.0), HTML(value='')))"
      ]
     },
     "metadata": {},
     "output_type": "display_data"
    },
    {
     "name": "stdout",
     "output_type": "stream",
     "text": [
      "\n",
      "epoch time: 134.01490449905396\n",
      "mean loss train: 0.0021821768828445957, mean loss val: 0.23829753694576877\n",
      "accuracy train: 0.9993809523809524, accuracy val: 0.9657142857142857\n",
      "---------------------------------------------------------------------------------------------------\n",
      "Epoch: 96, Learning Rate: 0.000125\n",
      "\n"
     ]
    },
    {
     "data": {
      "application/vnd.jupyter.widget-view+json": {
       "model_id": "79b081f112004aaab47fc873721e9214",
       "version_major": 2,
       "version_minor": 0
      },
      "text/plain": [
       "HBox(children=(FloatProgress(value=0.0, max=657.0), HTML(value='')))"
      ]
     },
     "metadata": {},
     "output_type": "display_data"
    },
    {
     "name": "stdout",
     "output_type": "stream",
     "text": [
      "\n",
      "tensor(-8.9798e-09, device='cuda:5')\n",
      "tensor(-3.4623e-11, device='cuda:5')\n",
      "tensor(2.2160e-07, device='cuda:5')\n",
      "tensor(2.2160e-07, device='cuda:5')\n",
      "tensor(-2.4549e-09, device='cuda:5')\n",
      "tensor(4.5372e-10, device='cuda:5')\n",
      "tensor(2.0475e-07, device='cuda:5')\n",
      "tensor(2.0475e-07, device='cuda:5')\n",
      "tensor(7.7915e-11, device='cuda:5')\n",
      "tensor(-1.3497e-10, device='cuda:5')\n",
      "tensor(2.1662e-08, device='cuda:5')\n",
      "tensor(2.1662e-08, device='cuda:5')\n",
      "tensor(2.2998e-12, device='cuda:5')\n",
      "tensor(0., device='cuda:5')\n",
      "tensor(-2.6359e-09, device='cuda:5')\n",
      "tensor(-2.6359e-09, device='cuda:5')\n",
      "tensor(-3.6505e-10, device='cuda:5')\n",
      "tensor(-3.5441e-07, device='cuda:5')\n",
      "tensor(4.8945e-10, device='cuda:5')\n",
      "tensor(7.4457e-10, device='cuda:5')\n"
     ]
    },
    {
     "data": {
      "application/vnd.jupyter.widget-view+json": {
       "model_id": "de0c81b02e9e4617847e648a44a3bea8",
       "version_major": 2,
       "version_minor": 0
      },
      "text/plain": [
       "HBox(children=(FloatProgress(value=0.0, max=42.0), HTML(value='')))"
      ]
     },
     "metadata": {},
     "output_type": "display_data"
    },
    {
     "name": "stdout",
     "output_type": "stream",
     "text": [
      "\n",
      "epoch time: 133.87617254257202\n",
      "mean loss train: 0.0024905450672709517, mean loss val: 0.21914016404251258\n",
      "accuracy train: 0.9992857142857143, accuracy val: 0.9639047619047619\n",
      "---------------------------------------------------------------------------------------------------\n",
      "Epoch: 97, Learning Rate: 0.000125\n",
      "\n"
     ]
    },
    {
     "data": {
      "application/vnd.jupyter.widget-view+json": {
       "model_id": "cc2336c44f4d45bf8b25cf1285d4dff4",
       "version_major": 2,
       "version_minor": 0
      },
      "text/plain": [
       "HBox(children=(FloatProgress(value=0.0, max=657.0), HTML(value='')))"
      ]
     },
     "metadata": {},
     "output_type": "display_data"
    },
    {
     "name": "stdout",
     "output_type": "stream",
     "text": [
      "\n",
      "tensor(-3.0809e-08, device='cuda:5')\n",
      "tensor(-1.2890e-09, device='cuda:5')\n",
      "tensor(1.6851e-06, device='cuda:5')\n",
      "tensor(1.6851e-06, device='cuda:5')\n",
      "tensor(-3.8071e-08, device='cuda:5')\n",
      "tensor(1.6702e-10, device='cuda:5')\n",
      "tensor(2.7875e-08, device='cuda:5')\n",
      "tensor(2.7875e-08, device='cuda:5')\n",
      "tensor(2.3822e-10, device='cuda:5')\n",
      "tensor(-6.5589e-10, device='cuda:5')\n",
      "tensor(2.2149e-07, device='cuda:5')\n",
      "tensor(2.2149e-07, device='cuda:5')\n",
      "tensor(-1.0615e-10, device='cuda:5')\n",
      "tensor(0., device='cuda:5')\n",
      "tensor(-2.8904e-08, device='cuda:5')\n",
      "tensor(-2.8904e-08, device='cuda:5')\n",
      "tensor(-3.1651e-09, device='cuda:5')\n",
      "tensor(-1.5943e-06, device='cuda:5')\n",
      "tensor(-4.1908e-10, device='cuda:5')\n",
      "tensor(-7.6805e-10, device='cuda:5')\n"
     ]
    },
    {
     "data": {
      "application/vnd.jupyter.widget-view+json": {
       "model_id": "53d613811e3242b5a57018e0fbf2c82c",
       "version_major": 2,
       "version_minor": 0
      },
      "text/plain": [
       "HBox(children=(FloatProgress(value=0.0, max=42.0), HTML(value='')))"
      ]
     },
     "metadata": {},
     "output_type": "display_data"
    },
    {
     "name": "stdout",
     "output_type": "stream",
     "text": [
      "\n",
      "epoch time: 135.25319600105286\n",
      "mean loss train: 0.0025520727686397593, mean loss val: 0.24335161855391094\n",
      "accuracy train: 0.9991190476190476, accuracy val: 0.9656190476190476\n",
      "---------------------------------------------------------------------------------------------------\n",
      "Epoch: 98, Learning Rate: 0.000125\n",
      "\n"
     ]
    },
    {
     "data": {
      "application/vnd.jupyter.widget-view+json": {
       "model_id": "bef988a8e51042ceb77617ee28a71ec3",
       "version_major": 2,
       "version_minor": 0
      },
      "text/plain": [
       "HBox(children=(FloatProgress(value=0.0, max=657.0), HTML(value='')))"
      ]
     },
     "metadata": {},
     "output_type": "display_data"
    },
    {
     "name": "stdout",
     "output_type": "stream",
     "text": [
      "\n",
      "tensor(-1.1446e-08, device='cuda:5')\n",
      "tensor(5.4080e-09, device='cuda:5')\n",
      "tensor(1.4247e-06, device='cuda:5')\n",
      "tensor(1.4247e-06, device='cuda:5')\n",
      "tensor(8.1173e-09, device='cuda:5')\n",
      "tensor(6.7357e-10, device='cuda:5')\n",
      "tensor(1.7063e-08, device='cuda:5')\n",
      "tensor(1.7063e-08, device='cuda:5')\n",
      "tensor(6.2317e-10, device='cuda:5')\n",
      "tensor(4.6700e-10, device='cuda:5')\n",
      "tensor(6.6993e-08, device='cuda:5')\n",
      "tensor(6.6993e-08, device='cuda:5')\n",
      "tensor(-1.4270e-11, device='cuda:5')\n",
      "tensor(0., device='cuda:5')\n",
      "tensor(-5.2918e-09, device='cuda:5')\n",
      "tensor(-5.2918e-09, device='cuda:5')\n",
      "tensor(2.4917e-09, device='cuda:5')\n",
      "tensor(-8.9970e-07, device='cuda:5')\n",
      "tensor(9.2024e-10, device='cuda:5')\n",
      "tensor(1.7068e-09, device='cuda:5')\n"
     ]
    },
    {
     "data": {
      "application/vnd.jupyter.widget-view+json": {
       "model_id": "054b2259a6944e658c9dbebfb44d3cd1",
       "version_major": 2,
       "version_minor": 0
      },
      "text/plain": [
       "HBox(children=(FloatProgress(value=0.0, max=42.0), HTML(value='')))"
      ]
     },
     "metadata": {},
     "output_type": "display_data"
    },
    {
     "name": "stdout",
     "output_type": "stream",
     "text": [
      "\n",
      "epoch time: 134.48392534255981\n",
      "mean loss train: 0.004163508067256771, mean loss val: 0.23043907694873356\n",
      "accuracy train: 0.9986428571428572, accuracy val: 0.9653333333333334\n",
      "---------------------------------------------------------------------------------------------------\n",
      "Epoch: 99, Learning Rate: 0.000125\n",
      "\n"
     ]
    },
    {
     "data": {
      "application/vnd.jupyter.widget-view+json": {
       "model_id": "6172cc5b6ee441dd9a24862df51f8961",
       "version_major": 2,
       "version_minor": 0
      },
      "text/plain": [
       "HBox(children=(FloatProgress(value=0.0, max=657.0), HTML(value='')))"
      ]
     },
     "metadata": {},
     "output_type": "display_data"
    },
    {
     "name": "stdout",
     "output_type": "stream",
     "text": [
      "\n",
      "tensor(-3.2052e-06, device='cuda:5')\n",
      "tensor(-2.1345e-07, device='cuda:5')\n",
      "tensor(-0.0001, device='cuda:5')\n",
      "tensor(-0.0001, device='cuda:5')\n",
      "tensor(1.5717e-07, device='cuda:5')\n",
      "tensor(4.1969e-08, device='cuda:5')\n",
      "tensor(3.6290e-05, device='cuda:5')\n",
      "tensor(3.6290e-05, device='cuda:5')\n",
      "tensor(2.0317e-08, device='cuda:5')\n",
      "tensor(-1.2657e-07, device='cuda:5')\n",
      "tensor(-3.1529e-05, device='cuda:5')\n",
      "tensor(-3.1529e-05, device='cuda:5')\n",
      "tensor(-1.4370e-09, device='cuda:5')\n",
      "tensor(0., device='cuda:5')\n",
      "tensor(1.0326e-06, device='cuda:5')\n",
      "tensor(1.0326e-06, device='cuda:5')\n",
      "tensor(-3.2030e-07, device='cuda:5')\n",
      "tensor(-3.5300e-05, device='cuda:5')\n",
      "tensor(-1.3706e-10, device='cuda:5')\n",
      "tensor(-2.7718e-10, device='cuda:5')\n"
     ]
    },
    {
     "data": {
      "application/vnd.jupyter.widget-view+json": {
       "model_id": "2c3279ca3d204f93a5de34542083826d",
       "version_major": 2,
       "version_minor": 0
      },
      "text/plain": [
       "HBox(children=(FloatProgress(value=0.0, max=42.0), HTML(value='')))"
      ]
     },
     "metadata": {},
     "output_type": "display_data"
    },
    {
     "name": "stdout",
     "output_type": "stream",
     "text": [
      "\n",
      "epoch time: 134.4112846851349\n",
      "mean loss train: 0.0025597341079708364, mean loss val: 0.24006785838199513\n",
      "accuracy train: 0.9991666666666666, accuracy val: 0.9648571428571429\n",
      "---------------------------------------------------------------------------------------------------\n"
     ]
    }
   ],
   "source": [
    "loss_train_all, loss_val_all = [], []\n",
    "accuracy_train_all, accuracy_val_all = [], []\n",
    "\n",
    "for epoch in range(NUM_EPOCHS):\n",
    "\n",
    "    start = time.time()\n",
    "    print(f'Epoch: {epoch}, Learning Rate: {scheduler.get_last_lr()[0]}\\n')\n",
    "#     print(f'Epoch: {epoch}\\n')\n",
    "\n",
    "    loss_train_epoch, loss_val_epoch = 0, 0\n",
    "    correct_train_epoch, correct_val_epoch = 0, 0\n",
    "    n_train, n_val = 0, 0\n",
    "\n",
    "    model.train()\n",
    "    for (X_batch_train, X_batch_lengths_train, y_batch_train) in tqdm(train_dl):\n",
    "\n",
    "        X_batch_train, X_batch_lengths_train, y_batch_train =\\\n",
    "                    X_batch_train.to(device), X_batch_lengths_train.to(device), y_batch_train.to(device)\n",
    "\n",
    "        optimizer.zero_grad()\n",
    "        y_pred_train = model(X_batch_train, X_batch_lengths_train)\n",
    "        loss_train = criterion(y_pred_train, y_batch_train)\n",
    "        loss_train.backward()\n",
    "        optimizer.step()\n",
    "\n",
    "        loss_train_epoch += loss_train.item() * y_batch_train.size()[0]\n",
    "        correct_train_epoch += correct(y_pred_train, y_batch_train)\n",
    "        n_train += y_batch_train.size()[0]\n",
    "\n",
    "    scheduler.step()\n",
    "    model.eval()\n",
    "\n",
    "    with torch.no_grad():\n",
    "        \n",
    "        for item in model.parameters():\n",
    "            print(item.grad.mean())\n",
    "        \n",
    "        for (X_batch_val, X_batch_lengths_val, y_batch_val) in tqdm(val_dl):\n",
    "\n",
    "            X_batch_val, X_batch_lengths_val, y_batch_val =\\\n",
    "                    X_batch_val.to(device), X_batch_lengths_val.to(device), y_batch_val.to(device)\n",
    "\n",
    "            y_pred_val = model(X_batch_val, X_batch_lengths_val)\n",
    "            loss_val = criterion(y_pred_val, y_batch_val)\n",
    "            \n",
    "            loss_val_epoch += loss_val.item() * y_batch_val.size()[0]\n",
    "            correct_val_epoch += correct(y_pred_val, y_batch_val)\n",
    "            n_val += y_batch_val.size()[0]\n",
    "            \n",
    "\n",
    "    loss_mean_train_epoch = loss_train_epoch / n_train\n",
    "    loss_mean_val_epoch = loss_val_epoch / n_val\n",
    "\n",
    "    loss_train_all.append(loss_mean_train_epoch)\n",
    "    loss_val_all.append(loss_mean_val_epoch)\n",
    "\n",
    "    accuracy_train_epoch = correct_train_epoch / n_train\n",
    "    accuracy_val_epoch = correct_val_epoch / n_val\n",
    "\n",
    "    accuracy_train_all.append(accuracy_train_epoch)\n",
    "    accuracy_val_all.append(accuracy_val_epoch)\n",
    "\n",
    "    writer.add_scalars('LOSS per epoch', {\"train\": loss_mean_train_epoch, \"val\": loss_mean_val_epoch}, epoch)\n",
    "    writer.add_scalars('ACCURACY per epoch', {\"train\": accuracy_train_epoch, \"val\": accuracy_val_epoch}, epoch)\n",
    "    \n",
    "#     scheduler.step(loss_mean_val_epoch)\n",
    "    \n",
    "    end = time.time()\n",
    "    print(f\"epoch time: {end - start}\")  \n",
    "    print(f\"mean loss train: {loss_mean_train_epoch}, mean loss val: {loss_mean_val_epoch}\")\n",
    "    print(f\"accuracy train: {accuracy_train_epoch}, accuracy val: {accuracy_val_epoch}\")\n",
    "\n",
    "    print(\"---------------------------------------------------------------------------------------------------\")"
   ]
  },
  {
   "cell_type": "code",
   "execution_count": null,
   "metadata": {},
   "outputs": [],
   "source": []
  },
  {
   "cell_type": "code",
   "execution_count": null,
   "metadata": {},
   "outputs": [],
   "source": []
  },
  {
   "cell_type": "code",
   "execution_count": 36,
   "metadata": {},
   "outputs": [
    {
     "data": {
      "application/vnd.jupyter.widget-view+json": {
       "model_id": "135b9813105d47dd8216fa778c6d4aa0",
       "version_major": 2,
       "version_minor": 0
      },
      "text/plain": [
       "HBox(children=(FloatProgress(value=0.0, max=42.0), HTML(value='')))"
      ]
     },
     "metadata": {},
     "output_type": "display_data"
    },
    {
     "name": "stdout",
     "output_type": "stream",
     "text": [
      "\n"
     ]
    },
    {
     "ename": "ValueError",
     "evalue": "too many values to unpack (expected 2)",
     "output_type": "error",
     "traceback": [
      "\u001b[0;31m---------------------------------------------------------------------------\u001b[0m",
      "\u001b[0;31mValueError\u001b[0m                                Traceback (most recent call last)",
      "\u001b[0;32m<ipython-input-36-3347df1628cb>\u001b[0m in \u001b[0;36m<module>\u001b[0;34m\u001b[0m\n\u001b[1;32m      5\u001b[0m \u001b[0;32mwith\u001b[0m \u001b[0mtorch\u001b[0m\u001b[0;34m.\u001b[0m\u001b[0mno_grad\u001b[0m\u001b[0;34m(\u001b[0m\u001b[0;34m)\u001b[0m\u001b[0;34m:\u001b[0m\u001b[0;34m\u001b[0m\u001b[0;34m\u001b[0m\u001b[0m\n\u001b[1;32m      6\u001b[0m \u001b[0;34m\u001b[0m\u001b[0m\n\u001b[0;32m----> 7\u001b[0;31m     \u001b[0;32mfor\u001b[0m \u001b[0;34m(\u001b[0m\u001b[0mX_batch_val\u001b[0m\u001b[0;34m,\u001b[0m \u001b[0my_batch_val\u001b[0m\u001b[0;34m)\u001b[0m \u001b[0;32min\u001b[0m \u001b[0mtqdm\u001b[0m\u001b[0;34m(\u001b[0m\u001b[0mval_dl\u001b[0m\u001b[0;34m)\u001b[0m\u001b[0;34m:\u001b[0m\u001b[0;34m\u001b[0m\u001b[0;34m\u001b[0m\u001b[0m\n\u001b[0m\u001b[1;32m      8\u001b[0m \u001b[0;34m\u001b[0m\u001b[0m\n\u001b[1;32m      9\u001b[0m         \u001b[0mX_batch_val\u001b[0m\u001b[0;34m,\u001b[0m \u001b[0my_batch_val\u001b[0m \u001b[0;34m=\u001b[0m \u001b[0mX_batch_val\u001b[0m\u001b[0;34m.\u001b[0m\u001b[0mto\u001b[0m\u001b[0;34m(\u001b[0m\u001b[0mdevice\u001b[0m\u001b[0;34m)\u001b[0m\u001b[0;34m,\u001b[0m \u001b[0my_batch_val\u001b[0m\u001b[0;34m.\u001b[0m\u001b[0mto\u001b[0m\u001b[0;34m(\u001b[0m\u001b[0mdevice\u001b[0m\u001b[0;34m)\u001b[0m\u001b[0;34m\u001b[0m\u001b[0;34m\u001b[0m\u001b[0m\n",
      "\u001b[0;31mValueError\u001b[0m: too many values to unpack (expected 2)"
     ]
    }
   ],
   "source": [
    "model.eval()\n",
    "\n",
    "y_ans_val, y_true_val = [], []\n",
    "\n",
    "with torch.no_grad():\n",
    "\n",
    "    for (X_batch_val, y_batch_val) in tqdm(val_dl):\n",
    "\n",
    "        X_batch_val, y_batch_val = X_batch_val.to(device), y_batch_val.to(device)\n",
    "\n",
    "        y_pred_val = model(X_batch_val)\n",
    "        \n",
    "        y_pred_prob = F.softmax(y_pred_val.cpu(), dim=-1)\n",
    "        y_pred_class = y_pred_prob.max(dim=-1)[1]\n",
    "       \n",
    "        y_ans_val += y_pred_class.tolist()\n",
    "        y_true_val += y_batch_val.tolist()"
   ]
  },
  {
   "cell_type": "code",
   "execution_count": null,
   "metadata": {},
   "outputs": [],
   "source": [
    "plt.figure(figsize=(15, 10))\n",
    "plt.title(\"FDR\")\n",
    "sns.heatmap(confusion_matrix(y_true_val, y_ans_val, normalize='pred'), annot=True, cmap=sns.cm.rocket_r)\n",
    "plt.xlabel('predicted class')\n",
    "plt.ylabel('true class')\n",
    "plt.show()"
   ]
  },
  {
   "cell_type": "code",
   "execution_count": null,
   "metadata": {},
   "outputs": [],
   "source": [
    "plt.figure(figsize=(20, 8))\n",
    "plt.title(\"loss\")\n",
    "plt.plot(np.arange(len(loss_train_all)), loss_train_all, '-o', marker='.', label='train')\n",
    "plt.plot(np.arange(len(loss_val_all)), loss_val_all, '-o', marker='.', label='val')\n",
    "plt.legend()\n",
    "plt.show()"
   ]
  },
  {
   "cell_type": "code",
   "execution_count": null,
   "metadata": {},
   "outputs": [],
   "source": [
    "plt.figure(figsize=(20, 8))\n",
    "plt.title(\"accuracy\")\n",
    "plt.plot(np.arange(len(accuracy_train_all)), accuracy_train_all, '-o', marker='.', label='train')\n",
    "plt.plot(np.arange(len(accuracy_val_all)), accuracy_val_all, '-o', marker='.', label='val')\n",
    "plt.legend()\n",
    "plt.show()"
   ]
  },
  {
   "cell_type": "markdown",
   "metadata": {},
   "source": [
    "# ----------------------------------------------------------------------------------------"
   ]
  },
  {
   "cell_type": "code",
   "execution_count": null,
   "metadata": {},
   "outputs": [],
   "source": []
  }
 ],
 "metadata": {
  "kernelspec": {
   "display_name": "Python 3",
   "language": "python",
   "name": "python3"
  }
 },
 "nbformat": 4,
 "nbformat_minor": 4
}
