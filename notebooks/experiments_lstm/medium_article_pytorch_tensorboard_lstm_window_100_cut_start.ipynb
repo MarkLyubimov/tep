{
 "cells": [
  {
   "cell_type": "code",
   "execution_count": 1,
   "metadata": {},
   "outputs": [
    {
     "name": "stdout",
     "output_type": "stream",
     "text": [
      "cuda:5\n"
     ]
    }
   ],
   "source": [
    "import os\n",
    "import gc\n",
    "import time\n",
    "\n",
    "import pyreadr as py\n",
    "import pandas as pd\n",
    "import numpy as np\n",
    "import seaborn as sns\n",
    "import matplotlib.pyplot as plt\n",
    "\n",
    "from tqdm.notebook import tqdm\n",
    "\n",
    "import torch\n",
    "import torch.nn.functional as F\n",
    "\n",
    "from torch import nn\n",
    "from torch.optim import Adam, RMSprop\n",
    "from torch.optim.lr_scheduler import StepLR, ReduceLROnPlateau\n",
    "from torch.utils.data import Dataset, DataLoader\n",
    "from torch.utils.tensorboard import SummaryWriter\n",
    "from torch.nn.utils.rnn import pad_sequence, pack_padded_sequence, pad_packed_sequence\n",
    "\n",
    "from sklearn.model_selection import train_test_split\n",
    "from sklearn.preprocessing import StandardScaler\n",
    "from sklearn.metrics import confusion_matrix\n",
    "\n",
    "device = torch.device(\"cuda:5\" if torch.cuda.is_available() else \"cpu\")\n",
    "# device = torch.device(\"cpu\")\n",
    "print(device)"
   ]
  },
  {
   "cell_type": "markdown",
   "metadata": {},
   "source": [
    "> ### Data downloading\n",
    "Data link  \n",
    "https://dataverse.harvard.edu/dataset.xhtml?persistentId=doi:10.7910/DVN/6C3JR1"
   ]
  },
  {
   "cell_type": "markdown",
   "metadata": {},
   "source": [
    "##### Data description\n",
    "Here we consoder dataset of \"Additional Tennessee Eastman Process Simulation Data for Anomaly Detection Evaluation\"\n",
    "This dataverse contains the data referenced in Rieth et al. (2017). Issues and Advances in Anomaly Detection Evaluation for Joint Human-Automated Systems. To be presented at Applied Human Factors and Ergonomics 2017.\n",
    "##### Columns description\n",
    "* **faultNumber** ranges from 1 to 20 in the “Faulty” datasets and represents the fault type in the TEP. The “FaultFree” datasets only contain fault 0 (i.e. normal operating conditions).\n",
    "* **simulationRun** ranges from 1 to 500 and represents a different random number generator state from which a full TEP dataset was generated (Note: the actual seeds used to generate training and testing datasets were non-overlapping).\n",
    "* **sample** ranges either from 1 to 500 (“Training” datasets) or 1 to 960 (“Testing” datasets). The TEP variables (columns 4 to 55) were sampled every 3 minutes for a total duration of 25 hours and 48 hours respectively. Note that the faults were introduced 1 and 8 hours into the Faulty Training and Faulty Testing datasets, respectively.\n",
    "* **columns 4-55** contain the process variables; the column names retain the original variable names."
   ]
  },
  {
   "cell_type": "code",
   "execution_count": 2,
   "metadata": {},
   "outputs": [],
   "source": [
    "# ! unzip ../../data/raw/dataverse_files.zip -d ../../data/raw/dataverse_files"
   ]
  },
  {
   "cell_type": "code",
   "execution_count": 3,
   "metadata": {},
   "outputs": [],
   "source": [
    "#reading train data in .R format\n",
    "a1 = py.read_r(\"../../data/raw/dataverse_files/TEP_FaultFree_Training.RData\")\n",
    "a2 = py.read_r(\"../../data/raw/dataverse_files/TEP_Faulty_Training.RData\")"
   ]
  },
  {
   "cell_type": "code",
   "execution_count": 4,
   "metadata": {},
   "outputs": [],
   "source": [
    "#reading test data in .R format\n",
    "# a3 = py.read_r(\"../../data/raw/dataverse_files/TEP_FaultFree_Testing.RData\")\n",
    "# a4 = py.read_r(\"../../data/raw/dataverse_files/TEP_Faulty_Testing.RData\")"
   ]
  },
  {
   "cell_type": "code",
   "execution_count": 5,
   "metadata": {},
   "outputs": [
    {
     "name": "stdout",
     "output_type": "stream",
     "text": [
      "Objects that are present in a1 : odict_keys(['fault_free_training'])\n",
      "Objects that are present in a2 : odict_keys(['faulty_training'])\n"
     ]
    }
   ],
   "source": [
    "print(\"Objects that are present in a1 :\", a1.keys())\n",
    "print(\"Objects that are present in a2 :\", a2.keys())\n",
    "# print(\"Objects that are present in a3 :\", a3.keys())\n",
    "# print(\"Objects that are present in a4 :\", a4.keys())"
   ]
  },
  {
   "cell_type": "code",
   "execution_count": 6,
   "metadata": {},
   "outputs": [],
   "source": [
    "# concatinating the train and the test dataset\n",
    "\n",
    "raw_train = pd.concat([a1['fault_free_training'], a2['faulty_training']])\n",
    "# raw_test = pd.concat([a3['fault_free_testing'], a4['faulty_testing']])"
   ]
  },
  {
   "cell_type": "code",
   "execution_count": 7,
   "metadata": {},
   "outputs": [],
   "source": [
    "# 5.250.000, 10.080.000\n",
    "# len(raw_train), len(raw_test)"
   ]
  },
  {
   "cell_type": "markdown",
   "metadata": {},
   "source": [
    "> ### Train-test-split"
   ]
  },
  {
   "cell_type": "code",
   "execution_count": 8,
   "metadata": {},
   "outputs": [],
   "source": [
    "features = [\n",
    "        'xmeas_1', 'xmeas_2', 'xmeas_3', 'xmeas_4', 'xmeas_5', 'xmeas_6', 'xmeas_7', 'xmeas_8',\n",
    "        'xmeas_9', 'xmeas_10', 'xmeas_11', 'xmeas_12', 'xmeas_13', 'xmeas_14', 'xmeas_15', 'xmeas_16', \n",
    "        'xmeas_17', 'xmeas_18', 'xmeas_19', 'xmeas_20', 'xmeas_21', 'xmeas_22', 'xmeas_23', 'xmeas_24', \n",
    "        'xmeas_25', 'xmeas_26', 'xmeas_27', 'xmeas_28', 'xmeas_29', 'xmeas_30', 'xmeas_31', 'xmeas_32',\n",
    "        'xmeas_33', 'xmeas_34', 'xmeas_35', 'xmeas_36', 'xmeas_37', 'xmeas_38', 'xmeas_39', 'xmeas_40', \n",
    "        'xmeas_41', 'xmv_1', 'xmv_2', 'xmv_3', 'xmv_4', 'xmv_5', 'xmv_6', 'xmv_7', 'xmv_8', 'xmv_9', \n",
    "        'xmv_10', 'xmv_11'\n",
    "    ]"
   ]
  },
  {
   "cell_type": "code",
   "execution_count": 9,
   "metadata": {},
   "outputs": [],
   "source": [
    "raw_train['index'] = raw_train['faultNumber'] * 500 + raw_train['simulationRun'] - 1\n",
    "# raw_test['index'] = raw_test['faultNumber'] * 500 + raw_test['simulationRun'] - 1"
   ]
  },
  {
   "cell_type": "code",
   "execution_count": 10,
   "metadata": {},
   "outputs": [],
   "source": [
    "simulation_idx = raw_train[['index', 'faultNumber']].drop_duplicates()"
   ]
  },
  {
   "cell_type": "code",
   "execution_count": 11,
   "metadata": {},
   "outputs": [],
   "source": [
    "X_train_idx, X_val_idx = train_test_split(simulation_idx['index'], \n",
    "                                          stratify=simulation_idx['faultNumber'],\n",
    "                                          test_size=0.2, \n",
    "                                          random_state=42)"
   ]
  },
  {
   "cell_type": "code",
   "execution_count": 12,
   "metadata": {},
   "outputs": [],
   "source": [
    "X_train = raw_train[raw_train['index'].isin(X_train_idx)].drop('index', axis=1)\n",
    "X_val = raw_train[raw_train['index'].isin(X_val_idx)].drop('index', axis=1)\n",
    "# X_test = raw_test.drop('index', axis=1)"
   ]
  },
  {
   "cell_type": "markdown",
   "metadata": {},
   "source": [
    "> ### Scaling"
   ]
  },
  {
   "cell_type": "code",
   "execution_count": 13,
   "metadata": {},
   "outputs": [],
   "source": [
    "scaler = StandardScaler()\n",
    "scaler.fit(X_train[features])\n",
    "\n",
    "X_train[features] = scaler.transform(X_train[features])\n",
    "X_val[features] = scaler.transform(X_val[features])\n",
    "# X_test[features] = scaler.transform(X_test[features])"
   ]
  },
  {
   "cell_type": "markdown",
   "metadata": {},
   "source": [
    "> ### Dataset and dataloader"
   ]
  },
  {
   "cell_type": "code",
   "execution_count": 14,
   "metadata": {},
   "outputs": [],
   "source": [
    "def correct(y_pred, target):\n",
    "    \n",
    "    y_pred = torch.softmax(y_pred, dim=1)\n",
    "    y_pred = torch.max(y_pred, dim=1)[1]  \n",
    "    \n",
    "    return torch.eq(y_pred, target).sum().item()"
   ]
  },
  {
   "cell_type": "code",
   "execution_count": 15,
   "metadata": {},
   "outputs": [],
   "source": [
    "# s_list = [0, 100, 200, 300, 400] #len = 5\n",
    "# l_list = [1, 5, 10, 25, 50, 100] #len = 6\n",
    "\n",
    "\n",
    "# for idx in range(239, 271): \n",
    "\n",
    "#     fault_sim_idx = idx // (len(s_list) * len(l_list))\n",
    "    \n",
    "#     start_length_idxs = idx % (len(s_list) * len(l_list))\n",
    "    \n",
    "#     print(fault_sim_idx, start_length_idxs)\n",
    "#     start_idx = s_list[start_length_idxs // len(l_list)]\n",
    "#     seq_length = l_list[start_length_idxs % len(l_list)]\n",
    "#     print(\"start:\", start_idx)\n",
    "#     print(\"length:\", seq_length)\n",
    "    \n",
    "#     X_train_tmp = X_train[X_train['index'] == fault_sim_idx].values[start_idx:start_idx+seq_length, :]\n",
    "    \n",
    "#     print(X_train_tmp.shape)"
   ]
  },
  {
   "cell_type": "code",
   "execution_count": 30,
   "metadata": {},
   "outputs": [],
   "source": [
    "class DataTEP(Dataset):\n",
    "\n",
    "    def __init__(self, X):\n",
    "    \n",
    "        self.X = X\n",
    "        self.X = self.X.sort_values(['faultNumber', 'simulationRun', 'sample'])\n",
    "        self.X['index'] = self.X.groupby(['faultNumber', 'simulationRun']).ngroup()\n",
    "        self.X = self.X.set_index('index')\n",
    "        \n",
    "#         self.s_list = [20, 100, 200, 300, 400]\n",
    "        self.s_list = [300]\n",
    "#         self.l_list = [1, 5, 10, 25, 50, 100]\n",
    "#         self.l_list = [10, 50]\n",
    "        self.l_list = [100]\n",
    "        \n",
    "        self.features = [\n",
    "                'xmeas_1', 'xmeas_2', 'xmeas_3', 'xmeas_4', 'xmeas_5', 'xmeas_6', 'xmeas_7', 'xmeas_8', 'xmeas_9', \n",
    "                'xmeas_10', 'xmeas_11', 'xmeas_12', 'xmeas_13', 'xmeas_14', 'xmeas_15', 'xmeas_16', 'xmeas_17', \n",
    "                'xmeas_18', 'xmeas_19', 'xmeas_20', 'xmeas_21', 'xmeas_22', 'xmeas_23', 'xmeas_24', 'xmeas_25', \n",
    "                'xmeas_26', 'xmeas_27', 'xmeas_28', 'xmeas_29', 'xmeas_30', 'xmeas_31', 'xmeas_32', 'xmeas_33', \n",
    "                'xmeas_34', 'xmeas_35', 'xmeas_36', 'xmeas_37', 'xmeas_38', 'xmeas_39', 'xmeas_40', 'xmeas_41', \n",
    "                'xmv_1', 'xmv_2', 'xmv_3', 'xmv_4', 'xmv_5', 'xmv_6', 'xmv_7', 'xmv_8', 'xmv_9', 'xmv_10', 'xmv_11'\n",
    "            ]\n",
    "\n",
    "    def __len__(self):\n",
    "        return self.X.index.nunique() * len(self.s_list) * len(self.l_list)\n",
    "    \n",
    "    def __getitem__(self, idx):\n",
    "        \n",
    "        fault_sim_idx = idx // (len(self.s_list) * len(self.l_list))\n",
    "    \n",
    "        start_length_idxs = idx % (len(self.s_list) * len(self.l_list))\n",
    "        \n",
    "        start_idx = self.s_list[start_length_idxs // len(self.l_list)]\n",
    "        seq_length = self.l_list[start_length_idxs % len(self.l_list)]\n",
    "        \n",
    "#         print(start_idx, start_idx+seq_length)\n",
    "\n",
    "        features = self.X.loc[fault_sim_idx][self.features].values[start_idx : (start_idx+seq_length), :]\n",
    "        target = self.X.loc[fault_sim_idx]['faultNumber'].unique()[0]\n",
    "\n",
    "        features = torch.tensor(features, dtype=torch.float)\n",
    "        target = torch.tensor(target, dtype=torch.long)\n",
    "\n",
    "        return features, target"
   ]
  },
  {
   "cell_type": "code",
   "execution_count": 31,
   "metadata": {},
   "outputs": [],
   "source": [
    "BATCH_SIZE = 64\n",
    "NUM_CLASSES = 21"
   ]
  },
  {
   "cell_type": "code",
   "execution_count": 32,
   "metadata": {},
   "outputs": [],
   "source": [
    "def collate_fn(batch):\n",
    "\n",
    "    sequences = [x[0] for x in batch]\n",
    "    labels = [x[1] for x in batch]\n",
    "        \n",
    "    lengths = torch.LongTensor([len(x) for x in sequences])\n",
    "    lengths, idx = lengths.sort(0, descending=True)\n",
    "    \n",
    "    sequences = [sequences[i] for i in idx]\n",
    "    \n",
    "    labels = torch.tensor(labels, dtype=torch.long)[idx]\n",
    "    \n",
    "    sequences_padded = pad_sequence(sequences, batch_first=True)\n",
    "\n",
    "    return sequences_padded, lengths, labels"
   ]
  },
  {
   "cell_type": "code",
   "execution_count": 33,
   "metadata": {},
   "outputs": [],
   "source": [
    "train_ds = DataTEP(X_train)\n",
    "train_dl = DataLoader(train_ds, batch_size=BATCH_SIZE, collate_fn=collate_fn, shuffle=True)\n",
    "\n",
    "val_ds = DataTEP(X_val)\n",
    "val_dl = DataLoader(val_ds, batch_size=BATCH_SIZE*4, collate_fn=collate_fn)\n",
    "\n",
    "# test_ds = DataTEP(X_test)\n",
    "# test_dl = DataLoader(test_ds, batch_size=BATCH_SIZE*4, collate_fn=collate_fn)"
   ]
  },
  {
   "cell_type": "code",
   "execution_count": 34,
   "metadata": {},
   "outputs": [
    {
     "data": {
      "text/plain": [
       "(8400, 2100)"
      ]
     },
     "execution_count": 34,
     "metadata": {},
     "output_type": "execute_result"
    }
   ],
   "source": [
    "len(train_ds), len(val_ds)"
   ]
  },
  {
   "cell_type": "code",
   "execution_count": 35,
   "metadata": {},
   "outputs": [
    {
     "data": {
      "text/plain": [
       "7"
      ]
     },
     "execution_count": 35,
     "metadata": {},
     "output_type": "execute_result"
    }
   ],
   "source": [
    "gc.collect()"
   ]
  },
  {
   "cell_type": "markdown",
   "metadata": {},
   "source": [
    "> ### Model"
   ]
  },
  {
   "cell_type": "code",
   "execution_count": 36,
   "metadata": {},
   "outputs": [],
   "source": [
    "class TwinModel(torch.nn.Module) :\n",
    "    def __init__(self, NUM_LAYERS, INPUT_SIZE, HIDDEN_SIZE, LINEAR_SIZE, OUTPUT_SIZE, BIDIRECTIONAL, DEVICE):\n",
    "        super().__init__()\n",
    "        \n",
    "        self.hidden_size = HIDDEN_SIZE\n",
    "        self.num_layers = NUM_LAYERS\n",
    "        self.input_size = INPUT_SIZE\n",
    "        self.linear_size = LINEAR_SIZE\n",
    "        self.output_size = OUTPUT_SIZE\n",
    "        self.bidirectional = BIDIRECTIONAL\n",
    "        \n",
    "        self.lstm_1 = nn.LSTM(\n",
    "                        input_size=self.input_size[0], \n",
    "                        hidden_size=self.hidden_size,\n",
    "                        num_layers=self.num_layers, \n",
    "                        bidirectional=self.bidirectional,\n",
    "                        batch_first=True,\n",
    "                        dropout=0.4\n",
    "            )\n",
    "        \n",
    "        self.lstm_2 = nn.LSTM(\n",
    "                        input_size=self.input_size[1],\n",
    "                        hidden_size=self.hidden_size,\n",
    "                        num_layers=self.num_layers, \n",
    "                        bidirectional=self.bidirectional,\n",
    "                        batch_first=True,\n",
    "                        dropout=0.4\n",
    "            )\n",
    "        \n",
    "        \n",
    "        self.head = nn.Sequential(\n",
    "                        nn.Linear(in_features=2*self.hidden_size*(self.bidirectional+1), out_features=self.linear_size),\n",
    "                        nn.ReLU(),\n",
    "                        nn.Dropout(p=0.4),\n",
    "                        nn.Linear(in_features=self.linear_size, out_features=OUTPUT_SIZE),\n",
    "            )\n",
    "        \n",
    "    def forward(self, x):\n",
    "        \n",
    "        x_1 = x[:, :, :41]\n",
    "        x_2 = x[:, :, 41:]\n",
    "        \n",
    "        x_1, _ = self.lstm_1(x_1)\n",
    "        x_2, __ = self.lstm_2(x_2)\n",
    "        \n",
    "        x_3 = torch.cat((x_1[:, -1], x_2[:, -1]), dim=-1)\n",
    "        \n",
    "        x = self.head(x_3)\n",
    "        \n",
    "        return x"
   ]
  },
  {
   "cell_type": "code",
   "execution_count": 37,
   "metadata": {},
   "outputs": [],
   "source": [
    "class UniModel(torch.nn.Module) :\n",
    "    def __init__(self, NUM_LAYERS, INPUT_SIZE, HIDDEN_SIZE, LINEAR_SIZE, OUTPUT_SIZE, BIDIRECTIONAL, DEVICE):\n",
    "        super().__init__()\n",
    "        \n",
    "        self.hidden_size = HIDDEN_SIZE\n",
    "        self.num_layers = NUM_LAYERS\n",
    "        self.input_size = INPUT_SIZE\n",
    "        self.linear_size = LINEAR_SIZE\n",
    "        self.output_size = OUTPUT_SIZE\n",
    "        self.bidirectional = BIDIRECTIONAL\n",
    "        \n",
    "        self.lstm = nn.LSTM(\n",
    "                        input_size=self.input_size, \n",
    "                        hidden_size=self.hidden_size,\n",
    "                        num_layers=self.num_layers, \n",
    "                        bidirectional=self.bidirectional,\n",
    "                        batch_first=True,\n",
    "                        dropout=0.4\n",
    "            )\n",
    "        \n",
    "        self.head = nn.Sequential(\n",
    "                        nn.Linear(in_features=self.hidden_size*(self.bidirectional+1), out_features=self.linear_size),\n",
    "                        nn.ReLU(),\n",
    "                        nn.Dropout(p=0.4),\n",
    "                        nn.Linear(in_features=self.linear_size, out_features=OUTPUT_SIZE),\n",
    "            )\n",
    "        \n",
    "    def forward(self, x, x_length):\n",
    "        \n",
    "        x_packed = pack_padded_sequence(x, x_length, batch_first=True)\n",
    "        \n",
    "        x_lstm_out, _ = self.lstm(x_packed)\n",
    "        \n",
    "        x_unpacked, _ = pad_packed_sequence(x_lstm_out, batch_first=True)\n",
    "        \n",
    "        x = self.head(x_unpacked[:, -1])\n",
    "        \n",
    "        return x"
   ]
  },
  {
   "cell_type": "code",
   "execution_count": 38,
   "metadata": {},
   "outputs": [],
   "source": [
    "NUM_EPOCHS = 100\n",
    "LEARNING_RATE = 0.001\n",
    "\n",
    "NUM_LAYERS = 2\n",
    "HIDDEN_SIZE = 256\n",
    "LINEAR_SIZE = 128\n",
    "BIDIRECTIONAL = True"
   ]
  },
  {
   "cell_type": "code",
   "execution_count": 53,
   "metadata": {},
   "outputs": [
    {
     "data": {
      "text/plain": [
       "<torch._C.Generator at 0x7fab3a5b0b50>"
      ]
     },
     "execution_count": 53,
     "metadata": {},
     "output_type": "execute_result"
    }
   ],
   "source": [
    "model = UniModel(NUM_LAYERS=NUM_LAYERS, INPUT_SIZE=52, HIDDEN_SIZE=HIDDEN_SIZE, \n",
    "                 LINEAR_SIZE=LINEAR_SIZE, OUTPUT_SIZE=NUM_CLASSES, BIDIRECTIONAL=BIDIRECTIONAL, DEVICE=device)\n",
    "\n",
    "# model = TwinModel(NUM_LAYERS=NUM_LAYERS, INPUT_SIZE=[41, 11], HIDDEN_SIZE=HIDDEN_SIZE,\n",
    "#                  LINEAR_SIZE=LINEAR_SIZE, OUTPUT_SIZE=NUM_CLASSES, BIDIRECTIONAL=BIDIRECTIONAL, DEVICE=device)\n",
    "\n",
    "model = model.to(device)\n",
    "\n",
    "optimizer = torch.optim.Adam(model.parameters(), lr=LEARNING_RATE)\n",
    "criterion = nn.CrossEntropyLoss()\n",
    "scheduler = StepLR(optimizer, step_size=25, gamma=0.5)\n",
    "# scheduler = ReduceLROnPlateau(optimizer, mode='min', verbose=True)\n",
    "\n",
    "torch.manual_seed(42)"
   ]
  },
  {
   "cell_type": "code",
   "execution_count": 54,
   "metadata": {},
   "outputs": [
    {
     "name": "stdout",
     "output_type": "stream",
     "text": [
      "<class 'torch.Tensor'> <class 'torch.Tensor'> <class 'torch.Tensor'>\n",
      "64 64 64\n",
      "y_batch_train.size() torch.Size([64])\n",
      "y_pred_train.size() torch.Size([64, 21]) \n",
      "\n"
     ]
    }
   ],
   "source": [
    "for i, (X_batch, X_lengths, y_batch) in enumerate(train_dl):\n",
    "    if i < 1:\n",
    "        print(type(X_batch), type(X_lengths), type(y_batch))\n",
    "        print(len(X_batch), len(X_lengths), len(y_batch))\n",
    "        X_batch, y_batch_train = X_batch.to(device), y_batch.to(device)\n",
    "        y_pred_train = model(X_batch, X_lengths)\n",
    "        print(\"y_batch_train.size()\", y_batch.size())\n",
    "        print(\"y_pred_train.size()\", y_pred_train.size(), '\\n')\n",
    "    else:\n",
    "        break"
   ]
  },
  {
   "cell_type": "code",
   "execution_count": 55,
   "metadata": {},
   "outputs": [],
   "source": [
    "# !rm -r runs"
   ]
  },
  {
   "cell_type": "markdown",
   "metadata": {},
   "source": [
    "> ### Training"
   ]
  },
  {
   "cell_type": "code",
   "execution_count": 56,
   "metadata": {},
   "outputs": [],
   "source": [
    "# writer = SummaryWriter(comment=f'NL{NUM_LAYERS}_H{HIDDEN_SIZE}_L{LINEAR_SIZE}_B{BIDIRECTIONAL}_S{-100}')\n",
    "\n",
    "writer = SummaryWriter(comment=f'vizualization')"
   ]
  },
  {
   "cell_type": "code",
   "execution_count": 58,
   "metadata": {
    "scrolled": true
   },
   "outputs": [
    {
     "name": "stdout",
     "output_type": "stream",
     "text": [
      "Epoch: 0, Learning Rate: 0.001\n",
      "\n"
     ]
    },
    {
     "data": {
      "application/vnd.jupyter.widget-view+json": {
       "model_id": "7c116ec491c54a37b0d421003552c009",
       "version_major": 2,
       "version_minor": 0
      },
      "text/plain": [
       "HBox(children=(FloatProgress(value=0.0, max=132.0), HTML(value='')))"
      ]
     },
     "metadata": {},
     "output_type": "display_data"
    },
    {
     "name": "stdout",
     "output_type": "stream",
     "text": [
      "\n",
      "tensor(-2.2227e-05, device='cuda:5')\n",
      "tensor(-4.0504e-05, device='cuda:5')\n",
      "tensor(-0.0027, device='cuda:5')\n",
      "tensor(-0.0027, device='cuda:5')\n",
      "tensor(-0.0002, device='cuda:5')\n",
      "tensor(7.5789e-06, device='cuda:5')\n",
      "tensor(0.0051, device='cuda:5')\n",
      "tensor(0.0051, device='cuda:5')\n",
      "tensor(-2.1792e-07, device='cuda:5')\n",
      "tensor(4.8510e-06, device='cuda:5')\n",
      "tensor(7.3672e-05, device='cuda:5')\n",
      "tensor(7.3672e-05, device='cuda:5')\n",
      "tensor(-7.5441e-07, device='cuda:5')\n",
      "tensor(0., device='cuda:5')\n",
      "tensor(-0.0002, device='cuda:5')\n",
      "tensor(-0.0002, device='cuda:5')\n",
      "tensor(2.3729e-05, device='cuda:5')\n",
      "tensor(0.0016, device='cuda:5')\n",
      "tensor(-1.4893e-11, device='cuda:5')\n",
      "tensor(-7.0958e-10, device='cuda:5')\n"
     ]
    },
    {
     "data": {
      "application/vnd.jupyter.widget-view+json": {
       "model_id": "207a9eeb49a545708faae94d2842c911",
       "version_major": 2,
       "version_minor": 0
      },
      "text/plain": [
       "HBox(children=(FloatProgress(value=0.0, max=9.0), HTML(value='')))"
      ]
     },
     "metadata": {},
     "output_type": "display_data"
    },
    {
     "name": "stdout",
     "output_type": "stream",
     "text": [
      "\n",
      "epoch time: 25.810552835464478\n",
      "mean loss train: 1.5431152491342455, mean loss val: 1.3561698012124925\n",
      "accuracy train: 0.4583333333333333, accuracy val: 0.4980952380952381\n",
      "---------------------------------------------------------------------------------------------------\n",
      "Epoch: 1, Learning Rate: 0.001\n",
      "\n"
     ]
    },
    {
     "data": {
      "application/vnd.jupyter.widget-view+json": {
       "model_id": "7d963f5deaa1455e9621ec0bc729661e",
       "version_major": 2,
       "version_minor": 0
      },
      "text/plain": [
       "HBox(children=(FloatProgress(value=0.0, max=132.0), HTML(value='')))"
      ]
     },
     "metadata": {},
     "output_type": "display_data"
    },
    {
     "name": "stdout",
     "output_type": "stream",
     "text": [
      "\n",
      "tensor(-6.1874e-05, device='cuda:5')\n",
      "tensor(1.0712e-05, device='cuda:5')\n",
      "tensor(0.0060, device='cuda:5')\n",
      "tensor(0.0060, device='cuda:5')\n",
      "tensor(-1.9147e-05, device='cuda:5')\n",
      "tensor(-2.3461e-07, device='cuda:5')\n",
      "tensor(-9.3898e-05, device='cuda:5')\n",
      "tensor(-9.3898e-05, device='cuda:5')\n",
      "tensor(4.4319e-07, device='cuda:5')\n",
      "tensor(-4.8794e-06, device='cuda:5')\n",
      "tensor(-0.0002, device='cuda:5')\n",
      "tensor(-0.0002, device='cuda:5')\n",
      "tensor(-3.2534e-07, device='cuda:5')\n",
      "tensor(0., device='cuda:5')\n",
      "tensor(9.6623e-05, device='cuda:5')\n",
      "tensor(9.6623e-05, device='cuda:5')\n",
      "tensor(2.1090e-05, device='cuda:5')\n",
      "tensor(0.0010, device='cuda:5')\n",
      "tensor(5.9178e-09, device='cuda:5')\n",
      "tensor(3.5479e-09, device='cuda:5')\n"
     ]
    },
    {
     "data": {
      "application/vnd.jupyter.widget-view+json": {
       "model_id": "ff1936f567964dd4a8e42f259f6a1c6e",
       "version_major": 2,
       "version_minor": 0
      },
      "text/plain": [
       "HBox(children=(FloatProgress(value=0.0, max=9.0), HTML(value='')))"
      ]
     },
     "metadata": {},
     "output_type": "display_data"
    },
    {
     "name": "stdout",
     "output_type": "stream",
     "text": [
      "\n",
      "epoch time: 26.48942255973816\n",
      "mean loss train: 1.249798673221043, mean loss val: 0.9357929618018014\n",
      "accuracy train: 0.550952380952381, accuracy val: 0.6714285714285714\n",
      "---------------------------------------------------------------------------------------------------\n",
      "Epoch: 2, Learning Rate: 0.001\n",
      "\n"
     ]
    },
    {
     "data": {
      "application/vnd.jupyter.widget-view+json": {
       "model_id": "8bde2c18ab774dbd8bd00fe8f72caf1f",
       "version_major": 2,
       "version_minor": 0
      },
      "text/plain": [
       "HBox(children=(FloatProgress(value=0.0, max=132.0), HTML(value='')))"
      ]
     },
     "metadata": {},
     "output_type": "display_data"
    },
    {
     "name": "stdout",
     "output_type": "stream",
     "text": [
      "\n",
      "tensor(0.0001, device='cuda:5')\n",
      "tensor(1.0665e-05, device='cuda:5')\n",
      "tensor(-0.0005, device='cuda:5')\n",
      "tensor(-0.0005, device='cuda:5')\n",
      "tensor(-2.0168e-05, device='cuda:5')\n",
      "tensor(7.4736e-07, device='cuda:5')\n",
      "tensor(0.0004, device='cuda:5')\n",
      "tensor(0.0004, device='cuda:5')\n",
      "tensor(-3.2117e-07, device='cuda:5')\n",
      "tensor(1.3548e-06, device='cuda:5')\n",
      "tensor(2.0418e-05, device='cuda:5')\n",
      "tensor(2.0418e-05, device='cuda:5')\n",
      "tensor(1.6944e-07, device='cuda:5')\n",
      "tensor(0., device='cuda:5')\n",
      "tensor(4.7055e-05, device='cuda:5')\n",
      "tensor(4.7055e-05, device='cuda:5')\n",
      "tensor(2.7711e-05, device='cuda:5')\n",
      "tensor(0.0019, device='cuda:5')\n",
      "tensor(-1.3388e-09, device='cuda:5')\n",
      "tensor(-3.0157e-09, device='cuda:5')\n"
     ]
    },
    {
     "data": {
      "application/vnd.jupyter.widget-view+json": {
       "model_id": "5d7e5db898a3427a96b4d88802eb97f0",
       "version_major": 2,
       "version_minor": 0
      },
      "text/plain": [
       "HBox(children=(FloatProgress(value=0.0, max=9.0), HTML(value='')))"
      ]
     },
     "metadata": {},
     "output_type": "display_data"
    },
    {
     "name": "stdout",
     "output_type": "stream",
     "text": [
      "\n",
      "epoch time: 25.97634983062744\n",
      "mean loss train: 0.8439759817577543, mean loss val: 0.6763085132730858\n",
      "accuracy train: 0.6788095238095239, accuracy val: 0.74\n",
      "---------------------------------------------------------------------------------------------------\n",
      "Epoch: 3, Learning Rate: 0.001\n",
      "\n"
     ]
    },
    {
     "data": {
      "application/vnd.jupyter.widget-view+json": {
       "model_id": "c1bae510741c4172b115706a32c21059",
       "version_major": 2,
       "version_minor": 0
      },
      "text/plain": [
       "HBox(children=(FloatProgress(value=0.0, max=132.0), HTML(value='')))"
      ]
     },
     "metadata": {},
     "output_type": "display_data"
    },
    {
     "name": "stdout",
     "output_type": "stream",
     "text": [
      "\n",
      "tensor(-3.8148e-05, device='cuda:5')\n",
      "tensor(-5.4199e-06, device='cuda:5')\n",
      "tensor(-0.0009, device='cuda:5')\n",
      "tensor(-0.0009, device='cuda:5')\n",
      "tensor(3.6311e-05, device='cuda:5')\n",
      "tensor(1.4352e-07, device='cuda:5')\n",
      "tensor(-8.0370e-05, device='cuda:5')\n",
      "tensor(-8.0370e-05, device='cuda:5')\n",
      "tensor(7.8189e-07, device='cuda:5')\n",
      "tensor(-1.4969e-07, device='cuda:5')\n",
      "tensor(-3.6041e-05, device='cuda:5')\n",
      "tensor(-3.6041e-05, device='cuda:5')\n",
      "tensor(-2.7457e-06, device='cuda:5')\n",
      "tensor(0., device='cuda:5')\n",
      "tensor(0.0001, device='cuda:5')\n",
      "tensor(0.0001, device='cuda:5')\n",
      "tensor(1.7650e-05, device='cuda:5')\n",
      "tensor(0.0011, device='cuda:5')\n",
      "tensor(-2.1082e-09, device='cuda:5')\n",
      "tensor(-1.9513e-09, device='cuda:5')\n"
     ]
    },
    {
     "data": {
      "application/vnd.jupyter.widget-view+json": {
       "model_id": "d0b8acaff9b8430d92dc76309ed17df3",
       "version_major": 2,
       "version_minor": 0
      },
      "text/plain": [
       "HBox(children=(FloatProgress(value=0.0, max=9.0), HTML(value='')))"
      ]
     },
     "metadata": {},
     "output_type": "display_data"
    },
    {
     "name": "stdout",
     "output_type": "stream",
     "text": [
      "\n",
      "epoch time: 27.006897926330566\n",
      "mean loss train: 0.663127323332287, mean loss val: 0.6161997857530203\n",
      "accuracy train: 0.729047619047619, accuracy val: 0.7476190476190476\n",
      "---------------------------------------------------------------------------------------------------\n",
      "Epoch: 4, Learning Rate: 0.001\n",
      "\n"
     ]
    },
    {
     "data": {
      "application/vnd.jupyter.widget-view+json": {
       "model_id": "c0cbcf4799694ecfa0e7c3b55369e365",
       "version_major": 2,
       "version_minor": 0
      },
      "text/plain": [
       "HBox(children=(FloatProgress(value=0.0, max=132.0), HTML(value='')))"
      ]
     },
     "metadata": {},
     "output_type": "display_data"
    },
    {
     "name": "stdout",
     "output_type": "stream",
     "text": [
      "\n",
      "tensor(1.0360e-05, device='cuda:5')\n",
      "tensor(-1.2776e-06, device='cuda:5')\n",
      "tensor(-0.0002, device='cuda:5')\n",
      "tensor(-0.0002, device='cuda:5')\n",
      "tensor(1.8571e-06, device='cuda:5')\n",
      "tensor(1.1609e-07, device='cuda:5')\n",
      "tensor(-2.0967e-05, device='cuda:5')\n",
      "tensor(-2.0967e-05, device='cuda:5')\n",
      "tensor(-1.3534e-07, device='cuda:5')\n",
      "tensor(-6.1263e-07, device='cuda:5')\n",
      "tensor(2.4259e-06, device='cuda:5')\n",
      "tensor(2.4259e-06, device='cuda:5')\n",
      "tensor(1.0760e-07, device='cuda:5')\n",
      "tensor(0., device='cuda:5')\n",
      "tensor(-6.5583e-06, device='cuda:5')\n",
      "tensor(-6.5583e-06, device='cuda:5')\n",
      "tensor(-2.4398e-06, device='cuda:5')\n",
      "tensor(-4.9785e-05, device='cuda:5')\n",
      "tensor(-4.3237e-09, device='cuda:5')\n",
      "tensor(-4.0801e-09, device='cuda:5')\n"
     ]
    },
    {
     "data": {
      "application/vnd.jupyter.widget-view+json": {
       "model_id": "dae26b5ca2644a22a23650b9cc15022e",
       "version_major": 2,
       "version_minor": 0
      },
      "text/plain": [
       "HBox(children=(FloatProgress(value=0.0, max=9.0), HTML(value='')))"
      ]
     },
     "metadata": {},
     "output_type": "display_data"
    },
    {
     "name": "stdout",
     "output_type": "stream",
     "text": [
      "\n",
      "epoch time: 25.819099187850952\n",
      "mean loss train: 0.6819541998136611, mean loss val: 0.4739405735262803\n",
      "accuracy train: 0.7305952380952381, accuracy val: 0.7985714285714286\n",
      "---------------------------------------------------------------------------------------------------\n",
      "Epoch: 5, Learning Rate: 0.001\n",
      "\n"
     ]
    },
    {
     "data": {
      "application/vnd.jupyter.widget-view+json": {
       "model_id": "e4a73543c029470aacc9b1de361e6b92",
       "version_major": 2,
       "version_minor": 0
      },
      "text/plain": [
       "HBox(children=(FloatProgress(value=0.0, max=132.0), HTML(value='')))"
      ]
     },
     "metadata": {},
     "output_type": "display_data"
    },
    {
     "name": "stdout",
     "output_type": "stream",
     "text": [
      "\n",
      "tensor(5.4955e-07, device='cuda:5')\n",
      "tensor(-9.9568e-07, device='cuda:5')\n",
      "tensor(-4.5729e-05, device='cuda:5')\n",
      "tensor(-4.5729e-05, device='cuda:5')\n",
      "tensor(-7.3257e-07, device='cuda:5')\n",
      "tensor(-1.0338e-07, device='cuda:5')\n",
      "tensor(7.4991e-07, device='cuda:5')\n",
      "tensor(7.4991e-07, device='cuda:5')\n",
      "tensor(-5.9236e-08, device='cuda:5')\n",
      "tensor(-1.4037e-07, device='cuda:5')\n",
      "tensor(-9.7325e-07, device='cuda:5')\n",
      "tensor(-9.7325e-07, device='cuda:5')\n",
      "tensor(-4.0805e-08, device='cuda:5')\n",
      "tensor(0., device='cuda:5')\n",
      "tensor(-6.4371e-06, device='cuda:5')\n",
      "tensor(-6.4371e-06, device='cuda:5')\n",
      "tensor(-1.7184e-06, device='cuda:5')\n",
      "tensor(-0.0001, device='cuda:5')\n",
      "tensor(1.3079e-09, device='cuda:5')\n",
      "tensor(4.6566e-10, device='cuda:5')\n"
     ]
    },
    {
     "data": {
      "application/vnd.jupyter.widget-view+json": {
       "model_id": "142a14b0987449359d08acb88f0e8ef3",
       "version_major": 2,
       "version_minor": 0
      },
      "text/plain": [
       "HBox(children=(FloatProgress(value=0.0, max=9.0), HTML(value='')))"
      ]
     },
     "metadata": {},
     "output_type": "display_data"
    },
    {
     "name": "stdout",
     "output_type": "stream",
     "text": [
      "\n",
      "epoch time: 25.919177770614624\n",
      "mean loss train: 0.4481913833958762, mean loss val: 0.44841029394284954\n",
      "accuracy train: 0.7967857142857143, accuracy val: 0.7885714285714286\n",
      "---------------------------------------------------------------------------------------------------\n",
      "Epoch: 6, Learning Rate: 0.001\n",
      "\n"
     ]
    },
    {
     "data": {
      "application/vnd.jupyter.widget-view+json": {
       "model_id": "e425f0e6785b4db0a328717fe54a7f9a",
       "version_major": 2,
       "version_minor": 0
      },
      "text/plain": [
       "HBox(children=(FloatProgress(value=0.0, max=132.0), HTML(value='')))"
      ]
     },
     "metadata": {},
     "output_type": "display_data"
    },
    {
     "name": "stdout",
     "output_type": "stream",
     "text": [
      "\n",
      "tensor(1.4466e-05, device='cuda:5')\n",
      "tensor(9.6267e-06, device='cuda:5')\n",
      "tensor(0.0003, device='cuda:5')\n",
      "tensor(0.0003, device='cuda:5')\n",
      "tensor(-1.4490e-05, device='cuda:5')\n",
      "tensor(-1.4420e-07, device='cuda:5')\n",
      "tensor(-7.0127e-05, device='cuda:5')\n",
      "tensor(-7.0127e-05, device='cuda:5')\n",
      "tensor(-9.8494e-08, device='cuda:5')\n",
      "tensor(-3.9860e-07, device='cuda:5')\n",
      "tensor(3.0679e-05, device='cuda:5')\n",
      "tensor(3.0679e-05, device='cuda:5')\n",
      "tensor(1.7440e-07, device='cuda:5')\n",
      "tensor(0., device='cuda:5')\n",
      "tensor(-6.0215e-05, device='cuda:5')\n",
      "tensor(-6.0215e-05, device='cuda:5')\n",
      "tensor(-1.7120e-05, device='cuda:5')\n",
      "tensor(-0.0007, device='cuda:5')\n",
      "tensor(-1.6429e-09, device='cuda:5')\n",
      "tensor(-1.9513e-09, device='cuda:5')\n"
     ]
    },
    {
     "data": {
      "application/vnd.jupyter.widget-view+json": {
       "model_id": "23010f6f36ad4b64b139c2ab265959ae",
       "version_major": 2,
       "version_minor": 0
      },
      "text/plain": [
       "HBox(children=(FloatProgress(value=0.0, max=9.0), HTML(value='')))"
      ]
     },
     "metadata": {},
     "output_type": "display_data"
    },
    {
     "name": "stdout",
     "output_type": "stream",
     "text": [
      "\n",
      "epoch time: 26.041329383850098\n",
      "mean loss train: 0.4708738495054699, mean loss val: 0.4055929065877128\n",
      "accuracy train: 0.7884523809523809, accuracy val: 0.8042857142857143\n",
      "---------------------------------------------------------------------------------------------------\n",
      "Epoch: 7, Learning Rate: 0.001\n",
      "\n"
     ]
    },
    {
     "data": {
      "application/vnd.jupyter.widget-view+json": {
       "model_id": "6e0d99b4fcef45a195d540ed12e6522e",
       "version_major": 2,
       "version_minor": 0
      },
      "text/plain": [
       "HBox(children=(FloatProgress(value=0.0, max=132.0), HTML(value='')))"
      ]
     },
     "metadata": {},
     "output_type": "display_data"
    },
    {
     "name": "stdout",
     "output_type": "stream",
     "text": [
      "\n",
      "tensor(9.1816e-06, device='cuda:5')\n",
      "tensor(7.2579e-06, device='cuda:5')\n",
      "tensor(0.0013, device='cuda:5')\n",
      "tensor(0.0013, device='cuda:5')\n",
      "tensor(2.0810e-06, device='cuda:5')\n",
      "tensor(-7.2966e-08, device='cuda:5')\n",
      "tensor(-9.2288e-05, device='cuda:5')\n",
      "tensor(-9.2288e-05, device='cuda:5')\n",
      "tensor(3.7720e-07, device='cuda:5')\n",
      "tensor(1.9498e-06, device='cuda:5')\n",
      "tensor(9.9592e-05, device='cuda:5')\n",
      "tensor(9.9592e-05, device='cuda:5')\n",
      "tensor(-5.7949e-09, device='cuda:5')\n",
      "tensor(0., device='cuda:5')\n",
      "tensor(-6.8140e-05, device='cuda:5')\n",
      "tensor(-6.8140e-05, device='cuda:5')\n",
      "tensor(6.4912e-06, device='cuda:5')\n",
      "tensor(0.0008, device='cuda:5')\n",
      "tensor(-3.0902e-10, device='cuda:5')\n",
      "tensor(7.0958e-10, device='cuda:5')\n"
     ]
    },
    {
     "data": {
      "application/vnd.jupyter.widget-view+json": {
       "model_id": "6c0ae25de5dc42e0826063af098f7698",
       "version_major": 2,
       "version_minor": 0
      },
      "text/plain": [
       "HBox(children=(FloatProgress(value=0.0, max=9.0), HTML(value='')))"
      ]
     },
     "metadata": {},
     "output_type": "display_data"
    },
    {
     "name": "stdout",
     "output_type": "stream",
     "text": [
      "\n",
      "epoch time: 26.775516986846924\n",
      "mean loss train: 0.40590980132420856, mean loss val: 0.4276818442344319\n",
      "accuracy train: 0.8048809523809524, accuracy val: 0.8057142857142857\n",
      "---------------------------------------------------------------------------------------------------\n",
      "Epoch: 8, Learning Rate: 0.001\n",
      "\n"
     ]
    },
    {
     "data": {
      "application/vnd.jupyter.widget-view+json": {
       "model_id": "ab055d7b552a43679e4ad1a1836c41d9",
       "version_major": 2,
       "version_minor": 0
      },
      "text/plain": [
       "HBox(children=(FloatProgress(value=0.0, max=132.0), HTML(value='')))"
      ]
     },
     "metadata": {},
     "output_type": "display_data"
    },
    {
     "name": "stdout",
     "output_type": "stream",
     "text": [
      "\n",
      "tensor(1.0870e-07, device='cuda:5')\n",
      "tensor(2.4889e-09, device='cuda:5')\n",
      "tensor(-1.0921e-05, device='cuda:5')\n",
      "tensor(-1.0921e-05, device='cuda:5')\n",
      "tensor(-1.1710e-06, device='cuda:5')\n",
      "tensor(-6.7060e-08, device='cuda:5')\n",
      "tensor(2.0194e-05, device='cuda:5')\n",
      "tensor(2.0194e-05, device='cuda:5')\n",
      "tensor(-7.1749e-10, device='cuda:5')\n",
      "tensor(-3.0780e-07, device='cuda:5')\n",
      "tensor(-2.5779e-05, device='cuda:5')\n",
      "tensor(-2.5779e-05, device='cuda:5')\n",
      "tensor(-1.5258e-08, device='cuda:5')\n",
      "tensor(0., device='cuda:5')\n",
      "tensor(-7.6781e-06, device='cuda:5')\n",
      "tensor(-7.6781e-06, device='cuda:5')\n",
      "tensor(-6.7931e-07, device='cuda:5')\n",
      "tensor(-0.0003, device='cuda:5')\n",
      "tensor(-1.4110e-09, device='cuda:5')\n",
      "tensor(-1.4192e-09, device='cuda:5')\n"
     ]
    },
    {
     "data": {
      "application/vnd.jupyter.widget-view+json": {
       "model_id": "dec3d582b803473cb0b9caaacf8edfbe",
       "version_major": 2,
       "version_minor": 0
      },
      "text/plain": [
       "HBox(children=(FloatProgress(value=0.0, max=9.0), HTML(value='')))"
      ]
     },
     "metadata": {},
     "output_type": "display_data"
    },
    {
     "name": "stdout",
     "output_type": "stream",
     "text": [
      "\n",
      "epoch time: 26.314732313156128\n",
      "mean loss train: 0.4375185067313058, mean loss val: 0.37690598304073014\n",
      "accuracy train: 0.7933333333333333, accuracy val: 0.8071428571428572\n",
      "---------------------------------------------------------------------------------------------------\n",
      "Epoch: 9, Learning Rate: 0.001\n",
      "\n"
     ]
    },
    {
     "data": {
      "application/vnd.jupyter.widget-view+json": {
       "model_id": "da047ecb5dd947a39367f5bbc882c045",
       "version_major": 2,
       "version_minor": 0
      },
      "text/plain": [
       "HBox(children=(FloatProgress(value=0.0, max=132.0), HTML(value='')))"
      ]
     },
     "metadata": {},
     "output_type": "display_data"
    },
    {
     "name": "stdout",
     "output_type": "stream",
     "text": [
      "\n",
      "tensor(-5.2862e-06, device='cuda:5')\n",
      "tensor(5.0962e-07, device='cuda:5')\n",
      "tensor(0.0001, device='cuda:5')\n",
      "tensor(0.0001, device='cuda:5')\n",
      "tensor(-2.6503e-08, device='cuda:5')\n",
      "tensor(-1.4804e-07, device='cuda:5')\n",
      "tensor(-1.2422e-06, device='cuda:5')\n",
      "tensor(-1.2422e-06, device='cuda:5')\n",
      "tensor(-2.0422e-09, device='cuda:5')\n",
      "tensor(-2.0972e-07, device='cuda:5')\n",
      "tensor(-1.9962e-05, device='cuda:5')\n",
      "tensor(-1.9962e-05, device='cuda:5')\n",
      "tensor(-4.3259e-08, device='cuda:5')\n",
      "tensor(0., device='cuda:5')\n",
      "tensor(-3.2758e-06, device='cuda:5')\n",
      "tensor(-3.2758e-06, device='cuda:5')\n",
      "tensor(-1.0265e-06, device='cuda:5')\n",
      "tensor(-0.0003, device='cuda:5')\n",
      "tensor(4.3601e-09, device='cuda:5')\n",
      "tensor(1.9513e-09, device='cuda:5')\n"
     ]
    },
    {
     "data": {
      "application/vnd.jupyter.widget-view+json": {
       "model_id": "900247c60810419694b586e3a13358dc",
       "version_major": 2,
       "version_minor": 0
      },
      "text/plain": [
       "HBox(children=(FloatProgress(value=0.0, max=9.0), HTML(value='')))"
      ]
     },
     "metadata": {},
     "output_type": "display_data"
    },
    {
     "name": "stdout",
     "output_type": "stream",
     "text": [
      "\n",
      "epoch time: 26.049769639968872\n",
      "mean loss train: 0.36121984192303247, mean loss val: 0.3650312455508503\n",
      "accuracy train: 0.8152380952380952, accuracy val: 0.8142857142857143\n",
      "---------------------------------------------------------------------------------------------------\n",
      "Epoch: 10, Learning Rate: 0.001\n",
      "\n"
     ]
    },
    {
     "data": {
      "application/vnd.jupyter.widget-view+json": {
       "model_id": "4804fcefc9b24c0497aefa0f06def72d",
       "version_major": 2,
       "version_minor": 0
      },
      "text/plain": [
       "HBox(children=(FloatProgress(value=0.0, max=132.0), HTML(value='')))"
      ]
     },
     "metadata": {},
     "output_type": "display_data"
    },
    {
     "name": "stdout",
     "output_type": "stream",
     "text": [
      "\n",
      "tensor(-1.0910e-07, device='cuda:5')\n",
      "tensor(3.6562e-08, device='cuda:5')\n",
      "tensor(-3.3351e-05, device='cuda:5')\n",
      "tensor(-3.3351e-05, device='cuda:5')\n",
      "tensor(-1.8765e-07, device='cuda:5')\n",
      "tensor(-1.0039e-07, device='cuda:5')\n",
      "tensor(-2.6469e-05, device='cuda:5')\n",
      "tensor(-2.6469e-05, device='cuda:5')\n",
      "tensor(-8.8566e-08, device='cuda:5')\n",
      "tensor(-4.0684e-07, device='cuda:5')\n",
      "tensor(-1.9753e-05, device='cuda:5')\n",
      "tensor(-1.9753e-05, device='cuda:5')\n",
      "tensor(-4.9660e-08, device='cuda:5')\n",
      "tensor(0., device='cuda:5')\n",
      "tensor(-2.1586e-05, device='cuda:5')\n",
      "tensor(-2.1586e-05, device='cuda:5')\n",
      "tensor(-2.1831e-06, device='cuda:5')\n",
      "tensor(-0.0002, device='cuda:5')\n",
      "tensor(-7.4592e-09, device='cuda:5')\n",
      "tensor(-5.8540e-09, device='cuda:5')\n"
     ]
    },
    {
     "data": {
      "application/vnd.jupyter.widget-view+json": {
       "model_id": "8fc6d71b78ce41a0968a1006605b280e",
       "version_major": 2,
       "version_minor": 0
      },
      "text/plain": [
       "HBox(children=(FloatProgress(value=0.0, max=9.0), HTML(value='')))"
      ]
     },
     "metadata": {},
     "output_type": "display_data"
    },
    {
     "name": "stdout",
     "output_type": "stream",
     "text": [
      "\n",
      "epoch time: 26.161510467529297\n",
      "mean loss train: 0.3778057182970501, mean loss val: 0.34892668042886293\n",
      "accuracy train: 0.8102380952380952, accuracy val: 0.8247619047619048\n",
      "---------------------------------------------------------------------------------------------------\n",
      "Epoch: 11, Learning Rate: 0.001\n",
      "\n"
     ]
    },
    {
     "data": {
      "application/vnd.jupyter.widget-view+json": {
       "model_id": "4d61d316dbdf4e0fab95f651a43c0076",
       "version_major": 2,
       "version_minor": 0
      },
      "text/plain": [
       "HBox(children=(FloatProgress(value=0.0, max=132.0), HTML(value='')))"
      ]
     },
     "metadata": {},
     "output_type": "display_data"
    },
    {
     "name": "stdout",
     "output_type": "stream",
     "text": [
      "\n",
      "tensor(1.2915e-05, device='cuda:5')\n",
      "tensor(-2.8382e-06, device='cuda:5')\n",
      "tensor(-0.0002, device='cuda:5')\n",
      "tensor(-0.0002, device='cuda:5')\n",
      "tensor(7.0342e-06, device='cuda:5')\n",
      "tensor(-6.7788e-08, device='cuda:5')\n",
      "tensor(4.7383e-05, device='cuda:5')\n",
      "tensor(4.7383e-05, device='cuda:5')\n",
      "tensor(-1.0237e-07, device='cuda:5')\n",
      "tensor(-1.8176e-08, device='cuda:5')\n",
      "tensor(-1.7383e-05, device='cuda:5')\n",
      "tensor(-1.7383e-05, device='cuda:5')\n",
      "tensor(2.1479e-08, device='cuda:5')\n",
      "tensor(0., device='cuda:5')\n",
      "tensor(-1.8786e-05, device='cuda:5')\n",
      "tensor(-1.8786e-05, device='cuda:5')\n",
      "tensor(-3.5567e-06, device='cuda:5')\n",
      "tensor(-0.0002, device='cuda:5')\n",
      "tensor(5.7559e-09, device='cuda:5')\n",
      "tensor(3.8583e-09, device='cuda:5')\n"
     ]
    },
    {
     "data": {
      "application/vnd.jupyter.widget-view+json": {
       "model_id": "ac679d3cbb9841fea983287c4498f969",
       "version_major": 2,
       "version_minor": 0
      },
      "text/plain": [
       "HBox(children=(FloatProgress(value=0.0, max=9.0), HTML(value='')))"
      ]
     },
     "metadata": {},
     "output_type": "display_data"
    },
    {
     "name": "stdout",
     "output_type": "stream",
     "text": [
      "\n",
      "epoch time: 26.789434909820557\n",
      "mean loss train: 0.3578510636375064, mean loss val: 0.3596014815286201\n",
      "accuracy train: 0.8238095238095238, accuracy val: 0.8238095238095238\n",
      "---------------------------------------------------------------------------------------------------\n",
      "Epoch: 12, Learning Rate: 0.001\n",
      "\n"
     ]
    },
    {
     "data": {
      "application/vnd.jupyter.widget-view+json": {
       "model_id": "dd1ab33de4474021a231ea95c9afdbdf",
       "version_major": 2,
       "version_minor": 0
      },
      "text/plain": [
       "HBox(children=(FloatProgress(value=0.0, max=132.0), HTML(value='')))"
      ]
     },
     "metadata": {},
     "output_type": "display_data"
    },
    {
     "name": "stdout",
     "output_type": "stream",
     "text": [
      "\n",
      "tensor(6.9959e-06, device='cuda:5')\n",
      "tensor(-5.4662e-07, device='cuda:5')\n",
      "tensor(-0.0001, device='cuda:5')\n",
      "tensor(-0.0001, device='cuda:5')\n",
      "tensor(3.6450e-06, device='cuda:5')\n",
      "tensor(2.0384e-07, device='cuda:5')\n",
      "tensor(4.9437e-05, device='cuda:5')\n",
      "tensor(4.9437e-05, device='cuda:5')\n",
      "tensor(-1.2636e-07, device='cuda:5')\n",
      "tensor(4.4830e-07, device='cuda:5')\n",
      "tensor(8.1858e-06, device='cuda:5')\n",
      "tensor(8.1858e-06, device='cuda:5')\n",
      "tensor(1.1377e-07, device='cuda:5')\n",
      "tensor(0., device='cuda:5')\n",
      "tensor(3.6548e-05, device='cuda:5')\n",
      "tensor(3.6548e-05, device='cuda:5')\n",
      "tensor(6.6783e-07, device='cuda:5')\n",
      "tensor(2.4294e-05, device='cuda:5')\n",
      "tensor(4.5988e-09, device='cuda:5')\n",
      "tensor(2.4835e-09, device='cuda:5')\n"
     ]
    },
    {
     "data": {
      "application/vnd.jupyter.widget-view+json": {
       "model_id": "1079092ab412404680f239666b5aeb7e",
       "version_major": 2,
       "version_minor": 0
      },
      "text/plain": [
       "HBox(children=(FloatProgress(value=0.0, max=9.0), HTML(value='')))"
      ]
     },
     "metadata": {},
     "output_type": "display_data"
    },
    {
     "name": "stdout",
     "output_type": "stream",
     "text": [
      "\n",
      "epoch time: 26.096448183059692\n",
      "mean loss train: 0.34381994508561636, mean loss val: 0.38291043168050237\n",
      "accuracy train: 0.8288095238095238, accuracy val: 0.8114285714285714\n",
      "---------------------------------------------------------------------------------------------------\n",
      "Epoch: 13, Learning Rate: 0.001\n",
      "\n"
     ]
    },
    {
     "data": {
      "application/vnd.jupyter.widget-view+json": {
       "model_id": "c4705b3dfb2242f5933418b5c4e0c0f3",
       "version_major": 2,
       "version_minor": 0
      },
      "text/plain": [
       "HBox(children=(FloatProgress(value=0.0, max=132.0), HTML(value='')))"
      ]
     },
     "metadata": {},
     "output_type": "display_data"
    },
    {
     "name": "stdout",
     "output_type": "stream",
     "text": [
      "\n",
      "tensor(-1.2112e-05, device='cuda:5')\n",
      "tensor(9.7853e-07, device='cuda:5')\n",
      "tensor(0.0003, device='cuda:5')\n",
      "tensor(0.0003, device='cuda:5')\n",
      "tensor(1.5308e-06, device='cuda:5')\n",
      "tensor(-5.0226e-07, device='cuda:5')\n",
      "tensor(-0.0001, device='cuda:5')\n",
      "tensor(-0.0001, device='cuda:5')\n",
      "tensor(-8.4593e-08, device='cuda:5')\n",
      "tensor(-7.9759e-08, device='cuda:5')\n",
      "tensor(1.1690e-06, device='cuda:5')\n",
      "tensor(1.1690e-06, device='cuda:5')\n",
      "tensor(1.2100e-07, device='cuda:5')\n",
      "tensor(0., device='cuda:5')\n",
      "tensor(1.2001e-05, device='cuda:5')\n",
      "tensor(1.2001e-05, device='cuda:5')\n",
      "tensor(3.2086e-07, device='cuda:5')\n",
      "tensor(0.0003, device='cuda:5')\n",
      "tensor(1.8045e-09, device='cuda:5')\n",
      "tensor(7.9828e-10, device='cuda:5')\n"
     ]
    },
    {
     "data": {
      "application/vnd.jupyter.widget-view+json": {
       "model_id": "482a12551fcb4389bd755933794e070e",
       "version_major": 2,
       "version_minor": 0
      },
      "text/plain": [
       "HBox(children=(FloatProgress(value=0.0, max=9.0), HTML(value='')))"
      ]
     },
     "metadata": {},
     "output_type": "display_data"
    },
    {
     "name": "stdout",
     "output_type": "stream",
     "text": [
      "\n",
      "epoch time: 26.22738766670227\n",
      "mean loss train: 0.35518791255496796, mean loss val: 0.38069110052948374\n",
      "accuracy train: 0.8219047619047619, accuracy val: 0.809047619047619\n",
      "---------------------------------------------------------------------------------------------------\n",
      "Epoch: 14, Learning Rate: 0.001\n",
      "\n"
     ]
    },
    {
     "data": {
      "application/vnd.jupyter.widget-view+json": {
       "model_id": "d7813b21f9ce46489dc957dc5c5e20d7",
       "version_major": 2,
       "version_minor": 0
      },
      "text/plain": [
       "HBox(children=(FloatProgress(value=0.0, max=132.0), HTML(value='')))"
      ]
     },
     "metadata": {},
     "output_type": "display_data"
    },
    {
     "name": "stdout",
     "output_type": "stream",
     "text": [
      "\n",
      "tensor(7.3007e-05, device='cuda:5')\n",
      "tensor(1.4782e-06, device='cuda:5')\n",
      "tensor(-0.0022, device='cuda:5')\n",
      "tensor(-0.0022, device='cuda:5')\n",
      "tensor(-1.3374e-06, device='cuda:5')\n",
      "tensor(2.2077e-07, device='cuda:5')\n",
      "tensor(0.0001, device='cuda:5')\n",
      "tensor(0.0001, device='cuda:5')\n",
      "tensor(4.9519e-07, device='cuda:5')\n",
      "tensor(1.0667e-05, device='cuda:5')\n",
      "tensor(0.0004, device='cuda:5')\n",
      "tensor(0.0004, device='cuda:5')\n",
      "tensor(-7.2987e-08, device='cuda:5')\n",
      "tensor(0., device='cuda:5')\n",
      "tensor(-2.0781e-05, device='cuda:5')\n",
      "tensor(-2.0781e-05, device='cuda:5')\n",
      "tensor(-1.1225e-05, device='cuda:5')\n",
      "tensor(-0.0005, device='cuda:5')\n",
      "tensor(-4.3813e-09, device='cuda:5')\n",
      "tensor(-2.3061e-09, device='cuda:5')\n"
     ]
    },
    {
     "data": {
      "application/vnd.jupyter.widget-view+json": {
       "model_id": "1d1eecb25a884c4590cad42343bbdf5e",
       "version_major": 2,
       "version_minor": 0
      },
      "text/plain": [
       "HBox(children=(FloatProgress(value=0.0, max=9.0), HTML(value='')))"
      ]
     },
     "metadata": {},
     "output_type": "display_data"
    },
    {
     "name": "stdout",
     "output_type": "stream",
     "text": [
      "\n",
      "epoch time: 26.953917741775513\n",
      "mean loss train: 0.3499682891936529, mean loss val: 0.34910234576068994\n",
      "accuracy train: 0.8283333333333334, accuracy val: 0.8280952380952381\n",
      "---------------------------------------------------------------------------------------------------\n",
      "Epoch: 15, Learning Rate: 0.001\n",
      "\n"
     ]
    },
    {
     "data": {
      "application/vnd.jupyter.widget-view+json": {
       "model_id": "f038a86898904a7f9fef6bff38f98462",
       "version_major": 2,
       "version_minor": 0
      },
      "text/plain": [
       "HBox(children=(FloatProgress(value=0.0, max=132.0), HTML(value='')))"
      ]
     },
     "metadata": {},
     "output_type": "display_data"
    },
    {
     "name": "stdout",
     "output_type": "stream",
     "text": [
      "\n",
      "tensor(-8.8632e-07, device='cuda:5')\n",
      "tensor(-3.0878e-07, device='cuda:5')\n",
      "tensor(6.9351e-06, device='cuda:5')\n",
      "tensor(6.9351e-06, device='cuda:5')\n",
      "tensor(-6.5692e-07, device='cuda:5')\n",
      "tensor(-2.2806e-07, device='cuda:5')\n",
      "tensor(-4.9571e-05, device='cuda:5')\n",
      "tensor(-4.9571e-05, device='cuda:5')\n",
      "tensor(-1.1113e-08, device='cuda:5')\n",
      "tensor(-8.1217e-07, device='cuda:5')\n",
      "tensor(-2.7382e-05, device='cuda:5')\n",
      "tensor(-2.7382e-05, device='cuda:5')\n",
      "tensor(2.9276e-08, device='cuda:5')\n",
      "tensor(0., device='cuda:5')\n",
      "tensor(2.6732e-06, device='cuda:5')\n",
      "tensor(2.6732e-06, device='cuda:5')\n",
      "tensor(-5.1111e-06, device='cuda:5')\n",
      "tensor(-0.0002, device='cuda:5')\n",
      "tensor(2.8659e-09, device='cuda:5')\n",
      "tensor(1.9513e-09, device='cuda:5')\n"
     ]
    },
    {
     "data": {
      "application/vnd.jupyter.widget-view+json": {
       "model_id": "0296bd9634ad470aafa9e9db288a4156",
       "version_major": 2,
       "version_minor": 0
      },
      "text/plain": [
       "HBox(children=(FloatProgress(value=0.0, max=9.0), HTML(value='')))"
      ]
     },
     "metadata": {},
     "output_type": "display_data"
    },
    {
     "name": "stdout",
     "output_type": "stream",
     "text": [
      "\n",
      "epoch time: 25.887096166610718\n",
      "mean loss train: 0.36232299086593445, mean loss val: 0.3420476933884701\n",
      "accuracy train: 0.8207142857142857, accuracy val: 0.8228571428571428\n",
      "---------------------------------------------------------------------------------------------------\n",
      "Epoch: 16, Learning Rate: 0.001\n",
      "\n"
     ]
    },
    {
     "data": {
      "application/vnd.jupyter.widget-view+json": {
       "model_id": "02b08a0ec9c54113b6ee27538c427ad3",
       "version_major": 2,
       "version_minor": 0
      },
      "text/plain": [
       "HBox(children=(FloatProgress(value=0.0, max=132.0), HTML(value='')))"
      ]
     },
     "metadata": {},
     "output_type": "display_data"
    },
    {
     "name": "stdout",
     "output_type": "stream",
     "text": [
      "\n",
      "tensor(0.0003, device='cuda:5')\n",
      "tensor(-1.9549e-05, device='cuda:5')\n",
      "tensor(-0.0025, device='cuda:5')\n",
      "tensor(-0.0025, device='cuda:5')\n",
      "tensor(1.1904e-05, device='cuda:5')\n",
      "tensor(4.1266e-06, device='cuda:5')\n",
      "tensor(-0.0007, device='cuda:5')\n",
      "tensor(-0.0007, device='cuda:5')\n",
      "tensor(-1.4628e-06, device='cuda:5')\n",
      "tensor(-1.0396e-06, device='cuda:5')\n",
      "tensor(-0.0005, device='cuda:5')\n",
      "tensor(-0.0005, device='cuda:5')\n",
      "tensor(-2.3226e-07, device='cuda:5')\n",
      "tensor(0., device='cuda:5')\n",
      "tensor(1.8794e-05, device='cuda:5')\n",
      "tensor(1.8794e-05, device='cuda:5')\n",
      "tensor(-9.8920e-07, device='cuda:5')\n",
      "tensor(0.0002, device='cuda:5')\n",
      "tensor(-8.9448e-10, device='cuda:5')\n",
      "tensor(-1.0644e-09, device='cuda:5')\n"
     ]
    },
    {
     "data": {
      "application/vnd.jupyter.widget-view+json": {
       "model_id": "a61419145bfe456b8738a74125fbf23c",
       "version_major": 2,
       "version_minor": 0
      },
      "text/plain": [
       "HBox(children=(FloatProgress(value=0.0, max=9.0), HTML(value='')))"
      ]
     },
     "metadata": {},
     "output_type": "display_data"
    },
    {
     "name": "stdout",
     "output_type": "stream",
     "text": [
      "\n",
      "epoch time: 26.69345211982727\n",
      "mean loss train: 0.3295134929248265, mean loss val: 0.3266386924471174\n",
      "accuracy train: 0.8282142857142857, accuracy val: 0.8328571428571429\n",
      "---------------------------------------------------------------------------------------------------\n",
      "Epoch: 17, Learning Rate: 0.001\n",
      "\n"
     ]
    },
    {
     "data": {
      "application/vnd.jupyter.widget-view+json": {
       "model_id": "fecfee5d06164e94b2a00939566583c5",
       "version_major": 2,
       "version_minor": 0
      },
      "text/plain": [
       "HBox(children=(FloatProgress(value=0.0, max=132.0), HTML(value='')))"
      ]
     },
     "metadata": {},
     "output_type": "display_data"
    },
    {
     "name": "stdout",
     "output_type": "stream",
     "text": [
      "\n",
      "tensor(-8.4853e-07, device='cuda:5')\n",
      "tensor(-4.8402e-07, device='cuda:5')\n",
      "tensor(-1.4827e-05, device='cuda:5')\n",
      "tensor(-1.4827e-05, device='cuda:5')\n",
      "tensor(-1.3653e-07, device='cuda:5')\n",
      "tensor(-2.1590e-08, device='cuda:5')\n",
      "tensor(-6.5295e-06, device='cuda:5')\n",
      "tensor(-6.5295e-06, device='cuda:5')\n",
      "tensor(-2.6784e-08, device='cuda:5')\n",
      "tensor(1.6224e-07, device='cuda:5')\n",
      "tensor(-4.2582e-06, device='cuda:5')\n",
      "tensor(-4.2582e-06, device='cuda:5')\n",
      "tensor(-5.6016e-08, device='cuda:5')\n",
      "tensor(0., device='cuda:5')\n",
      "tensor(-1.1415e-05, device='cuda:5')\n",
      "tensor(-1.1415e-05, device='cuda:5')\n",
      "tensor(-8.9452e-07, device='cuda:5')\n",
      "tensor(-0.0002, device='cuda:5')\n",
      "tensor(1.0093e-08, device='cuda:5')\n",
      "tensor(6.6080e-09, device='cuda:5')\n"
     ]
    },
    {
     "data": {
      "application/vnd.jupyter.widget-view+json": {
       "model_id": "99a8f9eb36314f4d8673c4e67068c70a",
       "version_major": 2,
       "version_minor": 0
      },
      "text/plain": [
       "HBox(children=(FloatProgress(value=0.0, max=9.0), HTML(value='')))"
      ]
     },
     "metadata": {},
     "output_type": "display_data"
    },
    {
     "name": "stdout",
     "output_type": "stream",
     "text": [
      "\n",
      "epoch time: 25.639041662216187\n",
      "mean loss train: 0.3387790656657446, mean loss val: 0.3398198600042434\n",
      "accuracy train: 0.8298809523809524, accuracy val: 0.8295238095238096\n",
      "---------------------------------------------------------------------------------------------------\n",
      "Epoch: 18, Learning Rate: 0.001\n",
      "\n"
     ]
    },
    {
     "data": {
      "application/vnd.jupyter.widget-view+json": {
       "model_id": "e235fba436974a44b1b9c6f5d993257f",
       "version_major": 2,
       "version_minor": 0
      },
      "text/plain": [
       "HBox(children=(FloatProgress(value=0.0, max=132.0), HTML(value='')))"
      ]
     },
     "metadata": {},
     "output_type": "display_data"
    },
    {
     "name": "stdout",
     "output_type": "stream",
     "text": [
      "\n",
      "tensor(9.2835e-07, device='cuda:5')\n",
      "tensor(4.6658e-09, device='cuda:5')\n",
      "tensor(-1.9163e-05, device='cuda:5')\n",
      "tensor(-1.9163e-05, device='cuda:5')\n",
      "tensor(8.5815e-07, device='cuda:5')\n",
      "tensor(2.0500e-09, device='cuda:5')\n",
      "tensor(-4.4795e-06, device='cuda:5')\n",
      "tensor(-4.4795e-06, device='cuda:5')\n",
      "tensor(1.2471e-08, device='cuda:5')\n",
      "tensor(1.6654e-07, device='cuda:5')\n",
      "tensor(4.1284e-06, device='cuda:5')\n",
      "tensor(4.1284e-06, device='cuda:5')\n",
      "tensor(-1.0672e-08, device='cuda:5')\n",
      "tensor(0., device='cuda:5')\n",
      "tensor(-6.2379e-06, device='cuda:5')\n",
      "tensor(-6.2379e-06, device='cuda:5')\n",
      "tensor(-1.6324e-06, device='cuda:5')\n",
      "tensor(-6.9361e-05, device='cuda:5')\n",
      "tensor(4.5146e-09, device='cuda:5')\n",
      "tensor(3.5479e-09, device='cuda:5')\n"
     ]
    },
    {
     "data": {
      "application/vnd.jupyter.widget-view+json": {
       "model_id": "edc2c37b3e484fbeb757e58c6ee99bed",
       "version_major": 2,
       "version_minor": 0
      },
      "text/plain": [
       "HBox(children=(FloatProgress(value=0.0, max=9.0), HTML(value='')))"
      ]
     },
     "metadata": {},
     "output_type": "display_data"
    },
    {
     "name": "stdout",
     "output_type": "stream",
     "text": [
      "\n",
      "epoch time: 25.882524728775024\n",
      "mean loss train: 0.318406282606579, mean loss val: 0.3167350837163256\n",
      "accuracy train: 0.8377380952380953, accuracy val: 0.8447619047619047\n",
      "---------------------------------------------------------------------------------------------------\n",
      "Epoch: 19, Learning Rate: 0.001\n",
      "\n"
     ]
    },
    {
     "data": {
      "application/vnd.jupyter.widget-view+json": {
       "model_id": "754dbb7a97654816a2e12d3f92420ee4",
       "version_major": 2,
       "version_minor": 0
      },
      "text/plain": [
       "HBox(children=(FloatProgress(value=0.0, max=132.0), HTML(value='')))"
      ]
     },
     "metadata": {},
     "output_type": "display_data"
    },
    {
     "name": "stdout",
     "output_type": "stream",
     "text": [
      "\n",
      "tensor(-1.8241e-05, device='cuda:5')\n",
      "tensor(-2.2611e-06, device='cuda:5')\n",
      "tensor(-0.0002, device='cuda:5')\n",
      "tensor(-0.0002, device='cuda:5')\n",
      "tensor(-1.0523e-05, device='cuda:5')\n",
      "tensor(-1.3479e-07, device='cuda:5')\n",
      "tensor(0.0002, device='cuda:5')\n",
      "tensor(0.0002, device='cuda:5')\n",
      "tensor(1.2496e-06, device='cuda:5')\n",
      "tensor(6.4917e-06, device='cuda:5')\n",
      "tensor(0.0002, device='cuda:5')\n",
      "tensor(0.0002, device='cuda:5')\n",
      "tensor(1.0652e-06, device='cuda:5')\n",
      "tensor(0., device='cuda:5')\n",
      "tensor(8.5027e-05, device='cuda:5')\n",
      "tensor(8.5027e-05, device='cuda:5')\n",
      "tensor(3.5082e-05, device='cuda:5')\n",
      "tensor(0.0007, device='cuda:5')\n",
      "tensor(4.1396e-09, device='cuda:5')\n",
      "tensor(2.1287e-09, device='cuda:5')\n"
     ]
    },
    {
     "data": {
      "application/vnd.jupyter.widget-view+json": {
       "model_id": "75cae7cfc97f4afdb7b2f04601a7732d",
       "version_major": 2,
       "version_minor": 0
      },
      "text/plain": [
       "HBox(children=(FloatProgress(value=0.0, max=9.0), HTML(value='')))"
      ]
     },
     "metadata": {},
     "output_type": "display_data"
    },
    {
     "name": "stdout",
     "output_type": "stream",
     "text": [
      "\n",
      "epoch time: 26.118983030319214\n",
      "mean loss train: 0.3014800889151437, mean loss val: 0.3166033143088931\n",
      "accuracy train: 0.8497619047619047, accuracy val: 0.8428571428571429\n",
      "---------------------------------------------------------------------------------------------------\n",
      "Epoch: 20, Learning Rate: 0.001\n",
      "\n"
     ]
    },
    {
     "data": {
      "application/vnd.jupyter.widget-view+json": {
       "model_id": "fc2330a5153f47c09cb8589e79aa17a5",
       "version_major": 2,
       "version_minor": 0
      },
      "text/plain": [
       "HBox(children=(FloatProgress(value=0.0, max=132.0), HTML(value='')))"
      ]
     },
     "metadata": {},
     "output_type": "display_data"
    },
    {
     "name": "stdout",
     "output_type": "stream",
     "text": [
      "\n",
      "tensor(-8.1063e-07, device='cuda:5')\n",
      "tensor(4.5595e-08, device='cuda:5')\n",
      "tensor(1.9832e-05, device='cuda:5')\n",
      "tensor(1.9832e-05, device='cuda:5')\n",
      "tensor(3.8797e-08, device='cuda:5')\n",
      "tensor(-1.5227e-08, device='cuda:5')\n",
      "tensor(1.4073e-06, device='cuda:5')\n",
      "tensor(1.4073e-06, device='cuda:5')\n",
      "tensor(1.2650e-09, device='cuda:5')\n",
      "tensor(-1.3362e-07, device='cuda:5')\n",
      "tensor(-6.6109e-06, device='cuda:5')\n",
      "tensor(-6.6109e-06, device='cuda:5')\n",
      "tensor(1.1378e-08, device='cuda:5')\n",
      "tensor(0., device='cuda:5')\n",
      "tensor(-4.7295e-07, device='cuda:5')\n",
      "tensor(-4.7295e-07, device='cuda:5')\n",
      "tensor(1.6549e-06, device='cuda:5')\n",
      "tensor(7.1603e-05, device='cuda:5')\n",
      "tensor(9.1646e-09, device='cuda:5')\n",
      "tensor(5.3218e-09, device='cuda:5')\n"
     ]
    },
    {
     "data": {
      "application/vnd.jupyter.widget-view+json": {
       "model_id": "d4e1e487cae541a996ac68121df44864",
       "version_major": 2,
       "version_minor": 0
      },
      "text/plain": [
       "HBox(children=(FloatProgress(value=0.0, max=9.0), HTML(value='')))"
      ]
     },
     "metadata": {},
     "output_type": "display_data"
    },
    {
     "name": "stdout",
     "output_type": "stream",
     "text": [
      "\n",
      "epoch time: 26.548217296600342\n",
      "mean loss train: 0.2970134061291104, mean loss val: 0.3010254903067419\n",
      "accuracy train: 0.846547619047619, accuracy val: 0.8447619047619047\n",
      "---------------------------------------------------------------------------------------------------\n",
      "Epoch: 21, Learning Rate: 0.001\n",
      "\n"
     ]
    },
    {
     "data": {
      "application/vnd.jupyter.widget-view+json": {
       "model_id": "a1a89c5cf7584beda8c0e3887593ac65",
       "version_major": 2,
       "version_minor": 0
      },
      "text/plain": [
       "HBox(children=(FloatProgress(value=0.0, max=132.0), HTML(value='')))"
      ]
     },
     "metadata": {},
     "output_type": "display_data"
    },
    {
     "name": "stdout",
     "output_type": "stream",
     "text": [
      "\n",
      "tensor(-9.7547e-07, device='cuda:5')\n",
      "tensor(1.4738e-07, device='cuda:5')\n",
      "tensor(1.0767e-05, device='cuda:5')\n",
      "tensor(1.0767e-05, device='cuda:5')\n",
      "tensor(-2.0704e-07, device='cuda:5')\n",
      "tensor(3.0852e-09, device='cuda:5')\n",
      "tensor(1.4299e-06, device='cuda:5')\n",
      "tensor(1.4299e-06, device='cuda:5')\n",
      "tensor(1.9774e-08, device='cuda:5')\n",
      "tensor(1.4273e-07, device='cuda:5')\n",
      "tensor(2.0909e-06, device='cuda:5')\n",
      "tensor(2.0909e-06, device='cuda:5')\n",
      "tensor(3.1136e-08, device='cuda:5')\n",
      "tensor(0., device='cuda:5')\n",
      "tensor(7.9605e-06, device='cuda:5')\n",
      "tensor(7.9605e-06, device='cuda:5')\n",
      "tensor(4.4374e-07, device='cuda:5')\n",
      "tensor(6.4245e-06, device='cuda:5')\n",
      "tensor(-1.3294e-10, device='cuda:5')\n",
      "tensor(1.7739e-10, device='cuda:5')\n"
     ]
    },
    {
     "data": {
      "application/vnd.jupyter.widget-view+json": {
       "model_id": "2d21b776795e4a4ba3254d1f33c21a57",
       "version_major": 2,
       "version_minor": 0
      },
      "text/plain": [
       "HBox(children=(FloatProgress(value=0.0, max=9.0), HTML(value='')))"
      ]
     },
     "metadata": {},
     "output_type": "display_data"
    },
    {
     "name": "stdout",
     "output_type": "stream",
     "text": [
      "\n",
      "epoch time: 26.235082149505615\n",
      "mean loss train: 0.27768604721341816, mean loss val: 0.2869799713861236\n",
      "accuracy train: 0.8572619047619048, accuracy val: 0.8447619047619047\n",
      "---------------------------------------------------------------------------------------------------\n",
      "Epoch: 22, Learning Rate: 0.001\n",
      "\n"
     ]
    },
    {
     "data": {
      "application/vnd.jupyter.widget-view+json": {
       "model_id": "c3002e9fbf494456954630545fe45c1a",
       "version_major": 2,
       "version_minor": 0
      },
      "text/plain": [
       "HBox(children=(FloatProgress(value=0.0, max=132.0), HTML(value='')))"
      ]
     },
     "metadata": {},
     "output_type": "display_data"
    },
    {
     "name": "stdout",
     "output_type": "stream",
     "text": [
      "\n",
      "tensor(-7.1598e-08, device='cuda:5')\n",
      "tensor(2.0717e-08, device='cuda:5')\n",
      "tensor(-7.5340e-06, device='cuda:5')\n",
      "tensor(-7.5340e-06, device='cuda:5')\n",
      "tensor(-1.4887e-07, device='cuda:5')\n",
      "tensor(4.2593e-09, device='cuda:5')\n",
      "tensor(5.2986e-06, device='cuda:5')\n",
      "tensor(5.2986e-06, device='cuda:5')\n",
      "tensor(-2.0354e-08, device='cuda:5')\n",
      "tensor(-2.3440e-07, device='cuda:5')\n",
      "tensor(-6.6984e-06, device='cuda:5')\n",
      "tensor(-6.6984e-06, device='cuda:5')\n",
      "tensor(5.8473e-09, device='cuda:5')\n",
      "tensor(0., device='cuda:5')\n",
      "tensor(2.2092e-06, device='cuda:5')\n",
      "tensor(2.2092e-06, device='cuda:5')\n",
      "tensor(-9.9691e-07, device='cuda:5')\n",
      "tensor(-5.8391e-05, device='cuda:5')\n",
      "tensor(1.5056e-08, device='cuda:5')\n",
      "tensor(1.0466e-08, device='cuda:5')\n"
     ]
    },
    {
     "data": {
      "application/vnd.jupyter.widget-view+json": {
       "model_id": "b0fbb853df704dfbbc3e9d50db7de2dd",
       "version_major": 2,
       "version_minor": 0
      },
      "text/plain": [
       "HBox(children=(FloatProgress(value=0.0, max=9.0), HTML(value='')))"
      ]
     },
     "metadata": {},
     "output_type": "display_data"
    },
    {
     "name": "stdout",
     "output_type": "stream",
     "text": [
      "\n",
      "epoch time: 26.13886260986328\n",
      "mean loss train: 0.27289782524108885, mean loss val: 0.28560538768764154\n",
      "accuracy train: 0.8555952380952381, accuracy val: 0.8504761904761905\n",
      "---------------------------------------------------------------------------------------------------\n",
      "Epoch: 23, Learning Rate: 0.001\n",
      "\n"
     ]
    },
    {
     "data": {
      "application/vnd.jupyter.widget-view+json": {
       "model_id": "421be72215e042c0a24cd5afc370be32",
       "version_major": 2,
       "version_minor": 0
      },
      "text/plain": [
       "HBox(children=(FloatProgress(value=0.0, max=132.0), HTML(value='')))"
      ]
     },
     "metadata": {},
     "output_type": "display_data"
    },
    {
     "name": "stdout",
     "output_type": "stream",
     "text": [
      "\n",
      "tensor(3.8166e-07, device='cuda:5')\n",
      "tensor(-8.2175e-08, device='cuda:5')\n",
      "tensor(-1.1122e-05, device='cuda:5')\n",
      "tensor(-1.1122e-05, device='cuda:5')\n",
      "tensor(1.2155e-07, device='cuda:5')\n",
      "tensor(1.5125e-09, device='cuda:5')\n",
      "tensor(-2.6012e-06, device='cuda:5')\n",
      "tensor(-2.6012e-06, device='cuda:5')\n",
      "tensor(1.5314e-09, device='cuda:5')\n",
      "tensor(-7.7224e-08, device='cuda:5')\n",
      "tensor(-3.8201e-06, device='cuda:5')\n",
      "tensor(-3.8201e-06, device='cuda:5')\n",
      "tensor(-5.3575e-08, device='cuda:5')\n",
      "tensor(0., device='cuda:5')\n",
      "tensor(-6.2705e-06, device='cuda:5')\n",
      "tensor(-6.2705e-06, device='cuda:5')\n",
      "tensor(-1.0476e-07, device='cuda:5')\n",
      "tensor(-4.0795e-05, device='cuda:5')\n",
      "tensor(8.9081e-09, device='cuda:5')\n",
      "tensor(6.2975e-09, device='cuda:5')\n"
     ]
    },
    {
     "data": {
      "application/vnd.jupyter.widget-view+json": {
       "model_id": "a6754447cff845cbb6f9f1474946947b",
       "version_major": 2,
       "version_minor": 0
      },
      "text/plain": [
       "HBox(children=(FloatProgress(value=0.0, max=9.0), HTML(value='')))"
      ]
     },
     "metadata": {},
     "output_type": "display_data"
    },
    {
     "name": "stdout",
     "output_type": "stream",
     "text": [
      "\n",
      "epoch time: 26.742223024368286\n",
      "mean loss train: 0.2825731489771888, mean loss val: 0.28433379059747194\n",
      "accuracy train: 0.8582142857142857, accuracy val: 0.8442857142857143\n",
      "---------------------------------------------------------------------------------------------------\n",
      "Epoch: 24, Learning Rate: 0.0005\n",
      "\n"
     ]
    },
    {
     "data": {
      "application/vnd.jupyter.widget-view+json": {
       "model_id": "900280f3248b480c8355102b9479e876",
       "version_major": 2,
       "version_minor": 0
      },
      "text/plain": [
       "HBox(children=(FloatProgress(value=0.0, max=132.0), HTML(value='')))"
      ]
     },
     "metadata": {},
     "output_type": "display_data"
    },
    {
     "name": "stdout",
     "output_type": "stream",
     "text": [
      "\n",
      "tensor(2.1874e-06, device='cuda:5')\n",
      "tensor(-8.4044e-08, device='cuda:5')\n",
      "tensor(-4.0745e-05, device='cuda:5')\n",
      "tensor(-4.0745e-05, device='cuda:5')\n",
      "tensor(4.7490e-07, device='cuda:5')\n",
      "tensor(-1.4638e-08, device='cuda:5')\n",
      "tensor(-1.0538e-05, device='cuda:5')\n",
      "tensor(-1.0538e-05, device='cuda:5')\n",
      "tensor(2.6371e-09, device='cuda:5')\n",
      "tensor(1.3094e-07, device='cuda:5')\n",
      "tensor(5.1756e-06, device='cuda:5')\n",
      "tensor(5.1756e-06, device='cuda:5')\n",
      "tensor(-1.3117e-08, device='cuda:5')\n",
      "tensor(0., device='cuda:5')\n",
      "tensor(-2.3970e-06, device='cuda:5')\n",
      "tensor(-2.3970e-06, device='cuda:5')\n",
      "tensor(-1.1060e-06, device='cuda:5')\n",
      "tensor(-6.1222e-05, device='cuda:5')\n",
      "tensor(9.2643e-09, device='cuda:5')\n",
      "tensor(6.0758e-09, device='cuda:5')\n"
     ]
    },
    {
     "data": {
      "application/vnd.jupyter.widget-view+json": {
       "model_id": "39ffd43dbe12412dbde8eb6777ebb8f7",
       "version_major": 2,
       "version_minor": 0
      },
      "text/plain": [
       "HBox(children=(FloatProgress(value=0.0, max=9.0), HTML(value='')))"
      ]
     },
     "metadata": {},
     "output_type": "display_data"
    },
    {
     "name": "stdout",
     "output_type": "stream",
     "text": [
      "\n",
      "epoch time: 27.05307364463806\n",
      "mean loss train: 0.27233358848662603, mean loss val: 0.2839648287636841\n",
      "accuracy train: 0.8588095238095238, accuracy val: 0.85\n",
      "---------------------------------------------------------------------------------------------------\n",
      "Epoch: 25, Learning Rate: 0.0005\n",
      "\n"
     ]
    },
    {
     "data": {
      "application/vnd.jupyter.widget-view+json": {
       "model_id": "9a1370a45f9b4ffe839f4065fc0c3f11",
       "version_major": 2,
       "version_minor": 0
      },
      "text/plain": [
       "HBox(children=(FloatProgress(value=0.0, max=132.0), HTML(value='')))"
      ]
     },
     "metadata": {},
     "output_type": "display_data"
    },
    {
     "name": "stdout",
     "output_type": "stream",
     "text": [
      "\n",
      "tensor(3.2620e-07, device='cuda:5')\n",
      "tensor(-3.1330e-08, device='cuda:5')\n",
      "tensor(-9.4284e-06, device='cuda:5')\n",
      "tensor(-9.4284e-06, device='cuda:5')\n",
      "tensor(9.2351e-08, device='cuda:5')\n",
      "tensor(4.7732e-09, device='cuda:5')\n",
      "tensor(-4.5741e-06, device='cuda:5')\n",
      "tensor(-4.5741e-06, device='cuda:5')\n",
      "tensor(-1.3457e-08, device='cuda:5')\n",
      "tensor(-1.0904e-07, device='cuda:5')\n",
      "tensor(-4.1635e-06, device='cuda:5')\n",
      "tensor(-4.1635e-06, device='cuda:5')\n",
      "tensor(-5.3059e-08, device='cuda:5')\n",
      "tensor(0., device='cuda:5')\n",
      "tensor(-5.6224e-06, device='cuda:5')\n",
      "tensor(-5.6224e-06, device='cuda:5')\n",
      "tensor(-6.0435e-07, device='cuda:5')\n",
      "tensor(-3.4120e-05, device='cuda:5')\n",
      "tensor(2.8979e-10, device='cuda:5')\n",
      "tensor(1.7739e-10, device='cuda:5')\n"
     ]
    },
    {
     "data": {
      "application/vnd.jupyter.widget-view+json": {
       "model_id": "9c8e9ff7c2dd47549c99976639c4b29d",
       "version_major": 2,
       "version_minor": 0
      },
      "text/plain": [
       "HBox(children=(FloatProgress(value=0.0, max=9.0), HTML(value='')))"
      ]
     },
     "metadata": {},
     "output_type": "display_data"
    },
    {
     "name": "stdout",
     "output_type": "stream",
     "text": [
      "\n",
      "epoch time: 26.978939533233643\n",
      "mean loss train: 0.2649610640321459, mean loss val: 0.28204344953809984\n",
      "accuracy train: 0.8623809523809524, accuracy val: 0.8528571428571429\n",
      "---------------------------------------------------------------------------------------------------\n",
      "Epoch: 26, Learning Rate: 0.0005\n",
      "\n"
     ]
    },
    {
     "data": {
      "application/vnd.jupyter.widget-view+json": {
       "model_id": "282792281b614f428d58952a6d97d991",
       "version_major": 2,
       "version_minor": 0
      },
      "text/plain": [
       "HBox(children=(FloatProgress(value=0.0, max=132.0), HTML(value='')))"
      ]
     },
     "metadata": {},
     "output_type": "display_data"
    },
    {
     "name": "stdout",
     "output_type": "stream",
     "text": [
      "\n",
      "tensor(2.2904e-07, device='cuda:5')\n",
      "tensor(3.1332e-08, device='cuda:5')\n",
      "tensor(-2.7435e-06, device='cuda:5')\n",
      "tensor(-2.7435e-06, device='cuda:5')\n",
      "tensor(-1.9154e-07, device='cuda:5')\n",
      "tensor(-1.2944e-08, device='cuda:5')\n",
      "tensor(-4.1039e-06, device='cuda:5')\n",
      "tensor(-4.1039e-06, device='cuda:5')\n",
      "tensor(7.4897e-09, device='cuda:5')\n",
      "tensor(-1.3484e-08, device='cuda:5')\n",
      "tensor(-2.2940e-06, device='cuda:5')\n",
      "tensor(-2.2940e-06, device='cuda:5')\n",
      "tensor(-7.8296e-10, device='cuda:5')\n",
      "tensor(0., device='cuda:5')\n",
      "tensor(-1.5102e-06, device='cuda:5')\n",
      "tensor(-1.5102e-06, device='cuda:5')\n",
      "tensor(-2.4824e-06, device='cuda:5')\n",
      "tensor(-0.0002, device='cuda:5')\n",
      "tensor(9.9385e-09, device='cuda:5')\n",
      "tensor(6.4971e-09, device='cuda:5')\n"
     ]
    },
    {
     "data": {
      "application/vnd.jupyter.widget-view+json": {
       "model_id": "423c4024463d424f850348ac5a831436",
       "version_major": 2,
       "version_minor": 0
      },
      "text/plain": [
       "HBox(children=(FloatProgress(value=0.0, max=9.0), HTML(value='')))"
      ]
     },
     "metadata": {},
     "output_type": "display_data"
    },
    {
     "name": "stdout",
     "output_type": "stream",
     "text": [
      "\n",
      "epoch time: 25.964707136154175\n",
      "mean loss train: 0.2632079557577769, mean loss val: 0.2869503768285064\n",
      "accuracy train: 0.8671428571428571, accuracy val: 0.8528571428571429\n",
      "---------------------------------------------------------------------------------------------------\n",
      "Epoch: 27, Learning Rate: 0.0005\n",
      "\n"
     ]
    },
    {
     "data": {
      "application/vnd.jupyter.widget-view+json": {
       "model_id": "62a3d0f13d4d47f4b7050f6f3da40e7e",
       "version_major": 2,
       "version_minor": 0
      },
      "text/plain": [
       "HBox(children=(FloatProgress(value=0.0, max=132.0), HTML(value='')))"
      ]
     },
     "metadata": {},
     "output_type": "display_data"
    },
    {
     "name": "stdout",
     "output_type": "stream",
     "text": [
      "\n",
      "tensor(-6.3266e-06, device='cuda:5')\n",
      "tensor(-4.5742e-07, device='cuda:5')\n",
      "tensor(2.0726e-05, device='cuda:5')\n",
      "tensor(2.0726e-05, device='cuda:5')\n",
      "tensor(-5.6175e-07, device='cuda:5')\n",
      "tensor(2.6285e-08, device='cuda:5')\n",
      "tensor(2.7408e-05, device='cuda:5')\n",
      "tensor(2.7408e-05, device='cuda:5')\n",
      "tensor(8.0248e-09, device='cuda:5')\n",
      "tensor(3.3377e-07, device='cuda:5')\n",
      "tensor(1.0208e-05, device='cuda:5')\n",
      "tensor(1.0208e-05, device='cuda:5')\n",
      "tensor(-1.5268e-08, device='cuda:5')\n",
      "tensor(0., device='cuda:5')\n",
      "tensor(-9.5897e-06, device='cuda:5')\n",
      "tensor(-9.5897e-06, device='cuda:5')\n",
      "tensor(9.1607e-09, device='cuda:5')\n",
      "tensor(7.4864e-05, device='cuda:5')\n",
      "tensor(-5.8871e-10, device='cuda:5')\n",
      "tensor(-6.2088e-10, device='cuda:5')\n"
     ]
    },
    {
     "data": {
      "application/vnd.jupyter.widget-view+json": {
       "model_id": "2e309100bdc94ee598eaceeb92eaa921",
       "version_major": 2,
       "version_minor": 0
      },
      "text/plain": [
       "HBox(children=(FloatProgress(value=0.0, max=9.0), HTML(value='')))"
      ]
     },
     "metadata": {},
     "output_type": "display_data"
    },
    {
     "name": "stdout",
     "output_type": "stream",
     "text": [
      "\n",
      "epoch time: 25.61310887336731\n",
      "mean loss train: 0.263397041502453, mean loss val: 0.2920152405330087\n",
      "accuracy train: 0.8627380952380952, accuracy val: 0.8542857142857143\n",
      "---------------------------------------------------------------------------------------------------\n",
      "Epoch: 28, Learning Rate: 0.0005\n",
      "\n"
     ]
    },
    {
     "data": {
      "application/vnd.jupyter.widget-view+json": {
       "model_id": "6be7b9dd95bb4606bcd1da1807235ba2",
       "version_major": 2,
       "version_minor": 0
      },
      "text/plain": [
       "HBox(children=(FloatProgress(value=0.0, max=132.0), HTML(value='')))"
      ]
     },
     "metadata": {},
     "output_type": "display_data"
    },
    {
     "name": "stdout",
     "output_type": "stream",
     "text": [
      "\n",
      "tensor(-5.2955e-06, device='cuda:5')\n",
      "tensor(5.9902e-07, device='cuda:5')\n",
      "tensor(0.0001, device='cuda:5')\n",
      "tensor(0.0001, device='cuda:5')\n",
      "tensor(7.6301e-07, device='cuda:5')\n",
      "tensor(2.0073e-08, device='cuda:5')\n",
      "tensor(-2.4610e-05, device='cuda:5')\n",
      "tensor(-2.4610e-05, device='cuda:5')\n",
      "tensor(-1.9547e-07, device='cuda:5')\n",
      "tensor(-3.3105e-06, device='cuda:5')\n",
      "tensor(-0.0001, device='cuda:5')\n",
      "tensor(-0.0001, device='cuda:5')\n",
      "tensor(-8.3665e-08, device='cuda:5')\n",
      "tensor(0., device='cuda:5')\n",
      "tensor(-2.5851e-05, device='cuda:5')\n",
      "tensor(-2.5851e-05, device='cuda:5')\n",
      "tensor(-7.4931e-06, device='cuda:5')\n",
      "tensor(-0.0005, device='cuda:5')\n",
      "tensor(8.7635e-09, device='cuda:5')\n",
      "tensor(6.3862e-09, device='cuda:5')\n"
     ]
    },
    {
     "data": {
      "application/vnd.jupyter.widget-view+json": {
       "model_id": "19e83d1ec2624404bdce9f9f1aaabea7",
       "version_major": 2,
       "version_minor": 0
      },
      "text/plain": [
       "HBox(children=(FloatProgress(value=0.0, max=9.0), HTML(value='')))"
      ]
     },
     "metadata": {},
     "output_type": "display_data"
    },
    {
     "name": "stdout",
     "output_type": "stream",
     "text": [
      "\n",
      "epoch time: 26.252503871917725\n",
      "mean loss train: 0.26417529338882084, mean loss val: 0.2886283327284331\n",
      "accuracy train: 0.8645238095238095, accuracy val: 0.8528571428571429\n",
      "---------------------------------------------------------------------------------------------------\n",
      "Epoch: 29, Learning Rate: 0.0005\n",
      "\n"
     ]
    },
    {
     "data": {
      "application/vnd.jupyter.widget-view+json": {
       "model_id": "7984f97668ad4f04a13d3e6b1dc755ea",
       "version_major": 2,
       "version_minor": 0
      },
      "text/plain": [
       "HBox(children=(FloatProgress(value=0.0, max=132.0), HTML(value='')))"
      ]
     },
     "metadata": {},
     "output_type": "display_data"
    },
    {
     "name": "stdout",
     "output_type": "stream",
     "text": [
      "\n",
      "tensor(-1.9109e-05, device='cuda:5')\n",
      "tensor(9.0179e-07, device='cuda:5')\n",
      "tensor(0.0003, device='cuda:5')\n",
      "tensor(0.0003, device='cuda:5')\n",
      "tensor(-8.8767e-07, device='cuda:5')\n",
      "tensor(4.5136e-09, device='cuda:5')\n",
      "tensor(-1.6065e-05, device='cuda:5')\n",
      "tensor(-1.6065e-05, device='cuda:5')\n",
      "tensor(-1.8744e-07, device='cuda:5')\n",
      "tensor(-8.9242e-07, device='cuda:5')\n",
      "tensor(-5.7370e-05, device='cuda:5')\n",
      "tensor(-5.7370e-05, device='cuda:5')\n",
      "tensor(-2.0194e-08, device='cuda:5')\n",
      "tensor(0., device='cuda:5')\n",
      "tensor(1.5179e-05, device='cuda:5')\n",
      "tensor(1.5179e-05, device='cuda:5')\n",
      "tensor(-5.4224e-07, device='cuda:5')\n",
      "tensor(-1.9047e-05, device='cuda:5')\n",
      "tensor(7.5099e-09, device='cuda:5')\n",
      "tensor(6.1201e-09, device='cuda:5')\n"
     ]
    },
    {
     "data": {
      "application/vnd.jupyter.widget-view+json": {
       "model_id": "b559410b478d45e98f5a5b4ed876d70e",
       "version_major": 2,
       "version_minor": 0
      },
      "text/plain": [
       "HBox(children=(FloatProgress(value=0.0, max=9.0), HTML(value='')))"
      ]
     },
     "metadata": {},
     "output_type": "display_data"
    },
    {
     "name": "stdout",
     "output_type": "stream",
     "text": [
      "\n",
      "epoch time: 26.053141832351685\n",
      "mean loss train: 0.26402385251862664, mean loss val: 0.2835035481907073\n",
      "accuracy train: 0.8645238095238095, accuracy val: 0.8571428571428571\n",
      "---------------------------------------------------------------------------------------------------\n",
      "Epoch: 30, Learning Rate: 0.0005\n",
      "\n"
     ]
    },
    {
     "data": {
      "application/vnd.jupyter.widget-view+json": {
       "model_id": "600b783d70504c34bc6ed2ce64a18003",
       "version_major": 2,
       "version_minor": 0
      },
      "text/plain": [
       "HBox(children=(FloatProgress(value=0.0, max=132.0), HTML(value='')))"
      ]
     },
     "metadata": {},
     "output_type": "display_data"
    },
    {
     "name": "stdout",
     "output_type": "stream",
     "text": [
      "\n",
      "tensor(-6.4043e-07, device='cuda:5')\n",
      "tensor(4.9904e-07, device='cuda:5')\n",
      "tensor(0.0001, device='cuda:5')\n",
      "tensor(0.0001, device='cuda:5')\n",
      "tensor(4.1480e-07, device='cuda:5')\n",
      "tensor(2.3384e-08, device='cuda:5')\n",
      "tensor(-3.7037e-06, device='cuda:5')\n",
      "tensor(-3.7037e-06, device='cuda:5')\n",
      "tensor(-7.6852e-08, device='cuda:5')\n",
      "tensor(-9.3597e-07, device='cuda:5')\n",
      "tensor(-3.9562e-05, device='cuda:5')\n",
      "tensor(-3.9562e-05, device='cuda:5')\n",
      "tensor(-1.1144e-08, device='cuda:5')\n",
      "tensor(0., device='cuda:5')\n",
      "tensor(-4.2512e-06, device='cuda:5')\n",
      "tensor(-4.2512e-06, device='cuda:5')\n",
      "tensor(6.0878e-07, device='cuda:5')\n",
      "tensor(3.2446e-05, device='cuda:5')\n",
      "tensor(9.9439e-09, device='cuda:5')\n",
      "tensor(5.6766e-09, device='cuda:5')\n"
     ]
    },
    {
     "data": {
      "application/vnd.jupyter.widget-view+json": {
       "model_id": "3628264adfd444078412db95e55f11ad",
       "version_major": 2,
       "version_minor": 0
      },
      "text/plain": [
       "HBox(children=(FloatProgress(value=0.0, max=9.0), HTML(value='')))"
      ]
     },
     "metadata": {},
     "output_type": "display_data"
    },
    {
     "name": "stdout",
     "output_type": "stream",
     "text": [
      "\n",
      "epoch time: 26.386319160461426\n",
      "mean loss train: 0.262601002681823, mean loss val: 0.2856505078361174\n",
      "accuracy train: 0.8678571428571429, accuracy val: 0.8557142857142858\n",
      "---------------------------------------------------------------------------------------------------\n",
      "Epoch: 31, Learning Rate: 0.0005\n",
      "\n"
     ]
    },
    {
     "data": {
      "application/vnd.jupyter.widget-view+json": {
       "model_id": "a254aa4ca6c74164a96790f494e2172f",
       "version_major": 2,
       "version_minor": 0
      },
      "text/plain": [
       "HBox(children=(FloatProgress(value=0.0, max=132.0), HTML(value='')))"
      ]
     },
     "metadata": {},
     "output_type": "display_data"
    },
    {
     "name": "stdout",
     "output_type": "stream",
     "text": [
      "\n",
      "tensor(5.4883e-07, device='cuda:5')\n",
      "tensor(-3.5323e-07, device='cuda:5')\n",
      "tensor(-0.0001, device='cuda:5')\n",
      "tensor(-0.0001, device='cuda:5')\n",
      "tensor(8.6193e-07, device='cuda:5')\n",
      "tensor(2.4189e-08, device='cuda:5')\n",
      "tensor(-2.2856e-05, device='cuda:5')\n",
      "tensor(-2.2856e-05, device='cuda:5')\n",
      "tensor(-1.1224e-07, device='cuda:5')\n",
      "tensor(-4.5079e-07, device='cuda:5')\n",
      "tensor(-8.9847e-06, device='cuda:5')\n",
      "tensor(-8.9847e-06, device='cuda:5')\n",
      "tensor(3.0016e-08, device='cuda:5')\n",
      "tensor(0., device='cuda:5')\n",
      "tensor(-1.7462e-05, device='cuda:5')\n",
      "tensor(-1.7462e-05, device='cuda:5')\n",
      "tensor(-5.3186e-06, device='cuda:5')\n",
      "tensor(-0.0002, device='cuda:5')\n",
      "tensor(4.7886e-10, device='cuda:5')\n",
      "tensor(8.8697e-10, device='cuda:5')\n"
     ]
    },
    {
     "data": {
      "application/vnd.jupyter.widget-view+json": {
       "model_id": "6e9ba7b33aa244ad9cd091985763c072",
       "version_major": 2,
       "version_minor": 0
      },
      "text/plain": [
       "HBox(children=(FloatProgress(value=0.0, max=9.0), HTML(value='')))"
      ]
     },
     "metadata": {},
     "output_type": "display_data"
    },
    {
     "name": "stdout",
     "output_type": "stream",
     "text": [
      "\n",
      "epoch time: 25.720444679260254\n",
      "mean loss train: 0.2600450887566521, mean loss val: 0.28160307361966347\n",
      "accuracy train: 0.8704761904761905, accuracy val: 0.8561904761904762\n",
      "---------------------------------------------------------------------------------------------------\n",
      "Epoch: 32, Learning Rate: 0.0005\n",
      "\n"
     ]
    },
    {
     "data": {
      "application/vnd.jupyter.widget-view+json": {
       "model_id": "4804429c03dd4cc1939e011c13cf6b0a",
       "version_major": 2,
       "version_minor": 0
      },
      "text/plain": [
       "HBox(children=(FloatProgress(value=0.0, max=132.0), HTML(value='')))"
      ]
     },
     "metadata": {},
     "output_type": "display_data"
    },
    {
     "name": "stdout",
     "output_type": "stream",
     "text": [
      "\n",
      "tensor(7.8812e-06, device='cuda:5')\n",
      "tensor(3.9931e-09, device='cuda:5')\n",
      "tensor(-0.0003, device='cuda:5')\n",
      "tensor(-0.0003, device='cuda:5')\n",
      "tensor(2.5725e-07, device='cuda:5')\n",
      "tensor(-6.6220e-08, device='cuda:5')\n",
      "tensor(-2.7497e-05, device='cuda:5')\n",
      "tensor(-2.7497e-05, device='cuda:5')\n",
      "tensor(2.6572e-07, device='cuda:5')\n",
      "tensor(2.7832e-06, device='cuda:5')\n",
      "tensor(5.7369e-05, device='cuda:5')\n",
      "tensor(5.7369e-05, device='cuda:5')\n",
      "tensor(5.2629e-08, device='cuda:5')\n",
      "tensor(0., device='cuda:5')\n",
      "tensor(1.3903e-05, device='cuda:5')\n",
      "tensor(1.3903e-05, device='cuda:5')\n",
      "tensor(4.5748e-06, device='cuda:5')\n",
      "tensor(0.0002, device='cuda:5')\n",
      "tensor(1.3998e-09, device='cuda:5')\n",
      "tensor(2.4835e-09, device='cuda:5')\n"
     ]
    },
    {
     "data": {
      "application/vnd.jupyter.widget-view+json": {
       "model_id": "5bfe097f231842e6bfa760f0cbdc8709",
       "version_major": 2,
       "version_minor": 0
      },
      "text/plain": [
       "HBox(children=(FloatProgress(value=0.0, max=9.0), HTML(value='')))"
      ]
     },
     "metadata": {},
     "output_type": "display_data"
    },
    {
     "name": "stdout",
     "output_type": "stream",
     "text": [
      "\n",
      "epoch time: 25.8006112575531\n",
      "mean loss train: 0.2579377811863309, mean loss val: 0.2688148823238511\n",
      "accuracy train: 0.8738095238095238, accuracy val: 0.8714285714285714\n",
      "---------------------------------------------------------------------------------------------------\n",
      "Epoch: 33, Learning Rate: 0.0005\n",
      "\n"
     ]
    },
    {
     "data": {
      "application/vnd.jupyter.widget-view+json": {
       "model_id": "2799c71fe47e4f108af2891b507f40c8",
       "version_major": 2,
       "version_minor": 0
      },
      "text/plain": [
       "HBox(children=(FloatProgress(value=0.0, max=132.0), HTML(value='')))"
      ]
     },
     "metadata": {},
     "output_type": "display_data"
    },
    {
     "name": "stdout",
     "output_type": "stream",
     "text": [
      "\n",
      "tensor(4.1119e-06, device='cuda:5')\n",
      "tensor(-1.9863e-07, device='cuda:5')\n",
      "tensor(-0.0002, device='cuda:5')\n",
      "tensor(-0.0002, device='cuda:5')\n",
      "tensor(1.2401e-06, device='cuda:5')\n",
      "tensor(-3.6497e-08, device='cuda:5')\n",
      "tensor(-2.3751e-05, device='cuda:5')\n",
      "tensor(-2.3751e-05, device='cuda:5')\n",
      "tensor(1.3437e-07, device='cuda:5')\n",
      "tensor(9.3315e-07, device='cuda:5')\n",
      "tensor(2.9223e-05, device='cuda:5')\n",
      "tensor(2.9223e-05, device='cuda:5')\n",
      "tensor(-8.4052e-09, device='cuda:5')\n",
      "tensor(0., device='cuda:5')\n",
      "tensor(-4.1144e-06, device='cuda:5')\n",
      "tensor(-4.1144e-06, device='cuda:5')\n",
      "tensor(-1.5710e-06, device='cuda:5')\n",
      "tensor(-8.7623e-05, device='cuda:5')\n",
      "tensor(-1.2860e-09, device='cuda:5')\n",
      "tensor(3.5479e-10, device='cuda:5')\n"
     ]
    },
    {
     "data": {
      "application/vnd.jupyter.widget-view+json": {
       "model_id": "0d31a8f43fa845d4bec1a19ff54bf15c",
       "version_major": 2,
       "version_minor": 0
      },
      "text/plain": [
       "HBox(children=(FloatProgress(value=0.0, max=9.0), HTML(value='')))"
      ]
     },
     "metadata": {},
     "output_type": "display_data"
    },
    {
     "name": "stdout",
     "output_type": "stream",
     "text": [
      "\n",
      "epoch time: 25.899903297424316\n",
      "mean loss train: 0.2503712843145643, mean loss val: 0.27255802517843786\n",
      "accuracy train: 0.8753571428571428, accuracy val: 0.8628571428571429\n",
      "---------------------------------------------------------------------------------------------------\n",
      "Epoch: 34, Learning Rate: 0.0005\n",
      "\n"
     ]
    },
    {
     "data": {
      "application/vnd.jupyter.widget-view+json": {
       "model_id": "8ae7c5dfa2444bdca4f2813ca83ee3e8",
       "version_major": 2,
       "version_minor": 0
      },
      "text/plain": [
       "HBox(children=(FloatProgress(value=0.0, max=132.0), HTML(value='')))"
      ]
     },
     "metadata": {},
     "output_type": "display_data"
    },
    {
     "name": "stdout",
     "output_type": "stream",
     "text": [
      "\n",
      "tensor(-1.7170e-06, device='cuda:5')\n",
      "tensor(-1.8329e-07, device='cuda:5')\n",
      "tensor(-8.1627e-05, device='cuda:5')\n",
      "tensor(-8.1627e-05, device='cuda:5')\n",
      "tensor(-1.3032e-07, device='cuda:5')\n",
      "tensor(-1.1647e-08, device='cuda:5')\n",
      "tensor(-8.5519e-07, device='cuda:5')\n",
      "tensor(-8.5519e-07, device='cuda:5')\n",
      "tensor(-4.9823e-09, device='cuda:5')\n",
      "tensor(4.1737e-08, device='cuda:5')\n",
      "tensor(1.8762e-06, device='cuda:5')\n",
      "tensor(1.8762e-06, device='cuda:5')\n",
      "tensor(-1.5672e-08, device='cuda:5')\n",
      "tensor(0., device='cuda:5')\n",
      "tensor(-1.5794e-06, device='cuda:5')\n",
      "tensor(-1.5794e-06, device='cuda:5')\n",
      "tensor(-3.0122e-06, device='cuda:5')\n",
      "tensor(-0.0002, device='cuda:5')\n",
      "tensor(1.2541e-08, device='cuda:5')\n",
      "tensor(5.6766e-09, device='cuda:5')\n"
     ]
    },
    {
     "data": {
      "application/vnd.jupyter.widget-view+json": {
       "model_id": "135e5fa2163e488eb619b62e9bd17150",
       "version_major": 2,
       "version_minor": 0
      },
      "text/plain": [
       "HBox(children=(FloatProgress(value=0.0, max=9.0), HTML(value='')))"
      ]
     },
     "metadata": {},
     "output_type": "display_data"
    },
    {
     "name": "stdout",
     "output_type": "stream",
     "text": [
      "\n",
      "epoch time: 26.16193461418152\n",
      "mean loss train: 0.25163937886555987, mean loss val: 0.25934641679128445\n",
      "accuracy train: 0.8723809523809524, accuracy val: 0.8823809523809524\n",
      "---------------------------------------------------------------------------------------------------\n",
      "Epoch: 35, Learning Rate: 0.0005\n",
      "\n"
     ]
    },
    {
     "data": {
      "application/vnd.jupyter.widget-view+json": {
       "model_id": "64887bb8a3bd42e7bb9277cdc2cbf189",
       "version_major": 2,
       "version_minor": 0
      },
      "text/plain": [
       "HBox(children=(FloatProgress(value=0.0, max=132.0), HTML(value='')))"
      ]
     },
     "metadata": {},
     "output_type": "display_data"
    },
    {
     "name": "stdout",
     "output_type": "stream",
     "text": [
      "\n",
      "tensor(-1.6294e-06, device='cuda:5')\n",
      "tensor(2.0962e-09, device='cuda:5')\n",
      "tensor(0.0001, device='cuda:5')\n",
      "tensor(0.0001, device='cuda:5')\n",
      "tensor(1.7852e-06, device='cuda:5')\n",
      "tensor(2.0284e-08, device='cuda:5')\n",
      "tensor(-3.6726e-05, device='cuda:5')\n",
      "tensor(-3.6726e-05, device='cuda:5')\n",
      "tensor(-8.1647e-09, device='cuda:5')\n",
      "tensor(3.1974e-07, device='cuda:5')\n",
      "tensor(1.0221e-05, device='cuda:5')\n",
      "tensor(1.0221e-05, device='cuda:5')\n",
      "tensor(1.4940e-09, device='cuda:5')\n",
      "tensor(0., device='cuda:5')\n",
      "tensor(2.3881e-06, device='cuda:5')\n",
      "tensor(2.3881e-06, device='cuda:5')\n",
      "tensor(5.5677e-06, device='cuda:5')\n",
      "tensor(0.0003, device='cuda:5')\n",
      "tensor(6.5304e-09, device='cuda:5')\n",
      "tensor(5.6766e-09, device='cuda:5')\n"
     ]
    },
    {
     "data": {
      "application/vnd.jupyter.widget-view+json": {
       "model_id": "bff4b8eb760141da8a4ee0ef40a44c78",
       "version_major": 2,
       "version_minor": 0
      },
      "text/plain": [
       "HBox(children=(FloatProgress(value=0.0, max=9.0), HTML(value='')))"
      ]
     },
     "metadata": {},
     "output_type": "display_data"
    },
    {
     "name": "stdout",
     "output_type": "stream",
     "text": [
      "\n",
      "epoch time: 25.963196992874146\n",
      "mean loss train: 0.2562359709399087, mean loss val: 0.291902291434131\n",
      "accuracy train: 0.8725, accuracy val: 0.8485714285714285\n",
      "---------------------------------------------------------------------------------------------------\n",
      "Epoch: 36, Learning Rate: 0.0005\n",
      "\n"
     ]
    },
    {
     "data": {
      "application/vnd.jupyter.widget-view+json": {
       "model_id": "b63d58db7bd74020bc4ec6cddae45e9a",
       "version_major": 2,
       "version_minor": 0
      },
      "text/plain": [
       "HBox(children=(FloatProgress(value=0.0, max=132.0), HTML(value='')))"
      ]
     },
     "metadata": {},
     "output_type": "display_data"
    },
    {
     "name": "stdout",
     "output_type": "stream",
     "text": [
      "\n",
      "tensor(-3.3500e-06, device='cuda:5')\n",
      "tensor(-7.2282e-08, device='cuda:5')\n",
      "tensor(-0.0003, device='cuda:5')\n",
      "tensor(-0.0003, device='cuda:5')\n",
      "tensor(-2.1431e-07, device='cuda:5')\n",
      "tensor(-2.1343e-08, device='cuda:5')\n",
      "tensor(-1.0658e-05, device='cuda:5')\n",
      "tensor(-1.0658e-05, device='cuda:5')\n",
      "tensor(1.2907e-08, device='cuda:5')\n",
      "tensor(3.8999e-07, device='cuda:5')\n",
      "tensor(1.9498e-05, device='cuda:5')\n",
      "tensor(1.9498e-05, device='cuda:5')\n",
      "tensor(-1.7788e-08, device='cuda:5')\n",
      "tensor(0., device='cuda:5')\n",
      "tensor(-4.4082e-06, device='cuda:5')\n",
      "tensor(-4.4082e-06, device='cuda:5')\n",
      "tensor(-1.8462e-06, device='cuda:5')\n",
      "tensor(-0.0001, device='cuda:5')\n",
      "tensor(1.0405e-08, device='cuda:5')\n",
      "tensor(7.2732e-09, device='cuda:5')\n"
     ]
    },
    {
     "data": {
      "application/vnd.jupyter.widget-view+json": {
       "model_id": "ab3511ec3dbd44348e87b0c9d35c1eb1",
       "version_major": 2,
       "version_minor": 0
      },
      "text/plain": [
       "HBox(children=(FloatProgress(value=0.0, max=9.0), HTML(value='')))"
      ]
     },
     "metadata": {},
     "output_type": "display_data"
    },
    {
     "name": "stdout",
     "output_type": "stream",
     "text": [
      "\n",
      "epoch time: 26.370871782302856\n",
      "mean loss train: 0.25193158166749136, mean loss val: 0.2774256901513937\n",
      "accuracy train: 0.8745238095238095, accuracy val: 0.8761904761904762\n",
      "---------------------------------------------------------------------------------------------------\n",
      "Epoch: 37, Learning Rate: 0.0005\n",
      "\n"
     ]
    },
    {
     "data": {
      "application/vnd.jupyter.widget-view+json": {
       "model_id": "a419e0701510463a970c5dce639704af",
       "version_major": 2,
       "version_minor": 0
      },
      "text/plain": [
       "HBox(children=(FloatProgress(value=0.0, max=132.0), HTML(value='')))"
      ]
     },
     "metadata": {},
     "output_type": "display_data"
    },
    {
     "name": "stdout",
     "output_type": "stream",
     "text": [
      "\n",
      "tensor(3.7962e-06, device='cuda:5')\n",
      "tensor(-2.8972e-07, device='cuda:5')\n",
      "tensor(-8.5554e-05, device='cuda:5')\n",
      "tensor(-8.5554e-05, device='cuda:5')\n",
      "tensor(-1.9509e-06, device='cuda:5')\n",
      "tensor(-1.0897e-07, device='cuda:5')\n",
      "tensor(-8.8729e-06, device='cuda:5')\n",
      "tensor(-8.8729e-06, device='cuda:5')\n",
      "tensor(-6.5566e-09, device='cuda:5')\n",
      "tensor(-7.5255e-07, device='cuda:5')\n",
      "tensor(-2.7505e-05, device='cuda:5')\n",
      "tensor(-2.7505e-05, device='cuda:5')\n",
      "tensor(8.7756e-09, device='cuda:5')\n",
      "tensor(0., device='cuda:5')\n",
      "tensor(2.2792e-05, device='cuda:5')\n",
      "tensor(2.2792e-05, device='cuda:5')\n",
      "tensor(-1.6085e-06, device='cuda:5')\n",
      "tensor(-0.0001, device='cuda:5')\n",
      "tensor(2.9544e-09, device='cuda:5')\n",
      "tensor(7.0958e-10, device='cuda:5')\n"
     ]
    },
    {
     "data": {
      "application/vnd.jupyter.widget-view+json": {
       "model_id": "6687f75fed90403183ca92ae8bd741c6",
       "version_major": 2,
       "version_minor": 0
      },
      "text/plain": [
       "HBox(children=(FloatProgress(value=0.0, max=9.0), HTML(value='')))"
      ]
     },
     "metadata": {},
     "output_type": "display_data"
    },
    {
     "name": "stdout",
     "output_type": "stream",
     "text": [
      "\n",
      "epoch time: 25.654959440231323\n",
      "mean loss train: 0.241818147840954, mean loss val: 0.24683003607250742\n",
      "accuracy train: 0.8821428571428571, accuracy val: 0.8828571428571429\n",
      "---------------------------------------------------------------------------------------------------\n",
      "Epoch: 38, Learning Rate: 0.0005\n",
      "\n"
     ]
    },
    {
     "data": {
      "application/vnd.jupyter.widget-view+json": {
       "model_id": "b1f4d470bec14f7c9005b0edd13b4b73",
       "version_major": 2,
       "version_minor": 0
      },
      "text/plain": [
       "HBox(children=(FloatProgress(value=0.0, max=132.0), HTML(value='')))"
      ]
     },
     "metadata": {},
     "output_type": "display_data"
    },
    {
     "name": "stdout",
     "output_type": "stream",
     "text": [
      "\n",
      "tensor(1.0531e-05, device='cuda:5')\n",
      "tensor(1.0045e-06, device='cuda:5')\n",
      "tensor(-0.0003, device='cuda:5')\n",
      "tensor(-0.0003, device='cuda:5')\n",
      "tensor(-2.1527e-06, device='cuda:5')\n",
      "tensor(1.3338e-07, device='cuda:5')\n",
      "tensor(4.5661e-05, device='cuda:5')\n",
      "tensor(4.5661e-05, device='cuda:5')\n",
      "tensor(6.9917e-08, device='cuda:5')\n",
      "tensor(-1.0574e-07, device='cuda:5')\n",
      "tensor(-1.0904e-05, device='cuda:5')\n",
      "tensor(-1.0904e-05, device='cuda:5')\n",
      "tensor(-2.2334e-08, device='cuda:5')\n",
      "tensor(0., device='cuda:5')\n",
      "tensor(-3.1598e-05, device='cuda:5')\n",
      "tensor(-3.1598e-05, device='cuda:5')\n",
      "tensor(-1.8303e-06, device='cuda:5')\n",
      "tensor(-0.0002, device='cuda:5')\n",
      "tensor(2.0052e-09, device='cuda:5')\n",
      "tensor(7.0958e-10, device='cuda:5')\n"
     ]
    },
    {
     "data": {
      "application/vnd.jupyter.widget-view+json": {
       "model_id": "7522276dee7240e3be47f7c93bcfbd00",
       "version_major": 2,
       "version_minor": 0
      },
      "text/plain": [
       "HBox(children=(FloatProgress(value=0.0, max=9.0), HTML(value='')))"
      ]
     },
     "metadata": {},
     "output_type": "display_data"
    },
    {
     "name": "stdout",
     "output_type": "stream",
     "text": [
      "\n",
      "epoch time: 27.191973447799683\n",
      "mean loss train: 0.255535462697347, mean loss val: 0.24544457344782825\n",
      "accuracy train: 0.8755952380952381, accuracy val: 0.888095238095238\n",
      "---------------------------------------------------------------------------------------------------\n",
      "Epoch: 39, Learning Rate: 0.0005\n",
      "\n"
     ]
    },
    {
     "data": {
      "application/vnd.jupyter.widget-view+json": {
       "model_id": "89dde34362d3483e8c91d045283b973b",
       "version_major": 2,
       "version_minor": 0
      },
      "text/plain": [
       "HBox(children=(FloatProgress(value=0.0, max=132.0), HTML(value='')))"
      ]
     },
     "metadata": {},
     "output_type": "display_data"
    },
    {
     "name": "stdout",
     "output_type": "stream",
     "text": [
      "\n",
      "tensor(-2.1132e-06, device='cuda:5')\n",
      "tensor(-2.4881e-06, device='cuda:5')\n",
      "tensor(-0.0003, device='cuda:5')\n",
      "tensor(-0.0003, device='cuda:5')\n",
      "tensor(-3.4395e-07, device='cuda:5')\n",
      "tensor(2.0282e-07, device='cuda:5')\n",
      "tensor(4.5741e-05, device='cuda:5')\n",
      "tensor(4.5741e-05, device='cuda:5')\n",
      "tensor(1.8727e-07, device='cuda:5')\n",
      "tensor(1.5652e-06, device='cuda:5')\n",
      "tensor(5.4119e-05, device='cuda:5')\n",
      "tensor(5.4119e-05, device='cuda:5')\n",
      "tensor(6.9022e-09, device='cuda:5')\n",
      "tensor(0., device='cuda:5')\n",
      "tensor(-6.8409e-06, device='cuda:5')\n",
      "tensor(-6.8409e-06, device='cuda:5')\n",
      "tensor(-4.9963e-06, device='cuda:5')\n",
      "tensor(-0.0004, device='cuda:5')\n",
      "tensor(-3.6033e-09, device='cuda:5')\n",
      "tensor(-3.7253e-09, device='cuda:5')\n"
     ]
    },
    {
     "data": {
      "application/vnd.jupyter.widget-view+json": {
       "model_id": "1cb3c99199864a37a6c5209c04077e60",
       "version_major": 2,
       "version_minor": 0
      },
      "text/plain": [
       "HBox(children=(FloatProgress(value=0.0, max=9.0), HTML(value='')))"
      ]
     },
     "metadata": {},
     "output_type": "display_data"
    },
    {
     "name": "stdout",
     "output_type": "stream",
     "text": [
      "\n",
      "epoch time: 25.825204610824585\n",
      "mean loss train: 0.23005175865831828, mean loss val: 0.2626496417181971\n",
      "accuracy train: 0.8851190476190476, accuracy val: 0.87\n",
      "---------------------------------------------------------------------------------------------------\n",
      "Epoch: 40, Learning Rate: 0.0005\n",
      "\n"
     ]
    },
    {
     "data": {
      "application/vnd.jupyter.widget-view+json": {
       "model_id": "fdac73e6eda94cc2804435e22261686c",
       "version_major": 2,
       "version_minor": 0
      },
      "text/plain": [
       "HBox(children=(FloatProgress(value=0.0, max=132.0), HTML(value='')))"
      ]
     },
     "metadata": {},
     "output_type": "display_data"
    },
    {
     "name": "stdout",
     "output_type": "stream",
     "text": [
      "\n",
      "tensor(2.6866e-06, device='cuda:5')\n",
      "tensor(-4.1624e-07, device='cuda:5')\n",
      "tensor(-0.0002, device='cuda:5')\n",
      "tensor(-0.0002, device='cuda:5')\n",
      "tensor(3.4410e-08, device='cuda:5')\n",
      "tensor(-3.9486e-09, device='cuda:5')\n",
      "tensor(-3.7244e-07, device='cuda:5')\n",
      "tensor(-3.7244e-07, device='cuda:5')\n",
      "tensor(-2.2151e-08, device='cuda:5')\n",
      "tensor(7.6373e-08, device='cuda:5')\n",
      "tensor(2.0822e-06, device='cuda:5')\n",
      "tensor(2.0822e-06, device='cuda:5')\n",
      "tensor(-1.6701e-09, device='cuda:5')\n",
      "tensor(0., device='cuda:5')\n",
      "tensor(-6.7704e-07, device='cuda:5')\n",
      "tensor(-6.7704e-07, device='cuda:5')\n",
      "tensor(-8.2980e-07, device='cuda:5')\n",
      "tensor(-6.6403e-05, device='cuda:5')\n",
      "tensor(2.2870e-09, device='cuda:5')\n",
      "tensor(1.6853e-09, device='cuda:5')\n"
     ]
    },
    {
     "data": {
      "application/vnd.jupyter.widget-view+json": {
       "model_id": "45f3eaad66b6443a82860bdf9f88b578",
       "version_major": 2,
       "version_minor": 0
      },
      "text/plain": [
       "HBox(children=(FloatProgress(value=0.0, max=9.0), HTML(value='')))"
      ]
     },
     "metadata": {},
     "output_type": "display_data"
    },
    {
     "name": "stdout",
     "output_type": "stream",
     "text": [
      "\n",
      "epoch time: 26.123090982437134\n",
      "mean loss train: 0.2136235210157576, mean loss val: 0.2407525850477742\n",
      "accuracy train: 0.8896428571428572, accuracy val: 0.8909523809523809\n",
      "---------------------------------------------------------------------------------------------------\n",
      "Epoch: 41, Learning Rate: 0.0005\n",
      "\n"
     ]
    },
    {
     "data": {
      "application/vnd.jupyter.widget-view+json": {
       "model_id": "5ef06623b956462bb6d88faad7f5f567",
       "version_major": 2,
       "version_minor": 0
      },
      "text/plain": [
       "HBox(children=(FloatProgress(value=0.0, max=132.0), HTML(value='')))"
      ]
     },
     "metadata": {},
     "output_type": "display_data"
    },
    {
     "name": "stdout",
     "output_type": "stream",
     "text": [
      "\n",
      "tensor(4.9301e-05, device='cuda:5')\n",
      "tensor(1.7481e-06, device='cuda:5')\n",
      "tensor(-0.0002, device='cuda:5')\n",
      "tensor(-0.0002, device='cuda:5')\n",
      "tensor(6.9265e-06, device='cuda:5')\n",
      "tensor(9.3390e-08, device='cuda:5')\n",
      "tensor(2.3411e-05, device='cuda:5')\n",
      "tensor(2.3411e-05, device='cuda:5')\n",
      "tensor(1.6994e-07, device='cuda:5')\n",
      "tensor(4.3581e-07, device='cuda:5')\n",
      "tensor(1.4551e-05, device='cuda:5')\n",
      "tensor(1.4551e-05, device='cuda:5')\n",
      "tensor(1.0915e-07, device='cuda:5')\n",
      "tensor(0., device='cuda:5')\n",
      "tensor(1.2649e-05, device='cuda:5')\n",
      "tensor(1.2649e-05, device='cuda:5')\n",
      "tensor(4.0288e-06, device='cuda:5')\n",
      "tensor(0.0001, device='cuda:5')\n",
      "tensor(2.7245e-09, device='cuda:5')\n",
      "tensor(1.3748e-09, device='cuda:5')\n"
     ]
    },
    {
     "data": {
      "application/vnd.jupyter.widget-view+json": {
       "model_id": "0b3cbbebf28646e08178d556b42e7de3",
       "version_major": 2,
       "version_minor": 0
      },
      "text/plain": [
       "HBox(children=(FloatProgress(value=0.0, max=9.0), HTML(value='')))"
      ]
     },
     "metadata": {},
     "output_type": "display_data"
    },
    {
     "name": "stdout",
     "output_type": "stream",
     "text": [
      "\n",
      "epoch time: 26.197126865386963\n",
      "mean loss train: 0.20142182003884088, mean loss val: 0.21287418433598024\n",
      "accuracy train: 0.8961904761904762, accuracy val: 0.8919047619047619\n",
      "---------------------------------------------------------------------------------------------------\n",
      "Epoch: 42, Learning Rate: 0.0005\n",
      "\n"
     ]
    },
    {
     "data": {
      "application/vnd.jupyter.widget-view+json": {
       "model_id": "6898384047a1422f95721af385ddb291",
       "version_major": 2,
       "version_minor": 0
      },
      "text/plain": [
       "HBox(children=(FloatProgress(value=0.0, max=132.0), HTML(value='')))"
      ]
     },
     "metadata": {},
     "output_type": "display_data"
    },
    {
     "name": "stdout",
     "output_type": "stream",
     "text": [
      "\n",
      "tensor(-0.0001, device='cuda:5')\n",
      "tensor(1.9363e-05, device='cuda:5')\n",
      "tensor(0.0074, device='cuda:5')\n",
      "tensor(0.0074, device='cuda:5')\n",
      "tensor(-3.3390e-06, device='cuda:5')\n",
      "tensor(1.5964e-07, device='cuda:5')\n",
      "tensor(4.3979e-05, device='cuda:5')\n",
      "tensor(4.3979e-05, device='cuda:5')\n",
      "tensor(-1.5161e-07, device='cuda:5')\n",
      "tensor(1.7849e-06, device='cuda:5')\n",
      "tensor(8.8655e-05, device='cuda:5')\n",
      "tensor(8.8655e-05, device='cuda:5')\n",
      "tensor(1.4647e-07, device='cuda:5')\n",
      "tensor(0., device='cuda:5')\n",
      "tensor(-6.6476e-05, device='cuda:5')\n",
      "tensor(-6.6476e-05, device='cuda:5')\n",
      "tensor(7.5637e-06, device='cuda:5')\n",
      "tensor(0.0007, device='cuda:5')\n",
      "tensor(3.5037e-09, device='cuda:5')\n",
      "tensor(2.1287e-09, device='cuda:5')\n"
     ]
    },
    {
     "data": {
      "application/vnd.jupyter.widget-view+json": {
       "model_id": "ef235971357b4dc7bc016506ca890ca0",
       "version_major": 2,
       "version_minor": 0
      },
      "text/plain": [
       "HBox(children=(FloatProgress(value=0.0, max=9.0), HTML(value='')))"
      ]
     },
     "metadata": {},
     "output_type": "display_data"
    },
    {
     "name": "stdout",
     "output_type": "stream",
     "text": [
      "\n",
      "epoch time: 25.732524156570435\n",
      "mean loss train: 0.2230725670428503, mean loss val: 0.21670578956604264\n",
      "accuracy train: 0.8879761904761905, accuracy val: 0.8914285714285715\n",
      "---------------------------------------------------------------------------------------------------\n",
      "Epoch: 43, Learning Rate: 0.0005\n",
      "\n"
     ]
    },
    {
     "data": {
      "application/vnd.jupyter.widget-view+json": {
       "model_id": "26d8e81951a642978d8836355834dc9c",
       "version_major": 2,
       "version_minor": 0
      },
      "text/plain": [
       "HBox(children=(FloatProgress(value=0.0, max=132.0), HTML(value='')))"
      ]
     },
     "metadata": {},
     "output_type": "display_data"
    },
    {
     "name": "stdout",
     "output_type": "stream",
     "text": [
      "\n",
      "tensor(-5.1195e-05, device='cuda:5')\n",
      "tensor(-1.3843e-06, device='cuda:5')\n",
      "tensor(0.0030, device='cuda:5')\n",
      "tensor(0.0030, device='cuda:5')\n",
      "tensor(3.1400e-06, device='cuda:5')\n",
      "tensor(8.3045e-07, device='cuda:5')\n",
      "tensor(0.0002, device='cuda:5')\n",
      "tensor(0.0002, device='cuda:5')\n",
      "tensor(-1.7967e-07, device='cuda:5')\n",
      "tensor(-7.8530e-07, device='cuda:5')\n",
      "tensor(-1.8740e-05, device='cuda:5')\n",
      "tensor(-1.8740e-05, device='cuda:5')\n",
      "tensor(-7.2997e-08, device='cuda:5')\n",
      "tensor(0., device='cuda:5')\n",
      "tensor(-2.3579e-05, device='cuda:5')\n",
      "tensor(-2.3579e-05, device='cuda:5')\n",
      "tensor(-2.2161e-06, device='cuda:5')\n",
      "tensor(-0.0002, device='cuda:5')\n",
      "tensor(7.4090e-09, device='cuda:5')\n",
      "tensor(4.7897e-09, device='cuda:5')\n"
     ]
    },
    {
     "data": {
      "application/vnd.jupyter.widget-view+json": {
       "model_id": "9d4d893312df4bbcb2460d5b2a4a21d9",
       "version_major": 2,
       "version_minor": 0
      },
      "text/plain": [
       "HBox(children=(FloatProgress(value=0.0, max=9.0), HTML(value='')))"
      ]
     },
     "metadata": {},
     "output_type": "display_data"
    },
    {
     "name": "stdout",
     "output_type": "stream",
     "text": [
      "\n",
      "epoch time: 26.54107975959778\n",
      "mean loss train: 0.21415447195370993, mean loss val: 0.1965488640467352\n",
      "accuracy train: 0.8894047619047619, accuracy val: 0.900952380952381\n",
      "---------------------------------------------------------------------------------------------------\n",
      "Epoch: 44, Learning Rate: 0.0005\n",
      "\n"
     ]
    },
    {
     "data": {
      "application/vnd.jupyter.widget-view+json": {
       "model_id": "baf915c547fc4c738113c69f1489d0b8",
       "version_major": 2,
       "version_minor": 0
      },
      "text/plain": [
       "HBox(children=(FloatProgress(value=0.0, max=132.0), HTML(value='')))"
      ]
     },
     "metadata": {},
     "output_type": "display_data"
    },
    {
     "name": "stdout",
     "output_type": "stream",
     "text": [
      "\n",
      "tensor(1.0511e-07, device='cuda:5')\n",
      "tensor(1.1904e-06, device='cuda:5')\n",
      "tensor(0.0003, device='cuda:5')\n",
      "tensor(0.0003, device='cuda:5')\n",
      "tensor(6.7096e-08, device='cuda:5')\n",
      "tensor(2.7759e-08, device='cuda:5')\n",
      "tensor(8.1651e-06, device='cuda:5')\n",
      "tensor(8.1651e-06, device='cuda:5')\n",
      "tensor(1.2789e-08, device='cuda:5')\n",
      "tensor(-4.0618e-07, device='cuda:5')\n",
      "tensor(-1.3592e-05, device='cuda:5')\n",
      "tensor(-1.3592e-05, device='cuda:5')\n",
      "tensor(9.6203e-09, device='cuda:5')\n",
      "tensor(0., device='cuda:5')\n",
      "tensor(9.7280e-06, device='cuda:5')\n",
      "tensor(9.7280e-06, device='cuda:5')\n",
      "tensor(7.8068e-07, device='cuda:5')\n",
      "tensor(0.0001, device='cuda:5')\n",
      "tensor(5.7908e-09, device='cuda:5')\n",
      "tensor(3.9914e-09, device='cuda:5')\n"
     ]
    },
    {
     "data": {
      "application/vnd.jupyter.widget-view+json": {
       "model_id": "b5cf7a07019d4aa9aea746b1d6bbad38",
       "version_major": 2,
       "version_minor": 0
      },
      "text/plain": [
       "HBox(children=(FloatProgress(value=0.0, max=9.0), HTML(value='')))"
      ]
     },
     "metadata": {},
     "output_type": "display_data"
    },
    {
     "name": "stdout",
     "output_type": "stream",
     "text": [
      "\n",
      "epoch time: 27.666250705718994\n",
      "mean loss train: 0.19148251845723108, mean loss val: 0.1948865356899469\n",
      "accuracy train: 0.8989285714285714, accuracy val: 0.900952380952381\n",
      "---------------------------------------------------------------------------------------------------\n",
      "Epoch: 45, Learning Rate: 0.0005\n",
      "\n"
     ]
    },
    {
     "data": {
      "application/vnd.jupyter.widget-view+json": {
       "model_id": "cfa5bb679bf7467682a5aec7b6cedd5a",
       "version_major": 2,
       "version_minor": 0
      },
      "text/plain": [
       "HBox(children=(FloatProgress(value=0.0, max=132.0), HTML(value='')))"
      ]
     },
     "metadata": {},
     "output_type": "display_data"
    },
    {
     "name": "stdout",
     "output_type": "stream",
     "text": [
      "\n",
      "tensor(1.3232e-06, device='cuda:5')\n",
      "tensor(3.7308e-07, device='cuda:5')\n",
      "tensor(-4.3966e-05, device='cuda:5')\n",
      "tensor(-4.3966e-05, device='cuda:5')\n",
      "tensor(2.5121e-07, device='cuda:5')\n",
      "tensor(-6.1927e-09, device='cuda:5')\n",
      "tensor(3.4552e-06, device='cuda:5')\n",
      "tensor(3.4552e-06, device='cuda:5')\n",
      "tensor(-1.6890e-08, device='cuda:5')\n",
      "tensor(-1.7073e-07, device='cuda:5')\n",
      "tensor(-5.3423e-06, device='cuda:5')\n",
      "tensor(-5.3423e-06, device='cuda:5')\n",
      "tensor(-1.5375e-08, device='cuda:5')\n",
      "tensor(0., device='cuda:5')\n",
      "tensor(-9.8809e-06, device='cuda:5')\n",
      "tensor(-9.8809e-06, device='cuda:5')\n",
      "tensor(-1.0095e-06, device='cuda:5')\n",
      "tensor(-0.0001, device='cuda:5')\n",
      "tensor(-2.7517e-09, device='cuda:5')\n",
      "tensor(-2.4835e-09, device='cuda:5')\n"
     ]
    },
    {
     "data": {
      "application/vnd.jupyter.widget-view+json": {
       "model_id": "f97a48888f9b48f996e4118c9a6c0e73",
       "version_major": 2,
       "version_minor": 0
      },
      "text/plain": [
       "HBox(children=(FloatProgress(value=0.0, max=9.0), HTML(value='')))"
      ]
     },
     "metadata": {},
     "output_type": "display_data"
    },
    {
     "name": "stdout",
     "output_type": "stream",
     "text": [
      "\n",
      "epoch time: 26.17773199081421\n",
      "mean loss train: 0.22188917795817056, mean loss val: 0.21933904625120876\n",
      "accuracy train: 0.896547619047619, accuracy val: 0.8942857142857142\n",
      "---------------------------------------------------------------------------------------------------\n",
      "Epoch: 46, Learning Rate: 0.0005\n",
      "\n"
     ]
    },
    {
     "data": {
      "application/vnd.jupyter.widget-view+json": {
       "model_id": "3647b4e6c65146da86e5b5eb7d1dbe0e",
       "version_major": 2,
       "version_minor": 0
      },
      "text/plain": [
       "HBox(children=(FloatProgress(value=0.0, max=132.0), HTML(value='')))"
      ]
     },
     "metadata": {},
     "output_type": "display_data"
    },
    {
     "name": "stdout",
     "output_type": "stream",
     "text": [
      "\n",
      "tensor(-7.6610e-06, device='cuda:5')\n",
      "tensor(-3.8558e-06, device='cuda:5')\n",
      "tensor(-0.0010, device='cuda:5')\n",
      "tensor(-0.0010, device='cuda:5')\n",
      "tensor(9.3466e-07, device='cuda:5')\n",
      "tensor(-6.5673e-08, device='cuda:5')\n",
      "tensor(-2.3926e-05, device='cuda:5')\n",
      "tensor(-2.3926e-05, device='cuda:5')\n",
      "tensor(-6.5842e-08, device='cuda:5')\n",
      "tensor(-9.6123e-08, device='cuda:5')\n",
      "tensor(-1.2852e-05, device='cuda:5')\n",
      "tensor(-1.2852e-05, device='cuda:5')\n",
      "tensor(-5.6827e-09, device='cuda:5')\n",
      "tensor(0., device='cuda:5')\n",
      "tensor(3.1849e-06, device='cuda:5')\n",
      "tensor(3.1849e-06, device='cuda:5')\n",
      "tensor(5.5044e-07, device='cuda:5')\n",
      "tensor(7.0118e-07, device='cuda:5')\n",
      "tensor(1.5356e-11, device='cuda:5')\n",
      "tensor(-3.5479e-10, device='cuda:5')\n"
     ]
    },
    {
     "data": {
      "application/vnd.jupyter.widget-view+json": {
       "model_id": "9d3f1cec569f43ff8489298940c6b99c",
       "version_major": 2,
       "version_minor": 0
      },
      "text/plain": [
       "HBox(children=(FloatProgress(value=0.0, max=9.0), HTML(value='')))"
      ]
     },
     "metadata": {},
     "output_type": "display_data"
    },
    {
     "name": "stdout",
     "output_type": "stream",
     "text": [
      "\n",
      "epoch time: 26.309667825698853\n",
      "mean loss train: 0.20081542543002537, mean loss val: 0.250010552633377\n",
      "accuracy train: 0.8960714285714285, accuracy val: 0.8790476190476191\n",
      "---------------------------------------------------------------------------------------------------\n",
      "Epoch: 47, Learning Rate: 0.0005\n",
      "\n"
     ]
    },
    {
     "data": {
      "application/vnd.jupyter.widget-view+json": {
       "model_id": "d8745f87d50942ac857be8e7c614878b",
       "version_major": 2,
       "version_minor": 0
      },
      "text/plain": [
       "HBox(children=(FloatProgress(value=0.0, max=132.0), HTML(value='')))"
      ]
     },
     "metadata": {},
     "output_type": "display_data"
    },
    {
     "name": "stdout",
     "output_type": "stream",
     "text": [
      "\n",
      "tensor(-6.8982e-06, device='cuda:5')\n",
      "tensor(1.2617e-06, device='cuda:5')\n",
      "tensor(0.0006, device='cuda:5')\n",
      "tensor(0.0006, device='cuda:5')\n",
      "tensor(-9.5593e-07, device='cuda:5')\n",
      "tensor(1.0421e-07, device='cuda:5')\n",
      "tensor(3.3538e-05, device='cuda:5')\n",
      "tensor(3.3538e-05, device='cuda:5')\n",
      "tensor(5.3360e-09, device='cuda:5')\n",
      "tensor(-1.1680e-07, device='cuda:5')\n",
      "tensor(-3.1854e-06, device='cuda:5')\n",
      "tensor(-3.1854e-06, device='cuda:5')\n",
      "tensor(1.2936e-08, device='cuda:5')\n",
      "tensor(0., device='cuda:5')\n",
      "tensor(-4.0804e-06, device='cuda:5')\n",
      "tensor(-4.0804e-06, device='cuda:5')\n",
      "tensor(-1.0959e-06, device='cuda:5')\n",
      "tensor(-5.5693e-05, device='cuda:5')\n",
      "tensor(2.4786e-09, device='cuda:5')\n",
      "tensor(1.3027e-09, device='cuda:5')\n"
     ]
    },
    {
     "data": {
      "application/vnd.jupyter.widget-view+json": {
       "model_id": "c136598b4590430bbe40affed003c8c9",
       "version_major": 2,
       "version_minor": 0
      },
      "text/plain": [
       "HBox(children=(FloatProgress(value=0.0, max=9.0), HTML(value='')))"
      ]
     },
     "metadata": {},
     "output_type": "display_data"
    },
    {
     "name": "stdout",
     "output_type": "stream",
     "text": [
      "\n",
      "epoch time: 25.934215545654297\n",
      "mean loss train: 0.18201103207610903, mean loss val: 0.1918292599632627\n",
      "accuracy train: 0.9042857142857142, accuracy val: 0.9033333333333333\n",
      "---------------------------------------------------------------------------------------------------\n",
      "Epoch: 48, Learning Rate: 0.0005\n",
      "\n"
     ]
    },
    {
     "data": {
      "application/vnd.jupyter.widget-view+json": {
       "model_id": "5f833dcda717449188f521f595273029",
       "version_major": 2,
       "version_minor": 0
      },
      "text/plain": [
       "HBox(children=(FloatProgress(value=0.0, max=132.0), HTML(value='')))"
      ]
     },
     "metadata": {},
     "output_type": "display_data"
    },
    {
     "name": "stdout",
     "output_type": "stream",
     "text": [
      "\n",
      "tensor(-1.3454e-06, device='cuda:5')\n",
      "tensor(-2.6546e-07, device='cuda:5')\n",
      "tensor(9.0578e-05, device='cuda:5')\n",
      "tensor(9.0578e-05, device='cuda:5')\n",
      "tensor(-4.9862e-07, device='cuda:5')\n",
      "tensor(-3.6305e-09, device='cuda:5')\n",
      "tensor(1.1855e-06, device='cuda:5')\n",
      "tensor(1.1855e-06, device='cuda:5')\n",
      "tensor(5.7760e-09, device='cuda:5')\n",
      "tensor(4.3796e-08, device='cuda:5')\n",
      "tensor(2.6250e-06, device='cuda:5')\n",
      "tensor(2.6250e-06, device='cuda:5')\n",
      "tensor(-9.4013e-09, device='cuda:5')\n",
      "tensor(0., device='cuda:5')\n",
      "tensor(4.9109e-06, device='cuda:5')\n",
      "tensor(4.9109e-06, device='cuda:5')\n",
      "tensor(3.0448e-07, device='cuda:5')\n",
      "tensor(4.2347e-05, device='cuda:5')\n",
      "tensor(5.4058e-09, device='cuda:5')\n",
      "tensor(2.5722e-09, device='cuda:5')\n"
     ]
    },
    {
     "data": {
      "application/vnd.jupyter.widget-view+json": {
       "model_id": "65b4e6b3b056410c87dffe257e800dd0",
       "version_major": 2,
       "version_minor": 0
      },
      "text/plain": [
       "HBox(children=(FloatProgress(value=0.0, max=9.0), HTML(value='')))"
      ]
     },
     "metadata": {},
     "output_type": "display_data"
    },
    {
     "name": "stdout",
     "output_type": "stream",
     "text": [
      "\n",
      "epoch time: 26.270843505859375\n",
      "mean loss train: 0.19084346856389728, mean loss val: 0.19458590325855096\n",
      "accuracy train: 0.8978571428571429, accuracy val: 0.8976190476190476\n",
      "---------------------------------------------------------------------------------------------------\n",
      "Epoch: 49, Learning Rate: 0.00025\n",
      "\n"
     ]
    },
    {
     "data": {
      "application/vnd.jupyter.widget-view+json": {
       "model_id": "834f176f6e7941eda3070eb51ff46e97",
       "version_major": 2,
       "version_minor": 0
      },
      "text/plain": [
       "HBox(children=(FloatProgress(value=0.0, max=132.0), HTML(value='')))"
      ]
     },
     "metadata": {},
     "output_type": "display_data"
    },
    {
     "name": "stdout",
     "output_type": "stream",
     "text": [
      "\n",
      "tensor(-3.8425e-06, device='cuda:5')\n",
      "tensor(-3.4771e-07, device='cuda:5')\n",
      "tensor(-6.3725e-05, device='cuda:5')\n",
      "tensor(-6.3725e-05, device='cuda:5')\n",
      "tensor(-5.9188e-08, device='cuda:5')\n",
      "tensor(7.0822e-08, device='cuda:5')\n",
      "tensor(2.4558e-05, device='cuda:5')\n",
      "tensor(2.4558e-05, device='cuda:5')\n",
      "tensor(-3.8644e-08, device='cuda:5')\n",
      "tensor(-4.7961e-07, device='cuda:5')\n",
      "tensor(-1.7774e-05, device='cuda:5')\n",
      "tensor(-1.7774e-05, device='cuda:5')\n",
      "tensor(-2.4536e-08, device='cuda:5')\n",
      "tensor(0., device='cuda:5')\n",
      "tensor(-7.4624e-06, device='cuda:5')\n",
      "tensor(-7.4624e-06, device='cuda:5')\n",
      "tensor(-2.0243e-06, device='cuda:5')\n",
      "tensor(-0.0001, device='cuda:5')\n",
      "tensor(-2.9583e-10, device='cuda:5')\n",
      "tensor(-7.0958e-10, device='cuda:5')\n"
     ]
    },
    {
     "data": {
      "application/vnd.jupyter.widget-view+json": {
       "model_id": "fc44ac4f8fd04f7984f14d216e252364",
       "version_major": 2,
       "version_minor": 0
      },
      "text/plain": [
       "HBox(children=(FloatProgress(value=0.0, max=9.0), HTML(value='')))"
      ]
     },
     "metadata": {},
     "output_type": "display_data"
    },
    {
     "name": "stdout",
     "output_type": "stream",
     "text": [
      "\n",
      "epoch time: 26.24609899520874\n",
      "mean loss train: 0.16811351333345687, mean loss val: 0.19140989621480314\n",
      "accuracy train: 0.9117857142857143, accuracy val: 0.900952380952381\n",
      "---------------------------------------------------------------------------------------------------\n",
      "Epoch: 50, Learning Rate: 0.00025\n",
      "\n"
     ]
    },
    {
     "data": {
      "application/vnd.jupyter.widget-view+json": {
       "model_id": "35fb982255314ae388c8aab528920337",
       "version_major": 2,
       "version_minor": 0
      },
      "text/plain": [
       "HBox(children=(FloatProgress(value=0.0, max=132.0), HTML(value='')))"
      ]
     },
     "metadata": {},
     "output_type": "display_data"
    },
    {
     "name": "stdout",
     "output_type": "stream",
     "text": [
      "\n",
      "tensor(6.1129e-06, device='cuda:5')\n",
      "tensor(-6.9519e-07, device='cuda:5')\n",
      "tensor(-0.0005, device='cuda:5')\n",
      "tensor(-0.0005, device='cuda:5')\n",
      "tensor(-6.2893e-07, device='cuda:5')\n",
      "tensor(-2.1050e-08, device='cuda:5')\n",
      "tensor(-1.2437e-05, device='cuda:5')\n",
      "tensor(-1.2437e-05, device='cuda:5')\n",
      "tensor(2.1947e-08, device='cuda:5')\n",
      "tensor(1.9831e-07, device='cuda:5')\n",
      "tensor(1.3338e-05, device='cuda:5')\n",
      "tensor(1.3338e-05, device='cuda:5')\n",
      "tensor(-2.1664e-08, device='cuda:5')\n",
      "tensor(0., device='cuda:5')\n",
      "tensor(7.2045e-06, device='cuda:5')\n",
      "tensor(7.2045e-06, device='cuda:5')\n",
      "tensor(1.1173e-06, device='cuda:5')\n",
      "tensor(0.0001, device='cuda:5')\n",
      "tensor(9.9634e-09, device='cuda:5')\n",
      "tensor(6.8297e-09, device='cuda:5')\n"
     ]
    },
    {
     "data": {
      "application/vnd.jupyter.widget-view+json": {
       "model_id": "4e49dad0990f4511b53d29a96ff95a08",
       "version_major": 2,
       "version_minor": 0
      },
      "text/plain": [
       "HBox(children=(FloatProgress(value=0.0, max=9.0), HTML(value='')))"
      ]
     },
     "metadata": {},
     "output_type": "display_data"
    },
    {
     "name": "stdout",
     "output_type": "stream",
     "text": [
      "\n",
      "epoch time: 26.066348552703857\n",
      "mean loss train: 0.1622990147840409, mean loss val: 0.19056494939894913\n",
      "accuracy train: 0.9114285714285715, accuracy val: 0.9033333333333333\n",
      "---------------------------------------------------------------------------------------------------\n",
      "Epoch: 51, Learning Rate: 0.00025\n",
      "\n"
     ]
    },
    {
     "data": {
      "application/vnd.jupyter.widget-view+json": {
       "model_id": "4778d5b1caee4519a654623790867fe8",
       "version_major": 2,
       "version_minor": 0
      },
      "text/plain": [
       "HBox(children=(FloatProgress(value=0.0, max=132.0), HTML(value='')))"
      ]
     },
     "metadata": {},
     "output_type": "display_data"
    },
    {
     "name": "stdout",
     "output_type": "stream",
     "text": [
      "\n",
      "tensor(4.0340e-06, device='cuda:5')\n",
      "tensor(-1.7171e-08, device='cuda:5')\n",
      "tensor(-0.0001, device='cuda:5')\n",
      "tensor(-0.0001, device='cuda:5')\n",
      "tensor(1.8401e-07, device='cuda:5')\n",
      "tensor(1.0172e-09, device='cuda:5')\n",
      "tensor(-4.5021e-06, device='cuda:5')\n",
      "tensor(-4.5021e-06, device='cuda:5')\n",
      "tensor(9.8086e-10, device='cuda:5')\n",
      "tensor(-1.1996e-07, device='cuda:5')\n",
      "tensor(-5.1946e-06, device='cuda:5')\n",
      "tensor(-5.1946e-06, device='cuda:5')\n",
      "tensor(3.0593e-09, device='cuda:5')\n",
      "tensor(0., device='cuda:5')\n",
      "tensor(-2.5157e-06, device='cuda:5')\n",
      "tensor(-2.5157e-06, device='cuda:5')\n",
      "tensor(-2.8957e-07, device='cuda:5')\n",
      "tensor(-5.2836e-06, device='cuda:5')\n",
      "tensor(-8.1285e-09, device='cuda:5')\n",
      "tensor(-5.8984e-09, device='cuda:5')\n"
     ]
    },
    {
     "data": {
      "application/vnd.jupyter.widget-view+json": {
       "model_id": "87ac133dda04465fa01b7056293ec260",
       "version_major": 2,
       "version_minor": 0
      },
      "text/plain": [
       "HBox(children=(FloatProgress(value=0.0, max=9.0), HTML(value='')))"
      ]
     },
     "metadata": {},
     "output_type": "display_data"
    },
    {
     "name": "stdout",
     "output_type": "stream",
     "text": [
      "\n",
      "epoch time: 26.1148521900177\n",
      "mean loss train: 0.1592131317229498, mean loss val: 0.18808122226170138\n",
      "accuracy train: 0.9151190476190476, accuracy val: 0.8990476190476191\n",
      "---------------------------------------------------------------------------------------------------\n",
      "Epoch: 52, Learning Rate: 0.00025\n",
      "\n"
     ]
    },
    {
     "data": {
      "application/vnd.jupyter.widget-view+json": {
       "model_id": "1bcb0b0bcaca4c7cb6b23c4b49d3e7dd",
       "version_major": 2,
       "version_minor": 0
      },
      "text/plain": [
       "HBox(children=(FloatProgress(value=0.0, max=132.0), HTML(value='')))"
      ]
     },
     "metadata": {},
     "output_type": "display_data"
    },
    {
     "name": "stdout",
     "output_type": "stream",
     "text": [
      "\n",
      "tensor(-1.6815e-07, device='cuda:5')\n",
      "tensor(-1.6749e-07, device='cuda:5')\n",
      "tensor(-1.5952e-05, device='cuda:5')\n",
      "tensor(-1.5952e-05, device='cuda:5')\n",
      "tensor(-4.5887e-08, device='cuda:5')\n",
      "tensor(2.1287e-09, device='cuda:5')\n",
      "tensor(1.9713e-06, device='cuda:5')\n",
      "tensor(1.9713e-06, device='cuda:5')\n",
      "tensor(-1.6672e-08, device='cuda:5')\n",
      "tensor(-9.7181e-08, device='cuda:5')\n",
      "tensor(-7.4861e-06, device='cuda:5')\n",
      "tensor(-7.4861e-06, device='cuda:5')\n",
      "tensor(-6.7342e-11, device='cuda:5')\n",
      "tensor(0., device='cuda:5')\n",
      "tensor(9.0912e-07, device='cuda:5')\n",
      "tensor(9.0912e-07, device='cuda:5')\n",
      "tensor(4.6929e-07, device='cuda:5')\n",
      "tensor(0.0001, device='cuda:5')\n",
      "tensor(3.7926e-09, device='cuda:5')\n",
      "tensor(1.7739e-09, device='cuda:5')\n"
     ]
    },
    {
     "data": {
      "application/vnd.jupyter.widget-view+json": {
       "model_id": "f7d20335f9714185a55b73b3f37e6ab9",
       "version_major": 2,
       "version_minor": 0
      },
      "text/plain": [
       "HBox(children=(FloatProgress(value=0.0, max=9.0), HTML(value='')))"
      ]
     },
     "metadata": {},
     "output_type": "display_data"
    },
    {
     "name": "stdout",
     "output_type": "stream",
     "text": [
      "\n",
      "epoch time: 26.323050498962402\n",
      "mean loss train: 0.16090055108070372, mean loss val: 0.22472870690482008\n",
      "accuracy train: 0.9120238095238096, accuracy val: 0.8938095238095238\n",
      "---------------------------------------------------------------------------------------------------\n",
      "Epoch: 53, Learning Rate: 0.00025\n",
      "\n"
     ]
    },
    {
     "data": {
      "application/vnd.jupyter.widget-view+json": {
       "model_id": "18480beb7b4b45b28c7fa9067b47ade8",
       "version_major": 2,
       "version_minor": 0
      },
      "text/plain": [
       "HBox(children=(FloatProgress(value=0.0, max=132.0), HTML(value='')))"
      ]
     },
     "metadata": {},
     "output_type": "display_data"
    },
    {
     "name": "stdout",
     "output_type": "stream",
     "text": [
      "\n",
      "tensor(-9.0244e-06, device='cuda:5')\n",
      "tensor(9.5471e-07, device='cuda:5')\n",
      "tensor(0.0013, device='cuda:5')\n",
      "tensor(0.0013, device='cuda:5')\n",
      "tensor(-1.4834e-06, device='cuda:5')\n",
      "tensor(1.5475e-07, device='cuda:5')\n",
      "tensor(6.2228e-05, device='cuda:5')\n",
      "tensor(6.2228e-05, device='cuda:5')\n",
      "tensor(-6.0813e-08, device='cuda:5')\n",
      "tensor(-1.2241e-06, device='cuda:5')\n",
      "tensor(-3.1880e-05, device='cuda:5')\n",
      "tensor(-3.1880e-05, device='cuda:5')\n",
      "tensor(5.8146e-09, device='cuda:5')\n",
      "tensor(0., device='cuda:5')\n",
      "tensor(1.3340e-07, device='cuda:5')\n",
      "tensor(1.3340e-07, device='cuda:5')\n",
      "tensor(8.4163e-07, device='cuda:5')\n",
      "tensor(0.0001, device='cuda:5')\n",
      "tensor(-6.7143e-10, device='cuda:5')\n",
      "tensor(0., device='cuda:5')\n"
     ]
    },
    {
     "data": {
      "application/vnd.jupyter.widget-view+json": {
       "model_id": "68691f18f0da433cb60b5a569b581cd8",
       "version_major": 2,
       "version_minor": 0
      },
      "text/plain": [
       "HBox(children=(FloatProgress(value=0.0, max=9.0), HTML(value='')))"
      ]
     },
     "metadata": {},
     "output_type": "display_data"
    },
    {
     "name": "stdout",
     "output_type": "stream",
     "text": [
      "\n",
      "epoch time: 26.473114013671875\n",
      "mean loss train: 0.15736101661409652, mean loss val: 0.23511102176847914\n",
      "accuracy train: 0.9130952380952381, accuracy val: 0.8942857142857142\n",
      "---------------------------------------------------------------------------------------------------\n",
      "Epoch: 54, Learning Rate: 0.00025\n",
      "\n"
     ]
    },
    {
     "data": {
      "application/vnd.jupyter.widget-view+json": {
       "model_id": "6e63474f369b4cf0a81f97c3b40b9e65",
       "version_major": 2,
       "version_minor": 0
      },
      "text/plain": [
       "HBox(children=(FloatProgress(value=0.0, max=132.0), HTML(value='')))"
      ]
     },
     "metadata": {},
     "output_type": "display_data"
    },
    {
     "name": "stdout",
     "output_type": "stream",
     "text": [
      "\n",
      "tensor(-8.1916e-07, device='cuda:5')\n",
      "tensor(-1.1736e-07, device='cuda:5')\n",
      "tensor(-0.0001, device='cuda:5')\n",
      "tensor(-0.0001, device='cuda:5')\n",
      "tensor(1.0846e-07, device='cuda:5')\n",
      "tensor(6.9796e-10, device='cuda:5')\n",
      "tensor(-4.3183e-06, device='cuda:5')\n",
      "tensor(-4.3183e-06, device='cuda:5')\n",
      "tensor(-1.1572e-08, device='cuda:5')\n",
      "tensor(-3.1362e-08, device='cuda:5')\n",
      "tensor(-3.3497e-06, device='cuda:5')\n",
      "tensor(-3.3497e-06, device='cuda:5')\n",
      "tensor(1.4922e-08, device='cuda:5')\n",
      "tensor(0., device='cuda:5')\n",
      "tensor(2.9832e-06, device='cuda:5')\n",
      "tensor(2.9832e-06, device='cuda:5')\n",
      "tensor(1.9929e-07, device='cuda:5')\n",
      "tensor(6.3429e-05, device='cuda:5')\n",
      "tensor(3.3464e-10, device='cuda:5')\n",
      "tensor(8.8697e-11, device='cuda:5')\n"
     ]
    },
    {
     "data": {
      "application/vnd.jupyter.widget-view+json": {
       "model_id": "287d36dd675d495ba01559db42453d51",
       "version_major": 2,
       "version_minor": 0
      },
      "text/plain": [
       "HBox(children=(FloatProgress(value=0.0, max=9.0), HTML(value='')))"
      ]
     },
     "metadata": {},
     "output_type": "display_data"
    },
    {
     "name": "stdout",
     "output_type": "stream",
     "text": [
      "\n",
      "epoch time: 26.077418327331543\n",
      "mean loss train: 0.1542971050171625, mean loss val: 0.21094932329087032\n",
      "accuracy train: 0.9201190476190476, accuracy val: 0.8966666666666666\n",
      "---------------------------------------------------------------------------------------------------\n",
      "Epoch: 55, Learning Rate: 0.00025\n",
      "\n"
     ]
    },
    {
     "data": {
      "application/vnd.jupyter.widget-view+json": {
       "model_id": "8177fa6cfeec4b9090d6c5d5f40cbbf4",
       "version_major": 2,
       "version_minor": 0
      },
      "text/plain": [
       "HBox(children=(FloatProgress(value=0.0, max=132.0), HTML(value='')))"
      ]
     },
     "metadata": {},
     "output_type": "display_data"
    },
    {
     "name": "stdout",
     "output_type": "stream",
     "text": [
      "\n",
      "tensor(1.8133e-05, device='cuda:5')\n",
      "tensor(4.6422e-07, device='cuda:5')\n",
      "tensor(-0.0002, device='cuda:5')\n",
      "tensor(-0.0002, device='cuda:5')\n",
      "tensor(3.7891e-07, device='cuda:5')\n",
      "tensor(-2.5514e-09, device='cuda:5')\n",
      "tensor(-1.0787e-05, device='cuda:5')\n",
      "tensor(-1.0787e-05, device='cuda:5')\n",
      "tensor(-4.5026e-08, device='cuda:5')\n",
      "tensor(-1.3467e-07, device='cuda:5')\n",
      "tensor(-1.8604e-05, device='cuda:5')\n",
      "tensor(-1.8604e-05, device='cuda:5')\n",
      "tensor(-2.3636e-08, device='cuda:5')\n",
      "tensor(0., device='cuda:5')\n",
      "tensor(2.1702e-05, device='cuda:5')\n",
      "tensor(2.1702e-05, device='cuda:5')\n",
      "tensor(1.9175e-06, device='cuda:5')\n",
      "tensor(0.0003, device='cuda:5')\n",
      "tensor(5.8053e-09, device='cuda:5')\n",
      "tensor(2.8383e-09, device='cuda:5')\n"
     ]
    },
    {
     "data": {
      "application/vnd.jupyter.widget-view+json": {
       "model_id": "0bb0b5acad7642c0b4f45937c02ff6c4",
       "version_major": 2,
       "version_minor": 0
      },
      "text/plain": [
       "HBox(children=(FloatProgress(value=0.0, max=9.0), HTML(value='')))"
      ]
     },
     "metadata": {},
     "output_type": "display_data"
    },
    {
     "name": "stdout",
     "output_type": "stream",
     "text": [
      "\n",
      "epoch time: 26.206950426101685\n",
      "mean loss train: 0.1512758303823925, mean loss val: 0.21524098123822896\n",
      "accuracy train: 0.92, accuracy val: 0.9004761904761904\n",
      "---------------------------------------------------------------------------------------------------\n",
      "Epoch: 56, Learning Rate: 0.00025\n",
      "\n"
     ]
    },
    {
     "data": {
      "application/vnd.jupyter.widget-view+json": {
       "model_id": "6297115a483743c38a3d24714b12e715",
       "version_major": 2,
       "version_minor": 0
      },
      "text/plain": [
       "HBox(children=(FloatProgress(value=0.0, max=132.0), HTML(value='')))"
      ]
     },
     "metadata": {},
     "output_type": "display_data"
    },
    {
     "name": "stdout",
     "output_type": "stream",
     "text": [
      "\n",
      "tensor(1.4226e-06, device='cuda:5')\n",
      "tensor(-1.6591e-06, device='cuda:5')\n",
      "tensor(0.0003, device='cuda:5')\n",
      "tensor(0.0003, device='cuda:5')\n",
      "tensor(-5.4707e-07, device='cuda:5')\n",
      "tensor(9.0953e-08, device='cuda:5')\n",
      "tensor(3.6365e-05, device='cuda:5')\n",
      "tensor(3.6365e-05, device='cuda:5')\n",
      "tensor(6.7061e-09, device='cuda:5')\n",
      "tensor(4.7439e-07, device='cuda:5')\n",
      "tensor(1.6405e-05, device='cuda:5')\n",
      "tensor(1.6405e-05, device='cuda:5')\n",
      "tensor(-3.0983e-08, device='cuda:5')\n",
      "tensor(0., device='cuda:5')\n",
      "tensor(-1.0033e-05, device='cuda:5')\n",
      "tensor(-1.0033e-05, device='cuda:5')\n",
      "tensor(-5.5030e-07, device='cuda:5')\n",
      "tensor(-7.2166e-05, device='cuda:5')\n",
      "tensor(7.4626e-09, device='cuda:5')\n",
      "tensor(4.1688e-09, device='cuda:5')\n"
     ]
    },
    {
     "data": {
      "application/vnd.jupyter.widget-view+json": {
       "model_id": "4fed3dc529cf4a5891b125eb32bec957",
       "version_major": 2,
       "version_minor": 0
      },
      "text/plain": [
       "HBox(children=(FloatProgress(value=0.0, max=9.0), HTML(value='')))"
      ]
     },
     "metadata": {},
     "output_type": "display_data"
    },
    {
     "name": "stdout",
     "output_type": "stream",
     "text": [
      "\n",
      "epoch time: 26.204434871673584\n",
      "mean loss train: 0.16141572336355844, mean loss val: 0.20878195308503655\n",
      "accuracy train: 0.9182142857142858, accuracy val: 0.9\n",
      "---------------------------------------------------------------------------------------------------\n",
      "Epoch: 57, Learning Rate: 0.00025\n",
      "\n"
     ]
    },
    {
     "data": {
      "application/vnd.jupyter.widget-view+json": {
       "model_id": "c5c5490846c946f3b3388c36ffbb2a86",
       "version_major": 2,
       "version_minor": 0
      },
      "text/plain": [
       "HBox(children=(FloatProgress(value=0.0, max=132.0), HTML(value='')))"
      ]
     },
     "metadata": {},
     "output_type": "display_data"
    },
    {
     "name": "stdout",
     "output_type": "stream",
     "text": [
      "\n",
      "tensor(-3.3080e-05, device='cuda:5')\n",
      "tensor(7.1236e-06, device='cuda:5')\n",
      "tensor(0.0015, device='cuda:5')\n",
      "tensor(0.0015, device='cuda:5')\n",
      "tensor(7.3326e-07, device='cuda:5')\n",
      "tensor(3.1594e-08, device='cuda:5')\n",
      "tensor(2.8996e-05, device='cuda:5')\n",
      "tensor(2.8996e-05, device='cuda:5')\n",
      "tensor(2.0040e-07, device='cuda:5')\n",
      "tensor(6.4463e-08, device='cuda:5')\n",
      "tensor(2.2634e-05, device='cuda:5')\n",
      "tensor(2.2634e-05, device='cuda:5')\n",
      "tensor(1.9234e-08, device='cuda:5')\n",
      "tensor(0., device='cuda:5')\n",
      "tensor(-7.6812e-06, device='cuda:5')\n",
      "tensor(-7.6812e-06, device='cuda:5')\n",
      "tensor(-2.3720e-06, device='cuda:5')\n",
      "tensor(-0.0002, device='cuda:5')\n",
      "tensor(5.1243e-09, device='cuda:5')\n",
      "tensor(3.9027e-09, device='cuda:5')\n"
     ]
    },
    {
     "data": {
      "application/vnd.jupyter.widget-view+json": {
       "model_id": "195f7775a47d4999a5798403aceedd49",
       "version_major": 2,
       "version_minor": 0
      },
      "text/plain": [
       "HBox(children=(FloatProgress(value=0.0, max=9.0), HTML(value='')))"
      ]
     },
     "metadata": {},
     "output_type": "display_data"
    },
    {
     "name": "stdout",
     "output_type": "stream",
     "text": [
      "\n",
      "epoch time: 25.68601942062378\n",
      "mean loss train: 0.15243608951568605, mean loss val: 0.21477668671380906\n",
      "accuracy train: 0.9201190476190476, accuracy val: 0.8971428571428571\n",
      "---------------------------------------------------------------------------------------------------\n",
      "Epoch: 58, Learning Rate: 0.00025\n",
      "\n"
     ]
    },
    {
     "data": {
      "application/vnd.jupyter.widget-view+json": {
       "model_id": "9c029c46cde5492995d6926cdb2e1106",
       "version_major": 2,
       "version_minor": 0
      },
      "text/plain": [
       "HBox(children=(FloatProgress(value=0.0, max=132.0), HTML(value='')))"
      ]
     },
     "metadata": {},
     "output_type": "display_data"
    },
    {
     "name": "stdout",
     "output_type": "stream",
     "text": [
      "\n",
      "tensor(6.3279e-06, device='cuda:5')\n",
      "tensor(-6.1903e-07, device='cuda:5')\n",
      "tensor(-0.0005, device='cuda:5')\n",
      "tensor(-0.0005, device='cuda:5')\n",
      "tensor(2.6591e-07, device='cuda:5')\n",
      "tensor(-2.8427e-08, device='cuda:5')\n",
      "tensor(-6.8061e-07, device='cuda:5')\n",
      "tensor(-6.8061e-07, device='cuda:5')\n",
      "tensor(1.1873e-07, device='cuda:5')\n",
      "tensor(1.0126e-06, device='cuda:5')\n",
      "tensor(4.6726e-05, device='cuda:5')\n",
      "tensor(4.6726e-05, device='cuda:5')\n",
      "tensor(2.5990e-08, device='cuda:5')\n",
      "tensor(0., device='cuda:5')\n",
      "tensor(-9.2637e-06, device='cuda:5')\n",
      "tensor(-9.2637e-06, device='cuda:5')\n",
      "tensor(-2.1224e-06, device='cuda:5')\n",
      "tensor(-0.0002, device='cuda:5')\n",
      "tensor(-5.3510e-09, device='cuda:5')\n",
      "tensor(-2.6609e-09, device='cuda:5')\n"
     ]
    },
    {
     "data": {
      "application/vnd.jupyter.widget-view+json": {
       "model_id": "a701ed2ffd34486bb758a10f8313cb9c",
       "version_major": 2,
       "version_minor": 0
      },
      "text/plain": [
       "HBox(children=(FloatProgress(value=0.0, max=9.0), HTML(value='')))"
      ]
     },
     "metadata": {},
     "output_type": "display_data"
    },
    {
     "name": "stdout",
     "output_type": "stream",
     "text": [
      "\n",
      "epoch time: 25.76728916168213\n",
      "mean loss train: 0.14807058467751458, mean loss val: 0.19580840065365773\n",
      "accuracy train: 0.9210714285714285, accuracy val: 0.9042857142857142\n",
      "---------------------------------------------------------------------------------------------------\n",
      "Epoch: 59, Learning Rate: 0.00025\n",
      "\n"
     ]
    },
    {
     "data": {
      "application/vnd.jupyter.widget-view+json": {
       "model_id": "826bad1fbf46483ba11c03d6004be284",
       "version_major": 2,
       "version_minor": 0
      },
      "text/plain": [
       "HBox(children=(FloatProgress(value=0.0, max=132.0), HTML(value='')))"
      ]
     },
     "metadata": {},
     "output_type": "display_data"
    },
    {
     "name": "stdout",
     "output_type": "stream",
     "text": [
      "\n",
      "tensor(-5.2702e-06, device='cuda:5')\n",
      "tensor(8.3126e-07, device='cuda:5')\n",
      "tensor(7.9955e-05, device='cuda:5')\n",
      "tensor(7.9955e-05, device='cuda:5')\n",
      "tensor(-2.9892e-07, device='cuda:5')\n",
      "tensor(-6.2470e-10, device='cuda:5')\n",
      "tensor(-1.9124e-05, device='cuda:5')\n",
      "tensor(-1.9124e-05, device='cuda:5')\n",
      "tensor(-4.9810e-08, device='cuda:5')\n",
      "tensor(-1.3271e-07, device='cuda:5')\n",
      "tensor(-8.0812e-06, device='cuda:5')\n",
      "tensor(-8.0812e-06, device='cuda:5')\n",
      "tensor(2.9073e-08, device='cuda:5')\n",
      "tensor(0., device='cuda:5')\n",
      "tensor(1.8790e-05, device='cuda:5')\n",
      "tensor(1.8790e-05, device='cuda:5')\n",
      "tensor(2.5799e-06, device='cuda:5')\n",
      "tensor(0.0004, device='cuda:5')\n",
      "tensor(6.6128e-09, device='cuda:5')\n",
      "tensor(4.2575e-09, device='cuda:5')\n"
     ]
    },
    {
     "data": {
      "application/vnd.jupyter.widget-view+json": {
       "model_id": "c9469ed9e4d94072bc25a831e77146ad",
       "version_major": 2,
       "version_minor": 0
      },
      "text/plain": [
       "HBox(children=(FloatProgress(value=0.0, max=9.0), HTML(value='')))"
      ]
     },
     "metadata": {},
     "output_type": "display_data"
    },
    {
     "name": "stdout",
     "output_type": "stream",
     "text": [
      "\n",
      "epoch time: 25.714070558547974\n",
      "mean loss train: 0.15307573136829195, mean loss val: 0.18272032646905825\n",
      "accuracy train: 0.925, accuracy val: 0.9133333333333333\n",
      "---------------------------------------------------------------------------------------------------\n",
      "Epoch: 60, Learning Rate: 0.00025\n",
      "\n"
     ]
    },
    {
     "data": {
      "application/vnd.jupyter.widget-view+json": {
       "model_id": "187f00f1b2484dd7ae1e233453882d3e",
       "version_major": 2,
       "version_minor": 0
      },
      "text/plain": [
       "HBox(children=(FloatProgress(value=0.0, max=132.0), HTML(value='')))"
      ]
     },
     "metadata": {},
     "output_type": "display_data"
    },
    {
     "name": "stdout",
     "output_type": "stream",
     "text": [
      "\n",
      "tensor(-4.3087e-06, device='cuda:5')\n",
      "tensor(8.5106e-08, device='cuda:5')\n",
      "tensor(9.7083e-05, device='cuda:5')\n",
      "tensor(9.7083e-05, device='cuda:5')\n",
      "tensor(4.8482e-07, device='cuda:5')\n",
      "tensor(-5.9832e-09, device='cuda:5')\n",
      "tensor(-4.6171e-06, device='cuda:5')\n",
      "tensor(-4.6171e-06, device='cuda:5')\n",
      "tensor(-2.5333e-08, device='cuda:5')\n",
      "tensor(-2.3471e-07, device='cuda:5')\n",
      "tensor(-1.6793e-05, device='cuda:5')\n",
      "tensor(-1.6793e-05, device='cuda:5')\n",
      "tensor(6.5130e-08, device='cuda:5')\n",
      "tensor(0., device='cuda:5')\n",
      "tensor(1.1120e-05, device='cuda:5')\n",
      "tensor(1.1120e-05, device='cuda:5')\n",
      "tensor(-7.4417e-08, device='cuda:5')\n",
      "tensor(8.6916e-05, device='cuda:5')\n",
      "tensor(5.8548e-09, device='cuda:5')\n",
      "tensor(3.7031e-09, device='cuda:5')\n"
     ]
    },
    {
     "data": {
      "application/vnd.jupyter.widget-view+json": {
       "model_id": "b62b423c1be742bc958ea44bf921f811",
       "version_major": 2,
       "version_minor": 0
      },
      "text/plain": [
       "HBox(children=(FloatProgress(value=0.0, max=9.0), HTML(value='')))"
      ]
     },
     "metadata": {},
     "output_type": "display_data"
    },
    {
     "name": "stdout",
     "output_type": "stream",
     "text": [
      "\n",
      "epoch time: 25.80873990058899\n",
      "mean loss train: 0.1460668708313079, mean loss val: 0.21234918412708115\n",
      "accuracy train: 0.9270238095238095, accuracy val: 0.9019047619047619\n",
      "---------------------------------------------------------------------------------------------------\n",
      "Epoch: 61, Learning Rate: 0.00025\n",
      "\n"
     ]
    },
    {
     "data": {
      "application/vnd.jupyter.widget-view+json": {
       "model_id": "dd08a4ea2280432b9d9de55329f12bff",
       "version_major": 2,
       "version_minor": 0
      },
      "text/plain": [
       "HBox(children=(FloatProgress(value=0.0, max=132.0), HTML(value='')))"
      ]
     },
     "metadata": {},
     "output_type": "display_data"
    },
    {
     "name": "stdout",
     "output_type": "stream",
     "text": [
      "\n",
      "tensor(-0.0001, device='cuda:5')\n",
      "tensor(4.5140e-06, device='cuda:5')\n",
      "tensor(0.0021, device='cuda:5')\n",
      "tensor(0.0021, device='cuda:5')\n",
      "tensor(1.4416e-06, device='cuda:5')\n",
      "tensor(-1.1568e-07, device='cuda:5')\n",
      "tensor(-0.0001, device='cuda:5')\n",
      "tensor(-0.0001, device='cuda:5')\n",
      "tensor(7.2600e-08, device='cuda:5')\n",
      "tensor(2.8043e-06, device='cuda:5')\n",
      "tensor(4.7928e-05, device='cuda:5')\n",
      "tensor(4.7928e-05, device='cuda:5')\n",
      "tensor(3.2400e-07, device='cuda:5')\n",
      "tensor(0., device='cuda:5')\n",
      "tensor(5.9281e-05, device='cuda:5')\n",
      "tensor(5.9281e-05, device='cuda:5')\n",
      "tensor(1.9794e-06, device='cuda:5')\n",
      "tensor(0.0007, device='cuda:5')\n",
      "tensor(7.3549e-10, device='cuda:5')\n",
      "tensor(6.2088e-10, device='cuda:5')\n"
     ]
    },
    {
     "data": {
      "application/vnd.jupyter.widget-view+json": {
       "model_id": "79f0ae8ccb8345aebba6afe29412430d",
       "version_major": 2,
       "version_minor": 0
      },
      "text/plain": [
       "HBox(children=(FloatProgress(value=0.0, max=9.0), HTML(value='')))"
      ]
     },
     "metadata": {},
     "output_type": "display_data"
    },
    {
     "name": "stdout",
     "output_type": "stream",
     "text": [
      "\n",
      "epoch time: 26.13818073272705\n",
      "mean loss train: 0.15349432025636944, mean loss val: 0.1749610142480761\n",
      "accuracy train: 0.9214285714285714, accuracy val: 0.9147619047619048\n",
      "---------------------------------------------------------------------------------------------------\n",
      "Epoch: 62, Learning Rate: 0.00025\n",
      "\n"
     ]
    },
    {
     "data": {
      "application/vnd.jupyter.widget-view+json": {
       "model_id": "f696afbdabfa436db83a2b870a2e714d",
       "version_major": 2,
       "version_minor": 0
      },
      "text/plain": [
       "HBox(children=(FloatProgress(value=0.0, max=132.0), HTML(value='')))"
      ]
     },
     "metadata": {},
     "output_type": "display_data"
    },
    {
     "name": "stdout",
     "output_type": "stream",
     "text": [
      "\n",
      "tensor(3.5711e-05, device='cuda:5')\n",
      "tensor(4.0351e-06, device='cuda:5')\n",
      "tensor(-0.0006, device='cuda:5')\n",
      "tensor(-0.0006, device='cuda:5')\n",
      "tensor(-4.1756e-07, device='cuda:5')\n",
      "tensor(3.6730e-09, device='cuda:5')\n",
      "tensor(2.7406e-06, device='cuda:5')\n",
      "tensor(2.7406e-06, device='cuda:5')\n",
      "tensor(2.6752e-08, device='cuda:5')\n",
      "tensor(-2.4855e-07, device='cuda:5')\n",
      "tensor(1.5357e-06, device='cuda:5')\n",
      "tensor(1.5357e-06, device='cuda:5')\n",
      "tensor(4.6603e-08, device='cuda:5')\n",
      "tensor(0., device='cuda:5')\n",
      "tensor(-1.2750e-05, device='cuda:5')\n",
      "tensor(-1.2750e-05, device='cuda:5')\n",
      "tensor(-1.7942e-06, device='cuda:5')\n",
      "tensor(-7.7766e-05, device='cuda:5')\n",
      "tensor(1.1805e-08, device='cuda:5')\n",
      "tensor(7.8054e-09, device='cuda:5')\n"
     ]
    },
    {
     "data": {
      "application/vnd.jupyter.widget-view+json": {
       "model_id": "ef371ee24ddc4ae48ac78bd91382ef4d",
       "version_major": 2,
       "version_minor": 0
      },
      "text/plain": [
       "HBox(children=(FloatProgress(value=0.0, max=9.0), HTML(value='')))"
      ]
     },
     "metadata": {},
     "output_type": "display_data"
    },
    {
     "name": "stdout",
     "output_type": "stream",
     "text": [
      "\n",
      "epoch time: 26.131637573242188\n",
      "mean loss train: 0.13055124126729512, mean loss val: 0.1769942792256675\n",
      "accuracy train: 0.9315476190476191, accuracy val: 0.9138095238095238\n",
      "---------------------------------------------------------------------------------------------------\n",
      "Epoch: 63, Learning Rate: 0.00025\n",
      "\n"
     ]
    },
    {
     "data": {
      "application/vnd.jupyter.widget-view+json": {
       "model_id": "ea94528a2b6242189b402c24b5bd96c9",
       "version_major": 2,
       "version_minor": 0
      },
      "text/plain": [
       "HBox(children=(FloatProgress(value=0.0, max=132.0), HTML(value='')))"
      ]
     },
     "metadata": {},
     "output_type": "display_data"
    },
    {
     "name": "stdout",
     "output_type": "stream",
     "text": [
      "\n",
      "tensor(9.8854e-06, device='cuda:5')\n",
      "tensor(2.0083e-06, device='cuda:5')\n",
      "tensor(0.0005, device='cuda:5')\n",
      "tensor(0.0005, device='cuda:5')\n",
      "tensor(-4.8796e-06, device='cuda:5')\n",
      "tensor(2.1723e-07, device='cuda:5')\n",
      "tensor(7.3601e-05, device='cuda:5')\n",
      "tensor(7.3601e-05, device='cuda:5')\n",
      "tensor(-3.5466e-07, device='cuda:5')\n",
      "tensor(-3.4143e-06, device='cuda:5')\n",
      "tensor(-0.0001, device='cuda:5')\n",
      "tensor(-0.0001, device='cuda:5')\n",
      "tensor(1.4438e-09, device='cuda:5')\n",
      "tensor(0., device='cuda:5')\n",
      "tensor(-1.6128e-05, device='cuda:5')\n",
      "tensor(-1.6128e-05, device='cuda:5')\n",
      "tensor(-1.5675e-06, device='cuda:5')\n",
      "tensor(-0.0002, device='cuda:5')\n",
      "tensor(5.3734e-09, device='cuda:5')\n",
      "tensor(3.0157e-09, device='cuda:5')\n"
     ]
    },
    {
     "data": {
      "application/vnd.jupyter.widget-view+json": {
       "model_id": "7a4955f4f9af4683bb3d3161eba1e613",
       "version_major": 2,
       "version_minor": 0
      },
      "text/plain": [
       "HBox(children=(FloatProgress(value=0.0, max=9.0), HTML(value='')))"
      ]
     },
     "metadata": {},
     "output_type": "display_data"
    },
    {
     "name": "stdout",
     "output_type": "stream",
     "text": [
      "\n",
      "epoch time: 25.99415349960327\n",
      "mean loss train: 0.14710727711518606, mean loss val: 0.1889378811064223\n",
      "accuracy train: 0.9280952380952381, accuracy val: 0.9142857142857143\n",
      "---------------------------------------------------------------------------------------------------\n",
      "Epoch: 64, Learning Rate: 0.00025\n",
      "\n"
     ]
    },
    {
     "data": {
      "application/vnd.jupyter.widget-view+json": {
       "model_id": "9b113dce112342f1926602defe86a500",
       "version_major": 2,
       "version_minor": 0
      },
      "text/plain": [
       "HBox(children=(FloatProgress(value=0.0, max=132.0), HTML(value='')))"
      ]
     },
     "metadata": {},
     "output_type": "display_data"
    },
    {
     "name": "stdout",
     "output_type": "stream",
     "text": [
      "\n",
      "tensor(2.3744e-05, device='cuda:5')\n",
      "tensor(-1.3174e-06, device='cuda:5')\n",
      "tensor(-0.0002, device='cuda:5')\n",
      "tensor(-0.0002, device='cuda:5')\n",
      "tensor(-2.1524e-07, device='cuda:5')\n",
      "tensor(-5.6361e-08, device='cuda:5')\n",
      "tensor(5.9209e-05, device='cuda:5')\n",
      "tensor(5.9209e-05, device='cuda:5')\n",
      "tensor(-7.7066e-09, device='cuda:5')\n",
      "tensor(-1.1106e-06, device='cuda:5')\n",
      "tensor(1.4134e-05, device='cuda:5')\n",
      "tensor(1.4134e-05, device='cuda:5')\n",
      "tensor(-4.1539e-09, device='cuda:5')\n",
      "tensor(0., device='cuda:5')\n",
      "tensor(3.8252e-08, device='cuda:5')\n",
      "tensor(3.8252e-08, device='cuda:5')\n",
      "tensor(-7.2049e-07, device='cuda:5')\n",
      "tensor(5.2577e-05, device='cuda:5')\n",
      "tensor(6.0517e-09, device='cuda:5')\n",
      "tensor(3.8140e-09, device='cuda:5')\n"
     ]
    },
    {
     "data": {
      "application/vnd.jupyter.widget-view+json": {
       "model_id": "4069cf23312d4ef7baf67540d47f0c77",
       "version_major": 2,
       "version_minor": 0
      },
      "text/plain": [
       "HBox(children=(FloatProgress(value=0.0, max=9.0), HTML(value='')))"
      ]
     },
     "metadata": {},
     "output_type": "display_data"
    },
    {
     "name": "stdout",
     "output_type": "stream",
     "text": [
      "\n",
      "epoch time: 25.88252091407776\n",
      "mean loss train: 0.12237242727052598, mean loss val: 0.16849922997610878\n",
      "accuracy train: 0.9348809523809524, accuracy val: 0.9261904761904762\n",
      "---------------------------------------------------------------------------------------------------\n",
      "Epoch: 65, Learning Rate: 0.00025\n",
      "\n"
     ]
    },
    {
     "data": {
      "application/vnd.jupyter.widget-view+json": {
       "model_id": "621e41fc68374fc19725da81420362f7",
       "version_major": 2,
       "version_minor": 0
      },
      "text/plain": [
       "HBox(children=(FloatProgress(value=0.0, max=132.0), HTML(value='')))"
      ]
     },
     "metadata": {},
     "output_type": "display_data"
    },
    {
     "name": "stdout",
     "output_type": "stream",
     "text": [
      "\n",
      "tensor(1.1349e-05, device='cuda:5')\n",
      "tensor(1.7983e-06, device='cuda:5')\n",
      "tensor(-0.0020, device='cuda:5')\n",
      "tensor(-0.0020, device='cuda:5')\n",
      "tensor(-4.3061e-06, device='cuda:5')\n",
      "tensor(-2.5548e-07, device='cuda:5')\n",
      "tensor(-9.0542e-05, device='cuda:5')\n",
      "tensor(-9.0542e-05, device='cuda:5')\n",
      "tensor(3.6736e-07, device='cuda:5')\n",
      "tensor(2.9240e-06, device='cuda:5')\n",
      "tensor(0.0001, device='cuda:5')\n",
      "tensor(0.0001, device='cuda:5')\n",
      "tensor(-8.7837e-09, device='cuda:5')\n",
      "tensor(0., device='cuda:5')\n",
      "tensor(3.6358e-06, device='cuda:5')\n",
      "tensor(3.6358e-06, device='cuda:5')\n",
      "tensor(-1.2233e-06, device='cuda:5')\n",
      "tensor(-2.2014e-05, device='cuda:5')\n",
      "tensor(1.0703e-08, device='cuda:5')\n",
      "tensor(6.1201e-09, device='cuda:5')\n"
     ]
    },
    {
     "data": {
      "application/vnd.jupyter.widget-view+json": {
       "model_id": "a11e7995058e47b58512ff60c012e885",
       "version_major": 2,
       "version_minor": 0
      },
      "text/plain": [
       "HBox(children=(FloatProgress(value=0.0, max=9.0), HTML(value='')))"
      ]
     },
     "metadata": {},
     "output_type": "display_data"
    },
    {
     "name": "stdout",
     "output_type": "stream",
     "text": [
      "\n",
      "epoch time: 26.708621501922607\n",
      "mean loss train: 0.11864543227922349, mean loss val: 0.17345276151384603\n",
      "accuracy train: 0.9395238095238095, accuracy val: 0.9185714285714286\n",
      "---------------------------------------------------------------------------------------------------\n",
      "Epoch: 66, Learning Rate: 0.00025\n",
      "\n"
     ]
    },
    {
     "data": {
      "application/vnd.jupyter.widget-view+json": {
       "model_id": "1c0e677f770c4bc0bf29a5119f4d47f8",
       "version_major": 2,
       "version_minor": 0
      },
      "text/plain": [
       "HBox(children=(FloatProgress(value=0.0, max=132.0), HTML(value='')))"
      ]
     },
     "metadata": {},
     "output_type": "display_data"
    },
    {
     "name": "stdout",
     "output_type": "stream",
     "text": [
      "\n",
      "tensor(-2.0426e-06, device='cuda:5')\n",
      "tensor(8.3999e-08, device='cuda:5')\n",
      "tensor(1.2157e-06, device='cuda:5')\n",
      "tensor(1.2157e-06, device='cuda:5')\n",
      "tensor(-5.5489e-08, device='cuda:5')\n",
      "tensor(3.2342e-08, device='cuda:5')\n",
      "tensor(1.2033e-05, device='cuda:5')\n",
      "tensor(1.2033e-05, device='cuda:5')\n",
      "tensor(1.7492e-09, device='cuda:5')\n",
      "tensor(-7.9606e-08, device='cuda:5')\n",
      "tensor(-5.0990e-06, device='cuda:5')\n",
      "tensor(-5.0990e-06, device='cuda:5')\n",
      "tensor(1.8757e-09, device='cuda:5')\n",
      "tensor(0., device='cuda:5')\n",
      "tensor(9.4385e-07, device='cuda:5')\n",
      "tensor(9.4385e-07, device='cuda:5')\n",
      "tensor(-3.2920e-07, device='cuda:5')\n",
      "tensor(-5.0185e-05, device='cuda:5')\n",
      "tensor(1.0304e-08, device='cuda:5')\n",
      "tensor(5.5879e-09, device='cuda:5')\n"
     ]
    },
    {
     "data": {
      "application/vnd.jupyter.widget-view+json": {
       "model_id": "69569ac1e20b49c5b2062c230dbad471",
       "version_major": 2,
       "version_minor": 0
      },
      "text/plain": [
       "HBox(children=(FloatProgress(value=0.0, max=9.0), HTML(value='')))"
      ]
     },
     "metadata": {},
     "output_type": "display_data"
    },
    {
     "name": "stdout",
     "output_type": "stream",
     "text": [
      "\n",
      "epoch time: 26.81514549255371\n",
      "mean loss train: 0.11744586178234645, mean loss val: 0.17548855372837618\n",
      "accuracy train: 0.9377380952380953, accuracy val: 0.9147619047619048\n",
      "---------------------------------------------------------------------------------------------------\n",
      "Epoch: 67, Learning Rate: 0.00025\n",
      "\n"
     ]
    },
    {
     "data": {
      "application/vnd.jupyter.widget-view+json": {
       "model_id": "89465275bef8448c9d0a45f3e9be48c3",
       "version_major": 2,
       "version_minor": 0
      },
      "text/plain": [
       "HBox(children=(FloatProgress(value=0.0, max=132.0), HTML(value='')))"
      ]
     },
     "metadata": {},
     "output_type": "display_data"
    },
    {
     "name": "stdout",
     "output_type": "stream",
     "text": [
      "\n",
      "tensor(-3.2345e-06, device='cuda:5')\n",
      "tensor(7.1063e-08, device='cuda:5')\n",
      "tensor(-0.0003, device='cuda:5')\n",
      "tensor(-0.0003, device='cuda:5')\n",
      "tensor(7.5512e-07, device='cuda:5')\n",
      "tensor(2.7538e-09, device='cuda:5')\n",
      "tensor(2.1244e-06, device='cuda:5')\n",
      "tensor(2.1244e-06, device='cuda:5')\n",
      "tensor(4.3893e-08, device='cuda:5')\n",
      "tensor(-5.6600e-07, device='cuda:5')\n",
      "tensor(-1.2571e-06, device='cuda:5')\n",
      "tensor(-1.2571e-06, device='cuda:5')\n",
      "tensor(3.6377e-09, device='cuda:5')\n",
      "tensor(0., device='cuda:5')\n",
      "tensor(1.0472e-07, device='cuda:5')\n",
      "tensor(1.0472e-07, device='cuda:5')\n",
      "tensor(-1.9520e-06, device='cuda:5')\n",
      "tensor(-0.0002, device='cuda:5')\n",
      "tensor(3.6372e-09, device='cuda:5')\n",
      "tensor(2.4835e-09, device='cuda:5')\n"
     ]
    },
    {
     "data": {
      "application/vnd.jupyter.widget-view+json": {
       "model_id": "f5d7e68857c247239e44f8955e2fe7dd",
       "version_major": 2,
       "version_minor": 0
      },
      "text/plain": [
       "HBox(children=(FloatProgress(value=0.0, max=9.0), HTML(value='')))"
      ]
     },
     "metadata": {},
     "output_type": "display_data"
    },
    {
     "name": "stdout",
     "output_type": "stream",
     "text": [
      "\n",
      "epoch time: 29.325968980789185\n",
      "mean loss train: 0.11757363183157785, mean loss val: 0.17566448597681475\n",
      "accuracy train: 0.9395238095238095, accuracy val: 0.920952380952381\n",
      "---------------------------------------------------------------------------------------------------\n",
      "Epoch: 68, Learning Rate: 0.00025\n",
      "\n"
     ]
    },
    {
     "data": {
      "application/vnd.jupyter.widget-view+json": {
       "model_id": "cc19858b08c24617882ba33bb8bd2231",
       "version_major": 2,
       "version_minor": 0
      },
      "text/plain": [
       "HBox(children=(FloatProgress(value=0.0, max=132.0), HTML(value='')))"
      ]
     },
     "metadata": {},
     "output_type": "display_data"
    },
    {
     "name": "stdout",
     "output_type": "stream",
     "text": [
      "\n",
      "tensor(-1.6225e-06, device='cuda:5')\n",
      "tensor(4.7453e-07, device='cuda:5')\n",
      "tensor(-0.0004, device='cuda:5')\n",
      "tensor(-0.0004, device='cuda:5')\n",
      "tensor(1.1207e-07, device='cuda:5')\n",
      "tensor(-3.0698e-08, device='cuda:5')\n",
      "tensor(-4.1196e-06, device='cuda:5')\n",
      "tensor(-4.1196e-06, device='cuda:5')\n",
      "tensor(-1.2428e-08, device='cuda:5')\n",
      "tensor(3.2832e-08, device='cuda:5')\n",
      "tensor(1.1051e-06, device='cuda:5')\n",
      "tensor(1.1051e-06, device='cuda:5')\n",
      "tensor(-2.6470e-08, device='cuda:5')\n",
      "tensor(0., device='cuda:5')\n",
      "tensor(6.2800e-06, device='cuda:5')\n",
      "tensor(6.2800e-06, device='cuda:5')\n",
      "tensor(1.4604e-07, device='cuda:5')\n",
      "tensor(-2.6344e-06, device='cuda:5')\n",
      "tensor(2.0273e-09, device='cuda:5')\n",
      "tensor(3.0157e-09, device='cuda:5')\n"
     ]
    },
    {
     "data": {
      "application/vnd.jupyter.widget-view+json": {
       "model_id": "5c119f5a45bd4329ab36a41b141b61a0",
       "version_major": 2,
       "version_minor": 0
      },
      "text/plain": [
       "HBox(children=(FloatProgress(value=0.0, max=9.0), HTML(value='')))"
      ]
     },
     "metadata": {},
     "output_type": "display_data"
    },
    {
     "name": "stdout",
     "output_type": "stream",
     "text": [
      "\n",
      "epoch time: 26.294692039489746\n",
      "mean loss train: 0.10770636930352166, mean loss val: 0.15291763691675095\n",
      "accuracy train: 0.9403571428571429, accuracy val: 0.92\n",
      "---------------------------------------------------------------------------------------------------\n",
      "Epoch: 69, Learning Rate: 0.00025\n",
      "\n"
     ]
    },
    {
     "data": {
      "application/vnd.jupyter.widget-view+json": {
       "model_id": "186dccdead0c4dd98aff927db0ea293e",
       "version_major": 2,
       "version_minor": 0
      },
      "text/plain": [
       "HBox(children=(FloatProgress(value=0.0, max=132.0), HTML(value='')))"
      ]
     },
     "metadata": {},
     "output_type": "display_data"
    },
    {
     "name": "stdout",
     "output_type": "stream",
     "text": [
      "\n",
      "tensor(2.7304e-05, device='cuda:5')\n",
      "tensor(-2.8592e-06, device='cuda:5')\n",
      "tensor(1.2152e-05, device='cuda:5')\n",
      "tensor(1.2152e-05, device='cuda:5')\n",
      "tensor(-2.9361e-06, device='cuda:5')\n",
      "tensor(2.4508e-08, device='cuda:5')\n",
      "tensor(-9.9524e-06, device='cuda:5')\n",
      "tensor(-9.9524e-06, device='cuda:5')\n",
      "tensor(-2.1567e-07, device='cuda:5')\n",
      "tensor(-4.1627e-06, device='cuda:5')\n",
      "tensor(-0.0001, device='cuda:5')\n",
      "tensor(-0.0001, device='cuda:5')\n",
      "tensor(4.2932e-08, device='cuda:5')\n",
      "tensor(0., device='cuda:5')\n",
      "tensor(-1.1058e-05, device='cuda:5')\n",
      "tensor(-1.1058e-05, device='cuda:5')\n",
      "tensor(-3.1253e-06, device='cuda:5')\n",
      "tensor(-0.0002, device='cuda:5')\n",
      "tensor(5.4589e-10, device='cuda:5')\n",
      "tensor(6.2088e-10, device='cuda:5')\n"
     ]
    },
    {
     "data": {
      "application/vnd.jupyter.widget-view+json": {
       "model_id": "279848b796e149a6a8e3f908478dc96a",
       "version_major": 2,
       "version_minor": 0
      },
      "text/plain": [
       "HBox(children=(FloatProgress(value=0.0, max=9.0), HTML(value='')))"
      ]
     },
     "metadata": {},
     "output_type": "display_data"
    },
    {
     "name": "stdout",
     "output_type": "stream",
     "text": [
      "\n",
      "epoch time: 26.584190368652344\n",
      "mean loss train: 0.11075738827387492, mean loss val: 0.22591222990126839\n",
      "accuracy train: 0.9397619047619048, accuracy val: 0.9076190476190477\n",
      "---------------------------------------------------------------------------------------------------\n",
      "Epoch: 70, Learning Rate: 0.00025\n",
      "\n"
     ]
    },
    {
     "data": {
      "application/vnd.jupyter.widget-view+json": {
       "model_id": "25e53042444d43b3951b0f0a85e127a7",
       "version_major": 2,
       "version_minor": 0
      },
      "text/plain": [
       "HBox(children=(FloatProgress(value=0.0, max=132.0), HTML(value='')))"
      ]
     },
     "metadata": {},
     "output_type": "display_data"
    },
    {
     "name": "stdout",
     "output_type": "stream",
     "text": [
      "\n",
      "tensor(-2.7273e-06, device='cuda:5')\n",
      "tensor(7.2267e-09, device='cuda:5')\n",
      "tensor(-3.4826e-05, device='cuda:5')\n",
      "tensor(-3.4826e-05, device='cuda:5')\n",
      "tensor(1.3064e-07, device='cuda:5')\n",
      "tensor(1.5143e-10, device='cuda:5')\n",
      "tensor(4.2135e-06, device='cuda:5')\n",
      "tensor(4.2135e-06, device='cuda:5')\n",
      "tensor(1.3808e-08, device='cuda:5')\n",
      "tensor(7.6046e-08, device='cuda:5')\n",
      "tensor(-3.9143e-06, device='cuda:5')\n",
      "tensor(-3.9143e-06, device='cuda:5')\n",
      "tensor(4.6503e-10, device='cuda:5')\n",
      "tensor(0., device='cuda:5')\n",
      "tensor(-1.4221e-06, device='cuda:5')\n",
      "tensor(-1.4221e-06, device='cuda:5')\n",
      "tensor(-1.9538e-07, device='cuda:5')\n",
      "tensor(-0.0002, device='cuda:5')\n",
      "tensor(1.2768e-09, device='cuda:5')\n",
      "tensor(8.8697e-10, device='cuda:5')\n"
     ]
    },
    {
     "data": {
      "application/vnd.jupyter.widget-view+json": {
       "model_id": "04364742c6bd4b4d912492e02e8ff806",
       "version_major": 2,
       "version_minor": 0
      },
      "text/plain": [
       "HBox(children=(FloatProgress(value=0.0, max=9.0), HTML(value='')))"
      ]
     },
     "metadata": {},
     "output_type": "display_data"
    },
    {
     "name": "stdout",
     "output_type": "stream",
     "text": [
      "\n",
      "epoch time: 25.617031574249268\n",
      "mean loss train: 0.09706482157820746, mean loss val: 0.13117340542021252\n",
      "accuracy train: 0.9463095238095238, accuracy val: 0.9323809523809524\n",
      "---------------------------------------------------------------------------------------------------\n",
      "Epoch: 71, Learning Rate: 0.00025\n",
      "\n"
     ]
    },
    {
     "data": {
      "application/vnd.jupyter.widget-view+json": {
       "model_id": "dc0c93b94b4443e786b4dba7eb53d565",
       "version_major": 2,
       "version_minor": 0
      },
      "text/plain": [
       "HBox(children=(FloatProgress(value=0.0, max=132.0), HTML(value='')))"
      ]
     },
     "metadata": {},
     "output_type": "display_data"
    },
    {
     "name": "stdout",
     "output_type": "stream",
     "text": [
      "\n",
      "tensor(-1.0126e-07, device='cuda:5')\n",
      "tensor(1.5572e-07, device='cuda:5')\n",
      "tensor(-2.1689e-05, device='cuda:5')\n",
      "tensor(-2.1689e-05, device='cuda:5')\n",
      "tensor(2.0551e-07, device='cuda:5')\n",
      "tensor(-7.4827e-10, device='cuda:5')\n",
      "tensor(-8.3601e-06, device='cuda:5')\n",
      "tensor(-8.3601e-06, device='cuda:5')\n",
      "tensor(-7.9485e-09, device='cuda:5')\n",
      "tensor(-4.4650e-07, device='cuda:5')\n",
      "tensor(-1.1214e-05, device='cuda:5')\n",
      "tensor(-1.1214e-05, device='cuda:5')\n",
      "tensor(2.5628e-08, device='cuda:5')\n",
      "tensor(0., device='cuda:5')\n",
      "tensor(-8.6292e-06, device='cuda:5')\n",
      "tensor(-8.6292e-06, device='cuda:5')\n",
      "tensor(-5.2948e-07, device='cuda:5')\n",
      "tensor(-2.9522e-05, device='cuda:5')\n",
      "tensor(4.7172e-09, device='cuda:5')\n",
      "tensor(2.4835e-09, device='cuda:5')\n"
     ]
    },
    {
     "data": {
      "application/vnd.jupyter.widget-view+json": {
       "model_id": "dc968df3f4f346209dbebddfe4f5da8f",
       "version_major": 2,
       "version_minor": 0
      },
      "text/plain": [
       "HBox(children=(FloatProgress(value=0.0, max=9.0), HTML(value='')))"
      ]
     },
     "metadata": {},
     "output_type": "display_data"
    },
    {
     "name": "stdout",
     "output_type": "stream",
     "text": [
      "\n",
      "epoch time: 25.384171724319458\n",
      "mean loss train: 0.08859732917376927, mean loss val: 0.13596312727246965\n",
      "accuracy train: 0.95, accuracy val: 0.9338095238095238\n",
      "---------------------------------------------------------------------------------------------------\n",
      "Epoch: 72, Learning Rate: 0.00025\n",
      "\n"
     ]
    },
    {
     "data": {
      "application/vnd.jupyter.widget-view+json": {
       "model_id": "e13a652f51d043df90042fb3a156ed8c",
       "version_major": 2,
       "version_minor": 0
      },
      "text/plain": [
       "HBox(children=(FloatProgress(value=0.0, max=132.0), HTML(value='')))"
      ]
     },
     "metadata": {},
     "output_type": "display_data"
    },
    {
     "name": "stdout",
     "output_type": "stream",
     "text": [
      "\n",
      "tensor(2.1871e-06, device='cuda:5')\n",
      "tensor(2.1992e-07, device='cuda:5')\n",
      "tensor(8.2086e-05, device='cuda:5')\n",
      "tensor(8.2086e-05, device='cuda:5')\n",
      "tensor(-1.1332e-07, device='cuda:5')\n",
      "tensor(4.4991e-08, device='cuda:5')\n",
      "tensor(9.6761e-06, device='cuda:5')\n",
      "tensor(9.6761e-06, device='cuda:5')\n",
      "tensor(2.6706e-08, device='cuda:5')\n",
      "tensor(1.8572e-07, device='cuda:5')\n",
      "tensor(8.1969e-06, device='cuda:5')\n",
      "tensor(8.1969e-06, device='cuda:5')\n",
      "tensor(-1.2757e-09, device='cuda:5')\n",
      "tensor(0., device='cuda:5')\n",
      "tensor(-8.6816e-07, device='cuda:5')\n",
      "tensor(-8.6816e-07, device='cuda:5')\n",
      "tensor(-4.2465e-07, device='cuda:5')\n",
      "tensor(-2.2067e-05, device='cuda:5')\n",
      "tensor(4.8471e-09, device='cuda:5')\n",
      "tensor(2.1731e-09, device='cuda:5')\n"
     ]
    },
    {
     "data": {
      "application/vnd.jupyter.widget-view+json": {
       "model_id": "d856e4b0084542d9a41f068595740288",
       "version_major": 2,
       "version_minor": 0
      },
      "text/plain": [
       "HBox(children=(FloatProgress(value=0.0, max=9.0), HTML(value='')))"
      ]
     },
     "metadata": {},
     "output_type": "display_data"
    },
    {
     "name": "stdout",
     "output_type": "stream",
     "text": [
      "\n",
      "epoch time: 26.062413215637207\n",
      "mean loss train: 0.08903661094960712, mean loss val: 0.1341837372098646\n",
      "accuracy train: 0.9485714285714286, accuracy val: 0.9357142857142857\n",
      "---------------------------------------------------------------------------------------------------\n",
      "Epoch: 73, Learning Rate: 0.00025\n",
      "\n"
     ]
    },
    {
     "data": {
      "application/vnd.jupyter.widget-view+json": {
       "model_id": "d581fc17dfe542c082fa1319becc513d",
       "version_major": 2,
       "version_minor": 0
      },
      "text/plain": [
       "HBox(children=(FloatProgress(value=0.0, max=132.0), HTML(value='')))"
      ]
     },
     "metadata": {},
     "output_type": "display_data"
    },
    {
     "name": "stdout",
     "output_type": "stream",
     "text": [
      "\n",
      "tensor(-1.1651e-06, device='cuda:5')\n",
      "tensor(3.0486e-07, device='cuda:5')\n",
      "tensor(0.0005, device='cuda:5')\n",
      "tensor(0.0005, device='cuda:5')\n",
      "tensor(6.2087e-07, device='cuda:5')\n",
      "tensor(5.5890e-09, device='cuda:5')\n",
      "tensor(3.1374e-06, device='cuda:5')\n",
      "tensor(3.1374e-06, device='cuda:5')\n",
      "tensor(2.1483e-07, device='cuda:5')\n",
      "tensor(1.7280e-06, device='cuda:5')\n",
      "tensor(9.1188e-05, device='cuda:5')\n",
      "tensor(9.1188e-05, device='cuda:5')\n",
      "tensor(-3.4418e-09, device='cuda:5')\n",
      "tensor(0., device='cuda:5')\n",
      "tensor(-9.7006e-07, device='cuda:5')\n",
      "tensor(-9.7006e-07, device='cuda:5')\n",
      "tensor(4.1388e-07, device='cuda:5')\n",
      "tensor(7.9550e-05, device='cuda:5')\n",
      "tensor(6.2753e-09, device='cuda:5')\n",
      "tensor(2.4835e-09, device='cuda:5')\n"
     ]
    },
    {
     "data": {
      "application/vnd.jupyter.widget-view+json": {
       "model_id": "2a1f3ef2ae8042bdb100bf44d2cf1b0d",
       "version_major": 2,
       "version_minor": 0
      },
      "text/plain": [
       "HBox(children=(FloatProgress(value=0.0, max=9.0), HTML(value='')))"
      ]
     },
     "metadata": {},
     "output_type": "display_data"
    },
    {
     "name": "stdout",
     "output_type": "stream",
     "text": [
      "\n",
      "epoch time: 25.988625526428223\n",
      "mean loss train: 0.08870706475916362, mean loss val: 0.16109566279819515\n",
      "accuracy train: 0.9466666666666667, accuracy val: 0.9228571428571428\n",
      "---------------------------------------------------------------------------------------------------\n",
      "Epoch: 74, Learning Rate: 0.000125\n",
      "\n"
     ]
    },
    {
     "data": {
      "application/vnd.jupyter.widget-view+json": {
       "model_id": "f547b6e6c02f41bfb5f5cdb2f736291a",
       "version_major": 2,
       "version_minor": 0
      },
      "text/plain": [
       "HBox(children=(FloatProgress(value=0.0, max=132.0), HTML(value='')))"
      ]
     },
     "metadata": {},
     "output_type": "display_data"
    },
    {
     "name": "stdout",
     "output_type": "stream",
     "text": [
      "\n",
      "tensor(8.1934e-08, device='cuda:5')\n",
      "tensor(9.9741e-09, device='cuda:5')\n",
      "tensor(-2.6939e-06, device='cuda:5')\n",
      "tensor(-2.6939e-06, device='cuda:5')\n",
      "tensor(-7.2000e-09, device='cuda:5')\n",
      "tensor(3.7457e-10, device='cuda:5')\n",
      "tensor(1.4008e-07, device='cuda:5')\n",
      "tensor(1.4008e-07, device='cuda:5')\n",
      "tensor(6.9599e-10, device='cuda:5')\n",
      "tensor(-1.9643e-08, device='cuda:5')\n",
      "tensor(-3.2856e-07, device='cuda:5')\n",
      "tensor(-3.2856e-07, device='cuda:5')\n",
      "tensor(4.9429e-10, device='cuda:5')\n",
      "tensor(0., device='cuda:5')\n",
      "tensor(-8.8298e-08, device='cuda:5')\n",
      "tensor(-8.8298e-08, device='cuda:5')\n",
      "tensor(-5.0801e-08, device='cuda:5')\n",
      "tensor(-1.2838e-06, device='cuda:5')\n",
      "tensor(6.9609e-09, device='cuda:5')\n",
      "tensor(4.7869e-09, device='cuda:5')\n"
     ]
    },
    {
     "data": {
      "application/vnd.jupyter.widget-view+json": {
       "model_id": "995b5af2f51e4fb19176dd872f9fe85a",
       "version_major": 2,
       "version_minor": 0
      },
      "text/plain": [
       "HBox(children=(FloatProgress(value=0.0, max=9.0), HTML(value='')))"
      ]
     },
     "metadata": {},
     "output_type": "display_data"
    },
    {
     "name": "stdout",
     "output_type": "stream",
     "text": [
      "\n",
      "epoch time: 25.67754554748535\n",
      "mean loss train: 0.077917649717558, mean loss val: 0.13094388076237334\n",
      "accuracy train: 0.950952380952381, accuracy val: 0.9342857142857143\n",
      "---------------------------------------------------------------------------------------------------\n",
      "Epoch: 75, Learning Rate: 0.000125\n",
      "\n"
     ]
    },
    {
     "data": {
      "application/vnd.jupyter.widget-view+json": {
       "model_id": "353fe126d61e446b979830d37c2edbc9",
       "version_major": 2,
       "version_minor": 0
      },
      "text/plain": [
       "HBox(children=(FloatProgress(value=0.0, max=132.0), HTML(value='')))"
      ]
     },
     "metadata": {},
     "output_type": "display_data"
    },
    {
     "name": "stdout",
     "output_type": "stream",
     "text": [
      "\n",
      "tensor(2.0548e-06, device='cuda:5')\n",
      "tensor(-4.5959e-07, device='cuda:5')\n",
      "tensor(5.2636e-05, device='cuda:5')\n",
      "tensor(5.2636e-05, device='cuda:5')\n",
      "tensor(-4.0748e-07, device='cuda:5')\n",
      "tensor(8.9030e-09, device='cuda:5')\n",
      "tensor(-3.3004e-06, device='cuda:5')\n",
      "tensor(-3.3004e-06, device='cuda:5')\n",
      "tensor(-3.2675e-08, device='cuda:5')\n",
      "tensor(-5.7383e-07, device='cuda:5')\n",
      "tensor(-2.3028e-05, device='cuda:5')\n",
      "tensor(-2.3028e-05, device='cuda:5')\n",
      "tensor(8.1216e-09, device='cuda:5')\n",
      "tensor(0., device='cuda:5')\n",
      "tensor(-3.8662e-06, device='cuda:5')\n",
      "tensor(-3.8662e-06, device='cuda:5')\n",
      "tensor(7.0379e-08, device='cuda:5')\n",
      "tensor(0.0002, device='cuda:5')\n",
      "tensor(3.2915e-09, device='cuda:5')\n",
      "tensor(1.0644e-09, device='cuda:5')\n"
     ]
    },
    {
     "data": {
      "application/vnd.jupyter.widget-view+json": {
       "model_id": "dc523bbb80ae41598431d8ed706ad9d0",
       "version_major": 2,
       "version_minor": 0
      },
      "text/plain": [
       "HBox(children=(FloatProgress(value=0.0, max=9.0), HTML(value='')))"
      ]
     },
     "metadata": {},
     "output_type": "display_data"
    },
    {
     "name": "stdout",
     "output_type": "stream",
     "text": [
      "\n",
      "epoch time: 26.23603057861328\n",
      "mean loss train: 0.07316304127375285, mean loss val: 0.13682116939908037\n",
      "accuracy train: 0.9515476190476191, accuracy val: 0.9366666666666666\n",
      "---------------------------------------------------------------------------------------------------\n",
      "Epoch: 76, Learning Rate: 0.000125\n",
      "\n"
     ]
    },
    {
     "data": {
      "application/vnd.jupyter.widget-view+json": {
       "model_id": "50da9f8e688142a7a4f9d2d24060f971",
       "version_major": 2,
       "version_minor": 0
      },
      "text/plain": [
       "HBox(children=(FloatProgress(value=0.0, max=132.0), HTML(value='')))"
      ]
     },
     "metadata": {},
     "output_type": "display_data"
    },
    {
     "name": "stdout",
     "output_type": "stream",
     "text": [
      "\n",
      "tensor(-8.4596e-07, device='cuda:5')\n",
      "tensor(-3.0454e-07, device='cuda:5')\n",
      "tensor(0.0003, device='cuda:5')\n",
      "tensor(0.0003, device='cuda:5')\n",
      "tensor(-2.8441e-07, device='cuda:5')\n",
      "tensor(1.5868e-08, device='cuda:5')\n",
      "tensor(1.2299e-06, device='cuda:5')\n",
      "tensor(1.2299e-06, device='cuda:5')\n",
      "tensor(8.1694e-09, device='cuda:5')\n",
      "tensor(8.7895e-08, device='cuda:5')\n",
      "tensor(1.6713e-05, device='cuda:5')\n",
      "tensor(1.6713e-05, device='cuda:5')\n",
      "tensor(9.1646e-09, device='cuda:5')\n",
      "tensor(0., device='cuda:5')\n",
      "tensor(-2.7306e-06, device='cuda:5')\n",
      "tensor(-2.7306e-06, device='cuda:5')\n",
      "tensor(2.4795e-07, device='cuda:5')\n",
      "tensor(7.8760e-05, device='cuda:5')\n",
      "tensor(1.3302e-08, device='cuda:5')\n",
      "tensor(7.6280e-09, device='cuda:5')\n"
     ]
    },
    {
     "data": {
      "application/vnd.jupyter.widget-view+json": {
       "model_id": "db28af932e304af481cb8ce824f2378e",
       "version_major": 2,
       "version_minor": 0
      },
      "text/plain": [
       "HBox(children=(FloatProgress(value=0.0, max=9.0), HTML(value='')))"
      ]
     },
     "metadata": {},
     "output_type": "display_data"
    },
    {
     "name": "stdout",
     "output_type": "stream",
     "text": [
      "\n",
      "epoch time: 25.9240243434906\n",
      "mean loss train: 0.07128378555888222, mean loss val: 0.1233564272381016\n",
      "accuracy train: 0.9530952380952381, accuracy val: 0.9342857142857143\n",
      "---------------------------------------------------------------------------------------------------\n",
      "Epoch: 77, Learning Rate: 0.000125\n",
      "\n"
     ]
    },
    {
     "data": {
      "application/vnd.jupyter.widget-view+json": {
       "model_id": "7de4e8df4f11446da2001adce8092d9d",
       "version_major": 2,
       "version_minor": 0
      },
      "text/plain": [
       "HBox(children=(FloatProgress(value=0.0, max=132.0), HTML(value='')))"
      ]
     },
     "metadata": {},
     "output_type": "display_data"
    },
    {
     "name": "stdout",
     "output_type": "stream",
     "text": [
      "\n",
      "tensor(-1.1946e-05, device='cuda:5')\n",
      "tensor(-8.2656e-07, device='cuda:5')\n",
      "tensor(8.6150e-05, device='cuda:5')\n",
      "tensor(8.6150e-05, device='cuda:5')\n",
      "tensor(8.5042e-07, device='cuda:5')\n",
      "tensor(-5.4685e-08, device='cuda:5')\n",
      "tensor(7.1591e-06, device='cuda:5')\n",
      "tensor(7.1591e-06, device='cuda:5')\n",
      "tensor(-6.6550e-08, device='cuda:5')\n",
      "tensor(1.3341e-07, device='cuda:5')\n",
      "tensor(1.1721e-05, device='cuda:5')\n",
      "tensor(1.1721e-05, device='cuda:5')\n",
      "tensor(-2.1296e-08, device='cuda:5')\n",
      "tensor(0., device='cuda:5')\n",
      "tensor(-2.1862e-06, device='cuda:5')\n",
      "tensor(-2.1862e-06, device='cuda:5')\n",
      "tensor(1.0663e-06, device='cuda:5')\n",
      "tensor(2.6997e-05, device='cuda:5')\n",
      "tensor(9.2802e-10, device='cuda:5')\n",
      "tensor(-8.8697e-11, device='cuda:5')\n"
     ]
    },
    {
     "data": {
      "application/vnd.jupyter.widget-view+json": {
       "model_id": "7b78674dc4984110bc075ab255d58dc1",
       "version_major": 2,
       "version_minor": 0
      },
      "text/plain": [
       "HBox(children=(FloatProgress(value=0.0, max=9.0), HTML(value='')))"
      ]
     },
     "metadata": {},
     "output_type": "display_data"
    },
    {
     "name": "stdout",
     "output_type": "stream",
     "text": [
      "\n",
      "epoch time: 25.916595458984375\n",
      "mean loss train: 0.07278513902709598, mean loss val: 0.12463872092110738\n",
      "accuracy train: 0.9532142857142857, accuracy val: 0.9333333333333333\n",
      "---------------------------------------------------------------------------------------------------\n",
      "Epoch: 78, Learning Rate: 0.000125\n",
      "\n"
     ]
    },
    {
     "data": {
      "application/vnd.jupyter.widget-view+json": {
       "model_id": "411f2cd1904e492b8f08ab531d7af7b8",
       "version_major": 2,
       "version_minor": 0
      },
      "text/plain": [
       "HBox(children=(FloatProgress(value=0.0, max=132.0), HTML(value='')))"
      ]
     },
     "metadata": {},
     "output_type": "display_data"
    },
    {
     "name": "stdout",
     "output_type": "stream",
     "text": [
      "\n",
      "tensor(-6.3890e-07, device='cuda:5')\n",
      "tensor(6.6558e-08, device='cuda:5')\n",
      "tensor(2.3835e-05, device='cuda:5')\n",
      "tensor(2.3835e-05, device='cuda:5')\n",
      "tensor(-3.9781e-07, device='cuda:5')\n",
      "tensor(3.9260e-08, device='cuda:5')\n",
      "tensor(9.7381e-06, device='cuda:5')\n",
      "tensor(9.7381e-06, device='cuda:5')\n",
      "tensor(7.0939e-09, device='cuda:5')\n",
      "tensor(1.3329e-07, device='cuda:5')\n",
      "tensor(4.4542e-06, device='cuda:5')\n",
      "tensor(4.4542e-06, device='cuda:5')\n",
      "tensor(-6.8367e-10, device='cuda:5')\n",
      "tensor(0., device='cuda:5')\n",
      "tensor(-3.6296e-06, device='cuda:5')\n",
      "tensor(-3.6296e-06, device='cuda:5')\n",
      "tensor(-6.4186e-07, device='cuda:5')\n",
      "tensor(4.3489e-05, device='cuda:5')\n",
      "tensor(4.6659e-09, device='cuda:5')\n",
      "tensor(2.3061e-09, device='cuda:5')\n"
     ]
    },
    {
     "data": {
      "application/vnd.jupyter.widget-view+json": {
       "model_id": "5c69d7b2bd394d8f8895af53fb74c093",
       "version_major": 2,
       "version_minor": 0
      },
      "text/plain": [
       "HBox(children=(FloatProgress(value=0.0, max=9.0), HTML(value='')))"
      ]
     },
     "metadata": {},
     "output_type": "display_data"
    },
    {
     "name": "stdout",
     "output_type": "stream",
     "text": [
      "\n",
      "epoch time: 25.644108772277832\n",
      "mean loss train: 0.07171844184398651, mean loss val: 0.1274197501227966\n",
      "accuracy train: 0.9525, accuracy val: 0.929047619047619\n",
      "---------------------------------------------------------------------------------------------------\n",
      "Epoch: 79, Learning Rate: 0.000125\n",
      "\n"
     ]
    },
    {
     "data": {
      "application/vnd.jupyter.widget-view+json": {
       "model_id": "8630babaa5914d58abb0961955cdaa0e",
       "version_major": 2,
       "version_minor": 0
      },
      "text/plain": [
       "HBox(children=(FloatProgress(value=0.0, max=132.0), HTML(value='')))"
      ]
     },
     "metadata": {},
     "output_type": "display_data"
    },
    {
     "name": "stdout",
     "output_type": "stream",
     "text": [
      "\n",
      "tensor(-7.7534e-07, device='cuda:5')\n",
      "tensor(7.8811e-09, device='cuda:5')\n",
      "tensor(2.8090e-06, device='cuda:5')\n",
      "tensor(2.8090e-06, device='cuda:5')\n",
      "tensor(1.8616e-08, device='cuda:5')\n",
      "tensor(3.7519e-08, device='cuda:5')\n",
      "tensor(8.4286e-06, device='cuda:5')\n",
      "tensor(8.4286e-06, device='cuda:5')\n",
      "tensor(-1.4237e-08, device='cuda:5')\n",
      "tensor(2.7204e-08, device='cuda:5')\n",
      "tensor(-2.3859e-06, device='cuda:5')\n",
      "tensor(-2.3859e-06, device='cuda:5')\n",
      "tensor(-3.1397e-08, device='cuda:5')\n",
      "tensor(0., device='cuda:5')\n",
      "tensor(-4.1886e-06, device='cuda:5')\n",
      "tensor(-4.1886e-06, device='cuda:5')\n",
      "tensor(1.7277e-07, device='cuda:5')\n",
      "tensor(-3.0716e-05, device='cuda:5')\n",
      "tensor(-6.4795e-09, device='cuda:5')\n",
      "tensor(-4.2575e-09, device='cuda:5')\n"
     ]
    },
    {
     "data": {
      "application/vnd.jupyter.widget-view+json": {
       "model_id": "34c668d015e949d98825e4264a2b0d29",
       "version_major": 2,
       "version_minor": 0
      },
      "text/plain": [
       "HBox(children=(FloatProgress(value=0.0, max=9.0), HTML(value='')))"
      ]
     },
     "metadata": {},
     "output_type": "display_data"
    },
    {
     "name": "stdout",
     "output_type": "stream",
     "text": [
      "\n",
      "epoch time: 25.957632064819336\n",
      "mean loss train: 0.07010410223688399, mean loss val: 0.12811266444978286\n",
      "accuracy train: 0.9517857142857142, accuracy val: 0.9357142857142857\n",
      "---------------------------------------------------------------------------------------------------\n",
      "Epoch: 80, Learning Rate: 0.000125\n",
      "\n"
     ]
    },
    {
     "data": {
      "application/vnd.jupyter.widget-view+json": {
       "model_id": "5eee9e080e8346b4890f3bd1e4bbd36a",
       "version_major": 2,
       "version_minor": 0
      },
      "text/plain": [
       "HBox(children=(FloatProgress(value=0.0, max=132.0), HTML(value='')))"
      ]
     },
     "metadata": {},
     "output_type": "display_data"
    },
    {
     "name": "stdout",
     "output_type": "stream",
     "text": [
      "\n",
      "tensor(1.1000e-06, device='cuda:5')\n",
      "tensor(-1.8239e-08, device='cuda:5')\n",
      "tensor(-7.4530e-05, device='cuda:5')\n",
      "tensor(-7.4530e-05, device='cuda:5')\n",
      "tensor(-1.3707e-07, device='cuda:5')\n",
      "tensor(4.1760e-09, device='cuda:5')\n",
      "tensor(2.3555e-06, device='cuda:5')\n",
      "tensor(2.3555e-06, device='cuda:5')\n",
      "tensor(-7.4336e-09, device='cuda:5')\n",
      "tensor(-1.9156e-07, device='cuda:5')\n",
      "tensor(-3.8664e-06, device='cuda:5')\n",
      "tensor(-3.8664e-06, device='cuda:5')\n",
      "tensor(-8.5268e-10, device='cuda:5')\n",
      "tensor(0., device='cuda:5')\n",
      "tensor(-1.3877e-07, device='cuda:5')\n",
      "tensor(-1.3877e-07, device='cuda:5')\n",
      "tensor(-1.2152e-07, device='cuda:5')\n",
      "tensor(-7.4440e-06, device='cuda:5')\n",
      "tensor(9.0035e-09, device='cuda:5')\n",
      "tensor(5.5429e-09, device='cuda:5')\n"
     ]
    },
    {
     "data": {
      "application/vnd.jupyter.widget-view+json": {
       "model_id": "785fea1210174f60951061d9446a9d28",
       "version_major": 2,
       "version_minor": 0
      },
      "text/plain": [
       "HBox(children=(FloatProgress(value=0.0, max=9.0), HTML(value='')))"
      ]
     },
     "metadata": {},
     "output_type": "display_data"
    },
    {
     "name": "stdout",
     "output_type": "stream",
     "text": [
      "\n",
      "epoch time: 26.172670364379883\n",
      "mean loss train: 0.07102462569872538, mean loss val: 0.13198728243509913\n",
      "accuracy train: 0.9511904761904761, accuracy val: 0.9319047619047619\n",
      "---------------------------------------------------------------------------------------------------\n",
      "Epoch: 81, Learning Rate: 0.000125\n",
      "\n"
     ]
    },
    {
     "data": {
      "application/vnd.jupyter.widget-view+json": {
       "model_id": "df8c77d0d8534436b16df52608c9194c",
       "version_major": 2,
       "version_minor": 0
      },
      "text/plain": [
       "HBox(children=(FloatProgress(value=0.0, max=132.0), HTML(value='')))"
      ]
     },
     "metadata": {},
     "output_type": "display_data"
    },
    {
     "name": "stdout",
     "output_type": "stream",
     "text": [
      "\n",
      "tensor(-1.7412e-06, device='cuda:5')\n",
      "tensor(7.3517e-08, device='cuda:5')\n",
      "tensor(-2.2766e-05, device='cuda:5')\n",
      "tensor(-2.2766e-05, device='cuda:5')\n",
      "tensor(4.5409e-07, device='cuda:5')\n",
      "tensor(-3.6335e-09, device='cuda:5')\n",
      "tensor(-3.9657e-06, device='cuda:5')\n",
      "tensor(-3.9657e-06, device='cuda:5')\n",
      "tensor(-3.1760e-08, device='cuda:5')\n",
      "tensor(-5.8985e-08, device='cuda:5')\n",
      "tensor(-1.2259e-05, device='cuda:5')\n",
      "tensor(-1.2259e-05, device='cuda:5')\n",
      "tensor(1.4164e-09, device='cuda:5')\n",
      "tensor(0., device='cuda:5')\n",
      "tensor(-2.4193e-06, device='cuda:5')\n",
      "tensor(-2.4193e-06, device='cuda:5')\n",
      "tensor(-1.7393e-07, device='cuda:5')\n",
      "tensor(4.3855e-05, device='cuda:5')\n",
      "tensor(2.0530e-08, device='cuda:5')\n",
      "tensor(1.2152e-08, device='cuda:5')\n"
     ]
    },
    {
     "data": {
      "application/vnd.jupyter.widget-view+json": {
       "model_id": "cf46396a6b734de1a08ccf769e71f1f1",
       "version_major": 2,
       "version_minor": 0
      },
      "text/plain": [
       "HBox(children=(FloatProgress(value=0.0, max=9.0), HTML(value='')))"
      ]
     },
     "metadata": {},
     "output_type": "display_data"
    },
    {
     "name": "stdout",
     "output_type": "stream",
     "text": [
      "\n",
      "epoch time: 26.00406789779663\n",
      "mean loss train: 0.07087912392048609, mean loss val: 0.12130680061522017\n",
      "accuracy train: 0.955952380952381, accuracy val: 0.9333333333333333\n",
      "---------------------------------------------------------------------------------------------------\n",
      "Epoch: 82, Learning Rate: 0.000125\n",
      "\n"
     ]
    },
    {
     "data": {
      "application/vnd.jupyter.widget-view+json": {
       "model_id": "29cb8612094d47ad8261db3bf654e271",
       "version_major": 2,
       "version_minor": 0
      },
      "text/plain": [
       "HBox(children=(FloatProgress(value=0.0, max=132.0), HTML(value='')))"
      ]
     },
     "metadata": {},
     "output_type": "display_data"
    },
    {
     "name": "stdout",
     "output_type": "stream",
     "text": [
      "\n",
      "tensor(-5.9978e-07, device='cuda:5')\n",
      "tensor(-1.6668e-07, device='cuda:5')\n",
      "tensor(-8.6042e-05, device='cuda:5')\n",
      "tensor(-8.6042e-05, device='cuda:5')\n",
      "tensor(-1.9165e-07, device='cuda:5')\n",
      "tensor(-5.9780e-09, device='cuda:5')\n",
      "tensor(2.1484e-06, device='cuda:5')\n",
      "tensor(2.1484e-06, device='cuda:5')\n",
      "tensor(-3.1181e-09, device='cuda:5')\n",
      "tensor(8.5638e-10, device='cuda:5')\n",
      "tensor(1.6038e-06, device='cuda:5')\n",
      "tensor(1.6038e-06, device='cuda:5')\n",
      "tensor(-5.0904e-09, device='cuda:5')\n",
      "tensor(0., device='cuda:5')\n",
      "tensor(2.5639e-06, device='cuda:5')\n",
      "tensor(2.5639e-06, device='cuda:5')\n",
      "tensor(-6.0873e-08, device='cuda:5')\n",
      "tensor(2.6938e-05, device='cuda:5')\n",
      "tensor(8.6880e-09, device='cuda:5')\n",
      "tensor(4.9671e-09, device='cuda:5')\n"
     ]
    },
    {
     "data": {
      "application/vnd.jupyter.widget-view+json": {
       "model_id": "0347d3c17d6e4deaa5f839dcef0cc751",
       "version_major": 2,
       "version_minor": 0
      },
      "text/plain": [
       "HBox(children=(FloatProgress(value=0.0, max=9.0), HTML(value='')))"
      ]
     },
     "metadata": {},
     "output_type": "display_data"
    },
    {
     "name": "stdout",
     "output_type": "stream",
     "text": [
      "\n",
      "epoch time: 26.217721223831177\n",
      "mean loss train: 0.07454647929895492, mean loss val: 0.15321116402035637\n",
      "accuracy train: 0.9526190476190476, accuracy val: 0.9266666666666666\n",
      "---------------------------------------------------------------------------------------------------\n",
      "Epoch: 83, Learning Rate: 0.000125\n",
      "\n"
     ]
    },
    {
     "data": {
      "application/vnd.jupyter.widget-view+json": {
       "model_id": "696ba8d8db3640b6b8e8c920878af6a1",
       "version_major": 2,
       "version_minor": 0
      },
      "text/plain": [
       "HBox(children=(FloatProgress(value=0.0, max=132.0), HTML(value='')))"
      ]
     },
     "metadata": {},
     "output_type": "display_data"
    },
    {
     "name": "stdout",
     "output_type": "stream",
     "text": [
      "\n",
      "tensor(4.3129e-06, device='cuda:5')\n",
      "tensor(6.3760e-07, device='cuda:5')\n",
      "tensor(0.0002, device='cuda:5')\n",
      "tensor(0.0002, device='cuda:5')\n",
      "tensor(-1.0820e-06, device='cuda:5')\n",
      "tensor(4.6001e-09, device='cuda:5')\n",
      "tensor(8.4497e-07, device='cuda:5')\n",
      "tensor(8.4497e-07, device='cuda:5')\n",
      "tensor(6.3645e-08, device='cuda:5')\n",
      "tensor(8.0274e-07, device='cuda:5')\n",
      "tensor(2.1018e-05, device='cuda:5')\n",
      "tensor(2.1018e-05, device='cuda:5')\n",
      "tensor(-1.0780e-08, device='cuda:5')\n",
      "tensor(0., device='cuda:5')\n",
      "tensor(-2.5507e-06, device='cuda:5')\n",
      "tensor(-2.5507e-06, device='cuda:5')\n",
      "tensor(-6.3340e-08, device='cuda:5')\n",
      "tensor(-1.1760e-05, device='cuda:5')\n",
      "tensor(-6.6136e-09, device='cuda:5')\n",
      "tensor(-3.1931e-09, device='cuda:5')\n"
     ]
    },
    {
     "data": {
      "application/vnd.jupyter.widget-view+json": {
       "model_id": "872c3d5965f74c40967804f06d31009f",
       "version_major": 2,
       "version_minor": 0
      },
      "text/plain": [
       "HBox(children=(FloatProgress(value=0.0, max=9.0), HTML(value='')))"
      ]
     },
     "metadata": {},
     "output_type": "display_data"
    },
    {
     "name": "stdout",
     "output_type": "stream",
     "text": [
      "\n",
      "epoch time: 25.77451229095459\n",
      "mean loss train: 0.0723677754118329, mean loss val: 0.12975486210414341\n",
      "accuracy train: 0.9522619047619048, accuracy val: 0.9376190476190476\n",
      "---------------------------------------------------------------------------------------------------\n",
      "Epoch: 84, Learning Rate: 0.000125\n",
      "\n"
     ]
    },
    {
     "data": {
      "application/vnd.jupyter.widget-view+json": {
       "model_id": "eccc5505c91e4449a19e9e192d36e703",
       "version_major": 2,
       "version_minor": 0
      },
      "text/plain": [
       "HBox(children=(FloatProgress(value=0.0, max=132.0), HTML(value='')))"
      ]
     },
     "metadata": {},
     "output_type": "display_data"
    },
    {
     "name": "stdout",
     "output_type": "stream",
     "text": [
      "\n",
      "tensor(1.8072e-06, device='cuda:5')\n",
      "tensor(3.2327e-08, device='cuda:5')\n",
      "tensor(-6.2232e-06, device='cuda:5')\n",
      "tensor(-6.2232e-06, device='cuda:5')\n",
      "tensor(5.7100e-07, device='cuda:5')\n",
      "tensor(9.4502e-09, device='cuda:5')\n",
      "tensor(1.1929e-05, device='cuda:5')\n",
      "tensor(1.1929e-05, device='cuda:5')\n",
      "tensor(2.1361e-08, device='cuda:5')\n",
      "tensor(5.1614e-09, device='cuda:5')\n",
      "tensor(5.0769e-06, device='cuda:5')\n",
      "tensor(5.0769e-06, device='cuda:5')\n",
      "tensor(-5.2892e-09, device='cuda:5')\n",
      "tensor(0., device='cuda:5')\n",
      "tensor(-2.2483e-06, device='cuda:5')\n",
      "tensor(-2.2483e-06, device='cuda:5')\n",
      "tensor(-2.2987e-07, device='cuda:5')\n",
      "tensor(0.0001, device='cuda:5')\n",
      "tensor(2.0776e-09, device='cuda:5')\n",
      "tensor(2.1731e-09, device='cuda:5')\n"
     ]
    },
    {
     "data": {
      "application/vnd.jupyter.widget-view+json": {
       "model_id": "814454e75ac54d9ab477615bbde2039b",
       "version_major": 2,
       "version_minor": 0
      },
      "text/plain": [
       "HBox(children=(FloatProgress(value=0.0, max=9.0), HTML(value='')))"
      ]
     },
     "metadata": {},
     "output_type": "display_data"
    },
    {
     "name": "stdout",
     "output_type": "stream",
     "text": [
      "\n",
      "epoch time: 26.32277274131775\n",
      "mean loss train: 0.06946156061830974, mean loss val: 0.12142504805610294\n",
      "accuracy train: 0.954047619047619, accuracy val: 0.9361904761904762\n",
      "---------------------------------------------------------------------------------------------------\n",
      "Epoch: 85, Learning Rate: 0.000125\n",
      "\n"
     ]
    },
    {
     "data": {
      "application/vnd.jupyter.widget-view+json": {
       "model_id": "4b64a7a058764d67aa9e18f6be6fd82e",
       "version_major": 2,
       "version_minor": 0
      },
      "text/plain": [
       "HBox(children=(FloatProgress(value=0.0, max=132.0), HTML(value='')))"
      ]
     },
     "metadata": {},
     "output_type": "display_data"
    },
    {
     "name": "stdout",
     "output_type": "stream",
     "text": [
      "\n",
      "tensor(6.5939e-05, device='cuda:5')\n",
      "tensor(2.2819e-06, device='cuda:5')\n",
      "tensor(0.0010, device='cuda:5')\n",
      "tensor(0.0010, device='cuda:5')\n",
      "tensor(3.3667e-07, device='cuda:5')\n",
      "tensor(-2.0250e-07, device='cuda:5')\n",
      "tensor(-4.7749e-05, device='cuda:5')\n",
      "tensor(-4.7749e-05, device='cuda:5')\n",
      "tensor(2.5319e-07, device='cuda:5')\n",
      "tensor(1.4901e-06, device='cuda:5')\n",
      "tensor(9.1514e-05, device='cuda:5')\n",
      "tensor(9.1514e-05, device='cuda:5')\n",
      "tensor(4.5875e-08, device='cuda:5')\n",
      "tensor(0., device='cuda:5')\n",
      "tensor(1.2589e-05, device='cuda:5')\n",
      "tensor(1.2589e-05, device='cuda:5')\n",
      "tensor(2.1565e-06, device='cuda:5')\n",
      "tensor(0.0001, device='cuda:5')\n",
      "tensor(1.1230e-08, device='cuda:5')\n",
      "tensor(6.3862e-09, device='cuda:5')\n"
     ]
    },
    {
     "data": {
      "application/vnd.jupyter.widget-view+json": {
       "model_id": "2cd1843ba64340dc99dea5e8304c456f",
       "version_major": 2,
       "version_minor": 0
      },
      "text/plain": [
       "HBox(children=(FloatProgress(value=0.0, max=9.0), HTML(value='')))"
      ]
     },
     "metadata": {},
     "output_type": "display_data"
    },
    {
     "name": "stdout",
     "output_type": "stream",
     "text": [
      "\n",
      "epoch time: 25.79767608642578\n",
      "mean loss train: 0.0693946578672954, mean loss val: 0.1521109024683635\n",
      "accuracy train: 0.9539285714285715, accuracy val: 0.9347619047619048\n",
      "---------------------------------------------------------------------------------------------------\n",
      "Epoch: 86, Learning Rate: 0.000125\n",
      "\n"
     ]
    },
    {
     "data": {
      "application/vnd.jupyter.widget-view+json": {
       "model_id": "9ca8206cdefd4784a91a4af2aff74347",
       "version_major": 2,
       "version_minor": 0
      },
      "text/plain": [
       "HBox(children=(FloatProgress(value=0.0, max=132.0), HTML(value='')))"
      ]
     },
     "metadata": {},
     "output_type": "display_data"
    },
    {
     "name": "stdout",
     "output_type": "stream",
     "text": [
      "\n",
      "tensor(2.5039e-05, device='cuda:5')\n",
      "tensor(-1.5908e-06, device='cuda:5')\n",
      "tensor(0.0018, device='cuda:5')\n",
      "tensor(0.0018, device='cuda:5')\n",
      "tensor(9.9590e-07, device='cuda:5')\n",
      "tensor(5.5828e-08, device='cuda:5')\n",
      "tensor(2.4061e-06, device='cuda:5')\n",
      "tensor(2.4061e-06, device='cuda:5')\n",
      "tensor(6.7713e-08, device='cuda:5')\n",
      "tensor(8.2883e-07, device='cuda:5')\n",
      "tensor(4.7755e-05, device='cuda:5')\n",
      "tensor(4.7755e-05, device='cuda:5')\n",
      "tensor(-2.9877e-08, device='cuda:5')\n",
      "tensor(0., device='cuda:5')\n",
      "tensor(1.4776e-05, device='cuda:5')\n",
      "tensor(1.4776e-05, device='cuda:5')\n",
      "tensor(1.8028e-06, device='cuda:5')\n",
      "tensor(0.0004, device='cuda:5')\n",
      "tensor(4.3700e-10, device='cuda:5')\n",
      "tensor(-7.0958e-10, device='cuda:5')\n"
     ]
    },
    {
     "data": {
      "application/vnd.jupyter.widget-view+json": {
       "model_id": "7fa5658a02e5459e92daa4a9216ab59e",
       "version_major": 2,
       "version_minor": 0
      },
      "text/plain": [
       "HBox(children=(FloatProgress(value=0.0, max=9.0), HTML(value='')))"
      ]
     },
     "metadata": {},
     "output_type": "display_data"
    },
    {
     "name": "stdout",
     "output_type": "stream",
     "text": [
      "\n",
      "epoch time: 25.718841314315796\n",
      "mean loss train: 0.0705642393940971, mean loss val: 0.1326832825796943\n",
      "accuracy train: 0.9530952380952381, accuracy val: 0.9319047619047619\n",
      "---------------------------------------------------------------------------------------------------\n",
      "Epoch: 87, Learning Rate: 0.000125\n",
      "\n"
     ]
    },
    {
     "data": {
      "application/vnd.jupyter.widget-view+json": {
       "model_id": "0020e03ecab243c3ae718ce1a9892a75",
       "version_major": 2,
       "version_minor": 0
      },
      "text/plain": [
       "HBox(children=(FloatProgress(value=0.0, max=132.0), HTML(value='')))"
      ]
     },
     "metadata": {},
     "output_type": "display_data"
    },
    {
     "name": "stdout",
     "output_type": "stream",
     "text": [
      "\n",
      "tensor(-1.2088e-05, device='cuda:5')\n",
      "tensor(1.2191e-06, device='cuda:5')\n",
      "tensor(9.0755e-05, device='cuda:5')\n",
      "tensor(9.0755e-05, device='cuda:5')\n",
      "tensor(6.4351e-07, device='cuda:5')\n",
      "tensor(-1.7274e-09, device='cuda:5')\n",
      "tensor(-6.1075e-06, device='cuda:5')\n",
      "tensor(-6.1075e-06, device='cuda:5')\n",
      "tensor(-2.1634e-09, device='cuda:5')\n",
      "tensor(-3.0275e-07, device='cuda:5')\n",
      "tensor(2.5594e-06, device='cuda:5')\n",
      "tensor(2.5594e-06, device='cuda:5')\n",
      "tensor(-4.1439e-08, device='cuda:5')\n",
      "tensor(0., device='cuda:5')\n",
      "tensor(-9.5751e-06, device='cuda:5')\n",
      "tensor(-9.5751e-06, device='cuda:5')\n",
      "tensor(4.5543e-08, device='cuda:5')\n",
      "tensor(0.0002, device='cuda:5')\n",
      "tensor(8.1499e-09, device='cuda:5')\n",
      "tensor(4.9671e-09, device='cuda:5')\n"
     ]
    },
    {
     "data": {
      "application/vnd.jupyter.widget-view+json": {
       "model_id": "ef1db2393a974a73a836ace1c5820087",
       "version_major": 2,
       "version_minor": 0
      },
      "text/plain": [
       "HBox(children=(FloatProgress(value=0.0, max=9.0), HTML(value='')))"
      ]
     },
     "metadata": {},
     "output_type": "display_data"
    },
    {
     "name": "stdout",
     "output_type": "stream",
     "text": [
      "\n",
      "epoch time: 25.63454008102417\n",
      "mean loss train: 0.0686348104193097, mean loss val: 0.1837607270195371\n",
      "accuracy train: 0.9539285714285715, accuracy val: 0.9257142857142857\n",
      "---------------------------------------------------------------------------------------------------\n",
      "Epoch: 88, Learning Rate: 0.000125\n",
      "\n"
     ]
    },
    {
     "data": {
      "application/vnd.jupyter.widget-view+json": {
       "model_id": "e83dca35401d42eb8ea406f26ba2d8c5",
       "version_major": 2,
       "version_minor": 0
      },
      "text/plain": [
       "HBox(children=(FloatProgress(value=0.0, max=132.0), HTML(value='')))"
      ]
     },
     "metadata": {},
     "output_type": "display_data"
    },
    {
     "name": "stdout",
     "output_type": "stream",
     "text": [
      "\n",
      "tensor(-5.5726e-08, device='cuda:5')\n",
      "tensor(-2.4987e-07, device='cuda:5')\n",
      "tensor(-2.8245e-05, device='cuda:5')\n",
      "tensor(-2.8245e-05, device='cuda:5')\n",
      "tensor(-1.2551e-07, device='cuda:5')\n",
      "tensor(-8.5669e-08, device='cuda:5')\n",
      "tensor(-2.8016e-05, device='cuda:5')\n",
      "tensor(-2.8016e-05, device='cuda:5')\n",
      "tensor(1.0124e-07, device='cuda:5')\n",
      "tensor(3.8489e-07, device='cuda:5')\n",
      "tensor(5.5356e-05, device='cuda:5')\n",
      "tensor(5.5356e-05, device='cuda:5')\n",
      "tensor(4.7808e-09, device='cuda:5')\n",
      "tensor(0., device='cuda:5')\n",
      "tensor(2.5141e-06, device='cuda:5')\n",
      "tensor(2.5141e-06, device='cuda:5')\n",
      "tensor(8.8930e-07, device='cuda:5')\n",
      "tensor(-0.0003, device='cuda:5')\n",
      "tensor(3.8123e-09, device='cuda:5')\n",
      "tensor(2.4835e-09, device='cuda:5')\n"
     ]
    },
    {
     "data": {
      "application/vnd.jupyter.widget-view+json": {
       "model_id": "a0ec4d16b24547f29a5b2c9b047618ba",
       "version_major": 2,
       "version_minor": 0
      },
      "text/plain": [
       "HBox(children=(FloatProgress(value=0.0, max=9.0), HTML(value='')))"
      ]
     },
     "metadata": {},
     "output_type": "display_data"
    },
    {
     "name": "stdout",
     "output_type": "stream",
     "text": [
      "\n",
      "epoch time: 25.957284927368164\n",
      "mean loss train: 0.06770543720041003, mean loss val: 0.13147081647600442\n",
      "accuracy train: 0.9532142857142857, accuracy val: 0.9366666666666666\n",
      "---------------------------------------------------------------------------------------------------\n",
      "Epoch: 89, Learning Rate: 0.000125\n",
      "\n"
     ]
    },
    {
     "data": {
      "application/vnd.jupyter.widget-view+json": {
       "model_id": "30e5ab48490a45878691981a84c1f5c5",
       "version_major": 2,
       "version_minor": 0
      },
      "text/plain": [
       "HBox(children=(FloatProgress(value=0.0, max=132.0), HTML(value='')))"
      ]
     },
     "metadata": {},
     "output_type": "display_data"
    },
    {
     "name": "stdout",
     "output_type": "stream",
     "text": [
      "\n",
      "tensor(-1.7657e-05, device='cuda:5')\n",
      "tensor(3.5442e-08, device='cuda:5')\n",
      "tensor(0.0004, device='cuda:5')\n",
      "tensor(0.0004, device='cuda:5')\n",
      "tensor(-8.7191e-08, device='cuda:5')\n",
      "tensor(2.2131e-08, device='cuda:5')\n",
      "tensor(3.1459e-06, device='cuda:5')\n",
      "tensor(3.1459e-06, device='cuda:5')\n",
      "tensor(-1.0065e-07, device='cuda:5')\n",
      "tensor(-5.7295e-08, device='cuda:5')\n",
      "tensor(-7.9534e-06, device='cuda:5')\n",
      "tensor(-7.9534e-06, device='cuda:5')\n",
      "tensor(3.1740e-09, device='cuda:5')\n",
      "tensor(0., device='cuda:5')\n",
      "tensor(-1.1771e-06, device='cuda:5')\n",
      "tensor(-1.1771e-06, device='cuda:5')\n",
      "tensor(-3.3394e-07, device='cuda:5')\n",
      "tensor(0.0002, device='cuda:5')\n",
      "tensor(6.6800e-09, device='cuda:5')\n",
      "tensor(4.2575e-09, device='cuda:5')\n"
     ]
    },
    {
     "data": {
      "application/vnd.jupyter.widget-view+json": {
       "model_id": "bda281df384243d0be871d94f8be220d",
       "version_major": 2,
       "version_minor": 0
      },
      "text/plain": [
       "HBox(children=(FloatProgress(value=0.0, max=9.0), HTML(value='')))"
      ]
     },
     "metadata": {},
     "output_type": "display_data"
    },
    {
     "name": "stdout",
     "output_type": "stream",
     "text": [
      "\n",
      "epoch time: 25.827137231826782\n",
      "mean loss train: 0.0665068979490371, mean loss val: 0.13716510659172432\n",
      "accuracy train: 0.9561904761904761, accuracy val: 0.9319047619047619\n",
      "---------------------------------------------------------------------------------------------------\n",
      "Epoch: 90, Learning Rate: 0.000125\n",
      "\n"
     ]
    },
    {
     "data": {
      "application/vnd.jupyter.widget-view+json": {
       "model_id": "bba94fe9ba2445f99d0936f890e9f100",
       "version_major": 2,
       "version_minor": 0
      },
      "text/plain": [
       "HBox(children=(FloatProgress(value=0.0, max=132.0), HTML(value='')))"
      ]
     },
     "metadata": {},
     "output_type": "display_data"
    },
    {
     "name": "stdout",
     "output_type": "stream",
     "text": [
      "\n",
      "tensor(1.5644e-06, device='cuda:5')\n",
      "tensor(-1.0044e-07, device='cuda:5')\n",
      "tensor(-7.2820e-05, device='cuda:5')\n",
      "tensor(-7.2820e-05, device='cuda:5')\n",
      "tensor(4.5450e-08, device='cuda:5')\n",
      "tensor(6.9623e-09, device='cuda:5')\n",
      "tensor(2.4051e-06, device='cuda:5')\n",
      "tensor(2.4051e-06, device='cuda:5')\n",
      "tensor(5.8906e-09, device='cuda:5')\n",
      "tensor(1.3036e-08, device='cuda:5')\n",
      "tensor(2.6936e-06, device='cuda:5')\n",
      "tensor(2.6936e-06, device='cuda:5')\n",
      "tensor(-9.6292e-09, device='cuda:5')\n",
      "tensor(0., device='cuda:5')\n",
      "tensor(-3.0546e-06, device='cuda:5')\n",
      "tensor(-3.0546e-06, device='cuda:5')\n",
      "tensor(5.8129e-07, device='cuda:5')\n",
      "tensor(-0.0001, device='cuda:5')\n",
      "tensor(5.8370e-09, device='cuda:5')\n",
      "tensor(3.9027e-09, device='cuda:5')\n"
     ]
    },
    {
     "data": {
      "application/vnd.jupyter.widget-view+json": {
       "model_id": "85ee4f7a7691451ea42b93366609abfc",
       "version_major": 2,
       "version_minor": 0
      },
      "text/plain": [
       "HBox(children=(FloatProgress(value=0.0, max=9.0), HTML(value='')))"
      ]
     },
     "metadata": {},
     "output_type": "display_data"
    },
    {
     "name": "stdout",
     "output_type": "stream",
     "text": [
      "\n",
      "epoch time: 25.923245906829834\n",
      "mean loss train: 0.0722308699006126, mean loss val: 0.14726679529462514\n",
      "accuracy train: 0.9532142857142857, accuracy val: 0.9352380952380952\n",
      "---------------------------------------------------------------------------------------------------\n",
      "Epoch: 91, Learning Rate: 0.000125\n",
      "\n"
     ]
    },
    {
     "data": {
      "application/vnd.jupyter.widget-view+json": {
       "model_id": "c396c87553494c29a4b6435ac75edd88",
       "version_major": 2,
       "version_minor": 0
      },
      "text/plain": [
       "HBox(children=(FloatProgress(value=0.0, max=132.0), HTML(value='')))"
      ]
     },
     "metadata": {},
     "output_type": "display_data"
    },
    {
     "name": "stdout",
     "output_type": "stream",
     "text": [
      "\n",
      "tensor(-3.8552e-06, device='cuda:5')\n",
      "tensor(-4.5206e-07, device='cuda:5')\n",
      "tensor(-0.0002, device='cuda:5')\n",
      "tensor(-0.0002, device='cuda:5')\n",
      "tensor(-1.5980e-06, device='cuda:5')\n",
      "tensor(-1.1825e-07, device='cuda:5')\n",
      "tensor(-1.0970e-05, device='cuda:5')\n",
      "tensor(-1.0970e-05, device='cuda:5')\n",
      "tensor(-5.8582e-08, device='cuda:5')\n",
      "tensor(-2.9325e-07, device='cuda:5')\n",
      "tensor(-2.2440e-05, device='cuda:5')\n",
      "tensor(-2.2440e-05, device='cuda:5')\n",
      "tensor(-2.1682e-08, device='cuda:5')\n",
      "tensor(0., device='cuda:5')\n",
      "tensor(6.3989e-06, device='cuda:5')\n",
      "tensor(6.3989e-06, device='cuda:5')\n",
      "tensor(4.3017e-07, device='cuda:5')\n",
      "tensor(2.2276e-05, device='cuda:5')\n",
      "tensor(8.8513e-09, device='cuda:5')\n",
      "tensor(2.6609e-09, device='cuda:5')\n"
     ]
    },
    {
     "data": {
      "application/vnd.jupyter.widget-view+json": {
       "model_id": "e09909ff6d3149c1a8dc51c021f16341",
       "version_major": 2,
       "version_minor": 0
      },
      "text/plain": [
       "HBox(children=(FloatProgress(value=0.0, max=9.0), HTML(value='')))"
      ]
     },
     "metadata": {},
     "output_type": "display_data"
    },
    {
     "name": "stdout",
     "output_type": "stream",
     "text": [
      "\n",
      "epoch time: 26.390716075897217\n",
      "mean loss train: 0.06716173799264999, mean loss val: 0.12706754593622105\n",
      "accuracy train: 0.9553571428571429, accuracy val: 0.9395238095238095\n",
      "---------------------------------------------------------------------------------------------------\n",
      "Epoch: 92, Learning Rate: 0.000125\n",
      "\n"
     ]
    },
    {
     "data": {
      "application/vnd.jupyter.widget-view+json": {
       "model_id": "6f329f5c20b74e278d99d3cd68c8c2a1",
       "version_major": 2,
       "version_minor": 0
      },
      "text/plain": [
       "HBox(children=(FloatProgress(value=0.0, max=132.0), HTML(value='')))"
      ]
     },
     "metadata": {},
     "output_type": "display_data"
    },
    {
     "name": "stdout",
     "output_type": "stream",
     "text": [
      "\n",
      "tensor(-7.1195e-07, device='cuda:5')\n",
      "tensor(4.9710e-08, device='cuda:5')\n",
      "tensor(-0.0001, device='cuda:5')\n",
      "tensor(-0.0001, device='cuda:5')\n",
      "tensor(1.0338e-06, device='cuda:5')\n",
      "tensor(-8.7367e-09, device='cuda:5')\n",
      "tensor(-3.6694e-06, device='cuda:5')\n",
      "tensor(-3.6694e-06, device='cuda:5')\n",
      "tensor(-8.6280e-10, device='cuda:5')\n",
      "tensor(-3.9383e-08, device='cuda:5')\n",
      "tensor(-9.3701e-06, device='cuda:5')\n",
      "tensor(-9.3701e-06, device='cuda:5')\n",
      "tensor(1.8214e-09, device='cuda:5')\n",
      "tensor(0., device='cuda:5')\n",
      "tensor(-2.3112e-06, device='cuda:5')\n",
      "tensor(-2.3112e-06, device='cuda:5')\n",
      "tensor(6.6244e-07, device='cuda:5')\n",
      "tensor(-0.0002, device='cuda:5')\n",
      "tensor(5.6647e-09, device='cuda:5')\n",
      "tensor(2.6609e-09, device='cuda:5')\n"
     ]
    },
    {
     "data": {
      "application/vnd.jupyter.widget-view+json": {
       "model_id": "f45d7155f2ce43c9a9d9b775c8321d0b",
       "version_major": 2,
       "version_minor": 0
      },
      "text/plain": [
       "HBox(children=(FloatProgress(value=0.0, max=9.0), HTML(value='')))"
      ]
     },
     "metadata": {},
     "output_type": "display_data"
    },
    {
     "name": "stdout",
     "output_type": "stream",
     "text": [
      "\n",
      "epoch time: 26.09918999671936\n",
      "mean loss train: 0.07306538110687619, mean loss val: 0.14123716626848493\n",
      "accuracy train: 0.9519047619047619, accuracy val: 0.9371428571428572\n",
      "---------------------------------------------------------------------------------------------------\n",
      "Epoch: 93, Learning Rate: 0.000125\n",
      "\n"
     ]
    },
    {
     "data": {
      "application/vnd.jupyter.widget-view+json": {
       "model_id": "2ce633c6d12b4b44a55cb5ac90a77a46",
       "version_major": 2,
       "version_minor": 0
      },
      "text/plain": [
       "HBox(children=(FloatProgress(value=0.0, max=132.0), HTML(value='')))"
      ]
     },
     "metadata": {},
     "output_type": "display_data"
    },
    {
     "name": "stdout",
     "output_type": "stream",
     "text": [
      "\n",
      "tensor(3.5669e-06, device='cuda:5')\n",
      "tensor(2.5460e-07, device='cuda:5')\n",
      "tensor(-0.0003, device='cuda:5')\n",
      "tensor(-0.0003, device='cuda:5')\n",
      "tensor(5.5343e-07, device='cuda:5')\n",
      "tensor(-5.3829e-09, device='cuda:5')\n",
      "tensor(4.3768e-06, device='cuda:5')\n",
      "tensor(4.3768e-06, device='cuda:5')\n",
      "tensor(-6.1006e-09, device='cuda:5')\n",
      "tensor(-4.4002e-07, device='cuda:5')\n",
      "tensor(1.8303e-07, device='cuda:5')\n",
      "tensor(1.8303e-07, device='cuda:5')\n",
      "tensor(-7.7012e-09, device='cuda:5')\n",
      "tensor(0., device='cuda:5')\n",
      "tensor(-3.4425e-06, device='cuda:5')\n",
      "tensor(-3.4425e-06, device='cuda:5')\n",
      "tensor(-1.2117e-06, device='cuda:5')\n",
      "tensor(-7.3831e-05, device='cuda:5')\n",
      "tensor(-4.8934e-11, device='cuda:5')\n",
      "tensor(-6.6523e-10, device='cuda:5')\n"
     ]
    },
    {
     "data": {
      "application/vnd.jupyter.widget-view+json": {
       "model_id": "e4dbf9b49de743a4a224de59fae60b0e",
       "version_major": 2,
       "version_minor": 0
      },
      "text/plain": [
       "HBox(children=(FloatProgress(value=0.0, max=9.0), HTML(value='')))"
      ]
     },
     "metadata": {},
     "output_type": "display_data"
    },
    {
     "name": "stdout",
     "output_type": "stream",
     "text": [
      "\n",
      "epoch time: 25.745275259017944\n",
      "mean loss train: 0.07313511033852894, mean loss val: 0.14765062808990478\n",
      "accuracy train: 0.9533333333333334, accuracy val: 0.9319047619047619\n",
      "---------------------------------------------------------------------------------------------------\n",
      "Epoch: 94, Learning Rate: 0.000125\n",
      "\n"
     ]
    },
    {
     "data": {
      "application/vnd.jupyter.widget-view+json": {
       "model_id": "dd935d348a60425fa33baa6a3658b8f9",
       "version_major": 2,
       "version_minor": 0
      },
      "text/plain": [
       "HBox(children=(FloatProgress(value=0.0, max=132.0), HTML(value='')))"
      ]
     },
     "metadata": {},
     "output_type": "display_data"
    },
    {
     "name": "stdout",
     "output_type": "stream",
     "text": [
      "\n",
      "tensor(-1.7763e-06, device='cuda:5')\n",
      "tensor(-7.2019e-08, device='cuda:5')\n",
      "tensor(6.5740e-05, device='cuda:5')\n",
      "tensor(6.5740e-05, device='cuda:5')\n",
      "tensor(3.7088e-07, device='cuda:5')\n",
      "tensor(1.2085e-08, device='cuda:5')\n",
      "tensor(-9.2130e-07, device='cuda:5')\n",
      "tensor(-9.2130e-07, device='cuda:5')\n",
      "tensor(6.7562e-09, device='cuda:5')\n",
      "tensor(1.0223e-08, device='cuda:5')\n",
      "tensor(2.2958e-06, device='cuda:5')\n",
      "tensor(2.2958e-06, device='cuda:5')\n",
      "tensor(-1.2462e-08, device='cuda:5')\n",
      "tensor(0., device='cuda:5')\n",
      "tensor(-3.9506e-06, device='cuda:5')\n",
      "tensor(-3.9506e-06, device='cuda:5')\n",
      "tensor(-1.4114e-08, device='cuda:5')\n",
      "tensor(-1.3364e-05, device='cuda:5')\n",
      "tensor(6.4684e-09, device='cuda:5')\n",
      "tensor(3.2818e-09, device='cuda:5')\n"
     ]
    },
    {
     "data": {
      "application/vnd.jupyter.widget-view+json": {
       "model_id": "bd2ea75162c44dc09c4e77626fae9a9d",
       "version_major": 2,
       "version_minor": 0
      },
      "text/plain": [
       "HBox(children=(FloatProgress(value=0.0, max=9.0), HTML(value='')))"
      ]
     },
     "metadata": {},
     "output_type": "display_data"
    },
    {
     "name": "stdout",
     "output_type": "stream",
     "text": [
      "\n",
      "epoch time: 25.880781173706055\n",
      "mean loss train: 0.06960098439738864, mean loss val: 0.12936873776572097\n",
      "accuracy train: 0.9552380952380952, accuracy val: 0.93\n",
      "---------------------------------------------------------------------------------------------------\n",
      "Epoch: 95, Learning Rate: 0.000125\n",
      "\n"
     ]
    },
    {
     "data": {
      "application/vnd.jupyter.widget-view+json": {
       "model_id": "b081c23b53a644ac872f7b8c276bbf7d",
       "version_major": 2,
       "version_minor": 0
      },
      "text/plain": [
       "HBox(children=(FloatProgress(value=0.0, max=132.0), HTML(value='')))"
      ]
     },
     "metadata": {},
     "output_type": "display_data"
    },
    {
     "name": "stdout",
     "output_type": "stream",
     "text": [
      "\n",
      "tensor(1.7021e-08, device='cuda:5')\n",
      "tensor(-3.8312e-09, device='cuda:5')\n",
      "tensor(-9.8398e-08, device='cuda:5')\n",
      "tensor(-9.8398e-08, device='cuda:5')\n",
      "tensor(5.6332e-09, device='cuda:5')\n",
      "tensor(1.7235e-10, device='cuda:5')\n",
      "tensor(1.3186e-07, device='cuda:5')\n",
      "tensor(1.3186e-07, device='cuda:5')\n",
      "tensor(-1.5905e-09, device='cuda:5')\n",
      "tensor(-1.7882e-08, device='cuda:5')\n",
      "tensor(-3.9545e-07, device='cuda:5')\n",
      "tensor(-3.9545e-07, device='cuda:5')\n",
      "tensor(3.9852e-11, device='cuda:5')\n",
      "tensor(0., device='cuda:5')\n",
      "tensor(1.9367e-08, device='cuda:5')\n",
      "tensor(1.9367e-08, device='cuda:5')\n",
      "tensor(-1.7941e-08, device='cuda:5')\n",
      "tensor(-1.1549e-06, device='cuda:5')\n",
      "tensor(5.9611e-09, device='cuda:5')\n",
      "tensor(3.5140e-09, device='cuda:5')\n"
     ]
    },
    {
     "data": {
      "application/vnd.jupyter.widget-view+json": {
       "model_id": "d361686ee0bc43138ad9de13c90921c1",
       "version_major": 2,
       "version_minor": 0
      },
      "text/plain": [
       "HBox(children=(FloatProgress(value=0.0, max=9.0), HTML(value='')))"
      ]
     },
     "metadata": {},
     "output_type": "display_data"
    },
    {
     "name": "stdout",
     "output_type": "stream",
     "text": [
      "\n",
      "epoch time: 26.20874333381653\n",
      "mean loss train: 0.06564530287470137, mean loss val: 0.1291330110459101\n",
      "accuracy train: 0.9591666666666666, accuracy val: 0.9295238095238095\n",
      "---------------------------------------------------------------------------------------------------\n",
      "Epoch: 96, Learning Rate: 0.000125\n",
      "\n"
     ]
    },
    {
     "data": {
      "application/vnd.jupyter.widget-view+json": {
       "model_id": "d9551ed96738420cbe770282faefc1dc",
       "version_major": 2,
       "version_minor": 0
      },
      "text/plain": [
       "HBox(children=(FloatProgress(value=0.0, max=132.0), HTML(value='')))"
      ]
     },
     "metadata": {},
     "output_type": "display_data"
    },
    {
     "name": "stdout",
     "output_type": "stream",
     "text": [
      "\n",
      "tensor(-1.1249e-06, device='cuda:5')\n",
      "tensor(-4.3836e-08, device='cuda:5')\n",
      "tensor(1.4709e-05, device='cuda:5')\n",
      "tensor(1.4709e-05, device='cuda:5')\n",
      "tensor(1.5834e-07, device='cuda:5')\n",
      "tensor(4.3023e-09, device='cuda:5')\n",
      "tensor(8.9248e-07, device='cuda:5')\n",
      "tensor(8.9248e-07, device='cuda:5')\n",
      "tensor(7.6557e-10, device='cuda:5')\n",
      "tensor(-2.7947e-08, device='cuda:5')\n",
      "tensor(-4.5698e-06, device='cuda:5')\n",
      "tensor(-4.5698e-06, device='cuda:5')\n",
      "tensor(5.0455e-09, device='cuda:5')\n",
      "tensor(0., device='cuda:5')\n",
      "tensor(-1.4919e-06, device='cuda:5')\n",
      "tensor(-1.4919e-06, device='cuda:5')\n",
      "tensor(-5.6413e-09, device='cuda:5')\n",
      "tensor(-7.8627e-06, device='cuda:5')\n",
      "tensor(-7.3516e-10, device='cuda:5')\n",
      "tensor(-7.0958e-10, device='cuda:5')\n"
     ]
    },
    {
     "data": {
      "application/vnd.jupyter.widget-view+json": {
       "model_id": "c1b30e8ccd5649d5b0f82827bf146f7b",
       "version_major": 2,
       "version_minor": 0
      },
      "text/plain": [
       "HBox(children=(FloatProgress(value=0.0, max=9.0), HTML(value='')))"
      ]
     },
     "metadata": {},
     "output_type": "display_data"
    },
    {
     "name": "stdout",
     "output_type": "stream",
     "text": [
      "\n",
      "epoch time: 26.89636731147766\n",
      "mean loss train: 0.07135672447227297, mean loss val: 0.2135617256164551\n",
      "accuracy train: 0.9547619047619048, accuracy val: 0.920952380952381\n",
      "---------------------------------------------------------------------------------------------------\n",
      "Epoch: 97, Learning Rate: 0.000125\n",
      "\n"
     ]
    },
    {
     "data": {
      "application/vnd.jupyter.widget-view+json": {
       "model_id": "567b5478615c4268848f5ed07ebb3550",
       "version_major": 2,
       "version_minor": 0
      },
      "text/plain": [
       "HBox(children=(FloatProgress(value=0.0, max=132.0), HTML(value='')))"
      ]
     },
     "metadata": {},
     "output_type": "display_data"
    },
    {
     "name": "stdout",
     "output_type": "stream",
     "text": [
      "\n",
      "tensor(-1.1863e-06, device='cuda:5')\n",
      "tensor(-2.0945e-08, device='cuda:5')\n",
      "tensor(-3.1781e-05, device='cuda:5')\n",
      "tensor(-3.1781e-05, device='cuda:5')\n",
      "tensor(4.8960e-09, device='cuda:5')\n",
      "tensor(3.3355e-09, device='cuda:5')\n",
      "tensor(1.7508e-06, device='cuda:5')\n",
      "tensor(1.7508e-06, device='cuda:5')\n",
      "tensor(7.4253e-09, device='cuda:5')\n",
      "tensor(-1.0700e-07, device='cuda:5')\n",
      "tensor(-7.5537e-07, device='cuda:5')\n",
      "tensor(-7.5537e-07, device='cuda:5')\n",
      "tensor(1.8794e-09, device='cuda:5')\n",
      "tensor(0., device='cuda:5')\n",
      "tensor(-2.3180e-07, device='cuda:5')\n",
      "tensor(-2.3180e-07, device='cuda:5')\n",
      "tensor(-1.9661e-07, device='cuda:5')\n",
      "tensor(-1.0703e-05, device='cuda:5')\n",
      "tensor(7.9235e-09, device='cuda:5')\n",
      "tensor(4.0420e-09, device='cuda:5')\n"
     ]
    },
    {
     "data": {
      "application/vnd.jupyter.widget-view+json": {
       "model_id": "8d3feac987a6412c972ed3cc57eeb5fb",
       "version_major": 2,
       "version_minor": 0
      },
      "text/plain": [
       "HBox(children=(FloatProgress(value=0.0, max=9.0), HTML(value='')))"
      ]
     },
     "metadata": {},
     "output_type": "display_data"
    },
    {
     "name": "stdout",
     "output_type": "stream",
     "text": [
      "\n",
      "epoch time: 25.80202054977417\n",
      "mean loss train: 0.07574636283374968, mean loss val: 0.11566127822512673\n",
      "accuracy train: 0.955595238095238, accuracy val: 0.9366666666666666\n",
      "---------------------------------------------------------------------------------------------------\n",
      "Epoch: 98, Learning Rate: 0.000125\n",
      "\n"
     ]
    },
    {
     "data": {
      "application/vnd.jupyter.widget-view+json": {
       "model_id": "71a9c6b5fa844dd09f20b06d33158467",
       "version_major": 2,
       "version_minor": 0
      },
      "text/plain": [
       "HBox(children=(FloatProgress(value=0.0, max=132.0), HTML(value='')))"
      ]
     },
     "metadata": {},
     "output_type": "display_data"
    },
    {
     "name": "stdout",
     "output_type": "stream",
     "text": [
      "\n",
      "tensor(3.1041e-06, device='cuda:5')\n",
      "tensor(-1.5086e-07, device='cuda:5')\n",
      "tensor(-0.0002, device='cuda:5')\n",
      "tensor(-0.0002, device='cuda:5')\n",
      "tensor(2.5242e-07, device='cuda:5')\n",
      "tensor(-9.7506e-08, device='cuda:5')\n",
      "tensor(-1.6927e-05, device='cuda:5')\n",
      "tensor(-1.6927e-05, device='cuda:5')\n",
      "tensor(4.8582e-08, device='cuda:5')\n",
      "tensor(1.2233e-07, device='cuda:5')\n",
      "tensor(2.3969e-05, device='cuda:5')\n",
      "tensor(2.3969e-05, device='cuda:5')\n",
      "tensor(-6.8539e-10, device='cuda:5')\n",
      "tensor(0., device='cuda:5')\n",
      "tensor(-3.4397e-07, device='cuda:5')\n",
      "tensor(-3.4397e-07, device='cuda:5')\n",
      "tensor(3.1891e-07, device='cuda:5')\n",
      "tensor(-0.0002, device='cuda:5')\n",
      "tensor(7.1241e-09, device='cuda:5')\n",
      "tensor(4.6123e-09, device='cuda:5')\n"
     ]
    },
    {
     "data": {
      "application/vnd.jupyter.widget-view+json": {
       "model_id": "8be88abb90ec45c3ba0353ac6945e961",
       "version_major": 2,
       "version_minor": 0
      },
      "text/plain": [
       "HBox(children=(FloatProgress(value=0.0, max=9.0), HTML(value='')))"
      ]
     },
     "metadata": {},
     "output_type": "display_data"
    },
    {
     "name": "stdout",
     "output_type": "stream",
     "text": [
      "\n",
      "epoch time: 26.085965871810913\n",
      "mean loss train: 0.06671350010803767, mean loss val: 0.1328457995823453\n",
      "accuracy train: 0.9563095238095238, accuracy val: 0.9295238095238095\n",
      "---------------------------------------------------------------------------------------------------\n",
      "Epoch: 99, Learning Rate: 6.25e-05\n",
      "\n"
     ]
    },
    {
     "data": {
      "application/vnd.jupyter.widget-view+json": {
       "model_id": "e51c3f0fe5c8478e804c74cda9ac239b",
       "version_major": 2,
       "version_minor": 0
      },
      "text/plain": [
       "HBox(children=(FloatProgress(value=0.0, max=132.0), HTML(value='')))"
      ]
     },
     "metadata": {},
     "output_type": "display_data"
    },
    {
     "name": "stdout",
     "output_type": "stream",
     "text": [
      "\n",
      "tensor(-7.8649e-08, device='cuda:5')\n",
      "tensor(-1.0133e-08, device='cuda:5')\n",
      "tensor(-1.9573e-06, device='cuda:5')\n",
      "tensor(-1.9573e-06, device='cuda:5')\n",
      "tensor(2.7860e-09, device='cuda:5')\n",
      "tensor(3.9402e-10, device='cuda:5')\n",
      "tensor(1.7674e-07, device='cuda:5')\n",
      "tensor(1.7674e-07, device='cuda:5')\n",
      "tensor(-6.5057e-10, device='cuda:5')\n",
      "tensor(8.7593e-09, device='cuda:5')\n",
      "tensor(-4.5418e-07, device='cuda:5')\n",
      "tensor(-4.5418e-07, device='cuda:5')\n",
      "tensor(1.5845e-10, device='cuda:5')\n",
      "tensor(0., device='cuda:5')\n",
      "tensor(-4.9014e-08, device='cuda:5')\n",
      "tensor(-4.9014e-08, device='cuda:5')\n",
      "tensor(8.1210e-09, device='cuda:5')\n",
      "tensor(-1.3924e-06, device='cuda:5')\n",
      "tensor(3.8922e-09, device='cuda:5')\n",
      "tensor(2.6852e-09, device='cuda:5')\n"
     ]
    },
    {
     "data": {
      "application/vnd.jupyter.widget-view+json": {
       "model_id": "0e1491ea78ea430692724c34342fea8d",
       "version_major": 2,
       "version_minor": 0
      },
      "text/plain": [
       "HBox(children=(FloatProgress(value=0.0, max=9.0), HTML(value='')))"
      ]
     },
     "metadata": {},
     "output_type": "display_data"
    },
    {
     "name": "stdout",
     "output_type": "stream",
     "text": [
      "\n",
      "epoch time: 25.914270162582397\n",
      "mean loss train: 0.06590916772683461, mean loss val: 0.12742584841591986\n",
      "accuracy train: 0.9576190476190476, accuracy val: 0.9328571428571428\n",
      "---------------------------------------------------------------------------------------------------\n"
     ]
    }
   ],
   "source": [
    "loss_train_all, loss_val_all = [], []\n",
    "accuracy_train_all, accuracy_val_all = [], []\n",
    "\n",
    "best_model_acc = 0\n",
    "best_model_epoch = 0\n",
    "\n",
    "for epoch in range(NUM_EPOCHS):\n",
    "\n",
    "    start = time.time()\n",
    "    print(f'Epoch: {epoch}, Learning Rate: {scheduler.get_last_lr()[0]}\\n')\n",
    "#     print(f'Epoch: {epoch}\\n')\n",
    "\n",
    "    loss_train_epoch, loss_val_epoch = 0, 0\n",
    "    correct_train_epoch, correct_val_epoch = 0, 0\n",
    "    n_train, n_val = 0, 0\n",
    "\n",
    "    model.train()\n",
    "    for (X_batch_train, X_batch_lengths_train, y_batch_train) in tqdm(train_dl):\n",
    "\n",
    "        X_batch_train, X_batch_lengths_train, y_batch_train =\\\n",
    "                    X_batch_train.to(device), X_batch_lengths_train.to(device), y_batch_train.to(device)\n",
    "\n",
    "        optimizer.zero_grad()\n",
    "        y_pred_train = model(X_batch_train, X_batch_lengths_train)\n",
    "        loss_train = criterion(y_pred_train, y_batch_train)\n",
    "        loss_train.backward()\n",
    "        optimizer.step()\n",
    "\n",
    "        loss_train_epoch += loss_train.item() * y_batch_train.size()[0]\n",
    "        correct_train_epoch += correct(y_pred_train, y_batch_train)\n",
    "        n_train += y_batch_train.size()[0]\n",
    "\n",
    "    scheduler.step()\n",
    "    model.eval()\n",
    "\n",
    "    with torch.no_grad():\n",
    "        \n",
    "        for item in model.parameters():\n",
    "            print(item.grad.mean())\n",
    "        \n",
    "        for (X_batch_val, X_batch_lengths_val, y_batch_val) in tqdm(val_dl):\n",
    "\n",
    "            X_batch_val, X_batch_lengths_val, y_batch_val =\\\n",
    "                    X_batch_val.to(device), X_batch_lengths_val.to(device), y_batch_val.to(device)\n",
    "\n",
    "            y_pred_val = model(X_batch_val, X_batch_lengths_val)\n",
    "            loss_val = criterion(y_pred_val, y_batch_val)\n",
    "            \n",
    "            loss_val_epoch += loss_val.item() * y_batch_val.size()[0]\n",
    "            correct_val_epoch += correct(y_pred_val, y_batch_val)\n",
    "            n_val += y_batch_val.size()[0]\n",
    "            \n",
    "\n",
    "    loss_mean_train_epoch = loss_train_epoch / n_train\n",
    "    loss_mean_val_epoch = loss_val_epoch / n_val\n",
    "\n",
    "    loss_train_all.append(loss_mean_train_epoch)\n",
    "    loss_val_all.append(loss_mean_val_epoch)\n",
    "\n",
    "    accuracy_train_epoch = correct_train_epoch / n_train\n",
    "    accuracy_val_epoch = correct_val_epoch / n_val\n",
    "\n",
    "    accuracy_train_all.append(accuracy_train_epoch)\n",
    "    accuracy_val_all.append(accuracy_val_epoch)\n",
    "\n",
    "    writer.add_scalars('LOSS per epoch', {\"train\": loss_mean_train_epoch, \"val\": loss_mean_val_epoch}, epoch)\n",
    "    writer.add_scalars('ACCURACY per epoch', {\"train\": accuracy_train_epoch, \"val\": accuracy_val_epoch}, epoch)\n",
    "    \n",
    "    if accuracy_val_epoch > best_model_acc:\n",
    "        \n",
    "        best_model_state_dict = model.state_dict()\n",
    "        best_model_acc = accuracy_val_epoch\n",
    "        best_model_epoch = epoch\n",
    "        \n",
    "#     scheduler.step(loss_mean_val_epoch)\n",
    "    \n",
    "    end = time.time()\n",
    "    print(f\"epoch time: {end - start}\")  \n",
    "    print(f\"mean loss train: {loss_mean_train_epoch}, mean loss val: {loss_mean_val_epoch}\")\n",
    "    print(f\"accuracy train: {accuracy_train_epoch}, accuracy val: {accuracy_val_epoch}\")\n",
    "\n",
    "    print(\"---------------------------------------------------------------------------------------------------\")"
   ]
  },
  {
   "cell_type": "code",
   "execution_count": 59,
   "metadata": {},
   "outputs": [
    {
     "data": {
      "text/plain": [
       "UniModel(\n",
       "  (lstm): LSTM(52, 256, num_layers=2, batch_first=True, dropout=0.4, bidirectional=True)\n",
       "  (head): Sequential(\n",
       "    (0): Linear(in_features=512, out_features=128, bias=True)\n",
       "    (1): ReLU()\n",
       "    (2): Dropout(p=0.4, inplace=False)\n",
       "    (3): Linear(in_features=128, out_features=21, bias=True)\n",
       "  )\n",
       ")"
      ]
     },
     "execution_count": 59,
     "metadata": {},
     "output_type": "execute_result"
    }
   ],
   "source": [
    "best_model = model = UniModel(NUM_LAYERS=NUM_LAYERS, INPUT_SIZE=52, HIDDEN_SIZE=HIDDEN_SIZE, \n",
    "                 LINEAR_SIZE=LINEAR_SIZE, OUTPUT_SIZE=NUM_CLASSES, BIDIRECTIONAL=BIDIRECTIONAL, DEVICE=device)\n",
    "\n",
    "best_model.load_state_dict(best_model_state_dict)\n",
    "best_model = model.to(device)\n",
    "best_model.eval()"
   ]
  },
  {
   "cell_type": "code",
   "execution_count": 60,
   "metadata": {},
   "outputs": [
    {
     "data": {
      "application/vnd.jupyter.widget-view+json": {
       "model_id": "e0ace188e83742de9e37247278ae9f65",
       "version_major": 2,
       "version_minor": 0
      },
      "text/plain": [
       "HBox(children=(FloatProgress(value=0.0, max=9.0), HTML(value='')))"
      ]
     },
     "metadata": {},
     "output_type": "display_data"
    },
    {
     "name": "stdout",
     "output_type": "stream",
     "text": [
      "\n"
     ]
    }
   ],
   "source": [
    "model.eval()\n",
    "\n",
    "y_ans_val, y_true_val = [], []\n",
    "\n",
    "with torch.no_grad():\n",
    "\n",
    "    for (X_batch_val, X_batch_lengths_val, y_batch_val) in tqdm(val_dl):\n",
    "\n",
    "        X_batch_val, X_batch_lengths_val, y_batch_val =\\\n",
    "                    X_batch_val.to(device), X_batch_lengths_val.to(device), y_batch_val.to(device)\n",
    "\n",
    "        y_pred_val = model(X_batch_val, X_batch_lengths_val)\n",
    "        \n",
    "        y_pred_prob = F.softmax(y_pred_val.cpu(), dim=-1)\n",
    "        y_pred_class = y_pred_prob.max(dim=-1)[1]\n",
    "       \n",
    "        y_ans_val += y_pred_class.tolist()\n",
    "        y_true_val += y_batch_val.tolist()"
   ]
  },
  {
   "cell_type": "code",
   "execution_count": 162,
   "metadata": {},
   "outputs": [
    {
     "data": {
      "image/png": "[encoded data removed]",
      "text/plain": [
       "<Figure size 1440x576 with 1 Axes>"
      ]
     },
     "metadata": {
      "needs_background": "light"
     },
     "output_type": "display_data"
    }
   ],
   "source": [
    "plt.figure(figsize=(20, 8))\n",
    "plt.title(\"loss\")\n",
    "plt.plot(np.arange(len(loss_train_all)), loss_train_all, '-o', marker='.', label='train')\n",
    "plt.plot(np.arange(len(loss_val_all)), loss_val_all, '-o', marker='.', label='val')\n",
    "plt.legend()\n",
    "plt.show()"
   ]
  },
  {
   "cell_type": "code",
   "execution_count": 68,
   "metadata": {},
   "outputs": [
    {
     "data": {
      "image/png": "[encoded data removed]",
      "text/plain": [
       "<Figure size 1440x576 with 1 Axes>"
      ]
     },
     "metadata": {
      "needs_background": "light"
     },
     "output_type": "display_data"
    }
   ],
   "source": [
    "plt.figure(figsize=(20, 8))\n",
    "plt.title(\"accuracy\")\n",
    "plt.plot(np.arange(len(accuracy_train_all)), accuracy_train_all, '-o', marker='.', label='train')\n",
    "plt.plot(np.arange(len(accuracy_val_all)), accuracy_val_all, '-o', marker='.', label='val')\n",
    "plt.text(35, 0.65, s=f\"best acc: {best_model_acc}\\nbest epoch: {best_model_epoch}\", fontsize=20)\n",
    "plt.scatter(best_model_epoch, best_model_acc, c='g', s=100)\n",
    "plt.legend()\n",
    "plt.show()"
   ]
  },
  {
   "cell_type": "code",
   "execution_count": 76,
   "metadata": {},
   "outputs": [
    {
     "data": {
      "image/png": "[encoded data removed]",
      "text/plain": [
       "<Figure size 1080x720 with 2 Axes>"
      ]
     },
     "metadata": {
      "needs_background": "light"
     },
     "output_type": "display_data"
    }
   ],
   "source": [
    "plt.figure(figsize=(15, 10))\n",
    "plt.title(\"FDR\")\n",
    "sns.heatmap(confusion_matrix(y_true_val, y_ans_val, normalize='pred'), annot=True, cmap=sns.cm.rocket_r)\n",
    "plt.xlabel('predicted class')\n",
    "plt.ylabel('true class')\n",
    "plt.show()"
   ]
  },
  {
   "attachments": {
    "image.png": {
     "image/png": "[encoded data removed]"
    }
   },
   "cell_type": "markdown",
   "metadata": {},
   "source": [
    "![image.png](attachment:image.png)"
   ]
  },
  {
   "cell_type": "markdown",
   "metadata": {},
   "source": [
    "# ----------------------------------------------------------------------------------------"
   ]
  },
  {
   "cell_type": "markdown",
   "metadata": {},
   "source": [
    "``` python  \n",
    "import numpy as np\n",
    "from sklearn.metrics import confusion_matrix\n",
    "\n",
    "y_true = [1, -1,  0,  0,  1, -1,  1,  0, -1,  0,  1, -1,  1,  0,  0, -1,  0]\n",
    "y_prediction = [-1, -1,  1,  0,  0,  0,  0, -1,  1, -1,  1,  1,  0,  0,  1,  1, -1]\n",
    "cnf_matrix = confusion_matrix(y_true, y_prediction)\n",
    "print(cnf_matrix)\n",
    "#[[1 1 3]\n",
    "# [3 2 2]\n",
    "# [1 3 1]]\n",
    "\n",
    "FP = cnf_matrix.sum(axis=0) - np.diag(cnf_matrix)  \n",
    "FN = cnf_matrix.sum(axis=1) - np.diag(cnf_matrix)\n",
    "TP = np.diag(cnf_matrix)\n",
    "TN = cnf_matrix.sum() - (FP + FN + TP)\n",
    "\n",
    "FP = FP.astype(float)\n",
    "FN = FN.astype(float)\n",
    "TP = TP.astype(float)\n",
    "TN = TN.astype(float)\n",
    "\n",
    "# Sensitivity, hit rate, recall, or true positive rate\n",
    "TPR = TP/(TP+FN)\n",
    "# Specificity or true negative rate\n",
    "TNR = TN/(TN+FP) \n",
    "# Precision or positive predictive value\n",
    "PPV = TP/(TP+FP)\n",
    "# Negative predictive value\n",
    "NPV = TN/(TN+FN)\n",
    "# Fall out or false positive rate\n",
    "FPR = FP/(FP+TN)\n",
    "# False negative rate\n",
    "FNR = FN/(TP+FN)\n",
    "# False discovery rate\n",
    "FDR = FP/(TP+FP)\n",
    "# Overall accuracy\n",
    "ACC = (TP+TN)/(TP+FP+FN+TN)\n",
    "```"
   ]
  },
  {
   "attachments": {
    "image.png": {
     "image/png": "[encoded data removed]"
    }
   },
   "cell_type": "markdown",
   "metadata": {},
   "source": [
    "Screenshot 2020-05-11 at 16.30.53![image.png](attachment:image.png)"
   ]
  },
  {
   "cell_type": "code",
   "execution_count": 78,
   "metadata": {},
   "outputs": [
    {
     "data": {
      "image/png": "[encoded data removed]",
      "text/plain": [
       "<Figure size 1080x720 with 2 Axes>"
      ]
     },
     "metadata": {
      "needs_background": "light"
     },
     "output_type": "display_data"
    }
   ],
   "source": [
    "plt.figure(figsize=(15, 10))\n",
    "sns.heatmap(confusion_matrix(y_true_val, y_ans_val), annot=True, cmap=sns.cm.rocket_r)\n",
    "plt.xlabel('predicted class')\n",
    "plt.ylabel('true class')\n",
    "plt.show()"
   ]
  },
  {
   "cell_type": "code",
   "execution_count": 82,
   "metadata": {},
   "outputs": [],
   "source": [
    "conf = confusion_matrix(y_true_val, y_ans_val)"
   ]
  },
  {
   "cell_type": "code",
   "execution_count": 87,
   "metadata": {},
   "outputs": [],
   "source": [
    "FP = conf.sum(axis=0) - np.diag(conf)\n",
    "FN = conf.sum(axis=1) - np.diag(conf)\n",
    "TP = np.diag(conf)\n",
    "TN = conf.sum() - (FP + FN + TP)"
   ]
  },
  {
   "cell_type": "code",
   "execution_count": 90,
   "metadata": {},
   "outputs": [],
   "source": [
    "TPR = TP / (TP + FN)\n",
    "FPR = FP / (FP + TN)\n",
    "\n",
    "ACCURACY = (TP + TN) / (TP + TN + FP + FN)"
   ]
  },
  {
   "cell_type": "code",
   "execution_count": 157,
   "metadata": {},
   "outputs": [],
   "source": [
    "def plotting(arr, name):\n",
    "    classes = np.arange(len(arr))\n",
    "\n",
    "    norm = plt.Normalize(arr.min(), arr.max())\n",
    "    colors = plt.cm.RdYlGn(norm(arr))\n",
    "\n",
    "    plt.figure(figsize=(10, 8))\n",
    "    plt.title(f'{name} per class')\n",
    "    sns.barplot(x=classes, y=arr, palette=colors)\n",
    "    plt.xticks(classes, [\"fault_\" + str(c) if c > 0 else \"normal\" for c in classes], rotation=90)\n",
    "    plt.xlabel('class')\n",
    "    plt.ylabel(f'{name}')\n",
    "    plt.show()"
   ]
  },
  {
   "cell_type": "code",
   "execution_count": 158,
   "metadata": {},
   "outputs": [
    {
     "data": {
      "image/png": "[encoded data removed]",
      "text/plain": [
       "<Figure size 720x576 with 1 Axes>"
      ]
     },
     "metadata": {
      "needs_background": "light"
     },
     "output_type": "display_data"
    }
   ],
   "source": [
    "plotting(TPR, \"TPR (true positive rate)\")"
   ]
  },
  {
   "cell_type": "code",
   "execution_count": 159,
   "metadata": {},
   "outputs": [
    {
     "data": {
      "image/png": "[encoded data removed]",
      "text/plain": [
       "<Figure size 720x576 with 1 Axes>"
      ]
     },
     "metadata": {
      "needs_background": "light"
     },
     "output_type": "display_data"
    }
   ],
   "source": [
    "plotting(FPR, \"FPR (false positive rate)\")"
   ]
  },
  {
   "cell_type": "code",
   "execution_count": 161,
   "metadata": {},
   "outputs": [
    {
     "data": {
      "text/plain": [
       "array([0.94095238, 1.        , 1.        , 0.99619048, 1.        ,\n",
       "       1.        , 1.        , 1.        , 1.        , 0.99285714,\n",
       "       0.99857143, 1.        , 0.99904762, 0.99904762, 1.        ,\n",
       "       0.94190476, 0.99904762, 1.        , 0.99809524, 1.        ,\n",
       "       1.        ])"
      ]
     },
     "execution_count": 161,
     "metadata": {},
     "output_type": "execute_result"
    }
   ],
   "source": [
    "ACCURACY"
   ]
  },
  {
   "cell_type": "code",
   "execution_count": 160,
   "metadata": {},
   "outputs": [
    {
     "data": {
      "image/png": "[encoded data removed]",
      "text/plain": [
       "<Figure size 720x576 with 1 Axes>"
      ]
     },
     "metadata": {
      "needs_background": "light"
     },
     "output_type": "display_data"
    }
   ],
   "source": [
    "plotting(ACCURACY, \"ACCURACY\")"
   ]
  },
  {
   "cell_type": "code",
   "execution_count": null,
   "metadata": {},
   "outputs": [],
   "source": []
  }
 ],
 "metadata": {
  "kernelspec": {
   "display_name": "Python 3",
   "language": "python",
   "name": "python3"
  },
  "language_info": {
   "codemirror_mode": {
    "name": "ipython",
    "version": 3
   },
   "file_extension": ".py",
   "mimetype": "text/x-python",
   "name": "python",
   "nbconvert_exporter": "python",
   "pygments_lexer": "ipython3",
   "version": "3.6.8"
  }
 },
 "nbformat": 4,
 "nbformat_minor": 4
}
