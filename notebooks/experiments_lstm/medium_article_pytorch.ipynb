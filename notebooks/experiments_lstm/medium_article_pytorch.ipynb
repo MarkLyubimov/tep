{
 "cells": [
  {
   "cell_type": "code",
   "execution_count": 1,
   "metadata": {},
   "outputs": [
    {
     "name": "stdout",
     "output_type": "stream",
     "text": [
      "cuda:3\n"
     ]
    }
   ],
   "source": [
    "import os\n",
    "import time\n",
    "\n",
    "import pyreadr as py\n",
    "import pandas as pd\n",
    "import numpy as np\n",
    "import matplotlib.pyplot as plt\n",
    "\n",
    "from tqdm.notebook import tqdm\n",
    "\n",
    "import torch\n",
    "from torch import nn\n",
    "from torch.utils.data import Dataset, DataLoader\n",
    "from torch.optim import Adam, RMSprop\n",
    "from torch.optim.lr_scheduler import StepLR\n",
    "\n",
    "from sklearn.model_selection import train_test_split\n",
    "\n",
    "torch.manual_seed(42)\n",
    "device = torch.device(\"cuda:3\" if torch.cuda.is_available() else \"cpu\")\n",
    "# device = torch.device(\"cpu\")\n",
    "print(device)"
   ]
  },
  {
   "cell_type": "markdown",
   "metadata": {},
   "source": [
    "> ### Data downloading\n",
    "Data link  \n",
    "https://dataverse.harvard.edu/dataset.xhtml?persistentId=doi:10.7910/DVN/6C3JR1"
   ]
  },
  {
   "cell_type": "markdown",
   "metadata": {},
   "source": [
    "##### Data description\n",
    "Here we consoder dataset of \"Additional Tennessee Eastman Process Simulation Data for Anomaly Detection Evaluation\"\n",
    "This dataverse contains the data referenced in Rieth et al. (2017). Issues and Advances in Anomaly Detection Evaluation for Joint Human-Automated Systems. To be presented at Applied Human Factors and Ergonomics 2017.\n",
    "##### Columns description\n",
    "* **faultNumber** ranges from 1 to 20 in the “Faulty” datasets and represents the fault type in the TEP. The “FaultFree” datasets only contain fault 0 (i.e. normal operating conditions).\n",
    "* **simulationRun** ranges from 1 to 500 and represents a different random number generator state from which a full TEP dataset was generated (Note: the actual seeds used to generate training and testing datasets were non-overlapping).\n",
    "* **sample** ranges either from 1 to 500 (“Training” datasets) or 1 to 960 (“Testing” datasets). The TEP variables (columns 4 to 55) were sampled every 3 minutes for a total duration of 25 hours and 48 hours respectively. Note that the faults were introduced 1 and 8 hours into the Faulty Training and Faulty Testing datasets, respectively.\n",
    "* **columns 4-55** contain the process variables; the column names retain the original variable names."
   ]
  },
  {
   "cell_type": "code",
   "execution_count": 2,
   "metadata": {},
   "outputs": [],
   "source": [
    "# ! unzip dataverse_files.zip -d dataverse_files"
   ]
  },
  {
   "cell_type": "code",
   "execution_count": 3,
   "metadata": {},
   "outputs": [],
   "source": [
    "#reading train data in .R format\n",
    "a1 = py.read_r(\"dataverse_files/TEP_FaultFree_Training.RData\")\n",
    "a2 = py.read_r(\"dataverse_files/TEP_Faulty_Training.RData\")"
   ]
  },
  {
   "cell_type": "code",
   "execution_count": 4,
   "metadata": {},
   "outputs": [],
   "source": [
    "#reading test data in .R format\n",
    "a3 = py.read_r(\"dataverse_files/TEP_FaultFree_Testing.RData\")\n",
    "a4 = py.read_r(\"dataverse_files/TEP_Faulty_Testing.RData\")"
   ]
  },
  {
   "cell_type": "code",
   "execution_count": 5,
   "metadata": {},
   "outputs": [
    {
     "name": "stdout",
     "output_type": "stream",
     "text": [
      "Objects that are present in a1 : odict_keys(['fault_free_training'])\n",
      "Objects that are present in a2 : odict_keys(['faulty_training'])\n",
      "Objects that are present in a3 : odict_keys(['fault_free_testing'])\n",
      "Objects that are present in a4 : odict_keys(['faulty_testing'])\n"
     ]
    }
   ],
   "source": [
    "print(\"Objects that are present in a1 :\", a1.keys())\n",
    "print(\"Objects that are present in a2 :\", a2.keys())\n",
    "print(\"Objects that are present in a3 :\", a3.keys())\n",
    "print(\"Objects that are present in a4 :\", a4.keys())"
   ]
  },
  {
   "cell_type": "code",
   "execution_count": 6,
   "metadata": {},
   "outputs": [],
   "source": [
    "# concatinating the train and the test dataset\n",
    "\n",
    "# train dataframe\n",
    "raw_train = pd.concat([a1['fault_free_training'], a2['faulty_training']])\n",
    "# test dataframe\n",
    "raw_test = pd.concat([a3['fault_free_testing'], a4['faulty_testing']])"
   ]
  },
  {
   "cell_type": "code",
   "execution_count": 7,
   "metadata": {},
   "outputs": [],
   "source": [
    "raw_train['index'] = raw_train['faultNumber'] * 500 + raw_train['simulationRun'] - 1\n",
    "raw_test['index'] = raw_test['faultNumber'] * 500 + raw_test['simulationRun'] - 1"
   ]
  },
  {
   "cell_type": "markdown",
   "metadata": {},
   "source": [
    "> ### EDA"
   ]
  },
  {
   "cell_type": "code",
   "execution_count": 8,
   "metadata": {},
   "outputs": [],
   "source": [
    "# for col in raw_train.columns[3:]:\n",
    "#     plt.figure(figsize=(10,5))\n",
    "#     plt.hist(raw_train[col])\n",
    "#     plt.xlabel(col)\n",
    "#     plt.ylabel('counts')\n",
    "#     plt.show()"
   ]
  },
  {
   "cell_type": "code",
   "execution_count": 9,
   "metadata": {},
   "outputs": [],
   "source": [
    "# raw_train.groupby(['faultNumber', 'simulationRun']).agg({'xmeas_1': list, 'xmeas_2': list}).reset_index()"
   ]
  },
  {
   "cell_type": "code",
   "execution_count": 10,
   "metadata": {},
   "outputs": [],
   "source": [
    "features = ['xmeas_1', 'xmeas_2',\n",
    "       'xmeas_3', 'xmeas_4', 'xmeas_5', 'xmeas_6', 'xmeas_7', 'xmeas_8',\n",
    "       'xmeas_9', 'xmeas_10', 'xmeas_11', 'xmeas_12', 'xmeas_13', 'xmeas_14',\n",
    "       'xmeas_15', 'xmeas_16', 'xmeas_17', 'xmeas_18', 'xmeas_19', 'xmeas_20',\n",
    "       'xmeas_21', 'xmeas_22', 'xmeas_23', 'xmeas_24', 'xmeas_25', 'xmeas_26',\n",
    "       'xmeas_27', 'xmeas_28', 'xmeas_29', 'xmeas_30', 'xmeas_31', 'xmeas_32',\n",
    "       'xmeas_33', 'xmeas_34', 'xmeas_35', 'xmeas_36', 'xmeas_37', 'xmeas_38',\n",
    "       'xmeas_39', 'xmeas_40', 'xmeas_41', 'xmv_1', 'xmv_2', 'xmv_3', 'xmv_4',\n",
    "       'xmv_5', 'xmv_6', 'xmv_7', 'xmv_8', 'xmv_9', 'xmv_10', 'xmv_11']"
   ]
  },
  {
   "cell_type": "code",
   "execution_count": 500,
   "metadata": {},
   "outputs": [],
   "source": [
    "def accuracy(y_pred, target):\n",
    "    \n",
    "    y_pred = torch.softmax(y_pred, dim=1)\n",
    "    y_pred = torch.max(y_pred, dim=1)[1]  \n",
    "    \n",
    "    return torch.eq(y_pred, target).sum().item()"
   ]
  },
  {
   "cell_type": "markdown",
   "metadata": {},
   "source": [
    "> ### Sampling\n",
    "\n",
    "Described in \"Data Preparation for Deep Learning Models\" in [that article](https://medium.com/@mrunal68/tennessee-eastman-process-simulation-data-for-anomaly-detection-evaluation-d719dc133a7f)"
   ]
  },
  {
   "cell_type": "code",
   "execution_count": 11,
   "metadata": {},
   "outputs": [
    {
     "data": {
      "text/plain": [
       "(5250000, 10080000)"
      ]
     },
     "execution_count": 11,
     "metadata": {},
     "output_type": "execute_result"
    }
   ],
   "source": [
    "# 5.250.000, 10.080.000\n",
    "len(raw_train), len(raw_test)"
   ]
  },
  {
   "cell_type": "code",
   "execution_count": 12,
   "metadata": {},
   "outputs": [],
   "source": [
    "simulation_idx = raw_train[['index', 'faultNumber']].drop_duplicates()"
   ]
  },
  {
   "cell_type": "code",
   "execution_count": 13,
   "metadata": {},
   "outputs": [],
   "source": [
    "X_train_idx, X_val_idx = train_test_split(simulation_idx['index'], \n",
    "                                          stratify=simulation_idx['faultNumber'],\n",
    "                                          test_size=0.2, \n",
    "                                          random_state=42)"
   ]
  },
  {
   "cell_type": "code",
   "execution_count": 14,
   "metadata": {},
   "outputs": [],
   "source": [
    "X_train = raw_train[raw_train['index'].isin(X_train_idx)].drop('index', axis=1)\n",
    "# y_train = raw_train[raw_train['index'].isin(X_train_idx)][['index', 'faultNumber']]\n",
    "\n",
    "X_val = raw_train[raw_train['index'].isin(X_val_idx)].drop('index', axis=1)\n",
    "# y_val = raw_train[raw_train['index'].isin(X_val_idx)][['index', 'faultNumber']]\n",
    "\n",
    "# X_test = raw_test.drop(['faultNumber', 'simulationRun', 'sample'], axis=1)\n",
    "# y_test = raw_test['faultNumber']"
   ]
  },
  {
   "cell_type": "code",
   "execution_count": 700,
   "metadata": {},
   "outputs": [
    {
     "data": {
      "text/plain": [
       "StandardScaler(copy=True, with_mean=True, with_std=True)"
      ]
     },
     "execution_count": 700,
     "metadata": {},
     "output_type": "execute_result"
    }
   ],
   "source": [
    "from sklearn.preprocessing import StandardScaler\n",
    "\n",
    "\n",
    "scaler = StandardScaler()\n",
    "scaler.fit(X_train[features])\n",
    "\n",
    "X_train[features] = scaler.transform(X_train[features])\n",
    "X_val[features] = scaler.transform(X_val[features])"
   ]
  },
  {
   "cell_type": "code",
   "execution_count": 715,
   "metadata": {},
   "outputs": [
    {
     "data": {
      "text/plain": [
       "5250000"
      ]
     },
     "execution_count": 715,
     "metadata": {},
     "output_type": "execute_result"
    }
   ],
   "source": [
    "# X_raw_train = raw_train[raw_train['faultNumber'].isin([0, 1, 10, 20])].drop('index', axis=1)\n",
    "X_raw_train = raw_train.drop('index', axis=1)\n",
    "len(X_raw_train)"
   ]
  },
  {
   "cell_type": "code",
   "execution_count": 716,
   "metadata": {},
   "outputs": [],
   "source": [
    "scaler_raw = StandardScaler()\n",
    "scaler_raw.fit(X_raw_train[features])\n",
    "\n",
    "X_raw_train[features] = scaler_raw.transform(X_raw_train[features])"
   ]
  },
  {
   "cell_type": "code",
   "execution_count": 754,
   "metadata": {},
   "outputs": [],
   "source": [
    "class DataTEP(Dataset):\n",
    "\n",
    "    def __init__(self, X):\n",
    "    \n",
    "        self.X = X\n",
    "        self.X = self.X.sort_values(['faultNumber', 'simulationRun', 'sample'])\n",
    "        self.X['index'] = self.X.groupby(['faultNumber', 'simulationRun']).ngroup()\n",
    "        self.X = self.X.set_index('index')\n",
    "\n",
    "    def __len__(self):\n",
    "        return self.X.index.max() + 1\n",
    "    \n",
    "    def __getitem__(self, idx):\n",
    "        \n",
    "        features = [\n",
    "       'xmeas_1', 'xmeas_2', 'xmeas_3', 'xmeas_4', 'xmeas_5', 'xmeas_6', 'xmeas_7', 'xmeas_8',\n",
    "       'xmeas_9', 'xmeas_10', 'xmeas_11', 'xmeas_12', 'xmeas_13', 'xmeas_14',\n",
    "       'xmeas_15', 'xmeas_16', 'xmeas_17', 'xmeas_18', 'xmeas_19', 'xmeas_20',\n",
    "       'xmeas_21', 'xmeas_22', 'xmeas_23', 'xmeas_24', 'xmeas_25', 'xmeas_26',\n",
    "       'xmeas_27', 'xmeas_28', 'xmeas_29', 'xmeas_30', 'xmeas_31', 'xmeas_32',\n",
    "       'xmeas_33', 'xmeas_34', 'xmeas_35', 'xmeas_36', 'xmeas_37', 'xmeas_38',\n",
    "       'xmeas_39', 'xmeas_40', 'xmeas_41', 'xmv_1', 'xmv_2', 'xmv_3', 'xmv_4',\n",
    "       'xmv_5', 'xmv_6', 'xmv_7', 'xmv_8', 'xmv_9', 'xmv_10', 'xmv_11']\n",
    "        \n",
    "        features = self.X.loc[idx][features].values\n",
    "        target = self.X.loc[idx]['faultNumber'].unique()[0]\n",
    "        \n",
    "#         features = torch.tensor(features, dtype=torch.float)[-10:]\n",
    "#         features = torch.tensor(features, dtype=torch.float)[:, 0].unsqueeze(-1)\n",
    "#         features = torch.tensor(features, dtype=torch.float)[-50:, :30]\n",
    "        features = torch.tensor(features, dtype=torch.float)[-50:, :]\n",
    "#         features = torch.tensor(features, dtype=torch.float)[:, 1].unsqueeze(-1)\n",
    "        target = torch.tensor(target, dtype=torch.long)\n",
    "\n",
    "        return features, target"
   ]
  },
  {
   "cell_type": "code",
   "execution_count": 755,
   "metadata": {},
   "outputs": [
    {
     "data": {
      "text/plain": [
       "158"
      ]
     },
     "execution_count": 755,
     "metadata": {},
     "output_type": "execute_result"
    }
   ],
   "source": [
    "import gc\n",
    "gc.collect()"
   ]
  },
  {
   "cell_type": "code",
   "execution_count": 756,
   "metadata": {},
   "outputs": [],
   "source": [
    "BATCH_SIZE = 64\n",
    "NUM_CLASSES = 21\n",
    "NUM_EPOCHS = 120\n",
    "LEARNING_RATE = 0.001"
   ]
  },
  {
   "cell_type": "code",
   "execution_count": 757,
   "metadata": {},
   "outputs": [],
   "source": [
    "raw_ds = DataTEP(X_raw_train)\n",
    "raw_dl = DataLoader(raw_ds, batch_size=64, shuffle=True)\n",
    "\n",
    "train_ds = DataTEP(X_train)\n",
    "train_dl = DataLoader(train_ds, batch_size=BATCH_SIZE, shuffle=True)\n",
    "\n",
    "val_ds = DataTEP(X_val)\n",
    "val_dl = DataLoader(val_ds, batch_size=BATCH_SIZE*4, shuffle=True)\n",
    "\n",
    "# test_ds = DataTEP(X_test, y_test)\n",
    "# test_dl = DataLoader(test_ds, batch_size=BATCH_SIZE*4)"
   ]
  },
  {
   "cell_type": "code",
   "execution_count": 758,
   "metadata": {
    "scrolled": true
   },
   "outputs": [],
   "source": [
    "def check_dl(dl):\n",
    "    for (X_batch, y_batch) in tqdm(dl):\n",
    "        print(\"min\", y_batch.numpy().min())\n",
    "        print(\"max\", y_batch.numpy().max())\n",
    "        print(X_batch.size(), y_batch.size())\n",
    "#         print(np.bincount(y_batch.numpy()))\n",
    "\n",
    "# check_dl(raw_dl)"
   ]
  },
  {
   "cell_type": "markdown",
   "metadata": {},
   "source": [
    "```python\n",
    "model_1 = Sequential()\n",
    "model_1.add(LSTM(256, input_shape=(52, 1), return_sequences=True))\n",
    "model_1.add(LSTM(128, return_sequences=False))\n",
    "model_1.add(Dense(300))\n",
    "model_1.add(Dropout(0.5))\n",
    "model_1.add(Dense(128))\n",
    "model_1.add(Dense(21, activation='softmax'))\n",
    "model_1.compile(loss='categorical_crossentropy', optimizer='adam', metrics=['accuracy'])\n",
    "print(model_1.summary())\n",
    "```"
   ]
  },
  {
   "cell_type": "code",
   "execution_count": 761,
   "metadata": {},
   "outputs": [],
   "source": [
    "class Model(torch.nn.Module) :\n",
    "    def __init__(self, NUM_LAYERS, INPUT_SIZE, HIDDEN_SIZE, LINEAR_SIZE, OUTPUT_SIZE, DEVICE):\n",
    "        super().__init__()\n",
    "        \n",
    "        self.hidden_size = HIDDEN_SIZE\n",
    "        self.num_layers = NUM_LAYERS\n",
    "        self.input_size = INPUT_SIZE\n",
    "        self.linear_size = LINEAR_SIZE\n",
    "        self.output_size = OUTPUT_SIZE\n",
    "        self.directions = True\n",
    "        \n",
    "        self.lstm = nn.LSTM(\n",
    "                        input_size=self.input_size, \n",
    "                        hidden_size=self.hidden_size,\n",
    "                        num_layers=self.num_layers, \n",
    "                        bidirectional=self.directions,\n",
    "                        batch_first=True,\n",
    "                        dropout=0.4\n",
    "            )\n",
    "        \n",
    "        self.head = nn.Sequential(\n",
    "                        nn.Linear(in_features=self.hidden_size*(self.directions+1), out_features=self.linear_size),\n",
    "                        nn.ReLU(),\n",
    "                        nn.Dropout(p=0.4),\n",
    "                        nn.Linear(in_features=self.linear_size, out_features=OUTPUT_SIZE),\n",
    "            )\n",
    "        \n",
    "    def forward(self, x):\n",
    "        \n",
    "        x, _ = self.lstm(x)\n",
    "        x = self.head(x[:, -1])\n",
    "        \n",
    "        return x"
   ]
  },
  {
   "cell_type": "code",
   "execution_count": 765,
   "metadata": {},
   "outputs": [],
   "source": [
    "model = Model(NUM_LAYERS=2, INPUT_SIZE=52, HIDDEN_SIZE=128, LINEAR_SIZE=128, OUTPUT_SIZE=NUM_CLASSES, DEVICE=device)\n",
    "model = model.to(device)\n",
    "\n",
    "optimizer = torch.optim.Adam(model.parameters(), lr=LEARNING_RATE)\n",
    "criterion = nn.CrossEntropyLoss()\n",
    "scheduler = StepLR(optimizer, step_size=30, gamma=0.5)"
   ]
  },
  {
   "cell_type": "code",
   "execution_count": 766,
   "metadata": {},
   "outputs": [
    {
     "name": "stdout",
     "output_type": "stream",
     "text": [
      "y_batch_train.size() torch.Size([64])\n",
      "y_pred_train.size() torch.Size([64, 21]) \n",
      "\n",
      "y_batch_train.size() torch.Size([64])\n",
      "y_pred_train.size() torch.Size([64, 21]) \n",
      "\n",
      "y_batch_train.size() torch.Size([64])\n",
      "y_pred_train.size() torch.Size([64, 21]) \n",
      "\n"
     ]
    }
   ],
   "source": [
    "for i, (X_batch_train, y_batch_train) in enumerate(raw_dl):\n",
    "    if i < 3:  \n",
    "        X_batch_train, y_batch_train = X_batch_train.to(device), y_batch_train.to(device)\n",
    "        y_pred_train = model(X_batch_train)\n",
    "        print(\"y_batch_train.size()\", y_batch_train.size())\n",
    "        print(\"y_pred_train.size()\", y_pred_train.size(), '\\n')\n",
    "    else:\n",
    "        break"
   ]
  },
  {
   "cell_type": "code",
   "execution_count": 767,
   "metadata": {
    "scrolled": true
   },
   "outputs": [
    {
     "name": "stdout",
     "output_type": "stream",
     "text": [
      "Epoch: 0, Learning Rate: 0.001\n",
      "\n"
     ]
    },
    {
     "data": {
      "application/vnd.jupyter.widget-view+json": {
       "model_id": "c31e015dcec6436cbce7171a59056d5a",
       "version_major": 2,
       "version_minor": 0
      },
      "text/plain": [
       "HBox(children=(FloatProgress(value=0.0, max=132.0), HTML(value='')))"
      ]
     },
     "metadata": {},
     "output_type": "display_data"
    },
    {
     "name": "stdout",
     "output_type": "stream",
     "text": [
      "\n",
      "tensor(-8.1929e-06, device='cuda:3')\n",
      "tensor(-4.0269e-06, device='cuda:3')\n",
      "tensor(-0.0012, device='cuda:3')\n",
      "tensor(-0.0012, device='cuda:3')\n",
      "tensor(-6.2804e-06, device='cuda:3')\n",
      "tensor(8.2286e-07, device='cuda:3')\n",
      "tensor(0.0003, device='cuda:3')\n",
      "tensor(0.0003, device='cuda:3')\n",
      "tensor(1.2708e-07, device='cuda:3')\n",
      "tensor(-8.7884e-07, device='cuda:3')\n",
      "tensor(0.0001, device='cuda:3')\n",
      "tensor(0.0001, device='cuda:3')\n",
      "tensor(6.4294e-08, device='cuda:3')\n",
      "tensor(0., device='cuda:3')\n",
      "tensor(-7.8032e-05, device='cuda:3')\n",
      "tensor(-7.8032e-05, device='cuda:3')\n",
      "tensor(9.1040e-07, device='cuda:3')\n",
      "tensor(-0.0013, device='cuda:3')\n",
      "tensor(-6.6834e-10, device='cuda:3')\n",
      "tensor(0., device='cuda:3')\n"
     ]
    },
    {
     "data": {
      "application/vnd.jupyter.widget-view+json": {
       "model_id": "622301210e894ed6802d0466e37c6fe3",
       "version_major": 2,
       "version_minor": 0
      },
      "text/plain": [
       "HBox(children=(FloatProgress(value=0.0, max=17.0), HTML(value='')))"
      ]
     },
     "metadata": {},
     "output_type": "display_data"
    },
    {
     "name": "stdout",
     "output_type": "stream",
     "text": [
      "\n",
      "epoch time: 26.393052577972412\n",
      "loss train: 2.0110597980744913, loss val: 1.658794690580929\n",
      "accuracy train: 0.34, accuracy val: 0.43761904761904763\n",
      "---------------------------------------------------------------------------------------------------\n",
      "Epoch: 1, Learning Rate: 0.001\n",
      "\n"
     ]
    },
    {
     "data": {
      "application/vnd.jupyter.widget-view+json": {
       "model_id": "b1bd83482eca4aa8bd1c1ecfe4ce1b6c",
       "version_major": 2,
       "version_minor": 0
      },
      "text/plain": [
       "HBox(children=(FloatProgress(value=0.0, max=132.0), HTML(value='')))"
      ]
     },
     "metadata": {},
     "output_type": "display_data"
    },
    {
     "name": "stdout",
     "output_type": "stream",
     "text": [
      "\n",
      "tensor(-1.1022e-05, device='cuda:3')\n",
      "tensor(1.2160e-06, device='cuda:3')\n",
      "tensor(-0.0002, device='cuda:3')\n",
      "tensor(-0.0002, device='cuda:3')\n",
      "tensor(-1.0699e-05, device='cuda:3')\n",
      "tensor(7.7189e-07, device='cuda:3')\n",
      "tensor(7.2190e-05, device='cuda:3')\n",
      "tensor(7.2190e-05, device='cuda:3')\n",
      "tensor(-2.7187e-08, device='cuda:3')\n",
      "tensor(1.3837e-06, device='cuda:3')\n",
      "tensor(1.3450e-05, device='cuda:3')\n",
      "tensor(1.3450e-05, device='cuda:3')\n",
      "tensor(-8.5050e-08, device='cuda:3')\n",
      "tensor(0., device='cuda:3')\n",
      "tensor(-2.4738e-05, device='cuda:3')\n",
      "tensor(-2.4738e-05, device='cuda:3')\n",
      "tensor(-1.2742e-05, device='cuda:3')\n",
      "tensor(-0.0005, device='cuda:3')\n",
      "tensor(-4.5279e-09, device='cuda:3')\n",
      "tensor(-4.5236e-09, device='cuda:3')\n"
     ]
    },
    {
     "data": {
      "application/vnd.jupyter.widget-view+json": {
       "model_id": "5e86e1dc86d1450697fd278238da2c33",
       "version_major": 2,
       "version_minor": 0
      },
      "text/plain": [
       "HBox(children=(FloatProgress(value=0.0, max=17.0), HTML(value='')))"
      ]
     },
     "metadata": {},
     "output_type": "display_data"
    },
    {
     "name": "stdout",
     "output_type": "stream",
     "text": [
      "\n",
      "epoch time: 26.222947120666504\n",
      "loss train: 1.4812517635750049, loss val: 1.3345267632428337\n",
      "accuracy train: 0.4717857142857143, accuracy val: 0.5085714285714286\n",
      "---------------------------------------------------------------------------------------------------\n",
      "Epoch: 2, Learning Rate: 0.001\n",
      "\n"
     ]
    },
    {
     "data": {
      "application/vnd.jupyter.widget-view+json": {
       "model_id": "3d42daa28fe54031bf972f7a613ee278",
       "version_major": 2,
       "version_minor": 0
      },
      "text/plain": [
       "HBox(children=(FloatProgress(value=0.0, max=132.0), HTML(value='')))"
      ]
     },
     "metadata": {},
     "output_type": "display_data"
    },
    {
     "name": "stdout",
     "output_type": "stream",
     "text": [
      "\n",
      "tensor(3.3859e-05, device='cuda:3')\n",
      "tensor(-2.3517e-06, device='cuda:3')\n",
      "tensor(0.0002, device='cuda:3')\n",
      "tensor(0.0002, device='cuda:3')\n",
      "tensor(-3.7776e-06, device='cuda:3')\n",
      "tensor(-7.2865e-07, device='cuda:3')\n",
      "tensor(-2.6345e-05, device='cuda:3')\n",
      "tensor(-2.6345e-05, device='cuda:3')\n",
      "tensor(-2.8910e-08, device='cuda:3')\n",
      "tensor(2.4349e-07, device='cuda:3')\n",
      "tensor(-5.0072e-05, device='cuda:3')\n",
      "tensor(-5.0072e-05, device='cuda:3')\n",
      "tensor(-9.3611e-08, device='cuda:3')\n",
      "tensor(0., device='cuda:3')\n",
      "tensor(4.0887e-05, device='cuda:3')\n",
      "tensor(4.0887e-05, device='cuda:3')\n",
      "tensor(-8.5923e-07, device='cuda:3')\n",
      "tensor(-0.0004, device='cuda:3')\n",
      "tensor(3.2619e-09, device='cuda:3')\n",
      "tensor(2.7940e-09, device='cuda:3')\n"
     ]
    },
    {
     "data": {
      "application/vnd.jupyter.widget-view+json": {
       "model_id": "4a35c34b1a864fe397f002fe380760a8",
       "version_major": 2,
       "version_minor": 0
      },
      "text/plain": [
       "HBox(children=(FloatProgress(value=0.0, max=17.0), HTML(value='')))"
      ]
     },
     "metadata": {},
     "output_type": "display_data"
    },
    {
     "name": "stdout",
     "output_type": "stream",
     "text": [
      "\n",
      "epoch time: 26.139411211013794\n",
      "loss train: 1.2670883202191554, loss val: 1.0059765717562508\n",
      "accuracy train: 0.5392857142857143, accuracy val: 0.6404761904761904\n",
      "---------------------------------------------------------------------------------------------------\n",
      "Epoch: 3, Learning Rate: 0.001\n",
      "\n"
     ]
    },
    {
     "data": {
      "application/vnd.jupyter.widget-view+json": {
       "model_id": "bfe2df31d7aa418e95744971ba2a5c18",
       "version_major": 2,
       "version_minor": 0
      },
      "text/plain": [
       "HBox(children=(FloatProgress(value=0.0, max=132.0), HTML(value='')))"
      ]
     },
     "metadata": {},
     "output_type": "display_data"
    },
    {
     "name": "stdout",
     "output_type": "stream",
     "text": [
      "\n",
      "tensor(-3.1454e-05, device='cuda:3')\n",
      "tensor(-1.0294e-06, device='cuda:3')\n",
      "tensor(0.0040, device='cuda:3')\n",
      "tensor(0.0040, device='cuda:3')\n",
      "tensor(-2.3642e-06, device='cuda:3')\n",
      "tensor(-1.0459e-07, device='cuda:3')\n",
      "tensor(-6.0014e-06, device='cuda:3')\n",
      "tensor(-6.0014e-06, device='cuda:3')\n",
      "tensor(1.5225e-07, device='cuda:3')\n",
      "tensor(4.8771e-08, device='cuda:3')\n",
      "tensor(8.2732e-05, device='cuda:3')\n",
      "tensor(8.2732e-05, device='cuda:3')\n",
      "tensor(-2.6776e-07, device='cuda:3')\n",
      "tensor(0., device='cuda:3')\n",
      "tensor(9.2664e-05, device='cuda:3')\n",
      "tensor(9.2664e-05, device='cuda:3')\n",
      "tensor(-6.2214e-06, device='cuda:3')\n",
      "tensor(0.0009, device='cuda:3')\n",
      "tensor(4.9136e-09, device='cuda:3')\n",
      "tensor(2.4835e-09, device='cuda:3')\n"
     ]
    },
    {
     "data": {
      "application/vnd.jupyter.widget-view+json": {
       "model_id": "1e1ec628f5844c138f70c82361ba399e",
       "version_major": 2,
       "version_minor": 0
      },
      "text/plain": [
       "HBox(children=(FloatProgress(value=0.0, max=17.0), HTML(value='')))"
      ]
     },
     "metadata": {},
     "output_type": "display_data"
    },
    {
     "name": "stdout",
     "output_type": "stream",
     "text": [
      "\n",
      "epoch time: 27.27070665359497\n",
      "loss train: 0.8805968476967378, loss val: 0.6611620135167066\n",
      "accuracy train: 0.6680952380952381, accuracy val: 0.7252380952380952\n",
      "---------------------------------------------------------------------------------------------------\n",
      "Epoch: 4, Learning Rate: 0.001\n",
      "\n"
     ]
    },
    {
     "data": {
      "application/vnd.jupyter.widget-view+json": {
       "model_id": "8959ad1a92904e9b90b610c1ba2594bc",
       "version_major": 2,
       "version_minor": 0
      },
      "text/plain": [
       "HBox(children=(FloatProgress(value=0.0, max=132.0), HTML(value='')))"
      ]
     },
     "metadata": {},
     "output_type": "display_data"
    },
    {
     "name": "stdout",
     "output_type": "stream",
     "text": [
      "\n",
      "tensor(-3.9711e-05, device='cuda:3')\n",
      "tensor(-3.9891e-07, device='cuda:3')\n",
      "tensor(-0.0005, device='cuda:3')\n",
      "tensor(-0.0005, device='cuda:3')\n",
      "tensor(-7.7783e-05, device='cuda:3')\n",
      "tensor(-4.7412e-06, device='cuda:3')\n",
      "tensor(0.0003, device='cuda:3')\n",
      "tensor(0.0003, device='cuda:3')\n",
      "tensor(-1.8908e-07, device='cuda:3')\n",
      "tensor(-2.7625e-06, device='cuda:3')\n",
      "tensor(5.7484e-05, device='cuda:3')\n",
      "tensor(5.7484e-05, device='cuda:3')\n",
      "tensor(-1.6117e-07, device='cuda:3')\n",
      "tensor(0., device='cuda:3')\n",
      "tensor(-2.3632e-05, device='cuda:3')\n",
      "tensor(-2.3632e-05, device='cuda:3')\n",
      "tensor(2.5310e-06, device='cuda:3')\n",
      "tensor(-0.0003, device='cuda:3')\n",
      "tensor(-1.8300e-09, device='cuda:3')\n",
      "tensor(-7.0958e-10, device='cuda:3')\n"
     ]
    },
    {
     "data": {
      "application/vnd.jupyter.widget-view+json": {
       "model_id": "19e67d3b196a45acbc0448d047fc5110",
       "version_major": 2,
       "version_minor": 0
      },
      "text/plain": [
       "HBox(children=(FloatProgress(value=0.0, max=17.0), HTML(value='')))"
      ]
     },
     "metadata": {},
     "output_type": "display_data"
    },
    {
     "name": "stdout",
     "output_type": "stream",
     "text": [
      "\n",
      "epoch time: 27.036247968673706\n",
      "loss train: 0.7157438489975352, loss val: 0.6424401963458342\n",
      "accuracy train: 0.7130952380952381, accuracy val: 0.73\n",
      "---------------------------------------------------------------------------------------------------\n",
      "Epoch: 5, Learning Rate: 0.001\n",
      "\n"
     ]
    },
    {
     "data": {
      "application/vnd.jupyter.widget-view+json": {
       "model_id": "a8cf0826fa604c9e87fc2861adcaa8fc",
       "version_major": 2,
       "version_minor": 0
      },
      "text/plain": [
       "HBox(children=(FloatProgress(value=0.0, max=132.0), HTML(value='')))"
      ]
     },
     "metadata": {},
     "output_type": "display_data"
    },
    {
     "name": "stdout",
     "output_type": "stream",
     "text": [
      "\n",
      "tensor(-3.0658e-05, device='cuda:3')\n",
      "tensor(-7.0696e-06, device='cuda:3')\n",
      "tensor(0.0012, device='cuda:3')\n",
      "tensor(0.0012, device='cuda:3')\n",
      "tensor(-8.4864e-06, device='cuda:3')\n",
      "tensor(-4.6848e-07, device='cuda:3')\n",
      "tensor(-0.0002, device='cuda:3')\n",
      "tensor(-0.0002, device='cuda:3')\n",
      "tensor(4.2651e-06, device='cuda:3')\n",
      "tensor(1.2338e-05, device='cuda:3')\n",
      "tensor(0.0007, device='cuda:3')\n",
      "tensor(0.0007, device='cuda:3')\n",
      "tensor(-1.3868e-06, device='cuda:3')\n",
      "tensor(0., device='cuda:3')\n",
      "tensor(5.5424e-06, device='cuda:3')\n",
      "tensor(5.5424e-06, device='cuda:3')\n",
      "tensor(1.8679e-05, device='cuda:3')\n",
      "tensor(-0.0002, device='cuda:3')\n",
      "tensor(-3.8871e-09, device='cuda:3')\n",
      "tensor(-3.1931e-09, device='cuda:3')\n"
     ]
    },
    {
     "data": {
      "application/vnd.jupyter.widget-view+json": {
       "model_id": "e991087138ca4c81a471fc1e7eccc2c5",
       "version_major": 2,
       "version_minor": 0
      },
      "text/plain": [
       "HBox(children=(FloatProgress(value=0.0, max=17.0), HTML(value='')))"
      ]
     },
     "metadata": {},
     "output_type": "display_data"
    },
    {
     "name": "stdout",
     "output_type": "stream",
     "text": [
      "\n",
      "epoch time: 26.676029205322266\n",
      "loss train: 0.6171979190725269, loss val: 0.5737318308914409\n",
      "accuracy train: 0.7490476190476191, accuracy val: 0.7728571428571429\n",
      "---------------------------------------------------------------------------------------------------\n",
      "Epoch: 6, Learning Rate: 0.001\n",
      "\n"
     ]
    },
    {
     "data": {
      "application/vnd.jupyter.widget-view+json": {
       "model_id": "69682e08bdd64a3b8151c21380fee327",
       "version_major": 2,
       "version_minor": 0
      },
      "text/plain": [
       "HBox(children=(FloatProgress(value=0.0, max=132.0), HTML(value='')))"
      ]
     },
     "metadata": {},
     "output_type": "display_data"
    },
    {
     "name": "stdout",
     "output_type": "stream",
     "text": [
      "\n",
      "tensor(-0.0001, device='cuda:3')\n",
      "tensor(-1.4043e-05, device='cuda:3')\n",
      "tensor(-0.0034, device='cuda:3')\n",
      "tensor(-0.0034, device='cuda:3')\n",
      "tensor(-1.5478e-06, device='cuda:3')\n",
      "tensor(-9.4533e-07, device='cuda:3')\n",
      "tensor(-0.0002, device='cuda:3')\n",
      "tensor(-0.0002, device='cuda:3')\n",
      "tensor(5.3699e-08, device='cuda:3')\n",
      "tensor(2.6217e-06, device='cuda:3')\n",
      "tensor(5.6419e-05, device='cuda:3')\n",
      "tensor(5.6419e-05, device='cuda:3')\n",
      "tensor(-3.5678e-07, device='cuda:3')\n",
      "tensor(0., device='cuda:3')\n",
      "tensor(-8.8559e-05, device='cuda:3')\n",
      "tensor(-8.8559e-05, device='cuda:3')\n",
      "tensor(4.4987e-07, device='cuda:3')\n",
      "tensor(-0.0002, device='cuda:3')\n",
      "tensor(1.0930e-08, device='cuda:3')\n",
      "tensor(7.0958e-09, device='cuda:3')\n"
     ]
    },
    {
     "data": {
      "application/vnd.jupyter.widget-view+json": {
       "model_id": "e0351e1caee24760bb34b6563a963d54",
       "version_major": 2,
       "version_minor": 0
      },
      "text/plain": [
       "HBox(children=(FloatProgress(value=0.0, max=17.0), HTML(value='')))"
      ]
     },
     "metadata": {},
     "output_type": "display_data"
    },
    {
     "name": "stdout",
     "output_type": "stream",
     "text": [
      "\n",
      "epoch time: 27.0662682056427\n",
      "loss train: 0.555222721713962, loss val: 0.5196431927821216\n",
      "accuracy train: 0.7666666666666667, accuracy val: 0.7780952380952381\n",
      "---------------------------------------------------------------------------------------------------\n",
      "Epoch: 7, Learning Rate: 0.001\n",
      "\n"
     ]
    },
    {
     "data": {
      "application/vnd.jupyter.widget-view+json": {
       "model_id": "0b4dabd38c8e44829099c5f6efbc86cb",
       "version_major": 2,
       "version_minor": 0
      },
      "text/plain": [
       "HBox(children=(FloatProgress(value=0.0, max=132.0), HTML(value='')))"
      ]
     },
     "metadata": {},
     "output_type": "display_data"
    },
    {
     "name": "stdout",
     "output_type": "stream",
     "text": [
      "\n",
      "tensor(9.1729e-06, device='cuda:3')\n",
      "tensor(4.5984e-07, device='cuda:3')\n",
      "tensor(-0.0002, device='cuda:3')\n",
      "tensor(-0.0002, device='cuda:3')\n",
      "tensor(-2.2889e-06, device='cuda:3')\n",
      "tensor(2.7290e-08, device='cuda:3')\n",
      "tensor(2.0414e-05, device='cuda:3')\n",
      "tensor(2.0414e-05, device='cuda:3')\n",
      "tensor(-7.4379e-08, device='cuda:3')\n",
      "tensor(-4.1274e-08, device='cuda:3')\n",
      "tensor(5.3716e-06, device='cuda:3')\n",
      "tensor(5.3716e-06, device='cuda:3')\n",
      "tensor(5.9601e-08, device='cuda:3')\n",
      "tensor(0., device='cuda:3')\n",
      "tensor(3.3120e-05, device='cuda:3')\n",
      "tensor(3.3120e-05, device='cuda:3')\n",
      "tensor(3.2915e-06, device='cuda:3')\n",
      "tensor(0.0003, device='cuda:3')\n",
      "tensor(-8.0439e-10, device='cuda:3')\n",
      "tensor(-7.0958e-10, device='cuda:3')\n"
     ]
    },
    {
     "data": {
      "application/vnd.jupyter.widget-view+json": {
       "model_id": "d8dd2f40457a48c09267986d16524f80",
       "version_major": 2,
       "version_minor": 0
      },
      "text/plain": [
       "HBox(children=(FloatProgress(value=0.0, max=17.0), HTML(value='')))"
      ]
     },
     "metadata": {},
     "output_type": "display_data"
    },
    {
     "name": "stdout",
     "output_type": "stream",
     "text": [
      "\n",
      "epoch time: 27.5413715839386\n",
      "loss train: 0.5103840098688097, loss val: 0.5073874855742735\n",
      "accuracy train: 0.7814285714285715, accuracy val: 0.780952380952381\n",
      "---------------------------------------------------------------------------------------------------\n",
      "Epoch: 8, Learning Rate: 0.001\n",
      "\n"
     ]
    },
    {
     "data": {
      "application/vnd.jupyter.widget-view+json": {
       "model_id": "b284c2d1df5f4e65b7727448789d2e05",
       "version_major": 2,
       "version_minor": 0
      },
      "text/plain": [
       "HBox(children=(FloatProgress(value=0.0, max=132.0), HTML(value='')))"
      ]
     },
     "metadata": {},
     "output_type": "display_data"
    },
    {
     "name": "stdout",
     "output_type": "stream",
     "text": [
      "\n",
      "tensor(-8.3250e-07, device='cuda:3')\n",
      "tensor(-1.8642e-08, device='cuda:3')\n",
      "tensor(2.5150e-05, device='cuda:3')\n",
      "tensor(2.5150e-05, device='cuda:3')\n",
      "tensor(-1.1549e-06, device='cuda:3')\n",
      "tensor(1.3696e-08, device='cuda:3')\n",
      "tensor(-6.7155e-06, device='cuda:3')\n",
      "tensor(-6.7155e-06, device='cuda:3')\n",
      "tensor(-3.6245e-08, device='cuda:3')\n",
      "tensor(-7.0306e-08, device='cuda:3')\n",
      "tensor(-9.5614e-06, device='cuda:3')\n",
      "tensor(-9.5614e-06, device='cuda:3')\n",
      "tensor(-6.7896e-08, device='cuda:3')\n",
      "tensor(0., device='cuda:3')\n",
      "tensor(-7.8409e-06, device='cuda:3')\n",
      "tensor(-7.8409e-06, device='cuda:3')\n",
      "tensor(-4.1785e-07, device='cuda:3')\n",
      "tensor(-2.4021e-05, device='cuda:3')\n",
      "tensor(6.6045e-09, device='cuda:3')\n",
      "tensor(2.8383e-09, device='cuda:3')\n"
     ]
    },
    {
     "data": {
      "application/vnd.jupyter.widget-view+json": {
       "model_id": "d1f730ed6fae401ead42482a4f2a512b",
       "version_major": 2,
       "version_minor": 0
      },
      "text/plain": [
       "HBox(children=(FloatProgress(value=0.0, max=17.0), HTML(value='')))"
      ]
     },
     "metadata": {},
     "output_type": "display_data"
    },
    {
     "name": "stdout",
     "output_type": "stream",
     "text": [
      "\n",
      "epoch time: 27.00887966156006\n",
      "loss train: 0.4710175763025428, loss val: 0.462225360028884\n",
      "accuracy train: 0.7908333333333334, accuracy val: 0.7923809523809524\n",
      "---------------------------------------------------------------------------------------------------\n",
      "Epoch: 9, Learning Rate: 0.001\n",
      "\n"
     ]
    },
    {
     "data": {
      "application/vnd.jupyter.widget-view+json": {
       "model_id": "ad35060ca36746098210f5831271cb09",
       "version_major": 2,
       "version_minor": 0
      },
      "text/plain": [
       "HBox(children=(FloatProgress(value=0.0, max=132.0), HTML(value='')))"
      ]
     },
     "metadata": {},
     "output_type": "display_data"
    },
    {
     "name": "stdout",
     "output_type": "stream",
     "text": [
      "\n",
      "tensor(-5.7137e-05, device='cuda:3')\n",
      "tensor(4.3201e-06, device='cuda:3')\n",
      "tensor(-0.0013, device='cuda:3')\n",
      "tensor(-0.0013, device='cuda:3')\n",
      "tensor(1.1595e-06, device='cuda:3')\n",
      "tensor(-2.0085e-07, device='cuda:3')\n",
      "tensor(-4.0427e-05, device='cuda:3')\n",
      "tensor(-4.0427e-05, device='cuda:3')\n",
      "tensor(-2.1685e-08, device='cuda:3')\n",
      "tensor(1.0439e-08, device='cuda:3')\n",
      "tensor(1.4961e-05, device='cuda:3')\n",
      "tensor(1.4961e-05, device='cuda:3')\n",
      "tensor(2.3533e-08, device='cuda:3')\n",
      "tensor(0., device='cuda:3')\n",
      "tensor(-4.1808e-05, device='cuda:3')\n",
      "tensor(-4.1808e-05, device='cuda:3')\n",
      "tensor(-2.5011e-06, device='cuda:3')\n",
      "tensor(-0.0004, device='cuda:3')\n",
      "tensor(-1.9067e-09, device='cuda:3')\n",
      "tensor(-8.8697e-10, device='cuda:3')\n"
     ]
    },
    {
     "data": {
      "application/vnd.jupyter.widget-view+json": {
       "model_id": "a9b4d14b40c44fb1be77d9bbc3cd2d4a",
       "version_major": 2,
       "version_minor": 0
      },
      "text/plain": [
       "HBox(children=(FloatProgress(value=0.0, max=17.0), HTML(value='')))"
      ]
     },
     "metadata": {},
     "output_type": "display_data"
    },
    {
     "name": "stdout",
     "output_type": "stream",
     "text": [
      "\n",
      "epoch time: 26.702093362808228\n",
      "loss train: 0.42045828903263266, loss val: 0.42626086228034077\n",
      "accuracy train: 0.8060714285714285, accuracy val: 0.7995238095238095\n",
      "---------------------------------------------------------------------------------------------------\n",
      "Epoch: 10, Learning Rate: 0.001\n",
      "\n"
     ]
    },
    {
     "data": {
      "application/vnd.jupyter.widget-view+json": {
       "model_id": "7c82bb97bdff434da85b7e617ba79577",
       "version_major": 2,
       "version_minor": 0
      },
      "text/plain": [
       "HBox(children=(FloatProgress(value=0.0, max=132.0), HTML(value='')))"
      ]
     },
     "metadata": {},
     "output_type": "display_data"
    },
    {
     "name": "stdout",
     "output_type": "stream",
     "text": [
      "\n",
      "tensor(-0.0003, device='cuda:3')\n",
      "tensor(8.4540e-05, device='cuda:3')\n",
      "tensor(0.0124, device='cuda:3')\n",
      "tensor(0.0124, device='cuda:3')\n",
      "tensor(-1.7860e-05, device='cuda:3')\n",
      "tensor(1.2977e-06, device='cuda:3')\n",
      "tensor(0.0005, device='cuda:3')\n",
      "tensor(0.0005, device='cuda:3')\n",
      "tensor(-7.9760e-06, device='cuda:3')\n",
      "tensor(-1.9831e-06, device='cuda:3')\n",
      "tensor(-0.0011, device='cuda:3')\n",
      "tensor(-0.0011, device='cuda:3')\n",
      "tensor(1.9093e-06, device='cuda:3')\n",
      "tensor(0., device='cuda:3')\n",
      "tensor(0.0004, device='cuda:3')\n",
      "tensor(0.0004, device='cuda:3')\n",
      "tensor(1.8479e-05, device='cuda:3')\n",
      "tensor(0.0025, device='cuda:3')\n",
      "tensor(-1.2182e-09, device='cuda:3')\n",
      "tensor(-1.7739e-09, device='cuda:3')\n"
     ]
    },
    {
     "data": {
      "application/vnd.jupyter.widget-view+json": {
       "model_id": "ca1247d3876044c6926fb760397e7029",
       "version_major": 2,
       "version_minor": 0
      },
      "text/plain": [
       "HBox(children=(FloatProgress(value=0.0, max=17.0), HTML(value='')))"
      ]
     },
     "metadata": {},
     "output_type": "display_data"
    },
    {
     "name": "stdout",
     "output_type": "stream",
     "text": [
      "\n",
      "epoch time: 27.179413080215454\n",
      "loss train: 0.4731119071895426, loss val: 0.7004710541051977\n",
      "accuracy train: 0.7908333333333334, accuracy val: 0.7595238095238095\n",
      "---------------------------------------------------------------------------------------------------\n",
      "Epoch: 11, Learning Rate: 0.001\n",
      "\n"
     ]
    },
    {
     "data": {
      "application/vnd.jupyter.widget-view+json": {
       "model_id": "a610908e147c475ea3f88d75c9676c8f",
       "version_major": 2,
       "version_minor": 0
      },
      "text/plain": [
       "HBox(children=(FloatProgress(value=0.0, max=132.0), HTML(value='')))"
      ]
     },
     "metadata": {},
     "output_type": "display_data"
    },
    {
     "name": "stdout",
     "output_type": "stream",
     "text": [
      "\n",
      "tensor(-7.8558e-06, device='cuda:3')\n",
      "tensor(1.6677e-06, device='cuda:3')\n",
      "tensor(0.0003, device='cuda:3')\n",
      "tensor(0.0003, device='cuda:3')\n",
      "tensor(2.4917e-06, device='cuda:3')\n",
      "tensor(-2.7075e-09, device='cuda:3')\n",
      "tensor(-2.8516e-05, device='cuda:3')\n",
      "tensor(-2.8516e-05, device='cuda:3')\n",
      "tensor(-2.3155e-07, device='cuda:3')\n",
      "tensor(-1.7700e-06, device='cuda:3')\n",
      "tensor(-8.6387e-05, device='cuda:3')\n",
      "tensor(-8.6387e-05, device='cuda:3')\n",
      "tensor(2.1830e-09, device='cuda:3')\n",
      "tensor(0., device='cuda:3')\n",
      "tensor(-9.0475e-06, device='cuda:3')\n",
      "tensor(-9.0475e-06, device='cuda:3')\n",
      "tensor(1.6083e-06, device='cuda:3')\n",
      "tensor(9.8960e-05, device='cuda:3')\n",
      "tensor(4.6673e-09, device='cuda:3')\n",
      "tensor(2.4835e-09, device='cuda:3')\n"
     ]
    },
    {
     "data": {
      "application/vnd.jupyter.widget-view+json": {
       "model_id": "01847106b80e4241bd715bf80f2316b0",
       "version_major": 2,
       "version_minor": 0
      },
      "text/plain": [
       "HBox(children=(FloatProgress(value=0.0, max=17.0), HTML(value='')))"
      ]
     },
     "metadata": {},
     "output_type": "display_data"
    },
    {
     "name": "stdout",
     "output_type": "stream",
     "text": [
      "\n",
      "epoch time: 27.162970066070557\n",
      "loss train: 0.46726941215721046, loss val: 0.44378453843733845\n",
      "accuracy train: 0.7925, accuracy val: 0.7895238095238095\n",
      "---------------------------------------------------------------------------------------------------\n",
      "Epoch: 12, Learning Rate: 0.001\n",
      "\n"
     ]
    },
    {
     "data": {
      "application/vnd.jupyter.widget-view+json": {
       "model_id": "f8b2eb37f0254e79be49785b146d9543",
       "version_major": 2,
       "version_minor": 0
      },
      "text/plain": [
       "HBox(children=(FloatProgress(value=0.0, max=132.0), HTML(value='')))"
      ]
     },
     "metadata": {},
     "output_type": "display_data"
    },
    {
     "name": "stdout",
     "output_type": "stream",
     "text": [
      "\n",
      "tensor(-0.0003, device='cuda:3')\n",
      "tensor(0.0001, device='cuda:3')\n",
      "tensor(0.0389, device='cuda:3')\n",
      "tensor(0.0389, device='cuda:3')\n",
      "tensor(-0.0010, device='cuda:3')\n",
      "tensor(-6.6295e-05, device='cuda:3')\n",
      "tensor(0.0331, device='cuda:3')\n",
      "tensor(0.0331, device='cuda:3')\n",
      "tensor(-7.8555e-06, device='cuda:3')\n",
      "tensor(-5.5774e-05, device='cuda:3')\n",
      "tensor(-0.0031, device='cuda:3')\n",
      "tensor(-0.0031, device='cuda:3')\n",
      "tensor(1.2855e-06, device='cuda:3')\n",
      "tensor(0., device='cuda:3')\n",
      "tensor(0.0001, device='cuda:3')\n",
      "tensor(0.0001, device='cuda:3')\n",
      "tensor(3.3074e-05, device='cuda:3')\n",
      "tensor(0.0015, device='cuda:3')\n",
      "tensor(-3.8360e-09, device='cuda:3')\n",
      "tensor(-3.5479e-09, device='cuda:3')\n"
     ]
    },
    {
     "data": {
      "application/vnd.jupyter.widget-view+json": {
       "model_id": "6497139725304a91b95e44b07795d97a",
       "version_major": 2,
       "version_minor": 0
      },
      "text/plain": [
       "HBox(children=(FloatProgress(value=0.0, max=17.0), HTML(value='')))"
      ]
     },
     "metadata": {},
     "output_type": "display_data"
    },
    {
     "name": "stdout",
     "output_type": "stream",
     "text": [
      "\n",
      "epoch time: 27.05962085723877\n",
      "loss train: 0.4271160288516319, loss val: 0.6140236994799446\n",
      "accuracy train: 0.8004761904761905, accuracy val: 0.76\n",
      "---------------------------------------------------------------------------------------------------\n",
      "Epoch: 13, Learning Rate: 0.001\n",
      "\n"
     ]
    },
    {
     "data": {
      "application/vnd.jupyter.widget-view+json": {
       "model_id": "1234f598951848be8d754506fc80f261",
       "version_major": 2,
       "version_minor": 0
      },
      "text/plain": [
       "HBox(children=(FloatProgress(value=0.0, max=132.0), HTML(value='')))"
      ]
     },
     "metadata": {},
     "output_type": "display_data"
    },
    {
     "name": "stdout",
     "output_type": "stream",
     "text": [
      "\n",
      "tensor(-2.5554e-05, device='cuda:3')\n",
      "tensor(2.2901e-06, device='cuda:3')\n",
      "tensor(0.0009, device='cuda:3')\n",
      "tensor(0.0009, device='cuda:3')\n",
      "tensor(-4.0642e-06, device='cuda:3')\n",
      "tensor(6.3853e-07, device='cuda:3')\n",
      "tensor(-0.0001, device='cuda:3')\n",
      "tensor(-0.0001, device='cuda:3')\n",
      "tensor(-6.7214e-07, device='cuda:3')\n",
      "tensor(2.3221e-09, device='cuda:3')\n",
      "tensor(0.0002, device='cuda:3')\n",
      "tensor(0.0002, device='cuda:3')\n",
      "tensor(-1.1816e-08, device='cuda:3')\n",
      "tensor(0., device='cuda:3')\n",
      "tensor(-1.4065e-05, device='cuda:3')\n",
      "tensor(-1.4065e-05, device='cuda:3')\n",
      "tensor(-5.1168e-07, device='cuda:3')\n",
      "tensor(-5.9063e-05, device='cuda:3')\n",
      "tensor(-1.5298e-09, device='cuda:3')\n",
      "tensor(0., device='cuda:3')\n"
     ]
    },
    {
     "data": {
      "application/vnd.jupyter.widget-view+json": {
       "model_id": "7d03a5f785734f23a8ea1b38e7e75bfe",
       "version_major": 2,
       "version_minor": 0
      },
      "text/plain": [
       "HBox(children=(FloatProgress(value=0.0, max=17.0), HTML(value='')))"
      ]
     },
     "metadata": {},
     "output_type": "display_data"
    },
    {
     "name": "stdout",
     "output_type": "stream",
     "text": [
      "\n",
      "epoch time: 27.275721311569214\n",
      "loss train: 0.5388442893145662, loss val: 0.45429559665567737\n",
      "accuracy train: 0.7717857142857143, accuracy val: 0.789047619047619\n",
      "---------------------------------------------------------------------------------------------------\n",
      "Epoch: 14, Learning Rate: 0.001\n",
      "\n"
     ]
    },
    {
     "data": {
      "application/vnd.jupyter.widget-view+json": {
       "model_id": "8ef2f19f624a40f9b441ae6a5732f9eb",
       "version_major": 2,
       "version_minor": 0
      },
      "text/plain": [
       "HBox(children=(FloatProgress(value=0.0, max=132.0), HTML(value='')))"
      ]
     },
     "metadata": {},
     "output_type": "display_data"
    },
    {
     "name": "stdout",
     "output_type": "stream",
     "text": [
      "\n",
      "tensor(5.1748e-05, device='cuda:3')\n",
      "tensor(-4.6474e-06, device='cuda:3')\n",
      "tensor(0.0036, device='cuda:3')\n",
      "tensor(0.0036, device='cuda:3')\n",
      "tensor(2.8769e-06, device='cuda:3')\n",
      "tensor(-5.6237e-07, device='cuda:3')\n",
      "tensor(0.0008, device='cuda:3')\n",
      "tensor(0.0008, device='cuda:3')\n",
      "tensor(-2.3130e-07, device='cuda:3')\n",
      "tensor(-2.2550e-06, device='cuda:3')\n",
      "tensor(0.0005, device='cuda:3')\n",
      "tensor(0.0005, device='cuda:3')\n",
      "tensor(-1.0968e-06, device='cuda:3')\n",
      "tensor(0., device='cuda:3')\n",
      "tensor(0.0003, device='cuda:3')\n",
      "tensor(0.0003, device='cuda:3')\n",
      "tensor(1.1359e-05, device='cuda:3')\n",
      "tensor(0.0015, device='cuda:3')\n",
      "tensor(6.9800e-09, device='cuda:3')\n",
      "tensor(3.9027e-09, device='cuda:3')\n"
     ]
    },
    {
     "data": {
      "application/vnd.jupyter.widget-view+json": {
       "model_id": "d00a649f10a64d1babb00f7f0cfc2d30",
       "version_major": 2,
       "version_minor": 0
      },
      "text/plain": [
       "HBox(children=(FloatProgress(value=0.0, max=17.0), HTML(value='')))"
      ]
     },
     "metadata": {},
     "output_type": "display_data"
    },
    {
     "name": "stdout",
     "output_type": "stream",
     "text": [
      "\n",
      "epoch time: 26.85012197494507\n",
      "loss train: 0.455697120703531, loss val: 0.4416574625407948\n",
      "accuracy train: 0.7952380952380952, accuracy val: 0.7885714285714286\n",
      "---------------------------------------------------------------------------------------------------\n",
      "Epoch: 15, Learning Rate: 0.001\n",
      "\n"
     ]
    },
    {
     "data": {
      "application/vnd.jupyter.widget-view+json": {
       "model_id": "4f1969d8b9be4a0da6f1c2f1f46a1a07",
       "version_major": 2,
       "version_minor": 0
      },
      "text/plain": [
       "HBox(children=(FloatProgress(value=0.0, max=132.0), HTML(value='')))"
      ]
     },
     "metadata": {},
     "output_type": "display_data"
    },
    {
     "name": "stdout",
     "output_type": "stream",
     "text": [
      "\n",
      "tensor(-1.8974e-05, device='cuda:3')\n",
      "tensor(-6.0300e-06, device='cuda:3')\n",
      "tensor(-0.0008, device='cuda:3')\n",
      "tensor(-0.0008, device='cuda:3')\n",
      "tensor(6.8375e-06, device='cuda:3')\n",
      "tensor(1.6003e-07, device='cuda:3')\n",
      "tensor(-2.0216e-05, device='cuda:3')\n",
      "tensor(-2.0216e-05, device='cuda:3')\n",
      "tensor(5.8505e-08, device='cuda:3')\n",
      "tensor(-1.3851e-06, device='cuda:3')\n",
      "tensor(5.6576e-05, device='cuda:3')\n",
      "tensor(5.6576e-05, device='cuda:3')\n",
      "tensor(1.0094e-07, device='cuda:3')\n",
      "tensor(0., device='cuda:3')\n",
      "tensor(-2.7246e-06, device='cuda:3')\n",
      "tensor(-2.7246e-06, device='cuda:3')\n",
      "tensor(1.8452e-06, device='cuda:3')\n",
      "tensor(-0.0003, device='cuda:3')\n",
      "tensor(5.7397e-09, device='cuda:3')\n",
      "tensor(3.5479e-09, device='cuda:3')\n"
     ]
    },
    {
     "data": {
      "application/vnd.jupyter.widget-view+json": {
       "model_id": "25346fde35d24123a752dcf4bd639398",
       "version_major": 2,
       "version_minor": 0
      },
      "text/plain": [
       "HBox(children=(FloatProgress(value=0.0, max=17.0), HTML(value='')))"
      ]
     },
     "metadata": {},
     "output_type": "display_data"
    },
    {
     "name": "stdout",
     "output_type": "stream",
     "text": [
      "\n",
      "epoch time: 27.046119451522827\n",
      "loss train: 0.43069090818365413, loss val: 0.44550232501590953\n",
      "accuracy train: 0.7958333333333333, accuracy val: 0.7885714285714286\n",
      "---------------------------------------------------------------------------------------------------\n",
      "Epoch: 16, Learning Rate: 0.001\n",
      "\n"
     ]
    },
    {
     "data": {
      "application/vnd.jupyter.widget-view+json": {
       "model_id": "cbb5cc893d7a4688987c2a645668147b",
       "version_major": 2,
       "version_minor": 0
      },
      "text/plain": [
       "HBox(children=(FloatProgress(value=0.0, max=132.0), HTML(value='')))"
      ]
     },
     "metadata": {},
     "output_type": "display_data"
    },
    {
     "name": "stdout",
     "output_type": "stream",
     "text": [
      "\n",
      "tensor(-4.7477e-06, device='cuda:3')\n",
      "tensor(-7.7262e-07, device='cuda:3')\n",
      "tensor(7.1757e-06, device='cuda:3')\n",
      "tensor(7.1757e-06, device='cuda:3')\n",
      "tensor(6.2474e-07, device='cuda:3')\n",
      "tensor(-1.9618e-08, device='cuda:3')\n",
      "tensor(-1.8186e-05, device='cuda:3')\n",
      "tensor(-1.8186e-05, device='cuda:3')\n",
      "tensor(-5.2432e-08, device='cuda:3')\n",
      "tensor(1.1419e-07, device='cuda:3')\n",
      "tensor(1.4933e-06, device='cuda:3')\n",
      "tensor(1.4933e-06, device='cuda:3')\n",
      "tensor(9.2100e-08, device='cuda:3')\n",
      "tensor(0., device='cuda:3')\n",
      "tensor(6.6617e-07, device='cuda:3')\n",
      "tensor(6.6617e-07, device='cuda:3')\n",
      "tensor(2.1745e-06, device='cuda:3')\n",
      "tensor(-0.0001, device='cuda:3')\n",
      "tensor(4.3466e-09, device='cuda:3')\n",
      "tensor(1.5966e-09, device='cuda:3')\n"
     ]
    },
    {
     "data": {
      "application/vnd.jupyter.widget-view+json": {
       "model_id": "dec741959cd1484290e795a14f29db4c",
       "version_major": 2,
       "version_minor": 0
      },
      "text/plain": [
       "HBox(children=(FloatProgress(value=0.0, max=17.0), HTML(value='')))"
      ]
     },
     "metadata": {},
     "output_type": "display_data"
    },
    {
     "name": "stdout",
     "output_type": "stream",
     "text": [
      "\n",
      "epoch time: 26.162222385406494\n",
      "loss train: 0.39118838840813347, loss val: 0.4222556703230914\n",
      "accuracy train: 0.8086904761904762, accuracy val: 0.8061904761904762\n",
      "---------------------------------------------------------------------------------------------------\n",
      "Epoch: 17, Learning Rate: 0.001\n",
      "\n"
     ]
    },
    {
     "data": {
      "application/vnd.jupyter.widget-view+json": {
       "model_id": "bf86113687f943119390844adc18b8d6",
       "version_major": 2,
       "version_minor": 0
      },
      "text/plain": [
       "HBox(children=(FloatProgress(value=0.0, max=132.0), HTML(value='')))"
      ]
     },
     "metadata": {},
     "output_type": "display_data"
    },
    {
     "name": "stdout",
     "output_type": "stream",
     "text": [
      "\n",
      "tensor(1.3017e-05, device='cuda:3')\n",
      "tensor(2.6089e-06, device='cuda:3')\n",
      "tensor(-0.0013, device='cuda:3')\n",
      "tensor(-0.0013, device='cuda:3')\n",
      "tensor(6.0522e-06, device='cuda:3')\n",
      "tensor(1.0489e-06, device='cuda:3')\n",
      "tensor(-0.0001, device='cuda:3')\n",
      "tensor(-0.0001, device='cuda:3')\n",
      "tensor(-7.5624e-07, device='cuda:3')\n",
      "tensor(-5.5110e-06, device='cuda:3')\n",
      "tensor(0.0001, device='cuda:3')\n",
      "tensor(0.0001, device='cuda:3')\n",
      "tensor(-3.6057e-07, device='cuda:3')\n",
      "tensor(0., device='cuda:3')\n",
      "tensor(-0.0001, device='cuda:3')\n",
      "tensor(-0.0001, device='cuda:3')\n",
      "tensor(1.0235e-05, device='cuda:3')\n",
      "tensor(-0.0010, device='cuda:3')\n",
      "tensor(2.4327e-09, device='cuda:3')\n",
      "tensor(0., device='cuda:3')\n"
     ]
    },
    {
     "data": {
      "application/vnd.jupyter.widget-view+json": {
       "model_id": "3e99b414be9247419119f4377f37d9aa",
       "version_major": 2,
       "version_minor": 0
      },
      "text/plain": [
       "HBox(children=(FloatProgress(value=0.0, max=17.0), HTML(value='')))"
      ]
     },
     "metadata": {},
     "output_type": "display_data"
    },
    {
     "name": "stdout",
     "output_type": "stream",
     "text": [
      "\n",
      "epoch time: 26.390228271484375\n",
      "loss train: 0.42597788786797813, loss val: 0.44182026210953207\n",
      "accuracy train: 0.8075, accuracy val: 0.8004761904761905\n",
      "---------------------------------------------------------------------------------------------------\n",
      "Epoch: 18, Learning Rate: 0.001\n",
      "\n"
     ]
    },
    {
     "data": {
      "application/vnd.jupyter.widget-view+json": {
       "model_id": "c8da794ab46a49fa8a3a4eba2f1b78c8",
       "version_major": 2,
       "version_minor": 0
      },
      "text/plain": [
       "HBox(children=(FloatProgress(value=0.0, max=132.0), HTML(value='')))"
      ]
     },
     "metadata": {},
     "output_type": "display_data"
    },
    {
     "name": "stdout",
     "output_type": "stream",
     "text": [
      "\n",
      "tensor(-3.1485e-06, device='cuda:3')\n",
      "tensor(-2.4487e-07, device='cuda:3')\n",
      "tensor(0.0002, device='cuda:3')\n",
      "tensor(0.0002, device='cuda:3')\n",
      "tensor(-1.9387e-06, device='cuda:3')\n",
      "tensor(-4.2029e-08, device='cuda:3')\n",
      "tensor(1.5614e-05, device='cuda:3')\n",
      "tensor(1.5614e-05, device='cuda:3')\n",
      "tensor(-2.1127e-08, device='cuda:3')\n",
      "tensor(3.1877e-07, device='cuda:3')\n",
      "tensor(-8.7254e-06, device='cuda:3')\n",
      "tensor(-8.7254e-06, device='cuda:3')\n",
      "tensor(1.3920e-08, device='cuda:3')\n",
      "tensor(0., device='cuda:3')\n",
      "tensor(-2.0261e-06, device='cuda:3')\n",
      "tensor(-2.0261e-06, device='cuda:3')\n",
      "tensor(-9.9789e-07, device='cuda:3')\n",
      "tensor(-2.8249e-05, device='cuda:3')\n",
      "tensor(5.0077e-09, device='cuda:3')\n",
      "tensor(2.9270e-09, device='cuda:3')\n"
     ]
    },
    {
     "data": {
      "application/vnd.jupyter.widget-view+json": {
       "model_id": "765303763e9d4691b6ea3cd72f418d15",
       "version_major": 2,
       "version_minor": 0
      },
      "text/plain": [
       "HBox(children=(FloatProgress(value=0.0, max=17.0), HTML(value='')))"
      ]
     },
     "metadata": {},
     "output_type": "display_data"
    },
    {
     "name": "stdout",
     "output_type": "stream",
     "text": [
      "\n",
      "epoch time: 26.161284923553467\n",
      "loss train: 0.371030075080467, loss val: 0.41555187632055846\n",
      "accuracy train: 0.8184523809523809, accuracy val: 0.8085714285714286\n",
      "---------------------------------------------------------------------------------------------------\n",
      "Epoch: 19, Learning Rate: 0.001\n",
      "\n"
     ]
    },
    {
     "data": {
      "application/vnd.jupyter.widget-view+json": {
       "model_id": "cf10c443b6a64f1584438a3c3331f2dc",
       "version_major": 2,
       "version_minor": 0
      },
      "text/plain": [
       "HBox(children=(FloatProgress(value=0.0, max=132.0), HTML(value='')))"
      ]
     },
     "metadata": {},
     "output_type": "display_data"
    },
    {
     "name": "stdout",
     "output_type": "stream",
     "text": [
      "\n",
      "tensor(-9.4594e-06, device='cuda:3')\n",
      "tensor(-8.9319e-07, device='cuda:3')\n",
      "tensor(0.0003, device='cuda:3')\n",
      "tensor(0.0003, device='cuda:3')\n",
      "tensor(-1.3667e-06, device='cuda:3')\n",
      "tensor(-3.3783e-08, device='cuda:3')\n",
      "tensor(-3.8422e-06, device='cuda:3')\n",
      "tensor(-3.8422e-06, device='cuda:3')\n",
      "tensor(3.2579e-08, device='cuda:3')\n",
      "tensor(4.1520e-07, device='cuda:3')\n",
      "tensor(-1.5856e-05, device='cuda:3')\n",
      "tensor(-1.5856e-05, device='cuda:3')\n",
      "tensor(-1.4764e-07, device='cuda:3')\n",
      "tensor(0., device='cuda:3')\n",
      "tensor(1.4490e-05, device='cuda:3')\n",
      "tensor(1.4490e-05, device='cuda:3')\n",
      "tensor(9.0966e-07, device='cuda:3')\n",
      "tensor(-1.7597e-05, device='cuda:3')\n",
      "tensor(3.9449e-09, device='cuda:3')\n",
      "tensor(2.7607e-09, device='cuda:3')\n"
     ]
    },
    {
     "data": {
      "application/vnd.jupyter.widget-view+json": {
       "model_id": "e2dddea463fe4fda8b74f22c09d4dbec",
       "version_major": 2,
       "version_minor": 0
      },
      "text/plain": [
       "HBox(children=(FloatProgress(value=0.0, max=17.0), HTML(value='')))"
      ]
     },
     "metadata": {},
     "output_type": "display_data"
    },
    {
     "name": "stdout",
     "output_type": "stream",
     "text": [
      "\n",
      "epoch time: 26.472979307174683\n",
      "loss train: 0.3584535862460281, loss val: 0.422571681878146\n",
      "accuracy train: 0.8219047619047619, accuracy val: 0.8\n",
      "---------------------------------------------------------------------------------------------------\n",
      "Epoch: 20, Learning Rate: 0.001\n",
      "\n"
     ]
    },
    {
     "data": {
      "application/vnd.jupyter.widget-view+json": {
       "model_id": "ab43bf6173424dfea34f1114494d3f86",
       "version_major": 2,
       "version_minor": 0
      },
      "text/plain": [
       "HBox(children=(FloatProgress(value=0.0, max=132.0), HTML(value='')))"
      ]
     },
     "metadata": {},
     "output_type": "display_data"
    },
    {
     "name": "stdout",
     "output_type": "stream",
     "text": [
      "\n",
      "tensor(-6.0913e-06, device='cuda:3')\n",
      "tensor(4.5277e-07, device='cuda:3')\n",
      "tensor(-0.0002, device='cuda:3')\n",
      "tensor(-0.0002, device='cuda:3')\n",
      "tensor(-1.1870e-06, device='cuda:3')\n",
      "tensor(2.4582e-09, device='cuda:3')\n",
      "tensor(-3.6890e-05, device='cuda:3')\n",
      "tensor(-3.6890e-05, device='cuda:3')\n",
      "tensor(1.9127e-08, device='cuda:3')\n",
      "tensor(1.3777e-07, device='cuda:3')\n",
      "tensor(-1.2767e-05, device='cuda:3')\n",
      "tensor(-1.2767e-05, device='cuda:3')\n",
      "tensor(-2.6942e-08, device='cuda:3')\n",
      "tensor(0., device='cuda:3')\n",
      "tensor(-3.1336e-05, device='cuda:3')\n",
      "tensor(-3.1336e-05, device='cuda:3')\n",
      "tensor(3.0622e-07, device='cuda:3')\n",
      "tensor(-0.0002, device='cuda:3')\n",
      "tensor(-5.0794e-10, device='cuda:3')\n",
      "tensor(-1.0644e-09, device='cuda:3')\n"
     ]
    },
    {
     "data": {
      "application/vnd.jupyter.widget-view+json": {
       "model_id": "dfb4724fc6d849a3985d9bf6324b388d",
       "version_major": 2,
       "version_minor": 0
      },
      "text/plain": [
       "HBox(children=(FloatProgress(value=0.0, max=17.0), HTML(value='')))"
      ]
     },
     "metadata": {},
     "output_type": "display_data"
    },
    {
     "name": "stdout",
     "output_type": "stream",
     "text": [
      "\n",
      "epoch time: 26.878741025924683\n",
      "loss train: 0.39415178820490837, loss val: 0.3861515066202949\n",
      "accuracy train: 0.8142857142857143, accuracy val: 0.8157142857142857\n",
      "---------------------------------------------------------------------------------------------------\n",
      "Epoch: 21, Learning Rate: 0.001\n",
      "\n"
     ]
    },
    {
     "data": {
      "application/vnd.jupyter.widget-view+json": {
       "model_id": "b1ca0802a5ff40c3bcd885a9eb8230c0",
       "version_major": 2,
       "version_minor": 0
      },
      "text/plain": [
       "HBox(children=(FloatProgress(value=0.0, max=132.0), HTML(value='')))"
      ]
     },
     "metadata": {},
     "output_type": "display_data"
    },
    {
     "name": "stdout",
     "output_type": "stream",
     "text": [
      "\n",
      "tensor(3.1367e-06, device='cuda:3')\n",
      "tensor(-1.2199e-07, device='cuda:3')\n",
      "tensor(-4.2266e-06, device='cuda:3')\n",
      "tensor(-4.2266e-06, device='cuda:3')\n",
      "tensor(-4.7641e-07, device='cuda:3')\n",
      "tensor(-2.5752e-10, device='cuda:3')\n",
      "tensor(-1.1641e-05, device='cuda:3')\n",
      "tensor(-1.1641e-05, device='cuda:3')\n",
      "tensor(-5.8390e-09, device='cuda:3')\n",
      "tensor(5.5534e-08, device='cuda:3')\n",
      "tensor(-1.1825e-05, device='cuda:3')\n",
      "tensor(-1.1825e-05, device='cuda:3')\n",
      "tensor(-2.0782e-08, device='cuda:3')\n",
      "tensor(0., device='cuda:3')\n",
      "tensor(-1.4676e-06, device='cuda:3')\n",
      "tensor(-1.4676e-06, device='cuda:3')\n",
      "tensor(3.6576e-08, device='cuda:3')\n",
      "tensor(7.6748e-05, device='cuda:3')\n",
      "tensor(3.9570e-09, device='cuda:3')\n",
      "tensor(2.8383e-09, device='cuda:3')\n"
     ]
    },
    {
     "data": {
      "application/vnd.jupyter.widget-view+json": {
       "model_id": "98ed7cfee9774afc84fc2a586c745348",
       "version_major": 2,
       "version_minor": 0
      },
      "text/plain": [
       "HBox(children=(FloatProgress(value=0.0, max=17.0), HTML(value='')))"
      ]
     },
     "metadata": {},
     "output_type": "display_data"
    },
    {
     "name": "stdout",
     "output_type": "stream",
     "text": [
      "\n",
      "epoch time: 27.034717321395874\n",
      "loss train: 0.3497113509837425, loss val: 0.4189979556728812\n",
      "accuracy train: 0.8271428571428572, accuracy val: 0.8157142857142857\n",
      "---------------------------------------------------------------------------------------------------\n",
      "Epoch: 22, Learning Rate: 0.001\n",
      "\n"
     ]
    },
    {
     "data": {
      "application/vnd.jupyter.widget-view+json": {
       "model_id": "c87670afefbf468b946a2de4784955f6",
       "version_major": 2,
       "version_minor": 0
      },
      "text/plain": [
       "HBox(children=(FloatProgress(value=0.0, max=132.0), HTML(value='')))"
      ]
     },
     "metadata": {},
     "output_type": "display_data"
    },
    {
     "name": "stdout",
     "output_type": "stream",
     "text": [
      "\n",
      "tensor(2.0358e-05, device='cuda:3')\n",
      "tensor(-1.2167e-06, device='cuda:3')\n",
      "tensor(-0.0005, device='cuda:3')\n",
      "tensor(-0.0005, device='cuda:3')\n",
      "tensor(-2.6169e-06, device='cuda:3')\n",
      "tensor(4.1458e-08, device='cuda:3')\n",
      "tensor(9.5875e-06, device='cuda:3')\n",
      "tensor(9.5875e-06, device='cuda:3')\n",
      "tensor(1.9671e-07, device='cuda:3')\n",
      "tensor(-4.2523e-07, device='cuda:3')\n",
      "tensor(1.1887e-05, device='cuda:3')\n",
      "tensor(1.1887e-05, device='cuda:3')\n",
      "tensor(-8.5393e-08, device='cuda:3')\n",
      "tensor(0., device='cuda:3')\n",
      "tensor(-1.6342e-05, device='cuda:3')\n",
      "tensor(-1.6342e-05, device='cuda:3')\n",
      "tensor(1.1300e-06, device='cuda:3')\n",
      "tensor(-0.0002, device='cuda:3')\n",
      "tensor(3.1720e-09, device='cuda:3')\n",
      "tensor(3.1931e-09, device='cuda:3')\n"
     ]
    },
    {
     "data": {
      "application/vnd.jupyter.widget-view+json": {
       "model_id": "4f7618bd966843a68e7e479f29898716",
       "version_major": 2,
       "version_minor": 0
      },
      "text/plain": [
       "HBox(children=(FloatProgress(value=0.0, max=17.0), HTML(value='')))"
      ]
     },
     "metadata": {},
     "output_type": "display_data"
    },
    {
     "name": "stdout",
     "output_type": "stream",
     "text": [
      "\n",
      "epoch time: 26.561493158340454\n",
      "loss train: 0.3433191856990258, loss val: 0.3759419760283302\n",
      "accuracy train: 0.8258333333333333, accuracy val: 0.8095238095238095\n",
      "---------------------------------------------------------------------------------------------------\n",
      "Epoch: 23, Learning Rate: 0.001\n",
      "\n"
     ]
    },
    {
     "data": {
      "application/vnd.jupyter.widget-view+json": {
       "model_id": "6d7e134501aa42e3ac374eb64d24423f",
       "version_major": 2,
       "version_minor": 0
      },
      "text/plain": [
       "HBox(children=(FloatProgress(value=0.0, max=132.0), HTML(value='')))"
      ]
     },
     "metadata": {},
     "output_type": "display_data"
    },
    {
     "name": "stdout",
     "output_type": "stream",
     "text": [
      "\n",
      "tensor(8.8005e-06, device='cuda:3')\n",
      "tensor(-1.9277e-07, device='cuda:3')\n",
      "tensor(-0.0002, device='cuda:3')\n",
      "tensor(-0.0002, device='cuda:3')\n",
      "tensor(6.5431e-07, device='cuda:3')\n",
      "tensor(1.1732e-08, device='cuda:3')\n",
      "tensor(-1.7978e-05, device='cuda:3')\n",
      "tensor(-1.7978e-05, device='cuda:3')\n",
      "tensor(7.5783e-10, device='cuda:3')\n",
      "tensor(-9.2592e-08, device='cuda:3')\n",
      "tensor(2.0426e-05, device='cuda:3')\n",
      "tensor(2.0426e-05, device='cuda:3')\n",
      "tensor(4.2492e-08, device='cuda:3')\n",
      "tensor(0., device='cuda:3')\n",
      "tensor(-1.7036e-05, device='cuda:3')\n",
      "tensor(-1.7036e-05, device='cuda:3')\n",
      "tensor(-2.2752e-07, device='cuda:3')\n",
      "tensor(-6.7820e-05, device='cuda:3')\n",
      "tensor(4.4722e-09, device='cuda:3')\n",
      "tensor(2.8383e-09, device='cuda:3')\n"
     ]
    },
    {
     "data": {
      "application/vnd.jupyter.widget-view+json": {
       "model_id": "bee3d69bc5464db09d00810d49465d69",
       "version_major": 2,
       "version_minor": 0
      },
      "text/plain": [
       "HBox(children=(FloatProgress(value=0.0, max=17.0), HTML(value='')))"
      ]
     },
     "metadata": {},
     "output_type": "display_data"
    },
    {
     "name": "stdout",
     "output_type": "stream",
     "text": [
      "\n",
      "epoch time: 26.26235294342041\n",
      "loss train: 0.33960907590208633, loss val: 0.3953782127184026\n",
      "accuracy train: 0.8313095238095238, accuracy val: 0.8161904761904762\n",
      "---------------------------------------------------------------------------------------------------\n",
      "Epoch: 24, Learning Rate: 0.001\n",
      "\n"
     ]
    },
    {
     "data": {
      "application/vnd.jupyter.widget-view+json": {
       "model_id": "78cdd10b71e54056b55f4bc3b3486fa7",
       "version_major": 2,
       "version_minor": 0
      },
      "text/plain": [
       "HBox(children=(FloatProgress(value=0.0, max=132.0), HTML(value='')))"
      ]
     },
     "metadata": {},
     "output_type": "display_data"
    },
    {
     "name": "stdout",
     "output_type": "stream",
     "text": [
      "\n",
      "tensor(-2.8673e-05, device='cuda:3')\n",
      "tensor(9.0367e-06, device='cuda:3')\n",
      "tensor(0.0003, device='cuda:3')\n",
      "tensor(0.0003, device='cuda:3')\n",
      "tensor(-2.2984e-06, device='cuda:3')\n",
      "tensor(-6.1315e-07, device='cuda:3')\n",
      "tensor(2.3540e-05, device='cuda:3')\n",
      "tensor(2.3540e-05, device='cuda:3')\n",
      "tensor(7.3640e-07, device='cuda:3')\n",
      "tensor(1.5962e-06, device='cuda:3')\n",
      "tensor(-5.6970e-05, device='cuda:3')\n",
      "tensor(-5.6970e-05, device='cuda:3')\n",
      "tensor(-5.1036e-07, device='cuda:3')\n",
      "tensor(0., device='cuda:3')\n",
      "tensor(-2.9395e-05, device='cuda:3')\n",
      "tensor(-2.9395e-05, device='cuda:3')\n",
      "tensor(-3.0117e-06, device='cuda:3')\n",
      "tensor(0.0006, device='cuda:3')\n",
      "tensor(5.1403e-09, device='cuda:3')\n",
      "tensor(3.1931e-09, device='cuda:3')\n"
     ]
    },
    {
     "data": {
      "application/vnd.jupyter.widget-view+json": {
       "model_id": "86e29d96966946c58d73a71e578a628c",
       "version_major": 2,
       "version_minor": 0
      },
      "text/plain": [
       "HBox(children=(FloatProgress(value=0.0, max=17.0), HTML(value='')))"
      ]
     },
     "metadata": {},
     "output_type": "display_data"
    },
    {
     "name": "stdout",
     "output_type": "stream",
     "text": [
      "\n",
      "epoch time: 26.477845668792725\n",
      "loss train: 0.3273343894292008, loss val: 0.362291635835872\n",
      "accuracy train: 0.8382142857142857, accuracy val: 0.8271428571428572\n",
      "---------------------------------------------------------------------------------------------------\n",
      "Epoch: 25, Learning Rate: 0.001\n",
      "\n"
     ]
    },
    {
     "data": {
      "application/vnd.jupyter.widget-view+json": {
       "model_id": "9420b56f325b4d729fdeb59f0019b60f",
       "version_major": 2,
       "version_minor": 0
      },
      "text/plain": [
       "HBox(children=(FloatProgress(value=0.0, max=132.0), HTML(value='')))"
      ]
     },
     "metadata": {},
     "output_type": "display_data"
    },
    {
     "name": "stdout",
     "output_type": "stream",
     "text": [
      "\n",
      "tensor(-1.9651e-05, device='cuda:3')\n",
      "tensor(9.8091e-07, device='cuda:3')\n",
      "tensor(-0.0003, device='cuda:3')\n",
      "tensor(-0.0003, device='cuda:3')\n",
      "tensor(6.5045e-07, device='cuda:3')\n",
      "tensor(8.4149e-09, device='cuda:3')\n",
      "tensor(-1.8098e-06, device='cuda:3')\n",
      "tensor(-1.8098e-06, device='cuda:3')\n",
      "tensor(-7.2508e-08, device='cuda:3')\n",
      "tensor(-2.5315e-07, device='cuda:3')\n",
      "tensor(1.0999e-05, device='cuda:3')\n",
      "tensor(1.0999e-05, device='cuda:3')\n",
      "tensor(5.2265e-09, device='cuda:3')\n",
      "tensor(0., device='cuda:3')\n",
      "tensor(2.5336e-06, device='cuda:3')\n",
      "tensor(2.5336e-06, device='cuda:3')\n",
      "tensor(4.4776e-09, device='cuda:3')\n",
      "tensor(-0.0001, device='cuda:3')\n",
      "tensor(3.4579e-09, device='cuda:3')\n",
      "tensor(2.6609e-09, device='cuda:3')\n"
     ]
    },
    {
     "data": {
      "application/vnd.jupyter.widget-view+json": {
       "model_id": "bdbd1483d40d4f0cb454146b0327cc6a",
       "version_major": 2,
       "version_minor": 0
      },
      "text/plain": [
       "HBox(children=(FloatProgress(value=0.0, max=17.0), HTML(value='')))"
      ]
     },
     "metadata": {},
     "output_type": "display_data"
    },
    {
     "name": "stdout",
     "output_type": "stream",
     "text": [
      "\n",
      "epoch time: 27.007983446121216\n",
      "loss train: 0.3198613491699551, loss val: 0.3606369285022511\n",
      "accuracy train: 0.8410714285714286, accuracy val: 0.8338095238095238\n",
      "---------------------------------------------------------------------------------------------------\n",
      "Epoch: 26, Learning Rate: 0.001\n",
      "\n"
     ]
    },
    {
     "data": {
      "application/vnd.jupyter.widget-view+json": {
       "model_id": "0cf7063a142b434f8bcdb7c7ee370079",
       "version_major": 2,
       "version_minor": 0
      },
      "text/plain": [
       "HBox(children=(FloatProgress(value=0.0, max=132.0), HTML(value='')))"
      ]
     },
     "metadata": {},
     "output_type": "display_data"
    },
    {
     "name": "stdout",
     "output_type": "stream",
     "text": [
      "\n",
      "tensor(-2.7346e-06, device='cuda:3')\n",
      "tensor(9.5273e-08, device='cuda:3')\n",
      "tensor(0.0002, device='cuda:3')\n",
      "tensor(0.0002, device='cuda:3')\n",
      "tensor(-3.5063e-07, device='cuda:3')\n",
      "tensor(-8.0113e-09, device='cuda:3')\n",
      "tensor(4.8632e-07, device='cuda:3')\n",
      "tensor(4.8632e-07, device='cuda:3')\n",
      "tensor(-2.0087e-08, device='cuda:3')\n",
      "tensor(3.9260e-08, device='cuda:3')\n",
      "tensor(-9.2712e-06, device='cuda:3')\n",
      "tensor(-9.2712e-06, device='cuda:3')\n",
      "tensor(8.2880e-09, device='cuda:3')\n",
      "tensor(0., device='cuda:3')\n",
      "tensor(-6.3621e-06, device='cuda:3')\n",
      "tensor(-6.3621e-06, device='cuda:3')\n",
      "tensor(8.5926e-07, device='cuda:3')\n",
      "tensor(-3.4457e-05, device='cuda:3')\n",
      "tensor(3.9033e-09, device='cuda:3')\n",
      "tensor(-7.0958e-10, device='cuda:3')\n"
     ]
    },
    {
     "data": {
      "application/vnd.jupyter.widget-view+json": {
       "model_id": "14c41ea0a37e4c81a3a5d496daa7c03a",
       "version_major": 2,
       "version_minor": 0
      },
      "text/plain": [
       "HBox(children=(FloatProgress(value=0.0, max=17.0), HTML(value='')))"
      ]
     },
     "metadata": {},
     "output_type": "display_data"
    },
    {
     "name": "stdout",
     "output_type": "stream",
     "text": [
      "\n",
      "epoch time: 26.603156089782715\n",
      "loss train: 0.32033996955689154, loss val: 0.3929840221124537\n",
      "accuracy train: 0.8394047619047619, accuracy val: 0.8219047619047619\n",
      "---------------------------------------------------------------------------------------------------\n",
      "Epoch: 27, Learning Rate: 0.001\n",
      "\n"
     ]
    },
    {
     "data": {
      "application/vnd.jupyter.widget-view+json": {
       "model_id": "2ee51778ad994c8c97f06bd3e7476046",
       "version_major": 2,
       "version_minor": 0
      },
      "text/plain": [
       "HBox(children=(FloatProgress(value=0.0, max=132.0), HTML(value='')))"
      ]
     },
     "metadata": {},
     "output_type": "display_data"
    },
    {
     "name": "stdout",
     "output_type": "stream",
     "text": [
      "\n",
      "tensor(-5.3003e-06, device='cuda:3')\n",
      "tensor(1.9613e-06, device='cuda:3')\n",
      "tensor(6.0056e-05, device='cuda:3')\n",
      "tensor(6.0056e-05, device='cuda:3')\n",
      "tensor(2.4223e-05, device='cuda:3')\n",
      "tensor(-3.9565e-07, device='cuda:3')\n",
      "tensor(-0.0003, device='cuda:3')\n",
      "tensor(-0.0003, device='cuda:3')\n",
      "tensor(2.0249e-07, device='cuda:3')\n",
      "tensor(-6.2922e-07, device='cuda:3')\n",
      "tensor(4.5004e-05, device='cuda:3')\n",
      "tensor(4.5004e-05, device='cuda:3')\n",
      "tensor(1.2906e-07, device='cuda:3')\n",
      "tensor(0., device='cuda:3')\n",
      "tensor(1.9396e-05, device='cuda:3')\n",
      "tensor(1.9396e-05, device='cuda:3')\n",
      "tensor(9.4958e-08, device='cuda:3')\n",
      "tensor(-0.0007, device='cuda:3')\n",
      "tensor(3.5400e-10, device='cuda:3')\n",
      "tensor(-7.0958e-10, device='cuda:3')\n"
     ]
    },
    {
     "data": {
      "application/vnd.jupyter.widget-view+json": {
       "model_id": "1c9e73bdfba24b098bc50bc180c45360",
       "version_major": 2,
       "version_minor": 0
      },
      "text/plain": [
       "HBox(children=(FloatProgress(value=0.0, max=17.0), HTML(value='')))"
      ]
     },
     "metadata": {},
     "output_type": "display_data"
    },
    {
     "name": "stdout",
     "output_type": "stream",
     "text": [
      "\n",
      "epoch time: 27.012609004974365\n",
      "loss train: 0.35448132827878, loss val: 0.36970996418420005\n",
      "accuracy train: 0.8303571428571429, accuracy val: 0.83\n",
      "---------------------------------------------------------------------------------------------------\n",
      "Epoch: 28, Learning Rate: 0.001\n",
      "\n"
     ]
    },
    {
     "data": {
      "application/vnd.jupyter.widget-view+json": {
       "model_id": "44c6f2859c3b49fabdd54a5a2fab4794",
       "version_major": 2,
       "version_minor": 0
      },
      "text/plain": [
       "HBox(children=(FloatProgress(value=0.0, max=132.0), HTML(value='')))"
      ]
     },
     "metadata": {},
     "output_type": "display_data"
    },
    {
     "name": "stdout",
     "output_type": "stream",
     "text": [
      "\n",
      "tensor(1.6973e-05, device='cuda:3')\n",
      "tensor(1.7542e-06, device='cuda:3')\n",
      "tensor(0.0001, device='cuda:3')\n",
      "tensor(0.0001, device='cuda:3')\n",
      "tensor(-3.5231e-06, device='cuda:3')\n",
      "tensor(5.9060e-08, device='cuda:3')\n",
      "tensor(3.5824e-05, device='cuda:3')\n",
      "tensor(3.5824e-05, device='cuda:3')\n",
      "tensor(2.1208e-07, device='cuda:3')\n",
      "tensor(-1.2878e-08, device='cuda:3')\n",
      "tensor(1.4769e-05, device='cuda:3')\n",
      "tensor(1.4769e-05, device='cuda:3')\n",
      "tensor(3.7824e-08, device='cuda:3')\n",
      "tensor(0., device='cuda:3')\n",
      "tensor(-2.9290e-05, device='cuda:3')\n",
      "tensor(-2.9290e-05, device='cuda:3')\n",
      "tensor(-1.0751e-07, device='cuda:3')\n",
      "tensor(-6.0715e-05, device='cuda:3')\n",
      "tensor(5.3316e-09, device='cuda:3')\n",
      "tensor(3.7253e-09, device='cuda:3')\n"
     ]
    },
    {
     "data": {
      "application/vnd.jupyter.widget-view+json": {
       "model_id": "3205fecabedf40489fd8750069ebaf7f",
       "version_major": 2,
       "version_minor": 0
      },
      "text/plain": [
       "HBox(children=(FloatProgress(value=0.0, max=17.0), HTML(value='')))"
      ]
     },
     "metadata": {},
     "output_type": "display_data"
    },
    {
     "name": "stdout",
     "output_type": "stream",
     "text": [
      "\n",
      "epoch time: 27.0525484085083\n",
      "loss train: 0.3097580445535255, loss val: 0.3528434090754565\n",
      "accuracy train: 0.8473809523809523, accuracy val: 0.8261904761904761\n",
      "---------------------------------------------------------------------------------------------------\n",
      "Epoch: 29, Learning Rate: 0.001\n",
      "\n"
     ]
    },
    {
     "data": {
      "application/vnd.jupyter.widget-view+json": {
       "model_id": "b547c5fd87b74178a2f701881f44d98c",
       "version_major": 2,
       "version_minor": 0
      },
      "text/plain": [
       "HBox(children=(FloatProgress(value=0.0, max=132.0), HTML(value='')))"
      ]
     },
     "metadata": {},
     "output_type": "display_data"
    },
    {
     "name": "stdout",
     "output_type": "stream",
     "text": [
      "\n",
      "tensor(-0.0007, device='cuda:3')\n",
      "tensor(-8.2443e-05, device='cuda:3')\n",
      "tensor(0.0169, device='cuda:3')\n",
      "tensor(0.0169, device='cuda:3')\n",
      "tensor(5.1098e-07, device='cuda:3')\n",
      "tensor(-1.4855e-07, device='cuda:3')\n",
      "tensor(-6.3372e-05, device='cuda:3')\n",
      "tensor(-6.3372e-05, device='cuda:3')\n",
      "tensor(7.8569e-07, device='cuda:3')\n",
      "tensor(-2.8009e-06, device='cuda:3')\n",
      "tensor(0.0001, device='cuda:3')\n",
      "tensor(0.0001, device='cuda:3')\n",
      "tensor(4.4098e-07, device='cuda:3')\n",
      "tensor(0., device='cuda:3')\n",
      "tensor(9.4291e-05, device='cuda:3')\n",
      "tensor(9.4291e-05, device='cuda:3')\n",
      "tensor(-2.6509e-05, device='cuda:3')\n",
      "tensor(0.0018, device='cuda:3')\n",
      "tensor(2.6191e-09, device='cuda:3')\n",
      "tensor(-3.5479e-10, device='cuda:3')\n"
     ]
    },
    {
     "data": {
      "application/vnd.jupyter.widget-view+json": {
       "model_id": "a09f9bf191a9422fa03a4508c246697e",
       "version_major": 2,
       "version_minor": 0
      },
      "text/plain": [
       "HBox(children=(FloatProgress(value=0.0, max=17.0), HTML(value='')))"
      ]
     },
     "metadata": {},
     "output_type": "display_data"
    },
    {
     "name": "stdout",
     "output_type": "stream",
     "text": [
      "\n",
      "epoch time: 27.03344988822937\n",
      "loss train: 0.32482672420640785, loss val: 0.3760477059027728\n",
      "accuracy train: 0.8459523809523809, accuracy val: 0.8333333333333334\n",
      "---------------------------------------------------------------------------------------------------\n",
      "Epoch: 30, Learning Rate: 0.0005\n",
      "\n"
     ]
    },
    {
     "data": {
      "application/vnd.jupyter.widget-view+json": {
       "model_id": "df649af4f3bd4a97b28dfa6f32147bde",
       "version_major": 2,
       "version_minor": 0
      },
      "text/plain": [
       "HBox(children=(FloatProgress(value=0.0, max=132.0), HTML(value='')))"
      ]
     },
     "metadata": {},
     "output_type": "display_data"
    },
    {
     "name": "stdout",
     "output_type": "stream",
     "text": [
      "\n",
      "tensor(1.8519e-06, device='cuda:3')\n",
      "tensor(-2.3528e-07, device='cuda:3')\n",
      "tensor(-0.0001, device='cuda:3')\n",
      "tensor(-0.0001, device='cuda:3')\n",
      "tensor(4.4106e-07, device='cuda:3')\n",
      "tensor(-1.4249e-08, device='cuda:3')\n",
      "tensor(-2.5537e-05, device='cuda:3')\n",
      "tensor(-2.5537e-05, device='cuda:3')\n",
      "tensor(-3.8509e-08, device='cuda:3')\n",
      "tensor(-1.8124e-08, device='cuda:3')\n",
      "tensor(-1.4531e-05, device='cuda:3')\n",
      "tensor(-1.4531e-05, device='cuda:3')\n",
      "tensor(-1.6852e-09, device='cuda:3')\n",
      "tensor(0., device='cuda:3')\n",
      "tensor(-6.1942e-06, device='cuda:3')\n",
      "tensor(-6.1942e-06, device='cuda:3')\n",
      "tensor(3.5762e-09, device='cuda:3')\n",
      "tensor(-5.7215e-05, device='cuda:3')\n",
      "tensor(-5.7281e-09, device='cuda:3')\n",
      "tensor(-4.4349e-09, device='cuda:3')\n"
     ]
    },
    {
     "data": {
      "application/vnd.jupyter.widget-view+json": {
       "model_id": "050d95d66a3a4fc4ad1e81282c462a5e",
       "version_major": 2,
       "version_minor": 0
      },
      "text/plain": [
       "HBox(children=(FloatProgress(value=0.0, max=17.0), HTML(value='')))"
      ]
     },
     "metadata": {},
     "output_type": "display_data"
    },
    {
     "name": "stdout",
     "output_type": "stream",
     "text": [
      "\n",
      "epoch time: 26.282745122909546\n",
      "loss train: 0.305256728985996, loss val: 0.3214990891077939\n",
      "accuracy train: 0.8529761904761904, accuracy val: 0.8352380952380952\n",
      "---------------------------------------------------------------------------------------------------\n",
      "Epoch: 31, Learning Rate: 0.0005\n",
      "\n"
     ]
    },
    {
     "data": {
      "application/vnd.jupyter.widget-view+json": {
       "model_id": "cdc4e302747a448fb58a33a1a04ec4ee",
       "version_major": 2,
       "version_minor": 0
      },
      "text/plain": [
       "HBox(children=(FloatProgress(value=0.0, max=132.0), HTML(value='')))"
      ]
     },
     "metadata": {},
     "output_type": "display_data"
    },
    {
     "name": "stdout",
     "output_type": "stream",
     "text": [
      "\n",
      "tensor(4.2605e-06, device='cuda:3')\n",
      "tensor(5.6595e-09, device='cuda:3')\n",
      "tensor(-0.0001, device='cuda:3')\n",
      "tensor(-0.0001, device='cuda:3')\n",
      "tensor(-7.9408e-07, device='cuda:3')\n",
      "tensor(2.1168e-09, device='cuda:3')\n",
      "tensor(-9.2551e-06, device='cuda:3')\n",
      "tensor(-9.2551e-06, device='cuda:3')\n",
      "tensor(-1.0906e-08, device='cuda:3')\n",
      "tensor(6.4119e-09, device='cuda:3')\n",
      "tensor(-4.0249e-06, device='cuda:3')\n",
      "tensor(-4.0249e-06, device='cuda:3')\n",
      "tensor(-1.0995e-09, device='cuda:3')\n",
      "tensor(0., device='cuda:3')\n",
      "tensor(-1.5338e-05, device='cuda:3')\n",
      "tensor(-1.5338e-05, device='cuda:3')\n",
      "tensor(8.1920e-08, device='cuda:3')\n",
      "tensor(-4.6487e-05, device='cuda:3')\n",
      "tensor(5.2856e-09, device='cuda:3')\n",
      "tensor(4.7315e-09, device='cuda:3')\n"
     ]
    },
    {
     "data": {
      "application/vnd.jupyter.widget-view+json": {
       "model_id": "529971b7925d4007b4f0978c4d0bd70e",
       "version_major": 2,
       "version_minor": 0
      },
      "text/plain": [
       "HBox(children=(FloatProgress(value=0.0, max=17.0), HTML(value='')))"
      ]
     },
     "metadata": {},
     "output_type": "display_data"
    },
    {
     "name": "stdout",
     "output_type": "stream",
     "text": [
      "\n",
      "epoch time: 26.065889835357666\n",
      "loss train: 0.2806728347910173, loss val: 0.3135390115134856\n",
      "accuracy train: 0.8548809523809524, accuracy val: 0.8404761904761905\n",
      "---------------------------------------------------------------------------------------------------\n",
      "Epoch: 32, Learning Rate: 0.0005\n",
      "\n"
     ]
    },
    {
     "data": {
      "application/vnd.jupyter.widget-view+json": {
       "model_id": "3d38c489721f4942b21b55fed8855955",
       "version_major": 2,
       "version_minor": 0
      },
      "text/plain": [
       "HBox(children=(FloatProgress(value=0.0, max=132.0), HTML(value='')))"
      ]
     },
     "metadata": {},
     "output_type": "display_data"
    },
    {
     "name": "stdout",
     "output_type": "stream",
     "text": [
      "\n",
      "tensor(0.0002, device='cuda:3')\n",
      "tensor(-1.0856e-05, device='cuda:3')\n",
      "tensor(-0.0075, device='cuda:3')\n",
      "tensor(-0.0075, device='cuda:3')\n",
      "tensor(3.5398e-05, device='cuda:3')\n",
      "tensor(-2.7341e-06, device='cuda:3')\n",
      "tensor(-0.0004, device='cuda:3')\n",
      "tensor(-0.0004, device='cuda:3')\n",
      "tensor(4.2574e-07, device='cuda:3')\n",
      "tensor(-3.5147e-06, device='cuda:3')\n",
      "tensor(0.0005, device='cuda:3')\n",
      "tensor(0.0005, device='cuda:3')\n",
      "tensor(-9.3633e-07, device='cuda:3')\n",
      "tensor(0., device='cuda:3')\n",
      "tensor(-9.0352e-05, device='cuda:3')\n",
      "tensor(-9.0352e-05, device='cuda:3')\n",
      "tensor(-3.3254e-06, device='cuda:3')\n",
      "tensor(-0.0018, device='cuda:3')\n",
      "tensor(-1.2757e-09, device='cuda:3')\n",
      "tensor(0., device='cuda:3')\n"
     ]
    },
    {
     "data": {
      "application/vnd.jupyter.widget-view+json": {
       "model_id": "ceb9049bd6e345929a06b8b7f521cec7",
       "version_major": 2,
       "version_minor": 0
      },
      "text/plain": [
       "HBox(children=(FloatProgress(value=0.0, max=17.0), HTML(value='')))"
      ]
     },
     "metadata": {},
     "output_type": "display_data"
    },
    {
     "name": "stdout",
     "output_type": "stream",
     "text": [
      "\n",
      "epoch time: 25.849417209625244\n",
      "loss train: 0.27597972180581454, loss val: 0.3393155616872451\n",
      "accuracy train: 0.8609523809523809, accuracy val: 0.8395238095238096\n",
      "---------------------------------------------------------------------------------------------------\n",
      "Epoch: 33, Learning Rate: 0.0005\n",
      "\n"
     ]
    },
    {
     "data": {
      "application/vnd.jupyter.widget-view+json": {
       "model_id": "6cadf666b4eb45cb9db11d2e4454730d",
       "version_major": 2,
       "version_minor": 0
      },
      "text/plain": [
       "HBox(children=(FloatProgress(value=0.0, max=132.0), HTML(value='')))"
      ]
     },
     "metadata": {},
     "output_type": "display_data"
    },
    {
     "name": "stdout",
     "output_type": "stream",
     "text": [
      "\n",
      "tensor(8.7959e-07, device='cuda:3')\n",
      "tensor(-1.4915e-07, device='cuda:3')\n",
      "tensor(-5.7977e-05, device='cuda:3')\n",
      "tensor(-5.7977e-05, device='cuda:3')\n",
      "tensor(9.2058e-07, device='cuda:3')\n",
      "tensor(-8.1740e-09, device='cuda:3')\n",
      "tensor(-7.7756e-06, device='cuda:3')\n",
      "tensor(-7.7756e-06, device='cuda:3')\n",
      "tensor(7.1789e-09, device='cuda:3')\n",
      "tensor(8.6376e-08, device='cuda:3')\n",
      "tensor(-8.4387e-06, device='cuda:3')\n",
      "tensor(-8.4387e-06, device='cuda:3')\n",
      "tensor(6.4979e-08, device='cuda:3')\n",
      "tensor(0., device='cuda:3')\n",
      "tensor(-8.5954e-06, device='cuda:3')\n",
      "tensor(-8.5954e-06, device='cuda:3')\n",
      "tensor(-6.4017e-08, device='cuda:3')\n",
      "tensor(-9.8177e-05, device='cuda:3')\n",
      "tensor(4.8277e-09, device='cuda:3')\n",
      "tensor(3.0601e-09, device='cuda:3')\n"
     ]
    },
    {
     "data": {
      "application/vnd.jupyter.widget-view+json": {
       "model_id": "c22c1dea376244f5a5a99875f745bf8d",
       "version_major": 2,
       "version_minor": 0
      },
      "text/plain": [
       "HBox(children=(FloatProgress(value=0.0, max=17.0), HTML(value='')))"
      ]
     },
     "metadata": {},
     "output_type": "display_data"
    },
    {
     "name": "stdout",
     "output_type": "stream",
     "text": [
      "\n",
      "epoch time: 26.451685190200806\n",
      "loss train: 0.3099224552737944, loss val: 0.30996661414118376\n",
      "accuracy train: 0.8478571428571429, accuracy val: 0.8457142857142858\n",
      "---------------------------------------------------------------------------------------------------\n",
      "Epoch: 34, Learning Rate: 0.0005\n",
      "\n"
     ]
    },
    {
     "data": {
      "application/vnd.jupyter.widget-view+json": {
       "model_id": "2eec86ac686f4ee49152bd23413f860a",
       "version_major": 2,
       "version_minor": 0
      },
      "text/plain": [
       "HBox(children=(FloatProgress(value=0.0, max=132.0), HTML(value='')))"
      ]
     },
     "metadata": {},
     "output_type": "display_data"
    },
    {
     "name": "stdout",
     "output_type": "stream",
     "text": [
      "\n",
      "tensor(-4.4884e-06, device='cuda:3')\n",
      "tensor(5.0633e-08, device='cuda:3')\n",
      "tensor(-0.0002, device='cuda:3')\n",
      "tensor(-0.0002, device='cuda:3')\n",
      "tensor(-2.8767e-07, device='cuda:3')\n",
      "tensor(2.3925e-08, device='cuda:3')\n",
      "tensor(1.0966e-05, device='cuda:3')\n",
      "tensor(1.0966e-05, device='cuda:3')\n",
      "tensor(1.8832e-08, device='cuda:3')\n",
      "tensor(6.6974e-08, device='cuda:3')\n",
      "tensor(6.4731e-06, device='cuda:3')\n",
      "tensor(6.4731e-06, device='cuda:3')\n",
      "tensor(6.1516e-08, device='cuda:3')\n",
      "tensor(0., device='cuda:3')\n",
      "tensor(-1.5248e-05, device='cuda:3')\n",
      "tensor(-1.5248e-05, device='cuda:3')\n",
      "tensor(2.1508e-07, device='cuda:3')\n",
      "tensor(-0.0001, device='cuda:3')\n",
      "tensor(-6.7821e-10, device='cuda:3')\n",
      "tensor(-1.2418e-09, device='cuda:3')\n"
     ]
    },
    {
     "data": {
      "application/vnd.jupyter.widget-view+json": {
       "model_id": "dd8dbf25665f40ae95e8865f4125de2f",
       "version_major": 2,
       "version_minor": 0
      },
      "text/plain": [
       "HBox(children=(FloatProgress(value=0.0, max=17.0), HTML(value='')))"
      ]
     },
     "metadata": {},
     "output_type": "display_data"
    },
    {
     "name": "stdout",
     "output_type": "stream",
     "text": [
      "\n",
      "epoch time: 26.138984441757202\n",
      "loss train: 0.27435260311220633, loss val: 0.3028293576310663\n",
      "accuracy train: 0.8620238095238095, accuracy val: 0.8447619047619047\n",
      "---------------------------------------------------------------------------------------------------\n",
      "Epoch: 35, Learning Rate: 0.0005\n",
      "\n"
     ]
    },
    {
     "data": {
      "application/vnd.jupyter.widget-view+json": {
       "model_id": "59ff59247815475984e952cfca8ba106",
       "version_major": 2,
       "version_minor": 0
      },
      "text/plain": [
       "HBox(children=(FloatProgress(value=0.0, max=132.0), HTML(value='')))"
      ]
     },
     "metadata": {},
     "output_type": "display_data"
    },
    {
     "name": "stdout",
     "output_type": "stream",
     "text": [
      "\n",
      "tensor(4.0955e-06, device='cuda:3')\n",
      "tensor(2.7953e-07, device='cuda:3')\n",
      "tensor(0.0005, device='cuda:3')\n",
      "tensor(0.0005, device='cuda:3')\n",
      "tensor(8.9234e-06, device='cuda:3')\n",
      "tensor(-2.8631e-08, device='cuda:3')\n",
      "tensor(-7.8007e-05, device='cuda:3')\n",
      "tensor(-7.8007e-05, device='cuda:3')\n",
      "tensor(-4.5504e-08, device='cuda:3')\n",
      "tensor(2.7563e-08, device='cuda:3')\n",
      "tensor(-1.5074e-05, device='cuda:3')\n",
      "tensor(-1.5074e-05, device='cuda:3')\n",
      "tensor(5.8019e-08, device='cuda:3')\n",
      "tensor(0., device='cuda:3')\n",
      "tensor(1.8893e-05, device='cuda:3')\n",
      "tensor(1.8893e-05, device='cuda:3')\n",
      "tensor(4.6890e-07, device='cuda:3')\n",
      "tensor(0.0004, device='cuda:3')\n",
      "tensor(2.2014e-09, device='cuda:3')\n",
      "tensor(1.4192e-09, device='cuda:3')\n"
     ]
    },
    {
     "data": {
      "application/vnd.jupyter.widget-view+json": {
       "model_id": "cc04204ff2f14c728822e4d0ef60a9c1",
       "version_major": 2,
       "version_minor": 0
      },
      "text/plain": [
       "HBox(children=(FloatProgress(value=0.0, max=17.0), HTML(value='')))"
      ]
     },
     "metadata": {},
     "output_type": "display_data"
    },
    {
     "name": "stdout",
     "output_type": "stream",
     "text": [
      "\n",
      "epoch time: 26.719605922698975\n",
      "loss train: 0.27018186478226475, loss val: 0.31868087456506844\n",
      "accuracy train: 0.866904761904762, accuracy val: 0.8357142857142857\n",
      "---------------------------------------------------------------------------------------------------\n",
      "Epoch: 36, Learning Rate: 0.0005\n",
      "\n"
     ]
    },
    {
     "data": {
      "application/vnd.jupyter.widget-view+json": {
       "model_id": "5b9448e6fd80439192a291eaee2c232a",
       "version_major": 2,
       "version_minor": 0
      },
      "text/plain": [
       "HBox(children=(FloatProgress(value=0.0, max=132.0), HTML(value='')))"
      ]
     },
     "metadata": {},
     "output_type": "display_data"
    },
    {
     "name": "stdout",
     "output_type": "stream",
     "text": [
      "\n",
      "tensor(-1.2126e-06, device='cuda:3')\n",
      "tensor(-9.2480e-08, device='cuda:3')\n",
      "tensor(6.4020e-05, device='cuda:3')\n",
      "tensor(6.4020e-05, device='cuda:3')\n",
      "tensor(-1.5500e-06, device='cuda:3')\n",
      "tensor(-6.6821e-08, device='cuda:3')\n",
      "tensor(1.0051e-05, device='cuda:3')\n",
      "tensor(1.0051e-05, device='cuda:3')\n",
      "tensor(-3.2821e-08, device='cuda:3')\n",
      "tensor(5.5373e-08, device='cuda:3')\n",
      "tensor(-1.4545e-05, device='cuda:3')\n",
      "tensor(-1.4545e-05, device='cuda:3')\n",
      "tensor(6.8003e-08, device='cuda:3')\n",
      "tensor(0., device='cuda:3')\n",
      "tensor(-1.0742e-05, device='cuda:3')\n",
      "tensor(-1.0742e-05, device='cuda:3')\n",
      "tensor(-4.7140e-07, device='cuda:3')\n",
      "tensor(-0.0002, device='cuda:3')\n",
      "tensor(1.4760e-09, device='cuda:3')\n",
      "tensor(1.2279e-09, device='cuda:3')\n"
     ]
    },
    {
     "data": {
      "application/vnd.jupyter.widget-view+json": {
       "model_id": "42ae2bf00fe847d8b3f968cc92a79599",
       "version_major": 2,
       "version_minor": 0
      },
      "text/plain": [
       "HBox(children=(FloatProgress(value=0.0, max=17.0), HTML(value='')))"
      ]
     },
     "metadata": {},
     "output_type": "display_data"
    },
    {
     "name": "stdout",
     "output_type": "stream",
     "text": [
      "\n",
      "epoch time: 26.927966356277466\n",
      "loss train: 0.26977545028608857, loss val: 0.3114469480865142\n",
      "accuracy train: 0.8626190476190476, accuracy val: 0.8509523809523809\n",
      "---------------------------------------------------------------------------------------------------\n",
      "Epoch: 37, Learning Rate: 0.0005\n",
      "\n"
     ]
    },
    {
     "data": {
      "application/vnd.jupyter.widget-view+json": {
       "model_id": "ed256453b08944f985d96e43690878c8",
       "version_major": 2,
       "version_minor": 0
      },
      "text/plain": [
       "HBox(children=(FloatProgress(value=0.0, max=132.0), HTML(value='')))"
      ]
     },
     "metadata": {},
     "output_type": "display_data"
    },
    {
     "name": "stdout",
     "output_type": "stream",
     "text": [
      "\n",
      "tensor(-2.4722e-07, device='cuda:3')\n",
      "tensor(-2.9305e-07, device='cuda:3')\n",
      "tensor(0.0002, device='cuda:3')\n",
      "tensor(0.0002, device='cuda:3')\n",
      "tensor(-3.2242e-07, device='cuda:3')\n",
      "tensor(5.4682e-08, device='cuda:3')\n",
      "tensor(2.0228e-05, device='cuda:3')\n",
      "tensor(2.0228e-05, device='cuda:3')\n",
      "tensor(-3.6099e-08, device='cuda:3')\n",
      "tensor(-1.1290e-08, device='cuda:3')\n",
      "tensor(-1.7337e-05, device='cuda:3')\n",
      "tensor(-1.7337e-05, device='cuda:3')\n",
      "tensor(-2.7321e-08, device='cuda:3')\n",
      "tensor(0., device='cuda:3')\n",
      "tensor(-2.9777e-05, device='cuda:3')\n",
      "tensor(-2.9777e-05, device='cuda:3')\n",
      "tensor(-5.1973e-07, device='cuda:3')\n",
      "tensor(-0.0003, device='cuda:3')\n",
      "tensor(1.2976e-09, device='cuda:3')\n",
      "tensor(1.0644e-09, device='cuda:3')\n"
     ]
    },
    {
     "data": {
      "application/vnd.jupyter.widget-view+json": {
       "model_id": "2b3bc8b3519b4e68bd2a7aa8e1e58064",
       "version_major": 2,
       "version_minor": 0
      },
      "text/plain": [
       "HBox(children=(FloatProgress(value=0.0, max=17.0), HTML(value='')))"
      ]
     },
     "metadata": {},
     "output_type": "display_data"
    },
    {
     "name": "stdout",
     "output_type": "stream",
     "text": [
      "\n",
      "epoch time: 27.097094297409058\n",
      "loss train: 0.26919477794206503, loss val: 0.32529863364556255\n",
      "accuracy train: 0.8651190476190476, accuracy val: 0.8428571428571429\n",
      "---------------------------------------------------------------------------------------------------\n",
      "Epoch: 38, Learning Rate: 0.0005\n",
      "\n"
     ]
    },
    {
     "data": {
      "application/vnd.jupyter.widget-view+json": {
       "model_id": "312df6d5d0a04f378b14a430a5251f6f",
       "version_major": 2,
       "version_minor": 0
      },
      "text/plain": [
       "HBox(children=(FloatProgress(value=0.0, max=132.0), HTML(value='')))"
      ]
     },
     "metadata": {},
     "output_type": "display_data"
    },
    {
     "name": "stdout",
     "output_type": "stream",
     "text": [
      "\n",
      "tensor(7.2367e-06, device='cuda:3')\n",
      "tensor(-6.5835e-07, device='cuda:3')\n",
      "tensor(0.0004, device='cuda:3')\n",
      "tensor(0.0004, device='cuda:3')\n",
      "tensor(-3.7876e-06, device='cuda:3')\n",
      "tensor(2.4637e-10, device='cuda:3')\n",
      "tensor(1.4438e-05, device='cuda:3')\n",
      "tensor(1.4438e-05, device='cuda:3')\n",
      "tensor(1.4960e-07, device='cuda:3')\n",
      "tensor(1.0839e-08, device='cuda:3')\n",
      "tensor(3.6962e-06, device='cuda:3')\n",
      "tensor(3.6962e-06, device='cuda:3')\n",
      "tensor(2.4860e-08, device='cuda:3')\n",
      "tensor(0., device='cuda:3')\n",
      "tensor(-1.8095e-05, device='cuda:3')\n",
      "tensor(-1.8095e-05, device='cuda:3')\n",
      "tensor(-9.2770e-07, device='cuda:3')\n",
      "tensor(-0.0002, device='cuda:3')\n",
      "tensor(1.0292e-08, device='cuda:3')\n",
      "tensor(6.7410e-09, device='cuda:3')\n"
     ]
    },
    {
     "data": {
      "application/vnd.jupyter.widget-view+json": {
       "model_id": "46479044ea5e4571812f553631b71eb3",
       "version_major": 2,
       "version_minor": 0
      },
      "text/plain": [
       "HBox(children=(FloatProgress(value=0.0, max=17.0), HTML(value='')))"
      ]
     },
     "metadata": {},
     "output_type": "display_data"
    },
    {
     "name": "stdout",
     "output_type": "stream",
     "text": [
      "\n",
      "epoch time: 26.668409824371338\n",
      "loss train: 0.2700440384108912, loss val: 0.32143723351113934\n",
      "accuracy train: 0.8670238095238095, accuracy val: 0.8438095238095238\n",
      "---------------------------------------------------------------------------------------------------\n",
      "Epoch: 39, Learning Rate: 0.0005\n",
      "\n"
     ]
    },
    {
     "data": {
      "application/vnd.jupyter.widget-view+json": {
       "model_id": "d1a75e38240345289bb1ae65c4d3b6d6",
       "version_major": 2,
       "version_minor": 0
      },
      "text/plain": [
       "HBox(children=(FloatProgress(value=0.0, max=132.0), HTML(value='')))"
      ]
     },
     "metadata": {},
     "output_type": "display_data"
    },
    {
     "name": "stdout",
     "output_type": "stream",
     "text": [
      "\n",
      "tensor(-2.2863e-05, device='cuda:3')\n",
      "tensor(-5.8892e-07, device='cuda:3')\n",
      "tensor(-0.0016, device='cuda:3')\n",
      "tensor(-0.0016, device='cuda:3')\n",
      "tensor(5.1005e-07, device='cuda:3')\n",
      "tensor(-6.2229e-08, device='cuda:3')\n",
      "tensor(-5.6146e-06, device='cuda:3')\n",
      "tensor(-5.6146e-06, device='cuda:3')\n",
      "tensor(2.8498e-08, device='cuda:3')\n",
      "tensor(1.2701e-07, device='cuda:3')\n",
      "tensor(8.8601e-05, device='cuda:3')\n",
      "tensor(8.8601e-05, device='cuda:3')\n",
      "tensor(1.2673e-07, device='cuda:3')\n",
      "tensor(0., device='cuda:3')\n",
      "tensor(2.0283e-05, device='cuda:3')\n",
      "tensor(2.0283e-05, device='cuda:3')\n",
      "tensor(2.2332e-06, device='cuda:3')\n",
      "tensor(0.0003, device='cuda:3')\n",
      "tensor(1.4562e-10, device='cuda:3')\n",
      "tensor(3.9914e-10, device='cuda:3')\n"
     ]
    },
    {
     "data": {
      "application/vnd.jupyter.widget-view+json": {
       "model_id": "0d1462ce90ea4343aeb640b98f848b6f",
       "version_major": 2,
       "version_minor": 0
      },
      "text/plain": [
       "HBox(children=(FloatProgress(value=0.0, max=17.0), HTML(value='')))"
      ]
     },
     "metadata": {},
     "output_type": "display_data"
    },
    {
     "name": "stdout",
     "output_type": "stream",
     "text": [
      "\n",
      "epoch time: 26.85341453552246\n",
      "loss train: 0.2662948857089787, loss val: 0.30260216313249927\n",
      "accuracy train: 0.8672619047619048, accuracy val: 0.85\n",
      "---------------------------------------------------------------------------------------------------\n",
      "Epoch: 40, Learning Rate: 0.0005\n",
      "\n"
     ]
    },
    {
     "data": {
      "application/vnd.jupyter.widget-view+json": {
       "model_id": "49f4e8094e384304a903c39b61eede0b",
       "version_major": 2,
       "version_minor": 0
      },
      "text/plain": [
       "HBox(children=(FloatProgress(value=0.0, max=132.0), HTML(value='')))"
      ]
     },
     "metadata": {},
     "output_type": "display_data"
    },
    {
     "name": "stdout",
     "output_type": "stream",
     "text": [
      "\n",
      "tensor(-2.7446e-10, device='cuda:3')\n",
      "tensor(-2.4589e-08, device='cuda:3')\n",
      "tensor(-1.2440e-05, device='cuda:3')\n",
      "tensor(-1.2440e-05, device='cuda:3')\n",
      "tensor(1.8465e-08, device='cuda:3')\n",
      "tensor(4.5482e-09, device='cuda:3')\n",
      "tensor(2.4260e-06, device='cuda:3')\n",
      "tensor(2.4260e-06, device='cuda:3')\n",
      "tensor(-4.8400e-11, device='cuda:3')\n",
      "tensor(-4.2355e-08, device='cuda:3')\n",
      "tensor(3.0067e-06, device='cuda:3')\n",
      "tensor(3.0067e-06, device='cuda:3')\n",
      "tensor(-9.7246e-10, device='cuda:3')\n",
      "tensor(0., device='cuda:3')\n",
      "tensor(-6.4167e-07, device='cuda:3')\n",
      "tensor(-6.4167e-07, device='cuda:3')\n",
      "tensor(-1.3708e-08, device='cuda:3')\n",
      "tensor(-1.1839e-06, device='cuda:3')\n",
      "tensor(-4.3215e-09, device='cuda:3')\n",
      "tensor(-3.1113e-09, device='cuda:3')\n"
     ]
    },
    {
     "data": {
      "application/vnd.jupyter.widget-view+json": {
       "model_id": "c025b216bbd8465c8948c4c0ae75c06b",
       "version_major": 2,
       "version_minor": 0
      },
      "text/plain": [
       "HBox(children=(FloatProgress(value=0.0, max=17.0), HTML(value='')))"
      ]
     },
     "metadata": {},
     "output_type": "display_data"
    },
    {
     "name": "stdout",
     "output_type": "stream",
     "text": [
      "\n",
      "epoch time: 26.1628737449646\n",
      "loss train: 0.26697086994395114, loss val: 0.30554361553753123\n",
      "accuracy train: 0.8652380952380953, accuracy val: 0.8495238095238096\n",
      "---------------------------------------------------------------------------------------------------\n",
      "Epoch: 41, Learning Rate: 0.0005\n",
      "\n"
     ]
    },
    {
     "data": {
      "application/vnd.jupyter.widget-view+json": {
       "model_id": "0ba30a5192b34f008dce70b0c1a12dae",
       "version_major": 2,
       "version_minor": 0
      },
      "text/plain": [
       "HBox(children=(FloatProgress(value=0.0, max=132.0), HTML(value='')))"
      ]
     },
     "metadata": {},
     "output_type": "display_data"
    },
    {
     "name": "stdout",
     "output_type": "stream",
     "text": [
      "\n",
      "tensor(3.3187e-05, device='cuda:3')\n",
      "tensor(-8.6775e-07, device='cuda:3')\n",
      "tensor(-0.0002, device='cuda:3')\n",
      "tensor(-0.0002, device='cuda:3')\n",
      "tensor(1.7031e-05, device='cuda:3')\n",
      "tensor(-3.0873e-07, device='cuda:3')\n",
      "tensor(-0.0002, device='cuda:3')\n",
      "tensor(-0.0002, device='cuda:3')\n",
      "tensor(-1.0914e-06, device='cuda:3')\n",
      "tensor(-5.1668e-07, device='cuda:3')\n",
      "tensor(0.0001, device='cuda:3')\n",
      "tensor(0.0001, device='cuda:3')\n",
      "tensor(-5.5578e-08, device='cuda:3')\n",
      "tensor(0., device='cuda:3')\n",
      "tensor(-0.0001, device='cuda:3')\n",
      "tensor(-0.0001, device='cuda:3')\n",
      "tensor(3.5763e-06, device='cuda:3')\n",
      "tensor(0.0005, device='cuda:3')\n",
      "tensor(-1.2001e-09, device='cuda:3')\n",
      "tensor(-1.4192e-09, device='cuda:3')\n"
     ]
    },
    {
     "data": {
      "application/vnd.jupyter.widget-view+json": {
       "model_id": "2d9cb69624e64bd8a64cc8c896b219d3",
       "version_major": 2,
       "version_minor": 0
      },
      "text/plain": [
       "HBox(children=(FloatProgress(value=0.0, max=17.0), HTML(value='')))"
      ]
     },
     "metadata": {},
     "output_type": "display_data"
    },
    {
     "name": "stdout",
     "output_type": "stream",
     "text": [
      "\n",
      "epoch time: 26.703426837921143\n",
      "loss train: 0.29440630475680035, loss val: 0.8601913276840659\n",
      "accuracy train: 0.8645238095238095, accuracy val: 0.7633333333333333\n",
      "---------------------------------------------------------------------------------------------------\n",
      "Epoch: 42, Learning Rate: 0.0005\n",
      "\n"
     ]
    },
    {
     "data": {
      "application/vnd.jupyter.widget-view+json": {
       "model_id": "1b02ed079f2b46f5a3b3dec49ec84feb",
       "version_major": 2,
       "version_minor": 0
      },
      "text/plain": [
       "HBox(children=(FloatProgress(value=0.0, max=132.0), HTML(value='')))"
      ]
     },
     "metadata": {},
     "output_type": "display_data"
    },
    {
     "name": "stdout",
     "output_type": "stream",
     "text": [
      "\n",
      "tensor(-3.6709e-06, device='cuda:3')\n",
      "tensor(-8.3022e-07, device='cuda:3')\n",
      "tensor(0.0004, device='cuda:3')\n",
      "tensor(0.0004, device='cuda:3')\n",
      "tensor(-3.2870e-06, device='cuda:3')\n",
      "tensor(4.1883e-07, device='cuda:3')\n",
      "tensor(2.7362e-05, device='cuda:3')\n",
      "tensor(2.7362e-05, device='cuda:3')\n",
      "tensor(2.7009e-08, device='cuda:3')\n",
      "tensor(-5.7300e-08, device='cuda:3')\n",
      "tensor(3.4973e-05, device='cuda:3')\n",
      "tensor(3.4973e-05, device='cuda:3')\n",
      "tensor(-7.1268e-08, device='cuda:3')\n",
      "tensor(0., device='cuda:3')\n",
      "tensor(4.2290e-05, device='cuda:3')\n",
      "tensor(4.2290e-05, device='cuda:3')\n",
      "tensor(-6.1225e-07, device='cuda:3')\n",
      "tensor(7.9617e-05, device='cuda:3')\n",
      "tensor(6.9815e-09, device='cuda:3')\n",
      "tensor(6.2088e-09, device='cuda:3')\n"
     ]
    },
    {
     "data": {
      "application/vnd.jupyter.widget-view+json": {
       "model_id": "74a13311b6fc4f51861ed336b574331f",
       "version_major": 2,
       "version_minor": 0
      },
      "text/plain": [
       "HBox(children=(FloatProgress(value=0.0, max=17.0), HTML(value='')))"
      ]
     },
     "metadata": {},
     "output_type": "display_data"
    },
    {
     "name": "stdout",
     "output_type": "stream",
     "text": [
      "\n",
      "epoch time: 25.786664724349976\n",
      "loss train: 0.4228697167427251, loss val: 0.3727339400964625\n",
      "accuracy train: 0.8278571428571428, accuracy val: 0.83\n",
      "---------------------------------------------------------------------------------------------------\n",
      "Epoch: 43, Learning Rate: 0.0005\n",
      "\n"
     ]
    },
    {
     "data": {
      "application/vnd.jupyter.widget-view+json": {
       "model_id": "0e31fc7b02764d73b82e15f3cef98b75",
       "version_major": 2,
       "version_minor": 0
      },
      "text/plain": [
       "HBox(children=(FloatProgress(value=0.0, max=132.0), HTML(value='')))"
      ]
     },
     "metadata": {},
     "output_type": "display_data"
    },
    {
     "name": "stdout",
     "output_type": "stream",
     "text": [
      "\n",
      "tensor(2.5276e-06, device='cuda:3')\n",
      "tensor(8.9271e-07, device='cuda:3')\n",
      "tensor(-0.0002, device='cuda:3')\n",
      "tensor(-0.0002, device='cuda:3')\n",
      "tensor(1.9131e-06, device='cuda:3')\n",
      "tensor(2.8514e-08, device='cuda:3')\n",
      "tensor(-3.3042e-06, device='cuda:3')\n",
      "tensor(-3.3042e-06, device='cuda:3')\n",
      "tensor(2.5045e-09, device='cuda:3')\n",
      "tensor(1.3708e-07, device='cuda:3')\n",
      "tensor(-7.9058e-06, device='cuda:3')\n",
      "tensor(-7.9058e-06, device='cuda:3')\n",
      "tensor(-4.9687e-08, device='cuda:3')\n",
      "tensor(0., device='cuda:3')\n",
      "tensor(1.3406e-05, device='cuda:3')\n",
      "tensor(1.3406e-05, device='cuda:3')\n",
      "tensor(2.1503e-06, device='cuda:3')\n",
      "tensor(-0.0003, device='cuda:3')\n",
      "tensor(6.8563e-09, device='cuda:3')\n",
      "tensor(3.9359e-09, device='cuda:3')\n"
     ]
    },
    {
     "data": {
      "application/vnd.jupyter.widget-view+json": {
       "model_id": "b000f26ee29542df9fbe53226fb9b874",
       "version_major": 2,
       "version_minor": 0
      },
      "text/plain": [
       "HBox(children=(FloatProgress(value=0.0, max=17.0), HTML(value='')))"
      ]
     },
     "metadata": {},
     "output_type": "display_data"
    },
    {
     "name": "stdout",
     "output_type": "stream",
     "text": [
      "\n",
      "epoch time: 26.629055500030518\n",
      "loss train: 0.2981702425150257, loss val: 0.3550680884543587\n",
      "accuracy train: 0.8558333333333333, accuracy val: 0.8271428571428572\n",
      "---------------------------------------------------------------------------------------------------\n",
      "Epoch: 44, Learning Rate: 0.0005\n",
      "\n"
     ]
    },
    {
     "data": {
      "application/vnd.jupyter.widget-view+json": {
       "model_id": "28bf6beb73264622a917d895e54cbd58",
       "version_major": 2,
       "version_minor": 0
      },
      "text/plain": [
       "HBox(children=(FloatProgress(value=0.0, max=132.0), HTML(value='')))"
      ]
     },
     "metadata": {},
     "output_type": "display_data"
    },
    {
     "name": "stdout",
     "output_type": "stream",
     "text": [
      "\n",
      "tensor(-2.1239e-06, device='cuda:3')\n",
      "tensor(1.5405e-07, device='cuda:3')\n",
      "tensor(-5.0326e-05, device='cuda:3')\n",
      "tensor(-5.0326e-05, device='cuda:3')\n",
      "tensor(4.1222e-07, device='cuda:3')\n",
      "tensor(-1.2820e-08, device='cuda:3')\n",
      "tensor(4.1840e-07, device='cuda:3')\n",
      "tensor(4.1840e-07, device='cuda:3')\n",
      "tensor(-1.6495e-08, device='cuda:3')\n",
      "tensor(-1.5678e-07, device='cuda:3')\n",
      "tensor(5.7664e-06, device='cuda:3')\n",
      "tensor(5.7664e-06, device='cuda:3')\n",
      "tensor(7.8027e-09, device='cuda:3')\n",
      "tensor(0., device='cuda:3')\n",
      "tensor(-9.6106e-06, device='cuda:3')\n",
      "tensor(-9.6106e-06, device='cuda:3')\n",
      "tensor(2.4026e-09, device='cuda:3')\n",
      "tensor(-8.4247e-06, device='cuda:3')\n",
      "tensor(-6.2827e-09, device='cuda:3')\n",
      "tensor(-5.4992e-09, device='cuda:3')\n"
     ]
    },
    {
     "data": {
      "application/vnd.jupyter.widget-view+json": {
       "model_id": "c55fbb3e4c57483286b75ae21f8799e5",
       "version_major": 2,
       "version_minor": 0
      },
      "text/plain": [
       "HBox(children=(FloatProgress(value=0.0, max=17.0), HTML(value='')))"
      ]
     },
     "metadata": {},
     "output_type": "display_data"
    },
    {
     "name": "stdout",
     "output_type": "stream",
     "text": [
      "\n",
      "epoch time: 26.618740797042847\n",
      "loss train: 0.28819354781598755, loss val: 0.33809120164198037\n",
      "accuracy train: 0.8575, accuracy val: 0.8328571428571429\n",
      "---------------------------------------------------------------------------------------------------\n",
      "Epoch: 45, Learning Rate: 0.0005\n",
      "\n"
     ]
    },
    {
     "data": {
      "application/vnd.jupyter.widget-view+json": {
       "model_id": "e2698f3ef0f544acbebb662214a49893",
       "version_major": 2,
       "version_minor": 0
      },
      "text/plain": [
       "HBox(children=(FloatProgress(value=0.0, max=132.0), HTML(value='')))"
      ]
     },
     "metadata": {},
     "output_type": "display_data"
    },
    {
     "name": "stdout",
     "output_type": "stream",
     "text": [
      "\n",
      "tensor(3.6003e-06, device='cuda:3')\n",
      "tensor(-1.7229e-07, device='cuda:3')\n",
      "tensor(-0.0001, device='cuda:3')\n",
      "tensor(-0.0001, device='cuda:3')\n",
      "tensor(-3.0671e-07, device='cuda:3')\n",
      "tensor(4.2168e-08, device='cuda:3')\n",
      "tensor(9.3983e-07, device='cuda:3')\n",
      "tensor(9.3983e-07, device='cuda:3')\n",
      "tensor(-1.0348e-08, device='cuda:3')\n",
      "tensor(9.1041e-08, device='cuda:3')\n",
      "tensor(-4.1588e-06, device='cuda:3')\n",
      "tensor(-4.1588e-06, device='cuda:3')\n",
      "tensor(6.2342e-08, device='cuda:3')\n",
      "tensor(0., device='cuda:3')\n",
      "tensor(-3.4299e-06, device='cuda:3')\n",
      "tensor(-3.4299e-06, device='cuda:3')\n",
      "tensor(8.5062e-07, device='cuda:3')\n",
      "tensor(-0.0001, device='cuda:3')\n",
      "tensor(5.4393e-09, device='cuda:3')\n",
      "tensor(3.9914e-09, device='cuda:3')\n"
     ]
    },
    {
     "data": {
      "application/vnd.jupyter.widget-view+json": {
       "model_id": "ed0b5aa9cd834b439aebc1c066c77d10",
       "version_major": 2,
       "version_minor": 0
      },
      "text/plain": [
       "HBox(children=(FloatProgress(value=0.0, max=17.0), HTML(value='')))"
      ]
     },
     "metadata": {},
     "output_type": "display_data"
    },
    {
     "name": "stdout",
     "output_type": "stream",
     "text": [
      "\n",
      "epoch time: 26.854541778564453\n",
      "loss train: 0.27856627196976635, loss val: 0.33261504594017477\n",
      "accuracy train: 0.8622619047619048, accuracy val: 0.8423809523809523\n",
      "---------------------------------------------------------------------------------------------------\n",
      "Epoch: 46, Learning Rate: 0.0005\n",
      "\n"
     ]
    },
    {
     "data": {
      "application/vnd.jupyter.widget-view+json": {
       "model_id": "dafabe559b7d406dbdb3e54363d80258",
       "version_major": 2,
       "version_minor": 0
      },
      "text/plain": [
       "HBox(children=(FloatProgress(value=0.0, max=132.0), HTML(value='')))"
      ]
     },
     "metadata": {},
     "output_type": "display_data"
    },
    {
     "name": "stdout",
     "output_type": "stream",
     "text": [
      "\n",
      "tensor(-1.1652e-05, device='cuda:3')\n",
      "tensor(-3.2111e-07, device='cuda:3')\n",
      "tensor(0.0012, device='cuda:3')\n",
      "tensor(0.0012, device='cuda:3')\n",
      "tensor(-4.3034e-06, device='cuda:3')\n",
      "tensor(1.7583e-07, device='cuda:3')\n",
      "tensor(3.8533e-05, device='cuda:3')\n",
      "tensor(3.8533e-05, device='cuda:3')\n",
      "tensor(-1.8494e-08, device='cuda:3')\n",
      "tensor(4.6070e-07, device='cuda:3')\n",
      "tensor(-7.6228e-06, device='cuda:3')\n",
      "tensor(-7.6228e-06, device='cuda:3')\n",
      "tensor(-1.6209e-07, device='cuda:3')\n",
      "tensor(0., device='cuda:3')\n",
      "tensor(4.2121e-05, device='cuda:3')\n",
      "tensor(4.2121e-05, device='cuda:3')\n",
      "tensor(-2.4574e-06, device='cuda:3')\n",
      "tensor(0.0005, device='cuda:3')\n",
      "tensor(9.5900e-10, device='cuda:3')\n",
      "tensor(7.0958e-10, device='cuda:3')\n"
     ]
    },
    {
     "data": {
      "application/vnd.jupyter.widget-view+json": {
       "model_id": "40c89ca6d55049019c73940f7c0f9d65",
       "version_major": 2,
       "version_minor": 0
      },
      "text/plain": [
       "HBox(children=(FloatProgress(value=0.0, max=17.0), HTML(value='')))"
      ]
     },
     "metadata": {},
     "output_type": "display_data"
    },
    {
     "name": "stdout",
     "output_type": "stream",
     "text": [
      "\n",
      "epoch time: 27.42219614982605\n",
      "loss train: 0.27061164751648903, loss val: 0.3300865187364466\n",
      "accuracy train: 0.866904761904762, accuracy val: 0.8380952380952381\n",
      "---------------------------------------------------------------------------------------------------\n",
      "Epoch: 47, Learning Rate: 0.0005\n",
      "\n"
     ]
    },
    {
     "data": {
      "application/vnd.jupyter.widget-view+json": {
       "model_id": "6fd25dfbc99e4d9aa8b5e967f4df059a",
       "version_major": 2,
       "version_minor": 0
      },
      "text/plain": [
       "HBox(children=(FloatProgress(value=0.0, max=132.0), HTML(value='')))"
      ]
     },
     "metadata": {},
     "output_type": "display_data"
    },
    {
     "name": "stdout",
     "output_type": "stream",
     "text": [
      "\n",
      "tensor(-6.5785e-07, device='cuda:3')\n",
      "tensor(-6.0673e-07, device='cuda:3')\n",
      "tensor(6.0831e-06, device='cuda:3')\n",
      "tensor(6.0831e-06, device='cuda:3')\n",
      "tensor(-1.7992e-06, device='cuda:3')\n",
      "tensor(-1.9823e-07, device='cuda:3')\n",
      "tensor(-0.0001, device='cuda:3')\n",
      "tensor(-0.0001, device='cuda:3')\n",
      "tensor(2.0808e-08, device='cuda:3')\n",
      "tensor(-1.2622e-06, device='cuda:3')\n",
      "tensor(5.7168e-05, device='cuda:3')\n",
      "tensor(5.7168e-05, device='cuda:3')\n",
      "tensor(8.2957e-08, device='cuda:3')\n",
      "tensor(0., device='cuda:3')\n",
      "tensor(-3.6422e-05, device='cuda:3')\n",
      "tensor(-3.6422e-05, device='cuda:3')\n",
      "tensor(2.4614e-06, device='cuda:3')\n",
      "tensor(-0.0003, device='cuda:3')\n",
      "tensor(6.2792e-09, device='cuda:3')\n",
      "tensor(3.3705e-09, device='cuda:3')\n"
     ]
    },
    {
     "data": {
      "application/vnd.jupyter.widget-view+json": {
       "model_id": "80f746032f3544aba185c026b658d477",
       "version_major": 2,
       "version_minor": 0
      },
      "text/plain": [
       "HBox(children=(FloatProgress(value=0.0, max=17.0), HTML(value='')))"
      ]
     },
     "metadata": {},
     "output_type": "display_data"
    },
    {
     "name": "stdout",
     "output_type": "stream",
     "text": [
      "\n",
      "epoch time: 26.909168243408203\n",
      "loss train: 0.26670543589826784, loss val: 0.3327881360755247\n",
      "accuracy train: 0.8690476190476191, accuracy val: 0.8466666666666667\n",
      "---------------------------------------------------------------------------------------------------\n",
      "Epoch: 48, Learning Rate: 0.0005\n",
      "\n"
     ]
    },
    {
     "data": {
      "application/vnd.jupyter.widget-view+json": {
       "model_id": "2a18cebf43fc48a1b84fa324879c487e",
       "version_major": 2,
       "version_minor": 0
      },
      "text/plain": [
       "HBox(children=(FloatProgress(value=0.0, max=132.0), HTML(value='')))"
      ]
     },
     "metadata": {},
     "output_type": "display_data"
    },
    {
     "name": "stdout",
     "output_type": "stream",
     "text": [
      "\n",
      "tensor(-2.3580e-05, device='cuda:3')\n",
      "tensor(-3.6917e-07, device='cuda:3')\n",
      "tensor(-0.0005, device='cuda:3')\n",
      "tensor(-0.0005, device='cuda:3')\n",
      "tensor(2.0917e-05, device='cuda:3')\n",
      "tensor(1.0535e-06, device='cuda:3')\n",
      "tensor(0.0004, device='cuda:3')\n",
      "tensor(0.0004, device='cuda:3')\n",
      "tensor(-2.9726e-07, device='cuda:3')\n",
      "tensor(-1.5117e-06, device='cuda:3')\n",
      "tensor(7.1266e-05, device='cuda:3')\n",
      "tensor(7.1266e-05, device='cuda:3')\n",
      "tensor(-2.7237e-07, device='cuda:3')\n",
      "tensor(0., device='cuda:3')\n",
      "tensor(3.4955e-05, device='cuda:3')\n",
      "tensor(3.4955e-05, device='cuda:3')\n",
      "tensor(7.0565e-06, device='cuda:3')\n",
      "tensor(-0.0008, device='cuda:3')\n",
      "tensor(1.1012e-09, device='cuda:3')\n",
      "tensor(1.6853e-09, device='cuda:3')\n"
     ]
    },
    {
     "data": {
      "application/vnd.jupyter.widget-view+json": {
       "model_id": "58d7494366fd495daf105bf8678a1c22",
       "version_major": 2,
       "version_minor": 0
      },
      "text/plain": [
       "HBox(children=(FloatProgress(value=0.0, max=17.0), HTML(value='')))"
      ]
     },
     "metadata": {},
     "output_type": "display_data"
    },
    {
     "name": "stdout",
     "output_type": "stream",
     "text": [
      "\n",
      "epoch time: 26.777219533920288\n",
      "loss train: 0.2619846419177272, loss val: 0.3143162429332733\n",
      "accuracy train: 0.8705952380952381, accuracy val: 0.8466666666666667\n",
      "---------------------------------------------------------------------------------------------------\n",
      "Epoch: 49, Learning Rate: 0.0005\n",
      "\n"
     ]
    },
    {
     "data": {
      "application/vnd.jupyter.widget-view+json": {
       "model_id": "050228b46a2541528485b607aded5ecc",
       "version_major": 2,
       "version_minor": 0
      },
      "text/plain": [
       "HBox(children=(FloatProgress(value=0.0, max=132.0), HTML(value='')))"
      ]
     },
     "metadata": {},
     "output_type": "display_data"
    },
    {
     "name": "stdout",
     "output_type": "stream",
     "text": [
      "\n",
      "tensor(2.2935e-06, device='cuda:3')\n",
      "tensor(-5.7537e-08, device='cuda:3')\n",
      "tensor(-6.7697e-05, device='cuda:3')\n",
      "tensor(-6.7697e-05, device='cuda:3')\n",
      "tensor(1.2730e-06, device='cuda:3')\n",
      "tensor(-8.5307e-09, device='cuda:3')\n",
      "tensor(-1.2910e-06, device='cuda:3')\n",
      "tensor(-1.2910e-06, device='cuda:3')\n",
      "tensor(-3.5052e-09, device='cuda:3')\n",
      "tensor(1.6259e-07, device='cuda:3')\n",
      "tensor(-1.1764e-05, device='cuda:3')\n",
      "tensor(-1.1764e-05, device='cuda:3')\n",
      "tensor(-3.0627e-09, device='cuda:3')\n",
      "tensor(0., device='cuda:3')\n",
      "tensor(-1.8531e-05, device='cuda:3')\n",
      "tensor(-1.8531e-05, device='cuda:3')\n",
      "tensor(2.4338e-06, device='cuda:3')\n",
      "tensor(-0.0002, device='cuda:3')\n",
      "tensor(-1.1417e-09, device='cuda:3')\n",
      "tensor(-3.5479e-10, device='cuda:3')\n"
     ]
    },
    {
     "data": {
      "application/vnd.jupyter.widget-view+json": {
       "model_id": "842ebf63c0a8455f9628e08937f9ae6f",
       "version_major": 2,
       "version_minor": 0
      },
      "text/plain": [
       "HBox(children=(FloatProgress(value=0.0, max=17.0), HTML(value='')))"
      ]
     },
     "metadata": {},
     "output_type": "display_data"
    },
    {
     "name": "stdout",
     "output_type": "stream",
     "text": [
      "\n",
      "epoch time: 26.259837865829468\n",
      "loss train: 0.26639316349544306, loss val: 0.32275261160205393\n",
      "accuracy train: 0.8692857142857143, accuracy val: 0.8452380952380952\n",
      "---------------------------------------------------------------------------------------------------\n",
      "Epoch: 50, Learning Rate: 0.0005\n",
      "\n"
     ]
    },
    {
     "data": {
      "application/vnd.jupyter.widget-view+json": {
       "model_id": "5e43148bac37405bae1d2cd88153fd2b",
       "version_major": 2,
       "version_minor": 0
      },
      "text/plain": [
       "HBox(children=(FloatProgress(value=0.0, max=132.0), HTML(value='')))"
      ]
     },
     "metadata": {},
     "output_type": "display_data"
    },
    {
     "name": "stdout",
     "output_type": "stream",
     "text": [
      "\n",
      "tensor(3.4629e-06, device='cuda:3')\n",
      "tensor(-1.6566e-07, device='cuda:3')\n",
      "tensor(9.7463e-05, device='cuda:3')\n",
      "tensor(9.7463e-05, device='cuda:3')\n",
      "tensor(1.7763e-06, device='cuda:3')\n",
      "tensor(3.6326e-08, device='cuda:3')\n",
      "tensor(-5.4110e-05, device='cuda:3')\n",
      "tensor(-5.4110e-05, device='cuda:3')\n",
      "tensor(-1.0845e-07, device='cuda:3')\n",
      "tensor(6.4764e-08, device='cuda:3')\n",
      "tensor(-1.9811e-06, device='cuda:3')\n",
      "tensor(-1.9811e-06, device='cuda:3')\n",
      "tensor(6.1844e-08, device='cuda:3')\n",
      "tensor(0., device='cuda:3')\n",
      "tensor(4.2337e-06, device='cuda:3')\n",
      "tensor(4.2337e-06, device='cuda:3')\n",
      "tensor(-7.2404e-07, device='cuda:3')\n",
      "tensor(0.0001, device='cuda:3')\n",
      "tensor(-1.2205e-09, device='cuda:3')\n",
      "tensor(-6.2088e-10, device='cuda:3')\n"
     ]
    },
    {
     "data": {
      "application/vnd.jupyter.widget-view+json": {
       "model_id": "d39a2be3c8314b7bad453c248b3553f4",
       "version_major": 2,
       "version_minor": 0
      },
      "text/plain": [
       "HBox(children=(FloatProgress(value=0.0, max=17.0), HTML(value='')))"
      ]
     },
     "metadata": {},
     "output_type": "display_data"
    },
    {
     "name": "stdout",
     "output_type": "stream",
     "text": [
      "\n",
      "epoch time: 25.98851227760315\n",
      "loss train: 0.26047612478335697, loss val: 0.30178674704888286\n",
      "accuracy train: 0.8673809523809524, accuracy val: 0.8561904761904762\n",
      "---------------------------------------------------------------------------------------------------\n",
      "Epoch: 51, Learning Rate: 0.0005\n",
      "\n"
     ]
    },
    {
     "data": {
      "application/vnd.jupyter.widget-view+json": {
       "model_id": "143401b338fd4e30b46eae7a05608ed2",
       "version_major": 2,
       "version_minor": 0
      },
      "text/plain": [
       "HBox(children=(FloatProgress(value=0.0, max=132.0), HTML(value='')))"
      ]
     },
     "metadata": {},
     "output_type": "display_data"
    },
    {
     "name": "stdout",
     "output_type": "stream",
     "text": [
      "\n",
      "tensor(3.7489e-06, device='cuda:3')\n",
      "tensor(-1.2745e-07, device='cuda:3')\n",
      "tensor(-0.0002, device='cuda:3')\n",
      "tensor(-0.0002, device='cuda:3')\n",
      "tensor(1.2658e-06, device='cuda:3')\n",
      "tensor(6.0261e-08, device='cuda:3')\n",
      "tensor(3.5475e-05, device='cuda:3')\n",
      "tensor(3.5475e-05, device='cuda:3')\n",
      "tensor(8.5422e-09, device='cuda:3')\n",
      "tensor(-2.6814e-07, device='cuda:3')\n",
      "tensor(2.9515e-05, device='cuda:3')\n",
      "tensor(2.9515e-05, device='cuda:3')\n",
      "tensor(-4.3919e-08, device='cuda:3')\n",
      "tensor(0., device='cuda:3')\n",
      "tensor(7.5851e-06, device='cuda:3')\n",
      "tensor(7.5851e-06, device='cuda:3')\n",
      "tensor(-7.5269e-08, device='cuda:3')\n",
      "tensor(4.8709e-05, device='cuda:3')\n",
      "tensor(3.5372e-09, device='cuda:3')\n",
      "tensor(2.8383e-09, device='cuda:3')\n"
     ]
    },
    {
     "data": {
      "application/vnd.jupyter.widget-view+json": {
       "model_id": "8322fb8ba6ff4f499d1f9ec8c3caab7e",
       "version_major": 2,
       "version_minor": 0
      },
      "text/plain": [
       "HBox(children=(FloatProgress(value=0.0, max=17.0), HTML(value='')))"
      ]
     },
     "metadata": {},
     "output_type": "display_data"
    },
    {
     "name": "stdout",
     "output_type": "stream",
     "text": [
      "\n",
      "epoch time: 25.901583194732666\n",
      "loss train: 0.24958421526984734, loss val: 0.30982519861529856\n",
      "accuracy train: 0.8786904761904762, accuracy val: 0.8523809523809524\n",
      "---------------------------------------------------------------------------------------------------\n",
      "Epoch: 52, Learning Rate: 0.0005\n",
      "\n"
     ]
    },
    {
     "data": {
      "application/vnd.jupyter.widget-view+json": {
       "model_id": "63404a743ff4475bafc15afa50672e48",
       "version_major": 2,
       "version_minor": 0
      },
      "text/plain": [
       "HBox(children=(FloatProgress(value=0.0, max=132.0), HTML(value='')))"
      ]
     },
     "metadata": {},
     "output_type": "display_data"
    },
    {
     "name": "stdout",
     "output_type": "stream",
     "text": [
      "\n",
      "tensor(-2.6073e-05, device='cuda:3')\n",
      "tensor(-4.2963e-07, device='cuda:3')\n",
      "tensor(0.0004, device='cuda:3')\n",
      "tensor(0.0004, device='cuda:3')\n",
      "tensor(3.1429e-06, device='cuda:3')\n",
      "tensor(3.2196e-07, device='cuda:3')\n",
      "tensor(-0.0003, device='cuda:3')\n",
      "tensor(-0.0003, device='cuda:3')\n",
      "tensor(-2.7636e-07, device='cuda:3')\n",
      "tensor(3.8022e-07, device='cuda:3')\n",
      "tensor(1.8979e-05, device='cuda:3')\n",
      "tensor(1.8979e-05, device='cuda:3')\n",
      "tensor(6.4585e-08, device='cuda:3')\n",
      "tensor(0., device='cuda:3')\n",
      "tensor(1.6507e-05, device='cuda:3')\n",
      "tensor(1.6507e-05, device='cuda:3')\n",
      "tensor(-2.9081e-06, device='cuda:3')\n",
      "tensor(0.0005, device='cuda:3')\n",
      "tensor(4.4540e-09, device='cuda:3')\n",
      "tensor(1.0644e-09, device='cuda:3')\n"
     ]
    },
    {
     "data": {
      "application/vnd.jupyter.widget-view+json": {
       "model_id": "aa76577a2db047df967684797e708cb3",
       "version_major": 2,
       "version_minor": 0
      },
      "text/plain": [
       "HBox(children=(FloatProgress(value=0.0, max=17.0), HTML(value='')))"
      ]
     },
     "metadata": {},
     "output_type": "display_data"
    },
    {
     "name": "stdout",
     "output_type": "stream",
     "text": [
      "\n",
      "epoch time: 26.719507455825806\n",
      "loss train: 0.2518818928775462, loss val: 0.30342960357666016\n",
      "accuracy train: 0.8761904761904762, accuracy val: 0.8538095238095238\n",
      "---------------------------------------------------------------------------------------------------\n",
      "Epoch: 53, Learning Rate: 0.0005\n",
      "\n"
     ]
    },
    {
     "data": {
      "application/vnd.jupyter.widget-view+json": {
       "model_id": "27543e9734a14fff8396681ba8acfc1d",
       "version_major": 2,
       "version_minor": 0
      },
      "text/plain": [
       "HBox(children=(FloatProgress(value=0.0, max=132.0), HTML(value='')))"
      ]
     },
     "metadata": {},
     "output_type": "display_data"
    },
    {
     "name": "stdout",
     "output_type": "stream",
     "text": [
      "\n",
      "tensor(-2.2690e-05, device='cuda:3')\n",
      "tensor(9.2589e-07, device='cuda:3')\n",
      "tensor(3.7945e-05, device='cuda:3')\n",
      "tensor(3.7945e-05, device='cuda:3')\n",
      "tensor(-2.4521e-06, device='cuda:3')\n",
      "tensor(1.2147e-07, device='cuda:3')\n",
      "tensor(6.6120e-05, device='cuda:3')\n",
      "tensor(6.6120e-05, device='cuda:3')\n",
      "tensor(-5.8053e-08, device='cuda:3')\n",
      "tensor(1.2401e-06, device='cuda:3')\n",
      "tensor(-4.6543e-05, device='cuda:3')\n",
      "tensor(-4.6543e-05, device='cuda:3')\n",
      "tensor(-1.2512e-08, device='cuda:3')\n",
      "tensor(0., device='cuda:3')\n",
      "tensor(1.4534e-06, device='cuda:3')\n",
      "tensor(1.4534e-06, device='cuda:3')\n",
      "tensor(1.6375e-06, device='cuda:3')\n",
      "tensor(-0.0001, device='cuda:3')\n",
      "tensor(6.7605e-10, device='cuda:3')\n",
      "tensor(8.8697e-11, device='cuda:3')\n"
     ]
    },
    {
     "data": {
      "application/vnd.jupyter.widget-view+json": {
       "model_id": "e5a4544898b54152bfe1d27dcf2740fa",
       "version_major": 2,
       "version_minor": 0
      },
      "text/plain": [
       "HBox(children=(FloatProgress(value=0.0, max=17.0), HTML(value='')))"
      ]
     },
     "metadata": {},
     "output_type": "display_data"
    },
    {
     "name": "stdout",
     "output_type": "stream",
     "text": [
      "\n",
      "epoch time: 26.401867628097534\n",
      "loss train: 0.2457842786768169, loss val: 0.2917856688008589\n",
      "accuracy train: 0.8777380952380952, accuracy val: 0.8666666666666667\n",
      "---------------------------------------------------------------------------------------------------\n",
      "Epoch: 54, Learning Rate: 0.0005\n",
      "\n"
     ]
    },
    {
     "data": {
      "application/vnd.jupyter.widget-view+json": {
       "model_id": "5f631b44534341a0947d0b633d567975",
       "version_major": 2,
       "version_minor": 0
      },
      "text/plain": [
       "HBox(children=(FloatProgress(value=0.0, max=132.0), HTML(value='')))"
      ]
     },
     "metadata": {},
     "output_type": "display_data"
    },
    {
     "name": "stdout",
     "output_type": "stream",
     "text": [
      "\n",
      "tensor(3.5598e-05, device='cuda:3')\n",
      "tensor(-1.1959e-06, device='cuda:3')\n",
      "tensor(-0.0007, device='cuda:3')\n",
      "tensor(-0.0007, device='cuda:3')\n",
      "tensor(1.1506e-05, device='cuda:3')\n",
      "tensor(-1.0588e-07, device='cuda:3')\n",
      "tensor(-8.2022e-05, device='cuda:3')\n",
      "tensor(-8.2022e-05, device='cuda:3')\n",
      "tensor(-1.3799e-07, device='cuda:3')\n",
      "tensor(-6.5823e-07, device='cuda:3')\n",
      "tensor(4.6580e-05, device='cuda:3')\n",
      "tensor(4.6580e-05, device='cuda:3')\n",
      "tensor(-4.2847e-09, device='cuda:3')\n",
      "tensor(0., device='cuda:3')\n",
      "tensor(-3.6711e-06, device='cuda:3')\n",
      "tensor(-3.6711e-06, device='cuda:3')\n",
      "tensor(-9.9711e-07, device='cuda:3')\n",
      "tensor(9.5144e-05, device='cuda:3')\n",
      "tensor(7.6640e-10, device='cuda:3')\n",
      "tensor(3.5479e-10, device='cuda:3')\n"
     ]
    },
    {
     "data": {
      "application/vnd.jupyter.widget-view+json": {
       "model_id": "5c68b0bc25b9427bbbba222f066afc95",
       "version_major": 2,
       "version_minor": 0
      },
      "text/plain": [
       "HBox(children=(FloatProgress(value=0.0, max=17.0), HTML(value='')))"
      ]
     },
     "metadata": {},
     "output_type": "display_data"
    },
    {
     "name": "stdout",
     "output_type": "stream",
     "text": [
      "\n",
      "epoch time: 26.07809281349182\n",
      "loss train: 0.23997454283138117, loss val: 0.2783711517558378\n",
      "accuracy train: 0.8833333333333333, accuracy val: 0.87\n",
      "---------------------------------------------------------------------------------------------------\n",
      "Epoch: 55, Learning Rate: 0.0005\n",
      "\n"
     ]
    },
    {
     "data": {
      "application/vnd.jupyter.widget-view+json": {
       "model_id": "332430e940e349b58e8a6848707b11ed",
       "version_major": 2,
       "version_minor": 0
      },
      "text/plain": [
       "HBox(children=(FloatProgress(value=0.0, max=132.0), HTML(value='')))"
      ]
     },
     "metadata": {},
     "output_type": "display_data"
    },
    {
     "name": "stdout",
     "output_type": "stream",
     "text": [
      "\n",
      "tensor(1.7173e-05, device='cuda:3')\n",
      "tensor(-9.2463e-08, device='cuda:3')\n",
      "tensor(-0.0003, device='cuda:3')\n",
      "tensor(-0.0003, device='cuda:3')\n",
      "tensor(3.1945e-06, device='cuda:3')\n",
      "tensor(-6.9351e-08, device='cuda:3')\n",
      "tensor(-8.8104e-06, device='cuda:3')\n",
      "tensor(-8.8104e-06, device='cuda:3')\n",
      "tensor(-3.4381e-08, device='cuda:3')\n",
      "tensor(-3.3542e-07, device='cuda:3')\n",
      "tensor(1.5443e-05, device='cuda:3')\n",
      "tensor(1.5443e-05, device='cuda:3')\n",
      "tensor(2.3696e-08, device='cuda:3')\n",
      "tensor(0., device='cuda:3')\n",
      "tensor(1.2424e-05, device='cuda:3')\n",
      "tensor(1.2424e-05, device='cuda:3')\n",
      "tensor(4.0239e-06, device='cuda:3')\n",
      "tensor(-0.0005, device='cuda:3')\n",
      "tensor(2.6497e-09, device='cuda:3')\n",
      "tensor(2.8383e-09, device='cuda:3')\n"
     ]
    },
    {
     "data": {
      "application/vnd.jupyter.widget-view+json": {
       "model_id": "f110b0772663430f91d61d15f29f58b7",
       "version_major": 2,
       "version_minor": 0
      },
      "text/plain": [
       "HBox(children=(FloatProgress(value=0.0, max=17.0), HTML(value='')))"
      ]
     },
     "metadata": {},
     "output_type": "display_data"
    },
    {
     "name": "stdout",
     "output_type": "stream",
     "text": [
      "\n",
      "epoch time: 26.72948145866394\n",
      "loss train: 0.23530266270267242, loss val: 0.32033123777193184\n",
      "accuracy train: 0.8851190476190476, accuracy val: 0.8514285714285714\n",
      "---------------------------------------------------------------------------------------------------\n",
      "Epoch: 56, Learning Rate: 0.0005\n",
      "\n"
     ]
    },
    {
     "data": {
      "application/vnd.jupyter.widget-view+json": {
       "model_id": "6a09428537b94423b6144820ab4f0933",
       "version_major": 2,
       "version_minor": 0
      },
      "text/plain": [
       "HBox(children=(FloatProgress(value=0.0, max=132.0), HTML(value='')))"
      ]
     },
     "metadata": {},
     "output_type": "display_data"
    },
    {
     "name": "stdout",
     "output_type": "stream",
     "text": [
      "\n",
      "tensor(1.9388e-05, device='cuda:3')\n",
      "tensor(-4.6160e-07, device='cuda:3')\n",
      "tensor(0.0001, device='cuda:3')\n",
      "tensor(0.0001, device='cuda:3')\n",
      "tensor(-3.3849e-05, device='cuda:3')\n",
      "tensor(-1.2480e-07, device='cuda:3')\n",
      "tensor(0.0006, device='cuda:3')\n",
      "tensor(0.0006, device='cuda:3')\n",
      "tensor(3.5662e-07, device='cuda:3')\n",
      "tensor(2.5254e-06, device='cuda:3')\n",
      "tensor(-9.8206e-05, device='cuda:3')\n",
      "tensor(-9.8206e-05, device='cuda:3')\n",
      "tensor(-1.1981e-07, device='cuda:3')\n",
      "tensor(0., device='cuda:3')\n",
      "tensor(-5.0107e-06, device='cuda:3')\n",
      "tensor(-5.0107e-06, device='cuda:3')\n",
      "tensor(-5.2976e-06, device='cuda:3')\n",
      "tensor(0.0005, device='cuda:3')\n",
      "tensor(2.7475e-10, device='cuda:3')\n",
      "tensor(-3.5479e-10, device='cuda:3')\n"
     ]
    },
    {
     "data": {
      "application/vnd.jupyter.widget-view+json": {
       "model_id": "5fbf1a7041804ac9b4fa8cad9ade22c1",
       "version_major": 2,
       "version_minor": 0
      },
      "text/plain": [
       "HBox(children=(FloatProgress(value=0.0, max=17.0), HTML(value='')))"
      ]
     },
     "metadata": {},
     "output_type": "display_data"
    },
    {
     "name": "stdout",
     "output_type": "stream",
     "text": [
      "\n",
      "epoch time: 27.166805505752563\n",
      "loss train: 0.23385789459853462, loss val: 0.30249730366117816\n",
      "accuracy train: 0.8854761904761905, accuracy val: 0.8685714285714285\n",
      "---------------------------------------------------------------------------------------------------\n",
      "Epoch: 57, Learning Rate: 0.0005\n",
      "\n"
     ]
    },
    {
     "data": {
      "application/vnd.jupyter.widget-view+json": {
       "model_id": "9ee7263247b2450f87491b3fdda0fc33",
       "version_major": 2,
       "version_minor": 0
      },
      "text/plain": [
       "HBox(children=(FloatProgress(value=0.0, max=132.0), HTML(value='')))"
      ]
     },
     "metadata": {},
     "output_type": "display_data"
    },
    {
     "name": "stdout",
     "output_type": "stream",
     "text": [
      "\n",
      "tensor(-1.1600e-05, device='cuda:3')\n",
      "tensor(6.1924e-08, device='cuda:3')\n",
      "tensor(-0.0001, device='cuda:3')\n",
      "tensor(-0.0001, device='cuda:3')\n",
      "tensor(-2.6882e-05, device='cuda:3')\n",
      "tensor(-2.0246e-06, device='cuda:3')\n",
      "tensor(-0.0003, device='cuda:3')\n",
      "tensor(-0.0003, device='cuda:3')\n",
      "tensor(1.7744e-07, device='cuda:3')\n",
      "tensor(2.9651e-06, device='cuda:3')\n",
      "tensor(-0.0001, device='cuda:3')\n",
      "tensor(-0.0001, device='cuda:3')\n",
      "tensor(1.0380e-07, device='cuda:3')\n",
      "tensor(0., device='cuda:3')\n",
      "tensor(4.8306e-06, device='cuda:3')\n",
      "tensor(4.8306e-06, device='cuda:3')\n",
      "tensor(-8.7058e-06, device='cuda:3')\n",
      "tensor(0.0009, device='cuda:3')\n",
      "tensor(6.8194e-09, device='cuda:3')\n",
      "tensor(4.6123e-09, device='cuda:3')\n"
     ]
    },
    {
     "data": {
      "application/vnd.jupyter.widget-view+json": {
       "model_id": "faeb4c2d265341fd8000355082b0f965",
       "version_major": 2,
       "version_minor": 0
      },
      "text/plain": [
       "HBox(children=(FloatProgress(value=0.0, max=17.0), HTML(value='')))"
      ]
     },
     "metadata": {},
     "output_type": "display_data"
    },
    {
     "name": "stdout",
     "output_type": "stream",
     "text": [
      "\n",
      "epoch time: 26.50055718421936\n",
      "loss train: 0.2453974953880816, loss val: 0.3117145466453889\n",
      "accuracy train: 0.8817857142857143, accuracy val: 0.8652380952380953\n",
      "---------------------------------------------------------------------------------------------------\n",
      "Epoch: 58, Learning Rate: 0.0005\n",
      "\n"
     ]
    },
    {
     "data": {
      "application/vnd.jupyter.widget-view+json": {
       "model_id": "4b5cf0336cfb4b1d9384c267a695ecd2",
       "version_major": 2,
       "version_minor": 0
      },
      "text/plain": [
       "HBox(children=(FloatProgress(value=0.0, max=132.0), HTML(value='')))"
      ]
     },
     "metadata": {},
     "output_type": "display_data"
    },
    {
     "name": "stdout",
     "output_type": "stream",
     "text": [
      "\n",
      "tensor(2.6119e-05, device='cuda:3')\n",
      "tensor(-2.0813e-06, device='cuda:3')\n",
      "tensor(3.9269e-05, device='cuda:3')\n",
      "tensor(3.9269e-05, device='cuda:3')\n",
      "tensor(-4.7711e-06, device='cuda:3')\n",
      "tensor(1.4375e-08, device='cuda:3')\n",
      "tensor(-0.0001, device='cuda:3')\n",
      "tensor(-0.0001, device='cuda:3')\n",
      "tensor(1.5973e-07, device='cuda:3')\n",
      "tensor(3.8361e-06, device='cuda:3')\n",
      "tensor(-0.0001, device='cuda:3')\n",
      "tensor(-0.0001, device='cuda:3')\n",
      "tensor(-2.2728e-07, device='cuda:3')\n",
      "tensor(0., device='cuda:3')\n",
      "tensor(-1.1082e-05, device='cuda:3')\n",
      "tensor(-1.1082e-05, device='cuda:3')\n",
      "tensor(2.8095e-06, device='cuda:3')\n",
      "tensor(-0.0003, device='cuda:3')\n",
      "tensor(2.8686e-10, device='cuda:3')\n",
      "tensor(-3.5479e-10, device='cuda:3')\n"
     ]
    },
    {
     "data": {
      "application/vnd.jupyter.widget-view+json": {
       "model_id": "7b951fcacefa43eeb878da569a992517",
       "version_major": 2,
       "version_minor": 0
      },
      "text/plain": [
       "HBox(children=(FloatProgress(value=0.0, max=17.0), HTML(value='')))"
      ]
     },
     "metadata": {},
     "output_type": "display_data"
    },
    {
     "name": "stdout",
     "output_type": "stream",
     "text": [
      "\n",
      "epoch time: 26.64998722076416\n",
      "loss train: 0.23286122106241458, loss val: 0.27708326367770925\n",
      "accuracy train: 0.8901190476190476, accuracy val: 0.8695238095238095\n",
      "---------------------------------------------------------------------------------------------------\n",
      "Epoch: 59, Learning Rate: 0.0005\n",
      "\n"
     ]
    },
    {
     "data": {
      "application/vnd.jupyter.widget-view+json": {
       "model_id": "6f9e53792ce04c499e381812e10dd8a1",
       "version_major": 2,
       "version_minor": 0
      },
      "text/plain": [
       "HBox(children=(FloatProgress(value=0.0, max=132.0), HTML(value='')))"
      ]
     },
     "metadata": {},
     "output_type": "display_data"
    },
    {
     "name": "stdout",
     "output_type": "stream",
     "text": [
      "\n",
      "tensor(3.0199e-05, device='cuda:3')\n",
      "tensor(1.0209e-06, device='cuda:3')\n",
      "tensor(-0.0012, device='cuda:3')\n",
      "tensor(-0.0012, device='cuda:3')\n",
      "tensor(-1.1189e-06, device='cuda:3')\n",
      "tensor(-1.2906e-07, device='cuda:3')\n",
      "tensor(0.0002, device='cuda:3')\n",
      "tensor(0.0002, device='cuda:3')\n",
      "tensor(-9.4220e-07, device='cuda:3')\n",
      "tensor(-6.5002e-06, device='cuda:3')\n",
      "tensor(0.0003, device='cuda:3')\n",
      "tensor(0.0003, device='cuda:3')\n",
      "tensor(1.2291e-07, device='cuda:3')\n",
      "tensor(0., device='cuda:3')\n",
      "tensor(-3.7176e-05, device='cuda:3')\n",
      "tensor(-3.7176e-05, device='cuda:3')\n",
      "tensor(3.6971e-06, device='cuda:3')\n",
      "tensor(-0.0004, device='cuda:3')\n",
      "tensor(3.2903e-09, device='cuda:3')\n",
      "tensor(2.1287e-09, device='cuda:3')\n"
     ]
    },
    {
     "data": {
      "application/vnd.jupyter.widget-view+json": {
       "model_id": "9ed8763d73e540a4b7c7c61f028dea52",
       "version_major": 2,
       "version_minor": 0
      },
      "text/plain": [
       "HBox(children=(FloatProgress(value=0.0, max=17.0), HTML(value='')))"
      ]
     },
     "metadata": {},
     "output_type": "display_data"
    },
    {
     "name": "stdout",
     "output_type": "stream",
     "text": [
      "\n",
      "epoch time: 26.700196743011475\n",
      "loss train: 0.22493368912149558, loss val: 0.27489908127223744\n",
      "accuracy train: 0.8938095238095238, accuracy val: 0.8671428571428571\n",
      "---------------------------------------------------------------------------------------------------\n",
      "Epoch: 60, Learning Rate: 0.00025\n",
      "\n"
     ]
    },
    {
     "data": {
      "application/vnd.jupyter.widget-view+json": {
       "model_id": "7dbf25ff39fe4d37b57457c004d1139e",
       "version_major": 2,
       "version_minor": 0
      },
      "text/plain": [
       "HBox(children=(FloatProgress(value=0.0, max=132.0), HTML(value='')))"
      ]
     },
     "metadata": {},
     "output_type": "display_data"
    },
    {
     "name": "stdout",
     "output_type": "stream",
     "text": [
      "\n",
      "tensor(-5.6655e-06, device='cuda:3')\n",
      "tensor(2.7341e-07, device='cuda:3')\n",
      "tensor(-0.0001, device='cuda:3')\n",
      "tensor(-0.0001, device='cuda:3')\n",
      "tensor(-5.0173e-07, device='cuda:3')\n",
      "tensor(-3.0848e-09, device='cuda:3')\n",
      "tensor(-3.6111e-06, device='cuda:3')\n",
      "tensor(-3.6111e-06, device='cuda:3')\n",
      "tensor(1.7010e-09, device='cuda:3')\n",
      "tensor(1.3421e-07, device='cuda:3')\n",
      "tensor(-5.2670e-06, device='cuda:3')\n",
      "tensor(-5.2670e-06, device='cuda:3')\n",
      "tensor(-5.3002e-09, device='cuda:3')\n",
      "tensor(0., device='cuda:3')\n",
      "tensor(-1.2642e-06, device='cuda:3')\n",
      "tensor(-1.2642e-06, device='cuda:3')\n",
      "tensor(5.1057e-07, device='cuda:3')\n",
      "tensor(-4.0492e-05, device='cuda:3')\n",
      "tensor(6.2047e-09, device='cuda:3')\n",
      "tensor(4.8784e-09, device='cuda:3')\n"
     ]
    },
    {
     "data": {
      "application/vnd.jupyter.widget-view+json": {
       "model_id": "9abec04fdc8b4b1798178ec126ef0169",
       "version_major": 2,
       "version_minor": 0
      },
      "text/plain": [
       "HBox(children=(FloatProgress(value=0.0, max=17.0), HTML(value='')))"
      ]
     },
     "metadata": {},
     "output_type": "display_data"
    },
    {
     "name": "stdout",
     "output_type": "stream",
     "text": [
      "\n",
      "epoch time: 26.248887300491333\n",
      "loss train: 0.20820132727650079, loss val: 0.2935166525490144\n",
      "accuracy train: 0.896547619047619, accuracy val: 0.8738095238095238\n",
      "---------------------------------------------------------------------------------------------------\n",
      "Epoch: 61, Learning Rate: 0.00025\n",
      "\n"
     ]
    },
    {
     "data": {
      "application/vnd.jupyter.widget-view+json": {
       "model_id": "339f0575cf254b1dbab160d6f198a3b5",
       "version_major": 2,
       "version_minor": 0
      },
      "text/plain": [
       "HBox(children=(FloatProgress(value=0.0, max=132.0), HTML(value='')))"
      ]
     },
     "metadata": {},
     "output_type": "display_data"
    },
    {
     "name": "stdout",
     "output_type": "stream",
     "text": [
      "\n",
      "tensor(1.4009e-05, device='cuda:3')\n",
      "tensor(-3.5126e-07, device='cuda:3')\n",
      "tensor(-0.0002, device='cuda:3')\n",
      "tensor(-0.0002, device='cuda:3')\n",
      "tensor(3.0956e-06, device='cuda:3')\n",
      "tensor(2.8902e-08, device='cuda:3')\n",
      "tensor(-3.7799e-05, device='cuda:3')\n",
      "tensor(-3.7799e-05, device='cuda:3')\n",
      "tensor(1.6650e-08, device='cuda:3')\n",
      "tensor(1.3091e-07, device='cuda:3')\n",
      "tensor(-1.4410e-05, device='cuda:3')\n",
      "tensor(-1.4410e-05, device='cuda:3')\n",
      "tensor(-2.0832e-08, device='cuda:3')\n",
      "tensor(0., device='cuda:3')\n",
      "tensor(-4.3262e-06, device='cuda:3')\n",
      "tensor(-4.3262e-06, device='cuda:3')\n",
      "tensor(5.6243e-07, device='cuda:3')\n",
      "tensor(-0.0002, device='cuda:3')\n",
      "tensor(4.5521e-09, device='cuda:3')\n",
      "tensor(2.7053e-09, device='cuda:3')\n"
     ]
    },
    {
     "data": {
      "application/vnd.jupyter.widget-view+json": {
       "model_id": "65cea30f93f94c82af8e9dbcec05051b",
       "version_major": 2,
       "version_minor": 0
      },
      "text/plain": [
       "HBox(children=(FloatProgress(value=0.0, max=17.0), HTML(value='')))"
      ]
     },
     "metadata": {},
     "output_type": "display_data"
    },
    {
     "name": "stdout",
     "output_type": "stream",
     "text": [
      "\n",
      "epoch time: 26.895658493041992\n",
      "loss train: 0.19896377504549242, loss val: 0.26608359550728516\n",
      "accuracy train: 0.9007142857142857, accuracy val: 0.8704761904761905\n",
      "---------------------------------------------------------------------------------------------------\n",
      "Epoch: 62, Learning Rate: 0.00025\n",
      "\n"
     ]
    },
    {
     "data": {
      "application/vnd.jupyter.widget-view+json": {
       "model_id": "decdf8a6f5a84c9094329db31c147588",
       "version_major": 2,
       "version_minor": 0
      },
      "text/plain": [
       "HBox(children=(FloatProgress(value=0.0, max=132.0), HTML(value='')))"
      ]
     },
     "metadata": {},
     "output_type": "display_data"
    },
    {
     "name": "stdout",
     "output_type": "stream",
     "text": [
      "\n",
      "tensor(1.1535e-05, device='cuda:3')\n",
      "tensor(-2.4327e-07, device='cuda:3')\n",
      "tensor(-0.0002, device='cuda:3')\n",
      "tensor(-0.0002, device='cuda:3')\n",
      "tensor(1.3316e-06, device='cuda:3')\n",
      "tensor(3.5558e-08, device='cuda:3')\n",
      "tensor(-7.8694e-06, device='cuda:3')\n",
      "tensor(-7.8694e-06, device='cuda:3')\n",
      "tensor(1.7042e-08, device='cuda:3')\n",
      "tensor(4.1601e-07, device='cuda:3')\n",
      "tensor(-2.0628e-05, device='cuda:3')\n",
      "tensor(-2.0628e-05, device='cuda:3')\n",
      "tensor(2.4908e-08, device='cuda:3')\n",
      "tensor(0., device='cuda:3')\n",
      "tensor(-7.0379e-06, device='cuda:3')\n",
      "tensor(-7.0379e-06, device='cuda:3')\n",
      "tensor(5.2474e-07, device='cuda:3')\n",
      "tensor(-4.0655e-05, device='cuda:3')\n",
      "tensor(2.8626e-09, device='cuda:3')\n",
      "tensor(2.3948e-09, device='cuda:3')\n"
     ]
    },
    {
     "data": {
      "application/vnd.jupyter.widget-view+json": {
       "model_id": "be4dd4e8912140caa35a8872824a6622",
       "version_major": 2,
       "version_minor": 0
      },
      "text/plain": [
       "HBox(children=(FloatProgress(value=0.0, max=17.0), HTML(value='')))"
      ]
     },
     "metadata": {},
     "output_type": "display_data"
    },
    {
     "name": "stdout",
     "output_type": "stream",
     "text": [
      "\n",
      "epoch time: 26.24223279953003\n",
      "loss train: 0.1898443674330007, loss val: 0.2861076759941438\n",
      "accuracy train: 0.9040476190476191, accuracy val: 0.8709523809523809\n",
      "---------------------------------------------------------------------------------------------------\n",
      "Epoch: 63, Learning Rate: 0.00025\n",
      "\n"
     ]
    },
    {
     "data": {
      "application/vnd.jupyter.widget-view+json": {
       "model_id": "0d4c4153b58e4466bf33a47a5837b0f4",
       "version_major": 2,
       "version_minor": 0
      },
      "text/plain": [
       "HBox(children=(FloatProgress(value=0.0, max=132.0), HTML(value='')))"
      ]
     },
     "metadata": {},
     "output_type": "display_data"
    },
    {
     "name": "stdout",
     "output_type": "stream",
     "text": [
      "\n",
      "tensor(9.0983e-06, device='cuda:3')\n",
      "tensor(-2.3460e-06, device='cuda:3')\n",
      "tensor(-0.0007, device='cuda:3')\n",
      "tensor(-0.0007, device='cuda:3')\n",
      "tensor(1.1892e-06, device='cuda:3')\n",
      "tensor(-9.4030e-08, device='cuda:3')\n",
      "tensor(-5.0527e-05, device='cuda:3')\n",
      "tensor(-5.0527e-05, device='cuda:3')\n",
      "tensor(-9.3396e-08, device='cuda:3')\n",
      "tensor(2.6356e-07, device='cuda:3')\n",
      "tensor(-1.9139e-05, device='cuda:3')\n",
      "tensor(-1.9139e-05, device='cuda:3')\n",
      "tensor(2.5932e-08, device='cuda:3')\n",
      "tensor(0., device='cuda:3')\n",
      "tensor(-8.8597e-06, device='cuda:3')\n",
      "tensor(-8.8597e-06, device='cuda:3')\n",
      "tensor(-1.4298e-06, device='cuda:3')\n",
      "tensor(1.8444e-05, device='cuda:3')\n",
      "tensor(-2.5049e-09, device='cuda:3')\n",
      "tensor(-2.1287e-09, device='cuda:3')\n"
     ]
    },
    {
     "data": {
      "application/vnd.jupyter.widget-view+json": {
       "model_id": "d68ef1d813974349ad571d960a067b26",
       "version_major": 2,
       "version_minor": 0
      },
      "text/plain": [
       "HBox(children=(FloatProgress(value=0.0, max=17.0), HTML(value='')))"
      ]
     },
     "metadata": {},
     "output_type": "display_data"
    },
    {
     "name": "stdout",
     "output_type": "stream",
     "text": [
      "\n",
      "epoch time: 27.007869482040405\n",
      "loss train: 0.19527233140825323, loss val: 0.29165731282795176\n",
      "accuracy train: 0.9008333333333334, accuracy val: 0.8714285714285714\n",
      "---------------------------------------------------------------------------------------------------\n",
      "Epoch: 64, Learning Rate: 0.00025\n",
      "\n"
     ]
    },
    {
     "data": {
      "application/vnd.jupyter.widget-view+json": {
       "model_id": "35cec0b8a7c145d0a38d9997f433b4e2",
       "version_major": 2,
       "version_minor": 0
      },
      "text/plain": [
       "HBox(children=(FloatProgress(value=0.0, max=132.0), HTML(value='')))"
      ]
     },
     "metadata": {},
     "output_type": "display_data"
    },
    {
     "name": "stdout",
     "output_type": "stream",
     "text": [
      "\n",
      "tensor(4.8356e-06, device='cuda:3')\n",
      "tensor(6.5501e-07, device='cuda:3')\n",
      "tensor(-0.0001, device='cuda:3')\n",
      "tensor(-0.0001, device='cuda:3')\n",
      "tensor(-1.3487e-06, device='cuda:3')\n",
      "tensor(1.3919e-08, device='cuda:3')\n",
      "tensor(-1.3747e-07, device='cuda:3')\n",
      "tensor(-1.3747e-07, device='cuda:3')\n",
      "tensor(6.4994e-08, device='cuda:3')\n",
      "tensor(9.4128e-07, device='cuda:3')\n",
      "tensor(-4.0480e-05, device='cuda:3')\n",
      "tensor(-4.0480e-05, device='cuda:3')\n",
      "tensor(1.2832e-08, device='cuda:3')\n",
      "tensor(0., device='cuda:3')\n",
      "tensor(-6.3715e-06, device='cuda:3')\n",
      "tensor(-6.3715e-06, device='cuda:3')\n",
      "tensor(-1.4642e-06, device='cuda:3')\n",
      "tensor(0.0001, device='cuda:3')\n",
      "tensor(-3.0082e-09, device='cuda:3')\n",
      "tensor(-1.9513e-09, device='cuda:3')\n"
     ]
    },
    {
     "data": {
      "application/vnd.jupyter.widget-view+json": {
       "model_id": "8479e932e7ea456aa1efdfb411f892c5",
       "version_major": 2,
       "version_minor": 0
      },
      "text/plain": [
       "HBox(children=(FloatProgress(value=0.0, max=17.0), HTML(value='')))"
      ]
     },
     "metadata": {},
     "output_type": "display_data"
    },
    {
     "name": "stdout",
     "output_type": "stream",
     "text": [
      "\n",
      "epoch time: 26.74507451057434\n",
      "loss train: 0.18991936765836948, loss val: 0.2742077147259432\n",
      "accuracy train: 0.9058333333333334, accuracy val: 0.8804761904761905\n",
      "---------------------------------------------------------------------------------------------------\n",
      "Epoch: 65, Learning Rate: 0.00025\n",
      "\n"
     ]
    },
    {
     "data": {
      "application/vnd.jupyter.widget-view+json": {
       "model_id": "54d34c88150a42a8b271f6bf8151367c",
       "version_major": 2,
       "version_minor": 0
      },
      "text/plain": [
       "HBox(children=(FloatProgress(value=0.0, max=132.0), HTML(value='')))"
      ]
     },
     "metadata": {},
     "output_type": "display_data"
    },
    {
     "name": "stdout",
     "output_type": "stream",
     "text": [
      "\n",
      "tensor(1.3163e-05, device='cuda:3')\n",
      "tensor(-2.2439e-07, device='cuda:3')\n",
      "tensor(0.0006, device='cuda:3')\n",
      "tensor(0.0006, device='cuda:3')\n",
      "tensor(-1.8877e-06, device='cuda:3')\n",
      "tensor(-2.2133e-08, device='cuda:3')\n",
      "tensor(-1.8841e-06, device='cuda:3')\n",
      "tensor(-1.8841e-06, device='cuda:3')\n",
      "tensor(-1.9679e-08, device='cuda:3')\n",
      "tensor(4.6234e-07, device='cuda:3')\n",
      "tensor(-1.3553e-05, device='cuda:3')\n",
      "tensor(-1.3553e-05, device='cuda:3')\n",
      "tensor(5.2093e-08, device='cuda:3')\n",
      "tensor(0., device='cuda:3')\n",
      "tensor(6.4196e-06, device='cuda:3')\n",
      "tensor(6.4196e-06, device='cuda:3')\n",
      "tensor(-9.0597e-07, device='cuda:3')\n",
      "tensor(0.0001, device='cuda:3')\n",
      "tensor(-1.1976e-09, device='cuda:3')\n",
      "tensor(-3.5479e-10, device='cuda:3')\n"
     ]
    },
    {
     "data": {
      "application/vnd.jupyter.widget-view+json": {
       "model_id": "b40b075bfed14577baa83496dc0da390",
       "version_major": 2,
       "version_minor": 0
      },
      "text/plain": [
       "HBox(children=(FloatProgress(value=0.0, max=17.0), HTML(value='')))"
      ]
     },
     "metadata": {},
     "output_type": "display_data"
    },
    {
     "name": "stdout",
     "output_type": "stream",
     "text": [
      "\n",
      "epoch time: 26.70313572883606\n",
      "loss train: 0.20035059953277762, loss val: 0.25747409594409604\n",
      "accuracy train: 0.9005952380952381, accuracy val: 0.8790476190476191\n",
      "---------------------------------------------------------------------------------------------------\n",
      "Epoch: 66, Learning Rate: 0.00025\n",
      "\n"
     ]
    },
    {
     "data": {
      "application/vnd.jupyter.widget-view+json": {
       "model_id": "a8667229c260471ba14388b33428959d",
       "version_major": 2,
       "version_minor": 0
      },
      "text/plain": [
       "HBox(children=(FloatProgress(value=0.0, max=132.0), HTML(value='')))"
      ]
     },
     "metadata": {},
     "output_type": "display_data"
    },
    {
     "name": "stdout",
     "output_type": "stream",
     "text": [
      "\n",
      "tensor(8.9735e-06, device='cuda:3')\n",
      "tensor(8.6215e-07, device='cuda:3')\n",
      "tensor(-0.0006, device='cuda:3')\n",
      "tensor(-0.0006, device='cuda:3')\n",
      "tensor(4.2549e-06, device='cuda:3')\n",
      "tensor(2.3567e-07, device='cuda:3')\n",
      "tensor(9.1074e-05, device='cuda:3')\n",
      "tensor(9.1074e-05, device='cuda:3')\n",
      "tensor(-3.3031e-08, device='cuda:3')\n",
      "tensor(-8.4260e-07, device='cuda:3')\n",
      "tensor(3.4947e-05, device='cuda:3')\n",
      "tensor(3.4947e-05, device='cuda:3')\n",
      "tensor(3.7202e-09, device='cuda:3')\n",
      "tensor(0., device='cuda:3')\n",
      "tensor(-2.8608e-05, device='cuda:3')\n",
      "tensor(-2.8608e-05, device='cuda:3')\n",
      "tensor(-2.6611e-06, device='cuda:3')\n",
      "tensor(0.0002, device='cuda:3')\n",
      "tensor(5.6000e-09, device='cuda:3')\n",
      "tensor(3.1931e-09, device='cuda:3')\n"
     ]
    },
    {
     "data": {
      "application/vnd.jupyter.widget-view+json": {
       "model_id": "8aa89ae51ea44256b57abdc55df69ecb",
       "version_major": 2,
       "version_minor": 0
      },
      "text/plain": [
       "HBox(children=(FloatProgress(value=0.0, max=17.0), HTML(value='')))"
      ]
     },
     "metadata": {},
     "output_type": "display_data"
    },
    {
     "name": "stdout",
     "output_type": "stream",
     "text": [
      "\n",
      "epoch time: 26.96484351158142\n",
      "loss train: 0.18093757627701218, loss val: 0.26032837085864124\n",
      "accuracy train: 0.9098809523809523, accuracy val: 0.88\n",
      "---------------------------------------------------------------------------------------------------\n",
      "Epoch: 67, Learning Rate: 0.00025\n",
      "\n"
     ]
    },
    {
     "data": {
      "application/vnd.jupyter.widget-view+json": {
       "model_id": "31b80868fe644c0c85c1ddff19b56db5",
       "version_major": 2,
       "version_minor": 0
      },
      "text/plain": [
       "HBox(children=(FloatProgress(value=0.0, max=132.0), HTML(value='')))"
      ]
     },
     "metadata": {},
     "output_type": "display_data"
    },
    {
     "name": "stdout",
     "output_type": "stream",
     "text": [
      "\n",
      "tensor(-2.3608e-06, device='cuda:3')\n",
      "tensor(4.0765e-10, device='cuda:3')\n",
      "tensor(8.1688e-05, device='cuda:3')\n",
      "tensor(8.1688e-05, device='cuda:3')\n",
      "tensor(-4.5556e-09, device='cuda:3')\n",
      "tensor(9.9094e-10, device='cuda:3')\n",
      "tensor(-1.7509e-05, device='cuda:3')\n",
      "tensor(-1.7509e-05, device='cuda:3')\n",
      "tensor(1.9338e-08, device='cuda:3')\n",
      "tensor(2.9151e-07, device='cuda:3')\n",
      "tensor(-1.2149e-05, device='cuda:3')\n",
      "tensor(-1.2149e-05, device='cuda:3')\n",
      "tensor(-1.1763e-08, device='cuda:3')\n",
      "tensor(0., device='cuda:3')\n",
      "tensor(3.3588e-06, device='cuda:3')\n",
      "tensor(3.3588e-06, device='cuda:3')\n",
      "tensor(-1.1773e-07, device='cuda:3')\n",
      "tensor(1.0261e-05, device='cuda:3')\n",
      "tensor(3.1754e-09, device='cuda:3')\n",
      "tensor(1.2418e-09, device='cuda:3')\n"
     ]
    },
    {
     "data": {
      "application/vnd.jupyter.widget-view+json": {
       "model_id": "378fbb9b5ac542d3bdb22b0d4bd98c9e",
       "version_major": 2,
       "version_minor": 0
      },
      "text/plain": [
       "HBox(children=(FloatProgress(value=0.0, max=17.0), HTML(value='')))"
      ]
     },
     "metadata": {},
     "output_type": "display_data"
    },
    {
     "name": "stdout",
     "output_type": "stream",
     "text": [
      "\n",
      "epoch time: 26.51378893852234\n",
      "loss train: 0.17630401981825178, loss val: 0.29742951428188996\n",
      "accuracy train: 0.9071428571428571, accuracy val: 0.8671428571428571\n",
      "---------------------------------------------------------------------------------------------------\n",
      "Epoch: 68, Learning Rate: 0.00025\n",
      "\n"
     ]
    },
    {
     "data": {
      "application/vnd.jupyter.widget-view+json": {
       "model_id": "c02b5cb9c7c44abe81c8c78828d96b70",
       "version_major": 2,
       "version_minor": 0
      },
      "text/plain": [
       "HBox(children=(FloatProgress(value=0.0, max=132.0), HTML(value='')))"
      ]
     },
     "metadata": {},
     "output_type": "display_data"
    },
    {
     "name": "stdout",
     "output_type": "stream",
     "text": [
      "\n",
      "tensor(1.9563e-05, device='cuda:3')\n",
      "tensor(-3.6962e-06, device='cuda:3')\n",
      "tensor(-0.0021, device='cuda:3')\n",
      "tensor(-0.0021, device='cuda:3')\n",
      "tensor(-2.5639e-05, device='cuda:3')\n",
      "tensor(-1.6092e-06, device='cuda:3')\n",
      "tensor(0.0005, device='cuda:3')\n",
      "tensor(0.0005, device='cuda:3')\n",
      "tensor(5.2840e-07, device='cuda:3')\n",
      "tensor(5.3537e-06, device='cuda:3')\n",
      "tensor(-0.0003, device='cuda:3')\n",
      "tensor(-0.0003, device='cuda:3')\n",
      "tensor(-4.6865e-08, device='cuda:3')\n",
      "tensor(0., device='cuda:3')\n",
      "tensor(-1.2868e-05, device='cuda:3')\n",
      "tensor(-1.2868e-05, device='cuda:3')\n",
      "tensor(-2.1313e-06, device='cuda:3')\n",
      "tensor(9.0953e-05, device='cuda:3')\n",
      "tensor(6.2249e-09, device='cuda:3')\n",
      "tensor(3.8583e-09, device='cuda:3')\n"
     ]
    },
    {
     "data": {
      "application/vnd.jupyter.widget-view+json": {
       "model_id": "447b914ac1654a588fe739359705bc8a",
       "version_major": 2,
       "version_minor": 0
      },
      "text/plain": [
       "HBox(children=(FloatProgress(value=0.0, max=17.0), HTML(value='')))"
      ]
     },
     "metadata": {},
     "output_type": "display_data"
    },
    {
     "name": "stdout",
     "output_type": "stream",
     "text": [
      "\n",
      "epoch time: 27.015510082244873\n",
      "loss train: 0.1748550572630131, loss val: 0.2611703583422829\n",
      "accuracy train: 0.9116666666666666, accuracy val: 0.8833333333333333\n",
      "---------------------------------------------------------------------------------------------------\n",
      "Epoch: 69, Learning Rate: 0.00025\n",
      "\n"
     ]
    },
    {
     "data": {
      "application/vnd.jupyter.widget-view+json": {
       "model_id": "582124e735e2448baaccf95527e79900",
       "version_major": 2,
       "version_minor": 0
      },
      "text/plain": [
       "HBox(children=(FloatProgress(value=0.0, max=132.0), HTML(value='')))"
      ]
     },
     "metadata": {},
     "output_type": "display_data"
    },
    {
     "name": "stdout",
     "output_type": "stream",
     "text": [
      "\n",
      "tensor(0.0001, device='cuda:3')\n",
      "tensor(-7.8563e-06, device='cuda:3')\n",
      "tensor(-0.0033, device='cuda:3')\n",
      "tensor(-0.0033, device='cuda:3')\n",
      "tensor(-4.2004e-05, device='cuda:3')\n",
      "tensor(-3.1799e-06, device='cuda:3')\n",
      "tensor(-8.8506e-05, device='cuda:3')\n",
      "tensor(-8.8506e-05, device='cuda:3')\n",
      "tensor(1.0332e-06, device='cuda:3')\n",
      "tensor(1.2530e-05, device='cuda:3')\n",
      "tensor(-0.0006, device='cuda:3')\n",
      "tensor(-0.0006, device='cuda:3')\n",
      "tensor(-1.0950e-07, device='cuda:3')\n",
      "tensor(0., device='cuda:3')\n",
      "tensor(0.0001, device='cuda:3')\n",
      "tensor(0.0001, device='cuda:3')\n",
      "tensor(-2.3104e-05, device='cuda:3')\n",
      "tensor(0.0019, device='cuda:3')\n",
      "tensor(1.1709e-08, device='cuda:3')\n",
      "tensor(7.4506e-09, device='cuda:3')\n"
     ]
    },
    {
     "data": {
      "application/vnd.jupyter.widget-view+json": {
       "model_id": "2e68845ac8534160933f5cf803f922cf",
       "version_major": 2,
       "version_minor": 0
      },
      "text/plain": [
       "HBox(children=(FloatProgress(value=0.0, max=17.0), HTML(value='')))"
      ]
     },
     "metadata": {},
     "output_type": "display_data"
    },
    {
     "name": "stdout",
     "output_type": "stream",
     "text": [
      "\n",
      "epoch time: 26.82178497314453\n",
      "loss train: 0.1928117497626579, loss val: 0.25240838615333333\n",
      "accuracy train: 0.9078571428571428, accuracy val: 0.8761904761904762\n",
      "---------------------------------------------------------------------------------------------------\n",
      "Epoch: 70, Learning Rate: 0.00025\n",
      "\n"
     ]
    },
    {
     "data": {
      "application/vnd.jupyter.widget-view+json": {
       "model_id": "b4cd0fc9147b4d209aadbb3500fb3b5d",
       "version_major": 2,
       "version_minor": 0
      },
      "text/plain": [
       "HBox(children=(FloatProgress(value=0.0, max=132.0), HTML(value='')))"
      ]
     },
     "metadata": {},
     "output_type": "display_data"
    },
    {
     "name": "stdout",
     "output_type": "stream",
     "text": [
      "\n",
      "tensor(-9.7522e-06, device='cuda:3')\n",
      "tensor(-2.1055e-07, device='cuda:3')\n",
      "tensor(-9.2058e-05, device='cuda:3')\n",
      "tensor(-9.2058e-05, device='cuda:3')\n",
      "tensor(7.3267e-06, device='cuda:3')\n",
      "tensor(-3.5373e-07, device='cuda:3')\n",
      "tensor(0.0002, device='cuda:3')\n",
      "tensor(0.0002, device='cuda:3')\n",
      "tensor(-7.0928e-08, device='cuda:3')\n",
      "tensor(-5.2143e-06, device='cuda:3')\n",
      "tensor(0.0002, device='cuda:3')\n",
      "tensor(0.0002, device='cuda:3')\n",
      "tensor(1.0195e-07, device='cuda:3')\n",
      "tensor(0., device='cuda:3')\n",
      "tensor(-1.8952e-05, device='cuda:3')\n",
      "tensor(-1.8952e-05, device='cuda:3')\n",
      "tensor(8.7623e-06, device='cuda:3')\n",
      "tensor(-0.0007, device='cuda:3')\n",
      "tensor(1.4138e-09, device='cuda:3')\n",
      "tensor(5.3218e-10, device='cuda:3')\n"
     ]
    },
    {
     "data": {
      "application/vnd.jupyter.widget-view+json": {
       "model_id": "49987227871948efbd2b5157b30dbbed",
       "version_major": 2,
       "version_minor": 0
      },
      "text/plain": [
       "HBox(children=(FloatProgress(value=0.0, max=17.0), HTML(value='')))"
      ]
     },
     "metadata": {},
     "output_type": "display_data"
    },
    {
     "name": "stdout",
     "output_type": "stream",
     "text": [
      "\n",
      "epoch time: 27.349398374557495\n",
      "loss train: 0.18561926952591448, loss val: 0.3158023857018527\n",
      "accuracy train: 0.9069047619047619, accuracy val: 0.8733333333333333\n",
      "---------------------------------------------------------------------------------------------------\n",
      "Epoch: 71, Learning Rate: 0.00025\n",
      "\n"
     ]
    },
    {
     "data": {
      "application/vnd.jupyter.widget-view+json": {
       "model_id": "bdaa970ee44942fab0bb6d7c9e206ac5",
       "version_major": 2,
       "version_minor": 0
      },
      "text/plain": [
       "HBox(children=(FloatProgress(value=0.0, max=132.0), HTML(value='')))"
      ]
     },
     "metadata": {},
     "output_type": "display_data"
    },
    {
     "name": "stdout",
     "output_type": "stream",
     "text": [
      "\n",
      "tensor(8.7513e-06, device='cuda:3')\n",
      "tensor(3.1445e-07, device='cuda:3')\n",
      "tensor(-0.0007, device='cuda:3')\n",
      "tensor(-0.0007, device='cuda:3')\n",
      "tensor(-8.2750e-07, device='cuda:3')\n",
      "tensor(-8.8611e-08, device='cuda:3')\n",
      "tensor(4.9216e-05, device='cuda:3')\n",
      "tensor(4.9216e-05, device='cuda:3')\n",
      "tensor(8.7466e-09, device='cuda:3')\n",
      "tensor(-1.7717e-07, device='cuda:3')\n",
      "tensor(2.2275e-05, device='cuda:3')\n",
      "tensor(2.2275e-05, device='cuda:3')\n",
      "tensor(-4.8758e-08, device='cuda:3')\n",
      "tensor(0., device='cuda:3')\n",
      "tensor(1.6565e-05, device='cuda:3')\n",
      "tensor(1.6565e-05, device='cuda:3')\n",
      "tensor(-2.2383e-06, device='cuda:3')\n",
      "tensor(0.0002, device='cuda:3')\n",
      "tensor(3.9702e-09, device='cuda:3')\n",
      "tensor(2.8383e-09, device='cuda:3')\n"
     ]
    },
    {
     "data": {
      "application/vnd.jupyter.widget-view+json": {
       "model_id": "866dc89228d542df9cef383ef71db89a",
       "version_major": 2,
       "version_minor": 0
      },
      "text/plain": [
       "HBox(children=(FloatProgress(value=0.0, max=17.0), HTML(value='')))"
      ]
     },
     "metadata": {},
     "output_type": "display_data"
    },
    {
     "name": "stdout",
     "output_type": "stream",
     "text": [
      "\n",
      "epoch time: 26.518621683120728\n",
      "loss train: 0.17600928450172598, loss val: 0.26773001867182117\n",
      "accuracy train: 0.9154761904761904, accuracy val: 0.8790476190476191\n",
      "---------------------------------------------------------------------------------------------------\n",
      "Epoch: 72, Learning Rate: 0.00025\n",
      "\n"
     ]
    },
    {
     "data": {
      "application/vnd.jupyter.widget-view+json": {
       "model_id": "5b720794d65e42c9b29bb5b119e114f5",
       "version_major": 2,
       "version_minor": 0
      },
      "text/plain": [
       "HBox(children=(FloatProgress(value=0.0, max=132.0), HTML(value='')))"
      ]
     },
     "metadata": {},
     "output_type": "display_data"
    },
    {
     "name": "stdout",
     "output_type": "stream",
     "text": [
      "\n",
      "tensor(-8.3786e-06, device='cuda:3')\n",
      "tensor(-7.6932e-08, device='cuda:3')\n",
      "tensor(0.0005, device='cuda:3')\n",
      "tensor(0.0005, device='cuda:3')\n",
      "tensor(-3.2499e-07, device='cuda:3')\n",
      "tensor(-3.9922e-08, device='cuda:3')\n",
      "tensor(-2.0302e-06, device='cuda:3')\n",
      "tensor(-2.0302e-06, device='cuda:3')\n",
      "tensor(-1.7196e-07, device='cuda:3')\n",
      "tensor(-3.1566e-06, device='cuda:3')\n",
      "tensor(0.0001, device='cuda:3')\n",
      "tensor(0.0001, device='cuda:3')\n",
      "tensor(-6.7234e-08, device='cuda:3')\n",
      "tensor(0., device='cuda:3')\n",
      "tensor(-2.6626e-05, device='cuda:3')\n",
      "tensor(-2.6626e-05, device='cuda:3')\n",
      "tensor(2.6034e-07, device='cuda:3')\n",
      "tensor(-4.0832e-05, device='cuda:3')\n",
      "tensor(-2.0700e-09, device='cuda:3')\n",
      "tensor(-1.0644e-09, device='cuda:3')\n"
     ]
    },
    {
     "data": {
      "application/vnd.jupyter.widget-view+json": {
       "model_id": "31f90e247bbd4376b32ff28d9525aa2f",
       "version_major": 2,
       "version_minor": 0
      },
      "text/plain": [
       "HBox(children=(FloatProgress(value=0.0, max=17.0), HTML(value='')))"
      ]
     },
     "metadata": {},
     "output_type": "display_data"
    },
    {
     "name": "stdout",
     "output_type": "stream",
     "text": [
      "\n",
      "epoch time: 26.246864795684814\n",
      "loss train: 0.16631874890828674, loss val: 0.26058587694869323\n",
      "accuracy train: 0.9164285714285715, accuracy val: 0.8833333333333333\n",
      "---------------------------------------------------------------------------------------------------\n",
      "Epoch: 73, Learning Rate: 0.00025\n",
      "\n"
     ]
    },
    {
     "data": {
      "application/vnd.jupyter.widget-view+json": {
       "model_id": "8c39c6fb35754f438ee6967f62184c3c",
       "version_major": 2,
       "version_minor": 0
      },
      "text/plain": [
       "HBox(children=(FloatProgress(value=0.0, max=132.0), HTML(value='')))"
      ]
     },
     "metadata": {},
     "output_type": "display_data"
    },
    {
     "name": "stdout",
     "output_type": "stream",
     "text": [
      "\n",
      "tensor(2.0495e-06, device='cuda:3')\n",
      "tensor(-9.1826e-08, device='cuda:3')\n",
      "tensor(-3.2125e-05, device='cuda:3')\n",
      "tensor(-3.2125e-05, device='cuda:3')\n",
      "tensor(4.2179e-07, device='cuda:3')\n",
      "tensor(4.5291e-08, device='cuda:3')\n",
      "tensor(-1.6055e-05, device='cuda:3')\n",
      "tensor(-1.6055e-05, device='cuda:3')\n",
      "tensor(7.2613e-10, device='cuda:3')\n",
      "tensor(6.2141e-07, device='cuda:3')\n",
      "tensor(-2.1732e-05, device='cuda:3')\n",
      "tensor(-2.1732e-05, device='cuda:3')\n",
      "tensor(3.1173e-08, device='cuda:3')\n",
      "tensor(0., device='cuda:3')\n",
      "tensor(-1.0408e-05, device='cuda:3')\n",
      "tensor(-1.0408e-05, device='cuda:3')\n",
      "tensor(-1.2706e-07, device='cuda:3')\n",
      "tensor(3.2239e-05, device='cuda:3')\n",
      "tensor(-6.4337e-10, device='cuda:3')\n",
      "tensor(-8.8697e-11, device='cuda:3')\n"
     ]
    },
    {
     "data": {
      "application/vnd.jupyter.widget-view+json": {
       "model_id": "a1072db07436427d96663308bb5f42ae",
       "version_major": 2,
       "version_minor": 0
      },
      "text/plain": [
       "HBox(children=(FloatProgress(value=0.0, max=17.0), HTML(value='')))"
      ]
     },
     "metadata": {},
     "output_type": "display_data"
    },
    {
     "name": "stdout",
     "output_type": "stream",
     "text": [
      "\n",
      "epoch time: 25.91338348388672\n",
      "loss train: 0.16571371229083248, loss val: 0.2532281823018018\n",
      "accuracy train: 0.915, accuracy val: 0.8809523809523809\n",
      "---------------------------------------------------------------------------------------------------\n",
      "Epoch: 74, Learning Rate: 0.00025\n",
      "\n"
     ]
    },
    {
     "data": {
      "application/vnd.jupyter.widget-view+json": {
       "model_id": "3057a2d7facc4527abaf3e8a74b5d10d",
       "version_major": 2,
       "version_minor": 0
      },
      "text/plain": [
       "HBox(children=(FloatProgress(value=0.0, max=132.0), HTML(value='')))"
      ]
     },
     "metadata": {},
     "output_type": "display_data"
    },
    {
     "name": "stdout",
     "output_type": "stream",
     "text": [
      "\n",
      "tensor(-6.2947e-06, device='cuda:3')\n",
      "tensor(3.3552e-07, device='cuda:3')\n",
      "tensor(0.0002, device='cuda:3')\n",
      "tensor(0.0002, device='cuda:3')\n",
      "tensor(-4.8591e-07, device='cuda:3')\n",
      "tensor(-3.3120e-08, device='cuda:3')\n",
      "tensor(1.6327e-05, device='cuda:3')\n",
      "tensor(1.6327e-05, device='cuda:3')\n",
      "tensor(3.5653e-08, device='cuda:3')\n",
      "tensor(-3.3173e-07, device='cuda:3')\n",
      "tensor(2.8985e-05, device='cuda:3')\n",
      "tensor(2.8985e-05, device='cuda:3')\n",
      "tensor(-3.0051e-08, device='cuda:3')\n",
      "tensor(0., device='cuda:3')\n",
      "tensor(8.3020e-06, device='cuda:3')\n",
      "tensor(8.3020e-06, device='cuda:3')\n",
      "tensor(-2.2176e-06, device='cuda:3')\n",
      "tensor(0.0002, device='cuda:3')\n",
      "tensor(7.2810e-09, device='cuda:3')\n",
      "tensor(4.7897e-09, device='cuda:3')\n"
     ]
    },
    {
     "data": {
      "application/vnd.jupyter.widget-view+json": {
       "model_id": "d38e0b6ad99d423fa165746c93f9526b",
       "version_major": 2,
       "version_minor": 0
      },
      "text/plain": [
       "HBox(children=(FloatProgress(value=0.0, max=17.0), HTML(value='')))"
      ]
     },
     "metadata": {},
     "output_type": "display_data"
    },
    {
     "name": "stdout",
     "output_type": "stream",
     "text": [
      "\n",
      "epoch time: 26.077072858810425\n",
      "loss train: 0.18532515599420576, loss val: 0.2432632235919728\n",
      "accuracy train: 0.9121428571428571, accuracy val: 0.8866666666666667\n",
      "---------------------------------------------------------------------------------------------------\n",
      "Epoch: 75, Learning Rate: 0.00025\n",
      "\n"
     ]
    },
    {
     "data": {
      "application/vnd.jupyter.widget-view+json": {
       "model_id": "87c244c7c92e4821908c0721986b4894",
       "version_major": 2,
       "version_minor": 0
      },
      "text/plain": [
       "HBox(children=(FloatProgress(value=0.0, max=132.0), HTML(value='')))"
      ]
     },
     "metadata": {},
     "output_type": "display_data"
    },
    {
     "name": "stdout",
     "output_type": "stream",
     "text": [
      "\n",
      "tensor(-5.9702e-06, device='cuda:3')\n",
      "tensor(-5.8214e-07, device='cuda:3')\n",
      "tensor(0.0018, device='cuda:3')\n",
      "tensor(0.0018, device='cuda:3')\n",
      "tensor(1.3801e-05, device='cuda:3')\n",
      "tensor(-2.7792e-08, device='cuda:3')\n",
      "tensor(0.0002, device='cuda:3')\n",
      "tensor(0.0002, device='cuda:3')\n",
      "tensor(3.0097e-07, device='cuda:3')\n",
      "tensor(-4.3639e-06, device='cuda:3')\n",
      "tensor(0.0002, device='cuda:3')\n",
      "tensor(0.0002, device='cuda:3')\n",
      "tensor(1.1617e-07, device='cuda:3')\n",
      "tensor(0., device='cuda:3')\n",
      "tensor(1.1322e-05, device='cuda:3')\n",
      "tensor(1.1322e-05, device='cuda:3')\n",
      "tensor(1.9777e-06, device='cuda:3')\n",
      "tensor(0.0009, device='cuda:3')\n",
      "tensor(8.0252e-09, device='cuda:3')\n",
      "tensor(4.9671e-09, device='cuda:3')\n"
     ]
    },
    {
     "data": {
      "application/vnd.jupyter.widget-view+json": {
       "model_id": "4bfa09ea00734f7b945edc149a383423",
       "version_major": 2,
       "version_minor": 0
      },
      "text/plain": [
       "HBox(children=(FloatProgress(value=0.0, max=17.0), HTML(value='')))"
      ]
     },
     "metadata": {},
     "output_type": "display_data"
    },
    {
     "name": "stdout",
     "output_type": "stream",
     "text": [
      "\n",
      "epoch time: 25.870508432388306\n",
      "loss train: 0.16713422934778713, loss val: 0.24595367820823894\n",
      "accuracy train: 0.9176190476190477, accuracy val: 0.8861904761904762\n",
      "---------------------------------------------------------------------------------------------------\n",
      "Epoch: 76, Learning Rate: 0.00025\n",
      "\n"
     ]
    },
    {
     "data": {
      "application/vnd.jupyter.widget-view+json": {
       "model_id": "f92f69870779438cbb656465dcc5ee61",
       "version_major": 2,
       "version_minor": 0
      },
      "text/plain": [
       "HBox(children=(FloatProgress(value=0.0, max=132.0), HTML(value='')))"
      ]
     },
     "metadata": {},
     "output_type": "display_data"
    },
    {
     "name": "stdout",
     "output_type": "stream",
     "text": [
      "\n",
      "tensor(-2.4299e-05, device='cuda:3')\n",
      "tensor(-2.9208e-06, device='cuda:3')\n",
      "tensor(0.0009, device='cuda:3')\n",
      "tensor(0.0009, device='cuda:3')\n",
      "tensor(-1.1652e-05, device='cuda:3')\n",
      "tensor(7.5442e-10, device='cuda:3')\n",
      "tensor(0.0001, device='cuda:3')\n",
      "tensor(0.0001, device='cuda:3')\n",
      "tensor(-1.4381e-07, device='cuda:3')\n",
      "tensor(-2.1356e-06, device='cuda:3')\n",
      "tensor(7.5436e-05, device='cuda:3')\n",
      "tensor(7.5436e-05, device='cuda:3')\n",
      "tensor(-3.5411e-08, device='cuda:3')\n",
      "tensor(0., device='cuda:3')\n",
      "tensor(3.3176e-05, device='cuda:3')\n",
      "tensor(3.3176e-05, device='cuda:3')\n",
      "tensor(1.3437e-06, device='cuda:3')\n",
      "tensor(-0.0001, device='cuda:3')\n",
      "tensor(1.3635e-09, device='cuda:3')\n",
      "tensor(3.5479e-10, device='cuda:3')\n"
     ]
    },
    {
     "data": {
      "application/vnd.jupyter.widget-view+json": {
       "model_id": "b45736f574364db3af12c90863a8874b",
       "version_major": 2,
       "version_minor": 0
      },
      "text/plain": [
       "HBox(children=(FloatProgress(value=0.0, max=17.0), HTML(value='')))"
      ]
     },
     "metadata": {},
     "output_type": "display_data"
    },
    {
     "name": "stdout",
     "output_type": "stream",
     "text": [
      "\n",
      "epoch time: 24.973148822784424\n",
      "loss train: 0.16901685613574405, loss val: 0.23544480695443995\n",
      "accuracy train: 0.9154761904761904, accuracy val: 0.8885714285714286\n",
      "---------------------------------------------------------------------------------------------------\n",
      "Epoch: 77, Learning Rate: 0.00025\n",
      "\n"
     ]
    },
    {
     "data": {
      "application/vnd.jupyter.widget-view+json": {
       "model_id": "e3442356ada24004925f62d7e17e23bf",
       "version_major": 2,
       "version_minor": 0
      },
      "text/plain": [
       "HBox(children=(FloatProgress(value=0.0, max=132.0), HTML(value='')))"
      ]
     },
     "metadata": {},
     "output_type": "display_data"
    },
    {
     "name": "stdout",
     "output_type": "stream",
     "text": [
      "\n",
      "tensor(2.3602e-05, device='cuda:3')\n",
      "tensor(1.7166e-07, device='cuda:3')\n",
      "tensor(-0.0008, device='cuda:3')\n",
      "tensor(-0.0008, device='cuda:3')\n",
      "tensor(5.4097e-08, device='cuda:3')\n",
      "tensor(-6.8769e-08, device='cuda:3')\n",
      "tensor(-3.7778e-05, device='cuda:3')\n",
      "tensor(-3.7778e-05, device='cuda:3')\n",
      "tensor(1.1132e-07, device='cuda:3')\n",
      "tensor(1.1589e-06, device='cuda:3')\n",
      "tensor(-6.4176e-05, device='cuda:3')\n",
      "tensor(-6.4176e-05, device='cuda:3')\n",
      "tensor(4.2729e-08, device='cuda:3')\n",
      "tensor(0., device='cuda:3')\n",
      "tensor(-2.6754e-05, device='cuda:3')\n",
      "tensor(-2.6754e-05, device='cuda:3')\n",
      "tensor(2.7410e-06, device='cuda:3')\n",
      "tensor(-0.0003, device='cuda:3')\n",
      "tensor(-1.2985e-09, device='cuda:3')\n",
      "tensor(-9.9785e-10, device='cuda:3')\n"
     ]
    },
    {
     "data": {
      "application/vnd.jupyter.widget-view+json": {
       "model_id": "5360e9571a7640749d7f270503be0d8b",
       "version_major": 2,
       "version_minor": 0
      },
      "text/plain": [
       "HBox(children=(FloatProgress(value=0.0, max=17.0), HTML(value='')))"
      ]
     },
     "metadata": {},
     "output_type": "display_data"
    },
    {
     "name": "stdout",
     "output_type": "stream",
     "text": [
      "\n",
      "epoch time: 24.552518844604492\n",
      "loss train: 0.16786183411199035, loss val: 0.25502372664563794\n",
      "accuracy train: 0.919047619047619, accuracy val: 0.8852380952380953\n",
      "---------------------------------------------------------------------------------------------------\n",
      "Epoch: 78, Learning Rate: 0.00025\n",
      "\n"
     ]
    },
    {
     "data": {
      "application/vnd.jupyter.widget-view+json": {
       "model_id": "e28b940a1e994732afb55f28a6f80739",
       "version_major": 2,
       "version_minor": 0
      },
      "text/plain": [
       "HBox(children=(FloatProgress(value=0.0, max=132.0), HTML(value='')))"
      ]
     },
     "metadata": {},
     "output_type": "display_data"
    },
    {
     "name": "stdout",
     "output_type": "stream",
     "text": [
      "\n",
      "tensor(4.5708e-05, device='cuda:3')\n",
      "tensor(8.3296e-07, device='cuda:3')\n",
      "tensor(-0.0004, device='cuda:3')\n",
      "tensor(-0.0004, device='cuda:3')\n",
      "tensor(2.4575e-07, device='cuda:3')\n",
      "tensor(2.3904e-07, device='cuda:3')\n",
      "tensor(-0.0001, device='cuda:3')\n",
      "tensor(-0.0001, device='cuda:3')\n",
      "tensor(-5.0987e-08, device='cuda:3')\n",
      "tensor(9.3192e-07, device='cuda:3')\n",
      "tensor(-1.9814e-05, device='cuda:3')\n",
      "tensor(-1.9814e-05, device='cuda:3')\n",
      "tensor(-1.0738e-08, device='cuda:3')\n",
      "tensor(0., device='cuda:3')\n",
      "tensor(-1.2295e-05, device='cuda:3')\n",
      "tensor(-1.2295e-05, device='cuda:3')\n",
      "tensor(-1.7005e-06, device='cuda:3')\n",
      "tensor(0.0002, device='cuda:3')\n",
      "tensor(8.8413e-09, device='cuda:3')\n",
      "tensor(7.0958e-09, device='cuda:3')\n"
     ]
    },
    {
     "data": {
      "application/vnd.jupyter.widget-view+json": {
       "model_id": "f6fb379548cd4ac2b41ddb8d8d652069",
       "version_major": 2,
       "version_minor": 0
      },
      "text/plain": [
       "HBox(children=(FloatProgress(value=0.0, max=17.0), HTML(value='')))"
      ]
     },
     "metadata": {},
     "output_type": "display_data"
    },
    {
     "name": "stdout",
     "output_type": "stream",
     "text": [
      "\n",
      "epoch time: 24.267865419387817\n",
      "loss train: 0.15618605115874248, loss val: 0.24149272985318126\n",
      "accuracy train: 0.9241666666666667, accuracy val: 0.8923809523809524\n",
      "---------------------------------------------------------------------------------------------------\n",
      "Epoch: 79, Learning Rate: 0.00025\n",
      "\n"
     ]
    },
    {
     "data": {
      "application/vnd.jupyter.widget-view+json": {
       "model_id": "3d46b98410e440f8b950395072ccaa52",
       "version_major": 2,
       "version_minor": 0
      },
      "text/plain": [
       "HBox(children=(FloatProgress(value=0.0, max=132.0), HTML(value='')))"
      ]
     },
     "metadata": {},
     "output_type": "display_data"
    },
    {
     "name": "stdout",
     "output_type": "stream",
     "text": [
      "\n",
      "tensor(9.7939e-07, device='cuda:3')\n",
      "tensor(1.3059e-07, device='cuda:3')\n",
      "tensor(-6.4744e-05, device='cuda:3')\n",
      "tensor(-6.4744e-05, device='cuda:3')\n",
      "tensor(2.5801e-08, device='cuda:3')\n",
      "tensor(-8.6734e-09, device='cuda:3')\n",
      "tensor(3.1562e-06, device='cuda:3')\n",
      "tensor(3.1562e-06, device='cuda:3')\n",
      "tensor(-3.8915e-09, device='cuda:3')\n",
      "tensor(7.2229e-08, device='cuda:3')\n",
      "tensor(-2.8021e-06, device='cuda:3')\n",
      "tensor(-2.8021e-06, device='cuda:3')\n",
      "tensor(-7.2567e-09, device='cuda:3')\n",
      "tensor(0., device='cuda:3')\n",
      "tensor(-3.1877e-06, device='cuda:3')\n",
      "tensor(-3.1877e-06, device='cuda:3')\n",
      "tensor(6.1856e-07, device='cuda:3')\n",
      "tensor(-5.5268e-05, device='cuda:3')\n",
      "tensor(4.4215e-09, device='cuda:3')\n",
      "tensor(2.5722e-09, device='cuda:3')\n"
     ]
    },
    {
     "data": {
      "application/vnd.jupyter.widget-view+json": {
       "model_id": "9169aadd5e6c44508ebf750cf59a1931",
       "version_major": 2,
       "version_minor": 0
      },
      "text/plain": [
       "HBox(children=(FloatProgress(value=0.0, max=17.0), HTML(value='')))"
      ]
     },
     "metadata": {},
     "output_type": "display_data"
    },
    {
     "name": "stdout",
     "output_type": "stream",
     "text": [
      "\n",
      "epoch time: 25.404258251190186\n",
      "loss train: 0.16267121797709755, loss val: 0.2564040615278132\n",
      "accuracy train: 0.919404761904762, accuracy val: 0.8842857142857142\n",
      "---------------------------------------------------------------------------------------------------\n",
      "Epoch: 80, Learning Rate: 0.00025\n",
      "\n"
     ]
    },
    {
     "data": {
      "application/vnd.jupyter.widget-view+json": {
       "model_id": "af3d4ad587bf4a459a969501df183f34",
       "version_major": 2,
       "version_minor": 0
      },
      "text/plain": [
       "HBox(children=(FloatProgress(value=0.0, max=132.0), HTML(value='')))"
      ]
     },
     "metadata": {},
     "output_type": "display_data"
    },
    {
     "name": "stdout",
     "output_type": "stream",
     "text": [
      "\n",
      "tensor(1.2392e-06, device='cuda:3')\n",
      "tensor(1.2379e-07, device='cuda:3')\n",
      "tensor(-0.0001, device='cuda:3')\n",
      "tensor(-0.0001, device='cuda:3')\n",
      "tensor(3.1151e-09, device='cuda:3')\n",
      "tensor(2.2119e-08, device='cuda:3')\n",
      "tensor(1.0361e-06, device='cuda:3')\n",
      "tensor(1.0361e-06, device='cuda:3')\n",
      "tensor(3.4874e-08, device='cuda:3')\n",
      "tensor(8.6148e-07, device='cuda:3')\n",
      "tensor(-4.1205e-05, device='cuda:3')\n",
      "tensor(-4.1205e-05, device='cuda:3')\n",
      "tensor(1.2158e-08, device='cuda:3')\n",
      "tensor(0., device='cuda:3')\n",
      "tensor(-9.8327e-06, device='cuda:3')\n",
      "tensor(-9.8327e-06, device='cuda:3')\n",
      "tensor(-1.1123e-06, device='cuda:3')\n",
      "tensor(8.1556e-05, device='cuda:3')\n",
      "tensor(1.1857e-08, device='cuda:3')\n",
      "tensor(7.2732e-09, device='cuda:3')\n"
     ]
    },
    {
     "data": {
      "application/vnd.jupyter.widget-view+json": {
       "model_id": "fdcf4464cc4e425bb27921c9b2c57e8d",
       "version_major": 2,
       "version_minor": 0
      },
      "text/plain": [
       "HBox(children=(FloatProgress(value=0.0, max=17.0), HTML(value='')))"
      ]
     },
     "metadata": {},
     "output_type": "display_data"
    },
    {
     "name": "stdout",
     "output_type": "stream",
     "text": [
      "\n",
      "epoch time: 25.521536588668823\n",
      "loss train: 0.15595392436917985, loss val: 0.2296515589251238\n",
      "accuracy train: 0.9235714285714286, accuracy val: 0.8928571428571429\n",
      "---------------------------------------------------------------------------------------------------\n",
      "Epoch: 81, Learning Rate: 0.00025\n",
      "\n"
     ]
    },
    {
     "data": {
      "application/vnd.jupyter.widget-view+json": {
       "model_id": "8270ac83cc4b41ceb60defb2905f7400",
       "version_major": 2,
       "version_minor": 0
      },
      "text/plain": [
       "HBox(children=(FloatProgress(value=0.0, max=132.0), HTML(value='')))"
      ]
     },
     "metadata": {},
     "output_type": "display_data"
    },
    {
     "name": "stdout",
     "output_type": "stream",
     "text": [
      "\n",
      "tensor(2.0174e-08, device='cuda:3')\n",
      "tensor(-2.0205e-09, device='cuda:3')\n",
      "tensor(1.0491e-07, device='cuda:3')\n",
      "tensor(1.0491e-07, device='cuda:3')\n",
      "tensor(2.6407e-07, device='cuda:3')\n",
      "tensor(2.7538e-11, device='cuda:3')\n",
      "tensor(2.6636e-06, device='cuda:3')\n",
      "tensor(2.6636e-06, device='cuda:3')\n",
      "tensor(-1.6839e-08, device='cuda:3')\n",
      "tensor(1.1575e-08, device='cuda:3')\n",
      "tensor(2.5622e-06, device='cuda:3')\n",
      "tensor(2.5622e-06, device='cuda:3')\n",
      "tensor(-4.8396e-09, device='cuda:3')\n",
      "tensor(0., device='cuda:3')\n",
      "tensor(-1.1410e-06, device='cuda:3')\n",
      "tensor(-1.1410e-06, device='cuda:3')\n",
      "tensor(1.3705e-07, device='cuda:3')\n",
      "tensor(-3.8596e-06, device='cuda:3')\n",
      "tensor(5.7257e-10, device='cuda:3')\n",
      "tensor(-4.7120e-11, device='cuda:3')\n"
     ]
    },
    {
     "data": {
      "application/vnd.jupyter.widget-view+json": {
       "model_id": "6a143f0a2419417fba0b13d6a7b3d4fb",
       "version_major": 2,
       "version_minor": 0
      },
      "text/plain": [
       "HBox(children=(FloatProgress(value=0.0, max=17.0), HTML(value='')))"
      ]
     },
     "metadata": {},
     "output_type": "display_data"
    },
    {
     "name": "stdout",
     "output_type": "stream",
     "text": [
      "\n",
      "epoch time: 25.91880440711975\n",
      "loss train: 0.1538322555522124, loss val: 0.2794504603918861\n",
      "accuracy train: 0.924404761904762, accuracy val: 0.88\n",
      "---------------------------------------------------------------------------------------------------\n",
      "Epoch: 82, Learning Rate: 0.00025\n",
      "\n"
     ]
    },
    {
     "data": {
      "application/vnd.jupyter.widget-view+json": {
       "model_id": "af324be26091456c8c46754bb4eb6cfa",
       "version_major": 2,
       "version_minor": 0
      },
      "text/plain": [
       "HBox(children=(FloatProgress(value=0.0, max=132.0), HTML(value='')))"
      ]
     },
     "metadata": {},
     "output_type": "display_data"
    },
    {
     "name": "stdout",
     "output_type": "stream",
     "text": [
      "\n",
      "tensor(0.0001, device='cuda:3')\n",
      "tensor(-8.8750e-06, device='cuda:3')\n",
      "tensor(0.0003, device='cuda:3')\n",
      "tensor(0.0003, device='cuda:3')\n",
      "tensor(2.1124e-05, device='cuda:3')\n",
      "tensor(-1.1138e-07, device='cuda:3')\n",
      "tensor(-0.0006, device='cuda:3')\n",
      "tensor(-0.0006, device='cuda:3')\n",
      "tensor(3.7529e-07, device='cuda:3')\n",
      "tensor(-1.6740e-05, device='cuda:3')\n",
      "tensor(0.0006, device='cuda:3')\n",
      "tensor(0.0006, device='cuda:3')\n",
      "tensor(-3.6242e-08, device='cuda:3')\n",
      "tensor(0., device='cuda:3')\n",
      "tensor(-2.6526e-05, device='cuda:3')\n",
      "tensor(-2.6526e-05, device='cuda:3')\n",
      "tensor(-2.7153e-06, device='cuda:3')\n",
      "tensor(0.0001, device='cuda:3')\n",
      "tensor(9.3571e-09, device='cuda:3')\n",
      "tensor(6.0314e-09, device='cuda:3')\n"
     ]
    },
    {
     "data": {
      "application/vnd.jupyter.widget-view+json": {
       "model_id": "928af04c0c3843c7a49e58a0d7dd6ad3",
       "version_major": 2,
       "version_minor": 0
      },
      "text/plain": [
       "HBox(children=(FloatProgress(value=0.0, max=17.0), HTML(value='')))"
      ]
     },
     "metadata": {},
     "output_type": "display_data"
    },
    {
     "name": "stdout",
     "output_type": "stream",
     "text": [
      "\n",
      "epoch time: 25.66917324066162\n",
      "loss train: 0.16152195906210126, loss val: 0.31453753920162425\n",
      "accuracy train: 0.9202380952380952, accuracy val: 0.8766666666666667\n",
      "---------------------------------------------------------------------------------------------------\n",
      "Epoch: 83, Learning Rate: 0.00025\n",
      "\n"
     ]
    },
    {
     "data": {
      "application/vnd.jupyter.widget-view+json": {
       "model_id": "fa329fa1c93a4d8a8ddebd06a268c93c",
       "version_major": 2,
       "version_minor": 0
      },
      "text/plain": [
       "HBox(children=(FloatProgress(value=0.0, max=132.0), HTML(value='')))"
      ]
     },
     "metadata": {},
     "output_type": "display_data"
    },
    {
     "name": "stdout",
     "output_type": "stream",
     "text": [
      "\n",
      "tensor(8.6557e-07, device='cuda:3')\n",
      "tensor(-3.3949e-07, device='cuda:3')\n",
      "tensor(-0.0002, device='cuda:3')\n",
      "tensor(-0.0002, device='cuda:3')\n",
      "tensor(1.5801e-06, device='cuda:3')\n",
      "tensor(4.6890e-08, device='cuda:3')\n",
      "tensor(-3.7216e-05, device='cuda:3')\n",
      "tensor(-3.7216e-05, device='cuda:3')\n",
      "tensor(-2.2013e-08, device='cuda:3')\n",
      "tensor(5.1712e-07, device='cuda:3')\n",
      "tensor(-1.6031e-05, device='cuda:3')\n",
      "tensor(-1.6031e-05, device='cuda:3')\n",
      "tensor(1.0838e-08, device='cuda:3')\n",
      "tensor(0., device='cuda:3')\n",
      "tensor(4.4160e-07, device='cuda:3')\n",
      "tensor(4.4160e-07, device='cuda:3')\n",
      "tensor(6.1422e-08, device='cuda:3')\n",
      "tensor(3.9046e-06, device='cuda:3')\n",
      "tensor(2.6098e-09, device='cuda:3')\n",
      "tensor(1.5966e-09, device='cuda:3')\n"
     ]
    },
    {
     "data": {
      "application/vnd.jupyter.widget-view+json": {
       "model_id": "2c18f2293767422485275080d1ea4144",
       "version_major": 2,
       "version_minor": 0
      },
      "text/plain": [
       "HBox(children=(FloatProgress(value=0.0, max=17.0), HTML(value='')))"
      ]
     },
     "metadata": {},
     "output_type": "display_data"
    },
    {
     "name": "stdout",
     "output_type": "stream",
     "text": [
      "\n",
      "epoch time: 25.396485567092896\n",
      "loss train: 0.16093665275327634, loss val: 0.23417985965223873\n",
      "accuracy train: 0.9217857142857143, accuracy val: 0.8947619047619048\n",
      "---------------------------------------------------------------------------------------------------\n",
      "Epoch: 84, Learning Rate: 0.00025\n",
      "\n"
     ]
    },
    {
     "data": {
      "application/vnd.jupyter.widget-view+json": {
       "model_id": "8aefeed05b3245b0a0fa9ddd620fa519",
       "version_major": 2,
       "version_minor": 0
      },
      "text/plain": [
       "HBox(children=(FloatProgress(value=0.0, max=132.0), HTML(value='')))"
      ]
     },
     "metadata": {},
     "output_type": "display_data"
    },
    {
     "name": "stdout",
     "output_type": "stream",
     "text": [
      "\n",
      "tensor(7.1276e-06, device='cuda:3')\n",
      "tensor(-2.1311e-07, device='cuda:3')\n",
      "tensor(-0.0002, device='cuda:3')\n",
      "tensor(-0.0002, device='cuda:3')\n",
      "tensor(2.6730e-06, device='cuda:3')\n",
      "tensor(2.9753e-07, device='cuda:3')\n",
      "tensor(-0.0001, device='cuda:3')\n",
      "tensor(-0.0001, device='cuda:3')\n",
      "tensor(9.7836e-10, device='cuda:3')\n",
      "tensor(-9.0927e-08, device='cuda:3')\n",
      "tensor(-1.8163e-05, device='cuda:3')\n",
      "tensor(-1.8163e-05, device='cuda:3')\n",
      "tensor(-3.0511e-08, device='cuda:3')\n",
      "tensor(0., device='cuda:3')\n",
      "tensor(6.5269e-06, device='cuda:3')\n",
      "tensor(6.5269e-06, device='cuda:3')\n",
      "tensor(2.2803e-06, device='cuda:3')\n",
      "tensor(-0.0002, device='cuda:3')\n",
      "tensor(-4.3932e-10, device='cuda:3')\n",
      "tensor(-8.8697e-10, device='cuda:3')\n"
     ]
    },
    {
     "data": {
      "application/vnd.jupyter.widget-view+json": {
       "model_id": "74d3da5d491c4e6ab37050e5b01d622d",
       "version_major": 2,
       "version_minor": 0
      },
      "text/plain": [
       "HBox(children=(FloatProgress(value=0.0, max=17.0), HTML(value='')))"
      ]
     },
     "metadata": {},
     "output_type": "display_data"
    },
    {
     "name": "stdout",
     "output_type": "stream",
     "text": [
      "\n",
      "epoch time: 25.66195797920227\n",
      "loss train: 0.15450702364923377, loss val: 0.25318106395356793\n",
      "accuracy train: 0.9221428571428572, accuracy val: 0.8847619047619047\n",
      "---------------------------------------------------------------------------------------------------\n",
      "Epoch: 85, Learning Rate: 0.00025\n",
      "\n"
     ]
    },
    {
     "data": {
      "application/vnd.jupyter.widget-view+json": {
       "model_id": "836d33cdfc7a4d3482f757ac728667f4",
       "version_major": 2,
       "version_minor": 0
      },
      "text/plain": [
       "HBox(children=(FloatProgress(value=0.0, max=132.0), HTML(value='')))"
      ]
     },
     "metadata": {},
     "output_type": "display_data"
    },
    {
     "name": "stdout",
     "output_type": "stream",
     "text": [
      "\n",
      "tensor(-2.0248e-05, device='cuda:3')\n",
      "tensor(5.0454e-09, device='cuda:3')\n",
      "tensor(0.0003, device='cuda:3')\n",
      "tensor(0.0003, device='cuda:3')\n",
      "tensor(-5.6996e-06, device='cuda:3')\n",
      "tensor(-8.8474e-08, device='cuda:3')\n",
      "tensor(3.0760e-05, device='cuda:3')\n",
      "tensor(3.0760e-05, device='cuda:3')\n",
      "tensor(4.6329e-08, device='cuda:3')\n",
      "tensor(2.4508e-07, device='cuda:3')\n",
      "tensor(2.8202e-06, device='cuda:3')\n",
      "tensor(2.8202e-06, device='cuda:3')\n",
      "tensor(-1.3834e-08, device='cuda:3')\n",
      "tensor(0., device='cuda:3')\n",
      "tensor(-1.9150e-05, device='cuda:3')\n",
      "tensor(-1.9150e-05, device='cuda:3')\n",
      "tensor(-4.5757e-07, device='cuda:3')\n",
      "tensor(1.8774e-05, device='cuda:3')\n",
      "tensor(-7.0307e-10, device='cuda:3')\n",
      "tensor(0., device='cuda:3')\n"
     ]
    },
    {
     "data": {
      "application/vnd.jupyter.widget-view+json": {
       "model_id": "e665b11b1f51470b864cec41d3771162",
       "version_major": 2,
       "version_minor": 0
      },
      "text/plain": [
       "HBox(children=(FloatProgress(value=0.0, max=17.0), HTML(value='')))"
      ]
     },
     "metadata": {},
     "output_type": "display_data"
    },
    {
     "name": "stdout",
     "output_type": "stream",
     "text": [
      "\n",
      "epoch time: 24.893056869506836\n",
      "loss train: 0.15893552655523474, loss val: 0.24082030881853664\n",
      "accuracy train: 0.920952380952381, accuracy val: 0.8923809523809524\n",
      "---------------------------------------------------------------------------------------------------\n",
      "Epoch: 86, Learning Rate: 0.00025\n",
      "\n"
     ]
    },
    {
     "data": {
      "application/vnd.jupyter.widget-view+json": {
       "model_id": "ac5488be8d834586b8b8e2b3c28c48a8",
       "version_major": 2,
       "version_minor": 0
      },
      "text/plain": [
       "HBox(children=(FloatProgress(value=0.0, max=132.0), HTML(value='')))"
      ]
     },
     "metadata": {},
     "output_type": "display_data"
    },
    {
     "name": "stdout",
     "output_type": "stream",
     "text": [
      "\n",
      "tensor(1.6260e-05, device='cuda:3')\n",
      "tensor(-1.1895e-07, device='cuda:3')\n",
      "tensor(-0.0007, device='cuda:3')\n",
      "tensor(-0.0007, device='cuda:3')\n",
      "tensor(3.9289e-06, device='cuda:3')\n",
      "tensor(4.6683e-08, device='cuda:3')\n",
      "tensor(-0.0001, device='cuda:3')\n",
      "tensor(-0.0001, device='cuda:3')\n",
      "tensor(5.0743e-07, device='cuda:3')\n",
      "tensor(8.5110e-06, device='cuda:3')\n",
      "tensor(-0.0004, device='cuda:3')\n",
      "tensor(-0.0004, device='cuda:3')\n",
      "tensor(-2.1715e-09, device='cuda:3')\n",
      "tensor(0., device='cuda:3')\n",
      "tensor(5.7968e-06, device='cuda:3')\n",
      "tensor(5.7968e-06, device='cuda:3')\n",
      "tensor(5.4778e-06, device='cuda:3')\n",
      "tensor(-0.0008, device='cuda:3')\n",
      "tensor(9.6373e-10, device='cuda:3')\n",
      "tensor(8.8697e-10, device='cuda:3')\n"
     ]
    },
    {
     "data": {
      "application/vnd.jupyter.widget-view+json": {
       "model_id": "452aed595bce4f6aba16f5405d5976aa",
       "version_major": 2,
       "version_minor": 0
      },
      "text/plain": [
       "HBox(children=(FloatProgress(value=0.0, max=17.0), HTML(value='')))"
      ]
     },
     "metadata": {},
     "output_type": "display_data"
    },
    {
     "name": "stdout",
     "output_type": "stream",
     "text": [
      "\n",
      "epoch time: 24.837950229644775\n",
      "loss train: 0.15918824818888397, loss val: 0.2986066271277035\n",
      "accuracy train: 0.9245238095238095, accuracy val: 0.8728571428571429\n",
      "---------------------------------------------------------------------------------------------------\n",
      "Epoch: 87, Learning Rate: 0.00025\n",
      "\n"
     ]
    },
    {
     "data": {
      "application/vnd.jupyter.widget-view+json": {
       "model_id": "1d6d13c9dd594acebb7ee5a6de39f8e2",
       "version_major": 2,
       "version_minor": 0
      },
      "text/plain": [
       "HBox(children=(FloatProgress(value=0.0, max=132.0), HTML(value='')))"
      ]
     },
     "metadata": {},
     "output_type": "display_data"
    },
    {
     "name": "stdout",
     "output_type": "stream",
     "text": [
      "\n",
      "tensor(2.6073e-06, device='cuda:3')\n",
      "tensor(5.3656e-07, device='cuda:3')\n",
      "tensor(0.0012, device='cuda:3')\n",
      "tensor(0.0012, device='cuda:3')\n",
      "tensor(-3.7915e-06, device='cuda:3')\n",
      "tensor(-2.2929e-07, device='cuda:3')\n",
      "tensor(-0.0001, device='cuda:3')\n",
      "tensor(-0.0001, device='cuda:3')\n",
      "tensor(1.6938e-08, device='cuda:3')\n",
      "tensor(-1.1066e-06, device='cuda:3')\n",
      "tensor(7.6936e-05, device='cuda:3')\n",
      "tensor(7.6936e-05, device='cuda:3')\n",
      "tensor(-8.7609e-08, device='cuda:3')\n",
      "tensor(0., device='cuda:3')\n",
      "tensor(4.0389e-05, device='cuda:3')\n",
      "tensor(4.0389e-05, device='cuda:3')\n",
      "tensor(-8.6149e-06, device='cuda:3')\n",
      "tensor(0.0009, device='cuda:3')\n",
      "tensor(9.9866e-10, device='cuda:3')\n",
      "tensor(4.1023e-10, device='cuda:3')\n"
     ]
    },
    {
     "data": {
      "application/vnd.jupyter.widget-view+json": {
       "model_id": "819664483c2540a8ae4f73d323d681f0",
       "version_major": 2,
       "version_minor": 0
      },
      "text/plain": [
       "HBox(children=(FloatProgress(value=0.0, max=17.0), HTML(value='')))"
      ]
     },
     "metadata": {},
     "output_type": "display_data"
    },
    {
     "name": "stdout",
     "output_type": "stream",
     "text": [
      "\n",
      "epoch time: 24.89342164993286\n",
      "loss train: 0.15615411232592483, loss val: 0.20844900783370524\n",
      "accuracy train: 0.9235714285714286, accuracy val: 0.8914285714285715\n",
      "---------------------------------------------------------------------------------------------------\n",
      "Epoch: 88, Learning Rate: 0.00025\n",
      "\n"
     ]
    },
    {
     "data": {
      "application/vnd.jupyter.widget-view+json": {
       "model_id": "c4d106fca830430497ac564acf19c3e1",
       "version_major": 2,
       "version_minor": 0
      },
      "text/plain": [
       "HBox(children=(FloatProgress(value=0.0, max=132.0), HTML(value='')))"
      ]
     },
     "metadata": {},
     "output_type": "display_data"
    },
    {
     "name": "stdout",
     "output_type": "stream",
     "text": [
      "\n",
      "tensor(-6.0739e-05, device='cuda:3')\n",
      "tensor(-3.0965e-06, device='cuda:3')\n",
      "tensor(-0.0012, device='cuda:3')\n",
      "tensor(-0.0012, device='cuda:3')\n",
      "tensor(8.6369e-06, device='cuda:3')\n",
      "tensor(-1.0801e-06, device='cuda:3')\n",
      "tensor(0.0002, device='cuda:3')\n",
      "tensor(0.0002, device='cuda:3')\n",
      "tensor(-5.5926e-07, device='cuda:3')\n",
      "tensor(-1.4890e-05, device='cuda:3')\n",
      "tensor(0.0007, device='cuda:3')\n",
      "tensor(0.0007, device='cuda:3')\n",
      "tensor(7.1577e-08, device='cuda:3')\n",
      "tensor(0., device='cuda:3')\n",
      "tensor(-6.8036e-05, device='cuda:3')\n",
      "tensor(-6.8036e-05, device='cuda:3')\n",
      "tensor(1.1676e-05, device='cuda:3')\n",
      "tensor(-0.0010, device='cuda:3')\n",
      "tensor(4.8667e-09, device='cuda:3')\n",
      "tensor(3.1931e-09, device='cuda:3')\n"
     ]
    },
    {
     "data": {
      "application/vnd.jupyter.widget-view+json": {
       "model_id": "267f70c214ae48e3b20f4be12b4f2c78",
       "version_major": 2,
       "version_minor": 0
      },
      "text/plain": [
       "HBox(children=(FloatProgress(value=0.0, max=17.0), HTML(value='')))"
      ]
     },
     "metadata": {},
     "output_type": "display_data"
    },
    {
     "name": "stdout",
     "output_type": "stream",
     "text": [
      "\n",
      "epoch time: 25.053736925125122\n",
      "loss train: 0.1463685134199984, loss val: 0.28387585282325745\n",
      "accuracy train: 0.9265476190476191, accuracy val: 0.8766666666666667\n",
      "---------------------------------------------------------------------------------------------------\n",
      "Epoch: 89, Learning Rate: 0.00025\n",
      "\n"
     ]
    },
    {
     "data": {
      "application/vnd.jupyter.widget-view+json": {
       "model_id": "2982791b67be4b0d9e7eccdf9f8ac8a4",
       "version_major": 2,
       "version_minor": 0
      },
      "text/plain": [
       "HBox(children=(FloatProgress(value=0.0, max=132.0), HTML(value='')))"
      ]
     },
     "metadata": {},
     "output_type": "display_data"
    },
    {
     "name": "stdout",
     "output_type": "stream",
     "text": [
      "\n",
      "tensor(-1.6369e-06, device='cuda:3')\n",
      "tensor(1.3479e-06, device='cuda:3')\n",
      "tensor(0.0007, device='cuda:3')\n",
      "tensor(0.0007, device='cuda:3')\n",
      "tensor(4.8166e-06, device='cuda:3')\n",
      "tensor(3.0986e-07, device='cuda:3')\n",
      "tensor(0.0002, device='cuda:3')\n",
      "tensor(0.0002, device='cuda:3')\n",
      "tensor(2.5108e-07, device='cuda:3')\n",
      "tensor(3.2777e-06, device='cuda:3')\n",
      "tensor(-0.0002, device='cuda:3')\n",
      "tensor(-0.0002, device='cuda:3')\n",
      "tensor(4.6796e-08, device='cuda:3')\n",
      "tensor(0., device='cuda:3')\n",
      "tensor(9.4772e-06, device='cuda:3')\n",
      "tensor(9.4772e-06, device='cuda:3')\n",
      "tensor(1.5088e-07, device='cuda:3')\n",
      "tensor(4.1989e-05, device='cuda:3')\n",
      "tensor(3.2486e-09, device='cuda:3')\n",
      "tensor(1.5079e-09, device='cuda:3')\n"
     ]
    },
    {
     "data": {
      "application/vnd.jupyter.widget-view+json": {
       "model_id": "5d377f9b1d1a41e1bc7c456db849cea0",
       "version_major": 2,
       "version_minor": 0
      },
      "text/plain": [
       "HBox(children=(FloatProgress(value=0.0, max=17.0), HTML(value='')))"
      ]
     },
     "metadata": {},
     "output_type": "display_data"
    },
    {
     "name": "stdout",
     "output_type": "stream",
     "text": [
      "\n",
      "epoch time: 24.15200400352478\n",
      "loss train: 0.15976807652887973, loss val: 0.3724032395026263\n",
      "accuracy train: 0.9234523809523809, accuracy val: 0.8623809523809524\n",
      "---------------------------------------------------------------------------------------------------\n",
      "Epoch: 90, Learning Rate: 0.000125\n",
      "\n"
     ]
    },
    {
     "data": {
      "application/vnd.jupyter.widget-view+json": {
       "model_id": "9d0c47d73da14bd7abfc677bc1d0086d",
       "version_major": 2,
       "version_minor": 0
      },
      "text/plain": [
       "HBox(children=(FloatProgress(value=0.0, max=132.0), HTML(value='')))"
      ]
     },
     "metadata": {},
     "output_type": "display_data"
    },
    {
     "name": "stdout",
     "output_type": "stream",
     "text": [
      "\n",
      "tensor(-6.4597e-06, device='cuda:3')\n",
      "tensor(-3.1187e-07, device='cuda:3')\n",
      "tensor(-0.0003, device='cuda:3')\n",
      "tensor(-0.0003, device='cuda:3')\n",
      "tensor(-7.4003e-08, device='cuda:3')\n",
      "tensor(7.9411e-08, device='cuda:3')\n",
      "tensor(2.7039e-05, device='cuda:3')\n",
      "tensor(2.7039e-05, device='cuda:3')\n",
      "tensor(6.5959e-09, device='cuda:3')\n",
      "tensor(7.8547e-07, device='cuda:3')\n",
      "tensor(-3.0391e-05, device='cuda:3')\n",
      "tensor(-3.0391e-05, device='cuda:3')\n",
      "tensor(-1.0773e-08, device='cuda:3')\n",
      "tensor(0., device='cuda:3')\n",
      "tensor(6.3874e-06, device='cuda:3')\n",
      "tensor(6.3874e-06, device='cuda:3')\n",
      "tensor(-4.6837e-08, device='cuda:3')\n",
      "tensor(-3.3930e-05, device='cuda:3')\n",
      "tensor(1.3542e-09, device='cuda:3')\n",
      "tensor(1.5966e-09, device='cuda:3')\n"
     ]
    },
    {
     "data": {
      "application/vnd.jupyter.widget-view+json": {
       "model_id": "7ec2cb5919ca471ea8956f0694863723",
       "version_major": 2,
       "version_minor": 0
      },
      "text/plain": [
       "HBox(children=(FloatProgress(value=0.0, max=17.0), HTML(value='')))"
      ]
     },
     "metadata": {},
     "output_type": "display_data"
    },
    {
     "name": "stdout",
     "output_type": "stream",
     "text": [
      "\n",
      "epoch time: 24.742214918136597\n",
      "loss train: 0.1385850670719237, loss val: 0.21512221413500168\n",
      "accuracy train: 0.9333333333333333, accuracy val: 0.8909523809523809\n",
      "---------------------------------------------------------------------------------------------------\n",
      "Epoch: 91, Learning Rate: 0.000125\n",
      "\n"
     ]
    },
    {
     "data": {
      "application/vnd.jupyter.widget-view+json": {
       "model_id": "06902681533d4a038e38394dc784f64a",
       "version_major": 2,
       "version_minor": 0
      },
      "text/plain": [
       "HBox(children=(FloatProgress(value=0.0, max=132.0), HTML(value='')))"
      ]
     },
     "metadata": {},
     "output_type": "display_data"
    },
    {
     "name": "stdout",
     "output_type": "stream",
     "text": [
      "\n",
      "tensor(7.8348e-06, device='cuda:3')\n",
      "tensor(2.4949e-07, device='cuda:3')\n",
      "tensor(-2.3743e-05, device='cuda:3')\n",
      "tensor(-2.3743e-05, device='cuda:3')\n",
      "tensor(1.6660e-06, device='cuda:3')\n",
      "tensor(7.2641e-09, device='cuda:3')\n",
      "tensor(-6.1168e-05, device='cuda:3')\n",
      "tensor(-6.1168e-05, device='cuda:3')\n",
      "tensor(-7.7643e-11, device='cuda:3')\n",
      "tensor(3.2554e-07, device='cuda:3')\n",
      "tensor(-2.0820e-05, device='cuda:3')\n",
      "tensor(-2.0820e-05, device='cuda:3')\n",
      "tensor(-2.2705e-08, device='cuda:3')\n",
      "tensor(0., device='cuda:3')\n",
      "tensor(-5.2481e-06, device='cuda:3')\n",
      "tensor(-5.2481e-06, device='cuda:3')\n",
      "tensor(1.4317e-06, device='cuda:3')\n",
      "tensor(-8.6765e-05, device='cuda:3')\n",
      "tensor(4.7943e-09, device='cuda:3')\n",
      "tensor(3.3705e-09, device='cuda:3')\n"
     ]
    },
    {
     "data": {
      "application/vnd.jupyter.widget-view+json": {
       "model_id": "b2ce7aa470e94ec993ae92b2b5ee32e5",
       "version_major": 2,
       "version_minor": 0
      },
      "text/plain": [
       "HBox(children=(FloatProgress(value=0.0, max=17.0), HTML(value='')))"
      ]
     },
     "metadata": {},
     "output_type": "display_data"
    },
    {
     "name": "stdout",
     "output_type": "stream",
     "text": [
      "\n",
      "epoch time: 25.757585525512695\n",
      "loss train: 0.12837535839979397, loss val: 0.21392687892212586\n",
      "accuracy train: 0.9383333333333334, accuracy val: 0.8952380952380953\n",
      "---------------------------------------------------------------------------------------------------\n",
      "Epoch: 92, Learning Rate: 0.000125\n",
      "\n"
     ]
    },
    {
     "data": {
      "application/vnd.jupyter.widget-view+json": {
       "model_id": "b78fca6348d14296a2720d0bf719da19",
       "version_major": 2,
       "version_minor": 0
      },
      "text/plain": [
       "HBox(children=(FloatProgress(value=0.0, max=132.0), HTML(value='')))"
      ]
     },
     "metadata": {},
     "output_type": "display_data"
    },
    {
     "name": "stdout",
     "output_type": "stream",
     "text": [
      "\n",
      "tensor(-7.7300e-05, device='cuda:3')\n",
      "tensor(-2.4852e-06, device='cuda:3')\n",
      "tensor(0.0017, device='cuda:3')\n",
      "tensor(0.0017, device='cuda:3')\n",
      "tensor(1.9937e-05, device='cuda:3')\n",
      "tensor(-5.3319e-08, device='cuda:3')\n",
      "tensor(0.0003, device='cuda:3')\n",
      "tensor(0.0003, device='cuda:3')\n",
      "tensor(-3.5929e-07, device='cuda:3')\n",
      "tensor(-7.3532e-06, device='cuda:3')\n",
      "tensor(0.0002, device='cuda:3')\n",
      "tensor(0.0002, device='cuda:3')\n",
      "tensor(3.5454e-09, device='cuda:3')\n",
      "tensor(0., device='cuda:3')\n",
      "tensor(7.2230e-06, device='cuda:3')\n",
      "tensor(7.2230e-06, device='cuda:3')\n",
      "tensor(1.8309e-05, device='cuda:3')\n",
      "tensor(-0.0009, device='cuda:3')\n",
      "tensor(2.0225e-09, device='cuda:3')\n",
      "tensor(1.4192e-09, device='cuda:3')\n"
     ]
    },
    {
     "data": {
      "application/vnd.jupyter.widget-view+json": {
       "model_id": "7bd55e68a8bb40d6ac019a8dff867f9c",
       "version_major": 2,
       "version_minor": 0
      },
      "text/plain": [
       "HBox(children=(FloatProgress(value=0.0, max=17.0), HTML(value='')))"
      ]
     },
     "metadata": {},
     "output_type": "display_data"
    },
    {
     "name": "stdout",
     "output_type": "stream",
     "text": [
      "\n",
      "epoch time: 25.12013530731201\n",
      "loss train: 0.12418085062932788, loss val: 0.20902315746335423\n",
      "accuracy train: 0.9403571428571429, accuracy val: 0.8985714285714286\n",
      "---------------------------------------------------------------------------------------------------\n",
      "Epoch: 93, Learning Rate: 0.000125\n",
      "\n"
     ]
    },
    {
     "data": {
      "application/vnd.jupyter.widget-view+json": {
       "model_id": "ef3733fe9a1b4316af6e650bcd660a2a",
       "version_major": 2,
       "version_minor": 0
      },
      "text/plain": [
       "HBox(children=(FloatProgress(value=0.0, max=132.0), HTML(value='')))"
      ]
     },
     "metadata": {},
     "output_type": "display_data"
    },
    {
     "name": "stdout",
     "output_type": "stream",
     "text": [
      "\n",
      "tensor(-9.4746e-05, device='cuda:3')\n",
      "tensor(3.2991e-06, device='cuda:3')\n",
      "tensor(-0.0010, device='cuda:3')\n",
      "tensor(-0.0010, device='cuda:3')\n",
      "tensor(-1.1365e-05, device='cuda:3')\n",
      "tensor(-7.0129e-07, device='cuda:3')\n",
      "tensor(-0.0001, device='cuda:3')\n",
      "tensor(-0.0001, device='cuda:3')\n",
      "tensor(-6.7158e-07, device='cuda:3')\n",
      "tensor(7.0825e-06, device='cuda:3')\n",
      "tensor(-0.0004, device='cuda:3')\n",
      "tensor(-0.0004, device='cuda:3')\n",
      "tensor(2.6066e-07, device='cuda:3')\n",
      "tensor(0., device='cuda:3')\n",
      "tensor(8.0469e-06, device='cuda:3')\n",
      "tensor(8.0469e-06, device='cuda:3')\n",
      "tensor(2.1112e-05, device='cuda:3')\n",
      "tensor(-0.0014, device='cuda:3')\n",
      "tensor(4.9642e-09, device='cuda:3')\n",
      "tensor(4.2575e-09, device='cuda:3')\n"
     ]
    },
    {
     "data": {
      "application/vnd.jupyter.widget-view+json": {
       "model_id": "a67f1b18c6b449e2889f2e6935c0fe67",
       "version_major": 2,
       "version_minor": 0
      },
      "text/plain": [
       "HBox(children=(FloatProgress(value=0.0, max=17.0), HTML(value='')))"
      ]
     },
     "metadata": {},
     "output_type": "display_data"
    },
    {
     "name": "stdout",
     "output_type": "stream",
     "text": [
      "\n",
      "epoch time: 25.016257762908936\n",
      "loss train: 0.12525205906819215, loss val: 0.22830586748964646\n",
      "accuracy train: 0.9398809523809524, accuracy val: 0.8933333333333333\n",
      "---------------------------------------------------------------------------------------------------\n",
      "Epoch: 94, Learning Rate: 0.000125\n",
      "\n"
     ]
    },
    {
     "data": {
      "application/vnd.jupyter.widget-view+json": {
       "model_id": "e47333686f254474aa0efbfabe1c9b72",
       "version_major": 2,
       "version_minor": 0
      },
      "text/plain": [
       "HBox(children=(FloatProgress(value=0.0, max=132.0), HTML(value='')))"
      ]
     },
     "metadata": {},
     "output_type": "display_data"
    },
    {
     "name": "stdout",
     "output_type": "stream",
     "text": [
      "\n",
      "tensor(-5.5647e-07, device='cuda:3')\n",
      "tensor(6.3624e-07, device='cuda:3')\n",
      "tensor(-0.0006, device='cuda:3')\n",
      "tensor(-0.0006, device='cuda:3')\n",
      "tensor(2.4059e-06, device='cuda:3')\n",
      "tensor(1.2569e-07, device='cuda:3')\n",
      "tensor(5.3233e-06, device='cuda:3')\n",
      "tensor(5.3233e-06, device='cuda:3')\n",
      "tensor(2.1218e-08, device='cuda:3')\n",
      "tensor(1.4717e-06, device='cuda:3')\n",
      "tensor(-6.8040e-05, device='cuda:3')\n",
      "tensor(-6.8040e-05, device='cuda:3')\n",
      "tensor(9.8014e-08, device='cuda:3')\n",
      "tensor(0., device='cuda:3')\n",
      "tensor(-6.0833e-06, device='cuda:3')\n",
      "tensor(-6.0833e-06, device='cuda:3')\n",
      "tensor(-1.4788e-06, device='cuda:3')\n",
      "tensor(0.0001, device='cuda:3')\n",
      "tensor(3.4411e-09, device='cuda:3')\n",
      "tensor(1.9513e-09, device='cuda:3')\n"
     ]
    },
    {
     "data": {
      "application/vnd.jupyter.widget-view+json": {
       "model_id": "cef88a08ef3d4c4785a0ec986690a5f8",
       "version_major": 2,
       "version_minor": 0
      },
      "text/plain": [
       "HBox(children=(FloatProgress(value=0.0, max=17.0), HTML(value='')))"
      ]
     },
     "metadata": {},
     "output_type": "display_data"
    },
    {
     "name": "stdout",
     "output_type": "stream",
     "text": [
      "\n",
      "epoch time: 24.172802448272705\n",
      "loss train: 0.1231857298337149, loss val: 0.22092526537530563\n",
      "accuracy train: 0.94, accuracy val: 0.8961904761904762\n",
      "---------------------------------------------------------------------------------------------------\n",
      "Epoch: 95, Learning Rate: 0.000125\n",
      "\n"
     ]
    },
    {
     "data": {
      "application/vnd.jupyter.widget-view+json": {
       "model_id": "4a07350e8da84e6580bec4d366b07cb9",
       "version_major": 2,
       "version_minor": 0
      },
      "text/plain": [
       "HBox(children=(FloatProgress(value=0.0, max=132.0), HTML(value='')))"
      ]
     },
     "metadata": {},
     "output_type": "display_data"
    },
    {
     "name": "stdout",
     "output_type": "stream",
     "text": [
      "\n",
      "tensor(-2.0126e-06, device='cuda:3')\n",
      "tensor(3.1248e-07, device='cuda:3')\n",
      "tensor(-9.2706e-05, device='cuda:3')\n",
      "tensor(-9.2706e-05, device='cuda:3')\n",
      "tensor(-6.7380e-07, device='cuda:3')\n",
      "tensor(4.1205e-08, device='cuda:3')\n",
      "tensor(1.9272e-05, device='cuda:3')\n",
      "tensor(1.9272e-05, device='cuda:3')\n",
      "tensor(1.4824e-08, device='cuda:3')\n",
      "tensor(5.3611e-07, device='cuda:3')\n",
      "tensor(-1.7486e-05, device='cuda:3')\n",
      "tensor(-1.7486e-05, device='cuda:3')\n",
      "tensor(1.2922e-08, device='cuda:3')\n",
      "tensor(0., device='cuda:3')\n",
      "tensor(-3.2277e-06, device='cuda:3')\n",
      "tensor(-3.2277e-06, device='cuda:3')\n",
      "tensor(5.2263e-07, device='cuda:3')\n",
      "tensor(-4.9186e-05, device='cuda:3')\n",
      "tensor(-1.2822e-10, device='cuda:3')\n",
      "tensor(0., device='cuda:3')\n"
     ]
    },
    {
     "data": {
      "application/vnd.jupyter.widget-view+json": {
       "model_id": "f2df6464e22f47e5888e18d5c82d4759",
       "version_major": 2,
       "version_minor": 0
      },
      "text/plain": [
       "HBox(children=(FloatProgress(value=0.0, max=17.0), HTML(value='')))"
      ]
     },
     "metadata": {},
     "output_type": "display_data"
    },
    {
     "name": "stdout",
     "output_type": "stream",
     "text": [
      "\n",
      "epoch time: 24.441829919815063\n",
      "loss train: 0.11735129120731444, loss val: 0.24754242686664357\n",
      "accuracy train: 0.9419047619047619, accuracy val: 0.8909523809523809\n",
      "---------------------------------------------------------------------------------------------------\n",
      "Epoch: 96, Learning Rate: 0.000125\n",
      "\n"
     ]
    },
    {
     "data": {
      "application/vnd.jupyter.widget-view+json": {
       "model_id": "c9a4e6d11e2d43dc88030c881026ee21",
       "version_major": 2,
       "version_minor": 0
      },
      "text/plain": [
       "HBox(children=(FloatProgress(value=0.0, max=132.0), HTML(value='')))"
      ]
     },
     "metadata": {},
     "output_type": "display_data"
    },
    {
     "name": "stdout",
     "output_type": "stream",
     "text": [
      "\n",
      "tensor(-2.6486e-05, device='cuda:3')\n",
      "tensor(-2.6831e-06, device='cuda:3')\n",
      "tensor(0.0008, device='cuda:3')\n",
      "tensor(0.0008, device='cuda:3')\n",
      "tensor(1.5750e-06, device='cuda:3')\n",
      "tensor(-9.1991e-08, device='cuda:3')\n",
      "tensor(-3.3264e-05, device='cuda:3')\n",
      "tensor(-3.3264e-05, device='cuda:3')\n",
      "tensor(3.2133e-08, device='cuda:3')\n",
      "tensor(2.4011e-08, device='cuda:3')\n",
      "tensor(2.2135e-05, device='cuda:3')\n",
      "tensor(2.2135e-05, device='cuda:3')\n",
      "tensor(7.1683e-08, device='cuda:3')\n",
      "tensor(0., device='cuda:3')\n",
      "tensor(-2.4117e-05, device='cuda:3')\n",
      "tensor(-2.4117e-05, device='cuda:3')\n",
      "tensor(-8.7070e-07, device='cuda:3')\n",
      "tensor(0.0002, device='cuda:3')\n",
      "tensor(-3.8628e-10, device='cuda:3')\n",
      "tensor(-7.0958e-10, device='cuda:3')\n"
     ]
    },
    {
     "data": {
      "application/vnd.jupyter.widget-view+json": {
       "model_id": "4e74103bf5d549f98c09d0c8b97c9bd2",
       "version_major": 2,
       "version_minor": 0
      },
      "text/plain": [
       "HBox(children=(FloatProgress(value=0.0, max=17.0), HTML(value='')))"
      ]
     },
     "metadata": {},
     "output_type": "display_data"
    },
    {
     "name": "stdout",
     "output_type": "stream",
     "text": [
      "\n",
      "epoch time: 24.816663026809692\n",
      "loss train: 0.117695259071435, loss val: 0.24441534105469198\n",
      "accuracy train: 0.9416666666666667, accuracy val: 0.8938095238095238\n",
      "---------------------------------------------------------------------------------------------------\n",
      "Epoch: 97, Learning Rate: 0.000125\n",
      "\n"
     ]
    },
    {
     "data": {
      "application/vnd.jupyter.widget-view+json": {
       "model_id": "07b649bfeb474b3ab374fb6071dc565f",
       "version_major": 2,
       "version_minor": 0
      },
      "text/plain": [
       "HBox(children=(FloatProgress(value=0.0, max=132.0), HTML(value='')))"
      ]
     },
     "metadata": {},
     "output_type": "display_data"
    },
    {
     "name": "stdout",
     "output_type": "stream",
     "text": [
      "\n",
      "tensor(-1.5030e-05, device='cuda:3')\n",
      "tensor(1.3443e-07, device='cuda:3')\n",
      "tensor(-8.8491e-05, device='cuda:3')\n",
      "tensor(-8.8491e-05, device='cuda:3')\n",
      "tensor(-3.2902e-06, device='cuda:3')\n",
      "tensor(-6.9959e-08, device='cuda:3')\n",
      "tensor(-0.0002, device='cuda:3')\n",
      "tensor(-0.0002, device='cuda:3')\n",
      "tensor(-9.3326e-08, device='cuda:3')\n",
      "tensor(7.1908e-07, device='cuda:3')\n",
      "tensor(-9.4004e-05, device='cuda:3')\n",
      "tensor(-9.4004e-05, device='cuda:3')\n",
      "tensor(1.8312e-07, device='cuda:3')\n",
      "tensor(0., device='cuda:3')\n",
      "tensor(-2.2015e-05, device='cuda:3')\n",
      "tensor(-2.2015e-05, device='cuda:3')\n",
      "tensor(2.6531e-06, device='cuda:3')\n",
      "tensor(-0.0003, device='cuda:3')\n",
      "tensor(1.1412e-09, device='cuda:3')\n",
      "tensor(6.2088e-10, device='cuda:3')\n"
     ]
    },
    {
     "data": {
      "application/vnd.jupyter.widget-view+json": {
       "model_id": "9b0aed4442c64df9987d6f03d1679a00",
       "version_major": 2,
       "version_minor": 0
      },
      "text/plain": [
       "HBox(children=(FloatProgress(value=0.0, max=17.0), HTML(value='')))"
      ]
     },
     "metadata": {},
     "output_type": "display_data"
    },
    {
     "name": "stdout",
     "output_type": "stream",
     "text": [
      "\n",
      "epoch time: 24.88898730278015\n",
      "loss train: 0.11591681660237638, loss val: 0.21734100141946008\n",
      "accuracy train: 0.9432142857142857, accuracy val: 0.8928571428571429\n",
      "---------------------------------------------------------------------------------------------------\n",
      "Epoch: 98, Learning Rate: 0.000125\n",
      "\n"
     ]
    },
    {
     "data": {
      "application/vnd.jupyter.widget-view+json": {
       "model_id": "9cca432da5684ac49ee24ccae8aed3fc",
       "version_major": 2,
       "version_minor": 0
      },
      "text/plain": [
       "HBox(children=(FloatProgress(value=0.0, max=132.0), HTML(value='')))"
      ]
     },
     "metadata": {},
     "output_type": "display_data"
    },
    {
     "name": "stdout",
     "output_type": "stream",
     "text": [
      "\n",
      "tensor(5.4086e-05, device='cuda:3')\n",
      "tensor(-3.8855e-06, device='cuda:3')\n",
      "tensor(-0.0045, device='cuda:3')\n",
      "tensor(-0.0045, device='cuda:3')\n",
      "tensor(5.1842e-06, device='cuda:3')\n",
      "tensor(1.4246e-06, device='cuda:3')\n",
      "tensor(-9.9289e-05, device='cuda:3')\n",
      "tensor(-9.9289e-05, device='cuda:3')\n",
      "tensor(4.4994e-07, device='cuda:3')\n",
      "tensor(3.7262e-06, device='cuda:3')\n",
      "tensor(-0.0002, device='cuda:3')\n",
      "tensor(-0.0002, device='cuda:3')\n",
      "tensor(1.1447e-08, device='cuda:3')\n",
      "tensor(0., device='cuda:3')\n",
      "tensor(-2.3928e-05, device='cuda:3')\n",
      "tensor(-2.3928e-05, device='cuda:3')\n",
      "tensor(1.2138e-05, device='cuda:3')\n",
      "tensor(-0.0010, device='cuda:3')\n",
      "tensor(-1.3296e-09, device='cuda:3')\n",
      "tensor(-1.7739e-09, device='cuda:3')\n"
     ]
    },
    {
     "data": {
      "application/vnd.jupyter.widget-view+json": {
       "model_id": "f99a33fcf9694868bd76777fa8fa121f",
       "version_major": 2,
       "version_minor": 0
      },
      "text/plain": [
       "HBox(children=(FloatProgress(value=0.0, max=17.0), HTML(value='')))"
      ]
     },
     "metadata": {},
     "output_type": "display_data"
    },
    {
     "name": "stdout",
     "output_type": "stream",
     "text": [
      "\n",
      "epoch time: 24.873467683792114\n",
      "loss train: 0.1125992412791785, loss val: 0.22283078072702184\n",
      "accuracy train: 0.945952380952381, accuracy val: 0.8923809523809524\n",
      "---------------------------------------------------------------------------------------------------\n",
      "Epoch: 99, Learning Rate: 0.000125\n",
      "\n"
     ]
    },
    {
     "data": {
      "application/vnd.jupyter.widget-view+json": {
       "model_id": "fc8d5bbf43da4ab5ac3926e1d0c6c748",
       "version_major": 2,
       "version_minor": 0
      },
      "text/plain": [
       "HBox(children=(FloatProgress(value=0.0, max=132.0), HTML(value='')))"
      ]
     },
     "metadata": {},
     "output_type": "display_data"
    },
    {
     "name": "stdout",
     "output_type": "stream",
     "text": [
      "\n",
      "tensor(2.6009e-06, device='cuda:3')\n",
      "tensor(1.5028e-07, device='cuda:3')\n",
      "tensor(-5.4174e-05, device='cuda:3')\n",
      "tensor(-5.4174e-05, device='cuda:3')\n",
      "tensor(-1.1339e-06, device='cuda:3')\n",
      "tensor(-1.5904e-08, device='cuda:3')\n",
      "tensor(-3.9544e-05, device='cuda:3')\n",
      "tensor(-3.9544e-05, device='cuda:3')\n",
      "tensor(3.5660e-08, device='cuda:3')\n",
      "tensor(5.2321e-07, device='cuda:3')\n",
      "tensor(-1.0147e-05, device='cuda:3')\n",
      "tensor(-1.0147e-05, device='cuda:3')\n",
      "tensor(-2.5005e-08, device='cuda:3')\n",
      "tensor(0., device='cuda:3')\n",
      "tensor(-1.2243e-05, device='cuda:3')\n",
      "tensor(-1.2243e-05, device='cuda:3')\n",
      "tensor(-4.4813e-07, device='cuda:3')\n",
      "tensor(4.6662e-05, device='cuda:3')\n",
      "tensor(2.1315e-09, device='cuda:3')\n",
      "tensor(1.5966e-09, device='cuda:3')\n"
     ]
    },
    {
     "data": {
      "application/vnd.jupyter.widget-view+json": {
       "model_id": "b94fe2794a184cb9830201fdd7ed2125",
       "version_major": 2,
       "version_minor": 0
      },
      "text/plain": [
       "HBox(children=(FloatProgress(value=0.0, max=17.0), HTML(value='')))"
      ]
     },
     "metadata": {},
     "output_type": "display_data"
    },
    {
     "name": "stdout",
     "output_type": "stream",
     "text": [
      "\n",
      "epoch time: 25.50748920440674\n",
      "loss train: 0.12244998680597002, loss val: 0.2304243489223368\n",
      "accuracy train: 0.9376190476190476, accuracy val: 0.8990476190476191\n",
      "---------------------------------------------------------------------------------------------------\n",
      "Epoch: 100, Learning Rate: 0.000125\n",
      "\n"
     ]
    },
    {
     "data": {
      "application/vnd.jupyter.widget-view+json": {
       "model_id": "313351eeabef432396d69cf18516d8a2",
       "version_major": 2,
       "version_minor": 0
      },
      "text/plain": [
       "HBox(children=(FloatProgress(value=0.0, max=132.0), HTML(value='')))"
      ]
     },
     "metadata": {},
     "output_type": "display_data"
    },
    {
     "name": "stdout",
     "output_type": "stream",
     "text": [
      "\n",
      "tensor(-2.9553e-05, device='cuda:3')\n",
      "tensor(2.4546e-07, device='cuda:3')\n",
      "tensor(0.0004, device='cuda:3')\n",
      "tensor(0.0004, device='cuda:3')\n",
      "tensor(-6.8203e-07, device='cuda:3')\n",
      "tensor(-4.7156e-08, device='cuda:3')\n",
      "tensor(1.1157e-06, device='cuda:3')\n",
      "tensor(1.1157e-06, device='cuda:3')\n",
      "tensor(1.1555e-08, device='cuda:3')\n",
      "tensor(4.1733e-07, device='cuda:3')\n",
      "tensor(-1.3750e-05, device='cuda:3')\n",
      "tensor(-1.3750e-05, device='cuda:3')\n",
      "tensor(2.8327e-08, device='cuda:3')\n",
      "tensor(0., device='cuda:3')\n",
      "tensor(-4.3805e-06, device='cuda:3')\n",
      "tensor(-4.3805e-06, device='cuda:3')\n",
      "tensor(2.4334e-07, device='cuda:3')\n",
      "tensor(-1.5097e-05, device='cuda:3')\n",
      "tensor(7.8394e-09, device='cuda:3')\n",
      "tensor(4.5236e-09, device='cuda:3')\n"
     ]
    },
    {
     "data": {
      "application/vnd.jupyter.widget-view+json": {
       "model_id": "33339095cb5e461a84d22a4ff95ec153",
       "version_major": 2,
       "version_minor": 0
      },
      "text/plain": [
       "HBox(children=(FloatProgress(value=0.0, max=17.0), HTML(value='')))"
      ]
     },
     "metadata": {},
     "output_type": "display_data"
    },
    {
     "name": "stdout",
     "output_type": "stream",
     "text": [
      "\n",
      "epoch time: 23.77962827682495\n",
      "loss train: 0.10633897118157509, loss val: 0.2235317703555612\n",
      "accuracy train: 0.945952380952381, accuracy val: 0.8961904761904762\n",
      "---------------------------------------------------------------------------------------------------\n",
      "Epoch: 101, Learning Rate: 0.000125\n",
      "\n"
     ]
    },
    {
     "data": {
      "application/vnd.jupyter.widget-view+json": {
       "model_id": "6ccfbd962ac54999afae3dba5ee65229",
       "version_major": 2,
       "version_minor": 0
      },
      "text/plain": [
       "HBox(children=(FloatProgress(value=0.0, max=132.0), HTML(value='')))"
      ]
     },
     "metadata": {},
     "output_type": "display_data"
    },
    {
     "name": "stdout",
     "output_type": "stream",
     "text": [
      "\n",
      "tensor(2.2238e-06, device='cuda:3')\n",
      "tensor(-1.0219e-06, device='cuda:3')\n",
      "tensor(-0.0003, device='cuda:3')\n",
      "tensor(-0.0003, device='cuda:3')\n",
      "tensor(-9.5731e-07, device='cuda:3')\n",
      "tensor(-2.2569e-08, device='cuda:3')\n",
      "tensor(2.6483e-05, device='cuda:3')\n",
      "tensor(2.6483e-05, device='cuda:3')\n",
      "tensor(5.0813e-08, device='cuda:3')\n",
      "tensor(2.4154e-07, device='cuda:3')\n",
      "tensor(-1.4165e-05, device='cuda:3')\n",
      "tensor(-1.4165e-05, device='cuda:3')\n",
      "tensor(2.2632e-09, device='cuda:3')\n",
      "tensor(0., device='cuda:3')\n",
      "tensor(1.9464e-06, device='cuda:3')\n",
      "tensor(1.9464e-06, device='cuda:3')\n",
      "tensor(1.0534e-07, device='cuda:3')\n",
      "tensor(-0.0001, device='cuda:3')\n",
      "tensor(4.2599e-09, device='cuda:3')\n",
      "tensor(2.4503e-09, device='cuda:3')\n"
     ]
    },
    {
     "data": {
      "application/vnd.jupyter.widget-view+json": {
       "model_id": "a03dc2cbc431430ea1ac338f99c582b4",
       "version_major": 2,
       "version_minor": 0
      },
      "text/plain": [
       "HBox(children=(FloatProgress(value=0.0, max=17.0), HTML(value='')))"
      ]
     },
     "metadata": {},
     "output_type": "display_data"
    },
    {
     "name": "stdout",
     "output_type": "stream",
     "text": [
      "\n",
      "epoch time: 24.59560751914978\n",
      "loss train: 0.1173506619295839, loss val: 0.23078996819608352\n",
      "accuracy train: 0.94, accuracy val: 0.8947619047619048\n",
      "---------------------------------------------------------------------------------------------------\n",
      "Epoch: 102, Learning Rate: 0.000125\n",
      "\n"
     ]
    },
    {
     "data": {
      "application/vnd.jupyter.widget-view+json": {
       "model_id": "9ea88f222ae041bcb919ad7dea2a2f3f",
       "version_major": 2,
       "version_minor": 0
      },
      "text/plain": [
       "HBox(children=(FloatProgress(value=0.0, max=132.0), HTML(value='')))"
      ]
     },
     "metadata": {},
     "output_type": "display_data"
    },
    {
     "name": "stdout",
     "output_type": "stream",
     "text": [
      "\n",
      "tensor(-1.3078e-06, device='cuda:3')\n",
      "tensor(-5.8028e-08, device='cuda:3')\n",
      "tensor(9.7366e-05, device='cuda:3')\n",
      "tensor(9.7366e-05, device='cuda:3')\n",
      "tensor(9.7355e-07, device='cuda:3')\n",
      "tensor(-1.7847e-08, device='cuda:3')\n",
      "tensor(-1.8896e-05, device='cuda:3')\n",
      "tensor(-1.8896e-05, device='cuda:3')\n",
      "tensor(-8.5004e-09, device='cuda:3')\n",
      "tensor(3.6017e-08, device='cuda:3')\n",
      "tensor(-3.7134e-06, device='cuda:3')\n",
      "tensor(-3.7134e-06, device='cuda:3')\n",
      "tensor(-5.4771e-08, device='cuda:3')\n",
      "tensor(0., device='cuda:3')\n",
      "tensor(-1.6656e-05, device='cuda:3')\n",
      "tensor(-1.6656e-05, device='cuda:3')\n",
      "tensor(-2.1590e-07, device='cuda:3')\n",
      "tensor(2.3312e-05, device='cuda:3')\n",
      "tensor(4.7464e-09, device='cuda:3')\n",
      "tensor(3.3705e-09, device='cuda:3')\n"
     ]
    },
    {
     "data": {
      "application/vnd.jupyter.widget-view+json": {
       "model_id": "9c797d98fe9b4ef3aae7e35e843fa5cc",
       "version_major": 2,
       "version_minor": 0
      },
      "text/plain": [
       "HBox(children=(FloatProgress(value=0.0, max=17.0), HTML(value='')))"
      ]
     },
     "metadata": {},
     "output_type": "display_data"
    },
    {
     "name": "stdout",
     "output_type": "stream",
     "text": [
      "\n",
      "epoch time: 25.330315351486206\n",
      "loss train: 0.11576435562561858, loss val: 0.2534918916576049\n",
      "accuracy train: 0.9429761904761905, accuracy val: 0.8890476190476191\n",
      "---------------------------------------------------------------------------------------------------\n",
      "Epoch: 103, Learning Rate: 0.000125\n",
      "\n"
     ]
    },
    {
     "data": {
      "application/vnd.jupyter.widget-view+json": {
       "model_id": "8f505af7b2f2408a8ce444a63f66836f",
       "version_major": 2,
       "version_minor": 0
      },
      "text/plain": [
       "HBox(children=(FloatProgress(value=0.0, max=132.0), HTML(value='')))"
      ]
     },
     "metadata": {},
     "output_type": "display_data"
    },
    {
     "name": "stdout",
     "output_type": "stream",
     "text": [
      "\n",
      "tensor(-0.0002, device='cuda:3')\n",
      "tensor(3.2163e-05, device='cuda:3')\n",
      "tensor(0.0095, device='cuda:3')\n",
      "tensor(0.0095, device='cuda:3')\n",
      "tensor(-1.3550e-05, device='cuda:3')\n",
      "tensor(-2.4157e-06, device='cuda:3')\n",
      "tensor(0.0005, device='cuda:3')\n",
      "tensor(0.0005, device='cuda:3')\n",
      "tensor(1.4352e-07, device='cuda:3')\n",
      "tensor(4.0205e-06, device='cuda:3')\n",
      "tensor(-0.0001, device='cuda:3')\n",
      "tensor(-0.0001, device='cuda:3')\n",
      "tensor(6.8571e-09, device='cuda:3')\n",
      "tensor(0., device='cuda:3')\n",
      "tensor(2.9264e-06, device='cuda:3')\n",
      "tensor(2.9264e-06, device='cuda:3')\n",
      "tensor(-5.3925e-06, device='cuda:3')\n",
      "tensor(0.0009, device='cuda:3')\n",
      "tensor(-1.6243e-11, device='cuda:3')\n",
      "tensor(-3.5479e-10, device='cuda:3')\n"
     ]
    },
    {
     "data": {
      "application/vnd.jupyter.widget-view+json": {
       "model_id": "b4fe38f9fabb4c25a7602f2cbab4f3a0",
       "version_major": 2,
       "version_minor": 0
      },
      "text/plain": [
       "HBox(children=(FloatProgress(value=0.0, max=17.0), HTML(value='')))"
      ]
     },
     "metadata": {},
     "output_type": "display_data"
    },
    {
     "name": "stdout",
     "output_type": "stream",
     "text": [
      "\n",
      "epoch time: 24.742334365844727\n",
      "loss train: 0.10638797400293476, loss val: 0.24667915088288925\n",
      "accuracy train: 0.9472619047619047, accuracy val: 0.9004761904761904\n",
      "---------------------------------------------------------------------------------------------------\n",
      "Epoch: 104, Learning Rate: 0.000125\n",
      "\n"
     ]
    },
    {
     "data": {
      "application/vnd.jupyter.widget-view+json": {
       "model_id": "ec8a87ef87f9467a95db49e6a7b15b85",
       "version_major": 2,
       "version_minor": 0
      },
      "text/plain": [
       "HBox(children=(FloatProgress(value=0.0, max=132.0), HTML(value='')))"
      ]
     },
     "metadata": {},
     "output_type": "display_data"
    },
    {
     "name": "stdout",
     "output_type": "stream",
     "text": [
      "\n",
      "tensor(-7.3940e-07, device='cuda:3')\n",
      "tensor(6.7843e-08, device='cuda:3')\n",
      "tensor(-6.2982e-06, device='cuda:3')\n",
      "tensor(-6.2982e-06, device='cuda:3')\n",
      "tensor(2.0315e-07, device='cuda:3')\n",
      "tensor(-5.4695e-09, device='cuda:3')\n",
      "tensor(-7.9989e-06, device='cuda:3')\n",
      "tensor(-7.9989e-06, device='cuda:3')\n",
      "tensor(1.1800e-08, device='cuda:3')\n",
      "tensor(2.1163e-07, device='cuda:3')\n",
      "tensor(-5.2262e-06, device='cuda:3')\n",
      "tensor(-5.2262e-06, device='cuda:3')\n",
      "tensor(-1.2719e-08, device='cuda:3')\n",
      "tensor(0., device='cuda:3')\n",
      "tensor(-6.3850e-06, device='cuda:3')\n",
      "tensor(-6.3850e-06, device='cuda:3')\n",
      "tensor(7.4261e-08, device='cuda:3')\n",
      "tensor(-6.5457e-06, device='cuda:3')\n",
      "tensor(-1.6315e-10, device='cuda:3')\n",
      "tensor(-1.7739e-10, device='cuda:3')\n"
     ]
    },
    {
     "data": {
      "application/vnd.jupyter.widget-view+json": {
       "model_id": "94307bd0ef2b416088b79602c074f0fc",
       "version_major": 2,
       "version_minor": 0
      },
      "text/plain": [
       "HBox(children=(FloatProgress(value=0.0, max=17.0), HTML(value='')))"
      ]
     },
     "metadata": {},
     "output_type": "display_data"
    },
    {
     "name": "stdout",
     "output_type": "stream",
     "text": [
      "\n",
      "epoch time: 25.233784914016724\n",
      "loss train: 0.1101773427799344, loss val: 0.2586680457872503\n",
      "accuracy train: 0.944047619047619, accuracy val: 0.8928571428571429\n",
      "---------------------------------------------------------------------------------------------------\n",
      "Epoch: 105, Learning Rate: 0.000125\n",
      "\n"
     ]
    },
    {
     "data": {
      "application/vnd.jupyter.widget-view+json": {
       "model_id": "b674bfff3af54392b19f60bb8a666829",
       "version_major": 2,
       "version_minor": 0
      },
      "text/plain": [
       "HBox(children=(FloatProgress(value=0.0, max=132.0), HTML(value='')))"
      ]
     },
     "metadata": {},
     "output_type": "display_data"
    },
    {
     "name": "stdout",
     "output_type": "stream",
     "text": [
      "\n",
      "tensor(-3.4697e-06, device='cuda:3')\n",
      "tensor(6.8180e-07, device='cuda:3')\n",
      "tensor(0.0001, device='cuda:3')\n",
      "tensor(0.0001, device='cuda:3')\n",
      "tensor(5.2845e-06, device='cuda:3')\n",
      "tensor(5.7391e-08, device='cuda:3')\n",
      "tensor(-0.0001, device='cuda:3')\n",
      "tensor(-0.0001, device='cuda:3')\n",
      "tensor(-6.8042e-08, device='cuda:3')\n",
      "tensor(1.4328e-06, device='cuda:3')\n",
      "tensor(-3.2594e-05, device='cuda:3')\n",
      "tensor(-3.2594e-05, device='cuda:3')\n",
      "tensor(-3.1130e-08, device='cuda:3')\n",
      "tensor(0., device='cuda:3')\n",
      "tensor(-5.5527e-06, device='cuda:3')\n",
      "tensor(-5.5527e-06, device='cuda:3')\n",
      "tensor(-3.2008e-06, device='cuda:3')\n",
      "tensor(0.0002, device='cuda:3')\n",
      "tensor(6.9181e-09, device='cuda:3')\n",
      "tensor(4.2575e-09, device='cuda:3')\n"
     ]
    },
    {
     "data": {
      "application/vnd.jupyter.widget-view+json": {
       "model_id": "53b32b579666473c9ad3a9cfff1e0812",
       "version_major": 2,
       "version_minor": 0
      },
      "text/plain": [
       "HBox(children=(FloatProgress(value=0.0, max=17.0), HTML(value='')))"
      ]
     },
     "metadata": {},
     "output_type": "display_data"
    },
    {
     "name": "stdout",
     "output_type": "stream",
     "text": [
      "\n",
      "epoch time: 24.6378173828125\n",
      "loss train: 0.10650425083991705, loss val: 0.2384459350038977\n",
      "accuracy train: 0.9445238095238095, accuracy val: 0.8952380952380953\n",
      "---------------------------------------------------------------------------------------------------\n",
      "Epoch: 106, Learning Rate: 0.000125\n",
      "\n"
     ]
    },
    {
     "data": {
      "application/vnd.jupyter.widget-view+json": {
       "model_id": "ab0373db13b542dd8ea1626fe80160cc",
       "version_major": 2,
       "version_minor": 0
      },
      "text/plain": [
       "HBox(children=(FloatProgress(value=0.0, max=132.0), HTML(value='')))"
      ]
     },
     "metadata": {},
     "output_type": "display_data"
    },
    {
     "name": "stdout",
     "output_type": "stream",
     "text": [
      "\n",
      "tensor(1.4281e-05, device='cuda:3')\n",
      "tensor(6.2435e-07, device='cuda:3')\n",
      "tensor(-0.0005, device='cuda:3')\n",
      "tensor(-0.0005, device='cuda:3')\n",
      "tensor(-3.5454e-06, device='cuda:3')\n",
      "tensor(2.7305e-07, device='cuda:3')\n",
      "tensor(5.1213e-05, device='cuda:3')\n",
      "tensor(5.1213e-05, device='cuda:3')\n",
      "tensor(-1.3319e-08, device='cuda:3')\n",
      "tensor(1.5767e-07, device='cuda:3')\n",
      "tensor(-5.4600e-07, device='cuda:3')\n",
      "tensor(-5.4600e-07, device='cuda:3')\n",
      "tensor(-1.6618e-08, device='cuda:3')\n",
      "tensor(0., device='cuda:3')\n",
      "tensor(7.7299e-06, device='cuda:3')\n",
      "tensor(7.7299e-06, device='cuda:3')\n",
      "tensor(9.0613e-07, device='cuda:3')\n",
      "tensor(-6.2002e-05, device='cuda:3')\n",
      "tensor(4.6632e-09, device='cuda:3')\n",
      "tensor(3.5479e-09, device='cuda:3')\n"
     ]
    },
    {
     "data": {
      "application/vnd.jupyter.widget-view+json": {
       "model_id": "133f8c44406a4449a5243c50f7dcd685",
       "version_major": 2,
       "version_minor": 0
      },
      "text/plain": [
       "HBox(children=(FloatProgress(value=0.0, max=17.0), HTML(value='')))"
      ]
     },
     "metadata": {},
     "output_type": "display_data"
    },
    {
     "name": "stdout",
     "output_type": "stream",
     "text": [
      "\n",
      "epoch time: 24.101378679275513\n",
      "loss train: 0.10548195395280015, loss val: 0.27765030895962434\n",
      "accuracy train: 0.95, accuracy val: 0.8942857142857142\n",
      "---------------------------------------------------------------------------------------------------\n",
      "Epoch: 107, Learning Rate: 0.000125\n",
      "\n"
     ]
    },
    {
     "data": {
      "application/vnd.jupyter.widget-view+json": {
       "model_id": "b511a8bc08244fbf974b038e426e43e4",
       "version_major": 2,
       "version_minor": 0
      },
      "text/plain": [
       "HBox(children=(FloatProgress(value=0.0, max=132.0), HTML(value='')))"
      ]
     },
     "metadata": {},
     "output_type": "display_data"
    },
    {
     "name": "stdout",
     "output_type": "stream",
     "text": [
      "\n",
      "tensor(8.7735e-05, device='cuda:3')\n",
      "tensor(-1.1442e-06, device='cuda:3')\n",
      "tensor(0.0001, device='cuda:3')\n",
      "tensor(0.0001, device='cuda:3')\n",
      "tensor(2.2237e-06, device='cuda:3')\n",
      "tensor(-1.0049e-07, device='cuda:3')\n",
      "tensor(0.0001, device='cuda:3')\n",
      "tensor(0.0001, device='cuda:3')\n",
      "tensor(-4.4594e-08, device='cuda:3')\n",
      "tensor(-3.3740e-06, device='cuda:3')\n",
      "tensor(0.0001, device='cuda:3')\n",
      "tensor(0.0001, device='cuda:3')\n",
      "tensor(-6.8639e-09, device='cuda:3')\n",
      "tensor(0., device='cuda:3')\n",
      "tensor(-4.8717e-06, device='cuda:3')\n",
      "tensor(-4.8717e-06, device='cuda:3')\n",
      "tensor(-1.2991e-06, device='cuda:3')\n",
      "tensor(1.2857e-05, device='cuda:3')\n",
      "tensor(2.1979e-09, device='cuda:3')\n",
      "tensor(1.5522e-09, device='cuda:3')\n"
     ]
    },
    {
     "data": {
      "application/vnd.jupyter.widget-view+json": {
       "model_id": "47adb2a416f244d5afd1aaad787cd2cc",
       "version_major": 2,
       "version_minor": 0
      },
      "text/plain": [
       "HBox(children=(FloatProgress(value=0.0, max=17.0), HTML(value='')))"
      ]
     },
     "metadata": {},
     "output_type": "display_data"
    },
    {
     "name": "stdout",
     "output_type": "stream",
     "text": [
      "\n",
      "epoch time: 25.22124171257019\n",
      "loss train: 0.1065897607583214, loss val: 0.2664642719661488\n",
      "accuracy train: 0.9473809523809524, accuracy val: 0.8966666666666666\n",
      "---------------------------------------------------------------------------------------------------\n",
      "Epoch: 108, Learning Rate: 0.000125\n",
      "\n"
     ]
    },
    {
     "data": {
      "application/vnd.jupyter.widget-view+json": {
       "model_id": "b00866ca9f53482a8c0c3a64aa5df158",
       "version_major": 2,
       "version_minor": 0
      },
      "text/plain": [
       "HBox(children=(FloatProgress(value=0.0, max=132.0), HTML(value='')))"
      ]
     },
     "metadata": {},
     "output_type": "display_data"
    },
    {
     "name": "stdout",
     "output_type": "stream",
     "text": [
      "\n",
      "tensor(2.5699e-06, device='cuda:3')\n",
      "tensor(-2.7384e-06, device='cuda:3')\n",
      "tensor(0.0005, device='cuda:3')\n",
      "tensor(0.0005, device='cuda:3')\n",
      "tensor(7.7891e-07, device='cuda:3')\n",
      "tensor(-1.7277e-08, device='cuda:3')\n",
      "tensor(2.2785e-05, device='cuda:3')\n",
      "tensor(2.2785e-05, device='cuda:3')\n",
      "tensor(2.5142e-07, device='cuda:3')\n",
      "tensor(-4.4119e-06, device='cuda:3')\n",
      "tensor(0.0001, device='cuda:3')\n",
      "tensor(0.0001, device='cuda:3')\n",
      "tensor(-1.0466e-07, device='cuda:3')\n",
      "tensor(0., device='cuda:3')\n",
      "tensor(-3.2062e-05, device='cuda:3')\n",
      "tensor(-3.2062e-05, device='cuda:3')\n",
      "tensor(-2.1600e-06, device='cuda:3')\n",
      "tensor(0.0001, device='cuda:3')\n",
      "tensor(4.0647e-09, device='cuda:3')\n",
      "tensor(2.1287e-09, device='cuda:3')\n"
     ]
    },
    {
     "data": {
      "application/vnd.jupyter.widget-view+json": {
       "model_id": "b4f49b9353a94e13b279513bc1e09843",
       "version_major": 2,
       "version_minor": 0
      },
      "text/plain": [
       "HBox(children=(FloatProgress(value=0.0, max=17.0), HTML(value='')))"
      ]
     },
     "metadata": {},
     "output_type": "display_data"
    },
    {
     "name": "stdout",
     "output_type": "stream",
     "text": [
      "\n",
      "epoch time: 25.078646421432495\n",
      "loss train: 0.10760993984612552, loss val: 0.2262908960966503\n",
      "accuracy train: 0.9469047619047619, accuracy val: 0.8971428571428571\n",
      "---------------------------------------------------------------------------------------------------\n",
      "Epoch: 109, Learning Rate: 0.000125\n",
      "\n"
     ]
    },
    {
     "data": {
      "application/vnd.jupyter.widget-view+json": {
       "model_id": "1c1f738a30d14fc89ab6e6354c2342b7",
       "version_major": 2,
       "version_minor": 0
      },
      "text/plain": [
       "HBox(children=(FloatProgress(value=0.0, max=132.0), HTML(value='')))"
      ]
     },
     "metadata": {},
     "output_type": "display_data"
    },
    {
     "name": "stdout",
     "output_type": "stream",
     "text": [
      "\n",
      "tensor(-2.5563e-05, device='cuda:3')\n",
      "tensor(-2.1179e-07, device='cuda:3')\n",
      "tensor(-0.0010, device='cuda:3')\n",
      "tensor(-0.0010, device='cuda:3')\n",
      "tensor(-3.7643e-06, device='cuda:3')\n",
      "tensor(-4.1963e-07, device='cuda:3')\n",
      "tensor(-4.6238e-05, device='cuda:3')\n",
      "tensor(-4.6238e-05, device='cuda:3')\n",
      "tensor(-2.4154e-07, device='cuda:3')\n",
      "tensor(-4.8652e-06, device='cuda:3')\n",
      "tensor(0.0001, device='cuda:3')\n",
      "tensor(0.0001, device='cuda:3')\n",
      "tensor(3.0343e-07, device='cuda:3')\n",
      "tensor(0., device='cuda:3')\n",
      "tensor(-6.9614e-05, device='cuda:3')\n",
      "tensor(-6.9614e-05, device='cuda:3')\n",
      "tensor(5.2980e-06, device='cuda:3')\n",
      "tensor(-0.0006, device='cuda:3')\n",
      "tensor(3.9066e-09, device='cuda:3')\n",
      "tensor(2.2174e-09, device='cuda:3')\n"
     ]
    },
    {
     "data": {
      "application/vnd.jupyter.widget-view+json": {
       "model_id": "dda6f019742d4798aa384cf79b80e218",
       "version_major": 2,
       "version_minor": 0
      },
      "text/plain": [
       "HBox(children=(FloatProgress(value=0.0, max=17.0), HTML(value='')))"
      ]
     },
     "metadata": {},
     "output_type": "display_data"
    },
    {
     "name": "stdout",
     "output_type": "stream",
     "text": [
      "\n",
      "epoch time: 24.86683225631714\n",
      "loss train: 0.10597151846653133, loss val: 0.232238187947694\n",
      "accuracy train: 0.9435714285714286, accuracy val: 0.8957142857142857\n",
      "---------------------------------------------------------------------------------------------------\n",
      "Epoch: 110, Learning Rate: 0.000125\n",
      "\n"
     ]
    },
    {
     "data": {
      "application/vnd.jupyter.widget-view+json": {
       "model_id": "32de08d18a9e4a66a2206a1c48a4bc7a",
       "version_major": 2,
       "version_minor": 0
      },
      "text/plain": [
       "HBox(children=(FloatProgress(value=0.0, max=132.0), HTML(value='')))"
      ]
     },
     "metadata": {},
     "output_type": "display_data"
    },
    {
     "name": "stdout",
     "output_type": "stream",
     "text": [
      "\n",
      "tensor(-3.1505e-05, device='cuda:3')\n",
      "tensor(-1.5502e-07, device='cuda:3')\n",
      "tensor(0.0023, device='cuda:3')\n",
      "tensor(0.0023, device='cuda:3')\n",
      "tensor(0.0001, device='cuda:3')\n",
      "tensor(-4.4130e-06, device='cuda:3')\n",
      "tensor(-0.0014, device='cuda:3')\n",
      "tensor(-0.0014, device='cuda:3')\n",
      "tensor(2.6382e-06, device='cuda:3')\n",
      "tensor(-4.0375e-05, device='cuda:3')\n",
      "tensor(0.0017, device='cuda:3')\n",
      "tensor(0.0017, device='cuda:3')\n",
      "tensor(3.3707e-07, device='cuda:3')\n",
      "tensor(0., device='cuda:3')\n",
      "tensor(0.0001, device='cuda:3')\n",
      "tensor(0.0001, device='cuda:3')\n",
      "tensor(-1.0695e-05, device='cuda:3')\n",
      "tensor(0.0011, device='cuda:3')\n",
      "tensor(5.6838e-10, device='cuda:3')\n",
      "tensor(-3.5479e-10, device='cuda:3')\n"
     ]
    },
    {
     "data": {
      "application/vnd.jupyter.widget-view+json": {
       "model_id": "c915d0732f46421e98a2a489bfff7417",
       "version_major": 2,
       "version_minor": 0
      },
      "text/plain": [
       "HBox(children=(FloatProgress(value=0.0, max=17.0), HTML(value='')))"
      ]
     },
     "metadata": {},
     "output_type": "display_data"
    },
    {
     "name": "stdout",
     "output_type": "stream",
     "text": [
      "\n",
      "epoch time: 26.441466808319092\n",
      "loss train: 0.10310002587114771, loss val: 0.2386659769450917\n",
      "accuracy train: 0.9488095238095238, accuracy val: 0.8933333333333333\n",
      "---------------------------------------------------------------------------------------------------\n",
      "Epoch: 111, Learning Rate: 0.000125\n",
      "\n"
     ]
    },
    {
     "data": {
      "application/vnd.jupyter.widget-view+json": {
       "model_id": "35ad50c69a874d58bd476c70fe226bf9",
       "version_major": 2,
       "version_minor": 0
      },
      "text/plain": [
       "HBox(children=(FloatProgress(value=0.0, max=132.0), HTML(value='')))"
      ]
     },
     "metadata": {},
     "output_type": "display_data"
    },
    {
     "name": "stdout",
     "output_type": "stream",
     "text": [
      "\n",
      "tensor(-6.6579e-06, device='cuda:3')\n",
      "tensor(3.3223e-06, device='cuda:3')\n",
      "tensor(-0.0036, device='cuda:3')\n",
      "tensor(-0.0036, device='cuda:3')\n",
      "tensor(2.8749e-06, device='cuda:3')\n",
      "tensor(4.4716e-07, device='cuda:3')\n",
      "tensor(4.0081e-05, device='cuda:3')\n",
      "tensor(4.0081e-05, device='cuda:3')\n",
      "tensor(2.6436e-08, device='cuda:3')\n",
      "tensor(1.0517e-05, device='cuda:3')\n",
      "tensor(-0.0004, device='cuda:3')\n",
      "tensor(-0.0004, device='cuda:3')\n",
      "tensor(8.5311e-08, device='cuda:3')\n",
      "tensor(0., device='cuda:3')\n",
      "tensor(2.5128e-06, device='cuda:3')\n",
      "tensor(2.5128e-06, device='cuda:3')\n",
      "tensor(-2.2771e-05, device='cuda:3')\n",
      "tensor(0.0008, device='cuda:3')\n",
      "tensor(7.5976e-09, device='cuda:3')\n",
      "tensor(5.4992e-09, device='cuda:3')\n"
     ]
    },
    {
     "data": {
      "application/vnd.jupyter.widget-view+json": {
       "model_id": "aefd55d8b396431a98889d078e3f83b1",
       "version_major": 2,
       "version_minor": 0
      },
      "text/plain": [
       "HBox(children=(FloatProgress(value=0.0, max=17.0), HTML(value='')))"
      ]
     },
     "metadata": {},
     "output_type": "display_data"
    },
    {
     "name": "stdout",
     "output_type": "stream",
     "text": [
      "\n",
      "epoch time: 26.686618089675903\n",
      "loss train: 0.1019811169808787, loss val: 0.23245365917682648\n",
      "accuracy train: 0.9465476190476191, accuracy val: 0.8985714285714286\n",
      "---------------------------------------------------------------------------------------------------\n",
      "Epoch: 112, Learning Rate: 0.000125\n",
      "\n"
     ]
    },
    {
     "data": {
      "application/vnd.jupyter.widget-view+json": {
       "model_id": "d8abff8ae35146e09641b7bb77b6bfdb",
       "version_major": 2,
       "version_minor": 0
      },
      "text/plain": [
       "HBox(children=(FloatProgress(value=0.0, max=132.0), HTML(value='')))"
      ]
     },
     "metadata": {},
     "output_type": "display_data"
    },
    {
     "name": "stdout",
     "output_type": "stream",
     "text": [
      "\n",
      "tensor(4.3432e-05, device='cuda:3')\n",
      "tensor(1.1425e-06, device='cuda:3')\n",
      "tensor(0.0013, device='cuda:3')\n",
      "tensor(0.0013, device='cuda:3')\n",
      "tensor(-2.1051e-06, device='cuda:3')\n",
      "tensor(4.3877e-07, device='cuda:3')\n",
      "tensor(-2.3606e-05, device='cuda:3')\n",
      "tensor(-2.3606e-05, device='cuda:3')\n",
      "tensor(8.9176e-08, device='cuda:3')\n",
      "tensor(8.4306e-07, device='cuda:3')\n",
      "tensor(-5.1098e-05, device='cuda:3')\n",
      "tensor(-5.1098e-05, device='cuda:3')\n",
      "tensor(-3.6628e-08, device='cuda:3')\n",
      "tensor(0., device='cuda:3')\n",
      "tensor(3.9168e-06, device='cuda:3')\n",
      "tensor(3.9168e-06, device='cuda:3')\n",
      "tensor(-7.7037e-08, device='cuda:3')\n",
      "tensor(8.4416e-05, device='cuda:3')\n",
      "tensor(2.7402e-09, device='cuda:3')\n",
      "tensor(1.8626e-09, device='cuda:3')\n"
     ]
    },
    {
     "data": {
      "application/vnd.jupyter.widget-view+json": {
       "model_id": "1a8507d8c39941208510d323418571ff",
       "version_major": 2,
       "version_minor": 0
      },
      "text/plain": [
       "HBox(children=(FloatProgress(value=0.0, max=17.0), HTML(value='')))"
      ]
     },
     "metadata": {},
     "output_type": "display_data"
    },
    {
     "name": "stdout",
     "output_type": "stream",
     "text": [
      "\n",
      "epoch time: 26.738341569900513\n",
      "loss train: 0.10690000205949853, loss val: 0.23319388356278925\n",
      "accuracy train: 0.9438095238095238, accuracy val: 0.8990476190476191\n",
      "---------------------------------------------------------------------------------------------------\n",
      "Epoch: 113, Learning Rate: 0.000125\n",
      "\n"
     ]
    },
    {
     "data": {
      "application/vnd.jupyter.widget-view+json": {
       "model_id": "2809084855d44d23878e94ec253b020b",
       "version_major": 2,
       "version_minor": 0
      },
      "text/plain": [
       "HBox(children=(FloatProgress(value=0.0, max=132.0), HTML(value='')))"
      ]
     },
     "metadata": {},
     "output_type": "display_data"
    },
    {
     "name": "stdout",
     "output_type": "stream",
     "text": [
      "\n",
      "tensor(1.8532e-05, device='cuda:3')\n",
      "tensor(-2.2301e-08, device='cuda:3')\n",
      "tensor(-0.0021, device='cuda:3')\n",
      "tensor(-0.0021, device='cuda:3')\n",
      "tensor(5.2177e-05, device='cuda:3')\n",
      "tensor(4.6656e-07, device='cuda:3')\n",
      "tensor(-0.0010, device='cuda:3')\n",
      "tensor(-0.0010, device='cuda:3')\n",
      "tensor(-6.9125e-07, device='cuda:3')\n",
      "tensor(1.7601e-05, device='cuda:3')\n",
      "tensor(-0.0007, device='cuda:3')\n",
      "tensor(-0.0007, device='cuda:3')\n",
      "tensor(3.3218e-08, device='cuda:3')\n",
      "tensor(0., device='cuda:3')\n",
      "tensor(3.3477e-05, device='cuda:3')\n",
      "tensor(3.3477e-05, device='cuda:3')\n",
      "tensor(7.9934e-06, device='cuda:3')\n",
      "tensor(-0.0007, device='cuda:3')\n",
      "tensor(3.3783e-10, device='cuda:3')\n",
      "tensor(7.9828e-10, device='cuda:3')\n"
     ]
    },
    {
     "data": {
      "application/vnd.jupyter.widget-view+json": {
       "model_id": "ea03c0f108fe456ba5996ed9610587cf",
       "version_major": 2,
       "version_minor": 0
      },
      "text/plain": [
       "HBox(children=(FloatProgress(value=0.0, max=17.0), HTML(value='')))"
      ]
     },
     "metadata": {},
     "output_type": "display_data"
    },
    {
     "name": "stdout",
     "output_type": "stream",
     "text": [
      "\n",
      "epoch time: 27.5129816532135\n",
      "loss train: 0.10640907095688762, loss val: 0.23392299606519587\n",
      "accuracy train: 0.9480952380952381, accuracy val: 0.8976190476190476\n",
      "---------------------------------------------------------------------------------------------------\n",
      "Epoch: 114, Learning Rate: 0.000125\n",
      "\n"
     ]
    },
    {
     "data": {
      "application/vnd.jupyter.widget-view+json": {
       "model_id": "d24de797230f4c20abf3629d94b3d2ba",
       "version_major": 2,
       "version_minor": 0
      },
      "text/plain": [
       "HBox(children=(FloatProgress(value=0.0, max=132.0), HTML(value='')))"
      ]
     },
     "metadata": {},
     "output_type": "display_data"
    },
    {
     "name": "stdout",
     "output_type": "stream",
     "text": [
      "\n",
      "tensor(-2.4248e-05, device='cuda:3')\n",
      "tensor(-1.8305e-07, device='cuda:3')\n",
      "tensor(-0.0002, device='cuda:3')\n",
      "tensor(-0.0002, device='cuda:3')\n",
      "tensor(-3.8608e-06, device='cuda:3')\n",
      "tensor(1.0649e-06, device='cuda:3')\n",
      "tensor(-0.0002, device='cuda:3')\n",
      "tensor(-0.0002, device='cuda:3')\n",
      "tensor(8.0683e-08, device='cuda:3')\n",
      "tensor(1.1354e-06, device='cuda:3')\n",
      "tensor(-8.0153e-05, device='cuda:3')\n",
      "tensor(-8.0153e-05, device='cuda:3')\n",
      "tensor(1.1131e-07, device='cuda:3')\n",
      "tensor(0., device='cuda:3')\n",
      "tensor(-2.4777e-05, device='cuda:3')\n",
      "tensor(-2.4777e-05, device='cuda:3')\n",
      "tensor(-2.2370e-06, device='cuda:3')\n",
      "tensor(0.0002, device='cuda:3')\n",
      "tensor(2.7839e-09, device='cuda:3')\n",
      "tensor(2.0400e-09, device='cuda:3')\n"
     ]
    },
    {
     "data": {
      "application/vnd.jupyter.widget-view+json": {
       "model_id": "a1c9740402c54fbf9b1854b3c90bdff6",
       "version_major": 2,
       "version_minor": 0
      },
      "text/plain": [
       "HBox(children=(FloatProgress(value=0.0, max=17.0), HTML(value='')))"
      ]
     },
     "metadata": {},
     "output_type": "display_data"
    },
    {
     "name": "stdout",
     "output_type": "stream",
     "text": [
      "\n",
      "epoch time: 27.00997281074524\n",
      "loss train: 0.09584771593411763, loss val: 0.23244636199053595\n",
      "accuracy train: 0.9513095238095238, accuracy val: 0.8985714285714286\n",
      "---------------------------------------------------------------------------------------------------\n",
      "Epoch: 115, Learning Rate: 0.000125\n",
      "\n"
     ]
    },
    {
     "data": {
      "application/vnd.jupyter.widget-view+json": {
       "model_id": "de6c0459235e4f62a6c72f275f9782d2",
       "version_major": 2,
       "version_minor": 0
      },
      "text/plain": [
       "HBox(children=(FloatProgress(value=0.0, max=132.0), HTML(value='')))"
      ]
     },
     "metadata": {},
     "output_type": "display_data"
    },
    {
     "name": "stdout",
     "output_type": "stream",
     "text": [
      "\n",
      "tensor(5.2513e-05, device='cuda:3')\n",
      "tensor(-2.2936e-06, device='cuda:3')\n",
      "tensor(-0.0046, device='cuda:3')\n",
      "tensor(-0.0046, device='cuda:3')\n",
      "tensor(1.4247e-06, device='cuda:3')\n",
      "tensor(-9.9024e-07, device='cuda:3')\n",
      "tensor(-0.0008, device='cuda:3')\n",
      "tensor(-0.0008, device='cuda:3')\n",
      "tensor(1.8749e-07, device='cuda:3')\n",
      "tensor(-4.7464e-06, device='cuda:3')\n",
      "tensor(0.0002, device='cuda:3')\n",
      "tensor(0.0002, device='cuda:3')\n",
      "tensor(3.4211e-08, device='cuda:3')\n",
      "tensor(0., device='cuda:3')\n",
      "tensor(-9.7064e-06, device='cuda:3')\n",
      "tensor(-9.7064e-06, device='cuda:3')\n",
      "tensor(3.3629e-06, device='cuda:3')\n",
      "tensor(-0.0008, device='cuda:3')\n",
      "tensor(4.6929e-09, device='cuda:3')\n",
      "tensor(2.4835e-09, device='cuda:3')\n"
     ]
    },
    {
     "data": {
      "application/vnd.jupyter.widget-view+json": {
       "model_id": "eb2aa9265c734b0a910d2753825a922e",
       "version_major": 2,
       "version_minor": 0
      },
      "text/plain": [
       "HBox(children=(FloatProgress(value=0.0, max=17.0), HTML(value='')))"
      ]
     },
     "metadata": {},
     "output_type": "display_data"
    },
    {
     "name": "stdout",
     "output_type": "stream",
     "text": [
      "\n",
      "epoch time: 26.872271299362183\n",
      "loss train: 0.09884770762062434, loss val: 0.23784573945929022\n",
      "accuracy train: 0.9502380952380952, accuracy val: 0.8957142857142857\n",
      "---------------------------------------------------------------------------------------------------\n",
      "Epoch: 116, Learning Rate: 0.000125\n",
      "\n"
     ]
    },
    {
     "data": {
      "application/vnd.jupyter.widget-view+json": {
       "model_id": "1b82b283876f475b9dae0a0054936351",
       "version_major": 2,
       "version_minor": 0
      },
      "text/plain": [
       "HBox(children=(FloatProgress(value=0.0, max=132.0), HTML(value='')))"
      ]
     },
     "metadata": {},
     "output_type": "display_data"
    },
    {
     "name": "stdout",
     "output_type": "stream",
     "text": [
      "\n",
      "tensor(7.8313e-06, device='cuda:3')\n",
      "tensor(2.2732e-07, device='cuda:3')\n",
      "tensor(-7.7171e-05, device='cuda:3')\n",
      "tensor(-7.7171e-05, device='cuda:3')\n",
      "tensor(-3.6355e-06, device='cuda:3')\n",
      "tensor(-9.1662e-08, device='cuda:3')\n",
      "tensor(1.9526e-05, device='cuda:3')\n",
      "tensor(1.9526e-05, device='cuda:3')\n",
      "tensor(3.9384e-08, device='cuda:3')\n",
      "tensor(6.9838e-07, device='cuda:3')\n",
      "tensor(-4.4181e-05, device='cuda:3')\n",
      "tensor(-4.4181e-05, device='cuda:3')\n",
      "tensor(-1.1774e-08, device='cuda:3')\n",
      "tensor(0., device='cuda:3')\n",
      "tensor(1.4539e-05, device='cuda:3')\n",
      "tensor(1.4539e-05, device='cuda:3')\n",
      "tensor(-1.7950e-07, device='cuda:3')\n",
      "tensor(4.1059e-05, device='cuda:3')\n",
      "tensor(3.0252e-09, device='cuda:3')\n",
      "tensor(1.2418e-09, device='cuda:3')\n"
     ]
    },
    {
     "data": {
      "application/vnd.jupyter.widget-view+json": {
       "model_id": "ef1ca8c40e4e4e6ca6618204367db7ba",
       "version_major": 2,
       "version_minor": 0
      },
      "text/plain": [
       "HBox(children=(FloatProgress(value=0.0, max=17.0), HTML(value='')))"
      ]
     },
     "metadata": {},
     "output_type": "display_data"
    },
    {
     "name": "stdout",
     "output_type": "stream",
     "text": [
      "\n",
      "epoch time: 27.229238510131836\n",
      "loss train: 0.09243253665044904, loss val: 0.25751250193399544\n",
      "accuracy train: 0.9520238095238095, accuracy val: 0.900952380952381\n",
      "---------------------------------------------------------------------------------------------------\n",
      "Epoch: 117, Learning Rate: 0.000125\n",
      "\n"
     ]
    },
    {
     "data": {
      "application/vnd.jupyter.widget-view+json": {
       "model_id": "d2fafd57ea2e444bbf8d25a23930456c",
       "version_major": 2,
       "version_minor": 0
      },
      "text/plain": [
       "HBox(children=(FloatProgress(value=0.0, max=132.0), HTML(value='')))"
      ]
     },
     "metadata": {},
     "output_type": "display_data"
    },
    {
     "name": "stdout",
     "output_type": "stream",
     "text": [
      "\n",
      "tensor(7.1515e-06, device='cuda:3')\n",
      "tensor(-3.7539e-07, device='cuda:3')\n",
      "tensor(0.0003, device='cuda:3')\n",
      "tensor(0.0003, device='cuda:3')\n",
      "tensor(4.6651e-07, device='cuda:3')\n",
      "tensor(1.6938e-08, device='cuda:3')\n",
      "tensor(-1.7451e-05, device='cuda:3')\n",
      "tensor(-1.7451e-05, device='cuda:3')\n",
      "tensor(-5.4905e-08, device='cuda:3')\n",
      "tensor(-1.7886e-07, device='cuda:3')\n",
      "tensor(7.2527e-06, device='cuda:3')\n",
      "tensor(7.2527e-06, device='cuda:3')\n",
      "tensor(5.8222e-08, device='cuda:3')\n",
      "tensor(0., device='cuda:3')\n",
      "tensor(-2.3753e-05, device='cuda:3')\n",
      "tensor(-2.3753e-05, device='cuda:3')\n",
      "tensor(9.3565e-07, device='cuda:3')\n",
      "tensor(-7.3885e-05, device='cuda:3')\n",
      "tensor(1.9854e-09, device='cuda:3')\n",
      "tensor(2.8383e-09, device='cuda:3')\n"
     ]
    },
    {
     "data": {
      "application/vnd.jupyter.widget-view+json": {
       "model_id": "a8bbb2b504eb4fed85fe78e2eebb81c0",
       "version_major": 2,
       "version_minor": 0
      },
      "text/plain": [
       "HBox(children=(FloatProgress(value=0.0, max=17.0), HTML(value='')))"
      ]
     },
     "metadata": {},
     "output_type": "display_data"
    },
    {
     "name": "stdout",
     "output_type": "stream",
     "text": [
      "\n",
      "epoch time: 26.547446727752686\n",
      "loss train: 0.0944608777592128, loss val: 0.2272898142828661\n",
      "accuracy train: 0.9519047619047619, accuracy val: 0.8952380952380953\n",
      "---------------------------------------------------------------------------------------------------\n",
      "Epoch: 118, Learning Rate: 0.000125\n",
      "\n"
     ]
    },
    {
     "data": {
      "application/vnd.jupyter.widget-view+json": {
       "model_id": "7ad38390a5dc4e10a4c3d588e5f1dd8f",
       "version_major": 2,
       "version_minor": 0
      },
      "text/plain": [
       "HBox(children=(FloatProgress(value=0.0, max=132.0), HTML(value='')))"
      ]
     },
     "metadata": {},
     "output_type": "display_data"
    },
    {
     "name": "stdout",
     "output_type": "stream",
     "text": [
      "\n",
      "tensor(1.1437e-09, device='cuda:3')\n",
      "tensor(-4.1495e-11, device='cuda:3')\n",
      "tensor(-6.6422e-08, device='cuda:3')\n",
      "tensor(-6.6422e-08, device='cuda:3')\n",
      "tensor(5.9061e-10, device='cuda:3')\n",
      "tensor(6.5394e-11, device='cuda:3')\n",
      "tensor(-7.2110e-09, device='cuda:3')\n",
      "tensor(-7.2110e-09, device='cuda:3')\n",
      "tensor(-7.8521e-11, device='cuda:3')\n",
      "tensor(1.3441e-09, device='cuda:3')\n",
      "tensor(-5.0532e-08, device='cuda:3')\n",
      "tensor(-5.0532e-08, device='cuda:3')\n",
      "tensor(-7.7318e-11, device='cuda:3')\n",
      "tensor(0., device='cuda:3')\n",
      "tensor(-1.3759e-08, device='cuda:3')\n",
      "tensor(-1.3759e-08, device='cuda:3')\n",
      "tensor(1.1390e-09, device='cuda:3')\n",
      "tensor(-1.5666e-07, device='cuda:3')\n",
      "tensor(4.6601e-09, device='cuda:3')\n",
      "tensor(2.6803e-09, device='cuda:3')\n"
     ]
    },
    {
     "data": {
      "application/vnd.jupyter.widget-view+json": {
       "model_id": "4c7597d9676f4658a46830167b133bd4",
       "version_major": 2,
       "version_minor": 0
      },
      "text/plain": [
       "HBox(children=(FloatProgress(value=0.0, max=17.0), HTML(value='')))"
      ]
     },
     "metadata": {},
     "output_type": "display_data"
    },
    {
     "name": "stdout",
     "output_type": "stream",
     "text": [
      "\n",
      "epoch time: 27.533787727355957\n",
      "loss train: 0.09566114333486467, loss val: 0.23135405976106138\n",
      "accuracy train: 0.9514285714285714, accuracy val: 0.9\n",
      "---------------------------------------------------------------------------------------------------\n",
      "Epoch: 119, Learning Rate: 0.000125\n",
      "\n"
     ]
    },
    {
     "data": {
      "application/vnd.jupyter.widget-view+json": {
       "model_id": "c8bea1e6b50349efbbb818f751d11273",
       "version_major": 2,
       "version_minor": 0
      },
      "text/plain": [
       "HBox(children=(FloatProgress(value=0.0, max=132.0), HTML(value='')))"
      ]
     },
     "metadata": {},
     "output_type": "display_data"
    },
    {
     "name": "stdout",
     "output_type": "stream",
     "text": [
      "\n",
      "tensor(2.3460e-06, device='cuda:3')\n",
      "tensor(-1.4940e-07, device='cuda:3')\n",
      "tensor(2.4989e-05, device='cuda:3')\n",
      "tensor(2.4989e-05, device='cuda:3')\n",
      "tensor(-9.8617e-07, device='cuda:3')\n",
      "tensor(7.9953e-08, device='cuda:3')\n",
      "tensor(-2.2451e-05, device='cuda:3')\n",
      "tensor(-2.2451e-05, device='cuda:3')\n",
      "tensor(7.4203e-08, device='cuda:3')\n",
      "tensor(3.3106e-07, device='cuda:3')\n",
      "tensor(-2.2226e-05, device='cuda:3')\n",
      "tensor(-2.2226e-05, device='cuda:3')\n",
      "tensor(-8.3354e-09, device='cuda:3')\n",
      "tensor(0., device='cuda:3')\n",
      "tensor(-8.5520e-06, device='cuda:3')\n",
      "tensor(-8.5520e-06, device='cuda:3')\n",
      "tensor(1.3590e-07, device='cuda:3')\n",
      "tensor(-1.3366e-06, device='cuda:3')\n",
      "tensor(1.0213e-09, device='cuda:3')\n",
      "tensor(-2.2174e-11, device='cuda:3')\n"
     ]
    },
    {
     "data": {
      "application/vnd.jupyter.widget-view+json": {
       "model_id": "79128ed970b0471db3f1ac2e9cc209fd",
       "version_major": 2,
       "version_minor": 0
      },
      "text/plain": [
       "HBox(children=(FloatProgress(value=0.0, max=17.0), HTML(value='')))"
      ]
     },
     "metadata": {},
     "output_type": "display_data"
    },
    {
     "name": "stdout",
     "output_type": "stream",
     "text": [
      "\n",
      "epoch time: 26.848471641540527\n",
      "loss train: 0.11444726302711801, loss val: 0.25066431918564963\n",
      "accuracy train: 0.9432142857142857, accuracy val: 0.8933333333333333\n",
      "---------------------------------------------------------------------------------------------------\n"
     ]
    }
   ],
   "source": [
    "loss_train_all, loss_val_all = [], []\n",
    "accuracy_train_all, accuracy_val_all = [], []\n",
    "\n",
    "for epoch in range(NUM_EPOCHS):\n",
    "\n",
    "    start = time.time()\n",
    "    print(f'Epoch: {epoch}, Learning Rate: {scheduler.get_last_lr()[0]}\\n')\n",
    "\n",
    "    loss_epoch_train, loss_epoch_val = 0, 0\n",
    "    correct_train, correct_val, total_train, total_val = 0, 0, 0, 0\n",
    "\n",
    "    model.train()\n",
    "    for (X_batch_train, y_batch_train) in tqdm(train_dl):\n",
    "\n",
    "        X_batch_train, y_batch_train = X_batch_train.to(device), y_batch_train.to(device)\n",
    "\n",
    "        optimizer.zero_grad()\n",
    "\n",
    "        y_pred_train = model(X_batch_train)\n",
    "        loss_train = criterion(y_pred_train, y_batch_train)\n",
    "\n",
    "        loss_train.backward()\n",
    "        optimizer.step()\n",
    "\n",
    "        loss_epoch_train += loss_train.item()\n",
    "        correct_train += accuracy(y_pred_train, y_batch_train)\n",
    "        total_train += y_batch_train.size()[0]\n",
    "\n",
    "    scheduler.step()\n",
    "    model.eval()\n",
    "\n",
    "    with torch.no_grad():\n",
    "        \n",
    "        for item in model.parameters():\n",
    "            print(item.grad.mean())\n",
    "        \n",
    "        for (X_batch_val, y_batch_val) in tqdm(val_dl):\n",
    "\n",
    "            X_batch_val, y_batch_val = X_batch_val.to(device), y_batch_val.to(device)\n",
    "\n",
    "            y_pred_val = model(X_batch_val)\n",
    "#                 print(y_pred_val)\n",
    "            loss_val = criterion(y_pred_val, y_batch_val)\n",
    "\n",
    "            loss_epoch_val += loss_val.item()\n",
    "\n",
    "            correct_val += accuracy(y_pred_val, y_batch_val)\n",
    "            total_val += y_batch_val.size()[0]\n",
    "\n",
    "\n",
    "    loss_train_tmp = loss_epoch_train / len(train_dl)\n",
    "    loss_val_tmp = loss_epoch_val / len(val_dl)\n",
    "\n",
    "    loss_train_all.append(loss_train_tmp)\n",
    "    loss_val_all.append(loss_val_tmp)\n",
    "\n",
    "    accuracy_train_tmp = correct_train / total_train\n",
    "    accuracy_val_tmp = correct_val / total_val\n",
    "\n",
    "    accuracy_train_all.append(accuracy_train_tmp)\n",
    "    accuracy_val_all.append(accuracy_val_tmp)\n",
    "\n",
    "    end = time.time()\n",
    "    print(f\"epoch time: {end - start}\")  \n",
    "    print(f\"loss train: {loss_train_tmp}, loss val: {loss_val_tmp}\")\n",
    "    print(f\"accuracy train: {accuracy_train_tmp}, accuracy val: {accuracy_val_tmp}\")\n",
    "\n",
    "    print(\"---------------------------------------------------------------------------------------------------\")"
   ]
  },
  {
   "cell_type": "code",
   "execution_count": null,
   "metadata": {},
   "outputs": [],
   "source": []
  },
  {
   "cell_type": "code",
   "execution_count": null,
   "metadata": {},
   "outputs": [],
   "source": []
  },
  {
   "cell_type": "code",
   "execution_count": null,
   "metadata": {},
   "outputs": [],
   "source": [
    "# accuracy train: 0.9520238095238095, accuracy val: 0.900952380952381 256 хидден фичей"
   ]
  },
  {
   "cell_type": "code",
   "execution_count": null,
   "metadata": {},
   "outputs": [],
   "source": [
    "# accuracy train: 0.9517857142857142, accuracy val: 0.909047619047619 128 хидден фичей"
   ]
  },
  {
   "cell_type": "code",
   "execution_count": null,
   "metadata": {},
   "outputs": [],
   "source": [
    "# accuracy train: 0.7132142857142857, accuracy val: 0.7028571428571428"
   ]
  },
  {
   "cell_type": "code",
   "execution_count": null,
   "metadata": {},
   "outputs": [],
   "source": [
    "# accuracy train: 0.641547619047619, accuracy val: 0.6228571428571429"
   ]
  },
  {
   "cell_type": "code",
   "execution_count": null,
   "metadata": {},
   "outputs": [],
   "source": [
    "# accuracy train: 0.303452380952381, accuracy val: 0.30666666666666664"
   ]
  },
  {
   "cell_type": "code",
   "execution_count": 764,
   "metadata": {
    "scrolled": true
   },
   "outputs": [
    {
     "name": "stdout",
     "output_type": "stream",
     "text": [
      "Epoch: 0, Learning Rate: 0.001\n",
      "\n"
     ]
    },
    {
     "data": {
      "application/vnd.jupyter.widget-view+json": {
       "model_id": "7be0aa1497344108b19ae7df653cc00d",
       "version_major": 2,
       "version_minor": 0
      },
      "text/plain": [
       "HBox(children=(FloatProgress(value=0.0, max=132.0), HTML(value='')))"
      ]
     },
     "metadata": {},
     "output_type": "display_data"
    },
    {
     "name": "stdout",
     "output_type": "stream",
     "text": [
      "\n",
      "tensor(0.0001, device='cuda:3')\n",
      "tensor(-3.6528e-06, device='cuda:3')\n",
      "tensor(0.0001, device='cuda:3')\n",
      "tensor(0.0001, device='cuda:3')\n",
      "tensor(-9.8824e-06, device='cuda:3')\n",
      "tensor(4.8760e-08, device='cuda:3')\n",
      "tensor(0.0006, device='cuda:3')\n",
      "tensor(0.0006, device='cuda:3')\n",
      "tensor(1.1089e-05, device='cuda:3')\n",
      "tensor(3.7611e-05, device='cuda:3')\n",
      "tensor(-0.0013, device='cuda:3')\n",
      "tensor(-0.0013, device='cuda:3')\n",
      "tensor(-1.0288e-06, device='cuda:3')\n",
      "tensor(0., device='cuda:3')\n",
      "tensor(4.8747e-05, device='cuda:3')\n",
      "tensor(4.8747e-05, device='cuda:3')\n",
      "tensor(3.9633e-06, device='cuda:3')\n",
      "tensor(-0.0013, device='cuda:3')\n",
      "tensor(-2.6166e-09, device='cuda:3')\n",
      "tensor(-2.8383e-09, device='cuda:3')\n"
     ]
    },
    {
     "data": {
      "application/vnd.jupyter.widget-view+json": {
       "model_id": "fc7c589392fa4c6bb4b07139871d2ef8",
       "version_major": 2,
       "version_minor": 0
      },
      "text/plain": [
       "HBox(children=(FloatProgress(value=0.0, max=17.0), HTML(value='')))"
      ]
     },
     "metadata": {},
     "output_type": "display_data"
    },
    {
     "name": "stdout",
     "output_type": "stream",
     "text": [
      "\n",
      "epoch time: 31.21553087234497\n",
      "loss train: 2.1263486860376415, loss val: 1.71086024536806\n",
      "accuracy train: 0.3319047619047619, accuracy val: 0.39714285714285713\n",
      "---------------------------------------------------------------------------------------------------\n",
      "Epoch: 1, Learning Rate: 0.001\n",
      "\n"
     ]
    },
    {
     "data": {
      "application/vnd.jupyter.widget-view+json": {
       "model_id": "0b193854971e4a8ead916189bbb33eae",
       "version_major": 2,
       "version_minor": 0
      },
      "text/plain": [
       "HBox(children=(FloatProgress(value=0.0, max=132.0), HTML(value='')))"
      ]
     },
     "metadata": {},
     "output_type": "display_data"
    },
    {
     "name": "stdout",
     "output_type": "stream",
     "text": [
      "\n",
      "tensor(0.0002, device='cuda:3')\n",
      "tensor(1.7141e-05, device='cuda:3')\n",
      "tensor(-0.0010, device='cuda:3')\n",
      "tensor(-0.0010, device='cuda:3')\n",
      "tensor(0.0001, device='cuda:3')\n",
      "tensor(4.1071e-06, device='cuda:3')\n",
      "tensor(-0.0005, device='cuda:3')\n",
      "tensor(-0.0005, device='cuda:3')\n",
      "tensor(-1.3853e-05, device='cuda:3')\n",
      "tensor(3.4349e-05, device='cuda:3')\n",
      "tensor(0.0015, device='cuda:3')\n",
      "tensor(0.0015, device='cuda:3')\n",
      "tensor(-1.5789e-06, device='cuda:3')\n",
      "tensor(0., device='cuda:3')\n",
      "tensor(8.0616e-05, device='cuda:3')\n",
      "tensor(8.0616e-05, device='cuda:3')\n",
      "tensor(1.1597e-05, device='cuda:3')\n",
      "tensor(0.0009, device='cuda:3')\n",
      "tensor(-2.3015e-09, device='cuda:3')\n",
      "tensor(-1.9513e-09, device='cuda:3')\n"
     ]
    },
    {
     "data": {
      "application/vnd.jupyter.widget-view+json": {
       "model_id": "aaaf563eb0f04e8f9fd545f43127a49d",
       "version_major": 2,
       "version_minor": 0
      },
      "text/plain": [
       "HBox(children=(FloatProgress(value=0.0, max=17.0), HTML(value='')))"
      ]
     },
     "metadata": {},
     "output_type": "display_data"
    },
    {
     "name": "stdout",
     "output_type": "stream",
     "text": [
      "\n",
      "epoch time: 27.69304919242859\n",
      "loss train: 1.6263731040737845, loss val: 1.5334508348913753\n",
      "accuracy train: 0.4269047619047619, accuracy val: 0.4623809523809524\n",
      "---------------------------------------------------------------------------------------------------\n",
      "Epoch: 2, Learning Rate: 0.001\n",
      "\n"
     ]
    },
    {
     "data": {
      "application/vnd.jupyter.widget-view+json": {
       "model_id": "6fd98b8e39df45b19ed42f8321f94775",
       "version_major": 2,
       "version_minor": 0
      },
      "text/plain": [
       "HBox(children=(FloatProgress(value=0.0, max=132.0), HTML(value='')))"
      ]
     },
     "metadata": {},
     "output_type": "display_data"
    },
    {
     "name": "stdout",
     "output_type": "stream",
     "text": [
      "\n",
      "tensor(9.6617e-05, device='cuda:3')\n",
      "tensor(-2.6155e-05, device='cuda:3')\n",
      "tensor(-0.0059, device='cuda:3')\n",
      "tensor(-0.0059, device='cuda:3')\n",
      "tensor(5.1647e-06, device='cuda:3')\n",
      "tensor(-2.6609e-07, device='cuda:3')\n",
      "tensor(-3.3234e-06, device='cuda:3')\n",
      "tensor(-3.3234e-06, device='cuda:3')\n",
      "tensor(-1.8775e-06, device='cuda:3')\n",
      "tensor(-4.9711e-07, device='cuda:3')\n",
      "tensor(-0.0003, device='cuda:3')\n",
      "tensor(-0.0003, device='cuda:3')\n",
      "tensor(-8.7062e-07, device='cuda:3')\n",
      "tensor(0., device='cuda:3')\n",
      "tensor(-0.0002, device='cuda:3')\n",
      "tensor(-0.0002, device='cuda:3')\n",
      "tensor(-4.1018e-07, device='cuda:3')\n",
      "tensor(-0.0009, device='cuda:3')\n",
      "tensor(-3.6295e-09, device='cuda:3')\n",
      "tensor(-3.5479e-09, device='cuda:3')\n"
     ]
    },
    {
     "data": {
      "application/vnd.jupyter.widget-view+json": {
       "model_id": "c8e4b399ad454c289d185e7eb11e30e2",
       "version_major": 2,
       "version_minor": 0
      },
      "text/plain": [
       "HBox(children=(FloatProgress(value=0.0, max=17.0), HTML(value='')))"
      ]
     },
     "metadata": {},
     "output_type": "display_data"
    },
    {
     "name": "stdout",
     "output_type": "stream",
     "text": [
      "\n",
      "epoch time: 26.205739498138428\n",
      "loss train: 1.3368981611548048, loss val: 1.070258817251991\n",
      "accuracy train: 0.5217857142857143, accuracy val: 0.5814285714285714\n",
      "---------------------------------------------------------------------------------------------------\n",
      "Epoch: 3, Learning Rate: 0.001\n",
      "\n"
     ]
    },
    {
     "data": {
      "application/vnd.jupyter.widget-view+json": {
       "model_id": "a5162e4162ca45f29e2738dda58be652",
       "version_major": 2,
       "version_minor": 0
      },
      "text/plain": [
       "HBox(children=(FloatProgress(value=0.0, max=132.0), HTML(value='')))"
      ]
     },
     "metadata": {},
     "output_type": "display_data"
    },
    {
     "name": "stdout",
     "output_type": "stream",
     "text": [
      "\n",
      "tensor(-2.7414e-06, device='cuda:3')\n",
      "tensor(-2.4392e-06, device='cuda:3')\n",
      "tensor(0.0004, device='cuda:3')\n",
      "tensor(0.0004, device='cuda:3')\n",
      "tensor(1.4374e-05, device='cuda:3')\n",
      "tensor(2.8701e-06, device='cuda:3')\n",
      "tensor(0.0008, device='cuda:3')\n",
      "tensor(0.0008, device='cuda:3')\n",
      "tensor(8.5435e-08, device='cuda:3')\n",
      "tensor(-1.7361e-06, device='cuda:3')\n",
      "tensor(0.0002, device='cuda:3')\n",
      "tensor(0.0002, device='cuda:3')\n",
      "tensor(2.4364e-07, device='cuda:3')\n",
      "tensor(0., device='cuda:3')\n",
      "tensor(-3.4505e-05, device='cuda:3')\n",
      "tensor(-3.4505e-05, device='cuda:3')\n",
      "tensor(8.4927e-06, device='cuda:3')\n",
      "tensor(0.0004, device='cuda:3')\n",
      "tensor(-2.3389e-09, device='cuda:3')\n",
      "tensor(-1.0644e-09, device='cuda:3')\n"
     ]
    },
    {
     "data": {
      "application/vnd.jupyter.widget-view+json": {
       "model_id": "5db2ae10227b48da96b40bf8580da4a9",
       "version_major": 2,
       "version_minor": 0
      },
      "text/plain": [
       "HBox(children=(FloatProgress(value=0.0, max=17.0), HTML(value='')))"
      ]
     },
     "metadata": {},
     "output_type": "display_data"
    },
    {
     "name": "stdout",
     "output_type": "stream",
     "text": [
      "\n",
      "epoch time: 25.104422330856323\n",
      "loss train: 1.0059990372621652, loss val: 0.7837966820772957\n",
      "accuracy train: 0.5983333333333334, accuracy val: 0.6904761904761905\n",
      "---------------------------------------------------------------------------------------------------\n",
      "Epoch: 4, Learning Rate: 0.001\n",
      "\n"
     ]
    },
    {
     "data": {
      "application/vnd.jupyter.widget-view+json": {
       "model_id": "c91bc934787248a58453e9b98e1574a2",
       "version_major": 2,
       "version_minor": 0
      },
      "text/plain": [
       "HBox(children=(FloatProgress(value=0.0, max=132.0), HTML(value='')))"
      ]
     },
     "metadata": {},
     "output_type": "display_data"
    },
    {
     "name": "stdout",
     "output_type": "stream",
     "text": [
      "\n",
      "tensor(-2.4772e-05, device='cuda:3')\n",
      "tensor(-3.7675e-05, device='cuda:3')\n",
      "tensor(-0.0033, device='cuda:3')\n",
      "tensor(-0.0033, device='cuda:3')\n",
      "tensor(1.0076e-05, device='cuda:3')\n",
      "tensor(3.7324e-06, device='cuda:3')\n",
      "tensor(0.0006, device='cuda:3')\n",
      "tensor(0.0006, device='cuda:3')\n",
      "tensor(-3.5534e-06, device='cuda:3')\n",
      "tensor(-3.4846e-06, device='cuda:3')\n",
      "tensor(-0.0003, device='cuda:3')\n",
      "tensor(-0.0003, device='cuda:3')\n",
      "tensor(-7.4545e-07, device='cuda:3')\n",
      "tensor(0., device='cuda:3')\n",
      "tensor(-4.8185e-05, device='cuda:3')\n",
      "tensor(-4.8185e-05, device='cuda:3')\n",
      "tensor(4.9712e-07, device='cuda:3')\n",
      "tensor(-0.0003, device='cuda:3')\n",
      "tensor(1.2961e-09, device='cuda:3')\n",
      "tensor(7.0958e-10, device='cuda:3')\n"
     ]
    },
    {
     "data": {
      "application/vnd.jupyter.widget-view+json": {
       "model_id": "8be6693a97fc4b5cb99772fff1b67c0c",
       "version_major": 2,
       "version_minor": 0
      },
      "text/plain": [
       "HBox(children=(FloatProgress(value=0.0, max=17.0), HTML(value='')))"
      ]
     },
     "metadata": {},
     "output_type": "display_data"
    },
    {
     "name": "stdout",
     "output_type": "stream",
     "text": [
      "\n",
      "epoch time: 24.281241416931152\n",
      "loss train: 0.7310992788636324, loss val: 0.6142587591620052\n",
      "accuracy train: 0.7071428571428572, accuracy val: 0.7471428571428571\n",
      "---------------------------------------------------------------------------------------------------\n",
      "Epoch: 5, Learning Rate: 0.001\n",
      "\n"
     ]
    },
    {
     "data": {
      "application/vnd.jupyter.widget-view+json": {
       "model_id": "e90035625d4848b1b82bc63f6158d263",
       "version_major": 2,
       "version_minor": 0
      },
      "text/plain": [
       "HBox(children=(FloatProgress(value=0.0, max=132.0), HTML(value='')))"
      ]
     },
     "metadata": {},
     "output_type": "display_data"
    },
    {
     "name": "stdout",
     "output_type": "stream",
     "text": [
      "\n",
      "tensor(-2.1473e-05, device='cuda:3')\n",
      "tensor(-5.7387e-05, device='cuda:3')\n",
      "tensor(-0.0021, device='cuda:3')\n",
      "tensor(-0.0021, device='cuda:3')\n",
      "tensor(-2.0721e-06, device='cuda:3')\n",
      "tensor(-1.1024e-06, device='cuda:3')\n",
      "tensor(-8.1770e-05, device='cuda:3')\n",
      "tensor(-8.1770e-05, device='cuda:3')\n",
      "tensor(-1.1357e-07, device='cuda:3')\n",
      "tensor(-3.0202e-06, device='cuda:3')\n",
      "tensor(-6.7117e-05, device='cuda:3')\n",
      "tensor(-6.7117e-05, device='cuda:3')\n",
      "tensor(3.1216e-07, device='cuda:3')\n",
      "tensor(0., device='cuda:3')\n",
      "tensor(-3.3813e-05, device='cuda:3')\n",
      "tensor(-3.3813e-05, device='cuda:3')\n",
      "tensor(-5.4393e-08, device='cuda:3')\n",
      "tensor(4.7604e-05, device='cuda:3')\n",
      "tensor(-4.5393e-09, device='cuda:3')\n",
      "tensor(-4.9671e-09, device='cuda:3')\n"
     ]
    },
    {
     "data": {
      "application/vnd.jupyter.widget-view+json": {
       "model_id": "701d01c1b74d4c33a3524dfe1918382a",
       "version_major": 2,
       "version_minor": 0
      },
      "text/plain": [
       "HBox(children=(FloatProgress(value=0.0, max=17.0), HTML(value='')))"
      ]
     },
     "metadata": {},
     "output_type": "display_data"
    },
    {
     "name": "stdout",
     "output_type": "stream",
     "text": [
      "\n",
      "epoch time: 24.928472757339478\n",
      "loss train: 0.571671363530737, loss val: 0.5228427350521088\n",
      "accuracy train: 0.7625, accuracy val: 0.7742857142857142\n",
      "---------------------------------------------------------------------------------------------------\n",
      "Epoch: 6, Learning Rate: 0.001\n",
      "\n"
     ]
    },
    {
     "data": {
      "application/vnd.jupyter.widget-view+json": {
       "model_id": "32aded1ab7bc4464b1de5493d2000928",
       "version_major": 2,
       "version_minor": 0
      },
      "text/plain": [
       "HBox(children=(FloatProgress(value=0.0, max=132.0), HTML(value='')))"
      ]
     },
     "metadata": {},
     "output_type": "display_data"
    },
    {
     "name": "stdout",
     "output_type": "stream",
     "text": [
      "\n",
      "tensor(3.7933e-05, device='cuda:3')\n",
      "tensor(5.5061e-05, device='cuda:3')\n",
      "tensor(0.0018, device='cuda:3')\n",
      "tensor(0.0018, device='cuda:3')\n",
      "tensor(-4.4460e-06, device='cuda:3')\n",
      "tensor(1.8179e-06, device='cuda:3')\n",
      "tensor(0.0002, device='cuda:3')\n",
      "tensor(0.0002, device='cuda:3')\n",
      "tensor(1.3487e-06, device='cuda:3')\n",
      "tensor(1.6662e-05, device='cuda:3')\n",
      "tensor(0.0003, device='cuda:3')\n",
      "tensor(0.0003, device='cuda:3')\n",
      "tensor(-5.4618e-07, device='cuda:3')\n",
      "tensor(0., device='cuda:3')\n",
      "tensor(1.2710e-05, device='cuda:3')\n",
      "tensor(1.2710e-05, device='cuda:3')\n",
      "tensor(1.6067e-05, device='cuda:3')\n",
      "tensor(3.7901e-05, device='cuda:3')\n",
      "tensor(4.2088e-09, device='cuda:3')\n",
      "tensor(4.1688e-09, device='cuda:3')\n"
     ]
    },
    {
     "data": {
      "application/vnd.jupyter.widget-view+json": {
       "model_id": "2de6e76217d84d3b8e0bb98d3ac3afb6",
       "version_major": 2,
       "version_minor": 0
      },
      "text/plain": [
       "HBox(children=(FloatProgress(value=0.0, max=17.0), HTML(value='')))"
      ]
     },
     "metadata": {},
     "output_type": "display_data"
    },
    {
     "name": "stdout",
     "output_type": "stream",
     "text": [
      "\n",
      "epoch time: 25.937665462493896\n",
      "loss train: 0.5161325010386381, loss val: 0.49415569620973926\n",
      "accuracy train: 0.7833333333333333, accuracy val: 0.7819047619047619\n",
      "---------------------------------------------------------------------------------------------------\n",
      "Epoch: 7, Learning Rate: 0.001\n",
      "\n"
     ]
    },
    {
     "data": {
      "application/vnd.jupyter.widget-view+json": {
       "model_id": "383b7a162c5341dfa7154b92e3f9fe72",
       "version_major": 2,
       "version_minor": 0
      },
      "text/plain": [
       "HBox(children=(FloatProgress(value=0.0, max=132.0), HTML(value='')))"
      ]
     },
     "metadata": {},
     "output_type": "display_data"
    },
    {
     "name": "stdout",
     "output_type": "stream",
     "text": [
      "\n",
      "tensor(-0.0001, device='cuda:3')\n",
      "tensor(-9.2241e-06, device='cuda:3')\n",
      "tensor(0.0016, device='cuda:3')\n",
      "tensor(0.0016, device='cuda:3')\n",
      "tensor(3.8275e-05, device='cuda:3')\n",
      "tensor(-2.0142e-06, device='cuda:3')\n",
      "tensor(-0.0009, device='cuda:3')\n",
      "tensor(-0.0009, device='cuda:3')\n",
      "tensor(-4.9141e-06, device='cuda:3')\n",
      "tensor(8.7340e-06, device='cuda:3')\n",
      "tensor(-0.0008, device='cuda:3')\n",
      "tensor(-0.0008, device='cuda:3')\n",
      "tensor(-1.1503e-06, device='cuda:3')\n",
      "tensor(0., device='cuda:3')\n",
      "tensor(-8.0282e-05, device='cuda:3')\n",
      "tensor(-8.0282e-05, device='cuda:3')\n",
      "tensor(-1.0328e-05, device='cuda:3')\n",
      "tensor(-0.0009, device='cuda:3')\n",
      "tensor(5.6132e-09, device='cuda:3')\n",
      "tensor(5.1444e-09, device='cuda:3')\n"
     ]
    },
    {
     "data": {
      "application/vnd.jupyter.widget-view+json": {
       "model_id": "50804f6263f443768b064039eef6fce0",
       "version_major": 2,
       "version_minor": 0
      },
      "text/plain": [
       "HBox(children=(FloatProgress(value=0.0, max=17.0), HTML(value='')))"
      ]
     },
     "metadata": {},
     "output_type": "display_data"
    },
    {
     "name": "stdout",
     "output_type": "stream",
     "text": [
      "\n",
      "epoch time: 25.855674982070923\n",
      "loss train: 0.493057315548261, loss val: 0.48158259076230664\n",
      "accuracy train: 0.7877380952380952, accuracy val: 0.7871428571428571\n",
      "---------------------------------------------------------------------------------------------------\n",
      "Epoch: 8, Learning Rate: 0.001\n",
      "\n"
     ]
    },
    {
     "data": {
      "application/vnd.jupyter.widget-view+json": {
       "model_id": "95170a138bfb4818bae8b2cd86e5c343",
       "version_major": 2,
       "version_minor": 0
      },
      "text/plain": [
       "HBox(children=(FloatProgress(value=0.0, max=132.0), HTML(value='')))"
      ]
     },
     "metadata": {},
     "output_type": "display_data"
    },
    {
     "name": "stdout",
     "output_type": "stream",
     "text": [
      "\n",
      "tensor(4.2901e-05, device='cuda:3')\n",
      "tensor(4.2154e-05, device='cuda:3')\n",
      "tensor(0.0018, device='cuda:3')\n",
      "tensor(0.0018, device='cuda:3')\n",
      "tensor(1.0710e-05, device='cuda:3')\n",
      "tensor(2.6659e-06, device='cuda:3')\n",
      "tensor(0.0002, device='cuda:3')\n",
      "tensor(0.0002, device='cuda:3')\n",
      "tensor(4.5670e-06, device='cuda:3')\n",
      "tensor(1.4050e-05, device='cuda:3')\n",
      "tensor(0.0003, device='cuda:3')\n",
      "tensor(0.0003, device='cuda:3')\n",
      "tensor(3.4908e-07, device='cuda:3')\n",
      "tensor(0., device='cuda:3')\n",
      "tensor(-2.9085e-05, device='cuda:3')\n",
      "tensor(-2.9085e-05, device='cuda:3')\n",
      "tensor(-4.7898e-07, device='cuda:3')\n",
      "tensor(-0.0002, device='cuda:3')\n",
      "tensor(1.6201e-09, device='cuda:3')\n",
      "tensor(7.0958e-10, device='cuda:3')\n"
     ]
    },
    {
     "data": {
      "application/vnd.jupyter.widget-view+json": {
       "model_id": "913a49c31d3c428791a025354a375c2b",
       "version_major": 2,
       "version_minor": 0
      },
      "text/plain": [
       "HBox(children=(FloatProgress(value=0.0, max=17.0), HTML(value='')))"
      ]
     },
     "metadata": {},
     "output_type": "display_data"
    },
    {
     "name": "stdout",
     "output_type": "stream",
     "text": [
      "\n",
      "epoch time: 25.96507215499878\n",
      "loss train: 0.4625814970808499, loss val: 0.44875697703922496\n",
      "accuracy train: 0.7969047619047619, accuracy val: 0.799047619047619\n",
      "---------------------------------------------------------------------------------------------------\n",
      "Epoch: 9, Learning Rate: 0.001\n",
      "\n"
     ]
    },
    {
     "data": {
      "application/vnd.jupyter.widget-view+json": {
       "model_id": "2cdfc42e2d1041e38fc2a5439305c5be",
       "version_major": 2,
       "version_minor": 0
      },
      "text/plain": [
       "HBox(children=(FloatProgress(value=0.0, max=132.0), HTML(value='')))"
      ]
     },
     "metadata": {},
     "output_type": "display_data"
    },
    {
     "name": "stdout",
     "output_type": "stream",
     "text": [
      "\n",
      "tensor(-2.5083e-05, device='cuda:3')\n",
      "tensor(-5.5066e-05, device='cuda:3')\n",
      "tensor(-0.0030, device='cuda:3')\n",
      "tensor(-0.0030, device='cuda:3')\n",
      "tensor(-5.4763e-06, device='cuda:3')\n",
      "tensor(7.5890e-07, device='cuda:3')\n",
      "tensor(6.2621e-05, device='cuda:3')\n",
      "tensor(6.2621e-05, device='cuda:3')\n",
      "tensor(-4.5027e-07, device='cuda:3')\n",
      "tensor(-1.0554e-05, device='cuda:3')\n",
      "tensor(-0.0002, device='cuda:3')\n",
      "tensor(-0.0002, device='cuda:3')\n",
      "tensor(-1.8732e-07, device='cuda:3')\n",
      "tensor(0., device='cuda:3')\n",
      "tensor(6.4773e-06, device='cuda:3')\n",
      "tensor(6.4773e-06, device='cuda:3')\n",
      "tensor(-2.2458e-05, device='cuda:3')\n",
      "tensor(-0.0009, device='cuda:3')\n",
      "tensor(-5.3687e-10, device='cuda:3')\n",
      "tensor(-8.8697e-11, device='cuda:3')\n"
     ]
    },
    {
     "data": {
      "application/vnd.jupyter.widget-view+json": {
       "model_id": "4d9378b0bc7a4db694f55c258f749ada",
       "version_major": 2,
       "version_minor": 0
      },
      "text/plain": [
       "HBox(children=(FloatProgress(value=0.0, max=17.0), HTML(value='')))"
      ]
     },
     "metadata": {},
     "output_type": "display_data"
    },
    {
     "name": "stdout",
     "output_type": "stream",
     "text": [
      "\n",
      "epoch time: 25.300767421722412\n",
      "loss train: 0.42451551082459366, loss val: 0.4577893071314868\n",
      "accuracy train: 0.805952380952381, accuracy val: 0.7971428571428572\n",
      "---------------------------------------------------------------------------------------------------\n",
      "Epoch: 10, Learning Rate: 0.001\n",
      "\n"
     ]
    },
    {
     "data": {
      "application/vnd.jupyter.widget-view+json": {
       "model_id": "9631a8158ea64e15ae5a94426bd383b5",
       "version_major": 2,
       "version_minor": 0
      },
      "text/plain": [
       "HBox(children=(FloatProgress(value=0.0, max=132.0), HTML(value='')))"
      ]
     },
     "metadata": {},
     "output_type": "display_data"
    },
    {
     "name": "stdout",
     "output_type": "stream",
     "text": [
      "\n",
      "tensor(2.9552e-05, device='cuda:3')\n",
      "tensor(2.8138e-05, device='cuda:3')\n",
      "tensor(-0.0008, device='cuda:3')\n",
      "tensor(-0.0008, device='cuda:3')\n",
      "tensor(-5.7710e-06, device='cuda:3')\n",
      "tensor(-6.3196e-07, device='cuda:3')\n",
      "tensor(-0.0003, device='cuda:3')\n",
      "tensor(-0.0003, device='cuda:3')\n",
      "tensor(1.3569e-07, device='cuda:3')\n",
      "tensor(1.4588e-05, device='cuda:3')\n",
      "tensor(0.0002, device='cuda:3')\n",
      "tensor(0.0002, device='cuda:3')\n",
      "tensor(-1.2120e-08, device='cuda:3')\n",
      "tensor(0., device='cuda:3')\n",
      "tensor(1.1353e-05, device='cuda:3')\n",
      "tensor(1.1353e-05, device='cuda:3')\n",
      "tensor(3.4054e-05, device='cuda:3')\n",
      "tensor(0.0010, device='cuda:3')\n",
      "tensor(-2.0683e-09, device='cuda:3')\n",
      "tensor(-2.1287e-09, device='cuda:3')\n"
     ]
    },
    {
     "data": {
      "application/vnd.jupyter.widget-view+json": {
       "model_id": "0cd1eb6022eb40f8aae1a4849307be3d",
       "version_major": 2,
       "version_minor": 0
      },
      "text/plain": [
       "HBox(children=(FloatProgress(value=0.0, max=17.0), HTML(value='')))"
      ]
     },
     "metadata": {},
     "output_type": "display_data"
    },
    {
     "name": "stdout",
     "output_type": "stream",
     "text": [
      "\n",
      "epoch time: 25.445629596710205\n",
      "loss train: 0.41295342203794105, loss val: 0.4209734657231499\n",
      "accuracy train: 0.8060714285714285, accuracy val: 0.8047619047619048\n",
      "---------------------------------------------------------------------------------------------------\n",
      "Epoch: 11, Learning Rate: 0.001\n",
      "\n"
     ]
    },
    {
     "data": {
      "application/vnd.jupyter.widget-view+json": {
       "model_id": "f3ca38cd6b474f9eab3dc8ecc9bd5ac4",
       "version_major": 2,
       "version_minor": 0
      },
      "text/plain": [
       "HBox(children=(FloatProgress(value=0.0, max=132.0), HTML(value='')))"
      ]
     },
     "metadata": {},
     "output_type": "display_data"
    },
    {
     "name": "stdout",
     "output_type": "stream",
     "text": [
      "\n",
      "tensor(1.6593e-05, device='cuda:3')\n",
      "tensor(6.5952e-06, device='cuda:3')\n",
      "tensor(-0.0013, device='cuda:3')\n",
      "tensor(-0.0013, device='cuda:3')\n",
      "tensor(5.7336e-05, device='cuda:3')\n",
      "tensor(-2.6303e-06, device='cuda:3')\n",
      "tensor(-0.0014, device='cuda:3')\n",
      "tensor(-0.0014, device='cuda:3')\n",
      "tensor(6.5859e-06, device='cuda:3')\n",
      "tensor(-1.7408e-05, device='cuda:3')\n",
      "tensor(-0.0018, device='cuda:3')\n",
      "tensor(-0.0018, device='cuda:3')\n",
      "tensor(2.9846e-07, device='cuda:3')\n",
      "tensor(0., device='cuda:3')\n",
      "tensor(-7.6640e-05, device='cuda:3')\n",
      "tensor(-7.6640e-05, device='cuda:3')\n",
      "tensor(-4.2750e-06, device='cuda:3')\n",
      "tensor(2.0725e-05, device='cuda:3')\n",
      "tensor(2.7963e-10, device='cuda:3')\n",
      "tensor(6.2088e-10, device='cuda:3')\n"
     ]
    },
    {
     "data": {
      "application/vnd.jupyter.widget-view+json": {
       "model_id": "ad5423221b024c1699c03a3c5a94ce4f",
       "version_major": 2,
       "version_minor": 0
      },
      "text/plain": [
       "HBox(children=(FloatProgress(value=0.0, max=17.0), HTML(value='')))"
      ]
     },
     "metadata": {},
     "output_type": "display_data"
    },
    {
     "name": "stdout",
     "output_type": "stream",
     "text": [
      "\n",
      "epoch time: 26.274476528167725\n",
      "loss train: 0.47554612814476993, loss val: 0.4462754428386688\n",
      "accuracy train: 0.7954761904761904, accuracy val: 0.790952380952381\n",
      "---------------------------------------------------------------------------------------------------\n",
      "Epoch: 12, Learning Rate: 0.001\n",
      "\n"
     ]
    },
    {
     "data": {
      "application/vnd.jupyter.widget-view+json": {
       "model_id": "e8c5e25fa8004b3dbdaefaaca5613712",
       "version_major": 2,
       "version_minor": 0
      },
      "text/plain": [
       "HBox(children=(FloatProgress(value=0.0, max=132.0), HTML(value='')))"
      ]
     },
     "metadata": {},
     "output_type": "display_data"
    },
    {
     "name": "stdout",
     "output_type": "stream",
     "text": [
      "\n",
      "tensor(-2.8001e-05, device='cuda:3')\n",
      "tensor(4.4228e-06, device='cuda:3')\n",
      "tensor(0.0003, device='cuda:3')\n",
      "tensor(0.0003, device='cuda:3')\n",
      "tensor(-2.1391e-06, device='cuda:3')\n",
      "tensor(1.4441e-07, device='cuda:3')\n",
      "tensor(7.0000e-05, device='cuda:3')\n",
      "tensor(7.0000e-05, device='cuda:3')\n",
      "tensor(-3.9093e-07, device='cuda:3')\n",
      "tensor(1.6416e-06, device='cuda:3')\n",
      "tensor(7.1087e-05, device='cuda:3')\n",
      "tensor(7.1087e-05, device='cuda:3')\n",
      "tensor(-2.0264e-07, device='cuda:3')\n",
      "tensor(0., device='cuda:3')\n",
      "tensor(5.8508e-05, device='cuda:3')\n",
      "tensor(5.8508e-05, device='cuda:3')\n",
      "tensor(1.4828e-06, device='cuda:3')\n",
      "tensor(0.0002, device='cuda:3')\n",
      "tensor(-7.8455e-11, device='cuda:3')\n",
      "tensor(-7.0958e-10, device='cuda:3')\n"
     ]
    },
    {
     "data": {
      "application/vnd.jupyter.widget-view+json": {
       "model_id": "f7e2830adcdf428faa6edab0b1ff8da0",
       "version_major": 2,
       "version_minor": 0
      },
      "text/plain": [
       "HBox(children=(FloatProgress(value=0.0, max=17.0), HTML(value='')))"
      ]
     },
     "metadata": {},
     "output_type": "display_data"
    },
    {
     "name": "stdout",
     "output_type": "stream",
     "text": [
      "\n",
      "epoch time: 24.932796239852905\n",
      "loss train: 0.4052831676195968, loss val: 0.3891254680998185\n",
      "accuracy train: 0.8078571428571428, accuracy val: 0.8085714285714286\n",
      "---------------------------------------------------------------------------------------------------\n",
      "Epoch: 13, Learning Rate: 0.001\n",
      "\n"
     ]
    },
    {
     "data": {
      "application/vnd.jupyter.widget-view+json": {
       "model_id": "6cc90ffdf5c94de19df1153a785c0e88",
       "version_major": 2,
       "version_minor": 0
      },
      "text/plain": [
       "HBox(children=(FloatProgress(value=0.0, max=132.0), HTML(value='')))"
      ]
     },
     "metadata": {},
     "output_type": "display_data"
    },
    {
     "name": "stdout",
     "output_type": "stream",
     "text": [
      "\n",
      "tensor(3.6590e-05, device='cuda:3')\n",
      "tensor(2.3287e-06, device='cuda:3')\n",
      "tensor(-0.0005, device='cuda:3')\n",
      "tensor(-0.0005, device='cuda:3')\n",
      "tensor(-5.1002e-06, device='cuda:3')\n",
      "tensor(-4.8913e-07, device='cuda:3')\n",
      "tensor(-2.2790e-05, device='cuda:3')\n",
      "tensor(-2.2790e-05, device='cuda:3')\n",
      "tensor(2.4126e-06, device='cuda:3')\n",
      "tensor(3.8329e-06, device='cuda:3')\n",
      "tensor(3.6296e-05, device='cuda:3')\n",
      "tensor(3.6296e-05, device='cuda:3')\n",
      "tensor(-1.3569e-06, device='cuda:3')\n",
      "tensor(0., device='cuda:3')\n",
      "tensor(-7.3503e-06, device='cuda:3')\n",
      "tensor(-7.3503e-06, device='cuda:3')\n",
      "tensor(8.2656e-06, device='cuda:3')\n",
      "tensor(0.0001, device='cuda:3')\n",
      "tensor(2.5645e-09, device='cuda:3')\n",
      "tensor(1.4192e-09, device='cuda:3')\n"
     ]
    },
    {
     "data": {
      "application/vnd.jupyter.widget-view+json": {
       "model_id": "c75fa6faae374a73a418a882224ed749",
       "version_major": 2,
       "version_minor": 0
      },
      "text/plain": [
       "HBox(children=(FloatProgress(value=0.0, max=17.0), HTML(value='')))"
      ]
     },
     "metadata": {},
     "output_type": "display_data"
    },
    {
     "name": "stdout",
     "output_type": "stream",
     "text": [
      "\n",
      "epoch time: 25.087437391281128\n",
      "loss train: 0.3625109388746999, loss val: 0.38570112866513867\n",
      "accuracy train: 0.8167857142857143, accuracy val: 0.8138095238095238\n",
      "---------------------------------------------------------------------------------------------------\n",
      "Epoch: 14, Learning Rate: 0.001\n",
      "\n"
     ]
    },
    {
     "data": {
      "application/vnd.jupyter.widget-view+json": {
       "model_id": "172ae395d8344372ad99959b2b384a12",
       "version_major": 2,
       "version_minor": 0
      },
      "text/plain": [
       "HBox(children=(FloatProgress(value=0.0, max=132.0), HTML(value='')))"
      ]
     },
     "metadata": {},
     "output_type": "display_data"
    },
    {
     "name": "stdout",
     "output_type": "stream",
     "text": [
      "\n",
      "tensor(-1.1522e-05, device='cuda:3')\n",
      "tensor(3.4809e-06, device='cuda:3')\n",
      "tensor(3.7842e-05, device='cuda:3')\n",
      "tensor(3.7842e-05, device='cuda:3')\n",
      "tensor(-1.9451e-07, device='cuda:3')\n",
      "tensor(3.6483e-08, device='cuda:3')\n",
      "tensor(1.2924e-05, device='cuda:3')\n",
      "tensor(1.2924e-05, device='cuda:3')\n",
      "tensor(1.2355e-06, device='cuda:3')\n",
      "tensor(5.8089e-07, device='cuda:3')\n",
      "tensor(1.2524e-05, device='cuda:3')\n",
      "tensor(1.2524e-05, device='cuda:3')\n",
      "tensor(-2.8286e-07, device='cuda:3')\n",
      "tensor(0., device='cuda:3')\n",
      "tensor(2.4765e-05, device='cuda:3')\n",
      "tensor(2.4765e-05, device='cuda:3')\n",
      "tensor(-5.9588e-06, device='cuda:3')\n",
      "tensor(-0.0001, device='cuda:3')\n",
      "tensor(-2.4795e-09, device='cuda:3')\n",
      "tensor(-2.8383e-09, device='cuda:3')\n"
     ]
    },
    {
     "data": {
      "application/vnd.jupyter.widget-view+json": {
       "model_id": "249d5635145e4433af520246e6e1ed95",
       "version_major": 2,
       "version_minor": 0
      },
      "text/plain": [
       "HBox(children=(FloatProgress(value=0.0, max=17.0), HTML(value='')))"
      ]
     },
     "metadata": {},
     "output_type": "display_data"
    },
    {
     "name": "stdout",
     "output_type": "stream",
     "text": [
      "\n",
      "epoch time: 25.744184970855713\n",
      "loss train: 0.34995733777230437, loss val: 0.37350960689432483\n",
      "accuracy train: 0.8171428571428572, accuracy val: 0.8152380952380952\n",
      "---------------------------------------------------------------------------------------------------\n",
      "Epoch: 15, Learning Rate: 0.001\n",
      "\n"
     ]
    },
    {
     "data": {
      "application/vnd.jupyter.widget-view+json": {
       "model_id": "c51d092962fa4b20a6c51235d00b66e1",
       "version_major": 2,
       "version_minor": 0
      },
      "text/plain": [
       "HBox(children=(FloatProgress(value=0.0, max=132.0), HTML(value='')))"
      ]
     },
     "metadata": {},
     "output_type": "display_data"
    },
    {
     "name": "stdout",
     "output_type": "stream",
     "text": [
      "\n",
      "tensor(1.0023e-05, device='cuda:3')\n",
      "tensor(7.2585e-06, device='cuda:3')\n",
      "tensor(0.0004, device='cuda:3')\n",
      "tensor(0.0004, device='cuda:3')\n",
      "tensor(-2.2983e-06, device='cuda:3')\n",
      "tensor(3.8056e-07, device='cuda:3')\n",
      "tensor(-0.0001, device='cuda:3')\n",
      "tensor(-0.0001, device='cuda:3')\n",
      "tensor(-1.0958e-06, device='cuda:3')\n",
      "tensor(-1.5847e-06, device='cuda:3')\n",
      "tensor(-6.1014e-05, device='cuda:3')\n",
      "tensor(-6.1014e-05, device='cuda:3')\n",
      "tensor(1.9818e-06, device='cuda:3')\n",
      "tensor(0., device='cuda:3')\n",
      "tensor(-5.5460e-05, device='cuda:3')\n",
      "tensor(-5.5460e-05, device='cuda:3')\n",
      "tensor(1.0361e-05, device='cuda:3')\n",
      "tensor(0.0003, device='cuda:3')\n",
      "tensor(-3.7563e-09, device='cuda:3')\n",
      "tensor(-1.0644e-09, device='cuda:3')\n"
     ]
    },
    {
     "data": {
      "application/vnd.jupyter.widget-view+json": {
       "model_id": "f10cb1277f9d4f949b8bf742cc160e4c",
       "version_major": 2,
       "version_minor": 0
      },
      "text/plain": [
       "HBox(children=(FloatProgress(value=0.0, max=17.0), HTML(value='')))"
      ]
     },
     "metadata": {},
     "output_type": "display_data"
    },
    {
     "name": "stdout",
     "output_type": "stream",
     "text": [
      "\n",
      "epoch time: 25.942607164382935\n",
      "loss train: 0.3609892492267219, loss val: 0.38763599711305957\n",
      "accuracy train: 0.8214285714285714, accuracy val: 0.8157142857142857\n",
      "---------------------------------------------------------------------------------------------------\n",
      "Epoch: 16, Learning Rate: 0.001\n",
      "\n"
     ]
    },
    {
     "data": {
      "application/vnd.jupyter.widget-view+json": {
       "model_id": "83f20662d29e4b00a112ac102cb5aca9",
       "version_major": 2,
       "version_minor": 0
      },
      "text/plain": [
       "HBox(children=(FloatProgress(value=0.0, max=132.0), HTML(value='')))"
      ]
     },
     "metadata": {},
     "output_type": "display_data"
    },
    {
     "name": "stdout",
     "output_type": "stream",
     "text": [
      "\n",
      "tensor(-2.1655e-05, device='cuda:3')\n",
      "tensor(2.7915e-06, device='cuda:3')\n",
      "tensor(0.0006, device='cuda:3')\n",
      "tensor(0.0006, device='cuda:3')\n",
      "tensor(-2.9795e-07, device='cuda:3')\n",
      "tensor(7.6550e-08, device='cuda:3')\n",
      "tensor(-3.3564e-05, device='cuda:3')\n",
      "tensor(-3.3564e-05, device='cuda:3')\n",
      "tensor(2.1170e-07, device='cuda:3')\n",
      "tensor(1.9065e-07, device='cuda:3')\n",
      "tensor(1.9202e-05, device='cuda:3')\n",
      "tensor(1.9202e-05, device='cuda:3')\n",
      "tensor(-2.0921e-07, device='cuda:3')\n",
      "tensor(0., device='cuda:3')\n",
      "tensor(-2.3998e-05, device='cuda:3')\n",
      "tensor(-2.3998e-05, device='cuda:3')\n",
      "tensor(2.4502e-06, device='cuda:3')\n",
      "tensor(0.0002, device='cuda:3')\n",
      "tensor(9.9793e-10, device='cuda:3')\n",
      "tensor(1.2418e-09, device='cuda:3')\n"
     ]
    },
    {
     "data": {
      "application/vnd.jupyter.widget-view+json": {
       "model_id": "b31020a96d1c4d41a07f06a3a4a0b037",
       "version_major": 2,
       "version_minor": 0
      },
      "text/plain": [
       "HBox(children=(FloatProgress(value=0.0, max=17.0), HTML(value='')))"
      ]
     },
     "metadata": {},
     "output_type": "display_data"
    },
    {
     "name": "stdout",
     "output_type": "stream",
     "text": [
      "\n",
      "epoch time: 24.786274671554565\n",
      "loss train: 0.36710566214539786, loss val: 0.3579641966258778\n",
      "accuracy train: 0.8163095238095238, accuracy val: 0.8152380952380952\n",
      "---------------------------------------------------------------------------------------------------\n",
      "Epoch: 17, Learning Rate: 0.001\n",
      "\n"
     ]
    },
    {
     "data": {
      "application/vnd.jupyter.widget-view+json": {
       "model_id": "302563df71a04875b0b4a7c3ba151a64",
       "version_major": 2,
       "version_minor": 0
      },
      "text/plain": [
       "HBox(children=(FloatProgress(value=0.0, max=132.0), HTML(value='')))"
      ]
     },
     "metadata": {},
     "output_type": "display_data"
    },
    {
     "name": "stdout",
     "output_type": "stream",
     "text": [
      "\n",
      "tensor(8.0420e-07, device='cuda:3')\n",
      "tensor(1.2951e-05, device='cuda:3')\n",
      "tensor(0.0014, device='cuda:3')\n",
      "tensor(0.0014, device='cuda:3')\n",
      "tensor(-5.4735e-06, device='cuda:3')\n",
      "tensor(-1.1404e-06, device='cuda:3')\n",
      "tensor(-0.0001, device='cuda:3')\n",
      "tensor(-0.0001, device='cuda:3')\n",
      "tensor(1.6790e-06, device='cuda:3')\n",
      "tensor(1.0921e-06, device='cuda:3')\n",
      "tensor(0.0002, device='cuda:3')\n",
      "tensor(0.0002, device='cuda:3')\n",
      "tensor(-2.6240e-07, device='cuda:3')\n",
      "tensor(0., device='cuda:3')\n",
      "tensor(-4.4060e-06, device='cuda:3')\n",
      "tensor(-4.4060e-06, device='cuda:3')\n",
      "tensor(2.7993e-06, device='cuda:3')\n",
      "tensor(0.0002, device='cuda:3')\n",
      "tensor(2.3898e-09, device='cuda:3')\n",
      "tensor(8.8697e-10, device='cuda:3')\n"
     ]
    },
    {
     "data": {
      "application/vnd.jupyter.widget-view+json": {
       "model_id": "4309aed5fb76481bbc4f91f36ab6a774",
       "version_major": 2,
       "version_minor": 0
      },
      "text/plain": [
       "HBox(children=(FloatProgress(value=0.0, max=17.0), HTML(value='')))"
      ]
     },
     "metadata": {},
     "output_type": "display_data"
    },
    {
     "name": "stdout",
     "output_type": "stream",
     "text": [
      "\n",
      "epoch time: 24.646450519561768\n",
      "loss train: 0.3411307796610124, loss val: 0.3695753269335803\n",
      "accuracy train: 0.8285714285714286, accuracy val: 0.820952380952381\n",
      "---------------------------------------------------------------------------------------------------\n",
      "Epoch: 18, Learning Rate: 0.001\n",
      "\n"
     ]
    },
    {
     "data": {
      "application/vnd.jupyter.widget-view+json": {
       "model_id": "b28bc73fe7324849b5901ffc12d43a2d",
       "version_major": 2,
       "version_minor": 0
      },
      "text/plain": [
       "HBox(children=(FloatProgress(value=0.0, max=132.0), HTML(value='')))"
      ]
     },
     "metadata": {},
     "output_type": "display_data"
    },
    {
     "name": "stdout",
     "output_type": "stream",
     "text": [
      "\n",
      "tensor(-2.9685e-06, device='cuda:3')\n",
      "tensor(-1.0007e-06, device='cuda:3')\n",
      "tensor(0.0002, device='cuda:3')\n",
      "tensor(0.0002, device='cuda:3')\n",
      "tensor(-1.4438e-06, device='cuda:3')\n",
      "tensor(-2.7163e-09, device='cuda:3')\n",
      "tensor(1.5777e-06, device='cuda:3')\n",
      "tensor(1.5777e-06, device='cuda:3')\n",
      "tensor(-1.7304e-07, device='cuda:3')\n",
      "tensor(9.9724e-08, device='cuda:3')\n",
      "tensor(-2.7175e-05, device='cuda:3')\n",
      "tensor(-2.7175e-05, device='cuda:3')\n",
      "tensor(2.6936e-07, device='cuda:3')\n",
      "tensor(0., device='cuda:3')\n",
      "tensor(4.4151e-05, device='cuda:3')\n",
      "tensor(4.4151e-05, device='cuda:3')\n",
      "tensor(-2.3630e-06, device='cuda:3')\n",
      "tensor(-0.0002, device='cuda:3')\n",
      "tensor(7.1574e-09, device='cuda:3')\n",
      "tensor(3.5479e-09, device='cuda:3')\n"
     ]
    },
    {
     "data": {
      "application/vnd.jupyter.widget-view+json": {
       "model_id": "3600335201c74425bb6ced3920fa34dc",
       "version_major": 2,
       "version_minor": 0
      },
      "text/plain": [
       "HBox(children=(FloatProgress(value=0.0, max=17.0), HTML(value='')))"
      ]
     },
     "metadata": {},
     "output_type": "display_data"
    },
    {
     "name": "stdout",
     "output_type": "stream",
     "text": [
      "\n",
      "epoch time: 25.157769918441772\n",
      "loss train: 0.3372434120286595, loss val: 0.40544304602286396\n",
      "accuracy train: 0.8321428571428572, accuracy val: 0.8047619047619048\n",
      "---------------------------------------------------------------------------------------------------\n",
      "Epoch: 19, Learning Rate: 0.001\n",
      "\n"
     ]
    },
    {
     "data": {
      "application/vnd.jupyter.widget-view+json": {
       "model_id": "2ac39148e7e0463aa926930a5d0752d4",
       "version_major": 2,
       "version_minor": 0
      },
      "text/plain": [
       "HBox(children=(FloatProgress(value=0.0, max=132.0), HTML(value='')))"
      ]
     },
     "metadata": {},
     "output_type": "display_data"
    },
    {
     "name": "stdout",
     "output_type": "stream",
     "text": [
      "\n",
      "tensor(4.5038e-06, device='cuda:3')\n",
      "tensor(4.3451e-07, device='cuda:3')\n",
      "tensor(-0.0003, device='cuda:3')\n",
      "tensor(-0.0003, device='cuda:3')\n",
      "tensor(3.1406e-06, device='cuda:3')\n",
      "tensor(2.0119e-09, device='cuda:3')\n",
      "tensor(1.4309e-05, device='cuda:3')\n",
      "tensor(1.4309e-05, device='cuda:3')\n",
      "tensor(-5.2625e-07, device='cuda:3')\n",
      "tensor(-1.1056e-06, device='cuda:3')\n",
      "tensor(-5.0360e-05, device='cuda:3')\n",
      "tensor(-5.0360e-05, device='cuda:3')\n",
      "tensor(2.4251e-08, device='cuda:3')\n",
      "tensor(0., device='cuda:3')\n",
      "tensor(-4.2888e-06, device='cuda:3')\n",
      "tensor(-4.2888e-06, device='cuda:3')\n",
      "tensor(2.3982e-07, device='cuda:3')\n",
      "tensor(-2.8158e-05, device='cuda:3')\n",
      "tensor(-1.7345e-10, device='cuda:3')\n",
      "tensor(-1.5522e-09, device='cuda:3')\n"
     ]
    },
    {
     "data": {
      "application/vnd.jupyter.widget-view+json": {
       "model_id": "05eae323d72949d09ae7a3ea14d2ac64",
       "version_major": 2,
       "version_minor": 0
      },
      "text/plain": [
       "HBox(children=(FloatProgress(value=0.0, max=17.0), HTML(value='')))"
      ]
     },
     "metadata": {},
     "output_type": "display_data"
    },
    {
     "name": "stdout",
     "output_type": "stream",
     "text": [
      "\n",
      "epoch time: 25.94187045097351\n",
      "loss train: 0.3394452275877649, loss val: 0.3482225379523109\n",
      "accuracy train: 0.8307142857142857, accuracy val: 0.8266666666666667\n",
      "---------------------------------------------------------------------------------------------------\n",
      "Epoch: 20, Learning Rate: 0.001\n",
      "\n"
     ]
    },
    {
     "data": {
      "application/vnd.jupyter.widget-view+json": {
       "model_id": "7801297a7206414f82946ec28e37aea4",
       "version_major": 2,
       "version_minor": 0
      },
      "text/plain": [
       "HBox(children=(FloatProgress(value=0.0, max=132.0), HTML(value='')))"
      ]
     },
     "metadata": {},
     "output_type": "display_data"
    },
    {
     "name": "stdout",
     "output_type": "stream",
     "text": [
      "\n",
      "tensor(-0.0001, device='cuda:3')\n",
      "tensor(-1.3203e-05, device='cuda:3')\n",
      "tensor(0.0015, device='cuda:3')\n",
      "tensor(0.0015, device='cuda:3')\n",
      "tensor(-1.7959e-05, device='cuda:3')\n",
      "tensor(4.8340e-07, device='cuda:3')\n",
      "tensor(0.0002, device='cuda:3')\n",
      "tensor(0.0002, device='cuda:3')\n",
      "tensor(3.6257e-07, device='cuda:3')\n",
      "tensor(3.2261e-06, device='cuda:3')\n",
      "tensor(0.0003, device='cuda:3')\n",
      "tensor(0.0003, device='cuda:3')\n",
      "tensor(-1.4052e-08, device='cuda:3')\n",
      "tensor(0., device='cuda:3')\n",
      "tensor(6.2507e-06, device='cuda:3')\n",
      "tensor(6.2507e-06, device='cuda:3')\n",
      "tensor(-1.7202e-05, device='cuda:3')\n",
      "tensor(-0.0007, device='cuda:3')\n",
      "tensor(-7.7075e-10, device='cuda:3')\n",
      "tensor(-1.2418e-09, device='cuda:3')\n"
     ]
    },
    {
     "data": {
      "application/vnd.jupyter.widget-view+json": {
       "model_id": "685fcc544e694df3869d4763216ae04e",
       "version_major": 2,
       "version_minor": 0
      },
      "text/plain": [
       "HBox(children=(FloatProgress(value=0.0, max=17.0), HTML(value='')))"
      ]
     },
     "metadata": {},
     "output_type": "display_data"
    },
    {
     "name": "stdout",
     "output_type": "stream",
     "text": [
      "\n",
      "epoch time: 25.457839965820312\n",
      "loss train: 0.34759488024494867, loss val: 0.3810557687983793\n",
      "accuracy train: 0.8365476190476191, accuracy val: 0.8166666666666667\n",
      "---------------------------------------------------------------------------------------------------\n",
      "Epoch: 21, Learning Rate: 0.001\n",
      "\n"
     ]
    },
    {
     "data": {
      "application/vnd.jupyter.widget-view+json": {
       "model_id": "1a487915ef74429898c43055d7780f11",
       "version_major": 2,
       "version_minor": 0
      },
      "text/plain": [
       "HBox(children=(FloatProgress(value=0.0, max=132.0), HTML(value='')))"
      ]
     },
     "metadata": {},
     "output_type": "display_data"
    },
    {
     "name": "stdout",
     "output_type": "stream",
     "text": [
      "\n",
      "tensor(8.3872e-05, device='cuda:3')\n",
      "tensor(8.9121e-07, device='cuda:3')\n",
      "tensor(-0.0013, device='cuda:3')\n",
      "tensor(-0.0013, device='cuda:3')\n",
      "tensor(-8.0331e-06, device='cuda:3')\n",
      "tensor(1.8774e-07, device='cuda:3')\n",
      "tensor(0.0002, device='cuda:3')\n",
      "tensor(0.0002, device='cuda:3')\n",
      "tensor(-8.7831e-07, device='cuda:3')\n",
      "tensor(-8.3296e-06, device='cuda:3')\n",
      "tensor(-0.0003, device='cuda:3')\n",
      "tensor(-0.0003, device='cuda:3')\n",
      "tensor(1.0665e-06, device='cuda:3')\n",
      "tensor(0., device='cuda:3')\n",
      "tensor(5.5464e-05, device='cuda:3')\n",
      "tensor(5.5464e-05, device='cuda:3')\n",
      "tensor(1.4069e-05, device='cuda:3')\n",
      "tensor(0.0004, device='cuda:3')\n",
      "tensor(1.1794e-09, device='cuda:3')\n",
      "tensor(-8.8697e-10, device='cuda:3')\n"
     ]
    },
    {
     "data": {
      "application/vnd.jupyter.widget-view+json": {
       "model_id": "5eea5caaff8e4b048df4f0755972445a",
       "version_major": 2,
       "version_minor": 0
      },
      "text/plain": [
       "HBox(children=(FloatProgress(value=0.0, max=17.0), HTML(value='')))"
      ]
     },
     "metadata": {},
     "output_type": "display_data"
    },
    {
     "name": "stdout",
     "output_type": "stream",
     "text": [
      "\n",
      "epoch time: 25.826790809631348\n",
      "loss train: 0.34964602316419285, loss val: 0.3565657226478352\n",
      "accuracy train: 0.83, accuracy val: 0.8319047619047619\n",
      "---------------------------------------------------------------------------------------------------\n",
      "Epoch: 22, Learning Rate: 0.001\n",
      "\n"
     ]
    },
    {
     "data": {
      "application/vnd.jupyter.widget-view+json": {
       "model_id": "5509a2e3a33b48f286311b88744f086f",
       "version_major": 2,
       "version_minor": 0
      },
      "text/plain": [
       "HBox(children=(FloatProgress(value=0.0, max=132.0), HTML(value='')))"
      ]
     },
     "metadata": {},
     "output_type": "display_data"
    },
    {
     "name": "stdout",
     "output_type": "stream",
     "text": [
      "\n",
      "tensor(-1.6337e-07, device='cuda:3')\n",
      "tensor(-9.5768e-07, device='cuda:3')\n",
      "tensor(-0.0003, device='cuda:3')\n",
      "tensor(-0.0003, device='cuda:3')\n",
      "tensor(-5.7301e-07, device='cuda:3')\n",
      "tensor(-3.9386e-08, device='cuda:3')\n",
      "tensor(4.0030e-06, device='cuda:3')\n",
      "tensor(4.0030e-06, device='cuda:3')\n",
      "tensor(1.1978e-07, device='cuda:3')\n",
      "tensor(-1.4473e-07, device='cuda:3')\n",
      "tensor(2.8056e-05, device='cuda:3')\n",
      "tensor(2.8056e-05, device='cuda:3')\n",
      "tensor(2.4745e-08, device='cuda:3')\n",
      "tensor(0., device='cuda:3')\n",
      "tensor(7.4019e-06, device='cuda:3')\n",
      "tensor(7.4019e-06, device='cuda:3')\n",
      "tensor(-6.7810e-07, device='cuda:3')\n",
      "tensor(-8.7741e-05, device='cuda:3')\n",
      "tensor(4.2645e-09, device='cuda:3')\n",
      "tensor(3.5479e-09, device='cuda:3')\n"
     ]
    },
    {
     "data": {
      "application/vnd.jupyter.widget-view+json": {
       "model_id": "9090af2781e846fd9d92dbebb0f949ce",
       "version_major": 2,
       "version_minor": 0
      },
      "text/plain": [
       "HBox(children=(FloatProgress(value=0.0, max=17.0), HTML(value='')))"
      ]
     },
     "metadata": {},
     "output_type": "display_data"
    },
    {
     "name": "stdout",
     "output_type": "stream",
     "text": [
      "\n",
      "epoch time: 25.996415853500366\n",
      "loss train: 0.3245170045305382, loss val: 0.37200551348574024\n",
      "accuracy train: 0.8426190476190476, accuracy val: 0.8247619047619048\n",
      "---------------------------------------------------------------------------------------------------\n",
      "Epoch: 23, Learning Rate: 0.001\n",
      "\n"
     ]
    },
    {
     "data": {
      "application/vnd.jupyter.widget-view+json": {
       "model_id": "315e21b8fbce44c7bf965b933543a384",
       "version_major": 2,
       "version_minor": 0
      },
      "text/plain": [
       "HBox(children=(FloatProgress(value=0.0, max=132.0), HTML(value='')))"
      ]
     },
     "metadata": {},
     "output_type": "display_data"
    },
    {
     "name": "stdout",
     "output_type": "stream",
     "text": [
      "\n",
      "tensor(-7.1618e-05, device='cuda:3')\n",
      "tensor(-0.0001, device='cuda:3')\n",
      "tensor(-0.0062, device='cuda:3')\n",
      "tensor(-0.0062, device='cuda:3')\n",
      "tensor(5.6239e-06, device='cuda:3')\n",
      "tensor(1.0222e-06, device='cuda:3')\n",
      "tensor(0.0002, device='cuda:3')\n",
      "tensor(0.0002, device='cuda:3')\n",
      "tensor(-1.2591e-06, device='cuda:3')\n",
      "tensor(-5.2956e-06, device='cuda:3')\n",
      "tensor(-0.0003, device='cuda:3')\n",
      "tensor(-0.0003, device='cuda:3')\n",
      "tensor(-3.1902e-07, device='cuda:3')\n",
      "tensor(0., device='cuda:3')\n",
      "tensor(-2.3132e-05, device='cuda:3')\n",
      "tensor(-2.3132e-05, device='cuda:3')\n",
      "tensor(-7.2323e-06, device='cuda:3')\n",
      "tensor(-0.0004, device='cuda:3')\n",
      "tensor(-6.4663e-09, device='cuda:3')\n",
      "tensor(-4.6123e-09, device='cuda:3')\n"
     ]
    },
    {
     "data": {
      "application/vnd.jupyter.widget-view+json": {
       "model_id": "12fb02b5916f4b23838fafddef705cb7",
       "version_major": 2,
       "version_minor": 0
      },
      "text/plain": [
       "HBox(children=(FloatProgress(value=0.0, max=17.0), HTML(value='')))"
      ]
     },
     "metadata": {},
     "output_type": "display_data"
    },
    {
     "name": "stdout",
     "output_type": "stream",
     "text": [
      "\n",
      "epoch time: 25.69394874572754\n",
      "loss train: 0.30968219848970574, loss val: 0.34502803578096275\n",
      "accuracy train: 0.8509523809523809, accuracy val: 0.8419047619047619\n",
      "---------------------------------------------------------------------------------------------------\n",
      "Epoch: 24, Learning Rate: 0.001\n",
      "\n"
     ]
    },
    {
     "data": {
      "application/vnd.jupyter.widget-view+json": {
       "model_id": "c5125a5c0ae841b0bb0b2cceb9e27de0",
       "version_major": 2,
       "version_minor": 0
      },
      "text/plain": [
       "HBox(children=(FloatProgress(value=0.0, max=132.0), HTML(value='')))"
      ]
     },
     "metadata": {},
     "output_type": "display_data"
    },
    {
     "name": "stdout",
     "output_type": "stream",
     "text": [
      "\n",
      "tensor(1.4294e-05, device='cuda:3')\n",
      "tensor(-1.5405e-06, device='cuda:3')\n",
      "tensor(-0.0006, device='cuda:3')\n",
      "tensor(-0.0006, device='cuda:3')\n",
      "tensor(2.6061e-07, device='cuda:3')\n",
      "tensor(-1.7718e-07, device='cuda:3')\n",
      "tensor(-6.1039e-05, device='cuda:3')\n",
      "tensor(-6.1039e-05, device='cuda:3')\n",
      "tensor(-5.3184e-07, device='cuda:3')\n",
      "tensor(4.1767e-06, device='cuda:3')\n",
      "tensor(-0.0003, device='cuda:3')\n",
      "tensor(-0.0003, device='cuda:3')\n",
      "tensor(8.5381e-08, device='cuda:3')\n",
      "tensor(0., device='cuda:3')\n",
      "tensor(-3.1979e-05, device='cuda:3')\n",
      "tensor(-3.1979e-05, device='cuda:3')\n",
      "tensor(3.5598e-07, device='cuda:3')\n",
      "tensor(-0.0002, device='cuda:3')\n",
      "tensor(3.1066e-09, device='cuda:3')\n",
      "tensor(2.8383e-09, device='cuda:3')\n"
     ]
    },
    {
     "data": {
      "application/vnd.jupyter.widget-view+json": {
       "model_id": "60b30f687fca4b10bfaa8b64483cabca",
       "version_major": 2,
       "version_minor": 0
      },
      "text/plain": [
       "HBox(children=(FloatProgress(value=0.0, max=17.0), HTML(value='')))"
      ]
     },
     "metadata": {},
     "output_type": "display_data"
    },
    {
     "name": "stdout",
     "output_type": "stream",
     "text": [
      "\n",
      "epoch time: 25.12029004096985\n",
      "loss train: 0.3591677405391679, loss val: 0.5153365433216095\n",
      "accuracy train: 0.84, accuracy val: 0.7695238095238095\n",
      "---------------------------------------------------------------------------------------------------\n",
      "Epoch: 25, Learning Rate: 0.001\n",
      "\n"
     ]
    },
    {
     "data": {
      "application/vnd.jupyter.widget-view+json": {
       "model_id": "7ff39ff80fde49d3a0490202c53674cf",
       "version_major": 2,
       "version_minor": 0
      },
      "text/plain": [
       "HBox(children=(FloatProgress(value=0.0, max=132.0), HTML(value='')))"
      ]
     },
     "metadata": {},
     "output_type": "display_data"
    },
    {
     "name": "stdout",
     "output_type": "stream",
     "text": [
      "\n",
      "tensor(1.5800e-05, device='cuda:3')\n",
      "tensor(-7.7539e-06, device='cuda:3')\n",
      "tensor(-0.0009, device='cuda:3')\n",
      "tensor(-0.0009, device='cuda:3')\n",
      "tensor(-1.3941e-06, device='cuda:3')\n",
      "tensor(4.3022e-08, device='cuda:3')\n",
      "tensor(2.4439e-05, device='cuda:3')\n",
      "tensor(2.4439e-05, device='cuda:3')\n",
      "tensor(-1.9292e-08, device='cuda:3')\n",
      "tensor(4.0639e-07, device='cuda:3')\n",
      "tensor(-7.2570e-05, device='cuda:3')\n",
      "tensor(-7.2570e-05, device='cuda:3')\n",
      "tensor(-1.6085e-07, device='cuda:3')\n",
      "tensor(0., device='cuda:3')\n",
      "tensor(-5.6023e-06, device='cuda:3')\n",
      "tensor(-5.6023e-06, device='cuda:3')\n",
      "tensor(4.7517e-06, device='cuda:3')\n",
      "tensor(0.0002, device='cuda:3')\n",
      "tensor(2.3380e-09, device='cuda:3')\n",
      "tensor(3.0157e-09, device='cuda:3')\n"
     ]
    },
    {
     "data": {
      "application/vnd.jupyter.widget-view+json": {
       "model_id": "bdb6025e8b114d51bbf11463f067ad53",
       "version_major": 2,
       "version_minor": 0
      },
      "text/plain": [
       "HBox(children=(FloatProgress(value=0.0, max=17.0), HTML(value='')))"
      ]
     },
     "metadata": {},
     "output_type": "display_data"
    },
    {
     "name": "stdout",
     "output_type": "stream",
     "text": [
      "\n",
      "epoch time: 24.710144758224487\n",
      "loss train: 0.3601073440954541, loss val: 0.33452463938909416\n",
      "accuracy train: 0.8341666666666666, accuracy val: 0.8385714285714285\n",
      "---------------------------------------------------------------------------------------------------\n",
      "Epoch: 26, Learning Rate: 0.001\n",
      "\n"
     ]
    },
    {
     "data": {
      "application/vnd.jupyter.widget-view+json": {
       "model_id": "988b7b612b804008b92deaecb7ebd9b4",
       "version_major": 2,
       "version_minor": 0
      },
      "text/plain": [
       "HBox(children=(FloatProgress(value=0.0, max=132.0), HTML(value='')))"
      ]
     },
     "metadata": {},
     "output_type": "display_data"
    },
    {
     "name": "stdout",
     "output_type": "stream",
     "text": [
      "\n",
      "tensor(1.4504e-05, device='cuda:3')\n",
      "tensor(2.5294e-06, device='cuda:3')\n",
      "tensor(-0.0006, device='cuda:3')\n",
      "tensor(-0.0006, device='cuda:3')\n",
      "tensor(4.3222e-06, device='cuda:3')\n",
      "tensor(5.5319e-07, device='cuda:3')\n",
      "tensor(0.0001, device='cuda:3')\n",
      "tensor(0.0001, device='cuda:3')\n",
      "tensor(-5.1441e-07, device='cuda:3')\n",
      "tensor(1.3440e-06, device='cuda:3')\n",
      "tensor(1.8587e-05, device='cuda:3')\n",
      "tensor(1.8587e-05, device='cuda:3')\n",
      "tensor(1.7357e-07, device='cuda:3')\n",
      "tensor(0., device='cuda:3')\n",
      "tensor(6.1570e-06, device='cuda:3')\n",
      "tensor(6.1570e-06, device='cuda:3')\n",
      "tensor(-2.7499e-06, device='cuda:3')\n",
      "tensor(-0.0001, device='cuda:3')\n",
      "tensor(2.0745e-10, device='cuda:3')\n",
      "tensor(-8.8697e-11, device='cuda:3')\n"
     ]
    },
    {
     "data": {
      "application/vnd.jupyter.widget-view+json": {
       "model_id": "cc78288a6afe4c9fa8bdd273cc0fe52a",
       "version_major": 2,
       "version_minor": 0
      },
      "text/plain": [
       "HBox(children=(FloatProgress(value=0.0, max=17.0), HTML(value='')))"
      ]
     },
     "metadata": {},
     "output_type": "display_data"
    },
    {
     "name": "stdout",
     "output_type": "stream",
     "text": [
      "\n",
      "epoch time: 24.740089416503906\n",
      "loss train: 0.3103681197672179, loss val: 0.3170778558534734\n",
      "accuracy train: 0.8492857142857143, accuracy val: 0.8423809523809523\n",
      "---------------------------------------------------------------------------------------------------\n",
      "Epoch: 27, Learning Rate: 0.001\n",
      "\n"
     ]
    },
    {
     "data": {
      "application/vnd.jupyter.widget-view+json": {
       "model_id": "2fbf87e62169428690f121aa27584f2c",
       "version_major": 2,
       "version_minor": 0
      },
      "text/plain": [
       "HBox(children=(FloatProgress(value=0.0, max=132.0), HTML(value='')))"
      ]
     },
     "metadata": {},
     "output_type": "display_data"
    },
    {
     "name": "stdout",
     "output_type": "stream",
     "text": [
      "\n",
      "tensor(7.4752e-07, device='cuda:3')\n",
      "tensor(-2.4104e-07, device='cuda:3')\n",
      "tensor(-0.0001, device='cuda:3')\n",
      "tensor(-0.0001, device='cuda:3')\n",
      "tensor(-8.5622e-08, device='cuda:3')\n",
      "tensor(1.0863e-07, device='cuda:3')\n",
      "tensor(1.4757e-05, device='cuda:3')\n",
      "tensor(1.4757e-05, device='cuda:3')\n",
      "tensor(1.6941e-07, device='cuda:3')\n",
      "tensor(3.0822e-07, device='cuda:3')\n",
      "tensor(2.5215e-05, device='cuda:3')\n",
      "tensor(2.5215e-05, device='cuda:3')\n",
      "tensor(-4.1837e-08, device='cuda:3')\n",
      "tensor(0., device='cuda:3')\n",
      "tensor(-8.0610e-06, device='cuda:3')\n",
      "tensor(-8.0610e-06, device='cuda:3')\n",
      "tensor(-7.6993e-07, device='cuda:3')\n",
      "tensor(-6.6707e-05, device='cuda:3')\n",
      "tensor(-1.2518e-09, device='cuda:3')\n",
      "tensor(-7.0958e-10, device='cuda:3')\n"
     ]
    },
    {
     "data": {
      "application/vnd.jupyter.widget-view+json": {
       "model_id": "5defcb4ba21f437987c1ddcc5717c767",
       "version_major": 2,
       "version_minor": 0
      },
      "text/plain": [
       "HBox(children=(FloatProgress(value=0.0, max=17.0), HTML(value='')))"
      ]
     },
     "metadata": {},
     "output_type": "display_data"
    },
    {
     "name": "stdout",
     "output_type": "stream",
     "text": [
      "\n",
      "epoch time: 24.908727407455444\n",
      "loss train: 0.29495993042082497, loss val: 0.30717746650471406\n",
      "accuracy train: 0.8507142857142858, accuracy val: 0.8423809523809523\n",
      "---------------------------------------------------------------------------------------------------\n",
      "Epoch: 28, Learning Rate: 0.001\n",
      "\n"
     ]
    },
    {
     "data": {
      "application/vnd.jupyter.widget-view+json": {
       "model_id": "02f602666c6345cd8e8d8c03a90e72b2",
       "version_major": 2,
       "version_minor": 0
      },
      "text/plain": [
       "HBox(children=(FloatProgress(value=0.0, max=132.0), HTML(value='')))"
      ]
     },
     "metadata": {},
     "output_type": "display_data"
    },
    {
     "name": "stdout",
     "output_type": "stream",
     "text": [
      "\n",
      "tensor(2.7693e-05, device='cuda:3')\n",
      "tensor(-1.3052e-06, device='cuda:3')\n",
      "tensor(0.0002, device='cuda:3')\n",
      "tensor(0.0002, device='cuda:3')\n",
      "tensor(-3.4888e-06, device='cuda:3')\n",
      "tensor(-4.4862e-07, device='cuda:3')\n",
      "tensor(-7.7066e-05, device='cuda:3')\n",
      "tensor(-7.7066e-05, device='cuda:3')\n",
      "tensor(-3.5330e-08, device='cuda:3')\n",
      "tensor(-1.5828e-06, device='cuda:3')\n",
      "tensor(-3.9872e-05, device='cuda:3')\n",
      "tensor(-3.9872e-05, device='cuda:3')\n",
      "tensor(-2.9728e-07, device='cuda:3')\n",
      "tensor(0., device='cuda:3')\n",
      "tensor(-1.5359e-05, device='cuda:3')\n",
      "tensor(-1.5359e-05, device='cuda:3')\n",
      "tensor(-1.2569e-06, device='cuda:3')\n",
      "tensor(-5.5657e-06, device='cuda:3')\n",
      "tensor(1.9499e-09, device='cuda:3')\n",
      "tensor(1.0644e-09, device='cuda:3')\n"
     ]
    },
    {
     "data": {
      "application/vnd.jupyter.widget-view+json": {
       "model_id": "c4605edeb7e048b59de730134bdae5d0",
       "version_major": 2,
       "version_minor": 0
      },
      "text/plain": [
       "HBox(children=(FloatProgress(value=0.0, max=17.0), HTML(value='')))"
      ]
     },
     "metadata": {},
     "output_type": "display_data"
    },
    {
     "name": "stdout",
     "output_type": "stream",
     "text": [
      "\n",
      "epoch time: 25.397398948669434\n",
      "loss train: 0.2911864711028157, loss val: 0.34861597857054544\n",
      "accuracy train: 0.8522619047619048, accuracy val: 0.8271428571428572\n",
      "---------------------------------------------------------------------------------------------------\n",
      "Epoch: 29, Learning Rate: 0.001\n",
      "\n"
     ]
    },
    {
     "data": {
      "application/vnd.jupyter.widget-view+json": {
       "model_id": "6e3f00d60c7a4f3eb058bbcf53a954ea",
       "version_major": 2,
       "version_minor": 0
      },
      "text/plain": [
       "HBox(children=(FloatProgress(value=0.0, max=132.0), HTML(value='')))"
      ]
     },
     "metadata": {},
     "output_type": "display_data"
    },
    {
     "name": "stdout",
     "output_type": "stream",
     "text": [
      "\n",
      "tensor(-2.5788e-06, device='cuda:3')\n",
      "tensor(-2.1705e-06, device='cuda:3')\n",
      "tensor(-0.0005, device='cuda:3')\n",
      "tensor(-0.0005, device='cuda:3')\n",
      "tensor(9.3040e-07, device='cuda:3')\n",
      "tensor(-2.7374e-07, device='cuda:3')\n",
      "tensor(5.2835e-05, device='cuda:3')\n",
      "tensor(5.2835e-05, device='cuda:3')\n",
      "tensor(2.5030e-07, device='cuda:3')\n",
      "tensor(9.0296e-07, device='cuda:3')\n",
      "tensor(-2.7156e-06, device='cuda:3')\n",
      "tensor(-2.7156e-06, device='cuda:3')\n",
      "tensor(1.5375e-07, device='cuda:3')\n",
      "tensor(0., device='cuda:3')\n",
      "tensor(2.2040e-05, device='cuda:3')\n",
      "tensor(2.2040e-05, device='cuda:3')\n",
      "tensor(-2.8443e-06, device='cuda:3')\n",
      "tensor(-0.0002, device='cuda:3')\n",
      "tensor(8.4251e-09, device='cuda:3')\n",
      "tensor(5.9871e-09, device='cuda:3')\n"
     ]
    },
    {
     "data": {
      "application/vnd.jupyter.widget-view+json": {
       "model_id": "24a9920861c34b63ae591196d22656e5",
       "version_major": 2,
       "version_minor": 0
      },
      "text/plain": [
       "HBox(children=(FloatProgress(value=0.0, max=17.0), HTML(value='')))"
      ]
     },
     "metadata": {},
     "output_type": "display_data"
    },
    {
     "name": "stdout",
     "output_type": "stream",
     "text": [
      "\n",
      "epoch time: 24.686933279037476\n",
      "loss train: 0.3116250083302007, loss val: 0.3473203269874348\n",
      "accuracy train: 0.8472619047619048, accuracy val: 0.8385714285714285\n",
      "---------------------------------------------------------------------------------------------------\n",
      "Epoch: 30, Learning Rate: 0.0005\n",
      "\n"
     ]
    },
    {
     "data": {
      "application/vnd.jupyter.widget-view+json": {
       "model_id": "4d90f58e848f4e8b9e857de3a4598dc5",
       "version_major": 2,
       "version_minor": 0
      },
      "text/plain": [
       "HBox(children=(FloatProgress(value=0.0, max=132.0), HTML(value='')))"
      ]
     },
     "metadata": {},
     "output_type": "display_data"
    },
    {
     "name": "stdout",
     "output_type": "stream",
     "text": [
      "\n",
      "tensor(6.8115e-05, device='cuda:3')\n",
      "tensor(0.0006, device='cuda:3')\n",
      "tensor(0.0144, device='cuda:3')\n",
      "tensor(0.0144, device='cuda:3')\n",
      "tensor(8.0464e-06, device='cuda:3')\n",
      "tensor(1.4182e-05, device='cuda:3')\n",
      "tensor(0.0021, device='cuda:3')\n",
      "tensor(0.0021, device='cuda:3')\n",
      "tensor(-1.5666e-05, device='cuda:3')\n",
      "tensor(-3.2930e-05, device='cuda:3')\n",
      "tensor(-0.0005, device='cuda:3')\n",
      "tensor(-0.0005, device='cuda:3')\n",
      "tensor(2.4394e-07, device='cuda:3')\n",
      "tensor(0., device='cuda:3')\n",
      "tensor(3.8937e-05, device='cuda:3')\n",
      "tensor(3.8937e-05, device='cuda:3')\n",
      "tensor(-1.3032e-05, device='cuda:3')\n",
      "tensor(-0.0006, device='cuda:3')\n",
      "tensor(4.2213e-09, device='cuda:3')\n",
      "tensor(2.6609e-09, device='cuda:3')\n"
     ]
    },
    {
     "data": {
      "application/vnd.jupyter.widget-view+json": {
       "model_id": "994c52758466402a8b06b09bf8a64ba4",
       "version_major": 2,
       "version_minor": 0
      },
      "text/plain": [
       "HBox(children=(FloatProgress(value=0.0, max=17.0), HTML(value='')))"
      ]
     },
     "metadata": {},
     "output_type": "display_data"
    },
    {
     "name": "stdout",
     "output_type": "stream",
     "text": [
      "\n",
      "epoch time: 25.01094388961792\n",
      "loss train: 0.2779019433214809, loss val: 0.31331490330836353\n",
      "accuracy train: 0.8591666666666666, accuracy val: 0.8461904761904762\n",
      "---------------------------------------------------------------------------------------------------\n",
      "Epoch: 31, Learning Rate: 0.0005\n",
      "\n"
     ]
    },
    {
     "data": {
      "application/vnd.jupyter.widget-view+json": {
       "model_id": "df573386e816412593d9dc61830fc9fd",
       "version_major": 2,
       "version_minor": 0
      },
      "text/plain": [
       "HBox(children=(FloatProgress(value=0.0, max=132.0), HTML(value='')))"
      ]
     },
     "metadata": {},
     "output_type": "display_data"
    },
    {
     "name": "stdout",
     "output_type": "stream",
     "text": [
      "\n",
      "tensor(-6.6624e-07, device='cuda:3')\n",
      "tensor(1.2866e-06, device='cuda:3')\n",
      "tensor(0.0003, device='cuda:3')\n",
      "tensor(0.0003, device='cuda:3')\n",
      "tensor(1.8635e-08, device='cuda:3')\n",
      "tensor(-1.0342e-07, device='cuda:3')\n",
      "tensor(-2.3682e-06, device='cuda:3')\n",
      "tensor(-2.3682e-06, device='cuda:3')\n",
      "tensor(6.3999e-07, device='cuda:3')\n",
      "tensor(3.1521e-06, device='cuda:3')\n",
      "tensor(0.0001, device='cuda:3')\n",
      "tensor(0.0001, device='cuda:3')\n",
      "tensor(-2.0590e-07, device='cuda:3')\n",
      "tensor(0., device='cuda:3')\n",
      "tensor(-4.7538e-05, device='cuda:3')\n",
      "tensor(-4.7538e-05, device='cuda:3')\n",
      "tensor(-5.0240e-06, device='cuda:3')\n",
      "tensor(-0.0004, device='cuda:3')\n",
      "tensor(-8.3077e-10, device='cuda:3')\n",
      "tensor(-1.0422e-09, device='cuda:3')\n"
     ]
    },
    {
     "data": {
      "application/vnd.jupyter.widget-view+json": {
       "model_id": "915dbe75bece4607b0f52d697408a564",
       "version_major": 2,
       "version_minor": 0
      },
      "text/plain": [
       "HBox(children=(FloatProgress(value=0.0, max=17.0), HTML(value='')))"
      ]
     },
     "metadata": {},
     "output_type": "display_data"
    },
    {
     "name": "stdout",
     "output_type": "stream",
     "text": [
      "\n",
      "epoch time: 25.005938291549683\n",
      "loss train: 0.2938083998407378, loss val: 0.3120869178982342\n",
      "accuracy train: 0.8522619047619048, accuracy val: 0.8404761904761905\n",
      "---------------------------------------------------------------------------------------------------\n",
      "Epoch: 32, Learning Rate: 0.0005\n",
      "\n"
     ]
    },
    {
     "data": {
      "application/vnd.jupyter.widget-view+json": {
       "model_id": "4fa6763cc201471a9def725b2bf21dd7",
       "version_major": 2,
       "version_minor": 0
      },
      "text/plain": [
       "HBox(children=(FloatProgress(value=0.0, max=132.0), HTML(value='')))"
      ]
     },
     "metadata": {},
     "output_type": "display_data"
    },
    {
     "name": "stdout",
     "output_type": "stream",
     "text": [
      "\n",
      "tensor(-2.2584e-05, device='cuda:3')\n",
      "tensor(-9.0030e-07, device='cuda:3')\n",
      "tensor(8.8183e-05, device='cuda:3')\n",
      "tensor(8.8183e-05, device='cuda:3')\n",
      "tensor(1.8759e-07, device='cuda:3')\n",
      "tensor(-7.3052e-08, device='cuda:3')\n",
      "tensor(-2.9388e-05, device='cuda:3')\n",
      "tensor(-2.9388e-05, device='cuda:3')\n",
      "tensor(3.5231e-08, device='cuda:3')\n",
      "tensor(-1.5346e-07, device='cuda:3')\n",
      "tensor(2.6408e-05, device='cuda:3')\n",
      "tensor(2.6408e-05, device='cuda:3')\n",
      "tensor(-2.0012e-07, device='cuda:3')\n",
      "tensor(0., device='cuda:3')\n",
      "tensor(-3.4220e-05, device='cuda:3')\n",
      "tensor(-3.4220e-05, device='cuda:3')\n",
      "tensor(-4.7870e-06, device='cuda:3')\n",
      "tensor(-0.0003, device='cuda:3')\n",
      "tensor(6.7805e-09, device='cuda:3')\n",
      "tensor(5.4992e-09, device='cuda:3')\n"
     ]
    },
    {
     "data": {
      "application/vnd.jupyter.widget-view+json": {
       "model_id": "029c8d76201a46c38818ecac9e71ecd7",
       "version_major": 2,
       "version_minor": 0
      },
      "text/plain": [
       "HBox(children=(FloatProgress(value=0.0, max=17.0), HTML(value='')))"
      ]
     },
     "metadata": {},
     "output_type": "display_data"
    },
    {
     "name": "stdout",
     "output_type": "stream",
     "text": [
      "\n",
      "epoch time: 25.24025869369507\n",
      "loss train: 0.27749128301035275, loss val: 0.30889187139623303\n",
      "accuracy train: 0.8576190476190476, accuracy val: 0.8509523809523809\n",
      "---------------------------------------------------------------------------------------------------\n",
      "Epoch: 33, Learning Rate: 0.0005\n",
      "\n"
     ]
    },
    {
     "data": {
      "application/vnd.jupyter.widget-view+json": {
       "model_id": "f7b3c680b18d46f496b777b33e1011ed",
       "version_major": 2,
       "version_minor": 0
      },
      "text/plain": [
       "HBox(children=(FloatProgress(value=0.0, max=132.0), HTML(value='')))"
      ]
     },
     "metadata": {},
     "output_type": "display_data"
    },
    {
     "name": "stdout",
     "output_type": "stream",
     "text": [
      "\n",
      "tensor(2.6089e-05, device='cuda:3')\n",
      "tensor(-9.6048e-07, device='cuda:3')\n",
      "tensor(-0.0007, device='cuda:3')\n",
      "tensor(-0.0007, device='cuda:3')\n",
      "tensor(-2.2418e-06, device='cuda:3')\n",
      "tensor(3.9922e-07, device='cuda:3')\n",
      "tensor(8.0931e-05, device='cuda:3')\n",
      "tensor(8.0931e-05, device='cuda:3')\n",
      "tensor(-4.1831e-07, device='cuda:3')\n",
      "tensor(-1.3486e-06, device='cuda:3')\n",
      "tensor(-0.0001, device='cuda:3')\n",
      "tensor(-0.0001, device='cuda:3')\n",
      "tensor(3.9651e-07, device='cuda:3')\n",
      "tensor(0., device='cuda:3')\n",
      "tensor(1.4840e-05, device='cuda:3')\n",
      "tensor(1.4840e-05, device='cuda:3')\n",
      "tensor(1.7168e-06, device='cuda:3')\n",
      "tensor(6.6226e-05, device='cuda:3')\n",
      "tensor(1.5372e-09, device='cuda:3')\n",
      "tensor(7.9828e-10, device='cuda:3')\n"
     ]
    },
    {
     "data": {
      "application/vnd.jupyter.widget-view+json": {
       "model_id": "be1ad10d03a647d7a3619928423408d7",
       "version_major": 2,
       "version_minor": 0
      },
      "text/plain": [
       "HBox(children=(FloatProgress(value=0.0, max=17.0), HTML(value='')))"
      ]
     },
     "metadata": {},
     "output_type": "display_data"
    },
    {
     "name": "stdout",
     "output_type": "stream",
     "text": [
      "\n",
      "epoch time: 25.28723406791687\n",
      "loss train: 0.26621100814505055, loss val: 0.31089401420424967\n",
      "accuracy train: 0.8654761904761905, accuracy val: 0.8495238095238096\n",
      "---------------------------------------------------------------------------------------------------\n",
      "Epoch: 34, Learning Rate: 0.0005\n",
      "\n"
     ]
    },
    {
     "data": {
      "application/vnd.jupyter.widget-view+json": {
       "model_id": "5204477d365c4edfabfa0449117f3853",
       "version_major": 2,
       "version_minor": 0
      },
      "text/plain": [
       "HBox(children=(FloatProgress(value=0.0, max=132.0), HTML(value='')))"
      ]
     },
     "metadata": {},
     "output_type": "display_data"
    },
    {
     "name": "stdout",
     "output_type": "stream",
     "text": [
      "\n",
      "tensor(5.9763e-05, device='cuda:3')\n",
      "tensor(1.8997e-06, device='cuda:3')\n",
      "tensor(-0.0019, device='cuda:3')\n",
      "tensor(-0.0019, device='cuda:3')\n",
      "tensor(-1.7317e-06, device='cuda:3')\n",
      "tensor(1.4466e-07, device='cuda:3')\n",
      "tensor(5.2485e-06, device='cuda:3')\n",
      "tensor(5.2485e-06, device='cuda:3')\n",
      "tensor(2.7833e-08, device='cuda:3')\n",
      "tensor(9.3698e-08, device='cuda:3')\n",
      "tensor(6.3779e-05, device='cuda:3')\n",
      "tensor(6.3779e-05, device='cuda:3')\n",
      "tensor(1.4502e-07, device='cuda:3')\n",
      "tensor(0., device='cuda:3')\n",
      "tensor(-3.9546e-05, device='cuda:3')\n",
      "tensor(-3.9546e-05, device='cuda:3')\n",
      "tensor(2.6928e-07, device='cuda:3')\n",
      "tensor(-7.9122e-06, device='cuda:3')\n",
      "tensor(-3.0035e-09, device='cuda:3')\n",
      "tensor(-1.4192e-09, device='cuda:3')\n"
     ]
    },
    {
     "data": {
      "application/vnd.jupyter.widget-view+json": {
       "model_id": "900f8ec89ba44bfeae7d2d46a716196e",
       "version_major": 2,
       "version_minor": 0
      },
      "text/plain": [
       "HBox(children=(FloatProgress(value=0.0, max=17.0), HTML(value='')))"
      ]
     },
     "metadata": {},
     "output_type": "display_data"
    },
    {
     "name": "stdout",
     "output_type": "stream",
     "text": [
      "\n",
      "epoch time: 25.17983603477478\n",
      "loss train: 0.2634888917885043, loss val: 0.3034200308954014\n",
      "accuracy train: 0.8705952380952381, accuracy val: 0.86\n",
      "---------------------------------------------------------------------------------------------------\n",
      "Epoch: 35, Learning Rate: 0.0005\n",
      "\n"
     ]
    },
    {
     "data": {
      "application/vnd.jupyter.widget-view+json": {
       "model_id": "4bf26a1fdd274b408f65f0638f0b3a9e",
       "version_major": 2,
       "version_minor": 0
      },
      "text/plain": [
       "HBox(children=(FloatProgress(value=0.0, max=132.0), HTML(value='')))"
      ]
     },
     "metadata": {},
     "output_type": "display_data"
    },
    {
     "name": "stdout",
     "output_type": "stream",
     "text": [
      "\n",
      "tensor(-9.0814e-05, device='cuda:3')\n",
      "tensor(4.6522e-05, device='cuda:3')\n",
      "tensor(0.0052, device='cuda:3')\n",
      "tensor(0.0052, device='cuda:3')\n",
      "tensor(1.3794e-06, device='cuda:3')\n",
      "tensor(-2.7839e-07, device='cuda:3')\n",
      "tensor(-1.4653e-05, device='cuda:3')\n",
      "tensor(-1.4653e-05, device='cuda:3')\n",
      "tensor(1.6033e-06, device='cuda:3')\n",
      "tensor(6.3409e-06, device='cuda:3')\n",
      "tensor(0.0003, device='cuda:3')\n",
      "tensor(0.0003, device='cuda:3')\n",
      "tensor(1.9947e-07, device='cuda:3')\n",
      "tensor(0., device='cuda:3')\n",
      "tensor(-3.0394e-05, device='cuda:3')\n",
      "tensor(-3.0394e-05, device='cuda:3')\n",
      "tensor(3.6264e-06, device='cuda:3')\n",
      "tensor(0.0002, device='cuda:3')\n",
      "tensor(7.9699e-09, device='cuda:3')\n",
      "tensor(6.5193e-09, device='cuda:3')\n"
     ]
    },
    {
     "data": {
      "application/vnd.jupyter.widget-view+json": {
       "model_id": "155503ddd66948f8b9a7aecb702f0d24",
       "version_major": 2,
       "version_minor": 0
      },
      "text/plain": [
       "HBox(children=(FloatProgress(value=0.0, max=17.0), HTML(value='')))"
      ]
     },
     "metadata": {},
     "output_type": "display_data"
    },
    {
     "name": "stdout",
     "output_type": "stream",
     "text": [
      "\n",
      "epoch time: 25.245784759521484\n",
      "loss train: 0.2624322216054707, loss val: 0.3129421113168492\n",
      "accuracy train: 0.8710714285714286, accuracy val: 0.8652380952380953\n",
      "---------------------------------------------------------------------------------------------------\n",
      "Epoch: 36, Learning Rate: 0.0005\n",
      "\n"
     ]
    },
    {
     "data": {
      "application/vnd.jupyter.widget-view+json": {
       "model_id": "29758803dc5341cea13b373d7f5233cf",
       "version_major": 2,
       "version_minor": 0
      },
      "text/plain": [
       "HBox(children=(FloatProgress(value=0.0, max=132.0), HTML(value='')))"
      ]
     },
     "metadata": {},
     "output_type": "display_data"
    },
    {
     "name": "stdout",
     "output_type": "stream",
     "text": [
      "\n",
      "tensor(1.9320e-05, device='cuda:3')\n",
      "tensor(-1.4840e-06, device='cuda:3')\n",
      "tensor(-0.0012, device='cuda:3')\n",
      "tensor(-0.0012, device='cuda:3')\n",
      "tensor(-5.9991e-07, device='cuda:3')\n",
      "tensor(2.6358e-07, device='cuda:3')\n",
      "tensor(7.7082e-05, device='cuda:3')\n",
      "tensor(7.7082e-05, device='cuda:3')\n",
      "tensor(-6.4511e-07, device='cuda:3')\n",
      "tensor(-2.1308e-06, device='cuda:3')\n",
      "tensor(-0.0002, device='cuda:3')\n",
      "tensor(-0.0002, device='cuda:3')\n",
      "tensor(7.4230e-08, device='cuda:3')\n",
      "tensor(0., device='cuda:3')\n",
      "tensor(2.8233e-05, device='cuda:3')\n",
      "tensor(2.8233e-05, device='cuda:3')\n",
      "tensor(6.6912e-06, device='cuda:3')\n",
      "tensor(0.0004, device='cuda:3')\n",
      "tensor(1.2590e-08, device='cuda:3')\n",
      "tensor(1.0998e-08, device='cuda:3')\n"
     ]
    },
    {
     "data": {
      "application/vnd.jupyter.widget-view+json": {
       "model_id": "65f71b6ff39b45e5a5f5de7dc270a83f",
       "version_major": 2,
       "version_minor": 0
      },
      "text/plain": [
       "HBox(children=(FloatProgress(value=0.0, max=17.0), HTML(value='')))"
      ]
     },
     "metadata": {},
     "output_type": "display_data"
    },
    {
     "name": "stdout",
     "output_type": "stream",
     "text": [
      "\n",
      "epoch time: 25.840888023376465\n",
      "loss train: 0.265108396948287, loss val: 0.3192635634366204\n",
      "accuracy train: 0.8709523809523809, accuracy val: 0.85\n",
      "---------------------------------------------------------------------------------------------------\n",
      "Epoch: 37, Learning Rate: 0.0005\n",
      "\n"
     ]
    },
    {
     "data": {
      "application/vnd.jupyter.widget-view+json": {
       "model_id": "9e34c3a1e1ff41b78d078a4697e86795",
       "version_major": 2,
       "version_minor": 0
      },
      "text/plain": [
       "HBox(children=(FloatProgress(value=0.0, max=132.0), HTML(value='')))"
      ]
     },
     "metadata": {},
     "output_type": "display_data"
    },
    {
     "name": "stdout",
     "output_type": "stream",
     "text": [
      "\n",
      "tensor(3.2475e-05, device='cuda:3')\n",
      "tensor(1.7865e-06, device='cuda:3')\n",
      "tensor(0.0062, device='cuda:3')\n",
      "tensor(0.0062, device='cuda:3')\n",
      "tensor(-8.3101e-08, device='cuda:3')\n",
      "tensor(1.2272e-06, device='cuda:3')\n",
      "tensor(0.0002, device='cuda:3')\n",
      "tensor(0.0002, device='cuda:3')\n",
      "tensor(8.5210e-07, device='cuda:3')\n",
      "tensor(5.9907e-06, device='cuda:3')\n",
      "tensor(0.0002, device='cuda:3')\n",
      "tensor(0.0002, device='cuda:3')\n",
      "tensor(-6.4568e-08, device='cuda:3')\n",
      "tensor(0., device='cuda:3')\n",
      "tensor(-5.5980e-06, device='cuda:3')\n",
      "tensor(-5.5980e-06, device='cuda:3')\n",
      "tensor(-1.4401e-07, device='cuda:3')\n",
      "tensor(-9.8298e-05, device='cuda:3')\n",
      "tensor(1.5567e-09, device='cuda:3')\n",
      "tensor(7.9828e-10, device='cuda:3')\n"
     ]
    },
    {
     "data": {
      "application/vnd.jupyter.widget-view+json": {
       "model_id": "8a489d293bd04837be465ad55b034ab5",
       "version_major": 2,
       "version_minor": 0
      },
      "text/plain": [
       "HBox(children=(FloatProgress(value=0.0, max=17.0), HTML(value='')))"
      ]
     },
     "metadata": {},
     "output_type": "display_data"
    },
    {
     "name": "stdout",
     "output_type": "stream",
     "text": [
      "\n",
      "epoch time: 26.44874382019043\n",
      "loss train: 0.2583639059554447, loss val: 0.27453210073358875\n",
      "accuracy train: 0.8736904761904762, accuracy val: 0.8647619047619047\n",
      "---------------------------------------------------------------------------------------------------\n",
      "Epoch: 38, Learning Rate: 0.0005\n",
      "\n"
     ]
    },
    {
     "data": {
      "application/vnd.jupyter.widget-view+json": {
       "model_id": "2db032808e7143299fc905252f0e58e6",
       "version_major": 2,
       "version_minor": 0
      },
      "text/plain": [
       "HBox(children=(FloatProgress(value=0.0, max=132.0), HTML(value='')))"
      ]
     },
     "metadata": {},
     "output_type": "display_data"
    },
    {
     "name": "stdout",
     "output_type": "stream",
     "text": [
      "\n",
      "tensor(-6.0050e-05, device='cuda:3')\n",
      "tensor(6.8402e-06, device='cuda:3')\n",
      "tensor(-0.0014, device='cuda:3')\n",
      "tensor(-0.0014, device='cuda:3')\n",
      "tensor(-6.0936e-06, device='cuda:3')\n",
      "tensor(1.0505e-07, device='cuda:3')\n",
      "tensor(1.8792e-05, device='cuda:3')\n",
      "tensor(1.8792e-05, device='cuda:3')\n",
      "tensor(1.6777e-07, device='cuda:3')\n",
      "tensor(-1.2600e-06, device='cuda:3')\n",
      "tensor(-2.5038e-05, device='cuda:3')\n",
      "tensor(-2.5038e-05, device='cuda:3')\n",
      "tensor(1.3941e-07, device='cuda:3')\n",
      "tensor(0., device='cuda:3')\n",
      "tensor(6.9480e-05, device='cuda:3')\n",
      "tensor(6.9480e-05, device='cuda:3')\n",
      "tensor(1.0381e-05, device='cuda:3')\n",
      "tensor(0.0008, device='cuda:3')\n",
      "tensor(-2.1453e-09, device='cuda:3')\n",
      "tensor(-1.4192e-09, device='cuda:3')\n"
     ]
    },
    {
     "data": {
      "application/vnd.jupyter.widget-view+json": {
       "model_id": "876d1c8909ec45f2ac4b19b7b9561dd2",
       "version_major": 2,
       "version_minor": 0
      },
      "text/plain": [
       "HBox(children=(FloatProgress(value=0.0, max=17.0), HTML(value='')))"
      ]
     },
     "metadata": {},
     "output_type": "display_data"
    },
    {
     "name": "stdout",
     "output_type": "stream",
     "text": [
      "\n",
      "epoch time: 26.151875734329224\n",
      "loss train: 0.2513574469608791, loss val: 0.279604979297694\n",
      "accuracy train: 0.875, accuracy val: 0.8623809523809524\n",
      "---------------------------------------------------------------------------------------------------\n",
      "Epoch: 39, Learning Rate: 0.0005\n",
      "\n"
     ]
    },
    {
     "data": {
      "application/vnd.jupyter.widget-view+json": {
       "model_id": "bf689147e62541d1b96f3d81981a7d64",
       "version_major": 2,
       "version_minor": 0
      },
      "text/plain": [
       "HBox(children=(FloatProgress(value=0.0, max=132.0), HTML(value='')))"
      ]
     },
     "metadata": {},
     "output_type": "display_data"
    },
    {
     "name": "stdout",
     "output_type": "stream",
     "text": [
      "\n",
      "tensor(-5.9006e-05, device='cuda:3')\n",
      "tensor(6.3906e-06, device='cuda:3')\n",
      "tensor(0.0021, device='cuda:3')\n",
      "tensor(0.0021, device='cuda:3')\n",
      "tensor(-8.2442e-06, device='cuda:3')\n",
      "tensor(9.0692e-07, device='cuda:3')\n",
      "tensor(0.0001, device='cuda:3')\n",
      "tensor(0.0001, device='cuda:3')\n",
      "tensor(4.1549e-07, device='cuda:3')\n",
      "tensor(-5.2831e-07, device='cuda:3')\n",
      "tensor(-1.2022e-05, device='cuda:3')\n",
      "tensor(-1.2022e-05, device='cuda:3')\n",
      "tensor(-5.8137e-08, device='cuda:3')\n",
      "tensor(0., device='cuda:3')\n",
      "tensor(-1.7301e-05, device='cuda:3')\n",
      "tensor(-1.7301e-05, device='cuda:3')\n",
      "tensor(-5.5970e-06, device='cuda:3')\n",
      "tensor(-0.0005, device='cuda:3')\n",
      "tensor(8.3231e-09, device='cuda:3')\n",
      "tensor(6.0314e-09, device='cuda:3')\n"
     ]
    },
    {
     "data": {
      "application/vnd.jupyter.widget-view+json": {
       "model_id": "bed119b91385403b9d6f5df4846a4492",
       "version_major": 2,
       "version_minor": 0
      },
      "text/plain": [
       "HBox(children=(FloatProgress(value=0.0, max=17.0), HTML(value='')))"
      ]
     },
     "metadata": {},
     "output_type": "display_data"
    },
    {
     "name": "stdout",
     "output_type": "stream",
     "text": [
      "\n",
      "epoch time: 25.74575686454773\n",
      "loss train: 0.2567475291364121, loss val: 0.3018383059431525\n",
      "accuracy train: 0.8695238095238095, accuracy val: 0.8604761904761905\n",
      "---------------------------------------------------------------------------------------------------\n",
      "Epoch: 40, Learning Rate: 0.0005\n",
      "\n"
     ]
    },
    {
     "data": {
      "application/vnd.jupyter.widget-view+json": {
       "model_id": "301063a8012c4a1f8714e5c8e964bf08",
       "version_major": 2,
       "version_minor": 0
      },
      "text/plain": [
       "HBox(children=(FloatProgress(value=0.0, max=132.0), HTML(value='')))"
      ]
     },
     "metadata": {},
     "output_type": "display_data"
    },
    {
     "name": "stdout",
     "output_type": "stream",
     "text": [
      "\n",
      "tensor(-6.9157e-06, device='cuda:3')\n",
      "tensor(6.0255e-06, device='cuda:3')\n",
      "tensor(-2.5971e-05, device='cuda:3')\n",
      "tensor(-2.5971e-05, device='cuda:3')\n",
      "tensor(4.4530e-06, device='cuda:3')\n",
      "tensor(-1.7996e-07, device='cuda:3')\n",
      "tensor(3.2395e-05, device='cuda:3')\n",
      "tensor(3.2395e-05, device='cuda:3')\n",
      "tensor(-3.4068e-07, device='cuda:3')\n",
      "tensor(-1.7702e-06, device='cuda:3')\n",
      "tensor(-5.5027e-05, device='cuda:3')\n",
      "tensor(-5.5027e-05, device='cuda:3')\n",
      "tensor(4.9386e-08, device='cuda:3')\n",
      "tensor(0., device='cuda:3')\n",
      "tensor(-5.9595e-06, device='cuda:3')\n",
      "tensor(-5.9595e-06, device='cuda:3')\n",
      "tensor(-1.6474e-06, device='cuda:3')\n",
      "tensor(-7.7158e-05, device='cuda:3')\n",
      "tensor(4.8131e-09, device='cuda:3')\n",
      "tensor(2.5833e-09, device='cuda:3')\n"
     ]
    },
    {
     "data": {
      "application/vnd.jupyter.widget-view+json": {
       "model_id": "d0e83f80256f4559b60106b38d3fdf27",
       "version_major": 2,
       "version_minor": 0
      },
      "text/plain": [
       "HBox(children=(FloatProgress(value=0.0, max=17.0), HTML(value='')))"
      ]
     },
     "metadata": {},
     "output_type": "display_data"
    },
    {
     "name": "stdout",
     "output_type": "stream",
     "text": [
      "\n",
      "epoch time: 26.272904634475708\n",
      "loss train: 0.2462866133586927, loss val: 0.29462600280256834\n",
      "accuracy train: 0.8788095238095238, accuracy val: 0.8633333333333333\n",
      "---------------------------------------------------------------------------------------------------\n",
      "Epoch: 41, Learning Rate: 0.0005\n",
      "\n"
     ]
    },
    {
     "data": {
      "application/vnd.jupyter.widget-view+json": {
       "model_id": "7bd501cfc1d44b3daa28be6d21052804",
       "version_major": 2,
       "version_minor": 0
      },
      "text/plain": [
       "HBox(children=(FloatProgress(value=0.0, max=132.0), HTML(value='')))"
      ]
     },
     "metadata": {},
     "output_type": "display_data"
    },
    {
     "name": "stdout",
     "output_type": "stream",
     "text": [
      "\n",
      "tensor(-2.5799e-05, device='cuda:3')\n",
      "tensor(6.4108e-07, device='cuda:3')\n",
      "tensor(3.4212e-05, device='cuda:3')\n",
      "tensor(3.4212e-05, device='cuda:3')\n",
      "tensor(-2.1075e-06, device='cuda:3')\n",
      "tensor(-4.7070e-07, device='cuda:3')\n",
      "tensor(-6.8801e-05, device='cuda:3')\n",
      "tensor(-6.8801e-05, device='cuda:3')\n",
      "tensor(1.9915e-08, device='cuda:3')\n",
      "tensor(-1.7905e-06, device='cuda:3')\n",
      "tensor(-0.0001, device='cuda:3')\n",
      "tensor(-0.0001, device='cuda:3')\n",
      "tensor(1.6256e-07, device='cuda:3')\n",
      "tensor(0., device='cuda:3')\n",
      "tensor(4.3019e-05, device='cuda:3')\n",
      "tensor(4.3019e-05, device='cuda:3')\n",
      "tensor(-1.0124e-06, device='cuda:3')\n",
      "tensor(-7.6301e-05, device='cuda:3')\n",
      "tensor(6.3191e-09, device='cuda:3')\n",
      "tensor(5.6766e-09, device='cuda:3')\n"
     ]
    },
    {
     "data": {
      "application/vnd.jupyter.widget-view+json": {
       "model_id": "e8e02efabd474af9b3bb1ca554762958",
       "version_major": 2,
       "version_minor": 0
      },
      "text/plain": [
       "HBox(children=(FloatProgress(value=0.0, max=17.0), HTML(value='')))"
      ]
     },
     "metadata": {},
     "output_type": "display_data"
    },
    {
     "name": "stdout",
     "output_type": "stream",
     "text": [
      "\n",
      "epoch time: 25.521087884902954\n",
      "loss train: 0.24350914398603368, loss val: 0.2984078132054385\n",
      "accuracy train: 0.8814285714285715, accuracy val: 0.86\n",
      "---------------------------------------------------------------------------------------------------\n",
      "Epoch: 42, Learning Rate: 0.0005\n",
      "\n"
     ]
    },
    {
     "data": {
      "application/vnd.jupyter.widget-view+json": {
       "model_id": "dd33cd5fbe4c4171811fe8d059bb5f33",
       "version_major": 2,
       "version_minor": 0
      },
      "text/plain": [
       "HBox(children=(FloatProgress(value=0.0, max=132.0), HTML(value='')))"
      ]
     },
     "metadata": {},
     "output_type": "display_data"
    },
    {
     "name": "stdout",
     "output_type": "stream",
     "text": [
      "\n",
      "tensor(2.5588e-05, device='cuda:3')\n",
      "tensor(1.9115e-06, device='cuda:3')\n",
      "tensor(-0.0006, device='cuda:3')\n",
      "tensor(-0.0006, device='cuda:3')\n",
      "tensor(1.2960e-06, device='cuda:3')\n",
      "tensor(-3.3925e-07, device='cuda:3')\n",
      "tensor(-6.3813e-06, device='cuda:3')\n",
      "tensor(-6.3813e-06, device='cuda:3')\n",
      "tensor(3.4079e-06, device='cuda:3')\n",
      "tensor(-2.1582e-06, device='cuda:3')\n",
      "tensor(-0.0001, device='cuda:3')\n",
      "tensor(-0.0001, device='cuda:3')\n",
      "tensor(4.7172e-07, device='cuda:3')\n",
      "tensor(0., device='cuda:3')\n",
      "tensor(5.1794e-06, device='cuda:3')\n",
      "tensor(5.1794e-06, device='cuda:3')\n",
      "tensor(-5.1705e-06, device='cuda:3')\n",
      "tensor(-0.0002, device='cuda:3')\n",
      "tensor(3.2034e-09, device='cuda:3')\n",
      "tensor(1.7739e-09, device='cuda:3')\n"
     ]
    },
    {
     "data": {
      "application/vnd.jupyter.widget-view+json": {
       "model_id": "5bea3a8262e348158d33733d92472392",
       "version_major": 2,
       "version_minor": 0
      },
      "text/plain": [
       "HBox(children=(FloatProgress(value=0.0, max=17.0), HTML(value='')))"
      ]
     },
     "metadata": {},
     "output_type": "display_data"
    },
    {
     "name": "stdout",
     "output_type": "stream",
     "text": [
      "\n",
      "epoch time: 26.506383895874023\n",
      "loss train: 0.2533208401591489, loss val: 0.2705337177304661\n",
      "accuracy train: 0.8748809523809524, accuracy val: 0.8714285714285714\n",
      "---------------------------------------------------------------------------------------------------\n",
      "Epoch: 43, Learning Rate: 0.0005\n",
      "\n"
     ]
    },
    {
     "data": {
      "application/vnd.jupyter.widget-view+json": {
       "model_id": "c9a80a4a947b4a738e1f076a02e23e63",
       "version_major": 2,
       "version_minor": 0
      },
      "text/plain": [
       "HBox(children=(FloatProgress(value=0.0, max=132.0), HTML(value='')))"
      ]
     },
     "metadata": {},
     "output_type": "display_data"
    },
    {
     "name": "stdout",
     "output_type": "stream",
     "text": [
      "\n",
      "tensor(2.1231e-06, device='cuda:3')\n",
      "tensor(7.3860e-07, device='cuda:3')\n",
      "tensor(-2.0129e-05, device='cuda:3')\n",
      "tensor(-2.0129e-05, device='cuda:3')\n",
      "tensor(-3.8081e-07, device='cuda:3')\n",
      "tensor(1.6081e-07, device='cuda:3')\n",
      "tensor(1.7561e-05, device='cuda:3')\n",
      "tensor(1.7561e-05, device='cuda:3')\n",
      "tensor(6.5974e-09, device='cuda:3')\n",
      "tensor(2.6788e-07, device='cuda:3')\n",
      "tensor(-2.1470e-07, device='cuda:3')\n",
      "tensor(-2.1470e-07, device='cuda:3')\n",
      "tensor(-1.2089e-08, device='cuda:3')\n",
      "tensor(0., device='cuda:3')\n",
      "tensor(-1.1437e-05, device='cuda:3')\n",
      "tensor(-1.1437e-05, device='cuda:3')\n",
      "tensor(-1.2503e-06, device='cuda:3')\n",
      "tensor(-0.0001, device='cuda:3')\n",
      "tensor(7.6302e-09, device='cuda:3')\n",
      "tensor(4.9227e-09, device='cuda:3')\n"
     ]
    },
    {
     "data": {
      "application/vnd.jupyter.widget-view+json": {
       "model_id": "d37653e94c7e40508069beaf4d208e3b",
       "version_major": 2,
       "version_minor": 0
      },
      "text/plain": [
       "HBox(children=(FloatProgress(value=0.0, max=17.0), HTML(value='')))"
      ]
     },
     "metadata": {},
     "output_type": "display_data"
    },
    {
     "name": "stdout",
     "output_type": "stream",
     "text": [
      "\n",
      "epoch time: 26.165570735931396\n",
      "loss train: 0.2367315496684927, loss val: 0.28509150357807383\n",
      "accuracy train: 0.8823809523809524, accuracy val: 0.8647619047619047\n",
      "---------------------------------------------------------------------------------------------------\n",
      "Epoch: 44, Learning Rate: 0.0005\n",
      "\n"
     ]
    },
    {
     "data": {
      "application/vnd.jupyter.widget-view+json": {
       "model_id": "a574001e3ad04e98b77af7403fed0f25",
       "version_major": 2,
       "version_minor": 0
      },
      "text/plain": [
       "HBox(children=(FloatProgress(value=0.0, max=132.0), HTML(value='')))"
      ]
     },
     "metadata": {},
     "output_type": "display_data"
    },
    {
     "name": "stdout",
     "output_type": "stream",
     "text": [
      "\n",
      "tensor(2.4906e-07, device='cuda:3')\n",
      "tensor(2.4538e-07, device='cuda:3')\n",
      "tensor(9.7606e-05, device='cuda:3')\n",
      "tensor(9.7606e-05, device='cuda:3')\n",
      "tensor(5.2071e-07, device='cuda:3')\n",
      "tensor(2.1258e-08, device='cuda:3')\n",
      "tensor(1.2866e-05, device='cuda:3')\n",
      "tensor(1.2866e-05, device='cuda:3')\n",
      "tensor(-1.7564e-08, device='cuda:3')\n",
      "tensor(-1.7425e-07, device='cuda:3')\n",
      "tensor(-6.5761e-06, device='cuda:3')\n",
      "tensor(-6.5761e-06, device='cuda:3')\n",
      "tensor(-6.4186e-09, device='cuda:3')\n",
      "tensor(0., device='cuda:3')\n",
      "tensor(-2.6630e-06, device='cuda:3')\n",
      "tensor(-2.6630e-06, device='cuda:3')\n",
      "tensor(1.4127e-06, device='cuda:3')\n",
      "tensor(5.7238e-05, device='cuda:3')\n",
      "tensor(4.4462e-09, device='cuda:3')\n",
      "tensor(2.6609e-09, device='cuda:3')\n"
     ]
    },
    {
     "data": {
      "application/vnd.jupyter.widget-view+json": {
       "model_id": "ca963b63c037449b855c3cf7045f91a7",
       "version_major": 2,
       "version_minor": 0
      },
      "text/plain": [
       "HBox(children=(FloatProgress(value=0.0, max=17.0), HTML(value='')))"
      ]
     },
     "metadata": {},
     "output_type": "display_data"
    },
    {
     "name": "stdout",
     "output_type": "stream",
     "text": [
      "\n",
      "epoch time: 25.992782831192017\n",
      "loss train: 0.23138537336931084, loss val: 0.2589679579524433\n",
      "accuracy train: 0.8826190476190476, accuracy val: 0.8709523809523809\n",
      "---------------------------------------------------------------------------------------------------\n",
      "Epoch: 45, Learning Rate: 0.0005\n",
      "\n"
     ]
    },
    {
     "data": {
      "application/vnd.jupyter.widget-view+json": {
       "model_id": "50f3aa0d8f8f4c38b9b95bc1fbf8812c",
       "version_major": 2,
       "version_minor": 0
      },
      "text/plain": [
       "HBox(children=(FloatProgress(value=0.0, max=132.0), HTML(value='')))"
      ]
     },
     "metadata": {},
     "output_type": "display_data"
    },
    {
     "name": "stdout",
     "output_type": "stream",
     "text": [
      "\n",
      "tensor(-2.3800e-05, device='cuda:3')\n",
      "tensor(4.1425e-06, device='cuda:3')\n",
      "tensor(0.0017, device='cuda:3')\n",
      "tensor(0.0017, device='cuda:3')\n",
      "tensor(9.7978e-07, device='cuda:3')\n",
      "tensor(1.4654e-07, device='cuda:3')\n",
      "tensor(6.9510e-06, device='cuda:3')\n",
      "tensor(6.9510e-06, device='cuda:3')\n",
      "tensor(-4.3296e-08, device='cuda:3')\n",
      "tensor(2.1316e-07, device='cuda:3')\n",
      "tensor(2.4810e-05, device='cuda:3')\n",
      "tensor(2.4810e-05, device='cuda:3')\n",
      "tensor(2.9181e-08, device='cuda:3')\n",
      "tensor(0., device='cuda:3')\n",
      "tensor(-9.4776e-06, device='cuda:3')\n",
      "tensor(-9.4776e-06, device='cuda:3')\n",
      "tensor(3.8293e-06, device='cuda:3')\n",
      "tensor(0.0002, device='cuda:3')\n",
      "tensor(3.9194e-09, device='cuda:3')\n",
      "tensor(2.3061e-09, device='cuda:3')\n"
     ]
    },
    {
     "data": {
      "application/vnd.jupyter.widget-view+json": {
       "model_id": "a8366e6fbf8045b1b2e46705d14607a5",
       "version_major": 2,
       "version_minor": 0
      },
      "text/plain": [
       "HBox(children=(FloatProgress(value=0.0, max=17.0), HTML(value='')))"
      ]
     },
     "metadata": {},
     "output_type": "display_data"
    },
    {
     "name": "stdout",
     "output_type": "stream",
     "text": [
      "\n",
      "epoch time: 26.08999228477478\n",
      "loss train: 0.2160036742235675, loss val: 0.27261702804004445\n",
      "accuracy train: 0.895, accuracy val: 0.8804761904761905\n",
      "---------------------------------------------------------------------------------------------------\n",
      "Epoch: 46, Learning Rate: 0.0005\n",
      "\n"
     ]
    },
    {
     "data": {
      "application/vnd.jupyter.widget-view+json": {
       "model_id": "2e47be6fe6d04af8800e033a81d4cabf",
       "version_major": 2,
       "version_minor": 0
      },
      "text/plain": [
       "HBox(children=(FloatProgress(value=0.0, max=132.0), HTML(value='')))"
      ]
     },
     "metadata": {},
     "output_type": "display_data"
    },
    {
     "name": "stdout",
     "output_type": "stream",
     "text": [
      "\n",
      "tensor(-6.4473e-05, device='cuda:3')\n",
      "tensor(2.5234e-05, device='cuda:3')\n",
      "tensor(0.0047, device='cuda:3')\n",
      "tensor(0.0047, device='cuda:3')\n",
      "tensor(2.8446e-06, device='cuda:3')\n",
      "tensor(-1.1805e-07, device='cuda:3')\n",
      "tensor(-9.7779e-05, device='cuda:3')\n",
      "tensor(-9.7779e-05, device='cuda:3')\n",
      "tensor(1.4157e-07, device='cuda:3')\n",
      "tensor(5.0939e-07, device='cuda:3')\n",
      "tensor(2.2345e-05, device='cuda:3')\n",
      "tensor(2.2345e-05, device='cuda:3')\n",
      "tensor(-3.3266e-07, device='cuda:3')\n",
      "tensor(0., device='cuda:3')\n",
      "tensor(-3.7291e-05, device='cuda:3')\n",
      "tensor(-3.7291e-05, device='cuda:3')\n",
      "tensor(3.8365e-06, device='cuda:3')\n",
      "tensor(0.0001, device='cuda:3')\n",
      "tensor(4.8977e-09, device='cuda:3')\n",
      "tensor(4.6123e-09, device='cuda:3')\n"
     ]
    },
    {
     "data": {
      "application/vnd.jupyter.widget-view+json": {
       "model_id": "a78c4235104e423996fe8d62e06c0908",
       "version_major": 2,
       "version_minor": 0
      },
      "text/plain": [
       "HBox(children=(FloatProgress(value=0.0, max=17.0), HTML(value='')))"
      ]
     },
     "metadata": {},
     "output_type": "display_data"
    },
    {
     "name": "stdout",
     "output_type": "stream",
     "text": [
      "\n",
      "epoch time: 26.301766633987427\n",
      "loss train: 0.23068685112803272, loss val: 0.26672135293483734\n",
      "accuracy train: 0.886547619047619, accuracy val: 0.8757142857142857\n",
      "---------------------------------------------------------------------------------------------------\n",
      "Epoch: 47, Learning Rate: 0.0005\n",
      "\n"
     ]
    },
    {
     "data": {
      "application/vnd.jupyter.widget-view+json": {
       "model_id": "32d3cd54d659474a82911b9839f2b69a",
       "version_major": 2,
       "version_minor": 0
      },
      "text/plain": [
       "HBox(children=(FloatProgress(value=0.0, max=132.0), HTML(value='')))"
      ]
     },
     "metadata": {},
     "output_type": "display_data"
    },
    {
     "name": "stdout",
     "output_type": "stream",
     "text": [
      "\n",
      "tensor(2.1163e-05, device='cuda:3')\n",
      "tensor(3.3928e-06, device='cuda:3')\n",
      "tensor(-0.0003, device='cuda:3')\n",
      "tensor(-0.0003, device='cuda:3')\n",
      "tensor(2.1512e-07, device='cuda:3')\n",
      "tensor(1.0232e-07, device='cuda:3')\n",
      "tensor(5.6351e-05, device='cuda:3')\n",
      "tensor(5.6351e-05, device='cuda:3')\n",
      "tensor(1.9496e-07, device='cuda:3')\n",
      "tensor(1.9375e-06, device='cuda:3')\n",
      "tensor(5.8889e-05, device='cuda:3')\n",
      "tensor(5.8889e-05, device='cuda:3')\n",
      "tensor(-2.7595e-07, device='cuda:3')\n",
      "tensor(0., device='cuda:3')\n",
      "tensor(-1.3748e-05, device='cuda:3')\n",
      "tensor(-1.3748e-05, device='cuda:3')\n",
      "tensor(-1.0693e-05, device='cuda:3')\n",
      "tensor(-0.0005, device='cuda:3')\n",
      "tensor(9.9985e-09, device='cuda:3')\n",
      "tensor(7.8054e-09, device='cuda:3')\n"
     ]
    },
    {
     "data": {
      "application/vnd.jupyter.widget-view+json": {
       "model_id": "54b6048230624865a1ebfb65e6f2c15a",
       "version_major": 2,
       "version_minor": 0
      },
      "text/plain": [
       "HBox(children=(FloatProgress(value=0.0, max=17.0), HTML(value='')))"
      ]
     },
     "metadata": {},
     "output_type": "display_data"
    },
    {
     "name": "stdout",
     "output_type": "stream",
     "text": [
      "\n",
      "epoch time: 26.302023887634277\n",
      "loss train: 0.23463727364485915, loss val: 0.2475890990565805\n",
      "accuracy train: 0.8845238095238095, accuracy val: 0.8833333333333333\n",
      "---------------------------------------------------------------------------------------------------\n",
      "Epoch: 48, Learning Rate: 0.0005\n",
      "\n"
     ]
    },
    {
     "data": {
      "application/vnd.jupyter.widget-view+json": {
       "model_id": "f9d5331d3fcd41d6a5f452bc4b672b2d",
       "version_major": 2,
       "version_minor": 0
      },
      "text/plain": [
       "HBox(children=(FloatProgress(value=0.0, max=132.0), HTML(value='')))"
      ]
     },
     "metadata": {},
     "output_type": "display_data"
    },
    {
     "name": "stdout",
     "output_type": "stream",
     "text": [
      "\n",
      "tensor(-2.2897e-05, device='cuda:3')\n",
      "tensor(-3.9968e-06, device='cuda:3')\n",
      "tensor(-0.0008, device='cuda:3')\n",
      "tensor(-0.0008, device='cuda:3')\n",
      "tensor(-2.3843e-07, device='cuda:3')\n",
      "tensor(-1.4111e-07, device='cuda:3')\n",
      "tensor(-4.6207e-05, device='cuda:3')\n",
      "tensor(-4.6207e-05, device='cuda:3')\n",
      "tensor(2.8265e-08, device='cuda:3')\n",
      "tensor(-2.3433e-06, device='cuda:3')\n",
      "tensor(-0.0001, device='cuda:3')\n",
      "tensor(-0.0001, device='cuda:3')\n",
      "tensor(-1.3866e-07, device='cuda:3')\n",
      "tensor(0., device='cuda:3')\n",
      "tensor(-2.5576e-05, device='cuda:3')\n",
      "tensor(-2.5576e-05, device='cuda:3')\n",
      "tensor(-1.6750e-06, device='cuda:3')\n",
      "tensor(-0.0001, device='cuda:3')\n",
      "tensor(-2.7753e-09, device='cuda:3')\n",
      "tensor(-1.5966e-09, device='cuda:3')\n"
     ]
    },
    {
     "data": {
      "application/vnd.jupyter.widget-view+json": {
       "model_id": "feba2772d6ed4181abfc48740aa0d5b5",
       "version_major": 2,
       "version_minor": 0
      },
      "text/plain": [
       "HBox(children=(FloatProgress(value=0.0, max=17.0), HTML(value='')))"
      ]
     },
     "metadata": {},
     "output_type": "display_data"
    },
    {
     "name": "stdout",
     "output_type": "stream",
     "text": [
      "\n",
      "epoch time: 25.547516345977783\n",
      "loss train: 0.2105571019435019, loss val: 0.23367665620411143\n",
      "accuracy train: 0.8990476190476191, accuracy val: 0.8795238095238095\n",
      "---------------------------------------------------------------------------------------------------\n",
      "Epoch: 49, Learning Rate: 0.0005\n",
      "\n"
     ]
    },
    {
     "data": {
      "application/vnd.jupyter.widget-view+json": {
       "model_id": "08d85d6cfc6044efa366688b33e67d06",
       "version_major": 2,
       "version_minor": 0
      },
      "text/plain": [
       "HBox(children=(FloatProgress(value=0.0, max=132.0), HTML(value='')))"
      ]
     },
     "metadata": {},
     "output_type": "display_data"
    },
    {
     "name": "stdout",
     "output_type": "stream",
     "text": [
      "\n",
      "tensor(0.0002, device='cuda:3')\n",
      "tensor(4.0512e-06, device='cuda:3')\n",
      "tensor(-0.0025, device='cuda:3')\n",
      "tensor(-0.0025, device='cuda:3')\n",
      "tensor(4.0121e-06, device='cuda:3')\n",
      "tensor(-4.9350e-07, device='cuda:3')\n",
      "tensor(-8.3357e-05, device='cuda:3')\n",
      "tensor(-8.3357e-05, device='cuda:3')\n",
      "tensor(-4.8128e-07, device='cuda:3')\n",
      "tensor(-2.5802e-06, device='cuda:3')\n",
      "tensor(-9.8962e-05, device='cuda:3')\n",
      "tensor(-9.8962e-05, device='cuda:3')\n",
      "tensor(-2.5216e-07, device='cuda:3')\n",
      "tensor(0., device='cuda:3')\n",
      "tensor(9.4974e-05, device='cuda:3')\n",
      "tensor(9.4974e-05, device='cuda:3')\n",
      "tensor(1.3091e-05, device='cuda:3')\n",
      "tensor(0.0006, device='cuda:3')\n",
      "tensor(1.9919e-10, device='cuda:3')\n",
      "tensor(1.9513e-09, device='cuda:3')\n"
     ]
    },
    {
     "data": {
      "application/vnd.jupyter.widget-view+json": {
       "model_id": "1a0b0d463ff24722a2234f1e112a816e",
       "version_major": 2,
       "version_minor": 0
      },
      "text/plain": [
       "HBox(children=(FloatProgress(value=0.0, max=17.0), HTML(value='')))"
      ]
     },
     "metadata": {},
     "output_type": "display_data"
    },
    {
     "name": "stdout",
     "output_type": "stream",
     "text": [
      "\n",
      "epoch time: 25.182438611984253\n",
      "loss train: 0.21649307077468344, loss val: 0.28415719288236957\n",
      "accuracy train: 0.8942857142857142, accuracy val: 0.8585714285714285\n",
      "---------------------------------------------------------------------------------------------------\n",
      "Epoch: 50, Learning Rate: 0.0005\n",
      "\n"
     ]
    },
    {
     "data": {
      "application/vnd.jupyter.widget-view+json": {
       "model_id": "3b3463377f37471a8298a599c15c3a8a",
       "version_major": 2,
       "version_minor": 0
      },
      "text/plain": [
       "HBox(children=(FloatProgress(value=0.0, max=132.0), HTML(value='')))"
      ]
     },
     "metadata": {},
     "output_type": "display_data"
    },
    {
     "name": "stdout",
     "output_type": "stream",
     "text": [
      "\n",
      "tensor(6.7818e-05, device='cuda:3')\n",
      "tensor(-5.1179e-06, device='cuda:3')\n",
      "tensor(-0.0035, device='cuda:3')\n",
      "tensor(-0.0035, device='cuda:3')\n",
      "tensor(7.8059e-06, device='cuda:3')\n",
      "tensor(-1.0565e-06, device='cuda:3')\n",
      "tensor(-0.0002, device='cuda:3')\n",
      "tensor(-0.0002, device='cuda:3')\n",
      "tensor(7.8418e-07, device='cuda:3')\n",
      "tensor(-6.4235e-07, device='cuda:3')\n",
      "tensor(0.0001, device='cuda:3')\n",
      "tensor(0.0001, device='cuda:3')\n",
      "tensor(-1.7793e-07, device='cuda:3')\n",
      "tensor(0., device='cuda:3')\n",
      "tensor(1.3580e-05, device='cuda:3')\n",
      "tensor(1.3580e-05, device='cuda:3')\n",
      "tensor(5.2851e-06, device='cuda:3')\n",
      "tensor(0.0003, device='cuda:3')\n",
      "tensor(3.1347e-09, device='cuda:3')\n",
      "tensor(2.4835e-09, device='cuda:3')\n"
     ]
    },
    {
     "data": {
      "application/vnd.jupyter.widget-view+json": {
       "model_id": "529f57c04ea143c595fe1f103340b68d",
       "version_major": 2,
       "version_minor": 0
      },
      "text/plain": [
       "HBox(children=(FloatProgress(value=0.0, max=17.0), HTML(value='')))"
      ]
     },
     "metadata": {},
     "output_type": "display_data"
    },
    {
     "name": "stdout",
     "output_type": "stream",
     "text": [
      "\n",
      "epoch time: 26.116220951080322\n",
      "loss train: 0.20912707405108394, loss val: 0.2621414319557302\n",
      "accuracy train: 0.8972619047619048, accuracy val: 0.8742857142857143\n",
      "---------------------------------------------------------------------------------------------------\n",
      "Epoch: 51, Learning Rate: 0.0005\n",
      "\n"
     ]
    },
    {
     "data": {
      "application/vnd.jupyter.widget-view+json": {
       "model_id": "ca974de5aad4497f80fb194745e282ee",
       "version_major": 2,
       "version_minor": 0
      },
      "text/plain": [
       "HBox(children=(FloatProgress(value=0.0, max=132.0), HTML(value='')))"
      ]
     },
     "metadata": {},
     "output_type": "display_data"
    },
    {
     "name": "stdout",
     "output_type": "stream",
     "text": [
      "\n",
      "tensor(-8.7344e-08, device='cuda:3')\n",
      "tensor(-5.9198e-08, device='cuda:3')\n",
      "tensor(-5.3247e-07, device='cuda:3')\n",
      "tensor(-5.3247e-07, device='cuda:3')\n",
      "tensor(-4.1889e-08, device='cuda:3')\n",
      "tensor(3.7815e-10, device='cuda:3')\n",
      "tensor(-1.7617e-07, device='cuda:3')\n",
      "tensor(-1.7617e-07, device='cuda:3')\n",
      "tensor(-8.1064e-09, device='cuda:3')\n",
      "tensor(-6.5633e-09, device='cuda:3')\n",
      "tensor(-2.1235e-07, device='cuda:3')\n",
      "tensor(-2.1235e-07, device='cuda:3')\n",
      "tensor(1.0891e-09, device='cuda:3')\n",
      "tensor(0., device='cuda:3')\n",
      "tensor(-6.6373e-08, device='cuda:3')\n",
      "tensor(-6.6373e-08, device='cuda:3')\n",
      "tensor(4.1585e-09, device='cuda:3')\n",
      "tensor(-2.8716e-07, device='cuda:3')\n",
      "tensor(3.7379e-09, device='cuda:3')\n",
      "tensor(3.1761e-09, device='cuda:3')\n"
     ]
    },
    {
     "data": {
      "application/vnd.jupyter.widget-view+json": {
       "model_id": "d03ddcbb79b34d1ba549e2e479bed0e5",
       "version_major": 2,
       "version_minor": 0
      },
      "text/plain": [
       "HBox(children=(FloatProgress(value=0.0, max=17.0), HTML(value='')))"
      ]
     },
     "metadata": {},
     "output_type": "display_data"
    },
    {
     "name": "stdout",
     "output_type": "stream",
     "text": [
      "\n",
      "epoch time: 25.809765100479126\n",
      "loss train: 0.19804572951838825, loss val: 0.2449798592749764\n",
      "accuracy train: 0.900952380952381, accuracy val: 0.8776190476190476\n",
      "---------------------------------------------------------------------------------------------------\n",
      "Epoch: 52, Learning Rate: 0.0005\n",
      "\n"
     ]
    },
    {
     "data": {
      "application/vnd.jupyter.widget-view+json": {
       "model_id": "8cea23976b9b4ca2a7f6c16a85d5d2e4",
       "version_major": 2,
       "version_minor": 0
      },
      "text/plain": [
       "HBox(children=(FloatProgress(value=0.0, max=132.0), HTML(value='')))"
      ]
     },
     "metadata": {},
     "output_type": "display_data"
    },
    {
     "name": "stdout",
     "output_type": "stream",
     "text": [
      "\n",
      "tensor(-1.3695e-05, device='cuda:3')\n",
      "tensor(-1.1545e-06, device='cuda:3')\n",
      "tensor(0.0021, device='cuda:3')\n",
      "tensor(0.0021, device='cuda:3')\n",
      "tensor(-3.5540e-07, device='cuda:3')\n",
      "tensor(4.8297e-08, device='cuda:3')\n",
      "tensor(2.1872e-05, device='cuda:3')\n",
      "tensor(2.1872e-05, device='cuda:3')\n",
      "tensor(9.1517e-08, device='cuda:3')\n",
      "tensor(-1.9433e-07, device='cuda:3')\n",
      "tensor(5.8726e-07, device='cuda:3')\n",
      "tensor(5.8726e-07, device='cuda:3')\n",
      "tensor(-1.4281e-07, device='cuda:3')\n",
      "tensor(0., device='cuda:3')\n",
      "tensor(-3.1804e-05, device='cuda:3')\n",
      "tensor(-3.1804e-05, device='cuda:3')\n",
      "tensor(-5.7133e-06, device='cuda:3')\n",
      "tensor(-0.0003, device='cuda:3')\n",
      "tensor(2.1625e-09, device='cuda:3')\n",
      "tensor(1.9513e-09, device='cuda:3')\n"
     ]
    },
    {
     "data": {
      "application/vnd.jupyter.widget-view+json": {
       "model_id": "939655e7840c4ebe94283462ac98fad5",
       "version_major": 2,
       "version_minor": 0
      },
      "text/plain": [
       "HBox(children=(FloatProgress(value=0.0, max=17.0), HTML(value='')))"
      ]
     },
     "metadata": {},
     "output_type": "display_data"
    },
    {
     "name": "stdout",
     "output_type": "stream",
     "text": [
      "\n",
      "epoch time: 26.20205807685852\n",
      "loss train: 0.22724858784314358, loss val: 0.24744790091234095\n",
      "accuracy train: 0.893452380952381, accuracy val: 0.8776190476190476\n",
      "---------------------------------------------------------------------------------------------------\n",
      "Epoch: 53, Learning Rate: 0.0005\n",
      "\n"
     ]
    },
    {
     "data": {
      "application/vnd.jupyter.widget-view+json": {
       "model_id": "6e9574a3fa37425b837dca35bcdc923a",
       "version_major": 2,
       "version_minor": 0
      },
      "text/plain": [
       "HBox(children=(FloatProgress(value=0.0, max=132.0), HTML(value='')))"
      ]
     },
     "metadata": {},
     "output_type": "display_data"
    },
    {
     "name": "stdout",
     "output_type": "stream",
     "text": [
      "\n",
      "tensor(5.2194e-05, device='cuda:3')\n",
      "tensor(2.2422e-06, device='cuda:3')\n",
      "tensor(-0.0021, device='cuda:3')\n",
      "tensor(-0.0021, device='cuda:3')\n",
      "tensor(-8.3497e-07, device='cuda:3')\n",
      "tensor(9.8034e-08, device='cuda:3')\n",
      "tensor(1.2799e-05, device='cuda:3')\n",
      "tensor(1.2799e-05, device='cuda:3')\n",
      "tensor(-7.0419e-08, device='cuda:3')\n",
      "tensor(-3.2179e-06, device='cuda:3')\n",
      "tensor(-0.0002, device='cuda:3')\n",
      "tensor(-0.0002, device='cuda:3')\n",
      "tensor(-2.3300e-08, device='cuda:3')\n",
      "tensor(0., device='cuda:3')\n",
      "tensor(-8.1992e-06, device='cuda:3')\n",
      "tensor(-8.1992e-06, device='cuda:3')\n",
      "tensor(4.6824e-06, device='cuda:3')\n",
      "tensor(0.0003, device='cuda:3')\n",
      "tensor(3.4274e-09, device='cuda:3')\n",
      "tensor(1.7739e-09, device='cuda:3')\n"
     ]
    },
    {
     "data": {
      "application/vnd.jupyter.widget-view+json": {
       "model_id": "4d015f29542b4386964087053c460b71",
       "version_major": 2,
       "version_minor": 0
      },
      "text/plain": [
       "HBox(children=(FloatProgress(value=0.0, max=17.0), HTML(value='')))"
      ]
     },
     "metadata": {},
     "output_type": "display_data"
    },
    {
     "name": "stdout",
     "output_type": "stream",
     "text": [
      "\n",
      "epoch time: 25.49452519416809\n",
      "loss train: 0.1906495661277211, loss val: 0.2610726023421568\n",
      "accuracy train: 0.9022619047619047, accuracy val: 0.8847619047619047\n",
      "---------------------------------------------------------------------------------------------------\n",
      "Epoch: 54, Learning Rate: 0.0005\n",
      "\n"
     ]
    },
    {
     "data": {
      "application/vnd.jupyter.widget-view+json": {
       "model_id": "d2bc3a6030df40aa9cc843ab0187c2c0",
       "version_major": 2,
       "version_minor": 0
      },
      "text/plain": [
       "HBox(children=(FloatProgress(value=0.0, max=132.0), HTML(value='')))"
      ]
     },
     "metadata": {},
     "output_type": "display_data"
    },
    {
     "name": "stdout",
     "output_type": "stream",
     "text": [
      "\n",
      "tensor(6.9077e-05, device='cuda:3')\n",
      "tensor(1.2517e-05, device='cuda:3')\n",
      "tensor(-0.0040, device='cuda:3')\n",
      "tensor(-0.0040, device='cuda:3')\n",
      "tensor(-3.0536e-06, device='cuda:3')\n",
      "tensor(1.5740e-06, device='cuda:3')\n",
      "tensor(0.0002, device='cuda:3')\n",
      "tensor(0.0002, device='cuda:3')\n",
      "tensor(6.6172e-07, device='cuda:3')\n",
      "tensor(2.2243e-06, device='cuda:3')\n",
      "tensor(8.4261e-05, device='cuda:3')\n",
      "tensor(8.4261e-05, device='cuda:3')\n",
      "tensor(-2.0171e-07, device='cuda:3')\n",
      "tensor(0., device='cuda:3')\n",
      "tensor(-1.6653e-05, device='cuda:3')\n",
      "tensor(-1.6653e-05, device='cuda:3')\n",
      "tensor(-8.9837e-06, device='cuda:3')\n",
      "tensor(-0.0005, device='cuda:3')\n",
      "tensor(-8.2810e-10, device='cuda:3')\n",
      "tensor(-7.0958e-10, device='cuda:3')\n"
     ]
    },
    {
     "data": {
      "application/vnd.jupyter.widget-view+json": {
       "model_id": "3e3077305c1440eda97808ba2f582fcb",
       "version_major": 2,
       "version_minor": 0
      },
      "text/plain": [
       "HBox(children=(FloatProgress(value=0.0, max=17.0), HTML(value='')))"
      ]
     },
     "metadata": {},
     "output_type": "display_data"
    },
    {
     "name": "stdout",
     "output_type": "stream",
     "text": [
      "\n",
      "epoch time: 25.90138268470764\n",
      "loss train: 0.1901833081166401, loss val: 0.27665593343622547\n",
      "accuracy train: 0.9046428571428572, accuracy val: 0.8819047619047619\n",
      "---------------------------------------------------------------------------------------------------\n",
      "Epoch: 55, Learning Rate: 0.0005\n",
      "\n"
     ]
    },
    {
     "data": {
      "application/vnd.jupyter.widget-view+json": {
       "model_id": "cf111f4a4d3d4215a4dcd98adbf5903e",
       "version_major": 2,
       "version_minor": 0
      },
      "text/plain": [
       "HBox(children=(FloatProgress(value=0.0, max=132.0), HTML(value='')))"
      ]
     },
     "metadata": {},
     "output_type": "display_data"
    },
    {
     "name": "stdout",
     "output_type": "stream",
     "text": [
      "\n",
      "tensor(-1.1816e-05, device='cuda:3')\n",
      "tensor(-1.2252e-06, device='cuda:3')\n",
      "tensor(-8.2045e-05, device='cuda:3')\n",
      "tensor(-8.2045e-05, device='cuda:3')\n",
      "tensor(1.3198e-06, device='cuda:3')\n",
      "tensor(7.7042e-07, device='cuda:3')\n",
      "tensor(0.0001, device='cuda:3')\n",
      "tensor(0.0001, device='cuda:3')\n",
      "tensor(-3.8187e-07, device='cuda:3')\n",
      "tensor(-8.5739e-07, device='cuda:3')\n",
      "tensor(-7.1227e-05, device='cuda:3')\n",
      "tensor(-7.1227e-05, device='cuda:3')\n",
      "tensor(-5.5015e-08, device='cuda:3')\n",
      "tensor(0., device='cuda:3')\n",
      "tensor(-1.8274e-05, device='cuda:3')\n",
      "tensor(-1.8274e-05, device='cuda:3')\n",
      "tensor(7.5710e-07, device='cuda:3')\n",
      "tensor(1.0192e-05, device='cuda:3')\n",
      "tensor(-1.6163e-09, device='cuda:3')\n",
      "tensor(0., device='cuda:3')\n"
     ]
    },
    {
     "data": {
      "application/vnd.jupyter.widget-view+json": {
       "model_id": "d8558e8ceb9445028b41bdbfa8137a21",
       "version_major": 2,
       "version_minor": 0
      },
      "text/plain": [
       "HBox(children=(FloatProgress(value=0.0, max=17.0), HTML(value='')))"
      ]
     },
     "metadata": {},
     "output_type": "display_data"
    },
    {
     "name": "stdout",
     "output_type": "stream",
     "text": [
      "\n",
      "epoch time: 25.859132528305054\n",
      "loss train: 0.18521605844073225, loss val: 0.25502553100095077\n",
      "accuracy train: 0.9075, accuracy val: 0.8804761904761905\n",
      "---------------------------------------------------------------------------------------------------\n",
      "Epoch: 56, Learning Rate: 0.0005\n",
      "\n"
     ]
    },
    {
     "data": {
      "application/vnd.jupyter.widget-view+json": {
       "model_id": "df66d2bc622e42388637bdd0024b2f01",
       "version_major": 2,
       "version_minor": 0
      },
      "text/plain": [
       "HBox(children=(FloatProgress(value=0.0, max=132.0), HTML(value='')))"
      ]
     },
     "metadata": {},
     "output_type": "display_data"
    },
    {
     "name": "stdout",
     "output_type": "stream",
     "text": [
      "\n",
      "tensor(3.5347e-05, device='cuda:3')\n",
      "tensor(-6.0870e-06, device='cuda:3')\n",
      "tensor(-0.0020, device='cuda:3')\n",
      "tensor(-0.0020, device='cuda:3')\n",
      "tensor(2.8741e-06, device='cuda:3')\n",
      "tensor(-6.4229e-07, device='cuda:3')\n",
      "tensor(-0.0001, device='cuda:3')\n",
      "tensor(-0.0001, device='cuda:3')\n",
      "tensor(4.6394e-07, device='cuda:3')\n",
      "tensor(-1.9543e-06, device='cuda:3')\n",
      "tensor(-5.1789e-05, device='cuda:3')\n",
      "tensor(-5.1789e-05, device='cuda:3')\n",
      "tensor(7.4926e-07, device='cuda:3')\n",
      "tensor(0., device='cuda:3')\n",
      "tensor(9.6846e-05, device='cuda:3')\n",
      "tensor(9.6846e-05, device='cuda:3')\n",
      "tensor(1.3946e-05, device='cuda:3')\n",
      "tensor(0.0010, device='cuda:3')\n",
      "tensor(-2.7758e-09, device='cuda:3')\n",
      "tensor(-3.9027e-09, device='cuda:3')\n"
     ]
    },
    {
     "data": {
      "application/vnd.jupyter.widget-view+json": {
       "model_id": "d7eb23b8941c4e06b71c6bde170f992f",
       "version_major": 2,
       "version_minor": 0
      },
      "text/plain": [
       "HBox(children=(FloatProgress(value=0.0, max=17.0), HTML(value='')))"
      ]
     },
     "metadata": {},
     "output_type": "display_data"
    },
    {
     "name": "stdout",
     "output_type": "stream",
     "text": [
      "\n",
      "epoch time: 26.163437843322754\n",
      "loss train: 0.19807824808539767, loss val: 0.24416978832553415\n",
      "accuracy train: 0.9001190476190476, accuracy val: 0.8895238095238095\n",
      "---------------------------------------------------------------------------------------------------\n",
      "Epoch: 57, Learning Rate: 0.0005\n",
      "\n"
     ]
    },
    {
     "data": {
      "application/vnd.jupyter.widget-view+json": {
       "model_id": "e608416eda2b4df3b4d7c242e892fb89",
       "version_major": 2,
       "version_minor": 0
      },
      "text/plain": [
       "HBox(children=(FloatProgress(value=0.0, max=132.0), HTML(value='')))"
      ]
     },
     "metadata": {},
     "output_type": "display_data"
    },
    {
     "name": "stdout",
     "output_type": "stream",
     "text": [
      "\n",
      "tensor(6.4519e-05, device='cuda:3')\n",
      "tensor(6.8434e-05, device='cuda:3')\n",
      "tensor(0.0191, device='cuda:3')\n",
      "tensor(0.0191, device='cuda:3')\n",
      "tensor(-4.7120e-06, device='cuda:3')\n",
      "tensor(1.8156e-06, device='cuda:3')\n",
      "tensor(0.0002, device='cuda:3')\n",
      "tensor(0.0002, device='cuda:3')\n",
      "tensor(4.0902e-06, device='cuda:3')\n",
      "tensor(2.6496e-05, device='cuda:3')\n",
      "tensor(0.0008, device='cuda:3')\n",
      "tensor(0.0008, device='cuda:3')\n",
      "tensor(3.3159e-06, device='cuda:3')\n",
      "tensor(0., device='cuda:3')\n",
      "tensor(0.0002, device='cuda:3')\n",
      "tensor(0.0002, device='cuda:3')\n",
      "tensor(6.6573e-05, device='cuda:3')\n",
      "tensor(0.0015, device='cuda:3')\n",
      "tensor(4.5857e-10, device='cuda:3')\n",
      "tensor(1.0644e-09, device='cuda:3')\n"
     ]
    },
    {
     "data": {
      "application/vnd.jupyter.widget-view+json": {
       "model_id": "cc7f0c6b399147cabb1f1274cc538f56",
       "version_major": 2,
       "version_minor": 0
      },
      "text/plain": [
       "HBox(children=(FloatProgress(value=0.0, max=17.0), HTML(value='')))"
      ]
     },
     "metadata": {},
     "output_type": "display_data"
    },
    {
     "name": "stdout",
     "output_type": "stream",
     "text": [
      "\n",
      "epoch time: 26.337562084197998\n",
      "loss train: 0.20805187994670687, loss val: 0.2384671323439654\n",
      "accuracy train: 0.8988095238095238, accuracy val: 0.8866666666666667\n",
      "---------------------------------------------------------------------------------------------------\n",
      "Epoch: 58, Learning Rate: 0.0005\n",
      "\n"
     ]
    },
    {
     "data": {
      "application/vnd.jupyter.widget-view+json": {
       "model_id": "c780042d12fe400f8d46f0e9a13c3f88",
       "version_major": 2,
       "version_minor": 0
      },
      "text/plain": [
       "HBox(children=(FloatProgress(value=0.0, max=132.0), HTML(value='')))"
      ]
     },
     "metadata": {},
     "output_type": "display_data"
    },
    {
     "name": "stdout",
     "output_type": "stream",
     "text": [
      "\n",
      "tensor(-0.0003, device='cuda:3')\n",
      "tensor(-1.8367e-05, device='cuda:3')\n",
      "tensor(0.0126, device='cuda:3')\n",
      "tensor(0.0126, device='cuda:3')\n",
      "tensor(-8.3817e-06, device='cuda:3')\n",
      "tensor(9.4607e-07, device='cuda:3')\n",
      "tensor(0.0002, device='cuda:3')\n",
      "tensor(0.0002, device='cuda:3')\n",
      "tensor(5.0218e-07, device='cuda:3')\n",
      "tensor(6.6535e-07, device='cuda:3')\n",
      "tensor(9.3328e-05, device='cuda:3')\n",
      "tensor(9.3328e-05, device='cuda:3')\n",
      "tensor(-2.1063e-07, device='cuda:3')\n",
      "tensor(0., device='cuda:3')\n",
      "tensor(-7.2230e-05, device='cuda:3')\n",
      "tensor(-7.2230e-05, device='cuda:3')\n",
      "tensor(2.0965e-07, device='cuda:3')\n",
      "tensor(7.9632e-06, device='cuda:3')\n",
      "tensor(-9.1781e-09, device='cuda:3')\n",
      "tensor(-4.7010e-09, device='cuda:3')\n"
     ]
    },
    {
     "data": {
      "application/vnd.jupyter.widget-view+json": {
       "model_id": "3d3e54de519d4a2d9e693eaa1f0df73e",
       "version_major": 2,
       "version_minor": 0
      },
      "text/plain": [
       "HBox(children=(FloatProgress(value=0.0, max=17.0), HTML(value='')))"
      ]
     },
     "metadata": {},
     "output_type": "display_data"
    },
    {
     "name": "stdout",
     "output_type": "stream",
     "text": [
      "\n",
      "epoch time: 24.820205688476562\n",
      "loss train: 0.17871976051140914, loss val: 0.24915586499606862\n",
      "accuracy train: 0.911547619047619, accuracy val: 0.8795238095238095\n",
      "---------------------------------------------------------------------------------------------------\n",
      "Epoch: 59, Learning Rate: 0.0005\n",
      "\n"
     ]
    },
    {
     "data": {
      "application/vnd.jupyter.widget-view+json": {
       "model_id": "4105bd1c959c4aaab35e26cc7df8efdc",
       "version_major": 2,
       "version_minor": 0
      },
      "text/plain": [
       "HBox(children=(FloatProgress(value=0.0, max=132.0), HTML(value='')))"
      ]
     },
     "metadata": {},
     "output_type": "display_data"
    },
    {
     "name": "stdout",
     "output_type": "stream",
     "text": [
      "\n",
      "tensor(4.9929e-05, device='cuda:3')\n",
      "tensor(-9.1898e-07, device='cuda:3')\n",
      "tensor(-0.0047, device='cuda:3')\n",
      "tensor(-0.0047, device='cuda:3')\n",
      "tensor(-3.0107e-06, device='cuda:3')\n",
      "tensor(5.7664e-08, device='cuda:3')\n",
      "tensor(8.4751e-05, device='cuda:3')\n",
      "tensor(8.4751e-05, device='cuda:3')\n",
      "tensor(-2.5926e-07, device='cuda:3')\n",
      "tensor(-3.2269e-06, device='cuda:3')\n",
      "tensor(-0.0001, device='cuda:3')\n",
      "tensor(-0.0001, device='cuda:3')\n",
      "tensor(7.4365e-09, device='cuda:3')\n",
      "tensor(0., device='cuda:3')\n",
      "tensor(2.7105e-05, device='cuda:3')\n",
      "tensor(2.7105e-05, device='cuda:3')\n",
      "tensor(-8.1071e-06, device='cuda:3')\n",
      "tensor(-0.0005, device='cuda:3')\n",
      "tensor(6.2444e-09, device='cuda:3')\n",
      "tensor(4.2575e-09, device='cuda:3')\n"
     ]
    },
    {
     "data": {
      "application/vnd.jupyter.widget-view+json": {
       "model_id": "a812ec43a0cb403f94a0ead6e1fdc449",
       "version_major": 2,
       "version_minor": 0
      },
      "text/plain": [
       "HBox(children=(FloatProgress(value=0.0, max=17.0), HTML(value='')))"
      ]
     },
     "metadata": {},
     "output_type": "display_data"
    },
    {
     "name": "stdout",
     "output_type": "stream",
     "text": [
      "\n",
      "epoch time: 24.639092445373535\n",
      "loss train: 0.18350660473559843, loss val: 0.2288968422833611\n",
      "accuracy train: 0.9082142857142858, accuracy val: 0.8909523809523809\n",
      "---------------------------------------------------------------------------------------------------\n",
      "Epoch: 60, Learning Rate: 0.00025\n",
      "\n"
     ]
    },
    {
     "data": {
      "application/vnd.jupyter.widget-view+json": {
       "model_id": "c3ebfe9dc07342658ac6e631fd6b2af3",
       "version_major": 2,
       "version_minor": 0
      },
      "text/plain": [
       "HBox(children=(FloatProgress(value=0.0, max=132.0), HTML(value='')))"
      ]
     },
     "metadata": {},
     "output_type": "display_data"
    },
    {
     "name": "stdout",
     "output_type": "stream",
     "text": [
      "\n",
      "tensor(1.0803e-05, device='cuda:3')\n",
      "tensor(-1.0716e-06, device='cuda:3')\n",
      "tensor(-0.0006, device='cuda:3')\n",
      "tensor(-0.0006, device='cuda:3')\n",
      "tensor(2.8713e-07, device='cuda:3')\n",
      "tensor(-3.6235e-08, device='cuda:3')\n",
      "tensor(-1.4443e-05, device='cuda:3')\n",
      "tensor(-1.4443e-05, device='cuda:3')\n",
      "tensor(-1.1857e-07, device='cuda:3')\n",
      "tensor(-2.3192e-07, device='cuda:3')\n",
      "tensor(-1.7053e-05, device='cuda:3')\n",
      "tensor(-1.7053e-05, device='cuda:3')\n",
      "tensor(1.3010e-08, device='cuda:3')\n",
      "tensor(0., device='cuda:3')\n",
      "tensor(-1.5141e-06, device='cuda:3')\n",
      "tensor(-1.5141e-06, device='cuda:3')\n",
      "tensor(4.6410e-07, device='cuda:3')\n",
      "tensor(3.1382e-05, device='cuda:3')\n",
      "tensor(-4.1855e-10, device='cuda:3')\n",
      "tensor(-3.9914e-10, device='cuda:3')\n"
     ]
    },
    {
     "data": {
      "application/vnd.jupyter.widget-view+json": {
       "model_id": "1e5ba75df54144fdad3ef8116ab33b71",
       "version_major": 2,
       "version_minor": 0
      },
      "text/plain": [
       "HBox(children=(FloatProgress(value=0.0, max=17.0), HTML(value='')))"
      ]
     },
     "metadata": {},
     "output_type": "display_data"
    },
    {
     "name": "stdout",
     "output_type": "stream",
     "text": [
      "\n",
      "epoch time: 24.9564847946167\n",
      "loss train: 0.16281282557456783, loss val: 0.21518095801858342\n",
      "accuracy train: 0.9177380952380952, accuracy val: 0.8928571428571429\n",
      "---------------------------------------------------------------------------------------------------\n",
      "Epoch: 61, Learning Rate: 0.00025\n",
      "\n"
     ]
    },
    {
     "data": {
      "application/vnd.jupyter.widget-view+json": {
       "model_id": "f7a33ad084db49f3af5fd948fba65600",
       "version_major": 2,
       "version_minor": 0
      },
      "text/plain": [
       "HBox(children=(FloatProgress(value=0.0, max=132.0), HTML(value='')))"
      ]
     },
     "metadata": {},
     "output_type": "display_data"
    },
    {
     "name": "stdout",
     "output_type": "stream",
     "text": [
      "\n",
      "tensor(-4.9013e-06, device='cuda:3')\n",
      "tensor(-6.6655e-07, device='cuda:3')\n",
      "tensor(-0.0001, device='cuda:3')\n",
      "tensor(-0.0001, device='cuda:3')\n",
      "tensor(-2.9114e-06, device='cuda:3')\n",
      "tensor(2.1514e-08, device='cuda:3')\n",
      "tensor(8.0639e-06, device='cuda:3')\n",
      "tensor(8.0639e-06, device='cuda:3')\n",
      "tensor(-7.8766e-08, device='cuda:3')\n",
      "tensor(-6.6243e-07, device='cuda:3')\n",
      "tensor(-4.4733e-05, device='cuda:3')\n",
      "tensor(-4.4733e-05, device='cuda:3')\n",
      "tensor(-9.0373e-09, device='cuda:3')\n",
      "tensor(0., device='cuda:3')\n",
      "tensor(1.3454e-06, device='cuda:3')\n",
      "tensor(1.3454e-06, device='cuda:3')\n",
      "tensor(-1.4383e-06, device='cuda:3')\n",
      "tensor(-0.0001, device='cuda:3')\n",
      "tensor(8.1053e-09, device='cuda:3')\n",
      "tensor(5.4992e-09, device='cuda:3')\n"
     ]
    },
    {
     "data": {
      "application/vnd.jupyter.widget-view+json": {
       "model_id": "258090be03434aa5ac6a156c7e508355",
       "version_major": 2,
       "version_minor": 0
      },
      "text/plain": [
       "HBox(children=(FloatProgress(value=0.0, max=17.0), HTML(value='')))"
      ]
     },
     "metadata": {},
     "output_type": "display_data"
    },
    {
     "name": "stdout",
     "output_type": "stream",
     "text": [
      "\n",
      "epoch time: 25.33044981956482\n",
      "loss train: 0.1571453610773791, loss val: 0.2150562782497967\n",
      "accuracy train: 0.9226190476190477, accuracy val: 0.89\n",
      "---------------------------------------------------------------------------------------------------\n",
      "Epoch: 62, Learning Rate: 0.00025\n",
      "\n"
     ]
    },
    {
     "data": {
      "application/vnd.jupyter.widget-view+json": {
       "model_id": "ed7e693461a54b0f921581fa1980734f",
       "version_major": 2,
       "version_minor": 0
      },
      "text/plain": [
       "HBox(children=(FloatProgress(value=0.0, max=132.0), HTML(value='')))"
      ]
     },
     "metadata": {},
     "output_type": "display_data"
    },
    {
     "name": "stdout",
     "output_type": "stream",
     "text": [
      "\n",
      "tensor(-5.8330e-05, device='cuda:3')\n",
      "tensor(-1.1376e-06, device='cuda:3')\n",
      "tensor(-0.0024, device='cuda:3')\n",
      "tensor(-0.0024, device='cuda:3')\n",
      "tensor(1.5102e-06, device='cuda:3')\n",
      "tensor(-3.5405e-08, device='cuda:3')\n",
      "tensor(8.4724e-06, device='cuda:3')\n",
      "tensor(8.4724e-06, device='cuda:3')\n",
      "tensor(5.4465e-10, device='cuda:3')\n",
      "tensor(1.7153e-06, device='cuda:3')\n",
      "tensor(7.7611e-05, device='cuda:3')\n",
      "tensor(7.7611e-05, device='cuda:3')\n",
      "tensor(-1.8903e-08, device='cuda:3')\n",
      "tensor(0., device='cuda:3')\n",
      "tensor(6.3724e-06, device='cuda:3')\n",
      "tensor(6.3724e-06, device='cuda:3')\n",
      "tensor(-5.2988e-06, device='cuda:3')\n",
      "tensor(-0.0003, device='cuda:3')\n",
      "tensor(6.5435e-09, device='cuda:3')\n",
      "tensor(5.6766e-09, device='cuda:3')\n"
     ]
    },
    {
     "data": {
      "application/vnd.jupyter.widget-view+json": {
       "model_id": "dd929d26473447cf8929e5f52eb5f069",
       "version_major": 2,
       "version_minor": 0
      },
      "text/plain": [
       "HBox(children=(FloatProgress(value=0.0, max=17.0), HTML(value='')))"
      ]
     },
     "metadata": {},
     "output_type": "display_data"
    },
    {
     "name": "stdout",
     "output_type": "stream",
     "text": [
      "\n",
      "epoch time: 24.926950931549072\n",
      "loss train: 0.15176098988476125, loss val: 0.22118976624572978\n",
      "accuracy train: 0.9222619047619047, accuracy val: 0.8961904761904762\n",
      "---------------------------------------------------------------------------------------------------\n",
      "Epoch: 63, Learning Rate: 0.00025\n",
      "\n"
     ]
    },
    {
     "data": {
      "application/vnd.jupyter.widget-view+json": {
       "model_id": "169dabac3b054b1f849af144b8bb4e66",
       "version_major": 2,
       "version_minor": 0
      },
      "text/plain": [
       "HBox(children=(FloatProgress(value=0.0, max=132.0), HTML(value='')))"
      ]
     },
     "metadata": {},
     "output_type": "display_data"
    },
    {
     "name": "stdout",
     "output_type": "stream",
     "text": [
      "\n",
      "tensor(0.0015, device='cuda:3')\n",
      "tensor(-3.7977e-05, device='cuda:3')\n",
      "tensor(-0.0474, device='cuda:3')\n",
      "tensor(-0.0474, device='cuda:3')\n",
      "tensor(0.0001, device='cuda:3')\n",
      "tensor(-1.1789e-05, device='cuda:3')\n",
      "tensor(-0.0026, device='cuda:3')\n",
      "tensor(-0.0026, device='cuda:3')\n",
      "tensor(8.0338e-07, device='cuda:3')\n",
      "tensor(2.8094e-06, device='cuda:3')\n",
      "tensor(0.0019, device='cuda:3')\n",
      "tensor(0.0019, device='cuda:3')\n",
      "tensor(2.5379e-07, device='cuda:3')\n",
      "tensor(0., device='cuda:3')\n",
      "tensor(0.0006, device='cuda:3')\n",
      "tensor(0.0006, device='cuda:3')\n",
      "tensor(2.0646e-05, device='cuda:3')\n",
      "tensor(0.0028, device='cuda:3')\n",
      "tensor(1.8149e-09, device='cuda:3')\n",
      "tensor(2.4835e-09, device='cuda:3')\n"
     ]
    },
    {
     "data": {
      "application/vnd.jupyter.widget-view+json": {
       "model_id": "abac62cd405c4aaf9e521b56ff59e567",
       "version_major": 2,
       "version_minor": 0
      },
      "text/plain": [
       "HBox(children=(FloatProgress(value=0.0, max=17.0), HTML(value='')))"
      ]
     },
     "metadata": {},
     "output_type": "display_data"
    },
    {
     "name": "stdout",
     "output_type": "stream",
     "text": [
      "\n",
      "epoch time: 25.90187692642212\n",
      "loss train: 0.16413537196984346, loss val: 0.28771306924960194\n",
      "accuracy train: 0.9183333333333333, accuracy val: 0.8785714285714286\n",
      "---------------------------------------------------------------------------------------------------\n",
      "Epoch: 64, Learning Rate: 0.00025\n",
      "\n"
     ]
    },
    {
     "data": {
      "application/vnd.jupyter.widget-view+json": {
       "model_id": "89a00de896d54f98a1cf4dc1c1f173b0",
       "version_major": 2,
       "version_minor": 0
      },
      "text/plain": [
       "HBox(children=(FloatProgress(value=0.0, max=132.0), HTML(value='')))"
      ]
     },
     "metadata": {},
     "output_type": "display_data"
    },
    {
     "name": "stdout",
     "output_type": "stream",
     "text": [
      "\n",
      "tensor(5.1383e-05, device='cuda:3')\n",
      "tensor(-8.0165e-06, device='cuda:3')\n",
      "tensor(-0.0030, device='cuda:3')\n",
      "tensor(-0.0030, device='cuda:3')\n",
      "tensor(2.1778e-07, device='cuda:3')\n",
      "tensor(-7.4168e-08, device='cuda:3')\n",
      "tensor(-4.6993e-05, device='cuda:3')\n",
      "tensor(-4.6993e-05, device='cuda:3')\n",
      "tensor(-1.9125e-07, device='cuda:3')\n",
      "tensor(-5.6897e-07, device='cuda:3')\n",
      "tensor(-2.3060e-05, device='cuda:3')\n",
      "tensor(-2.3060e-05, device='cuda:3')\n",
      "tensor(2.2307e-08, device='cuda:3')\n",
      "tensor(0., device='cuda:3')\n",
      "tensor(1.9428e-05, device='cuda:3')\n",
      "tensor(1.9428e-05, device='cuda:3')\n",
      "tensor(4.1687e-06, device='cuda:3')\n",
      "tensor(0.0002, device='cuda:3')\n",
      "tensor(-7.7849e-09, device='cuda:3')\n",
      "tensor(-4.9671e-09, device='cuda:3')\n"
     ]
    },
    {
     "data": {
      "application/vnd.jupyter.widget-view+json": {
       "model_id": "8eb2e773bdfd4ef8b213d081f50fe1cf",
       "version_major": 2,
       "version_minor": 0
      },
      "text/plain": [
       "HBox(children=(FloatProgress(value=0.0, max=17.0), HTML(value='')))"
      ]
     },
     "metadata": {},
     "output_type": "display_data"
    },
    {
     "name": "stdout",
     "output_type": "stream",
     "text": [
      "\n",
      "epoch time: 24.70663833618164\n",
      "loss train: 0.1622288435076674, loss val: 0.21203721796765046\n",
      "accuracy train: 0.9192857142857143, accuracy val: 0.8952380952380953\n",
      "---------------------------------------------------------------------------------------------------\n",
      "Epoch: 65, Learning Rate: 0.00025\n",
      "\n"
     ]
    },
    {
     "data": {
      "application/vnd.jupyter.widget-view+json": {
       "model_id": "e717c7934beb4f698df268600f60b32b",
       "version_major": 2,
       "version_minor": 0
      },
      "text/plain": [
       "HBox(children=(FloatProgress(value=0.0, max=132.0), HTML(value='')))"
      ]
     },
     "metadata": {},
     "output_type": "display_data"
    },
    {
     "name": "stdout",
     "output_type": "stream",
     "text": [
      "\n",
      "tensor(-7.1740e-05, device='cuda:3')\n",
      "tensor(2.9535e-06, device='cuda:3')\n",
      "tensor(0.0025, device='cuda:3')\n",
      "tensor(0.0025, device='cuda:3')\n",
      "tensor(1.7372e-07, device='cuda:3')\n",
      "tensor(-1.4491e-07, device='cuda:3')\n",
      "tensor(-4.1315e-06, device='cuda:3')\n",
      "tensor(-4.1315e-06, device='cuda:3')\n",
      "tensor(3.0394e-07, device='cuda:3')\n",
      "tensor(-5.9538e-07, device='cuda:3')\n",
      "tensor(-8.1537e-05, device='cuda:3')\n",
      "tensor(-8.1537e-05, device='cuda:3')\n",
      "tensor(-6.0943e-08, device='cuda:3')\n",
      "tensor(0., device='cuda:3')\n",
      "tensor(8.7655e-06, device='cuda:3')\n",
      "tensor(8.7655e-06, device='cuda:3')\n",
      "tensor(1.0163e-06, device='cuda:3')\n",
      "tensor(0.0003, device='cuda:3')\n",
      "tensor(1.2002e-08, device='cuda:3')\n",
      "tensor(8.6923e-09, device='cuda:3')\n"
     ]
    },
    {
     "data": {
      "application/vnd.jupyter.widget-view+json": {
       "model_id": "4a0a9a0606dd4ab8bac4ca0d5b7e7e68",
       "version_major": 2,
       "version_minor": 0
      },
      "text/plain": [
       "HBox(children=(FloatProgress(value=0.0, max=17.0), HTML(value='')))"
      ]
     },
     "metadata": {},
     "output_type": "display_data"
    },
    {
     "name": "stdout",
     "output_type": "stream",
     "text": [
      "\n",
      "epoch time: 26.45499014854431\n",
      "loss train: 0.15086492898902207, loss val: 0.22109025366166057\n",
      "accuracy train: 0.9229761904761905, accuracy val: 0.8947619047619048\n",
      "---------------------------------------------------------------------------------------------------\n",
      "Epoch: 66, Learning Rate: 0.00025\n",
      "\n"
     ]
    },
    {
     "data": {
      "application/vnd.jupyter.widget-view+json": {
       "model_id": "8b97f3d3c9d04ccdb786bea764794456",
       "version_major": 2,
       "version_minor": 0
      },
      "text/plain": [
       "HBox(children=(FloatProgress(value=0.0, max=132.0), HTML(value='')))"
      ]
     },
     "metadata": {},
     "output_type": "display_data"
    },
    {
     "name": "stdout",
     "output_type": "stream",
     "text": [
      "\n",
      "tensor(-0.0002, device='cuda:3')\n",
      "tensor(1.3277e-05, device='cuda:3')\n",
      "tensor(0.0055, device='cuda:3')\n",
      "tensor(0.0055, device='cuda:3')\n",
      "tensor(-1.1182e-05, device='cuda:3')\n",
      "tensor(7.6447e-07, device='cuda:3')\n",
      "tensor(0.0002, device='cuda:3')\n",
      "tensor(0.0002, device='cuda:3')\n",
      "tensor(-2.9664e-07, device='cuda:3')\n",
      "tensor(3.1439e-06, device='cuda:3')\n",
      "tensor(5.2251e-05, device='cuda:3')\n",
      "tensor(5.2251e-05, device='cuda:3')\n",
      "tensor(-1.5903e-07, device='cuda:3')\n",
      "tensor(0., device='cuda:3')\n",
      "tensor(-3.7659e-05, device='cuda:3')\n",
      "tensor(-3.7659e-05, device='cuda:3')\n",
      "tensor(5.6135e-06, device='cuda:3')\n",
      "tensor(0.0004, device='cuda:3')\n",
      "tensor(8.0205e-09, device='cuda:3')\n",
      "tensor(5.1444e-09, device='cuda:3')\n"
     ]
    },
    {
     "data": {
      "application/vnd.jupyter.widget-view+json": {
       "model_id": "835eb2d726f64832b2a8b3619fd70e48",
       "version_major": 2,
       "version_minor": 0
      },
      "text/plain": [
       "HBox(children=(FloatProgress(value=0.0, max=17.0), HTML(value='')))"
      ]
     },
     "metadata": {},
     "output_type": "display_data"
    },
    {
     "name": "stdout",
     "output_type": "stream",
     "text": [
      "\n",
      "epoch time: 25.627761363983154\n",
      "loss train: 0.14883572275214124, loss val: 0.22028426913654103\n",
      "accuracy train: 0.9251190476190476, accuracy val: 0.8895238095238095\n",
      "---------------------------------------------------------------------------------------------------\n",
      "Epoch: 67, Learning Rate: 0.00025\n",
      "\n"
     ]
    },
    {
     "data": {
      "application/vnd.jupyter.widget-view+json": {
       "model_id": "4197a32c8e684baaa21d1496a06c74cb",
       "version_major": 2,
       "version_minor": 0
      },
      "text/plain": [
       "HBox(children=(FloatProgress(value=0.0, max=132.0), HTML(value='')))"
      ]
     },
     "metadata": {},
     "output_type": "display_data"
    },
    {
     "name": "stdout",
     "output_type": "stream",
     "text": [
      "\n",
      "tensor(-2.2058e-05, device='cuda:3')\n",
      "tensor(-1.0322e-06, device='cuda:3')\n",
      "tensor(-0.0027, device='cuda:3')\n",
      "tensor(-0.0027, device='cuda:3')\n",
      "tensor(-8.1542e-07, device='cuda:3')\n",
      "tensor(1.3899e-07, device='cuda:3')\n",
      "tensor(-7.5081e-05, device='cuda:3')\n",
      "tensor(-7.5081e-05, device='cuda:3')\n",
      "tensor(-3.4645e-08, device='cuda:3')\n",
      "tensor(-2.0600e-06, device='cuda:3')\n",
      "tensor(-0.0001, device='cuda:3')\n",
      "tensor(-0.0001, device='cuda:3')\n",
      "tensor(-4.7316e-07, device='cuda:3')\n",
      "tensor(0., device='cuda:3')\n",
      "tensor(2.3746e-05, device='cuda:3')\n",
      "tensor(2.3746e-05, device='cuda:3')\n",
      "tensor(6.7803e-06, device='cuda:3')\n",
      "tensor(0.0003, device='cuda:3')\n",
      "tensor(7.6019e-09, device='cuda:3')\n",
      "tensor(5.3218e-09, device='cuda:3')\n"
     ]
    },
    {
     "data": {
      "application/vnd.jupyter.widget-view+json": {
       "model_id": "ab9838403fb24338a9b460d0b1f3fd62",
       "version_major": 2,
       "version_minor": 0
      },
      "text/plain": [
       "HBox(children=(FloatProgress(value=0.0, max=17.0), HTML(value='')))"
      ]
     },
     "metadata": {},
     "output_type": "display_data"
    },
    {
     "name": "stdout",
     "output_type": "stream",
     "text": [
      "\n",
      "epoch time: 25.959884643554688\n",
      "loss train: 0.1455045153358669, loss val: 0.24019466691157398\n",
      "accuracy train: 0.9252380952380952, accuracy val: 0.8852380952380953\n",
      "---------------------------------------------------------------------------------------------------\n",
      "Epoch: 68, Learning Rate: 0.00025\n",
      "\n"
     ]
    },
    {
     "data": {
      "application/vnd.jupyter.widget-view+json": {
       "model_id": "82c38c1b7b6847dab4fcc16eb6264f17",
       "version_major": 2,
       "version_minor": 0
      },
      "text/plain": [
       "HBox(children=(FloatProgress(value=0.0, max=132.0), HTML(value='')))"
      ]
     },
     "metadata": {},
     "output_type": "display_data"
    },
    {
     "name": "stdout",
     "output_type": "stream",
     "text": [
      "\n",
      "tensor(2.2661e-05, device='cuda:3')\n",
      "tensor(1.1125e-06, device='cuda:3')\n",
      "tensor(-0.0006, device='cuda:3')\n",
      "tensor(-0.0006, device='cuda:3')\n",
      "tensor(-3.6852e-07, device='cuda:3')\n",
      "tensor(-1.3572e-08, device='cuda:3')\n",
      "tensor(-1.2853e-06, device='cuda:3')\n",
      "tensor(-1.2853e-06, device='cuda:3')\n",
      "tensor(-2.9519e-08, device='cuda:3')\n",
      "tensor(-3.0031e-08, device='cuda:3')\n",
      "tensor(-1.0285e-06, device='cuda:3')\n",
      "tensor(-1.0285e-06, device='cuda:3')\n",
      "tensor(2.2898e-08, device='cuda:3')\n",
      "tensor(0., device='cuda:3')\n",
      "tensor(-8.8990e-06, device='cuda:3')\n",
      "tensor(-8.8990e-06, device='cuda:3')\n",
      "tensor(-9.6181e-07, device='cuda:3')\n",
      "tensor(-5.4573e-05, device='cuda:3')\n",
      "tensor(8.6050e-10, device='cuda:3')\n",
      "tensor(2.6609e-10, device='cuda:3')\n"
     ]
    },
    {
     "data": {
      "application/vnd.jupyter.widget-view+json": {
       "model_id": "a45f0aa618424664b6361cce2492d8d3",
       "version_major": 2,
       "version_minor": 0
      },
      "text/plain": [
       "HBox(children=(FloatProgress(value=0.0, max=17.0), HTML(value='')))"
      ]
     },
     "metadata": {},
     "output_type": "display_data"
    },
    {
     "name": "stdout",
     "output_type": "stream",
     "text": [
      "\n",
      "epoch time: 25.184338569641113\n",
      "loss train: 0.1411663219897133, loss val: 0.23106121140367844\n",
      "accuracy train: 0.9285714285714286, accuracy val: 0.8942857142857142\n",
      "---------------------------------------------------------------------------------------------------\n",
      "Epoch: 69, Learning Rate: 0.00025\n",
      "\n"
     ]
    },
    {
     "data": {
      "application/vnd.jupyter.widget-view+json": {
       "model_id": "80c0b73e5cd3434a87840c8e36f4cc62",
       "version_major": 2,
       "version_minor": 0
      },
      "text/plain": [
       "HBox(children=(FloatProgress(value=0.0, max=132.0), HTML(value='')))"
      ]
     },
     "metadata": {},
     "output_type": "display_data"
    },
    {
     "name": "stdout",
     "output_type": "stream",
     "text": [
      "\n",
      "tensor(-1.6707e-06, device='cuda:3')\n",
      "tensor(-3.3626e-07, device='cuda:3')\n",
      "tensor(-0.0005, device='cuda:3')\n",
      "tensor(-0.0005, device='cuda:3')\n",
      "tensor(1.1787e-06, device='cuda:3')\n",
      "tensor(-2.1285e-08, device='cuda:3')\n",
      "tensor(2.5816e-05, device='cuda:3')\n",
      "tensor(2.5816e-05, device='cuda:3')\n",
      "tensor(4.5051e-08, device='cuda:3')\n",
      "tensor(-7.9610e-07, device='cuda:3')\n",
      "tensor(-4.5077e-05, device='cuda:3')\n",
      "tensor(-4.5077e-05, device='cuda:3')\n",
      "tensor(-6.0638e-09, device='cuda:3')\n",
      "tensor(0., device='cuda:3')\n",
      "tensor(2.2439e-05, device='cuda:3')\n",
      "tensor(2.2439e-05, device='cuda:3')\n",
      "tensor(6.3194e-07, device='cuda:3')\n",
      "tensor(2.4845e-05, device='cuda:3')\n",
      "tensor(6.4837e-09, device='cuda:3')\n",
      "tensor(3.9027e-09, device='cuda:3')\n"
     ]
    },
    {
     "data": {
      "application/vnd.jupyter.widget-view+json": {
       "model_id": "6e29356452f84fc5a8f027127c299f69",
       "version_major": 2,
       "version_minor": 0
      },
      "text/plain": [
       "HBox(children=(FloatProgress(value=0.0, max=17.0), HTML(value='')))"
      ]
     },
     "metadata": {},
     "output_type": "display_data"
    },
    {
     "name": "stdout",
     "output_type": "stream",
     "text": [
      "\n",
      "epoch time: 25.148831844329834\n",
      "loss train: 0.14602133087023642, loss val: 0.22164147785481284\n",
      "accuracy train: 0.925952380952381, accuracy val: 0.8842857142857142\n",
      "---------------------------------------------------------------------------------------------------\n",
      "Epoch: 70, Learning Rate: 0.00025\n",
      "\n"
     ]
    },
    {
     "data": {
      "application/vnd.jupyter.widget-view+json": {
       "model_id": "bffb091d971a424d8b919f71ad39aec8",
       "version_major": 2,
       "version_minor": 0
      },
      "text/plain": [
       "HBox(children=(FloatProgress(value=0.0, max=132.0), HTML(value='')))"
      ]
     },
     "metadata": {},
     "output_type": "display_data"
    },
    {
     "name": "stdout",
     "output_type": "stream",
     "text": [
      "\n",
      "tensor(-1.2831e-05, device='cuda:3')\n",
      "tensor(-1.2975e-06, device='cuda:3')\n",
      "tensor(-9.5022e-05, device='cuda:3')\n",
      "tensor(-9.5022e-05, device='cuda:3')\n",
      "tensor(-5.0636e-06, device='cuda:3')\n",
      "tensor(-4.0498e-08, device='cuda:3')\n",
      "tensor(-3.0492e-06, device='cuda:3')\n",
      "tensor(-3.0492e-06, device='cuda:3')\n",
      "tensor(-2.4538e-07, device='cuda:3')\n",
      "tensor(2.2252e-06, device='cuda:3')\n",
      "tensor(8.3169e-05, device='cuda:3')\n",
      "tensor(8.3169e-05, device='cuda:3')\n",
      "tensor(-1.3915e-07, device='cuda:3')\n",
      "tensor(0., device='cuda:3')\n",
      "tensor(-1.7731e-05, device='cuda:3')\n",
      "tensor(-1.7731e-05, device='cuda:3')\n",
      "tensor(1.9113e-06, device='cuda:3')\n",
      "tensor(2.1409e-05, device='cuda:3')\n",
      "tensor(3.6187e-09, device='cuda:3')\n",
      "tensor(2.8383e-09, device='cuda:3')\n"
     ]
    },
    {
     "data": {
      "application/vnd.jupyter.widget-view+json": {
       "model_id": "bccab08eea0e4a5589f789c63564b10a",
       "version_major": 2,
       "version_minor": 0
      },
      "text/plain": [
       "HBox(children=(FloatProgress(value=0.0, max=17.0), HTML(value='')))"
      ]
     },
     "metadata": {},
     "output_type": "display_data"
    },
    {
     "name": "stdout",
     "output_type": "stream",
     "text": [
      "\n",
      "epoch time: 25.73891806602478\n",
      "loss train: 0.14860285725444555, loss val: 0.2249256986029008\n",
      "accuracy train: 0.9246428571428571, accuracy val: 0.8923809523809524\n",
      "---------------------------------------------------------------------------------------------------\n",
      "Epoch: 71, Learning Rate: 0.00025\n",
      "\n"
     ]
    },
    {
     "data": {
      "application/vnd.jupyter.widget-view+json": {
       "model_id": "24a28a5ad4884281bb3a5a8b74866096",
       "version_major": 2,
       "version_minor": 0
      },
      "text/plain": [
       "HBox(children=(FloatProgress(value=0.0, max=132.0), HTML(value='')))"
      ]
     },
     "metadata": {},
     "output_type": "display_data"
    },
    {
     "name": "stdout",
     "output_type": "stream",
     "text": [
      "\n",
      "tensor(7.9755e-06, device='cuda:3')\n",
      "tensor(2.9203e-05, device='cuda:3')\n",
      "tensor(0.0313, device='cuda:3')\n",
      "tensor(0.0313, device='cuda:3')\n",
      "tensor(-4.4105e-05, device='cuda:3')\n",
      "tensor(7.8395e-06, device='cuda:3')\n",
      "tensor(0.0007, device='cuda:3')\n",
      "tensor(0.0007, device='cuda:3')\n",
      "tensor(2.4879e-06, device='cuda:3')\n",
      "tensor(5.9519e-06, device='cuda:3')\n",
      "tensor(0.0007, device='cuda:3')\n",
      "tensor(0.0007, device='cuda:3')\n",
      "tensor(-2.5682e-07, device='cuda:3')\n",
      "tensor(0., device='cuda:3')\n",
      "tensor(-0.0001, device='cuda:3')\n",
      "tensor(-0.0001, device='cuda:3')\n",
      "tensor(1.6976e-05, device='cuda:3')\n",
      "tensor(0.0010, device='cuda:3')\n",
      "tensor(7.8944e-09, device='cuda:3')\n",
      "tensor(5.3218e-09, device='cuda:3')\n"
     ]
    },
    {
     "data": {
      "application/vnd.jupyter.widget-view+json": {
       "model_id": "554b3d9e5b6b481dbabe3e336833d76f",
       "version_major": 2,
       "version_minor": 0
      },
      "text/plain": [
       "HBox(children=(FloatProgress(value=0.0, max=17.0), HTML(value='')))"
      ]
     },
     "metadata": {},
     "output_type": "display_data"
    },
    {
     "name": "stdout",
     "output_type": "stream",
     "text": [
      "\n",
      "epoch time: 24.863258123397827\n",
      "loss train: 0.14361355428329922, loss val: 0.21738298719420152\n",
      "accuracy train: 0.929047619047619, accuracy val: 0.8985714285714286\n",
      "---------------------------------------------------------------------------------------------------\n",
      "Epoch: 72, Learning Rate: 0.00025\n",
      "\n"
     ]
    },
    {
     "data": {
      "application/vnd.jupyter.widget-view+json": {
       "model_id": "c592a503b94e4103a5c929f38c4eee7d",
       "version_major": 2,
       "version_minor": 0
      },
      "text/plain": [
       "HBox(children=(FloatProgress(value=0.0, max=132.0), HTML(value='')))"
      ]
     },
     "metadata": {},
     "output_type": "display_data"
    },
    {
     "name": "stdout",
     "output_type": "stream",
     "text": [
      "\n",
      "tensor(0.0002, device='cuda:3')\n",
      "tensor(3.9210e-05, device='cuda:3')\n",
      "tensor(0.0177, device='cuda:3')\n",
      "tensor(0.0177, device='cuda:3')\n",
      "tensor(6.1094e-06, device='cuda:3')\n",
      "tensor(-5.6986e-07, device='cuda:3')\n",
      "tensor(0.0001, device='cuda:3')\n",
      "tensor(0.0001, device='cuda:3')\n",
      "tensor(4.3355e-06, device='cuda:3')\n",
      "tensor(5.2937e-05, device='cuda:3')\n",
      "tensor(0.0014, device='cuda:3')\n",
      "tensor(0.0014, device='cuda:3')\n",
      "tensor(8.2430e-07, device='cuda:3')\n",
      "tensor(0., device='cuda:3')\n",
      "tensor(7.1353e-05, device='cuda:3')\n",
      "tensor(7.1353e-05, device='cuda:3')\n",
      "tensor(5.2400e-05, device='cuda:3')\n",
      "tensor(0.0010, device='cuda:3')\n",
      "tensor(5.2384e-09, device='cuda:3')\n",
      "tensor(4.7897e-09, device='cuda:3')\n"
     ]
    },
    {
     "data": {
      "application/vnd.jupyter.widget-view+json": {
       "model_id": "e63082cb0e0a4d6c85c9e6c640bfff76",
       "version_major": 2,
       "version_minor": 0
      },
      "text/plain": [
       "HBox(children=(FloatProgress(value=0.0, max=17.0), HTML(value='')))"
      ]
     },
     "metadata": {},
     "output_type": "display_data"
    },
    {
     "name": "stdout",
     "output_type": "stream",
     "text": [
      "\n",
      "epoch time: 25.917850017547607\n",
      "loss train: 0.1434557137333534, loss val: 0.22110373570638545\n",
      "accuracy train: 0.9296428571428571, accuracy val: 0.8961904761904762\n",
      "---------------------------------------------------------------------------------------------------\n",
      "Epoch: 73, Learning Rate: 0.00025\n",
      "\n"
     ]
    },
    {
     "data": {
      "application/vnd.jupyter.widget-view+json": {
       "model_id": "ef746eb3516b453dafc36bd1f311b04e",
       "version_major": 2,
       "version_minor": 0
      },
      "text/plain": [
       "HBox(children=(FloatProgress(value=0.0, max=132.0), HTML(value='')))"
      ]
     },
     "metadata": {},
     "output_type": "display_data"
    },
    {
     "name": "stdout",
     "output_type": "stream",
     "text": [
      "\n",
      "tensor(0.0001, device='cuda:3')\n",
      "tensor(1.1364e-06, device='cuda:3')\n",
      "tensor(0.0021, device='cuda:3')\n",
      "tensor(0.0021, device='cuda:3')\n",
      "tensor(1.5503e-06, device='cuda:3')\n",
      "tensor(2.2916e-07, device='cuda:3')\n",
      "tensor(5.9305e-05, device='cuda:3')\n",
      "tensor(5.9305e-05, device='cuda:3')\n",
      "tensor(1.3629e-07, device='cuda:3')\n",
      "tensor(1.3224e-06, device='cuda:3')\n",
      "tensor(2.0424e-05, device='cuda:3')\n",
      "tensor(2.0424e-05, device='cuda:3')\n",
      "tensor(2.2830e-08, device='cuda:3')\n",
      "tensor(0., device='cuda:3')\n",
      "tensor(-2.0447e-06, device='cuda:3')\n",
      "tensor(-2.0447e-06, device='cuda:3')\n",
      "tensor(1.4268e-06, device='cuda:3')\n",
      "tensor(6.6220e-05, device='cuda:3')\n",
      "tensor(2.0106e-09, device='cuda:3')\n",
      "tensor(1.5966e-09, device='cuda:3')\n"
     ]
    },
    {
     "data": {
      "application/vnd.jupyter.widget-view+json": {
       "model_id": "50f241f0095947c9aa6eb40302170567",
       "version_major": 2,
       "version_minor": 0
      },
      "text/plain": [
       "HBox(children=(FloatProgress(value=0.0, max=17.0), HTML(value='')))"
      ]
     },
     "metadata": {},
     "output_type": "display_data"
    },
    {
     "name": "stdout",
     "output_type": "stream",
     "text": [
      "\n",
      "epoch time: 25.582205772399902\n",
      "loss train: 0.1341723073838335, loss val: 0.20631521589615764\n",
      "accuracy train: 0.9301190476190476, accuracy val: 0.9014285714285715\n",
      "---------------------------------------------------------------------------------------------------\n",
      "Epoch: 74, Learning Rate: 0.00025\n",
      "\n"
     ]
    },
    {
     "data": {
      "application/vnd.jupyter.widget-view+json": {
       "model_id": "469128d3c07e411a84d4608753203d47",
       "version_major": 2,
       "version_minor": 0
      },
      "text/plain": [
       "HBox(children=(FloatProgress(value=0.0, max=132.0), HTML(value='')))"
      ]
     },
     "metadata": {},
     "output_type": "display_data"
    },
    {
     "name": "stdout",
     "output_type": "stream",
     "text": [
      "\n",
      "tensor(1.8537e-05, device='cuda:3')\n",
      "tensor(-1.1468e-06, device='cuda:3')\n",
      "tensor(-0.0040, device='cuda:3')\n",
      "tensor(-0.0040, device='cuda:3')\n",
      "tensor(1.9862e-06, device='cuda:3')\n",
      "tensor(8.8420e-08, device='cuda:3')\n",
      "tensor(1.4415e-06, device='cuda:3')\n",
      "tensor(1.4415e-06, device='cuda:3')\n",
      "tensor(1.6781e-07, device='cuda:3')\n",
      "tensor(-3.2353e-06, device='cuda:3')\n",
      "tensor(-0.0001, device='cuda:3')\n",
      "tensor(-0.0001, device='cuda:3')\n",
      "tensor(-1.3077e-07, device='cuda:3')\n",
      "tensor(0., device='cuda:3')\n",
      "tensor(7.3267e-05, device='cuda:3')\n",
      "tensor(7.3267e-05, device='cuda:3')\n",
      "tensor(2.8077e-06, device='cuda:3')\n",
      "tensor(0.0002, device='cuda:3')\n",
      "tensor(5.1720e-09, device='cuda:3')\n",
      "tensor(3.5479e-09, device='cuda:3')\n"
     ]
    },
    {
     "data": {
      "application/vnd.jupyter.widget-view+json": {
       "model_id": "3cacd0c729914963bfa6d2f15463a675",
       "version_major": 2,
       "version_minor": 0
      },
      "text/plain": [
       "HBox(children=(FloatProgress(value=0.0, max=17.0), HTML(value='')))"
      ]
     },
     "metadata": {},
     "output_type": "display_data"
    },
    {
     "name": "stdout",
     "output_type": "stream",
     "text": [
      "\n",
      "epoch time: 25.872668504714966\n",
      "loss train: 0.13240027557494063, loss val: 0.22807692604906418\n",
      "accuracy train: 0.9336904761904762, accuracy val: 0.8928571428571429\n",
      "---------------------------------------------------------------------------------------------------\n",
      "Epoch: 75, Learning Rate: 0.00025\n",
      "\n"
     ]
    },
    {
     "data": {
      "application/vnd.jupyter.widget-view+json": {
       "model_id": "b4a63a3167f945baa9ea38e7efa5ac83",
       "version_major": 2,
       "version_minor": 0
      },
      "text/plain": [
       "HBox(children=(FloatProgress(value=0.0, max=132.0), HTML(value='')))"
      ]
     },
     "metadata": {},
     "output_type": "display_data"
    },
    {
     "name": "stdout",
     "output_type": "stream",
     "text": [
      "\n",
      "tensor(0.0007, device='cuda:3')\n",
      "tensor(3.7593e-05, device='cuda:3')\n",
      "tensor(-0.0143, device='cuda:3')\n",
      "tensor(-0.0143, device='cuda:3')\n",
      "tensor(7.5762e-06, device='cuda:3')\n",
      "tensor(2.0212e-07, device='cuda:3')\n",
      "tensor(-0.0001, device='cuda:3')\n",
      "tensor(-0.0001, device='cuda:3')\n",
      "tensor(-9.3879e-07, device='cuda:3')\n",
      "tensor(-1.2791e-05, device='cuda:3')\n",
      "tensor(-0.0009, device='cuda:3')\n",
      "tensor(-0.0009, device='cuda:3')\n",
      "tensor(8.3498e-08, device='cuda:3')\n",
      "tensor(0., device='cuda:3')\n",
      "tensor(0.0002, device='cuda:3')\n",
      "tensor(0.0002, device='cuda:3')\n",
      "tensor(2.4169e-05, device='cuda:3')\n",
      "tensor(0.0014, device='cuda:3')\n",
      "tensor(2.1750e-09, device='cuda:3')\n",
      "tensor(1.5522e-09, device='cuda:3')\n"
     ]
    },
    {
     "data": {
      "application/vnd.jupyter.widget-view+json": {
       "model_id": "9ba473ee4ff24816a6bc5256b5da1c40",
       "version_major": 2,
       "version_minor": 0
      },
      "text/plain": [
       "HBox(children=(FloatProgress(value=0.0, max=17.0), HTML(value='')))"
      ]
     },
     "metadata": {},
     "output_type": "display_data"
    },
    {
     "name": "stdout",
     "output_type": "stream",
     "text": [
      "\n",
      "epoch time: 25.41594958305359\n",
      "loss train: 0.13186782527940744, loss val: 0.21166624216472402\n",
      "accuracy train: 0.9360714285714286, accuracy val: 0.9052380952380953\n",
      "---------------------------------------------------------------------------------------------------\n",
      "Epoch: 76, Learning Rate: 0.00025\n",
      "\n"
     ]
    },
    {
     "data": {
      "application/vnd.jupyter.widget-view+json": {
       "model_id": "5ae05d092d2b42caa51c00d9fb78585a",
       "version_major": 2,
       "version_minor": 0
      },
      "text/plain": [
       "HBox(children=(FloatProgress(value=0.0, max=132.0), HTML(value='')))"
      ]
     },
     "metadata": {},
     "output_type": "display_data"
    },
    {
     "name": "stdout",
     "output_type": "stream",
     "text": [
      "\n",
      "tensor(0.0002, device='cuda:3')\n",
      "tensor(-1.5296e-05, device='cuda:3')\n",
      "tensor(-0.0043, device='cuda:3')\n",
      "tensor(-0.0043, device='cuda:3')\n",
      "tensor(1.2426e-05, device='cuda:3')\n",
      "tensor(5.2874e-07, device='cuda:3')\n",
      "tensor(7.7156e-06, device='cuda:3')\n",
      "tensor(7.7156e-06, device='cuda:3')\n",
      "tensor(-1.3410e-06, device='cuda:3')\n",
      "tensor(-2.0569e-05, device='cuda:3')\n",
      "tensor(-0.0004, device='cuda:3')\n",
      "tensor(-0.0004, device='cuda:3')\n",
      "tensor(-1.7070e-07, device='cuda:3')\n",
      "tensor(0., device='cuda:3')\n",
      "tensor(6.6685e-06, device='cuda:3')\n",
      "tensor(6.6685e-06, device='cuda:3')\n",
      "tensor(-1.0120e-05, device='cuda:3')\n",
      "tensor(-0.0002, device='cuda:3')\n",
      "tensor(1.2825e-08, device='cuda:3')\n",
      "tensor(8.9584e-09, device='cuda:3')\n"
     ]
    },
    {
     "data": {
      "application/vnd.jupyter.widget-view+json": {
       "model_id": "387fc8d3d6bc4f53b5ed66c34fab8a4a",
       "version_major": 2,
       "version_minor": 0
      },
      "text/plain": [
       "HBox(children=(FloatProgress(value=0.0, max=17.0), HTML(value='')))"
      ]
     },
     "metadata": {},
     "output_type": "display_data"
    },
    {
     "name": "stdout",
     "output_type": "stream",
     "text": [
      "\n",
      "epoch time: 25.460365295410156\n",
      "loss train: 0.13180350376801056, loss val: 0.20146899801843307\n",
      "accuracy train: 0.9336904761904762, accuracy val: 0.9057142857142857\n",
      "---------------------------------------------------------------------------------------------------\n",
      "Epoch: 77, Learning Rate: 0.00025\n",
      "\n"
     ]
    },
    {
     "data": {
      "application/vnd.jupyter.widget-view+json": {
       "model_id": "791ea5d1138a47ff9701c3d67f09439d",
       "version_major": 2,
       "version_minor": 0
      },
      "text/plain": [
       "HBox(children=(FloatProgress(value=0.0, max=132.0), HTML(value='')))"
      ]
     },
     "metadata": {},
     "output_type": "display_data"
    },
    {
     "name": "stdout",
     "output_type": "stream",
     "text": [
      "\n",
      "tensor(0.0002, device='cuda:3')\n",
      "tensor(-3.1139e-05, device='cuda:3')\n",
      "tensor(-0.0082, device='cuda:3')\n",
      "tensor(-0.0082, device='cuda:3')\n",
      "tensor(-1.0743e-05, device='cuda:3')\n",
      "tensor(2.5865e-07, device='cuda:3')\n",
      "tensor(0.0002, device='cuda:3')\n",
      "tensor(0.0002, device='cuda:3')\n",
      "tensor(-1.1862e-06, device='cuda:3')\n",
      "tensor(-5.1954e-05, device='cuda:3')\n",
      "tensor(-0.0015, device='cuda:3')\n",
      "tensor(-0.0015, device='cuda:3')\n",
      "tensor(4.2716e-07, device='cuda:3')\n",
      "tensor(0., device='cuda:3')\n",
      "tensor(0.0001, device='cuda:3')\n",
      "tensor(0.0001, device='cuda:3')\n",
      "tensor(-1.0562e-05, device='cuda:3')\n",
      "tensor(-0.0007, device='cuda:3')\n",
      "tensor(6.9915e-09, device='cuda:3')\n",
      "tensor(5.1444e-09, device='cuda:3')\n"
     ]
    },
    {
     "data": {
      "application/vnd.jupyter.widget-view+json": {
       "model_id": "88e522964a354a6eb61e452d5429695b",
       "version_major": 2,
       "version_minor": 0
      },
      "text/plain": [
       "HBox(children=(FloatProgress(value=0.0, max=17.0), HTML(value='')))"
      ]
     },
     "metadata": {},
     "output_type": "display_data"
    },
    {
     "name": "stdout",
     "output_type": "stream",
     "text": [
      "\n",
      "epoch time: 25.73473048210144\n",
      "loss train: 0.1419904755259102, loss val: 0.2084073288475766\n",
      "accuracy train: 0.9276190476190476, accuracy val: 0.8995238095238095\n",
      "---------------------------------------------------------------------------------------------------\n",
      "Epoch: 78, Learning Rate: 0.00025\n",
      "\n"
     ]
    },
    {
     "data": {
      "application/vnd.jupyter.widget-view+json": {
       "model_id": "25d816ec27ff4b4696717ea644f6f9be",
       "version_major": 2,
       "version_minor": 0
      },
      "text/plain": [
       "HBox(children=(FloatProgress(value=0.0, max=132.0), HTML(value='')))"
      ]
     },
     "metadata": {},
     "output_type": "display_data"
    },
    {
     "name": "stdout",
     "output_type": "stream",
     "text": [
      "\n",
      "tensor(-4.4601e-05, device='cuda:3')\n",
      "tensor(-2.5273e-05, device='cuda:3')\n",
      "tensor(-0.0047, device='cuda:3')\n",
      "tensor(-0.0047, device='cuda:3')\n",
      "tensor(6.1563e-07, device='cuda:3')\n",
      "tensor(-1.7960e-07, device='cuda:3')\n",
      "tensor(3.9369e-05, device='cuda:3')\n",
      "tensor(3.9369e-05, device='cuda:3')\n",
      "tensor(-3.6342e-07, device='cuda:3')\n",
      "tensor(-5.1296e-06, device='cuda:3')\n",
      "tensor(-4.8651e-05, device='cuda:3')\n",
      "tensor(-4.8651e-05, device='cuda:3')\n",
      "tensor(9.3253e-08, device='cuda:3')\n",
      "tensor(0., device='cuda:3')\n",
      "tensor(1.2399e-05, device='cuda:3')\n",
      "tensor(1.2399e-05, device='cuda:3')\n",
      "tensor(-1.2090e-05, device='cuda:3')\n",
      "tensor(-0.0003, device='cuda:3')\n",
      "tensor(8.8749e-09, device='cuda:3')\n",
      "tensor(5.4327e-09, device='cuda:3')\n"
     ]
    },
    {
     "data": {
      "application/vnd.jupyter.widget-view+json": {
       "model_id": "5090ba931c7240fdbe059cb5c64ffac6",
       "version_major": 2,
       "version_minor": 0
      },
      "text/plain": [
       "HBox(children=(FloatProgress(value=0.0, max=17.0), HTML(value='')))"
      ]
     },
     "metadata": {},
     "output_type": "display_data"
    },
    {
     "name": "stdout",
     "output_type": "stream",
     "text": [
      "\n",
      "epoch time: 24.98690438270569\n",
      "loss train: 0.12903454270439618, loss val: 0.20813369838630452\n",
      "accuracy train: 0.9345238095238095, accuracy val: 0.9\n",
      "---------------------------------------------------------------------------------------------------\n",
      "Epoch: 79, Learning Rate: 0.00025\n",
      "\n"
     ]
    },
    {
     "data": {
      "application/vnd.jupyter.widget-view+json": {
       "model_id": "4361625cf8634cba8dc4a179e9c02af9",
       "version_major": 2,
       "version_minor": 0
      },
      "text/plain": [
       "HBox(children=(FloatProgress(value=0.0, max=132.0), HTML(value='')))"
      ]
     },
     "metadata": {},
     "output_type": "display_data"
    },
    {
     "name": "stdout",
     "output_type": "stream",
     "text": [
      "\n",
      "tensor(-0.0005, device='cuda:3')\n",
      "tensor(0.0001, device='cuda:3')\n",
      "tensor(0.0307, device='cuda:3')\n",
      "tensor(0.0307, device='cuda:3')\n",
      "tensor(-1.7427e-05, device='cuda:3')\n",
      "tensor(7.9687e-07, device='cuda:3')\n",
      "tensor(0.0004, device='cuda:3')\n",
      "tensor(0.0004, device='cuda:3')\n",
      "tensor(-7.0523e-07, device='cuda:3')\n",
      "tensor(5.4731e-06, device='cuda:3')\n",
      "tensor(0.0004, device='cuda:3')\n",
      "tensor(0.0004, device='cuda:3')\n",
      "tensor(-4.7939e-07, device='cuda:3')\n",
      "tensor(0., device='cuda:3')\n",
      "tensor(-0.0001, device='cuda:3')\n",
      "tensor(-0.0001, device='cuda:3')\n",
      "tensor(-2.2444e-05, device='cuda:3')\n",
      "tensor(-0.0010, device='cuda:3')\n",
      "tensor(1.6004e-09, device='cuda:3')\n",
      "tensor(1.7296e-09, device='cuda:3')\n"
     ]
    },
    {
     "data": {
      "application/vnd.jupyter.widget-view+json": {
       "model_id": "14cc019c6c6b4944a4dc4e88897d0130",
       "version_major": 2,
       "version_minor": 0
      },
      "text/plain": [
       "HBox(children=(FloatProgress(value=0.0, max=17.0), HTML(value='')))"
      ]
     },
     "metadata": {},
     "output_type": "display_data"
    },
    {
     "name": "stdout",
     "output_type": "stream",
     "text": [
      "\n",
      "epoch time: 25.054478883743286\n",
      "loss train: 0.11553159279918129, loss val: 0.2542562405852711\n",
      "accuracy train: 0.9385714285714286, accuracy val: 0.8976190476190476\n",
      "---------------------------------------------------------------------------------------------------\n",
      "Epoch: 80, Learning Rate: 0.00025\n",
      "\n"
     ]
    },
    {
     "data": {
      "application/vnd.jupyter.widget-view+json": {
       "model_id": "a118735a97fd4ddabc6403bad427b591",
       "version_major": 2,
       "version_minor": 0
      },
      "text/plain": [
       "HBox(children=(FloatProgress(value=0.0, max=132.0), HTML(value='')))"
      ]
     },
     "metadata": {},
     "output_type": "display_data"
    },
    {
     "name": "stdout",
     "output_type": "stream",
     "text": [
      "\n",
      "tensor(-0.0028, device='cuda:3')\n",
      "tensor(0.0003, device='cuda:3')\n",
      "tensor(0.1047, device='cuda:3')\n",
      "tensor(0.1047, device='cuda:3')\n",
      "tensor(-5.8726e-05, device='cuda:3')\n",
      "tensor(3.3032e-06, device='cuda:3')\n",
      "tensor(0.0020, device='cuda:3')\n",
      "tensor(0.0020, device='cuda:3')\n",
      "tensor(1.2314e-05, device='cuda:3')\n",
      "tensor(0.0001, device='cuda:3')\n",
      "tensor(0.0041, device='cuda:3')\n",
      "tensor(0.0041, device='cuda:3')\n",
      "tensor(-1.4032e-06, device='cuda:3')\n",
      "tensor(0., device='cuda:3')\n",
      "tensor(-0.0002, device='cuda:3')\n",
      "tensor(-0.0002, device='cuda:3')\n",
      "tensor(3.4149e-05, device='cuda:3')\n",
      "tensor(0.0009, device='cuda:3')\n",
      "tensor(8.9051e-09, device='cuda:3')\n",
      "tensor(7.0958e-09, device='cuda:3')\n"
     ]
    },
    {
     "data": {
      "application/vnd.jupyter.widget-view+json": {
       "model_id": "8a926347f37e43bc8724b2cd41bdd194",
       "version_major": 2,
       "version_minor": 0
      },
      "text/plain": [
       "HBox(children=(FloatProgress(value=0.0, max=17.0), HTML(value='')))"
      ]
     },
     "metadata": {},
     "output_type": "display_data"
    },
    {
     "name": "stdout",
     "output_type": "stream",
     "text": [
      "\n",
      "epoch time: 25.928403615951538\n",
      "loss train: 0.1259259759081584, loss val: 0.2398123999728876\n",
      "accuracy train: 0.9348809523809524, accuracy val: 0.8957142857142857\n",
      "---------------------------------------------------------------------------------------------------\n",
      "Epoch: 81, Learning Rate: 0.00025\n",
      "\n"
     ]
    },
    {
     "data": {
      "application/vnd.jupyter.widget-view+json": {
       "model_id": "07a2ec5bd3aa429d874c79ea3164a0b0",
       "version_major": 2,
       "version_minor": 0
      },
      "text/plain": [
       "HBox(children=(FloatProgress(value=0.0, max=132.0), HTML(value='')))"
      ]
     },
     "metadata": {},
     "output_type": "display_data"
    },
    {
     "name": "stdout",
     "output_type": "stream",
     "text": [
      "\n",
      "tensor(-7.2538e-06, device='cuda:3')\n",
      "tensor(-1.3681e-08, device='cuda:3')\n",
      "tensor(-0.0001, device='cuda:3')\n",
      "tensor(-0.0001, device='cuda:3')\n",
      "tensor(1.3441e-06, device='cuda:3')\n",
      "tensor(-2.2429e-08, device='cuda:3')\n",
      "tensor(-2.4518e-05, device='cuda:3')\n",
      "tensor(-2.4518e-05, device='cuda:3')\n",
      "tensor(6.5220e-08, device='cuda:3')\n",
      "tensor(-1.2810e-07, device='cuda:3')\n",
      "tensor(-3.7752e-05, device='cuda:3')\n",
      "tensor(-3.7752e-05, device='cuda:3')\n",
      "tensor(6.1256e-08, device='cuda:3')\n",
      "tensor(0., device='cuda:3')\n",
      "tensor(-3.0653e-05, device='cuda:3')\n",
      "tensor(-3.0653e-05, device='cuda:3')\n",
      "tensor(-3.1594e-06, device='cuda:3')\n",
      "tensor(-0.0002, device='cuda:3')\n",
      "tensor(2.1694e-09, device='cuda:3')\n",
      "tensor(1.7296e-09, device='cuda:3')\n"
     ]
    },
    {
     "data": {
      "application/vnd.jupyter.widget-view+json": {
       "model_id": "abcae074b3154bae9b0af520776c98f9",
       "version_major": 2,
       "version_minor": 0
      },
      "text/plain": [
       "HBox(children=(FloatProgress(value=0.0, max=17.0), HTML(value='')))"
      ]
     },
     "metadata": {},
     "output_type": "display_data"
    },
    {
     "name": "stdout",
     "output_type": "stream",
     "text": [
      "\n",
      "epoch time: 25.859549283981323\n",
      "loss train: 0.12879297495678518, loss val: 0.22183656736331828\n",
      "accuracy train: 0.9338095238095238, accuracy val: 0.8961904761904762\n",
      "---------------------------------------------------------------------------------------------------\n",
      "Epoch: 82, Learning Rate: 0.00025\n",
      "\n"
     ]
    },
    {
     "data": {
      "application/vnd.jupyter.widget-view+json": {
       "model_id": "c05cdd48f5054603a8afbf19ee2609fe",
       "version_major": 2,
       "version_minor": 0
      },
      "text/plain": [
       "HBox(children=(FloatProgress(value=0.0, max=132.0), HTML(value='')))"
      ]
     },
     "metadata": {},
     "output_type": "display_data"
    },
    {
     "name": "stdout",
     "output_type": "stream",
     "text": [
      "\n",
      "tensor(-5.4511e-06, device='cuda:3')\n",
      "tensor(-3.3009e-06, device='cuda:3')\n",
      "tensor(-0.0017, device='cuda:3')\n",
      "tensor(-0.0017, device='cuda:3')\n",
      "tensor(2.5931e-06, device='cuda:3')\n",
      "tensor(-7.9368e-09, device='cuda:3')\n",
      "tensor(2.7941e-05, device='cuda:3')\n",
      "tensor(2.7941e-05, device='cuda:3')\n",
      "tensor(4.5411e-08, device='cuda:3')\n",
      "tensor(-3.1328e-07, device='cuda:3')\n",
      "tensor(-1.4517e-05, device='cuda:3')\n",
      "tensor(-1.4517e-05, device='cuda:3')\n",
      "tensor(-2.2976e-08, device='cuda:3')\n",
      "tensor(0., device='cuda:3')\n",
      "tensor(1.2742e-05, device='cuda:3')\n",
      "tensor(1.2742e-05, device='cuda:3')\n",
      "tensor(1.8357e-06, device='cuda:3')\n",
      "tensor(0.0001, device='cuda:3')\n",
      "tensor(5.0713e-09, device='cuda:3')\n",
      "tensor(3.1931e-09, device='cuda:3')\n"
     ]
    },
    {
     "data": {
      "application/vnd.jupyter.widget-view+json": {
       "model_id": "47f327a7c4be4e278bf412a378d8cb71",
       "version_major": 2,
       "version_minor": 0
      },
      "text/plain": [
       "HBox(children=(FloatProgress(value=0.0, max=17.0), HTML(value='')))"
      ]
     },
     "metadata": {},
     "output_type": "display_data"
    },
    {
     "name": "stdout",
     "output_type": "stream",
     "text": [
      "\n",
      "epoch time: 26.030630111694336\n",
      "loss train: 0.11587657529691403, loss val: 0.21670314143685734\n",
      "accuracy train: 0.9414285714285714, accuracy val: 0.8952380952380953\n",
      "---------------------------------------------------------------------------------------------------\n",
      "Epoch: 83, Learning Rate: 0.00025\n",
      "\n"
     ]
    },
    {
     "data": {
      "application/vnd.jupyter.widget-view+json": {
       "model_id": "8bde476e4ec24395aeec5d0ef99ae13f",
       "version_major": 2,
       "version_minor": 0
      },
      "text/plain": [
       "HBox(children=(FloatProgress(value=0.0, max=132.0), HTML(value='')))"
      ]
     },
     "metadata": {},
     "output_type": "display_data"
    },
    {
     "name": "stdout",
     "output_type": "stream",
     "text": [
      "\n",
      "tensor(1.0730e-05, device='cuda:3')\n",
      "tensor(2.0753e-06, device='cuda:3')\n",
      "tensor(0.0004, device='cuda:3')\n",
      "tensor(0.0004, device='cuda:3')\n",
      "tensor(-5.3660e-07, device='cuda:3')\n",
      "tensor(5.9600e-09, device='cuda:3')\n",
      "tensor(8.7554e-06, device='cuda:3')\n",
      "tensor(8.7554e-06, device='cuda:3')\n",
      "tensor(6.6278e-08, device='cuda:3')\n",
      "tensor(-2.7398e-07, device='cuda:3')\n",
      "tensor(-1.7601e-05, device='cuda:3')\n",
      "tensor(-1.7601e-05, device='cuda:3')\n",
      "tensor(9.1494e-09, device='cuda:3')\n",
      "tensor(0., device='cuda:3')\n",
      "tensor(-3.9403e-06, device='cuda:3')\n",
      "tensor(-3.9403e-06, device='cuda:3')\n",
      "tensor(-9.6681e-08, device='cuda:3')\n",
      "tensor(1.5553e-06, device='cuda:3')\n",
      "tensor(4.4284e-09, device='cuda:3')\n",
      "tensor(2.1287e-09, device='cuda:3')\n"
     ]
    },
    {
     "data": {
      "application/vnd.jupyter.widget-view+json": {
       "model_id": "7b880fb8af9c4ce392b0abd3ee0fb2ac",
       "version_major": 2,
       "version_minor": 0
      },
      "text/plain": [
       "HBox(children=(FloatProgress(value=0.0, max=17.0), HTML(value='')))"
      ]
     },
     "metadata": {},
     "output_type": "display_data"
    },
    {
     "name": "stdout",
     "output_type": "stream",
     "text": [
      "\n",
      "epoch time: 26.09820795059204\n",
      "loss train: 0.11652575359877312, loss val: 0.2110066567273701\n",
      "accuracy train: 0.9416666666666667, accuracy val: 0.8990476190476191\n",
      "---------------------------------------------------------------------------------------------------\n",
      "Epoch: 84, Learning Rate: 0.00025\n",
      "\n"
     ]
    },
    {
     "data": {
      "application/vnd.jupyter.widget-view+json": {
       "model_id": "729b2c6a56354d03aabb9442448aff5a",
       "version_major": 2,
       "version_minor": 0
      },
      "text/plain": [
       "HBox(children=(FloatProgress(value=0.0, max=132.0), HTML(value='')))"
      ]
     },
     "metadata": {},
     "output_type": "display_data"
    },
    {
     "name": "stdout",
     "output_type": "stream",
     "text": [
      "\n",
      "tensor(-0.0014, device='cuda:3')\n",
      "tensor(7.6243e-05, device='cuda:3')\n",
      "tensor(0.0228, device='cuda:3')\n",
      "tensor(0.0228, device='cuda:3')\n",
      "tensor(-6.7615e-06, device='cuda:3')\n",
      "tensor(9.5554e-07, device='cuda:3')\n",
      "tensor(0.0002, device='cuda:3')\n",
      "tensor(0.0002, device='cuda:3')\n",
      "tensor(1.5670e-06, device='cuda:3')\n",
      "tensor(4.9041e-05, device='cuda:3')\n",
      "tensor(0.0007, device='cuda:3')\n",
      "tensor(0.0007, device='cuda:3')\n",
      "tensor(-3.0046e-08, device='cuda:3')\n",
      "tensor(0., device='cuda:3')\n",
      "tensor(4.3161e-05, device='cuda:3')\n",
      "tensor(4.3161e-05, device='cuda:3')\n",
      "tensor(5.2336e-05, device='cuda:3')\n",
      "tensor(0.0011, device='cuda:3')\n",
      "tensor(-2.9946e-09, device='cuda:3')\n",
      "tensor(-1.4192e-09, device='cuda:3')\n"
     ]
    },
    {
     "data": {
      "application/vnd.jupyter.widget-view+json": {
       "model_id": "a9397b8f99bb4f94abb921728443d7d8",
       "version_major": 2,
       "version_minor": 0
      },
      "text/plain": [
       "HBox(children=(FloatProgress(value=0.0, max=17.0), HTML(value='')))"
      ]
     },
     "metadata": {},
     "output_type": "display_data"
    },
    {
     "name": "stdout",
     "output_type": "stream",
     "text": [
      "\n",
      "epoch time: 26.04534602165222\n",
      "loss train: 0.11611815928622629, loss val: 0.21375114339239457\n",
      "accuracy train: 0.9410714285714286, accuracy val: 0.8985714285714286\n",
      "---------------------------------------------------------------------------------------------------\n",
      "Epoch: 85, Learning Rate: 0.00025\n",
      "\n"
     ]
    },
    {
     "data": {
      "application/vnd.jupyter.widget-view+json": {
       "model_id": "6a7951ef96dc483fa95a00ab4f48f14e",
       "version_major": 2,
       "version_minor": 0
      },
      "text/plain": [
       "HBox(children=(FloatProgress(value=0.0, max=132.0), HTML(value='')))"
      ]
     },
     "metadata": {},
     "output_type": "display_data"
    },
    {
     "name": "stdout",
     "output_type": "stream",
     "text": [
      "\n",
      "tensor(0.0002, device='cuda:3')\n",
      "tensor(-1.2826e-05, device='cuda:3')\n",
      "tensor(0.0004, device='cuda:3')\n",
      "tensor(0.0004, device='cuda:3')\n",
      "tensor(-4.8360e-06, device='cuda:3')\n",
      "tensor(-3.8781e-07, device='cuda:3')\n",
      "tensor(3.7690e-05, device='cuda:3')\n",
      "tensor(3.7690e-05, device='cuda:3')\n",
      "tensor(1.8394e-07, device='cuda:3')\n",
      "tensor(-3.2538e-05, device='cuda:3')\n",
      "tensor(-0.0008, device='cuda:3')\n",
      "tensor(-0.0008, device='cuda:3')\n",
      "tensor(-1.0632e-07, device='cuda:3')\n",
      "tensor(0., device='cuda:3')\n",
      "tensor(4.5268e-05, device='cuda:3')\n",
      "tensor(4.5268e-05, device='cuda:3')\n",
      "tensor(3.7716e-06, device='cuda:3')\n",
      "tensor(0.0001, device='cuda:3')\n",
      "tensor(1.7383e-10, device='cuda:3')\n",
      "tensor(0., device='cuda:3')\n"
     ]
    },
    {
     "data": {
      "application/vnd.jupyter.widget-view+json": {
       "model_id": "87b9dff8ba764214be327d632588afb4",
       "version_major": 2,
       "version_minor": 0
      },
      "text/plain": [
       "HBox(children=(FloatProgress(value=0.0, max=17.0), HTML(value='')))"
      ]
     },
     "metadata": {},
     "output_type": "display_data"
    },
    {
     "name": "stdout",
     "output_type": "stream",
     "text": [
      "\n",
      "epoch time: 26.419649124145508\n",
      "loss train: 0.12088554156379717, loss val: 0.22498531946364572\n",
      "accuracy train: 0.9402380952380952, accuracy val: 0.9028571428571428\n",
      "---------------------------------------------------------------------------------------------------\n",
      "Epoch: 86, Learning Rate: 0.00025\n",
      "\n"
     ]
    },
    {
     "data": {
      "application/vnd.jupyter.widget-view+json": {
       "model_id": "a0a1687a2a1349b3b10b769bec300ff4",
       "version_major": 2,
       "version_minor": 0
      },
      "text/plain": [
       "HBox(children=(FloatProgress(value=0.0, max=132.0), HTML(value='')))"
      ]
     },
     "metadata": {},
     "output_type": "display_data"
    },
    {
     "name": "stdout",
     "output_type": "stream",
     "text": [
      "\n",
      "tensor(-0.0003, device='cuda:3')\n",
      "tensor(-2.2552e-05, device='cuda:3')\n",
      "tensor(-0.0159, device='cuda:3')\n",
      "tensor(-0.0159, device='cuda:3')\n",
      "tensor(-7.5415e-06, device='cuda:3')\n",
      "tensor(-3.6927e-07, device='cuda:3')\n",
      "tensor(-0.0002, device='cuda:3')\n",
      "tensor(-0.0002, device='cuda:3')\n",
      "tensor(4.4110e-07, device='cuda:3')\n",
      "tensor(1.3140e-06, device='cuda:3')\n",
      "tensor(8.7749e-05, device='cuda:3')\n",
      "tensor(8.7749e-05, device='cuda:3')\n",
      "tensor(7.5406e-07, device='cuda:3')\n",
      "tensor(0., device='cuda:3')\n",
      "tensor(-4.9647e-05, device='cuda:3')\n",
      "tensor(-4.9647e-05, device='cuda:3')\n",
      "tensor(-6.6237e-06, device='cuda:3')\n",
      "tensor(-0.0007, device='cuda:3')\n",
      "tensor(1.8001e-09, device='cuda:3')\n",
      "tensor(5.3218e-10, device='cuda:3')\n"
     ]
    },
    {
     "data": {
      "application/vnd.jupyter.widget-view+json": {
       "model_id": "96837d9557214e50b5be42ef20ed7da8",
       "version_major": 2,
       "version_minor": 0
      },
      "text/plain": [
       "HBox(children=(FloatProgress(value=0.0, max=17.0), HTML(value='')))"
      ]
     },
     "metadata": {},
     "output_type": "display_data"
    },
    {
     "name": "stdout",
     "output_type": "stream",
     "text": [
      "\n",
      "epoch time: 25.72816252708435\n",
      "loss train: 0.11616024490671628, loss val: 0.2187085524201393\n",
      "accuracy train: 0.9388095238095238, accuracy val: 0.9023809523809524\n",
      "---------------------------------------------------------------------------------------------------\n",
      "Epoch: 87, Learning Rate: 0.00025\n",
      "\n"
     ]
    },
    {
     "data": {
      "application/vnd.jupyter.widget-view+json": {
       "model_id": "28691b944b9c43f1926d0e74129bcc93",
       "version_major": 2,
       "version_minor": 0
      },
      "text/plain": [
       "HBox(children=(FloatProgress(value=0.0, max=132.0), HTML(value='')))"
      ]
     },
     "metadata": {},
     "output_type": "display_data"
    },
    {
     "name": "stdout",
     "output_type": "stream",
     "text": [
      "\n",
      "tensor(-2.5569e-05, device='cuda:3')\n",
      "tensor(1.9075e-06, device='cuda:3')\n",
      "tensor(0.0014, device='cuda:3')\n",
      "tensor(0.0014, device='cuda:3')\n",
      "tensor(-4.6748e-06, device='cuda:3')\n",
      "tensor(1.9182e-06, device='cuda:3')\n",
      "tensor(0.0002, device='cuda:3')\n",
      "tensor(0.0002, device='cuda:3')\n",
      "tensor(-4.3473e-07, device='cuda:3')\n",
      "tensor(-8.2918e-07, device='cuda:3')\n",
      "tensor(-8.5170e-05, device='cuda:3')\n",
      "tensor(-8.5170e-05, device='cuda:3')\n",
      "tensor(8.3676e-08, device='cuda:3')\n",
      "tensor(0., device='cuda:3')\n",
      "tensor(-4.1918e-06, device='cuda:3')\n",
      "tensor(-4.1918e-06, device='cuda:3')\n",
      "tensor(1.0716e-06, device='cuda:3')\n",
      "tensor(7.5864e-05, device='cuda:3')\n",
      "tensor(4.5554e-09, device='cuda:3')\n",
      "tensor(3.5479e-09, device='cuda:3')\n"
     ]
    },
    {
     "data": {
      "application/vnd.jupyter.widget-view+json": {
       "model_id": "3fcfb0e618ea44449a7606f84f02b78b",
       "version_major": 2,
       "version_minor": 0
      },
      "text/plain": [
       "HBox(children=(FloatProgress(value=0.0, max=17.0), HTML(value='')))"
      ]
     },
     "metadata": {},
     "output_type": "display_data"
    },
    {
     "name": "stdout",
     "output_type": "stream",
     "text": [
      "\n",
      "epoch time: 26.155386209487915\n",
      "loss train: 0.11280682016954277, loss val: 0.2120162984904121\n",
      "accuracy train: 0.9410714285714286, accuracy val: 0.8971428571428571\n",
      "---------------------------------------------------------------------------------------------------\n",
      "Epoch: 88, Learning Rate: 0.00025\n",
      "\n"
     ]
    },
    {
     "data": {
      "application/vnd.jupyter.widget-view+json": {
       "model_id": "97077c16952240d7a04d9624b9b0a748",
       "version_major": 2,
       "version_minor": 0
      },
      "text/plain": [
       "HBox(children=(FloatProgress(value=0.0, max=132.0), HTML(value='')))"
      ]
     },
     "metadata": {},
     "output_type": "display_data"
    },
    {
     "name": "stdout",
     "output_type": "stream",
     "text": [
      "\n",
      "tensor(0.0003, device='cuda:3')\n",
      "tensor(-6.7990e-05, device='cuda:3')\n",
      "tensor(-0.0139, device='cuda:3')\n",
      "tensor(-0.0139, device='cuda:3')\n",
      "tensor(2.1023e-06, device='cuda:3')\n",
      "tensor(-1.9710e-07, device='cuda:3')\n",
      "tensor(-8.4750e-05, device='cuda:3')\n",
      "tensor(-8.4750e-05, device='cuda:3')\n",
      "tensor(-2.2721e-06, device='cuda:3')\n",
      "tensor(-4.9901e-06, device='cuda:3')\n",
      "tensor(-0.0002, device='cuda:3')\n",
      "tensor(-0.0002, device='cuda:3')\n",
      "tensor(-3.8739e-07, device='cuda:3')\n",
      "tensor(0., device='cuda:3')\n",
      "tensor(-4.1717e-05, device='cuda:3')\n",
      "tensor(-4.1717e-05, device='cuda:3')\n",
      "tensor(-8.7345e-06, device='cuda:3')\n",
      "tensor(-0.0003, device='cuda:3')\n",
      "tensor(1.9632e-09, device='cuda:3')\n",
      "tensor(1.2418e-09, device='cuda:3')\n"
     ]
    },
    {
     "data": {
      "application/vnd.jupyter.widget-view+json": {
       "model_id": "71c65707056040489f5a5d97b98b44bd",
       "version_major": 2,
       "version_minor": 0
      },
      "text/plain": [
       "HBox(children=(FloatProgress(value=0.0, max=17.0), HTML(value='')))"
      ]
     },
     "metadata": {},
     "output_type": "display_data"
    },
    {
     "name": "stdout",
     "output_type": "stream",
     "text": [
      "\n",
      "epoch time: 26.08313751220703\n",
      "loss train: 0.11401588871905749, loss val: 0.21767383989165812\n",
      "accuracy train: 0.9408333333333333, accuracy val: 0.9028571428571428\n",
      "---------------------------------------------------------------------------------------------------\n",
      "Epoch: 89, Learning Rate: 0.00025\n",
      "\n"
     ]
    },
    {
     "data": {
      "application/vnd.jupyter.widget-view+json": {
       "model_id": "d694621639c749f9bc8d3e82eed1dce7",
       "version_major": 2,
       "version_minor": 0
      },
      "text/plain": [
       "HBox(children=(FloatProgress(value=0.0, max=132.0), HTML(value='')))"
      ]
     },
     "metadata": {},
     "output_type": "display_data"
    },
    {
     "name": "stdout",
     "output_type": "stream",
     "text": [
      "\n",
      "tensor(-1.1433e-05, device='cuda:3')\n",
      "tensor(9.5571e-05, device='cuda:3')\n",
      "tensor(0.0092, device='cuda:3')\n",
      "tensor(0.0092, device='cuda:3')\n",
      "tensor(-5.7669e-06, device='cuda:3')\n",
      "tensor(-1.3152e-06, device='cuda:3')\n",
      "tensor(8.9024e-05, device='cuda:3')\n",
      "tensor(8.9024e-05, device='cuda:3')\n",
      "tensor(6.0558e-06, device='cuda:3')\n",
      "tensor(0.0001, device='cuda:3')\n",
      "tensor(0.0024, device='cuda:3')\n",
      "tensor(0.0024, device='cuda:3')\n",
      "tensor(-4.4104e-07, device='cuda:3')\n",
      "tensor(0., device='cuda:3')\n",
      "tensor(0.0001, device='cuda:3')\n",
      "tensor(0.0001, device='cuda:3')\n",
      "tensor(2.3126e-05, device='cuda:3')\n",
      "tensor(0.0007, device='cuda:3')\n",
      "tensor(1.6828e-09, device='cuda:3')\n",
      "tensor(-1.7739e-10, device='cuda:3')\n"
     ]
    },
    {
     "data": {
      "application/vnd.jupyter.widget-view+json": {
       "model_id": "090a168cb3f84720a659758678a2b596",
       "version_major": 2,
       "version_minor": 0
      },
      "text/plain": [
       "HBox(children=(FloatProgress(value=0.0, max=17.0), HTML(value='')))"
      ]
     },
     "metadata": {},
     "output_type": "display_data"
    },
    {
     "name": "stdout",
     "output_type": "stream",
     "text": [
      "\n",
      "epoch time: 26.132485151290894\n",
      "loss train: 0.10866036110868056, loss val: 0.245428047635976\n",
      "accuracy train: 0.9415476190476191, accuracy val: 0.9057142857142857\n",
      "---------------------------------------------------------------------------------------------------\n",
      "Epoch: 90, Learning Rate: 0.000125\n",
      "\n"
     ]
    },
    {
     "data": {
      "application/vnd.jupyter.widget-view+json": {
       "model_id": "0f42fe6e5ef1475a883319acfdbc5053",
       "version_major": 2,
       "version_minor": 0
      },
      "text/plain": [
       "HBox(children=(FloatProgress(value=0.0, max=132.0), HTML(value='')))"
      ]
     },
     "metadata": {},
     "output_type": "display_data"
    },
    {
     "name": "stdout",
     "output_type": "stream",
     "text": [
      "\n",
      "tensor(0.0001, device='cuda:3')\n",
      "tensor(2.7225e-06, device='cuda:3')\n",
      "tensor(0.0063, device='cuda:3')\n",
      "tensor(0.0063, device='cuda:3')\n",
      "tensor(-1.4954e-06, device='cuda:3')\n",
      "tensor(-4.7844e-07, device='cuda:3')\n",
      "tensor(-0.0001, device='cuda:3')\n",
      "tensor(-0.0001, device='cuda:3')\n",
      "tensor(1.2334e-06, device='cuda:3')\n",
      "tensor(2.4151e-05, device='cuda:3')\n",
      "tensor(0.0007, device='cuda:3')\n",
      "tensor(0.0007, device='cuda:3')\n",
      "tensor(-3.8472e-08, device='cuda:3')\n",
      "tensor(0., device='cuda:3')\n",
      "tensor(-5.0685e-05, device='cuda:3')\n",
      "tensor(-5.0685e-05, device='cuda:3')\n",
      "tensor(-8.8363e-06, device='cuda:3')\n",
      "tensor(-0.0004, device='cuda:3')\n",
      "tensor(3.6680e-09, device='cuda:3')\n",
      "tensor(1.9513e-09, device='cuda:3')\n"
     ]
    },
    {
     "data": {
      "application/vnd.jupyter.widget-view+json": {
       "model_id": "7e36d449a0b34114b8844f99e7051f94",
       "version_major": 2,
       "version_minor": 0
      },
      "text/plain": [
       "HBox(children=(FloatProgress(value=0.0, max=17.0), HTML(value='')))"
      ]
     },
     "metadata": {},
     "output_type": "display_data"
    },
    {
     "name": "stdout",
     "output_type": "stream",
     "text": [
      "\n",
      "epoch time: 25.40149688720703\n",
      "loss train: 0.10252207908497164, loss val: 0.21347727232119618\n",
      "accuracy train: 0.9436904761904762, accuracy val: 0.909047619047619\n",
      "---------------------------------------------------------------------------------------------------\n",
      "Epoch: 91, Learning Rate: 0.000125\n",
      "\n"
     ]
    },
    {
     "data": {
      "application/vnd.jupyter.widget-view+json": {
       "model_id": "bcd8f2e3809a4ba6a4df288fd1920dcb",
       "version_major": 2,
       "version_minor": 0
      },
      "text/plain": [
       "HBox(children=(FloatProgress(value=0.0, max=132.0), HTML(value='')))"
      ]
     },
     "metadata": {},
     "output_type": "display_data"
    },
    {
     "name": "stdout",
     "output_type": "stream",
     "text": [
      "\n",
      "tensor(-2.7321e-05, device='cuda:3')\n",
      "tensor(1.9211e-06, device='cuda:3')\n",
      "tensor(0.0007, device='cuda:3')\n",
      "tensor(0.0007, device='cuda:3')\n",
      "tensor(-2.9959e-07, device='cuda:3')\n",
      "tensor(-1.4147e-07, device='cuda:3')\n",
      "tensor(-5.6274e-05, device='cuda:3')\n",
      "tensor(-5.6274e-05, device='cuda:3')\n",
      "tensor(-2.2288e-07, device='cuda:3')\n",
      "tensor(5.6643e-06, device='cuda:3')\n",
      "tensor(0.0003, device='cuda:3')\n",
      "tensor(0.0003, device='cuda:3')\n",
      "tensor(-1.0082e-07, device='cuda:3')\n",
      "tensor(0., device='cuda:3')\n",
      "tensor(-1.5657e-05, device='cuda:3')\n",
      "tensor(-1.5657e-05, device='cuda:3')\n",
      "tensor(7.9266e-06, device='cuda:3')\n",
      "tensor(0.0005, device='cuda:3')\n",
      "tensor(7.5181e-09, device='cuda:3')\n",
      "tensor(6.3197e-09, device='cuda:3')\n"
     ]
    },
    {
     "data": {
      "application/vnd.jupyter.widget-view+json": {
       "model_id": "b63ed07ce5064988a2fae0521a5f0cab",
       "version_major": 2,
       "version_minor": 0
      },
      "text/plain": [
       "HBox(children=(FloatProgress(value=0.0, max=17.0), HTML(value='')))"
      ]
     },
     "metadata": {},
     "output_type": "display_data"
    },
    {
     "name": "stdout",
     "output_type": "stream",
     "text": [
      "\n",
      "epoch time: 24.74554181098938\n",
      "loss train: 0.09644231778767073, loss val: 0.21117422598249772\n",
      "accuracy train: 0.9484523809523809, accuracy val: 0.9085714285714286\n",
      "---------------------------------------------------------------------------------------------------\n",
      "Epoch: 92, Learning Rate: 0.000125\n",
      "\n"
     ]
    },
    {
     "data": {
      "application/vnd.jupyter.widget-view+json": {
       "model_id": "f77bc8b6050f42a4b20f7bcd8e88356a",
       "version_major": 2,
       "version_minor": 0
      },
      "text/plain": [
       "HBox(children=(FloatProgress(value=0.0, max=132.0), HTML(value='')))"
      ]
     },
     "metadata": {},
     "output_type": "display_data"
    },
    {
     "name": "stdout",
     "output_type": "stream",
     "text": [
      "\n",
      "tensor(-8.1434e-05, device='cuda:3')\n",
      "tensor(1.1982e-06, device='cuda:3')\n",
      "tensor(-0.0016, device='cuda:3')\n",
      "tensor(-0.0016, device='cuda:3')\n",
      "tensor(8.1472e-07, device='cuda:3')\n",
      "tensor(-8.7618e-08, device='cuda:3')\n",
      "tensor(-4.8422e-05, device='cuda:3')\n",
      "tensor(-4.8422e-05, device='cuda:3')\n",
      "tensor(2.6217e-07, device='cuda:3')\n",
      "tensor(1.1660e-06, device='cuda:3')\n",
      "tensor(3.8332e-05, device='cuda:3')\n",
      "tensor(3.8332e-05, device='cuda:3')\n",
      "tensor(-1.5137e-09, device='cuda:3')\n",
      "tensor(0., device='cuda:3')\n",
      "tensor(4.7904e-06, device='cuda:3')\n",
      "tensor(4.7904e-06, device='cuda:3')\n",
      "tensor(2.1005e-06, device='cuda:3')\n",
      "tensor(0.0001, device='cuda:3')\n",
      "tensor(1.7715e-09, device='cuda:3')\n",
      "tensor(1.0644e-09, device='cuda:3')\n"
     ]
    },
    {
     "data": {
      "application/vnd.jupyter.widget-view+json": {
       "model_id": "490c7ed9f4d345b08ba19af9c9ceb7d3",
       "version_major": 2,
       "version_minor": 0
      },
      "text/plain": [
       "HBox(children=(FloatProgress(value=0.0, max=17.0), HTML(value='')))"
      ]
     },
     "metadata": {},
     "output_type": "display_data"
    },
    {
     "name": "stdout",
     "output_type": "stream",
     "text": [
      "\n",
      "epoch time: 25.269381046295166\n",
      "loss train: 0.09259601168786034, loss val: 0.21165131120120778\n",
      "accuracy train: 0.9502380952380952, accuracy val: 0.9042857142857142\n",
      "---------------------------------------------------------------------------------------------------\n",
      "Epoch: 93, Learning Rate: 0.000125\n",
      "\n"
     ]
    },
    {
     "data": {
      "application/vnd.jupyter.widget-view+json": {
       "model_id": "b51c128981824fb3aec90f358cb270ff",
       "version_major": 2,
       "version_minor": 0
      },
      "text/plain": [
       "HBox(children=(FloatProgress(value=0.0, max=132.0), HTML(value='')))"
      ]
     },
     "metadata": {},
     "output_type": "display_data"
    },
    {
     "name": "stdout",
     "output_type": "stream",
     "text": [
      "\n",
      "tensor(6.2850e-05, device='cuda:3')\n",
      "tensor(-9.7154e-06, device='cuda:3')\n",
      "tensor(-0.0023, device='cuda:3')\n",
      "tensor(-0.0023, device='cuda:3')\n",
      "tensor(-4.0986e-05, device='cuda:3')\n",
      "tensor(1.5448e-06, device='cuda:3')\n",
      "tensor(0.0003, device='cuda:3')\n",
      "tensor(0.0003, device='cuda:3')\n",
      "tensor(-2.7517e-06, device='cuda:3')\n",
      "tensor(-2.8046e-05, device='cuda:3')\n",
      "tensor(-0.0005, device='cuda:3')\n",
      "tensor(-0.0005, device='cuda:3')\n",
      "tensor(-6.3475e-08, device='cuda:3')\n",
      "tensor(0., device='cuda:3')\n",
      "tensor(-0.0001, device='cuda:3')\n",
      "tensor(-0.0001, device='cuda:3')\n",
      "tensor(-2.2447e-05, device='cuda:3')\n",
      "tensor(-0.0008, device='cuda:3')\n",
      "tensor(-6.3930e-09, device='cuda:3')\n",
      "tensor(-4.4349e-09, device='cuda:3')\n"
     ]
    },
    {
     "data": {
      "application/vnd.jupyter.widget-view+json": {
       "model_id": "37893ab872a04690aef2f90847fa65d6",
       "version_major": 2,
       "version_minor": 0
      },
      "text/plain": [
       "HBox(children=(FloatProgress(value=0.0, max=17.0), HTML(value='')))"
      ]
     },
     "metadata": {},
     "output_type": "display_data"
    },
    {
     "name": "stdout",
     "output_type": "stream",
     "text": [
      "\n",
      "epoch time: 26.27662181854248\n",
      "loss train: 0.09405973799188029, loss val: 0.20635398827931462\n",
      "accuracy train: 0.9508333333333333, accuracy val: 0.9023809523809524\n",
      "---------------------------------------------------------------------------------------------------\n",
      "Epoch: 94, Learning Rate: 0.000125\n",
      "\n"
     ]
    },
    {
     "data": {
      "application/vnd.jupyter.widget-view+json": {
       "model_id": "9ed07c7f53e6479f9197b5fb766d486f",
       "version_major": 2,
       "version_minor": 0
      },
      "text/plain": [
       "HBox(children=(FloatProgress(value=0.0, max=132.0), HTML(value='')))"
      ]
     },
     "metadata": {},
     "output_type": "display_data"
    },
    {
     "name": "stdout",
     "output_type": "stream",
     "text": [
      "\n",
      "tensor(9.4745e-07, device='cuda:3')\n",
      "tensor(2.2355e-08, device='cuda:3')\n",
      "tensor(1.9304e-05, device='cuda:3')\n",
      "tensor(1.9304e-05, device='cuda:3')\n",
      "tensor(2.7335e-07, device='cuda:3')\n",
      "tensor(2.1697e-08, device='cuda:3')\n",
      "tensor(6.8600e-07, device='cuda:3')\n",
      "tensor(6.8600e-07, device='cuda:3')\n",
      "tensor(-1.7540e-09, device='cuda:3')\n",
      "tensor(-1.1571e-07, device='cuda:3')\n",
      "tensor(-8.8955e-06, device='cuda:3')\n",
      "tensor(-8.8955e-06, device='cuda:3')\n",
      "tensor(6.7601e-09, device='cuda:3')\n",
      "tensor(0., device='cuda:3')\n",
      "tensor(-2.0390e-06, device='cuda:3')\n",
      "tensor(-2.0390e-06, device='cuda:3')\n",
      "tensor(-4.6357e-07, device='cuda:3')\n",
      "tensor(-3.1423e-05, device='cuda:3')\n",
      "tensor(2.1250e-09, device='cuda:3')\n",
      "tensor(1.6520e-09, device='cuda:3')\n"
     ]
    },
    {
     "data": {
      "application/vnd.jupyter.widget-view+json": {
       "model_id": "fee7549934d44d119f9d37ac9eee0e6f",
       "version_major": 2,
       "version_minor": 0
      },
      "text/plain": [
       "HBox(children=(FloatProgress(value=0.0, max=17.0), HTML(value='')))"
      ]
     },
     "metadata": {},
     "output_type": "display_data"
    },
    {
     "name": "stdout",
     "output_type": "stream",
     "text": [
      "\n",
      "epoch time: 25.123947381973267\n",
      "loss train: 0.09153818094990018, loss val: 0.22689632501672297\n",
      "accuracy train: 0.9451190476190476, accuracy val: 0.9052380952380953\n",
      "---------------------------------------------------------------------------------------------------\n",
      "Epoch: 95, Learning Rate: 0.000125\n",
      "\n"
     ]
    },
    {
     "data": {
      "application/vnd.jupyter.widget-view+json": {
       "model_id": "8378e66ce651476497f4470337abb344",
       "version_major": 2,
       "version_minor": 0
      },
      "text/plain": [
       "HBox(children=(FloatProgress(value=0.0, max=132.0), HTML(value='')))"
      ]
     },
     "metadata": {},
     "output_type": "display_data"
    },
    {
     "name": "stdout",
     "output_type": "stream",
     "text": [
      "\n",
      "tensor(-1.3556e-08, device='cuda:3')\n",
      "tensor(-1.3197e-09, device='cuda:3')\n",
      "tensor(-4.5638e-07, device='cuda:3')\n",
      "tensor(-4.5638e-07, device='cuda:3')\n",
      "tensor(2.3558e-09, device='cuda:3')\n",
      "tensor(6.4266e-10, device='cuda:3')\n",
      "tensor(-2.8398e-08, device='cuda:3')\n",
      "tensor(-2.8398e-08, device='cuda:3')\n",
      "tensor(-1.0213e-08, device='cuda:3')\n",
      "tensor(-2.0360e-08, device='cuda:3')\n",
      "tensor(-6.7077e-07, device='cuda:3')\n",
      "tensor(-6.7077e-07, device='cuda:3')\n",
      "tensor(1.2778e-09, device='cuda:3')\n",
      "tensor(0., device='cuda:3')\n",
      "tensor(3.2225e-08, device='cuda:3')\n",
      "tensor(3.2225e-08, device='cuda:3')\n",
      "tensor(-7.2106e-08, device='cuda:3')\n",
      "tensor(-1.7053e-06, device='cuda:3')\n",
      "tensor(7.0747e-09, device='cuda:3')\n",
      "tensor(4.5625e-09, device='cuda:3')\n"
     ]
    },
    {
     "data": {
      "application/vnd.jupyter.widget-view+json": {
       "model_id": "a196bd27957a4df6adf5eacb6797247a",
       "version_major": 2,
       "version_minor": 0
      },
      "text/plain": [
       "HBox(children=(FloatProgress(value=0.0, max=17.0), HTML(value='')))"
      ]
     },
     "metadata": {},
     "output_type": "display_data"
    },
    {
     "name": "stdout",
     "output_type": "stream",
     "text": [
      "\n",
      "epoch time: 25.764192581176758\n",
      "loss train: 0.09089451552735585, loss val: 0.21030478793032029\n",
      "accuracy train: 0.9502380952380952, accuracy val: 0.9052380952380953\n",
      "---------------------------------------------------------------------------------------------------\n",
      "Epoch: 96, Learning Rate: 0.000125\n",
      "\n"
     ]
    },
    {
     "data": {
      "application/vnd.jupyter.widget-view+json": {
       "model_id": "75837e53f654424999fde89a21ee6528",
       "version_major": 2,
       "version_minor": 0
      },
      "text/plain": [
       "HBox(children=(FloatProgress(value=0.0, max=132.0), HTML(value='')))"
      ]
     },
     "metadata": {},
     "output_type": "display_data"
    },
    {
     "name": "stdout",
     "output_type": "stream",
     "text": [
      "\n",
      "tensor(-1.7372e-05, device='cuda:3')\n",
      "tensor(-2.0790e-05, device='cuda:3')\n",
      "tensor(-0.0018, device='cuda:3')\n",
      "tensor(-0.0018, device='cuda:3')\n",
      "tensor(3.7248e-06, device='cuda:3')\n",
      "tensor(2.2767e-07, device='cuda:3')\n",
      "tensor(-2.5769e-05, device='cuda:3')\n",
      "tensor(-2.5769e-05, device='cuda:3')\n",
      "tensor(-9.3346e-07, device='cuda:3')\n",
      "tensor(-4.8000e-06, device='cuda:3')\n",
      "tensor(-0.0001, device='cuda:3')\n",
      "tensor(-0.0001, device='cuda:3')\n",
      "tensor(-3.7649e-07, device='cuda:3')\n",
      "tensor(0., device='cuda:3')\n",
      "tensor(-4.6839e-05, device='cuda:3')\n",
      "tensor(-4.6839e-05, device='cuda:3')\n",
      "tensor(-1.3621e-05, device='cuda:3')\n",
      "tensor(-0.0004, device='cuda:3')\n",
      "tensor(3.3091e-09, device='cuda:3')\n",
      "tensor(3.2818e-09, device='cuda:3')\n"
     ]
    },
    {
     "data": {
      "application/vnd.jupyter.widget-view+json": {
       "model_id": "13827b1289ac47abada574793a37c350",
       "version_major": 2,
       "version_minor": 0
      },
      "text/plain": [
       "HBox(children=(FloatProgress(value=0.0, max=17.0), HTML(value='')))"
      ]
     },
     "metadata": {},
     "output_type": "display_data"
    },
    {
     "name": "stdout",
     "output_type": "stream",
     "text": [
      "\n",
      "epoch time: 25.486703395843506\n",
      "loss train: 0.08667247454551133, loss val: 0.2355303028050591\n",
      "accuracy train: 0.9541666666666667, accuracy val: 0.8957142857142857\n",
      "---------------------------------------------------------------------------------------------------\n",
      "Epoch: 97, Learning Rate: 0.000125\n",
      "\n"
     ]
    },
    {
     "data": {
      "application/vnd.jupyter.widget-view+json": {
       "model_id": "68cf3b83e807407bad96352d3714dd68",
       "version_major": 2,
       "version_minor": 0
      },
      "text/plain": [
       "HBox(children=(FloatProgress(value=0.0, max=132.0), HTML(value='')))"
      ]
     },
     "metadata": {},
     "output_type": "display_data"
    },
    {
     "name": "stdout",
     "output_type": "stream",
     "text": [
      "\n",
      "tensor(1.0025e-06, device='cuda:3')\n",
      "tensor(2.6853e-09, device='cuda:3')\n",
      "tensor(-6.2383e-05, device='cuda:3')\n",
      "tensor(-6.2383e-05, device='cuda:3')\n",
      "tensor(-4.9648e-08, device='cuda:3')\n",
      "tensor(1.7524e-08, device='cuda:3')\n",
      "tensor(1.0655e-06, device='cuda:3')\n",
      "tensor(1.0655e-06, device='cuda:3')\n",
      "tensor(-1.2249e-08, device='cuda:3')\n",
      "tensor(-6.1730e-08, device='cuda:3')\n",
      "tensor(-3.1092e-06, device='cuda:3')\n",
      "tensor(-3.1092e-06, device='cuda:3')\n",
      "tensor(1.4676e-09, device='cuda:3')\n",
      "tensor(0., device='cuda:3')\n",
      "tensor(3.3464e-07, device='cuda:3')\n",
      "tensor(3.3464e-07, device='cuda:3')\n",
      "tensor(2.5267e-07, device='cuda:3')\n",
      "tensor(3.8149e-05, device='cuda:3')\n",
      "tensor(5.9173e-09, device='cuda:3')\n",
      "tensor(3.3705e-09, device='cuda:3')\n"
     ]
    },
    {
     "data": {
      "application/vnd.jupyter.widget-view+json": {
       "model_id": "d402ddf493d7439684a7808f5f5ff34f",
       "version_major": 2,
       "version_minor": 0
      },
      "text/plain": [
       "HBox(children=(FloatProgress(value=0.0, max=17.0), HTML(value='')))"
      ]
     },
     "metadata": {},
     "output_type": "display_data"
    },
    {
     "name": "stdout",
     "output_type": "stream",
     "text": [
      "\n",
      "epoch time: 25.128825664520264\n",
      "loss train: 0.09017331275919621, loss val: 0.2119357134489452\n",
      "accuracy train: 0.9502380952380952, accuracy val: 0.8995238095238095\n",
      "---------------------------------------------------------------------------------------------------\n",
      "Epoch: 98, Learning Rate: 0.000125\n",
      "\n"
     ]
    },
    {
     "data": {
      "application/vnd.jupyter.widget-view+json": {
       "model_id": "7556c26808a343c9961b3ca1b7a1b018",
       "version_major": 2,
       "version_minor": 0
      },
      "text/plain": [
       "HBox(children=(FloatProgress(value=0.0, max=132.0), HTML(value='')))"
      ]
     },
     "metadata": {},
     "output_type": "display_data"
    },
    {
     "name": "stdout",
     "output_type": "stream",
     "text": [
      "\n",
      "tensor(-2.5466e-08, device='cuda:3')\n",
      "tensor(-3.7143e-09, device='cuda:3')\n",
      "tensor(4.5549e-08, device='cuda:3')\n",
      "tensor(4.5549e-08, device='cuda:3')\n",
      "tensor(2.4360e-07, device='cuda:3')\n",
      "tensor(3.1904e-10, device='cuda:3')\n",
      "tensor(-4.7465e-07, device='cuda:3')\n",
      "tensor(-4.7465e-07, device='cuda:3')\n",
      "tensor(5.7606e-08, device='cuda:3')\n",
      "tensor(-2.4005e-08, device='cuda:3')\n",
      "tensor(-1.0049e-06, device='cuda:3')\n",
      "tensor(-1.0049e-06, device='cuda:3')\n",
      "tensor(3.4383e-08, device='cuda:3')\n",
      "tensor(0., device='cuda:3')\n",
      "tensor(-9.9028e-07, device='cuda:3')\n",
      "tensor(-9.9028e-07, device='cuda:3')\n",
      "tensor(-9.6803e-08, device='cuda:3')\n",
      "tensor(-8.3402e-06, device='cuda:3')\n",
      "tensor(7.1315e-09, device='cuda:3')\n",
      "tensor(3.9415e-09, device='cuda:3')\n"
     ]
    },
    {
     "data": {
      "application/vnd.jupyter.widget-view+json": {
       "model_id": "3d90ec0d360247f0bebd8fe8f0bb67c1",
       "version_major": 2,
       "version_minor": 0
      },
      "text/plain": [
       "HBox(children=(FloatProgress(value=0.0, max=17.0), HTML(value='')))"
      ]
     },
     "metadata": {},
     "output_type": "display_data"
    },
    {
     "name": "stdout",
     "output_type": "stream",
     "text": [
      "\n",
      "epoch time: 24.694622039794922\n",
      "loss train: 0.09098879101149963, loss val: 0.21453006762792082\n",
      "accuracy train: 0.9492857142857143, accuracy val: 0.9\n",
      "---------------------------------------------------------------------------------------------------\n",
      "Epoch: 99, Learning Rate: 0.000125\n",
      "\n"
     ]
    },
    {
     "data": {
      "application/vnd.jupyter.widget-view+json": {
       "model_id": "6c4ef665e0e3468b9d099bab07094d92",
       "version_major": 2,
       "version_minor": 0
      },
      "text/plain": [
       "HBox(children=(FloatProgress(value=0.0, max=132.0), HTML(value='')))"
      ]
     },
     "metadata": {},
     "output_type": "display_data"
    },
    {
     "name": "stdout",
     "output_type": "stream",
     "text": [
      "\n",
      "tensor(8.8055e-06, device='cuda:3')\n",
      "tensor(-3.7051e-06, device='cuda:3')\n",
      "tensor(-0.0006, device='cuda:3')\n",
      "tensor(-0.0006, device='cuda:3')\n",
      "tensor(4.3723e-06, device='cuda:3')\n",
      "tensor(-2.9230e-08, device='cuda:3')\n",
      "tensor(-4.9472e-05, device='cuda:3')\n",
      "tensor(-4.9472e-05, device='cuda:3')\n",
      "tensor(2.0681e-07, device='cuda:3')\n",
      "tensor(1.7660e-07, device='cuda:3')\n",
      "tensor(5.4157e-05, device='cuda:3')\n",
      "tensor(5.4157e-05, device='cuda:3')\n",
      "tensor(-5.7211e-08, device='cuda:3')\n",
      "tensor(0., device='cuda:3')\n",
      "tensor(-1.5153e-05, device='cuda:3')\n",
      "tensor(-1.5153e-05, device='cuda:3')\n",
      "tensor(-2.8367e-06, device='cuda:3')\n",
      "tensor(-0.0002, device='cuda:3')\n",
      "tensor(2.8379e-10, device='cuda:3')\n",
      "tensor(1.1087e-10, device='cuda:3')\n"
     ]
    },
    {
     "data": {
      "application/vnd.jupyter.widget-view+json": {
       "model_id": "c488a07685f94574a828f8ea81e775a5",
       "version_major": 2,
       "version_minor": 0
      },
      "text/plain": [
       "HBox(children=(FloatProgress(value=0.0, max=17.0), HTML(value='')))"
      ]
     },
     "metadata": {},
     "output_type": "display_data"
    },
    {
     "name": "stdout",
     "output_type": "stream",
     "text": [
      "\n",
      "epoch time: 25.046797275543213\n",
      "loss train: 0.09272244620616689, loss val: 0.21539970268221462\n",
      "accuracy train: 0.9480952380952381, accuracy val: 0.9033333333333333\n",
      "---------------------------------------------------------------------------------------------------\n",
      "Epoch: 100, Learning Rate: 0.000125\n",
      "\n"
     ]
    },
    {
     "data": {
      "application/vnd.jupyter.widget-view+json": {
       "model_id": "435d2efe974d4251a7a9fce8c27513bb",
       "version_major": 2,
       "version_minor": 0
      },
      "text/plain": [
       "HBox(children=(FloatProgress(value=0.0, max=132.0), HTML(value='')))"
      ]
     },
     "metadata": {},
     "output_type": "display_data"
    },
    {
     "name": "stdout",
     "output_type": "stream",
     "text": [
      "\n",
      "tensor(3.3919e-07, device='cuda:3')\n",
      "tensor(5.9489e-07, device='cuda:3')\n",
      "tensor(5.6944e-05, device='cuda:3')\n",
      "tensor(5.6944e-05, device='cuda:3')\n",
      "tensor(2.3750e-07, device='cuda:3')\n",
      "tensor(4.7691e-08, device='cuda:3')\n",
      "tensor(1.1911e-05, device='cuda:3')\n",
      "tensor(1.1911e-05, device='cuda:3')\n",
      "tensor(-2.8747e-08, device='cuda:3')\n",
      "tensor(-4.9597e-08, device='cuda:3')\n",
      "tensor(-5.9799e-06, device='cuda:3')\n",
      "tensor(-5.9799e-06, device='cuda:3')\n",
      "tensor(2.2962e-09, device='cuda:3')\n",
      "tensor(0., device='cuda:3')\n",
      "tensor(-5.1887e-07, device='cuda:3')\n",
      "tensor(-5.1887e-07, device='cuda:3')\n",
      "tensor(-1.3643e-07, device='cuda:3')\n",
      "tensor(-1.0898e-05, device='cuda:3')\n",
      "tensor(5.8182e-09, device='cuda:3')\n",
      "tensor(4.2298e-09, device='cuda:3')\n"
     ]
    },
    {
     "data": {
      "application/vnd.jupyter.widget-view+json": {
       "model_id": "ec2aa2fe94b64ac1919934c4585e97d9",
       "version_major": 2,
       "version_minor": 0
      },
      "text/plain": [
       "HBox(children=(FloatProgress(value=0.0, max=17.0), HTML(value='')))"
      ]
     },
     "metadata": {},
     "output_type": "display_data"
    },
    {
     "name": "stdout",
     "output_type": "stream",
     "text": [
      "\n",
      "epoch time: 25.249410390853882\n",
      "loss train: 0.08958114453619628, loss val: 0.21930587992948644\n",
      "accuracy train: 0.9502380952380952, accuracy val: 0.8995238095238095\n",
      "---------------------------------------------------------------------------------------------------\n",
      "Epoch: 101, Learning Rate: 0.000125\n",
      "\n"
     ]
    },
    {
     "data": {
      "application/vnd.jupyter.widget-view+json": {
       "model_id": "bdeeb72fb67f408bb9912a0d335b3ada",
       "version_major": 2,
       "version_minor": 0
      },
      "text/plain": [
       "HBox(children=(FloatProgress(value=0.0, max=132.0), HTML(value='')))"
      ]
     },
     "metadata": {},
     "output_type": "display_data"
    },
    {
     "name": "stdout",
     "output_type": "stream",
     "text": [
      "\n",
      "tensor(-4.1330e-07, device='cuda:3')\n",
      "tensor(1.4374e-08, device='cuda:3')\n",
      "tensor(5.3029e-06, device='cuda:3')\n",
      "tensor(5.3029e-06, device='cuda:3')\n",
      "tensor(-1.2024e-07, device='cuda:3')\n",
      "tensor(3.9624e-10, device='cuda:3')\n",
      "tensor(1.2482e-06, device='cuda:3')\n",
      "tensor(1.2482e-06, device='cuda:3')\n",
      "tensor(2.9148e-09, device='cuda:3')\n",
      "tensor(1.9294e-08, device='cuda:3')\n",
      "tensor(-2.3472e-06, device='cuda:3')\n",
      "tensor(-2.3472e-06, device='cuda:3')\n",
      "tensor(-4.7412e-10, device='cuda:3')\n",
      "tensor(0., device='cuda:3')\n",
      "tensor(1.1012e-07, device='cuda:3')\n",
      "tensor(1.1012e-07, device='cuda:3')\n",
      "tensor(-3.5306e-08, device='cuda:3')\n",
      "tensor(-7.4919e-06, device='cuda:3')\n",
      "tensor(-2.4240e-09, device='cuda:3')\n",
      "tensor(-1.1752e-09, device='cuda:3')\n"
     ]
    },
    {
     "data": {
      "application/vnd.jupyter.widget-view+json": {
       "model_id": "3916b3e4258d484cb28957ef81088753",
       "version_major": 2,
       "version_minor": 0
      },
      "text/plain": [
       "HBox(children=(FloatProgress(value=0.0, max=17.0), HTML(value='')))"
      ]
     },
     "metadata": {},
     "output_type": "display_data"
    },
    {
     "name": "stdout",
     "output_type": "stream",
     "text": [
      "\n",
      "epoch time: 24.84870672225952\n",
      "loss train: 0.09333816340729369, loss val: 0.22705036445575602\n",
      "accuracy train: 0.9472619047619047, accuracy val: 0.909047619047619\n",
      "---------------------------------------------------------------------------------------------------\n",
      "Epoch: 102, Learning Rate: 0.000125\n",
      "\n"
     ]
    },
    {
     "data": {
      "application/vnd.jupyter.widget-view+json": {
       "model_id": "b39a684cce274859b12c03f2b8991e32",
       "version_major": 2,
       "version_minor": 0
      },
      "text/plain": [
       "HBox(children=(FloatProgress(value=0.0, max=132.0), HTML(value='')))"
      ]
     },
     "metadata": {},
     "output_type": "display_data"
    },
    {
     "name": "stdout",
     "output_type": "stream",
     "text": [
      "\n",
      "tensor(3.8783e-09, device='cuda:3')\n",
      "tensor(3.0150e-10, device='cuda:3')\n",
      "tensor(-5.4204e-08, device='cuda:3')\n",
      "tensor(-5.4204e-08, device='cuda:3')\n",
      "tensor(5.4760e-11, device='cuda:3')\n",
      "tensor(-4.5117e-11, device='cuda:3')\n",
      "tensor(-7.1709e-09, device='cuda:3')\n",
      "tensor(-7.1709e-09, device='cuda:3')\n",
      "tensor(-2.3648e-11, device='cuda:3')\n",
      "tensor(1.5028e-10, device='cuda:3')\n",
      "tensor(-1.3255e-08, device='cuda:3')\n",
      "tensor(-1.3255e-08, device='cuda:3')\n",
      "tensor(3.4856e-11, device='cuda:3')\n",
      "tensor(0., device='cuda:3')\n",
      "tensor(-8.2282e-09, device='cuda:3')\n",
      "tensor(-8.2282e-09, device='cuda:3')\n",
      "tensor(-8.3452e-10, device='cuda:3')\n",
      "tensor(-7.5947e-08, device='cuda:3')\n",
      "tensor(6.6283e-09, device='cuda:3')\n",
      "tensor(4.3552e-09, device='cuda:3')\n"
     ]
    },
    {
     "data": {
      "application/vnd.jupyter.widget-view+json": {
       "model_id": "182fc00f1e0345cb87ac10c43ec5a852",
       "version_major": 2,
       "version_minor": 0
      },
      "text/plain": [
       "HBox(children=(FloatProgress(value=0.0, max=17.0), HTML(value='')))"
      ]
     },
     "metadata": {},
     "output_type": "display_data"
    },
    {
     "name": "stdout",
     "output_type": "stream",
     "text": [
      "\n",
      "epoch time: 24.98810076713562\n",
      "loss train: 0.08377987199999166, loss val: 0.22248051227892146\n",
      "accuracy train: 0.9529761904761904, accuracy val: 0.909047619047619\n",
      "---------------------------------------------------------------------------------------------------\n",
      "Epoch: 103, Learning Rate: 0.000125\n",
      "\n"
     ]
    },
    {
     "data": {
      "application/vnd.jupyter.widget-view+json": {
       "model_id": "c2a5355e6f7e4d07981bb92c374bb68c",
       "version_major": 2,
       "version_minor": 0
      },
      "text/plain": [
       "HBox(children=(FloatProgress(value=0.0, max=132.0), HTML(value='')))"
      ]
     },
     "metadata": {},
     "output_type": "display_data"
    },
    {
     "name": "stdout",
     "output_type": "stream",
     "text": [
      "\n",
      "tensor(1.8400e-07, device='cuda:3')\n",
      "tensor(1.7493e-08, device='cuda:3')\n",
      "tensor(6.5411e-06, device='cuda:3')\n",
      "tensor(6.5411e-06, device='cuda:3')\n",
      "tensor(-1.9242e-08, device='cuda:3')\n",
      "tensor(4.3570e-09, device='cuda:3')\n",
      "tensor(5.3886e-07, device='cuda:3')\n",
      "tensor(5.3886e-07, device='cuda:3')\n",
      "tensor(-3.1350e-09, device='cuda:3')\n",
      "tensor(-3.9287e-09, device='cuda:3')\n",
      "tensor(-1.2733e-06, device='cuda:3')\n",
      "tensor(-1.2733e-06, device='cuda:3')\n",
      "tensor(-2.2981e-09, device='cuda:3')\n",
      "tensor(0., device='cuda:3')\n",
      "tensor(-4.8823e-07, device='cuda:3')\n",
      "tensor(-4.8823e-07, device='cuda:3')\n",
      "tensor(-5.8773e-08, device='cuda:3')\n",
      "tensor(-4.8440e-06, device='cuda:3')\n",
      "tensor(4.4635e-09, device='cuda:3')\n",
      "tensor(3.1474e-09, device='cuda:3')\n"
     ]
    },
    {
     "data": {
      "application/vnd.jupyter.widget-view+json": {
       "model_id": "66b19dbae962412baf9787327ded4c1c",
       "version_major": 2,
       "version_minor": 0
      },
      "text/plain": [
       "HBox(children=(FloatProgress(value=0.0, max=17.0), HTML(value='')))"
      ]
     },
     "metadata": {},
     "output_type": "display_data"
    },
    {
     "name": "stdout",
     "output_type": "stream",
     "text": [
      "\n",
      "epoch time: 25.544979333877563\n",
      "loss train: 0.09368590707185143, loss val: 0.2173733610440703\n",
      "accuracy train: 0.9496428571428571, accuracy val: 0.9\n",
      "---------------------------------------------------------------------------------------------------\n",
      "Epoch: 104, Learning Rate: 0.000125\n",
      "\n"
     ]
    },
    {
     "data": {
      "application/vnd.jupyter.widget-view+json": {
       "model_id": "40618590f4414360bd44dc48d89e30c5",
       "version_major": 2,
       "version_minor": 0
      },
      "text/plain": [
       "HBox(children=(FloatProgress(value=0.0, max=132.0), HTML(value='')))"
      ]
     },
     "metadata": {},
     "output_type": "display_data"
    },
    {
     "name": "stdout",
     "output_type": "stream",
     "text": [
      "\n",
      "tensor(-4.0544e-05, device='cuda:3')\n",
      "tensor(-4.3878e-06, device='cuda:3')\n",
      "tensor(-0.0018, device='cuda:3')\n",
      "tensor(-0.0018, device='cuda:3')\n",
      "tensor(-4.9994e-06, device='cuda:3')\n",
      "tensor(-4.2900e-07, device='cuda:3')\n",
      "tensor(-3.1561e-05, device='cuda:3')\n",
      "tensor(-3.1561e-05, device='cuda:3')\n",
      "tensor(1.4072e-07, device='cuda:3')\n",
      "tensor(-4.0654e-06, device='cuda:3')\n",
      "tensor(1.1898e-05, device='cuda:3')\n",
      "tensor(1.1898e-05, device='cuda:3')\n",
      "tensor(-4.1960e-08, device='cuda:3')\n",
      "tensor(0., device='cuda:3')\n",
      "tensor(-1.6897e-05, device='cuda:3')\n",
      "tensor(-1.6897e-05, device='cuda:3')\n",
      "tensor(-8.7984e-06, device='cuda:3')\n",
      "tensor(-0.0003, device='cuda:3')\n",
      "tensor(-4.0679e-09, device='cuda:3')\n",
      "tensor(-2.4835e-09, device='cuda:3')\n"
     ]
    },
    {
     "data": {
      "application/vnd.jupyter.widget-view+json": {
       "model_id": "679cc8dfd1634d29942d5e5d654c48ca",
       "version_major": 2,
       "version_minor": 0
      },
      "text/plain": [
       "HBox(children=(FloatProgress(value=0.0, max=17.0), HTML(value='')))"
      ]
     },
     "metadata": {},
     "output_type": "display_data"
    },
    {
     "name": "stdout",
     "output_type": "stream",
     "text": [
      "\n",
      "epoch time: 25.91753077507019\n",
      "loss train: 0.0900973372556495, loss val: 0.21576109265579896\n",
      "accuracy train: 0.9496428571428571, accuracy val: 0.9042857142857142\n",
      "---------------------------------------------------------------------------------------------------\n",
      "Epoch: 105, Learning Rate: 0.000125\n",
      "\n"
     ]
    },
    {
     "data": {
      "application/vnd.jupyter.widget-view+json": {
       "model_id": "f5a5a2369ad74afc9c879548a8538a3f",
       "version_major": 2,
       "version_minor": 0
      },
      "text/plain": [
       "HBox(children=(FloatProgress(value=0.0, max=132.0), HTML(value='')))"
      ]
     },
     "metadata": {},
     "output_type": "display_data"
    },
    {
     "name": "stdout",
     "output_type": "stream",
     "text": [
      "\n",
      "tensor(-1.8779e-05, device='cuda:3')\n",
      "tensor(-2.5970e-06, device='cuda:3')\n",
      "tensor(0.0021, device='cuda:3')\n",
      "tensor(0.0021, device='cuda:3')\n",
      "tensor(-8.9457e-06, device='cuda:3')\n",
      "tensor(-2.4706e-07, device='cuda:3')\n",
      "tensor(-2.0814e-05, device='cuda:3')\n",
      "tensor(-2.0814e-05, device='cuda:3')\n",
      "tensor(-3.5901e-07, device='cuda:3')\n",
      "tensor(1.2770e-06, device='cuda:3')\n",
      "tensor(8.2618e-05, device='cuda:3')\n",
      "tensor(8.2618e-05, device='cuda:3')\n",
      "tensor(-7.3787e-07, device='cuda:3')\n",
      "tensor(0., device='cuda:3')\n",
      "tensor(9.8552e-05, device='cuda:3')\n",
      "tensor(9.8552e-05, device='cuda:3')\n",
      "tensor(-1.1032e-06, device='cuda:3')\n",
      "tensor(0.0002, device='cuda:3')\n",
      "tensor(2.4041e-09, device='cuda:3')\n",
      "tensor(1.7739e-09, device='cuda:3')\n"
     ]
    },
    {
     "data": {
      "application/vnd.jupyter.widget-view+json": {
       "model_id": "171463c881104d0e8fb077709dd2c720",
       "version_major": 2,
       "version_minor": 0
      },
      "text/plain": [
       "HBox(children=(FloatProgress(value=0.0, max=17.0), HTML(value='')))"
      ]
     },
     "metadata": {},
     "output_type": "display_data"
    },
    {
     "name": "stdout",
     "output_type": "stream",
     "text": [
      "\n",
      "epoch time: 25.792173624038696\n",
      "loss train: 0.09084293075526755, loss val: 0.21597062971662073\n",
      "accuracy train: 0.9507142857142857, accuracy val: 0.9052380952380953\n",
      "---------------------------------------------------------------------------------------------------\n",
      "Epoch: 106, Learning Rate: 0.000125\n",
      "\n"
     ]
    },
    {
     "data": {
      "application/vnd.jupyter.widget-view+json": {
       "model_id": "09ba31fedfc44026b7e9fe4ad41eb0d1",
       "version_major": 2,
       "version_minor": 0
      },
      "text/plain": [
       "HBox(children=(FloatProgress(value=0.0, max=132.0), HTML(value='')))"
      ]
     },
     "metadata": {},
     "output_type": "display_data"
    },
    {
     "name": "stdout",
     "output_type": "stream",
     "text": [
      "\n",
      "tensor(1.0043e-05, device='cuda:3')\n",
      "tensor(-1.7575e-06, device='cuda:3')\n",
      "tensor(-0.0003, device='cuda:3')\n",
      "tensor(-0.0003, device='cuda:3')\n",
      "tensor(1.9576e-06, device='cuda:3')\n",
      "tensor(2.6164e-07, device='cuda:3')\n",
      "tensor(2.7706e-05, device='cuda:3')\n",
      "tensor(2.7706e-05, device='cuda:3')\n",
      "tensor(1.8682e-07, device='cuda:3')\n",
      "tensor(2.1404e-07, device='cuda:3')\n",
      "tensor(-3.1594e-05, device='cuda:3')\n",
      "tensor(-3.1594e-05, device='cuda:3')\n",
      "tensor(-2.2514e-08, device='cuda:3')\n",
      "tensor(0., device='cuda:3')\n",
      "tensor(2.3644e-05, device='cuda:3')\n",
      "tensor(2.3644e-05, device='cuda:3')\n",
      "tensor(2.9001e-06, device='cuda:3')\n",
      "tensor(0.0002, device='cuda:3')\n",
      "tensor(-7.7663e-10, device='cuda:3')\n",
      "tensor(-2.6609e-10, device='cuda:3')\n"
     ]
    },
    {
     "data": {
      "application/vnd.jupyter.widget-view+json": {
       "model_id": "65a93c31a10a40d7b758b3ff0fcfded6",
       "version_major": 2,
       "version_minor": 0
      },
      "text/plain": [
       "HBox(children=(FloatProgress(value=0.0, max=17.0), HTML(value='')))"
      ]
     },
     "metadata": {},
     "output_type": "display_data"
    },
    {
     "name": "stdout",
     "output_type": "stream",
     "text": [
      "\n",
      "epoch time: 25.811574935913086\n",
      "loss train: 0.0838106322582021, loss val: 0.20830915342358983\n",
      "accuracy train: 0.950952380952381, accuracy val: 0.9095238095238095\n",
      "---------------------------------------------------------------------------------------------------\n",
      "Epoch: 107, Learning Rate: 0.000125\n",
      "\n"
     ]
    },
    {
     "data": {
      "application/vnd.jupyter.widget-view+json": {
       "model_id": "085a2285948c4101bb47a06aefbb1e28",
       "version_major": 2,
       "version_minor": 0
      },
      "text/plain": [
       "HBox(children=(FloatProgress(value=0.0, max=132.0), HTML(value='')))"
      ]
     },
     "metadata": {},
     "output_type": "display_data"
    },
    {
     "name": "stdout",
     "output_type": "stream",
     "text": [
      "\n",
      "tensor(5.3506e-05, device='cuda:3')\n",
      "tensor(-1.6391e-05, device='cuda:3')\n",
      "tensor(-0.0067, device='cuda:3')\n",
      "tensor(-0.0067, device='cuda:3')\n",
      "tensor(-5.8165e-06, device='cuda:3')\n",
      "tensor(-1.4733e-06, device='cuda:3')\n",
      "tensor(3.6828e-06, device='cuda:3')\n",
      "tensor(3.6828e-06, device='cuda:3')\n",
      "tensor(-9.5366e-07, device='cuda:3')\n",
      "tensor(-1.8046e-05, device='cuda:3')\n",
      "tensor(-0.0003, device='cuda:3')\n",
      "tensor(-0.0003, device='cuda:3')\n",
      "tensor(5.6182e-08, device='cuda:3')\n",
      "tensor(0., device='cuda:3')\n",
      "tensor(-1.5508e-05, device='cuda:3')\n",
      "tensor(-1.5508e-05, device='cuda:3')\n",
      "tensor(4.5672e-07, device='cuda:3')\n",
      "tensor(4.4211e-05, device='cuda:3')\n",
      "tensor(7.1010e-09, device='cuda:3')\n",
      "tensor(4.0801e-09, device='cuda:3')\n"
     ]
    },
    {
     "data": {
      "application/vnd.jupyter.widget-view+json": {
       "model_id": "20f939cc1add4cc590eebceb406d916b",
       "version_major": 2,
       "version_minor": 0
      },
      "text/plain": [
       "HBox(children=(FloatProgress(value=0.0, max=17.0), HTML(value='')))"
      ]
     },
     "metadata": {},
     "output_type": "display_data"
    },
    {
     "name": "stdout",
     "output_type": "stream",
     "text": [
      "\n",
      "epoch time: 25.407403707504272\n",
      "loss train: 0.09288411020216616, loss val: 0.23446663469076157\n",
      "accuracy train: 0.9501190476190476, accuracy val: 0.9023809523809524\n",
      "---------------------------------------------------------------------------------------------------\n",
      "Epoch: 108, Learning Rate: 0.000125\n",
      "\n"
     ]
    },
    {
     "data": {
      "application/vnd.jupyter.widget-view+json": {
       "model_id": "01d2b98286204297beb25a75ebbe2bd2",
       "version_major": 2,
       "version_minor": 0
      },
      "text/plain": [
       "HBox(children=(FloatProgress(value=0.0, max=132.0), HTML(value='')))"
      ]
     },
     "metadata": {},
     "output_type": "display_data"
    },
    {
     "name": "stdout",
     "output_type": "stream",
     "text": [
      "\n",
      "tensor(-1.7590e-06, device='cuda:3')\n",
      "tensor(-3.4292e-07, device='cuda:3')\n",
      "tensor(-7.6958e-05, device='cuda:3')\n",
      "tensor(-7.6958e-05, device='cuda:3')\n",
      "tensor(-5.9731e-07, device='cuda:3')\n",
      "tensor(-3.9342e-08, device='cuda:3')\n",
      "tensor(-1.9459e-05, device='cuda:3')\n",
      "tensor(-1.9459e-05, device='cuda:3')\n",
      "tensor(9.2940e-10, device='cuda:3')\n",
      "tensor(2.1414e-07, device='cuda:3')\n",
      "tensor(1.0625e-05, device='cuda:3')\n",
      "tensor(1.0625e-05, device='cuda:3')\n",
      "tensor(-3.5834e-08, device='cuda:3')\n",
      "tensor(0., device='cuda:3')\n",
      "tensor(-1.1118e-05, device='cuda:3')\n",
      "tensor(-1.1118e-05, device='cuda:3')\n",
      "tensor(-1.5300e-06, device='cuda:3')\n",
      "tensor(-9.9008e-05, device='cuda:3')\n",
      "tensor(1.5295e-09, device='cuda:3')\n",
      "tensor(1.7739e-10, device='cuda:3')\n"
     ]
    },
    {
     "data": {
      "application/vnd.jupyter.widget-view+json": {
       "model_id": "db126abf6eab49d49dbbd8308a45cc8e",
       "version_major": 2,
       "version_minor": 0
      },
      "text/plain": [
       "HBox(children=(FloatProgress(value=0.0, max=17.0), HTML(value='')))"
      ]
     },
     "metadata": {},
     "output_type": "display_data"
    },
    {
     "name": "stdout",
     "output_type": "stream",
     "text": [
      "\n",
      "epoch time: 25.993812322616577\n",
      "loss train: 0.09076656684787436, loss val: 0.20930022045093424\n",
      "accuracy train: 0.9478571428571428, accuracy val: 0.909047619047619\n",
      "---------------------------------------------------------------------------------------------------\n",
      "Epoch: 109, Learning Rate: 0.000125\n",
      "\n"
     ]
    },
    {
     "data": {
      "application/vnd.jupyter.widget-view+json": {
       "model_id": "65c7931d9a8c4b23a6daadc5ab750f01",
       "version_major": 2,
       "version_minor": 0
      },
      "text/plain": [
       "HBox(children=(FloatProgress(value=0.0, max=132.0), HTML(value='')))"
      ]
     },
     "metadata": {},
     "output_type": "display_data"
    },
    {
     "name": "stdout",
     "output_type": "stream",
     "text": [
      "\n",
      "tensor(3.9627e-06, device='cuda:3')\n",
      "tensor(2.3912e-06, device='cuda:3')\n",
      "tensor(-0.0001, device='cuda:3')\n",
      "tensor(-0.0001, device='cuda:3')\n",
      "tensor(1.6277e-06, device='cuda:3')\n",
      "tensor(1.6251e-07, device='cuda:3')\n",
      "tensor(0.0002, device='cuda:3')\n",
      "tensor(0.0002, device='cuda:3')\n",
      "tensor(-4.2198e-07, device='cuda:3')\n",
      "tensor(-3.6370e-06, device='cuda:3')\n",
      "tensor(-0.0001, device='cuda:3')\n",
      "tensor(-0.0001, device='cuda:3')\n",
      "tensor(4.1003e-07, device='cuda:3')\n",
      "tensor(0., device='cuda:3')\n",
      "tensor(9.0700e-05, device='cuda:3')\n",
      "tensor(9.0700e-05, device='cuda:3')\n",
      "tensor(7.4497e-06, device='cuda:3')\n",
      "tensor(0.0005, device='cuda:3')\n",
      "tensor(-6.0210e-11, device='cuda:3')\n",
      "tensor(-1.0644e-09, device='cuda:3')\n"
     ]
    },
    {
     "data": {
      "application/vnd.jupyter.widget-view+json": {
       "model_id": "c4dcbde5cc1b43c391a4a79d54587bff",
       "version_major": 2,
       "version_minor": 0
      },
      "text/plain": [
       "HBox(children=(FloatProgress(value=0.0, max=17.0), HTML(value='')))"
      ]
     },
     "metadata": {},
     "output_type": "display_data"
    },
    {
     "name": "stdout",
     "output_type": "stream",
     "text": [
      "\n",
      "epoch time: 24.624647617340088\n",
      "loss train: 0.08284298591597965, loss val: 0.21143453042296803\n",
      "accuracy train: 0.9538095238095238, accuracy val: 0.900952380952381\n",
      "---------------------------------------------------------------------------------------------------\n",
      "Epoch: 110, Learning Rate: 0.000125\n",
      "\n"
     ]
    },
    {
     "data": {
      "application/vnd.jupyter.widget-view+json": {
       "model_id": "499a1ff32a18482bab051ae86e2737d0",
       "version_major": 2,
       "version_minor": 0
      },
      "text/plain": [
       "HBox(children=(FloatProgress(value=0.0, max=132.0), HTML(value='')))"
      ]
     },
     "metadata": {},
     "output_type": "display_data"
    },
    {
     "name": "stdout",
     "output_type": "stream",
     "text": [
      "\n",
      "tensor(2.1957e-08, device='cuda:3')\n",
      "tensor(-3.4443e-08, device='cuda:3')\n",
      "tensor(-8.2020e-07, device='cuda:3')\n",
      "tensor(-8.2020e-07, device='cuda:3')\n",
      "tensor(-7.2034e-09, device='cuda:3')\n",
      "tensor(1.1890e-10, device='cuda:3')\n",
      "tensor(1.1377e-07, device='cuda:3')\n",
      "tensor(1.1377e-07, device='cuda:3')\n",
      "tensor(-7.2860e-09, device='cuda:3')\n",
      "tensor(-1.3827e-08, device='cuda:3')\n",
      "tensor(-5.1303e-07, device='cuda:3')\n",
      "tensor(-5.1303e-07, device='cuda:3')\n",
      "tensor(-1.8871e-08, device='cuda:3')\n",
      "tensor(0., device='cuda:3')\n",
      "tensor(-5.3401e-07, device='cuda:3')\n",
      "tensor(-5.3401e-07, device='cuda:3')\n",
      "tensor(2.9215e-08, device='cuda:3')\n",
      "tensor(-2.5402e-06, device='cuda:3')\n",
      "tensor(-1.2722e-09, device='cuda:3')\n",
      "tensor(-7.9343e-10, device='cuda:3')\n"
     ]
    },
    {
     "data": {
      "application/vnd.jupyter.widget-view+json": {
       "model_id": "ac479c40a0494c33b78f881e1b055881",
       "version_major": 2,
       "version_minor": 0
      },
      "text/plain": [
       "HBox(children=(FloatProgress(value=0.0, max=17.0), HTML(value='')))"
      ]
     },
     "metadata": {},
     "output_type": "display_data"
    },
    {
     "name": "stdout",
     "output_type": "stream",
     "text": [
      "\n",
      "epoch time: 24.34018301963806\n",
      "loss train: 0.08044848222793503, loss val: 0.23508917277350144\n",
      "accuracy train: 0.9523809523809523, accuracy val: 0.8961904761904762\n",
      "---------------------------------------------------------------------------------------------------\n",
      "Epoch: 111, Learning Rate: 0.000125\n",
      "\n"
     ]
    },
    {
     "data": {
      "application/vnd.jupyter.widget-view+json": {
       "model_id": "46f3b8e2863e40d781c4cfa3755ac5d0",
       "version_major": 2,
       "version_minor": 0
      },
      "text/plain": [
       "HBox(children=(FloatProgress(value=0.0, max=132.0), HTML(value='')))"
      ]
     },
     "metadata": {},
     "output_type": "display_data"
    },
    {
     "name": "stdout",
     "output_type": "stream",
     "text": [
      "\n",
      "tensor(-4.7946e-05, device='cuda:3')\n",
      "tensor(5.0834e-06, device='cuda:3')\n",
      "tensor(0.0011, device='cuda:3')\n",
      "tensor(0.0011, device='cuda:3')\n",
      "tensor(-1.4207e-06, device='cuda:3')\n",
      "tensor(2.4618e-07, device='cuda:3')\n",
      "tensor(1.9921e-05, device='cuda:3')\n",
      "tensor(1.9921e-05, device='cuda:3')\n",
      "tensor(1.5809e-07, device='cuda:3')\n",
      "tensor(1.3859e-06, device='cuda:3')\n",
      "tensor(6.4587e-05, device='cuda:3')\n",
      "tensor(6.4587e-05, device='cuda:3')\n",
      "tensor(-5.6939e-08, device='cuda:3')\n",
      "tensor(0., device='cuda:3')\n",
      "tensor(-9.4151e-06, device='cuda:3')\n",
      "tensor(-9.4151e-06, device='cuda:3')\n",
      "tensor(3.0198e-06, device='cuda:3')\n",
      "tensor(2.8977e-05, device='cuda:3')\n",
      "tensor(-3.5402e-09, device='cuda:3')\n",
      "tensor(-1.7739e-09, device='cuda:3')\n"
     ]
    },
    {
     "data": {
      "application/vnd.jupyter.widget-view+json": {
       "model_id": "b6df5eb217d2498891dd35143e57c67b",
       "version_major": 2,
       "version_minor": 0
      },
      "text/plain": [
       "HBox(children=(FloatProgress(value=0.0, max=17.0), HTML(value='')))"
      ]
     },
     "metadata": {},
     "output_type": "display_data"
    },
    {
     "name": "stdout",
     "output_type": "stream",
     "text": [
      "\n",
      "epoch time: 24.51063561439514\n",
      "loss train: 0.08845168635757132, loss val: 0.24070955593796337\n",
      "accuracy train: 0.9502380952380952, accuracy val: 0.9028571428571428\n",
      "---------------------------------------------------------------------------------------------------\n",
      "Epoch: 112, Learning Rate: 0.000125\n",
      "\n"
     ]
    },
    {
     "data": {
      "application/vnd.jupyter.widget-view+json": {
       "model_id": "06c0ba988524405d93174ad48fa21bc0",
       "version_major": 2,
       "version_minor": 0
      },
      "text/plain": [
       "HBox(children=(FloatProgress(value=0.0, max=132.0), HTML(value='')))"
      ]
     },
     "metadata": {},
     "output_type": "display_data"
    },
    {
     "name": "stdout",
     "output_type": "stream",
     "text": [
      "\n",
      "tensor(-2.4972e-06, device='cuda:3')\n",
      "tensor(-1.0283e-07, device='cuda:3')\n",
      "tensor(-7.4863e-05, device='cuda:3')\n",
      "tensor(-7.4863e-05, device='cuda:3')\n",
      "tensor(-1.8066e-07, device='cuda:3')\n",
      "tensor(8.5154e-09, device='cuda:3')\n",
      "tensor(-7.5242e-06, device='cuda:3')\n",
      "tensor(-7.5242e-06, device='cuda:3')\n",
      "tensor(-3.5195e-09, device='cuda:3')\n",
      "tensor(-1.9112e-07, device='cuda:3')\n",
      "tensor(-6.7103e-06, device='cuda:3')\n",
      "tensor(-6.7103e-06, device='cuda:3')\n",
      "tensor(7.4693e-10, device='cuda:3')\n",
      "tensor(0., device='cuda:3')\n",
      "tensor(-6.4473e-07, device='cuda:3')\n",
      "tensor(-6.4473e-07, device='cuda:3')\n",
      "tensor(-1.0583e-06, device='cuda:3')\n",
      "tensor(-4.5867e-05, device='cuda:3')\n",
      "tensor(1.0464e-09, device='cuda:3')\n",
      "tensor(1.3637e-09, device='cuda:3')\n"
     ]
    },
    {
     "data": {
      "application/vnd.jupyter.widget-view+json": {
       "model_id": "5e5d2abfe43a4d378f8ac9271d51b88a",
       "version_major": 2,
       "version_minor": 0
      },
      "text/plain": [
       "HBox(children=(FloatProgress(value=0.0, max=17.0), HTML(value='')))"
      ]
     },
     "metadata": {},
     "output_type": "display_data"
    },
    {
     "name": "stdout",
     "output_type": "stream",
     "text": [
      "\n",
      "epoch time: 24.424576997756958\n",
      "loss train: 0.0879399845320167, loss val: 0.2272290403352064\n",
      "accuracy train: 0.9503571428571429, accuracy val: 0.9066666666666666\n",
      "---------------------------------------------------------------------------------------------------\n",
      "Epoch: 113, Learning Rate: 0.000125\n",
      "\n"
     ]
    },
    {
     "data": {
      "application/vnd.jupyter.widget-view+json": {
       "model_id": "5b07ba4d21b0453299a7a308584b76a9",
       "version_major": 2,
       "version_minor": 0
      },
      "text/plain": [
       "HBox(children=(FloatProgress(value=0.0, max=132.0), HTML(value='')))"
      ]
     },
     "metadata": {},
     "output_type": "display_data"
    },
    {
     "name": "stdout",
     "output_type": "stream",
     "text": [
      "\n",
      "tensor(2.8804e-07, device='cuda:3')\n",
      "tensor(-5.9649e-07, device='cuda:3')\n",
      "tensor(-3.9849e-05, device='cuda:3')\n",
      "tensor(-3.9849e-05, device='cuda:3')\n",
      "tensor(3.3305e-07, device='cuda:3')\n",
      "tensor(-5.0904e-08, device='cuda:3')\n",
      "tensor(-1.4956e-05, device='cuda:3')\n",
      "tensor(-1.4956e-05, device='cuda:3')\n",
      "tensor(1.0612e-08, device='cuda:3')\n",
      "tensor(-2.7084e-09, device='cuda:3')\n",
      "tensor(2.8695e-06, device='cuda:3')\n",
      "tensor(2.8695e-06, device='cuda:3')\n",
      "tensor(2.4477e-08, device='cuda:3')\n",
      "tensor(0., device='cuda:3')\n",
      "tensor(-1.2116e-05, device='cuda:3')\n",
      "tensor(-1.2116e-05, device='cuda:3')\n",
      "tensor(-1.2625e-06, device='cuda:3')\n",
      "tensor(-6.6433e-05, device='cuda:3')\n",
      "tensor(6.5004e-09, device='cuda:3')\n",
      "tensor(3.9027e-09, device='cuda:3')\n"
     ]
    },
    {
     "data": {
      "application/vnd.jupyter.widget-view+json": {
       "model_id": "942d9e075ee3476fa57a882748afd112",
       "version_major": 2,
       "version_minor": 0
      },
      "text/plain": [
       "HBox(children=(FloatProgress(value=0.0, max=17.0), HTML(value='')))"
      ]
     },
     "metadata": {},
     "output_type": "display_data"
    },
    {
     "name": "stdout",
     "output_type": "stream",
     "text": [
      "\n",
      "epoch time: 24.350663423538208\n",
      "loss train: 0.08609651971721288, loss val: 0.2168429993531283\n",
      "accuracy train: 0.9516666666666667, accuracy val: 0.9033333333333333\n",
      "---------------------------------------------------------------------------------------------------\n",
      "Epoch: 114, Learning Rate: 0.000125\n",
      "\n"
     ]
    },
    {
     "data": {
      "application/vnd.jupyter.widget-view+json": {
       "model_id": "315257b7228b4955bc5c1c48c2e209d3",
       "version_major": 2,
       "version_minor": 0
      },
      "text/plain": [
       "HBox(children=(FloatProgress(value=0.0, max=132.0), HTML(value='')))"
      ]
     },
     "metadata": {},
     "output_type": "display_data"
    },
    {
     "name": "stdout",
     "output_type": "stream",
     "text": [
      "\n",
      "tensor(0.0003, device='cuda:3')\n",
      "tensor(-8.2197e-06, device='cuda:3')\n",
      "tensor(0.0171, device='cuda:3')\n",
      "tensor(0.0171, device='cuda:3')\n",
      "tensor(4.0798e-06, device='cuda:3')\n",
      "tensor(-1.1781e-06, device='cuda:3')\n",
      "tensor(7.8684e-05, device='cuda:3')\n",
      "tensor(7.8684e-05, device='cuda:3')\n",
      "tensor(-3.6432e-07, device='cuda:3')\n",
      "tensor(-7.8739e-06, device='cuda:3')\n",
      "tensor(-0.0002, device='cuda:3')\n",
      "tensor(-0.0002, device='cuda:3')\n",
      "tensor(7.5864e-07, device='cuda:3')\n",
      "tensor(0., device='cuda:3')\n",
      "tensor(-6.6145e-05, device='cuda:3')\n",
      "tensor(-6.6145e-05, device='cuda:3')\n",
      "tensor(-1.2600e-05, device='cuda:3')\n",
      "tensor(-0.0004, device='cuda:3')\n",
      "tensor(4.3618e-09, device='cuda:3')\n",
      "tensor(4.2575e-09, device='cuda:3')\n"
     ]
    },
    {
     "data": {
      "application/vnd.jupyter.widget-view+json": {
       "model_id": "7290849d34ee4026be45e51c6ced4e1a",
       "version_major": 2,
       "version_minor": 0
      },
      "text/plain": [
       "HBox(children=(FloatProgress(value=0.0, max=17.0), HTML(value='')))"
      ]
     },
     "metadata": {},
     "output_type": "display_data"
    },
    {
     "name": "stdout",
     "output_type": "stream",
     "text": [
      "\n",
      "epoch time: 24.47431230545044\n",
      "loss train: 0.08798209291346597, loss val: 0.2276244365117129\n",
      "accuracy train: 0.9501190476190476, accuracy val: 0.9014285714285715\n",
      "---------------------------------------------------------------------------------------------------\n",
      "Epoch: 115, Learning Rate: 0.000125\n",
      "\n"
     ]
    },
    {
     "data": {
      "application/vnd.jupyter.widget-view+json": {
       "model_id": "9ad9d6ca089a465399bc2190692fa034",
       "version_major": 2,
       "version_minor": 0
      },
      "text/plain": [
       "HBox(children=(FloatProgress(value=0.0, max=132.0), HTML(value='')))"
      ]
     },
     "metadata": {},
     "output_type": "display_data"
    },
    {
     "name": "stdout",
     "output_type": "stream",
     "text": [
      "\n",
      "tensor(-3.1458e-05, device='cuda:3')\n",
      "tensor(5.4204e-07, device='cuda:3')\n",
      "tensor(0.0013, device='cuda:3')\n",
      "tensor(0.0013, device='cuda:3')\n",
      "tensor(-1.3826e-06, device='cuda:3')\n",
      "tensor(-4.2141e-08, device='cuda:3')\n",
      "tensor(-2.2396e-05, device='cuda:3')\n",
      "tensor(-2.2396e-05, device='cuda:3')\n",
      "tensor(2.7468e-08, device='cuda:3')\n",
      "tensor(5.7260e-07, device='cuda:3')\n",
      "tensor(6.4130e-05, device='cuda:3')\n",
      "tensor(6.4130e-05, device='cuda:3')\n",
      "tensor(-7.8707e-08, device='cuda:3')\n",
      "tensor(0., device='cuda:3')\n",
      "tensor(-1.1510e-05, device='cuda:3')\n",
      "tensor(-1.1510e-05, device='cuda:3')\n",
      "tensor(-1.7587e-06, device='cuda:3')\n",
      "tensor(-6.1193e-05, device='cuda:3')\n",
      "tensor(4.5987e-09, device='cuda:3')\n",
      "tensor(3.1931e-09, device='cuda:3')\n"
     ]
    },
    {
     "data": {
      "application/vnd.jupyter.widget-view+json": {
       "model_id": "d408a6e60935462ebbe428026352f757",
       "version_major": 2,
       "version_minor": 0
      },
      "text/plain": [
       "HBox(children=(FloatProgress(value=0.0, max=17.0), HTML(value='')))"
      ]
     },
     "metadata": {},
     "output_type": "display_data"
    },
    {
     "name": "stdout",
     "output_type": "stream",
     "text": [
      "\n",
      "epoch time: 26.543081045150757\n",
      "loss train: 0.08454718828822176, loss val: 0.22107412008678212\n",
      "accuracy train: 0.9495238095238095, accuracy val: 0.9042857142857142\n",
      "---------------------------------------------------------------------------------------------------\n",
      "Epoch: 116, Learning Rate: 0.000125\n",
      "\n"
     ]
    },
    {
     "data": {
      "application/vnd.jupyter.widget-view+json": {
       "model_id": "dee807d0329d42f4b9fffc013b01564b",
       "version_major": 2,
       "version_minor": 0
      },
      "text/plain": [
       "HBox(children=(FloatProgress(value=0.0, max=132.0), HTML(value='')))"
      ]
     },
     "metadata": {},
     "output_type": "display_data"
    },
    {
     "name": "stdout",
     "output_type": "stream",
     "text": [
      "\n",
      "tensor(-5.0724e-05, device='cuda:3')\n",
      "tensor(-1.3920e-05, device='cuda:3')\n",
      "tensor(0.0038, device='cuda:3')\n",
      "tensor(0.0038, device='cuda:3')\n",
      "tensor(-1.4637e-05, device='cuda:3')\n",
      "tensor(4.1663e-07, device='cuda:3')\n",
      "tensor(8.9405e-05, device='cuda:3')\n",
      "tensor(8.9405e-05, device='cuda:3')\n",
      "tensor(9.4040e-07, device='cuda:3')\n",
      "tensor(-3.4105e-06, device='cuda:3')\n",
      "tensor(4.1441e-05, device='cuda:3')\n",
      "tensor(4.1441e-05, device='cuda:3')\n",
      "tensor(-4.6280e-07, device='cuda:3')\n",
      "tensor(0., device='cuda:3')\n",
      "tensor(-4.8684e-05, device='cuda:3')\n",
      "tensor(-4.8684e-05, device='cuda:3')\n",
      "tensor(-9.4044e-06, device='cuda:3')\n",
      "tensor(-0.0005, device='cuda:3')\n",
      "tensor(-5.9885e-10, device='cuda:3')\n",
      "tensor(-1.1974e-09, device='cuda:3')\n"
     ]
    },
    {
     "data": {
      "application/vnd.jupyter.widget-view+json": {
       "model_id": "f72d63d7ac0843e29493b2a6c090a8ba",
       "version_major": 2,
       "version_minor": 0
      },
      "text/plain": [
       "HBox(children=(FloatProgress(value=0.0, max=17.0), HTML(value='')))"
      ]
     },
     "metadata": {},
     "output_type": "display_data"
    },
    {
     "name": "stdout",
     "output_type": "stream",
     "text": [
      "\n",
      "epoch time: 25.990824460983276\n",
      "loss train: 0.08188400825372699, loss val: 0.22916748462354436\n",
      "accuracy train: 0.9530952380952381, accuracy val: 0.9066666666666666\n",
      "---------------------------------------------------------------------------------------------------\n",
      "Epoch: 117, Learning Rate: 0.000125\n",
      "\n"
     ]
    },
    {
     "data": {
      "application/vnd.jupyter.widget-view+json": {
       "model_id": "e97da1a7fb7747519c1247749b0a73f9",
       "version_major": 2,
       "version_minor": 0
      },
      "text/plain": [
       "HBox(children=(FloatProgress(value=0.0, max=132.0), HTML(value='')))"
      ]
     },
     "metadata": {},
     "output_type": "display_data"
    },
    {
     "name": "stdout",
     "output_type": "stream",
     "text": [
      "\n",
      "tensor(-6.3661e-06, device='cuda:3')\n",
      "tensor(-3.0182e-08, device='cuda:3')\n",
      "tensor(-0.0005, device='cuda:3')\n",
      "tensor(-0.0005, device='cuda:3')\n",
      "tensor(-5.1107e-06, device='cuda:3')\n",
      "tensor(1.9454e-07, device='cuda:3')\n",
      "tensor(8.8591e-05, device='cuda:3')\n",
      "tensor(8.8591e-05, device='cuda:3')\n",
      "tensor(6.7568e-08, device='cuda:3')\n",
      "tensor(-1.8474e-07, device='cuda:3')\n",
      "tensor(-3.0990e-05, device='cuda:3')\n",
      "tensor(-3.0990e-05, device='cuda:3')\n",
      "tensor(6.6016e-08, device='cuda:3')\n",
      "tensor(0., device='cuda:3')\n",
      "tensor(-9.7666e-06, device='cuda:3')\n",
      "tensor(-9.7666e-06, device='cuda:3')\n",
      "tensor(-9.6140e-07, device='cuda:3')\n",
      "tensor(-4.9520e-05, device='cuda:3')\n",
      "tensor(6.5385e-09, device='cuda:3')\n",
      "tensor(4.7010e-09, device='cuda:3')\n"
     ]
    },
    {
     "data": {
      "application/vnd.jupyter.widget-view+json": {
       "model_id": "2cc7c1c01a0f484082bfd894f935aa2d",
       "version_major": 2,
       "version_minor": 0
      },
      "text/plain": [
       "HBox(children=(FloatProgress(value=0.0, max=17.0), HTML(value='')))"
      ]
     },
     "metadata": {},
     "output_type": "display_data"
    },
    {
     "name": "stdout",
     "output_type": "stream",
     "text": [
      "\n",
      "epoch time: 25.345417976379395\n",
      "loss train: 0.07895822329870002, loss val: 0.22255438653861775\n",
      "accuracy train: 0.9534523809523809, accuracy val: 0.9042857142857142\n",
      "---------------------------------------------------------------------------------------------------\n",
      "Epoch: 118, Learning Rate: 0.000125\n",
      "\n"
     ]
    },
    {
     "data": {
      "application/vnd.jupyter.widget-view+json": {
       "model_id": "2498a7c25f084752bf748d68287412fc",
       "version_major": 2,
       "version_minor": 0
      },
      "text/plain": [
       "HBox(children=(FloatProgress(value=0.0, max=132.0), HTML(value='')))"
      ]
     },
     "metadata": {},
     "output_type": "display_data"
    },
    {
     "name": "stdout",
     "output_type": "stream",
     "text": [
      "\n",
      "tensor(3.3112e-05, device='cuda:3')\n",
      "tensor(-3.3267e-06, device='cuda:3')\n",
      "tensor(-0.0002, device='cuda:3')\n",
      "tensor(-0.0002, device='cuda:3')\n",
      "tensor(-5.3837e-06, device='cuda:3')\n",
      "tensor(-2.6047e-07, device='cuda:3')\n",
      "tensor(-0.0003, device='cuda:3')\n",
      "tensor(-0.0003, device='cuda:3')\n",
      "tensor(-2.7441e-07, device='cuda:3')\n",
      "tensor(-2.1708e-06, device='cuda:3')\n",
      "tensor(-0.0002, device='cuda:3')\n",
      "tensor(-0.0002, device='cuda:3')\n",
      "tensor(-7.5526e-08, device='cuda:3')\n",
      "tensor(0., device='cuda:3')\n",
      "tensor(2.0431e-05, device='cuda:3')\n",
      "tensor(2.0431e-05, device='cuda:3')\n",
      "tensor(-8.5615e-08, device='cuda:3')\n",
      "tensor(9.6708e-06, device='cuda:3')\n",
      "tensor(1.6487e-09, device='cuda:3')\n",
      "tensor(1.0644e-09, device='cuda:3')\n"
     ]
    },
    {
     "data": {
      "application/vnd.jupyter.widget-view+json": {
       "model_id": "01c0a84876c344eaa02fbd5ea825c019",
       "version_major": 2,
       "version_minor": 0
      },
      "text/plain": [
       "HBox(children=(FloatProgress(value=0.0, max=17.0), HTML(value='')))"
      ]
     },
     "metadata": {},
     "output_type": "display_data"
    },
    {
     "name": "stdout",
     "output_type": "stream",
     "text": [
      "\n",
      "epoch time: 24.98110580444336\n",
      "loss train: 0.07900763053277676, loss val: 0.2387387415065485\n",
      "accuracy train: 0.9544047619047619, accuracy val: 0.9085714285714286\n",
      "---------------------------------------------------------------------------------------------------\n",
      "Epoch: 119, Learning Rate: 0.000125\n",
      "\n"
     ]
    },
    {
     "data": {
      "application/vnd.jupyter.widget-view+json": {
       "model_id": "7759d9f227dc49f6adbeb4fd6418634a",
       "version_major": 2,
       "version_minor": 0
      },
      "text/plain": [
       "HBox(children=(FloatProgress(value=0.0, max=132.0), HTML(value='')))"
      ]
     },
     "metadata": {},
     "output_type": "display_data"
    },
    {
     "name": "stdout",
     "output_type": "stream",
     "text": [
      "\n",
      "tensor(2.9550e-05, device='cuda:3')\n",
      "tensor(-6.8518e-06, device='cuda:3')\n",
      "tensor(-0.0016, device='cuda:3')\n",
      "tensor(-0.0016, device='cuda:3')\n",
      "tensor(4.5583e-06, device='cuda:3')\n",
      "tensor(-6.7629e-07, device='cuda:3')\n",
      "tensor(-9.8186e-05, device='cuda:3')\n",
      "tensor(-9.8186e-05, device='cuda:3')\n",
      "tensor(-3.2512e-07, device='cuda:3')\n",
      "tensor(-5.5816e-06, device='cuda:3')\n",
      "tensor(-4.7412e-05, device='cuda:3')\n",
      "tensor(-4.7412e-05, device='cuda:3')\n",
      "tensor(-3.5400e-09, device='cuda:3')\n",
      "tensor(0., device='cuda:3')\n",
      "tensor(-6.4126e-06, device='cuda:3')\n",
      "tensor(-6.4126e-06, device='cuda:3')\n",
      "tensor(-2.8876e-06, device='cuda:3')\n",
      "tensor(-7.2164e-05, device='cuda:3')\n",
      "tensor(3.9308e-09, device='cuda:3')\n",
      "tensor(3.0157e-09, device='cuda:3')\n"
     ]
    },
    {
     "data": {
      "application/vnd.jupyter.widget-view+json": {
       "model_id": "bd16d31826b845c48573259bb8ca0f1c",
       "version_major": 2,
       "version_minor": 0
      },
      "text/plain": [
       "HBox(children=(FloatProgress(value=0.0, max=17.0), HTML(value='')))"
      ]
     },
     "metadata": {},
     "output_type": "display_data"
    },
    {
     "name": "stdout",
     "output_type": "stream",
     "text": [
      "\n",
      "epoch time: 25.681734800338745\n",
      "loss train: 0.0857430063188076, loss val: 0.21991805732250214\n",
      "accuracy train: 0.9517857142857142, accuracy val: 0.909047619047619\n",
      "---------------------------------------------------------------------------------------------------\n"
     ]
    }
   ],
   "source": [
    "loss_train_all, loss_val_all = [], []\n",
    "accuracy_train_all, accuracy_val_all = [], []\n",
    "\n",
    "for epoch in range(NUM_EPOCHS):\n",
    "\n",
    "    start = time.time()\n",
    "    print(f'Epoch: {epoch}, Learning Rate: {scheduler.get_last_lr()[0]}\\n')\n",
    "\n",
    "    loss_epoch_train, loss_epoch_val = 0, 0\n",
    "    correct_train, correct_val, total_train, total_val = 0, 0, 0, 0\n",
    "\n",
    "    model.train()\n",
    "    for (X_batch_train, y_batch_train) in tqdm(train_dl):\n",
    "\n",
    "        X_batch_train, y_batch_train = X_batch_train.to(device), y_batch_train.to(device)\n",
    "\n",
    "        optimizer.zero_grad()\n",
    "\n",
    "        y_pred_train = model(X_batch_train)\n",
    "        loss_train = criterion(y_pred_train, y_batch_train)\n",
    "\n",
    "        loss_train.backward()\n",
    "        optimizer.step()\n",
    "\n",
    "        loss_epoch_train += loss_train.item()\n",
    "        correct_train += accuracy(y_pred_train, y_batch_train)\n",
    "        total_train += y_batch_train.size()[0]\n",
    "\n",
    "    scheduler.step()\n",
    "    model.eval()\n",
    "\n",
    "    with torch.no_grad():\n",
    "        \n",
    "        for item in model.parameters():\n",
    "            print(item.grad.mean())\n",
    "        \n",
    "        for (X_batch_val, y_batch_val) in tqdm(val_dl):\n",
    "\n",
    "            X_batch_val, y_batch_val = X_batch_val.to(device), y_batch_val.to(device)\n",
    "\n",
    "            y_pred_val = model(X_batch_val)\n",
    "#                 print(y_pred_val)\n",
    "            loss_val = criterion(y_pred_val, y_batch_val)\n",
    "\n",
    "            loss_epoch_val += loss_val.item()\n",
    "\n",
    "            correct_val += accuracy(y_pred_val, y_batch_val)\n",
    "            total_val += y_batch_val.size()[0]\n",
    "\n",
    "\n",
    "    loss_train_tmp = loss_epoch_train / len(train_dl)\n",
    "    loss_val_tmp = loss_epoch_val / len(val_dl)\n",
    "\n",
    "    loss_train_all.append(loss_train_tmp)\n",
    "    loss_val_all.append(loss_val_tmp)\n",
    "\n",
    "    accuracy_train_tmp = correct_train / total_train\n",
    "    accuracy_val_tmp = correct_val / total_val\n",
    "\n",
    "    accuracy_train_all.append(accuracy_train_tmp)\n",
    "    accuracy_val_all.append(accuracy_val_tmp)\n",
    "\n",
    "    end = time.time()\n",
    "    print(f\"epoch time: {end - start}\")  \n",
    "    print(f\"loss train: {loss_train_tmp}, loss val: {loss_val_tmp}\")\n",
    "    print(f\"accuracy train: {accuracy_train_tmp}, accuracy val: {accuracy_val_tmp}\")\n",
    "\n",
    "    print(\"---------------------------------------------------------------------------------------------------\")"
   ]
  },
  {
   "cell_type": "markdown",
   "metadata": {},
   "source": [
    "# Доделать тензорборд"
   ]
  },
  {
   "cell_type": "code",
   "execution_count": null,
   "metadata": {},
   "outputs": [],
   "source": [
    "# from torch.utils.tensorboard import SummaryWriter"
   ]
  },
  {
   "cell_type": "code",
   "execution_count": null,
   "metadata": {},
   "outputs": [],
   "source": [
    "# default `log_dir` is \"runs\" - we'll be more specific here\n",
    "# writer = SummaryWriter('runs/first_try')"
   ]
  },
  {
   "cell_type": "code",
   "execution_count": null,
   "metadata": {},
   "outputs": [],
   "source": [
    "# writer.add_scalar('training loss',\n",
    "#                             running_loss / 1000,\n",
    "#                             epoch * len(trainloader) + i)"
   ]
  },
  {
   "cell_type": "code",
   "execution_count": null,
   "metadata": {},
   "outputs": [],
   "source": []
  },
  {
   "cell_type": "code",
   "execution_count": null,
   "metadata": {},
   "outputs": [],
   "source": []
  },
  {
   "cell_type": "code",
   "execution_count": null,
   "metadata": {},
   "outputs": [],
   "source": []
  },
  {
   "cell_type": "code",
   "execution_count": null,
   "metadata": {},
   "outputs": [],
   "source": []
  },
  {
   "cell_type": "code",
   "execution_count": null,
   "metadata": {},
   "outputs": [],
   "source": []
  },
  {
   "cell_type": "code",
   "execution_count": 546,
   "metadata": {},
   "outputs": [
    {
     "name": "stdout",
     "output_type": "stream",
     "text": [
      "Epoch: 0, Learning Rate: 0.0005\n",
      "\n"
     ]
    },
    {
     "data": {
      "application/vnd.jupyter.widget-view+json": {
       "model_id": "64a820a5e3b4444f8cb28b89cd1d4a50",
       "version_major": 2,
       "version_minor": 0
      },
      "text/plain": [
       "HBox(children=(FloatProgress(value=0.0, max=165.0), HTML(value='')))"
      ]
     },
     "metadata": {},
     "output_type": "display_data"
    },
    {
     "name": "stdout",
     "output_type": "stream",
     "text": [
      "\n",
      "tensor(5.4305e-05, device='cuda:3')\n",
      "tensor(-1.4244e-06, device='cuda:3')\n",
      "tensor(0.0001, device='cuda:3')\n",
      "tensor(0.0001, device='cuda:3')\n",
      "tensor(0.0006, device='cuda:3')\n",
      "tensor(-3.2526e-07, device='cuda:3')\n",
      "tensor(0.0025, device='cuda:3')\n",
      "tensor(0.0025, device='cuda:3')\n",
      "tensor(-1.4143e-05, device='cuda:3')\n",
      "tensor(-3.0652e-05, device='cuda:3')\n",
      "tensor(0.0014, device='cuda:3')\n",
      "tensor(0.0014, device='cuda:3')\n",
      "tensor(-1.5235e-07, device='cuda:3')\n",
      "tensor(0., device='cuda:3')\n",
      "tensor(1.0968e-05, device='cuda:3')\n",
      "tensor(1.0968e-05, device='cuda:3')\n",
      "tensor(-3.6101e-05, device='cuda:3')\n",
      "tensor(0.0008, device='cuda:3')\n",
      "tensor(-5.0994e-09, device='cuda:3')\n",
      "tensor(-8.5149e-09, device='cuda:3')\n"
     ]
    },
    {
     "data": {
      "application/vnd.jupyter.widget-view+json": {
       "model_id": "14d9c8239fa34a4d8264ce833e70a615",
       "version_major": 2,
       "version_minor": 0
      },
      "text/plain": [
       "HBox(children=(FloatProgress(value=0.0, max=165.0), HTML(value='')))"
      ]
     },
     "metadata": {},
     "output_type": "display_data"
    },
    {
     "name": "stdout",
     "output_type": "stream",
     "text": [
      "\n",
      "epoch time: 73.42606234550476\n",
      "loss train: 1.8815502858523168, loss val: 14.08593177094179\n",
      "accuracy train: 0.4531428571428571, accuracy val: 0.4713333333333333\n",
      "---------------------------------------------------------------------------------------------------\n",
      "Epoch: 1, Learning Rate: 0.0005\n",
      "\n"
     ]
    },
    {
     "data": {
      "application/vnd.jupyter.widget-view+json": {
       "model_id": "e6cac0773f9c458b8698e25f1cb8db6a",
       "version_major": 2,
       "version_minor": 0
      },
      "text/plain": [
       "HBox(children=(FloatProgress(value=0.0, max=165.0), HTML(value='')))"
      ]
     },
     "metadata": {},
     "output_type": "display_data"
    },
    {
     "name": "stdout",
     "output_type": "stream",
     "text": [
      "\n",
      "tensor(0.0002, device='cuda:3')\n",
      "tensor(-5.5606e-06, device='cuda:3')\n",
      "tensor(0.0004, device='cuda:3')\n",
      "tensor(0.0004, device='cuda:3')\n",
      "tensor(0.0023, device='cuda:3')\n",
      "tensor(2.6251e-06, device='cuda:3')\n",
      "tensor(0.0098, device='cuda:3')\n",
      "tensor(0.0098, device='cuda:3')\n",
      "tensor(-3.0667e-05, device='cuda:3')\n",
      "tensor(-0.0001, device='cuda:3')\n",
      "tensor(0.0046, device='cuda:3')\n",
      "tensor(0.0046, device='cuda:3')\n",
      "tensor(-8.8504e-08, device='cuda:3')\n",
      "tensor(0., device='cuda:3')\n",
      "tensor(-3.2905e-06, device='cuda:3')\n",
      "tensor(-3.2905e-06, device='cuda:3')\n",
      "tensor(-8.2824e-05, device='cuda:3')\n",
      "tensor(0.0021, device='cuda:3')\n",
      "tensor(-2.2862e-09, device='cuda:3')\n",
      "tensor(-2.8383e-09, device='cuda:3')\n"
     ]
    },
    {
     "data": {
      "application/vnd.jupyter.widget-view+json": {
       "model_id": "12e67f5d065444b89071cdd9fce06458",
       "version_major": 2,
       "version_minor": 0
      },
      "text/plain": [
       "HBox(children=(FloatProgress(value=0.0, max=165.0), HTML(value='')))"
      ]
     },
     "metadata": {},
     "output_type": "display_data"
    },
    {
     "name": "stdout",
     "output_type": "stream",
     "text": [
      "\n",
      "epoch time: 73.47364783287048\n",
      "loss train: 1.8518035619547872, loss val: 14.031297269989462\n",
      "accuracy train: 0.46390476190476193, accuracy val: 0.47695238095238096\n",
      "---------------------------------------------------------------------------------------------------\n",
      "Epoch: 2, Learning Rate: 0.0005\n",
      "\n"
     ]
    },
    {
     "data": {
      "application/vnd.jupyter.widget-view+json": {
       "model_id": "31b62e936b8e494aa48a25a0e380e3b1",
       "version_major": 2,
       "version_minor": 0
      },
      "text/plain": [
       "HBox(children=(FloatProgress(value=0.0, max=165.0), HTML(value='')))"
      ]
     },
     "metadata": {},
     "output_type": "display_data"
    },
    {
     "name": "stdout",
     "output_type": "stream",
     "text": [
      "\n",
      "tensor(7.6766e-05, device='cuda:3')\n",
      "tensor(-2.2200e-05, device='cuda:3')\n",
      "tensor(0.0009, device='cuda:3')\n",
      "tensor(0.0009, device='cuda:3')\n",
      "tensor(-0.0037, device='cuda:3')\n",
      "tensor(9.7664e-07, device='cuda:3')\n",
      "tensor(-0.0175, device='cuda:3')\n",
      "tensor(-0.0175, device='cuda:3')\n",
      "tensor(4.2122e-05, device='cuda:3')\n",
      "tensor(3.1289e-05, device='cuda:3')\n",
      "tensor(-0.0050, device='cuda:3')\n",
      "tensor(-0.0050, device='cuda:3')\n",
      "tensor(-1.7042e-07, device='cuda:3')\n",
      "tensor(0., device='cuda:3')\n",
      "tensor(5.9638e-06, device='cuda:3')\n",
      "tensor(5.9638e-06, device='cuda:3')\n",
      "tensor(9.4175e-05, device='cuda:3')\n",
      "tensor(-0.0038, device='cuda:3')\n",
      "tensor(-2.5900e-09, device='cuda:3')\n",
      "tensor(-3.1931e-09, device='cuda:3')\n"
     ]
    },
    {
     "data": {
      "application/vnd.jupyter.widget-view+json": {
       "model_id": "25004824b0b542febeb7c91072beb125",
       "version_major": 2,
       "version_minor": 0
      },
      "text/plain": [
       "HBox(children=(FloatProgress(value=0.0, max=165.0), HTML(value='')))"
      ]
     },
     "metadata": {},
     "output_type": "display_data"
    },
    {
     "name": "stdout",
     "output_type": "stream",
     "text": [
      "\n",
      "epoch time: 73.70895576477051\n",
      "loss train: 1.8512367723566112, loss val: 14.083795863039354\n",
      "accuracy train: 0.4693333333333333, accuracy val: 0.4734285714285714\n",
      "---------------------------------------------------------------------------------------------------\n",
      "Epoch: 3, Learning Rate: 0.0005\n",
      "\n"
     ]
    },
    {
     "data": {
      "application/vnd.jupyter.widget-view+json": {
       "model_id": "7444137356764a818bc68e8ffbb008ca",
       "version_major": 2,
       "version_minor": 0
      },
      "text/plain": [
       "HBox(children=(FloatProgress(value=0.0, max=165.0), HTML(value='')))"
      ]
     },
     "metadata": {},
     "output_type": "display_data"
    },
    {
     "name": "stdout",
     "output_type": "stream",
     "text": [
      "\n",
      "tensor(1.7024e-06, device='cuda:3')\n",
      "tensor(2.0739e-06, device='cuda:3')\n",
      "tensor(-0.0002, device='cuda:3')\n",
      "tensor(-0.0002, device='cuda:3')\n",
      "tensor(0.0006, device='cuda:3')\n",
      "tensor(-2.5004e-06, device='cuda:3')\n",
      "tensor(0.0032, device='cuda:3')\n",
      "tensor(0.0032, device='cuda:3')\n",
      "tensor(-1.8172e-05, device='cuda:3')\n",
      "tensor(-2.4744e-05, device='cuda:3')\n",
      "tensor(0.0016, device='cuda:3')\n",
      "tensor(0.0016, device='cuda:3')\n",
      "tensor(-1.0214e-06, device='cuda:3')\n",
      "tensor(0., device='cuda:3')\n",
      "tensor(1.3038e-05, device='cuda:3')\n",
      "tensor(1.3038e-05, device='cuda:3')\n",
      "tensor(3.2711e-06, device='cuda:3')\n",
      "tensor(-5.0314e-05, device='cuda:3')\n",
      "tensor(-9.8473e-10, device='cuda:3')\n",
      "tensor(-2.1287e-09, device='cuda:3')\n"
     ]
    },
    {
     "data": {
      "application/vnd.jupyter.widget-view+json": {
       "model_id": "f9574bee17aa4e7689864111634b5498",
       "version_major": 2,
       "version_minor": 0
      },
      "text/plain": [
       "HBox(children=(FloatProgress(value=0.0, max=165.0), HTML(value='')))"
      ]
     },
     "metadata": {},
     "output_type": "display_data"
    },
    {
     "name": "stdout",
     "output_type": "stream",
     "text": [
      "\n",
      "epoch time: 73.88418483734131\n",
      "loss train: 1.845656953977816, loss val: 14.015696665819954\n",
      "accuracy train: 0.4662857142857143, accuracy val: 0.4684761904761905\n",
      "---------------------------------------------------------------------------------------------------\n",
      "Epoch: 4, Learning Rate: 0.0005\n",
      "\n"
     ]
    },
    {
     "data": {
      "application/vnd.jupyter.widget-view+json": {
       "model_id": "ba529001dd50478680c9771653737188",
       "version_major": 2,
       "version_minor": 0
      },
      "text/plain": [
       "HBox(children=(FloatProgress(value=0.0, max=165.0), HTML(value='')))"
      ]
     },
     "metadata": {},
     "output_type": "display_data"
    },
    {
     "name": "stdout",
     "output_type": "stream",
     "text": [
      "\n",
      "tensor(0.0011, device='cuda:3')\n",
      "tensor(-6.7740e-05, device='cuda:3')\n",
      "tensor(0.0037, device='cuda:3')\n",
      "tensor(0.0037, device='cuda:3')\n",
      "tensor(0.0076, device='cuda:3')\n",
      "tensor(8.4910e-06, device='cuda:3')\n",
      "tensor(0.0319, device='cuda:3')\n",
      "tensor(0.0319, device='cuda:3')\n",
      "tensor(-0.0001, device='cuda:3')\n",
      "tensor(-0.0002, device='cuda:3')\n",
      "tensor(0.0138, device='cuda:3')\n",
      "tensor(0.0138, device='cuda:3')\n",
      "tensor(-7.2531e-08, device='cuda:3')\n",
      "tensor(0., device='cuda:3')\n",
      "tensor(5.0810e-06, device='cuda:3')\n",
      "tensor(5.0810e-06, device='cuda:3')\n",
      "tensor(-0.0002, device='cuda:3')\n",
      "tensor(0.0063, device='cuda:3')\n",
      "tensor(9.4964e-09, device='cuda:3')\n",
      "tensor(7.0958e-09, device='cuda:3')\n"
     ]
    },
    {
     "data": {
      "application/vnd.jupyter.widget-view+json": {
       "model_id": "582efb6f14c94b5dbf1fce14360e2f47",
       "version_major": 2,
       "version_minor": 0
      },
      "text/plain": [
       "HBox(children=(FloatProgress(value=0.0, max=165.0), HTML(value='')))"
      ]
     },
     "metadata": {},
     "output_type": "display_data"
    },
    {
     "name": "stdout",
     "output_type": "stream",
     "text": [
      "\n",
      "epoch time: 67.38526034355164\n",
      "loss train: 1.8430702550844713, loss val: 13.989311568877277\n",
      "accuracy train: 0.4683809523809524, accuracy val: 0.4741904761904762\n",
      "---------------------------------------------------------------------------------------------------\n",
      "Epoch: 5, Learning Rate: 0.0005\n",
      "\n"
     ]
    },
    {
     "data": {
      "application/vnd.jupyter.widget-view+json": {
       "model_id": "83739d9d09ed49f8897311e00f1b0fd6",
       "version_major": 2,
       "version_minor": 0
      },
      "text/plain": [
       "HBox(children=(FloatProgress(value=0.0, max=165.0), HTML(value='')))"
      ]
     },
     "metadata": {},
     "output_type": "display_data"
    },
    {
     "name": "stdout",
     "output_type": "stream",
     "text": [
      "\n",
      "tensor(-0.0002, device='cuda:3')\n",
      "tensor(1.3305e-05, device='cuda:3')\n",
      "tensor(-0.0008, device='cuda:3')\n",
      "tensor(-0.0008, device='cuda:3')\n",
      "tensor(-0.0009, device='cuda:3')\n",
      "tensor(-9.9860e-07, device='cuda:3')\n",
      "tensor(-0.0042, device='cuda:3')\n",
      "tensor(-0.0042, device='cuda:3')\n",
      "tensor(1.9983e-05, device='cuda:3')\n",
      "tensor(2.0465e-05, device='cuda:3')\n",
      "tensor(-0.0022, device='cuda:3')\n",
      "tensor(-0.0022, device='cuda:3')\n",
      "tensor(-4.8555e-07, device='cuda:3')\n",
      "tensor(0., device='cuda:3')\n",
      "tensor(3.4833e-05, device='cuda:3')\n",
      "tensor(3.4833e-05, device='cuda:3')\n",
      "tensor(2.6168e-05, device='cuda:3')\n",
      "tensor(-0.0005, device='cuda:3')\n",
      "tensor(-3.2060e-09, device='cuda:3')\n",
      "tensor(-4.2575e-09, device='cuda:3')\n"
     ]
    },
    {
     "data": {
      "application/vnd.jupyter.widget-view+json": {
       "model_id": "a59676b2bdf84a05bd59c6aeda621299",
       "version_major": 2,
       "version_minor": 0
      },
      "text/plain": [
       "HBox(children=(FloatProgress(value=0.0, max=165.0), HTML(value='')))"
      ]
     },
     "metadata": {},
     "output_type": "display_data"
    },
    {
     "name": "stdout",
     "output_type": "stream",
     "text": [
      "\n",
      "epoch time: 74.4695041179657\n",
      "loss train: 1.8406856963128755, loss val: 14.001453778323006\n",
      "accuracy train: 0.4718095238095238, accuracy val: 0.47685714285714287\n",
      "---------------------------------------------------------------------------------------------------\n",
      "Epoch: 6, Learning Rate: 0.0005\n",
      "\n"
     ]
    },
    {
     "data": {
      "application/vnd.jupyter.widget-view+json": {
       "model_id": "374e7443e24f4e4385ddd2cc8eb4504d",
       "version_major": 2,
       "version_minor": 0
      },
      "text/plain": [
       "HBox(children=(FloatProgress(value=0.0, max=165.0), HTML(value='')))"
      ]
     },
     "metadata": {},
     "output_type": "display_data"
    },
    {
     "name": "stdout",
     "output_type": "stream",
     "text": [
      "\n",
      "tensor(-0.0019, device='cuda:3')\n",
      "tensor(0.0001, device='cuda:3')\n",
      "tensor(-0.0067, device='cuda:3')\n",
      "tensor(-0.0067, device='cuda:3')\n",
      "tensor(-0.0012, device='cuda:3')\n",
      "tensor(5.2219e-05, device='cuda:3')\n",
      "tensor(-0.0103, device='cuda:3')\n",
      "tensor(-0.0103, device='cuda:3')\n",
      "tensor(9.4068e-05, device='cuda:3')\n",
      "tensor(-0.0002, device='cuda:3')\n",
      "tensor(-0.0094, device='cuda:3')\n",
      "tensor(-0.0094, device='cuda:3')\n",
      "tensor(-6.0985e-07, device='cuda:3')\n",
      "tensor(0., device='cuda:3')\n",
      "tensor(3.3674e-05, device='cuda:3')\n",
      "tensor(3.3674e-05, device='cuda:3')\n",
      "tensor(1.8711e-05, device='cuda:3')\n",
      "tensor(-0.0025, device='cuda:3')\n",
      "tensor(-1.4854e-09, device='cuda:3')\n",
      "tensor(-2.8383e-09, device='cuda:3')\n"
     ]
    },
    {
     "data": {
      "application/vnd.jupyter.widget-view+json": {
       "model_id": "378c1b85675341ffbffd338d474d93a4",
       "version_major": 2,
       "version_minor": 0
      },
      "text/plain": [
       "HBox(children=(FloatProgress(value=0.0, max=165.0), HTML(value='')))"
      ]
     },
     "metadata": {},
     "output_type": "display_data"
    },
    {
     "name": "stdout",
     "output_type": "stream",
     "text": [
      "\n",
      "epoch time: 72.35228991508484\n",
      "loss train: 1.9980070428414778, loss val: 15.029385145972757\n",
      "accuracy train: 0.43657142857142855, accuracy val: 0.4135238095238095\n",
      "---------------------------------------------------------------------------------------------------\n",
      "Epoch: 7, Learning Rate: 0.0005\n",
      "\n"
     ]
    },
    {
     "data": {
      "application/vnd.jupyter.widget-view+json": {
       "model_id": "9b11e5f084574e549627df98755f35e8",
       "version_major": 2,
       "version_minor": 0
      },
      "text/plain": [
       "HBox(children=(FloatProgress(value=0.0, max=165.0), HTML(value='')))"
      ]
     },
     "metadata": {},
     "output_type": "display_data"
    },
    {
     "name": "stdout",
     "output_type": "stream",
     "text": [
      "\n",
      "tensor(-0.0002, device='cuda:3')\n",
      "tensor(1.0502e-05, device='cuda:3')\n",
      "tensor(-0.0006, device='cuda:3')\n",
      "tensor(-0.0006, device='cuda:3')\n",
      "tensor(0.0010, device='cuda:3')\n",
      "tensor(1.4020e-05, device='cuda:3')\n",
      "tensor(-0.0002, device='cuda:3')\n",
      "tensor(-0.0002, device='cuda:3')\n",
      "tensor(-1.3572e-05, device='cuda:3')\n",
      "tensor(-5.0659e-06, device='cuda:3')\n",
      "tensor(0.0003, device='cuda:3')\n",
      "tensor(0.0003, device='cuda:3')\n",
      "tensor(3.2391e-07, device='cuda:3')\n",
      "tensor(0., device='cuda:3')\n",
      "tensor(-4.8867e-05, device='cuda:3')\n",
      "tensor(-4.8867e-05, device='cuda:3')\n",
      "tensor(7.0701e-06, device='cuda:3')\n",
      "tensor(0.0007, device='cuda:3')\n",
      "tensor(-1.4854e-09, device='cuda:3')\n",
      "tensor(-4.9671e-09, device='cuda:3')\n"
     ]
    },
    {
     "data": {
      "application/vnd.jupyter.widget-view+json": {
       "model_id": "ffc8ff0f0d964a1b9943cf7ca56a4674",
       "version_major": 2,
       "version_minor": 0
      },
      "text/plain": [
       "HBox(children=(FloatProgress(value=0.0, max=165.0), HTML(value='')))"
      ]
     },
     "metadata": {},
     "output_type": "display_data"
    },
    {
     "name": "stdout",
     "output_type": "stream",
     "text": [
      "\n",
      "epoch time: 72.28191804885864\n",
      "loss train: 1.9319586817062262, loss val: 14.714250042158014\n",
      "accuracy train: 0.43923809523809526, accuracy val: 0.44885714285714284\n",
      "---------------------------------------------------------------------------------------------------\n",
      "Epoch: 8, Learning Rate: 0.0005\n",
      "\n"
     ]
    },
    {
     "data": {
      "application/vnd.jupyter.widget-view+json": {
       "model_id": "ceedf80ce78044b79c709f58da431579",
       "version_major": 2,
       "version_minor": 0
      },
      "text/plain": [
       "HBox(children=(FloatProgress(value=0.0, max=165.0), HTML(value='')))"
      ]
     },
     "metadata": {},
     "output_type": "display_data"
    },
    {
     "name": "stdout",
     "output_type": "stream",
     "text": [
      "\n",
      "tensor(8.1037e-05, device='cuda:3')\n",
      "tensor(-1.2528e-05, device='cuda:3')\n",
      "tensor(0.0007, device='cuda:3')\n",
      "tensor(0.0007, device='cuda:3')\n",
      "tensor(-0.0035, device='cuda:3')\n",
      "tensor(-8.8558e-06, device='cuda:3')\n",
      "tensor(-0.0147, device='cuda:3')\n",
      "tensor(-0.0147, device='cuda:3')\n",
      "tensor(4.3864e-05, device='cuda:3')\n",
      "tensor(-8.5864e-06, device='cuda:3')\n",
      "tensor(-0.0040, device='cuda:3')\n",
      "tensor(-0.0040, device='cuda:3')\n",
      "tensor(-2.0734e-07, device='cuda:3')\n",
      "tensor(0., device='cuda:3')\n",
      "tensor(6.0535e-06, device='cuda:3')\n",
      "tensor(6.0535e-06, device='cuda:3')\n",
      "tensor(4.0779e-05, device='cuda:3')\n",
      "tensor(-0.0015, device='cuda:3')\n",
      "tensor(-7.8355e-10, device='cuda:3')\n",
      "tensor(-4.2575e-09, device='cuda:3')\n"
     ]
    },
    {
     "data": {
      "application/vnd.jupyter.widget-view+json": {
       "model_id": "75cd66b51b65498da63847e94628537e",
       "version_major": 2,
       "version_minor": 0
      },
      "text/plain": [
       "HBox(children=(FloatProgress(value=0.0, max=165.0), HTML(value='')))"
      ]
     },
     "metadata": {},
     "output_type": "display_data"
    },
    {
     "name": "stdout",
     "output_type": "stream",
     "text": [
      "\n",
      "epoch time: 72.41028451919556\n",
      "loss train: 1.8398442792169976, loss val: 14.044147908687592\n",
      "accuracy train: 0.4680952380952381, accuracy val: 0.47104761904761905\n",
      "---------------------------------------------------------------------------------------------------\n",
      "Epoch: 9, Learning Rate: 0.0005\n",
      "\n"
     ]
    },
    {
     "data": {
      "application/vnd.jupyter.widget-view+json": {
       "model_id": "d2e28ef6d5fc4168a977457107d500f0",
       "version_major": 2,
       "version_minor": 0
      },
      "text/plain": [
       "HBox(children=(FloatProgress(value=0.0, max=165.0), HTML(value='')))"
      ]
     },
     "metadata": {},
     "output_type": "display_data"
    },
    {
     "name": "stdout",
     "output_type": "stream",
     "text": [
      "\n",
      "tensor(0.0005, device='cuda:3')\n",
      "tensor(-3.2014e-05, device='cuda:3')\n",
      "tensor(0.0017, device='cuda:3')\n",
      "tensor(0.0017, device='cuda:3')\n",
      "tensor(0.0031, device='cuda:3')\n",
      "tensor(1.5815e-05, device='cuda:3')\n",
      "tensor(0.0115, device='cuda:3')\n",
      "tensor(0.0115, device='cuda:3')\n",
      "tensor(-5.5483e-05, device='cuda:3')\n",
      "tensor(-8.7460e-05, device='cuda:3')\n",
      "tensor(0.0060, device='cuda:3')\n",
      "tensor(0.0060, device='cuda:3')\n",
      "tensor(2.2292e-07, device='cuda:3')\n",
      "tensor(0., device='cuda:3')\n",
      "tensor(-1.1599e-05, device='cuda:3')\n",
      "tensor(-1.1599e-05, device='cuda:3')\n",
      "tensor(-6.5471e-05, device='cuda:3')\n",
      "tensor(0.0024, device='cuda:3')\n",
      "tensor(3.1140e-09, device='cuda:3')\n",
      "tensor(5.6766e-09, device='cuda:3')\n"
     ]
    },
    {
     "data": {
      "application/vnd.jupyter.widget-view+json": {
       "model_id": "70ff3fccc06f4633aa037aad10d683db",
       "version_major": 2,
       "version_minor": 0
      },
      "text/plain": [
       "HBox(children=(FloatProgress(value=0.0, max=165.0), HTML(value='')))"
      ]
     },
     "metadata": {},
     "output_type": "display_data"
    },
    {
     "name": "stdout",
     "output_type": "stream",
     "text": [
      "\n",
      "epoch time: 74.06374478340149\n",
      "loss train: 1.8293776069626664, loss val: 13.805253253263587\n",
      "accuracy train: 0.4701904761904762, accuracy val: 0.4797142857142857\n",
      "---------------------------------------------------------------------------------------------------\n",
      "Epoch: 10, Learning Rate: 0.00025\n",
      "\n"
     ]
    },
    {
     "data": {
      "application/vnd.jupyter.widget-view+json": {
       "model_id": "271bfb5791dd4b9ba3b0202da69369d7",
       "version_major": 2,
       "version_minor": 0
      },
      "text/plain": [
       "HBox(children=(FloatProgress(value=0.0, max=165.0), HTML(value='')))"
      ]
     },
     "metadata": {},
     "output_type": "display_data"
    },
    {
     "name": "stdout",
     "output_type": "stream",
     "text": [
      "\n",
      "tensor(0.0003, device='cuda:3')\n",
      "tensor(-1.9619e-05, device='cuda:3')\n",
      "tensor(0.0012, device='cuda:3')\n",
      "tensor(0.0012, device='cuda:3')\n",
      "tensor(-0.0016, device='cuda:3')\n",
      "tensor(-1.4768e-05, device='cuda:3')\n",
      "tensor(-0.0081, device='cuda:3')\n",
      "tensor(-0.0081, device='cuda:3')\n",
      "tensor(3.0849e-06, device='cuda:3')\n",
      "tensor(1.2620e-06, device='cuda:3')\n",
      "tensor(-0.0003, device='cuda:3')\n",
      "tensor(-0.0003, device='cuda:3')\n",
      "tensor(4.8263e-07, device='cuda:3')\n",
      "tensor(0., device='cuda:3')\n",
      "tensor(-3.0995e-05, device='cuda:3')\n",
      "tensor(-3.0995e-05, device='cuda:3')\n",
      "tensor(-2.6203e-05, device='cuda:3')\n",
      "tensor(-0.0016, device='cuda:3')\n",
      "tensor(-3.7034e-10, device='cuda:3')\n",
      "tensor(-7.0958e-10, device='cuda:3')\n"
     ]
    },
    {
     "data": {
      "application/vnd.jupyter.widget-view+json": {
       "model_id": "20bf7219f52d47169457c255fc0b5c9f",
       "version_major": 2,
       "version_minor": 0
      },
      "text/plain": [
       "HBox(children=(FloatProgress(value=0.0, max=165.0), HTML(value='')))"
      ]
     },
     "metadata": {},
     "output_type": "display_data"
    },
    {
     "name": "stdout",
     "output_type": "stream",
     "text": [
      "\n",
      "epoch time: 73.60088968276978\n",
      "loss train: 1.8019170824325446, loss val: 13.762820902992697\n",
      "accuracy train: 0.4766666666666667, accuracy val: 0.4807619047619048\n",
      "---------------------------------------------------------------------------------------------------\n",
      "Epoch: 11, Learning Rate: 0.00025\n",
      "\n"
     ]
    },
    {
     "data": {
      "application/vnd.jupyter.widget-view+json": {
       "model_id": "198d77dda583485ca796b2d8ae51cfba",
       "version_major": 2,
       "version_minor": 0
      },
      "text/plain": [
       "HBox(children=(FloatProgress(value=0.0, max=165.0), HTML(value='')))"
      ]
     },
     "metadata": {},
     "output_type": "display_data"
    },
    {
     "name": "stdout",
     "output_type": "stream",
     "text": [
      "\n",
      "tensor(-0.0003, device='cuda:3')\n",
      "tensor(2.2220e-05, device='cuda:3')\n",
      "tensor(-0.0011, device='cuda:3')\n",
      "tensor(-0.0011, device='cuda:3')\n",
      "tensor(0.0012, device='cuda:3')\n",
      "tensor(3.0630e-05, device='cuda:3')\n",
      "tensor(0.0036, device='cuda:3')\n",
      "tensor(0.0036, device='cuda:3')\n",
      "tensor(1.3220e-05, device='cuda:3')\n",
      "tensor(-5.6075e-05, device='cuda:3')\n",
      "tensor(-0.0016, device='cuda:3')\n",
      "tensor(-0.0016, device='cuda:3')\n",
      "tensor(-1.0176e-07, device='cuda:3')\n",
      "tensor(0., device='cuda:3')\n",
      "tensor(4.3985e-06, device='cuda:3')\n",
      "tensor(4.3985e-06, device='cuda:3')\n",
      "tensor(1.2029e-05, device='cuda:3')\n",
      "tensor(-0.0004, device='cuda:3')\n",
      "tensor(-1.1491e-09, device='cuda:3')\n",
      "tensor(-1.4192e-09, device='cuda:3')\n"
     ]
    },
    {
     "data": {
      "application/vnd.jupyter.widget-view+json": {
       "model_id": "d313fb484bc3414397907dbc69b41b36",
       "version_major": 2,
       "version_minor": 0
      },
      "text/plain": [
       "HBox(children=(FloatProgress(value=0.0, max=165.0), HTML(value='')))"
      ]
     },
     "metadata": {},
     "output_type": "display_data"
    },
    {
     "name": "stdout",
     "output_type": "stream",
     "text": [
      "\n",
      "epoch time: 70.91566848754883\n",
      "loss train: 1.7940011268312281, loss val: 13.861814484876746\n",
      "accuracy train: 0.47304761904761905, accuracy val: 0.4754285714285714\n",
      "---------------------------------------------------------------------------------------------------\n",
      "Epoch: 12, Learning Rate: 0.00025\n",
      "\n"
     ]
    },
    {
     "data": {
      "application/vnd.jupyter.widget-view+json": {
       "model_id": "ce61c096581e4e2a9a94c45c730d3335",
       "version_major": 2,
       "version_minor": 0
      },
      "text/plain": [
       "HBox(children=(FloatProgress(value=0.0, max=165.0), HTML(value='')))"
      ]
     },
     "metadata": {},
     "output_type": "display_data"
    },
    {
     "name": "stdout",
     "output_type": "stream",
     "text": [
      "\n",
      "tensor(1.0589e-05, device='cuda:3')\n",
      "tensor(-6.0149e-07, device='cuda:3')\n",
      "tensor(3.1169e-05, device='cuda:3')\n",
      "tensor(3.1169e-05, device='cuda:3')\n",
      "tensor(0.0001, device='cuda:3')\n",
      "tensor(4.8482e-07, device='cuda:3')\n",
      "tensor(0.0005, device='cuda:3')\n",
      "tensor(0.0005, device='cuda:3')\n",
      "tensor(-4.1672e-06, device='cuda:3')\n",
      "tensor(-4.8190e-06, device='cuda:3')\n",
      "tensor(0.0004, device='cuda:3')\n",
      "tensor(0.0004, device='cuda:3')\n",
      "tensor(7.3582e-08, device='cuda:3')\n",
      "tensor(0., device='cuda:3')\n",
      "tensor(-3.1616e-05, device='cuda:3')\n",
      "tensor(-3.1616e-05, device='cuda:3')\n",
      "tensor(2.9594e-06, device='cuda:3')\n",
      "tensor(-0.0001, device='cuda:3')\n",
      "tensor(-5.5999e-09, device='cuda:3')\n",
      "tensor(-6.3862e-09, device='cuda:3')\n"
     ]
    },
    {
     "data": {
      "application/vnd.jupyter.widget-view+json": {
       "model_id": "525b39eb99874a2b811601966dc18215",
       "version_major": 2,
       "version_minor": 0
      },
      "text/plain": [
       "HBox(children=(FloatProgress(value=0.0, max=165.0), HTML(value='')))"
      ]
     },
     "metadata": {},
     "output_type": "display_data"
    },
    {
     "name": "stdout",
     "output_type": "stream",
     "text": [
      "\n",
      "epoch time: 72.65385580062866\n",
      "loss train: 1.7990322618773489, loss val: 13.77060817269718\n",
      "accuracy train: 0.4757142857142857, accuracy val: 0.4837142857142857\n",
      "---------------------------------------------------------------------------------------------------\n",
      "Epoch: 13, Learning Rate: 0.00025\n",
      "\n"
     ]
    },
    {
     "data": {
      "application/vnd.jupyter.widget-view+json": {
       "model_id": "ac183f54bcd04e0780420e4691c769c2",
       "version_major": 2,
       "version_minor": 0
      },
      "text/plain": [
       "HBox(children=(FloatProgress(value=0.0, max=165.0), HTML(value='')))"
      ]
     },
     "metadata": {},
     "output_type": "display_data"
    },
    {
     "name": "stdout",
     "output_type": "stream",
     "text": [
      "\n",
      "tensor(0.0015, device='cuda:3')\n",
      "tensor(-0.0002, device='cuda:3')\n",
      "tensor(0.0069, device='cuda:3')\n",
      "tensor(0.0069, device='cuda:3')\n",
      "tensor(-0.0036, device='cuda:3')\n",
      "tensor(1.3235e-05, device='cuda:3')\n",
      "tensor(-0.0171, device='cuda:3')\n",
      "tensor(-0.0171, device='cuda:3')\n",
      "tensor(-8.2452e-05, device='cuda:3')\n",
      "tensor(0.0003, device='cuda:3')\n",
      "tensor(0.0071, device='cuda:3')\n",
      "tensor(0.0071, device='cuda:3')\n",
      "tensor(-1.7021e-06, device='cuda:3')\n",
      "tensor(0., device='cuda:3')\n",
      "tensor(-0.0001, device='cuda:3')\n",
      "tensor(-0.0001, device='cuda:3')\n",
      "tensor(-0.0002, device='cuda:3')\n",
      "tensor(-0.0061, device='cuda:3')\n",
      "tensor(4.4919e-10, device='cuda:3')\n",
      "tensor(7.0958e-10, device='cuda:3')\n"
     ]
    },
    {
     "data": {
      "application/vnd.jupyter.widget-view+json": {
       "model_id": "90401b311a4f49a1b90ab003d56a3d20",
       "version_major": 2,
       "version_minor": 0
      },
      "text/plain": [
       "HBox(children=(FloatProgress(value=0.0, max=165.0), HTML(value='')))"
      ]
     },
     "metadata": {},
     "output_type": "display_data"
    },
    {
     "name": "stdout",
     "output_type": "stream",
     "text": [
      "\n",
      "epoch time: 72.08159494400024\n",
      "loss train: 1.7888768364985783, loss val: 13.985763914444867\n",
      "accuracy train: 0.4759047619047619, accuracy val: 0.478\n",
      "---------------------------------------------------------------------------------------------------\n",
      "Epoch: 14, Learning Rate: 0.00025\n",
      "\n"
     ]
    },
    {
     "data": {
      "application/vnd.jupyter.widget-view+json": {
       "model_id": "8e0b42a781844ce3a82500011878a464",
       "version_major": 2,
       "version_minor": 0
      },
      "text/plain": [
       "HBox(children=(FloatProgress(value=0.0, max=165.0), HTML(value='')))"
      ]
     },
     "metadata": {},
     "output_type": "display_data"
    },
    {
     "name": "stdout",
     "output_type": "stream",
     "text": [
      "\n",
      "tensor(-0.0017, device='cuda:3')\n",
      "tensor(0.0001, device='cuda:3')\n",
      "tensor(-0.0059, device='cuda:3')\n",
      "tensor(-0.0059, device='cuda:3')\n",
      "tensor(-0.0116, device='cuda:3')\n",
      "tensor(-0.0001, device='cuda:3')\n",
      "tensor(-0.0427, device='cuda:3')\n",
      "tensor(-0.0427, device='cuda:3')\n",
      "tensor(0.0002, device='cuda:3')\n",
      "tensor(0.0004, device='cuda:3')\n",
      "tensor(-0.0235, device='cuda:3')\n",
      "tensor(-0.0235, device='cuda:3')\n",
      "tensor(-2.9486e-06, device='cuda:3')\n",
      "tensor(0., device='cuda:3')\n",
      "tensor(0.0001, device='cuda:3')\n",
      "tensor(0.0001, device='cuda:3')\n",
      "tensor(0.0002, device='cuda:3')\n",
      "tensor(-0.0121, device='cuda:3')\n",
      "tensor(-2.3150e-09, device='cuda:3')\n",
      "tensor(-3.9027e-09, device='cuda:3')\n"
     ]
    },
    {
     "data": {
      "application/vnd.jupyter.widget-view+json": {
       "model_id": "e24cb98aee7f4ddcae4fee0272575577",
       "version_major": 2,
       "version_minor": 0
      },
      "text/plain": [
       "HBox(children=(FloatProgress(value=0.0, max=165.0), HTML(value='')))"
      ]
     },
     "metadata": {},
     "output_type": "display_data"
    },
    {
     "name": "stdout",
     "output_type": "stream",
     "text": [
      "\n",
      "epoch time: 73.29098653793335\n",
      "loss train: 1.7950810803608461, loss val: 13.745228613124175\n",
      "accuracy train: 0.47685714285714287, accuracy val: 0.48304761904761906\n",
      "---------------------------------------------------------------------------------------------------\n",
      "Epoch: 15, Learning Rate: 0.00025\n",
      "\n"
     ]
    },
    {
     "data": {
      "application/vnd.jupyter.widget-view+json": {
       "model_id": "b447b674d30b493e8ec6807214a4bfe0",
       "version_major": 2,
       "version_minor": 0
      },
      "text/plain": [
       "HBox(children=(FloatProgress(value=0.0, max=165.0), HTML(value='')))"
      ]
     },
     "metadata": {},
     "output_type": "display_data"
    },
    {
     "name": "stdout",
     "output_type": "stream",
     "text": [
      "\n",
      "tensor(0.0004, device='cuda:3')\n",
      "tensor(-2.2988e-05, device='cuda:3')\n",
      "tensor(0.0013, device='cuda:3')\n",
      "tensor(0.0013, device='cuda:3')\n",
      "tensor(-0.0017, device='cuda:3')\n",
      "tensor(-2.5424e-05, device='cuda:3')\n",
      "tensor(-0.0120, device='cuda:3')\n",
      "tensor(-0.0120, device='cuda:3')\n",
      "tensor(-1.3949e-05, device='cuda:3')\n",
      "tensor(3.2972e-05, device='cuda:3')\n",
      "tensor(-0.0004, device='cuda:3')\n",
      "tensor(-0.0004, device='cuda:3')\n",
      "tensor(2.9174e-06, device='cuda:3')\n",
      "tensor(0., device='cuda:3')\n",
      "tensor(-0.0001, device='cuda:3')\n",
      "tensor(-0.0001, device='cuda:3')\n",
      "tensor(-7.7486e-05, device='cuda:3')\n",
      "tensor(-0.0025, device='cuda:3')\n",
      "tensor(-3.7135e-09, device='cuda:3')\n",
      "tensor(-2.8383e-09, device='cuda:3')\n"
     ]
    },
    {
     "data": {
      "application/vnd.jupyter.widget-view+json": {
       "model_id": "41eaf993d87a45c0840013e32929f651",
       "version_major": 2,
       "version_minor": 0
      },
      "text/plain": [
       "HBox(children=(FloatProgress(value=0.0, max=165.0), HTML(value='')))"
      ]
     },
     "metadata": {},
     "output_type": "display_data"
    },
    {
     "name": "stdout",
     "output_type": "stream",
     "text": [
      "\n",
      "epoch time: 73.99593162536621\n",
      "loss train: 1.796052006609512, loss val: 13.716155823539285\n",
      "accuracy train: 0.4754285714285714, accuracy val: 0.4856190476190476\n",
      "---------------------------------------------------------------------------------------------------\n",
      "Epoch: 16, Learning Rate: 0.00025\n",
      "\n"
     ]
    },
    {
     "data": {
      "application/vnd.jupyter.widget-view+json": {
       "model_id": "86ea256367954dfe9e99580e118ac735",
       "version_major": 2,
       "version_minor": 0
      },
      "text/plain": [
       "HBox(children=(FloatProgress(value=0.0, max=165.0), HTML(value='')))"
      ]
     },
     "metadata": {},
     "output_type": "display_data"
    },
    {
     "name": "stdout",
     "output_type": "stream",
     "text": [
      "\n",
      "tensor(0.0006, device='cuda:3')\n",
      "tensor(-4.1676e-05, device='cuda:3')\n",
      "tensor(0.0021, device='cuda:3')\n",
      "tensor(0.0021, device='cuda:3')\n",
      "tensor(0.0040, device='cuda:3')\n",
      "tensor(2.7658e-05, device='cuda:3')\n",
      "tensor(0.0150, device='cuda:3')\n",
      "tensor(0.0150, device='cuda:3')\n",
      "tensor(-6.5776e-05, device='cuda:3')\n",
      "tensor(-9.8890e-05, device='cuda:3')\n",
      "tensor(0.0057, device='cuda:3')\n",
      "tensor(0.0057, device='cuda:3')\n",
      "tensor(2.8958e-07, device='cuda:3')\n",
      "tensor(0., device='cuda:3')\n",
      "tensor(-3.0736e-05, device='cuda:3')\n",
      "tensor(-3.0736e-05, device='cuda:3')\n",
      "tensor(-6.9287e-05, device='cuda:3')\n",
      "tensor(0.0019, device='cuda:3')\n",
      "tensor(-5.2203e-09, device='cuda:3')\n",
      "tensor(-8.1602e-09, device='cuda:3')\n"
     ]
    },
    {
     "data": {
      "application/vnd.jupyter.widget-view+json": {
       "model_id": "9e49b5e5a2b74e058edd97c7145d71ae",
       "version_major": 2,
       "version_minor": 0
      },
      "text/plain": [
       "HBox(children=(FloatProgress(value=0.0, max=165.0), HTML(value='')))"
      ]
     },
     "metadata": {},
     "output_type": "display_data"
    },
    {
     "name": "stdout",
     "output_type": "stream",
     "text": [
      "\n",
      "epoch time: 72.2201280593872\n",
      "loss train: 1.7929772382432765, loss val: 13.704799126176272\n",
      "accuracy train: 0.47885714285714287, accuracy val: 0.4848571428571429\n",
      "---------------------------------------------------------------------------------------------------\n",
      "Epoch: 17, Learning Rate: 0.00025\n",
      "\n"
     ]
    },
    {
     "data": {
      "application/vnd.jupyter.widget-view+json": {
       "model_id": "0dfd896540014efaa8d5c2a3187269c1",
       "version_major": 2,
       "version_minor": 0
      },
      "text/plain": [
       "HBox(children=(FloatProgress(value=0.0, max=165.0), HTML(value='')))"
      ]
     },
     "metadata": {},
     "output_type": "display_data"
    },
    {
     "name": "stdout",
     "output_type": "stream",
     "text": [
      "\n",
      "tensor(-0.0003, device='cuda:3')\n",
      "tensor(1.9182e-05, device='cuda:3')\n",
      "tensor(-0.0010, device='cuda:3')\n",
      "tensor(-0.0010, device='cuda:3')\n",
      "tensor(-0.0003, device='cuda:3')\n",
      "tensor(4.7275e-07, device='cuda:3')\n",
      "tensor(-0.0008, device='cuda:3')\n",
      "tensor(-0.0008, device='cuda:3')\n",
      "tensor(1.6532e-05, device='cuda:3')\n",
      "tensor(1.7179e-05, device='cuda:3')\n",
      "tensor(-0.0025, device='cuda:3')\n",
      "tensor(-0.0025, device='cuda:3')\n",
      "tensor(-3.9090e-07, device='cuda:3')\n",
      "tensor(0., device='cuda:3')\n",
      "tensor(2.5250e-05, device='cuda:3')\n",
      "tensor(2.5250e-05, device='cuda:3')\n",
      "tensor(-1.5207e-05, device='cuda:3')\n",
      "tensor(0.0004, device='cuda:3')\n",
      "tensor(8.4488e-10, device='cuda:3')\n",
      "tensor(1.4192e-09, device='cuda:3')\n"
     ]
    },
    {
     "data": {
      "application/vnd.jupyter.widget-view+json": {
       "model_id": "d4b55310df524d9493884bdac5ec314e",
       "version_major": 2,
       "version_minor": 0
      },
      "text/plain": [
       "HBox(children=(FloatProgress(value=0.0, max=165.0), HTML(value='')))"
      ]
     },
     "metadata": {},
     "output_type": "display_data"
    },
    {
     "name": "stdout",
     "output_type": "stream",
     "text": [
      "\n",
      "epoch time: 73.37758255004883\n",
      "loss train: 1.7989739902091748, loss val: 13.705917386447682\n",
      "accuracy train: 0.4796190476190476, accuracy val: 0.48638095238095236\n",
      "---------------------------------------------------------------------------------------------------\n",
      "Epoch: 18, Learning Rate: 0.00025\n",
      "\n"
     ]
    },
    {
     "data": {
      "application/vnd.jupyter.widget-view+json": {
       "model_id": "7a1042328d7d4da391f810abe67762bc",
       "version_major": 2,
       "version_minor": 0
      },
      "text/plain": [
       "HBox(children=(FloatProgress(value=0.0, max=165.0), HTML(value='')))"
      ]
     },
     "metadata": {},
     "output_type": "display_data"
    },
    {
     "name": "stdout",
     "output_type": "stream",
     "text": [
      "\n",
      "tensor(-0.0001, device='cuda:3')\n",
      "tensor(7.3729e-06, device='cuda:3')\n",
      "tensor(-0.0004, device='cuda:3')\n",
      "tensor(-0.0004, device='cuda:3')\n",
      "tensor(-0.0013, device='cuda:3')\n",
      "tensor(-6.0784e-06, device='cuda:3')\n",
      "tensor(-0.0052, device='cuda:3')\n",
      "tensor(-0.0052, device='cuda:3')\n",
      "tensor(9.2231e-06, device='cuda:3')\n",
      "tensor(-2.5690e-05, device='cuda:3')\n",
      "tensor(-0.0014, device='cuda:3')\n",
      "tensor(-0.0014, device='cuda:3')\n",
      "tensor(5.4327e-07, device='cuda:3')\n",
      "tensor(0., device='cuda:3')\n",
      "tensor(2.2863e-05, device='cuda:3')\n",
      "tensor(2.2863e-05, device='cuda:3')\n",
      "tensor(7.7831e-05, device='cuda:3')\n",
      "tensor(-0.0021, device='cuda:3')\n",
      "tensor(-1.1986e-09, device='cuda:3')\n",
      "tensor(-1.7739e-09, device='cuda:3')\n"
     ]
    },
    {
     "data": {
      "application/vnd.jupyter.widget-view+json": {
       "model_id": "897f5c76d25b42f9ae6c842997401228",
       "version_major": 2,
       "version_minor": 0
      },
      "text/plain": [
       "HBox(children=(FloatProgress(value=0.0, max=165.0), HTML(value='')))"
      ]
     },
     "metadata": {},
     "output_type": "display_data"
    },
    {
     "name": "stdout",
     "output_type": "stream",
     "text": [
      "\n",
      "epoch time: 73.05480027198792\n",
      "loss train: 1.798080257394097, loss val: 13.779789938646203\n",
      "accuracy train: 0.4766666666666667, accuracy val: 0.4794285714285714\n",
      "---------------------------------------------------------------------------------------------------\n",
      "Epoch: 19, Learning Rate: 0.00025\n",
      "\n"
     ]
    },
    {
     "data": {
      "application/vnd.jupyter.widget-view+json": {
       "model_id": "d1791158e72147499fa012bd0adc817b",
       "version_major": 2,
       "version_minor": 0
      },
      "text/plain": [
       "HBox(children=(FloatProgress(value=0.0, max=165.0), HTML(value='')))"
      ]
     },
     "metadata": {},
     "output_type": "display_data"
    },
    {
     "name": "stdout",
     "output_type": "stream",
     "text": [
      "\n",
      "tensor(0.0001, device='cuda:3')\n",
      "tensor(-1.0550e-05, device='cuda:3')\n",
      "tensor(0.0005, device='cuda:3')\n",
      "tensor(0.0005, device='cuda:3')\n",
      "tensor(-0.0004, device='cuda:3')\n",
      "tensor(7.7219e-06, device='cuda:3')\n",
      "tensor(-0.0016, device='cuda:3')\n",
      "tensor(-0.0016, device='cuda:3')\n",
      "tensor(1.0736e-05, device='cuda:3')\n",
      "tensor(-1.4209e-05, device='cuda:3')\n",
      "tensor(-0.0010, device='cuda:3')\n",
      "tensor(-0.0010, device='cuda:3')\n",
      "tensor(-5.0017e-07, device='cuda:3')\n",
      "tensor(0., device='cuda:3')\n",
      "tensor(3.6257e-05, device='cuda:3')\n",
      "tensor(3.6257e-05, device='cuda:3')\n",
      "tensor(3.8242e-06, device='cuda:3')\n",
      "tensor(-0.0022, device='cuda:3')\n",
      "tensor(2.3946e-10, device='cuda:3')\n",
      "tensor(-3.5479e-10, device='cuda:3')\n"
     ]
    },
    {
     "data": {
      "application/vnd.jupyter.widget-view+json": {
       "model_id": "1054f2caf373431cbfc107ef307a3935",
       "version_major": 2,
       "version_minor": 0
      },
      "text/plain": [
       "HBox(children=(FloatProgress(value=0.0, max=165.0), HTML(value='')))"
      ]
     },
     "metadata": {},
     "output_type": "display_data"
    },
    {
     "name": "stdout",
     "output_type": "stream",
     "text": [
      "\n",
      "epoch time: 72.36645030975342\n",
      "loss train: 2.049848956592155, loss val: 14.414148814537945\n",
      "accuracy train: 0.44276190476190475, accuracy val: 0.4726666666666667\n",
      "---------------------------------------------------------------------------------------------------\n"
     ]
    }
   ],
   "source": [
    "loss_train_all, loss_val_all = [], []\n",
    "accuracy_train_all, accuracy_val_all = [], []\n",
    "\n",
    "for epoch in range(NUM_EPOCHS):\n",
    "\n",
    "    start = time.time()\n",
    "    print(f'Epoch: {epoch}, Learning Rate: {scheduler.get_last_lr()[0]}\\n')\n",
    "\n",
    "    loss_epoch_train, loss_epoch_val = 0, 0\n",
    "    correct_train, correct_val, total_train, total_val = 0, 0, 0, 0\n",
    "\n",
    "    model.train()\n",
    "    for (X_batch_train, y_batch_train) in tqdm(raw_dl):\n",
    "\n",
    "        X_batch_train, y_batch_train = X_batch_train.to(device), y_batch_train.to(device)\n",
    "\n",
    "        optimizer.zero_grad()\n",
    "\n",
    "        y_pred_train = model(X_batch_train)\n",
    "        loss_train = criterion(y_pred_train, y_batch_train)\n",
    "\n",
    "        loss_train.backward()\n",
    "        optimizer.step()\n",
    "\n",
    "        loss_epoch_train += loss_train.item()\n",
    "        correct_train += accuracy(y_pred_train, y_batch_train)\n",
    "        total_train += y_batch_train.size()[0]\n",
    "\n",
    "    scheduler.step()\n",
    "    model.eval()\n",
    "\n",
    "    with torch.no_grad():\n",
    "        \n",
    "        for item in model.parameters():\n",
    "            print(item.grad.mean())\n",
    "        \n",
    "        for (X_batch_val, y_batch_val) in tqdm(raw_dl):\n",
    "\n",
    "            X_batch_val, y_batch_val = X_batch_val.to(device), y_batch_val.to(device)\n",
    "\n",
    "            y_pred_val = model(X_batch_val)\n",
    "#                 print(y_pred_val)\n",
    "            loss_val = criterion(y_pred_val, y_batch_val)\n",
    "\n",
    "            loss_epoch_val += loss_val.item()\n",
    "\n",
    "            correct_val += accuracy(y_pred_val, y_batch_val)\n",
    "            total_val += y_batch_val.size()[0]\n",
    "\n",
    "\n",
    "    loss_train_tmp = loss_epoch_train / len(train_dl)\n",
    "    loss_val_tmp = loss_epoch_val / len(val_dl)\n",
    "\n",
    "    loss_train_all.append(loss_train_tmp)\n",
    "    loss_val_all.append(loss_val_tmp)\n",
    "\n",
    "    accuracy_train_tmp = correct_train / total_train\n",
    "    accuracy_val_tmp = correct_val / total_val\n",
    "\n",
    "    accuracy_train_all.append(accuracy_train_tmp)\n",
    "    accuracy_val_all.append(accuracy_val_tmp)\n",
    "\n",
    "    end = time.time()\n",
    "    print(f\"epoch time: {end - start}\")  \n",
    "    print(f\"loss train: {loss_train_tmp}, loss val: {loss_val_tmp}\")\n",
    "    print(f\"accuracy train: {accuracy_train_tmp}, accuracy val: {accuracy_val_tmp}\")\n",
    "\n",
    "    print(\"---------------------------------------------------------------------------------------------------\")"
   ]
  },
  {
   "cell_type": "code",
   "execution_count": null,
   "metadata": {},
   "outputs": [],
   "source": [
    "# tensorboard --logdir=runs"
   ]
  },
  {
   "cell_type": "code",
   "execution_count": null,
   "metadata": {},
   "outputs": [],
   "source": []
  },
  {
   "cell_type": "code",
   "execution_count": null,
   "metadata": {
    "scrolled": true
   },
   "outputs": [],
   "source": [
    "def train_model(model, optimizer, scheduler, train_dl, val_dl, device):\n",
    "\n",
    "    loss_train_all, loss_val_all = [], []\n",
    "    accuracy_train_all, accuracy_val_all = [], []\n",
    "\n",
    "    for epoch in range(NUM_EPOCHS):\n",
    "\n",
    "        start = time.time()\n",
    "        print(f'Epoch: {epoch}, Learning Rate: {scheduler.get_last_lr()[0]}\\n')\n",
    "\n",
    "        loss_epoch_train, loss_epoch_val = 0, 0\n",
    "        correct_train, correct_val, total_train, total_val = 0, 0, 0, 0\n",
    "\n",
    "        model.train()\n",
    "        for (X_batch_train, y_batch_train) in tqdm(train_dl):\n",
    "\n",
    "            X_batch_train, y_batch_train = X_batch_train.to(device), y_batch_train.to(device)\n",
    "\n",
    "            optimizer.zero_grad()\n",
    "\n",
    "            y_pred_train = model(X_batch_train)\n",
    "            loss_train = criterion(y_pred_train, y_batch_train)\n",
    "\n",
    "            loss_train.backward()\n",
    "            optimizer.step()\n",
    "\n",
    "            loss_epoch_train += loss_train.item()\n",
    "            correct_train += accuracy(y_pred_train, y_batch_train)\n",
    "            total_train += y_batch_train.size()[0]\n",
    "\n",
    "        scheduler.step()\n",
    "        model.eval()\n",
    "\n",
    "        with torch.no_grad():\n",
    "            for (X_batch_val, y_batch_val) in tqdm(val_dl):\n",
    "\n",
    "                X_batch_val, y_batch_val = X_batch_val.to(device), y_batch_val.to(device)\n",
    "\n",
    "                y_pred_val = model(X_batch_val)\n",
    "#                 print(y_pred_val)\n",
    "                loss_val = criterion(y_pred_val, y_batch_val)\n",
    "\n",
    "                loss_epoch_val += loss_val.item()\n",
    "\n",
    "                correct_val += accuracy(y_pred_val, y_batch_val)\n",
    "                total_val += y_batch_val.size()[0]\n",
    "\n",
    "\n",
    "        loss_train_tmp = loss_epoch_train / len(train_dl)\n",
    "        loss_val_tmp = loss_epoch_val / len(val_dl)\n",
    "\n",
    "        loss_train_all.append(loss_train_tmp)\n",
    "        loss_val_all.append(loss_val_tmp)\n",
    "\n",
    "        accuracy_train_tmp = correct_train / total_train\n",
    "        accuracy_val_tmp = correct_val / total_val\n",
    "\n",
    "        accuracy_train_all.append(accuracy_train_tmp)\n",
    "        accuracy_val_all.append(accuracy_val_tmp)\n",
    "\n",
    "        end = time.time()\n",
    "        print(f\"epoch time: {end - start}\")  \n",
    "        print(f\"loss train: {loss_train_tmp}, loss val: {loss_val_tmp}\")\n",
    "        print(f\"accuracy train: {accuracy_train_tmp}, accuracy val: {accuracy_val_tmp}\")\n",
    "\n",
    "        print(\"---------------------------------------------------------------------------------------------------\")"
   ]
  },
  {
   "cell_type": "code",
   "execution_count": 391,
   "metadata": {
    "scrolled": false
   },
   "outputs": [],
   "source": [
    "# train_model(model, optimizer, scheduler, raw_dl, raw_dl, device)"
   ]
  },
  {
   "cell_type": "code",
   "execution_count": null,
   "metadata": {},
   "outputs": [],
   "source": [
    "# 0.6666666666666666, accuracy val: 0.6666666666666666"
   ]
  },
  {
   "cell_type": "code",
   "execution_count": null,
   "metadata": {},
   "outputs": [],
   "source": []
  },
  {
   "cell_type": "code",
   "execution_count": null,
   "metadata": {},
   "outputs": [],
   "source": []
  },
  {
   "cell_type": "code",
   "execution_count": null,
   "metadata": {},
   "outputs": [],
   "source": []
  },
  {
   "cell_type": "code",
   "execution_count": null,
   "metadata": {},
   "outputs": [],
   "source": []
  },
  {
   "cell_type": "code",
   "execution_count": null,
   "metadata": {},
   "outputs": [],
   "source": []
  },
  {
   "cell_type": "code",
   "execution_count": null,
   "metadata": {},
   "outputs": [],
   "source": []
  },
  {
   "cell_type": "code",
   "execution_count": null,
   "metadata": {},
   "outputs": [],
   "source": []
  },
  {
   "cell_type": "code",
   "execution_count": null,
   "metadata": {},
   "outputs": [],
   "source": []
  },
  {
   "cell_type": "code",
   "execution_count": 190,
   "metadata": {},
   "outputs": [
    {
     "data": {
      "text/plain": [
       "Parameter containing:\n",
       "tensor([-0.0342,  0.0146, -1.2723, -1.1949, -1.2070, -1.2265, -1.3617, -1.3242,\n",
       "        -1.1334, -1.1038, -1.1241, -1.3348, -1.0677, -1.2345, -1.0239, -1.2438,\n",
       "        -1.1649, -1.1856, -1.2729, -1.2864, -0.0018], device='cuda:3',\n",
       "       requires_grad=True)"
      ]
     },
     "execution_count": 190,
     "metadata": {},
     "output_type": "execute_result"
    }
   ],
   "source": [
    "item"
   ]
  },
  {
   "cell_type": "code",
   "execution_count": 192,
   "metadata": {},
   "outputs": [
    {
     "data": {
      "text/plain": [
       "tensor(3.5479e-10, device='cuda:3')"
      ]
     },
     "execution_count": 192,
     "metadata": {},
     "output_type": "execute_result"
    }
   ],
   "source": [
    "item.grad.mean()"
   ]
  },
  {
   "cell_type": "code",
   "execution_count": 188,
   "metadata": {},
   "outputs": [
    {
     "name": "stdout",
     "output_type": "stream",
     "text": [
      "tensor([[0., 0., 0.,  ..., 0., 0., 0.],\n",
      "        [0., 0., 0.,  ..., 0., 0., 0.],\n",
      "        [0., 0., 0.,  ..., 0., 0., 0.],\n",
      "        ...,\n",
      "        [0., 0., 0.,  ..., 0., 0., 0.],\n",
      "        [0., 0., 0.,  ..., 0., 0., 0.],\n",
      "        [0., 0., 0.,  ..., 0., 0., 0.]], device='cuda:3')\n",
      "tensor([[0., 0., 0.,  ..., 0., 0., 0.],\n",
      "        [0., 0., 0.,  ..., 0., 0., 0.],\n",
      "        [0., 0., 0.,  ..., 0., 0., 0.],\n",
      "        ...,\n",
      "        [0., 0., 0.,  ..., 0., 0., 0.],\n",
      "        [0., 0., 0.,  ..., 0., 0., 0.],\n",
      "        [0., 0., 0.,  ..., 0., 0., 0.]], device='cuda:3')\n",
      "tensor([0., 0., 0.,  ..., 0., 0., 0.], device='cuda:3')\n",
      "tensor([0., 0., 0.,  ..., 0., 0., 0.], device='cuda:3')\n",
      "tensor([[-5.0143e-06,  0.0000e+00,  2.5366e-06,  ...,  0.0000e+00,\n",
      "          1.8329e-17,  0.0000e+00],\n",
      "        [ 3.4783e-08,  0.0000e+00,  1.5160e-08,  ...,  0.0000e+00,\n",
      "          3.7292e-20,  0.0000e+00],\n",
      "        [ 1.0741e-06,  0.0000e+00, -7.4472e-07,  ...,  0.0000e+00,\n",
      "          2.7790e-17,  0.0000e+00],\n",
      "        ...,\n",
      "        [-2.0572e-08,  0.0000e+00, -5.9061e-08,  ...,  0.0000e+00,\n",
      "          6.6779e-20,  0.0000e+00],\n",
      "        [-3.3253e-08,  0.0000e+00,  2.0084e-07,  ...,  0.0000e+00,\n",
      "          2.0443e-19,  0.0000e+00],\n",
      "        [-7.6625e-09,  0.0000e+00, -3.1001e-10,  ...,  0.0000e+00,\n",
      "          9.9207e-20,  0.0000e+00]], device='cuda:3')\n",
      "tensor([[-3.9530e-09, -1.4075e-10, -4.6396e-09,  ...,  3.5432e-10,\n",
      "          1.3658e-10,  1.5432e-11],\n",
      "        [ 5.9284e-11,  2.6145e-12,  4.0257e-11,  ..., -2.3366e-12,\n",
      "         -1.9867e-12, -1.9718e-13],\n",
      "        [ 1.7537e-09,  2.3193e-10,  4.3120e-09,  ..., -1.4983e-11,\n",
      "         -1.2941e-10, -1.5863e-11],\n",
      "        ...,\n",
      "        [-2.6631e-11, -1.9892e-13,  8.2660e-11,  ..., -1.7586e-11,\n",
      "          3.9710e-12,  8.5716e-14],\n",
      "        [-1.1175e-10, -6.9754e-12, -2.2256e-10,  ...,  1.4157e-11,\n",
      "          4.5071e-12,  4.8011e-13],\n",
      "        [-1.7625e-11, -6.1326e-13, -2.8832e-11,  ...,  6.7383e-13,\n",
      "          3.6076e-13,  4.3931e-14]], device='cuda:3')\n",
      "tensor([ 5.0346e-06, -4.8061e-08,  1.1305e-06,  ..., -2.4575e-08,\n",
      "         2.0078e-07,  4.3020e-08], device='cuda:3')\n",
      "tensor([ 5.0346e-06, -4.8061e-08,  1.1305e-06,  ..., -2.4575e-08,\n",
      "         2.0078e-07,  4.3020e-08], device='cuda:3')\n",
      "tensor([[0., 0., 0.,  ..., 0., 0., 0.],\n",
      "        [0., 0., 0.,  ..., 0., 0., 0.],\n",
      "        [0., 0., 0.,  ..., 0., 0., 0.],\n",
      "        ...,\n",
      "        [0., 0., 0.,  ..., 0., 0., 0.],\n",
      "        [0., 0., 0.,  ..., 0., 0., 0.],\n",
      "        [0., 0., 0.,  ..., 0., 0., 0.]], device='cuda:3')\n",
      "tensor([ 0.0000,  0.0000,  0.0000, -0.0052,  0.0026,  0.0000,  0.0000,  0.0000,\n",
      "         0.0000,  0.0000,  0.0000,  0.0000,  0.0000,  0.0000,  0.0000,  0.0000,\n",
      "         0.0000,  0.0000,  0.0156,  0.0000,  0.0000,  0.0034,  0.0000,  0.0000,\n",
      "         0.0000,  0.0000,  0.0000, -0.0067,  0.0000,  0.0047,  0.0000,  0.0000,\n",
      "         0.0000,  0.0000,  0.0000, -0.0125,  0.0000,  0.0000,  0.0000, -0.0041,\n",
      "         0.0000,  0.0000,  0.0000,  0.0000,  0.0000,  0.0000,  0.0000,  0.0000,\n",
      "         0.0000,  0.0000,  0.0000,  0.0000,  0.0000,  0.0000,  0.0000,  0.0000,\n",
      "         0.0000,  0.0000, -0.0052,  0.0000,  0.0000,  0.0028,  0.0000,  0.0000,\n",
      "         0.0030,  0.0000,  0.0000,  0.0000,  0.0000,  0.0000,  0.0162,  0.0000,\n",
      "         0.0000,  0.0000,  0.0000, -0.0136,  0.0000,  0.0000,  0.0000,  0.0000,\n",
      "         0.0000,  0.0000,  0.0000, -0.0021,  0.0000,  0.0000,  0.0000,  0.0000,\n",
      "         0.0000,  0.0000,  0.0008,  0.0000,  0.0000, -0.0093,  0.0000,  0.0000,\n",
      "         0.0000,  0.0000,  0.0000,  0.0136,  0.0000,  0.0000,  0.0000,  0.0000,\n",
      "         0.0000,  0.0000, -0.0164,  0.0036,  0.0000,  0.0000,  0.0000,  0.0000,\n",
      "         0.0041,  0.0000,  0.0000,  0.0000,  0.0000,  0.0000,  0.0000,  0.0000,\n",
      "         0.0000,  0.0000,  0.0000,  0.0000,  0.0032,  0.0000,  0.0000,  0.0000],\n",
      "       device='cuda:3')\n",
      "tensor([[0., 0., 0.,  ..., 0., 0., 0.],\n",
      "        [0., 0., 0.,  ..., 0., 0., 0.],\n",
      "        [0., 0., 0.,  ..., 0., 0., 0.],\n",
      "        ...,\n",
      "        [0., 0., 0.,  ..., 0., 0., 0.],\n",
      "        [0., 0., 0.,  ..., 0., 0., 0.],\n",
      "        [0., 0., 0.,  ..., 0., 0., 0.]], device='cuda:3')\n",
      "tensor([ 0.0261,  0.0111,  0.0052,  0.0326, -0.0025, -0.0904,  0.0324, -0.0186,\n",
      "         0.0320, -0.0233,  0.0134,  0.0365,  0.0236, -0.0003,  0.0091,  0.0068,\n",
      "        -0.0046, -0.0221,  0.0019, -0.0912,  0.0223], device='cuda:3')\n"
     ]
    }
   ],
   "source": [
    "for item in model.parameters():\n",
    "    print(item.grad)"
   ]
  },
  {
   "cell_type": "code",
   "execution_count": null,
   "metadata": {},
   "outputs": [],
   "source": []
  },
  {
   "cell_type": "code",
   "execution_count": null,
   "metadata": {},
   "outputs": [],
   "source": [
    "plt.figure(figsize=(20, 8))\n",
    "plt.title(\"loss\")\n",
    "plt.plot(np.arange(len(loss_train_all)), loss_train_all, '-o', marker='.', label='train')\n",
    "plt.plot(np.arange(len(loss_val_all)), loss_val_all, '-o', marker='.', label='val')\n",
    "plt.legend()\n",
    "plt.show()"
   ]
  },
  {
   "cell_type": "code",
   "execution_count": null,
   "metadata": {},
   "outputs": [],
   "source": [
    "plt.figure(figsize=(20, 8))\n",
    "plt.title(\"accuracy\")\n",
    "plt.plot(np.arange(len(accuracy_train_all)), accuracy_train_all, '-o', marker='.', label='train')\n",
    "plt.plot(np.arange(len(accuracy_val_all)), accuracy_val_all, '-o', marker='.', label='val')\n",
    "plt.legend()\n",
    "plt.show()"
   ]
  },
  {
   "cell_type": "markdown",
   "metadata": {},
   "source": [
    "# ----------------------------------------------------------------------------------------"
   ]
  },
  {
   "cell_type": "code",
   "execution_count": null,
   "metadata": {},
   "outputs": [],
   "source": []
  }
 ],
 "metadata": {
  "kernelspec": {
   "display_name": "Python 3",
   "language": "python",
   "name": "python3"
  },
  "language_info": {
   "codemirror_mode": {
    "name": "ipython",
    "version": 3
   },
   "file_extension": ".py",
   "mimetype": "text/x-python",
   "name": "python",
   "nbconvert_exporter": "python",
   "pygments_lexer": "ipython3",
   "version": "3.6.8"
  }
 },
 "nbformat": 4,
 "nbformat_minor": 4
}
