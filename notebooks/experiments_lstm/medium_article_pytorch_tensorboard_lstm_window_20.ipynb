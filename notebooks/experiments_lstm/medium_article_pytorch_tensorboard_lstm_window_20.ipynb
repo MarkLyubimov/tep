{
 "cells": [
  {
   "cell_type": "code",
   "execution_count": 1,
   "metadata": {},
   "outputs": [
    {
     "name": "stdout",
     "output_type": "stream",
     "text": [
      "cuda:3\n"
     ]
    }
   ],
   "source": [
    "import os\n",
    "import gc\n",
    "import time\n",
    "\n",
    "import pyreadr as py\n",
    "import pandas as pd\n",
    "import numpy as np\n",
    "import seaborn as sns\n",
    "import matplotlib.pyplot as plt\n",
    "\n",
    "from tqdm.notebook import tqdm\n",
    "\n",
    "import torch\n",
    "import torch.nn.functional as F\n",
    "\n",
    "from torch import nn\n",
    "from torch.optim import Adam, RMSprop\n",
    "from torch.optim.lr_scheduler import StepLR, ReduceLROnPlateau\n",
    "from torch.utils.data import Dataset, DataLoader\n",
    "from torch.utils.tensorboard import SummaryWriter\n",
    "from torch.nn.utils.rnn import pad_sequence, pack_padded_sequence, pad_packed_sequence\n",
    "\n",
    "from sklearn.model_selection import train_test_split\n",
    "from sklearn.preprocessing import StandardScaler\n",
    "from sklearn.metrics import confusion_matrix\n",
    "\n",
    "device = torch.device(\"cuda:3\" if torch.cuda.is_available() else \"cpu\")\n",
    "# device = torch.device(\"cpu\")\n",
    "print(device)"
   ]
  },
  {
   "cell_type": "markdown",
   "metadata": {},
   "source": [
    "> ### Data downloading\n",
    "Data link  \n",
    "https://dataverse.harvard.edu/dataset.xhtml?persistentId=doi:10.7910/DVN/6C3JR1"
   ]
  },
  {
   "cell_type": "markdown",
   "metadata": {},
   "source": [
    "##### Data description\n",
    "Here we consoder dataset of \"Additional Tennessee Eastman Process Simulation Data for Anomaly Detection Evaluation\"\n",
    "This dataverse contains the data referenced in Rieth et al. (2017). Issues and Advances in Anomaly Detection Evaluation for Joint Human-Automated Systems. To be presented at Applied Human Factors and Ergonomics 2017.\n",
    "##### Columns description\n",
    "* **faultNumber** ranges from 1 to 20 in the “Faulty” datasets and represents the fault type in the TEP. The “FaultFree” datasets only contain fault 0 (i.e. normal operating conditions).\n",
    "* **simulationRun** ranges from 1 to 500 and represents a different random number generator state from which a full TEP dataset was generated (Note: the actual seeds used to generate training and testing datasets were non-overlapping).\n",
    "* **sample** ranges either from 1 to 500 (“Training” datasets) or 1 to 960 (“Testing” datasets). The TEP variables (columns 4 to 55) were sampled every 3 minutes for a total duration of 25 hours and 48 hours respectively. Note that the faults were introduced 1 and 8 hours into the Faulty Training and Faulty Testing datasets, respectively.\n",
    "* **columns 4-55** contain the process variables; the column names retain the original variable names."
   ]
  },
  {
   "cell_type": "code",
   "execution_count": 2,
   "metadata": {},
   "outputs": [],
   "source": [
    "# ! unzip ../../data/raw/dataverse_files.zip -d ../../data/raw/dataverse_files"
   ]
  },
  {
   "cell_type": "code",
   "execution_count": 3,
   "metadata": {},
   "outputs": [],
   "source": [
    "#reading train data in .R format\n",
    "a1 = py.read_r(\"../../data/raw/dataverse_files/TEP_FaultFree_Training.RData\")\n",
    "a2 = py.read_r(\"../../data/raw/dataverse_files/TEP_Faulty_Training.RData\")"
   ]
  },
  {
   "cell_type": "code",
   "execution_count": 4,
   "metadata": {},
   "outputs": [],
   "source": [
    "#reading test data in .R format\n",
    "# a3 = py.read_r(\"../../data/raw/dataverse_files/TEP_FaultFree_Testing.RData\")\n",
    "# a4 = py.read_r(\"../../data/raw/dataverse_files/TEP_Faulty_Testing.RData\")"
   ]
  },
  {
   "cell_type": "code",
   "execution_count": 5,
   "metadata": {},
   "outputs": [
    {
     "name": "stdout",
     "output_type": "stream",
     "text": [
      "Objects that are present in a1 : odict_keys(['fault_free_training'])\n",
      "Objects that are present in a2 : odict_keys(['faulty_training'])\n"
     ]
    }
   ],
   "source": [
    "print(\"Objects that are present in a1 :\", a1.keys())\n",
    "print(\"Objects that are present in a2 :\", a2.keys())\n",
    "# print(\"Objects that are present in a3 :\", a3.keys())\n",
    "# print(\"Objects that are present in a4 :\", a4.keys())"
   ]
  },
  {
   "cell_type": "code",
   "execution_count": 6,
   "metadata": {},
   "outputs": [],
   "source": [
    "# concatinating the train and the test dataset\n",
    "\n",
    "raw_train = pd.concat([a1['fault_free_training'], a2['faulty_training']])\n",
    "# raw_test = pd.concat([a3['fault_free_testing'], a4['faulty_testing']])"
   ]
  },
  {
   "cell_type": "code",
   "execution_count": 7,
   "metadata": {},
   "outputs": [],
   "source": [
    "# 5.250.000, 10.080.000\n",
    "# len(raw_train), \n",
    "# len(raw_test)"
   ]
  },
  {
   "cell_type": "code",
   "execution_count": 8,
   "metadata": {},
   "outputs": [
    {
     "data": {
      "text/plain": [
       "0"
      ]
     },
     "execution_count": 8,
     "metadata": {},
     "output_type": "execute_result"
    }
   ],
   "source": [
    "# del a1, a2, a3, a4\n",
    "gc.collect()"
   ]
  },
  {
   "cell_type": "markdown",
   "metadata": {},
   "source": [
    "> ### Train-test-split"
   ]
  },
  {
   "cell_type": "code",
   "execution_count": 9,
   "metadata": {},
   "outputs": [],
   "source": [
    "features = [\n",
    "        'xmeas_1', 'xmeas_2', 'xmeas_3', 'xmeas_4', 'xmeas_5', 'xmeas_6', 'xmeas_7', 'xmeas_8',\n",
    "        'xmeas_9', 'xmeas_10', 'xmeas_11', 'xmeas_12', 'xmeas_13', 'xmeas_14', 'xmeas_15', 'xmeas_16', \n",
    "        'xmeas_17', 'xmeas_18', 'xmeas_19', 'xmeas_20', 'xmeas_21', 'xmeas_22', 'xmeas_23', 'xmeas_24', \n",
    "        'xmeas_25', 'xmeas_26', 'xmeas_27', 'xmeas_28', 'xmeas_29', 'xmeas_30', 'xmeas_31', 'xmeas_32',\n",
    "        'xmeas_33', 'xmeas_34', 'xmeas_35', 'xmeas_36', 'xmeas_37', 'xmeas_38', 'xmeas_39', 'xmeas_40', \n",
    "        'xmeas_41', 'xmv_1', 'xmv_2', 'xmv_3', 'xmv_4', 'xmv_5', 'xmv_6', 'xmv_7', 'xmv_8', 'xmv_9', \n",
    "        'xmv_10', 'xmv_11'\n",
    "    ]"
   ]
  },
  {
   "cell_type": "code",
   "execution_count": 10,
   "metadata": {},
   "outputs": [],
   "source": [
    "raw_train['index'] = raw_train['faultNumber'] * 500 + raw_train['simulationRun'] - 1\n",
    "# raw_test['index'] = raw_test['faultNumber'] * 500 + raw_test['simulationRun'] - 1"
   ]
  },
  {
   "cell_type": "code",
   "execution_count": 11,
   "metadata": {},
   "outputs": [],
   "source": [
    "simulation_idx = raw_train[['index', 'faultNumber']].drop_duplicates()"
   ]
  },
  {
   "cell_type": "code",
   "execution_count": 12,
   "metadata": {},
   "outputs": [],
   "source": [
    "X_train_idx, X_val_idx = train_test_split(simulation_idx['index'], \n",
    "                                          stratify=simulation_idx['faultNumber'],\n",
    "                                          test_size=0.2, \n",
    "                                          random_state=42)"
   ]
  },
  {
   "cell_type": "code",
   "execution_count": 13,
   "metadata": {},
   "outputs": [],
   "source": [
    "X_train = raw_train[raw_train['index'].isin(X_train_idx)].drop('index', axis=1)\n",
    "X_val = raw_train[raw_train['index'].isin(X_val_idx)].drop('index', axis=1)\n",
    "# X_test = raw_test.drop('index', axis=1)"
   ]
  },
  {
   "cell_type": "markdown",
   "metadata": {},
   "source": [
    "> ### Scaling"
   ]
  },
  {
   "cell_type": "code",
   "execution_count": 14,
   "metadata": {},
   "outputs": [],
   "source": [
    "scaler = StandardScaler()\n",
    "scaler.fit(X_train[features])\n",
    "\n",
    "X_train[features] = scaler.transform(X_train[features])\n",
    "X_val[features] = scaler.transform(X_val[features])\n",
    "# X_test[features] = scaler.transform(X_test[features])"
   ]
  },
  {
   "cell_type": "markdown",
   "metadata": {},
   "source": [
    "> ### Dataset and dataloader"
   ]
  },
  {
   "cell_type": "code",
   "execution_count": 15,
   "metadata": {},
   "outputs": [],
   "source": [
    "def correct(y_pred, target):\n",
    "    \n",
    "    y_pred = torch.softmax(y_pred, dim=1)\n",
    "    y_pred = torch.max(y_pred, dim=1)[1]  \n",
    "    \n",
    "    return torch.eq(y_pred, target).sum().item()"
   ]
  },
  {
   "cell_type": "code",
   "execution_count": 16,
   "metadata": {},
   "outputs": [],
   "source": [
    "# s_list = [0, 100, 200, 300, 400] #len = 5\n",
    "# l_list = [1, 5, 10, 25, 50, 100] #len = 6\n",
    "\n",
    "\n",
    "# for idx in range(239, 271): \n",
    "\n",
    "#     fault_sim_idx = idx // (len(s_list) * len(l_list))\n",
    "    \n",
    "#     start_length_idxs = idx % (len(s_list) * len(l_list))\n",
    "    \n",
    "#     print(fault_sim_idx, start_length_idxs)\n",
    "#     start_idx = s_list[start_length_idxs // len(l_list)]\n",
    "#     seq_length = l_list[start_length_idxs % len(l_list)]\n",
    "#     print(\"start:\", start_idx)\n",
    "#     print(\"length:\", seq_length)\n",
    "    \n",
    "#     X_train_tmp = X_train[X_train['index'] == fault_sim_idx].values[start_idx:start_idx+seq_length, :]\n",
    "    \n",
    "#     print(X_train_tmp.shape)"
   ]
  },
  {
   "cell_type": "code",
   "execution_count": 17,
   "metadata": {},
   "outputs": [],
   "source": [
    "class DataTEP(Dataset):\n",
    "\n",
    "    def __init__(self, X):\n",
    "    \n",
    "        self.X = X\n",
    "        self.X = self.X.sort_values(['faultNumber', 'simulationRun', 'sample'])\n",
    "        self.X['index'] = self.X.groupby(['faultNumber', 'simulationRun']).ngroup()\n",
    "        self.X = self.X.set_index('index')\n",
    "        \n",
    "        self.s_list = [0, 100, 200, 300, 400]\n",
    "#         self.l_list = [1, 5, 10, 25, 50, 100]\n",
    "#         self.l_list = [10, 50]\n",
    "        self.l_list = [20]\n",
    "        \n",
    "        self.features = [\n",
    "                'xmeas_1', 'xmeas_2', 'xmeas_3', 'xmeas_4', 'xmeas_5', 'xmeas_6', 'xmeas_7', 'xmeas_8', 'xmeas_9', \n",
    "                'xmeas_10', 'xmeas_11', 'xmeas_12', 'xmeas_13', 'xmeas_14', 'xmeas_15', 'xmeas_16', 'xmeas_17', \n",
    "                'xmeas_18', 'xmeas_19', 'xmeas_20', 'xmeas_21', 'xmeas_22', 'xmeas_23', 'xmeas_24', 'xmeas_25', \n",
    "                'xmeas_26', 'xmeas_27', 'xmeas_28', 'xmeas_29', 'xmeas_30', 'xmeas_31', 'xmeas_32', 'xmeas_33', \n",
    "                'xmeas_34', 'xmeas_35', 'xmeas_36', 'xmeas_37', 'xmeas_38', 'xmeas_39', 'xmeas_40', 'xmeas_41', \n",
    "                'xmv_1', 'xmv_2', 'xmv_3', 'xmv_4', 'xmv_5', 'xmv_6', 'xmv_7', 'xmv_8', 'xmv_9', 'xmv_10', 'xmv_11'\n",
    "            ]\n",
    "\n",
    "    def __len__(self):\n",
    "        return self.X.index.nunique() * len(self.s_list) * len(self.l_list)\n",
    "    \n",
    "    def __getitem__(self, idx):\n",
    "        \n",
    "        fault_sim_idx = idx // (len(self.s_list) * len(self.l_list))\n",
    "    \n",
    "        start_length_idxs = idx % (len(self.s_list) * len(self.l_list))\n",
    "        \n",
    "        start_idx = self.s_list[start_length_idxs // len(self.l_list)]\n",
    "        seq_length = self.l_list[start_length_idxs % len(self.l_list)]\n",
    "        \n",
    "#         print(start_idx, start_idx+seq_length)\n",
    "\n",
    "        features = self.X.loc[fault_sim_idx][self.features].values[start_idx : (start_idx+seq_length), :]\n",
    "        target = self.X.loc[fault_sim_idx]['faultNumber'].unique()[0]\n",
    "\n",
    "        features = torch.tensor(features, dtype=torch.float)\n",
    "        target = torch.tensor(target, dtype=torch.long)\n",
    "\n",
    "        return features, target"
   ]
  },
  {
   "cell_type": "code",
   "execution_count": 18,
   "metadata": {},
   "outputs": [],
   "source": [
    "BATCH_SIZE = 64\n",
    "NUM_CLASSES = 21"
   ]
  },
  {
   "cell_type": "code",
   "execution_count": 19,
   "metadata": {},
   "outputs": [],
   "source": [
    "def collate_fn(batch):\n",
    "\n",
    "    sequences = [x[0] for x in batch]\n",
    "    labels = [x[1] for x in batch]\n",
    "        \n",
    "    lengths = torch.LongTensor([len(x) for x in sequences])\n",
    "    lengths, idx = lengths.sort(0, descending=True)\n",
    "    \n",
    "    sequences = [sequences[i] for i in idx]\n",
    "    \n",
    "    labels = torch.tensor(labels, dtype=torch.long)[idx]\n",
    "    \n",
    "    sequences_padded = pad_sequence(sequences, batch_first=True)\n",
    "\n",
    "    return sequences_padded, lengths, labels"
   ]
  },
  {
   "cell_type": "code",
   "execution_count": 20,
   "metadata": {},
   "outputs": [],
   "source": [
    "train_ds = DataTEP(X_train)\n",
    "train_dl = DataLoader(train_ds, batch_size=BATCH_SIZE, collate_fn=collate_fn, shuffle=True)\n",
    "\n",
    "val_ds = DataTEP(X_val)\n",
    "val_dl = DataLoader(val_ds, batch_size=BATCH_SIZE*4, collate_fn=collate_fn)\n",
    "\n",
    "# test_ds = DataTEP(X_test)\n",
    "# test_dl = DataLoader(test_ds, batch_size=BATCH_SIZE*4, collate_fn=collate_fn)"
   ]
  },
  {
   "cell_type": "code",
   "execution_count": 21,
   "metadata": {},
   "outputs": [
    {
     "data": {
      "text/plain": [
       "(42000, 10500)"
      ]
     },
     "execution_count": 21,
     "metadata": {},
     "output_type": "execute_result"
    }
   ],
   "source": [
    "len(train_ds), len(val_ds)"
   ]
  },
  {
   "cell_type": "code",
   "execution_count": 22,
   "metadata": {},
   "outputs": [
    {
     "data": {
      "text/plain": [
       "0"
      ]
     },
     "execution_count": 22,
     "metadata": {},
     "output_type": "execute_result"
    }
   ],
   "source": [
    "gc.collect()"
   ]
  },
  {
   "cell_type": "markdown",
   "metadata": {},
   "source": [
    "> ### Model"
   ]
  },
  {
   "cell_type": "code",
   "execution_count": 23,
   "metadata": {},
   "outputs": [],
   "source": [
    "class TwinModel(torch.nn.Module) :\n",
    "    def __init__(self, NUM_LAYERS, INPUT_SIZE, HIDDEN_SIZE, LINEAR_SIZE, OUTPUT_SIZE, BIDIRECTIONAL, DEVICE):\n",
    "        super().__init__()\n",
    "        \n",
    "        self.hidden_size = HIDDEN_SIZE\n",
    "        self.num_layers = NUM_LAYERS\n",
    "        self.input_size = INPUT_SIZE\n",
    "        self.linear_size = LINEAR_SIZE\n",
    "        self.output_size = OUTPUT_SIZE\n",
    "        self.bidirectional = BIDIRECTIONAL\n",
    "        \n",
    "        self.lstm_1 = nn.LSTM(\n",
    "                        input_size=self.input_size[0], \n",
    "                        hidden_size=self.hidden_size,\n",
    "                        num_layers=self.num_layers, \n",
    "                        bidirectional=self.bidirectional,\n",
    "                        batch_first=True,\n",
    "                        dropout=0.4\n",
    "            )\n",
    "        \n",
    "        self.lstm_2 = nn.LSTM(\n",
    "                        input_size=self.input_size[1],\n",
    "                        hidden_size=self.hidden_size,\n",
    "                        num_layers=self.num_layers, \n",
    "                        bidirectional=self.bidirectional,\n",
    "                        batch_first=True,\n",
    "                        dropout=0.4\n",
    "            )\n",
    "        \n",
    "        \n",
    "        self.head = nn.Sequential(\n",
    "                        nn.Linear(in_features=2*self.hidden_size*(self.bidirectional+1), out_features=self.linear_size),\n",
    "                        nn.ReLU(),\n",
    "                        nn.Dropout(p=0.4),\n",
    "                        nn.Linear(in_features=self.linear_size, out_features=OUTPUT_SIZE),\n",
    "            )\n",
    "        \n",
    "    def forward(self, x):\n",
    "        \n",
    "        x_1 = x[:, :, :41]\n",
    "        x_2 = x[:, :, 41:]\n",
    "        \n",
    "        x_1, _ = self.lstm_1(x_1)\n",
    "        x_2, __ = self.lstm_2(x_2)\n",
    "        \n",
    "        x_3 = torch.cat((x_1[:, -1], x_2[:, -1]), dim=-1)\n",
    "        \n",
    "        x = self.head(x_3)\n",
    "        \n",
    "        return x"
   ]
  },
  {
   "cell_type": "code",
   "execution_count": 24,
   "metadata": {},
   "outputs": [],
   "source": [
    "class UniModel(torch.nn.Module) :\n",
    "    def __init__(self, NUM_LAYERS, INPUT_SIZE, HIDDEN_SIZE, LINEAR_SIZE, OUTPUT_SIZE, BIDIRECTIONAL, DEVICE):\n",
    "        super().__init__()\n",
    "        \n",
    "        self.hidden_size = HIDDEN_SIZE\n",
    "        self.num_layers = NUM_LAYERS\n",
    "        self.input_size = INPUT_SIZE\n",
    "        self.linear_size = LINEAR_SIZE\n",
    "        self.output_size = OUTPUT_SIZE\n",
    "        self.bidirectional = BIDIRECTIONAL\n",
    "        \n",
    "        self.lstm = nn.LSTM(\n",
    "                        input_size=self.input_size, \n",
    "                        hidden_size=self.hidden_size,\n",
    "                        num_layers=self.num_layers, \n",
    "                        bidirectional=self.bidirectional,\n",
    "                        batch_first=True,\n",
    "                        dropout=0.4\n",
    "            )\n",
    "        \n",
    "        self.head = nn.Sequential(\n",
    "                        nn.Linear(in_features=self.hidden_size*(self.bidirectional+1), out_features=self.linear_size),\n",
    "                        nn.ReLU(),\n",
    "                        nn.Dropout(p=0.4),\n",
    "                        nn.Linear(in_features=self.linear_size, out_features=OUTPUT_SIZE),\n",
    "            )\n",
    "        \n",
    "    def forward(self, x, x_length):\n",
    "        \n",
    "        x_packed = pack_padded_sequence(x, x_length, batch_first=True)\n",
    "        \n",
    "        x_lstm_out, _ = self.lstm(x_packed)\n",
    "        \n",
    "        x_unpacked, _ = pad_packed_sequence(x_lstm_out, batch_first=True)\n",
    "        \n",
    "        x = self.head(x_unpacked[:, -1])\n",
    "        \n",
    "        return x"
   ]
  },
  {
   "cell_type": "code",
   "execution_count": 25,
   "metadata": {},
   "outputs": [],
   "source": [
    "NUM_EPOCHS = 100\n",
    "LEARNING_RATE = 0.001\n",
    "\n",
    "NUM_LAYERS = 2\n",
    "HIDDEN_SIZE = 256\n",
    "LINEAR_SIZE = 128\n",
    "BIDIRECTIONAL = True"
   ]
  },
  {
   "cell_type": "code",
   "execution_count": 26,
   "metadata": {},
   "outputs": [
    {
     "data": {
      "text/plain": [
       "<torch._C.Generator at 0x7fc8620596d0>"
      ]
     },
     "execution_count": 26,
     "metadata": {},
     "output_type": "execute_result"
    }
   ],
   "source": [
    "model = UniModel(NUM_LAYERS=NUM_LAYERS, INPUT_SIZE=52, HIDDEN_SIZE=HIDDEN_SIZE, \n",
    "                 LINEAR_SIZE=LINEAR_SIZE, OUTPUT_SIZE=NUM_CLASSES, BIDIRECTIONAL=BIDIRECTIONAL, DEVICE=device)\n",
    "\n",
    "# model = TwinModel(NUM_LAYERS=NUM_LAYERS, INPUT_SIZE=[41, 11], HIDDEN_SIZE=HIDDEN_SIZE,\n",
    "#                  LINEAR_SIZE=LINEAR_SIZE, OUTPUT_SIZE=NUM_CLASSES, BIDIRECTIONAL=BIDIRECTIONAL, DEVICE=device)\n",
    "\n",
    "model = model.to(device)\n",
    "\n",
    "optimizer = torch.optim.Adam(model.parameters(), lr=LEARNING_RATE)\n",
    "criterion = nn.CrossEntropyLoss()\n",
    "scheduler = StepLR(optimizer, step_size=25, gamma=0.5)\n",
    "# scheduler = ReduceLROnPlateau(optimizer, mode='min', verbose=True)\n",
    "\n",
    "torch.manual_seed(42)"
   ]
  },
  {
   "cell_type": "code",
   "execution_count": 27,
   "metadata": {},
   "outputs": [
    {
     "name": "stdout",
     "output_type": "stream",
     "text": [
      "<class 'torch.Tensor'> <class 'torch.Tensor'> <class 'torch.Tensor'>\n",
      "64 64 64\n",
      "y_batch_train.size() torch.Size([64])\n",
      "y_pred_train.size() torch.Size([64, 21]) \n",
      "\n"
     ]
    }
   ],
   "source": [
    "for i, (X_batch, X_lengths, y_batch) in enumerate(train_dl):\n",
    "    if i < 1:\n",
    "        print(type(X_batch), type(X_lengths), type(y_batch))\n",
    "        print(len(X_batch), len(X_lengths), len(y_batch))\n",
    "        X_batch, y_batch_train = X_batch.to(device), y_batch.to(device)\n",
    "        y_pred_train = model(X_batch, X_lengths)\n",
    "        print(\"y_batch_train.size()\", y_batch.size())\n",
    "        print(\"y_pred_train.size()\", y_pred_train.size(), '\\n')\n",
    "    else:\n",
    "        break"
   ]
  },
  {
   "cell_type": "code",
   "execution_count": 28,
   "metadata": {},
   "outputs": [],
   "source": [
    "# !rm -r runs"
   ]
  },
  {
   "cell_type": "markdown",
   "metadata": {},
   "source": [
    "> ### Training"
   ]
  },
  {
   "cell_type": "code",
   "execution_count": 29,
   "metadata": {},
   "outputs": [],
   "source": [
    "# writer = SummaryWriter(comment=f'NL{NUM_LAYERS}_H{HIDDEN_SIZE}_L{LINEAR_SIZE}_B{BIDIRECTIONAL}_S{-100}')\n",
    "\n",
    "writer = SummaryWriter(comment=f'window_20')"
   ]
  },
  {
   "cell_type": "code",
   "execution_count": 30,
   "metadata": {
    "scrolled": true
   },
   "outputs": [
    {
     "name": "stdout",
     "output_type": "stream",
     "text": [
      "Epoch: 0, Learning Rate: 0.001\n",
      "\n"
     ]
    },
    {
     "data": {
      "application/vnd.jupyter.widget-view+json": {
       "model_id": "e5fbd9ffd1114fb5959cd917dcb7d772",
       "version_major": 2,
       "version_minor": 0
      },
      "text/plain": [
       "HBox(children=(FloatProgress(value=0.0, max=657.0), HTML(value='')))"
      ]
     },
     "metadata": {},
     "output_type": "display_data"
    },
    {
     "name": "stdout",
     "output_type": "stream",
     "text": [
      "\n",
      "tensor(-2.7563e-05, device='cuda:3')\n",
      "tensor(4.8412e-06, device='cuda:3')\n",
      "tensor(-0.0004, device='cuda:3')\n",
      "tensor(-0.0004, device='cuda:3')\n",
      "tensor(3.7067e-06, device='cuda:3')\n",
      "tensor(-1.8737e-07, device='cuda:3')\n",
      "tensor(-9.5149e-05, device='cuda:3')\n",
      "tensor(-9.5149e-05, device='cuda:3')\n",
      "tensor(5.7299e-07, device='cuda:3')\n",
      "tensor(1.5220e-06, device='cuda:3')\n",
      "tensor(-0.0003, device='cuda:3')\n",
      "tensor(-0.0003, device='cuda:3')\n",
      "tensor(-1.2470e-06, device='cuda:3')\n",
      "tensor(0., device='cuda:3')\n",
      "tensor(6.1064e-05, device='cuda:3')\n",
      "tensor(6.1064e-05, device='cuda:3')\n",
      "tensor(9.9057e-06, device='cuda:3')\n",
      "tensor(-0.0008, device='cuda:3')\n",
      "tensor(3.4817e-11, device='cuda:3')\n",
      "tensor(1.7739e-10, device='cuda:3')\n"
     ]
    },
    {
     "data": {
      "application/vnd.jupyter.widget-view+json": {
       "model_id": "424be79fa7494804bedfeddc3f697332",
       "version_major": 2,
       "version_minor": 0
      },
      "text/plain": [
       "HBox(children=(FloatProgress(value=0.0, max=42.0), HTML(value='')))"
      ]
     },
     "metadata": {},
     "output_type": "display_data"
    },
    {
     "name": "stdout",
     "output_type": "stream",
     "text": [
      "\n",
      "epoch time: 107.0892653465271\n",
      "mean loss train: 1.6024005218233381, mean loss val: 1.1533028069904872\n",
      "accuracy train: 0.4933571428571429, accuracy val: 0.6287619047619047\n",
      "---------------------------------------------------------------------------------------------------\n",
      "Epoch: 1, Learning Rate: 0.001\n",
      "\n"
     ]
    },
    {
     "data": {
      "application/vnd.jupyter.widget-view+json": {
       "model_id": "f1fd967c48c947d2ac5d6ef0742e43e2",
       "version_major": 2,
       "version_minor": 0
      },
      "text/plain": [
       "HBox(children=(FloatProgress(value=0.0, max=657.0), HTML(value='')))"
      ]
     },
     "metadata": {},
     "output_type": "display_data"
    },
    {
     "name": "stdout",
     "output_type": "stream",
     "text": [
      "\n",
      "tensor(2.7428e-05, device='cuda:3')\n",
      "tensor(2.4730e-06, device='cuda:3')\n",
      "tensor(-0.0012, device='cuda:3')\n",
      "tensor(-0.0012, device='cuda:3')\n",
      "tensor(9.3161e-06, device='cuda:3')\n",
      "tensor(8.5720e-07, device='cuda:3')\n",
      "tensor(0.0003, device='cuda:3')\n",
      "tensor(0.0003, device='cuda:3')\n",
      "tensor(6.7799e-07, device='cuda:3')\n",
      "tensor(-1.8771e-06, device='cuda:3')\n",
      "tensor(0.0003, device='cuda:3')\n",
      "tensor(0.0003, device='cuda:3')\n",
      "tensor(2.0609e-07, device='cuda:3')\n",
      "tensor(0., device='cuda:3')\n",
      "tensor(-8.5005e-05, device='cuda:3')\n",
      "tensor(-8.5005e-05, device='cuda:3')\n",
      "tensor(1.3040e-05, device='cuda:3')\n",
      "tensor(-0.0016, device='cuda:3')\n",
      "tensor(7.7521e-09, device='cuda:3')\n",
      "tensor(5.6766e-09, device='cuda:3')\n"
     ]
    },
    {
     "data": {
      "application/vnd.jupyter.widget-view+json": {
       "model_id": "da9c1597e08e4f0eb46cffa399494b6f",
       "version_major": 2,
       "version_minor": 0
      },
      "text/plain": [
       "HBox(children=(FloatProgress(value=0.0, max=42.0), HTML(value='')))"
      ]
     },
     "metadata": {},
     "output_type": "display_data"
    },
    {
     "name": "stdout",
     "output_type": "stream",
     "text": [
      "\n",
      "epoch time: 107.83129453659058\n",
      "mean loss train: 1.1114119733628773, mean loss val: 1.0443415937423706\n",
      "accuracy train: 0.625547619047619, accuracy val: 0.6388571428571429\n",
      "---------------------------------------------------------------------------------------------------\n",
      "Epoch: 2, Learning Rate: 0.001\n",
      "\n"
     ]
    },
    {
     "data": {
      "application/vnd.jupyter.widget-view+json": {
       "model_id": "9ead6d4f7c5e4e6489283d8ecad75e2f",
       "version_major": 2,
       "version_minor": 0
      },
      "text/plain": [
       "HBox(children=(FloatProgress(value=0.0, max=657.0), HTML(value='')))"
      ]
     },
     "metadata": {},
     "output_type": "display_data"
    },
    {
     "name": "stdout",
     "output_type": "stream",
     "text": [
      "\n",
      "tensor(2.9825e-06, device='cuda:3')\n",
      "tensor(2.2003e-06, device='cuda:3')\n",
      "tensor(-0.0002, device='cuda:3')\n",
      "tensor(-0.0002, device='cuda:3')\n",
      "tensor(2.8001e-07, device='cuda:3')\n",
      "tensor(6.3295e-08, device='cuda:3')\n",
      "tensor(2.7135e-05, device='cuda:3')\n",
      "tensor(2.7135e-05, device='cuda:3')\n",
      "tensor(-2.5749e-08, device='cuda:3')\n",
      "tensor(2.9047e-07, device='cuda:3')\n",
      "tensor(-4.4070e-06, device='cuda:3')\n",
      "tensor(-4.4070e-06, device='cuda:3')\n",
      "tensor(1.0682e-07, device='cuda:3')\n",
      "tensor(0., device='cuda:3')\n",
      "tensor(-1.4869e-05, device='cuda:3')\n",
      "tensor(-1.4869e-05, device='cuda:3')\n",
      "tensor(2.9881e-06, device='cuda:3')\n",
      "tensor(-0.0001, device='cuda:3')\n",
      "tensor(2.4761e-10, device='cuda:3')\n",
      "tensor(5.3218e-10, device='cuda:3')\n"
     ]
    },
    {
     "data": {
      "application/vnd.jupyter.widget-view+json": {
       "model_id": "d6605141fddd4c4cbe0b593e682ed679",
       "version_major": 2,
       "version_minor": 0
      },
      "text/plain": [
       "HBox(children=(FloatProgress(value=0.0, max=42.0), HTML(value='')))"
      ]
     },
     "metadata": {},
     "output_type": "display_data"
    },
    {
     "name": "stdout",
     "output_type": "stream",
     "text": [
      "\n",
      "epoch time: 104.24586200714111\n",
      "mean loss train: 1.0130124840963455, mean loss val: 0.9821885856219701\n",
      "accuracy train: 0.6446904761904761, accuracy val: 0.6514285714285715\n",
      "---------------------------------------------------------------------------------------------------\n",
      "Epoch: 3, Learning Rate: 0.001\n",
      "\n"
     ]
    },
    {
     "data": {
      "application/vnd.jupyter.widget-view+json": {
       "model_id": "777aba305cca49978a2f554b92305bbb",
       "version_major": 2,
       "version_minor": 0
      },
      "text/plain": [
       "HBox(children=(FloatProgress(value=0.0, max=657.0), HTML(value='')))"
      ]
     },
     "metadata": {},
     "output_type": "display_data"
    },
    {
     "name": "stdout",
     "output_type": "stream",
     "text": [
      "\n",
      "tensor(-6.4719e-05, device='cuda:3')\n",
      "tensor(4.9491e-06, device='cuda:3')\n",
      "tensor(0.0007, device='cuda:3')\n",
      "tensor(0.0007, device='cuda:3')\n",
      "tensor(1.8970e-05, device='cuda:3')\n",
      "tensor(-1.6012e-06, device='cuda:3')\n",
      "tensor(-4.6800e-05, device='cuda:3')\n",
      "tensor(-4.6800e-05, device='cuda:3')\n",
      "tensor(1.5493e-06, device='cuda:3')\n",
      "tensor(4.5640e-07, device='cuda:3')\n",
      "tensor(-4.0198e-06, device='cuda:3')\n",
      "tensor(-4.0198e-06, device='cuda:3')\n",
      "tensor(4.6216e-06, device='cuda:3')\n",
      "tensor(0., device='cuda:3')\n",
      "tensor(5.7800e-05, device='cuda:3')\n",
      "tensor(5.7800e-05, device='cuda:3')\n",
      "tensor(-4.6712e-07, device='cuda:3')\n",
      "tensor(0.0006, device='cuda:3')\n",
      "tensor(1.6630e-09, device='cuda:3')\n",
      "tensor(1.5966e-09, device='cuda:3')\n"
     ]
    },
    {
     "data": {
      "application/vnd.jupyter.widget-view+json": {
       "model_id": "8a177b63a8224025ab1e70bcc2ee8999",
       "version_major": 2,
       "version_minor": 0
      },
      "text/plain": [
       "HBox(children=(FloatProgress(value=0.0, max=42.0), HTML(value='')))"
      ]
     },
     "metadata": {},
     "output_type": "display_data"
    },
    {
     "name": "stdout",
     "output_type": "stream",
     "text": [
      "\n",
      "epoch time: 106.32668995857239\n",
      "mean loss train: 0.9478962314696538, mean loss val: 0.9023225793384371\n",
      "accuracy train: 0.6631904761904762, accuracy val: 0.6734285714285714\n",
      "---------------------------------------------------------------------------------------------------\n",
      "Epoch: 4, Learning Rate: 0.001\n",
      "\n"
     ]
    },
    {
     "data": {
      "application/vnd.jupyter.widget-view+json": {
       "model_id": "80b1ea1dc8cd408096d9990c4d946f85",
       "version_major": 2,
       "version_minor": 0
      },
      "text/plain": [
       "HBox(children=(FloatProgress(value=0.0, max=657.0), HTML(value='')))"
      ]
     },
     "metadata": {},
     "output_type": "display_data"
    },
    {
     "name": "stdout",
     "output_type": "stream",
     "text": [
      "\n",
      "tensor(-5.2040e-05, device='cuda:3')\n",
      "tensor(-1.5259e-05, device='cuda:3')\n",
      "tensor(0.0044, device='cuda:3')\n",
      "tensor(0.0044, device='cuda:3')\n",
      "tensor(9.7615e-07, device='cuda:3')\n",
      "tensor(2.5957e-08, device='cuda:3')\n",
      "tensor(-0.0001, device='cuda:3')\n",
      "tensor(-0.0001, device='cuda:3')\n",
      "tensor(-3.2742e-07, device='cuda:3')\n",
      "tensor(-5.3552e-06, device='cuda:3')\n",
      "tensor(0.0006, device='cuda:3')\n",
      "tensor(0.0006, device='cuda:3')\n",
      "tensor(1.4893e-06, device='cuda:3')\n",
      "tensor(0., device='cuda:3')\n",
      "tensor(0.0002, device='cuda:3')\n",
      "tensor(0.0002, device='cuda:3')\n",
      "tensor(1.0044e-05, device='cuda:3')\n",
      "tensor(0.0006, device='cuda:3')\n",
      "tensor(-7.9786e-10, device='cuda:3')\n",
      "tensor(-7.0958e-10, device='cuda:3')\n"
     ]
    },
    {
     "data": {
      "application/vnd.jupyter.widget-view+json": {
       "model_id": "5226f2fc7e1248c89bc69ac07d69b445",
       "version_major": 2,
       "version_minor": 0
      },
      "text/plain": [
       "HBox(children=(FloatProgress(value=0.0, max=42.0), HTML(value='')))"
      ]
     },
     "metadata": {},
     "output_type": "display_data"
    },
    {
     "name": "stdout",
     "output_type": "stream",
     "text": [
      "\n",
      "epoch time: 111.04965615272522\n",
      "mean loss train: 0.915552688008263, mean loss val: 0.9299994481858753\n",
      "accuracy train: 0.6770714285714285, accuracy val: 0.6732380952380952\n",
      "---------------------------------------------------------------------------------------------------\n",
      "Epoch: 5, Learning Rate: 0.001\n",
      "\n"
     ]
    },
    {
     "data": {
      "application/vnd.jupyter.widget-view+json": {
       "model_id": "c89807f0896f48aabc4e23cdc79e4d0b",
       "version_major": 2,
       "version_minor": 0
      },
      "text/plain": [
       "HBox(children=(FloatProgress(value=0.0, max=657.0), HTML(value='')))"
      ]
     },
     "metadata": {},
     "output_type": "display_data"
    },
    {
     "name": "stdout",
     "output_type": "stream",
     "text": [
      "\n",
      "tensor(-8.2654e-06, device='cuda:3')\n",
      "tensor(2.0960e-06, device='cuda:3')\n",
      "tensor(-0.0003, device='cuda:3')\n",
      "tensor(-0.0003, device='cuda:3')\n",
      "tensor(3.4797e-07, device='cuda:3')\n",
      "tensor(1.0469e-08, device='cuda:3')\n",
      "tensor(-3.3361e-05, device='cuda:3')\n",
      "tensor(-3.3361e-05, device='cuda:3')\n",
      "tensor(4.1366e-07, device='cuda:3')\n",
      "tensor(3.1906e-07, device='cuda:3')\n",
      "tensor(-6.4857e-05, device='cuda:3')\n",
      "tensor(-6.4857e-05, device='cuda:3')\n",
      "tensor(-8.4231e-08, device='cuda:3')\n",
      "tensor(0., device='cuda:3')\n",
      "tensor(1.3736e-05, device='cuda:3')\n",
      "tensor(1.3736e-05, device='cuda:3')\n",
      "tensor(-3.1228e-07, device='cuda:3')\n",
      "tensor(6.3903e-05, device='cuda:3')\n",
      "tensor(4.4669e-09, device='cuda:3')\n",
      "tensor(3.1931e-09, device='cuda:3')\n"
     ]
    },
    {
     "data": {
      "application/vnd.jupyter.widget-view+json": {
       "model_id": "d3525b4774554b7595ea88bb1afd85dc",
       "version_major": 2,
       "version_minor": 0
      },
      "text/plain": [
       "HBox(children=(FloatProgress(value=0.0, max=42.0), HTML(value='')))"
      ]
     },
     "metadata": {},
     "output_type": "display_data"
    },
    {
     "name": "stdout",
     "output_type": "stream",
     "text": [
      "\n",
      "epoch time: 107.73687767982483\n",
      "mean loss train: 0.8818910957972209, mean loss val: 0.87036265091669\n",
      "accuracy train: 0.6862142857142857, accuracy val: 0.6879047619047619\n",
      "---------------------------------------------------------------------------------------------------\n",
      "Epoch: 6, Learning Rate: 0.001\n",
      "\n"
     ]
    },
    {
     "data": {
      "application/vnd.jupyter.widget-view+json": {
       "model_id": "e2dcc9c4ec0742d3b3664342af16e0e3",
       "version_major": 2,
       "version_minor": 0
      },
      "text/plain": [
       "HBox(children=(FloatProgress(value=0.0, max=657.0), HTML(value='')))"
      ]
     },
     "metadata": {},
     "output_type": "display_data"
    },
    {
     "name": "stdout",
     "output_type": "stream",
     "text": [
      "\n",
      "tensor(7.3934e-05, device='cuda:3')\n",
      "tensor(-1.2768e-05, device='cuda:3')\n",
      "tensor(-0.0032, device='cuda:3')\n",
      "tensor(-0.0032, device='cuda:3')\n",
      "tensor(1.2005e-05, device='cuda:3')\n",
      "tensor(5.1048e-07, device='cuda:3')\n",
      "tensor(-0.0001, device='cuda:3')\n",
      "tensor(-0.0001, device='cuda:3')\n",
      "tensor(-5.6026e-07, device='cuda:3')\n",
      "tensor(1.3251e-06, device='cuda:3')\n",
      "tensor(-0.0002, device='cuda:3')\n",
      "tensor(-0.0002, device='cuda:3')\n",
      "tensor(-8.3929e-07, device='cuda:3')\n",
      "tensor(0., device='cuda:3')\n",
      "tensor(-0.0001, device='cuda:3')\n",
      "tensor(-0.0001, device='cuda:3')\n",
      "tensor(1.3262e-06, device='cuda:3')\n",
      "tensor(-0.0007, device='cuda:3')\n",
      "tensor(3.1712e-09, device='cuda:3')\n",
      "tensor(2.1287e-09, device='cuda:3')\n"
     ]
    },
    {
     "data": {
      "application/vnd.jupyter.widget-view+json": {
       "model_id": "92fbe357b9a8425084b692ffee955c60",
       "version_major": 2,
       "version_minor": 0
      },
      "text/plain": [
       "HBox(children=(FloatProgress(value=0.0, max=42.0), HTML(value='')))"
      ]
     },
     "metadata": {},
     "output_type": "display_data"
    },
    {
     "name": "stdout",
     "output_type": "stream",
     "text": [
      "\n",
      "epoch time: 107.62720036506653\n",
      "mean loss train: 0.8621930411202567, mean loss val: 0.8558111100878034\n",
      "accuracy train: 0.6917380952380953, accuracy val: 0.6934285714285714\n",
      "---------------------------------------------------------------------------------------------------\n",
      "Epoch: 7, Learning Rate: 0.001\n",
      "\n"
     ]
    },
    {
     "data": {
      "application/vnd.jupyter.widget-view+json": {
       "model_id": "ab487baf8f0d4f26ab4f6a3eac7fa8a5",
       "version_major": 2,
       "version_minor": 0
      },
      "text/plain": [
       "HBox(children=(FloatProgress(value=0.0, max=657.0), HTML(value='')))"
      ]
     },
     "metadata": {},
     "output_type": "display_data"
    },
    {
     "name": "stdout",
     "output_type": "stream",
     "text": [
      "\n",
      "tensor(5.0443e-06, device='cuda:3')\n",
      "tensor(-1.1898e-06, device='cuda:3')\n",
      "tensor(-0.0005, device='cuda:3')\n",
      "tensor(-0.0005, device='cuda:3')\n",
      "tensor(-3.2857e-06, device='cuda:3')\n",
      "tensor(2.0667e-08, device='cuda:3')\n",
      "tensor(-2.3964e-05, device='cuda:3')\n",
      "tensor(-2.3964e-05, device='cuda:3')\n",
      "tensor(2.7758e-08, device='cuda:3')\n",
      "tensor(-2.5443e-07, device='cuda:3')\n",
      "tensor(2.5956e-05, device='cuda:3')\n",
      "tensor(2.5956e-05, device='cuda:3')\n",
      "tensor(-1.1030e-08, device='cuda:3')\n",
      "tensor(0., device='cuda:3')\n",
      "tensor(-1.8672e-06, device='cuda:3')\n",
      "tensor(-1.8672e-06, device='cuda:3')\n",
      "tensor(-2.9881e-07, device='cuda:3')\n",
      "tensor(0.0003, device='cuda:3')\n",
      "tensor(-1.2203e-09, device='cuda:3')\n",
      "tensor(-1.7739e-09, device='cuda:3')\n"
     ]
    },
    {
     "data": {
      "application/vnd.jupyter.widget-view+json": {
       "model_id": "48df2219118449f1bea9390f4ca85b35",
       "version_major": 2,
       "version_minor": 0
      },
      "text/plain": [
       "HBox(children=(FloatProgress(value=0.0, max=42.0), HTML(value='')))"
      ]
     },
     "metadata": {},
     "output_type": "display_data"
    },
    {
     "name": "stdout",
     "output_type": "stream",
     "text": [
      "\n",
      "epoch time: 104.73628640174866\n",
      "mean loss train: 0.8643998032070341, mean loss val: 0.8676395968709674\n",
      "accuracy train: 0.6925714285714286, accuracy val: 0.6951428571428572\n",
      "---------------------------------------------------------------------------------------------------\n",
      "Epoch: 8, Learning Rate: 0.001\n",
      "\n"
     ]
    },
    {
     "data": {
      "application/vnd.jupyter.widget-view+json": {
       "model_id": "3a46efb7d9174667957e081ee8846ea7",
       "version_major": 2,
       "version_minor": 0
      },
      "text/plain": [
       "HBox(children=(FloatProgress(value=0.0, max=657.0), HTML(value='')))"
      ]
     },
     "metadata": {},
     "output_type": "display_data"
    },
    {
     "name": "stdout",
     "output_type": "stream",
     "text": [
      "\n",
      "tensor(1.2553e-05, device='cuda:3')\n",
      "tensor(3.0632e-06, device='cuda:3')\n",
      "tensor(-0.0005, device='cuda:3')\n",
      "tensor(-0.0005, device='cuda:3')\n",
      "tensor(2.9655e-07, device='cuda:3')\n",
      "tensor(-8.1932e-08, device='cuda:3')\n",
      "tensor(4.1924e-05, device='cuda:3')\n",
      "tensor(4.1924e-05, device='cuda:3')\n",
      "tensor(-6.0647e-08, device='cuda:3')\n",
      "tensor(-5.6444e-08, device='cuda:3')\n",
      "tensor(2.8972e-06, device='cuda:3')\n",
      "tensor(2.8972e-06, device='cuda:3')\n",
      "tensor(4.9263e-08, device='cuda:3')\n",
      "tensor(0., device='cuda:3')\n",
      "tensor(-1.3140e-05, device='cuda:3')\n",
      "tensor(-1.3140e-05, device='cuda:3')\n",
      "tensor(1.3603e-06, device='cuda:3')\n",
      "tensor(-0.0003, device='cuda:3')\n",
      "tensor(8.8997e-10, device='cuda:3')\n",
      "tensor(5.3218e-10, device='cuda:3')\n"
     ]
    },
    {
     "data": {
      "application/vnd.jupyter.widget-view+json": {
       "model_id": "0aab0776117d477592e998e76ed1a30d",
       "version_major": 2,
       "version_minor": 0
      },
      "text/plain": [
       "HBox(children=(FloatProgress(value=0.0, max=42.0), HTML(value='')))"
      ]
     },
     "metadata": {},
     "output_type": "display_data"
    },
    {
     "name": "stdout",
     "output_type": "stream",
     "text": [
      "\n",
      "epoch time: 110.89148092269897\n",
      "mean loss train: 0.8552596376282828, mean loss val: 0.8542552241143726\n",
      "accuracy train: 0.6955476190476191, accuracy val: 0.6963809523809524\n",
      "---------------------------------------------------------------------------------------------------\n",
      "Epoch: 9, Learning Rate: 0.001\n",
      "\n"
     ]
    },
    {
     "data": {
      "application/vnd.jupyter.widget-view+json": {
       "model_id": "606d38810ce34d32b6032a4879926c33",
       "version_major": 2,
       "version_minor": 0
      },
      "text/plain": [
       "HBox(children=(FloatProgress(value=0.0, max=657.0), HTML(value='')))"
      ]
     },
     "metadata": {},
     "output_type": "display_data"
    },
    {
     "name": "stdout",
     "output_type": "stream",
     "text": [
      "\n",
      "tensor(1.0565e-06, device='cuda:3')\n",
      "tensor(-2.3179e-06, device='cuda:3')\n",
      "tensor(0.0006, device='cuda:3')\n",
      "tensor(0.0006, device='cuda:3')\n",
      "tensor(1.3055e-06, device='cuda:3')\n",
      "tensor(-1.3548e-07, device='cuda:3')\n",
      "tensor(1.6471e-05, device='cuda:3')\n",
      "tensor(1.6471e-05, device='cuda:3')\n",
      "tensor(-3.0856e-07, device='cuda:3')\n",
      "tensor(-6.3923e-07, device='cuda:3')\n",
      "tensor(5.0753e-05, device='cuda:3')\n",
      "tensor(5.0753e-05, device='cuda:3')\n",
      "tensor(-7.9014e-08, device='cuda:3')\n",
      "tensor(0., device='cuda:3')\n",
      "tensor(-3.2706e-05, device='cuda:3')\n",
      "tensor(-3.2706e-05, device='cuda:3')\n",
      "tensor(3.3185e-06, device='cuda:3')\n",
      "tensor(-0.0004, device='cuda:3')\n",
      "tensor(4.8991e-09, device='cuda:3')\n",
      "tensor(1.7739e-09, device='cuda:3')\n"
     ]
    },
    {
     "data": {
      "application/vnd.jupyter.widget-view+json": {
       "model_id": "54751f08f5ab47f9977aecf57d8f5574",
       "version_major": 2,
       "version_minor": 0
      },
      "text/plain": [
       "HBox(children=(FloatProgress(value=0.0, max=42.0), HTML(value='')))"
      ]
     },
     "metadata": {},
     "output_type": "display_data"
    },
    {
     "name": "stdout",
     "output_type": "stream",
     "text": [
      "\n",
      "epoch time: 107.71689891815186\n",
      "mean loss train: 0.8434623580206008, mean loss val: 0.8385851198378064\n",
      "accuracy train: 0.7018809523809524, accuracy val: 0.7033333333333334\n",
      "---------------------------------------------------------------------------------------------------\n",
      "Epoch: 10, Learning Rate: 0.001\n",
      "\n"
     ]
    },
    {
     "data": {
      "application/vnd.jupyter.widget-view+json": {
       "model_id": "e067e6901f3e4ebe9aed4e5281289e08",
       "version_major": 2,
       "version_minor": 0
      },
      "text/plain": [
       "HBox(children=(FloatProgress(value=0.0, max=657.0), HTML(value='')))"
      ]
     },
     "metadata": {},
     "output_type": "display_data"
    },
    {
     "name": "stdout",
     "output_type": "stream",
     "text": [
      "\n",
      "tensor(5.9086e-06, device='cuda:3')\n",
      "tensor(-8.9862e-07, device='cuda:3')\n",
      "tensor(6.2501e-05, device='cuda:3')\n",
      "tensor(6.2501e-05, device='cuda:3')\n",
      "tensor(-5.7017e-06, device='cuda:3')\n",
      "tensor(-8.3134e-09, device='cuda:3')\n",
      "tensor(1.2899e-06, device='cuda:3')\n",
      "tensor(1.2899e-06, device='cuda:3')\n",
      "tensor(-5.7065e-08, device='cuda:3')\n",
      "tensor(-2.9838e-07, device='cuda:3')\n",
      "tensor(-2.1512e-05, device='cuda:3')\n",
      "tensor(-2.1512e-05, device='cuda:3')\n",
      "tensor(-3.6675e-08, device='cuda:3')\n",
      "tensor(0., device='cuda:3')\n",
      "tensor(-9.8298e-06, device='cuda:3')\n",
      "tensor(-9.8298e-06, device='cuda:3')\n",
      "tensor(-1.0924e-06, device='cuda:3')\n",
      "tensor(-9.6490e-05, device='cuda:3')\n",
      "tensor(1.9374e-09, device='cuda:3')\n",
      "tensor(2.3061e-09, device='cuda:3')\n"
     ]
    },
    {
     "data": {
      "application/vnd.jupyter.widget-view+json": {
       "model_id": "5509019e01f64301a03c3fd14cd88c2f",
       "version_major": 2,
       "version_minor": 0
      },
      "text/plain": [
       "HBox(children=(FloatProgress(value=0.0, max=42.0), HTML(value='')))"
      ]
     },
     "metadata": {},
     "output_type": "display_data"
    },
    {
     "name": "stdout",
     "output_type": "stream",
     "text": [
      "\n",
      "epoch time: 107.0407862663269\n",
      "mean loss train: 0.8313843053409031, mean loss val: 0.8276545790717715\n",
      "accuracy train: 0.7075, accuracy val: 0.7101904761904761\n",
      "---------------------------------------------------------------------------------------------------\n",
      "Epoch: 11, Learning Rate: 0.001\n",
      "\n"
     ]
    },
    {
     "data": {
      "application/vnd.jupyter.widget-view+json": {
       "model_id": "fb52f6930e2043349e00a5fdbeac0a16",
       "version_major": 2,
       "version_minor": 0
      },
      "text/plain": [
       "HBox(children=(FloatProgress(value=0.0, max=657.0), HTML(value='')))"
      ]
     },
     "metadata": {},
     "output_type": "display_data"
    },
    {
     "name": "stdout",
     "output_type": "stream",
     "text": [
      "\n",
      "tensor(9.7691e-07, device='cuda:3')\n",
      "tensor(-2.5169e-07, device='cuda:3')\n",
      "tensor(-2.7010e-05, device='cuda:3')\n",
      "tensor(-2.7010e-05, device='cuda:3')\n",
      "tensor(-1.3342e-07, device='cuda:3')\n",
      "tensor(-7.7078e-08, device='cuda:3')\n",
      "tensor(2.9052e-06, device='cuda:3')\n",
      "tensor(2.9052e-06, device='cuda:3')\n",
      "tensor(-5.5428e-08, device='cuda:3')\n",
      "tensor(1.5862e-08, device='cuda:3')\n",
      "tensor(-1.0181e-05, device='cuda:3')\n",
      "tensor(-1.0181e-05, device='cuda:3')\n",
      "tensor(-6.2557e-08, device='cuda:3')\n",
      "tensor(0., device='cuda:3')\n",
      "tensor(-4.1527e-06, device='cuda:3')\n",
      "tensor(-4.1527e-06, device='cuda:3')\n",
      "tensor(-1.0346e-06, device='cuda:3')\n",
      "tensor(-2.5714e-05, device='cuda:3')\n",
      "tensor(4.6861e-09, device='cuda:3')\n",
      "tensor(2.8383e-09, device='cuda:3')\n"
     ]
    },
    {
     "data": {
      "application/vnd.jupyter.widget-view+json": {
       "model_id": "ae673f1f3c864f9eb8a682bc1310fae6",
       "version_major": 2,
       "version_minor": 0
      },
      "text/plain": [
       "HBox(children=(FloatProgress(value=0.0, max=42.0), HTML(value='')))"
      ]
     },
     "metadata": {},
     "output_type": "display_data"
    },
    {
     "name": "stdout",
     "output_type": "stream",
     "text": [
      "\n",
      "epoch time: 104.49117302894592\n",
      "mean loss train: 0.8282885072628657, mean loss val: 0.8318103252592541\n",
      "accuracy train: 0.7105952380952381, accuracy val: 0.7076190476190476\n",
      "---------------------------------------------------------------------------------------------------\n",
      "Epoch: 12, Learning Rate: 0.001\n",
      "\n"
     ]
    },
    {
     "data": {
      "application/vnd.jupyter.widget-view+json": {
       "model_id": "e66de17b8a1b4c068ef036674da32562",
       "version_major": 2,
       "version_minor": 0
      },
      "text/plain": [
       "HBox(children=(FloatProgress(value=0.0, max=657.0), HTML(value='')))"
      ]
     },
     "metadata": {},
     "output_type": "display_data"
    },
    {
     "name": "stdout",
     "output_type": "stream",
     "text": [
      "\n",
      "tensor(9.5006e-05, device='cuda:3')\n",
      "tensor(-8.6543e-06, device='cuda:3')\n",
      "tensor(0.0007, device='cuda:3')\n",
      "tensor(0.0007, device='cuda:3')\n",
      "tensor(-7.3488e-06, device='cuda:3')\n",
      "tensor(2.2484e-07, device='cuda:3')\n",
      "tensor(8.0975e-05, device='cuda:3')\n",
      "tensor(8.0975e-05, device='cuda:3')\n",
      "tensor(-7.1994e-07, device='cuda:3')\n",
      "tensor(2.6434e-07, device='cuda:3')\n",
      "tensor(-3.2298e-05, device='cuda:3')\n",
      "tensor(-3.2298e-05, device='cuda:3')\n",
      "tensor(-2.4005e-07, device='cuda:3')\n",
      "tensor(0., device='cuda:3')\n",
      "tensor(2.3804e-05, device='cuda:3')\n",
      "tensor(2.3804e-05, device='cuda:3')\n",
      "tensor(2.9568e-06, device='cuda:3')\n",
      "tensor(-0.0009, device='cuda:3')\n",
      "tensor(2.0974e-10, device='cuda:3')\n",
      "tensor(-1.2418e-09, device='cuda:3')\n"
     ]
    },
    {
     "data": {
      "application/vnd.jupyter.widget-view+json": {
       "model_id": "6d1205b4b9674000b2cf50da19e2bf3b",
       "version_major": 2,
       "version_minor": 0
      },
      "text/plain": [
       "HBox(children=(FloatProgress(value=0.0, max=42.0), HTML(value='')))"
      ]
     },
     "metadata": {},
     "output_type": "display_data"
    },
    {
     "name": "stdout",
     "output_type": "stream",
     "text": [
      "\n",
      "epoch time: 106.01890826225281\n",
      "mean loss train: 0.8301154475439162, mean loss val: 0.8491186575889588\n",
      "accuracy train: 0.7115238095238096, accuracy val: 0.7037142857142857\n",
      "---------------------------------------------------------------------------------------------------\n",
      "Epoch: 13, Learning Rate: 0.001\n",
      "\n"
     ]
    },
    {
     "data": {
      "application/vnd.jupyter.widget-view+json": {
       "model_id": "9ebcdf416d09497ca4eb985556c0d75c",
       "version_major": 2,
       "version_minor": 0
      },
      "text/plain": [
       "HBox(children=(FloatProgress(value=0.0, max=657.0), HTML(value='')))"
      ]
     },
     "metadata": {},
     "output_type": "display_data"
    },
    {
     "name": "stdout",
     "output_type": "stream",
     "text": [
      "\n",
      "tensor(5.0051e-06, device='cuda:3')\n",
      "tensor(-1.0363e-06, device='cuda:3')\n",
      "tensor(0.0002, device='cuda:3')\n",
      "tensor(0.0002, device='cuda:3')\n",
      "tensor(1.0454e-06, device='cuda:3')\n",
      "tensor(2.1883e-08, device='cuda:3')\n",
      "tensor(5.2900e-06, device='cuda:3')\n",
      "tensor(5.2900e-06, device='cuda:3')\n",
      "tensor(3.9586e-09, device='cuda:3')\n",
      "tensor(3.8009e-07, device='cuda:3')\n",
      "tensor(-1.7384e-05, device='cuda:3')\n",
      "tensor(-1.7384e-05, device='cuda:3')\n",
      "tensor(-3.1676e-09, device='cuda:3')\n",
      "tensor(0., device='cuda:3')\n",
      "tensor(6.6137e-06, device='cuda:3')\n",
      "tensor(6.6137e-06, device='cuda:3')\n",
      "tensor(3.2063e-06, device='cuda:3')\n",
      "tensor(-0.0003, device='cuda:3')\n",
      "tensor(6.9821e-09, device='cuda:3')\n",
      "tensor(4.6123e-09, device='cuda:3')\n"
     ]
    },
    {
     "data": {
      "application/vnd.jupyter.widget-view+json": {
       "model_id": "5667d87147d44e2fa8f7214b70435b6f",
       "version_major": 2,
       "version_minor": 0
      },
      "text/plain": [
       "HBox(children=(FloatProgress(value=0.0, max=42.0), HTML(value='')))"
      ]
     },
     "metadata": {},
     "output_type": "display_data"
    },
    {
     "name": "stdout",
     "output_type": "stream",
     "text": [
      "\n",
      "epoch time: 107.31377005577087\n",
      "mean loss train: 0.8042939601625715, mean loss val: 0.8215872372672671\n",
      "accuracy train: 0.7194047619047619, accuracy val: 0.7099047619047619\n",
      "---------------------------------------------------------------------------------------------------\n",
      "Epoch: 14, Learning Rate: 0.001\n",
      "\n"
     ]
    },
    {
     "data": {
      "application/vnd.jupyter.widget-view+json": {
       "model_id": "60c1374d4fe348e18d96a0e322e4391d",
       "version_major": 2,
       "version_minor": 0
      },
      "text/plain": [
       "HBox(children=(FloatProgress(value=0.0, max=657.0), HTML(value='')))"
      ]
     },
     "metadata": {},
     "output_type": "display_data"
    },
    {
     "name": "stdout",
     "output_type": "stream",
     "text": [
      "\n",
      "tensor(-2.7665e-06, device='cuda:3')\n",
      "tensor(2.8204e-07, device='cuda:3')\n",
      "tensor(5.6393e-05, device='cuda:3')\n",
      "tensor(5.6393e-05, device='cuda:3')\n",
      "tensor(4.9938e-07, device='cuda:3')\n",
      "tensor(-2.7419e-08, device='cuda:3')\n",
      "tensor(-1.2643e-05, device='cuda:3')\n",
      "tensor(-1.2643e-05, device='cuda:3')\n",
      "tensor(1.7508e-08, device='cuda:3')\n",
      "tensor(-1.2964e-07, device='cuda:3')\n",
      "tensor(1.5152e-05, device='cuda:3')\n",
      "tensor(1.5152e-05, device='cuda:3')\n",
      "tensor(1.5119e-08, device='cuda:3')\n",
      "tensor(0., device='cuda:3')\n",
      "tensor(-2.8996e-06, device='cuda:3')\n",
      "tensor(-2.8996e-06, device='cuda:3')\n",
      "tensor(5.3824e-07, device='cuda:3')\n",
      "tensor(-0.0001, device='cuda:3')\n",
      "tensor(3.1892e-09, device='cuda:3')\n",
      "tensor(1.7739e-09, device='cuda:3')\n"
     ]
    },
    {
     "data": {
      "application/vnd.jupyter.widget-view+json": {
       "model_id": "b27adb051c59460b87fe3f68fa886e25",
       "version_major": 2,
       "version_minor": 0
      },
      "text/plain": [
       "HBox(children=(FloatProgress(value=0.0, max=42.0), HTML(value='')))"
      ]
     },
     "metadata": {},
     "output_type": "display_data"
    },
    {
     "name": "stdout",
     "output_type": "stream",
     "text": [
      "\n",
      "epoch time: 104.34992742538452\n",
      "mean loss train: 0.8011980406783876, mean loss val: 0.8145971820467994\n",
      "accuracy train: 0.7222857142857143, accuracy val: 0.7165714285714285\n",
      "---------------------------------------------------------------------------------------------------\n",
      "Epoch: 15, Learning Rate: 0.001\n",
      "\n"
     ]
    },
    {
     "data": {
      "application/vnd.jupyter.widget-view+json": {
       "model_id": "6a68148c67644d81810bd9d5ed0b96e1",
       "version_major": 2,
       "version_minor": 0
      },
      "text/plain": [
       "HBox(children=(FloatProgress(value=0.0, max=657.0), HTML(value='')))"
      ]
     },
     "metadata": {},
     "output_type": "display_data"
    },
    {
     "name": "stdout",
     "output_type": "stream",
     "text": [
      "\n",
      "tensor(2.5216e-05, device='cuda:3')\n",
      "tensor(-3.5230e-06, device='cuda:3')\n",
      "tensor(-0.0025, device='cuda:3')\n",
      "tensor(-0.0025, device='cuda:3')\n",
      "tensor(8.4577e-07, device='cuda:3')\n",
      "tensor(1.6221e-07, device='cuda:3')\n",
      "tensor(5.9242e-06, device='cuda:3')\n",
      "tensor(5.9242e-06, device='cuda:3')\n",
      "tensor(-4.5057e-07, device='cuda:3')\n",
      "tensor(1.3138e-06, device='cuda:3')\n",
      "tensor(-0.0001, device='cuda:3')\n",
      "tensor(-0.0001, device='cuda:3')\n",
      "tensor(5.8083e-08, device='cuda:3')\n",
      "tensor(0., device='cuda:3')\n",
      "tensor(3.1402e-06, device='cuda:3')\n",
      "tensor(3.1402e-06, device='cuda:3')\n",
      "tensor(2.4960e-06, device='cuda:3')\n",
      "tensor(-0.0002, device='cuda:3')\n",
      "tensor(3.7275e-10, device='cuda:3')\n",
      "tensor(7.0958e-10, device='cuda:3')\n"
     ]
    },
    {
     "data": {
      "application/vnd.jupyter.widget-view+json": {
       "model_id": "168ac8fd232c4e86a8334deef9864ae3",
       "version_major": 2,
       "version_minor": 0
      },
      "text/plain": [
       "HBox(children=(FloatProgress(value=0.0, max=42.0), HTML(value='')))"
      ]
     },
     "metadata": {},
     "output_type": "display_data"
    },
    {
     "name": "stdout",
     "output_type": "stream",
     "text": [
      "\n",
      "epoch time: 103.06395220756531\n",
      "mean loss train: 0.7954385858263289, mean loss val: 0.7985537164778936\n",
      "accuracy train: 0.7244761904761905, accuracy val: 0.7240952380952381\n",
      "---------------------------------------------------------------------------------------------------\n",
      "Epoch: 16, Learning Rate: 0.001\n",
      "\n"
     ]
    },
    {
     "data": {
      "application/vnd.jupyter.widget-view+json": {
       "model_id": "6609d8ebde3b4f429e0d5697b1bd6764",
       "version_major": 2,
       "version_minor": 0
      },
      "text/plain": [
       "HBox(children=(FloatProgress(value=0.0, max=657.0), HTML(value='')))"
      ]
     },
     "metadata": {},
     "output_type": "display_data"
    },
    {
     "name": "stdout",
     "output_type": "stream",
     "text": [
      "\n",
      "tensor(0.0004, device='cuda:3')\n",
      "tensor(-3.3707e-06, device='cuda:3')\n",
      "tensor(-0.0058, device='cuda:3')\n",
      "tensor(-0.0058, device='cuda:3')\n",
      "tensor(-1.4267e-05, device='cuda:3')\n",
      "tensor(7.9436e-07, device='cuda:3')\n",
      "tensor(0.0002, device='cuda:3')\n",
      "tensor(0.0002, device='cuda:3')\n",
      "tensor(-3.2563e-07, device='cuda:3')\n",
      "tensor(1.0555e-06, device='cuda:3')\n",
      "tensor(-8.4356e-05, device='cuda:3')\n",
      "tensor(-8.4356e-05, device='cuda:3')\n",
      "tensor(-1.4450e-07, device='cuda:3')\n",
      "tensor(0., device='cuda:3')\n",
      "tensor(-3.7946e-05, device='cuda:3')\n",
      "tensor(-3.7946e-05, device='cuda:3')\n",
      "tensor(-1.4965e-05, device='cuda:3')\n",
      "tensor(0.0019, device='cuda:3')\n",
      "tensor(2.7108e-09, device='cuda:3')\n",
      "tensor(2.6609e-09, device='cuda:3')\n"
     ]
    },
    {
     "data": {
      "application/vnd.jupyter.widget-view+json": {
       "model_id": "3b3d67d6c364490fb559882fe503b5c7",
       "version_major": 2,
       "version_minor": 0
      },
      "text/plain": [
       "HBox(children=(FloatProgress(value=0.0, max=42.0), HTML(value='')))"
      ]
     },
     "metadata": {},
     "output_type": "display_data"
    },
    {
     "name": "stdout",
     "output_type": "stream",
     "text": [
      "\n",
      "epoch time: 104.07690382003784\n",
      "mean loss train: 0.7864243059158326, mean loss val: 0.811934015364874\n",
      "accuracy train: 0.727547619047619, accuracy val: 0.7200952380952381\n",
      "---------------------------------------------------------------------------------------------------\n",
      "Epoch: 17, Learning Rate: 0.001\n",
      "\n"
     ]
    },
    {
     "data": {
      "application/vnd.jupyter.widget-view+json": {
       "model_id": "7f5b5e5d66e74b48abe7159d95099995",
       "version_major": 2,
       "version_minor": 0
      },
      "text/plain": [
       "HBox(children=(FloatProgress(value=0.0, max=657.0), HTML(value='')))"
      ]
     },
     "metadata": {},
     "output_type": "display_data"
    },
    {
     "name": "stdout",
     "output_type": "stream",
     "text": [
      "\n",
      "tensor(6.2411e-06, device='cuda:3')\n",
      "tensor(-7.9299e-08, device='cuda:3')\n",
      "tensor(-0.0001, device='cuda:3')\n",
      "tensor(-0.0001, device='cuda:3')\n",
      "tensor(-3.2052e-08, device='cuda:3')\n",
      "tensor(-4.6184e-09, device='cuda:3')\n",
      "tensor(-1.4800e-06, device='cuda:3')\n",
      "tensor(-1.4800e-06, device='cuda:3')\n",
      "tensor(-3.6959e-08, device='cuda:3')\n",
      "tensor(-2.3862e-08, device='cuda:3')\n",
      "tensor(-8.1918e-06, device='cuda:3')\n",
      "tensor(-8.1918e-06, device='cuda:3')\n",
      "tensor(9.0879e-09, device='cuda:3')\n",
      "tensor(0., device='cuda:3')\n",
      "tensor(-1.1788e-06, device='cuda:3')\n",
      "tensor(-1.1788e-06, device='cuda:3')\n",
      "tensor(5.1965e-07, device='cuda:3')\n",
      "tensor(-0.0002, device='cuda:3')\n",
      "tensor(1.6528e-09, device='cuda:3')\n",
      "tensor(0., device='cuda:3')\n"
     ]
    },
    {
     "data": {
      "application/vnd.jupyter.widget-view+json": {
       "model_id": "2831dc27b0d144439edb7e65ea55dc35",
       "version_major": 2,
       "version_minor": 0
      },
      "text/plain": [
       "HBox(children=(FloatProgress(value=0.0, max=42.0), HTML(value='')))"
      ]
     },
     "metadata": {},
     "output_type": "display_data"
    },
    {
     "name": "stdout",
     "output_type": "stream",
     "text": [
      "\n",
      "epoch time: 106.20605158805847\n",
      "mean loss train: 0.7836215996969313, mean loss val: 0.7910776724588303\n",
      "accuracy train: 0.7294761904761905, accuracy val: 0.7288571428571429\n",
      "---------------------------------------------------------------------------------------------------\n",
      "Epoch: 18, Learning Rate: 0.001\n",
      "\n"
     ]
    },
    {
     "data": {
      "application/vnd.jupyter.widget-view+json": {
       "model_id": "491e59b5ff044c9482d70fe21ce6bfe6",
       "version_major": 2,
       "version_minor": 0
      },
      "text/plain": [
       "HBox(children=(FloatProgress(value=0.0, max=657.0), HTML(value='')))"
      ]
     },
     "metadata": {},
     "output_type": "display_data"
    },
    {
     "name": "stdout",
     "output_type": "stream",
     "text": [
      "\n",
      "tensor(-6.1340e-05, device='cuda:3')\n",
      "tensor(-6.1076e-07, device='cuda:3')\n",
      "tensor(0.0014, device='cuda:3')\n",
      "tensor(0.0014, device='cuda:3')\n",
      "tensor(-4.9893e-06, device='cuda:3')\n",
      "tensor(-2.5911e-08, device='cuda:3')\n",
      "tensor(4.2686e-05, device='cuda:3')\n",
      "tensor(4.2686e-05, device='cuda:3')\n",
      "tensor(-9.1821e-08, device='cuda:3')\n",
      "tensor(-3.6699e-07, device='cuda:3')\n",
      "tensor(5.2462e-05, device='cuda:3')\n",
      "tensor(5.2462e-05, device='cuda:3')\n",
      "tensor(1.4069e-08, device='cuda:3')\n",
      "tensor(0., device='cuda:3')\n",
      "tensor(-2.9257e-05, device='cuda:3')\n",
      "tensor(-2.9257e-05, device='cuda:3')\n",
      "tensor(1.0300e-06, device='cuda:3')\n",
      "tensor(-0.0003, device='cuda:3')\n",
      "tensor(2.2617e-09, device='cuda:3')\n",
      "tensor(2.6609e-09, device='cuda:3')\n"
     ]
    },
    {
     "data": {
      "application/vnd.jupyter.widget-view+json": {
       "model_id": "4be6633ec72c42bd8cb9f7b74543b56f",
       "version_major": 2,
       "version_minor": 0
      },
      "text/plain": [
       "HBox(children=(FloatProgress(value=0.0, max=42.0), HTML(value='')))"
      ]
     },
     "metadata": {},
     "output_type": "display_data"
    },
    {
     "name": "stdout",
     "output_type": "stream",
     "text": [
      "\n",
      "epoch time: 107.54457974433899\n",
      "mean loss train: 0.7834737702551342, mean loss val: 0.796640697479248\n",
      "accuracy train: 0.7321428571428571, accuracy val: 0.7276190476190476\n",
      "---------------------------------------------------------------------------------------------------\n",
      "Epoch: 19, Learning Rate: 0.001\n",
      "\n"
     ]
    },
    {
     "data": {
      "application/vnd.jupyter.widget-view+json": {
       "model_id": "1d13d1b1d07840c5a6fba39dfbdd43e4",
       "version_major": 2,
       "version_minor": 0
      },
      "text/plain": [
       "HBox(children=(FloatProgress(value=0.0, max=657.0), HTML(value='')))"
      ]
     },
     "metadata": {},
     "output_type": "display_data"
    },
    {
     "name": "stdout",
     "output_type": "stream",
     "text": [
      "\n",
      "tensor(0.0001, device='cuda:3')\n",
      "tensor(-4.0017e-07, device='cuda:3')\n",
      "tensor(0.0023, device='cuda:3')\n",
      "tensor(0.0023, device='cuda:3')\n",
      "tensor(1.5833e-06, device='cuda:3')\n",
      "tensor(2.3532e-09, device='cuda:3')\n",
      "tensor(3.9213e-05, device='cuda:3')\n",
      "tensor(3.9213e-05, device='cuda:3')\n",
      "tensor(1.6227e-08, device='cuda:3')\n",
      "tensor(-1.6194e-07, device='cuda:3')\n",
      "tensor(5.6450e-05, device='cuda:3')\n",
      "tensor(5.6450e-05, device='cuda:3')\n",
      "tensor(-2.4109e-08, device='cuda:3')\n",
      "tensor(0., device='cuda:3')\n",
      "tensor(2.3725e-05, device='cuda:3')\n",
      "tensor(2.3725e-05, device='cuda:3')\n",
      "tensor(1.0105e-06, device='cuda:3')\n",
      "tensor(-0.0004, device='cuda:3')\n",
      "tensor(1.2426e-09, device='cuda:3')\n",
      "tensor(1.0644e-09, device='cuda:3')\n"
     ]
    },
    {
     "data": {
      "application/vnd.jupyter.widget-view+json": {
       "model_id": "847a9ae14b284fe9886a7dc4b2563a4d",
       "version_major": 2,
       "version_minor": 0
      },
      "text/plain": [
       "HBox(children=(FloatProgress(value=0.0, max=42.0), HTML(value='')))"
      ]
     },
     "metadata": {},
     "output_type": "display_data"
    },
    {
     "name": "stdout",
     "output_type": "stream",
     "text": [
      "\n",
      "epoch time: 107.24361371994019\n",
      "mean loss train: 0.7791376313482012, mean loss val: 0.7771313277653286\n",
      "accuracy train: 0.7358333333333333, accuracy val: 0.7336190476190476\n",
      "---------------------------------------------------------------------------------------------------\n",
      "Epoch: 20, Learning Rate: 0.001\n",
      "\n"
     ]
    },
    {
     "data": {
      "application/vnd.jupyter.widget-view+json": {
       "model_id": "db2a1d0b4800438ba85cf7bd8ebc12e7",
       "version_major": 2,
       "version_minor": 0
      },
      "text/plain": [
       "HBox(children=(FloatProgress(value=0.0, max=657.0), HTML(value='')))"
      ]
     },
     "metadata": {},
     "output_type": "display_data"
    },
    {
     "name": "stdout",
     "output_type": "stream",
     "text": [
      "\n",
      "tensor(1.2415e-06, device='cuda:3')\n",
      "tensor(-2.9659e-06, device='cuda:3')\n",
      "tensor(0.0014, device='cuda:3')\n",
      "tensor(0.0014, device='cuda:3')\n",
      "tensor(1.7807e-06, device='cuda:3')\n",
      "tensor(-1.6176e-08, device='cuda:3')\n",
      "tensor(-1.3524e-05, device='cuda:3')\n",
      "tensor(-1.3524e-05, device='cuda:3')\n",
      "tensor(-1.2815e-07, device='cuda:3')\n",
      "tensor(-5.9071e-07, device='cuda:3')\n",
      "tensor(3.9731e-05, device='cuda:3')\n",
      "tensor(3.9731e-05, device='cuda:3')\n",
      "tensor(2.4751e-08, device='cuda:3')\n",
      "tensor(0., device='cuda:3')\n",
      "tensor(4.6094e-05, device='cuda:3')\n",
      "tensor(4.6094e-05, device='cuda:3')\n",
      "tensor(1.8587e-06, device='cuda:3')\n",
      "tensor(0.0002, device='cuda:3')\n",
      "tensor(3.9420e-10, device='cuda:3')\n",
      "tensor(-3.5479e-10, device='cuda:3')\n"
     ]
    },
    {
     "data": {
      "application/vnd.jupyter.widget-view+json": {
       "model_id": "bbc85e5427ae4265be7af5e3298961aa",
       "version_major": 2,
       "version_minor": 0
      },
      "text/plain": [
       "HBox(children=(FloatProgress(value=0.0, max=42.0), HTML(value='')))"
      ]
     },
     "metadata": {},
     "output_type": "display_data"
    },
    {
     "name": "stdout",
     "output_type": "stream",
     "text": [
      "\n",
      "epoch time: 105.35175395011902\n",
      "mean loss train: 0.7657539024353027, mean loss val: 0.7740298333849226\n",
      "accuracy train: 0.7376904761904762, accuracy val: 0.7352380952380952\n",
      "---------------------------------------------------------------------------------------------------\n",
      "Epoch: 21, Learning Rate: 0.001\n",
      "\n"
     ]
    },
    {
     "data": {
      "application/vnd.jupyter.widget-view+json": {
       "model_id": "553bfb29149d4bfaa12981f706fbf936",
       "version_major": 2,
       "version_minor": 0
      },
      "text/plain": [
       "HBox(children=(FloatProgress(value=0.0, max=657.0), HTML(value='')))"
      ]
     },
     "metadata": {},
     "output_type": "display_data"
    },
    {
     "name": "stdout",
     "output_type": "stream",
     "text": [
      "\n",
      "tensor(-2.6731e-05, device='cuda:3')\n",
      "tensor(-3.8543e-07, device='cuda:3')\n",
      "tensor(-0.0011, device='cuda:3')\n",
      "tensor(-0.0011, device='cuda:3')\n",
      "tensor(-5.0812e-07, device='cuda:3')\n",
      "tensor(-2.3159e-09, device='cuda:3')\n",
      "tensor(2.5770e-05, device='cuda:3')\n",
      "tensor(2.5770e-05, device='cuda:3')\n",
      "tensor(1.3203e-07, device='cuda:3')\n",
      "tensor(4.1575e-07, device='cuda:3')\n",
      "tensor(-9.0096e-05, device='cuda:3')\n",
      "tensor(-9.0096e-05, device='cuda:3')\n",
      "tensor(-3.9720e-09, device='cuda:3')\n",
      "tensor(0., device='cuda:3')\n",
      "tensor(-1.4314e-05, device='cuda:3')\n",
      "tensor(-1.4314e-05, device='cuda:3')\n",
      "tensor(-5.2113e-08, device='cuda:3')\n",
      "tensor(-0.0007, device='cuda:3')\n",
      "tensor(-1.5534e-09, device='cuda:3')\n",
      "tensor(-1.5966e-09, device='cuda:3')\n"
     ]
    },
    {
     "data": {
      "application/vnd.jupyter.widget-view+json": {
       "model_id": "c2c7fdfbd0454553b308eb1639272758",
       "version_major": 2,
       "version_minor": 0
      },
      "text/plain": [
       "HBox(children=(FloatProgress(value=0.0, max=42.0), HTML(value='')))"
      ]
     },
     "metadata": {},
     "output_type": "display_data"
    },
    {
     "name": "stdout",
     "output_type": "stream",
     "text": [
      "\n",
      "epoch time: 104.38386464118958\n",
      "mean loss train: 0.7583450966789609, mean loss val: 0.7662404915945871\n",
      "accuracy train: 0.7418333333333333, accuracy val: 0.7394285714285714\n",
      "---------------------------------------------------------------------------------------------------\n",
      "Epoch: 22, Learning Rate: 0.001\n",
      "\n"
     ]
    },
    {
     "data": {
      "application/vnd.jupyter.widget-view+json": {
       "model_id": "aeb24284661e4f3496217195339ed7fa",
       "version_major": 2,
       "version_minor": 0
      },
      "text/plain": [
       "HBox(children=(FloatProgress(value=0.0, max=657.0), HTML(value='')))"
      ]
     },
     "metadata": {},
     "output_type": "display_data"
    },
    {
     "name": "stdout",
     "output_type": "stream",
     "text": [
      "\n",
      "tensor(-4.4561e-05, device='cuda:3')\n",
      "tensor(1.3051e-06, device='cuda:3')\n",
      "tensor(0.0008, device='cuda:3')\n",
      "tensor(0.0008, device='cuda:3')\n",
      "tensor(9.6694e-07, device='cuda:3')\n",
      "tensor(-1.0409e-07, device='cuda:3')\n",
      "tensor(-1.2515e-05, device='cuda:3')\n",
      "tensor(-1.2515e-05, device='cuda:3')\n",
      "tensor(2.2579e-07, device='cuda:3')\n",
      "tensor(9.8527e-07, device='cuda:3')\n",
      "tensor(0.0002, device='cuda:3')\n",
      "tensor(0.0002, device='cuda:3')\n",
      "tensor(6.1666e-08, device='cuda:3')\n",
      "tensor(0., device='cuda:3')\n",
      "tensor(2.9244e-05, device='cuda:3')\n",
      "tensor(2.9244e-05, device='cuda:3')\n",
      "tensor(2.5780e-06, device='cuda:3')\n",
      "tensor(0.0013, device='cuda:3')\n",
      "tensor(3.7657e-10, device='cuda:3')\n",
      "tensor(-2.1287e-09, device='cuda:3')\n"
     ]
    },
    {
     "data": {
      "application/vnd.jupyter.widget-view+json": {
       "model_id": "16ac3bb13489449b912b7cd093cdd0bc",
       "version_major": 2,
       "version_minor": 0
      },
      "text/plain": [
       "HBox(children=(FloatProgress(value=0.0, max=42.0), HTML(value='')))"
      ]
     },
     "metadata": {},
     "output_type": "display_data"
    },
    {
     "name": "stdout",
     "output_type": "stream",
     "text": [
      "\n",
      "epoch time: 105.2968316078186\n",
      "mean loss train: 0.7465712756202334, mean loss val: 0.786536161059425\n",
      "accuracy train: 0.7439285714285714, accuracy val: 0.7325714285714285\n",
      "---------------------------------------------------------------------------------------------------\n",
      "Epoch: 23, Learning Rate: 0.001\n",
      "\n"
     ]
    },
    {
     "data": {
      "application/vnd.jupyter.widget-view+json": {
       "model_id": "62b18cf56f494ddda5e3a3626fac15c7",
       "version_major": 2,
       "version_minor": 0
      },
      "text/plain": [
       "HBox(children=(FloatProgress(value=0.0, max=657.0), HTML(value='')))"
      ]
     },
     "metadata": {},
     "output_type": "display_data"
    },
    {
     "name": "stdout",
     "output_type": "stream",
     "text": [
      "\n",
      "tensor(-8.3374e-08, device='cuda:3')\n",
      "tensor(-4.1852e-07, device='cuda:3')\n",
      "tensor(-0.0003, device='cuda:3')\n",
      "tensor(-0.0003, device='cuda:3')\n",
      "tensor(6.0983e-07, device='cuda:3')\n",
      "tensor(-1.8172e-09, device='cuda:3')\n",
      "tensor(8.9597e-06, device='cuda:3')\n",
      "tensor(8.9597e-06, device='cuda:3')\n",
      "tensor(1.5479e-08, device='cuda:3')\n",
      "tensor(5.8788e-09, device='cuda:3')\n",
      "tensor(-2.2986e-05, device='cuda:3')\n",
      "tensor(-2.2986e-05, device='cuda:3')\n",
      "tensor(4.0432e-08, device='cuda:3')\n",
      "tensor(0., device='cuda:3')\n",
      "tensor(-1.1237e-05, device='cuda:3')\n",
      "tensor(-1.1237e-05, device='cuda:3')\n",
      "tensor(-1.3196e-08, device='cuda:3')\n",
      "tensor(-0.0002, device='cuda:3')\n",
      "tensor(-1.4872e-09, device='cuda:3')\n",
      "tensor(-3.5479e-10, device='cuda:3')\n"
     ]
    },
    {
     "data": {
      "application/vnd.jupyter.widget-view+json": {
       "model_id": "4dbd06f8189c49889cb198829c3e8aad",
       "version_major": 2,
       "version_minor": 0
      },
      "text/plain": [
       "HBox(children=(FloatProgress(value=0.0, max=42.0), HTML(value='')))"
      ]
     },
     "metadata": {},
     "output_type": "display_data"
    },
    {
     "name": "stdout",
     "output_type": "stream",
     "text": [
      "\n",
      "epoch time: 102.69409942626953\n",
      "mean loss train: 0.7524411096572876, mean loss val: 0.7780220572607858\n",
      "accuracy train: 0.7445714285714286, accuracy val: 0.7358095238095238\n",
      "---------------------------------------------------------------------------------------------------\n",
      "Epoch: 24, Learning Rate: 0.001\n",
      "\n"
     ]
    },
    {
     "data": {
      "application/vnd.jupyter.widget-view+json": {
       "model_id": "8a99965453664ad8bbdc618cf91296a3",
       "version_major": 2,
       "version_minor": 0
      },
      "text/plain": [
       "HBox(children=(FloatProgress(value=0.0, max=657.0), HTML(value='')))"
      ]
     },
     "metadata": {},
     "output_type": "display_data"
    },
    {
     "name": "stdout",
     "output_type": "stream",
     "text": [
      "\n",
      "tensor(9.8314e-06, device='cuda:3')\n",
      "tensor(-3.8513e-08, device='cuda:3')\n",
      "tensor(-0.0004, device='cuda:3')\n",
      "tensor(-0.0004, device='cuda:3')\n",
      "tensor(-1.7216e-07, device='cuda:3')\n",
      "tensor(5.3378e-08, device='cuda:3')\n",
      "tensor(3.3492e-05, device='cuda:3')\n",
      "tensor(3.3492e-05, device='cuda:3')\n",
      "tensor(-1.6879e-07, device='cuda:3')\n",
      "tensor(1.3169e-07, device='cuda:3')\n",
      "tensor(-3.8297e-05, device='cuda:3')\n",
      "tensor(-3.8297e-05, device='cuda:3')\n",
      "tensor(-1.2515e-08, device='cuda:3')\n",
      "tensor(0., device='cuda:3')\n",
      "tensor(-2.8294e-06, device='cuda:3')\n",
      "tensor(-2.8294e-06, device='cuda:3')\n",
      "tensor(1.5205e-06, device='cuda:3')\n",
      "tensor(-0.0004, device='cuda:3')\n",
      "tensor(2.4372e-09, device='cuda:3')\n",
      "tensor(7.0958e-10, device='cuda:3')\n"
     ]
    },
    {
     "data": {
      "application/vnd.jupyter.widget-view+json": {
       "model_id": "15950bb2cac642b5a1adfe215d8d4201",
       "version_major": 2,
       "version_minor": 0
      },
      "text/plain": [
       "HBox(children=(FloatProgress(value=0.0, max=42.0), HTML(value='')))"
      ]
     },
     "metadata": {},
     "output_type": "display_data"
    },
    {
     "name": "stdout",
     "output_type": "stream",
     "text": [
      "\n",
      "epoch time: 107.6947181224823\n",
      "mean loss train: 0.7458933066867647, mean loss val: 0.7814688092640468\n",
      "accuracy train: 0.7469523809523809, accuracy val: 0.7348571428571429\n",
      "---------------------------------------------------------------------------------------------------\n",
      "Epoch: 25, Learning Rate: 0.0005\n",
      "\n"
     ]
    },
    {
     "data": {
      "application/vnd.jupyter.widget-view+json": {
       "model_id": "091bff5446b4415088d0de119b2ec9db",
       "version_major": 2,
       "version_minor": 0
      },
      "text/plain": [
       "HBox(children=(FloatProgress(value=0.0, max=657.0), HTML(value='')))"
      ]
     },
     "metadata": {},
     "output_type": "display_data"
    },
    {
     "name": "stdout",
     "output_type": "stream",
     "text": [
      "\n",
      "tensor(3.2088e-05, device='cuda:3')\n",
      "tensor(-9.4965e-07, device='cuda:3')\n",
      "tensor(0.0012, device='cuda:3')\n",
      "tensor(0.0012, device='cuda:3')\n",
      "tensor(3.7824e-07, device='cuda:3')\n",
      "tensor(1.5069e-07, device='cuda:3')\n",
      "tensor(4.7122e-05, device='cuda:3')\n",
      "tensor(4.7122e-05, device='cuda:3')\n",
      "tensor(4.1334e-08, device='cuda:3')\n",
      "tensor(-4.7418e-07, device='cuda:3')\n",
      "tensor(6.5033e-05, device='cuda:3')\n",
      "tensor(6.5033e-05, device='cuda:3')\n",
      "tensor(2.4230e-08, device='cuda:3')\n",
      "tensor(0., device='cuda:3')\n",
      "tensor(-6.3307e-06, device='cuda:3')\n",
      "tensor(-6.3307e-06, device='cuda:3')\n",
      "tensor(8.5265e-07, device='cuda:3')\n",
      "tensor(-0.0002, device='cuda:3')\n",
      "tensor(1.2284e-09, device='cuda:3')\n",
      "tensor(1.9513e-09, device='cuda:3')\n"
     ]
    },
    {
     "data": {
      "application/vnd.jupyter.widget-view+json": {
       "model_id": "40a02adc7fdf4d25869ebf2d39be934f",
       "version_major": 2,
       "version_minor": 0
      },
      "text/plain": [
       "HBox(children=(FloatProgress(value=0.0, max=42.0), HTML(value='')))"
      ]
     },
     "metadata": {},
     "output_type": "display_data"
    },
    {
     "name": "stdout",
     "output_type": "stream",
     "text": [
      "\n",
      "epoch time: 106.76586675643921\n",
      "mean loss train: 0.7185591160229274, mean loss val: 0.7618177986145019\n",
      "accuracy train: 0.7544761904761905, accuracy val: 0.7441904761904762\n",
      "---------------------------------------------------------------------------------------------------\n",
      "Epoch: 26, Learning Rate: 0.0005\n",
      "\n"
     ]
    },
    {
     "data": {
      "application/vnd.jupyter.widget-view+json": {
       "model_id": "e33106f140084a6984f2badede27fd8a",
       "version_major": 2,
       "version_minor": 0
      },
      "text/plain": [
       "HBox(children=(FloatProgress(value=0.0, max=657.0), HTML(value='')))"
      ]
     },
     "metadata": {},
     "output_type": "display_data"
    },
    {
     "name": "stdout",
     "output_type": "stream",
     "text": [
      "\n",
      "tensor(-2.3959e-05, device='cuda:3')\n",
      "tensor(1.7788e-06, device='cuda:3')\n",
      "tensor(0.0019, device='cuda:3')\n",
      "tensor(0.0019, device='cuda:3')\n",
      "tensor(-8.8582e-07, device='cuda:3')\n",
      "tensor(-2.5758e-07, device='cuda:3')\n",
      "tensor(0.0001, device='cuda:3')\n",
      "tensor(0.0001, device='cuda:3')\n",
      "tensor(-2.7133e-07, device='cuda:3')\n",
      "tensor(6.9673e-07, device='cuda:3')\n",
      "tensor(0.0002, device='cuda:3')\n",
      "tensor(0.0002, device='cuda:3')\n",
      "tensor(4.6299e-09, device='cuda:3')\n",
      "tensor(0., device='cuda:3')\n",
      "tensor(2.3456e-06, device='cuda:3')\n",
      "tensor(2.3456e-06, device='cuda:3')\n",
      "tensor(9.3407e-07, device='cuda:3')\n",
      "tensor(0.0005, device='cuda:3')\n",
      "tensor(2.3567e-09, device='cuda:3')\n",
      "tensor(2.4835e-09, device='cuda:3')\n"
     ]
    },
    {
     "data": {
      "application/vnd.jupyter.widget-view+json": {
       "model_id": "8e3d0345de974c108ba1f9fbc5ed450d",
       "version_major": 2,
       "version_minor": 0
      },
      "text/plain": [
       "HBox(children=(FloatProgress(value=0.0, max=42.0), HTML(value='')))"
      ]
     },
     "metadata": {},
     "output_type": "display_data"
    },
    {
     "name": "stdout",
     "output_type": "stream",
     "text": [
      "\n",
      "epoch time: 105.44508790969849\n",
      "mean loss train: 0.7134875779833112, mean loss val: 0.7586249534970239\n",
      "accuracy train: 0.7576190476190476, accuracy val: 0.7426666666666667\n",
      "---------------------------------------------------------------------------------------------------\n",
      "Epoch: 27, Learning Rate: 0.0005\n",
      "\n"
     ]
    },
    {
     "data": {
      "application/vnd.jupyter.widget-view+json": {
       "model_id": "4167bb79cd1743c29909e9e1a493f268",
       "version_major": 2,
       "version_minor": 0
      },
      "text/plain": [
       "HBox(children=(FloatProgress(value=0.0, max=657.0), HTML(value='')))"
      ]
     },
     "metadata": {},
     "output_type": "display_data"
    },
    {
     "name": "stdout",
     "output_type": "stream",
     "text": [
      "\n",
      "tensor(-1.7425e-06, device='cuda:3')\n",
      "tensor(2.5121e-06, device='cuda:3')\n",
      "tensor(-0.0006, device='cuda:3')\n",
      "tensor(-0.0006, device='cuda:3')\n",
      "tensor(-8.6331e-06, device='cuda:3')\n",
      "tensor(-2.6605e-07, device='cuda:3')\n",
      "tensor(7.0196e-05, device='cuda:3')\n",
      "tensor(7.0196e-05, device='cuda:3')\n",
      "tensor(4.5964e-07, device='cuda:3')\n",
      "tensor(6.0176e-07, device='cuda:3')\n",
      "tensor(9.7204e-05, device='cuda:3')\n",
      "tensor(9.7204e-05, device='cuda:3')\n",
      "tensor(-1.0077e-07, device='cuda:3')\n",
      "tensor(0., device='cuda:3')\n",
      "tensor(3.0040e-06, device='cuda:3')\n",
      "tensor(3.0040e-06, device='cuda:3')\n",
      "tensor(-1.9695e-06, device='cuda:3')\n",
      "tensor(6.1494e-05, device='cuda:3')\n",
      "tensor(-6.9304e-11, device='cuda:3')\n",
      "tensor(-3.5479e-10, device='cuda:3')\n"
     ]
    },
    {
     "data": {
      "application/vnd.jupyter.widget-view+json": {
       "model_id": "b0bb91f9b40c460a83e718393bc18f6a",
       "version_major": 2,
       "version_minor": 0
      },
      "text/plain": [
       "HBox(children=(FloatProgress(value=0.0, max=42.0), HTML(value='')))"
      ]
     },
     "metadata": {},
     "output_type": "display_data"
    },
    {
     "name": "stdout",
     "output_type": "stream",
     "text": [
      "\n",
      "epoch time: 107.70443987846375\n",
      "mean loss train: 0.7106899479230245, mean loss val: 0.7707043892996652\n",
      "accuracy train: 0.7583095238095238, accuracy val: 0.7405714285714285\n",
      "---------------------------------------------------------------------------------------------------\n",
      "Epoch: 28, Learning Rate: 0.0005\n",
      "\n"
     ]
    },
    {
     "data": {
      "application/vnd.jupyter.widget-view+json": {
       "model_id": "a24b8f8fb8dc41db84cf03baf7d008fc",
       "version_major": 2,
       "version_minor": 0
      },
      "text/plain": [
       "HBox(children=(FloatProgress(value=0.0, max=657.0), HTML(value='')))"
      ]
     },
     "metadata": {},
     "output_type": "display_data"
    },
    {
     "name": "stdout",
     "output_type": "stream",
     "text": [
      "\n",
      "tensor(1.5728e-05, device='cuda:3')\n",
      "tensor(3.8554e-07, device='cuda:3')\n",
      "tensor(-0.0010, device='cuda:3')\n",
      "tensor(-0.0010, device='cuda:3')\n",
      "tensor(-1.8694e-06, device='cuda:3')\n",
      "tensor(1.1268e-07, device='cuda:3')\n",
      "tensor(7.3340e-05, device='cuda:3')\n",
      "tensor(7.3340e-05, device='cuda:3')\n",
      "tensor(1.7089e-07, device='cuda:3')\n",
      "tensor(-1.7105e-06, device='cuda:3')\n",
      "tensor(0.0002, device='cuda:3')\n",
      "tensor(0.0002, device='cuda:3')\n",
      "tensor(4.8597e-09, device='cuda:3')\n",
      "tensor(0., device='cuda:3')\n",
      "tensor(1.1446e-05, device='cuda:3')\n",
      "tensor(1.1446e-05, device='cuda:3')\n",
      "tensor(-1.6728e-08, device='cuda:3')\n",
      "tensor(0.0003, device='cuda:3')\n",
      "tensor(9.7385e-10, device='cuda:3')\n",
      "tensor(-7.0958e-10, device='cuda:3')\n"
     ]
    },
    {
     "data": {
      "application/vnd.jupyter.widget-view+json": {
       "model_id": "474ccac899fd440e991f50707ad53203",
       "version_major": 2,
       "version_minor": 0
      },
      "text/plain": [
       "HBox(children=(FloatProgress(value=0.0, max=42.0), HTML(value='')))"
      ]
     },
     "metadata": {},
     "output_type": "display_data"
    },
    {
     "name": "stdout",
     "output_type": "stream",
     "text": [
      "\n",
      "epoch time: 109.72470164299011\n",
      "mean loss train: 0.7112967460041955, mean loss val: 0.7586115580059233\n",
      "accuracy train: 0.7587857142857143, accuracy val: 0.7423809523809524\n",
      "---------------------------------------------------------------------------------------------------\n",
      "Epoch: 29, Learning Rate: 0.0005\n",
      "\n"
     ]
    },
    {
     "data": {
      "application/vnd.jupyter.widget-view+json": {
       "model_id": "ab1be3cb52dd48799012ef66e3278019",
       "version_major": 2,
       "version_minor": 0
      },
      "text/plain": [
       "HBox(children=(FloatProgress(value=0.0, max=657.0), HTML(value='')))"
      ]
     },
     "metadata": {},
     "output_type": "display_data"
    },
    {
     "name": "stdout",
     "output_type": "stream",
     "text": [
      "\n",
      "tensor(-1.8117e-06, device='cuda:3')\n",
      "tensor(-3.8986e-08, device='cuda:3')\n",
      "tensor(3.1263e-05, device='cuda:3')\n",
      "tensor(3.1263e-05, device='cuda:3')\n",
      "tensor(8.5153e-08, device='cuda:3')\n",
      "tensor(-6.6542e-09, device='cuda:3')\n",
      "tensor(1.6012e-07, device='cuda:3')\n",
      "tensor(1.6012e-07, device='cuda:3')\n",
      "tensor(-2.7368e-08, device='cuda:3')\n",
      "tensor(3.7934e-08, device='cuda:3')\n",
      "tensor(-5.4004e-06, device='cuda:3')\n",
      "tensor(-5.4004e-06, device='cuda:3')\n",
      "tensor(-3.7573e-08, device='cuda:3')\n",
      "tensor(0., device='cuda:3')\n",
      "tensor(-5.0349e-06, device='cuda:3')\n",
      "tensor(-5.0349e-06, device='cuda:3')\n",
      "tensor(5.2791e-07, device='cuda:3')\n",
      "tensor(-0.0001, device='cuda:3')\n",
      "tensor(7.7315e-10, device='cuda:3')\n",
      "tensor(2.1287e-09, device='cuda:3')\n"
     ]
    },
    {
     "data": {
      "application/vnd.jupyter.widget-view+json": {
       "model_id": "bc6f23ff165d416ea4356d6b561d56fd",
       "version_major": 2,
       "version_minor": 0
      },
      "text/plain": [
       "HBox(children=(FloatProgress(value=0.0, max=42.0), HTML(value='')))"
      ]
     },
     "metadata": {},
     "output_type": "display_data"
    },
    {
     "name": "stdout",
     "output_type": "stream",
     "text": [
      "\n",
      "epoch time: 109.98566722869873\n",
      "mean loss train: 0.7077915413947332, mean loss val: 0.7706677798316592\n",
      "accuracy train: 0.7606904761904761, accuracy val: 0.7406666666666667\n",
      "---------------------------------------------------------------------------------------------------\n",
      "Epoch: 30, Learning Rate: 0.0005\n",
      "\n"
     ]
    },
    {
     "data": {
      "application/vnd.jupyter.widget-view+json": {
       "model_id": "cf0de3e810574ac792fc70427d8de80d",
       "version_major": 2,
       "version_minor": 0
      },
      "text/plain": [
       "HBox(children=(FloatProgress(value=0.0, max=657.0), HTML(value='')))"
      ]
     },
     "metadata": {},
     "output_type": "display_data"
    },
    {
     "name": "stdout",
     "output_type": "stream",
     "text": [
      "\n",
      "tensor(-1.0451e-05, device='cuda:3')\n",
      "tensor(3.3426e-07, device='cuda:3')\n",
      "tensor(0.0002, device='cuda:3')\n",
      "tensor(0.0002, device='cuda:3')\n",
      "tensor(-1.6084e-08, device='cuda:3')\n",
      "tensor(1.8314e-07, device='cuda:3')\n",
      "tensor(2.1313e-05, device='cuda:3')\n",
      "tensor(2.1313e-05, device='cuda:3')\n",
      "tensor(9.4084e-08, device='cuda:3')\n",
      "tensor(-4.7825e-08, device='cuda:3')\n",
      "tensor(6.8683e-06, device='cuda:3')\n",
      "tensor(6.8683e-06, device='cuda:3')\n",
      "tensor(4.4015e-08, device='cuda:3')\n",
      "tensor(0., device='cuda:3')\n",
      "tensor(7.5703e-06, device='cuda:3')\n",
      "tensor(7.5703e-06, device='cuda:3')\n",
      "tensor(-4.2310e-07, device='cuda:3')\n",
      "tensor(9.6467e-05, device='cuda:3')\n",
      "tensor(1.1059e-09, device='cuda:3')\n",
      "tensor(2.4835e-09, device='cuda:3')\n"
     ]
    },
    {
     "data": {
      "application/vnd.jupyter.widget-view+json": {
       "model_id": "e3133fc9bdc443d1abadf225c2e8213c",
       "version_major": 2,
       "version_minor": 0
      },
      "text/plain": [
       "HBox(children=(FloatProgress(value=0.0, max=42.0), HTML(value='')))"
      ]
     },
     "metadata": {},
     "output_type": "display_data"
    },
    {
     "name": "stdout",
     "output_type": "stream",
     "text": [
      "\n",
      "epoch time: 116.3795177936554\n",
      "mean loss train: 0.7039740632375081, mean loss val: 0.7583814406622024\n",
      "accuracy train: 0.7625, accuracy val: 0.7446666666666667\n",
      "---------------------------------------------------------------------------------------------------\n",
      "Epoch: 31, Learning Rate: 0.0005\n",
      "\n"
     ]
    },
    {
     "data": {
      "application/vnd.jupyter.widget-view+json": {
       "model_id": "9961b2cfa5b0416bb0c44316c7d7c19e",
       "version_major": 2,
       "version_minor": 0
      },
      "text/plain": [
       "HBox(children=(FloatProgress(value=0.0, max=657.0), HTML(value='')))"
      ]
     },
     "metadata": {},
     "output_type": "display_data"
    },
    {
     "name": "stdout",
     "output_type": "stream",
     "text": [
      "\n",
      "tensor(0.0001, device='cuda:3')\n",
      "tensor(-5.0942e-07, device='cuda:3')\n",
      "tensor(-0.0033, device='cuda:3')\n",
      "tensor(-0.0033, device='cuda:3')\n",
      "tensor(9.2693e-06, device='cuda:3')\n",
      "tensor(-9.3350e-08, device='cuda:3')\n",
      "tensor(-5.8318e-05, device='cuda:3')\n",
      "tensor(-5.8318e-05, device='cuda:3')\n",
      "tensor(-1.2454e-08, device='cuda:3')\n",
      "tensor(-5.3903e-07, device='cuda:3')\n",
      "tensor(5.9338e-05, device='cuda:3')\n",
      "tensor(5.9338e-05, device='cuda:3')\n",
      "tensor(3.4654e-08, device='cuda:3')\n",
      "tensor(0., device='cuda:3')\n",
      "tensor(6.6548e-05, device='cuda:3')\n",
      "tensor(6.6548e-05, device='cuda:3')\n",
      "tensor(-7.7862e-06, device='cuda:3')\n",
      "tensor(0.0013, device='cuda:3')\n",
      "tensor(5.3973e-10, device='cuda:3')\n",
      "tensor(-3.1931e-09, device='cuda:3')\n"
     ]
    },
    {
     "data": {
      "application/vnd.jupyter.widget-view+json": {
       "model_id": "cbb0939d9f7d437398fd10edce037651",
       "version_major": 2,
       "version_minor": 0
      },
      "text/plain": [
       "HBox(children=(FloatProgress(value=0.0, max=42.0), HTML(value='')))"
      ]
     },
     "metadata": {},
     "output_type": "display_data"
    },
    {
     "name": "stdout",
     "output_type": "stream",
     "text": [
      "\n",
      "epoch time: 114.78476643562317\n",
      "mean loss train: 0.7015419208435785, mean loss val: 0.7683984970819382\n",
      "accuracy train: 0.7636190476190476, accuracy val: 0.7427619047619047\n",
      "---------------------------------------------------------------------------------------------------\n",
      "Epoch: 32, Learning Rate: 0.0005\n",
      "\n"
     ]
    },
    {
     "data": {
      "application/vnd.jupyter.widget-view+json": {
       "model_id": "7578b9dcf400429789060b867207bbab",
       "version_major": 2,
       "version_minor": 0
      },
      "text/plain": [
       "HBox(children=(FloatProgress(value=0.0, max=657.0), HTML(value='')))"
      ]
     },
     "metadata": {},
     "output_type": "display_data"
    },
    {
     "name": "stdout",
     "output_type": "stream",
     "text": [
      "\n",
      "tensor(-0.0001, device='cuda:3')\n",
      "tensor(2.8926e-06, device='cuda:3')\n",
      "tensor(-0.0018, device='cuda:3')\n",
      "tensor(-0.0018, device='cuda:3')\n",
      "tensor(2.8955e-06, device='cuda:3')\n",
      "tensor(2.2939e-08, device='cuda:3')\n",
      "tensor(-5.6875e-06, device='cuda:3')\n",
      "tensor(-5.6875e-06, device='cuda:3')\n",
      "tensor(-1.3550e-08, device='cuda:3')\n",
      "tensor(1.1989e-06, device='cuda:3')\n",
      "tensor(-8.9376e-05, device='cuda:3')\n",
      "tensor(-8.9376e-05, device='cuda:3')\n",
      "tensor(7.9209e-08, device='cuda:3')\n",
      "tensor(0., device='cuda:3')\n",
      "tensor(-2.5238e-05, device='cuda:3')\n",
      "tensor(-2.5238e-05, device='cuda:3')\n",
      "tensor(2.8036e-06, device='cuda:3')\n",
      "tensor(-0.0005, device='cuda:3')\n",
      "tensor(6.6079e-10, device='cuda:3')\n",
      "tensor(-3.5479e-10, device='cuda:3')\n"
     ]
    },
    {
     "data": {
      "application/vnd.jupyter.widget-view+json": {
       "model_id": "819a08b1bffc4a6198c6e2e7460f687b",
       "version_major": 2,
       "version_minor": 0
      },
      "text/plain": [
       "HBox(children=(FloatProgress(value=0.0, max=42.0), HTML(value='')))"
      ]
     },
     "metadata": {},
     "output_type": "display_data"
    },
    {
     "name": "stdout",
     "output_type": "stream",
     "text": [
      "\n",
      "epoch time: 119.19597244262695\n",
      "mean loss train: 0.6994628898756845, mean loss val: 0.7738888215564547\n",
      "accuracy train: 0.7649523809523809, accuracy val: 0.7402857142857143\n",
      "---------------------------------------------------------------------------------------------------\n",
      "Epoch: 33, Learning Rate: 0.0005\n",
      "\n"
     ]
    },
    {
     "data": {
      "application/vnd.jupyter.widget-view+json": {
       "model_id": "836fe59e957c429eaa69721795df32dd",
       "version_major": 2,
       "version_minor": 0
      },
      "text/plain": [
       "HBox(children=(FloatProgress(value=0.0, max=657.0), HTML(value='')))"
      ]
     },
     "metadata": {},
     "output_type": "display_data"
    },
    {
     "name": "stdout",
     "output_type": "stream",
     "text": [
      "\n",
      "tensor(6.1339e-06, device='cuda:3')\n",
      "tensor(-1.1949e-07, device='cuda:3')\n",
      "tensor(0.0001, device='cuda:3')\n",
      "tensor(0.0001, device='cuda:3')\n",
      "tensor(-1.2551e-07, device='cuda:3')\n",
      "tensor(-4.9770e-09, device='cuda:3')\n",
      "tensor(2.0842e-05, device='cuda:3')\n",
      "tensor(2.0842e-05, device='cuda:3')\n",
      "tensor(-2.2582e-08, device='cuda:3')\n",
      "tensor(4.5108e-08, device='cuda:3')\n",
      "tensor(-3.7792e-06, device='cuda:3')\n",
      "tensor(-3.7792e-06, device='cuda:3')\n",
      "tensor(1.0488e-08, device='cuda:3')\n",
      "tensor(0., device='cuda:3')\n",
      "tensor(-4.9149e-06, device='cuda:3')\n",
      "tensor(-4.9149e-06, device='cuda:3')\n",
      "tensor(3.2681e-07, device='cuda:3')\n",
      "tensor(-5.8321e-05, device='cuda:3')\n",
      "tensor(8.8742e-10, device='cuda:3')\n",
      "tensor(3.5479e-10, device='cuda:3')\n"
     ]
    },
    {
     "data": {
      "application/vnd.jupyter.widget-view+json": {
       "model_id": "47a256af87b84654901ecda018da1107",
       "version_major": 2,
       "version_minor": 0
      },
      "text/plain": [
       "HBox(children=(FloatProgress(value=0.0, max=42.0), HTML(value='')))"
      ]
     },
     "metadata": {},
     "output_type": "display_data"
    },
    {
     "name": "stdout",
     "output_type": "stream",
     "text": [
      "\n",
      "epoch time: 112.26647138595581\n",
      "mean loss train: 0.7005304660570054, mean loss val: 0.7784962900252569\n",
      "accuracy train: 0.7641666666666667, accuracy val: 0.7384761904761905\n",
      "---------------------------------------------------------------------------------------------------\n",
      "Epoch: 34, Learning Rate: 0.0005\n",
      "\n"
     ]
    },
    {
     "data": {
      "application/vnd.jupyter.widget-view+json": {
       "model_id": "ea985807a1d7430bb77c9681ef7a8625",
       "version_major": 2,
       "version_minor": 0
      },
      "text/plain": [
       "HBox(children=(FloatProgress(value=0.0, max=657.0), HTML(value='')))"
      ]
     },
     "metadata": {},
     "output_type": "display_data"
    },
    {
     "name": "stdout",
     "output_type": "stream",
     "text": [
      "\n",
      "tensor(3.3093e-07, device='cuda:3')\n",
      "tensor(-1.0331e-07, device='cuda:3')\n",
      "tensor(1.7628e-05, device='cuda:3')\n",
      "tensor(1.7628e-05, device='cuda:3')\n",
      "tensor(2.6758e-08, device='cuda:3')\n",
      "tensor(9.5603e-09, device='cuda:3')\n",
      "tensor(1.3772e-05, device='cuda:3')\n",
      "tensor(1.3772e-05, device='cuda:3')\n",
      "tensor(2.2384e-08, device='cuda:3')\n",
      "tensor(-8.5612e-09, device='cuda:3')\n",
      "tensor(-8.6300e-06, device='cuda:3')\n",
      "tensor(-8.6300e-06, device='cuda:3')\n",
      "tensor(2.0416e-08, device='cuda:3')\n",
      "tensor(0., device='cuda:3')\n",
      "tensor(-4.9278e-06, device='cuda:3')\n",
      "tensor(-4.9278e-06, device='cuda:3')\n",
      "tensor(-7.0753e-08, device='cuda:3')\n",
      "tensor(-0.0001, device='cuda:3')\n",
      "tensor(1.6348e-10, device='cuda:3')\n",
      "tensor(5.3218e-10, device='cuda:3')\n"
     ]
    },
    {
     "data": {
      "application/vnd.jupyter.widget-view+json": {
       "model_id": "246e3e76ac7645ed97c2bfbb2c09c727",
       "version_major": 2,
       "version_minor": 0
      },
      "text/plain": [
       "HBox(children=(FloatProgress(value=0.0, max=42.0), HTML(value='')))"
      ]
     },
     "metadata": {},
     "output_type": "display_data"
    },
    {
     "name": "stdout",
     "output_type": "stream",
     "text": [
      "\n",
      "epoch time: 110.95598340034485\n",
      "mean loss train: 0.6972065222149804, mean loss val: 0.7689850681849888\n",
      "accuracy train: 0.7658571428571429, accuracy val: 0.7401904761904762\n",
      "---------------------------------------------------------------------------------------------------\n",
      "Epoch: 35, Learning Rate: 0.0005\n",
      "\n"
     ]
    },
    {
     "data": {
      "application/vnd.jupyter.widget-view+json": {
       "model_id": "136d69c2fbd545dea0990bd4737a737d",
       "version_major": 2,
       "version_minor": 0
      },
      "text/plain": [
       "HBox(children=(FloatProgress(value=0.0, max=657.0), HTML(value='')))"
      ]
     },
     "metadata": {},
     "output_type": "display_data"
    },
    {
     "name": "stdout",
     "output_type": "stream",
     "text": [
      "\n",
      "tensor(2.9728e-06, device='cuda:3')\n",
      "tensor(-1.1755e-07, device='cuda:3')\n",
      "tensor(6.5858e-05, device='cuda:3')\n",
      "tensor(6.5858e-05, device='cuda:3')\n",
      "tensor(-3.3314e-07, device='cuda:3')\n",
      "tensor(-3.2562e-09, device='cuda:3')\n",
      "tensor(4.1471e-06, device='cuda:3')\n",
      "tensor(4.1471e-06, device='cuda:3')\n",
      "tensor(8.2472e-09, device='cuda:3')\n",
      "tensor(-1.8489e-07, device='cuda:3')\n",
      "tensor(1.6427e-05, device='cuda:3')\n",
      "tensor(1.6427e-05, device='cuda:3')\n",
      "tensor(-1.4429e-08, device='cuda:3')\n",
      "tensor(0., device='cuda:3')\n",
      "tensor(1.2365e-05, device='cuda:3')\n",
      "tensor(1.2365e-05, device='cuda:3')\n",
      "tensor(2.0333e-07, device='cuda:3')\n",
      "tensor(-2.0357e-05, device='cuda:3')\n",
      "tensor(6.0894e-10, device='cuda:3')\n",
      "tensor(1.7739e-10, device='cuda:3')\n"
     ]
    },
    {
     "data": {
      "application/vnd.jupyter.widget-view+json": {
       "model_id": "52cc671d82034fe883d513db84bffba6",
       "version_major": 2,
       "version_minor": 0
      },
      "text/plain": [
       "HBox(children=(FloatProgress(value=0.0, max=42.0), HTML(value='')))"
      ]
     },
     "metadata": {},
     "output_type": "display_data"
    },
    {
     "name": "stdout",
     "output_type": "stream",
     "text": [
      "\n",
      "epoch time: 107.63014388084412\n",
      "mean loss train: 0.6951443141982669, mean loss val: 0.7719832560221355\n",
      "accuracy train: 0.7676190476190476, accuracy val: 0.7427619047619047\n",
      "---------------------------------------------------------------------------------------------------\n",
      "Epoch: 36, Learning Rate: 0.0005\n",
      "\n"
     ]
    },
    {
     "data": {
      "application/vnd.jupyter.widget-view+json": {
       "model_id": "1e79904461fe4305878977b6d8dd3186",
       "version_major": 2,
       "version_minor": 0
      },
      "text/plain": [
       "HBox(children=(FloatProgress(value=0.0, max=657.0), HTML(value='')))"
      ]
     },
     "metadata": {},
     "output_type": "display_data"
    },
    {
     "name": "stdout",
     "output_type": "stream",
     "text": [
      "\n",
      "tensor(4.3511e-05, device='cuda:3')\n",
      "tensor(8.2722e-06, device='cuda:3')\n",
      "tensor(-0.0044, device='cuda:3')\n",
      "tensor(-0.0044, device='cuda:3')\n",
      "tensor(5.6936e-06, device='cuda:3')\n",
      "tensor(-6.8462e-07, device='cuda:3')\n",
      "tensor(-1.4263e-05, device='cuda:3')\n",
      "tensor(-1.4263e-05, device='cuda:3')\n",
      "tensor(1.1901e-06, device='cuda:3')\n",
      "tensor(2.0391e-06, device='cuda:3')\n",
      "tensor(-0.0004, device='cuda:3')\n",
      "tensor(-0.0004, device='cuda:3')\n",
      "tensor(-9.8069e-08, device='cuda:3')\n",
      "tensor(0., device='cuda:3')\n",
      "tensor(-4.8661e-05, device='cuda:3')\n",
      "tensor(-4.8661e-05, device='cuda:3')\n",
      "tensor(1.9965e-07, device='cuda:3')\n",
      "tensor(-0.0011, device='cuda:3')\n",
      "tensor(1.9524e-09, device='cuda:3')\n",
      "tensor(1.9513e-09, device='cuda:3')\n"
     ]
    },
    {
     "data": {
      "application/vnd.jupyter.widget-view+json": {
       "model_id": "6dae5600d8784ea7b38eab55c02fb21b",
       "version_major": 2,
       "version_minor": 0
      },
      "text/plain": [
       "HBox(children=(FloatProgress(value=0.0, max=42.0), HTML(value='')))"
      ]
     },
     "metadata": {},
     "output_type": "display_data"
    },
    {
     "name": "stdout",
     "output_type": "stream",
     "text": [
      "\n",
      "epoch time: 104.37479043006897\n",
      "mean loss train: 0.6922486875851949, mean loss val: 0.7919652026948475\n",
      "accuracy train: 0.7685238095238095, accuracy val: 0.737904761904762\n",
      "---------------------------------------------------------------------------------------------------\n",
      "Epoch: 37, Learning Rate: 0.0005\n",
      "\n"
     ]
    },
    {
     "data": {
      "application/vnd.jupyter.widget-view+json": {
       "model_id": "650a4a69f3cb45aba5deb66dfab10fc2",
       "version_major": 2,
       "version_minor": 0
      },
      "text/plain": [
       "HBox(children=(FloatProgress(value=0.0, max=657.0), HTML(value='')))"
      ]
     },
     "metadata": {},
     "output_type": "display_data"
    },
    {
     "name": "stdout",
     "output_type": "stream",
     "text": [
      "\n",
      "tensor(6.6444e-05, device='cuda:3')\n",
      "tensor(-5.6879e-06, device='cuda:3')\n",
      "tensor(-0.0026, device='cuda:3')\n",
      "tensor(-0.0026, device='cuda:3')\n",
      "tensor(1.2457e-05, device='cuda:3')\n",
      "tensor(-1.5781e-06, device='cuda:3')\n",
      "tensor(-0.0003, device='cuda:3')\n",
      "tensor(-0.0003, device='cuda:3')\n",
      "tensor(-2.1521e-06, device='cuda:3')\n",
      "tensor(-2.4027e-06, device='cuda:3')\n",
      "tensor(-4.0851e-05, device='cuda:3')\n",
      "tensor(-4.0851e-05, device='cuda:3')\n",
      "tensor(1.0988e-07, device='cuda:3')\n",
      "tensor(0., device='cuda:3')\n",
      "tensor(-5.9484e-05, device='cuda:3')\n",
      "tensor(-5.9484e-05, device='cuda:3')\n",
      "tensor(6.2934e-07, device='cuda:3')\n",
      "tensor(0.0012, device='cuda:3')\n",
      "tensor(8.2954e-10, device='cuda:3')\n",
      "tensor(1.5966e-09, device='cuda:3')\n"
     ]
    },
    {
     "data": {
      "application/vnd.jupyter.widget-view+json": {
       "model_id": "b1a45f3e07814e3aa6a50ba55f1d61fe",
       "version_major": 2,
       "version_minor": 0
      },
      "text/plain": [
       "HBox(children=(FloatProgress(value=0.0, max=42.0), HTML(value='')))"
      ]
     },
     "metadata": {},
     "output_type": "display_data"
    },
    {
     "name": "stdout",
     "output_type": "stream",
     "text": [
      "\n",
      "epoch time: 106.44901251792908\n",
      "mean loss train: 0.6930053859211149, mean loss val: 0.769366360891433\n",
      "accuracy train: 0.7676904761904761, accuracy val: 0.7418095238095238\n",
      "---------------------------------------------------------------------------------------------------\n",
      "Epoch: 38, Learning Rate: 0.0005\n",
      "\n"
     ]
    },
    {
     "data": {
      "application/vnd.jupyter.widget-view+json": {
       "model_id": "1b178a48b1a840f88338e39aa08a63c3",
       "version_major": 2,
       "version_minor": 0
      },
      "text/plain": [
       "HBox(children=(FloatProgress(value=0.0, max=657.0), HTML(value='')))"
      ]
     },
     "metadata": {},
     "output_type": "display_data"
    },
    {
     "name": "stdout",
     "output_type": "stream",
     "text": [
      "\n",
      "tensor(6.9335e-07, device='cuda:3')\n",
      "tensor(3.6629e-08, device='cuda:3')\n",
      "tensor(-3.9463e-05, device='cuda:3')\n",
      "tensor(-3.9463e-05, device='cuda:3')\n",
      "tensor(-2.0574e-06, device='cuda:3')\n",
      "tensor(-5.4743e-08, device='cuda:3')\n",
      "tensor(2.8205e-05, device='cuda:3')\n",
      "tensor(2.8205e-05, device='cuda:3')\n",
      "tensor(-8.0006e-08, device='cuda:3')\n",
      "tensor(2.2818e-07, device='cuda:3')\n",
      "tensor(-3.1687e-06, device='cuda:3')\n",
      "tensor(-3.1687e-06, device='cuda:3')\n",
      "tensor(-2.6824e-09, device='cuda:3')\n",
      "tensor(0., device='cuda:3')\n",
      "tensor(-1.9124e-06, device='cuda:3')\n",
      "tensor(-1.9124e-06, device='cuda:3')\n",
      "tensor(1.0583e-06, device='cuda:3')\n",
      "tensor(-0.0001, device='cuda:3')\n",
      "tensor(1.0625e-09, device='cuda:3')\n",
      "tensor(-7.0958e-10, device='cuda:3')\n"
     ]
    },
    {
     "data": {
      "application/vnd.jupyter.widget-view+json": {
       "model_id": "2771239a3e1e44b59802342bfb7a9a3d",
       "version_major": 2,
       "version_minor": 0
      },
      "text/plain": [
       "HBox(children=(FloatProgress(value=0.0, max=42.0), HTML(value='')))"
      ]
     },
     "metadata": {},
     "output_type": "display_data"
    },
    {
     "name": "stdout",
     "output_type": "stream",
     "text": [
      "\n",
      "epoch time: 107.33927631378174\n",
      "mean loss train: 0.690765521367391, mean loss val: 0.7774970209939139\n",
      "accuracy train: 0.7690238095238096, accuracy val: 0.7407619047619047\n",
      "---------------------------------------------------------------------------------------------------\n",
      "Epoch: 39, Learning Rate: 0.0005\n",
      "\n"
     ]
    },
    {
     "data": {
      "application/vnd.jupyter.widget-view+json": {
       "model_id": "9fbf9c2964dd4aaaab6cbcfcd35daa27",
       "version_major": 2,
       "version_minor": 0
      },
      "text/plain": [
       "HBox(children=(FloatProgress(value=0.0, max=657.0), HTML(value='')))"
      ]
     },
     "metadata": {},
     "output_type": "display_data"
    },
    {
     "name": "stdout",
     "output_type": "stream",
     "text": [
      "\n",
      "tensor(-7.0368e-06, device='cuda:3')\n",
      "tensor(-5.5615e-08, device='cuda:3')\n",
      "tensor(0.0003, device='cuda:3')\n",
      "tensor(0.0003, device='cuda:3')\n",
      "tensor(-5.5864e-07, device='cuda:3')\n",
      "tensor(1.5283e-07, device='cuda:3')\n",
      "tensor(2.0772e-05, device='cuda:3')\n",
      "tensor(2.0772e-05, device='cuda:3')\n",
      "tensor(1.3554e-07, device='cuda:3')\n",
      "tensor(-5.5028e-07, device='cuda:3')\n",
      "tensor(4.9954e-05, device='cuda:3')\n",
      "tensor(4.9954e-05, device='cuda:3')\n",
      "tensor(-2.6290e-09, device='cuda:3')\n",
      "tensor(0., device='cuda:3')\n",
      "tensor(3.0321e-06, device='cuda:3')\n",
      "tensor(3.0321e-06, device='cuda:3')\n",
      "tensor(3.0093e-06, device='cuda:3')\n",
      "tensor(-0.0003, device='cuda:3')\n",
      "tensor(5.1462e-10, device='cuda:3')\n",
      "tensor(7.0958e-10, device='cuda:3')\n"
     ]
    },
    {
     "data": {
      "application/vnd.jupyter.widget-view+json": {
       "model_id": "665dca0a3bfc4cd580d87e1b6a5f578f",
       "version_major": 2,
       "version_minor": 0
      },
      "text/plain": [
       "HBox(children=(FloatProgress(value=0.0, max=42.0), HTML(value='')))"
      ]
     },
     "metadata": {},
     "output_type": "display_data"
    },
    {
     "name": "stdout",
     "output_type": "stream",
     "text": [
      "\n",
      "epoch time: 108.99884629249573\n",
      "mean loss train: 0.6885039510159265, mean loss val: 0.7877317577543713\n",
      "accuracy train: 0.7697857142857143, accuracy val: 0.7410476190476191\n",
      "---------------------------------------------------------------------------------------------------\n",
      "Epoch: 40, Learning Rate: 0.0005\n",
      "\n"
     ]
    },
    {
     "data": {
      "application/vnd.jupyter.widget-view+json": {
       "model_id": "47ba7a6b42224e488529c985c3d90844",
       "version_major": 2,
       "version_minor": 0
      },
      "text/plain": [
       "HBox(children=(FloatProgress(value=0.0, max=657.0), HTML(value='')))"
      ]
     },
     "metadata": {},
     "output_type": "display_data"
    },
    {
     "name": "stdout",
     "output_type": "stream",
     "text": [
      "\n",
      "tensor(-3.3680e-06, device='cuda:3')\n",
      "tensor(-1.2817e-07, device='cuda:3')\n",
      "tensor(-3.3049e-06, device='cuda:3')\n",
      "tensor(-3.3049e-06, device='cuda:3')\n",
      "tensor(-2.4845e-07, device='cuda:3')\n",
      "tensor(7.2184e-09, device='cuda:3')\n",
      "tensor(-1.1516e-05, device='cuda:3')\n",
      "tensor(-1.1516e-05, device='cuda:3')\n",
      "tensor(4.4257e-08, device='cuda:3')\n",
      "tensor(2.0828e-07, device='cuda:3')\n",
      "tensor(-1.9448e-05, device='cuda:3')\n",
      "tensor(-1.9448e-05, device='cuda:3')\n",
      "tensor(4.8858e-08, device='cuda:3')\n",
      "tensor(0., device='cuda:3')\n",
      "tensor(-9.3398e-06, device='cuda:3')\n",
      "tensor(-9.3398e-06, device='cuda:3')\n",
      "tensor(1.1533e-07, device='cuda:3')\n",
      "tensor(-2.1983e-05, device='cuda:3')\n",
      "tensor(5.6008e-10, device='cuda:3')\n",
      "tensor(1.0644e-09, device='cuda:3')\n"
     ]
    },
    {
     "data": {
      "application/vnd.jupyter.widget-view+json": {
       "model_id": "62dce47304324821b2f8977051432ce6",
       "version_major": 2,
       "version_minor": 0
      },
      "text/plain": [
       "HBox(children=(FloatProgress(value=0.0, max=42.0), HTML(value='')))"
      ]
     },
     "metadata": {},
     "output_type": "display_data"
    },
    {
     "name": "stdout",
     "output_type": "stream",
     "text": [
      "\n",
      "epoch time: 107.94234323501587\n",
      "mean loss train: 0.6901298499334426, mean loss val: 0.7938259698776972\n",
      "accuracy train: 0.7692380952380953, accuracy val: 0.7376190476190476\n",
      "---------------------------------------------------------------------------------------------------\n",
      "Epoch: 41, Learning Rate: 0.0005\n",
      "\n"
     ]
    },
    {
     "data": {
      "application/vnd.jupyter.widget-view+json": {
       "model_id": "fb21c3c5f55b40f2ad170ea366fab602",
       "version_major": 2,
       "version_minor": 0
      },
      "text/plain": [
       "HBox(children=(FloatProgress(value=0.0, max=657.0), HTML(value='')))"
      ]
     },
     "metadata": {},
     "output_type": "display_data"
    },
    {
     "name": "stdout",
     "output_type": "stream",
     "text": [
      "\n",
      "tensor(0.0002, device='cuda:3')\n",
      "tensor(3.2976e-06, device='cuda:3')\n",
      "tensor(-0.0010, device='cuda:3')\n",
      "tensor(-0.0010, device='cuda:3')\n",
      "tensor(-4.3668e-06, device='cuda:3')\n",
      "tensor(4.5068e-07, device='cuda:3')\n",
      "tensor(-0.0003, device='cuda:3')\n",
      "tensor(-0.0003, device='cuda:3')\n",
      "tensor(2.8055e-07, device='cuda:3')\n",
      "tensor(7.1882e-07, device='cuda:3')\n",
      "tensor(-8.1541e-05, device='cuda:3')\n",
      "tensor(-8.1541e-05, device='cuda:3')\n",
      "tensor(-3.3177e-08, device='cuda:3')\n",
      "tensor(0., device='cuda:3')\n",
      "tensor(0.0001, device='cuda:3')\n",
      "tensor(0.0001, device='cuda:3')\n",
      "tensor(-5.6828e-06, device='cuda:3')\n",
      "tensor(0.0003, device='cuda:3')\n",
      "tensor(-1.9611e-10, device='cuda:3')\n",
      "tensor(-7.0958e-10, device='cuda:3')\n"
     ]
    },
    {
     "data": {
      "application/vnd.jupyter.widget-view+json": {
       "model_id": "6243eea311f14f1e9b51c01cba366586",
       "version_major": 2,
       "version_minor": 0
      },
      "text/plain": [
       "HBox(children=(FloatProgress(value=0.0, max=42.0), HTML(value='')))"
      ]
     },
     "metadata": {},
     "output_type": "display_data"
    },
    {
     "name": "stdout",
     "output_type": "stream",
     "text": [
      "\n",
      "epoch time: 108.46124839782715\n",
      "mean loss train: 0.6871385713758923, mean loss val: 0.796764892578125\n",
      "accuracy train: 0.7713571428571429, accuracy val: 0.7367619047619047\n",
      "---------------------------------------------------------------------------------------------------\n",
      "Epoch: 42, Learning Rate: 0.0005\n",
      "\n"
     ]
    },
    {
     "data": {
      "application/vnd.jupyter.widget-view+json": {
       "model_id": "9499f584604e4a0185ede93b7c548229",
       "version_major": 2,
       "version_minor": 0
      },
      "text/plain": [
       "HBox(children=(FloatProgress(value=0.0, max=657.0), HTML(value='')))"
      ]
     },
     "metadata": {},
     "output_type": "display_data"
    },
    {
     "name": "stdout",
     "output_type": "stream",
     "text": [
      "\n",
      "tensor(-1.5691e-05, device='cuda:3')\n",
      "tensor(-3.3207e-07, device='cuda:3')\n",
      "tensor(0.0002, device='cuda:3')\n",
      "tensor(0.0002, device='cuda:3')\n",
      "tensor(2.2141e-06, device='cuda:3')\n",
      "tensor(-4.9209e-08, device='cuda:3')\n",
      "tensor(9.9746e-06, device='cuda:3')\n",
      "tensor(9.9746e-06, device='cuda:3')\n",
      "tensor(1.1277e-09, device='cuda:3')\n",
      "tensor(6.5982e-08, device='cuda:3')\n",
      "tensor(-1.0627e-05, device='cuda:3')\n",
      "tensor(-1.0627e-05, device='cuda:3')\n",
      "tensor(7.4101e-09, device='cuda:3')\n",
      "tensor(0., device='cuda:3')\n",
      "tensor(-1.0613e-06, device='cuda:3')\n",
      "tensor(-1.0613e-06, device='cuda:3')\n",
      "tensor(2.6071e-06, device='cuda:3')\n",
      "tensor(-0.0003, device='cuda:3')\n",
      "tensor(-1.4718e-10, device='cuda:3')\n",
      "tensor(-5.3218e-10, device='cuda:3')\n"
     ]
    },
    {
     "data": {
      "application/vnd.jupyter.widget-view+json": {
       "model_id": "5310acf2910c4a6596fafae4050728f6",
       "version_major": 2,
       "version_minor": 0
      },
      "text/plain": [
       "HBox(children=(FloatProgress(value=0.0, max=42.0), HTML(value='')))"
      ]
     },
     "metadata": {},
     "output_type": "display_data"
    },
    {
     "name": "stdout",
     "output_type": "stream",
     "text": [
      "\n",
      "epoch time: 106.34428453445435\n",
      "mean loss train: 0.6864920431205205, mean loss val: 0.8068177504766555\n",
      "accuracy train: 0.7715, accuracy val: 0.7358095238095238\n",
      "---------------------------------------------------------------------------------------------------\n",
      "Epoch: 43, Learning Rate: 0.0005\n",
      "\n"
     ]
    },
    {
     "data": {
      "application/vnd.jupyter.widget-view+json": {
       "model_id": "0fdaad1b89ed437fa4fc98ccf6d7abc2",
       "version_major": 2,
       "version_minor": 0
      },
      "text/plain": [
       "HBox(children=(FloatProgress(value=0.0, max=657.0), HTML(value='')))"
      ]
     },
     "metadata": {},
     "output_type": "display_data"
    },
    {
     "name": "stdout",
     "output_type": "stream",
     "text": [
      "\n",
      "tensor(0.0005, device='cuda:3')\n",
      "tensor(1.2621e-05, device='cuda:3')\n",
      "tensor(0.0136, device='cuda:3')\n",
      "tensor(0.0136, device='cuda:3')\n",
      "tensor(-2.5072e-06, device='cuda:3')\n",
      "tensor(-7.9899e-07, device='cuda:3')\n",
      "tensor(0.0001, device='cuda:3')\n",
      "tensor(0.0001, device='cuda:3')\n",
      "tensor(1.3179e-06, device='cuda:3')\n",
      "tensor(-4.6773e-06, device='cuda:3')\n",
      "tensor(0.0007, device='cuda:3')\n",
      "tensor(0.0007, device='cuda:3')\n",
      "tensor(-4.8323e-08, device='cuda:3')\n",
      "tensor(0., device='cuda:3')\n",
      "tensor(-5.7540e-05, device='cuda:3')\n",
      "tensor(-5.7540e-05, device='cuda:3')\n",
      "tensor(-4.2281e-06, device='cuda:3')\n",
      "tensor(0.0009, device='cuda:3')\n",
      "tensor(1.9760e-09, device='cuda:3')\n",
      "tensor(2.1287e-09, device='cuda:3')\n"
     ]
    },
    {
     "data": {
      "application/vnd.jupyter.widget-view+json": {
       "model_id": "b995e837330442ee8d93aec263d6555a",
       "version_major": 2,
       "version_minor": 0
      },
      "text/plain": [
       "HBox(children=(FloatProgress(value=0.0, max=42.0), HTML(value='')))"
      ]
     },
     "metadata": {},
     "output_type": "display_data"
    },
    {
     "name": "stdout",
     "output_type": "stream",
     "text": [
      "\n",
      "epoch time: 108.08876705169678\n",
      "mean loss train: 0.6825912038258144, mean loss val: 0.791143067859468\n",
      "accuracy train: 0.772547619047619, accuracy val: 0.7386666666666667\n",
      "---------------------------------------------------------------------------------------------------\n",
      "Epoch: 44, Learning Rate: 0.0005\n",
      "\n"
     ]
    },
    {
     "data": {
      "application/vnd.jupyter.widget-view+json": {
       "model_id": "1b57071654c14591b5525fd0b302e4ae",
       "version_major": 2,
       "version_minor": 0
      },
      "text/plain": [
       "HBox(children=(FloatProgress(value=0.0, max=657.0), HTML(value='')))"
      ]
     },
     "metadata": {},
     "output_type": "display_data"
    },
    {
     "name": "stdout",
     "output_type": "stream",
     "text": [
      "\n",
      "tensor(-1.8793e-10, device='cuda:3')\n",
      "tensor(1.8881e-12, device='cuda:3')\n",
      "tensor(9.7255e-10, device='cuda:3')\n",
      "tensor(9.7255e-10, device='cuda:3')\n",
      "tensor(4.2068e-11, device='cuda:3')\n",
      "tensor(-7.3235e-12, device='cuda:3')\n",
      "tensor(-1.3473e-10, device='cuda:3')\n",
      "tensor(-1.3473e-10, device='cuda:3')\n",
      "tensor(9.9795e-12, device='cuda:3')\n",
      "tensor(1.1177e-11, device='cuda:3')\n",
      "tensor(2.5332e-10, device='cuda:3')\n",
      "tensor(2.5332e-10, device='cuda:3')\n",
      "tensor(-4.3606e-12, device='cuda:3')\n",
      "tensor(0., device='cuda:3')\n",
      "tensor(-4.3393e-10, device='cuda:3')\n",
      "tensor(-4.3393e-10, device='cuda:3')\n",
      "tensor(1.5992e-10, device='cuda:3')\n",
      "tensor(-1.1330e-08, device='cuda:3')\n",
      "tensor(1.8442e-10, device='cuda:3')\n",
      "tensor(2.1287e-09, device='cuda:3')\n"
     ]
    },
    {
     "data": {
      "application/vnd.jupyter.widget-view+json": {
       "model_id": "dcb73a30959e4dc5a6698e5baeeecfce",
       "version_major": 2,
       "version_minor": 0
      },
      "text/plain": [
       "HBox(children=(FloatProgress(value=0.0, max=42.0), HTML(value='')))"
      ]
     },
     "metadata": {},
     "output_type": "display_data"
    },
    {
     "name": "stdout",
     "output_type": "stream",
     "text": [
      "\n",
      "epoch time: 106.12466335296631\n",
      "mean loss train: 0.6839672533216931, mean loss val: 0.7913503723144532\n",
      "accuracy train: 0.7732142857142857, accuracy val: 0.7387619047619047\n",
      "---------------------------------------------------------------------------------------------------\n",
      "Epoch: 45, Learning Rate: 0.0005\n",
      "\n"
     ]
    },
    {
     "data": {
      "application/vnd.jupyter.widget-view+json": {
       "model_id": "8787bccd10774ff0ac7b0b12b8dbd06b",
       "version_major": 2,
       "version_minor": 0
      },
      "text/plain": [
       "HBox(children=(FloatProgress(value=0.0, max=657.0), HTML(value='')))"
      ]
     },
     "metadata": {},
     "output_type": "display_data"
    },
    {
     "name": "stdout",
     "output_type": "stream",
     "text": [
      "\n",
      "tensor(-1.5747e-05, device='cuda:3')\n",
      "tensor(-7.9920e-07, device='cuda:3')\n",
      "tensor(-5.5850e-05, device='cuda:3')\n",
      "tensor(-5.5850e-05, device='cuda:3')\n",
      "tensor(3.5706e-06, device='cuda:3')\n",
      "tensor(-4.1275e-08, device='cuda:3')\n",
      "tensor(-4.9644e-05, device='cuda:3')\n",
      "tensor(-4.9644e-05, device='cuda:3')\n",
      "tensor(3.9672e-08, device='cuda:3')\n",
      "tensor(-1.0951e-06, device='cuda:3')\n",
      "tensor(0.0001, device='cuda:3')\n",
      "tensor(0.0001, device='cuda:3')\n",
      "tensor(-5.7126e-08, device='cuda:3')\n",
      "tensor(0., device='cuda:3')\n",
      "tensor(1.2627e-05, device='cuda:3')\n",
      "tensor(1.2627e-05, device='cuda:3')\n",
      "tensor(-1.5155e-06, device='cuda:3')\n",
      "tensor(0.0002, device='cuda:3')\n",
      "tensor(3.4052e-10, device='cuda:3')\n",
      "tensor(1.4192e-09, device='cuda:3')\n"
     ]
    },
    {
     "data": {
      "application/vnd.jupyter.widget-view+json": {
       "model_id": "e93690c25dca48ff8a8f2177a65f88df",
       "version_major": 2,
       "version_minor": 0
      },
      "text/plain": [
       "HBox(children=(FloatProgress(value=0.0, max=42.0), HTML(value='')))"
      ]
     },
     "metadata": {},
     "output_type": "display_data"
    },
    {
     "name": "stdout",
     "output_type": "stream",
     "text": [
      "\n",
      "epoch time: 109.91548418998718\n",
      "mean loss train: 0.6804244051433744, mean loss val: 0.805166748046875\n",
      "accuracy train: 0.7735, accuracy val: 0.738\n",
      "---------------------------------------------------------------------------------------------------\n",
      "Epoch: 46, Learning Rate: 0.0005\n",
      "\n"
     ]
    },
    {
     "data": {
      "application/vnd.jupyter.widget-view+json": {
       "model_id": "7d376452626b4e4b94fc5e573be3f0e1",
       "version_major": 2,
       "version_minor": 0
      },
      "text/plain": [
       "HBox(children=(FloatProgress(value=0.0, max=657.0), HTML(value='')))"
      ]
     },
     "metadata": {},
     "output_type": "display_data"
    },
    {
     "name": "stdout",
     "output_type": "stream",
     "text": [
      "\n",
      "tensor(-7.6138e-05, device='cuda:3')\n",
      "tensor(-9.0574e-06, device='cuda:3')\n",
      "tensor(0.0040, device='cuda:3')\n",
      "tensor(0.0040, device='cuda:3')\n",
      "tensor(-1.1677e-05, device='cuda:3')\n",
      "tensor(-5.7737e-08, device='cuda:3')\n",
      "tensor(0.0003, device='cuda:3')\n",
      "tensor(0.0003, device='cuda:3')\n",
      "tensor(2.1697e-07, device='cuda:3')\n",
      "tensor(2.2250e-07, device='cuda:3')\n",
      "tensor(-2.4222e-05, device='cuda:3')\n",
      "tensor(-2.4222e-05, device='cuda:3')\n",
      "tensor(9.0199e-07, device='cuda:3')\n",
      "tensor(0., device='cuda:3')\n",
      "tensor(0.0001, device='cuda:3')\n",
      "tensor(0.0001, device='cuda:3')\n",
      "tensor(-1.5354e-06, device='cuda:3')\n",
      "tensor(0.0007, device='cuda:3')\n",
      "tensor(2.9930e-09, device='cuda:3')\n",
      "tensor(2.1731e-09, device='cuda:3')\n"
     ]
    },
    {
     "data": {
      "application/vnd.jupyter.widget-view+json": {
       "model_id": "4bfcc8a410d445558c7322a841b8af8d",
       "version_major": 2,
       "version_minor": 0
      },
      "text/plain": [
       "HBox(children=(FloatProgress(value=0.0, max=42.0), HTML(value='')))"
      ]
     },
     "metadata": {},
     "output_type": "display_data"
    },
    {
     "name": "stdout",
     "output_type": "stream",
     "text": [
      "\n",
      "epoch time: 107.70904064178467\n",
      "mean loss train: 0.6815639354047321, mean loss val: 0.8091336001441592\n",
      "accuracy train: 0.7742857142857142, accuracy val: 0.7364761904761905\n",
      "---------------------------------------------------------------------------------------------------\n",
      "Epoch: 47, Learning Rate: 0.0005\n",
      "\n"
     ]
    },
    {
     "data": {
      "application/vnd.jupyter.widget-view+json": {
       "model_id": "c2400543d9ce487e94fc2f3abd0cb460",
       "version_major": 2,
       "version_minor": 0
      },
      "text/plain": [
       "HBox(children=(FloatProgress(value=0.0, max=657.0), HTML(value='')))"
      ]
     },
     "metadata": {},
     "output_type": "display_data"
    },
    {
     "name": "stdout",
     "output_type": "stream",
     "text": [
      "\n",
      "tensor(9.5719e-07, device='cuda:3')\n",
      "tensor(1.5514e-09, device='cuda:3')\n",
      "tensor(-0.0001, device='cuda:3')\n",
      "tensor(-0.0001, device='cuda:3')\n",
      "tensor(-4.0107e-07, device='cuda:3')\n",
      "tensor(-4.7817e-08, device='cuda:3')\n",
      "tensor(-1.7750e-05, device='cuda:3')\n",
      "tensor(-1.7750e-05, device='cuda:3')\n",
      "tensor(-2.9668e-08, device='cuda:3')\n",
      "tensor(-1.1986e-07, device='cuda:3')\n",
      "tensor(1.7609e-05, device='cuda:3')\n",
      "tensor(1.7609e-05, device='cuda:3')\n",
      "tensor(1.2163e-08, device='cuda:3')\n",
      "tensor(0., device='cuda:3')\n",
      "tensor(-3.5765e-06, device='cuda:3')\n",
      "tensor(-3.5765e-06, device='cuda:3')\n",
      "tensor(-9.6863e-07, device='cuda:3')\n",
      "tensor(0.0001, device='cuda:3')\n",
      "tensor(9.0015e-10, device='cuda:3')\n",
      "tensor(0., device='cuda:3')\n"
     ]
    },
    {
     "data": {
      "application/vnd.jupyter.widget-view+json": {
       "model_id": "3a65fcae995b4e908ba048f3733f5457",
       "version_major": 2,
       "version_minor": 0
      },
      "text/plain": [
       "HBox(children=(FloatProgress(value=0.0, max=42.0), HTML(value='')))"
      ]
     },
     "metadata": {},
     "output_type": "display_data"
    },
    {
     "name": "stdout",
     "output_type": "stream",
     "text": [
      "\n",
      "epoch time: 105.47621011734009\n",
      "mean loss train: 0.6794897712752933, mean loss val: 0.8068392130533855\n",
      "accuracy train: 0.7760714285714285, accuracy val: 0.7363809523809524\n",
      "---------------------------------------------------------------------------------------------------\n",
      "Epoch: 48, Learning Rate: 0.0005\n",
      "\n"
     ]
    },
    {
     "data": {
      "application/vnd.jupyter.widget-view+json": {
       "model_id": "555d6bb763cd400586a890203860aa4d",
       "version_major": 2,
       "version_minor": 0
      },
      "text/plain": [
       "HBox(children=(FloatProgress(value=0.0, max=657.0), HTML(value='')))"
      ]
     },
     "metadata": {},
     "output_type": "display_data"
    },
    {
     "name": "stdout",
     "output_type": "stream",
     "text": [
      "\n",
      "tensor(-7.1982e-05, device='cuda:3')\n",
      "tensor(2.3651e-06, device='cuda:3')\n",
      "tensor(0.0016, device='cuda:3')\n",
      "tensor(0.0016, device='cuda:3')\n",
      "tensor(-7.5060e-06, device='cuda:3')\n",
      "tensor(-7.5830e-07, device='cuda:3')\n",
      "tensor(0.0003, device='cuda:3')\n",
      "tensor(0.0003, device='cuda:3')\n",
      "tensor(-1.9230e-07, device='cuda:3')\n",
      "tensor(1.3883e-07, device='cuda:3')\n",
      "tensor(8.3272e-05, device='cuda:3')\n",
      "tensor(8.3272e-05, device='cuda:3')\n",
      "tensor(-3.2881e-09, device='cuda:3')\n",
      "tensor(0., device='cuda:3')\n",
      "tensor(2.3623e-06, device='cuda:3')\n",
      "tensor(2.3623e-06, device='cuda:3')\n",
      "tensor(1.8867e-06, device='cuda:3')\n",
      "tensor(0.0007, device='cuda:3')\n",
      "tensor(-4.1485e-10, device='cuda:3')\n",
      "tensor(-2.1287e-09, device='cuda:3')\n"
     ]
    },
    {
     "data": {
      "application/vnd.jupyter.widget-view+json": {
       "model_id": "49f70bb311ed4b87beefd964c8134fc9",
       "version_major": 2,
       "version_minor": 0
      },
      "text/plain": [
       "HBox(children=(FloatProgress(value=0.0, max=42.0), HTML(value='')))"
      ]
     },
     "metadata": {},
     "output_type": "display_data"
    },
    {
     "name": "stdout",
     "output_type": "stream",
     "text": [
      "\n",
      "epoch time: 110.09545469284058\n",
      "mean loss train: 0.6792312796910603, mean loss val: 0.8044002090635753\n",
      "accuracy train: 0.7752619047619047, accuracy val: 0.7362857142857143\n",
      "---------------------------------------------------------------------------------------------------\n",
      "Epoch: 49, Learning Rate: 0.0005\n",
      "\n"
     ]
    },
    {
     "data": {
      "application/vnd.jupyter.widget-view+json": {
       "model_id": "a38edf48f47343ca8f4fb9451b254b10",
       "version_major": 2,
       "version_minor": 0
      },
      "text/plain": [
       "HBox(children=(FloatProgress(value=0.0, max=657.0), HTML(value='')))"
      ]
     },
     "metadata": {},
     "output_type": "display_data"
    },
    {
     "name": "stdout",
     "output_type": "stream",
     "text": [
      "\n",
      "tensor(-4.6189e-05, device='cuda:3')\n",
      "tensor(1.1908e-06, device='cuda:3')\n",
      "tensor(0.0037, device='cuda:3')\n",
      "tensor(0.0037, device='cuda:3')\n",
      "tensor(2.1168e-05, device='cuda:3')\n",
      "tensor(6.0596e-07, device='cuda:3')\n",
      "tensor(-0.0002, device='cuda:3')\n",
      "tensor(-0.0002, device='cuda:3')\n",
      "tensor(-1.9781e-07, device='cuda:3')\n",
      "tensor(3.5495e-06, device='cuda:3')\n",
      "tensor(-0.0002, device='cuda:3')\n",
      "tensor(-0.0002, device='cuda:3')\n",
      "tensor(9.3723e-08, device='cuda:3')\n",
      "tensor(0., device='cuda:3')\n",
      "tensor(4.4949e-05, device='cuda:3')\n",
      "tensor(4.4949e-05, device='cuda:3')\n",
      "tensor(5.1745e-06, device='cuda:3')\n",
      "tensor(-0.0010, device='cuda:3')\n",
      "tensor(2.7892e-10, device='cuda:3')\n",
      "tensor(-1.0644e-09, device='cuda:3')\n"
     ]
    },
    {
     "data": {
      "application/vnd.jupyter.widget-view+json": {
       "model_id": "0cd8c1bc52bf411db9ee77aa405ef6da",
       "version_major": 2,
       "version_minor": 0
      },
      "text/plain": [
       "HBox(children=(FloatProgress(value=0.0, max=42.0), HTML(value='')))"
      ]
     },
     "metadata": {},
     "output_type": "display_data"
    },
    {
     "name": "stdout",
     "output_type": "stream",
     "text": [
      "\n",
      "epoch time: 107.08248448371887\n",
      "mean loss train: 0.6766370124135699, mean loss val: 0.8229718177432106\n",
      "accuracy train: 0.7759047619047619, accuracy val: 0.7336190476190476\n",
      "---------------------------------------------------------------------------------------------------\n",
      "Epoch: 50, Learning Rate: 0.00025\n",
      "\n"
     ]
    },
    {
     "data": {
      "application/vnd.jupyter.widget-view+json": {
       "model_id": "a551cb0e425f48fd8c77cc6195646479",
       "version_major": 2,
       "version_minor": 0
      },
      "text/plain": [
       "HBox(children=(FloatProgress(value=0.0, max=657.0), HTML(value='')))"
      ]
     },
     "metadata": {},
     "output_type": "display_data"
    },
    {
     "name": "stdout",
     "output_type": "stream",
     "text": [
      "\n",
      "tensor(-2.0255e-06, device='cuda:3')\n",
      "tensor(1.5127e-07, device='cuda:3')\n",
      "tensor(0.0004, device='cuda:3')\n",
      "tensor(0.0004, device='cuda:3')\n",
      "tensor(-1.3997e-06, device='cuda:3')\n",
      "tensor(-9.8765e-08, device='cuda:3')\n",
      "tensor(6.8034e-05, device='cuda:3')\n",
      "tensor(6.8034e-05, device='cuda:3')\n",
      "tensor(-1.1540e-07, device='cuda:3')\n",
      "tensor(-3.7046e-07, device='cuda:3')\n",
      "tensor(4.6284e-05, device='cuda:3')\n",
      "tensor(4.6284e-05, device='cuda:3')\n",
      "tensor(3.1761e-08, device='cuda:3')\n",
      "tensor(0., device='cuda:3')\n",
      "tensor(-6.9612e-06, device='cuda:3')\n",
      "tensor(-6.9612e-06, device='cuda:3')\n",
      "tensor(1.1780e-06, device='cuda:3')\n",
      "tensor(-9.8021e-05, device='cuda:3')\n",
      "tensor(2.0279e-10, device='cuda:3')\n",
      "tensor(1.7739e-10, device='cuda:3')\n"
     ]
    },
    {
     "data": {
      "application/vnd.jupyter.widget-view+json": {
       "model_id": "878604848dea491c89e52838c218227c",
       "version_major": 2,
       "version_minor": 0
      },
      "text/plain": [
       "HBox(children=(FloatProgress(value=0.0, max=42.0), HTML(value='')))"
      ]
     },
     "metadata": {},
     "output_type": "display_data"
    },
    {
     "name": "stdout",
     "output_type": "stream",
     "text": [
      "\n",
      "epoch time: 105.82957720756531\n",
      "mean loss train: 0.6674719030402956, mean loss val: 0.8156798589797247\n",
      "accuracy train: 0.7806428571428572, accuracy val: 0.7371428571428571\n",
      "---------------------------------------------------------------------------------------------------\n",
      "Epoch: 51, Learning Rate: 0.00025\n",
      "\n"
     ]
    },
    {
     "data": {
      "application/vnd.jupyter.widget-view+json": {
       "model_id": "99bb800a16414bb1ab4eb0d8a5d7a911",
       "version_major": 2,
       "version_minor": 0
      },
      "text/plain": [
       "HBox(children=(FloatProgress(value=0.0, max=657.0), HTML(value='')))"
      ]
     },
     "metadata": {},
     "output_type": "display_data"
    },
    {
     "name": "stdout",
     "output_type": "stream",
     "text": [
      "\n",
      "tensor(7.1628e-05, device='cuda:3')\n",
      "tensor(7.7816e-06, device='cuda:3')\n",
      "tensor(0.0005, device='cuda:3')\n",
      "tensor(0.0005, device='cuda:3')\n",
      "tensor(2.5146e-06, device='cuda:3')\n",
      "tensor(-5.4492e-07, device='cuda:3')\n",
      "tensor(3.4093e-05, device='cuda:3')\n",
      "tensor(3.4093e-05, device='cuda:3')\n",
      "tensor(-2.3125e-07, device='cuda:3')\n",
      "tensor(-3.6706e-07, device='cuda:3')\n",
      "tensor(0.0004, device='cuda:3')\n",
      "tensor(0.0004, device='cuda:3')\n",
      "tensor(1.4063e-07, device='cuda:3')\n",
      "tensor(0., device='cuda:3')\n",
      "tensor(-2.8356e-05, device='cuda:3')\n",
      "tensor(-2.8356e-05, device='cuda:3')\n",
      "tensor(-1.2186e-05, device='cuda:3')\n",
      "tensor(0.0030, device='cuda:3')\n",
      "tensor(7.5556e-11, device='cuda:3')\n",
      "tensor(-1.7739e-09, device='cuda:3')\n"
     ]
    },
    {
     "data": {
      "application/vnd.jupyter.widget-view+json": {
       "model_id": "b60153e04c8e440686e61f313877c2d9",
       "version_major": 2,
       "version_minor": 0
      },
      "text/plain": [
       "HBox(children=(FloatProgress(value=0.0, max=42.0), HTML(value='')))"
      ]
     },
     "metadata": {},
     "output_type": "display_data"
    },
    {
     "name": "stdout",
     "output_type": "stream",
     "text": [
      "\n",
      "epoch time: 109.33190178871155\n",
      "mean loss train: 0.6637341157141186, mean loss val: 0.8197130214146205\n",
      "accuracy train: 0.7823095238095238, accuracy val: 0.7355238095238095\n",
      "---------------------------------------------------------------------------------------------------\n",
      "Epoch: 52, Learning Rate: 0.00025\n",
      "\n"
     ]
    },
    {
     "data": {
      "application/vnd.jupyter.widget-view+json": {
       "model_id": "be32879594e9427e8130321bbcd5418b",
       "version_major": 2,
       "version_minor": 0
      },
      "text/plain": [
       "HBox(children=(FloatProgress(value=0.0, max=657.0), HTML(value='')))"
      ]
     },
     "metadata": {},
     "output_type": "display_data"
    },
    {
     "name": "stdout",
     "output_type": "stream",
     "text": [
      "\n",
      "tensor(-6.1918e-07, device='cuda:3')\n",
      "tensor(-6.8728e-09, device='cuda:3')\n",
      "tensor(-3.1131e-06, device='cuda:3')\n",
      "tensor(-3.1131e-06, device='cuda:3')\n",
      "tensor(-3.8798e-07, device='cuda:3')\n",
      "tensor(8.4225e-09, device='cuda:3')\n",
      "tensor(-1.6363e-06, device='cuda:3')\n",
      "tensor(-1.6363e-06, device='cuda:3')\n",
      "tensor(7.9335e-09, device='cuda:3')\n",
      "tensor(-1.7522e-08, device='cuda:3')\n",
      "tensor(-8.8309e-06, device='cuda:3')\n",
      "tensor(-8.8309e-06, device='cuda:3')\n",
      "tensor(-1.9883e-09, device='cuda:3')\n",
      "tensor(0., device='cuda:3')\n",
      "tensor(3.6698e-07, device='cuda:3')\n",
      "tensor(3.6698e-07, device='cuda:3')\n",
      "tensor(4.2585e-08, device='cuda:3')\n",
      "tensor(-2.9735e-05, device='cuda:3')\n",
      "tensor(-7.0262e-11, device='cuda:3')\n",
      "tensor(-3.5479e-10, device='cuda:3')\n"
     ]
    },
    {
     "data": {
      "application/vnd.jupyter.widget-view+json": {
       "model_id": "918cfb5a8c124fb0911069e57f166a63",
       "version_major": 2,
       "version_minor": 0
      },
      "text/plain": [
       "HBox(children=(FloatProgress(value=0.0, max=42.0), HTML(value='')))"
      ]
     },
     "metadata": {},
     "output_type": "display_data"
    },
    {
     "name": "stdout",
     "output_type": "stream",
     "text": [
      "\n",
      "epoch time: 111.82466244697571\n",
      "mean loss train: 0.6630234031450181, mean loss val: 0.8194242582775297\n",
      "accuracy train: 0.7826904761904762, accuracy val: 0.7357142857142858\n",
      "---------------------------------------------------------------------------------------------------\n",
      "Epoch: 53, Learning Rate: 0.00025\n",
      "\n"
     ]
    },
    {
     "data": {
      "application/vnd.jupyter.widget-view+json": {
       "model_id": "b2fe359e69164c4ba5662592a5ef00cd",
       "version_major": 2,
       "version_minor": 0
      },
      "text/plain": [
       "HBox(children=(FloatProgress(value=0.0, max=657.0), HTML(value='')))"
      ]
     },
     "metadata": {},
     "output_type": "display_data"
    },
    {
     "name": "stdout",
     "output_type": "stream",
     "text": [
      "\n",
      "tensor(3.9152e-07, device='cuda:3')\n",
      "tensor(-4.6840e-08, device='cuda:3')\n",
      "tensor(1.4722e-05, device='cuda:3')\n",
      "tensor(1.4722e-05, device='cuda:3')\n",
      "tensor(3.6352e-07, device='cuda:3')\n",
      "tensor(1.5174e-08, device='cuda:3')\n",
      "tensor(2.6528e-06, device='cuda:3')\n",
      "tensor(2.6528e-06, device='cuda:3')\n",
      "tensor(2.1524e-08, device='cuda:3')\n",
      "tensor(2.9719e-07, device='cuda:3')\n",
      "tensor(-2.1704e-05, device='cuda:3')\n",
      "tensor(-2.1704e-05, device='cuda:3')\n",
      "tensor(-3.8669e-09, device='cuda:3')\n",
      "tensor(0., device='cuda:3')\n",
      "tensor(-1.1096e-06, device='cuda:3')\n",
      "tensor(-1.1096e-06, device='cuda:3')\n",
      "tensor(5.0473e-07, device='cuda:3')\n",
      "tensor(-7.7000e-05, device='cuda:3')\n",
      "tensor(-7.2125e-11, device='cuda:3')\n",
      "tensor(-5.3218e-10, device='cuda:3')\n"
     ]
    },
    {
     "data": {
      "application/vnd.jupyter.widget-view+json": {
       "model_id": "7be17d92bbbb492a97380d1b7addc644",
       "version_major": 2,
       "version_minor": 0
      },
      "text/plain": [
       "HBox(children=(FloatProgress(value=0.0, max=42.0), HTML(value='')))"
      ]
     },
     "metadata": {},
     "output_type": "display_data"
    },
    {
     "name": "stdout",
     "output_type": "stream",
     "text": [
      "\n",
      "epoch time: 111.78771686553955\n",
      "mean loss train: 0.6621436253502255, mean loss val: 0.8419303981236049\n",
      "accuracy train: 0.783547619047619, accuracy val: 0.7333333333333333\n",
      "---------------------------------------------------------------------------------------------------\n",
      "Epoch: 54, Learning Rate: 0.00025\n",
      "\n"
     ]
    },
    {
     "data": {
      "application/vnd.jupyter.widget-view+json": {
       "model_id": "0eb8b10bdda74d6ea5bf017217f832e1",
       "version_major": 2,
       "version_minor": 0
      },
      "text/plain": [
       "HBox(children=(FloatProgress(value=0.0, max=657.0), HTML(value='')))"
      ]
     },
     "metadata": {},
     "output_type": "display_data"
    },
    {
     "name": "stdout",
     "output_type": "stream",
     "text": [
      "\n",
      "tensor(-5.0889e-06, device='cuda:3')\n",
      "tensor(-9.2227e-09, device='cuda:3')\n",
      "tensor(4.0071e-05, device='cuda:3')\n",
      "tensor(4.0071e-05, device='cuda:3')\n",
      "tensor(2.5133e-07, device='cuda:3')\n",
      "tensor(6.0403e-08, device='cuda:3')\n",
      "tensor(-1.2586e-07, device='cuda:3')\n",
      "tensor(-1.2586e-07, device='cuda:3')\n",
      "tensor(7.8121e-09, device='cuda:3')\n",
      "tensor(-2.3205e-07, device='cuda:3')\n",
      "tensor(2.6940e-05, device='cuda:3')\n",
      "tensor(2.6940e-05, device='cuda:3')\n",
      "tensor(1.6239e-08, device='cuda:3')\n",
      "tensor(0., device='cuda:3')\n",
      "tensor(2.1378e-05, device='cuda:3')\n",
      "tensor(2.1378e-05, device='cuda:3')\n",
      "tensor(-9.3184e-07, device='cuda:3')\n",
      "tensor(0.0002, device='cuda:3')\n",
      "tensor(1.2310e-10, device='cuda:3')\n",
      "tensor(-8.8697e-10, device='cuda:3')\n"
     ]
    },
    {
     "data": {
      "application/vnd.jupyter.widget-view+json": {
       "model_id": "d04396164dc94fcda75ed822e4debde6",
       "version_major": 2,
       "version_minor": 0
      },
      "text/plain": [
       "HBox(children=(FloatProgress(value=0.0, max=42.0), HTML(value='')))"
      ]
     },
     "metadata": {},
     "output_type": "display_data"
    },
    {
     "name": "stdout",
     "output_type": "stream",
     "text": [
      "\n",
      "epoch time: 109.51286363601685\n",
      "mean loss train: 0.6616489916301909, mean loss val: 0.8574701944986979\n",
      "accuracy train: 0.7840952380952381, accuracy val: 0.7330476190476191\n",
      "---------------------------------------------------------------------------------------------------\n",
      "Epoch: 55, Learning Rate: 0.00025\n",
      "\n"
     ]
    },
    {
     "data": {
      "application/vnd.jupyter.widget-view+json": {
       "model_id": "76b7b0f07d8d489f9d1830ca27916591",
       "version_major": 2,
       "version_minor": 0
      },
      "text/plain": [
       "HBox(children=(FloatProgress(value=0.0, max=657.0), HTML(value='')))"
      ]
     },
     "metadata": {},
     "output_type": "display_data"
    },
    {
     "name": "stdout",
     "output_type": "stream",
     "text": [
      "\n",
      "tensor(9.7135e-06, device='cuda:3')\n",
      "tensor(9.1326e-07, device='cuda:3')\n",
      "tensor(-0.0009, device='cuda:3')\n",
      "tensor(-0.0009, device='cuda:3')\n",
      "tensor(1.0868e-07, device='cuda:3')\n",
      "tensor(1.8237e-08, device='cuda:3')\n",
      "tensor(3.9214e-05, device='cuda:3')\n",
      "tensor(3.9214e-05, device='cuda:3')\n",
      "tensor(1.1223e-08, device='cuda:3')\n",
      "tensor(1.2455e-07, device='cuda:3')\n",
      "tensor(-1.3031e-05, device='cuda:3')\n",
      "tensor(-1.3031e-05, device='cuda:3')\n",
      "tensor(-9.4298e-09, device='cuda:3')\n",
      "tensor(0., device='cuda:3')\n",
      "tensor(1.0334e-05, device='cuda:3')\n",
      "tensor(1.0334e-05, device='cuda:3')\n",
      "tensor(5.4683e-07, device='cuda:3')\n",
      "tensor(-6.6067e-05, device='cuda:3')\n",
      "tensor(8.2338e-10, device='cuda:3')\n",
      "tensor(3.0157e-09, device='cuda:3')\n"
     ]
    },
    {
     "data": {
      "application/vnd.jupyter.widget-view+json": {
       "model_id": "08a024c99e704f0aa59961b0b23f0e25",
       "version_major": 2,
       "version_minor": 0
      },
      "text/plain": [
       "HBox(children=(FloatProgress(value=0.0, max=42.0), HTML(value='')))"
      ]
     },
     "metadata": {},
     "output_type": "display_data"
    },
    {
     "name": "stdout",
     "output_type": "stream",
     "text": [
      "\n",
      "epoch time: 107.86331224441528\n",
      "mean loss train: 0.6606105878012521, mean loss val: 0.8655355791364397\n",
      "accuracy train: 0.7838333333333334, accuracy val: 0.7347619047619047\n",
      "---------------------------------------------------------------------------------------------------\n",
      "Epoch: 56, Learning Rate: 0.00025\n",
      "\n"
     ]
    },
    {
     "data": {
      "application/vnd.jupyter.widget-view+json": {
       "model_id": "fa1d18bbdaa441018b6367ae155a13a6",
       "version_major": 2,
       "version_minor": 0
      },
      "text/plain": [
       "HBox(children=(FloatProgress(value=0.0, max=657.0), HTML(value='')))"
      ]
     },
     "metadata": {},
     "output_type": "display_data"
    },
    {
     "name": "stdout",
     "output_type": "stream",
     "text": [
      "\n",
      "tensor(-2.5474e-08, device='cuda:3')\n",
      "tensor(7.1844e-10, device='cuda:3')\n",
      "tensor(1.0026e-07, device='cuda:3')\n",
      "tensor(1.0026e-07, device='cuda:3')\n",
      "tensor(1.3100e-09, device='cuda:3')\n",
      "tensor(-5.9304e-11, device='cuda:3')\n",
      "tensor(-6.0391e-09, device='cuda:3')\n",
      "tensor(-6.0391e-09, device='cuda:3')\n",
      "tensor(2.7328e-11, device='cuda:3')\n",
      "tensor(1.2243e-10, device='cuda:3')\n",
      "tensor(-2.8875e-08, device='cuda:3')\n",
      "tensor(-2.8875e-08, device='cuda:3')\n",
      "tensor(-4.7329e-12, device='cuda:3')\n",
      "tensor(0., device='cuda:3')\n",
      "tensor(-1.2304e-08, device='cuda:3')\n",
      "tensor(-1.2304e-08, device='cuda:3')\n",
      "tensor(1.1434e-09, device='cuda:3')\n",
      "tensor(-2.4806e-07, device='cuda:3')\n",
      "tensor(8.9729e-11, device='cuda:3')\n",
      "tensor(-1.0644e-09, device='cuda:3')\n"
     ]
    },
    {
     "data": {
      "application/vnd.jupyter.widget-view+json": {
       "model_id": "86edafd6d4fa4e36a1abeff7ed738fce",
       "version_major": 2,
       "version_minor": 0
      },
      "text/plain": [
       "HBox(children=(FloatProgress(value=0.0, max=42.0), HTML(value='')))"
      ]
     },
     "metadata": {},
     "output_type": "display_data"
    },
    {
     "name": "stdout",
     "output_type": "stream",
     "text": [
      "\n",
      "epoch time: 111.04360389709473\n",
      "mean loss train: 0.6602297245661418, mean loss val: 0.8715198146275112\n",
      "accuracy train: 0.7852380952380953, accuracy val: 0.735904761904762\n",
      "---------------------------------------------------------------------------------------------------\n",
      "Epoch: 57, Learning Rate: 0.00025\n",
      "\n"
     ]
    },
    {
     "data": {
      "application/vnd.jupyter.widget-view+json": {
       "model_id": "1aee673e3c2a4170b6932cafb8548994",
       "version_major": 2,
       "version_minor": 0
      },
      "text/plain": [
       "HBox(children=(FloatProgress(value=0.0, max=657.0), HTML(value='')))"
      ]
     },
     "metadata": {},
     "output_type": "display_data"
    },
    {
     "name": "stdout",
     "output_type": "stream",
     "text": [
      "\n",
      "tensor(3.3101e-05, device='cuda:3')\n",
      "tensor(-9.9448e-07, device='cuda:3')\n",
      "tensor(-0.0005, device='cuda:3')\n",
      "tensor(-0.0005, device='cuda:3')\n",
      "tensor(3.7211e-06, device='cuda:3')\n",
      "tensor(4.0528e-08, device='cuda:3')\n",
      "tensor(-4.2821e-05, device='cuda:3')\n",
      "tensor(-4.2821e-05, device='cuda:3')\n",
      "tensor(3.9464e-08, device='cuda:3')\n",
      "tensor(9.9686e-07, device='cuda:3')\n",
      "tensor(-0.0001, device='cuda:3')\n",
      "tensor(-0.0001, device='cuda:3')\n",
      "tensor(3.9711e-08, device='cuda:3')\n",
      "tensor(0., device='cuda:3')\n",
      "tensor(-1.9819e-05, device='cuda:3')\n",
      "tensor(-1.9819e-05, device='cuda:3')\n",
      "tensor(4.2949e-06, device='cuda:3')\n",
      "tensor(-0.0004, device='cuda:3')\n",
      "tensor(-1.8645e-10, device='cuda:3')\n",
      "tensor(8.8697e-10, device='cuda:3')\n"
     ]
    },
    {
     "data": {
      "application/vnd.jupyter.widget-view+json": {
       "model_id": "71602a8386cb4124abc2d2934d694632",
       "version_major": 2,
       "version_minor": 0
      },
      "text/plain": [
       "HBox(children=(FloatProgress(value=0.0, max=42.0), HTML(value='')))"
      ]
     },
     "metadata": {},
     "output_type": "display_data"
    },
    {
     "name": "stdout",
     "output_type": "stream",
     "text": [
      "\n",
      "epoch time: 106.61114525794983\n",
      "mean loss train: 0.6595819463275728, mean loss val: 0.8879379403250558\n",
      "accuracy train: 0.7852857142857143, accuracy val: 0.7351428571428571\n",
      "---------------------------------------------------------------------------------------------------\n",
      "Epoch: 58, Learning Rate: 0.00025\n",
      "\n"
     ]
    },
    {
     "data": {
      "application/vnd.jupyter.widget-view+json": {
       "model_id": "c6fd910790a04a52af472eee59516690",
       "version_major": 2,
       "version_minor": 0
      },
      "text/plain": [
       "HBox(children=(FloatProgress(value=0.0, max=657.0), HTML(value='')))"
      ]
     },
     "metadata": {},
     "output_type": "display_data"
    },
    {
     "name": "stdout",
     "output_type": "stream",
     "text": [
      "\n",
      "tensor(-1.4923e-06, device='cuda:3')\n",
      "tensor(-3.0222e-07, device='cuda:3')\n",
      "tensor(7.9818e-05, device='cuda:3')\n",
      "tensor(7.9818e-05, device='cuda:3')\n",
      "tensor(-4.7941e-08, device='cuda:3')\n",
      "tensor(-4.0931e-08, device='cuda:3')\n",
      "tensor(-1.6514e-05, device='cuda:3')\n",
      "tensor(-1.6514e-05, device='cuda:3')\n",
      "tensor(1.0164e-07, device='cuda:3')\n",
      "tensor(-1.9190e-07, device='cuda:3')\n",
      "tensor(1.6585e-05, device='cuda:3')\n",
      "tensor(1.6585e-05, device='cuda:3')\n",
      "tensor(-5.6756e-09, device='cuda:3')\n",
      "tensor(0., device='cuda:3')\n",
      "tensor(-1.2646e-06, device='cuda:3')\n",
      "tensor(-1.2646e-06, device='cuda:3')\n",
      "tensor(-1.2186e-06, device='cuda:3')\n",
      "tensor(0.0002, device='cuda:3')\n",
      "tensor(1.2008e-10, device='cuda:3')\n",
      "tensor(-2.8383e-09, device='cuda:3')\n"
     ]
    },
    {
     "data": {
      "application/vnd.jupyter.widget-view+json": {
       "model_id": "01792e091a624a19881cef312974fae6",
       "version_major": 2,
       "version_minor": 0
      },
      "text/plain": [
       "HBox(children=(FloatProgress(value=0.0, max=42.0), HTML(value='')))"
      ]
     },
     "metadata": {},
     "output_type": "display_data"
    },
    {
     "name": "stdout",
     "output_type": "stream",
     "text": [
      "\n",
      "epoch time: 111.85168623924255\n",
      "mean loss train: 0.6584953495888483, mean loss val: 0.8776264009021577\n",
      "accuracy train: 0.7862142857142858, accuracy val: 0.7324761904761905\n",
      "---------------------------------------------------------------------------------------------------\n",
      "Epoch: 59, Learning Rate: 0.00025\n",
      "\n"
     ]
    },
    {
     "data": {
      "application/vnd.jupyter.widget-view+json": {
       "model_id": "7b0e5ee573ee442cb1a4bcc08bde0c3b",
       "version_major": 2,
       "version_minor": 0
      },
      "text/plain": [
       "HBox(children=(FloatProgress(value=0.0, max=657.0), HTML(value='')))"
      ]
     },
     "metadata": {},
     "output_type": "display_data"
    },
    {
     "name": "stdout",
     "output_type": "stream",
     "text": [
      "\n",
      "tensor(-4.3235e-10, device='cuda:3')\n",
      "tensor(6.5536e-11, device='cuda:3')\n",
      "tensor(-6.7025e-09, device='cuda:3')\n",
      "tensor(-6.7025e-09, device='cuda:3')\n",
      "tensor(8.2632e-11, device='cuda:3')\n",
      "tensor(-4.0878e-12, device='cuda:3')\n",
      "tensor(2.4005e-09, device='cuda:3')\n",
      "tensor(2.4005e-09, device='cuda:3')\n",
      "tensor(2.2473e-11, device='cuda:3')\n",
      "tensor(-2.5396e-10, device='cuda:3')\n",
      "tensor(-6.2431e-09, device='cuda:3')\n",
      "tensor(-6.2431e-09, device='cuda:3')\n",
      "tensor(1.4029e-11, device='cuda:3')\n",
      "tensor(0., device='cuda:3')\n",
      "tensor(-7.6177e-10, device='cuda:3')\n",
      "tensor(-7.6177e-10, device='cuda:3')\n",
      "tensor(-9.4931e-10, device='cuda:3')\n",
      "tensor(-3.1002e-08, device='cuda:3')\n",
      "tensor(9.0491e-10, device='cuda:3')\n",
      "tensor(-3.5479e-10, device='cuda:3')\n"
     ]
    },
    {
     "data": {
      "application/vnd.jupyter.widget-view+json": {
       "model_id": "972c0d05f608433fb0217e0cf3347466",
       "version_major": 2,
       "version_minor": 0
      },
      "text/plain": [
       "HBox(children=(FloatProgress(value=0.0, max=42.0), HTML(value='')))"
      ]
     },
     "metadata": {},
     "output_type": "display_data"
    },
    {
     "name": "stdout",
     "output_type": "stream",
     "text": [
      "\n",
      "epoch time: 111.57606601715088\n",
      "mean loss train: 0.6576207509949094, mean loss val: 0.8536514398484003\n",
      "accuracy train: 0.7862142857142858, accuracy val: 0.7356190476190476\n",
      "---------------------------------------------------------------------------------------------------\n",
      "Epoch: 60, Learning Rate: 0.00025\n",
      "\n"
     ]
    },
    {
     "data": {
      "application/vnd.jupyter.widget-view+json": {
       "model_id": "b02d519e34ff4e70818ef0679755426b",
       "version_major": 2,
       "version_minor": 0
      },
      "text/plain": [
       "HBox(children=(FloatProgress(value=0.0, max=657.0), HTML(value='')))"
      ]
     },
     "metadata": {},
     "output_type": "display_data"
    },
    {
     "name": "stdout",
     "output_type": "stream",
     "text": [
      "\n",
      "tensor(-3.5281e-05, device='cuda:3')\n",
      "tensor(9.8893e-07, device='cuda:3')\n",
      "tensor(-0.0014, device='cuda:3')\n",
      "tensor(-0.0014, device='cuda:3')\n",
      "tensor(-9.2574e-07, device='cuda:3')\n",
      "tensor(2.1975e-07, device='cuda:3')\n",
      "tensor(-2.7952e-05, device='cuda:3')\n",
      "tensor(-2.7952e-05, device='cuda:3')\n",
      "tensor(-1.4015e-07, device='cuda:3')\n",
      "tensor(-2.1108e-07, device='cuda:3')\n",
      "tensor(-1.8451e-05, device='cuda:3')\n",
      "tensor(-1.8451e-05, device='cuda:3')\n",
      "tensor(-3.3572e-08, device='cuda:3')\n",
      "tensor(0., device='cuda:3')\n",
      "tensor(2.9839e-07, device='cuda:3')\n",
      "tensor(2.9839e-07, device='cuda:3')\n",
      "tensor(9.8388e-07, device='cuda:3')\n",
      "tensor(-0.0002, device='cuda:3')\n",
      "tensor(1.8491e-10, device='cuda:3')\n",
      "tensor(2.8383e-09, device='cuda:3')\n"
     ]
    },
    {
     "data": {
      "application/vnd.jupyter.widget-view+json": {
       "model_id": "785d66b3afda4422931f9083a6760e9e",
       "version_major": 2,
       "version_minor": 0
      },
      "text/plain": [
       "HBox(children=(FloatProgress(value=0.0, max=42.0), HTML(value='')))"
      ]
     },
     "metadata": {},
     "output_type": "display_data"
    },
    {
     "name": "stdout",
     "output_type": "stream",
     "text": [
      "\n",
      "epoch time: 113.59770965576172\n",
      "mean loss train: 0.6581403970945449, mean loss val: 0.8850345066615514\n",
      "accuracy train: 0.7867142857142857, accuracy val: 0.7318095238095238\n",
      "---------------------------------------------------------------------------------------------------\n",
      "Epoch: 61, Learning Rate: 0.00025\n",
      "\n"
     ]
    },
    {
     "data": {
      "application/vnd.jupyter.widget-view+json": {
       "model_id": "74c65ec7182d41c4a47a646e6c959369",
       "version_major": 2,
       "version_minor": 0
      },
      "text/plain": [
       "HBox(children=(FloatProgress(value=0.0, max=657.0), HTML(value='')))"
      ]
     },
     "metadata": {},
     "output_type": "display_data"
    },
    {
     "name": "stdout",
     "output_type": "stream",
     "text": [
      "\n",
      "tensor(1.0973e-05, device='cuda:3')\n",
      "tensor(1.1760e-07, device='cuda:3')\n",
      "tensor(-0.0001, device='cuda:3')\n",
      "tensor(-0.0001, device='cuda:3')\n",
      "tensor(-2.4943e-06, device='cuda:3')\n",
      "tensor(-3.6429e-08, device='cuda:3')\n",
      "tensor(5.1244e-05, device='cuda:3')\n",
      "tensor(5.1244e-05, device='cuda:3')\n",
      "tensor(1.5472e-08, device='cuda:3')\n",
      "tensor(5.9139e-07, device='cuda:3')\n",
      "tensor(-1.9004e-05, device='cuda:3')\n",
      "tensor(-1.9004e-05, device='cuda:3')\n",
      "tensor(-1.8932e-08, device='cuda:3')\n",
      "tensor(0., device='cuda:3')\n",
      "tensor(8.5796e-06, device='cuda:3')\n",
      "tensor(8.5796e-06, device='cuda:3')\n",
      "tensor(6.5207e-07, device='cuda:3')\n",
      "tensor(-6.8064e-05, device='cuda:3')\n",
      "tensor(3.1095e-10, device='cuda:3')\n",
      "tensor(3.1931e-09, device='cuda:3')\n"
     ]
    },
    {
     "data": {
      "application/vnd.jupyter.widget-view+json": {
       "model_id": "e5c836b2588b432bb96c7ccf81f93875",
       "version_major": 2,
       "version_minor": 0
      },
      "text/plain": [
       "HBox(children=(FloatProgress(value=0.0, max=42.0), HTML(value='')))"
      ]
     },
     "metadata": {},
     "output_type": "display_data"
    },
    {
     "name": "stdout",
     "output_type": "stream",
     "text": [
      "\n",
      "epoch time: 111.22996115684509\n",
      "mean loss train: 0.6562740461712792, mean loss val: 0.8844529840378534\n",
      "accuracy train: 0.7871428571428571, accuracy val: 0.7324761904761905\n",
      "---------------------------------------------------------------------------------------------------\n",
      "Epoch: 62, Learning Rate: 0.00025\n",
      "\n"
     ]
    },
    {
     "data": {
      "application/vnd.jupyter.widget-view+json": {
       "model_id": "cf70a1bd2ac54517aa1dc3e50574e544",
       "version_major": 2,
       "version_minor": 0
      },
      "text/plain": [
       "HBox(children=(FloatProgress(value=0.0, max=657.0), HTML(value='')))"
      ]
     },
     "metadata": {},
     "output_type": "display_data"
    },
    {
     "name": "stdout",
     "output_type": "stream",
     "text": [
      "\n",
      "tensor(-6.4127e-05, device='cuda:3')\n",
      "tensor(-2.4503e-06, device='cuda:3')\n",
      "tensor(0.0012, device='cuda:3')\n",
      "tensor(0.0012, device='cuda:3')\n",
      "tensor(7.7655e-06, device='cuda:3')\n",
      "tensor(-2.3447e-08, device='cuda:3')\n",
      "tensor(-0.0002, device='cuda:3')\n",
      "tensor(-0.0002, device='cuda:3')\n",
      "tensor(-1.9639e-07, device='cuda:3')\n",
      "tensor(-1.9255e-06, device='cuda:3')\n",
      "tensor(0.0001, device='cuda:3')\n",
      "tensor(0.0001, device='cuda:3')\n",
      "tensor(9.5297e-08, device='cuda:3')\n",
      "tensor(0., device='cuda:3')\n",
      "tensor(-1.5580e-05, device='cuda:3')\n",
      "tensor(-1.5580e-05, device='cuda:3')\n",
      "tensor(5.8511e-06, device='cuda:3')\n",
      "tensor(-0.0008, device='cuda:3')\n",
      "tensor(3.5110e-10, device='cuda:3')\n",
      "tensor(-3.5479e-10, device='cuda:3')\n"
     ]
    },
    {
     "data": {
      "application/vnd.jupyter.widget-view+json": {
       "model_id": "e65999a031514fdc97d09c9701b96bfa",
       "version_major": 2,
       "version_minor": 0
      },
      "text/plain": [
       "HBox(children=(FloatProgress(value=0.0, max=42.0), HTML(value='')))"
      ]
     },
     "metadata": {},
     "output_type": "display_data"
    },
    {
     "name": "stdout",
     "output_type": "stream",
     "text": [
      "\n",
      "epoch time: 114.63648343086243\n",
      "mean loss train: 0.6563094474474589, mean loss val: 0.8712072201683407\n",
      "accuracy train: 0.7872142857142858, accuracy val: 0.7343809523809524\n",
      "---------------------------------------------------------------------------------------------------\n",
      "Epoch: 63, Learning Rate: 0.00025\n",
      "\n"
     ]
    },
    {
     "data": {
      "application/vnd.jupyter.widget-view+json": {
       "model_id": "2d35da8b736e45a3b984f26964879362",
       "version_major": 2,
       "version_minor": 0
      },
      "text/plain": [
       "HBox(children=(FloatProgress(value=0.0, max=657.0), HTML(value='')))"
      ]
     },
     "metadata": {},
     "output_type": "display_data"
    },
    {
     "name": "stdout",
     "output_type": "stream",
     "text": [
      "\n",
      "tensor(4.1672e-07, device='cuda:3')\n",
      "tensor(-2.3572e-07, device='cuda:3')\n",
      "tensor(2.3358e-05, device='cuda:3')\n",
      "tensor(2.3358e-05, device='cuda:3')\n",
      "tensor(2.9056e-06, device='cuda:3')\n",
      "tensor(3.2734e-08, device='cuda:3')\n",
      "tensor(-3.5745e-05, device='cuda:3')\n",
      "tensor(-3.5745e-05, device='cuda:3')\n",
      "tensor(-6.5329e-08, device='cuda:3')\n",
      "tensor(-3.9558e-07, device='cuda:3')\n",
      "tensor(1.3439e-05, device='cuda:3')\n",
      "tensor(1.3439e-05, device='cuda:3')\n",
      "tensor(5.9030e-08, device='cuda:3')\n",
      "tensor(0., device='cuda:3')\n",
      "tensor(5.5988e-06, device='cuda:3')\n",
      "tensor(5.5988e-06, device='cuda:3')\n",
      "tensor(-5.5236e-06, device='cuda:3')\n",
      "tensor(0.0004, device='cuda:3')\n",
      "tensor(-2.0034e-10, device='cuda:3')\n",
      "tensor(-1.4192e-09, device='cuda:3')\n"
     ]
    },
    {
     "data": {
      "application/vnd.jupyter.widget-view+json": {
       "model_id": "9932da2c2a2e4fb0a74f0b9ded7bfb4d",
       "version_major": 2,
       "version_minor": 0
      },
      "text/plain": [
       "HBox(children=(FloatProgress(value=0.0, max=42.0), HTML(value='')))"
      ]
     },
     "metadata": {},
     "output_type": "display_data"
    },
    {
     "name": "stdout",
     "output_type": "stream",
     "text": [
      "\n",
      "epoch time: 112.63989925384521\n",
      "mean loss train: 0.6557505617595855, mean loss val: 0.8849478919619606\n",
      "accuracy train: 0.7881190476190476, accuracy val: 0.7333333333333333\n",
      "---------------------------------------------------------------------------------------------------\n",
      "Epoch: 64, Learning Rate: 0.00025\n",
      "\n"
     ]
    },
    {
     "data": {
      "application/vnd.jupyter.widget-view+json": {
       "model_id": "02319da7d3f54eb088cfaa146f6ce0b2",
       "version_major": 2,
       "version_minor": 0
      },
      "text/plain": [
       "HBox(children=(FloatProgress(value=0.0, max=657.0), HTML(value='')))"
      ]
     },
     "metadata": {},
     "output_type": "display_data"
    },
    {
     "name": "stdout",
     "output_type": "stream",
     "text": [
      "\n",
      "tensor(1.9765e-11, device='cuda:3')\n",
      "tensor(-2.4291e-12, device='cuda:3')\n",
      "tensor(-1.8927e-10, device='cuda:3')\n",
      "tensor(-1.8927e-10, device='cuda:3')\n",
      "tensor(8.5422e-12, device='cuda:3')\n",
      "tensor(6.4573e-14, device='cuda:3')\n",
      "tensor(-8.6829e-11, device='cuda:3')\n",
      "tensor(-8.6829e-11, device='cuda:3')\n",
      "tensor(2.3023e-13, device='cuda:3')\n",
      "tensor(4.8232e-13, device='cuda:3')\n",
      "tensor(2.0564e-11, device='cuda:3')\n",
      "tensor(2.0564e-11, device='cuda:3')\n",
      "tensor(6.4586e-13, device='cuda:3')\n",
      "tensor(0., device='cuda:3')\n",
      "tensor(1.7887e-11, device='cuda:3')\n",
      "tensor(1.7887e-11, device='cuda:3')\n",
      "tensor(-2.3992e-11, device='cuda:3')\n",
      "tensor(-1.6399e-09, device='cuda:3')\n",
      "tensor(1.5467e-09, device='cuda:3')\n",
      "tensor(-3.5479e-10, device='cuda:3')\n"
     ]
    },
    {
     "data": {
      "application/vnd.jupyter.widget-view+json": {
       "model_id": "76e658e7d8914057a99362dc7b8e7dee",
       "version_major": 2,
       "version_minor": 0
      },
      "text/plain": [
       "HBox(children=(FloatProgress(value=0.0, max=42.0), HTML(value='')))"
      ]
     },
     "metadata": {},
     "output_type": "display_data"
    },
    {
     "name": "stdout",
     "output_type": "stream",
     "text": [
      "\n",
      "epoch time: 112.55312705039978\n",
      "mean loss train: 0.6530747820309231, mean loss val: 0.9061685979933966\n",
      "accuracy train: 0.7885238095238095, accuracy val: 0.733904761904762\n",
      "---------------------------------------------------------------------------------------------------\n",
      "Epoch: 65, Learning Rate: 0.00025\n",
      "\n"
     ]
    },
    {
     "data": {
      "application/vnd.jupyter.widget-view+json": {
       "model_id": "6c68ea2ab79e4636886b02b367a7ca90",
       "version_major": 2,
       "version_minor": 0
      },
      "text/plain": [
       "HBox(children=(FloatProgress(value=0.0, max=657.0), HTML(value='')))"
      ]
     },
     "metadata": {},
     "output_type": "display_data"
    },
    {
     "name": "stdout",
     "output_type": "stream",
     "text": [
      "\n",
      "tensor(7.0155e-09, device='cuda:3')\n",
      "tensor(7.4667e-09, device='cuda:3')\n",
      "tensor(-3.3036e-06, device='cuda:3')\n",
      "tensor(-3.3036e-06, device='cuda:3')\n",
      "tensor(7.6785e-09, device='cuda:3')\n",
      "tensor(-1.3127e-10, device='cuda:3')\n",
      "tensor(1.7160e-09, device='cuda:3')\n",
      "tensor(1.7160e-09, device='cuda:3')\n",
      "tensor(1.4551e-10, device='cuda:3')\n",
      "tensor(4.3441e-13, device='cuda:3')\n",
      "tensor(-4.0716e-07, device='cuda:3')\n",
      "tensor(-4.0716e-07, device='cuda:3')\n",
      "tensor(1.8103e-12, device='cuda:3')\n",
      "tensor(0., device='cuda:3')\n",
      "tensor(4.1229e-09, device='cuda:3')\n",
      "tensor(4.1229e-09, device='cuda:3')\n",
      "tensor(-2.5387e-09, device='cuda:3')\n",
      "tensor(-9.4127e-07, device='cuda:3')\n",
      "tensor(1.2699e-09, device='cuda:3')\n",
      "tensor(1.5966e-09, device='cuda:3')\n"
     ]
    },
    {
     "data": {
      "application/vnd.jupyter.widget-view+json": {
       "model_id": "fcf47a66e8514d57a2853141e097ee18",
       "version_major": 2,
       "version_minor": 0
      },
      "text/plain": [
       "HBox(children=(FloatProgress(value=0.0, max=42.0), HTML(value='')))"
      ]
     },
     "metadata": {},
     "output_type": "display_data"
    },
    {
     "name": "stdout",
     "output_type": "stream",
     "text": [
      "\n",
      "epoch time: 111.64929366111755\n",
      "mean loss train: 0.6538829292229243, mean loss val: 0.8970567205519904\n",
      "accuracy train: 0.7888095238095238, accuracy val: 0.7321904761904762\n",
      "---------------------------------------------------------------------------------------------------\n",
      "Epoch: 66, Learning Rate: 0.00025\n",
      "\n"
     ]
    },
    {
     "data": {
      "application/vnd.jupyter.widget-view+json": {
       "model_id": "64b9f0ebbec64edcb521fc051bf3e201",
       "version_major": 2,
       "version_minor": 0
      },
      "text/plain": [
       "HBox(children=(FloatProgress(value=0.0, max=657.0), HTML(value='')))"
      ]
     },
     "metadata": {},
     "output_type": "display_data"
    },
    {
     "name": "stdout",
     "output_type": "stream",
     "text": [
      "\n",
      "tensor(-1.6464e-05, device='cuda:3')\n",
      "tensor(-1.6461e-07, device='cuda:3')\n",
      "tensor(-0.0002, device='cuda:3')\n",
      "tensor(-0.0002, device='cuda:3')\n",
      "tensor(-1.2829e-06, device='cuda:3')\n",
      "tensor(4.3027e-07, device='cuda:3')\n",
      "tensor(-4.4000e-05, device='cuda:3')\n",
      "tensor(-4.4000e-05, device='cuda:3')\n",
      "tensor(1.9322e-07, device='cuda:3')\n",
      "tensor(9.0572e-08, device='cuda:3')\n",
      "tensor(-6.9962e-05, device='cuda:3')\n",
      "tensor(-6.9962e-05, device='cuda:3')\n",
      "tensor(-5.1844e-08, device='cuda:3')\n",
      "tensor(0., device='cuda:3')\n",
      "tensor(-2.2599e-05, device='cuda:3')\n",
      "tensor(-2.2599e-05, device='cuda:3')\n",
      "tensor(-1.7579e-07, device='cuda:3')\n",
      "tensor(-0.0005, device='cuda:3')\n",
      "tensor(4.0412e-10, device='cuda:3')\n",
      "tensor(-7.0958e-10, device='cuda:3')\n"
     ]
    },
    {
     "data": {
      "application/vnd.jupyter.widget-view+json": {
       "model_id": "b583870ba0a2449d9c9b5659ba068cd1",
       "version_major": 2,
       "version_minor": 0
      },
      "text/plain": [
       "HBox(children=(FloatProgress(value=0.0, max=42.0), HTML(value='')))"
      ]
     },
     "metadata": {},
     "output_type": "display_data"
    },
    {
     "name": "stdout",
     "output_type": "stream",
     "text": [
      "\n",
      "epoch time: 110.62492394447327\n",
      "mean loss train: 0.6539505799157279, mean loss val: 0.9406862327938988\n",
      "accuracy train: 0.7893095238095238, accuracy val: 0.7317142857142858\n",
      "---------------------------------------------------------------------------------------------------\n",
      "Epoch: 67, Learning Rate: 0.00025\n",
      "\n"
     ]
    },
    {
     "data": {
      "application/vnd.jupyter.widget-view+json": {
       "model_id": "1e1154ce7d90402fa297a710a8260a39",
       "version_major": 2,
       "version_minor": 0
      },
      "text/plain": [
       "HBox(children=(FloatProgress(value=0.0, max=657.0), HTML(value='')))"
      ]
     },
     "metadata": {},
     "output_type": "display_data"
    },
    {
     "name": "stdout",
     "output_type": "stream",
     "text": [
      "\n",
      "tensor(8.3678e-05, device='cuda:3')\n",
      "tensor(-1.4728e-05, device='cuda:3')\n",
      "tensor(0.0086, device='cuda:3')\n",
      "tensor(0.0086, device='cuda:3')\n",
      "tensor(-1.8525e-05, device='cuda:3')\n",
      "tensor(8.3178e-07, device='cuda:3')\n",
      "tensor(-8.3507e-05, device='cuda:3')\n",
      "tensor(-8.3507e-05, device='cuda:3')\n",
      "tensor(4.3190e-07, device='cuda:3')\n",
      "tensor(-1.1476e-06, device='cuda:3')\n",
      "tensor(0.0002, device='cuda:3')\n",
      "tensor(0.0002, device='cuda:3')\n",
      "tensor(-9.3827e-08, device='cuda:3')\n",
      "tensor(0., device='cuda:3')\n",
      "tensor(4.4046e-05, device='cuda:3')\n",
      "tensor(4.4046e-05, device='cuda:3')\n",
      "tensor(3.1457e-06, device='cuda:3')\n",
      "tensor(-0.0008, device='cuda:3')\n",
      "tensor(-1.2854e-10, device='cuda:3')\n",
      "tensor(1.7739e-10, device='cuda:3')\n"
     ]
    },
    {
     "data": {
      "application/vnd.jupyter.widget-view+json": {
       "model_id": "340342eb42e54e708c89205fa3c65c64",
       "version_major": 2,
       "version_minor": 0
      },
      "text/plain": [
       "HBox(children=(FloatProgress(value=0.0, max=42.0), HTML(value='')))"
      ]
     },
     "metadata": {},
     "output_type": "display_data"
    },
    {
     "name": "stdout",
     "output_type": "stream",
     "text": [
      "\n",
      "epoch time: 108.19891595840454\n",
      "mean loss train: 0.6544399284748804, mean loss val: 0.9526513497488839\n",
      "accuracy train: 0.7888809523809523, accuracy val: 0.7265714285714285\n",
      "---------------------------------------------------------------------------------------------------\n",
      "Epoch: 68, Learning Rate: 0.00025\n",
      "\n"
     ]
    },
    {
     "data": {
      "application/vnd.jupyter.widget-view+json": {
       "model_id": "26fac6cb58d749a18336e8dfbf7802e7",
       "version_major": 2,
       "version_minor": 0
      },
      "text/plain": [
       "HBox(children=(FloatProgress(value=0.0, max=657.0), HTML(value='')))"
      ]
     },
     "metadata": {},
     "output_type": "display_data"
    },
    {
     "name": "stdout",
     "output_type": "stream",
     "text": [
      "\n",
      "tensor(4.4599e-07, device='cuda:3')\n",
      "tensor(-1.9372e-08, device='cuda:3')\n",
      "tensor(-9.5352e-06, device='cuda:3')\n",
      "tensor(-9.5352e-06, device='cuda:3')\n",
      "tensor(2.4251e-08, device='cuda:3')\n",
      "tensor(1.7860e-09, device='cuda:3')\n",
      "tensor(4.5007e-07, device='cuda:3')\n",
      "tensor(4.5007e-07, device='cuda:3')\n",
      "tensor(-5.0576e-09, device='cuda:3')\n",
      "tensor(-8.3899e-09, device='cuda:3')\n",
      "tensor(-8.3598e-07, device='cuda:3')\n",
      "tensor(-8.3598e-07, device='cuda:3')\n",
      "tensor(-6.5163e-11, device='cuda:3')\n",
      "tensor(0., device='cuda:3')\n",
      "tensor(-7.4814e-08, device='cuda:3')\n",
      "tensor(-7.4814e-08, device='cuda:3')\n",
      "tensor(-1.5614e-08, device='cuda:3')\n",
      "tensor(-5.2597e-06, device='cuda:3')\n",
      "tensor(4.2209e-10, device='cuda:3')\n",
      "tensor(1.0644e-09, device='cuda:3')\n"
     ]
    },
    {
     "data": {
      "application/vnd.jupyter.widget-view+json": {
       "model_id": "5e2b9fe5767e4444915e01a822c96895",
       "version_major": 2,
       "version_minor": 0
      },
      "text/plain": [
       "HBox(children=(FloatProgress(value=0.0, max=42.0), HTML(value='')))"
      ]
     },
     "metadata": {},
     "output_type": "display_data"
    },
    {
     "name": "stdout",
     "output_type": "stream",
     "text": [
      "\n",
      "epoch time: 111.26099848747253\n",
      "mean loss train: 0.6523906173478989, mean loss val: 0.9332028009323847\n",
      "accuracy train: 0.79, accuracy val: 0.729904761904762\n",
      "---------------------------------------------------------------------------------------------------\n",
      "Epoch: 69, Learning Rate: 0.00025\n",
      "\n"
     ]
    },
    {
     "data": {
      "application/vnd.jupyter.widget-view+json": {
       "model_id": "92aaa6bf6b284990969997aae2b231fe",
       "version_major": 2,
       "version_minor": 0
      },
      "text/plain": [
       "HBox(children=(FloatProgress(value=0.0, max=657.0), HTML(value='')))"
      ]
     },
     "metadata": {},
     "output_type": "display_data"
    },
    {
     "name": "stdout",
     "output_type": "stream",
     "text": [
      "\n",
      "tensor(2.8180e-07, device='cuda:3')\n",
      "tensor(1.9136e-07, device='cuda:3')\n",
      "tensor(-3.6010e-06, device='cuda:3')\n",
      "tensor(-3.6010e-06, device='cuda:3')\n",
      "tensor(-6.6358e-07, device='cuda:3')\n",
      "tensor(-9.7563e-09, device='cuda:3')\n",
      "tensor(8.1318e-06, device='cuda:3')\n",
      "tensor(8.1318e-06, device='cuda:3')\n",
      "tensor(-4.2007e-08, device='cuda:3')\n",
      "tensor(4.2651e-08, device='cuda:3')\n",
      "tensor(-1.3505e-06, device='cuda:3')\n",
      "tensor(-1.3505e-06, device='cuda:3')\n",
      "tensor(-2.9763e-08, device='cuda:3')\n",
      "tensor(0., device='cuda:3')\n",
      "tensor(-7.6005e-06, device='cuda:3')\n",
      "tensor(-7.6005e-06, device='cuda:3')\n",
      "tensor(1.0355e-06, device='cuda:3')\n",
      "tensor(-0.0001, device='cuda:3')\n",
      "tensor(-7.3361e-10, device='cuda:3')\n",
      "tensor(-2.1287e-09, device='cuda:3')\n"
     ]
    },
    {
     "data": {
      "application/vnd.jupyter.widget-view+json": {
       "model_id": "1787139a7b974fde94f38b40808dcbea",
       "version_major": 2,
       "version_minor": 0
      },
      "text/plain": [
       "HBox(children=(FloatProgress(value=0.0, max=42.0), HTML(value='')))"
      ]
     },
     "metadata": {},
     "output_type": "display_data"
    },
    {
     "name": "stdout",
     "output_type": "stream",
     "text": [
      "\n",
      "epoch time: 110.18178462982178\n",
      "mean loss train: 0.651999454884302, mean loss val: 0.9137165062313988\n",
      "accuracy train: 0.7902142857142858, accuracy val: 0.7313333333333333\n",
      "---------------------------------------------------------------------------------------------------\n",
      "Epoch: 70, Learning Rate: 0.00025\n",
      "\n"
     ]
    },
    {
     "data": {
      "application/vnd.jupyter.widget-view+json": {
       "model_id": "9c71881deb4b4886b19402dcc724a924",
       "version_major": 2,
       "version_minor": 0
      },
      "text/plain": [
       "HBox(children=(FloatProgress(value=0.0, max=657.0), HTML(value='')))"
      ]
     },
     "metadata": {},
     "output_type": "display_data"
    },
    {
     "name": "stdout",
     "output_type": "stream",
     "text": [
      "\n",
      "tensor(-2.4664e-07, device='cuda:3')\n",
      "tensor(-4.5455e-08, device='cuda:3')\n",
      "tensor(1.6316e-05, device='cuda:3')\n",
      "tensor(1.6316e-05, device='cuda:3')\n",
      "tensor(1.6613e-08, device='cuda:3')\n",
      "tensor(5.4290e-10, device='cuda:3')\n",
      "tensor(-6.2989e-07, device='cuda:3')\n",
      "tensor(-6.2989e-07, device='cuda:3')\n",
      "tensor(3.2179e-11, device='cuda:3')\n",
      "tensor(-3.8619e-09, device='cuda:3')\n",
      "tensor(6.2117e-07, device='cuda:3')\n",
      "tensor(6.2117e-07, device='cuda:3')\n",
      "tensor(1.9232e-09, device='cuda:3')\n",
      "tensor(0., device='cuda:3')\n",
      "tensor(-5.4799e-07, device='cuda:3')\n",
      "tensor(-5.4799e-07, device='cuda:3')\n",
      "tensor(-2.1092e-08, device='cuda:3')\n",
      "tensor(-5.2308e-06, device='cuda:3')\n",
      "tensor(5.6135e-10, device='cuda:3')\n",
      "tensor(1.2418e-09, device='cuda:3')\n"
     ]
    },
    {
     "data": {
      "application/vnd.jupyter.widget-view+json": {
       "model_id": "e3954995157e4f4783fe0d01ac211934",
       "version_major": 2,
       "version_minor": 0
      },
      "text/plain": [
       "HBox(children=(FloatProgress(value=0.0, max=42.0), HTML(value='')))"
      ]
     },
     "metadata": {},
     "output_type": "display_data"
    },
    {
     "name": "stdout",
     "output_type": "stream",
     "text": [
      "\n",
      "epoch time: 107.15930223464966\n",
      "mean loss train: 0.6507477472623189, mean loss val: 0.9170278552827381\n",
      "accuracy train: 0.7903333333333333, accuracy val: 0.734\n",
      "---------------------------------------------------------------------------------------------------\n",
      "Epoch: 71, Learning Rate: 0.00025\n",
      "\n"
     ]
    },
    {
     "data": {
      "application/vnd.jupyter.widget-view+json": {
       "model_id": "33c4f2b5a5494288814ddcc2dde56e2c",
       "version_major": 2,
       "version_minor": 0
      },
      "text/plain": [
       "HBox(children=(FloatProgress(value=0.0, max=657.0), HTML(value='')))"
      ]
     },
     "metadata": {},
     "output_type": "display_data"
    },
    {
     "name": "stdout",
     "output_type": "stream",
     "text": [
      "\n",
      "tensor(0.0005, device='cuda:3')\n",
      "tensor(1.0630e-05, device='cuda:3')\n",
      "tensor(-0.0061, device='cuda:3')\n",
      "tensor(-0.0061, device='cuda:3')\n",
      "tensor(-1.5386e-07, device='cuda:3')\n",
      "tensor(9.2489e-07, device='cuda:3')\n",
      "tensor(0.0002, device='cuda:3')\n",
      "tensor(0.0002, device='cuda:3')\n",
      "tensor(-4.7079e-07, device='cuda:3')\n",
      "tensor(2.9728e-06, device='cuda:3')\n",
      "tensor(-0.0003, device='cuda:3')\n",
      "tensor(-0.0003, device='cuda:3')\n",
      "tensor(-7.7684e-07, device='cuda:3')\n",
      "tensor(0., device='cuda:3')\n",
      "tensor(8.8030e-05, device='cuda:3')\n",
      "tensor(8.8030e-05, device='cuda:3')\n",
      "tensor(-5.8179e-07, device='cuda:3')\n",
      "tensor(0.0017, device='cuda:3')\n",
      "tensor(-7.7445e-10, device='cuda:3')\n",
      "tensor(-3.5479e-10, device='cuda:3')\n"
     ]
    },
    {
     "data": {
      "application/vnd.jupyter.widget-view+json": {
       "model_id": "690642c6185a45dcbb46e5c0e62b151b",
       "version_major": 2,
       "version_minor": 0
      },
      "text/plain": [
       "HBox(children=(FloatProgress(value=0.0, max=42.0), HTML(value='')))"
      ]
     },
     "metadata": {},
     "output_type": "display_data"
    },
    {
     "name": "stdout",
     "output_type": "stream",
     "text": [
      "\n",
      "epoch time: 110.65915822982788\n",
      "mean loss train: 0.6502609709558033, mean loss val: 0.9375373709542411\n",
      "accuracy train: 0.7912142857142858, accuracy val: 0.7322857142857143\n",
      "---------------------------------------------------------------------------------------------------\n",
      "Epoch: 72, Learning Rate: 0.00025\n",
      "\n"
     ]
    },
    {
     "data": {
      "application/vnd.jupyter.widget-view+json": {
       "model_id": "71af05733f4742f0a1840f6fc373879c",
       "version_major": 2,
       "version_minor": 0
      },
      "text/plain": [
       "HBox(children=(FloatProgress(value=0.0, max=657.0), HTML(value='')))"
      ]
     },
     "metadata": {},
     "output_type": "display_data"
    },
    {
     "name": "stdout",
     "output_type": "stream",
     "text": [
      "\n",
      "tensor(4.4786e-11, device='cuda:3')\n",
      "tensor(1.1374e-11, device='cuda:3')\n",
      "tensor(-6.2581e-10, device='cuda:3')\n",
      "tensor(-6.2581e-10, device='cuda:3')\n",
      "tensor(-4.5570e-12, device='cuda:3')\n",
      "tensor(-2.0411e-13, device='cuda:3')\n",
      "tensor(7.4635e-11, device='cuda:3')\n",
      "tensor(7.4635e-11, device='cuda:3')\n",
      "tensor(1.4059e-12, device='cuda:3')\n",
      "tensor(6.3393e-13, device='cuda:3')\n",
      "tensor(-3.6869e-10, device='cuda:3')\n",
      "tensor(-3.6869e-10, device='cuda:3')\n",
      "tensor(1.9402e-13, device='cuda:3')\n",
      "tensor(0., device='cuda:3')\n",
      "tensor(6.0785e-11, device='cuda:3')\n",
      "tensor(6.0785e-11, device='cuda:3')\n",
      "tensor(3.5600e-12, device='cuda:3')\n",
      "tensor(-7.9344e-10, device='cuda:3')\n",
      "tensor(-2.7163e-10, device='cuda:3')\n",
      "tensor(1.0644e-09, device='cuda:3')\n"
     ]
    },
    {
     "data": {
      "application/vnd.jupyter.widget-view+json": {
       "model_id": "e838803813094a65a83beeb5257e711c",
       "version_major": 2,
       "version_minor": 0
      },
      "text/plain": [
       "HBox(children=(FloatProgress(value=0.0, max=42.0), HTML(value='')))"
      ]
     },
     "metadata": {},
     "output_type": "display_data"
    },
    {
     "name": "stdout",
     "output_type": "stream",
     "text": [
      "\n",
      "epoch time: 105.73890829086304\n",
      "mean loss train: 0.6520253502754938, mean loss val: 0.9039033551897322\n",
      "accuracy train: 0.7905, accuracy val: 0.7335238095238096\n",
      "---------------------------------------------------------------------------------------------------\n",
      "Epoch: 73, Learning Rate: 0.00025\n",
      "\n"
     ]
    },
    {
     "data": {
      "application/vnd.jupyter.widget-view+json": {
       "model_id": "c175ffb757174087afe652d97b9f8406",
       "version_major": 2,
       "version_minor": 0
      },
      "text/plain": [
       "HBox(children=(FloatProgress(value=0.0, max=657.0), HTML(value='')))"
      ]
     },
     "metadata": {},
     "output_type": "display_data"
    },
    {
     "name": "stdout",
     "output_type": "stream",
     "text": [
      "\n",
      "tensor(-0.0021, device='cuda:3')\n",
      "tensor(-8.5286e-05, device='cuda:3')\n",
      "tensor(-0.0402, device='cuda:3')\n",
      "tensor(-0.0402, device='cuda:3')\n",
      "tensor(2.9232e-05, device='cuda:3')\n",
      "tensor(3.6011e-06, device='cuda:3')\n",
      "tensor(0.0003, device='cuda:3')\n",
      "tensor(0.0003, device='cuda:3')\n",
      "tensor(5.1769e-06, device='cuda:3')\n",
      "tensor(1.1681e-05, device='cuda:3')\n",
      "tensor(0.0024, device='cuda:3')\n",
      "tensor(0.0024, device='cuda:3')\n",
      "tensor(1.2102e-08, device='cuda:3')\n",
      "tensor(0., device='cuda:3')\n",
      "tensor(7.0430e-05, device='cuda:3')\n",
      "tensor(7.0430e-05, device='cuda:3')\n",
      "tensor(6.5737e-06, device='cuda:3')\n",
      "tensor(0.0044, device='cuda:3')\n",
      "tensor(-2.9347e-10, device='cuda:3')\n",
      "tensor(-7.0958e-10, device='cuda:3')\n"
     ]
    },
    {
     "data": {
      "application/vnd.jupyter.widget-view+json": {
       "model_id": "10b6c70c2e2d4b89b0aac27a19061c2e",
       "version_major": 2,
       "version_minor": 0
      },
      "text/plain": [
       "HBox(children=(FloatProgress(value=0.0, max=42.0), HTML(value='')))"
      ]
     },
     "metadata": {},
     "output_type": "display_data"
    },
    {
     "name": "stdout",
     "output_type": "stream",
     "text": [
      "\n",
      "tensor(-2.7160e-05, device='cuda:3')\n",
      "tensor(1.3734e-06, device='cuda:3')\n",
      "tensor(-0.0005, device='cuda:3')\n",
      "tensor(-0.0005, device='cuda:3')\n",
      "tensor(-6.5540e-09, device='cuda:3')\n",
      "tensor(-8.5029e-08, device='cuda:3')\n",
      "tensor(-4.5216e-06, device='cuda:3')\n",
      "tensor(-4.5216e-06, device='cuda:3')\n",
      "tensor(-1.3523e-07, device='cuda:3')\n",
      "tensor(-8.8641e-07, device='cuda:3')\n",
      "tensor(0.0002, device='cuda:3')\n",
      "tensor(0.0002, device='cuda:3')\n",
      "tensor(-1.0227e-07, device='cuda:3')\n",
      "tensor(0., device='cuda:3')\n",
      "tensor(-3.8067e-05, device='cuda:3')\n",
      "tensor(-3.8067e-05, device='cuda:3')\n",
      "tensor(1.2463e-06, device='cuda:3')\n",
      "tensor(-0.0003, device='cuda:3')\n",
      "tensor(1.1747e-10, device='cuda:3')\n",
      "tensor(-3.5479e-10, device='cuda:3')\n"
     ]
    },
    {
     "data": {
      "application/vnd.jupyter.widget-view+json": {
       "model_id": "c48ad8961cb7444ea4776c0a2f9ee53d",
       "version_major": 2,
       "version_minor": 0
      },
      "text/plain": [
       "HBox(children=(FloatProgress(value=0.0, max=42.0), HTML(value='')))"
      ]
     },
     "metadata": {},
     "output_type": "display_data"
    },
    {
     "name": "stdout",
     "output_type": "stream",
     "text": [
      "\n",
      "epoch time: 114.15336203575134\n",
      "mean loss train: 0.6495957162266686, mean loss val: 0.9429768139067151\n",
      "accuracy train: 0.7921428571428571, accuracy val: 0.7297142857142858\n",
      "---------------------------------------------------------------------------------------------------\n",
      "Epoch: 75, Learning Rate: 0.000125\n",
      "\n"
     ]
    },
    {
     "data": {
      "application/vnd.jupyter.widget-view+json": {
       "model_id": "552a53f676324e6b9a202ab1e647b1d7",
       "version_major": 2,
       "version_minor": 0
      },
      "text/plain": [
       "HBox(children=(FloatProgress(value=0.0, max=657.0), HTML(value='')))"
      ]
     },
     "metadata": {},
     "output_type": "display_data"
    },
    {
     "name": "stdout",
     "output_type": "stream",
     "text": [
      "\n",
      "tensor(6.8352e-06, device='cuda:3')\n",
      "tensor(6.4486e-07, device='cuda:3')\n",
      "tensor(-0.0002, device='cuda:3')\n",
      "tensor(-0.0002, device='cuda:3')\n",
      "tensor(-4.5715e-07, device='cuda:3')\n",
      "tensor(-3.8996e-08, device='cuda:3')\n",
      "tensor(3.1976e-06, device='cuda:3')\n",
      "tensor(3.1976e-06, device='cuda:3')\n",
      "tensor(4.3563e-08, device='cuda:3')\n",
      "tensor(1.5944e-07, device='cuda:3')\n",
      "tensor(-2.4079e-05, device='cuda:3')\n",
      "tensor(-2.4079e-05, device='cuda:3')\n",
      "tensor(-1.0963e-09, device='cuda:3')\n",
      "tensor(0., device='cuda:3')\n",
      "tensor(-9.6090e-06, device='cuda:3')\n",
      "tensor(-9.6090e-06, device='cuda:3')\n",
      "tensor(3.9077e-07, device='cuda:3')\n",
      "tensor(-7.3712e-05, device='cuda:3')\n",
      "tensor(-3.5270e-11, device='cuda:3')\n",
      "tensor(-1.7739e-10, device='cuda:3')\n"
     ]
    },
    {
     "data": {
      "application/vnd.jupyter.widget-view+json": {
       "model_id": "053a1122eb2d496eb0a902b7de7372c6",
       "version_major": 2,
       "version_minor": 0
      },
      "text/plain": [
       "HBox(children=(FloatProgress(value=0.0, max=42.0), HTML(value='')))"
      ]
     },
     "metadata": {},
     "output_type": "display_data"
    },
    {
     "name": "stdout",
     "output_type": "stream",
     "text": [
      "\n",
      "epoch time: 113.57027888298035\n",
      "mean loss train: 0.643112448828561, mean loss val: 0.9585493890671503\n",
      "accuracy train: 0.7942619047619047, accuracy val: 0.7310476190476191\n",
      "---------------------------------------------------------------------------------------------------\n",
      "Epoch: 76, Learning Rate: 0.000125\n",
      "\n"
     ]
    },
    {
     "data": {
      "application/vnd.jupyter.widget-view+json": {
       "model_id": "396180a02b234b70b5b671769740db69",
       "version_major": 2,
       "version_minor": 0
      },
      "text/plain": [
       "HBox(children=(FloatProgress(value=0.0, max=657.0), HTML(value='')))"
      ]
     },
     "metadata": {},
     "output_type": "display_data"
    },
    {
     "name": "stderr",
     "output_type": "stream",
     "text": [
      "IOPub message rate exceeded.\n",
      "The notebook server will temporarily stop sending output\n",
      "to the client in order to avoid crashing it.\n",
      "To change this limit, set the config variable\n",
      "`--NotebookApp.iopub_msg_rate_limit`.\n",
      "\n",
      "Current values:\n",
      "NotebookApp.iopub_msg_rate_limit=1000.0 (msgs/sec)\n",
      "NotebookApp.rate_limit_window=3.0 (secs)\n",
      "\n"
     ]
    },
    {
     "name": "stdout",
     "output_type": "stream",
     "text": [
      "\n",
      "tensor(-6.8876e-06, device='cuda:3')\n",
      "tensor(2.0876e-06, device='cuda:3')\n",
      "tensor(0.0008, device='cuda:3')\n",
      "tensor(0.0008, device='cuda:3')\n",
      "tensor(9.1618e-06, device='cuda:3')\n",
      "tensor(-5.0117e-07, device='cuda:3')\n",
      "tensor(-8.0872e-05, device='cuda:3')\n",
      "tensor(-8.0872e-05, device='cuda:3')\n",
      "tensor(-9.7471e-07, device='cuda:3')\n",
      "tensor(2.3638e-06, device='cuda:3')\n",
      "tensor(-0.0003, device='cuda:3')\n",
      "tensor(-0.0003, device='cuda:3')\n",
      "tensor(5.2312e-08, device='cuda:3')\n",
      "tensor(0., device='cuda:3')\n",
      "tensor(9.7450e-06, device='cuda:3')\n",
      "tensor(9.7450e-06, device='cuda:3')\n",
      "tensor(1.4980e-06, device='cuda:3')\n",
      "tensor(-0.0002, device='cuda:3')\n",
      "tensor(7.5676e-10, device='cuda:3')\n",
      "tensor(1.2418e-09, device='cuda:3')\n"
     ]
    },
    {
     "data": {
      "application/vnd.jupyter.widget-view+json": {
       "model_id": "8a440d6a12794c1ab5473637310ae0c3",
       "version_major": 2,
       "version_minor": 0
      },
      "text/plain": [
       "HBox(children=(FloatProgress(value=0.0, max=42.0), HTML(value='')))"
      ]
     },
     "metadata": {},
     "output_type": "display_data"
    },
    {
     "name": "stdout",
     "output_type": "stream",
     "text": [
      "\n",
      "epoch time: 112.12051510810852\n",
      "mean loss train: 0.6393024270193918, mean loss val: 1.0170804835728238\n",
      "accuracy train: 0.7961904761904762, accuracy val: 0.7312380952380952\n",
      "---------------------------------------------------------------------------------------------------\n",
      "Epoch: 79, Learning Rate: 0.000125\n",
      "\n"
     ]
    },
    {
     "data": {
      "application/vnd.jupyter.widget-view+json": {
       "model_id": "4ef36e949d0541d79cef0eaaa131bec1",
       "version_major": 2,
       "version_minor": 0
      },
      "text/plain": [
       "HBox(children=(FloatProgress(value=0.0, max=657.0), HTML(value='')))"
      ]
     },
     "metadata": {},
     "output_type": "display_data"
    },
    {
     "name": "stdout",
     "output_type": "stream",
     "text": [
      "\n",
      "tensor(7.5728e-05, device='cuda:3')\n",
      "tensor(-3.3782e-06, device='cuda:3')\n",
      "tensor(0.0029, device='cuda:3')\n",
      "tensor(0.0029, device='cuda:3')\n",
      "tensor(1.8022e-06, device='cuda:3')\n",
      "tensor(-6.5941e-07, device='cuda:3')\n",
      "tensor(0.0001, device='cuda:3')\n",
      "tensor(0.0001, device='cuda:3')\n",
      "tensor(1.7238e-07, device='cuda:3')\n",
      "tensor(4.0924e-07, device='cuda:3')\n",
      "tensor(-7.8616e-05, device='cuda:3')\n",
      "tensor(-7.8616e-05, device='cuda:3')\n",
      "tensor(-2.6561e-08, device='cuda:3')\n",
      "tensor(0., device='cuda:3')\n",
      "tensor(-7.5817e-06, device='cuda:3')\n",
      "tensor(-7.5817e-06, device='cuda:3')\n",
      "tensor(8.4400e-07, device='cuda:3')\n",
      "tensor(-0.0003, device='cuda:3')\n",
      "tensor(2.1892e-10, device='cuda:3')\n",
      "tensor(0., device='cuda:3')\n"
     ]
    },
    {
     "data": {
      "application/vnd.jupyter.widget-view+json": {
       "model_id": "7901f513216a4d409fdd37d7132c55fe",
       "version_major": 2,
       "version_minor": 0
      },
      "text/plain": [
       "HBox(children=(FloatProgress(value=0.0, max=42.0), HTML(value='')))"
      ]
     },
     "metadata": {},
     "output_type": "display_data"
    },
    {
     "name": "stdout",
     "output_type": "stream",
     "text": [
      "\n",
      "epoch time: 110.98613715171814\n",
      "mean loss train: 0.6380549190157936, mean loss val: 1.0396686662946428\n",
      "accuracy train: 0.7968571428571428, accuracy val: 0.7302857142857143\n",
      "---------------------------------------------------------------------------------------------------\n",
      "Epoch: 80, Learning Rate: 0.000125\n",
      "\n"
     ]
    },
    {
     "data": {
      "application/vnd.jupyter.widget-view+json": {
       "model_id": "6885099b3f064e36906ff3f9fd66b610",
       "version_major": 2,
       "version_minor": 0
      },
      "text/plain": [
       "HBox(children=(FloatProgress(value=0.0, max=657.0), HTML(value='')))"
      ]
     },
     "metadata": {},
     "output_type": "display_data"
    },
    {
     "name": "stderr",
     "output_type": "stream",
     "text": [
      "IOPub message rate exceeded.\n",
      "The notebook server will temporarily stop sending output\n",
      "to the client in order to avoid crashing it.\n",
      "To change this limit, set the config variable\n",
      "`--NotebookApp.iopub_msg_rate_limit`.\n",
      "\n",
      "Current values:\n",
      "NotebookApp.iopub_msg_rate_limit=1000.0 (msgs/sec)\n",
      "NotebookApp.rate_limit_window=3.0 (secs)\n",
      "\n"
     ]
    },
    {
     "name": "stdout",
     "output_type": "stream",
     "text": [
      "\n",
      "tensor(-1.4089e-05, device='cuda:3')\n",
      "tensor(-1.1200e-07, device='cuda:3')\n",
      "tensor(-0.0002, device='cuda:3')\n",
      "tensor(-0.0002, device='cuda:3')\n",
      "tensor(1.3850e-06, device='cuda:3')\n",
      "tensor(-5.4746e-08, device='cuda:3')\n",
      "tensor(2.0262e-05, device='cuda:3')\n",
      "tensor(2.0262e-05, device='cuda:3')\n",
      "tensor(-5.3731e-08, device='cuda:3')\n",
      "tensor(8.7936e-09, device='cuda:3')\n",
      "tensor(-2.1686e-06, device='cuda:3')\n",
      "tensor(-2.1686e-06, device='cuda:3')\n",
      "tensor(4.1136e-09, device='cuda:3')\n",
      "tensor(0., device='cuda:3')\n",
      "tensor(-6.3295e-06, device='cuda:3')\n",
      "tensor(-6.3295e-06, device='cuda:3')\n",
      "tensor(8.4545e-08, device='cuda:3')\n",
      "tensor(-5.1827e-05, device='cuda:3')\n",
      "tensor(6.1507e-10, device='cuda:3')\n",
      "tensor(7.0958e-10, device='cuda:3')\n"
     ]
    },
    {
     "data": {
      "application/vnd.jupyter.widget-view+json": {
       "model_id": "4d17938e15fc4fa29bd4f672ad88088e",
       "version_major": 2,
       "version_minor": 0
      },
      "text/plain": [
       "HBox(children=(FloatProgress(value=0.0, max=42.0), HTML(value='')))"
      ]
     },
     "metadata": {},
     "output_type": "display_data"
    },
    {
     "name": "stdout",
     "output_type": "stream",
     "text": [
      "\n",
      "epoch time: 113.73962068557739\n",
      "mean loss train: 0.6373958024524508, mean loss val: 1.0538851609002977\n",
      "accuracy train: 0.7970238095238096, accuracy val: 0.7296190476190476\n",
      "---------------------------------------------------------------------------------------------------\n",
      "Epoch: 82, Learning Rate: 0.000125\n",
      "\n"
     ]
    },
    {
     "data": {
      "application/vnd.jupyter.widget-view+json": {
       "model_id": "a9f138e8919e40f58b5c4c7cee3a74d8",
       "version_major": 2,
       "version_minor": 0
      },
      "text/plain": [
       "HBox(children=(FloatProgress(value=0.0, max=657.0), HTML(value='')))"
      ]
     },
     "metadata": {},
     "output_type": "display_data"
    },
    {
     "name": "stdout",
     "output_type": "stream",
     "text": [
      "\n",
      "tensor(6.3951e-06, device='cuda:3')\n",
      "tensor(1.7721e-07, device='cuda:3')\n",
      "tensor(-0.0001, device='cuda:3')\n",
      "tensor(-0.0001, device='cuda:3')\n",
      "tensor(-1.5560e-07, device='cuda:3')\n",
      "tensor(1.7244e-07, device='cuda:3')\n",
      "tensor(2.3784e-05, device='cuda:3')\n",
      "tensor(2.3784e-05, device='cuda:3')\n",
      "tensor(-8.8363e-09, device='cuda:3')\n",
      "tensor(1.0699e-07, device='cuda:3')\n",
      "tensor(-4.3195e-06, device='cuda:3')\n",
      "tensor(-4.3195e-06, device='cuda:3')\n",
      "tensor(-1.0433e-09, device='cuda:3')\n",
      "tensor(0., device='cuda:3')\n",
      "tensor(-5.2274e-07, device='cuda:3')\n",
      "tensor(-5.2274e-07, device='cuda:3')\n",
      "tensor(5.3422e-07, device='cuda:3')\n",
      "tensor(-5.7197e-05, device='cuda:3')\n",
      "tensor(-1.9815e-10, device='cuda:3')\n",
      "tensor(-3.5479e-10, device='cuda:3')\n"
     ]
    },
    {
     "data": {
      "application/vnd.jupyter.widget-view+json": {
       "model_id": "cc2c1e9f761043359f6dadeea372338b",
       "version_major": 2,
       "version_minor": 0
      },
      "text/plain": [
       "HBox(children=(FloatProgress(value=0.0, max=42.0), HTML(value='')))"
      ]
     },
     "metadata": {},
     "output_type": "display_data"
    },
    {
     "name": "stdout",
     "output_type": "stream",
     "text": [
      "\n",
      "epoch time: 110.65425634384155\n",
      "mean loss train: 0.6363620383171809, mean loss val: 1.0651410391671317\n",
      "accuracy train: 0.7977142857142857, accuracy val: 0.7312380952380952\n",
      "---------------------------------------------------------------------------------------------------\n",
      "Epoch: 83, Learning Rate: 0.000125\n",
      "\n"
     ]
    },
    {
     "data": {
      "application/vnd.jupyter.widget-view+json": {
       "model_id": "27388c217ff44a90b8dd0eecb79c35b3",
       "version_major": 2,
       "version_minor": 0
      },
      "text/plain": [
       "HBox(children=(FloatProgress(value=0.0, max=657.0), HTML(value='')))"
      ]
     },
     "metadata": {},
     "output_type": "display_data"
    },
    {
     "name": "stdout",
     "output_type": "stream",
     "text": [
      "\n",
      "tensor(-2.8970e-05, device='cuda:3')\n",
      "tensor(9.3478e-08, device='cuda:3')\n",
      "tensor(7.8504e-06, device='cuda:3')\n",
      "tensor(7.8504e-06, device='cuda:3')\n",
      "tensor(-7.8726e-07, device='cuda:3')\n",
      "tensor(2.4826e-07, device='cuda:3')\n",
      "tensor(2.1195e-05, device='cuda:3')\n",
      "tensor(2.1195e-05, device='cuda:3')\n",
      "tensor(-1.9819e-08, device='cuda:3')\n",
      "tensor(6.3824e-07, device='cuda:3')\n",
      "tensor(-2.7555e-05, device='cuda:3')\n",
      "tensor(-2.7555e-05, device='cuda:3')\n",
      "tensor(2.5896e-08, device='cuda:3')\n",
      "tensor(0., device='cuda:3')\n",
      "tensor(-7.8520e-06, device='cuda:3')\n",
      "tensor(-7.8520e-06, device='cuda:3')\n",
      "tensor(1.3170e-06, device='cuda:3')\n",
      "tensor(-0.0002, device='cuda:3')\n",
      "tensor(-2.0097e-10, device='cuda:3')\n",
      "tensor(-7.0958e-10, device='cuda:3')\n"
     ]
    },
    {
     "data": {
      "application/vnd.jupyter.widget-view+json": {
       "model_id": "da1ac77295164957a8435a0bf5a33ed2",
       "version_major": 2,
       "version_minor": 0
      },
      "text/plain": [
       "HBox(children=(FloatProgress(value=0.0, max=42.0), HTML(value='')))"
      ]
     },
     "metadata": {},
     "output_type": "display_data"
    },
    {
     "name": "stdout",
     "output_type": "stream",
     "text": [
      "\n",
      "epoch time: 110.75942754745483\n",
      "mean loss train: 0.6371931529726301, mean loss val: 1.0370965053013392\n",
      "accuracy train: 0.7974523809523809, accuracy val: 0.7309523809523809\n",
      "---------------------------------------------------------------------------------------------------\n",
      "Epoch: 84, Learning Rate: 0.000125\n",
      "\n"
     ]
    },
    {
     "data": {
      "application/vnd.jupyter.widget-view+json": {
       "model_id": "a26cf0543b6c4f5297473043e354abbf",
       "version_major": 2,
       "version_minor": 0
      },
      "text/plain": [
       "HBox(children=(FloatProgress(value=0.0, max=657.0), HTML(value='')))"
      ]
     },
     "metadata": {},
     "output_type": "display_data"
    },
    {
     "name": "stdout",
     "output_type": "stream",
     "text": [
      "\n",
      "tensor(-1.0702e-08, device='cuda:3')\n",
      "tensor(-5.9947e-10, device='cuda:3')\n",
      "tensor(7.8885e-07, device='cuda:3')\n",
      "tensor(7.8885e-07, device='cuda:3')\n",
      "tensor(-9.8360e-10, device='cuda:3')\n",
      "tensor(-4.5511e-11, device='cuda:3')\n",
      "tensor(-8.4416e-10, device='cuda:3')\n",
      "tensor(-8.4416e-10, device='cuda:3')\n",
      "tensor(2.7861e-11, device='cuda:3')\n",
      "tensor(-1.1304e-10, device='cuda:3')\n",
      "tensor(2.7089e-09, device='cuda:3')\n",
      "tensor(2.7089e-09, device='cuda:3')\n",
      "tensor(4.8659e-11, device='cuda:3')\n",
      "tensor(0., device='cuda:3')\n",
      "tensor(-1.3717e-08, device='cuda:3')\n",
      "tensor(-1.3717e-08, device='cuda:3')\n",
      "tensor(3.4601e-10, device='cuda:3')\n",
      "tensor(-3.8911e-07, device='cuda:3')\n",
      "tensor(6.7328e-10, device='cuda:3')\n",
      "tensor(8.8697e-10, device='cuda:3')\n"
     ]
    },
    {
     "data": {
      "application/vnd.jupyter.widget-view+json": {
       "model_id": "17f0d00c7bee477089166a27183ca8f3",
       "version_major": 2,
       "version_minor": 0
      },
      "text/plain": [
       "HBox(children=(FloatProgress(value=0.0, max=42.0), HTML(value='')))"
      ]
     },
     "metadata": {},
     "output_type": "display_data"
    },
    {
     "name": "stdout",
     "output_type": "stream",
     "text": [
      "\n",
      "epoch time: 109.61616516113281\n",
      "mean loss train: 0.6360884360358828, mean loss val: 1.0647938072567895\n",
      "accuracy train: 0.7979285714285714, accuracy val: 0.7310476190476191\n",
      "---------------------------------------------------------------------------------------------------\n",
      "Epoch: 85, Learning Rate: 0.000125\n",
      "\n"
     ]
    },
    {
     "data": {
      "application/vnd.jupyter.widget-view+json": {
       "model_id": "24be6a1e2c814c9896b11f132f7a50bd",
       "version_major": 2,
       "version_minor": 0
      },
      "text/plain": [
       "HBox(children=(FloatProgress(value=0.0, max=657.0), HTML(value='')))"
      ]
     },
     "metadata": {},
     "output_type": "display_data"
    },
    {
     "name": "stdout",
     "output_type": "stream",
     "text": [
      "\n",
      "tensor(-8.3864e-06, device='cuda:3')\n",
      "tensor(-2.4328e-07, device='cuda:3')\n",
      "tensor(-0.0002, device='cuda:3')\n",
      "tensor(-0.0002, device='cuda:3')\n",
      "tensor(-3.8105e-08, device='cuda:3')\n",
      "tensor(4.3702e-09, device='cuda:3')\n",
      "tensor(-1.6900e-06, device='cuda:3')\n",
      "tensor(-1.6900e-06, device='cuda:3')\n",
      "tensor(-1.9782e-08, device='cuda:3')\n",
      "tensor(1.8324e-07, device='cuda:3')\n",
      "tensor(-2.1785e-05, device='cuda:3')\n",
      "tensor(-2.1785e-05, device='cuda:3')\n",
      "tensor(-1.8364e-09, device='cuda:3')\n",
      "tensor(0., device='cuda:3')\n",
      "tensor(1.2558e-06, device='cuda:3')\n",
      "tensor(1.2558e-06, device='cuda:3')\n",
      "tensor(2.3728e-09, device='cuda:3')\n",
      "tensor(-0.0002, device='cuda:3')\n",
      "tensor(7.5176e-11, device='cuda:3')\n",
      "tensor(2.6609e-09, device='cuda:3')\n"
     ]
    },
    {
     "data": {
      "application/vnd.jupyter.widget-view+json": {
       "model_id": "529a14043f634f029ce9d7363fc4f3df",
       "version_major": 2,
       "version_minor": 0
      },
      "text/plain": [
       "HBox(children=(FloatProgress(value=0.0, max=42.0), HTML(value='')))"
      ]
     },
     "metadata": {},
     "output_type": "display_data"
    },
    {
     "name": "stdout",
     "output_type": "stream",
     "text": [
      "\n",
      "epoch time: 114.03932166099548\n",
      "mean loss train: 0.6362827566691808, mean loss val: 1.0645949183872767\n",
      "accuracy train: 0.797404761904762, accuracy val: 0.7304761904761905\n",
      "---------------------------------------------------------------------------------------------------\n",
      "Epoch: 86, Learning Rate: 0.000125\n",
      "\n"
     ]
    },
    {
     "data": {
      "application/vnd.jupyter.widget-view+json": {
       "model_id": "1286b93e9f164f0e946e6b3d5ade6714",
       "version_major": 2,
       "version_minor": 0
      },
      "text/plain": [
       "HBox(children=(FloatProgress(value=0.0, max=657.0), HTML(value='')))"
      ]
     },
     "metadata": {},
     "output_type": "display_data"
    },
    {
     "name": "stdout",
     "output_type": "stream",
     "text": [
      "\n",
      "tensor(-1.0278e-10, device='cuda:3')\n",
      "tensor(2.6338e-10, device='cuda:3')\n",
      "tensor(-1.1350e-07, device='cuda:3')\n",
      "tensor(-1.1350e-07, device='cuda:3')\n",
      "tensor(5.9690e-10, device='cuda:3')\n",
      "tensor(-1.6096e-12, device='cuda:3')\n",
      "tensor(-7.6347e-09, device='cuda:3')\n",
      "tensor(-7.6347e-09, device='cuda:3')\n",
      "tensor(-2.5555e-11, device='cuda:3')\n",
      "tensor(-9.8301e-11, device='cuda:3')\n",
      "tensor(-2.3210e-08, device='cuda:3')\n",
      "tensor(-2.3210e-08, device='cuda:3')\n",
      "tensor(4.1604e-13, device='cuda:3')\n",
      "tensor(0., device='cuda:3')\n",
      "tensor(-3.9879e-10, device='cuda:3')\n",
      "tensor(-3.9879e-10, device='cuda:3')\n",
      "tensor(-2.7611e-10, device='cuda:3')\n",
      "tensor(-5.9941e-08, device='cuda:3')\n",
      "tensor(1.5210e-10, device='cuda:3')\n",
      "tensor(-2.6609e-10, device='cuda:3')\n"
     ]
    },
    {
     "data": {
      "application/vnd.jupyter.widget-view+json": {
       "model_id": "a5e657a2d5b44311a7bdba024e13b497",
       "version_major": 2,
       "version_minor": 0
      },
      "text/plain": [
       "HBox(children=(FloatProgress(value=0.0, max=42.0), HTML(value='')))"
      ]
     },
     "metadata": {},
     "output_type": "display_data"
    },
    {
     "name": "stdout",
     "output_type": "stream",
     "text": [
      "\n",
      "epoch time: 113.54980301856995\n",
      "mean loss train: 0.6349773633707138, mean loss val: 1.099664571126302\n",
      "accuracy train: 0.7980952380952381, accuracy val: 0.729904761904762\n",
      "---------------------------------------------------------------------------------------------------\n",
      "Epoch: 87, Learning Rate: 0.000125\n",
      "\n"
     ]
    },
    {
     "data": {
      "application/vnd.jupyter.widget-view+json": {
       "model_id": "2efbff76d50f47e6839ed661189a0193",
       "version_major": 2,
       "version_minor": 0
      },
      "text/plain": [
       "HBox(children=(FloatProgress(value=0.0, max=657.0), HTML(value='')))"
      ]
     },
     "metadata": {},
     "output_type": "display_data"
    },
    {
     "name": "stdout",
     "output_type": "stream",
     "text": [
      "\n",
      "tensor(9.2612e-11, device='cuda:3')\n",
      "tensor(8.2900e-12, device='cuda:3')\n",
      "tensor(2.7703e-09, device='cuda:3')\n",
      "tensor(2.7703e-09, device='cuda:3')\n",
      "tensor(-7.5363e-12, device='cuda:3')\n",
      "tensor(8.6122e-13, device='cuda:3')\n",
      "tensor(-1.7193e-10, device='cuda:3')\n",
      "tensor(-1.7193e-10, device='cuda:3')\n",
      "tensor(-5.9931e-14, device='cuda:3')\n",
      "tensor(-7.4495e-13, device='cuda:3')\n",
      "tensor(-1.0097e-10, device='cuda:3')\n",
      "tensor(-1.0097e-10, device='cuda:3')\n",
      "tensor(-6.2974e-15, device='cuda:3')\n",
      "tensor(0., device='cuda:3')\n",
      "tensor(-1.6807e-12, device='cuda:3')\n",
      "tensor(-1.6807e-12, device='cuda:3')\n",
      "tensor(-3.5353e-12, device='cuda:3')\n",
      "tensor(-3.2430e-10, device='cuda:3')\n",
      "tensor(1.7681e-10, device='cuda:3')\n",
      "tensor(1.4192e-09, device='cuda:3')\n"
     ]
    },
    {
     "data": {
      "application/vnd.jupyter.widget-view+json": {
       "model_id": "de5c26b50b4745e8aa456676432bd0d9",
       "version_major": 2,
       "version_minor": 0
      },
      "text/plain": [
       "HBox(children=(FloatProgress(value=0.0, max=42.0), HTML(value='')))"
      ]
     },
     "metadata": {},
     "output_type": "display_data"
    },
    {
     "name": "stdout",
     "output_type": "stream",
     "text": [
      "\n",
      "epoch time: 111.45683598518372\n",
      "mean loss train: 0.6356322460855757, mean loss val: 1.0600584498814174\n",
      "accuracy train: 0.7975952380952381, accuracy val: 0.7311428571428571\n",
      "---------------------------------------------------------------------------------------------------\n",
      "Epoch: 88, Learning Rate: 0.000125\n",
      "\n"
     ]
    },
    {
     "data": {
      "application/vnd.jupyter.widget-view+json": {
       "model_id": "c1e76a32c404469ea953cb0ad7c0c223",
       "version_major": 2,
       "version_minor": 0
      },
      "text/plain": [
       "HBox(children=(FloatProgress(value=0.0, max=657.0), HTML(value='')))"
      ]
     },
     "metadata": {},
     "output_type": "display_data"
    },
    {
     "name": "stdout",
     "output_type": "stream",
     "text": [
      "\n",
      "tensor(1.1634e-06, device='cuda:3')\n",
      "tensor(1.1467e-08, device='cuda:3')\n",
      "tensor(-6.5162e-05, device='cuda:3')\n",
      "tensor(-6.5162e-05, device='cuda:3')\n",
      "tensor(2.3216e-07, device='cuda:3')\n",
      "tensor(3.3700e-09, device='cuda:3')\n",
      "tensor(-1.5759e-06, device='cuda:3')\n",
      "tensor(-1.5759e-06, device='cuda:3')\n",
      "tensor(-1.8085e-08, device='cuda:3')\n",
      "tensor(2.1673e-07, device='cuda:3')\n",
      "tensor(-1.1090e-05, device='cuda:3')\n",
      "tensor(-1.1090e-05, device='cuda:3')\n",
      "tensor(-7.7397e-09, device='cuda:3')\n",
      "tensor(0., device='cuda:3')\n",
      "tensor(-2.7336e-06, device='cuda:3')\n",
      "tensor(-2.7336e-06, device='cuda:3')\n",
      "tensor(7.1364e-07, device='cuda:3')\n",
      "tensor(-5.2952e-05, device='cuda:3')\n",
      "tensor(2.3680e-10, device='cuda:3')\n",
      "tensor(-1.7739e-10, device='cuda:3')\n"
     ]
    },
    {
     "data": {
      "application/vnd.jupyter.widget-view+json": {
       "model_id": "7832758b2fe94567a10e8c2898d00b93",
       "version_major": 2,
       "version_minor": 0
      },
      "text/plain": [
       "HBox(children=(FloatProgress(value=0.0, max=42.0), HTML(value='')))"
      ]
     },
     "metadata": {},
     "output_type": "display_data"
    },
    {
     "name": "stdout",
     "output_type": "stream",
     "text": [
      "\n",
      "epoch time: 109.73207664489746\n",
      "mean loss train: 0.6326444167069026, mean loss val: 1.1004627453031994\n",
      "accuracy train: 0.799047619047619, accuracy val: 0.7307619047619047\n",
      "---------------------------------------------------------------------------------------------------\n",
      "Epoch: 89, Learning Rate: 0.000125\n",
      "\n"
     ]
    },
    {
     "data": {
      "application/vnd.jupyter.widget-view+json": {
       "model_id": "da45317e6ca14d739628b7bc5819035e",
       "version_major": 2,
       "version_minor": 0
      },
      "text/plain": [
       "HBox(children=(FloatProgress(value=0.0, max=657.0), HTML(value='')))"
      ]
     },
     "metadata": {},
     "output_type": "display_data"
    },
    {
     "name": "stdout",
     "output_type": "stream",
     "text": [
      "\n",
      "tensor(8.4531e-06, device='cuda:3')\n",
      "tensor(1.3204e-08, device='cuda:3')\n",
      "tensor(-9.3557e-05, device='cuda:3')\n",
      "tensor(-9.3557e-05, device='cuda:3')\n",
      "tensor(-4.4598e-07, device='cuda:3')\n",
      "tensor(4.8910e-09, device='cuda:3')\n",
      "tensor(-2.2685e-05, device='cuda:3')\n",
      "tensor(-2.2685e-05, device='cuda:3')\n",
      "tensor(7.7312e-08, device='cuda:3')\n",
      "tensor(-2.8398e-07, device='cuda:3')\n",
      "tensor(3.0856e-05, device='cuda:3')\n",
      "tensor(3.0856e-05, device='cuda:3')\n",
      "tensor(1.6371e-08, device='cuda:3')\n",
      "tensor(0., device='cuda:3')\n",
      "tensor(-4.5969e-06, device='cuda:3')\n",
      "tensor(-4.5969e-06, device='cuda:3')\n",
      "tensor(9.8213e-07, device='cuda:3')\n",
      "tensor(-0.0002, device='cuda:3')\n",
      "tensor(1.0662e-10, device='cuda:3')\n",
      "tensor(-7.0958e-10, device='cuda:3')\n"
     ]
    },
    {
     "data": {
      "application/vnd.jupyter.widget-view+json": {
       "model_id": "cf580b441a964d1999bf33d085ee7fd4",
       "version_major": 2,
       "version_minor": 0
      },
      "text/plain": [
       "HBox(children=(FloatProgress(value=0.0, max=42.0), HTML(value='')))"
      ]
     },
     "metadata": {},
     "output_type": "display_data"
    },
    {
     "name": "stdout",
     "output_type": "stream",
     "text": [
      "\n",
      "epoch time: 109.42619633674622\n",
      "mean loss train: 0.6338333195277622, mean loss val: 1.085700185139974\n",
      "accuracy train: 0.7988095238095239, accuracy val: 0.7307619047619047\n",
      "---------------------------------------------------------------------------------------------------\n",
      "Epoch: 90, Learning Rate: 0.000125\n",
      "\n"
     ]
    },
    {
     "data": {
      "application/vnd.jupyter.widget-view+json": {
       "model_id": "129fd2f8e7f24f97a0ae2befe7b41ad0",
       "version_major": 2,
       "version_minor": 0
      },
      "text/plain": [
       "HBox(children=(FloatProgress(value=0.0, max=657.0), HTML(value='')))"
      ]
     },
     "metadata": {},
     "output_type": "display_data"
    },
    {
     "name": "stdout",
     "output_type": "stream",
     "text": [
      "\n",
      "tensor(1.7733e-09, device='cuda:3')\n",
      "tensor(7.7076e-11, device='cuda:3')\n",
      "tensor(-2.6822e-08, device='cuda:3')\n",
      "tensor(-2.6822e-08, device='cuda:3')\n",
      "tensor(-6.2160e-11, device='cuda:3')\n",
      "tensor(1.2843e-11, device='cuda:3')\n",
      "tensor(8.6152e-09, device='cuda:3')\n",
      "tensor(8.6152e-09, device='cuda:3')\n",
      "tensor(-1.5767e-11, device='cuda:3')\n",
      "tensor(-6.1960e-11, device='cuda:3')\n",
      "tensor(-1.2383e-08, device='cuda:3')\n",
      "tensor(-1.2383e-08, device='cuda:3')\n",
      "tensor(-1.9181e-12, device='cuda:3')\n",
      "tensor(0., device='cuda:3')\n",
      "tensor(-2.0663e-09, device='cuda:3')\n",
      "tensor(-2.0663e-09, device='cuda:3')\n",
      "tensor(-1.9506e-10, device='cuda:3')\n",
      "tensor(-8.4609e-08, device='cuda:3')\n",
      "tensor(1.0913e-09, device='cuda:3')\n",
      "tensor(8.8697e-10, device='cuda:3')\n"
     ]
    },
    {
     "data": {
      "application/vnd.jupyter.widget-view+json": {
       "model_id": "3721428c469e4022ba779bed706bb476",
       "version_major": 2,
       "version_minor": 0
      },
      "text/plain": [
       "HBox(children=(FloatProgress(value=0.0, max=42.0), HTML(value='')))"
      ]
     },
     "metadata": {},
     "output_type": "display_data"
    },
    {
     "name": "stdout",
     "output_type": "stream",
     "text": [
      "\n",
      "epoch time: 113.59215426445007\n",
      "mean loss train: 0.6341537272135417, mean loss val: 1.097879404703776\n",
      "accuracy train: 0.7987619047619048, accuracy val: 0.7307619047619047\n",
      "---------------------------------------------------------------------------------------------------\n",
      "Epoch: 91, Learning Rate: 0.000125\n",
      "\n"
     ]
    },
    {
     "data": {
      "application/vnd.jupyter.widget-view+json": {
       "model_id": "1d42df0504f84b6db5405b7a7bdcb996",
       "version_major": 2,
       "version_minor": 0
      },
      "text/plain": [
       "HBox(children=(FloatProgress(value=0.0, max=657.0), HTML(value='')))"
      ]
     },
     "metadata": {},
     "output_type": "display_data"
    },
    {
     "name": "stdout",
     "output_type": "stream",
     "text": [
      "\n",
      "tensor(2.0873e-06, device='cuda:3')\n",
      "tensor(7.9012e-08, device='cuda:3')\n",
      "tensor(0.0001, device='cuda:3')\n",
      "tensor(0.0001, device='cuda:3')\n",
      "tensor(-1.0412e-07, device='cuda:3')\n",
      "tensor(-5.3897e-08, device='cuda:3')\n",
      "tensor(5.2281e-06, device='cuda:3')\n",
      "tensor(5.2281e-06, device='cuda:3')\n",
      "tensor(-5.1051e-08, device='cuda:3')\n",
      "tensor(-8.8257e-08, device='cuda:3')\n",
      "tensor(8.5171e-06, device='cuda:3')\n",
      "tensor(8.5171e-06, device='cuda:3')\n",
      "tensor(-5.2882e-09, device='cuda:3')\n",
      "tensor(0., device='cuda:3')\n",
      "tensor(-8.2797e-06, device='cuda:3')\n",
      "tensor(-8.2797e-06, device='cuda:3')\n",
      "tensor(-1.1370e-08, device='cuda:3')\n",
      "tensor(-1.2113e-05, device='cuda:3')\n",
      "tensor(7.5946e-10, device='cuda:3')\n",
      "tensor(1.4192e-09, device='cuda:3')\n"
     ]
    },
    {
     "data": {
      "application/vnd.jupyter.widget-view+json": {
       "model_id": "75f23edf34d14db3bed99e3a6f370e42",
       "version_major": 2,
       "version_minor": 0
      },
      "text/plain": [
       "HBox(children=(FloatProgress(value=0.0, max=42.0), HTML(value='')))"
      ]
     },
     "metadata": {},
     "output_type": "display_data"
    },
    {
     "name": "stdout",
     "output_type": "stream",
     "text": [
      "\n",
      "epoch time: 114.14951586723328\n",
      "mean loss train: 0.6335976948056902, mean loss val: 1.0676944056919644\n",
      "accuracy train: 0.7988809523809524, accuracy val: 0.7294285714285714\n",
      "---------------------------------------------------------------------------------------------------\n",
      "Epoch: 92, Learning Rate: 0.000125\n",
      "\n"
     ]
    },
    {
     "data": {
      "application/vnd.jupyter.widget-view+json": {
       "model_id": "454f7e93d71d4ca894d4204039f69683",
       "version_major": 2,
       "version_minor": 0
      },
      "text/plain": [
       "HBox(children=(FloatProgress(value=0.0, max=657.0), HTML(value='')))"
      ]
     },
     "metadata": {},
     "output_type": "display_data"
    },
    {
     "name": "stdout",
     "output_type": "stream",
     "text": [
      "\n",
      "tensor(-7.2591e-08, device='cuda:3')\n",
      "tensor(-3.7410e-09, device='cuda:3')\n",
      "tensor(-3.2258e-07, device='cuda:3')\n",
      "tensor(-3.2258e-07, device='cuda:3')\n",
      "tensor(-1.8111e-08, device='cuda:3')\n",
      "tensor(-4.7895e-10, device='cuda:3')\n",
      "tensor(-9.7264e-08, device='cuda:3')\n",
      "tensor(-9.7264e-08, device='cuda:3')\n",
      "tensor(9.2351e-11, device='cuda:3')\n",
      "tensor(2.2437e-09, device='cuda:3')\n",
      "tensor(-2.1948e-07, device='cuda:3')\n",
      "tensor(-2.1948e-07, device='cuda:3')\n",
      "tensor(-1.5756e-11, device='cuda:3')\n",
      "tensor(0., device='cuda:3')\n",
      "tensor(-6.6553e-09, device='cuda:3')\n",
      "tensor(-6.6553e-09, device='cuda:3')\n",
      "tensor(-2.4381e-10, device='cuda:3')\n",
      "tensor(-7.8205e-07, device='cuda:3')\n",
      "tensor(3.4629e-10, device='cuda:3')\n",
      "tensor(1.3305e-09, device='cuda:3')\n"
     ]
    },
    {
     "data": {
      "application/vnd.jupyter.widget-view+json": {
       "model_id": "ab6b0b3426664ba1b7b0a70e950fc1d2",
       "version_major": 2,
       "version_minor": 0
      },
      "text/plain": [
       "HBox(children=(FloatProgress(value=0.0, max=42.0), HTML(value='')))"
      ]
     },
     "metadata": {},
     "output_type": "display_data"
    },
    {
     "name": "stdout",
     "output_type": "stream",
     "text": [
      "\n",
      "epoch time: 110.214528799057\n",
      "mean loss train: 0.6332260650680178, mean loss val: 1.121612540108817\n",
      "accuracy train: 0.7991904761904762, accuracy val: 0.7293333333333333\n",
      "---------------------------------------------------------------------------------------------------\n",
      "Epoch: 93, Learning Rate: 0.000125\n",
      "\n"
     ]
    },
    {
     "data": {
      "application/vnd.jupyter.widget-view+json": {
       "model_id": "c8f93c562d47482da13735d6eb805ef8",
       "version_major": 2,
       "version_minor": 0
      },
      "text/plain": [
       "HBox(children=(FloatProgress(value=0.0, max=657.0), HTML(value='')))"
      ]
     },
     "metadata": {},
     "output_type": "display_data"
    },
    {
     "name": "stdout",
     "output_type": "stream",
     "text": [
      "\n",
      "tensor(-4.7261e-05, device='cuda:3')\n",
      "tensor(5.8042e-07, device='cuda:3')\n",
      "tensor(0.0017, device='cuda:3')\n",
      "tensor(0.0017, device='cuda:3')\n",
      "tensor(-6.6693e-09, device='cuda:3')\n",
      "tensor(1.2447e-07, device='cuda:3')\n",
      "tensor(0.0001, device='cuda:3')\n",
      "tensor(0.0001, device='cuda:3')\n",
      "tensor(9.2738e-08, device='cuda:3')\n",
      "tensor(-5.7618e-07, device='cuda:3')\n",
      "tensor(0.0001, device='cuda:3')\n",
      "tensor(0.0001, device='cuda:3')\n",
      "tensor(2.3283e-08, device='cuda:3')\n",
      "tensor(0., device='cuda:3')\n",
      "tensor(-2.3347e-05, device='cuda:3')\n",
      "tensor(-2.3347e-05, device='cuda:3')\n",
      "tensor(-1.2152e-06, device='cuda:3')\n",
      "tensor(0.0003, device='cuda:3')\n",
      "tensor(1.1587e-09, device='cuda:3')\n",
      "tensor(-3.6366e-09, device='cuda:3')\n"
     ]
    },
    {
     "data": {
      "application/vnd.jupyter.widget-view+json": {
       "model_id": "e92db8aeb00140d3a37cdb8e6cad3ce1",
       "version_major": 2,
       "version_minor": 0
      },
      "text/plain": [
       "HBox(children=(FloatProgress(value=0.0, max=42.0), HTML(value='')))"
      ]
     },
     "metadata": {},
     "output_type": "display_data"
    },
    {
     "name": "stdout",
     "output_type": "stream",
     "text": [
      "\n",
      "epoch time: 110.0977213382721\n",
      "mean loss train: 0.6325464461871556, mean loss val: 1.1255381774902344\n",
      "accuracy train: 0.7986666666666666, accuracy val: 0.7288571428571429\n",
      "---------------------------------------------------------------------------------------------------\n",
      "Epoch: 94, Learning Rate: 0.000125\n",
      "\n"
     ]
    },
    {
     "data": {
      "application/vnd.jupyter.widget-view+json": {
       "model_id": "fa936954ed92498b9a4698371dd98628",
       "version_major": 2,
       "version_minor": 0
      },
      "text/plain": [
       "HBox(children=(FloatProgress(value=0.0, max=657.0), HTML(value='')))"
      ]
     },
     "metadata": {},
     "output_type": "display_data"
    },
    {
     "name": "stdout",
     "output_type": "stream",
     "text": [
      "\n",
      "tensor(-6.8133e-06, device='cuda:3')\n",
      "tensor(1.0377e-07, device='cuda:3')\n",
      "tensor(-0.0002, device='cuda:3')\n",
      "tensor(-0.0002, device='cuda:3')\n",
      "tensor(5.6625e-08, device='cuda:3')\n",
      "tensor(-2.8505e-08, device='cuda:3')\n",
      "tensor(9.8158e-06, device='cuda:3')\n",
      "tensor(9.8158e-06, device='cuda:3')\n",
      "tensor(6.1954e-08, device='cuda:3')\n",
      "tensor(2.4468e-07, device='cuda:3')\n",
      "tensor(-1.3958e-05, device='cuda:3')\n",
      "tensor(-1.3958e-05, device='cuda:3')\n",
      "tensor(1.6751e-08, device='cuda:3')\n",
      "tensor(0., device='cuda:3')\n",
      "tensor(-7.2686e-06, device='cuda:3')\n",
      "tensor(-7.2686e-06, device='cuda:3')\n",
      "tensor(9.2128e-07, device='cuda:3')\n",
      "tensor(-0.0001, device='cuda:3')\n",
      "tensor(2.1474e-10, device='cuda:3')\n",
      "tensor(-8.8697e-10, device='cuda:3')\n"
     ]
    },
    {
     "data": {
      "application/vnd.jupyter.widget-view+json": {
       "model_id": "ec6c2d51155e42898d5adb96a877307b",
       "version_major": 2,
       "version_minor": 0
      },
      "text/plain": [
       "HBox(children=(FloatProgress(value=0.0, max=42.0), HTML(value='')))"
      ]
     },
     "metadata": {},
     "output_type": "display_data"
    },
    {
     "name": "stdout",
     "output_type": "stream",
     "text": [
      "\n",
      "epoch time: 114.38923907279968\n",
      "mean loss train: 0.6325314175969079, mean loss val: 1.122356937953404\n",
      "accuracy train: 0.7986904761904762, accuracy val: 0.7310476190476191\n",
      "---------------------------------------------------------------------------------------------------\n",
      "Epoch: 95, Learning Rate: 0.000125\n",
      "\n"
     ]
    },
    {
     "data": {
      "application/vnd.jupyter.widget-view+json": {
       "model_id": "f276229a684b4d49bd5e7db85929cada",
       "version_major": 2,
       "version_minor": 0
      },
      "text/plain": [
       "HBox(children=(FloatProgress(value=0.0, max=657.0), HTML(value='')))"
      ]
     },
     "metadata": {},
     "output_type": "display_data"
    },
    {
     "name": "stdout",
     "output_type": "stream",
     "text": [
      "\n",
      "tensor(8.1096e-07, device='cuda:3')\n",
      "tensor(2.0083e-07, device='cuda:3')\n",
      "tensor(-9.8092e-05, device='cuda:3')\n",
      "tensor(-9.8092e-05, device='cuda:3')\n",
      "tensor(6.3952e-07, device='cuda:3')\n",
      "tensor(3.1949e-08, device='cuda:3')\n",
      "tensor(-1.2264e-05, device='cuda:3')\n",
      "tensor(-1.2264e-05, device='cuda:3')\n",
      "tensor(6.9403e-08, device='cuda:3')\n",
      "tensor(5.0661e-07, device='cuda:3')\n",
      "tensor(-3.9310e-05, device='cuda:3')\n",
      "tensor(-3.9310e-05, device='cuda:3')\n",
      "tensor(-2.1422e-08, device='cuda:3')\n",
      "tensor(0., device='cuda:3')\n",
      "tensor(-1.1492e-05, device='cuda:3')\n",
      "tensor(-1.1492e-05, device='cuda:3')\n",
      "tensor(1.5830e-06, device='cuda:3')\n",
      "tensor(-0.0001, device='cuda:3')\n",
      "tensor(3.1269e-10, device='cuda:3')\n",
      "tensor(2.3061e-09, device='cuda:3')\n"
     ]
    },
    {
     "data": {
      "application/vnd.jupyter.widget-view+json": {
       "model_id": "77390a9722b748ccaa0f91e979eee33a",
       "version_major": 2,
       "version_minor": 0
      },
      "text/plain": [
       "HBox(children=(FloatProgress(value=0.0, max=42.0), HTML(value='')))"
      ]
     },
     "metadata": {},
     "output_type": "display_data"
    },
    {
     "name": "stdout",
     "output_type": "stream",
     "text": [
      "\n",
      "epoch time: 112.77074599266052\n",
      "mean loss train: 0.6309995465732756, mean loss val: 1.1141939958844866\n",
      "accuracy train: 0.7998333333333333, accuracy val: 0.7315238095238096\n",
      "---------------------------------------------------------------------------------------------------\n",
      "Epoch: 96, Learning Rate: 0.000125\n",
      "\n"
     ]
    },
    {
     "data": {
      "application/vnd.jupyter.widget-view+json": {
       "model_id": "dd35b85cdf3b43f4bd963f9e59551e4e",
       "version_major": 2,
       "version_minor": 0
      },
      "text/plain": [
       "HBox(children=(FloatProgress(value=0.0, max=657.0), HTML(value='')))"
      ]
     },
     "metadata": {},
     "output_type": "display_data"
    },
    {
     "name": "stdout",
     "output_type": "stream",
     "text": [
      "\n",
      "tensor(-1.9427e-06, device='cuda:3')\n",
      "tensor(2.5581e-07, device='cuda:3')\n",
      "tensor(-3.3396e-05, device='cuda:3')\n",
      "tensor(-3.3396e-05, device='cuda:3')\n",
      "tensor(-1.4890e-08, device='cuda:3')\n",
      "tensor(4.6668e-08, device='cuda:3')\n",
      "tensor(2.3995e-05, device='cuda:3')\n",
      "tensor(2.3995e-05, device='cuda:3')\n",
      "tensor(1.6636e-08, device='cuda:3')\n",
      "tensor(6.5655e-07, device='cuda:3')\n",
      "tensor(-2.7601e-05, device='cuda:3')\n",
      "tensor(-2.7601e-05, device='cuda:3')\n",
      "tensor(-3.8064e-09, device='cuda:3')\n",
      "tensor(0., device='cuda:3')\n",
      "tensor(-1.6227e-06, device='cuda:3')\n",
      "tensor(-1.6227e-06, device='cuda:3')\n",
      "tensor(2.4443e-06, device='cuda:3')\n",
      "tensor(-0.0002, device='cuda:3')\n",
      "tensor(-4.3846e-10, device='cuda:3')\n",
      "tensor(0., device='cuda:3')\n"
     ]
    },
    {
     "data": {
      "application/vnd.jupyter.widget-view+json": {
       "model_id": "2d5381095ece4d20bbee7e4daf8d7346",
       "version_major": 2,
       "version_minor": 0
      },
      "text/plain": [
       "HBox(children=(FloatProgress(value=0.0, max=42.0), HTML(value='')))"
      ]
     },
     "metadata": {},
     "output_type": "display_data"
    },
    {
     "name": "stdout",
     "output_type": "stream",
     "text": [
      "\n",
      "epoch time: 108.78157114982605\n",
      "mean loss train: 0.6328889012223198, mean loss val: 1.1479295959472657\n",
      "accuracy train: 0.798952380952381, accuracy val: 0.729904761904762\n",
      "---------------------------------------------------------------------------------------------------\n",
      "Epoch: 97, Learning Rate: 0.000125\n",
      "\n"
     ]
    },
    {
     "data": {
      "application/vnd.jupyter.widget-view+json": {
       "model_id": "058072a876b44fbbb7743fa2c0d997ff",
       "version_major": 2,
       "version_minor": 0
      },
      "text/plain": [
       "HBox(children=(FloatProgress(value=0.0, max=657.0), HTML(value='')))"
      ]
     },
     "metadata": {},
     "output_type": "display_data"
    },
    {
     "name": "stdout",
     "output_type": "stream",
     "text": [
      "\n",
      "tensor(1.0176e-05, device='cuda:3')\n",
      "tensor(7.4707e-07, device='cuda:3')\n",
      "tensor(-0.0008, device='cuda:3')\n",
      "tensor(-0.0008, device='cuda:3')\n",
      "tensor(-8.2538e-07, device='cuda:3')\n",
      "tensor(-2.1000e-08, device='cuda:3')\n",
      "tensor(4.5351e-05, device='cuda:3')\n",
      "tensor(4.5351e-05, device='cuda:3')\n",
      "tensor(3.5830e-07, device='cuda:3')\n",
      "tensor(2.5073e-06, device='cuda:3')\n",
      "tensor(-9.3056e-05, device='cuda:3')\n",
      "tensor(-9.3056e-05, device='cuda:3')\n",
      "tensor(-3.1828e-09, device='cuda:3')\n",
      "tensor(0., device='cuda:3')\n",
      "tensor(1.2757e-05, device='cuda:3')\n",
      "tensor(1.2757e-05, device='cuda:3')\n",
      "tensor(-1.5629e-06, device='cuda:3')\n",
      "tensor(8.7004e-05, device='cuda:3')\n",
      "tensor(-2.6127e-10, device='cuda:3')\n",
      "tensor(-7.0958e-10, device='cuda:3')\n"
     ]
    },
    {
     "data": {
      "application/vnd.jupyter.widget-view+json": {
       "model_id": "bd0c38cd1cad4bff93fdd70254b5db42",
       "version_major": 2,
       "version_minor": 0
      },
      "text/plain": [
       "HBox(children=(FloatProgress(value=0.0, max=42.0), HTML(value='')))"
      ]
     },
     "metadata": {},
     "output_type": "display_data"
    },
    {
     "name": "stdout",
     "output_type": "stream",
     "text": [
      "\n",
      "epoch time: 111.90383672714233\n",
      "mean loss train: 0.6310275387309846, mean loss val: 1.1274547787620908\n",
      "accuracy train: 0.7995, accuracy val: 0.7300952380952381\n",
      "---------------------------------------------------------------------------------------------------\n",
      "Epoch: 98, Learning Rate: 0.000125\n",
      "\n"
     ]
    },
    {
     "data": {
      "application/vnd.jupyter.widget-view+json": {
       "model_id": "27198fe2daec44119b2800e28fe72880",
       "version_major": 2,
       "version_minor": 0
      },
      "text/plain": [
       "HBox(children=(FloatProgress(value=0.0, max=657.0), HTML(value='')))"
      ]
     },
     "metadata": {},
     "output_type": "display_data"
    },
    {
     "name": "stdout",
     "output_type": "stream",
     "text": [
      "\n",
      "tensor(-1.7391e-05, device='cuda:3')\n",
      "tensor(1.5251e-07, device='cuda:3')\n",
      "tensor(0.0002, device='cuda:3')\n",
      "tensor(0.0002, device='cuda:3')\n",
      "tensor(-1.0363e-06, device='cuda:3')\n",
      "tensor(-3.1508e-08, device='cuda:3')\n",
      "tensor(-1.2932e-05, device='cuda:3')\n",
      "tensor(-1.2932e-05, device='cuda:3')\n",
      "tensor(2.9482e-08, device='cuda:3')\n",
      "tensor(-2.8760e-07, device='cuda:3')\n",
      "tensor(1.1661e-05, device='cuda:3')\n",
      "tensor(1.1661e-05, device='cuda:3')\n",
      "tensor(2.8559e-08, device='cuda:3')\n",
      "tensor(0., device='cuda:3')\n",
      "tensor(-3.9583e-05, device='cuda:3')\n",
      "tensor(-3.9583e-05, device='cuda:3')\n",
      "tensor(2.3846e-06, device='cuda:3')\n",
      "tensor(-0.0003, device='cuda:3')\n",
      "tensor(4.7462e-10, device='cuda:3')\n",
      "tensor(9.7567e-10, device='cuda:3')\n"
     ]
    },
    {
     "data": {
      "application/vnd.jupyter.widget-view+json": {
       "model_id": "c5d9efd3923449b8a7b390a5be169eb7",
       "version_major": 2,
       "version_minor": 0
      },
      "text/plain": [
       "HBox(children=(FloatProgress(value=0.0, max=42.0), HTML(value='')))"
      ]
     },
     "metadata": {},
     "output_type": "display_data"
    },
    {
     "name": "stdout",
     "output_type": "stream",
     "text": [
      "\n",
      "epoch time: 113.68045449256897\n",
      "mean loss train: 0.6317841115451994, mean loss val: 1.164691606794085\n",
      "accuracy train: 0.7995952380952381, accuracy val: 0.7285714285714285\n",
      "---------------------------------------------------------------------------------------------------\n",
      "Epoch: 99, Learning Rate: 0.000125\n",
      "\n"
     ]
    },
    {
     "data": {
      "application/vnd.jupyter.widget-view+json": {
       "model_id": "d8335cd150f8419a9fb336bb400fe379",
       "version_major": 2,
       "version_minor": 0
      },
      "text/plain": [
       "HBox(children=(FloatProgress(value=0.0, max=657.0), HTML(value='')))"
      ]
     },
     "metadata": {},
     "output_type": "display_data"
    },
    {
     "name": "stdout",
     "output_type": "stream",
     "text": [
      "\n",
      "tensor(1.5078e-06, device='cuda:3')\n",
      "tensor(-5.6414e-08, device='cuda:3')\n",
      "tensor(1.6921e-06, device='cuda:3')\n",
      "tensor(1.6921e-06, device='cuda:3')\n",
      "tensor(3.7884e-07, device='cuda:3')\n",
      "tensor(-3.0657e-10, device='cuda:3')\n",
      "tensor(-3.5422e-06, device='cuda:3')\n",
      "tensor(-3.5422e-06, device='cuda:3')\n",
      "tensor(2.8170e-09, device='cuda:3')\n",
      "tensor(3.1910e-08, device='cuda:3')\n",
      "tensor(-3.6449e-06, device='cuda:3')\n",
      "tensor(-3.6449e-06, device='cuda:3')\n",
      "tensor(-5.6685e-09, device='cuda:3')\n",
      "tensor(0., device='cuda:3')\n",
      "tensor(9.3961e-07, device='cuda:3')\n",
      "tensor(9.3961e-07, device='cuda:3')\n",
      "tensor(9.8011e-08, device='cuda:3')\n",
      "tensor(-2.3403e-05, device='cuda:3')\n",
      "tensor(7.9856e-10, device='cuda:3')\n",
      "tensor(5.3218e-10, device='cuda:3')\n"
     ]
    },
    {
     "data": {
      "application/vnd.jupyter.widget-view+json": {
       "model_id": "2cbe78ce61e24cc1a99fde5813dd8719",
       "version_major": 2,
       "version_minor": 0
      },
      "text/plain": [
       "HBox(children=(FloatProgress(value=0.0, max=42.0), HTML(value='')))"
      ]
     },
     "metadata": {},
     "output_type": "display_data"
    },
    {
     "name": "stdout",
     "output_type": "stream",
     "text": [
      "\n",
      "epoch time: 110.0187349319458\n",
      "mean loss train: 0.6296663204147702, mean loss val: 1.1225373317173548\n",
      "accuracy train: 0.8001190476190476, accuracy val: 0.7307619047619047\n",
      "---------------------------------------------------------------------------------------------------\n"
     ]
    }
   ],
   "source": [
    "loss_train_all, loss_val_all = [], []\n",
    "accuracy_train_all, accuracy_val_all = [], []\n",
    "\n",
    "for epoch in range(NUM_EPOCHS):\n",
    "\n",
    "    start = time.time()\n",
    "    print(f'Epoch: {epoch}, Learning Rate: {scheduler.get_last_lr()[0]}\\n')\n",
    "#     print(f'Epoch: {epoch}\\n')\n",
    "\n",
    "    loss_train_epoch, loss_val_epoch = 0, 0\n",
    "    correct_train_epoch, correct_val_epoch = 0, 0\n",
    "    n_train, n_val = 0, 0\n",
    "\n",
    "    model.train()\n",
    "    for (X_batch_train, X_batch_lengths_train, y_batch_train) in tqdm(train_dl):\n",
    "\n",
    "        X_batch_train, X_batch_lengths_train, y_batch_train =\\\n",
    "                    X_batch_train.to(device), X_batch_lengths_train.to(device), y_batch_train.to(device)\n",
    "\n",
    "        optimizer.zero_grad()\n",
    "        y_pred_train = model(X_batch_train, X_batch_lengths_train)\n",
    "        loss_train = criterion(y_pred_train, y_batch_train)\n",
    "        loss_train.backward()\n",
    "        optimizer.step()\n",
    "\n",
    "        loss_train_epoch += loss_train.item() * y_batch_train.size()[0]\n",
    "        correct_train_epoch += correct(y_pred_train, y_batch_train)\n",
    "        n_train += y_batch_train.size()[0]\n",
    "\n",
    "    scheduler.step()\n",
    "    model.eval()\n",
    "\n",
    "    with torch.no_grad():\n",
    "        \n",
    "        for item in model.parameters():\n",
    "            print(item.grad.mean())\n",
    "        \n",
    "        for (X_batch_val, X_batch_lengths_val, y_batch_val) in tqdm(val_dl):\n",
    "\n",
    "            X_batch_val, X_batch_lengths_val, y_batch_val =\\\n",
    "                    X_batch_val.to(device), X_batch_lengths_val.to(device), y_batch_val.to(device)\n",
    "\n",
    "            y_pred_val = model(X_batch_val, X_batch_lengths_val)\n",
    "            loss_val = criterion(y_pred_val, y_batch_val)\n",
    "            \n",
    "            loss_val_epoch += loss_val.item() * y_batch_val.size()[0]\n",
    "            correct_val_epoch += correct(y_pred_val, y_batch_val)\n",
    "            n_val += y_batch_val.size()[0]\n",
    "            \n",
    "\n",
    "    loss_mean_train_epoch = loss_train_epoch / n_train\n",
    "    loss_mean_val_epoch = loss_val_epoch / n_val\n",
    "\n",
    "    loss_train_all.append(loss_mean_train_epoch)\n",
    "    loss_val_all.append(loss_mean_val_epoch)\n",
    "\n",
    "    accuracy_train_epoch = correct_train_epoch / n_train\n",
    "    accuracy_val_epoch = correct_val_epoch / n_val\n",
    "\n",
    "    accuracy_train_all.append(accuracy_train_epoch)\n",
    "    accuracy_val_all.append(accuracy_val_epoch)\n",
    "\n",
    "    writer.add_scalars('LOSS per epoch', {\"train\": loss_mean_train_epoch, \"val\": loss_mean_val_epoch}, epoch)\n",
    "    writer.add_scalars('ACCURACY per epoch', {\"train\": accuracy_train_epoch, \"val\": accuracy_val_epoch}, epoch)\n",
    "    \n",
    "#     scheduler.step(loss_mean_val_epoch)\n",
    "    \n",
    "    end = time.time()\n",
    "    print(f\"epoch time: {end - start}\")  \n",
    "    print(f\"mean loss train: {loss_mean_train_epoch}, mean loss val: {loss_mean_val_epoch}\")\n",
    "    print(f\"accuracy train: {accuracy_train_epoch}, accuracy val: {accuracy_val_epoch}\")\n",
    "\n",
    "    print(\"---------------------------------------------------------------------------------------------------\")"
   ]
  },
  {
   "cell_type": "code",
   "execution_count": null,
   "metadata": {},
   "outputs": [],
   "source": []
  },
  {
   "cell_type": "code",
   "execution_count": null,
   "metadata": {},
   "outputs": [],
   "source": []
  },
  {
   "cell_type": "code",
   "execution_count": 31,
   "metadata": {},
   "outputs": [
    {
     "data": {
      "application/vnd.jupyter.widget-view+json": {
       "model_id": "9375841a48454cbdb831f9d7995c29cb",
       "version_major": 2,
       "version_minor": 0
      },
      "text/plain": [
       "HBox(children=(FloatProgress(value=0.0, max=42.0), HTML(value='')))"
      ]
     },
     "metadata": {},
     "output_type": "display_data"
    },
    {
     "name": "stdout",
     "output_type": "stream",
     "text": [
      "\n"
     ]
    },
    {
     "ename": "ValueError",
     "evalue": "too many values to unpack (expected 2)",
     "output_type": "error",
     "traceback": [
      "\u001b[0;31m---------------------------------------------------------------------------\u001b[0m",
      "\u001b[0;31mValueError\u001b[0m                                Traceback (most recent call last)",
      "\u001b[0;32m<ipython-input-31-3347df1628cb>\u001b[0m in \u001b[0;36m<module>\u001b[0;34m\u001b[0m\n\u001b[1;32m      5\u001b[0m \u001b[0;32mwith\u001b[0m \u001b[0mtorch\u001b[0m\u001b[0;34m.\u001b[0m\u001b[0mno_grad\u001b[0m\u001b[0;34m(\u001b[0m\u001b[0;34m)\u001b[0m\u001b[0;34m:\u001b[0m\u001b[0;34m\u001b[0m\u001b[0;34m\u001b[0m\u001b[0m\n\u001b[1;32m      6\u001b[0m \u001b[0;34m\u001b[0m\u001b[0m\n\u001b[0;32m----> 7\u001b[0;31m     \u001b[0;32mfor\u001b[0m \u001b[0;34m(\u001b[0m\u001b[0mX_batch_val\u001b[0m\u001b[0;34m,\u001b[0m \u001b[0my_batch_val\u001b[0m\u001b[0;34m)\u001b[0m \u001b[0;32min\u001b[0m \u001b[0mtqdm\u001b[0m\u001b[0;34m(\u001b[0m\u001b[0mval_dl\u001b[0m\u001b[0;34m)\u001b[0m\u001b[0;34m:\u001b[0m\u001b[0;34m\u001b[0m\u001b[0;34m\u001b[0m\u001b[0m\n\u001b[0m\u001b[1;32m      8\u001b[0m \u001b[0;34m\u001b[0m\u001b[0m\n\u001b[1;32m      9\u001b[0m         \u001b[0mX_batch_val\u001b[0m\u001b[0;34m,\u001b[0m \u001b[0my_batch_val\u001b[0m \u001b[0;34m=\u001b[0m \u001b[0mX_batch_val\u001b[0m\u001b[0;34m.\u001b[0m\u001b[0mto\u001b[0m\u001b[0;34m(\u001b[0m\u001b[0mdevice\u001b[0m\u001b[0;34m)\u001b[0m\u001b[0;34m,\u001b[0m \u001b[0my_batch_val\u001b[0m\u001b[0;34m.\u001b[0m\u001b[0mto\u001b[0m\u001b[0;34m(\u001b[0m\u001b[0mdevice\u001b[0m\u001b[0;34m)\u001b[0m\u001b[0;34m\u001b[0m\u001b[0;34m\u001b[0m\u001b[0m\n",
      "\u001b[0;31mValueError\u001b[0m: too many values to unpack (expected 2)"
     ]
    }
   ],
   "source": [
    "model.eval()\n",
    "\n",
    "y_ans_val, y_true_val = [], []\n",
    "\n",
    "with torch.no_grad():\n",
    "\n",
    "    for (X_batch_val, y_batch_val) in tqdm(val_dl):\n",
    "\n",
    "        X_batch_val, y_batch_val = X_batch_val.to(device), y_batch_val.to(device)\n",
    "\n",
    "        y_pred_val = model(X_batch_val)\n",
    "        \n",
    "        y_pred_prob = F.softmax(y_pred_val.cpu(), dim=-1)\n",
    "        y_pred_class = y_pred_prob.max(dim=-1)[1]\n",
    "       \n",
    "        y_ans_val += y_pred_class.tolist()\n",
    "        y_true_val += y_batch_val.tolist()"
   ]
  },
  {
   "cell_type": "code",
   "execution_count": null,
   "metadata": {},
   "outputs": [],
   "source": [
    "plt.figure(figsize=(15, 10))\n",
    "plt.title(\"FDR\")\n",
    "sns.heatmap(confusion_matrix(y_true_val, y_ans_val, normalize='pred'), annot=True, cmap=sns.cm.rocket_r)\n",
    "plt.xlabel('predicted class')\n",
    "plt.ylabel('true class')\n",
    "plt.show()"
   ]
  },
  {
   "cell_type": "code",
   "execution_count": null,
   "metadata": {},
   "outputs": [],
   "source": [
    "plt.figure(figsize=(20, 8))\n",
    "plt.title(\"loss\")\n",
    "plt.plot(np.arange(len(loss_train_all)), loss_train_all, '-o', marker='.', label='train')\n",
    "plt.plot(np.arange(len(loss_val_all)), loss_val_all, '-o', marker='.', label='val')\n",
    "plt.legend()\n",
    "plt.show()"
   ]
  },
  {
   "cell_type": "code",
   "execution_count": null,
   "metadata": {},
   "outputs": [],
   "source": [
    "plt.figure(figsize=(20, 8))\n",
    "plt.title(\"accuracy\")\n",
    "plt.plot(np.arange(len(accuracy_train_all)), accuracy_train_all, '-o', marker='.', label='train')\n",
    "plt.plot(np.arange(len(accuracy_val_all)), accuracy_val_all, '-o', marker='.', label='val')\n",
    "plt.legend()\n",
    "plt.show()"
   ]
  },
  {
   "cell_type": "markdown",
   "metadata": {},
   "source": [
    "# ----------------------------------------------------------------------------------------"
   ]
  },
  {
   "cell_type": "code",
   "execution_count": null,
   "metadata": {},
   "outputs": [],
   "source": []
  }
 ],
 "metadata": {
  "kernelspec": {
   "display_name": "Python 3",
   "language": "python",
   "name": "python3"
  }
 },
 "nbformat": 4,
 "nbformat_minor": 4
}
