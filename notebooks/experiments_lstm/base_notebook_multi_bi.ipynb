{
 "cells": [
  {
   "cell_type": "code",
   "execution_count": 1,
   "metadata": {},
   "outputs": [
    {
     "name": "stdout",
     "output_type": "stream",
     "text": [
      "cuda:5\n"
     ]
    }
   ],
   "source": [
    "import os\n",
    "import gc\n",
    "import sys\n",
    "import time\n",
    "\n",
    "import pyreadr as py\n",
    "import pandas as pd\n",
    "import numpy as np\n",
    "import seaborn as sns\n",
    "import matplotlib.pyplot as plt\n",
    "\n",
    "from tqdm.notebook import tqdm\n",
    "from collections import defaultdict\n",
    "\n",
    "import torch\n",
    "import torch.nn.functional as F\n",
    "\n",
    "from torch import nn\n",
    "from torch.optim import Adam, RMSprop\n",
    "from torch.optim.lr_scheduler import StepLR, ReduceLROnPlateau\n",
    "from torch.utils.data import Dataset, DataLoader\n",
    "from torch.utils.tensorboard import SummaryWriter\n",
    "from torch.nn.utils.rnn import pad_sequence, pack_padded_sequence, pad_packed_sequence\n",
    "\n",
    "from sklearn.model_selection import train_test_split\n",
    "from sklearn.preprocessing import StandardScaler\n",
    "from sklearn.metrics import confusion_matrix\n",
    "from datetime import datetime\n",
    "\n",
    "device = torch.device(\"cuda:5\" if torch.cuda.is_available() else \"cpu\")\n",
    "# device = torch.device(\"cpu\")\n",
    "print(device)"
   ]
  },
  {
   "cell_type": "markdown",
   "metadata": {},
   "source": [
    "> ### Data downloading\n",
    "Data link  \n",
    "https://dataverse.harvard.edu/dataset.xhtml?persistentId=doi:10.7910/DVN/6C3JR1"
   ]
  },
  {
   "cell_type": "markdown",
   "metadata": {},
   "source": [
    "##### Data description\n",
    "Here we consoder dataset of \"Additional Tennessee Eastman Process Simulation Data for Anomaly Detection Evaluation\"\n",
    "This dataverse contains the data referenced in Rieth et al. (2017). Issues and Advances in Anomaly Detection Evaluation for Joint Human-Automated Systems. To be presented at Applied Human Factors and Ergonomics 2017.\n",
    "##### Columns description\n",
    "* **faultNumber** ranges from 1 to 20 in the “Faulty” datasets and represents the fault type in the TEP. The “FaultFree” datasets only contain fault 0 (i.e. normal operating conditions).\n",
    "* **simulationRun** ranges from 1 to 500 and represents a different random number generator state from which a full TEP dataset was generated (Note: the actual seeds used to generate training and testing datasets were non-overlapping).\n",
    "* **sample** ranges either from 1 to 500 (“Training” datasets) or 1 to 960 (“Testing” datasets). The TEP variables (columns 4 to 55) were sampled every 3 minutes for a total duration of 25 hours and 48 hours respectively. Note that the faults were introduced 1 and 8 hours into the Faulty Training and Faulty Testing datasets, respectively.\n",
    "* **columns 4-55** contain the process variables; the column names retain the original variable names."
   ]
  },
  {
   "cell_type": "code",
   "execution_count": 2,
   "metadata": {},
   "outputs": [],
   "source": [
    "# ! unzip ../../data/raw/dataverse_files.zip -d ../../data/raw/dataverse_files"
   ]
  },
  {
   "cell_type": "code",
   "execution_count": 3,
   "metadata": {},
   "outputs": [],
   "source": [
    "#reading train data in .R format\n",
    "a1 = py.read_r(\"../../data/raw/dataverse_files/TEP_FaultFree_Training.RData\")\n",
    "a2 = py.read_r(\"../../data/raw/dataverse_files/TEP_Faulty_Training.RData\")"
   ]
  },
  {
   "cell_type": "code",
   "execution_count": 4,
   "metadata": {},
   "outputs": [
    {
     "name": "stdout",
     "output_type": "stream",
     "text": [
      "Objects that are present in a1 : odict_keys(['fault_free_training'])\n",
      "Objects that are present in a2 : odict_keys(['faulty_training'])\n"
     ]
    }
   ],
   "source": [
    "print(\"Objects that are present in a1 :\", a1.keys())\n",
    "print(\"Objects that are present in a2 :\", a2.keys())\n",
    "# print(\"Objects that are present in a3 :\", a3.keys())\n",
    "# print(\"Objects that are present in a4 :\", a4.keys())"
   ]
  },
  {
   "cell_type": "code",
   "execution_count": 5,
   "metadata": {},
   "outputs": [],
   "source": [
    "# concatinating the train and the test dataset\n",
    "\n",
    "raw_train = pd.concat([a1['fault_free_training'], a2['faulty_training']])"
   ]
  },
  {
   "cell_type": "code",
   "execution_count": 6,
   "metadata": {},
   "outputs": [
    {
     "data": {
      "text/plain": [
       "5250000"
      ]
     },
     "execution_count": 6,
     "metadata": {},
     "output_type": "execute_result"
    }
   ],
   "source": [
    "# 5.250.000, 10.080.000\n",
    "len(raw_train)"
   ]
  },
  {
   "cell_type": "markdown",
   "metadata": {},
   "source": [
    "> ### Train-test-split"
   ]
  },
  {
   "cell_type": "code",
   "execution_count": 7,
   "metadata": {},
   "outputs": [],
   "source": [
    "features = [\n",
    "        'xmeas_1', 'xmeas_2', 'xmeas_3', 'xmeas_4', 'xmeas_5', 'xmeas_6', 'xmeas_7', 'xmeas_8',\n",
    "        'xmeas_9', 'xmeas_10', 'xmeas_11', 'xmeas_12', 'xmeas_13', 'xmeas_14', 'xmeas_15', 'xmeas_16', \n",
    "        'xmeas_17', 'xmeas_18', 'xmeas_19', 'xmeas_20', 'xmeas_21', 'xmeas_22', 'xmeas_23', 'xmeas_24', \n",
    "        'xmeas_25', 'xmeas_26', 'xmeas_27', 'xmeas_28', 'xmeas_29', 'xmeas_30', 'xmeas_31', 'xmeas_32',\n",
    "        'xmeas_33', 'xmeas_34', 'xmeas_35', 'xmeas_36', 'xmeas_37', 'xmeas_38', 'xmeas_39', 'xmeas_40', \n",
    "        'xmeas_41', 'xmv_1', 'xmv_2', 'xmv_3', 'xmv_4', 'xmv_5', 'xmv_6', 'xmv_7', 'xmv_8', 'xmv_9', \n",
    "        'xmv_10', 'xmv_11'\n",
    "    ]"
   ]
  },
  {
   "cell_type": "code",
   "execution_count": 8,
   "metadata": {},
   "outputs": [],
   "source": [
    "raw_train['index'] = raw_train['faultNumber'] * 500 + raw_train['simulationRun'] - 1"
   ]
  },
  {
   "cell_type": "code",
   "execution_count": 9,
   "metadata": {},
   "outputs": [],
   "source": [
    "simulation_idx = raw_train[['index', 'faultNumber']].drop_duplicates()\n",
    "\n",
    "X_train_idx, X_val_idx = train_test_split(simulation_idx['index'], \n",
    "                                          stratify=simulation_idx['faultNumber'],\n",
    "                                          test_size=0.2, \n",
    "                                          random_state=42)"
   ]
  },
  {
   "cell_type": "code",
   "execution_count": 10,
   "metadata": {},
   "outputs": [],
   "source": [
    "X_train = raw_train[raw_train['index'].isin(X_train_idx)].drop('index', axis=1)\n",
    "X_val = raw_train[raw_train['index'].isin(X_val_idx)].drop('index', axis=1)"
   ]
  },
  {
   "cell_type": "markdown",
   "metadata": {},
   "source": [
    "> ### Scaling"
   ]
  },
  {
   "cell_type": "code",
   "execution_count": 11,
   "metadata": {},
   "outputs": [],
   "source": [
    "scaler = StandardScaler()\n",
    "scaler.fit(X_train[features])\n",
    "\n",
    "X_train[features] = scaler.transform(X_train[features])\n",
    "X_val[features] = scaler.transform(X_val[features])"
   ]
  },
  {
   "cell_type": "markdown",
   "metadata": {},
   "source": [
    "> ### Dataset and dataloader"
   ]
  },
  {
   "cell_type": "code",
   "execution_count": 12,
   "metadata": {},
   "outputs": [],
   "source": [
    "def correct(y_pred, target):\n",
    "    \n",
    "    y_pred = torch.softmax(y_pred, dim=1)\n",
    "    y_pred = torch.max(y_pred, dim=1)[1]  \n",
    "    \n",
    "    return torch.eq(y_pred, target).sum().item()"
   ]
  },
  {
   "cell_type": "code",
   "execution_count": 13,
   "metadata": {},
   "outputs": [],
   "source": [
    "FAULT_START_TRAINVAL = 20\n",
    "FAULT_START_TEST = 160"
   ]
  },
  {
   "cell_type": "code",
   "execution_count": 14,
   "metadata": {},
   "outputs": [],
   "source": [
    "class DataTEP(Dataset):\n",
    "\n",
    "    def __init__(self, X):\n",
    "    \n",
    "        self.X = X\n",
    "        self.X = self.X.sort_values(['faultNumber', 'simulationRun', 'sample'])\n",
    "        self.X['index'] = self.X.groupby(['faultNumber', 'simulationRun']).ngroup()\n",
    "        self.X = self.X.set_index('index')\n",
    "        \n",
    "        self.max_length = self.X['sample'].max()\n",
    "\n",
    "        self.s_list = [FAULT_START_TRAINVAL, FAULT_START_TRAINVAL + 200]\n",
    "        self.l_list = [200]\n",
    "        \n",
    "#         self.s_list = [FAULT_START_TRAINVAL]\n",
    "#         self.l_list = [50, 100]\n",
    "        \n",
    "        self.features = [\n",
    "                'xmeas_1', 'xmeas_2', 'xmeas_3', 'xmeas_4', 'xmeas_5', 'xmeas_6', 'xmeas_7', 'xmeas_8', 'xmeas_9', \n",
    "                'xmeas_10', 'xmeas_11', 'xmeas_12', 'xmeas_13', 'xmeas_14', 'xmeas_15', 'xmeas_16', 'xmeas_17', \n",
    "                'xmeas_18', 'xmeas_19', 'xmeas_20', 'xmeas_21', 'xmeas_22', 'xmeas_23', 'xmeas_24', 'xmeas_25', \n",
    "                'xmeas_26', 'xmeas_27', 'xmeas_28', 'xmeas_29', 'xmeas_30', 'xmeas_31', 'xmeas_32', 'xmeas_33', \n",
    "                'xmeas_34', 'xmeas_35', 'xmeas_36', 'xmeas_37', 'xmeas_38', 'xmeas_39', 'xmeas_40', 'xmeas_41', \n",
    "                'xmv_1', 'xmv_2', 'xmv_3', 'xmv_4', 'xmv_5', 'xmv_6', 'xmv_7', 'xmv_8', 'xmv_9', 'xmv_10', 'xmv_11'\n",
    "            ]\n",
    "\n",
    "    def __len__(self):\n",
    "        return self.X.index.nunique() * len(self.s_list) * len(self.l_list)\n",
    "    \n",
    "    def __getitem__(self, idx):\n",
    "        \n",
    "        fault_sim_idx = idx // (len(self.s_list) * len(self.l_list))\n",
    "    \n",
    "        start_length_idxs = idx % (len(self.s_list) * len(self.l_list))\n",
    "        \n",
    "        start_idx = self.s_list[start_length_idxs // len(self.l_list)]\n",
    "        seq_length = self.l_list[start_length_idxs % len(self.l_list)]\n",
    "\n",
    "        features = self.X.loc[fault_sim_idx][self.features].values[start_idx : (start_idx+seq_length), :]\n",
    "        target = self.X.loc[fault_sim_idx]['faultNumber'].unique()[0]\n",
    "\n",
    "        features = torch.tensor(features, dtype=torch.float)\n",
    "        target = torch.tensor(target, dtype=torch.long)\n",
    "\n",
    "        return features, target"
   ]
  },
  {
   "cell_type": "code",
   "execution_count": 15,
   "metadata": {},
   "outputs": [],
   "source": [
    "BATCH_SIZE = 64\n",
    "NUM_CLASSES = 21"
   ]
  },
  {
   "cell_type": "code",
   "execution_count": 16,
   "metadata": {},
   "outputs": [],
   "source": [
    "def collate_fn(batch):\n",
    "\n",
    "    sequences = [x[0] for x in batch]\n",
    "    labels = [x[1] for x in batch]\n",
    "        \n",
    "    lengths = torch.LongTensor([len(x) for x in sequences])\n",
    "    lengths, idx = lengths.sort(0, descending=True)\n",
    "    \n",
    "    sequences = [sequences[i] for i in idx]\n",
    "    \n",
    "    labels = torch.tensor(labels, dtype=torch.long)[idx]\n",
    "    \n",
    "    sequences_padded = pad_sequence(sequences, batch_first=True)\n",
    "\n",
    "    return sequences_padded, lengths, labels"
   ]
  },
  {
   "cell_type": "code",
   "execution_count": 17,
   "metadata": {},
   "outputs": [],
   "source": [
    "train_ds = DataTEP(X_train)\n",
    "train_dl = DataLoader(train_ds, batch_size=BATCH_SIZE, collate_fn=collate_fn, shuffle=True)\n",
    "\n",
    "val_ds = DataTEP(X_val)\n",
    "val_dl = DataLoader(val_ds, batch_size=BATCH_SIZE*4, collate_fn=collate_fn)"
   ]
  },
  {
   "cell_type": "code",
   "execution_count": 18,
   "metadata": {},
   "outputs": [
    {
     "data": {
      "text/plain": [
       "tensor(1)"
      ]
     },
     "execution_count": 18,
     "metadata": {},
     "output_type": "execute_result"
    }
   ],
   "source": [
    "train_ds[1000][1]"
   ]
  },
  {
   "cell_type": "code",
   "execution_count": 19,
   "metadata": {},
   "outputs": [
    {
     "data": {
      "text/plain": [
       "(16800, 4200)"
      ]
     },
     "execution_count": 19,
     "metadata": {},
     "output_type": "execute_result"
    }
   ],
   "source": [
    "len(train_ds), len(val_ds)"
   ]
  },
  {
   "cell_type": "code",
   "execution_count": 20,
   "metadata": {},
   "outputs": [
    {
     "data": {
      "text/plain": [
       "0"
      ]
     },
     "execution_count": 20,
     "metadata": {},
     "output_type": "execute_result"
    }
   ],
   "source": [
    "gc.collect()"
   ]
  },
  {
   "cell_type": "markdown",
   "metadata": {},
   "source": [
    "> ### Models"
   ]
  },
  {
   "cell_type": "code",
   "execution_count": 21,
   "metadata": {},
   "outputs": [],
   "source": [
    "class UniRNN(nn.Module) :\n",
    "    def __init__(self, RNN_TYPE, NUM_LAYERS, INPUT_SIZE, HIDDEN_SIZE, LINEAR_SIZE, OUTPUT_SIZE, BIDIRECTIONAL, DESCRIPTION):\n",
    "        super().__init__()\n",
    "        \n",
    "        self.rnn_type = RNN_TYPE\n",
    "        self.hidden_size = HIDDEN_SIZE\n",
    "        self.num_layers = NUM_LAYERS\n",
    "        self.input_size = INPUT_SIZE\n",
    "        self.linear_size = LINEAR_SIZE\n",
    "        self.output_size = OUTPUT_SIZE\n",
    "        self.bidirectional = BIDIRECTIONAL\n",
    "        self.description = DESCRIPTION\n",
    "        \n",
    "        rnn_cell = getattr(nn, RNN_TYPE)\n",
    "        \n",
    "        self.rnn = rnn_cell(\n",
    "                        input_size=self.input_size, \n",
    "                        hidden_size=self.hidden_size,\n",
    "                        num_layers=self.num_layers, \n",
    "                        bidirectional=self.bidirectional,\n",
    "                        batch_first=True,\n",
    "                        dropout=0.4\n",
    "                )    \n",
    "        \n",
    "        self.head = nn.Sequential(\n",
    "                        nn.Linear(in_features=self.hidden_size*(self.bidirectional+1), out_features=self.linear_size),\n",
    "                        nn.ReLU(),\n",
    "                        nn.Dropout(p=0.4),\n",
    "                        nn.Linear(in_features=self.linear_size, out_features=self.output_size),\n",
    "                )\n",
    "    \n",
    "    def get_params(self):\n",
    "        \n",
    "        return {\n",
    "            \"RNN_TYPE\": self.rnn_type,\n",
    "            \"HIDDEN_SIZE\": self.hidden_size,\n",
    "            \"NUM_LAYERS\": self.num_layers,\n",
    "            \"INPUT_SIZE\": self.input_size,\n",
    "            \"LINEAR_SIZE\": self.linear_size,\n",
    "            \"OUTPUT_SIZE\": self.output_size,\n",
    "            \"BIDIRECTIONAL\": self.bidirectional,\n",
    "            \"DESCRIPTION\": self.description,\n",
    "            }\n",
    "            \n",
    "    def forward(self, x, x_length):\n",
    "        \n",
    "        x_packed = pack_padded_sequence(x, x_length, batch_first=True)\n",
    "        x_rnn_out, _ = self.rnn(x_packed)\n",
    "        x_unpacked, _ = pad_packed_sequence(x_rnn_out, batch_first=True)\n",
    "        \n",
    "        idx_last_hidden = (x_length - 1).view(-1, 1).expand(len(x_length), x_unpacked.size(2)).unsqueeze(1)\n",
    "        idx_last_hidden = idx_last_hidden.to(x.device)\n",
    "        x_last_hiddens = x_unpacked.gather(1, idx_last_hidden).squeeze(1)\n",
    "        \n",
    "        x = self.head(x_last_hiddens)\n",
    "        \n",
    "        return x"
   ]
  },
  {
   "cell_type": "code",
   "execution_count": 22,
   "metadata": {},
   "outputs": [],
   "source": [
    "class AttentionModel(torch.nn.Module):\n",
    "    def __init__(self, RNN_TYPE, NUM_LAYERS, INPUT_SIZE, HIDDEN_SIZE, LINEAR_SIZE, OUTPUT_SIZE, BIDIRECTIONAL):\n",
    "        super().__init__()\n",
    "        \n",
    "        \n",
    "        self.rnn_type = RNN_TYPE\n",
    "        self.hidden_size = HIDDEN_SIZE\n",
    "        self.num_layers = NUM_LAYERS\n",
    "        self.input_size = INPUT_SIZE\n",
    "        self.linear_size = LINEAR_SIZE\n",
    "        self.output_size = OUTPUT_SIZE\n",
    "        self.bidirectional = BIDIRECTIONAL\n",
    "        \n",
    "        rnn_cell = getattr(nn, RNN_TYPE)\n",
    "\n",
    "        self.rnn = rnn_cell(\n",
    "                        input_size=self.input_size, \n",
    "                        hidden_size=self.hidden_size, \n",
    "                        num_layers=self.num_layers, \n",
    "                        bidirectional=self.bidirectional,\n",
    "                        dropout=0.4,\n",
    "                        batch_first=True\n",
    "                )\n",
    "        \n",
    "        self.head = nn.Sequential(\n",
    "#                         nn.Linear(in_features=self.hidden_size*(self.bidirectional+1), out_features=self.output_size),\n",
    "                        nn.Linear(in_features=self.hidden_size*(self.bidirectional+1), out_features=self.linear_size),\n",
    "                        nn.ReLU(),\n",
    "                        nn.Dropout(p=0.4),\n",
    "                        nn.Linear(in_features=self.linear_size, out_features=self.output_size),\n",
    "                )\n",
    "        \n",
    "        \n",
    "    def get_params(self):\n",
    "        \n",
    "        return {\n",
    "            \"RNN_TYPE\": self.rnn_type, \n",
    "            \"HIDDEN_SIZE\": self.hidden_size,\n",
    "            \"NUM_LAYERS\": self.num_layers,\n",
    "            \"INPUT_SIZE\": self.input_size,\n",
    "            \"LINEAR_SIZE\": self.linear_size,\n",
    "            \"OUTPUT_SIZE\": self.output_size,\n",
    "            \"BIDIRECTIONAL\": self.bidirectional\n",
    "        }\n",
    "    \n",
    "\n",
    "    def attention(self, lstm_output, last_hidden):\n",
    "        \n",
    "        attn_weights = torch.bmm(lstm_output, last_hidden.unsqueeze(2)).squeeze(2)\n",
    "        soft_attn_weights = F.softmax(attn_weights, dim=1)\n",
    "        new_hidden_state = torch.bmm(lstm_output.transpose(1, 2), soft_attn_weights.unsqueeze(2)).squeeze(2)\n",
    "\n",
    "        return new_hidden_state\n",
    "    \n",
    "    def forward(self, x, x_length):\n",
    "\n",
    "        x_packed = pack_padded_sequence(x, x_length, batch_first=True)\n",
    "        \n",
    "        x_rnn_out, _ = self.rnn(x_packed)\n",
    "        \n",
    "        x_unpacked, __ = pad_packed_sequence(x_rnn_out, batch_first=True)\n",
    "        \n",
    "        idx_last_hidden = (x_length - 1).view(-1, 1).expand(len(x_length), x_unpacked.size(2)).unsqueeze(1)\n",
    "        idx_last_hidden = idx_last_hidden.to(x.device)\n",
    "        x_last_hiddens = x_unpacked.gather(1, idx_last_hidden).squeeze(1)\n",
    "        \n",
    "        attention_out = self.attention(x_unpacked, x_last_hiddens)\n",
    "        x = self.head(attention_out)\n",
    "\n",
    "        return x"
   ]
  },
  {
   "cell_type": "code",
   "execution_count": 23,
   "metadata": {},
   "outputs": [],
   "source": [
    "class TransformerModel(torch.nn.Module):\n",
    "    def __init__(self, NUM_LAYERS, INPUT_SIZE, HIDDEN_SIZE, LINEAR_SIZE, OUTPUT_SIZE, DROPOUT):\n",
    "        super().__init__()\n",
    "        \n",
    "        self.hidden_size = HIDDEN_SIZE\n",
    "        self.num_layers = NUM_LAYERS\n",
    "        self.input_size = INPUT_SIZE\n",
    "        self.linear_size = LINEAR_SIZE\n",
    "        self.output_size = OUTPUT_SIZE\n",
    "        self.dropout = DROPOUT\n",
    "        \n",
    "        transformer_encoder_layer = nn.TransformerEncoderLayer(\n",
    "                        d_model=self.input_size, \n",
    "                        nhead=4, \n",
    "                        dim_feedforward=self.hidden_size, \n",
    "                        dropout=self.dropout, \n",
    "                        activation='relu'\n",
    "                )\n",
    "        \n",
    "        \n",
    "        self.transformer_encoder = nn.TransformerEncoder(\n",
    "                        encoder_layer=transformer_encoder_layer, \n",
    "                        num_layers=self.num_layers, \n",
    "                        norm=None\n",
    "                )\n",
    "        \n",
    "        self.weighted_mean = nn.Conv1d(\n",
    "                        in_channels=self.input_size, \n",
    "                        out_channels=self.input_size, \n",
    "                        kernel_size=100, \n",
    "                        groups=self.input_size)\n",
    "    \n",
    "        self.head = nn.Sequential(\n",
    "                        nn.Dropout(p=0.2),\n",
    "                        nn.Linear(in_features=52, out_features=self.output_size),\n",
    "#                         nn.Linear(in_features=52, out_features=self.linear_size),\n",
    "#                         nn.ReLU(),\n",
    "#                         nn.Dropout(p=0.4),\n",
    "#                         nn.Linear(in_features=self.linear_size, out_features=self.output_size),\n",
    "                )\n",
    "        \n",
    "    \n",
    "    def get_params(self):\n",
    "        \n",
    "        return {\n",
    "                \"HIDDEN_SIZE\": self.hidden_size,\n",
    "                \"NUM_LAYERS\": self.num_layers,\n",
    "                \"INPUT_SIZE\": self.input_size,\n",
    "                \"LINEAR_SIZE\": self.linear_size,\n",
    "                \"OUTPUT_SIZE\": self.output_size,\n",
    "                \"DROPOUT\": self.dropout\n",
    "            }    \n",
    "    \n",
    "    \n",
    "    def forward(self, x, x_length=None):\n",
    "        \"\"\"\n",
    "        src: (S, N, E) = (sequence_length, batch_size, n_features)\n",
    "        src_key_padding_mask: (N, S) = (batch_size, sequence_length)\n",
    "        \"\"\"\n",
    "    \n",
    "        x_mask = torch.zeros(x.size(0), x.size(1), dtype=bool, device=x.device)\n",
    "        \n",
    "        for i in range(len(x)):\n",
    "            x_mask[i, x_length[i]:] = True\n",
    "\n",
    "        x = self.transformer_encoder(src=x.transpose(0, 1), src_key_padding_mask=x_mask)\n",
    "        x = x.permute(1, 2, 0)\n",
    "        x = self.weighted_mean(x)\n",
    "        x = x.squeeze(-1)\n",
    "        x = self.head(x)\n",
    "\n",
    "        return x"
   ]
  },
  {
   "cell_type": "code",
   "execution_count": 24,
   "metadata": {},
   "outputs": [],
   "source": [
    "class MultiRNN(nn.Module) :\n",
    "    def __init__(self, RNN_TYPE, NUM_LAYERS, INPUT_SIZE, HIDDEN_SIZE, LINEAR_SIZE, OUTPUT_SIZE, BIDIRECTIONAL, DESCRIPTION):\n",
    "        super().__init__()\n",
    "        \n",
    "        self.rnn_type = RNN_TYPE\n",
    "        self.hidden_size = HIDDEN_SIZE\n",
    "        self.num_layers = NUM_LAYERS\n",
    "        self.input_size = INPUT_SIZE\n",
    "        self.linear_size = LINEAR_SIZE\n",
    "        self.output_size = OUTPUT_SIZE\n",
    "        self.bidirectional = BIDIRECTIONAL\n",
    "        self.description = DESCRIPTION\n",
    "        \n",
    "        rnn_cell = getattr(nn, RNN_TYPE)\n",
    "        \n",
    "        self.rnn = rnn_cell(\n",
    "                        input_size=self.input_size, \n",
    "                        hidden_size=self.hidden_size,\n",
    "                        num_layers=self.num_layers, \n",
    "                        bidirectional=self.bidirectional,\n",
    "                        batch_first=True,\n",
    "                        dropout=0.4\n",
    "                )    \n",
    "        \n",
    "        self.head = nn.Sequential(\n",
    "                        nn.Linear(in_features=self.hidden_size*(self.bidirectional+1), out_features=self.linear_size),\n",
    "                        nn.ReLU(),\n",
    "                        nn.Dropout(p=0.4),\n",
    "                        nn.Linear(in_features=self.linear_size, out_features=self.output_size),\n",
    "                )\n",
    "    \n",
    "    def get_params(self):\n",
    "        \n",
    "        return {\n",
    "            \"RNN_TYPE\": self.rnn_type,\n",
    "            \"HIDDEN_SIZE\": self.hidden_size,\n",
    "            \"NUM_LAYERS\": self.num_layers,\n",
    "            \"INPUT_SIZE\": self.input_size,\n",
    "            \"LINEAR_SIZE\": self.linear_size,\n",
    "            \"OUTPUT_SIZE\": self.output_size,\n",
    "            \"BIDIRECTIONAL\": self.bidirectional,\n",
    "            \"DESCRIPTION\": self.description,\n",
    "            }\n",
    "            \n",
    "    def forward(self, x, x_length):\n",
    "        \n",
    "#         print(\"x\", x.size())\n",
    "        x, _ = self.rnn(x)\n",
    "#         print(\"x\", x.size())\n",
    "        x = self.head(x)\n",
    "#         print(\"x\", x.size())\n",
    "        \n",
    "        return x"
   ]
  },
  {
   "cell_type": "code",
   "execution_count": 25,
   "metadata": {},
   "outputs": [],
   "source": [
    "NUM_EPOCHS = 50\n",
    "LEARNING_RATE = 0.001\n",
    "\n",
    "NUM_LAYERS = 2\n",
    "HIDDEN_SIZE = 128\n",
    "LINEAR_SIZE = 64\n",
    "BIDIRECTIONAL = True\n",
    "\n",
    "RNN_TYPE = \"GRU\""
   ]
  },
  {
   "cell_type": "markdown",
   "metadata": {},
   "source": [
    "> ### Model initialization"
   ]
  },
  {
   "cell_type": "code",
   "execution_count": 26,
   "metadata": {},
   "outputs": [],
   "source": [
    "torch.manual_seed(42)\n",
    "np.random.seed(42)\n",
    "\n",
    "\n",
    "# model = UniRNN(\n",
    "#             RNN_TYPE=RNN_TYPE, NUM_LAYERS=NUM_LAYERS, INPUT_SIZE=52, HIDDEN_SIZE=HIDDEN_SIZE, \n",
    "#             LINEAR_SIZE=LINEAR_SIZE, OUTPUT_SIZE=NUM_CLASSES, BIDIRECTIONAL=BIDIRECTIONAL, \n",
    "#             DESCRIPTION='simple_model_for_metrics'\n",
    "#         )\n",
    "\n",
    "# model = AttentionModel(\n",
    "#             RNN_TYPE=RNN_TYPE, NUM_LAYERS=NUM_LAYERS, INPUT_SIZE=52, HIDDEN_SIZE=HIDDEN_SIZE, \n",
    "#             LINEAR_SIZE=LINEAR_SIZE, OUTPUT_SIZE=NUM_CLASSES, BIDIRECTIONAL=BIDIRECTIONAL\n",
    "#         )\n",
    "\n",
    "# model = TransformerModel(\n",
    "#             NUM_LAYERS=6, INPUT_SIZE=52, HIDDEN_SIZE=128, LINEAR_SIZE=52, OUTPUT_SIZE=21, DROPOUT=0.4\n",
    "#         )\n",
    "\n",
    "model = MultiRNN(\n",
    "            RNN_TYPE=RNN_TYPE, NUM_LAYERS=NUM_LAYERS, INPUT_SIZE=52, HIDDEN_SIZE=HIDDEN_SIZE, \n",
    "            LINEAR_SIZE=LINEAR_SIZE, OUTPUT_SIZE=NUM_CLASSES, BIDIRECTIONAL=BIDIRECTIONAL, \n",
    "            DESCRIPTION=''\n",
    "        )\n",
    "\n",
    "model = model.to(device)\n",
    "\n",
    "optimizer = Adam(model.parameters(), lr=LEARNING_RATE)\n",
    "criterion = nn.CrossEntropyLoss()\n",
    "# scheduler = StepLR(optimizer, step_size=25, gamma=0.5)\n",
    "scheduler = ReduceLROnPlateau(optimizer, patience=10, verbose=True)"
   ]
  },
  {
   "cell_type": "code",
   "execution_count": 27,
   "metadata": {},
   "outputs": [
    {
     "name": "stdout",
     "output_type": "stream",
     "text": [
      "<class 'torch.Tensor'> <class 'torch.Tensor'> <class 'torch.Tensor'>\n",
      "64 64 64\n",
      "tensor([200, 200, 200, 200, 200, 200, 200, 200, 200, 200, 200, 200, 200, 200,\n",
      "        200, 200, 200, 200, 200, 200, 200, 200, 200, 200, 200, 200, 200, 200,\n",
      "        200, 200, 200, 200, 200, 200, 200, 200, 200, 200, 200, 200, 200, 200,\n",
      "        200, 200, 200, 200, 200, 200, 200, 200, 200, 200, 200, 200, 200, 200,\n",
      "        200, 200, 200, 200, 200, 200, 200, 200])\n",
      "y_batch_train.size() torch.Size([64])\n",
      "y_pred_train.size() torch.Size([64, 200, 21]) \n",
      "\n"
     ]
    }
   ],
   "source": [
    "for i, (X_batch, X_lengths, y_batch) in enumerate(train_dl):\n",
    "    if i < 1:\n",
    "        print(type(X_batch), type(X_lengths), type(y_batch))\n",
    "        print(len(X_batch), len(X_lengths), len(y_batch))\n",
    "        print(X_lengths)\n",
    "        X_batch, y_batch_train = X_batch.to(device), y_batch.to(device)\n",
    "        y_pred_train = model(X_batch, X_lengths)\n",
    "        print(\"y_batch_train.size()\", y_batch.size())\n",
    "        print(\"y_pred_train.size()\", y_pred_train.size(), '\\n')\n",
    "    else:\n",
    "        break"
   ]
  },
  {
   "cell_type": "code",
   "execution_count": 29,
   "metadata": {},
   "outputs": [],
   "source": [
    "# writer = SummaryWriter(comment=f'NL{NUM_LAYERS}_H{HIDDEN_SIZE}_L{LINEAR_SIZE}_B{BIDIRECTIONAL}_S{-100}')\n",
    "writer = SummaryWriter(\n",
    "    log_dir=f\"multi_rnn_fine_tuning/{datetime.today().strftime('%d%b-%H-%M')}_bidirectional_bot_for_use\"\n",
    "    )"
   ]
  },
  {
   "cell_type": "code",
   "execution_count": 30,
   "metadata": {},
   "outputs": [
    {
     "name": "stdout",
     "output_type": "stream",
     "text": [
      "\u001b[0m\u001b[01;34m21May-17-58\u001b[0m/                            \u001b[01;34m22May-13-57_bidirectional_bot_for_use\u001b[0m/\r\n",
      "\u001b[01;34m22May-08-27_bidirectional_bot_for_use\u001b[0m/\r\n"
     ]
    }
   ],
   "source": [
    "ls multi_rnn_fine_tuning/"
   ]
  },
  {
   "cell_type": "markdown",
   "metadata": {},
   "source": [
    "> ### Training"
   ]
  },
  {
   "cell_type": "code",
   "execution_count": 34,
   "metadata": {
    "scrolled": true
   },
   "outputs": [
    {
     "name": "stdout",
     "output_type": "stream",
     "text": [
      "Epoch: 0, Learning Rate: 0.001\n",
      "\n"
     ]
    },
    {
     "data": {
      "application/vnd.jupyter.widget-view+json": {
       "model_id": "353f560698c44ea0acb4f71a60c7121e",
       "version_major": 2,
       "version_minor": 0
      },
      "text/plain": [
       "HBox(children=(FloatProgress(value=0.0, max=263.0), HTML(value='')))"
      ]
     },
     "metadata": {},
     "output_type": "display_data"
    },
    {
     "name": "stdout",
     "output_type": "stream",
     "text": [
      "\n"
     ]
    },
    {
     "data": {
      "application/vnd.jupyter.widget-view+json": {
       "model_id": "c77b74d830ac45108eb9d5ff48905168",
       "version_major": 2,
       "version_minor": 0
      },
      "text/plain": [
       "HBox(children=(FloatProgress(value=0.0, max=17.0), HTML(value='')))"
      ]
     },
     "metadata": {},
     "output_type": "display_data"
    },
    {
     "name": "stdout",
     "output_type": "stream",
     "text": [
      "\n",
      "epoch time: 57.235042572021484\n",
      "mean loss train: 1.1039482799030487, mean loss val: 1.044362508704265\n",
      "accuracy train: 0.6279648809523809, accuracy val: 0.6464285714285715\n",
      "---------------------------------------------------------------------------------------------------\n",
      "Epoch: 1, Learning Rate: 0.001\n",
      "\n"
     ]
    },
    {
     "data": {
      "application/vnd.jupyter.widget-view+json": {
       "model_id": "9cc8f8ce4ec74bc2bf469fbe565dbbbb",
       "version_major": 2,
       "version_minor": 0
      },
      "text/plain": [
       "HBox(children=(FloatProgress(value=0.0, max=263.0), HTML(value='')))"
      ]
     },
     "metadata": {},
     "output_type": "display_data"
    },
    {
     "name": "stdout",
     "output_type": "stream",
     "text": [
      "\n"
     ]
    },
    {
     "data": {
      "application/vnd.jupyter.widget-view+json": {
       "model_id": "9902b4b58fbe483ea102d7f06e0b32d5",
       "version_major": 2,
       "version_minor": 0
      },
      "text/plain": [
       "HBox(children=(FloatProgress(value=0.0, max=17.0), HTML(value='')))"
      ]
     },
     "metadata": {},
     "output_type": "display_data"
    },
    {
     "name": "stdout",
     "output_type": "stream",
     "text": [
      "\n",
      "epoch time: 54.26641273498535\n",
      "mean loss train: 0.5192964867183141, mean loss val: 0.3843834706913635\n",
      "accuracy train: 0.7828065476190477, accuracy val: 0.8181047619047619\n",
      "---------------------------------------------------------------------------------------------------\n",
      "Epoch: 2, Learning Rate: 0.001\n",
      "\n"
     ]
    },
    {
     "data": {
      "application/vnd.jupyter.widget-view+json": {
       "model_id": "eaab459f10374fab849c6784ca972de9",
       "version_major": 2,
       "version_minor": 0
      },
      "text/plain": [
       "HBox(children=(FloatProgress(value=0.0, max=263.0), HTML(value='')))"
      ]
     },
     "metadata": {},
     "output_type": "display_data"
    },
    {
     "name": "stdout",
     "output_type": "stream",
     "text": [
      "\n"
     ]
    },
    {
     "data": {
      "application/vnd.jupyter.widget-view+json": {
       "model_id": "3cf436cd67334324a1994525b0b080f3",
       "version_major": 2,
       "version_minor": 0
      },
      "text/plain": [
       "HBox(children=(FloatProgress(value=0.0, max=17.0), HTML(value='')))"
      ]
     },
     "metadata": {},
     "output_type": "display_data"
    },
    {
     "name": "stdout",
     "output_type": "stream",
     "text": [
      "\n",
      "epoch time: 54.83729362487793\n",
      "mean loss train: 0.35602405451592944, mean loss val: 0.338238928413311\n",
      "accuracy train: 0.8241505952380952, accuracy val: 0.8310928571428572\n",
      "---------------------------------------------------------------------------------------------------\n",
      "Epoch: 3, Learning Rate: 0.001\n",
      "\n"
     ]
    },
    {
     "data": {
      "application/vnd.jupyter.widget-view+json": {
       "model_id": "8662e15a2d484fceab6321522f9b33ea",
       "version_major": 2,
       "version_minor": 0
      },
      "text/plain": [
       "HBox(children=(FloatProgress(value=0.0, max=263.0), HTML(value='')))"
      ]
     },
     "metadata": {},
     "output_type": "display_data"
    },
    {
     "name": "stdout",
     "output_type": "stream",
     "text": [
      "\n"
     ]
    },
    {
     "data": {
      "application/vnd.jupyter.widget-view+json": {
       "model_id": "025a6c655e124ec68210da4eda8d60e4",
       "version_major": 2,
       "version_minor": 0
      },
      "text/plain": [
       "HBox(children=(FloatProgress(value=0.0, max=17.0), HTML(value='')))"
      ]
     },
     "metadata": {},
     "output_type": "display_data"
    },
    {
     "name": "stdout",
     "output_type": "stream",
     "text": [
      "\n",
      "epoch time: 56.90606713294983\n",
      "mean loss train: 0.3072441259452275, mean loss val: 0.27411549984870015\n",
      "accuracy train: 0.8481541666666667, accuracy val: 0.8698130952380952\n",
      "---------------------------------------------------------------------------------------------------\n",
      "Epoch: 4, Learning Rate: 0.001\n",
      "\n"
     ]
    },
    {
     "data": {
      "application/vnd.jupyter.widget-view+json": {
       "model_id": "aecce09f8a5b411bbdd833f8c46beb52",
       "version_major": 2,
       "version_minor": 0
      },
      "text/plain": [
       "HBox(children=(FloatProgress(value=0.0, max=263.0), HTML(value='')))"
      ]
     },
     "metadata": {},
     "output_type": "display_data"
    },
    {
     "name": "stdout",
     "output_type": "stream",
     "text": [
      "\n"
     ]
    },
    {
     "data": {
      "application/vnd.jupyter.widget-view+json": {
       "model_id": "e806a868af3840119c41c935fbc54123",
       "version_major": 2,
       "version_minor": 0
      },
      "text/plain": [
       "HBox(children=(FloatProgress(value=0.0, max=17.0), HTML(value='')))"
      ]
     },
     "metadata": {},
     "output_type": "display_data"
    },
    {
     "name": "stdout",
     "output_type": "stream",
     "text": [
      "\n",
      "epoch time: 53.18120861053467\n",
      "mean loss train: 0.2752225202322006, mean loss val: 0.25968349812976416\n",
      "accuracy train: 0.8620678571428572, accuracy val: 0.8867083333333333\n",
      "---------------------------------------------------------------------------------------------------\n",
      "Epoch: 5, Learning Rate: 0.001\n",
      "\n"
     ]
    },
    {
     "data": {
      "application/vnd.jupyter.widget-view+json": {
       "model_id": "8f865b22b689482582ccb64492f0cac7",
       "version_major": 2,
       "version_minor": 0
      },
      "text/plain": [
       "HBox(children=(FloatProgress(value=0.0, max=263.0), HTML(value='')))"
      ]
     },
     "metadata": {},
     "output_type": "display_data"
    },
    {
     "name": "stdout",
     "output_type": "stream",
     "text": [
      "\n"
     ]
    },
    {
     "data": {
      "application/vnd.jupyter.widget-view+json": {
       "model_id": "33c1a3e903a4418ead271cfbd1096762",
       "version_major": 2,
       "version_minor": 0
      },
      "text/plain": [
       "HBox(children=(FloatProgress(value=0.0, max=17.0), HTML(value='')))"
      ]
     },
     "metadata": {},
     "output_type": "display_data"
    },
    {
     "name": "stdout",
     "output_type": "stream",
     "text": [
      "\n",
      "epoch time: 56.37212562561035\n",
      "mean loss train: 0.27032806873321535, mean loss val: 0.3029375543918771\n",
      "accuracy train: 0.8670556547619047, accuracy val: 0.8629857142857142\n",
      "---------------------------------------------------------------------------------------------------\n",
      "Epoch: 6, Learning Rate: 0.001\n",
      "\n"
     ]
    },
    {
     "data": {
      "application/vnd.jupyter.widget-view+json": {
       "model_id": "bca3680b640343b1849b9f791e3bd724",
       "version_major": 2,
       "version_minor": 0
      },
      "text/plain": [
       "HBox(children=(FloatProgress(value=0.0, max=263.0), HTML(value='')))"
      ]
     },
     "metadata": {},
     "output_type": "display_data"
    },
    {
     "name": "stdout",
     "output_type": "stream",
     "text": [
      "\n"
     ]
    },
    {
     "data": {
      "application/vnd.jupyter.widget-view+json": {
       "model_id": "83b8f8a846cc4b1f8ce0889e7baceea6",
       "version_major": 2,
       "version_minor": 0
      },
      "text/plain": [
       "HBox(children=(FloatProgress(value=0.0, max=17.0), HTML(value='')))"
      ]
     },
     "metadata": {},
     "output_type": "display_data"
    },
    {
     "name": "stdout",
     "output_type": "stream",
     "text": [
      "\n",
      "epoch time: 57.34322786331177\n",
      "mean loss train: 0.29157147728261495, mean loss val: 0.25913314051039854\n",
      "accuracy train: 0.8604261904761905, accuracy val: 0.8828785714285714\n",
      "---------------------------------------------------------------------------------------------------\n",
      "Epoch: 7, Learning Rate: 0.001\n",
      "\n"
     ]
    },
    {
     "data": {
      "application/vnd.jupyter.widget-view+json": {
       "model_id": "fbe04ce184be4d4e933f1b8214947675",
       "version_major": 2,
       "version_minor": 0
      },
      "text/plain": [
       "HBox(children=(FloatProgress(value=0.0, max=263.0), HTML(value='')))"
      ]
     },
     "metadata": {},
     "output_type": "display_data"
    },
    {
     "name": "stdout",
     "output_type": "stream",
     "text": [
      "\n"
     ]
    },
    {
     "data": {
      "application/vnd.jupyter.widget-view+json": {
       "model_id": "1f281e299b3e4411a6560dea2db17a66",
       "version_major": 2,
       "version_minor": 0
      },
      "text/plain": [
       "HBox(children=(FloatProgress(value=0.0, max=17.0), HTML(value='')))"
      ]
     },
     "metadata": {},
     "output_type": "display_data"
    },
    {
     "name": "stdout",
     "output_type": "stream",
     "text": [
      "\n",
      "epoch time: 57.45417857170105\n",
      "mean loss train: 0.24798510591189066, mean loss val: 0.2831928425420033\n",
      "accuracy train: 0.8793166666666666, accuracy val: 0.856420238095238\n",
      "---------------------------------------------------------------------------------------------------\n",
      "Epoch: 8, Learning Rate: 0.001\n",
      "\n"
     ]
    },
    {
     "data": {
      "application/vnd.jupyter.widget-view+json": {
       "model_id": "3901908bae5e40ae81929c3de98ef0da",
       "version_major": 2,
       "version_minor": 0
      },
      "text/plain": [
       "HBox(children=(FloatProgress(value=0.0, max=263.0), HTML(value='')))"
      ]
     },
     "metadata": {},
     "output_type": "display_data"
    },
    {
     "name": "stdout",
     "output_type": "stream",
     "text": [
      "\n"
     ]
    },
    {
     "data": {
      "application/vnd.jupyter.widget-view+json": {
       "model_id": "14cced8d0d7843a4b3096d6bc1766983",
       "version_major": 2,
       "version_minor": 0
      },
      "text/plain": [
       "HBox(children=(FloatProgress(value=0.0, max=17.0), HTML(value='')))"
      ]
     },
     "metadata": {},
     "output_type": "display_data"
    },
    {
     "name": "stdout",
     "output_type": "stream",
     "text": [
      "\n",
      "epoch time: 55.80492973327637\n",
      "mean loss train: 0.24538285723754338, mean loss val: 0.22186179753089424\n",
      "accuracy train: 0.8807449404761905, accuracy val: 0.8912607142857143\n",
      "---------------------------------------------------------------------------------------------------\n",
      "Epoch: 9, Learning Rate: 0.001\n",
      "\n"
     ]
    },
    {
     "data": {
      "application/vnd.jupyter.widget-view+json": {
       "model_id": "0b4c2641c995443eb32e24515237ffe3",
       "version_major": 2,
       "version_minor": 0
      },
      "text/plain": [
       "HBox(children=(FloatProgress(value=0.0, max=263.0), HTML(value='')))"
      ]
     },
     "metadata": {},
     "output_type": "display_data"
    },
    {
     "name": "stdout",
     "output_type": "stream",
     "text": [
      "\n"
     ]
    },
    {
     "data": {
      "application/vnd.jupyter.widget-view+json": {
       "model_id": "27b0e5792ed949d689046e6f3d04172f",
       "version_major": 2,
       "version_minor": 0
      },
      "text/plain": [
       "HBox(children=(FloatProgress(value=0.0, max=17.0), HTML(value='')))"
      ]
     },
     "metadata": {},
     "output_type": "display_data"
    },
    {
     "name": "stdout",
     "output_type": "stream",
     "text": [
      "\n",
      "epoch time: 52.600780963897705\n",
      "mean loss train: 0.2500785596030099, mean loss val: 0.2196291903437114\n",
      "accuracy train: 0.87924375, accuracy val: 0.8887154761904762\n",
      "---------------------------------------------------------------------------------------------------\n",
      "Epoch: 10, Learning Rate: 0.001\n",
      "\n"
     ]
    },
    {
     "data": {
      "application/vnd.jupyter.widget-view+json": {
       "model_id": "9f2604cd305f4d8ea1413962056986de",
       "version_major": 2,
       "version_minor": 0
      },
      "text/plain": [
       "HBox(children=(FloatProgress(value=0.0, max=263.0), HTML(value='')))"
      ]
     },
     "metadata": {},
     "output_type": "display_data"
    },
    {
     "name": "stdout",
     "output_type": "stream",
     "text": [
      "\n"
     ]
    },
    {
     "data": {
      "application/vnd.jupyter.widget-view+json": {
       "model_id": "573229d974a748c8912fb00d89901b13",
       "version_major": 2,
       "version_minor": 0
      },
      "text/plain": [
       "HBox(children=(FloatProgress(value=0.0, max=17.0), HTML(value='')))"
      ]
     },
     "metadata": {},
     "output_type": "display_data"
    },
    {
     "name": "stdout",
     "output_type": "stream",
     "text": [
      "\n",
      "epoch time: 55.87601184844971\n",
      "mean loss train: 0.2589524917943137, mean loss val: 0.20978413076757405\n",
      "accuracy train: 0.87218125, accuracy val: 0.899720238095238\n",
      "---------------------------------------------------------------------------------------------------\n",
      "Epoch: 11, Learning Rate: 0.001\n",
      "\n"
     ]
    },
    {
     "data": {
      "application/vnd.jupyter.widget-view+json": {
       "model_id": "801b1cc429b14f168c61b4ca40004502",
       "version_major": 2,
       "version_minor": 0
      },
      "text/plain": [
       "HBox(children=(FloatProgress(value=0.0, max=263.0), HTML(value='')))"
      ]
     },
     "metadata": {},
     "output_type": "display_data"
    },
    {
     "name": "stdout",
     "output_type": "stream",
     "text": [
      "\n"
     ]
    },
    {
     "data": {
      "application/vnd.jupyter.widget-view+json": {
       "model_id": "1b8a6a4d3fae4dc9aae612d66e244169",
       "version_major": 2,
       "version_minor": 0
      },
      "text/plain": [
       "HBox(children=(FloatProgress(value=0.0, max=17.0), HTML(value='')))"
      ]
     },
     "metadata": {},
     "output_type": "display_data"
    },
    {
     "name": "stdout",
     "output_type": "stream",
     "text": [
      "\n",
      "epoch time: 54.74351453781128\n",
      "mean loss train: 0.20248042918386913, mean loss val: 0.18867539411714762\n",
      "accuracy train: 0.8942892857142857, accuracy val: 0.9062988095238095\n",
      "---------------------------------------------------------------------------------------------------\n",
      "Epoch: 12, Learning Rate: 0.001\n",
      "\n"
     ]
    },
    {
     "data": {
      "application/vnd.jupyter.widget-view+json": {
       "model_id": "e4f5f7c1eee64195bc4f78b65a40b969",
       "version_major": 2,
       "version_minor": 0
      },
      "text/plain": [
       "HBox(children=(FloatProgress(value=0.0, max=263.0), HTML(value='')))"
      ]
     },
     "metadata": {},
     "output_type": "display_data"
    },
    {
     "name": "stdout",
     "output_type": "stream",
     "text": [
      "\n"
     ]
    },
    {
     "data": {
      "application/vnd.jupyter.widget-view+json": {
       "model_id": "293d5595af2d4244997cd6ff5d5b4868",
       "version_major": 2,
       "version_minor": 0
      },
      "text/plain": [
       "HBox(children=(FloatProgress(value=0.0, max=17.0), HTML(value='')))"
      ]
     },
     "metadata": {},
     "output_type": "display_data"
    },
    {
     "name": "stdout",
     "output_type": "stream",
     "text": [
      "\n",
      "epoch time: 55.455241203308105\n",
      "mean loss train: 0.2177205481557619, mean loss val: 0.17049084307128612\n",
      "accuracy train: 0.8915354166666667, accuracy val: 0.912175\n",
      "---------------------------------------------------------------------------------------------------\n",
      "Epoch: 13, Learning Rate: 0.001\n",
      "\n"
     ]
    },
    {
     "data": {
      "application/vnd.jupyter.widget-view+json": {
       "model_id": "e9dc6e14578148bbaaf23922fdab5633",
       "version_major": 2,
       "version_minor": 0
      },
      "text/plain": [
       "HBox(children=(FloatProgress(value=0.0, max=263.0), HTML(value='')))"
      ]
     },
     "metadata": {},
     "output_type": "display_data"
    },
    {
     "name": "stdout",
     "output_type": "stream",
     "text": [
      "\n"
     ]
    },
    {
     "data": {
      "application/vnd.jupyter.widget-view+json": {
       "model_id": "b4ea8798c96e410fa44baed233950bc6",
       "version_major": 2,
       "version_minor": 0
      },
      "text/plain": [
       "HBox(children=(FloatProgress(value=0.0, max=17.0), HTML(value='')))"
      ]
     },
     "metadata": {},
     "output_type": "display_data"
    },
    {
     "name": "stdout",
     "output_type": "stream",
     "text": [
      "\n",
      "epoch time: 53.143012285232544\n",
      "mean loss train: 0.18598731187127884, mean loss val: 0.12503420950298516\n",
      "accuracy train: 0.910508630952381, accuracy val: 0.9358761904761905\n",
      "---------------------------------------------------------------------------------------------------\n",
      "Epoch: 14, Learning Rate: 0.001\n",
      "\n"
     ]
    },
    {
     "data": {
      "application/vnd.jupyter.widget-view+json": {
       "model_id": "fa5afa9b3b4c440d82e922da8a95abe0",
       "version_major": 2,
       "version_minor": 0
      },
      "text/plain": [
       "HBox(children=(FloatProgress(value=0.0, max=263.0), HTML(value='')))"
      ]
     },
     "metadata": {},
     "output_type": "display_data"
    },
    {
     "name": "stdout",
     "output_type": "stream",
     "text": [
      "\n"
     ]
    },
    {
     "data": {
      "application/vnd.jupyter.widget-view+json": {
       "model_id": "3e829527c07b491fa886a69b3636bde5",
       "version_major": 2,
       "version_minor": 0
      },
      "text/plain": [
       "HBox(children=(FloatProgress(value=0.0, max=17.0), HTML(value='')))"
      ]
     },
     "metadata": {},
     "output_type": "display_data"
    },
    {
     "name": "stdout",
     "output_type": "stream",
     "text": [
      "\n",
      "epoch time: 56.22532844543457\n",
      "mean loss train: 0.13208629669178099, mean loss val: 0.1054097993022649\n",
      "accuracy train: 0.9348345238095238, accuracy val: 0.9431666666666667\n",
      "---------------------------------------------------------------------------------------------------\n",
      "Epoch: 15, Learning Rate: 0.001\n",
      "\n"
     ]
    },
    {
     "data": {
      "application/vnd.jupyter.widget-view+json": {
       "model_id": "b746046dce364c0fa3d7a729aa01916f",
       "version_major": 2,
       "version_minor": 0
      },
      "text/plain": [
       "HBox(children=(FloatProgress(value=0.0, max=263.0), HTML(value='')))"
      ]
     },
     "metadata": {},
     "output_type": "display_data"
    },
    {
     "name": "stdout",
     "output_type": "stream",
     "text": [
      "\n"
     ]
    },
    {
     "data": {
      "application/vnd.jupyter.widget-view+json": {
       "model_id": "a480db43bef0467683a1a98990b36c8e",
       "version_major": 2,
       "version_minor": 0
      },
      "text/plain": [
       "HBox(children=(FloatProgress(value=0.0, max=17.0), HTML(value='')))"
      ]
     },
     "metadata": {},
     "output_type": "display_data"
    },
    {
     "name": "stdout",
     "output_type": "stream",
     "text": [
      "\n",
      "epoch time: 55.831111431121826\n",
      "mean loss train: 0.11246821613538834, mean loss val: 0.12485357448911427\n",
      "accuracy train: 0.9418366071428571, accuracy val: 0.9384214285714285\n",
      "---------------------------------------------------------------------------------------------------\n",
      "Epoch: 16, Learning Rate: 0.001\n",
      "\n"
     ]
    },
    {
     "data": {
      "application/vnd.jupyter.widget-view+json": {
       "model_id": "3f35183cdce54ea49a9a45e41070f8d8",
       "version_major": 2,
       "version_minor": 0
      },
      "text/plain": [
       "HBox(children=(FloatProgress(value=0.0, max=263.0), HTML(value='')))"
      ]
     },
     "metadata": {},
     "output_type": "display_data"
    },
    {
     "name": "stdout",
     "output_type": "stream",
     "text": [
      "\n"
     ]
    },
    {
     "data": {
      "application/vnd.jupyter.widget-view+json": {
       "model_id": "bc3f0ba38c2f4f84af8b8ddb5266a10e",
       "version_major": 2,
       "version_minor": 0
      },
      "text/plain": [
       "HBox(children=(FloatProgress(value=0.0, max=17.0), HTML(value='')))"
      ]
     },
     "metadata": {},
     "output_type": "display_data"
    },
    {
     "name": "stdout",
     "output_type": "stream",
     "text": [
      "\n",
      "epoch time: 55.86663627624512\n",
      "mean loss train: 0.09475780251480284, mean loss val: 0.09186376950191169\n",
      "accuracy train: 0.9462583333333333, accuracy val: 0.9495357142857143\n",
      "---------------------------------------------------------------------------------------------------\n",
      "Epoch: 17, Learning Rate: 0.001\n",
      "\n"
     ]
    },
    {
     "data": {
      "application/vnd.jupyter.widget-view+json": {
       "model_id": "4e2ed83bcfe549b6a66751a467ada951",
       "version_major": 2,
       "version_minor": 0
      },
      "text/plain": [
       "HBox(children=(FloatProgress(value=0.0, max=263.0), HTML(value='')))"
      ]
     },
     "metadata": {},
     "output_type": "display_data"
    },
    {
     "name": "stdout",
     "output_type": "stream",
     "text": [
      "\n"
     ]
    },
    {
     "data": {
      "application/vnd.jupyter.widget-view+json": {
       "model_id": "11561bebd6e94eb197997ca83b4dd60c",
       "version_major": 2,
       "version_minor": 0
      },
      "text/plain": [
       "HBox(children=(FloatProgress(value=0.0, max=17.0), HTML(value='')))"
      ]
     },
     "metadata": {},
     "output_type": "display_data"
    },
    {
     "name": "stdout",
     "output_type": "stream",
     "text": [
      "\n",
      "epoch time: 55.51436996459961\n",
      "mean loss train: 0.0872942552680061, mean loss val: 0.10176654016783361\n",
      "accuracy train: 0.9482758928571429, accuracy val: 0.9486571428571429\n",
      "---------------------------------------------------------------------------------------------------\n",
      "Epoch: 18, Learning Rate: 0.001\n",
      "\n"
     ]
    },
    {
     "data": {
      "application/vnd.jupyter.widget-view+json": {
       "model_id": "487bda68a3ef464a9488ee022df818e4",
       "version_major": 2,
       "version_minor": 0
      },
      "text/plain": [
       "HBox(children=(FloatProgress(value=0.0, max=263.0), HTML(value='')))"
      ]
     },
     "metadata": {},
     "output_type": "display_data"
    },
    {
     "name": "stdout",
     "output_type": "stream",
     "text": [
      "\n"
     ]
    },
    {
     "data": {
      "application/vnd.jupyter.widget-view+json": {
       "model_id": "ea95c9b80db94db59b7ac0ec1876b464",
       "version_major": 2,
       "version_minor": 0
      },
      "text/plain": [
       "HBox(children=(FloatProgress(value=0.0, max=17.0), HTML(value='')))"
      ]
     },
     "metadata": {},
     "output_type": "display_data"
    },
    {
     "name": "stdout",
     "output_type": "stream",
     "text": [
      "\n",
      "epoch time: 56.12574744224548\n",
      "mean loss train: 0.07880052698510034, mean loss val: 0.12231301757478355\n",
      "accuracy train: 0.9531511904761905, accuracy val: 0.937725\n",
      "---------------------------------------------------------------------------------------------------\n",
      "Epoch: 19, Learning Rate: 0.001\n",
      "\n"
     ]
    },
    {
     "data": {
      "application/vnd.jupyter.widget-view+json": {
       "model_id": "42a782a144534b41b29de0eae832dd12",
       "version_major": 2,
       "version_minor": 0
      },
      "text/plain": [
       "HBox(children=(FloatProgress(value=0.0, max=263.0), HTML(value='')))"
      ]
     },
     "metadata": {},
     "output_type": "display_data"
    },
    {
     "name": "stdout",
     "output_type": "stream",
     "text": [
      "\n"
     ]
    },
    {
     "data": {
      "application/vnd.jupyter.widget-view+json": {
       "model_id": "76edbe4365a14d35880cd470b166601b",
       "version_major": 2,
       "version_minor": 0
      },
      "text/plain": [
       "HBox(children=(FloatProgress(value=0.0, max=17.0), HTML(value='')))"
      ]
     },
     "metadata": {},
     "output_type": "display_data"
    },
    {
     "name": "stdout",
     "output_type": "stream",
     "text": [
      "\n",
      "epoch time: 59.982115268707275\n",
      "mean loss train: 0.07481596836021968, mean loss val: 0.08371624158787838\n",
      "accuracy train: 0.9540309523809524, accuracy val: 0.9481690476190476\n",
      "---------------------------------------------------------------------------------------------------\n",
      "Epoch: 20, Learning Rate: 0.001\n",
      "\n"
     ]
    },
    {
     "data": {
      "application/vnd.jupyter.widget-view+json": {
       "model_id": "0f702f085dfb4122ab8f139b33544caa",
       "version_major": 2,
       "version_minor": 0
      },
      "text/plain": [
       "HBox(children=(FloatProgress(value=0.0, max=263.0), HTML(value='')))"
      ]
     },
     "metadata": {},
     "output_type": "display_data"
    },
    {
     "name": "stdout",
     "output_type": "stream",
     "text": [
      "\n"
     ]
    },
    {
     "data": {
      "application/vnd.jupyter.widget-view+json": {
       "model_id": "423b7630cb544179a2718a0ef3d206af",
       "version_major": 2,
       "version_minor": 0
      },
      "text/plain": [
       "HBox(children=(FloatProgress(value=0.0, max=17.0), HTML(value='')))"
      ]
     },
     "metadata": {},
     "output_type": "display_data"
    },
    {
     "name": "stdout",
     "output_type": "stream",
     "text": [
      "\n",
      "epoch time: 54.2184739112854\n",
      "mean loss train: 0.0846170606925374, mean loss val: 0.0813295954169726\n",
      "accuracy train: 0.9501955357142857, accuracy val: 0.9493857142857143\n",
      "---------------------------------------------------------------------------------------------------\n",
      "Epoch: 21, Learning Rate: 0.001\n",
      "\n"
     ]
    },
    {
     "data": {
      "application/vnd.jupyter.widget-view+json": {
       "model_id": "b74d83b94b1f4e2a9d052ddf56910af2",
       "version_major": 2,
       "version_minor": 0
      },
      "text/plain": [
       "HBox(children=(FloatProgress(value=0.0, max=263.0), HTML(value='')))"
      ]
     },
     "metadata": {},
     "output_type": "display_data"
    },
    {
     "name": "stdout",
     "output_type": "stream",
     "text": [
      "\n"
     ]
    },
    {
     "data": {
      "application/vnd.jupyter.widget-view+json": {
       "model_id": "066ac385c0314236aa55feef24c43088",
       "version_major": 2,
       "version_minor": 0
      },
      "text/plain": [
       "HBox(children=(FloatProgress(value=0.0, max=17.0), HTML(value='')))"
      ]
     },
     "metadata": {},
     "output_type": "display_data"
    },
    {
     "name": "stdout",
     "output_type": "stream",
     "text": [
      "\n",
      "epoch time: 57.3582124710083\n",
      "mean loss train: 0.13667046948912598, mean loss val: 0.08591788911797515\n",
      "accuracy train: 0.9353732142857143, accuracy val: 0.9489916666666667\n",
      "---------------------------------------------------------------------------------------------------\n",
      "Epoch: 22, Learning Rate: 0.001\n",
      "\n"
     ]
    },
    {
     "data": {
      "application/vnd.jupyter.widget-view+json": {
       "model_id": "84e12d3c7be64468bc07fc42b59708d8",
       "version_major": 2,
       "version_minor": 0
      },
      "text/plain": [
       "HBox(children=(FloatProgress(value=0.0, max=263.0), HTML(value='')))"
      ]
     },
     "metadata": {},
     "output_type": "display_data"
    },
    {
     "name": "stdout",
     "output_type": "stream",
     "text": [
      "\n"
     ]
    },
    {
     "data": {
      "application/vnd.jupyter.widget-view+json": {
       "model_id": "528b0ed578244234b069753d05bf4946",
       "version_major": 2,
       "version_minor": 0
      },
      "text/plain": [
       "HBox(children=(FloatProgress(value=0.0, max=17.0), HTML(value='')))"
      ]
     },
     "metadata": {},
     "output_type": "display_data"
    },
    {
     "name": "stdout",
     "output_type": "stream",
     "text": [
      "\n",
      "epoch time: 54.546629667282104\n",
      "mean loss train: 0.07468913693513189, mean loss val: 0.09466584803598678\n",
      "accuracy train: 0.9521348214285714, accuracy val: 0.9466892857142857\n",
      "---------------------------------------------------------------------------------------------------\n",
      "Epoch: 23, Learning Rate: 0.001\n",
      "\n"
     ]
    },
    {
     "data": {
      "application/vnd.jupyter.widget-view+json": {
       "model_id": "5e650fc0856c46f4a23ab779d49f98b8",
       "version_major": 2,
       "version_minor": 0
      },
      "text/plain": [
       "HBox(children=(FloatProgress(value=0.0, max=263.0), HTML(value='')))"
      ]
     },
     "metadata": {},
     "output_type": "display_data"
    },
    {
     "name": "stdout",
     "output_type": "stream",
     "text": [
      "\n"
     ]
    },
    {
     "data": {
      "application/vnd.jupyter.widget-view+json": {
       "model_id": "128d34c7517b4f1e8ee8922c04f94590",
       "version_major": 2,
       "version_minor": 0
      },
      "text/plain": [
       "HBox(children=(FloatProgress(value=0.0, max=17.0), HTML(value='')))"
      ]
     },
     "metadata": {},
     "output_type": "display_data"
    },
    {
     "name": "stdout",
     "output_type": "stream",
     "text": [
      "\n",
      "epoch time: 59.33289861679077\n",
      "mean loss train: 0.08686720854824498, mean loss val: 0.08114573532505938\n",
      "accuracy train: 0.9497669642857143, accuracy val: 0.9544404761904762\n",
      "---------------------------------------------------------------------------------------------------\n",
      "Epoch: 24, Learning Rate: 0.001\n",
      "\n"
     ]
    },
    {
     "data": {
      "application/vnd.jupyter.widget-view+json": {
       "model_id": "3feb303cac4c49098dec09b6a2bb6f82",
       "version_major": 2,
       "version_minor": 0
      },
      "text/plain": [
       "HBox(children=(FloatProgress(value=0.0, max=263.0), HTML(value='')))"
      ]
     },
     "metadata": {},
     "output_type": "display_data"
    },
    {
     "name": "stdout",
     "output_type": "stream",
     "text": [
      "\n"
     ]
    },
    {
     "data": {
      "application/vnd.jupyter.widget-view+json": {
       "model_id": "6585df11d1e04946a880887a837b176f",
       "version_major": 2,
       "version_minor": 0
      },
      "text/plain": [
       "HBox(children=(FloatProgress(value=0.0, max=17.0), HTML(value='')))"
      ]
     },
     "metadata": {},
     "output_type": "display_data"
    },
    {
     "name": "stdout",
     "output_type": "stream",
     "text": [
      "\n",
      "epoch time: 56.06426024436951\n",
      "mean loss train: 0.0705308881898721, mean loss val: 0.07266138793321242\n",
      "accuracy train: 0.9529699404761904, accuracy val: 0.9507916666666667\n",
      "---------------------------------------------------------------------------------------------------\n",
      "Epoch: 25, Learning Rate: 0.001\n",
      "\n"
     ]
    },
    {
     "data": {
      "application/vnd.jupyter.widget-view+json": {
       "model_id": "551c667a7b0145b38913ecc402b84321",
       "version_major": 2,
       "version_minor": 0
      },
      "text/plain": [
       "HBox(children=(FloatProgress(value=0.0, max=263.0), HTML(value='')))"
      ]
     },
     "metadata": {},
     "output_type": "display_data"
    },
    {
     "name": "stdout",
     "output_type": "stream",
     "text": [
      "\n"
     ]
    },
    {
     "data": {
      "application/vnd.jupyter.widget-view+json": {
       "model_id": "74423192978344ce999f57e9154c6418",
       "version_major": 2,
       "version_minor": 0
      },
      "text/plain": [
       "HBox(children=(FloatProgress(value=0.0, max=17.0), HTML(value='')))"
      ]
     },
     "metadata": {},
     "output_type": "display_data"
    },
    {
     "name": "stdout",
     "output_type": "stream",
     "text": [
      "\n",
      "epoch time: 58.146522760391235\n",
      "mean loss train: 0.07833886979236489, mean loss val: 0.0777294718315063\n",
      "accuracy train: 0.9521964285714286, accuracy val: 0.9520880952380952\n",
      "---------------------------------------------------------------------------------------------------\n",
      "Epoch: 26, Learning Rate: 0.001\n",
      "\n"
     ]
    },
    {
     "data": {
      "application/vnd.jupyter.widget-view+json": {
       "model_id": "1aa4f8709c17495ba084927a87a8678e",
       "version_major": 2,
       "version_minor": 0
      },
      "text/plain": [
       "HBox(children=(FloatProgress(value=0.0, max=263.0), HTML(value='')))"
      ]
     },
     "metadata": {},
     "output_type": "display_data"
    },
    {
     "name": "stdout",
     "output_type": "stream",
     "text": [
      "\n"
     ]
    },
    {
     "data": {
      "application/vnd.jupyter.widget-view+json": {
       "model_id": "b5f090d971724e7bbaa5837942282516",
       "version_major": 2,
       "version_minor": 0
      },
      "text/plain": [
       "HBox(children=(FloatProgress(value=0.0, max=17.0), HTML(value='')))"
      ]
     },
     "metadata": {},
     "output_type": "display_data"
    },
    {
     "name": "stdout",
     "output_type": "stream",
     "text": [
      "\n",
      "epoch time: 58.448307037353516\n",
      "mean loss train: 0.06794514546791712, mean loss val: 0.07227256837865091\n",
      "accuracy train: 0.9552532738095239, accuracy val: 0.9515583333333333\n",
      "---------------------------------------------------------------------------------------------------\n",
      "Epoch: 27, Learning Rate: 0.001\n",
      "\n"
     ]
    },
    {
     "data": {
      "application/vnd.jupyter.widget-view+json": {
       "model_id": "fea734a7ca334817b70e08be368df704",
       "version_major": 2,
       "version_minor": 0
      },
      "text/plain": [
       "HBox(children=(FloatProgress(value=0.0, max=263.0), HTML(value='')))"
      ]
     },
     "metadata": {},
     "output_type": "display_data"
    },
    {
     "name": "stdout",
     "output_type": "stream",
     "text": [
      "\n"
     ]
    },
    {
     "data": {
      "application/vnd.jupyter.widget-view+json": {
       "model_id": "387daf29b92f425491453099cc86f639",
       "version_major": 2,
       "version_minor": 0
      },
      "text/plain": [
       "HBox(children=(FloatProgress(value=0.0, max=17.0), HTML(value='')))"
      ]
     },
     "metadata": {},
     "output_type": "display_data"
    },
    {
     "name": "stdout",
     "output_type": "stream",
     "text": [
      "\n",
      "epoch time: 55.74025201797485\n",
      "mean loss train: 0.0768259135414181, mean loss val: 0.07635111610442487\n",
      "accuracy train: 0.9519252976190477, accuracy val: 0.9502404761904761\n",
      "---------------------------------------------------------------------------------------------------\n",
      "Epoch: 28, Learning Rate: 0.001\n",
      "\n"
     ]
    },
    {
     "data": {
      "application/vnd.jupyter.widget-view+json": {
       "model_id": "595827fe5f7a4f6181568f1a934bee9e",
       "version_major": 2,
       "version_minor": 0
      },
      "text/plain": [
       "HBox(children=(FloatProgress(value=0.0, max=263.0), HTML(value='')))"
      ]
     },
     "metadata": {},
     "output_type": "display_data"
    },
    {
     "name": "stdout",
     "output_type": "stream",
     "text": [
      "\n"
     ]
    },
    {
     "data": {
      "application/vnd.jupyter.widget-view+json": {
       "model_id": "96cd2a29316643d08ac3d8e61a3627d9",
       "version_major": 2,
       "version_minor": 0
      },
      "text/plain": [
       "HBox(children=(FloatProgress(value=0.0, max=17.0), HTML(value='')))"
      ]
     },
     "metadata": {},
     "output_type": "display_data"
    },
    {
     "name": "stdout",
     "output_type": "stream",
     "text": [
      "\n",
      "epoch time: 56.850120306015015\n",
      "mean loss train: 0.07012182760096732, mean loss val: 0.5397521366879509\n",
      "accuracy train: 0.954285119047619, accuracy val: 0.8853761904761904\n",
      "---------------------------------------------------------------------------------------------------\n",
      "Epoch: 29, Learning Rate: 0.001\n",
      "\n"
     ]
    },
    {
     "data": {
      "application/vnd.jupyter.widget-view+json": {
       "model_id": "8617c48b7dd94172bc4dcf211e722902",
       "version_major": 2,
       "version_minor": 0
      },
      "text/plain": [
       "HBox(children=(FloatProgress(value=0.0, max=263.0), HTML(value='')))"
      ]
     },
     "metadata": {},
     "output_type": "display_data"
    },
    {
     "name": "stdout",
     "output_type": "stream",
     "text": [
      "\n"
     ]
    },
    {
     "data": {
      "application/vnd.jupyter.widget-view+json": {
       "model_id": "a048377e4b9f464e97f49cc283bae244",
       "version_major": 2,
       "version_minor": 0
      },
      "text/plain": [
       "HBox(children=(FloatProgress(value=0.0, max=17.0), HTML(value='')))"
      ]
     },
     "metadata": {},
     "output_type": "display_data"
    },
    {
     "name": "stdout",
     "output_type": "stream",
     "text": [
      "\n",
      "epoch time: 55.64078760147095\n",
      "mean loss train: 0.11866447401543458, mean loss val: 0.07890391746024904\n",
      "accuracy train: 0.9403050595238095, accuracy val: 0.9510904761904762\n",
      "---------------------------------------------------------------------------------------------------\n",
      "Epoch: 30, Learning Rate: 0.001\n",
      "\n"
     ]
    },
    {
     "data": {
      "application/vnd.jupyter.widget-view+json": {
       "model_id": "2cbc9d1a013a44f78e6824c3bbfe3eec",
       "version_major": 2,
       "version_minor": 0
      },
      "text/plain": [
       "HBox(children=(FloatProgress(value=0.0, max=263.0), HTML(value='')))"
      ]
     },
     "metadata": {},
     "output_type": "display_data"
    },
    {
     "name": "stdout",
     "output_type": "stream",
     "text": [
      "\n"
     ]
    },
    {
     "data": {
      "application/vnd.jupyter.widget-view+json": {
       "model_id": "4624dc093ba449d88a2b978a1b9b56a1",
       "version_major": 2,
       "version_minor": 0
      },
      "text/plain": [
       "HBox(children=(FloatProgress(value=0.0, max=17.0), HTML(value='')))"
      ]
     },
     "metadata": {},
     "output_type": "display_data"
    },
    {
     "name": "stdout",
     "output_type": "stream",
     "text": [
      "\n",
      "epoch time: 54.03299808502197\n",
      "mean loss train: 0.07258677364282665, mean loss val: 0.0720309784516728\n",
      "accuracy train: 0.9527395833333333, accuracy val: 0.9580202380952381\n",
      "---------------------------------------------------------------------------------------------------\n",
      "Epoch: 31, Learning Rate: 0.001\n",
      "\n"
     ]
    },
    {
     "data": {
      "application/vnd.jupyter.widget-view+json": {
       "model_id": "e1150c557d264f1c833007177101c07f",
       "version_major": 2,
       "version_minor": 0
      },
      "text/plain": [
       "HBox(children=(FloatProgress(value=0.0, max=263.0), HTML(value='')))"
      ]
     },
     "metadata": {},
     "output_type": "display_data"
    },
    {
     "name": "stdout",
     "output_type": "stream",
     "text": [
      "\n"
     ]
    },
    {
     "data": {
      "application/vnd.jupyter.widget-view+json": {
       "model_id": "e499f1b2086049c08f592b1d7c65df57",
       "version_major": 2,
       "version_minor": 0
      },
      "text/plain": [
       "HBox(children=(FloatProgress(value=0.0, max=17.0), HTML(value='')))"
      ]
     },
     "metadata": {},
     "output_type": "display_data"
    },
    {
     "name": "stdout",
     "output_type": "stream",
     "text": [
      "\n",
      "epoch time: 55.690234422683716\n",
      "mean loss train: 0.09250278430325644, mean loss val: 0.0733274701496085\n",
      "accuracy train: 0.9487610119047619, accuracy val: 0.9537190476190476\n",
      "---------------------------------------------------------------------------------------------------\n",
      "Epoch: 32, Learning Rate: 0.001\n",
      "\n"
     ]
    },
    {
     "data": {
      "application/vnd.jupyter.widget-view+json": {
       "model_id": "e8d2d4fe3a284b818f407f5a886bea92",
       "version_major": 2,
       "version_minor": 0
      },
      "text/plain": [
       "HBox(children=(FloatProgress(value=0.0, max=263.0), HTML(value='')))"
      ]
     },
     "metadata": {},
     "output_type": "display_data"
    },
    {
     "name": "stdout",
     "output_type": "stream",
     "text": [
      "\n"
     ]
    },
    {
     "data": {
      "application/vnd.jupyter.widget-view+json": {
       "model_id": "3aa7092390414b11839cfeaa2bd9dc8b",
       "version_major": 2,
       "version_minor": 0
      },
      "text/plain": [
       "HBox(children=(FloatProgress(value=0.0, max=17.0), HTML(value='')))"
      ]
     },
     "metadata": {},
     "output_type": "display_data"
    },
    {
     "name": "stdout",
     "output_type": "stream",
     "text": [
      "\n",
      "epoch time: 55.706013441085815\n",
      "mean loss train: 0.07800611450558617, mean loss val: 0.07674732885991602\n",
      "accuracy train: 0.9551922619047619, accuracy val: 0.949322619047619\n",
      "---------------------------------------------------------------------------------------------------\n",
      "Epoch: 33, Learning Rate: 0.001\n",
      "\n"
     ]
    },
    {
     "data": {
      "application/vnd.jupyter.widget-view+json": {
       "model_id": "8eb03b7dd4fd44f18db07cb06a54ace5",
       "version_major": 2,
       "version_minor": 0
      },
      "text/plain": [
       "HBox(children=(FloatProgress(value=0.0, max=263.0), HTML(value='')))"
      ]
     },
     "metadata": {},
     "output_type": "display_data"
    },
    {
     "name": "stdout",
     "output_type": "stream",
     "text": [
      "\n"
     ]
    },
    {
     "data": {
      "application/vnd.jupyter.widget-view+json": {
       "model_id": "d32b55a86685444daf805ce9340791ad",
       "version_major": 2,
       "version_minor": 0
      },
      "text/plain": [
       "HBox(children=(FloatProgress(value=0.0, max=17.0), HTML(value='')))"
      ]
     },
     "metadata": {},
     "output_type": "display_data"
    },
    {
     "name": "stdout",
     "output_type": "stream",
     "text": [
      "\n",
      "epoch time: 56.365694999694824\n",
      "mean loss train: 0.07197795745872317, mean loss val: 0.0766133760417734\n",
      "accuracy train: 0.9566675595238096, accuracy val: 0.9519119047619048\n",
      "---------------------------------------------------------------------------------------------------\n",
      "Epoch: 34, Learning Rate: 0.001\n",
      "\n"
     ]
    },
    {
     "data": {
      "application/vnd.jupyter.widget-view+json": {
       "model_id": "bb53d0500c004f338eb4332e337a5bd6",
       "version_major": 2,
       "version_minor": 0
      },
      "text/plain": [
       "HBox(children=(FloatProgress(value=0.0, max=263.0), HTML(value='')))"
      ]
     },
     "metadata": {},
     "output_type": "display_data"
    },
    {
     "name": "stdout",
     "output_type": "stream",
     "text": [
      "\n"
     ]
    },
    {
     "data": {
      "application/vnd.jupyter.widget-view+json": {
       "model_id": "a8d83cb0c92a4827993f45559da39d1d",
       "version_major": 2,
       "version_minor": 0
      },
      "text/plain": [
       "HBox(children=(FloatProgress(value=0.0, max=17.0), HTML(value='')))"
      ]
     },
     "metadata": {},
     "output_type": "display_data"
    },
    {
     "name": "stdout",
     "output_type": "stream",
     "text": [
      "\n",
      "epoch time: 55.249642848968506\n",
      "mean loss train: 0.06795152100778762, mean loss val: 0.07038687045948877\n",
      "accuracy train: 0.9580732142857142, accuracy val: 0.9603309523809523\n",
      "---------------------------------------------------------------------------------------------------\n",
      "Epoch: 35, Learning Rate: 0.001\n",
      "\n"
     ]
    },
    {
     "data": {
      "application/vnd.jupyter.widget-view+json": {
       "model_id": "c31c0f0aef3e4853b9a339f1ed1c69d7",
       "version_major": 2,
       "version_minor": 0
      },
      "text/plain": [
       "HBox(children=(FloatProgress(value=0.0, max=263.0), HTML(value='')))"
      ]
     },
     "metadata": {},
     "output_type": "display_data"
    },
    {
     "name": "stdout",
     "output_type": "stream",
     "text": [
      "\n"
     ]
    },
    {
     "data": {
      "application/vnd.jupyter.widget-view+json": {
       "model_id": "73e0b23e54f94ebdaee4794ab87c9312",
       "version_major": 2,
       "version_minor": 0
      },
      "text/plain": [
       "HBox(children=(FloatProgress(value=0.0, max=17.0), HTML(value='')))"
      ]
     },
     "metadata": {},
     "output_type": "display_data"
    },
    {
     "name": "stdout",
     "output_type": "stream",
     "text": [
      "\n",
      "epoch time: 54.22128248214722\n",
      "mean loss train: 0.06852842120453716, mean loss val: 0.09814217910950952\n",
      "accuracy train: 0.9597752976190477, accuracy val: 0.9459119047619048\n",
      "---------------------------------------------------------------------------------------------------\n",
      "Epoch: 36, Learning Rate: 0.001\n",
      "\n"
     ]
    },
    {
     "data": {
      "application/vnd.jupyter.widget-view+json": {
       "model_id": "8e3b67d8174e49f3a01d1aa17761b49b",
       "version_major": 2,
       "version_minor": 0
      },
      "text/plain": [
       "HBox(children=(FloatProgress(value=0.0, max=263.0), HTML(value='')))"
      ]
     },
     "metadata": {},
     "output_type": "display_data"
    },
    {
     "name": "stdout",
     "output_type": "stream",
     "text": [
      "\n"
     ]
    },
    {
     "data": {
      "application/vnd.jupyter.widget-view+json": {
       "model_id": "3d60dc28fcc0486097ad80678f8008ad",
       "version_major": 2,
       "version_minor": 0
      },
      "text/plain": [
       "HBox(children=(FloatProgress(value=0.0, max=17.0), HTML(value='')))"
      ]
     },
     "metadata": {},
     "output_type": "display_data"
    },
    {
     "name": "stdout",
     "output_type": "stream",
     "text": [
      "\n",
      "epoch time: 53.21756982803345\n",
      "mean loss train: 0.06724830097031026, mean loss val: 0.0737915397788665\n",
      "accuracy train: 0.9615410714285715, accuracy val: 0.9566285714285714\n",
      "---------------------------------------------------------------------------------------------------\n",
      "Epoch: 37, Learning Rate: 0.001\n",
      "\n"
     ]
    },
    {
     "data": {
      "application/vnd.jupyter.widget-view+json": {
       "model_id": "38f34046a1e74f74a50527f084eb745c",
       "version_major": 2,
       "version_minor": 0
      },
      "text/plain": [
       "HBox(children=(FloatProgress(value=0.0, max=263.0), HTML(value='')))"
      ]
     },
     "metadata": {},
     "output_type": "display_data"
    },
    {
     "name": "stdout",
     "output_type": "stream",
     "text": [
      "\n"
     ]
    },
    {
     "data": {
      "application/vnd.jupyter.widget-view+json": {
       "model_id": "f4fb0efe2f0b40da9bed68552d17606f",
       "version_major": 2,
       "version_minor": 0
      },
      "text/plain": [
       "HBox(children=(FloatProgress(value=0.0, max=17.0), HTML(value='')))"
      ]
     },
     "metadata": {},
     "output_type": "display_data"
    },
    {
     "name": "stdout",
     "output_type": "stream",
     "text": [
      "\n",
      "epoch time: 52.93027949333191\n",
      "mean loss train: 0.08832673700171567, mean loss val: 0.07412451074882419\n",
      "accuracy train: 0.9547479166666667, accuracy val: 0.9508690476190477\n",
      "---------------------------------------------------------------------------------------------------\n",
      "Epoch: 38, Learning Rate: 0.001\n",
      "\n"
     ]
    },
    {
     "data": {
      "application/vnd.jupyter.widget-view+json": {
       "model_id": "4fe5942723aa4636b3412e9c9066e734",
       "version_major": 2,
       "version_minor": 0
      },
      "text/plain": [
       "HBox(children=(FloatProgress(value=0.0, max=263.0), HTML(value='')))"
      ]
     },
     "metadata": {},
     "output_type": "display_data"
    },
    {
     "name": "stdout",
     "output_type": "stream",
     "text": [
      "\n"
     ]
    },
    {
     "data": {
      "application/vnd.jupyter.widget-view+json": {
       "model_id": "1269bfa3314d44b7beb5542146e76eee",
       "version_major": 2,
       "version_minor": 0
      },
      "text/plain": [
       "HBox(children=(FloatProgress(value=0.0, max=17.0), HTML(value='')))"
      ]
     },
     "metadata": {},
     "output_type": "display_data"
    },
    {
     "name": "stdout",
     "output_type": "stream",
     "text": [
      "\n",
      "epoch time: 53.580618381500244\n",
      "mean loss train: 0.0648455438230719, mean loss val: 0.07003470978019265\n",
      "accuracy train: 0.9605604166666667, accuracy val: 0.9627488095238095\n",
      "---------------------------------------------------------------------------------------------------\n",
      "Epoch: 39, Learning Rate: 0.001\n",
      "\n"
     ]
    },
    {
     "data": {
      "application/vnd.jupyter.widget-view+json": {
       "model_id": "29cf67cd08d34f228d31ed834cc21f0f",
       "version_major": 2,
       "version_minor": 0
      },
      "text/plain": [
       "HBox(children=(FloatProgress(value=0.0, max=263.0), HTML(value='')))"
      ]
     },
     "metadata": {},
     "output_type": "display_data"
    },
    {
     "name": "stdout",
     "output_type": "stream",
     "text": [
      "\n"
     ]
    },
    {
     "data": {
      "application/vnd.jupyter.widget-view+json": {
       "model_id": "d0192a42f89b4ea1aec646038fb92076",
       "version_major": 2,
       "version_minor": 0
      },
      "text/plain": [
       "HBox(children=(FloatProgress(value=0.0, max=17.0), HTML(value='')))"
      ]
     },
     "metadata": {},
     "output_type": "display_data"
    },
    {
     "name": "stdout",
     "output_type": "stream",
     "text": [
      "\n",
      "epoch time: 52.467262268066406\n",
      "mean loss train: 0.06674586440126101, mean loss val: 0.07702437650418917\n",
      "accuracy train: 0.9633145833333333, accuracy val: 0.95945\n",
      "---------------------------------------------------------------------------------------------------\n",
      "Epoch: 40, Learning Rate: 0.001\n",
      "\n"
     ]
    },
    {
     "data": {
      "application/vnd.jupyter.widget-view+json": {
       "model_id": "a91a9e358bb94799ab17727ccaadf167",
       "version_major": 2,
       "version_minor": 0
      },
      "text/plain": [
       "HBox(children=(FloatProgress(value=0.0, max=263.0), HTML(value='')))"
      ]
     },
     "metadata": {},
     "output_type": "display_data"
    },
    {
     "name": "stdout",
     "output_type": "stream",
     "text": [
      "\n"
     ]
    },
    {
     "data": {
      "application/vnd.jupyter.widget-view+json": {
       "model_id": "208bab8045dc4a91ac65abbb62aa5237",
       "version_major": 2,
       "version_minor": 0
      },
      "text/plain": [
       "HBox(children=(FloatProgress(value=0.0, max=17.0), HTML(value='')))"
      ]
     },
     "metadata": {},
     "output_type": "display_data"
    },
    {
     "name": "stdout",
     "output_type": "stream",
     "text": [
      "\n",
      "epoch time: 55.77119731903076\n",
      "mean loss train: 0.060543723379572235, mean loss val: 0.07400233098260742\n",
      "accuracy train: 0.9694217261904762, accuracy val: 0.9627166666666667\n",
      "---------------------------------------------------------------------------------------------------\n",
      "Epoch: 41, Learning Rate: 0.001\n",
      "\n"
     ]
    },
    {
     "data": {
      "application/vnd.jupyter.widget-view+json": {
       "model_id": "cab1f178d8664deda7272c836b3fd943",
       "version_major": 2,
       "version_minor": 0
      },
      "text/plain": [
       "HBox(children=(FloatProgress(value=0.0, max=263.0), HTML(value='')))"
      ]
     },
     "metadata": {},
     "output_type": "display_data"
    },
    {
     "name": "stdout",
     "output_type": "stream",
     "text": [
      "\n"
     ]
    },
    {
     "data": {
      "application/vnd.jupyter.widget-view+json": {
       "model_id": "80172183482242fdbbb81bed5036ae0d",
       "version_major": 2,
       "version_minor": 0
      },
      "text/plain": [
       "HBox(children=(FloatProgress(value=0.0, max=17.0), HTML(value='')))"
      ]
     },
     "metadata": {},
     "output_type": "display_data"
    },
    {
     "name": "stdout",
     "output_type": "stream",
     "text": [
      "\n",
      "epoch time: 56.43673539161682\n",
      "mean loss train: 0.07632172457519032, mean loss val: 0.07560810229065519\n",
      "accuracy train: 0.9666077380952381, accuracy val: 0.9639666666666666\n",
      "---------------------------------------------------------------------------------------------------\n",
      "Epoch: 42, Learning Rate: 0.001\n",
      "\n"
     ]
    },
    {
     "data": {
      "application/vnd.jupyter.widget-view+json": {
       "model_id": "9acf6bd652c34e3aa0240a6b921c41ed",
       "version_major": 2,
       "version_minor": 0
      },
      "text/plain": [
       "HBox(children=(FloatProgress(value=0.0, max=263.0), HTML(value='')))"
      ]
     },
     "metadata": {},
     "output_type": "display_data"
    },
    {
     "name": "stdout",
     "output_type": "stream",
     "text": [
      "\n"
     ]
    },
    {
     "data": {
      "application/vnd.jupyter.widget-view+json": {
       "model_id": "a4a8d4abab7345f388bc428003d8c0a7",
       "version_major": 2,
       "version_minor": 0
      },
      "text/plain": [
       "HBox(children=(FloatProgress(value=0.0, max=17.0), HTML(value='')))"
      ]
     },
     "metadata": {},
     "output_type": "display_data"
    },
    {
     "name": "stdout",
     "output_type": "stream",
     "text": [
      "\n",
      "epoch time: 56.06965088844299\n",
      "mean loss train: 0.054865231831735445, mean loss val: 0.0881146807995398\n",
      "accuracy train: 0.9752654761904762, accuracy val: 0.9577845238095238\n",
      "---------------------------------------------------------------------------------------------------\n",
      "Epoch: 43, Learning Rate: 0.001\n",
      "\n"
     ]
    },
    {
     "data": {
      "application/vnd.jupyter.widget-view+json": {
       "model_id": "2fe7ca8748614af69a3955a53f432070",
       "version_major": 2,
       "version_minor": 0
      },
      "text/plain": [
       "HBox(children=(FloatProgress(value=0.0, max=263.0), HTML(value='')))"
      ]
     },
     "metadata": {},
     "output_type": "display_data"
    },
    {
     "name": "stdout",
     "output_type": "stream",
     "text": [
      "\n"
     ]
    },
    {
     "data": {
      "application/vnd.jupyter.widget-view+json": {
       "model_id": "79c7156b735740228c8e1bce61140aa3",
       "version_major": 2,
       "version_minor": 0
      },
      "text/plain": [
       "HBox(children=(FloatProgress(value=0.0, max=17.0), HTML(value='')))"
      ]
     },
     "metadata": {},
     "output_type": "display_data"
    },
    {
     "name": "stdout",
     "output_type": "stream",
     "text": [
      "\n",
      "epoch time: 53.188592195510864\n",
      "mean loss train: 0.05296672828672897, mean loss val: 0.07016947308154332\n",
      "accuracy train: 0.9758842261904762, accuracy val: 0.9701785714285714\n",
      "---------------------------------------------------------------------------------------------------\n",
      "Epoch: 44, Learning Rate: 0.001\n",
      "\n"
     ]
    },
    {
     "data": {
      "application/vnd.jupyter.widget-view+json": {
       "model_id": "90f552cefdc744a8b47b69a0aab11bde",
       "version_major": 2,
       "version_minor": 0
      },
      "text/plain": [
       "HBox(children=(FloatProgress(value=0.0, max=263.0), HTML(value='')))"
      ]
     },
     "metadata": {},
     "output_type": "display_data"
    },
    {
     "name": "stdout",
     "output_type": "stream",
     "text": [
      "\n"
     ]
    },
    {
     "data": {
      "application/vnd.jupyter.widget-view+json": {
       "model_id": "7d8816924c2742258a751857bc78a61e",
       "version_major": 2,
       "version_minor": 0
      },
      "text/plain": [
       "HBox(children=(FloatProgress(value=0.0, max=17.0), HTML(value='')))"
      ]
     },
     "metadata": {},
     "output_type": "display_data"
    },
    {
     "name": "stdout",
     "output_type": "stream",
     "text": [
      "\n",
      "epoch time: 55.36606216430664\n",
      "mean loss train: 0.050756695737530076, mean loss val: 0.06471997610925455\n",
      "accuracy train: 0.9787583333333333, accuracy val: 0.9719797619047619\n",
      "---------------------------------------------------------------------------------------------------\n",
      "Epoch: 45, Learning Rate: 0.001\n",
      "\n"
     ]
    },
    {
     "data": {
      "application/vnd.jupyter.widget-view+json": {
       "model_id": "648573e532d34b6f92dcc1636a8b202f",
       "version_major": 2,
       "version_minor": 0
      },
      "text/plain": [
       "HBox(children=(FloatProgress(value=0.0, max=263.0), HTML(value='')))"
      ]
     },
     "metadata": {},
     "output_type": "display_data"
    },
    {
     "name": "stdout",
     "output_type": "stream",
     "text": [
      "\n"
     ]
    },
    {
     "data": {
      "application/vnd.jupyter.widget-view+json": {
       "model_id": "07d9167d36084206984893b5e41abc62",
       "version_major": 2,
       "version_minor": 0
      },
      "text/plain": [
       "HBox(children=(FloatProgress(value=0.0, max=17.0), HTML(value='')))"
      ]
     },
     "metadata": {},
     "output_type": "display_data"
    },
    {
     "name": "stdout",
     "output_type": "stream",
     "text": [
      "\n",
      "epoch time: 54.045493602752686\n",
      "mean loss train: 0.04534889561678505, mean loss val: 0.06604788373023777\n",
      "accuracy train: 0.9807193452380952, accuracy val: 0.9713142857142857\n",
      "---------------------------------------------------------------------------------------------------\n",
      "Epoch: 46, Learning Rate: 0.001\n",
      "\n"
     ]
    },
    {
     "data": {
      "application/vnd.jupyter.widget-view+json": {
       "model_id": "0f4eb5b3c5994b1ca000a75eaaca814a",
       "version_major": 2,
       "version_minor": 0
      },
      "text/plain": [
       "HBox(children=(FloatProgress(value=0.0, max=263.0), HTML(value='')))"
      ]
     },
     "metadata": {},
     "output_type": "display_data"
    },
    {
     "name": "stdout",
     "output_type": "stream",
     "text": [
      "\n"
     ]
    },
    {
     "data": {
      "application/vnd.jupyter.widget-view+json": {
       "model_id": "c9dd5851eb714ff2aec0e5d76c26aedb",
       "version_major": 2,
       "version_minor": 0
      },
      "text/plain": [
       "HBox(children=(FloatProgress(value=0.0, max=17.0), HTML(value='')))"
      ]
     },
     "metadata": {},
     "output_type": "display_data"
    },
    {
     "name": "stdout",
     "output_type": "stream",
     "text": [
      "\n",
      "epoch time: 54.38690662384033\n",
      "mean loss train: 0.0407997982252744, mean loss val: 0.10489372565929755\n",
      "accuracy train: 0.9821800595238095, accuracy val: 0.9627404761904762\n",
      "---------------------------------------------------------------------------------------------------\n",
      "Epoch: 47, Learning Rate: 0.001\n",
      "\n"
     ]
    },
    {
     "data": {
      "application/vnd.jupyter.widget-view+json": {
       "model_id": "8da2153245d64c9caf9535878fb1e33f",
       "version_major": 2,
       "version_minor": 0
      },
      "text/plain": [
       "HBox(children=(FloatProgress(value=0.0, max=263.0), HTML(value='')))"
      ]
     },
     "metadata": {},
     "output_type": "display_data"
    },
    {
     "name": "stdout",
     "output_type": "stream",
     "text": [
      "\n"
     ]
    },
    {
     "data": {
      "application/vnd.jupyter.widget-view+json": {
       "model_id": "4c05d8dfa50b410ab120295d8bfeee11",
       "version_major": 2,
       "version_minor": 0
      },
      "text/plain": [
       "HBox(children=(FloatProgress(value=0.0, max=17.0), HTML(value='')))"
      ]
     },
     "metadata": {},
     "output_type": "display_data"
    },
    {
     "name": "stdout",
     "output_type": "stream",
     "text": [
      "\n",
      "epoch time: 54.79103660583496\n",
      "mean loss train: 0.03498061323782341, mean loss val: 0.0621566009045972\n",
      "accuracy train: 0.9869943452380953, accuracy val: 0.9732464285714286\n",
      "---------------------------------------------------------------------------------------------------\n",
      "Epoch: 48, Learning Rate: 0.001\n",
      "\n"
     ]
    },
    {
     "data": {
      "application/vnd.jupyter.widget-view+json": {
       "model_id": "fa4870859d4b41888348953b5423cdff",
       "version_major": 2,
       "version_minor": 0
      },
      "text/plain": [
       "HBox(children=(FloatProgress(value=0.0, max=263.0), HTML(value='')))"
      ]
     },
     "metadata": {},
     "output_type": "display_data"
    },
    {
     "name": "stdout",
     "output_type": "stream",
     "text": [
      "\n"
     ]
    },
    {
     "data": {
      "application/vnd.jupyter.widget-view+json": {
       "model_id": "97294e86322a4a0e9dc996660620306d",
       "version_major": 2,
       "version_minor": 0
      },
      "text/plain": [
       "HBox(children=(FloatProgress(value=0.0, max=17.0), HTML(value='')))"
      ]
     },
     "metadata": {},
     "output_type": "display_data"
    },
    {
     "name": "stdout",
     "output_type": "stream",
     "text": [
      "\n",
      "epoch time: 53.524479389190674\n",
      "mean loss train: 0.05406894362176813, mean loss val: 0.07793294568279535\n",
      "accuracy train: 0.9823175595238095, accuracy val: 0.9700511904761905\n",
      "---------------------------------------------------------------------------------------------------\n",
      "Epoch: 49, Learning Rate: 0.001\n",
      "\n"
     ]
    },
    {
     "data": {
      "application/vnd.jupyter.widget-view+json": {
       "model_id": "96ed819555f84f25a88ad31c60e8f16a",
       "version_major": 2,
       "version_minor": 0
      },
      "text/plain": [
       "HBox(children=(FloatProgress(value=0.0, max=263.0), HTML(value='')))"
      ]
     },
     "metadata": {},
     "output_type": "display_data"
    },
    {
     "name": "stdout",
     "output_type": "stream",
     "text": [
      "\n"
     ]
    },
    {
     "data": {
      "application/vnd.jupyter.widget-view+json": {
       "model_id": "be76d0b9070341209a7a42d48e60b079",
       "version_major": 2,
       "version_minor": 0
      },
      "text/plain": [
       "HBox(children=(FloatProgress(value=0.0, max=17.0), HTML(value='')))"
      ]
     },
     "metadata": {},
     "output_type": "display_data"
    },
    {
     "name": "stdout",
     "output_type": "stream",
     "text": [
      "\n",
      "epoch time: 53.60930633544922\n",
      "mean loss train: 0.030893413583703695, mean loss val: 0.09485863438848062\n",
      "accuracy train: 0.9884380952380952, accuracy val: 0.9692607142857143\n",
      "---------------------------------------------------------------------------------------------------\n"
     ]
    }
   ],
   "source": [
    "loss_train_all, loss_val_all = [], []\n",
    "accuracy_train_all, accuracy_val_all = [], []\n",
    "\n",
    "best_model_acc = 0\n",
    "best_model_epoch = 0\n",
    "\n",
    "for epoch in range(NUM_EPOCHS):\n",
    "\n",
    "    start = time.time()\n",
    "    print(f\"Epoch: {epoch}, Learning Rate: {optimizer.param_groups[0]['lr']}\\n\")\n",
    "\n",
    "    loss_train_epoch, loss_val_epoch = 0, 0\n",
    "    correct_train_epoch, correct_val_epoch = 0, 0\n",
    "    n_train, n_val = 0, 0\n",
    "\n",
    "    model.train()\n",
    "    for (X_batch_train, X_batch_lengths_train, y_batch_train) in tqdm(train_dl):\n",
    "\n",
    "        X_batch_train, X_batch_lengths_train, y_batch_train =\\\n",
    "                    X_batch_train.to(device), X_batch_lengths_train.to(device), y_batch_train.to(device)\n",
    "\n",
    "        optimizer.zero_grad()\n",
    "        y_pred_train = model(X_batch_train, X_batch_lengths_train)\n",
    "        \n",
    "        y_pred_train = y_pred_train.permute(0, 2, 1)\n",
    "        y_batch_train = y_batch_train.repeat(200, 1).transpose(1, 0)\n",
    "        \n",
    "        loss_train = criterion(y_pred_train, y_batch_train)\n",
    "        loss_train.backward()\n",
    "        optimizer.step()\n",
    "\n",
    "        loss_train_epoch += loss_train.item() * y_batch_train.size(0) * y_batch_train.size(1)\n",
    "        correct_train_epoch += correct(y_pred_train, y_batch_train)\n",
    "        n_train += y_batch_train.size(0) * y_batch_train.size(1)\n",
    "\n",
    "#     scheduler.step()\n",
    "    model.eval()\n",
    "\n",
    "    with torch.no_grad():\n",
    "        \n",
    "        for (X_batch_val, X_batch_lengths_val, y_batch_val) in tqdm(val_dl):\n",
    "\n",
    "            X_batch_val, X_batch_lengths_val, y_batch_val =\\\n",
    "                    X_batch_val.to(device), X_batch_lengths_val.to(device), y_batch_val.to(device)\n",
    "\n",
    "            y_pred_val = model(X_batch_val, X_batch_lengths_val)             \n",
    "\n",
    "            y_pred_val = y_pred_val.permute(0, 2, 1)\n",
    "            y_batch_val = y_batch_val.repeat(200, 1).transpose(1, 0)\n",
    "        \n",
    "            loss_val = criterion(y_pred_val, y_batch_val)\n",
    "            \n",
    "            loss_val_epoch += loss_val.item() * y_batch_val.size(0) * y_batch_val.size(1)\n",
    "            correct_val_epoch += correct(y_pred_val, y_batch_val)\n",
    "            n_val += y_batch_val.size(0)*y_batch_val.size(1)\n",
    "            \n",
    "    loss_mean_train_epoch = loss_train_epoch / n_train\n",
    "    loss_mean_val_epoch = loss_val_epoch / n_val\n",
    "\n",
    "    loss_train_all.append(loss_mean_train_epoch)\n",
    "    loss_val_all.append(loss_mean_val_epoch)\n",
    "\n",
    "    accuracy_train_epoch = correct_train_epoch / n_train\n",
    "    accuracy_val_epoch = correct_val_epoch / n_val\n",
    "\n",
    "    accuracy_train_all.append(accuracy_train_epoch)\n",
    "    accuracy_val_all.append(accuracy_val_epoch)\n",
    "\n",
    "    writer.add_scalars('LOSS per epoch', {\"train\": loss_mean_train_epoch, \"val\": loss_mean_val_epoch}, epoch)\n",
    "    writer.add_scalars('ACCURACY per epoch', {\"train\": accuracy_train_epoch, \"val\": accuracy_val_epoch}, epoch)\n",
    "    \n",
    "    if accuracy_val_epoch > best_model_acc:\n",
    "        \n",
    "        best_model_state_dict = model.state_dict()\n",
    "        best_model_acc = accuracy_val_epoch\n",
    "        best_model_epoch = epoch\n",
    "        \n",
    "    scheduler.step(loss_mean_val_epoch)\n",
    "    \n",
    "    end = time.time()\n",
    "    print(f\"epoch time: {end - start}\")  \n",
    "    print(f\"mean loss train: {loss_mean_train_epoch}, mean loss val: {loss_mean_val_epoch}\")\n",
    "    print(f\"accuracy train: {accuracy_train_epoch}, accuracy val: {accuracy_val_epoch}\")\n",
    "\n",
    "    print(\"---------------------------------------------------------------------------------------------------\")"
   ]
  },
  {
   "cell_type": "code",
   "execution_count": null,
   "metadata": {},
   "outputs": [],
   "source": [
    "writer.add_hparams(model.get_params(), {\"best_accuracy\": best_model_acc, \"best_model_epoch\": best_model_epoch})"
   ]
  },
  {
   "cell_type": "markdown",
   "metadata": {},
   "source": [
    "> ### Loading best model"
   ]
  },
  {
   "cell_type": "code",
   "execution_count": 33,
   "metadata": {},
   "outputs": [
    {
     "name": "stdout",
     "output_type": "stream",
     "text": [
      "_datetime.today().strftime('%d%b_%H_%M').pth  multi_rnn_fine_tuning_2.pth\r\n",
      "att_fine_tuning.pth\t\t\t      rnn_fine_tuning.pth\r\n",
      "multi_rnn_fine_tuning\t\t\t      trs_fine_tuning.pth\r\n",
      "multi_rnn_fine_tuning.pth\r\n"
     ]
    }
   ],
   "source": [
    "! ls saved_models/"
   ]
  },
  {
   "cell_type": "code",
   "execution_count": 37,
   "metadata": {},
   "outputs": [],
   "source": [
    "checkpoint = {'model': model.__class__.__name__, \n",
    "              'params': model.get_params(),\n",
    "              'state_dict': best_model_state_dict}\n",
    "\n",
    "torch.save(checkpoint, \"saved_models/multi_rnn_fine_tuning_2.pth\")"
   ]
  },
  {
   "cell_type": "code",
   "execution_count": 28,
   "metadata": {},
   "outputs": [
    {
     "data": {
      "text/plain": [
       "MultiRNN(\n",
       "  (rnn): GRU(52, 128, num_layers=2, batch_first=True, dropout=0.4, bidirectional=True)\n",
       "  (head): Sequential(\n",
       "    (0): Linear(in_features=256, out_features=64, bias=True)\n",
       "    (1): ReLU()\n",
       "    (2): Dropout(p=0.4, inplace=False)\n",
       "    (3): Linear(in_features=64, out_features=21, bias=True)\n",
       "  )\n",
       ")"
      ]
     },
     "execution_count": 28,
     "metadata": {},
     "output_type": "execute_result"
    }
   ],
   "source": [
    "checkpoint = torch.load(\"saved_models/multi_rnn_fine_tuning_2.pth\")\n",
    "\n",
    "model = getattr(sys.modules[__name__], checkpoint['model'])(**checkpoint['params'])\n",
    "model.load_state_dict(checkpoint['state_dict'])\n",
    "\n",
    "model = model.to(device)\n",
    "\n",
    "for parameter in model.parameters():\n",
    "        parameter.requires_grad = False\n",
    "        \n",
    "model.eval()"
   ]
  },
  {
   "cell_type": "markdown",
   "metadata": {},
   "source": [
    "> ### Val evaluation"
   ]
  },
  {
   "cell_type": "code",
   "execution_count": 29,
   "metadata": {},
   "outputs": [],
   "source": [
    "def get_metrics(y_true, y_pred):\n",
    "    \n",
    "    \"\"\"\n",
    "    Calculates TPR, FPR and ACCURACY per class for multiple simulation runs\n",
    "    https://stackoverflow.com/questions/50666091/true-positive-rate-and-false-positive-rate-tpr-fpr-for-multi-class-data-in-py\n",
    "\n",
    "    Parameters\n",
    "    ----------\n",
    "    y_true : \n",
    "        type: np.array \n",
    "        shape : (number of simulation runs)\n",
    "        description: true classes for simulation runs\n",
    "    \n",
    "    y_pred : np.array\n",
    "    \n",
    "        type: np.array \n",
    "        shape : (number of simulation runs)\n",
    "        description: predicted classes for simulation runs\n",
    "        \n",
    "    Returns\n",
    "    -------\n",
    "    TPR : \n",
    "        type: list of floats\n",
    "        shape: (number of classes)\n",
    "        description: True Positive Rate per class\n",
    "    FPR : \n",
    "        type: list of floats\n",
    "        shape: (number of classes)\n",
    "        description: False Positive Rate per class\n",
    "    ACCURACY : \n",
    "        type: list of floats\n",
    "        shape: (number of classes)\n",
    "        description: Accuracy \"one vs all\" per class\n",
    "    \"\"\"\n",
    "    \n",
    "    conf = confusion_matrix(y_true, y_pred)\n",
    "    \n",
    "    FP = conf.sum(axis=0) - np.diag(conf)\n",
    "    FN = conf.sum(axis=1) - np.diag(conf)\n",
    "    TP = np.diag(conf)\n",
    "    TN = conf.sum() - (FP + FN + TP)\n",
    "    \n",
    "    TPR = TP / (TP + FN)\n",
    "    FPR = FP / (FP + TN)\n",
    "\n",
    "    ACCURACY = (TP + TN) / (TP + TN + FP + FN)\n",
    "    \n",
    "    return TPR, FPR, ACCURACY"
   ]
  },
  {
   "cell_type": "code",
   "execution_count": 30,
   "metadata": {},
   "outputs": [],
   "source": [
    "def get_first_true_idx(arr):\n",
    "    idx = np.where(arr == True)[0]\n",
    "    if len(idx) == 0:\n",
    "        return np.NaN\n",
    "    else:\n",
    "        return idx.min()\n",
    "\n",
    "def get_detection_delay(y_true, y_pred) -> dict():\n",
    "    \"\"\"\n",
    "    Calculates detection delay for every simulation run\n",
    "\n",
    "    Parameters\n",
    "    ----------\n",
    "    y_true : \n",
    "        type : np.array \n",
    "        shape : (number of simulation runs)\n",
    "        description : true classes for simulation runs\n",
    "    \n",
    "    y_pred : np.array \n",
    "        type : np.array \n",
    "        shape : (number of simulation runs, simulation runs' lengths)\n",
    "        description: predicted classes for every sample for every simulation runs\n",
    "        \n",
    "    Returns\n",
    "    -------\n",
    "    detection_delay :\n",
    "        type : dict\n",
    "        keys : classes from 0 to 20\n",
    "        description : dict of detection delays for every class, nan means true class wasn't predicted\n",
    "    \n",
    "    Commentary:\n",
    "        If you want to get avarage detection delays per class, you need to calulate avg of detection_delay[key]\n",
    "        for every key \n",
    "        \n",
    "    \"\"\"\n",
    "    \n",
    "    detection_delay = defaultdict(list)\n",
    "    \n",
    "    correct = y_pred == y_true[..., np.newaxis]\n",
    "    first_true_idxs = np.apply_along_axis(func1d=get_first_true_idx, arr=correct, axis=1)\n",
    "\n",
    "    for (cls, idx) in zip(y_true, first_true_idxs):\n",
    "        detection_delay[cls].append(idx)\n",
    "    return detection_delay"
   ]
  },
  {
   "cell_type": "code",
   "execution_count": 31,
   "metadata": {},
   "outputs": [
    {
     "data": {
      "application/vnd.jupyter.widget-view+json": {
       "model_id": "1f1cd1a55b5547a5b5e3ee77d61a42c2",
       "version_major": 2,
       "version_minor": 0
      },
      "text/plain": [
       "HBox(children=(FloatProgress(value=0.0, max=17.0), HTML(value='')))"
      ]
     },
     "metadata": {},
     "output_type": "display_data"
    },
    {
     "name": "stdout",
     "output_type": "stream",
     "text": [
      "\n"
     ]
    }
   ],
   "source": [
    "model.eval()\n",
    "\n",
    "y_ans_val, y_true_val = [], []\n",
    "\n",
    "with torch.no_grad():\n",
    "\n",
    "    for (X_batch_val, X_batch_lengths_val, y_batch_val) in tqdm(val_dl):\n",
    "\n",
    "        X_batch_val, X_batch_lengths_val, y_batch_val =\\\n",
    "                    X_batch_val.to(device), X_batch_lengths_val.to(device), y_batch_val.to(device)\n",
    "\n",
    "        y_pred_val = model(X_batch_val, X_batch_lengths_val)\n",
    "        \n",
    "        y_pred_prob = F.softmax(y_pred_val.cpu(), dim=-1)\n",
    "        y_pred_class = y_pred_prob.max(dim=-1)[1]\n",
    "       \n",
    "        y_ans_val += y_pred_class.tolist()\n",
    "        y_true_val += y_batch_val.tolist()"
   ]
  },
  {
   "cell_type": "code",
   "execution_count": 32,
   "metadata": {},
   "outputs": [
    {
     "data": {
      "text/plain": [
       "4200"
      ]
     },
     "execution_count": 32,
     "metadata": {},
     "output_type": "execute_result"
    }
   ],
   "source": [
    "len(val_ds)"
   ]
  },
  {
   "cell_type": "code",
   "execution_count": 33,
   "metadata": {},
   "outputs": [],
   "source": [
    "y_ans_val = np.array(y_ans_val)\n",
    "\n",
    "y_ans_val = y_ans_val[:, 0]"
   ]
  },
  {
   "cell_type": "code",
   "execution_count": 34,
   "metadata": {},
   "outputs": [],
   "source": [
    "y_true_val = np.array(y_true_val)"
   ]
  },
  {
   "cell_type": "code",
   "execution_count": 35,
   "metadata": {},
   "outputs": [],
   "source": [
    "# plt.figure(figsize=(20, 8))\n",
    "# plt.title(\"loss\")\n",
    "# plt.plot(np.arange(len(loss_train_all)), loss_train_all, '-o', marker='.', label='train')\n",
    "# plt.plot(np.arange(len(loss_val_all)), loss_val_all, '-o', marker='.', label='val')\n",
    "# plt.legend()\n",
    "# plt.show()"
   ]
  },
  {
   "cell_type": "code",
   "execution_count": 36,
   "metadata": {},
   "outputs": [],
   "source": [
    "# plt.figure(figsize=(20, 8))\n",
    "# plt.title(\"accuracy\")\n",
    "# plt.plot(np.arange(len(accuracy_train_all)), accuracy_train_all, '-o', marker='.', label='train')\n",
    "# plt.plot(np.arange(len(accuracy_val_all)), accuracy_val_all, '-o', marker='.', label='val')\n",
    "# plt.text(35, 0.65, s=f\"best acc: {best_model_acc}\\nbest epoch: {best_model_epoch}\", fontsize=20)\n",
    "# plt.scatter(best_model_epoch, best_model_acc, c='g', s=100)\n",
    "# plt.legend()\n",
    "# plt.show()"
   ]
  },
  {
   "cell_type": "code",
   "execution_count": 37,
   "metadata": {},
   "outputs": [
    {
     "data": {
      "image/png": "[encoded data removed]",
      "text/plain": [
       "<Figure size 1080x720 with 2 Axes>"
      ]
     },
     "metadata": {
      "needs_background": "light"
     },
     "output_type": "display_data"
    }
   ],
   "source": [
    "plt.figure(figsize=(15, 10))\n",
    "plt.title(\"FDR\")\n",
    "sns.heatmap(confusion_matrix(y_true_val, y_ans_val, normalize='pred'), annot=True, cmap=sns.cm.rocket_r)\n",
    "plt.xlabel('predicted class')\n",
    "plt.ylabel('true class')\n",
    "plt.show()"
   ]
  },
  {
   "cell_type": "code",
   "execution_count": 38,
   "metadata": {},
   "outputs": [],
   "source": [
    "TPR, FPR, ACCURACY = get_metrics(y_true_val, y_ans_val)"
   ]
  },
  {
   "cell_type": "code",
   "execution_count": 39,
   "metadata": {},
   "outputs": [],
   "source": [
    "def plotting(arr, name, forward=True):\n",
    "    classes = np.arange(len(arr))\n",
    "\n",
    "    norm = plt.Normalize(arr.min(), arr.max())\n",
    "    \n",
    "    if forward:\n",
    "        colors = plt.cm.RdYlGn(norm(arr))\n",
    "    else:\n",
    "        colors = plt.cm.summer(norm(arr))\n",
    "        \n",
    "    plt.figure(figsize=(8, 5))\n",
    "    plt.title(f'{name} per class')\n",
    "#     sns.barplot(x=classes, y=arr, palette=colors)\n",
    "    plt.plot(arr, '-*', color='yellowgreen')\n",
    "    plt.xticks(classes, [\"fault_\" + str(c) if c > 0 else \"normal\" for c in classes], rotation=90)\n",
    "    plt.xlabel('class')\n",
    "    plt.ylabel(f'{name}')\n",
    "    plt.ylim(0, 1.1)\n",
    "    plt.show()"
   ]
  },
  {
   "cell_type": "code",
   "execution_count": 40,
   "metadata": {},
   "outputs": [
    {
     "data": {
      "image/png": "[encoded data removed]",
      "text/plain": [
       "<Figure size 576x360 with 1 Axes>"
      ]
     },
     "metadata": {
      "needs_background": "light"
     },
     "output_type": "display_data"
    }
   ],
   "source": [
    "plotting(TPR, \"TPR (true positive rate)\")"
   ]
  },
  {
   "cell_type": "code",
   "execution_count": 41,
   "metadata": {},
   "outputs": [
    {
     "data": {
      "image/png": "[encoded data removed]",
      "text/plain": [
       "<Figure size 576x360 with 1 Axes>"
      ]
     },
     "metadata": {
      "needs_background": "light"
     },
     "output_type": "display_data"
    }
   ],
   "source": [
    "plotting(FPR, \"FPR (false positive rate)\", forward=False)"
   ]
  },
  {
   "cell_type": "code",
   "execution_count": 42,
   "metadata": {},
   "outputs": [
    {
     "data": {
      "image/png": "[encoded data removed]",
      "text/plain": [
       "<Figure size 576x360 with 1 Axes>"
      ]
     },
     "metadata": {
      "needs_background": "light"
     },
     "output_type": "display_data"
    }
   ],
   "source": [
    "plotting(ACCURACY, \"ACCURACY vs ALL\")"
   ]
  },
  {
   "cell_type": "markdown",
   "metadata": {},
   "source": [
    "> ### Test evaluation"
   ]
  },
  {
   "cell_type": "code",
   "execution_count": 43,
   "metadata": {},
   "outputs": [
    {
     "data": {
      "text/plain": [
       "36552"
      ]
     },
     "execution_count": 43,
     "metadata": {},
     "output_type": "execute_result"
    }
   ],
   "source": [
    "gc.collect()"
   ]
  },
  {
   "cell_type": "code",
   "execution_count": 44,
   "metadata": {},
   "outputs": [],
   "source": [
    "#reading test data in .R format\n",
    "a3 = py.read_r(\"../../data/raw/dataverse_files/TEP_FaultFree_Testing.RData\")\n",
    "a4 = py.read_r(\"../../data/raw/dataverse_files/TEP_Faulty_Testing.RData\")\n",
    "\n",
    "raw_test = pd.concat([a3['fault_free_testing'], a4['faulty_testing']])"
   ]
  },
  {
   "cell_type": "code",
   "execution_count": 45,
   "metadata": {},
   "outputs": [],
   "source": [
    "raw_test[features] = scaler.transform(raw_test[features])"
   ]
  },
  {
   "cell_type": "code",
   "execution_count": 46,
   "metadata": {},
   "outputs": [],
   "source": [
    "raw_test['index'] = raw_test['faultNumber'] * 500 + raw_test['simulationRun'] - 1\n",
    "raw_test = raw_test.set_index('index')"
   ]
  },
  {
   "cell_type": "code",
   "execution_count": 47,
   "metadata": {},
   "outputs": [
    {
     "data": {
      "text/html": [
       "<div>\n",
       "<style scoped>\n",
       "    .dataframe tbody tr th:only-of-type {\n",
       "        vertical-align: middle;\n",
       "    }\n",
       "\n",
       "    .dataframe tbody tr th {\n",
       "        vertical-align: top;\n",
       "    }\n",
       "\n",
       "    .dataframe thead th {\n",
       "        text-align: right;\n",
       "    }\n",
       "</style>\n",
       "<table border=\"1\" class=\"dataframe\">\n",
       "  <thead>\n",
       "    <tr style=\"text-align: right;\">\n",
       "      <th></th>\n",
       "      <th>faultNumber</th>\n",
       "      <th>simulationRun</th>\n",
       "      <th>sample</th>\n",
       "      <th>xmeas_1</th>\n",
       "      <th>xmeas_2</th>\n",
       "      <th>xmeas_3</th>\n",
       "      <th>xmeas_4</th>\n",
       "      <th>xmeas_5</th>\n",
       "      <th>xmeas_6</th>\n",
       "      <th>xmeas_7</th>\n",
       "      <th>...</th>\n",
       "      <th>xmv_2</th>\n",
       "      <th>xmv_3</th>\n",
       "      <th>xmv_4</th>\n",
       "      <th>xmv_5</th>\n",
       "      <th>xmv_6</th>\n",
       "      <th>xmv_7</th>\n",
       "      <th>xmv_8</th>\n",
       "      <th>xmv_9</th>\n",
       "      <th>xmv_10</th>\n",
       "      <th>xmv_11</th>\n",
       "    </tr>\n",
       "    <tr>\n",
       "      <th>index</th>\n",
       "      <th></th>\n",
       "      <th></th>\n",
       "      <th></th>\n",
       "      <th></th>\n",
       "      <th></th>\n",
       "      <th></th>\n",
       "      <th></th>\n",
       "      <th></th>\n",
       "      <th></th>\n",
       "      <th></th>\n",
       "      <th></th>\n",
       "      <th></th>\n",
       "      <th></th>\n",
       "      <th></th>\n",
       "      <th></th>\n",
       "      <th></th>\n",
       "      <th></th>\n",
       "      <th></th>\n",
       "      <th></th>\n",
       "      <th></th>\n",
       "      <th></th>\n",
       "    </tr>\n",
       "  </thead>\n",
       "  <tbody>\n",
       "    <tr>\n",
       "      <th>0.0</th>\n",
       "      <td>0</td>\n",
       "      <td>1.0</td>\n",
       "      <td>1</td>\n",
       "      <td>-0.061905</td>\n",
       "      <td>0.201545</td>\n",
       "      <td>-0.366697</td>\n",
       "      <td>0.396960</td>\n",
       "      <td>0.672885</td>\n",
       "      <td>0.349442</td>\n",
       "      <td>-0.223455</td>\n",
       "      <td>...</td>\n",
       "      <td>0.036876</td>\n",
       "      <td>-0.280430</td>\n",
       "      <td>-0.477229</td>\n",
       "      <td>-0.047406</td>\n",
       "      <td>0.017518</td>\n",
       "      <td>0.678059</td>\n",
       "      <td>0.641891</td>\n",
       "      <td>-0.185190</td>\n",
       "      <td>0.014966</td>\n",
       "      <td>-0.693145</td>\n",
       "    </tr>\n",
       "    <tr>\n",
       "      <th>0.0</th>\n",
       "      <td>0</td>\n",
       "      <td>1.0</td>\n",
       "      <td>2</td>\n",
       "      <td>-0.057595</td>\n",
       "      <td>-0.504438</td>\n",
       "      <td>0.575905</td>\n",
       "      <td>0.124438</td>\n",
       "      <td>0.421859</td>\n",
       "      <td>0.709238</td>\n",
       "      <td>-0.228836</td>\n",
       "      <td>...</td>\n",
       "      <td>-0.201046</td>\n",
       "      <td>-0.283523</td>\n",
       "      <td>-0.372900</td>\n",
       "      <td>-0.042150</td>\n",
       "      <td>0.002242</td>\n",
       "      <td>-0.482106</td>\n",
       "      <td>-0.595256</td>\n",
       "      <td>-0.173439</td>\n",
       "      <td>-0.142419</td>\n",
       "      <td>-0.548871</td>\n",
       "    </tr>\n",
       "    <tr>\n",
       "      <th>0.0</th>\n",
       "      <td>0</td>\n",
       "      <td>1.0</td>\n",
       "      <td>3</td>\n",
       "      <td>-0.084550</td>\n",
       "      <td>-0.483398</td>\n",
       "      <td>0.012553</td>\n",
       "      <td>-0.222560</td>\n",
       "      <td>0.110240</td>\n",
       "      <td>-0.271443</td>\n",
       "      <td>-0.251702</td>\n",
       "      <td>...</td>\n",
       "      <td>-0.059070</td>\n",
       "      <td>-0.263817</td>\n",
       "      <td>-0.348612</td>\n",
       "      <td>-0.062236</td>\n",
       "      <td>0.011582</td>\n",
       "      <td>1.286104</td>\n",
       "      <td>-0.800952</td>\n",
       "      <td>-0.174777</td>\n",
       "      <td>-0.062251</td>\n",
       "      <td>0.333051</td>\n",
       "    </tr>\n",
       "    <tr>\n",
       "      <th>0.0</th>\n",
       "      <td>0</td>\n",
       "      <td>1.0</td>\n",
       "      <td>4</td>\n",
       "      <td>-0.063137</td>\n",
       "      <td>-0.829377</td>\n",
       "      <td>0.121173</td>\n",
       "      <td>-0.098154</td>\n",
       "      <td>0.421859</td>\n",
       "      <td>-0.105874</td>\n",
       "      <td>-0.246322</td>\n",
       "      <td>...</td>\n",
       "      <td>-0.086261</td>\n",
       "      <td>-0.279133</td>\n",
       "      <td>-0.173902</td>\n",
       "      <td>-0.082698</td>\n",
       "      <td>0.016885</td>\n",
       "      <td>0.675348</td>\n",
       "      <td>0.681334</td>\n",
       "      <td>-0.177046</td>\n",
       "      <td>-0.119325</td>\n",
       "      <td>-0.335875</td>\n",
       "    </tr>\n",
       "    <tr>\n",
       "      <th>0.0</th>\n",
       "      <td>0</td>\n",
       "      <td>1.0</td>\n",
       "      <td>5</td>\n",
       "      <td>-0.295060</td>\n",
       "      <td>-0.186512</td>\n",
       "      <td>0.597077</td>\n",
       "      <td>-0.170677</td>\n",
       "      <td>-0.002289</td>\n",
       "      <td>0.123376</td>\n",
       "      <td>-0.195209</td>\n",
       "      <td>...</td>\n",
       "      <td>-0.193666</td>\n",
       "      <td>-0.417724</td>\n",
       "      <td>-0.176248</td>\n",
       "      <td>-0.042244</td>\n",
       "      <td>-0.176629</td>\n",
       "      <td>0.075099</td>\n",
       "      <td>-0.747937</td>\n",
       "      <td>-0.171810</td>\n",
       "      <td>-0.087889</td>\n",
       "      <td>-0.022812</td>\n",
       "    </tr>\n",
       "  </tbody>\n",
       "</table>\n",
       "<p>5 rows × 55 columns</p>\n",
       "</div>"
      ],
      "text/plain": [
       "       faultNumber  simulationRun  sample   xmeas_1   xmeas_2   xmeas_3  \\\n",
       "index                                                                     \n",
       "0.0              0            1.0       1 -0.061905  0.201545 -0.366697   \n",
       "0.0              0            1.0       2 -0.057595 -0.504438  0.575905   \n",
       "0.0              0            1.0       3 -0.084550 -0.483398  0.012553   \n",
       "0.0              0            1.0       4 -0.063137 -0.829377  0.121173   \n",
       "0.0              0            1.0       5 -0.295060 -0.186512  0.597077   \n",
       "\n",
       "        xmeas_4   xmeas_5   xmeas_6   xmeas_7  ...     xmv_2     xmv_3  \\\n",
       "index                                          ...                       \n",
       "0.0    0.396960  0.672885  0.349442 -0.223455  ...  0.036876 -0.280430   \n",
       "0.0    0.124438  0.421859  0.709238 -0.228836  ... -0.201046 -0.283523   \n",
       "0.0   -0.222560  0.110240 -0.271443 -0.251702  ... -0.059070 -0.263817   \n",
       "0.0   -0.098154  0.421859 -0.105874 -0.246322  ... -0.086261 -0.279133   \n",
       "0.0   -0.170677 -0.002289  0.123376 -0.195209  ... -0.193666 -0.417724   \n",
       "\n",
       "          xmv_4     xmv_5     xmv_6     xmv_7     xmv_8     xmv_9    xmv_10  \\\n",
       "index                                                                         \n",
       "0.0   -0.477229 -0.047406  0.017518  0.678059  0.641891 -0.185190  0.014966   \n",
       "0.0   -0.372900 -0.042150  0.002242 -0.482106 -0.595256 -0.173439 -0.142419   \n",
       "0.0   -0.348612 -0.062236  0.011582  1.286104 -0.800952 -0.174777 -0.062251   \n",
       "0.0   -0.173902 -0.082698  0.016885  0.675348  0.681334 -0.177046 -0.119325   \n",
       "0.0   -0.176248 -0.042244 -0.176629  0.075099 -0.747937 -0.171810 -0.087889   \n",
       "\n",
       "         xmv_11  \n",
       "index            \n",
       "0.0   -0.693145  \n",
       "0.0   -0.548871  \n",
       "0.0    0.333051  \n",
       "0.0   -0.335875  \n",
       "0.0   -0.022812  \n",
       "\n",
       "[5 rows x 55 columns]"
      ]
     },
     "execution_count": 47,
     "metadata": {},
     "output_type": "execute_result"
    }
   ],
   "source": [
    "raw_test.head()"
   ]
  },
  {
   "cell_type": "code",
   "execution_count": 48,
   "metadata": {},
   "outputs": [],
   "source": [
    "class DataTEST(Dataset):\n",
    "\n",
    "    def __init__(self, X):\n",
    "    \n",
    "        self.X = X\n",
    "        \n",
    "        self.features = [\n",
    "                'xmeas_1', 'xmeas_2', 'xmeas_3', 'xmeas_4', 'xmeas_5', 'xmeas_6', 'xmeas_7', 'xmeas_8', 'xmeas_9', \n",
    "                'xmeas_10', 'xmeas_11', 'xmeas_12', 'xmeas_13', 'xmeas_14', 'xmeas_15', 'xmeas_16', 'xmeas_17', \n",
    "                'xmeas_18', 'xmeas_19', 'xmeas_20', 'xmeas_21', 'xmeas_22', 'xmeas_23', 'xmeas_24', 'xmeas_25', \n",
    "                'xmeas_26', 'xmeas_27', 'xmeas_28', 'xmeas_29', 'xmeas_30', 'xmeas_31', 'xmeas_32', 'xmeas_33', \n",
    "                'xmeas_34', 'xmeas_35', 'xmeas_36', 'xmeas_37', 'xmeas_38', 'xmeas_39', 'xmeas_40', 'xmeas_41', \n",
    "                'xmv_1', 'xmv_2', 'xmv_3', 'xmv_4', 'xmv_5', 'xmv_6', 'xmv_7', 'xmv_8', 'xmv_9', 'xmv_10', 'xmv_11'\n",
    "            ]\n",
    "\n",
    "    def __len__(self):\n",
    "        return self.X.index.nunique()\n",
    "    \n",
    "    def __getitem__(self, idx):\n",
    "\n",
    "        features = self.X.loc[idx][self.features].values[FAULT_START_TEST:, :]\n",
    "        target = self.X.loc[idx]['faultNumber'].values[FAULT_START_TEST:]\n",
    "\n",
    "        features = torch.tensor(features, dtype=torch.float)\n",
    "        target = torch.tensor(target, dtype=torch.long)\n",
    "\n",
    "        return features, target"
   ]
  },
  {
   "cell_type": "code",
   "execution_count": 49,
   "metadata": {},
   "outputs": [],
   "source": [
    "test_ds = DataTEST(raw_test)\n",
    "test_dl = DataLoader(test_ds, batch_size=512)"
   ]
  },
  {
   "cell_type": "code",
   "execution_count": 50,
   "metadata": {
    "scrolled": true
   },
   "outputs": [
    {
     "data": {
      "application/vnd.jupyter.widget-view+json": {
       "model_id": "28158377620e4752ad268a685305016f",
       "version_major": 2,
       "version_minor": 0
      },
      "text/plain": [
       "HBox(children=(FloatProgress(value=0.0, max=21.0), HTML(value='')))"
      ]
     },
     "metadata": {},
     "output_type": "display_data"
    },
    {
     "name": "stdout",
     "output_type": "stream",
     "text": [
      "\n",
      "seq_length time: 286.69101214408875\n",
      "CPU times: user 16min 39s, sys: 7.23 s, total: 16min 46s\n",
      "Wall time: 4min 46s\n"
     ]
    }
   ],
   "source": [
    "%%time\n",
    "\n",
    "metrics = dict()\n",
    "y_ans_test_all = []\n",
    "\n",
    "y_ans_test, y_true_test = [], []\n",
    "\n",
    "start = time.time()\n",
    "\n",
    "model.eval()\n",
    "for (X_batch_test, y_batch_test) in tqdm(test_dl):\n",
    "\n",
    "#     X_batch_lengths_test = torch.tensor([seq_length]*len(X_batch_test)).to(device)\n",
    "\n",
    "    X_batch_test, y_batch_test = X_batch_test.to(device), y_batch_test.to(device)\n",
    "\n",
    "    y_pred_test = model(X_batch_test, None)\n",
    "\n",
    "    y_pred_prob = F.softmax(y_pred_test.cpu(), dim=-1)\n",
    "    y_pred_class = y_pred_prob.max(dim=-1)[1]\n",
    "\n",
    "    y_ans_test.append(y_pred_class.cpu().numpy())\n",
    "    y_true_test.append(y_batch_test.cpu().numpy())\n",
    "\n",
    "    end = time.time()\n",
    "\n",
    "print(f\"seq_length time: {end - start}\")  "
   ]
  },
  {
   "cell_type": "code",
   "execution_count": 51,
   "metadata": {},
   "outputs": [],
   "source": [
    "y_ans_test = np.concatenate(y_ans_test, axis=0)\n",
    "\n",
    "y_true_test = np.concatenate(y_true_test, axis=0)"
   ]
  },
  {
   "cell_type": "code",
   "execution_count": 52,
   "metadata": {},
   "outputs": [
    {
     "data": {
      "text/plain": [
       "(array([0.466, 1.   , 1.   , 1.   , 1.   , 1.   , 1.   , 1.   , 1.   ,\n",
       "        1.   , 1.   , 1.   , 0.988, 0.992, 1.   , 0.982, 1.   , 1.   ,\n",
       "        0.998, 1.   , 1.   ]),\n",
       " array([0.0001, 0.    , 0.    , 0.    , 0.    , 0.0005, 0.0004, 0.    ,\n",
       "        0.    , 0.    , 0.0009, 0.    , 0.    , 0.    , 0.    , 0.0267,\n",
       "        0.    , 0.    , 0.0001, 0.    , 0.    ]),\n",
       " array([0.97447619, 1.        , 1.        , 1.        , 1.        ,\n",
       "        0.99952381, 0.99961905, 1.        , 1.        , 1.        ,\n",
       "        0.99914286, 1.        , 0.99942857, 0.99961905, 1.        ,\n",
       "        0.97371429, 1.        , 1.        , 0.99980952, 1.        ,\n",
       "        1.        ]))"
      ]
     },
     "execution_count": 52,
     "metadata": {},
     "output_type": "execute_result"
    }
   ],
   "source": [
    "TPR, FPR, ACCURACY = get_metrics(y_true_test[:, -1], y_ans_test[:, -1])\n",
    "\n",
    "TPR, FPR, ACCURACY"
   ]
  },
  {
   "cell_type": "code",
   "execution_count": 53,
   "metadata": {},
   "outputs": [],
   "source": [
    "detection_delay = get_detection_delay(y_true=y_true_test[:, -1], y_pred=y_ans_test)"
   ]
  },
  {
   "cell_type": "code",
   "execution_count": 54,
   "metadata": {},
   "outputs": [
    {
     "data": {
      "image/png": "[encoded data removed]",
      "text/plain": [
       "<Figure size 576x360 with 1 Axes>"
      ]
     },
     "metadata": {
      "needs_background": "light"
     },
     "output_type": "display_data"
    },
    {
     "data": {
      "image/png": "[encoded data removed]",
      "text/plain": [
       "<Figure size 576x360 with 1 Axes>"
      ]
     },
     "metadata": {
      "needs_background": "light"
     },
     "output_type": "display_data"
    },
    {
     "data": {
      "image/png": "[encoded data removed]",
      "text/plain": [
       "<Figure size 576x360 with 1 Axes>"
      ]
     },
     "metadata": {
      "needs_background": "light"
     },
     "output_type": "display_data"
    }
   ],
   "source": [
    "plotting(TPR, \"TPR\")\n",
    "plotting(FPR, \"FPR\")\n",
    "plotting(ACCURACY, \"ACCURACY\")"
   ]
  },
  {
   "cell_type": "code",
   "execution_count": 55,
   "metadata": {},
   "outputs": [],
   "source": [
    "detection_delay_mean = {}\n",
    "for (k, v) in detection_delay.items():\n",
    "    detection_delay_mean[k] = np.nanmean(np.clip(v, 0, np.inf))"
   ]
  },
  {
   "cell_type": "markdown",
   "metadata": {},
   "source": [
    "### Почему получилось -9223372036854775808"
   ]
  },
  {
   "cell_type": "code",
   "execution_count": 56,
   "metadata": {},
   "outputs": [
    {
     "data": {
      "text/plain": [
       "[0.0,\n",
       " 0.0,\n",
       " 0.0,\n",
       " 0.0,\n",
       " 0.0,\n",
       " 0.0,\n",
       " 0.0,\n",
       " 0.0,\n",
       " 0.0,\n",
       " 0.0,\n",
       " 0.0,\n",
       " 0.0,\n",
       " 0.0,\n",
       " 0.0,\n",
       " 0.0,\n",
       " 0.0,\n",
       " 0.0,\n",
       " 0.0,\n",
       " 0.0,\n",
       " 0.0,\n",
       " 0.0,\n",
       " 0.0,\n",
       " 0.0,\n",
       " 0.0,\n",
       " 0.0,\n",
       " 0.0,\n",
       " 0.0,\n",
       " 0.0,\n",
       " 0.0,\n",
       " 0.0,\n",
       " 0.0,\n",
       " 0.0,\n",
       " 0.0,\n",
       " 0.0,\n",
       " 0.0,\n",
       " 0.0,\n",
       " 0.0,\n",
       " 0.0,\n",
       " 0.0,\n",
       " 0.0,\n",
       " 0.0,\n",
       " 0.0,\n",
       " 0.0,\n",
       " 0.0,\n",
       " 0.0,\n",
       " 0.0,\n",
       " 0.0,\n",
       " 0.0,\n",
       " 0.0,\n",
       " 0.0,\n",
       " 0.0,\n",
       " 0.0,\n",
       " 0.0,\n",
       " 0.0,\n",
       " 0.0,\n",
       " 0.0,\n",
       " 0.0,\n",
       " 0.0,\n",
       " 0.0,\n",
       " 0.0,\n",
       " 0.0,\n",
       " 0.0,\n",
       " 0.0,\n",
       " 0.0,\n",
       " 0.0,\n",
       " 0.0,\n",
       " 0.0,\n",
       " 0.0,\n",
       " 0.0,\n",
       " 0.0,\n",
       " 0.0,\n",
       " 0.0,\n",
       " 0.0,\n",
       " 0.0,\n",
       " 0.0,\n",
       " 0.0,\n",
       " 0.0,\n",
       " 0.0,\n",
       " 0.0,\n",
       " 0.0,\n",
       " 0.0,\n",
       " 0.0,\n",
       " 0.0,\n",
       " 0.0,\n",
       " 0.0,\n",
       " 0.0,\n",
       " 0.0,\n",
       " 0.0,\n",
       " 0.0,\n",
       " 0.0,\n",
       " 0.0,\n",
       " 0.0,\n",
       " 0.0,\n",
       " 0.0,\n",
       " 0.0,\n",
       " 0.0,\n",
       " 0.0,\n",
       " 0.0,\n",
       " 0.0,\n",
       " 0.0,\n",
       " 0.0,\n",
       " 0.0,\n",
       " 0.0,\n",
       " 0.0,\n",
       " 0.0,\n",
       " 0.0,\n",
       " 0.0,\n",
       " 0.0,\n",
       " 0.0,\n",
       " 0.0,\n",
       " 0.0,\n",
       " 0.0,\n",
       " 0.0,\n",
       " 0.0,\n",
       " 0.0,\n",
       " 0.0,\n",
       " 0.0,\n",
       " 0.0,\n",
       " 0.0,\n",
       " 0.0,\n",
       " 0.0,\n",
       " 0.0,\n",
       " 0.0,\n",
       " 0.0,\n",
       " 0.0,\n",
       " 0.0,\n",
       " 0.0,\n",
       " 0.0,\n",
       " 0.0,\n",
       " 0.0,\n",
       " 0.0,\n",
       " 0.0,\n",
       " 0.0,\n",
       " 0.0,\n",
       " 0.0,\n",
       " 0.0,\n",
       " 0.0,\n",
       " 0.0,\n",
       " 0.0,\n",
       " 0.0,\n",
       " 0.0,\n",
       " 0.0,\n",
       " 0.0,\n",
       " 0.0,\n",
       " 0.0,\n",
       " 0.0,\n",
       " 0.0,\n",
       " nan,\n",
       " 0.0,\n",
       " 0.0,\n",
       " 0.0,\n",
       " 0.0,\n",
       " 0.0,\n",
       " 0.0,\n",
       " 0.0,\n",
       " 0.0,\n",
       " 0.0,\n",
       " 0.0,\n",
       " 0.0,\n",
       " 0.0,\n",
       " 0.0,\n",
       " 0.0,\n",
       " 0.0,\n",
       " 0.0,\n",
       " 0.0,\n",
       " 0.0,\n",
       " 0.0,\n",
       " 0.0,\n",
       " 0.0,\n",
       " 0.0,\n",
       " 0.0,\n",
       " 0.0,\n",
       " 0.0,\n",
       " 0.0,\n",
       " 0.0,\n",
       " 0.0,\n",
       " 0.0,\n",
       " 0.0,\n",
       " 0.0,\n",
       " 0.0,\n",
       " 0.0,\n",
       " 0.0,\n",
       " 0.0,\n",
       " 0.0,\n",
       " 0.0,\n",
       " 0.0,\n",
       " 0.0,\n",
       " 0.0,\n",
       " 0.0,\n",
       " 0.0,\n",
       " 0.0,\n",
       " 0.0,\n",
       " 0.0,\n",
       " 0.0,\n",
       " 0.0,\n",
       " 0.0,\n",
       " 0.0,\n",
       " 0.0,\n",
       " 0.0,\n",
       " 0.0,\n",
       " 0.0,\n",
       " 0.0,\n",
       " 0.0,\n",
       " 0.0,\n",
       " 0.0,\n",
       " 0.0,\n",
       " 0.0,\n",
       " 0.0,\n",
       " 0.0,\n",
       " 0.0,\n",
       " 0.0,\n",
       " 0.0,\n",
       " 0.0,\n",
       " 0.0,\n",
       " 0.0,\n",
       " 0.0,\n",
       " 0.0,\n",
       " 0.0,\n",
       " 0.0,\n",
       " 0.0,\n",
       " 0.0,\n",
       " 0.0,\n",
       " 0.0,\n",
       " 0.0,\n",
       " 0.0,\n",
       " 0.0,\n",
       " 0.0,\n",
       " 0.0,\n",
       " 0.0,\n",
       " 0.0,\n",
       " 0.0,\n",
       " 0.0,\n",
       " 0.0,\n",
       " 0.0,\n",
       " 0.0,\n",
       " 0.0,\n",
       " 0.0,\n",
       " 0.0,\n",
       " 0.0,\n",
       " 0.0,\n",
       " 0.0,\n",
       " 0.0,\n",
       " 0.0,\n",
       " 0.0,\n",
       " 0.0,\n",
       " 0.0,\n",
       " 0.0,\n",
       " 0.0,\n",
       " 0.0,\n",
       " 0.0,\n",
       " 0.0,\n",
       " 0.0,\n",
       " 0.0,\n",
       " 0.0,\n",
       " 0.0,\n",
       " 0.0,\n",
       " 0.0,\n",
       " 0.0,\n",
       " 0.0,\n",
       " 0.0,\n",
       " 0.0,\n",
       " 0.0,\n",
       " 0.0,\n",
       " 0.0,\n",
       " 0.0,\n",
       " 0.0,\n",
       " 0.0,\n",
       " 0.0,\n",
       " 0.0,\n",
       " 0.0,\n",
       " 0.0,\n",
       " 0.0,\n",
       " 0.0,\n",
       " 0.0,\n",
       " 0.0,\n",
       " 0.0,\n",
       " 0.0,\n",
       " 0.0,\n",
       " 0.0,\n",
       " 0.0,\n",
       " 0.0,\n",
       " 0.0,\n",
       " 0.0,\n",
       " 0.0,\n",
       " 0.0,\n",
       " 0.0,\n",
       " 0.0,\n",
       " 0.0,\n",
       " 0.0,\n",
       " 0.0,\n",
       " 0.0,\n",
       " 0.0,\n",
       " 0.0,\n",
       " 0.0,\n",
       " 0.0,\n",
       " 0.0,\n",
       " 0.0,\n",
       " 0.0,\n",
       " 0.0,\n",
       " 0.0,\n",
       " 0.0,\n",
       " 0.0,\n",
       " 0.0,\n",
       " 0.0,\n",
       " 0.0,\n",
       " 0.0,\n",
       " 0.0,\n",
       " 0.0,\n",
       " 0.0,\n",
       " 0.0,\n",
       " 0.0,\n",
       " 0.0,\n",
       " 0.0,\n",
       " 0.0,\n",
       " 0.0,\n",
       " 0.0,\n",
       " 0.0,\n",
       " 0.0,\n",
       " 0.0,\n",
       " 0.0,\n",
       " 0.0,\n",
       " 0.0,\n",
       " 0.0,\n",
       " 0.0,\n",
       " 0.0,\n",
       " 0.0,\n",
       " 0.0,\n",
       " 0.0,\n",
       " 0.0,\n",
       " 0.0,\n",
       " 0.0,\n",
       " 0.0,\n",
       " 0.0,\n",
       " 0.0,\n",
       " 0.0,\n",
       " 0.0,\n",
       " 0.0,\n",
       " 0.0,\n",
       " 0.0,\n",
       " 0.0,\n",
       " 0.0,\n",
       " 0.0,\n",
       " 0.0,\n",
       " 0.0,\n",
       " 0.0,\n",
       " 0.0,\n",
       " 0.0,\n",
       " 0.0,\n",
       " 0.0,\n",
       " 0.0,\n",
       " 0.0,\n",
       " 0.0,\n",
       " 0.0,\n",
       " 0.0,\n",
       " 0.0,\n",
       " 0.0,\n",
       " 0.0,\n",
       " 0.0,\n",
       " 0.0,\n",
       " 0.0,\n",
       " 0.0,\n",
       " 0.0,\n",
       " 0.0,\n",
       " 0.0,\n",
       " 0.0,\n",
       " 0.0,\n",
       " 0.0,\n",
       " 0.0,\n",
       " 0.0,\n",
       " 0.0,\n",
       " 0.0,\n",
       " 0.0,\n",
       " 0.0,\n",
       " 0.0,\n",
       " 0.0,\n",
       " 0.0,\n",
       " 0.0,\n",
       " 0.0,\n",
       " 0.0,\n",
       " 0.0,\n",
       " 0.0,\n",
       " 0.0,\n",
       " 0.0,\n",
       " 0.0,\n",
       " 0.0,\n",
       " 0.0,\n",
       " 0.0,\n",
       " 0.0,\n",
       " 0.0,\n",
       " 0.0,\n",
       " 0.0,\n",
       " 0.0,\n",
       " 0.0,\n",
       " 0.0,\n",
       " 0.0,\n",
       " 0.0,\n",
       " 0.0,\n",
       " 0.0,\n",
       " 0.0,\n",
       " 0.0,\n",
       " 0.0,\n",
       " 0.0,\n",
       " 0.0,\n",
       " 0.0,\n",
       " 0.0,\n",
       " 0.0,\n",
       " 0.0,\n",
       " 0.0,\n",
       " 0.0,\n",
       " 0.0,\n",
       " 0.0,\n",
       " 0.0,\n",
       " 0.0,\n",
       " 0.0,\n",
       " 0.0,\n",
       " 0.0,\n",
       " 0.0,\n",
       " 0.0,\n",
       " 0.0,\n",
       " 0.0,\n",
       " 0.0,\n",
       " 0.0,\n",
       " 0.0,\n",
       " 0.0,\n",
       " 0.0,\n",
       " 0.0,\n",
       " 0.0,\n",
       " 0.0,\n",
       " 0.0,\n",
       " 0.0,\n",
       " 0.0,\n",
       " 0.0,\n",
       " 0.0,\n",
       " 0.0,\n",
       " 0.0,\n",
       " 0.0,\n",
       " 0.0,\n",
       " 0.0,\n",
       " 0.0,\n",
       " 0.0,\n",
       " 0.0,\n",
       " 0.0,\n",
       " 0.0,\n",
       " 0.0,\n",
       " 0.0,\n",
       " 0.0,\n",
       " 0.0,\n",
       " 0.0,\n",
       " 0.0,\n",
       " 0.0,\n",
       " 0.0,\n",
       " 0.0,\n",
       " 0.0,\n",
       " 0.0,\n",
       " 0.0,\n",
       " 0.0,\n",
       " 0.0,\n",
       " 0.0,\n",
       " 0.0,\n",
       " 0.0,\n",
       " 0.0,\n",
       " 0.0,\n",
       " 0.0,\n",
       " 0.0,\n",
       " 0.0,\n",
       " 0.0,\n",
       " 0.0,\n",
       " 0.0,\n",
       " 0.0,\n",
       " 0.0,\n",
       " 0.0,\n",
       " 0.0,\n",
       " 0.0,\n",
       " 0.0,\n",
       " 0.0,\n",
       " 0.0,\n",
       " 0.0,\n",
       " 0.0,\n",
       " 0.0,\n",
       " 0.0,\n",
       " 0.0,\n",
       " 0.0,\n",
       " 0.0,\n",
       " 0.0,\n",
       " 0.0,\n",
       " 0.0,\n",
       " 0.0,\n",
       " 0.0,\n",
       " 0.0,\n",
       " 0.0,\n",
       " 0.0,\n",
       " 0.0,\n",
       " 0.0,\n",
       " 0.0,\n",
       " 0.0,\n",
       " 0.0,\n",
       " 0.0,\n",
       " 0.0,\n",
       " 0.0,\n",
       " 0.0]"
      ]
     },
     "execution_count": 56,
     "metadata": {},
     "output_type": "execute_result"
    }
   ],
   "source": [
    "detection_delay[15]"
   ]
  },
  {
   "cell_type": "code",
   "execution_count": 57,
   "metadata": {},
   "outputs": [
    {
     "data": {
      "image/png": "[encoded data removed]",
      "text/plain": [
       "<Figure size 432x288 with 1 Axes>"
      ]
     },
     "metadata": {
      "needs_background": "light"
     },
     "output_type": "display_data"
    }
   ],
   "source": [
    "plt.plot(np.array(list(detection_delay_mean.values())), '-go')\n",
    "plt.show()"
   ]
  },
  {
   "cell_type": "code",
   "execution_count": null,
   "metadata": {},
   "outputs": [],
   "source": []
  },
  {
   "cell_type": "code",
   "execution_count": 58,
   "metadata": {},
   "outputs": [
    {
     "data": {
      "text/plain": [
       "0.9767619047619047"
      ]
     },
     "execution_count": 58,
     "metadata": {},
     "output_type": "execute_result"
    }
   ],
   "source": [
    "# процент случаев когда правильный ответ с первого же объекта последовательсности\n",
    "np.mean(y_ans_test.max(1) == y_ans_test.mean(1))"
   ]
  },
  {
   "cell_type": "code",
   "execution_count": 59,
   "metadata": {},
   "outputs": [
    {
     "data": {
      "text/plain": [
       "0.9767619047619047"
      ]
     },
     "execution_count": 59,
     "metadata": {},
     "output_type": "execute_result"
    }
   ],
   "source": [
    "np.mean(y_ans_test.min(1) == y_ans_test.mean(1))"
   ]
  },
  {
   "cell_type": "code",
   "execution_count": null,
   "metadata": {},
   "outputs": [],
   "source": []
  },
  {
   "cell_type": "code",
   "execution_count": 60,
   "metadata": {},
   "outputs": [
    {
     "data": {
      "text/plain": [
       "torch.Size([5, 52])"
      ]
     },
     "execution_count": 60,
     "metadata": {},
     "output_type": "execute_result"
    }
   ],
   "source": [
    "test_ds[0][0][:5, :].size()"
   ]
  },
  {
   "cell_type": "code",
   "execution_count": 61,
   "metadata": {},
   "outputs": [
    {
     "data": {
      "text/plain": [
       "torch.Size([1, 1, 21])"
      ]
     },
     "execution_count": 61,
     "metadata": {},
     "output_type": "execute_result"
    }
   ],
   "source": [
    "model(test_ds[0][0][:1, :].unsqueeze(0).to(device), None).size()"
   ]
  },
  {
   "cell_type": "code",
   "execution_count": 62,
   "metadata": {},
   "outputs": [
    {
     "data": {
      "text/plain": [
       "tensor([[[ -0.3341, -14.9856, -10.3682,  -0.2768,  -9.4926, -13.2708,  -8.6860,\n",
       "          -10.5185,  -8.3094,  -2.4039, -11.2409, -13.5834, -16.1568,  -9.3418,\n",
       "          -11.7313,  -2.3253, -13.6437, -10.0422, -13.3284,  -5.6377,  -7.7849]]],\n",
       "       device='cuda:5')"
      ]
     },
     "execution_count": 62,
     "metadata": {},
     "output_type": "execute_result"
    }
   ],
   "source": [
    "model(test_ds[0][0][:1, :].unsqueeze(0).to(device), None)"
   ]
  },
  {
   "cell_type": "code",
   "execution_count": 66,
   "metadata": {},
   "outputs": [
    {
     "name": "stdout",
     "output_type": "stream",
     "text": [
      "tensor([[15, 15]], device='cuda:5')\n",
      "tensor([[15, 15, 15]], device='cuda:5')\n",
      "tensor([[15, 15, 15, 15]], device='cuda:5')\n",
      "tensor([[9, 9, 9, 9, 9]], device='cuda:5')\n",
      "tensor([[0, 0, 0, 0, 0, 0]], device='cuda:5')\n",
      "tensor([[19, 19, 19, 19, 19, 19, 19]], device='cuda:5')\n",
      "tensor([[19, 19, 19, 19, 19, 19, 19, 19]], device='cuda:5')\n",
      "tensor([[19, 19, 19, 19, 19, 19, 19, 19, 19]], device='cuda:5')\n"
     ]
    }
   ],
   "source": [
    "for i in range(2, 10):\n",
    "    print(model(test_ds[9999][0][:i, :].unsqueeze(0).to(device), None).max(dim=-1)[1])"
   ]
  },
  {
   "cell_type": "code",
   "execution_count": 64,
   "metadata": {},
   "outputs": [
    {
     "data": {
      "text/plain": [
       "tensor([[19, 19, 19, 19, 19, 19, 19, 19, 19, 19]], device='cuda:5')"
      ]
     },
     "execution_count": 64,
     "metadata": {},
     "output_type": "execute_result"
    }
   ],
   "source": [
    "model(test_ds[9999][0][:10, :].unsqueeze(0).to(device), None).max(dim=-1)[1]"
   ]
  },
  {
   "cell_type": "code",
   "execution_count": null,
   "metadata": {},
   "outputs": [],
   "source": []
  },
  {
   "cell_type": "code",
   "execution_count": null,
   "metadata": {},
   "outputs": [],
   "source": []
  },
  {
   "cell_type": "code",
   "execution_count": null,
   "metadata": {},
   "outputs": [],
   "source": []
  },
  {
   "cell_type": "code",
   "execution_count": null,
   "metadata": {},
   "outputs": [],
   "source": [
    "test_ds[0][0].unsqueeze(0).size()"
   ]
  },
  {
   "cell_type": "code",
   "execution_count": null,
   "metadata": {},
   "outputs": [],
   "source": []
  },
  {
   "cell_type": "code",
   "execution_count": null,
   "metadata": {},
   "outputs": [],
   "source": []
  },
  {
   "cell_type": "code",
   "execution_count": null,
   "metadata": {},
   "outputs": [],
   "source": []
  },
  {
   "cell_type": "code",
   "execution_count": null,
   "metadata": {},
   "outputs": [],
   "source": []
  },
  {
   "cell_type": "code",
   "execution_count": null,
   "metadata": {},
   "outputs": [],
   "source": [
    "class TwinModel(torch.nn.Module) :\n",
    "    def __init__(self, NUM_LAYERS, INPUT_SIZE, HIDDEN_SIZE, LINEAR_SIZE, OUTPUT_SIZE, BIDIRECTIONAL, DEVICE):\n",
    "        super().__init__()\n",
    "        \n",
    "        self.hidden_size = HIDDEN_SIZE\n",
    "        self.num_layers = NUM_LAYERS\n",
    "        self.input_size = INPUT_SIZE\n",
    "        self.linear_size = LINEAR_SIZE\n",
    "        self.output_size = OUTPUT_SIZE\n",
    "        self.bidirectional = BIDIRECTIONAL\n",
    "        \n",
    "        self.lstm_1 = nn.LSTM(\n",
    "                        input_size=self.input_size[0], \n",
    "                        hidden_size=self.hidden_size,\n",
    "                        num_layers=self.num_layers, \n",
    "                        bidirectional=self.bidirectional,\n",
    "                        batch_first=True,\n",
    "                        dropout=0.4\n",
    "            )\n",
    "        \n",
    "        self.lstm_2 = nn.LSTM(\n",
    "                        input_size=self.input_size[1],\n",
    "                        hidden_size=self.hidden_size,\n",
    "                        num_layers=self.num_layers, \n",
    "                        bidirectional=self.bidirectional,\n",
    "                        batch_first=True,\n",
    "                        dropout=0.4\n",
    "            )\n",
    "        \n",
    "        \n",
    "        self.head = nn.Sequential(\n",
    "                        nn.Linear(in_features=2*self.hidden_size*(self.bidirectional+1), out_features=self.linear_size),\n",
    "                        nn.ReLU(),\n",
    "                        nn.Dropout(p=0.4),\n",
    "                        nn.Linear(in_features=self.linear_size, out_features=OUTPUT_SIZE),\n",
    "            )\n",
    "        \n",
    "    def forward(self, x):\n",
    "        \n",
    "        x_1 = x[:, :, :41]\n",
    "        x_2 = x[:, :, 41:]\n",
    "        \n",
    "        x_1, _ = self.lstm_1(x_1)\n",
    "        x_2, __ = self.lstm_2(x_2)\n",
    "        \n",
    "        x_3 = torch.cat((x_1[:, -1], x_2[:, -1]), dim=-1)\n",
    "        \n",
    "        x = self.head(x_3)\n",
    "        \n",
    "        return x"
   ]
  }
 ],
 "metadata": {
  "kernelspec": {
   "display_name": "Python 3",
   "language": "python",
   "name": "python3"
  },
  "language_info": {
   "codemirror_mode": {
    "name": "ipython",
    "version": 3
   },
   "file_extension": ".py",
   "mimetype": "text/x-python",
   "name": "python",
   "nbconvert_exporter": "python",
   "pygments_lexer": "ipython3",
   "version": "3.6.8"
  }
 },
 "nbformat": 4,
 "nbformat_minor": 4
}
