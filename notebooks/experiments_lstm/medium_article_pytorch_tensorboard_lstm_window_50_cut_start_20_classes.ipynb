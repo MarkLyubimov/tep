{
 "cells": [
  {
   "cell_type": "code",
   "execution_count": 1,
   "metadata": {},
   "outputs": [
    {
     "name": "stdout",
     "output_type": "stream",
     "text": [
      "cuda:5\n"
     ]
    }
   ],
   "source": [
    "import os\n",
    "import gc\n",
    "import time\n",
    "\n",
    "import pyreadr as py\n",
    "import pandas as pd\n",
    "import numpy as np\n",
    "import seaborn as sns\n",
    "import matplotlib.pyplot as plt\n",
    "\n",
    "from tqdm.notebook import tqdm\n",
    "\n",
    "import torch\n",
    "import torch.nn.functional as F\n",
    "\n",
    "from torch import nn\n",
    "from torch.optim import Adam, RMSprop\n",
    "from torch.optim.lr_scheduler import StepLR, ReduceLROnPlateau\n",
    "from torch.utils.data import Dataset, DataLoader\n",
    "from torch.utils.tensorboard import SummaryWriter\n",
    "from torch.nn.utils.rnn import pad_sequence, pack_padded_sequence, pad_packed_sequence\n",
    "\n",
    "from sklearn.model_selection import train_test_split\n",
    "from sklearn.preprocessing import StandardScaler\n",
    "from sklearn.metrics import confusion_matrix\n",
    "\n",
    "device = torch.device(\"cuda:5\" if torch.cuda.is_available() else \"cpu\")\n",
    "# device = torch.device(\"cpu\")\n",
    "print(device)"
   ]
  },
  {
   "cell_type": "markdown",
   "metadata": {},
   "source": [
    "> ### Data downloading\n",
    "Data link  \n",
    "https://dataverse.harvard.edu/dataset.xhtml?persistentId=doi:10.7910/DVN/6C3JR1"
   ]
  },
  {
   "cell_type": "markdown",
   "metadata": {},
   "source": [
    "##### Data description\n",
    "Here we consoder dataset of \"Additional Tennessee Eastman Process Simulation Data for Anomaly Detection Evaluation\"\n",
    "This dataverse contains the data referenced in Rieth et al. (2017). Issues and Advances in Anomaly Detection Evaluation for Joint Human-Automated Systems. To be presented at Applied Human Factors and Ergonomics 2017.\n",
    "##### Columns description\n",
    "* **faultNumber** ranges from 1 to 20 in the “Faulty” datasets and represents the fault type in the TEP. The “FaultFree” datasets only contain fault 0 (i.e. normal operating conditions).\n",
    "* **simulationRun** ranges from 1 to 500 and represents a different random number generator state from which a full TEP dataset was generated (Note: the actual seeds used to generate training and testing datasets were non-overlapping).\n",
    "* **sample** ranges either from 1 to 500 (“Training” datasets) or 1 to 960 (“Testing” datasets). The TEP variables (columns 4 to 55) were sampled every 3 minutes for a total duration of 25 hours and 48 hours respectively. Note that the faults were introduced 1 and 8 hours into the Faulty Training and Faulty Testing datasets, respectively.\n",
    "* **columns 4-55** contain the process variables; the column names retain the original variable names."
   ]
  },
  {
   "cell_type": "code",
   "execution_count": 2,
   "metadata": {},
   "outputs": [],
   "source": [
    "# ! unzip ../../data/raw/dataverse_files.zip -d ../../data/raw/dataverse_files"
   ]
  },
  {
   "cell_type": "code",
   "execution_count": 3,
   "metadata": {},
   "outputs": [],
   "source": [
    "#reading train data in .R format\n",
    "a1 = py.read_r(\"../../data/raw/dataverse_files/TEP_FaultFree_Training.RData\")\n",
    "a2 = py.read_r(\"../../data/raw/dataverse_files/TEP_Faulty_Training.RData\")"
   ]
  },
  {
   "cell_type": "code",
   "execution_count": 4,
   "metadata": {},
   "outputs": [],
   "source": [
    "#reading test data in .R format\n",
    "# a3 = py.read_r(\"../../data/raw/dataverse_files/TEP_FaultFree_Testing.RData\")\n",
    "# a4 = py.read_r(\"../../data/raw/dataverse_files/TEP_Faulty_Testing.RData\")"
   ]
  },
  {
   "cell_type": "code",
   "execution_count": 5,
   "metadata": {},
   "outputs": [
    {
     "name": "stdout",
     "output_type": "stream",
     "text": [
      "Objects that are present in a1 : odict_keys(['fault_free_training'])\n",
      "Objects that are present in a2 : odict_keys(['faulty_training'])\n"
     ]
    }
   ],
   "source": [
    "print(\"Objects that are present in a1 :\", a1.keys())\n",
    "print(\"Objects that are present in a2 :\", a2.keys())\n",
    "# print(\"Objects that are present in a3 :\", a3.keys())\n",
    "# print(\"Objects that are present in a4 :\", a4.keys())"
   ]
  },
  {
   "cell_type": "code",
   "execution_count": 6,
   "metadata": {},
   "outputs": [],
   "source": [
    "# concatinating the train and the test dataset\n",
    "\n",
    "raw_train = pd.concat([a1['fault_free_training'], a2['faulty_training']])\n",
    "# raw_test = pd.concat([a3['fault_free_testing'], a4['faulty_testing']])"
   ]
  },
  {
   "cell_type": "code",
   "execution_count": 7,
   "metadata": {},
   "outputs": [],
   "source": [
    "# 5.250.000, 10.080.000\n",
    "# len(raw_train), len(raw_test)"
   ]
  },
  {
   "cell_type": "markdown",
   "metadata": {},
   "source": [
    "> ### Train-test-split"
   ]
  },
  {
   "cell_type": "code",
   "execution_count": 8,
   "metadata": {},
   "outputs": [],
   "source": [
    "features = [\n",
    "        'xmeas_1', 'xmeas_2', 'xmeas_3', 'xmeas_4', 'xmeas_5', 'xmeas_6', 'xmeas_7', 'xmeas_8',\n",
    "        'xmeas_9', 'xmeas_10', 'xmeas_11', 'xmeas_12', 'xmeas_13', 'xmeas_14', 'xmeas_15', 'xmeas_16', \n",
    "        'xmeas_17', 'xmeas_18', 'xmeas_19', 'xmeas_20', 'xmeas_21', 'xmeas_22', 'xmeas_23', 'xmeas_24', \n",
    "        'xmeas_25', 'xmeas_26', 'xmeas_27', 'xmeas_28', 'xmeas_29', 'xmeas_30', 'xmeas_31', 'xmeas_32',\n",
    "        'xmeas_33', 'xmeas_34', 'xmeas_35', 'xmeas_36', 'xmeas_37', 'xmeas_38', 'xmeas_39', 'xmeas_40', \n",
    "        'xmeas_41', 'xmv_1', 'xmv_2', 'xmv_3', 'xmv_4', 'xmv_5', 'xmv_6', 'xmv_7', 'xmv_8', 'xmv_9', \n",
    "        'xmv_10', 'xmv_11'\n",
    "    ]"
   ]
  },
  {
   "cell_type": "code",
   "execution_count": 41,
   "metadata": {},
   "outputs": [],
   "source": [
    "raw_train = raw_train[~raw_train['faultNumber'].isin([0])]"
   ]
  },
  {
   "cell_type": "code",
   "execution_count": 43,
   "metadata": {},
   "outputs": [
    {
     "data": {
      "text/plain": [
       "(5000000, 20)"
      ]
     },
     "execution_count": 43,
     "metadata": {},
     "output_type": "execute_result"
    }
   ],
   "source": [
    "len(raw_train), raw_train['faultNumber'].nunique()"
   ]
  },
  {
   "cell_type": "code",
   "execution_count": 44,
   "metadata": {},
   "outputs": [],
   "source": [
    "raw_train['index'] = raw_train['faultNumber'] * 500 + raw_train['simulationRun'] - 1\n",
    "# raw_test['index'] = raw_test['faultNumber'] * 500 + raw_test['simulationRun'] - 1"
   ]
  },
  {
   "cell_type": "code",
   "execution_count": 45,
   "metadata": {},
   "outputs": [],
   "source": [
    "simulation_idx = raw_train[['index', 'faultNumber']].drop_duplicates()"
   ]
  },
  {
   "cell_type": "code",
   "execution_count": 46,
   "metadata": {},
   "outputs": [],
   "source": [
    "X_train_idx, X_val_idx = train_test_split(simulation_idx['index'], \n",
    "                                          stratify=simulation_idx['faultNumber'],\n",
    "                                          test_size=0.2, \n",
    "                                          random_state=42)"
   ]
  },
  {
   "cell_type": "code",
   "execution_count": 47,
   "metadata": {},
   "outputs": [],
   "source": [
    "X_train = raw_train[raw_train['index'].isin(X_train_idx)].drop('index', axis=1)\n",
    "X_val = raw_train[raw_train['index'].isin(X_val_idx)].drop('index', axis=1)\n",
    "# X_test = raw_test.drop('index', axis=1)"
   ]
  },
  {
   "cell_type": "markdown",
   "metadata": {},
   "source": [
    "> ### Scaling"
   ]
  },
  {
   "cell_type": "code",
   "execution_count": 48,
   "metadata": {},
   "outputs": [],
   "source": [
    "scaler = StandardScaler()\n",
    "scaler.fit(X_train[features])\n",
    "\n",
    "X_train[features] = scaler.transform(X_train[features])\n",
    "X_val[features] = scaler.transform(X_val[features])\n",
    "# X_test[features] = scaler.transform(X_test[features])"
   ]
  },
  {
   "cell_type": "markdown",
   "metadata": {},
   "source": [
    "> ### Dataset and dataloader"
   ]
  },
  {
   "cell_type": "code",
   "execution_count": 49,
   "metadata": {},
   "outputs": [],
   "source": [
    "def correct(y_pred, target):\n",
    "    \n",
    "    y_pred = torch.softmax(y_pred, dim=1)\n",
    "    y_pred = torch.max(y_pred, dim=1)[1]  \n",
    "    \n",
    "    return torch.eq(y_pred, target).sum().item()"
   ]
  },
  {
   "cell_type": "code",
   "execution_count": 50,
   "metadata": {},
   "outputs": [],
   "source": [
    "# s_list = [0, 100, 200, 300, 400] #len = 5\n",
    "# l_list = [1, 5, 10, 25, 50, 100] #len = 6\n",
    "\n",
    "\n",
    "# for idx in range(239, 271): \n",
    "\n",
    "#     fault_sim_idx = idx // (len(s_list) * len(l_list))\n",
    "    \n",
    "#     start_length_idxs = idx % (len(s_list) * len(l_list))\n",
    "    \n",
    "#     print(fault_sim_idx, start_length_idxs)\n",
    "#     start_idx = s_list[start_length_idxs // len(l_list)]\n",
    "#     seq_length = l_list[start_length_idxs % len(l_list)]\n",
    "#     print(\"start:\", start_idx)\n",
    "#     print(\"length:\", seq_length)\n",
    "    \n",
    "#     X_train_tmp = X_train[X_train['index'] == fault_sim_idx].values[start_idx:start_idx+seq_length, :]\n",
    "    \n",
    "#     print(X_train_tmp.shape)"
   ]
  },
  {
   "cell_type": "code",
   "execution_count": 63,
   "metadata": {},
   "outputs": [],
   "source": [
    "class DataTEP(Dataset):\n",
    "\n",
    "    def __init__(self, X):\n",
    "    \n",
    "        self.X = X\n",
    "        self.X = self.X.sort_values(['faultNumber', 'simulationRun', 'sample'])\n",
    "        self.X['index'] = self.X.groupby(['faultNumber', 'simulationRun']).ngroup()\n",
    "        self.X = self.X.set_index('index')\n",
    "        \n",
    "        self.s_list = [20, 100, 200, 300, 400]\n",
    "#         self.s_list = [450]\n",
    "#         self.l_list = [1, 5, 10, 25, 50, 100]\n",
    "#         self.l_list = [10, 50]\n",
    "        self.l_list = [50]\n",
    "        \n",
    "        self.features = [\n",
    "                'xmeas_1', 'xmeas_2', 'xmeas_3', 'xmeas_4', 'xmeas_5', 'xmeas_6', 'xmeas_7', 'xmeas_8', 'xmeas_9', \n",
    "                'xmeas_10', 'xmeas_11', 'xmeas_12', 'xmeas_13', 'xmeas_14', 'xmeas_15', 'xmeas_16', 'xmeas_17', \n",
    "                'xmeas_18', 'xmeas_19', 'xmeas_20', 'xmeas_21', 'xmeas_22', 'xmeas_23', 'xmeas_24', 'xmeas_25', \n",
    "                'xmeas_26', 'xmeas_27', 'xmeas_28', 'xmeas_29', 'xmeas_30', 'xmeas_31', 'xmeas_32', 'xmeas_33', \n",
    "                'xmeas_34', 'xmeas_35', 'xmeas_36', 'xmeas_37', 'xmeas_38', 'xmeas_39', 'xmeas_40', 'xmeas_41', \n",
    "                'xmv_1', 'xmv_2', 'xmv_3', 'xmv_4', 'xmv_5', 'xmv_6', 'xmv_7', 'xmv_8', 'xmv_9', 'xmv_10', 'xmv_11'\n",
    "            ]\n",
    "\n",
    "    def __len__(self):\n",
    "        return self.X.index.nunique() * len(self.s_list) * len(self.l_list)\n",
    "    \n",
    "    def __getitem__(self, idx):\n",
    "        \n",
    "        fault_sim_idx = idx // (len(self.s_list) * len(self.l_list))\n",
    "    \n",
    "        start_length_idxs = idx % (len(self.s_list) * len(self.l_list))\n",
    "        \n",
    "        start_idx = self.s_list[start_length_idxs // len(self.l_list)]\n",
    "        seq_length = self.l_list[start_length_idxs % len(self.l_list)]\n",
    "        \n",
    "#         print(start_idx, start_idx+seq_length)\n",
    "\n",
    "        features = self.X.loc[fault_sim_idx][self.features].values[start_idx : (start_idx+seq_length), :]\n",
    "        target = self.X.loc[fault_sim_idx]['faultNumber'].unique()[0]\n",
    "\n",
    "        features = torch.tensor(features, dtype=torch.float)\n",
    "        target = torch.tensor(target, dtype=torch.long)\n",
    "\n",
    "        return features, target"
   ]
  },
  {
   "cell_type": "code",
   "execution_count": 64,
   "metadata": {},
   "outputs": [],
   "source": [
    "BATCH_SIZE = 64\n",
    "NUM_CLASSES = 20"
   ]
  },
  {
   "cell_type": "code",
   "execution_count": 65,
   "metadata": {},
   "outputs": [],
   "source": [
    "def collate_fn(batch):\n",
    "\n",
    "    sequences = [x[0] for x in batch]\n",
    "    labels = [x[1] for x in batch]\n",
    "        \n",
    "    lengths = torch.LongTensor([len(x) for x in sequences])\n",
    "    lengths, idx = lengths.sort(0, descending=True)\n",
    "    \n",
    "    sequences = [sequences[i] for i in idx]\n",
    "    \n",
    "    labels = torch.tensor(labels, dtype=torch.long)[idx]\n",
    "    \n",
    "    sequences_padded = pad_sequence(sequences, batch_first=True)\n",
    "\n",
    "    return sequences_padded, lengths, labels"
   ]
  },
  {
   "cell_type": "code",
   "execution_count": 66,
   "metadata": {},
   "outputs": [],
   "source": [
    "train_ds = DataTEP(X_train)\n",
    "train_dl = DataLoader(train_ds, batch_size=BATCH_SIZE, collate_fn=collate_fn, shuffle=True)\n",
    "\n",
    "val_ds = DataTEP(X_val)\n",
    "val_dl = DataLoader(val_ds, batch_size=BATCH_SIZE*4, collate_fn=collate_fn)\n",
    "\n",
    "# test_ds = DataTEP(X_test)\n",
    "# test_dl = DataLoader(test_ds, batch_size=BATCH_SIZE*4, collate_fn=collate_fn)"
   ]
  },
  {
   "cell_type": "code",
   "execution_count": 67,
   "metadata": {},
   "outputs": [
    {
     "data": {
      "text/plain": [
       "(40000, 10000)"
      ]
     },
     "execution_count": 67,
     "metadata": {},
     "output_type": "execute_result"
    }
   ],
   "source": [
    "len(train_ds), len(val_ds)"
   ]
  },
  {
   "cell_type": "code",
   "execution_count": 68,
   "metadata": {},
   "outputs": [
    {
     "data": {
      "text/plain": [
       "23"
      ]
     },
     "execution_count": 68,
     "metadata": {},
     "output_type": "execute_result"
    }
   ],
   "source": [
    "gc.collect()"
   ]
  },
  {
   "cell_type": "markdown",
   "metadata": {},
   "source": [
    "> ### Model"
   ]
  },
  {
   "cell_type": "code",
   "execution_count": 69,
   "metadata": {},
   "outputs": [],
   "source": [
    "class TwinModel(torch.nn.Module) :\n",
    "    def __init__(self, NUM_LAYERS, INPUT_SIZE, HIDDEN_SIZE, LINEAR_SIZE, OUTPUT_SIZE, BIDIRECTIONAL, DEVICE):\n",
    "        super().__init__()\n",
    "        \n",
    "        self.hidden_size = HIDDEN_SIZE\n",
    "        self.num_layers = NUM_LAYERS\n",
    "        self.input_size = INPUT_SIZE\n",
    "        self.linear_size = LINEAR_SIZE\n",
    "        self.output_size = OUTPUT_SIZE\n",
    "        self.bidirectional = BIDIRECTIONAL\n",
    "        \n",
    "        self.lstm_1 = nn.LSTM(\n",
    "                        input_size=self.input_size[0], \n",
    "                        hidden_size=self.hidden_size,\n",
    "                        num_layers=self.num_layers, \n",
    "                        bidirectional=self.bidirectional,\n",
    "                        batch_first=True,\n",
    "                        dropout=0.4\n",
    "            )\n",
    "        \n",
    "        self.lstm_2 = nn.LSTM(\n",
    "                        input_size=self.input_size[1],\n",
    "                        hidden_size=self.hidden_size,\n",
    "                        num_layers=self.num_layers, \n",
    "                        bidirectional=self.bidirectional,\n",
    "                        batch_first=True,\n",
    "                        dropout=0.4\n",
    "            )\n",
    "        \n",
    "        \n",
    "        self.head = nn.Sequential(\n",
    "                        nn.Linear(in_features=2*self.hidden_size*(self.bidirectional+1), out_features=self.linear_size),\n",
    "                        nn.ReLU(),\n",
    "                        nn.Dropout(p=0.4),\n",
    "                        nn.Linear(in_features=self.linear_size, out_features=OUTPUT_SIZE),\n",
    "            )\n",
    "        \n",
    "    def forward(self, x):\n",
    "        \n",
    "        x_1 = x[:, :, :41]\n",
    "        x_2 = x[:, :, 41:]\n",
    "        \n",
    "        x_1, _ = self.lstm_1(x_1)\n",
    "        x_2, __ = self.lstm_2(x_2)\n",
    "        \n",
    "        x_3 = torch.cat((x_1[:, -1], x_2[:, -1]), dim=-1)\n",
    "        \n",
    "        x = self.head(x_3)\n",
    "        \n",
    "        return x"
   ]
  },
  {
   "cell_type": "code",
   "execution_count": 70,
   "metadata": {},
   "outputs": [],
   "source": [
    "class UniModel(torch.nn.Module) :\n",
    "    def __init__(self, NUM_LAYERS, INPUT_SIZE, HIDDEN_SIZE, LINEAR_SIZE, OUTPUT_SIZE, BIDIRECTIONAL, DEVICE):\n",
    "        super().__init__()\n",
    "        \n",
    "        self.hidden_size = HIDDEN_SIZE\n",
    "        self.num_layers = NUM_LAYERS\n",
    "        self.input_size = INPUT_SIZE\n",
    "        self.linear_size = LINEAR_SIZE\n",
    "        self.output_size = OUTPUT_SIZE\n",
    "        self.bidirectional = BIDIRECTIONAL\n",
    "        \n",
    "        self.lstm = nn.LSTM(\n",
    "                        input_size=self.input_size, \n",
    "                        hidden_size=self.hidden_size,\n",
    "                        num_layers=self.num_layers, \n",
    "                        bidirectional=self.bidirectional,\n",
    "                        batch_first=True,\n",
    "                        dropout=0.4\n",
    "            )\n",
    "        \n",
    "        self.head = nn.Sequential(\n",
    "                        nn.Linear(in_features=self.hidden_size*(self.bidirectional+1), out_features=self.linear_size),\n",
    "                        nn.ReLU(),\n",
    "                        nn.Dropout(p=0.4),\n",
    "                        nn.Linear(in_features=self.linear_size, out_features=OUTPUT_SIZE),\n",
    "            )\n",
    "        \n",
    "    def forward(self, x, x_length):\n",
    "        \n",
    "        x_packed = pack_padded_sequence(x, x_length, batch_first=True)\n",
    "        \n",
    "        x_lstm_out, _ = self.lstm(x_packed)\n",
    "        \n",
    "        x_unpacked, _ = pad_packed_sequence(x_lstm_out, batch_first=True)\n",
    "        \n",
    "        x = self.head(x_unpacked[:, -1])\n",
    "        \n",
    "        return x"
   ]
  },
  {
   "cell_type": "code",
   "execution_count": 71,
   "metadata": {},
   "outputs": [],
   "source": [
    "NUM_EPOCHS = 100\n",
    "LEARNING_RATE = 0.001\n",
    "\n",
    "NUM_LAYERS = 2\n",
    "HIDDEN_SIZE = 256\n",
    "LINEAR_SIZE = 128\n",
    "BIDIRECTIONAL = True"
   ]
  },
  {
   "cell_type": "code",
   "execution_count": 72,
   "metadata": {},
   "outputs": [
    {
     "data": {
      "text/plain": [
       "<torch._C.Generator at 0x7f35301958b0>"
      ]
     },
     "execution_count": 72,
     "metadata": {},
     "output_type": "execute_result"
    }
   ],
   "source": [
    "model = UniModel(NUM_LAYERS=NUM_LAYERS, INPUT_SIZE=52, HIDDEN_SIZE=HIDDEN_SIZE, \n",
    "                 LINEAR_SIZE=LINEAR_SIZE, OUTPUT_SIZE=NUM_CLASSES, BIDIRECTIONAL=BIDIRECTIONAL, DEVICE=device)\n",
    "\n",
    "# model = TwinModel(NUM_LAYERS=NUM_LAYERS, INPUT_SIZE=[41, 11], HIDDEN_SIZE=HIDDEN_SIZE,\n",
    "#                  LINEAR_SIZE=LINEAR_SIZE, OUTPUT_SIZE=NUM_CLASSES, BIDIRECTIONAL=BIDIRECTIONAL, DEVICE=device)\n",
    "\n",
    "model = model.to(device)\n",
    "\n",
    "optimizer = torch.optim.Adam(model.parameters(), lr=LEARNING_RATE)\n",
    "criterion = nn.CrossEntropyLoss()\n",
    "scheduler = StepLR(optimizer, step_size=25, gamma=0.5)\n",
    "# scheduler = ReduceLROnPlateau(optimizer, mode='min', verbose=True)\n",
    "\n",
    "torch.manual_seed(42)"
   ]
  },
  {
   "cell_type": "code",
   "execution_count": 73,
   "metadata": {},
   "outputs": [
    {
     "name": "stdout",
     "output_type": "stream",
     "text": [
      "<class 'torch.Tensor'> <class 'torch.Tensor'> <class 'torch.Tensor'>\n",
      "64 64 64\n",
      "y_batch_train.size() torch.Size([64])\n",
      "y_pred_train.size() torch.Size([64, 20]) \n",
      "\n"
     ]
    }
   ],
   "source": [
    "for i, (X_batch, X_lengths, y_batch) in enumerate(train_dl):\n",
    "    if i < 1:\n",
    "        print(type(X_batch), type(X_lengths), type(y_batch))\n",
    "        print(len(X_batch), len(X_lengths), len(y_batch))\n",
    "        X_batch, y_batch_train = X_batch.to(device), y_batch.to(device)\n",
    "        y_pred_train = model(X_batch, X_lengths)\n",
    "        print(\"y_batch_train.size()\", y_batch.size())\n",
    "        print(\"y_pred_train.size()\", y_pred_train.size(), '\\n')\n",
    "    else:\n",
    "        break"
   ]
  },
  {
   "cell_type": "code",
   "execution_count": 74,
   "metadata": {},
   "outputs": [],
   "source": [
    "# !rm -r runs"
   ]
  },
  {
   "cell_type": "markdown",
   "metadata": {},
   "source": [
    "> ### Training"
   ]
  },
  {
   "cell_type": "code",
   "execution_count": 76,
   "metadata": {},
   "outputs": [],
   "source": [
    "# writer = SummaryWriter(comment=f'NL{NUM_LAYERS}_H{HIDDEN_SIZE}_L{LINEAR_SIZE}_B{BIDIRECTIONAL}_S{-100}')\n",
    "\n",
    "writer = SummaryWriter(comment=f'window_50_only_faults')"
   ]
  },
  {
   "cell_type": "code",
   "execution_count": 77,
   "metadata": {
    "scrolled": true
   },
   "outputs": [
    {
     "name": "stdout",
     "output_type": "stream",
     "text": [
      "Epoch: 0, Learning Rate: 0.001\n",
      "\n"
     ]
    },
    {
     "data": {
      "application/vnd.jupyter.widget-view+json": {
       "model_id": "27a578fd6dd142e5984f5541268eb873",
       "version_major": 2,
       "version_minor": 0
      },
      "text/plain": [
       "HBox(children=(FloatProgress(value=0.0, max=625.0), HTML(value='')))"
      ]
     },
     "metadata": {},
     "output_type": "display_data"
    },
    {
     "name": "stdout",
     "output_type": "stream",
     "text": [
      "\n",
      "tensor(-3.9469e-06, device='cuda:5')\n",
      "tensor(1.1700e-06, device='cuda:5')\n",
      "tensor(0.0001, device='cuda:5')\n",
      "tensor(0.0001, device='cuda:5')\n",
      "tensor(-1.3834e-06, device='cuda:5')\n",
      "tensor(-5.8200e-08, device='cuda:5')\n",
      "tensor(3.7673e-05, device='cuda:5')\n",
      "tensor(3.7673e-05, device='cuda:5')\n",
      "tensor(-1.3318e-07, device='cuda:5')\n",
      "tensor(1.1249e-06, device='cuda:5')\n",
      "tensor(8.2159e-05, device='cuda:5')\n",
      "tensor(8.2159e-05, device='cuda:5')\n",
      "tensor(2.4941e-07, device='cuda:5')\n",
      "tensor(0., device='cuda:5')\n",
      "tensor(-5.6622e-05, device='cuda:5')\n",
      "tensor(-5.6622e-05, device='cuda:5')\n",
      "tensor(2.0898e-06, device='cuda:5')\n",
      "tensor(-0.0002, device='cuda:5')\n",
      "tensor(-1.0555e-09, device='cuda:5')\n",
      "tensor(-1.5832e-09, device='cuda:5')\n"
     ]
    },
    {
     "data": {
      "application/vnd.jupyter.widget-view+json": {
       "model_id": "bb58691b02bb4ffea95c8fa76ed474dd",
       "version_major": 2,
       "version_minor": 0
      },
      "text/plain": [
       "HBox(children=(FloatProgress(value=0.0, max=40.0), HTML(value='')))"
      ]
     },
     "metadata": {},
     "output_type": "display_data"
    },
    {
     "name": "stdout",
     "output_type": "stream",
     "text": [
      "\n",
      "epoch time: 124.08219861984253\n",
      "mean loss train: 1.3659114976882936, mean loss val: 0.8379185873985291\n",
      "accuracy train: 0.54125, accuracy val: 0.6993\n",
      "---------------------------------------------------------------------------------------------------\n",
      "Epoch: 1, Learning Rate: 0.001\n",
      "\n"
     ]
    },
    {
     "data": {
      "application/vnd.jupyter.widget-view+json": {
       "model_id": "26064071751440649e358db889a3666f",
       "version_major": 2,
       "version_minor": 0
      },
      "text/plain": [
       "HBox(children=(FloatProgress(value=0.0, max=625.0), HTML(value='')))"
      ]
     },
     "metadata": {},
     "output_type": "display_data"
    },
    {
     "name": "stdout",
     "output_type": "stream",
     "text": [
      "\n",
      "tensor(-6.1290e-06, device='cuda:5')\n",
      "tensor(6.1806e-07, device='cuda:5')\n",
      "tensor(-0.0001, device='cuda:5')\n",
      "tensor(-0.0001, device='cuda:5')\n",
      "tensor(-1.3568e-06, device='cuda:5')\n",
      "tensor(-5.1519e-08, device='cuda:5')\n",
      "tensor(3.5373e-05, device='cuda:5')\n",
      "tensor(3.5373e-05, device='cuda:5')\n",
      "tensor(3.6498e-07, device='cuda:5')\n",
      "tensor(2.3589e-07, device='cuda:5')\n",
      "tensor(-2.8435e-05, device='cuda:5')\n",
      "tensor(-2.8435e-05, device='cuda:5')\n",
      "tensor(-4.2429e-08, device='cuda:5')\n",
      "tensor(0., device='cuda:5')\n",
      "tensor(1.7291e-05, device='cuda:5')\n",
      "tensor(1.7291e-05, device='cuda:5')\n",
      "tensor(5.3590e-06, device='cuda:5')\n",
      "tensor(-0.0001, device='cuda:5')\n",
      "tensor(9.1597e-11, device='cuda:5')\n",
      "tensor(0., device='cuda:5')\n"
     ]
    },
    {
     "data": {
      "application/vnd.jupyter.widget-view+json": {
       "model_id": "95443cda5d514ccdaa6bd6780893f078",
       "version_major": 2,
       "version_minor": 0
      },
      "text/plain": [
       "HBox(children=(FloatProgress(value=0.0, max=40.0), HTML(value='')))"
      ]
     },
     "metadata": {},
     "output_type": "display_data"
    },
    {
     "name": "stdout",
     "output_type": "stream",
     "text": [
      "\n",
      "epoch time: 122.48076248168945\n",
      "mean loss train: 0.7338842034816742, mean loss val: 0.5440366855144501\n",
      "accuracy train: 0.744425, accuracy val: 0.7791\n",
      "---------------------------------------------------------------------------------------------------\n",
      "Epoch: 2, Learning Rate: 0.001\n",
      "\n"
     ]
    },
    {
     "data": {
      "application/vnd.jupyter.widget-view+json": {
       "model_id": "ba14a755b6334512b5bb97522ed453fd",
       "version_major": 2,
       "version_minor": 0
      },
      "text/plain": [
       "HBox(children=(FloatProgress(value=0.0, max=625.0), HTML(value='')))"
      ]
     },
     "metadata": {},
     "output_type": "display_data"
    },
    {
     "name": "stdout",
     "output_type": "stream",
     "text": [
      "\n",
      "tensor(-1.4255e-05, device='cuda:5')\n",
      "tensor(9.2698e-07, device='cuda:5')\n",
      "tensor(-0.0006, device='cuda:5')\n",
      "tensor(-0.0006, device='cuda:5')\n",
      "tensor(-4.6365e-07, device='cuda:5')\n",
      "tensor(1.7910e-07, device='cuda:5')\n",
      "tensor(-1.2558e-05, device='cuda:5')\n",
      "tensor(-1.2558e-05, device='cuda:5')\n",
      "tensor(-1.5327e-08, device='cuda:5')\n",
      "tensor(8.1655e-07, device='cuda:5')\n",
      "tensor(-0.0002, device='cuda:5')\n",
      "tensor(-0.0002, device='cuda:5')\n",
      "tensor(1.2711e-08, device='cuda:5')\n",
      "tensor(0., device='cuda:5')\n",
      "tensor(-2.8962e-05, device='cuda:5')\n",
      "tensor(-2.8962e-05, device='cuda:5')\n",
      "tensor(1.3007e-06, device='cuda:5')\n",
      "tensor(-0.0005, device='cuda:5')\n",
      "tensor(-9.0672e-10, device='cuda:5')\n",
      "tensor(-1.4901e-09, device='cuda:5')\n"
     ]
    },
    {
     "data": {
      "application/vnd.jupyter.widget-view+json": {
       "model_id": "c93ad2e912174691bd0b407b7e36f467",
       "version_major": 2,
       "version_minor": 0
      },
      "text/plain": [
       "HBox(children=(FloatProgress(value=0.0, max=40.0), HTML(value='')))"
      ]
     },
     "metadata": {},
     "output_type": "display_data"
    },
    {
     "name": "stdout",
     "output_type": "stream",
     "text": [
      "\n",
      "epoch time: 121.27023506164551\n",
      "mean loss train: 0.5568220397472382, mean loss val: 0.38969585251808164\n",
      "accuracy train: 0.7881, accuracy val: 0.8016\n",
      "---------------------------------------------------------------------------------------------------\n",
      "Epoch: 3, Learning Rate: 0.001\n",
      "\n"
     ]
    },
    {
     "data": {
      "application/vnd.jupyter.widget-view+json": {
       "model_id": "982e04b1cce74425afcdd6a3f0824255",
       "version_major": 2,
       "version_minor": 0
      },
      "text/plain": [
       "HBox(children=(FloatProgress(value=0.0, max=625.0), HTML(value='')))"
      ]
     },
     "metadata": {},
     "output_type": "display_data"
    },
    {
     "name": "stdout",
     "output_type": "stream",
     "text": [
      "\n",
      "tensor(-3.1879e-06, device='cuda:5')\n",
      "tensor(9.9144e-07, device='cuda:5')\n",
      "tensor(0.0002, device='cuda:5')\n",
      "tensor(0.0002, device='cuda:5')\n",
      "tensor(-3.8291e-06, device='cuda:5')\n",
      "tensor(7.4449e-08, device='cuda:5')\n",
      "tensor(7.8731e-05, device='cuda:5')\n",
      "tensor(7.8731e-05, device='cuda:5')\n",
      "tensor(1.4331e-07, device='cuda:5')\n",
      "tensor(2.9853e-07, device='cuda:5')\n",
      "tensor(-4.7528e-05, device='cuda:5')\n",
      "tensor(-4.7528e-05, device='cuda:5')\n",
      "tensor(1.6196e-07, device='cuda:5')\n",
      "tensor(0., device='cuda:5')\n",
      "tensor(-3.8501e-05, device='cuda:5')\n",
      "tensor(-3.8501e-05, device='cuda:5')\n",
      "tensor(8.3377e-07, device='cuda:5')\n",
      "tensor(-0.0008, device='cuda:5')\n",
      "tensor(-5.9788e-10, device='cuda:5')\n",
      "tensor(-1.1176e-09, device='cuda:5')\n"
     ]
    },
    {
     "data": {
      "application/vnd.jupyter.widget-view+json": {
       "model_id": "17b8fc2667f94143bfdf3029fa75b52d",
       "version_major": 2,
       "version_minor": 0
      },
      "text/plain": [
       "HBox(children=(FloatProgress(value=0.0, max=40.0), HTML(value='')))"
      ]
     },
     "metadata": {},
     "output_type": "display_data"
    },
    {
     "name": "stdout",
     "output_type": "stream",
     "text": [
      "\n",
      "epoch time: 121.34798407554626\n",
      "mean loss train: 0.5219603193998337, mean loss val: 0.3339164121627808\n",
      "accuracy train: 0.807875, accuracy val: 0.8295\n",
      "---------------------------------------------------------------------------------------------------\n",
      "Epoch: 4, Learning Rate: 0.001\n",
      "\n"
     ]
    },
    {
     "data": {
      "application/vnd.jupyter.widget-view+json": {
       "model_id": "b1a871385c4742228481899af94a5980",
       "version_major": 2,
       "version_minor": 0
      },
      "text/plain": [
       "HBox(children=(FloatProgress(value=0.0, max=625.0), HTML(value='')))"
      ]
     },
     "metadata": {},
     "output_type": "display_data"
    },
    {
     "name": "stdout",
     "output_type": "stream",
     "text": [
      "\n",
      "tensor(5.5734e-06, device='cuda:5')\n",
      "tensor(1.7532e-05, device='cuda:5')\n",
      "tensor(0.0006, device='cuda:5')\n",
      "tensor(0.0006, device='cuda:5')\n",
      "tensor(1.7597e-05, device='cuda:5')\n",
      "tensor(-1.1716e-07, device='cuda:5')\n",
      "tensor(-8.6959e-05, device='cuda:5')\n",
      "tensor(-8.6959e-05, device='cuda:5')\n",
      "tensor(4.5126e-08, device='cuda:5')\n",
      "tensor(2.1245e-07, device='cuda:5')\n",
      "tensor(4.3730e-05, device='cuda:5')\n",
      "tensor(4.3730e-05, device='cuda:5')\n",
      "tensor(-2.9923e-07, device='cuda:5')\n",
      "tensor(0., device='cuda:5')\n",
      "tensor(2.3389e-05, device='cuda:5')\n",
      "tensor(2.3389e-05, device='cuda:5')\n",
      "tensor(-6.9546e-06, device='cuda:5')\n",
      "tensor(0.0005, device='cuda:5')\n",
      "tensor(-1.0438e-09, device='cuda:5')\n",
      "tensor(-1.0245e-09, device='cuda:5')\n"
     ]
    },
    {
     "data": {
      "application/vnd.jupyter.widget-view+json": {
       "model_id": "6ef016e24ef84a708f3f8db3d64f4089",
       "version_major": 2,
       "version_minor": 0
      },
      "text/plain": [
       "HBox(children=(FloatProgress(value=0.0, max=40.0), HTML(value='')))"
      ]
     },
     "metadata": {},
     "output_type": "display_data"
    },
    {
     "name": "stdout",
     "output_type": "stream",
     "text": [
      "\n",
      "epoch time: 121.81769561767578\n",
      "mean loss train: 0.4745556874513626, mean loss val: 0.3472606512069702\n",
      "accuracy train: 0.8273, accuracy val: 0.8301\n",
      "---------------------------------------------------------------------------------------------------\n",
      "Epoch: 5, Learning Rate: 0.001\n",
      "\n"
     ]
    },
    {
     "data": {
      "application/vnd.jupyter.widget-view+json": {
       "model_id": "653bc15e2ed445ebbdd2860427f40a92",
       "version_major": 2,
       "version_minor": 0
      },
      "text/plain": [
       "HBox(children=(FloatProgress(value=0.0, max=625.0), HTML(value='')))"
      ]
     },
     "metadata": {},
     "output_type": "display_data"
    },
    {
     "name": "stdout",
     "output_type": "stream",
     "text": [
      "\n",
      "tensor(4.3514e-06, device='cuda:5')\n",
      "tensor(2.4175e-07, device='cuda:5')\n",
      "tensor(0.0002, device='cuda:5')\n",
      "tensor(0.0002, device='cuda:5')\n",
      "tensor(-1.5183e-07, device='cuda:5')\n",
      "tensor(1.7098e-08, device='cuda:5')\n",
      "tensor(3.1259e-05, device='cuda:5')\n",
      "tensor(3.1259e-05, device='cuda:5')\n",
      "tensor(4.2143e-08, device='cuda:5')\n",
      "tensor(2.5805e-07, device='cuda:5')\n",
      "tensor(-8.5373e-05, device='cuda:5')\n",
      "tensor(-8.5373e-05, device='cuda:5')\n",
      "tensor(-1.7121e-07, device='cuda:5')\n",
      "tensor(0., device='cuda:5')\n",
      "tensor(-6.5719e-06, device='cuda:5')\n",
      "tensor(-6.5719e-06, device='cuda:5')\n",
      "tensor(2.7647e-06, device='cuda:5')\n",
      "tensor(-0.0001, device='cuda:5')\n",
      "tensor(-2.2336e-09, device='cuda:5')\n",
      "tensor(-2.6077e-09, device='cuda:5')\n"
     ]
    },
    {
     "data": {
      "application/vnd.jupyter.widget-view+json": {
       "model_id": "f50010b387554e139347eff6e623b05e",
       "version_major": 2,
       "version_minor": 0
      },
      "text/plain": [
       "HBox(children=(FloatProgress(value=0.0, max=40.0), HTML(value='')))"
      ]
     },
     "metadata": {},
     "output_type": "display_data"
    },
    {
     "name": "stdout",
     "output_type": "stream",
     "text": [
      "\n",
      "epoch time: 121.23792481422424\n",
      "mean loss train: 0.4457697916030884, mean loss val: 0.28182553296089174\n",
      "accuracy train: 0.8428, accuracy val: 0.8555\n",
      "---------------------------------------------------------------------------------------------------\n",
      "Epoch: 6, Learning Rate: 0.001\n",
      "\n"
     ]
    },
    {
     "data": {
      "application/vnd.jupyter.widget-view+json": {
       "model_id": "0037cf7836c54d1f8c3fa8f9d4b6c4ac",
       "version_major": 2,
       "version_minor": 0
      },
      "text/plain": [
       "HBox(children=(FloatProgress(value=0.0, max=625.0), HTML(value='')))"
      ]
     },
     "metadata": {},
     "output_type": "display_data"
    },
    {
     "name": "stdout",
     "output_type": "stream",
     "text": [
      "\n",
      "tensor(-2.9445e-05, device='cuda:5')\n",
      "tensor(-3.2938e-06, device='cuda:5')\n",
      "tensor(-0.0016, device='cuda:5')\n",
      "tensor(-0.0016, device='cuda:5')\n",
      "tensor(-1.8597e-06, device='cuda:5')\n",
      "tensor(2.2238e-07, device='cuda:5')\n",
      "tensor(-5.9972e-05, device='cuda:5')\n",
      "tensor(-5.9972e-05, device='cuda:5')\n",
      "tensor(-1.6934e-07, device='cuda:5')\n",
      "tensor(7.6202e-07, device='cuda:5')\n",
      "tensor(0.0002, device='cuda:5')\n",
      "tensor(0.0002, device='cuda:5')\n",
      "tensor(9.4469e-09, device='cuda:5')\n",
      "tensor(0., device='cuda:5')\n",
      "tensor(-1.4391e-05, device='cuda:5')\n",
      "tensor(-1.4391e-05, device='cuda:5')\n",
      "tensor(-9.9763e-07, device='cuda:5')\n",
      "tensor(-0.0004, device='cuda:5')\n",
      "tensor(7.8277e-10, device='cuda:5')\n",
      "tensor(7.4506e-10, device='cuda:5')\n"
     ]
    },
    {
     "data": {
      "application/vnd.jupyter.widget-view+json": {
       "model_id": "1a5c73aa85d845228baf4dc1ab0ed44f",
       "version_major": 2,
       "version_minor": 0
      },
      "text/plain": [
       "HBox(children=(FloatProgress(value=0.0, max=40.0), HTML(value='')))"
      ]
     },
     "metadata": {},
     "output_type": "display_data"
    },
    {
     "name": "stdout",
     "output_type": "stream",
     "text": [
      "\n",
      "epoch time: 125.49506497383118\n",
      "mean loss train: 0.4265931761980057, mean loss val: 0.32691521220207215\n",
      "accuracy train: 0.85115, accuracy val: 0.8542\n",
      "---------------------------------------------------------------------------------------------------\n",
      "Epoch: 7, Learning Rate: 0.001\n",
      "\n"
     ]
    },
    {
     "data": {
      "application/vnd.jupyter.widget-view+json": {
       "model_id": "95fe7ef3acb34144b8bfab5d811c1b06",
       "version_major": 2,
       "version_minor": 0
      },
      "text/plain": [
       "HBox(children=(FloatProgress(value=0.0, max=625.0), HTML(value='')))"
      ]
     },
     "metadata": {},
     "output_type": "display_data"
    },
    {
     "name": "stdout",
     "output_type": "stream",
     "text": [
      "\n",
      "tensor(-8.6856e-07, device='cuda:5')\n",
      "tensor(-8.3157e-07, device='cuda:5')\n",
      "tensor(-0.0012, device='cuda:5')\n",
      "tensor(-0.0012, device='cuda:5')\n",
      "tensor(1.1775e-05, device='cuda:5')\n",
      "tensor(-4.3791e-07, device='cuda:5')\n",
      "tensor(-0.0001, device='cuda:5')\n",
      "tensor(-0.0001, device='cuda:5')\n",
      "tensor(7.7840e-08, device='cuda:5')\n",
      "tensor(-5.7110e-07, device='cuda:5')\n",
      "tensor(0.0005, device='cuda:5')\n",
      "tensor(0.0005, device='cuda:5')\n",
      "tensor(1.4952e-07, device='cuda:5')\n",
      "tensor(0., device='cuda:5')\n",
      "tensor(4.1407e-05, device='cuda:5')\n",
      "tensor(4.1407e-05, device='cuda:5')\n",
      "tensor(-5.4122e-07, device='cuda:5')\n",
      "tensor(0.0007, device='cuda:5')\n",
      "tensor(-2.6853e-09, device='cuda:5')\n",
      "tensor(-3.7253e-09, device='cuda:5')\n"
     ]
    },
    {
     "data": {
      "application/vnd.jupyter.widget-view+json": {
       "model_id": "f3dfb41247db4000b2b340135237ae1a",
       "version_major": 2,
       "version_minor": 0
      },
      "text/plain": [
       "HBox(children=(FloatProgress(value=0.0, max=40.0), HTML(value='')))"
      ]
     },
     "metadata": {},
     "output_type": "display_data"
    },
    {
     "name": "stdout",
     "output_type": "stream",
     "text": [
      "\n",
      "epoch time: 121.64934015274048\n",
      "mean loss train: 0.40871451082229615, mean loss val: 0.23153534784317018\n",
      "accuracy train: 0.862175, accuracy val: 0.878\n",
      "---------------------------------------------------------------------------------------------------\n",
      "Epoch: 8, Learning Rate: 0.001\n",
      "\n"
     ]
    },
    {
     "data": {
      "application/vnd.jupyter.widget-view+json": {
       "model_id": "7ed41806ef314a6db0f2ff1d31d1c525",
       "version_major": 2,
       "version_minor": 0
      },
      "text/plain": [
       "HBox(children=(FloatProgress(value=0.0, max=625.0), HTML(value='')))"
      ]
     },
     "metadata": {},
     "output_type": "display_data"
    },
    {
     "name": "stdout",
     "output_type": "stream",
     "text": [
      "\n",
      "tensor(-2.1560e-05, device='cuda:5')\n",
      "tensor(-3.4807e-07, device='cuda:5')\n",
      "tensor(0.0018, device='cuda:5')\n",
      "tensor(0.0018, device='cuda:5')\n",
      "tensor(-5.3060e-06, device='cuda:5')\n",
      "tensor(-2.4916e-07, device='cuda:5')\n",
      "tensor(-1.7882e-06, device='cuda:5')\n",
      "tensor(-1.7882e-06, device='cuda:5')\n",
      "tensor(3.6435e-07, device='cuda:5')\n",
      "tensor(1.4455e-06, device='cuda:5')\n",
      "tensor(-0.0003, device='cuda:5')\n",
      "tensor(-0.0003, device='cuda:5')\n",
      "tensor(6.6252e-08, device='cuda:5')\n",
      "tensor(0., device='cuda:5')\n",
      "tensor(-1.0111e-05, device='cuda:5')\n",
      "tensor(-1.0111e-05, device='cuda:5')\n",
      "tensor(3.8195e-06, device='cuda:5')\n",
      "tensor(-0.0002, device='cuda:5')\n",
      "tensor(-2.0841e-09, device='cuda:5')\n",
      "tensor(-3.0850e-09, device='cuda:5')\n"
     ]
    },
    {
     "data": {
      "application/vnd.jupyter.widget-view+json": {
       "model_id": "c3ebbb2a6c1d4c21b6f64ff70a0b6a71",
       "version_major": 2,
       "version_minor": 0
      },
      "text/plain": [
       "HBox(children=(FloatProgress(value=0.0, max=40.0), HTML(value='')))"
      ]
     },
     "metadata": {},
     "output_type": "display_data"
    },
    {
     "name": "stdout",
     "output_type": "stream",
     "text": [
      "\n",
      "epoch time: 122.47161912918091\n",
      "mean loss train: 0.38657880417108537, mean loss val: 0.23741758031845092\n",
      "accuracy train: 0.870325, accuracy val: 0.876\n",
      "---------------------------------------------------------------------------------------------------\n",
      "Epoch: 9, Learning Rate: 0.001\n",
      "\n"
     ]
    },
    {
     "data": {
      "application/vnd.jupyter.widget-view+json": {
       "model_id": "f25fc0191ab941b4872c2e783aa43fbd",
       "version_major": 2,
       "version_minor": 0
      },
      "text/plain": [
       "HBox(children=(FloatProgress(value=0.0, max=625.0), HTML(value='')))"
      ]
     },
     "metadata": {},
     "output_type": "display_data"
    },
    {
     "name": "stdout",
     "output_type": "stream",
     "text": [
      "\n",
      "tensor(3.4542e-05, device='cuda:5')\n",
      "tensor(-7.4540e-07, device='cuda:5')\n",
      "tensor(-0.0006, device='cuda:5')\n",
      "tensor(-0.0006, device='cuda:5')\n",
      "tensor(3.1441e-07, device='cuda:5')\n",
      "tensor(2.3066e-08, device='cuda:5')\n",
      "tensor(-1.8802e-05, device='cuda:5')\n",
      "tensor(-1.8802e-05, device='cuda:5')\n",
      "tensor(-2.6320e-07, device='cuda:5')\n",
      "tensor(5.7376e-07, device='cuda:5')\n",
      "tensor(0.0002, device='cuda:5')\n",
      "tensor(0.0002, device='cuda:5')\n",
      "tensor(-2.5625e-09, device='cuda:5')\n",
      "tensor(0., device='cuda:5')\n",
      "tensor(-1.3348e-05, device='cuda:5')\n",
      "tensor(-1.3348e-05, device='cuda:5')\n",
      "tensor(2.4662e-06, device='cuda:5')\n",
      "tensor(-0.0005, device='cuda:5')\n",
      "tensor(2.6541e-10, device='cuda:5')\n",
      "tensor(6.2864e-10, device='cuda:5')\n"
     ]
    },
    {
     "data": {
      "application/vnd.jupyter.widget-view+json": {
       "model_id": "e54b507b6d0d44ef9fbf4ec3741d723b",
       "version_major": 2,
       "version_minor": 0
      },
      "text/plain": [
       "HBox(children=(FloatProgress(value=0.0, max=40.0), HTML(value='')))"
      ]
     },
     "metadata": {},
     "output_type": "display_data"
    },
    {
     "name": "stdout",
     "output_type": "stream",
     "text": [
      "\n",
      "epoch time: 124.85622453689575\n",
      "mean loss train: 0.37895035470724103, mean loss val: 0.20442448692321777\n",
      "accuracy train: 0.879475, accuracy val: 0.9044\n",
      "---------------------------------------------------------------------------------------------------\n",
      "Epoch: 10, Learning Rate: 0.001\n",
      "\n"
     ]
    },
    {
     "data": {
      "application/vnd.jupyter.widget-view+json": {
       "model_id": "45c3abbb3f114b7b9dce608af0d52e86",
       "version_major": 2,
       "version_minor": 0
      },
      "text/plain": [
       "HBox(children=(FloatProgress(value=0.0, max=625.0), HTML(value='')))"
      ]
     },
     "metadata": {},
     "output_type": "display_data"
    },
    {
     "name": "stdout",
     "output_type": "stream",
     "text": [
      "\n",
      "tensor(-2.8071e-05, device='cuda:5')\n",
      "tensor(9.7064e-07, device='cuda:5')\n",
      "tensor(0.0006, device='cuda:5')\n",
      "tensor(0.0006, device='cuda:5')\n",
      "tensor(0.0002, device='cuda:5')\n",
      "tensor(-6.8499e-06, device='cuda:5')\n",
      "tensor(-0.0026, device='cuda:5')\n",
      "tensor(-0.0026, device='cuda:5')\n",
      "tensor(3.5304e-07, device='cuda:5')\n",
      "tensor(2.9784e-07, device='cuda:5')\n",
      "tensor(-1.2237e-05, device='cuda:5')\n",
      "tensor(-1.2237e-05, device='cuda:5')\n",
      "tensor(-1.1796e-07, device='cuda:5')\n",
      "tensor(0., device='cuda:5')\n",
      "tensor(7.5032e-06, device='cuda:5')\n",
      "tensor(7.5032e-06, device='cuda:5')\n",
      "tensor(-1.3078e-07, device='cuda:5')\n",
      "tensor(0.0002, device='cuda:5')\n",
      "tensor(-1.3664e-09, device='cuda:5')\n",
      "tensor(-1.6764e-09, device='cuda:5')\n"
     ]
    },
    {
     "data": {
      "application/vnd.jupyter.widget-view+json": {
       "model_id": "08ef97e346ae447f8ac7f57c19d88a87",
       "version_major": 2,
       "version_minor": 0
      },
      "text/plain": [
       "HBox(children=(FloatProgress(value=0.0, max=40.0), HTML(value='')))"
      ]
     },
     "metadata": {},
     "output_type": "display_data"
    },
    {
     "name": "stdout",
     "output_type": "stream",
     "text": [
      "\n",
      "epoch time: 121.1632513999939\n",
      "mean loss train: 0.34504255249500276, mean loss val: 0.23250780377388\n",
      "accuracy train: 0.900625, accuracy val: 0.9028\n",
      "---------------------------------------------------------------------------------------------------\n",
      "Epoch: 11, Learning Rate: 0.001\n",
      "\n"
     ]
    },
    {
     "data": {
      "application/vnd.jupyter.widget-view+json": {
       "model_id": "0b6e48e3d17c4cd5b40c6aeaec22e67b",
       "version_major": 2,
       "version_minor": 0
      },
      "text/plain": [
       "HBox(children=(FloatProgress(value=0.0, max=625.0), HTML(value='')))"
      ]
     },
     "metadata": {},
     "output_type": "display_data"
    },
    {
     "name": "stdout",
     "output_type": "stream",
     "text": [
      "\n",
      "tensor(-4.3107e-07, device='cuda:5')\n",
      "tensor(9.6827e-07, device='cuda:5')\n",
      "tensor(-0.0003, device='cuda:5')\n",
      "tensor(-0.0003, device='cuda:5')\n",
      "tensor(-1.7538e-07, device='cuda:5')\n",
      "tensor(-8.1887e-08, device='cuda:5')\n",
      "tensor(-3.8966e-06, device='cuda:5')\n",
      "tensor(-3.8966e-06, device='cuda:5')\n",
      "tensor(-1.9410e-07, device='cuda:5')\n",
      "tensor(9.6093e-07, device='cuda:5')\n",
      "tensor(8.5597e-05, device='cuda:5')\n",
      "tensor(8.5597e-05, device='cuda:5')\n",
      "tensor(2.0549e-07, device='cuda:5')\n",
      "tensor(0., device='cuda:5')\n",
      "tensor(-1.9029e-05, device='cuda:5')\n",
      "tensor(-1.9029e-05, device='cuda:5')\n",
      "tensor(1.0356e-05, device='cuda:5')\n",
      "tensor(0.0007, device='cuda:5')\n",
      "tensor(-1.0019e-09, device='cuda:5')\n",
      "tensor(-1.6298e-09, device='cuda:5')\n"
     ]
    },
    {
     "data": {
      "application/vnd.jupyter.widget-view+json": {
       "model_id": "f9a7e02c1a974c228b33be5d2571021d",
       "version_major": 2,
       "version_minor": 0
      },
      "text/plain": [
       "HBox(children=(FloatProgress(value=0.0, max=40.0), HTML(value='')))"
      ]
     },
     "metadata": {},
     "output_type": "display_data"
    },
    {
     "name": "stdout",
     "output_type": "stream",
     "text": [
      "\n",
      "epoch time: 122.20072340965271\n",
      "mean loss train: 0.33431408022642134, mean loss val: 0.224581658411026\n",
      "accuracy train: 0.906025, accuracy val: 0.9152\n",
      "---------------------------------------------------------------------------------------------------\n",
      "Epoch: 12, Learning Rate: 0.001\n",
      "\n"
     ]
    },
    {
     "data": {
      "application/vnd.jupyter.widget-view+json": {
       "model_id": "edbd0926404f41e69ae4fb18f9d3a9c4",
       "version_major": 2,
       "version_minor": 0
      },
      "text/plain": [
       "HBox(children=(FloatProgress(value=0.0, max=625.0), HTML(value='')))"
      ]
     },
     "metadata": {},
     "output_type": "display_data"
    },
    {
     "name": "stdout",
     "output_type": "stream",
     "text": [
      "\n",
      "tensor(1.4102e-05, device='cuda:5')\n",
      "tensor(-8.4515e-07, device='cuda:5')\n",
      "tensor(-0.0011, device='cuda:5')\n",
      "tensor(-0.0011, device='cuda:5')\n",
      "tensor(8.7846e-07, device='cuda:5')\n",
      "tensor(-1.7098e-07, device='cuda:5')\n",
      "tensor(1.4471e-05, device='cuda:5')\n",
      "tensor(1.4471e-05, device='cuda:5')\n",
      "tensor(-2.6671e-07, device='cuda:5')\n",
      "tensor(-7.2396e-07, device='cuda:5')\n",
      "tensor(0.0002, device='cuda:5')\n",
      "tensor(0.0002, device='cuda:5')\n",
      "tensor(-5.6339e-08, device='cuda:5')\n",
      "tensor(0., device='cuda:5')\n",
      "tensor(-3.1567e-06, device='cuda:5')\n",
      "tensor(-3.1567e-06, device='cuda:5')\n",
      "tensor(1.1848e-06, device='cuda:5')\n",
      "tensor(0.0002, device='cuda:5')\n",
      "tensor(-1.0755e-09, device='cuda:5')\n",
      "tensor(-1.3039e-09, device='cuda:5')\n"
     ]
    },
    {
     "data": {
      "application/vnd.jupyter.widget-view+json": {
       "model_id": "ddf5f4accb874ed68f70a0721dca3066",
       "version_major": 2,
       "version_minor": 0
      },
      "text/plain": [
       "HBox(children=(FloatProgress(value=0.0, max=40.0), HTML(value='')))"
      ]
     },
     "metadata": {},
     "output_type": "display_data"
    },
    {
     "name": "stdout",
     "output_type": "stream",
     "text": [
      "\n",
      "epoch time: 122.47432446479797\n",
      "mean loss train: 0.31082724677324297, mean loss val: 0.1650174294948578\n",
      "accuracy train: 0.914275, accuracy val: 0.9189\n",
      "---------------------------------------------------------------------------------------------------\n",
      "Epoch: 13, Learning Rate: 0.001\n",
      "\n"
     ]
    },
    {
     "data": {
      "application/vnd.jupyter.widget-view+json": {
       "model_id": "22582c66d720425e810a605ffb5903c6",
       "version_major": 2,
       "version_minor": 0
      },
      "text/plain": [
       "HBox(children=(FloatProgress(value=0.0, max=625.0), HTML(value='')))"
      ]
     },
     "metadata": {},
     "output_type": "display_data"
    },
    {
     "name": "stdout",
     "output_type": "stream",
     "text": [
      "\n",
      "tensor(-2.7306e-05, device='cuda:5')\n",
      "tensor(2.9233e-06, device='cuda:5')\n",
      "tensor(-0.0009, device='cuda:5')\n",
      "tensor(-0.0009, device='cuda:5')\n",
      "tensor(-1.4754e-06, device='cuda:5')\n",
      "tensor(-2.6495e-08, device='cuda:5')\n",
      "tensor(-2.5614e-05, device='cuda:5')\n",
      "tensor(-2.5614e-05, device='cuda:5')\n",
      "tensor(2.5180e-07, device='cuda:5')\n",
      "tensor(8.6663e-08, device='cuda:5')\n",
      "tensor(-4.5525e-05, device='cuda:5')\n",
      "tensor(-4.5525e-05, device='cuda:5')\n",
      "tensor(8.3210e-08, device='cuda:5')\n",
      "tensor(0., device='cuda:5')\n",
      "tensor(9.6925e-06, device='cuda:5')\n",
      "tensor(9.6925e-06, device='cuda:5')\n",
      "tensor(2.8547e-07, device='cuda:5')\n",
      "tensor(-0.0002, device='cuda:5')\n",
      "tensor(-5.8964e-11, device='cuda:5')\n",
      "tensor(-2.7940e-10, device='cuda:5')\n"
     ]
    },
    {
     "data": {
      "application/vnd.jupyter.widget-view+json": {
       "model_id": "e8e75886ed6341a0860b76fd38338a8d",
       "version_major": 2,
       "version_minor": 0
      },
      "text/plain": [
       "HBox(children=(FloatProgress(value=0.0, max=40.0), HTML(value='')))"
      ]
     },
     "metadata": {},
     "output_type": "display_data"
    },
    {
     "name": "stdout",
     "output_type": "stream",
     "text": [
      "\n",
      "epoch time: 121.68547487258911\n",
      "mean loss train: 0.2920390962898731, mean loss val: 0.1664836582660675\n",
      "accuracy train: 0.918875, accuracy val: 0.9175\n",
      "---------------------------------------------------------------------------------------------------\n",
      "Epoch: 14, Learning Rate: 0.001\n",
      "\n"
     ]
    },
    {
     "data": {
      "application/vnd.jupyter.widget-view+json": {
       "model_id": "afefe9bd95264edeab2c12154ca71b8b",
       "version_major": 2,
       "version_minor": 0
      },
      "text/plain": [
       "HBox(children=(FloatProgress(value=0.0, max=625.0), HTML(value='')))"
      ]
     },
     "metadata": {},
     "output_type": "display_data"
    },
    {
     "name": "stdout",
     "output_type": "stream",
     "text": [
      "\n",
      "tensor(-3.2426e-06, device='cuda:5')\n",
      "tensor(7.4162e-08, device='cuda:5')\n",
      "tensor(-0.0006, device='cuda:5')\n",
      "tensor(-0.0006, device='cuda:5')\n",
      "tensor(-1.1806e-06, device='cuda:5')\n",
      "tensor(3.1207e-08, device='cuda:5')\n",
      "tensor(8.7099e-05, device='cuda:5')\n",
      "tensor(8.7099e-05, device='cuda:5')\n",
      "tensor(2.7384e-07, device='cuda:5')\n",
      "tensor(4.1197e-07, device='cuda:5')\n",
      "tensor(-0.0001, device='cuda:5')\n",
      "tensor(-0.0001, device='cuda:5')\n",
      "tensor(-3.0271e-08, device='cuda:5')\n",
      "tensor(0., device='cuda:5')\n",
      "tensor(5.5075e-06, device='cuda:5')\n",
      "tensor(5.5075e-06, device='cuda:5')\n",
      "tensor(-3.1571e-06, device='cuda:5')\n",
      "tensor(0.0001, device='cuda:5')\n",
      "tensor(1.0653e-09, device='cuda:5')\n",
      "tensor(1.4901e-09, device='cuda:5')\n"
     ]
    },
    {
     "data": {
      "application/vnd.jupyter.widget-view+json": {
       "model_id": "112de4d5a44847b89e33d43f5b2a94f4",
       "version_major": 2,
       "version_minor": 0
      },
      "text/plain": [
       "HBox(children=(FloatProgress(value=0.0, max=40.0), HTML(value='')))"
      ]
     },
     "metadata": {},
     "output_type": "display_data"
    },
    {
     "name": "stdout",
     "output_type": "stream",
     "text": [
      "\n",
      "epoch time: 120.313631772995\n",
      "mean loss train: 0.2846181862592697, mean loss val: 0.15554626779556274\n",
      "accuracy train: 0.921875, accuracy val: 0.9213\n",
      "---------------------------------------------------------------------------------------------------\n",
      "Epoch: 15, Learning Rate: 0.001\n",
      "\n"
     ]
    },
    {
     "data": {
      "application/vnd.jupyter.widget-view+json": {
       "model_id": "2a0b51f7cd65444bb677f1082ae97b90",
       "version_major": 2,
       "version_minor": 0
      },
      "text/plain": [
       "HBox(children=(FloatProgress(value=0.0, max=625.0), HTML(value='')))"
      ]
     },
     "metadata": {},
     "output_type": "display_data"
    },
    {
     "name": "stdout",
     "output_type": "stream",
     "text": [
      "\n",
      "tensor(-1.1275e-05, device='cuda:5')\n",
      "tensor(-1.7010e-07, device='cuda:5')\n",
      "tensor(-0.0006, device='cuda:5')\n",
      "tensor(-0.0006, device='cuda:5')\n",
      "tensor(-1.9332e-06, device='cuda:5')\n",
      "tensor(-1.7766e-07, device='cuda:5')\n",
      "tensor(9.4763e-05, device='cuda:5')\n",
      "tensor(9.4763e-05, device='cuda:5')\n",
      "tensor(-3.7902e-07, device='cuda:5')\n",
      "tensor(1.1045e-07, device='cuda:5')\n",
      "tensor(0.0002, device='cuda:5')\n",
      "tensor(0.0002, device='cuda:5')\n",
      "tensor(-5.1896e-08, device='cuda:5')\n",
      "tensor(0., device='cuda:5')\n",
      "tensor(9.6108e-06, device='cuda:5')\n",
      "tensor(9.6108e-06, device='cuda:5')\n",
      "tensor(-6.3217e-07, device='cuda:5')\n",
      "tensor(0.0004, device='cuda:5')\n",
      "tensor(-1.3212e-09, device='cuda:5')\n",
      "tensor(-1.7229e-09, device='cuda:5')\n"
     ]
    },
    {
     "data": {
      "application/vnd.jupyter.widget-view+json": {
       "model_id": "515539e840cc4539b9fb87f75f9709e0",
       "version_major": 2,
       "version_minor": 0
      },
      "text/plain": [
       "HBox(children=(FloatProgress(value=0.0, max=40.0), HTML(value='')))"
      ]
     },
     "metadata": {},
     "output_type": "display_data"
    },
    {
     "name": "stdout",
     "output_type": "stream",
     "text": [
      "\n",
      "epoch time: 122.87121963500977\n",
      "mean loss train: 0.277121646797657, mean loss val: 0.16424731755256652\n",
      "accuracy train: 0.924425, accuracy val: 0.9188\n",
      "---------------------------------------------------------------------------------------------------\n",
      "Epoch: 16, Learning Rate: 0.001\n",
      "\n"
     ]
    },
    {
     "data": {
      "application/vnd.jupyter.widget-view+json": {
       "model_id": "5eb78217e9e64db0af94ac793fabe35a",
       "version_major": 2,
       "version_minor": 0
      },
      "text/plain": [
       "HBox(children=(FloatProgress(value=0.0, max=625.0), HTML(value='')))"
      ]
     },
     "metadata": {},
     "output_type": "display_data"
    },
    {
     "name": "stdout",
     "output_type": "stream",
     "text": [
      "\n",
      "tensor(-2.8018e-05, device='cuda:5')\n",
      "tensor(-1.2910e-06, device='cuda:5')\n",
      "tensor(-0.0001, device='cuda:5')\n",
      "tensor(-0.0001, device='cuda:5')\n",
      "tensor(2.0412e-05, device='cuda:5')\n",
      "tensor(-2.1697e-07, device='cuda:5')\n",
      "tensor(-6.9550e-05, device='cuda:5')\n",
      "tensor(-6.9550e-05, device='cuda:5')\n",
      "tensor(-2.1325e-08, device='cuda:5')\n",
      "tensor(-1.0937e-06, device='cuda:5')\n",
      "tensor(-6.0510e-05, device='cuda:5')\n",
      "tensor(-6.0510e-05, device='cuda:5')\n",
      "tensor(2.7464e-08, device='cuda:5')\n",
      "tensor(0., device='cuda:5')\n",
      "tensor(-2.9158e-06, device='cuda:5')\n",
      "tensor(-2.9158e-06, device='cuda:5')\n",
      "tensor(6.5452e-07, device='cuda:5')\n",
      "tensor(5.2081e-06, device='cuda:5')\n",
      "tensor(-1.2760e-09, device='cuda:5')\n",
      "tensor(-1.6764e-09, device='cuda:5')\n"
     ]
    },
    {
     "data": {
      "application/vnd.jupyter.widget-view+json": {
       "model_id": "d3edf20a90294efb874c4c56364327d5",
       "version_major": 2,
       "version_minor": 0
      },
      "text/plain": [
       "HBox(children=(FloatProgress(value=0.0, max=40.0), HTML(value='')))"
      ]
     },
     "metadata": {},
     "output_type": "display_data"
    },
    {
     "name": "stdout",
     "output_type": "stream",
     "text": [
      "\n",
      "epoch time: 122.91264200210571\n",
      "mean loss train: 0.27365318486094475, mean loss val: 0.14394519009590148\n",
      "accuracy train: 0.92545, accuracy val: 0.9248\n",
      "---------------------------------------------------------------------------------------------------\n",
      "Epoch: 17, Learning Rate: 0.001\n",
      "\n"
     ]
    },
    {
     "data": {
      "application/vnd.jupyter.widget-view+json": {
       "model_id": "4efb1bd6f1184b6ebed464b2f6b868f7",
       "version_major": 2,
       "version_minor": 0
      },
      "text/plain": [
       "HBox(children=(FloatProgress(value=0.0, max=625.0), HTML(value='')))"
      ]
     },
     "metadata": {},
     "output_type": "display_data"
    },
    {
     "name": "stdout",
     "output_type": "stream",
     "text": [
      "\n",
      "tensor(-6.5009e-06, device='cuda:5')\n",
      "tensor(-9.2531e-07, device='cuda:5')\n",
      "tensor(-0.0006, device='cuda:5')\n",
      "tensor(-0.0006, device='cuda:5')\n",
      "tensor(-1.8035e-06, device='cuda:5')\n",
      "tensor(1.3389e-07, device='cuda:5')\n",
      "tensor(-7.4841e-07, device='cuda:5')\n",
      "tensor(-7.4841e-07, device='cuda:5')\n",
      "tensor(2.8072e-07, device='cuda:5')\n",
      "tensor(-8.7035e-08, device='cuda:5')\n",
      "tensor(-0.0001, device='cuda:5')\n",
      "tensor(-0.0001, device='cuda:5')\n",
      "tensor(5.0228e-09, device='cuda:5')\n",
      "tensor(0., device='cuda:5')\n",
      "tensor(8.5763e-06, device='cuda:5')\n",
      "tensor(8.5763e-06, device='cuda:5')\n",
      "tensor(-6.1476e-07, device='cuda:5')\n",
      "tensor(3.0797e-05, device='cuda:5')\n",
      "tensor(-1.8286e-10, device='cuda:5')\n",
      "tensor(-6.0536e-10, device='cuda:5')\n"
     ]
    },
    {
     "data": {
      "application/vnd.jupyter.widget-view+json": {
       "model_id": "49e308aaa112464094fc3c700188b1c7",
       "version_major": 2,
       "version_minor": 0
      },
      "text/plain": [
       "HBox(children=(FloatProgress(value=0.0, max=40.0), HTML(value='')))"
      ]
     },
     "metadata": {},
     "output_type": "display_data"
    },
    {
     "name": "stdout",
     "output_type": "stream",
     "text": [
      "\n",
      "epoch time: 121.68004584312439\n",
      "mean loss train: 0.2702952035307884, mean loss val: 0.14630575156211853\n",
      "accuracy train: 0.92665, accuracy val: 0.9259\n",
      "---------------------------------------------------------------------------------------------------\n",
      "Epoch: 18, Learning Rate: 0.001\n",
      "\n"
     ]
    },
    {
     "data": {
      "application/vnd.jupyter.widget-view+json": {
       "model_id": "88604830ad3e4f639affe9e4b74bd81b",
       "version_major": 2,
       "version_minor": 0
      },
      "text/plain": [
       "HBox(children=(FloatProgress(value=0.0, max=625.0), HTML(value='')))"
      ]
     },
     "metadata": {},
     "output_type": "display_data"
    },
    {
     "name": "stdout",
     "output_type": "stream",
     "text": [
      "\n",
      "tensor(-1.3554e-05, device='cuda:5')\n",
      "tensor(2.4190e-07, device='cuda:5')\n",
      "tensor(-0.0001, device='cuda:5')\n",
      "tensor(-0.0001, device='cuda:5')\n",
      "tensor(3.9679e-06, device='cuda:5')\n",
      "tensor(1.3147e-07, device='cuda:5')\n",
      "tensor(6.0162e-06, device='cuda:5')\n",
      "tensor(6.0162e-06, device='cuda:5')\n",
      "tensor(1.6973e-07, device='cuda:5')\n",
      "tensor(1.0699e-07, device='cuda:5')\n",
      "tensor(2.6954e-05, device='cuda:5')\n",
      "tensor(2.6954e-05, device='cuda:5')\n",
      "tensor(1.2437e-08, device='cuda:5')\n",
      "tensor(0., device='cuda:5')\n",
      "tensor(-1.2314e-05, device='cuda:5')\n",
      "tensor(-1.2314e-05, device='cuda:5')\n",
      "tensor(5.4828e-06, device='cuda:5')\n",
      "tensor(-2.4347e-05, device='cuda:5')\n",
      "tensor(3.4757e-11, device='cuda:5')\n",
      "tensor(0., device='cuda:5')\n"
     ]
    },
    {
     "data": {
      "application/vnd.jupyter.widget-view+json": {
       "model_id": "5281f7d13abe4bda8f93cc98013e484f",
       "version_major": 2,
       "version_minor": 0
      },
      "text/plain": [
       "HBox(children=(FloatProgress(value=0.0, max=40.0), HTML(value='')))"
      ]
     },
     "metadata": {},
     "output_type": "display_data"
    },
    {
     "name": "stdout",
     "output_type": "stream",
     "text": [
      "\n",
      "epoch time: 123.26704788208008\n",
      "mean loss train: 0.26589411770105364, mean loss val: 0.1380736134529114\n",
      "accuracy train: 0.92825, accuracy val: 0.9273\n",
      "---------------------------------------------------------------------------------------------------\n",
      "Epoch: 19, Learning Rate: 0.001\n",
      "\n"
     ]
    },
    {
     "data": {
      "application/vnd.jupyter.widget-view+json": {
       "model_id": "96a2b045a2524fc3b4dcca62549f9fed",
       "version_major": 2,
       "version_minor": 0
      },
      "text/plain": [
       "HBox(children=(FloatProgress(value=0.0, max=625.0), HTML(value='')))"
      ]
     },
     "metadata": {},
     "output_type": "display_data"
    },
    {
     "name": "stdout",
     "output_type": "stream",
     "text": [
      "\n",
      "epoch time: 119.92548966407776\n",
      "mean loss train: 0.2640737361550331, mean loss val: 0.24998018612861633\n",
      "accuracy train: 0.9275, accuracy val: 0.9138\n",
      "---------------------------------------------------------------------------------------------------\n",
      "Epoch: 20, Learning Rate: 0.001\n",
      "\n"
     ]
    },
    {
     "data": {
      "application/vnd.jupyter.widget-view+json": {
       "model_id": "26c8a6d483b74acca4a87f581becc341",
       "version_major": 2,
       "version_minor": 0
      },
      "text/plain": [
       "HBox(children=(FloatProgress(value=0.0, max=625.0), HTML(value='')))"
      ]
     },
     "metadata": {},
     "output_type": "display_data"
    },
    {
     "name": "stdout",
     "output_type": "stream",
     "text": [
      "\n",
      "tensor(1.9353e-06, device='cuda:5')\n",
      "tensor(6.7518e-08, device='cuda:5')\n",
      "tensor(2.1118e-05, device='cuda:5')\n",
      "tensor(2.1118e-05, device='cuda:5')\n",
      "tensor(1.8147e-07, device='cuda:5')\n",
      "tensor(-5.2292e-09, device='cuda:5')\n",
      "tensor(5.8612e-06, device='cuda:5')\n",
      "tensor(5.8612e-06, device='cuda:5')\n",
      "tensor(4.3770e-08, device='cuda:5')\n",
      "tensor(-6.5526e-08, device='cuda:5')\n",
      "tensor(3.1041e-06, device='cuda:5')\n",
      "tensor(3.1041e-06, device='cuda:5')\n",
      "tensor(4.9397e-08, device='cuda:5')\n",
      "tensor(0., device='cuda:5')\n",
      "tensor(1.1370e-06, device='cuda:5')\n",
      "tensor(1.1370e-06, device='cuda:5')\n",
      "tensor(1.0759e-06, device='cuda:5')\n",
      "tensor(6.6425e-05, device='cuda:5')\n",
      "tensor(-8.0148e-10, device='cuda:5')\n",
      "tensor(-1.4901e-09, device='cuda:5')\n"
     ]
    },
    {
     "data": {
      "application/vnd.jupyter.widget-view+json": {
       "model_id": "6eb7f7ab66e144d18876b04b2b7276e8",
       "version_major": 2,
       "version_minor": 0
      },
      "text/plain": [
       "HBox(children=(FloatProgress(value=0.0, max=40.0), HTML(value='')))"
      ]
     },
     "metadata": {},
     "output_type": "display_data"
    },
    {
     "name": "stdout",
     "output_type": "stream",
     "text": [
      "\n",
      "epoch time: 118.9721999168396\n",
      "mean loss train: 0.2682018217802048, mean loss val: 0.16338041167259215\n",
      "accuracy train: 0.9281, accuracy val: 0.9203\n",
      "---------------------------------------------------------------------------------------------------\n",
      "Epoch: 21, Learning Rate: 0.001\n",
      "\n"
     ]
    },
    {
     "data": {
      "application/vnd.jupyter.widget-view+json": {
       "model_id": "dc9da4730a19457c86946c66bb148b85",
       "version_major": 2,
       "version_minor": 0
      },
      "text/plain": [
       "HBox(children=(FloatProgress(value=0.0, max=625.0), HTML(value='')))"
      ]
     },
     "metadata": {},
     "output_type": "display_data"
    },
    {
     "name": "stdout",
     "output_type": "stream",
     "text": [
      "\n",
      "tensor(-1.1101e-06, device='cuda:5')\n",
      "tensor(-1.0407e-06, device='cuda:5')\n",
      "tensor(0.0020, device='cuda:5')\n",
      "tensor(0.0020, device='cuda:5')\n",
      "tensor(-8.6098e-06, device='cuda:5')\n",
      "tensor(-8.2147e-08, device='cuda:5')\n",
      "tensor(-0.0004, device='cuda:5')\n",
      "tensor(-0.0004, device='cuda:5')\n",
      "tensor(-1.0019e-06, device='cuda:5')\n",
      "tensor(1.1342e-06, device='cuda:5')\n",
      "tensor(0.0003, device='cuda:5')\n",
      "tensor(0.0003, device='cuda:5')\n",
      "tensor(-3.9687e-08, device='cuda:5')\n",
      "tensor(0., device='cuda:5')\n",
      "tensor(4.7368e-05, device='cuda:5')\n",
      "tensor(4.7368e-05, device='cuda:5')\n",
      "tensor(1.9081e-06, device='cuda:5')\n",
      "tensor(7.4883e-05, device='cuda:5')\n",
      "tensor(-4.4378e-10, device='cuda:5')\n",
      "tensor(-6.5193e-10, device='cuda:5')\n"
     ]
    },
    {
     "data": {
      "application/vnd.jupyter.widget-view+json": {
       "model_id": "1f29eacbbbf2410291df7b3242a0d1b7",
       "version_major": 2,
       "version_minor": 0
      },
      "text/plain": [
       "HBox(children=(FloatProgress(value=0.0, max=40.0), HTML(value='')))"
      ]
     },
     "metadata": {},
     "output_type": "display_data"
    },
    {
     "name": "stderr",
     "output_type": "stream",
     "text": [
      "IOPub message rate exceeded.\n",
      "The notebook server will temporarily stop sending output\n",
      "to the client in order to avoid crashing it.\n",
      "To change this limit, set the config variable\n",
      "`--NotebookApp.iopub_msg_rate_limit`.\n",
      "\n",
      "Current values:\n",
      "NotebookApp.iopub_msg_rate_limit=1000.0 (msgs/sec)\n",
      "NotebookApp.rate_limit_window=3.0 (secs)\n",
      "\n"
     ]
    },
    {
     "name": "stdout",
     "output_type": "stream",
     "text": [
      "\n",
      "epoch time: 120.19208884239197\n",
      "mean loss train: 0.25426442822217943, mean loss val: 0.16003743984699248\n",
      "accuracy train: 0.9314, accuracy val: 0.9259\n",
      "---------------------------------------------------------------------------------------------------\n",
      "Epoch: 25, Learning Rate: 0.0005\n",
      "\n"
     ]
    },
    {
     "data": {
      "application/vnd.jupyter.widget-view+json": {
       "model_id": "2b64af51cf884d2986cf71cfa5485b75",
       "version_major": 2,
       "version_minor": 0
      },
      "text/plain": [
       "HBox(children=(FloatProgress(value=0.0, max=625.0), HTML(value='')))"
      ]
     },
     "metadata": {},
     "output_type": "display_data"
    },
    {
     "name": "stdout",
     "output_type": "stream",
     "text": [
      "\n",
      "tensor(3.4194e-05, device='cuda:5')\n",
      "tensor(-7.9626e-07, device='cuda:5')\n",
      "tensor(-0.0013, device='cuda:5')\n",
      "tensor(-0.0013, device='cuda:5')\n",
      "tensor(3.7444e-06, device='cuda:5')\n",
      "tensor(-5.8477e-07, device='cuda:5')\n",
      "tensor(0.0001, device='cuda:5')\n",
      "tensor(0.0001, device='cuda:5')\n",
      "tensor(-3.6534e-07, device='cuda:5')\n",
      "tensor(-1.3726e-06, device='cuda:5')\n",
      "tensor(0.0002, device='cuda:5')\n",
      "tensor(0.0002, device='cuda:5')\n",
      "tensor(-1.4545e-08, device='cuda:5')\n",
      "tensor(0., device='cuda:5')\n",
      "tensor(3.5312e-06, device='cuda:5')\n",
      "tensor(3.5312e-06, device='cuda:5')\n",
      "tensor(-3.2486e-07, device='cuda:5')\n",
      "tensor(-2.1179e-05, device='cuda:5')\n",
      "tensor(2.7370e-10, device='cuda:5')\n",
      "tensor(2.7940e-10, device='cuda:5')\n"
     ]
    },
    {
     "data": {
      "application/vnd.jupyter.widget-view+json": {
       "model_id": "e160aa71c9cb4909b40282d5dde5cea7",
       "version_major": 2,
       "version_minor": 0
      },
      "text/plain": [
       "HBox(children=(FloatProgress(value=0.0, max=40.0), HTML(value='')))"
      ]
     },
     "metadata": {},
     "output_type": "display_data"
    },
    {
     "name": "stdout",
     "output_type": "stream",
     "text": [
      "\n",
      "epoch time: 123.60226535797119\n",
      "mean loss train: 0.2298189615190029, mean loss val: 0.15091389751434325\n",
      "accuracy train: 0.93805, accuracy val: 0.9265\n",
      "---------------------------------------------------------------------------------------------------\n",
      "Epoch: 26, Learning Rate: 0.0005\n",
      "\n"
     ]
    },
    {
     "data": {
      "application/vnd.jupyter.widget-view+json": {
       "model_id": "89614a5bf63c415e8f892e3a3902b755",
       "version_major": 2,
       "version_minor": 0
      },
      "text/plain": [
       "HBox(children=(FloatProgress(value=0.0, max=625.0), HTML(value='')))"
      ]
     },
     "metadata": {},
     "output_type": "display_data"
    },
    {
     "name": "stdout",
     "output_type": "stream",
     "text": [
      "\n",
      "tensor(-1.2728e-06, device='cuda:5')\n",
      "tensor(-1.2687e-08, device='cuda:5')\n",
      "tensor(3.4444e-05, device='cuda:5')\n",
      "tensor(3.4444e-05, device='cuda:5')\n",
      "tensor(-2.7874e-07, device='cuda:5')\n",
      "tensor(-1.6346e-08, device='cuda:5')\n",
      "tensor(-1.1747e-05, device='cuda:5')\n",
      "tensor(-1.1747e-05, device='cuda:5')\n",
      "tensor(-3.0038e-09, device='cuda:5')\n",
      "tensor(1.0614e-07, device='cuda:5')\n",
      "tensor(-2.6314e-05, device='cuda:5')\n",
      "tensor(-2.6314e-05, device='cuda:5')\n",
      "tensor(-1.7918e-08, device='cuda:5')\n",
      "tensor(0., device='cuda:5')\n",
      "tensor(-5.6576e-07, device='cuda:5')\n",
      "tensor(-5.6576e-07, device='cuda:5')\n",
      "tensor(1.5310e-06, device='cuda:5')\n",
      "tensor(-0.0001, device='cuda:5')\n",
      "tensor(-5.1112e-10, device='cuda:5')\n",
      "tensor(-1.0012e-09, device='cuda:5')\n"
     ]
    },
    {
     "data": {
      "application/vnd.jupyter.widget-view+json": {
       "model_id": "9e11d93c7fb9497b9448b86cc8b5c783",
       "version_major": 2,
       "version_minor": 0
      },
      "text/plain": [
       "HBox(children=(FloatProgress(value=0.0, max=40.0), HTML(value='')))"
      ]
     },
     "metadata": {},
     "output_type": "display_data"
    },
    {
     "name": "stdout",
     "output_type": "stream",
     "text": [
      "\n",
      "epoch time: 123.1020998954773\n",
      "mean loss train: 0.22478028911352158, mean loss val: 0.13601150822639466\n",
      "accuracy train: 0.939275, accuracy val: 0.9311\n",
      "---------------------------------------------------------------------------------------------------\n",
      "Epoch: 27, Learning Rate: 0.0005\n",
      "\n"
     ]
    },
    {
     "data": {
      "application/vnd.jupyter.widget-view+json": {
       "model_id": "df25f9cfea244a8a8fc0ca1528e0acdc",
       "version_major": 2,
       "version_minor": 0
      },
      "text/plain": [
       "HBox(children=(FloatProgress(value=0.0, max=625.0), HTML(value='')))"
      ]
     },
     "metadata": {},
     "output_type": "display_data"
    },
    {
     "name": "stdout",
     "output_type": "stream",
     "text": [
      "\n",
      "tensor(4.0193e-06, device='cuda:5')\n",
      "tensor(-2.2209e-07, device='cuda:5')\n",
      "tensor(-0.0001, device='cuda:5')\n",
      "tensor(-0.0001, device='cuda:5')\n",
      "tensor(-3.5104e-08, device='cuda:5')\n",
      "tensor(-7.1668e-08, device='cuda:5')\n",
      "tensor(2.6341e-06, device='cuda:5')\n",
      "tensor(2.6341e-06, device='cuda:5')\n",
      "tensor(-6.4037e-08, device='cuda:5')\n",
      "tensor(1.0317e-07, device='cuda:5')\n",
      "tensor(-6.7412e-06, device='cuda:5')\n",
      "tensor(-6.7412e-06, device='cuda:5')\n",
      "tensor(-3.2312e-08, device='cuda:5')\n",
      "tensor(0., device='cuda:5')\n",
      "tensor(3.6499e-06, device='cuda:5')\n",
      "tensor(3.6499e-06, device='cuda:5')\n",
      "tensor(1.3216e-07, device='cuda:5')\n",
      "tensor(-0.0002, device='cuda:5')\n",
      "tensor(-7.3802e-10, device='cuda:5')\n",
      "tensor(-1.2340e-09, device='cuda:5')\n"
     ]
    },
    {
     "data": {
      "application/vnd.jupyter.widget-view+json": {
       "model_id": "e3ee192240af4b4abe63d56c019ee33a",
       "version_major": 2,
       "version_minor": 0
      },
      "text/plain": [
       "HBox(children=(FloatProgress(value=0.0, max=40.0), HTML(value='')))"
      ]
     },
     "metadata": {},
     "output_type": "display_data"
    },
    {
     "name": "stdout",
     "output_type": "stream",
     "text": [
      "\n",
      "epoch time: 121.82500672340393\n",
      "mean loss train: 0.22174304949045182, mean loss val: 0.1532220020055771\n",
      "accuracy train: 0.93925, accuracy val: 0.9279\n",
      "---------------------------------------------------------------------------------------------------\n",
      "Epoch: 28, Learning Rate: 0.0005\n",
      "\n"
     ]
    },
    {
     "data": {
      "application/vnd.jupyter.widget-view+json": {
       "model_id": "874e1ebaa2084523840d7d7ab13a8570",
       "version_major": 2,
       "version_minor": 0
      },
      "text/plain": [
       "HBox(children=(FloatProgress(value=0.0, max=625.0), HTML(value='')))"
      ]
     },
     "metadata": {},
     "output_type": "display_data"
    },
    {
     "name": "stdout",
     "output_type": "stream",
     "text": [
      "\n",
      "tensor(5.4271e-06, device='cuda:5')\n",
      "tensor(4.0203e-07, device='cuda:5')\n",
      "tensor(-0.0003, device='cuda:5')\n",
      "tensor(-0.0003, device='cuda:5')\n",
      "tensor(-2.1009e-06, device='cuda:5')\n",
      "tensor(-7.3935e-07, device='cuda:5')\n",
      "tensor(0.0002, device='cuda:5')\n",
      "tensor(0.0002, device='cuda:5')\n",
      "tensor(-1.2417e-07, device='cuda:5')\n",
      "tensor(-4.1066e-07, device='cuda:5')\n",
      "tensor(0.0002, device='cuda:5')\n",
      "tensor(0.0002, device='cuda:5')\n",
      "tensor(5.3083e-08, device='cuda:5')\n",
      "tensor(0., device='cuda:5')\n",
      "tensor(-1.0421e-05, device='cuda:5')\n",
      "tensor(-1.0421e-05, device='cuda:5')\n",
      "tensor(1.2868e-06, device='cuda:5')\n",
      "tensor(0.0009, device='cuda:5')\n",
      "tensor(-1.3159e-10, device='cuda:5')\n",
      "tensor(-1.0245e-09, device='cuda:5')\n"
     ]
    },
    {
     "data": {
      "application/vnd.jupyter.widget-view+json": {
       "model_id": "391178a69a3d497eab27e3868231c6b9",
       "version_major": 2,
       "version_minor": 0
      },
      "text/plain": [
       "HBox(children=(FloatProgress(value=0.0, max=40.0), HTML(value='')))"
      ]
     },
     "metadata": {},
     "output_type": "display_data"
    },
    {
     "name": "stdout",
     "output_type": "stream",
     "text": [
      "\n",
      "epoch time: 123.45981001853943\n",
      "mean loss train: 0.2210238315999508, mean loss val: 0.1578813870191574\n",
      "accuracy train: 0.9393, accuracy val: 0.9295\n",
      "---------------------------------------------------------------------------------------------------\n",
      "Epoch: 29, Learning Rate: 0.0005\n",
      "\n"
     ]
    },
    {
     "data": {
      "application/vnd.jupyter.widget-view+json": {
       "model_id": "f0a291843ca44803b92b8c09daf1ac67",
       "version_major": 2,
       "version_minor": 0
      },
      "text/plain": [
       "HBox(children=(FloatProgress(value=0.0, max=625.0), HTML(value='')))"
      ]
     },
     "metadata": {},
     "output_type": "display_data"
    },
    {
     "name": "stdout",
     "output_type": "stream",
     "text": [
      "\n",
      "tensor(6.6478e-06, device='cuda:5')\n",
      "tensor(2.0934e-07, device='cuda:5')\n",
      "tensor(-0.0001, device='cuda:5')\n",
      "tensor(-0.0001, device='cuda:5')\n",
      "tensor(1.8496e-06, device='cuda:5')\n",
      "tensor(1.5054e-07, device='cuda:5')\n",
      "tensor(-3.9367e-05, device='cuda:5')\n",
      "tensor(-3.9367e-05, device='cuda:5')\n",
      "tensor(1.0870e-07, device='cuda:5')\n",
      "tensor(1.2609e-07, device='cuda:5')\n",
      "tensor(-2.3704e-05, device='cuda:5')\n",
      "tensor(-2.3704e-05, device='cuda:5')\n",
      "tensor(-4.5250e-08, device='cuda:5')\n",
      "tensor(0., device='cuda:5')\n",
      "tensor(-9.9637e-06, device='cuda:5')\n",
      "tensor(-9.9637e-06, device='cuda:5')\n",
      "tensor(-8.4799e-07, device='cuda:5')\n",
      "tensor(-0.0004, device='cuda:5')\n",
      "tensor(-3.4641e-10, device='cuda:5')\n",
      "tensor(-3.7253e-10, device='cuda:5')\n"
     ]
    },
    {
     "data": {
      "application/vnd.jupyter.widget-view+json": {
       "model_id": "60efe12565e74abbae335a5d2a0ed0e6",
       "version_major": 2,
       "version_minor": 0
      },
      "text/plain": [
       "HBox(children=(FloatProgress(value=0.0, max=40.0), HTML(value='')))"
      ]
     },
     "metadata": {},
     "output_type": "display_data"
    },
    {
     "name": "stdout",
     "output_type": "stream",
     "text": [
      "\n",
      "epoch time: 121.61445665359497\n",
      "mean loss train: 0.22130037255287172, mean loss val: 0.14429482357501983\n",
      "accuracy train: 0.9394, accuracy val: 0.9286\n",
      "---------------------------------------------------------------------------------------------------\n",
      "Epoch: 30, Learning Rate: 0.0005\n",
      "\n"
     ]
    },
    {
     "data": {
      "application/vnd.jupyter.widget-view+json": {
       "model_id": "d8dd94d25d6d4644954731d4efe94272",
       "version_major": 2,
       "version_minor": 0
      },
      "text/plain": [
       "HBox(children=(FloatProgress(value=0.0, max=625.0), HTML(value='')))"
      ]
     },
     "metadata": {},
     "output_type": "display_data"
    },
    {
     "name": "stdout",
     "output_type": "stream",
     "text": [
      "\n",
      "tensor(3.2549e-05, device='cuda:5')\n",
      "tensor(1.0210e-06, device='cuda:5')\n",
      "tensor(-0.0003, device='cuda:5')\n",
      "tensor(-0.0003, device='cuda:5')\n",
      "tensor(-5.1638e-07, device='cuda:5')\n",
      "tensor(-6.0086e-08, device='cuda:5')\n",
      "tensor(9.4419e-05, device='cuda:5')\n",
      "tensor(9.4419e-05, device='cuda:5')\n",
      "tensor(9.4611e-08, device='cuda:5')\n",
      "tensor(3.3367e-07, device='cuda:5')\n",
      "tensor(0.0001, device='cuda:5')\n",
      "tensor(0.0001, device='cuda:5')\n",
      "tensor(1.2828e-08, device='cuda:5')\n",
      "tensor(0., device='cuda:5')\n",
      "tensor(-1.0430e-05, device='cuda:5')\n",
      "tensor(-1.0430e-05, device='cuda:5')\n",
      "tensor(1.0312e-06, device='cuda:5')\n",
      "tensor(3.8807e-05, device='cuda:5')\n",
      "tensor(-2.2933e-10, device='cuda:5')\n",
      "tensor(-1.1176e-09, device='cuda:5')\n"
     ]
    },
    {
     "data": {
      "application/vnd.jupyter.widget-view+json": {
       "model_id": "55f9d5dd128e41b696b82c35e95d66df",
       "version_major": 2,
       "version_minor": 0
      },
      "text/plain": [
       "HBox(children=(FloatProgress(value=0.0, max=40.0), HTML(value='')))"
      ]
     },
     "metadata": {},
     "output_type": "display_data"
    },
    {
     "name": "stdout",
     "output_type": "stream",
     "text": [
      "\n",
      "epoch time: 122.54040908813477\n",
      "mean loss train: 0.21917688426971435, mean loss val: 0.14549335355758666\n",
      "accuracy train: 0.940325, accuracy val: 0.9297\n",
      "---------------------------------------------------------------------------------------------------\n",
      "Epoch: 31, Learning Rate: 0.0005\n",
      "\n"
     ]
    },
    {
     "data": {
      "application/vnd.jupyter.widget-view+json": {
       "model_id": "687fff66dba349b195bb321999c40f72",
       "version_major": 2,
       "version_minor": 0
      },
      "text/plain": [
       "HBox(children=(FloatProgress(value=0.0, max=625.0), HTML(value='')))"
      ]
     },
     "metadata": {},
     "output_type": "display_data"
    },
    {
     "name": "stdout",
     "output_type": "stream",
     "text": [
      "\n",
      "tensor(8.2068e-06, device='cuda:5')\n",
      "tensor(-1.4341e-07, device='cuda:5')\n",
      "tensor(-0.0002, device='cuda:5')\n",
      "tensor(-0.0002, device='cuda:5')\n",
      "tensor(3.5593e-07, device='cuda:5')\n",
      "tensor(-1.3407e-07, device='cuda:5')\n",
      "tensor(3.6515e-05, device='cuda:5')\n",
      "tensor(3.6515e-05, device='cuda:5')\n",
      "tensor(1.3952e-10, device='cuda:5')\n",
      "tensor(2.1098e-07, device='cuda:5')\n",
      "tensor(3.1527e-05, device='cuda:5')\n",
      "tensor(3.1527e-05, device='cuda:5')\n",
      "tensor(1.1092e-08, device='cuda:5')\n",
      "tensor(0., device='cuda:5')\n",
      "tensor(-1.5984e-05, device='cuda:5')\n",
      "tensor(-1.5984e-05, device='cuda:5')\n",
      "tensor(-8.5139e-07, device='cuda:5')\n",
      "tensor(-0.0004, device='cuda:5')\n",
      "tensor(5.7825e-10, device='cuda:5')\n",
      "tensor(1.4436e-09, device='cuda:5')\n"
     ]
    },
    {
     "data": {
      "application/vnd.jupyter.widget-view+json": {
       "model_id": "2be7f246466d445ab7450e58dd1796c5",
       "version_major": 2,
       "version_minor": 0
      },
      "text/plain": [
       "HBox(children=(FloatProgress(value=0.0, max=40.0), HTML(value='')))"
      ]
     },
     "metadata": {},
     "output_type": "display_data"
    },
    {
     "name": "stdout",
     "output_type": "stream",
     "text": [
      "\n",
      "epoch time: 125.20275449752808\n",
      "mean loss train: 0.21719883040189744, mean loss val: 0.15393235816955567\n",
      "accuracy train: 0.940425, accuracy val: 0.9259\n",
      "---------------------------------------------------------------------------------------------------\n",
      "Epoch: 32, Learning Rate: 0.0005\n",
      "\n"
     ]
    },
    {
     "data": {
      "application/vnd.jupyter.widget-view+json": {
       "model_id": "15ff76cb9fd64682a8f495d602b135b2",
       "version_major": 2,
       "version_minor": 0
      },
      "text/plain": [
       "HBox(children=(FloatProgress(value=0.0, max=625.0), HTML(value='')))"
      ]
     },
     "metadata": {},
     "output_type": "display_data"
    },
    {
     "name": "stdout",
     "output_type": "stream",
     "text": [
      "\n",
      "tensor(3.2324e-07, device='cuda:5')\n",
      "tensor(-5.8458e-09, device='cuda:5')\n",
      "tensor(-5.2174e-05, device='cuda:5')\n",
      "tensor(-5.2174e-05, device='cuda:5')\n",
      "tensor(-1.8300e-07, device='cuda:5')\n",
      "tensor(-4.0619e-09, device='cuda:5')\n",
      "tensor(1.1409e-05, device='cuda:5')\n",
      "tensor(1.1409e-05, device='cuda:5')\n",
      "tensor(-6.4842e-09, device='cuda:5')\n",
      "tensor(-8.1067e-08, device='cuda:5')\n",
      "tensor(-1.7573e-06, device='cuda:5')\n",
      "tensor(-1.7573e-06, device='cuda:5')\n",
      "tensor(4.7379e-09, device='cuda:5')\n",
      "tensor(0., device='cuda:5')\n",
      "tensor(-1.3319e-06, device='cuda:5')\n",
      "tensor(-1.3319e-06, device='cuda:5')\n",
      "tensor(-2.7854e-07, device='cuda:5')\n",
      "tensor(-0.0002, device='cuda:5')\n",
      "tensor(-4.1966e-14, device='cuda:5')\n",
      "tensor(-2.0955e-10, device='cuda:5')\n"
     ]
    },
    {
     "data": {
      "application/vnd.jupyter.widget-view+json": {
       "model_id": "141dc4805b6b47d2a54860c12f40e72a",
       "version_major": 2,
       "version_minor": 0
      },
      "text/plain": [
       "HBox(children=(FloatProgress(value=0.0, max=40.0), HTML(value='')))"
      ]
     },
     "metadata": {},
     "output_type": "display_data"
    },
    {
     "name": "stdout",
     "output_type": "stream",
     "text": [
      "\n",
      "epoch time: 123.0122320652008\n",
      "mean loss train: 0.21685634202361107, mean loss val: 0.14677346811294556\n",
      "accuracy train: 0.940175, accuracy val: 0.9276\n",
      "---------------------------------------------------------------------------------------------------\n",
      "Epoch: 33, Learning Rate: 0.0005\n",
      "\n"
     ]
    },
    {
     "data": {
      "application/vnd.jupyter.widget-view+json": {
       "model_id": "2f85e41429214e7a8f0b4709a320e46f",
       "version_major": 2,
       "version_minor": 0
      },
      "text/plain": [
       "HBox(children=(FloatProgress(value=0.0, max=625.0), HTML(value='')))"
      ]
     },
     "metadata": {},
     "output_type": "display_data"
    },
    {
     "name": "stdout",
     "output_type": "stream",
     "text": [
      "\n",
      "tensor(2.2925e-05, device='cuda:5')\n",
      "tensor(-1.9990e-07, device='cuda:5')\n",
      "tensor(-0.0001, device='cuda:5')\n",
      "tensor(-0.0001, device='cuda:5')\n",
      "tensor(-4.8887e-07, device='cuda:5')\n",
      "tensor(2.9092e-08, device='cuda:5')\n",
      "tensor(3.5624e-05, device='cuda:5')\n",
      "tensor(3.5624e-05, device='cuda:5')\n",
      "tensor(6.0134e-08, device='cuda:5')\n",
      "tensor(-1.4982e-07, device='cuda:5')\n",
      "tensor(2.7597e-05, device='cuda:5')\n",
      "tensor(2.7597e-05, device='cuda:5')\n",
      "tensor(-4.0271e-08, device='cuda:5')\n",
      "tensor(0., device='cuda:5')\n",
      "tensor(-1.5975e-05, device='cuda:5')\n",
      "tensor(-1.5975e-05, device='cuda:5')\n",
      "tensor(-1.3081e-06, device='cuda:5')\n",
      "tensor(-0.0003, device='cuda:5')\n",
      "tensor(2.2592e-10, device='cuda:5')\n",
      "tensor(7.4506e-10, device='cuda:5')\n"
     ]
    },
    {
     "data": {
      "application/vnd.jupyter.widget-view+json": {
       "model_id": "f99c78436cd04341b6f0c90c0e6264ec",
       "version_major": 2,
       "version_minor": 0
      },
      "text/plain": [
       "HBox(children=(FloatProgress(value=0.0, max=40.0), HTML(value='')))"
      ]
     },
     "metadata": {},
     "output_type": "display_data"
    },
    {
     "name": "stdout",
     "output_type": "stream",
     "text": [
      "\n",
      "epoch time: 118.79347062110901\n",
      "mean loss train: 0.21579862406253814, mean loss val: 0.15587729411125184\n",
      "accuracy train: 0.940825, accuracy val: 0.9243\n",
      "---------------------------------------------------------------------------------------------------\n",
      "Epoch: 34, Learning Rate: 0.0005\n",
      "\n"
     ]
    },
    {
     "data": {
      "application/vnd.jupyter.widget-view+json": {
       "model_id": "31ad339599e74bef8e4e8f3f8a886fc5",
       "version_major": 2,
       "version_minor": 0
      },
      "text/plain": [
       "HBox(children=(FloatProgress(value=0.0, max=625.0), HTML(value='')))"
      ]
     },
     "metadata": {},
     "output_type": "display_data"
    },
    {
     "name": "stdout",
     "output_type": "stream",
     "text": [
      "\n",
      "tensor(1.5252e-06, device='cuda:5')\n",
      "tensor(-3.5021e-07, device='cuda:5')\n",
      "tensor(8.1866e-05, device='cuda:5')\n",
      "tensor(8.1866e-05, device='cuda:5')\n",
      "tensor(-2.5395e-06, device='cuda:5')\n",
      "tensor(3.9105e-08, device='cuda:5')\n",
      "tensor(8.8567e-05, device='cuda:5')\n",
      "tensor(8.8567e-05, device='cuda:5')\n",
      "tensor(1.3127e-07, device='cuda:5')\n",
      "tensor(-2.0522e-08, device='cuda:5')\n",
      "tensor(-4.0345e-05, device='cuda:5')\n",
      "tensor(-4.0345e-05, device='cuda:5')\n",
      "tensor(-6.8032e-09, device='cuda:5')\n",
      "tensor(0., device='cuda:5')\n",
      "tensor(2.6173e-06, device='cuda:5')\n",
      "tensor(2.6173e-06, device='cuda:5')\n",
      "tensor(3.8210e-06, device='cuda:5')\n",
      "tensor(0.0006, device='cuda:5')\n",
      "tensor(-7.2254e-10, device='cuda:5')\n",
      "tensor(-1.7229e-09, device='cuda:5')\n"
     ]
    },
    {
     "data": {
      "application/vnd.jupyter.widget-view+json": {
       "model_id": "ea108020a8d04648939afddd58882774",
       "version_major": 2,
       "version_minor": 0
      },
      "text/plain": [
       "HBox(children=(FloatProgress(value=0.0, max=40.0), HTML(value='')))"
      ]
     },
     "metadata": {},
     "output_type": "display_data"
    },
    {
     "name": "stdout",
     "output_type": "stream",
     "text": [
      "\n",
      "epoch time: 121.37538766860962\n",
      "mean loss train: 0.21675888260602952, mean loss val: 0.18263735501766204\n",
      "accuracy train: 0.940575, accuracy val: 0.9268\n",
      "---------------------------------------------------------------------------------------------------\n",
      "Epoch: 35, Learning Rate: 0.0005\n",
      "\n"
     ]
    },
    {
     "data": {
      "application/vnd.jupyter.widget-view+json": {
       "model_id": "ab63d49a38d74358a965523edd9abad2",
       "version_major": 2,
       "version_minor": 0
      },
      "text/plain": [
       "HBox(children=(FloatProgress(value=0.0, max=625.0), HTML(value='')))"
      ]
     },
     "metadata": {},
     "output_type": "display_data"
    },
    {
     "name": "stdout",
     "output_type": "stream",
     "text": [
      "\n",
      "tensor(-1.0084e-08, device='cuda:5')\n",
      "tensor(4.2414e-08, device='cuda:5')\n",
      "tensor(6.8200e-06, device='cuda:5')\n",
      "tensor(6.8200e-06, device='cuda:5')\n",
      "tensor(4.8552e-08, device='cuda:5')\n",
      "tensor(1.2307e-08, device='cuda:5')\n",
      "tensor(-8.5772e-07, device='cuda:5')\n",
      "tensor(-8.5772e-07, device='cuda:5')\n",
      "tensor(1.1629e-08, device='cuda:5')\n",
      "tensor(1.7197e-08, device='cuda:5')\n",
      "tensor(-6.2052e-07, device='cuda:5')\n",
      "tensor(-6.2052e-07, device='cuda:5')\n",
      "tensor(3.1375e-09, device='cuda:5')\n",
      "tensor(0., device='cuda:5')\n",
      "tensor(-4.2847e-07, device='cuda:5')\n",
      "tensor(-4.2847e-07, device='cuda:5')\n",
      "tensor(2.9522e-07, device='cuda:5')\n",
      "tensor(-6.5670e-05, device='cuda:5')\n",
      "tensor(-5.1129e-10, device='cuda:5')\n",
      "tensor(-1.3970e-09, device='cuda:5')\n"
     ]
    },
    {
     "data": {
      "application/vnd.jupyter.widget-view+json": {
       "model_id": "ee0c67db2cfe4a5cb570c6fd7f5831ff",
       "version_major": 2,
       "version_minor": 0
      },
      "text/plain": [
       "HBox(children=(FloatProgress(value=0.0, max=40.0), HTML(value='')))"
      ]
     },
     "metadata": {},
     "output_type": "display_data"
    },
    {
     "name": "stdout",
     "output_type": "stream",
     "text": [
      "\n",
      "epoch time: 122.55945897102356\n",
      "mean loss train: 0.2163702826976776, mean loss val: 0.16780381360054017\n",
      "accuracy train: 0.9399, accuracy val: 0.9266\n",
      "---------------------------------------------------------------------------------------------------\n",
      "Epoch: 36, Learning Rate: 0.0005\n",
      "\n"
     ]
    },
    {
     "data": {
      "application/vnd.jupyter.widget-view+json": {
       "model_id": "93c58e9780094e1baa85fa7ecb065473",
       "version_major": 2,
       "version_minor": 0
      },
      "text/plain": [
       "HBox(children=(FloatProgress(value=0.0, max=625.0), HTML(value='')))"
      ]
     },
     "metadata": {},
     "output_type": "display_data"
    },
    {
     "name": "stdout",
     "output_type": "stream",
     "text": [
      "\n",
      "tensor(-3.9949e-06, device='cuda:5')\n",
      "tensor(2.4138e-07, device='cuda:5')\n",
      "tensor(0.0002, device='cuda:5')\n",
      "tensor(0.0002, device='cuda:5')\n",
      "tensor(4.9951e-08, device='cuda:5')\n",
      "tensor(-5.8615e-08, device='cuda:5')\n",
      "tensor(3.3929e-05, device='cuda:5')\n",
      "tensor(3.3929e-05, device='cuda:5')\n",
      "tensor(-1.5202e-08, device='cuda:5')\n",
      "tensor(2.1035e-07, device='cuda:5')\n",
      "tensor(-1.0243e-05, device='cuda:5')\n",
      "tensor(-1.0243e-05, device='cuda:5')\n",
      "tensor(6.1827e-09, device='cuda:5')\n",
      "tensor(0., device='cuda:5')\n",
      "tensor(-2.8537e-07, device='cuda:5')\n",
      "tensor(-2.8537e-07, device='cuda:5')\n",
      "tensor(4.4401e-07, device='cuda:5')\n",
      "tensor(-0.0005, device='cuda:5')\n",
      "tensor(-2.5785e-10, device='cuda:5')\n",
      "tensor(-7.1013e-10, device='cuda:5')\n"
     ]
    },
    {
     "data": {
      "application/vnd.jupyter.widget-view+json": {
       "model_id": "1a757f550bd84da68cae6b9dacfc226f",
       "version_major": 2,
       "version_minor": 0
      },
      "text/plain": [
       "HBox(children=(FloatProgress(value=0.0, max=40.0), HTML(value='')))"
      ]
     },
     "metadata": {},
     "output_type": "display_data"
    },
    {
     "name": "stdout",
     "output_type": "stream",
     "text": [
      "\n",
      "epoch time: 122.10243606567383\n",
      "mean loss train: 0.22195464908480644, mean loss val: 0.1573195282459259\n",
      "accuracy train: 0.939325, accuracy val: 0.9283\n",
      "---------------------------------------------------------------------------------------------------\n",
      "Epoch: 37, Learning Rate: 0.0005\n",
      "\n"
     ]
    },
    {
     "data": {
      "application/vnd.jupyter.widget-view+json": {
       "model_id": "e8b1d08d8439429fa545abbbabdd4386",
       "version_major": 2,
       "version_minor": 0
      },
      "text/plain": [
       "HBox(children=(FloatProgress(value=0.0, max=625.0), HTML(value='')))"
      ]
     },
     "metadata": {},
     "output_type": "display_data"
    },
    {
     "name": "stdout",
     "output_type": "stream",
     "text": [
      "\n",
      "tensor(-4.2100e-06, device='cuda:5')\n",
      "tensor(-1.5286e-07, device='cuda:5')\n",
      "tensor(7.9691e-05, device='cuda:5')\n",
      "tensor(7.9691e-05, device='cuda:5')\n",
      "tensor(-7.3056e-07, device='cuda:5')\n",
      "tensor(2.8826e-08, device='cuda:5')\n",
      "tensor(-2.6981e-05, device='cuda:5')\n",
      "tensor(-2.6981e-05, device='cuda:5')\n",
      "tensor(1.0101e-07, device='cuda:5')\n",
      "tensor(-7.0296e-08, device='cuda:5')\n",
      "tensor(-5.8753e-05, device='cuda:5')\n",
      "tensor(-5.8753e-05, device='cuda:5')\n",
      "tensor(2.9875e-08, device='cuda:5')\n",
      "tensor(0., device='cuda:5')\n",
      "tensor(-9.4148e-06, device='cuda:5')\n",
      "tensor(-9.4148e-06, device='cuda:5')\n",
      "tensor(1.7548e-07, device='cuda:5')\n",
      "tensor(-0.0004, device='cuda:5')\n",
      "tensor(7.2202e-11, device='cuda:5')\n",
      "tensor(-1.1642e-10, device='cuda:5')\n"
     ]
    },
    {
     "data": {
      "application/vnd.jupyter.widget-view+json": {
       "model_id": "cb33dc767b7d4c61b4fc337729cf50b7",
       "version_major": 2,
       "version_minor": 0
      },
      "text/plain": [
       "HBox(children=(FloatProgress(value=0.0, max=40.0), HTML(value='')))"
      ]
     },
     "metadata": {},
     "output_type": "display_data"
    },
    {
     "name": "stdout",
     "output_type": "stream",
     "text": [
      "\n",
      "epoch time: 124.0476610660553\n",
      "mean loss train: 0.2133671688079834, mean loss val: 0.17516095983982086\n",
      "accuracy train: 0.9412, accuracy val: 0.9229\n",
      "---------------------------------------------------------------------------------------------------\n",
      "Epoch: 38, Learning Rate: 0.0005\n",
      "\n"
     ]
    },
    {
     "data": {
      "application/vnd.jupyter.widget-view+json": {
       "model_id": "e9d9a7305a924ab889c4677c4f9b5bdb",
       "version_major": 2,
       "version_minor": 0
      },
      "text/plain": [
       "HBox(children=(FloatProgress(value=0.0, max=625.0), HTML(value='')))"
      ]
     },
     "metadata": {},
     "output_type": "display_data"
    },
    {
     "name": "stdout",
     "output_type": "stream",
     "text": [
      "\n",
      "tensor(1.3551e-05, device='cuda:5')\n",
      "tensor(-7.4446e-08, device='cuda:5')\n",
      "tensor(4.6236e-05, device='cuda:5')\n",
      "tensor(4.6236e-05, device='cuda:5')\n",
      "tensor(-5.5200e-07, device='cuda:5')\n",
      "tensor(-1.5642e-07, device='cuda:5')\n",
      "tensor(4.1214e-05, device='cuda:5')\n",
      "tensor(4.1214e-05, device='cuda:5')\n",
      "tensor(-8.5852e-08, device='cuda:5')\n",
      "tensor(2.9947e-07, device='cuda:5')\n",
      "tensor(5.8930e-05, device='cuda:5')\n",
      "tensor(5.8930e-05, device='cuda:5')\n",
      "tensor(-2.0227e-08, device='cuda:5')\n",
      "tensor(0., device='cuda:5')\n",
      "tensor(5.6367e-06, device='cuda:5')\n",
      "tensor(5.6367e-06, device='cuda:5')\n",
      "tensor(4.0634e-07, device='cuda:5')\n",
      "tensor(-0.0003, device='cuda:5')\n",
      "tensor(-6.7360e-10, device='cuda:5')\n",
      "tensor(-1.5832e-09, device='cuda:5')\n"
     ]
    },
    {
     "data": {
      "application/vnd.jupyter.widget-view+json": {
       "model_id": "651d370859714e029712f7bbbb1e5d37",
       "version_major": 2,
       "version_minor": 0
      },
      "text/plain": [
       "HBox(children=(FloatProgress(value=0.0, max=40.0), HTML(value='')))"
      ]
     },
     "metadata": {},
     "output_type": "display_data"
    },
    {
     "name": "stdout",
     "output_type": "stream",
     "text": [
      "\n",
      "epoch time: 123.52318739891052\n",
      "mean loss train: 0.2098472335934639, mean loss val: 0.1915318193912506\n",
      "accuracy train: 0.942475, accuracy val: 0.9222\n",
      "---------------------------------------------------------------------------------------------------\n",
      "Epoch: 39, Learning Rate: 0.0005\n",
      "\n"
     ]
    },
    {
     "data": {
      "application/vnd.jupyter.widget-view+json": {
       "model_id": "137ed94e51b34d788e5000cd9a61d14e",
       "version_major": 2,
       "version_minor": 0
      },
      "text/plain": [
       "HBox(children=(FloatProgress(value=0.0, max=625.0), HTML(value='')))"
      ]
     },
     "metadata": {},
     "output_type": "display_data"
    },
    {
     "name": "stdout",
     "output_type": "stream",
     "text": [
      "\n",
      "tensor(-7.1676e-06, device='cuda:5')\n",
      "tensor(6.2460e-07, device='cuda:5')\n",
      "tensor(-0.0003, device='cuda:5')\n",
      "tensor(-0.0003, device='cuda:5')\n",
      "tensor(7.0527e-06, device='cuda:5')\n",
      "tensor(-7.7297e-07, device='cuda:5')\n",
      "tensor(0.0001, device='cuda:5')\n",
      "tensor(0.0001, device='cuda:5')\n",
      "tensor(-5.8552e-08, device='cuda:5')\n",
      "tensor(1.0250e-07, device='cuda:5')\n",
      "tensor(4.2563e-05, device='cuda:5')\n",
      "tensor(4.2563e-05, device='cuda:5')\n",
      "tensor(-4.8899e-09, device='cuda:5')\n",
      "tensor(0., device='cuda:5')\n",
      "tensor(-1.3754e-05, device='cuda:5')\n",
      "tensor(-1.3754e-05, device='cuda:5')\n",
      "tensor(-6.5638e-07, device='cuda:5')\n",
      "tensor(-0.0003, device='cuda:5')\n",
      "tensor(2.5457e-10, device='cuda:5')\n",
      "tensor(6.0536e-10, device='cuda:5')\n"
     ]
    },
    {
     "data": {
      "application/vnd.jupyter.widget-view+json": {
       "model_id": "82cb305ecafb421994f0f200d04a30af",
       "version_major": 2,
       "version_minor": 0
      },
      "text/plain": [
       "HBox(children=(FloatProgress(value=0.0, max=40.0), HTML(value='')))"
      ]
     },
     "metadata": {},
     "output_type": "display_data"
    },
    {
     "name": "stdout",
     "output_type": "stream",
     "text": [
      "\n",
      "epoch time: 124.20708417892456\n",
      "mean loss train: 0.21356971698999405, mean loss val: 0.16860026378631593\n",
      "accuracy train: 0.9409, accuracy val: 0.9197\n",
      "---------------------------------------------------------------------------------------------------\n",
      "Epoch: 40, Learning Rate: 0.0005\n",
      "\n"
     ]
    },
    {
     "data": {
      "application/vnd.jupyter.widget-view+json": {
       "model_id": "d504ad63f94c44f9897c9d39ff45ca55",
       "version_major": 2,
       "version_minor": 0
      },
      "text/plain": [
       "HBox(children=(FloatProgress(value=0.0, max=625.0), HTML(value='')))"
      ]
     },
     "metadata": {},
     "output_type": "display_data"
    },
    {
     "name": "stdout",
     "output_type": "stream",
     "text": [
      "\n",
      "tensor(-2.2216e-05, device='cuda:5')\n",
      "tensor(2.5082e-07, device='cuda:5')\n",
      "tensor(6.8605e-05, device='cuda:5')\n",
      "tensor(6.8605e-05, device='cuda:5')\n",
      "tensor(-1.2973e-06, device='cuda:5')\n",
      "tensor(-2.8720e-07, device='cuda:5')\n",
      "tensor(0.0003, device='cuda:5')\n",
      "tensor(0.0003, device='cuda:5')\n",
      "tensor(1.3493e-07, device='cuda:5')\n",
      "tensor(-3.6306e-07, device='cuda:5')\n",
      "tensor(3.4589e-06, device='cuda:5')\n",
      "tensor(3.4589e-06, device='cuda:5')\n",
      "tensor(1.6872e-08, device='cuda:5')\n",
      "tensor(0., device='cuda:5')\n",
      "tensor(-2.2125e-06, device='cuda:5')\n",
      "tensor(-2.2125e-06, device='cuda:5')\n",
      "tensor(-1.7187e-06, device='cuda:5')\n",
      "tensor(-0.0006, device='cuda:5')\n",
      "tensor(-1.8556e-10, device='cuda:5')\n",
      "tensor(-3.7253e-10, device='cuda:5')\n"
     ]
    },
    {
     "data": {
      "application/vnd.jupyter.widget-view+json": {
       "model_id": "76c614ecc40745f894cdb5777761666b",
       "version_major": 2,
       "version_minor": 0
      },
      "text/plain": [
       "HBox(children=(FloatProgress(value=0.0, max=40.0), HTML(value='')))"
      ]
     },
     "metadata": {},
     "output_type": "display_data"
    },
    {
     "name": "stdout",
     "output_type": "stream",
     "text": [
      "\n",
      "epoch time: 121.28259563446045\n",
      "mean loss train: 0.21162947289943695, mean loss val: 0.17881500799655914\n",
      "accuracy train: 0.9414, accuracy val: 0.9259\n",
      "---------------------------------------------------------------------------------------------------\n",
      "Epoch: 41, Learning Rate: 0.0005\n",
      "\n"
     ]
    },
    {
     "data": {
      "application/vnd.jupyter.widget-view+json": {
       "model_id": "8b1b662eb3bb4ba681c8bc197cfcc164",
       "version_major": 2,
       "version_minor": 0
      },
      "text/plain": [
       "HBox(children=(FloatProgress(value=0.0, max=625.0), HTML(value='')))"
      ]
     },
     "metadata": {},
     "output_type": "display_data"
    },
    {
     "name": "stdout",
     "output_type": "stream",
     "text": [
      "\n",
      "tensor(-1.9514e-05, device='cuda:5')\n",
      "tensor(1.2918e-06, device='cuda:5')\n",
      "tensor(-0.0019, device='cuda:5')\n",
      "tensor(-0.0019, device='cuda:5')\n",
      "tensor(-8.8231e-06, device='cuda:5')\n",
      "tensor(-1.5171e-06, device='cuda:5')\n",
      "tensor(4.4952e-06, device='cuda:5')\n",
      "tensor(4.4952e-06, device='cuda:5')\n",
      "tensor(-2.6632e-08, device='cuda:5')\n",
      "tensor(-3.4000e-08, device='cuda:5')\n",
      "tensor(-1.3995e-05, device='cuda:5')\n",
      "tensor(-1.3995e-05, device='cuda:5')\n",
      "tensor(-9.9117e-09, device='cuda:5')\n",
      "tensor(0., device='cuda:5')\n",
      "tensor(6.1271e-07, device='cuda:5')\n",
      "tensor(6.1271e-07, device='cuda:5')\n",
      "tensor(1.3887e-06, device='cuda:5')\n",
      "tensor(-0.0001, device='cuda:5')\n",
      "tensor(-4.1768e-10, device='cuda:5')\n",
      "tensor(-1.3039e-09, device='cuda:5')\n"
     ]
    },
    {
     "data": {
      "application/vnd.jupyter.widget-view+json": {
       "model_id": "1735c04fddb44f3ea71de44d8984ba22",
       "version_major": 2,
       "version_minor": 0
      },
      "text/plain": [
       "HBox(children=(FloatProgress(value=0.0, max=40.0), HTML(value='')))"
      ]
     },
     "metadata": {},
     "output_type": "display_data"
    },
    {
     "name": "stdout",
     "output_type": "stream",
     "text": [
      "\n",
      "epoch time: 122.54270839691162\n",
      "mean loss train: 0.21201575956940652, mean loss val: 0.1814772590637207\n",
      "accuracy train: 0.94155, accuracy val: 0.9251\n",
      "---------------------------------------------------------------------------------------------------\n",
      "Epoch: 42, Learning Rate: 0.0005\n",
      "\n"
     ]
    },
    {
     "data": {
      "application/vnd.jupyter.widget-view+json": {
       "model_id": "f6b5b0aea94d47debce02c09dbc57b43",
       "version_major": 2,
       "version_minor": 0
      },
      "text/plain": [
       "HBox(children=(FloatProgress(value=0.0, max=625.0), HTML(value='')))"
      ]
     },
     "metadata": {},
     "output_type": "display_data"
    },
    {
     "name": "stdout",
     "output_type": "stream",
     "text": [
      "\n",
      "tensor(4.1174e-07, device='cuda:5')\n",
      "tensor(-4.2161e-08, device='cuda:5')\n",
      "tensor(-4.3059e-05, device='cuda:5')\n",
      "tensor(-4.3059e-05, device='cuda:5')\n",
      "tensor(1.0580e-06, device='cuda:5')\n",
      "tensor(-1.5886e-08, device='cuda:5')\n",
      "tensor(3.4496e-06, device='cuda:5')\n",
      "tensor(3.4496e-06, device='cuda:5')\n",
      "tensor(4.8565e-08, device='cuda:5')\n",
      "tensor(2.0218e-07, device='cuda:5')\n",
      "tensor(4.3324e-06, device='cuda:5')\n",
      "tensor(4.3324e-06, device='cuda:5')\n",
      "tensor(-6.0912e-09, device='cuda:5')\n",
      "tensor(0., device='cuda:5')\n",
      "tensor(1.8690e-06, device='cuda:5')\n",
      "tensor(1.8690e-06, device='cuda:5')\n",
      "tensor(3.5820e-07, device='cuda:5')\n",
      "tensor(-0.0001, device='cuda:5')\n",
      "tensor(-1.4562e-10, device='cuda:5')\n",
      "tensor(-6.7521e-10, device='cuda:5')\n"
     ]
    },
    {
     "data": {
      "application/vnd.jupyter.widget-view+json": {
       "model_id": "b9ab3b2e1861403fb45b03acf5c75e9b",
       "version_major": 2,
       "version_minor": 0
      },
      "text/plain": [
       "HBox(children=(FloatProgress(value=0.0, max=40.0), HTML(value='')))"
      ]
     },
     "metadata": {},
     "output_type": "display_data"
    },
    {
     "name": "stdout",
     "output_type": "stream",
     "text": [
      "\n",
      "epoch time: 120.98487615585327\n",
      "mean loss train: 0.21030313765406608, mean loss val: 0.1834169473171234\n",
      "accuracy train: 0.941775, accuracy val: 0.9265\n",
      "---------------------------------------------------------------------------------------------------\n",
      "Epoch: 43, Learning Rate: 0.0005\n",
      "\n"
     ]
    },
    {
     "data": {
      "application/vnd.jupyter.widget-view+json": {
       "model_id": "77fe110d1dd141e9a63ab2db18dba291",
       "version_major": 2,
       "version_minor": 0
      },
      "text/plain": [
       "HBox(children=(FloatProgress(value=0.0, max=625.0), HTML(value='')))"
      ]
     },
     "metadata": {},
     "output_type": "display_data"
    },
    {
     "name": "stdout",
     "output_type": "stream",
     "text": [
      "\n",
      "tensor(2.0204e-05, device='cuda:5')\n",
      "tensor(2.7184e-06, device='cuda:5')\n",
      "tensor(-0.0002, device='cuda:5')\n",
      "tensor(-0.0002, device='cuda:5')\n",
      "tensor(-7.8470e-06, device='cuda:5')\n",
      "tensor(-4.5086e-07, device='cuda:5')\n",
      "tensor(0.0002, device='cuda:5')\n",
      "tensor(0.0002, device='cuda:5')\n",
      "tensor(-5.2670e-07, device='cuda:5')\n",
      "tensor(-1.6072e-08, device='cuda:5')\n",
      "tensor(4.6072e-05, device='cuda:5')\n",
      "tensor(4.6072e-05, device='cuda:5')\n",
      "tensor(2.0213e-08, device='cuda:5')\n",
      "tensor(0., device='cuda:5')\n",
      "tensor(-6.4099e-06, device='cuda:5')\n",
      "tensor(-6.4099e-06, device='cuda:5')\n",
      "tensor(8.4788e-07, device='cuda:5')\n",
      "tensor(-0.0003, device='cuda:5')\n",
      "tensor(-2.7212e-10, device='cuda:5')\n",
      "tensor(-3.7253e-10, device='cuda:5')\n"
     ]
    },
    {
     "data": {
      "application/vnd.jupyter.widget-view+json": {
       "model_id": "f333a97483bd457ab10f7b3a2a8f41bb",
       "version_major": 2,
       "version_minor": 0
      },
      "text/plain": [
       "HBox(children=(FloatProgress(value=0.0, max=40.0), HTML(value='')))"
      ]
     },
     "metadata": {},
     "output_type": "display_data"
    },
    {
     "name": "stdout",
     "output_type": "stream",
     "text": [
      "\n",
      "epoch time: 120.77315640449524\n",
      "mean loss train: 0.20905363156199455, mean loss val: 0.17727021954059602\n",
      "accuracy train: 0.942775, accuracy val: 0.927\n",
      "---------------------------------------------------------------------------------------------------\n",
      "Epoch: 44, Learning Rate: 0.0005\n",
      "\n"
     ]
    },
    {
     "data": {
      "application/vnd.jupyter.widget-view+json": {
       "model_id": "1e3fe9a9ce6649029cb34519d32d1655",
       "version_major": 2,
       "version_minor": 0
      },
      "text/plain": [
       "HBox(children=(FloatProgress(value=0.0, max=625.0), HTML(value='')))"
      ]
     },
     "metadata": {},
     "output_type": "display_data"
    },
    {
     "name": "stdout",
     "output_type": "stream",
     "text": [
      "\n",
      "tensor(1.0679e-06, device='cuda:5')\n",
      "tensor(-1.5712e-08, device='cuda:5')\n",
      "tensor(7.3778e-06, device='cuda:5')\n",
      "tensor(7.3778e-06, device='cuda:5')\n",
      "tensor(-1.6612e-07, device='cuda:5')\n",
      "tensor(-1.9696e-08, device='cuda:5')\n",
      "tensor(-3.9450e-06, device='cuda:5')\n",
      "tensor(-3.9450e-06, device='cuda:5')\n",
      "tensor(4.4012e-09, device='cuda:5')\n",
      "tensor(4.1273e-08, device='cuda:5')\n",
      "tensor(-1.6855e-05, device='cuda:5')\n",
      "tensor(-1.6855e-05, device='cuda:5')\n",
      "tensor(-2.2626e-09, device='cuda:5')\n",
      "tensor(0., device='cuda:5')\n",
      "tensor(1.1720e-06, device='cuda:5')\n",
      "tensor(1.1720e-06, device='cuda:5')\n",
      "tensor(2.5321e-07, device='cuda:5')\n",
      "tensor(-0.0002, device='cuda:5')\n",
      "tensor(-4.9466e-10, device='cuda:5')\n",
      "tensor(-1.0245e-09, device='cuda:5')\n"
     ]
    },
    {
     "data": {
      "application/vnd.jupyter.widget-view+json": {
       "model_id": "db3cbdefc87649ceab7aff4ad80471ab",
       "version_major": 2,
       "version_minor": 0
      },
      "text/plain": [
       "HBox(children=(FloatProgress(value=0.0, max=40.0), HTML(value='')))"
      ]
     },
     "metadata": {},
     "output_type": "display_data"
    },
    {
     "name": "stdout",
     "output_type": "stream",
     "text": [
      "\n",
      "epoch time: 115.13415241241455\n",
      "mean loss train: 0.2106868181705475, mean loss val: 0.18210482182502746\n",
      "accuracy train: 0.942225, accuracy val: 0.9275\n",
      "---------------------------------------------------------------------------------------------------\n",
      "Epoch: 45, Learning Rate: 0.0005\n",
      "\n"
     ]
    },
    {
     "data": {
      "application/vnd.jupyter.widget-view+json": {
       "model_id": "b6ebc64d2f9c42d1a6d9c2468a13a625",
       "version_major": 2,
       "version_minor": 0
      },
      "text/plain": [
       "HBox(children=(FloatProgress(value=0.0, max=625.0), HTML(value='')))"
      ]
     },
     "metadata": {},
     "output_type": "display_data"
    },
    {
     "name": "stdout",
     "output_type": "stream",
     "text": [
      "\n",
      "tensor(5.1299e-05, device='cuda:5')\n",
      "tensor(3.3326e-06, device='cuda:5')\n",
      "tensor(-0.0003, device='cuda:5')\n",
      "tensor(-0.0003, device='cuda:5')\n",
      "tensor(4.3569e-05, device='cuda:5')\n",
      "tensor(8.3050e-08, device='cuda:5')\n",
      "tensor(7.6741e-05, device='cuda:5')\n",
      "tensor(7.6741e-05, device='cuda:5')\n",
      "tensor(-1.7387e-07, device='cuda:5')\n",
      "tensor(-3.2261e-07, device='cuda:5')\n",
      "tensor(0.0006, device='cuda:5')\n",
      "tensor(0.0006, device='cuda:5')\n",
      "tensor(5.4109e-08, device='cuda:5')\n",
      "tensor(0., device='cuda:5')\n",
      "tensor(-6.1066e-07, device='cuda:5')\n",
      "tensor(-6.1066e-07, device='cuda:5')\n",
      "tensor(6.9215e-07, device='cuda:5')\n",
      "tensor(-5.8442e-05, device='cuda:5')\n",
      "tensor(-1.7268e-10, device='cuda:5')\n",
      "tensor(9.3132e-11, device='cuda:5')\n"
     ]
    },
    {
     "data": {
      "application/vnd.jupyter.widget-view+json": {
       "model_id": "3e40000cbc7341e5b0fe5599f1a09637",
       "version_major": 2,
       "version_minor": 0
      },
      "text/plain": [
       "HBox(children=(FloatProgress(value=0.0, max=40.0), HTML(value='')))"
      ]
     },
     "metadata": {},
     "output_type": "display_data"
    },
    {
     "name": "stdout",
     "output_type": "stream",
     "text": [
      "\n",
      "epoch time: 113.37583899497986\n",
      "mean loss train: 0.20702052055001258, mean loss val: 0.18289075145721437\n",
      "accuracy train: 0.9425, accuracy val: 0.925\n",
      "---------------------------------------------------------------------------------------------------\n",
      "Epoch: 46, Learning Rate: 0.0005\n",
      "\n"
     ]
    },
    {
     "data": {
      "application/vnd.jupyter.widget-view+json": {
       "model_id": "2e57ec10913d419abacc5b32b818e07d",
       "version_major": 2,
       "version_minor": 0
      },
      "text/plain": [
       "HBox(children=(FloatProgress(value=0.0, max=625.0), HTML(value='')))"
      ]
     },
     "metadata": {},
     "output_type": "display_data"
    },
    {
     "name": "stdout",
     "output_type": "stream",
     "text": [
      "\n",
      "tensor(-7.0110e-05, device='cuda:5')\n",
      "tensor(1.7144e-06, device='cuda:5')\n",
      "tensor(0.0008, device='cuda:5')\n",
      "tensor(0.0008, device='cuda:5')\n",
      "tensor(-3.8544e-06, device='cuda:5')\n",
      "tensor(8.7248e-07, device='cuda:5')\n",
      "tensor(-5.9797e-05, device='cuda:5')\n",
      "tensor(-5.9797e-05, device='cuda:5')\n",
      "tensor(-8.6819e-08, device='cuda:5')\n",
      "tensor(-1.0088e-06, device='cuda:5')\n",
      "tensor(0.0002, device='cuda:5')\n",
      "tensor(0.0002, device='cuda:5')\n",
      "tensor(3.5797e-09, device='cuda:5')\n",
      "tensor(0., device='cuda:5')\n",
      "tensor(2.6910e-06, device='cuda:5')\n",
      "tensor(2.6910e-06, device='cuda:5')\n",
      "tensor(-1.0869e-06, device='cuda:5')\n",
      "tensor(0.0002, device='cuda:5')\n",
      "tensor(-5.1432e-10, device='cuda:5')\n",
      "tensor(-1.5832e-09, device='cuda:5')\n"
     ]
    },
    {
     "data": {
      "application/vnd.jupyter.widget-view+json": {
       "model_id": "622725b48bf149e6ae1868b39ce02c7e",
       "version_major": 2,
       "version_minor": 0
      },
      "text/plain": [
       "HBox(children=(FloatProgress(value=0.0, max=40.0), HTML(value='')))"
      ]
     },
     "metadata": {},
     "output_type": "display_data"
    },
    {
     "name": "stdout",
     "output_type": "stream",
     "text": [
      "\n",
      "epoch time: 114.0607283115387\n",
      "mean loss train: 0.20978831839561463, mean loss val: 0.18450402886867523\n",
      "accuracy train: 0.942525, accuracy val: 0.9232\n",
      "---------------------------------------------------------------------------------------------------\n",
      "Epoch: 47, Learning Rate: 0.0005\n",
      "\n"
     ]
    },
    {
     "data": {
      "application/vnd.jupyter.widget-view+json": {
       "model_id": "2489737d167d40489df2656f986eb182",
       "version_major": 2,
       "version_minor": 0
      },
      "text/plain": [
       "HBox(children=(FloatProgress(value=0.0, max=625.0), HTML(value='')))"
      ]
     },
     "metadata": {},
     "output_type": "display_data"
    },
    {
     "name": "stdout",
     "output_type": "stream",
     "text": [
      "\n",
      "tensor(2.9069e-06, device='cuda:5')\n",
      "tensor(8.2725e-08, device='cuda:5')\n",
      "tensor(4.2620e-05, device='cuda:5')\n",
      "tensor(4.2620e-05, device='cuda:5')\n",
      "tensor(-9.6222e-07, device='cuda:5')\n",
      "tensor(-5.8023e-07, device='cuda:5')\n",
      "tensor(-5.4393e-05, device='cuda:5')\n",
      "tensor(-5.4393e-05, device='cuda:5')\n",
      "tensor(6.8698e-08, device='cuda:5')\n",
      "tensor(2.8262e-07, device='cuda:5')\n",
      "tensor(-1.1032e-05, device='cuda:5')\n",
      "tensor(-1.1032e-05, device='cuda:5')\n",
      "tensor(4.7435e-09, device='cuda:5')\n",
      "tensor(0., device='cuda:5')\n",
      "tensor(2.7030e-06, device='cuda:5')\n",
      "tensor(2.7030e-06, device='cuda:5')\n",
      "tensor(-3.5318e-07, device='cuda:5')\n",
      "tensor(-2.5285e-05, device='cuda:5')\n",
      "tensor(3.4512e-10, device='cuda:5')\n",
      "tensor(9.3132e-10, device='cuda:5')\n"
     ]
    },
    {
     "data": {
      "application/vnd.jupyter.widget-view+json": {
       "model_id": "76ec3d42ff63495f8244282112bb4584",
       "version_major": 2,
       "version_minor": 0
      },
      "text/plain": [
       "HBox(children=(FloatProgress(value=0.0, max=40.0), HTML(value='')))"
      ]
     },
     "metadata": {},
     "output_type": "display_data"
    },
    {
     "name": "stdout",
     "output_type": "stream",
     "text": [
      "\n",
      "epoch time: 112.87402820587158\n",
      "mean loss train: 0.20902598098516464, mean loss val: 0.17516557242870331\n",
      "accuracy train: 0.94235, accuracy val: 0.9252\n",
      "---------------------------------------------------------------------------------------------------\n",
      "Epoch: 48, Learning Rate: 0.0005\n",
      "\n"
     ]
    },
    {
     "data": {
      "application/vnd.jupyter.widget-view+json": {
       "model_id": "c13f35f9fa664fbb985cfe71a2d4dc84",
       "version_major": 2,
       "version_minor": 0
      },
      "text/plain": [
       "HBox(children=(FloatProgress(value=0.0, max=625.0), HTML(value='')))"
      ]
     },
     "metadata": {},
     "output_type": "display_data"
    },
    {
     "name": "stdout",
     "output_type": "stream",
     "text": [
      "\n",
      "tensor(-3.7245e-07, device='cuda:5')\n",
      "tensor(-7.6298e-08, device='cuda:5')\n",
      "tensor(1.3357e-05, device='cuda:5')\n",
      "tensor(1.3357e-05, device='cuda:5')\n",
      "tensor(1.2742e-07, device='cuda:5')\n",
      "tensor(-2.5786e-08, device='cuda:5')\n",
      "tensor(7.0472e-07, device='cuda:5')\n",
      "tensor(7.0472e-07, device='cuda:5')\n",
      "tensor(1.3289e-08, device='cuda:5')\n",
      "tensor(3.4879e-08, device='cuda:5')\n",
      "tensor(-5.9483e-06, device='cuda:5')\n",
      "tensor(-5.9483e-06, device='cuda:5')\n",
      "tensor(1.0469e-09, device='cuda:5')\n",
      "tensor(0., device='cuda:5')\n",
      "tensor(1.3801e-07, device='cuda:5')\n",
      "tensor(1.3801e-07, device='cuda:5')\n",
      "tensor(-1.0214e-06, device='cuda:5')\n",
      "tensor(-3.6822e-05, device='cuda:5')\n",
      "tensor(8.9333e-11, device='cuda:5')\n",
      "tensor(-2.3283e-11, device='cuda:5')\n"
     ]
    },
    {
     "data": {
      "application/vnd.jupyter.widget-view+json": {
       "model_id": "9c058578dc804339b271db63e1804232",
       "version_major": 2,
       "version_minor": 0
      },
      "text/plain": [
       "HBox(children=(FloatProgress(value=0.0, max=40.0), HTML(value='')))"
      ]
     },
     "metadata": {},
     "output_type": "display_data"
    },
    {
     "name": "stdout",
     "output_type": "stream",
     "text": [
      "\n",
      "epoch time: 111.8842146396637\n",
      "mean loss train: 0.20718317199349404, mean loss val: 0.1751864387512207\n",
      "accuracy train: 0.943375, accuracy val: 0.927\n",
      "---------------------------------------------------------------------------------------------------\n",
      "Epoch: 49, Learning Rate: 0.0005\n",
      "\n"
     ]
    },
    {
     "data": {
      "application/vnd.jupyter.widget-view+json": {
       "model_id": "ad6871a4edba4196844aca86fc9ac230",
       "version_major": 2,
       "version_minor": 0
      },
      "text/plain": [
       "HBox(children=(FloatProgress(value=0.0, max=625.0), HTML(value='')))"
      ]
     },
     "metadata": {},
     "output_type": "display_data"
    },
    {
     "name": "stdout",
     "output_type": "stream",
     "text": [
      "\n",
      "tensor(-1.1945e-07, device='cuda:5')\n",
      "tensor(1.9404e-09, device='cuda:5')\n",
      "tensor(1.0720e-07, device='cuda:5')\n",
      "tensor(1.0720e-07, device='cuda:5')\n",
      "tensor(-4.7228e-08, device='cuda:5')\n",
      "tensor(-7.2792e-08, device='cuda:5')\n",
      "tensor(9.1025e-07, device='cuda:5')\n",
      "tensor(9.1025e-07, device='cuda:5')\n",
      "tensor(-8.3654e-09, device='cuda:5')\n",
      "tensor(3.8381e-08, device='cuda:5')\n",
      "tensor(-5.9780e-06, device='cuda:5')\n",
      "tensor(-5.9780e-06, device='cuda:5')\n",
      "tensor(1.3953e-09, device='cuda:5')\n",
      "tensor(0., device='cuda:5')\n",
      "tensor(-4.9129e-07, device='cuda:5')\n",
      "tensor(-4.9129e-07, device='cuda:5')\n",
      "tensor(5.7381e-07, device='cuda:5')\n",
      "tensor(-3.3530e-05, device='cuda:5')\n",
      "tensor(-2.6811e-10, device='cuda:5')\n",
      "tensor(-7.6834e-10, device='cuda:5')\n"
     ]
    },
    {
     "data": {
      "application/vnd.jupyter.widget-view+json": {
       "model_id": "fbf989c9ccc74e2f81ca8f29b09a8378",
       "version_major": 2,
       "version_minor": 0
      },
      "text/plain": [
       "HBox(children=(FloatProgress(value=0.0, max=40.0), HTML(value='')))"
      ]
     },
     "metadata": {},
     "output_type": "display_data"
    },
    {
     "name": "stdout",
     "output_type": "stream",
     "text": [
      "\n",
      "epoch time: 114.5448739528656\n",
      "mean loss train: 0.20761576303839682, mean loss val: 0.18353377661705017\n",
      "accuracy train: 0.94295, accuracy val: 0.9276\n",
      "---------------------------------------------------------------------------------------------------\n",
      "Epoch: 50, Learning Rate: 0.00025\n",
      "\n"
     ]
    },
    {
     "data": {
      "application/vnd.jupyter.widget-view+json": {
       "model_id": "269ed7ae248d4f6e91074e220e30d2f4",
       "version_major": 2,
       "version_minor": 0
      },
      "text/plain": [
       "HBox(children=(FloatProgress(value=0.0, max=625.0), HTML(value='')))"
      ]
     },
     "metadata": {},
     "output_type": "display_data"
    },
    {
     "name": "stdout",
     "output_type": "stream",
     "text": [
      "\n",
      "tensor(-2.8450e-07, device='cuda:5')\n",
      "tensor(-4.2146e-08, device='cuda:5')\n",
      "tensor(-3.0313e-05, device='cuda:5')\n",
      "tensor(-3.0313e-05, device='cuda:5')\n",
      "tensor(-3.4005e-07, device='cuda:5')\n",
      "tensor(1.2994e-07, device='cuda:5')\n",
      "tensor(-7.6232e-05, device='cuda:5')\n",
      "tensor(-7.6232e-05, device='cuda:5')\n",
      "tensor(-1.5478e-07, device='cuda:5')\n",
      "tensor(3.4577e-07, device='cuda:5')\n",
      "tensor(8.6516e-05, device='cuda:5')\n",
      "tensor(8.6516e-05, device='cuda:5')\n",
      "tensor(2.2539e-08, device='cuda:5')\n",
      "tensor(0., device='cuda:5')\n",
      "tensor(-1.0323e-05, device='cuda:5')\n",
      "tensor(-1.0323e-05, device='cuda:5')\n",
      "tensor(1.0850e-06, device='cuda:5')\n",
      "tensor(0.0005, device='cuda:5')\n",
      "tensor(1.9759e-10, device='cuda:5')\n",
      "tensor(9.3132e-11, device='cuda:5')\n"
     ]
    },
    {
     "data": {
      "application/vnd.jupyter.widget-view+json": {
       "model_id": "515ddaf6c1894a5bb1b9e898d40a74d2",
       "version_major": 2,
       "version_minor": 0
      },
      "text/plain": [
       "HBox(children=(FloatProgress(value=0.0, max=40.0), HTML(value='')))"
      ]
     },
     "metadata": {},
     "output_type": "display_data"
    },
    {
     "name": "stdout",
     "output_type": "stream",
     "text": [
      "\n",
      "epoch time: 114.08099842071533\n",
      "mean loss train: 0.2010899284183979, mean loss val: 0.18876808133125306\n",
      "accuracy train: 0.9449, accuracy val: 0.9284\n",
      "---------------------------------------------------------------------------------------------------\n",
      "Epoch: 51, Learning Rate: 0.00025\n",
      "\n"
     ]
    },
    {
     "data": {
      "application/vnd.jupyter.widget-view+json": {
       "model_id": "25a3d2b42fae4f848d53792a1bc3a13d",
       "version_major": 2,
       "version_minor": 0
      },
      "text/plain": [
       "HBox(children=(FloatProgress(value=0.0, max=625.0), HTML(value='')))"
      ]
     },
     "metadata": {},
     "output_type": "display_data"
    },
    {
     "name": "stdout",
     "output_type": "stream",
     "text": [
      "\n",
      "tensor(3.1010e-06, device='cuda:5')\n",
      "tensor(1.4741e-07, device='cuda:5')\n",
      "tensor(-2.4088e-05, device='cuda:5')\n",
      "tensor(-2.4088e-05, device='cuda:5')\n",
      "tensor(-2.8050e-06, device='cuda:5')\n",
      "tensor(-3.0432e-07, device='cuda:5')\n",
      "tensor(-0.0001, device='cuda:5')\n",
      "tensor(-0.0001, device='cuda:5')\n",
      "tensor(1.2545e-08, device='cuda:5')\n",
      "tensor(-1.1515e-06, device='cuda:5')\n",
      "tensor(-3.6662e-05, device='cuda:5')\n",
      "tensor(-3.6662e-05, device='cuda:5')\n",
      "tensor(-5.4844e-09, device='cuda:5')\n",
      "tensor(0., device='cuda:5')\n",
      "tensor(2.9393e-06, device='cuda:5')\n",
      "tensor(2.9393e-06, device='cuda:5')\n",
      "tensor(-3.9967e-10, device='cuda:5')\n",
      "tensor(-0.0001, device='cuda:5')\n",
      "tensor(-4.1376e-10, device='cuda:5')\n",
      "tensor(-5.5879e-10, device='cuda:5')\n"
     ]
    },
    {
     "data": {
      "application/vnd.jupyter.widget-view+json": {
       "model_id": "0d47e23428d54a41a1ef5f661f5dc9ad",
       "version_major": 2,
       "version_minor": 0
      },
      "text/plain": [
       "HBox(children=(FloatProgress(value=0.0, max=40.0), HTML(value='')))"
      ]
     },
     "metadata": {},
     "output_type": "display_data"
    },
    {
     "name": "stdout",
     "output_type": "stream",
     "text": [
      "\n",
      "epoch time: 113.38126635551453\n",
      "mean loss train: 0.19871812742948533, mean loss val: 0.19581431064605712\n",
      "accuracy train: 0.9459, accuracy val: 0.9247\n",
      "---------------------------------------------------------------------------------------------------\n",
      "Epoch: 52, Learning Rate: 0.00025\n",
      "\n"
     ]
    },
    {
     "data": {
      "application/vnd.jupyter.widget-view+json": {
       "model_id": "6fef835ae2b44f4db834af913ace7fa7",
       "version_major": 2,
       "version_minor": 0
      },
      "text/plain": [
       "HBox(children=(FloatProgress(value=0.0, max=625.0), HTML(value='')))"
      ]
     },
     "metadata": {},
     "output_type": "display_data"
    },
    {
     "name": "stdout",
     "output_type": "stream",
     "text": [
      "\n",
      "tensor(8.0031e-08, device='cuda:5')\n",
      "tensor(-5.1215e-08, device='cuda:5')\n",
      "tensor(1.1974e-05, device='cuda:5')\n",
      "tensor(1.1974e-05, device='cuda:5')\n",
      "tensor(1.4127e-07, device='cuda:5')\n",
      "tensor(1.2578e-08, device='cuda:5')\n",
      "tensor(-7.4827e-06, device='cuda:5')\n",
      "tensor(-7.4827e-06, device='cuda:5')\n",
      "tensor(1.2308e-08, device='cuda:5')\n",
      "tensor(6.9739e-08, device='cuda:5')\n",
      "tensor(-1.1721e-05, device='cuda:5')\n",
      "tensor(-1.1721e-05, device='cuda:5')\n",
      "tensor(4.8995e-09, device='cuda:5')\n",
      "tensor(0., device='cuda:5')\n",
      "tensor(-4.6339e-07, device='cuda:5')\n",
      "tensor(-4.6339e-07, device='cuda:5')\n",
      "tensor(6.2515e-07, device='cuda:5')\n",
      "tensor(-3.7597e-05, device='cuda:5')\n",
      "tensor(-8.1240e-10, device='cuda:5')\n",
      "tensor(-2.3982e-09, device='cuda:5')\n"
     ]
    },
    {
     "data": {
      "application/vnd.jupyter.widget-view+json": {
       "model_id": "36be7709460b441b92d1180bbd1bd442",
       "version_major": 2,
       "version_minor": 0
      },
      "text/plain": [
       "HBox(children=(FloatProgress(value=0.0, max=40.0), HTML(value='')))"
      ]
     },
     "metadata": {},
     "output_type": "display_data"
    },
    {
     "name": "stdout",
     "output_type": "stream",
     "text": [
      "\n",
      "epoch time: 113.59326076507568\n",
      "mean loss train: 0.2007899145722389, mean loss val: 0.21644431257247926\n",
      "accuracy train: 0.945975, accuracy val: 0.9233\n",
      "---------------------------------------------------------------------------------------------------\n",
      "Epoch: 53, Learning Rate: 0.00025\n",
      "\n"
     ]
    },
    {
     "data": {
      "application/vnd.jupyter.widget-view+json": {
       "model_id": "63d53b90be414864b316f187c8d6d409",
       "version_major": 2,
       "version_minor": 0
      },
      "text/plain": [
       "HBox(children=(FloatProgress(value=0.0, max=625.0), HTML(value='')))"
      ]
     },
     "metadata": {},
     "output_type": "display_data"
    },
    {
     "name": "stdout",
     "output_type": "stream",
     "text": [
      "\n",
      "tensor(1.4305e-06, device='cuda:5')\n",
      "tensor(-4.2785e-08, device='cuda:5')\n",
      "tensor(1.9380e-05, device='cuda:5')\n",
      "tensor(1.9380e-05, device='cuda:5')\n",
      "tensor(2.3669e-07, device='cuda:5')\n",
      "tensor(2.8456e-08, device='cuda:5')\n",
      "tensor(-1.6718e-06, device='cuda:5')\n",
      "tensor(-1.6718e-06, device='cuda:5')\n",
      "tensor(-7.8115e-10, device='cuda:5')\n",
      "tensor(1.6078e-08, device='cuda:5')\n",
      "tensor(-5.6729e-06, device='cuda:5')\n",
      "tensor(-5.6729e-06, device='cuda:5')\n",
      "tensor(5.1746e-09, device='cuda:5')\n",
      "tensor(0., device='cuda:5')\n",
      "tensor(-1.5560e-06, device='cuda:5')\n",
      "tensor(-1.5560e-06, device='cuda:5')\n",
      "tensor(-5.8169e-08, device='cuda:5')\n",
      "tensor(-9.0332e-05, device='cuda:5')\n",
      "tensor(-5.4854e-10, device='cuda:5')\n",
      "tensor(-1.6065e-09, device='cuda:5')\n"
     ]
    },
    {
     "data": {
      "application/vnd.jupyter.widget-view+json": {
       "model_id": "11f5a7e4ae9048058231a205852b1b52",
       "version_major": 2,
       "version_minor": 0
      },
      "text/plain": [
       "HBox(children=(FloatProgress(value=0.0, max=40.0), HTML(value='')))"
      ]
     },
     "metadata": {},
     "output_type": "display_data"
    },
    {
     "name": "stdout",
     "output_type": "stream",
     "text": [
      "\n",
      "epoch time: 112.74385714530945\n",
      "mean loss train: 0.20182992116212845, mean loss val: 0.19074139049053193\n",
      "accuracy train: 0.9456, accuracy val: 0.9259\n",
      "---------------------------------------------------------------------------------------------------\n",
      "Epoch: 54, Learning Rate: 0.00025\n",
      "\n"
     ]
    },
    {
     "data": {
      "application/vnd.jupyter.widget-view+json": {
       "model_id": "53f64adbcb654a0db94c928fff0315fc",
       "version_major": 2,
       "version_minor": 0
      },
      "text/plain": [
       "HBox(children=(FloatProgress(value=0.0, max=625.0), HTML(value='')))"
      ]
     },
     "metadata": {},
     "output_type": "display_data"
    },
    {
     "name": "stdout",
     "output_type": "stream",
     "text": [
      "\n",
      "tensor(2.7059e-08, device='cuda:5')\n",
      "tensor(4.3420e-08, device='cuda:5')\n",
      "tensor(-4.3960e-06, device='cuda:5')\n",
      "tensor(-4.3960e-06, device='cuda:5')\n",
      "tensor(-2.4092e-09, device='cuda:5')\n",
      "tensor(-1.4370e-08, device='cuda:5')\n",
      "tensor(-1.7131e-06, device='cuda:5')\n",
      "tensor(-1.7131e-06, device='cuda:5')\n",
      "tensor(2.0300e-08, device='cuda:5')\n",
      "tensor(-1.4097e-08, device='cuda:5')\n",
      "tensor(-1.5100e-06, device='cuda:5')\n",
      "tensor(-1.5100e-06, device='cuda:5')\n",
      "tensor(-9.3716e-11, device='cuda:5')\n",
      "tensor(0., device='cuda:5')\n",
      "tensor(-1.9807e-07, device='cuda:5')\n",
      "tensor(-1.9807e-07, device='cuda:5')\n",
      "tensor(-4.7017e-08, device='cuda:5')\n",
      "tensor(1.2121e-05, device='cuda:5')\n",
      "tensor(3.4844e-10, device='cuda:5')\n",
      "tensor(9.7789e-10, device='cuda:5')\n"
     ]
    },
    {
     "data": {
      "application/vnd.jupyter.widget-view+json": {
       "model_id": "f8ddf90078be4bf3b08d77e198679a6b",
       "version_major": 2,
       "version_minor": 0
      },
      "text/plain": [
       "HBox(children=(FloatProgress(value=0.0, max=40.0), HTML(value='')))"
      ]
     },
     "metadata": {},
     "output_type": "display_data"
    },
    {
     "name": "stdout",
     "output_type": "stream",
     "text": [
      "\n",
      "epoch time: 113.54155015945435\n",
      "mean loss train: 0.2001694010913372, mean loss val: 0.19571767420768738\n",
      "accuracy train: 0.94585, accuracy val: 0.9259\n",
      "---------------------------------------------------------------------------------------------------\n",
      "Epoch: 55, Learning Rate: 0.00025\n",
      "\n"
     ]
    },
    {
     "data": {
      "application/vnd.jupyter.widget-view+json": {
       "model_id": "4ecb422a30154540b8937d6f4232e981",
       "version_major": 2,
       "version_minor": 0
      },
      "text/plain": [
       "HBox(children=(FloatProgress(value=0.0, max=625.0), HTML(value='')))"
      ]
     },
     "metadata": {},
     "output_type": "display_data"
    },
    {
     "name": "stdout",
     "output_type": "stream",
     "text": [
      "\n",
      "tensor(2.7360e-07, device='cuda:5')\n",
      "tensor(-5.1142e-08, device='cuda:5')\n",
      "tensor(8.2857e-06, device='cuda:5')\n",
      "tensor(8.2857e-06, device='cuda:5')\n",
      "tensor(1.5434e-07, device='cuda:5')\n",
      "tensor(-3.9864e-08, device='cuda:5')\n",
      "tensor(-2.2503e-05, device='cuda:5')\n",
      "tensor(-2.2503e-05, device='cuda:5')\n",
      "tensor(4.4517e-10, device='cuda:5')\n",
      "tensor(1.8693e-08, device='cuda:5')\n",
      "tensor(-1.3603e-05, device='cuda:5')\n",
      "tensor(-1.3603e-05, device='cuda:5')\n",
      "tensor(5.3376e-09, device='cuda:5')\n",
      "tensor(0., device='cuda:5')\n",
      "tensor(1.3764e-06, device='cuda:5')\n",
      "tensor(1.3764e-06, device='cuda:5')\n",
      "tensor(6.1560e-07, device='cuda:5')\n",
      "tensor(-0.0001, device='cuda:5')\n",
      "tensor(-5.9692e-10, device='cuda:5')\n",
      "tensor(-1.5367e-09, device='cuda:5')\n"
     ]
    },
    {
     "data": {
      "application/vnd.jupyter.widget-view+json": {
       "model_id": "21c93fa6c332491db4dd81ad5931abbc",
       "version_major": 2,
       "version_minor": 0
      },
      "text/plain": [
       "HBox(children=(FloatProgress(value=0.0, max=40.0), HTML(value='')))"
      ]
     },
     "metadata": {},
     "output_type": "display_data"
    },
    {
     "name": "stdout",
     "output_type": "stream",
     "text": [
      "\n",
      "epoch time: 115.0332887172699\n",
      "mean loss train: 0.2008330573618412, mean loss val: 0.1995362577676773\n",
      "accuracy train: 0.946075, accuracy val: 0.9257\n",
      "---------------------------------------------------------------------------------------------------\n",
      "Epoch: 56, Learning Rate: 0.00025\n",
      "\n"
     ]
    },
    {
     "data": {
      "application/vnd.jupyter.widget-view+json": {
       "model_id": "ce77ae30e65543de8fd87e54745f2d51",
       "version_major": 2,
       "version_minor": 0
      },
      "text/plain": [
       "HBox(children=(FloatProgress(value=0.0, max=625.0), HTML(value='')))"
      ]
     },
     "metadata": {},
     "output_type": "display_data"
    },
    {
     "name": "stdout",
     "output_type": "stream",
     "text": [
      "\n",
      "tensor(1.3080e-06, device='cuda:5')\n",
      "tensor(3.9003e-08, device='cuda:5')\n",
      "tensor(-1.4324e-05, device='cuda:5')\n",
      "tensor(-1.4324e-05, device='cuda:5')\n",
      "tensor(1.2307e-06, device='cuda:5')\n",
      "tensor(-2.1376e-08, device='cuda:5')\n",
      "tensor(-1.4416e-05, device='cuda:5')\n",
      "tensor(-1.4416e-05, device='cuda:5')\n",
      "tensor(-5.5893e-09, device='cuda:5')\n",
      "tensor(2.6187e-08, device='cuda:5')\n",
      "tensor(1.9429e-06, device='cuda:5')\n",
      "tensor(1.9429e-06, device='cuda:5')\n",
      "tensor(-4.7877e-09, device='cuda:5')\n",
      "tensor(0., device='cuda:5')\n",
      "tensor(-4.8538e-06, device='cuda:5')\n",
      "tensor(-4.8538e-06, device='cuda:5')\n",
      "tensor(1.1707e-06, device='cuda:5')\n",
      "tensor(-7.8443e-05, device='cuda:5')\n",
      "tensor(-2.3137e-10, device='cuda:5')\n",
      "tensor(-2.7940e-10, device='cuda:5')\n"
     ]
    },
    {
     "data": {
      "application/vnd.jupyter.widget-view+json": {
       "model_id": "eea0c580c0c34731971216c17cc0ea6a",
       "version_major": 2,
       "version_minor": 0
      },
      "text/plain": [
       "HBox(children=(FloatProgress(value=0.0, max=40.0), HTML(value='')))"
      ]
     },
     "metadata": {},
     "output_type": "display_data"
    },
    {
     "name": "stdout",
     "output_type": "stream",
     "text": [
      "\n",
      "epoch time: 114.36042642593384\n",
      "mean loss train: 0.1989702794790268, mean loss val: 0.21024973363876343\n",
      "accuracy train: 0.94635, accuracy val: 0.9242\n",
      "---------------------------------------------------------------------------------------------------\n",
      "Epoch: 57, Learning Rate: 0.00025\n",
      "\n"
     ]
    },
    {
     "data": {
      "application/vnd.jupyter.widget-view+json": {
       "model_id": "a908801b606e48748ad3d0580c03cf9d",
       "version_major": 2,
       "version_minor": 0
      },
      "text/plain": [
       "HBox(children=(FloatProgress(value=0.0, max=625.0), HTML(value='')))"
      ]
     },
     "metadata": {},
     "output_type": "display_data"
    },
    {
     "name": "stdout",
     "output_type": "stream",
     "text": [
      "\n",
      "tensor(5.2791e-07, device='cuda:5')\n",
      "tensor(2.0890e-07, device='cuda:5')\n",
      "tensor(-3.8496e-05, device='cuda:5')\n",
      "tensor(-3.8496e-05, device='cuda:5')\n",
      "tensor(8.4301e-07, device='cuda:5')\n",
      "tensor(9.8881e-08, device='cuda:5')\n",
      "tensor(-4.4331e-05, device='cuda:5')\n",
      "tensor(-4.4331e-05, device='cuda:5')\n",
      "tensor(-1.7102e-08, device='cuda:5')\n",
      "tensor(5.1115e-09, device='cuda:5')\n",
      "tensor(-1.7127e-05, device='cuda:5')\n",
      "tensor(-1.7127e-05, device='cuda:5')\n",
      "tensor(-2.1993e-09, device='cuda:5')\n",
      "tensor(0., device='cuda:5')\n",
      "tensor(-7.0712e-06, device='cuda:5')\n",
      "tensor(-7.0712e-06, device='cuda:5')\n",
      "tensor(-9.7768e-07, device='cuda:5')\n",
      "tensor(-7.6197e-05, device='cuda:5')\n",
      "tensor(-3.8480e-10, device='cuda:5')\n",
      "tensor(-1.4901e-09, device='cuda:5')\n"
     ]
    },
    {
     "data": {
      "application/vnd.jupyter.widget-view+json": {
       "model_id": "ba31bc4f2d364f008b11c04eccc45d40",
       "version_major": 2,
       "version_minor": 0
      },
      "text/plain": [
       "HBox(children=(FloatProgress(value=0.0, max=40.0), HTML(value='')))"
      ]
     },
     "metadata": {},
     "output_type": "display_data"
    },
    {
     "name": "stdout",
     "output_type": "stream",
     "text": [
      "\n",
      "epoch time: 113.25025582313538\n",
      "mean loss train: 0.198595844656229, mean loss val: 0.20828113660812378\n",
      "accuracy train: 0.946825, accuracy val: 0.9254\n",
      "---------------------------------------------------------------------------------------------------\n",
      "Epoch: 58, Learning Rate: 0.00025\n",
      "\n"
     ]
    },
    {
     "data": {
      "application/vnd.jupyter.widget-view+json": {
       "model_id": "4d1a043d60594b1a9f95bfb24a5a3151",
       "version_major": 2,
       "version_minor": 0
      },
      "text/plain": [
       "HBox(children=(FloatProgress(value=0.0, max=625.0), HTML(value='')))"
      ]
     },
     "metadata": {},
     "output_type": "display_data"
    },
    {
     "name": "stdout",
     "output_type": "stream",
     "text": [
      "\n",
      "tensor(-2.6212e-07, device='cuda:5')\n",
      "tensor(-6.0082e-10, device='cuda:5')\n",
      "tensor(-2.4684e-06, device='cuda:5')\n",
      "tensor(-2.4684e-06, device='cuda:5')\n",
      "tensor(1.4151e-07, device='cuda:5')\n",
      "tensor(8.6828e-09, device='cuda:5')\n",
      "tensor(-5.6943e-07, device='cuda:5')\n",
      "tensor(-5.6943e-07, device='cuda:5')\n",
      "tensor(-4.1901e-09, device='cuda:5')\n",
      "tensor(3.6598e-08, device='cuda:5')\n",
      "tensor(-2.0489e-06, device='cuda:5')\n",
      "tensor(-2.0489e-06, device='cuda:5')\n",
      "tensor(-1.1891e-09, device='cuda:5')\n",
      "tensor(0., device='cuda:5')\n",
      "tensor(-4.8860e-07, device='cuda:5')\n",
      "tensor(-4.8860e-07, device='cuda:5')\n",
      "tensor(9.5241e-07, device='cuda:5')\n",
      "tensor(-6.1385e-05, device='cuda:5')\n",
      "tensor(-4.2023e-11, device='cuda:5')\n",
      "tensor(9.3132e-11, device='cuda:5')\n"
     ]
    },
    {
     "data": {
      "application/vnd.jupyter.widget-view+json": {
       "model_id": "4e310387d4ee4ee68742aa284fe9594b",
       "version_major": 2,
       "version_minor": 0
      },
      "text/plain": [
       "HBox(children=(FloatProgress(value=0.0, max=40.0), HTML(value='')))"
      ]
     },
     "metadata": {},
     "output_type": "display_data"
    },
    {
     "name": "stdout",
     "output_type": "stream",
     "text": [
      "\n",
      "epoch time: 114.66025686264038\n",
      "mean loss train: 0.20005107504725456, mean loss val: 0.2373726981639862\n",
      "accuracy train: 0.9465, accuracy val: 0.9195\n",
      "---------------------------------------------------------------------------------------------------\n",
      "Epoch: 59, Learning Rate: 0.00025\n",
      "\n"
     ]
    },
    {
     "data": {
      "application/vnd.jupyter.widget-view+json": {
       "model_id": "e62c7d8913464575ac2b2161f1c5a86d",
       "version_major": 2,
       "version_minor": 0
      },
      "text/plain": [
       "HBox(children=(FloatProgress(value=0.0, max=625.0), HTML(value='')))"
      ]
     },
     "metadata": {},
     "output_type": "display_data"
    },
    {
     "name": "stdout",
     "output_type": "stream",
     "text": [
      "\n",
      "tensor(6.9605e-07, device='cuda:5')\n",
      "tensor(-5.7884e-08, device='cuda:5')\n",
      "tensor(-4.4713e-06, device='cuda:5')\n",
      "tensor(-4.4713e-06, device='cuda:5')\n",
      "tensor(-2.1625e-07, device='cuda:5')\n",
      "tensor(7.9052e-09, device='cuda:5')\n",
      "tensor(1.0212e-07, device='cuda:5')\n",
      "tensor(1.0212e-07, device='cuda:5')\n",
      "tensor(1.3818e-08, device='cuda:5')\n",
      "tensor(-1.4227e-09, device='cuda:5')\n",
      "tensor(-5.7410e-07, device='cuda:5')\n",
      "tensor(-5.7410e-07, device='cuda:5')\n",
      "tensor(-1.0427e-08, device='cuda:5')\n",
      "tensor(0., device='cuda:5')\n",
      "tensor(4.3822e-07, device='cuda:5')\n",
      "tensor(4.3822e-07, device='cuda:5')\n",
      "tensor(1.5057e-07, device='cuda:5')\n",
      "tensor(5.1444e-05, device='cuda:5')\n",
      "tensor(6.4637e-10, device='cuda:5')\n",
      "tensor(1.3039e-09, device='cuda:5')\n"
     ]
    },
    {
     "data": {
      "application/vnd.jupyter.widget-view+json": {
       "model_id": "1c06126453c249c6a86f688a09ab4567",
       "version_major": 2,
       "version_minor": 0
      },
      "text/plain": [
       "HBox(children=(FloatProgress(value=0.0, max=40.0), HTML(value='')))"
      ]
     },
     "metadata": {},
     "output_type": "display_data"
    },
    {
     "name": "stdout",
     "output_type": "stream",
     "text": [
      "\n",
      "epoch time: 116.01580882072449\n",
      "mean loss train: 0.1995139171898365, mean loss val: 0.21665562767982482\n",
      "accuracy train: 0.946275, accuracy val: 0.9259\n",
      "---------------------------------------------------------------------------------------------------\n",
      "Epoch: 60, Learning Rate: 0.00025\n",
      "\n"
     ]
    },
    {
     "data": {
      "application/vnd.jupyter.widget-view+json": {
       "model_id": "1f08f84d401240e3a6477c84aa6dd688",
       "version_major": 2,
       "version_minor": 0
      },
      "text/plain": [
       "HBox(children=(FloatProgress(value=0.0, max=625.0), HTML(value='')))"
      ]
     },
     "metadata": {},
     "output_type": "display_data"
    },
    {
     "name": "stdout",
     "output_type": "stream",
     "text": [
      "\n",
      "tensor(1.1180e-05, device='cuda:5')\n",
      "tensor(6.4988e-08, device='cuda:5')\n",
      "tensor(7.2793e-05, device='cuda:5')\n",
      "tensor(7.2793e-05, device='cuda:5')\n",
      "tensor(-4.5031e-06, device='cuda:5')\n",
      "tensor(5.6797e-08, device='cuda:5')\n",
      "tensor(-0.0001, device='cuda:5')\n",
      "tensor(-0.0001, device='cuda:5')\n",
      "tensor(2.5539e-07, device='cuda:5')\n",
      "tensor(-1.3796e-08, device='cuda:5')\n",
      "tensor(-2.1304e-05, device='cuda:5')\n",
      "tensor(-2.1304e-05, device='cuda:5')\n",
      "tensor(-1.9447e-08, device='cuda:5')\n",
      "tensor(0., device='cuda:5')\n",
      "tensor(-4.9525e-06, device='cuda:5')\n",
      "tensor(-4.9525e-06, device='cuda:5')\n",
      "tensor(4.3406e-07, device='cuda:5')\n",
      "tensor(-0.0003, device='cuda:5')\n",
      "tensor(-5.5615e-10, device='cuda:5')\n",
      "tensor(-1.3970e-09, device='cuda:5')\n"
     ]
    },
    {
     "data": {
      "application/vnd.jupyter.widget-view+json": {
       "model_id": "b17c804efdeb4173b01c2aff1a96f1be",
       "version_major": 2,
       "version_minor": 0
      },
      "text/plain": [
       "HBox(children=(FloatProgress(value=0.0, max=40.0), HTML(value='')))"
      ]
     },
     "metadata": {},
     "output_type": "display_data"
    },
    {
     "name": "stdout",
     "output_type": "stream",
     "text": [
      "\n",
      "epoch time: 113.84602642059326\n",
      "mean loss train: 0.19917762177586557, mean loss val: 0.21889169812202453\n",
      "accuracy train: 0.946725, accuracy val: 0.924\n",
      "---------------------------------------------------------------------------------------------------\n",
      "Epoch: 61, Learning Rate: 0.00025\n",
      "\n"
     ]
    },
    {
     "data": {
      "application/vnd.jupyter.widget-view+json": {
       "model_id": "69274f4705e1474fbd6c13522dd88cd8",
       "version_major": 2,
       "version_minor": 0
      },
      "text/plain": [
       "HBox(children=(FloatProgress(value=0.0, max=625.0), HTML(value='')))"
      ]
     },
     "metadata": {},
     "output_type": "display_data"
    },
    {
     "name": "stdout",
     "output_type": "stream",
     "text": [
      "\n",
      "tensor(1.2974e-07, device='cuda:5')\n",
      "tensor(-5.1752e-08, device='cuda:5')\n",
      "tensor(-1.7400e-06, device='cuda:5')\n",
      "tensor(-1.7400e-06, device='cuda:5')\n",
      "tensor(6.2764e-08, device='cuda:5')\n",
      "tensor(-9.7668e-09, device='cuda:5')\n",
      "tensor(-1.5065e-06, device='cuda:5')\n",
      "tensor(-1.5065e-06, device='cuda:5')\n",
      "tensor(-1.9300e-08, device='cuda:5')\n",
      "tensor(3.2783e-08, device='cuda:5')\n",
      "tensor(-3.4809e-06, device='cuda:5')\n",
      "tensor(-3.4809e-06, device='cuda:5')\n",
      "tensor(-1.7321e-09, device='cuda:5')\n",
      "tensor(0., device='cuda:5')\n",
      "tensor(-2.5084e-07, device='cuda:5')\n",
      "tensor(-2.5084e-07, device='cuda:5')\n",
      "tensor(-3.7797e-07, device='cuda:5')\n",
      "tensor(-9.6893e-05, device='cuda:5')\n",
      "tensor(-4.3707e-10, device='cuda:5')\n",
      "tensor(-1.1176e-09, device='cuda:5')\n"
     ]
    },
    {
     "data": {
      "application/vnd.jupyter.widget-view+json": {
       "model_id": "18e3adb669ce4450a5855506289b2438",
       "version_major": 2,
       "version_minor": 0
      },
      "text/plain": [
       "HBox(children=(FloatProgress(value=0.0, max=40.0), HTML(value='')))"
      ]
     },
     "metadata": {},
     "output_type": "display_data"
    },
    {
     "name": "stdout",
     "output_type": "stream",
     "text": [
      "\n",
      "epoch time: 113.94296550750732\n",
      "mean loss train: 0.19784255458712577, mean loss val: 0.2173188732624054\n",
      "accuracy train: 0.947, accuracy val: 0.9247\n",
      "---------------------------------------------------------------------------------------------------\n",
      "Epoch: 62, Learning Rate: 0.00025\n",
      "\n"
     ]
    },
    {
     "data": {
      "application/vnd.jupyter.widget-view+json": {
       "model_id": "e14efaa12005445a9938579b3f227835",
       "version_major": 2,
       "version_minor": 0
      },
      "text/plain": [
       "HBox(children=(FloatProgress(value=0.0, max=625.0), HTML(value='')))"
      ]
     },
     "metadata": {},
     "output_type": "display_data"
    },
    {
     "name": "stdout",
     "output_type": "stream",
     "text": [
      "\n",
      "tensor(4.4008e-07, device='cuda:5')\n",
      "tensor(2.2709e-08, device='cuda:5')\n",
      "tensor(1.9127e-05, device='cuda:5')\n",
      "tensor(1.9127e-05, device='cuda:5')\n",
      "tensor(-7.9127e-08, device='cuda:5')\n",
      "tensor(-4.8018e-08, device='cuda:5')\n",
      "tensor(-1.8885e-05, device='cuda:5')\n",
      "tensor(-1.8885e-05, device='cuda:5')\n",
      "tensor(-2.6408e-08, device='cuda:5')\n",
      "tensor(8.6442e-08, device='cuda:5')\n",
      "tensor(-2.8637e-06, device='cuda:5')\n",
      "tensor(-2.8637e-06, device='cuda:5')\n",
      "tensor(2.6119e-08, device='cuda:5')\n",
      "tensor(0., device='cuda:5')\n",
      "tensor(2.4474e-06, device='cuda:5')\n",
      "tensor(2.4474e-06, device='cuda:5')\n",
      "tensor(6.6949e-07, device='cuda:5')\n",
      "tensor(-9.8735e-05, device='cuda:5')\n",
      "tensor(-2.0936e-10, device='cuda:5')\n",
      "tensor(-4.1910e-10, device='cuda:5')\n"
     ]
    },
    {
     "data": {
      "application/vnd.jupyter.widget-view+json": {
       "model_id": "97076e1a4d284eba837e32caafb04166",
       "version_major": 2,
       "version_minor": 0
      },
      "text/plain": [
       "HBox(children=(FloatProgress(value=0.0, max=40.0), HTML(value='')))"
      ]
     },
     "metadata": {},
     "output_type": "display_data"
    },
    {
     "name": "stdout",
     "output_type": "stream",
     "text": [
      "\n",
      "epoch time: 115.37267684936523\n",
      "mean loss train: 0.19884067647457124, mean loss val: 0.21251936683654785\n",
      "accuracy train: 0.946775, accuracy val: 0.9228\n",
      "---------------------------------------------------------------------------------------------------\n",
      "Epoch: 63, Learning Rate: 0.00025\n",
      "\n"
     ]
    },
    {
     "data": {
      "application/vnd.jupyter.widget-view+json": {
       "model_id": "bc885e52a0c0496cafe631bfb7be4ee4",
       "version_major": 2,
       "version_minor": 0
      },
      "text/plain": [
       "HBox(children=(FloatProgress(value=0.0, max=625.0), HTML(value='')))"
      ]
     },
     "metadata": {},
     "output_type": "display_data"
    },
    {
     "name": "stdout",
     "output_type": "stream",
     "text": [
      "\n",
      "tensor(-2.3313e-07, device='cuda:5')\n",
      "tensor(-4.0907e-08, device='cuda:5')\n",
      "tensor(5.5709e-07, device='cuda:5')\n",
      "tensor(5.5709e-07, device='cuda:5')\n",
      "tensor(-1.3722e-08, device='cuda:5')\n",
      "tensor(-6.1460e-09, device='cuda:5')\n",
      "tensor(-3.0761e-06, device='cuda:5')\n",
      "tensor(-3.0761e-06, device='cuda:5')\n",
      "tensor(-4.5985e-09, device='cuda:5')\n",
      "tensor(-8.3736e-09, device='cuda:5')\n",
      "tensor(-3.8340e-06, device='cuda:5')\n",
      "tensor(-3.8340e-06, device='cuda:5')\n",
      "tensor(-6.3201e-09, device='cuda:5')\n",
      "tensor(0., device='cuda:5')\n",
      "tensor(1.2149e-06, device='cuda:5')\n",
      "tensor(1.2149e-06, device='cuda:5')\n",
      "tensor(7.3114e-07, device='cuda:5')\n",
      "tensor(-2.2518e-05, device='cuda:5')\n",
      "tensor(2.2255e-11, device='cuda:5')\n",
      "tensor(9.3132e-11, device='cuda:5')\n"
     ]
    },
    {
     "data": {
      "application/vnd.jupyter.widget-view+json": {
       "model_id": "82e80becd6eb4ffc84c0bd9e501dced9",
       "version_major": 2,
       "version_minor": 0
      },
      "text/plain": [
       "HBox(children=(FloatProgress(value=0.0, max=40.0), HTML(value='')))"
      ]
     },
     "metadata": {},
     "output_type": "display_data"
    },
    {
     "name": "stdout",
     "output_type": "stream",
     "text": [
      "\n",
      "epoch time: 113.76489067077637\n",
      "mean loss train: 0.20038919119238854, mean loss val: 0.21287527141571044\n",
      "accuracy train: 0.9462, accuracy val: 0.9247\n",
      "---------------------------------------------------------------------------------------------------\n",
      "Epoch: 64, Learning Rate: 0.00025\n",
      "\n"
     ]
    },
    {
     "data": {
      "application/vnd.jupyter.widget-view+json": {
       "model_id": "3459c1bdc2d6454f8dca4160b0cc5f41",
       "version_major": 2,
       "version_minor": 0
      },
      "text/plain": [
       "HBox(children=(FloatProgress(value=0.0, max=625.0), HTML(value='')))"
      ]
     },
     "metadata": {},
     "output_type": "display_data"
    },
    {
     "name": "stdout",
     "output_type": "stream",
     "text": [
      "\n",
      "tensor(2.0610e-06, device='cuda:5')\n",
      "tensor(-1.1304e-07, device='cuda:5')\n",
      "tensor(-0.0001, device='cuda:5')\n",
      "tensor(-0.0001, device='cuda:5')\n",
      "tensor(1.5986e-06, device='cuda:5')\n",
      "tensor(2.3503e-07, device='cuda:5')\n",
      "tensor(-4.9190e-05, device='cuda:5')\n",
      "tensor(-4.9190e-05, device='cuda:5')\n",
      "tensor(-3.3508e-08, device='cuda:5')\n",
      "tensor(-5.4420e-07, device='cuda:5')\n",
      "tensor(9.0755e-06, device='cuda:5')\n",
      "tensor(9.0755e-06, device='cuda:5')\n",
      "tensor(-6.5201e-09, device='cuda:5')\n",
      "tensor(0., device='cuda:5')\n",
      "tensor(4.2323e-06, device='cuda:5')\n",
      "tensor(4.2323e-06, device='cuda:5')\n",
      "tensor(-1.5327e-06, device='cuda:5')\n",
      "tensor(0.0002, device='cuda:5')\n",
      "tensor(4.4434e-10, device='cuda:5')\n",
      "tensor(1.0012e-09, device='cuda:5')\n"
     ]
    },
    {
     "data": {
      "application/vnd.jupyter.widget-view+json": {
       "model_id": "2424bf0d587d4c7c83dbca3d9bfba0b4",
       "version_major": 2,
       "version_minor": 0
      },
      "text/plain": [
       "HBox(children=(FloatProgress(value=0.0, max=40.0), HTML(value='')))"
      ]
     },
     "metadata": {},
     "output_type": "display_data"
    },
    {
     "name": "stdout",
     "output_type": "stream",
     "text": [
      "\n",
      "epoch time: 116.28554677963257\n",
      "mean loss train: 0.1971601628065109, mean loss val: 0.2108675680398941\n",
      "accuracy train: 0.9467, accuracy val: 0.9229\n",
      "---------------------------------------------------------------------------------------------------\n",
      "Epoch: 65, Learning Rate: 0.00025\n",
      "\n"
     ]
    },
    {
     "data": {
      "application/vnd.jupyter.widget-view+json": {
       "model_id": "e1040a14eb30416498c9f5e6326e3ea2",
       "version_major": 2,
       "version_minor": 0
      },
      "text/plain": [
       "HBox(children=(FloatProgress(value=0.0, max=625.0), HTML(value='')))"
      ]
     },
     "metadata": {},
     "output_type": "display_data"
    },
    {
     "name": "stdout",
     "output_type": "stream",
     "text": [
      "\n",
      "tensor(-5.3591e-07, device='cuda:5')\n",
      "tensor(2.1102e-08, device='cuda:5')\n",
      "tensor(2.3687e-05, device='cuda:5')\n",
      "tensor(2.3687e-05, device='cuda:5')\n",
      "tensor(-8.6251e-08, device='cuda:5')\n",
      "tensor(1.3263e-08, device='cuda:5')\n",
      "tensor(-2.0542e-06, device='cuda:5')\n",
      "tensor(-2.0542e-06, device='cuda:5')\n",
      "tensor(-2.0826e-08, device='cuda:5')\n",
      "tensor(1.6661e-08, device='cuda:5')\n",
      "tensor(-4.7273e-06, device='cuda:5')\n",
      "tensor(-4.7273e-06, device='cuda:5')\n",
      "tensor(6.3957e-09, device='cuda:5')\n",
      "tensor(0., device='cuda:5')\n",
      "tensor(3.3444e-07, device='cuda:5')\n",
      "tensor(3.3444e-07, device='cuda:5')\n",
      "tensor(4.3633e-07, device='cuda:5')\n",
      "tensor(-4.2276e-05, device='cuda:5')\n",
      "tensor(2.1700e-10, device='cuda:5')\n",
      "tensor(4.6566e-10, device='cuda:5')\n"
     ]
    },
    {
     "data": {
      "application/vnd.jupyter.widget-view+json": {
       "model_id": "d77fc0f769e34a2c8d80cca43d089dc4",
       "version_major": 2,
       "version_minor": 0
      },
      "text/plain": [
       "HBox(children=(FloatProgress(value=0.0, max=40.0), HTML(value='')))"
      ]
     },
     "metadata": {},
     "output_type": "display_data"
    },
    {
     "name": "stdout",
     "output_type": "stream",
     "text": [
      "\n",
      "epoch time: 118.5502200126648\n",
      "mean loss train: 0.1974056373178959, mean loss val: 0.21902705996036528\n",
      "accuracy train: 0.9469, accuracy val: 0.9221\n",
      "---------------------------------------------------------------------------------------------------\n",
      "Epoch: 66, Learning Rate: 0.00025\n",
      "\n"
     ]
    },
    {
     "data": {
      "application/vnd.jupyter.widget-view+json": {
       "model_id": "1c68a9b59378423fbb87ad8b97908996",
       "version_major": 2,
       "version_minor": 0
      },
      "text/plain": [
       "HBox(children=(FloatProgress(value=0.0, max=625.0), HTML(value='')))"
      ]
     },
     "metadata": {},
     "output_type": "display_data"
    },
    {
     "name": "stdout",
     "output_type": "stream",
     "text": [
      "\n",
      "tensor(-6.0987e-06, device='cuda:5')\n",
      "tensor(1.3988e-07, device='cuda:5')\n",
      "tensor(-0.0001, device='cuda:5')\n",
      "tensor(-0.0001, device='cuda:5')\n",
      "tensor(3.1536e-07, device='cuda:5')\n",
      "tensor(-1.7358e-07, device='cuda:5')\n",
      "tensor(-4.8970e-05, device='cuda:5')\n",
      "tensor(-4.8970e-05, device='cuda:5')\n",
      "tensor(-1.6358e-07, device='cuda:5')\n",
      "tensor(-3.7010e-07, device='cuda:5')\n",
      "tensor(9.0654e-05, device='cuda:5')\n",
      "tensor(9.0654e-05, device='cuda:5')\n",
      "tensor(-5.0782e-08, device='cuda:5')\n",
      "tensor(0., device='cuda:5')\n",
      "tensor(-1.2634e-05, device='cuda:5')\n",
      "tensor(-1.2634e-05, device='cuda:5')\n",
      "tensor(6.5842e-07, device='cuda:5')\n",
      "tensor(-5.0437e-05, device='cuda:5')\n",
      "tensor(-2.5471e-10, device='cuda:5')\n",
      "tensor(-5.1223e-10, device='cuda:5')\n"
     ]
    },
    {
     "data": {
      "application/vnd.jupyter.widget-view+json": {
       "model_id": "503c0884b2c048e7a327ff3a6c317626",
       "version_major": 2,
       "version_minor": 0
      },
      "text/plain": [
       "HBox(children=(FloatProgress(value=0.0, max=40.0), HTML(value='')))"
      ]
     },
     "metadata": {},
     "output_type": "display_data"
    },
    {
     "name": "stdout",
     "output_type": "stream",
     "text": [
      "\n",
      "epoch time: 115.79905009269714\n",
      "mean loss train: 0.1982809108555317, mean loss val: 0.20775334017276764\n",
      "accuracy train: 0.946725, accuracy val: 0.9264\n",
      "---------------------------------------------------------------------------------------------------\n",
      "Epoch: 67, Learning Rate: 0.00025\n",
      "\n"
     ]
    },
    {
     "data": {
      "application/vnd.jupyter.widget-view+json": {
       "model_id": "9f4b2500bd894cce8c612eabf89e1f75",
       "version_major": 2,
       "version_minor": 0
      },
      "text/plain": [
       "HBox(children=(FloatProgress(value=0.0, max=625.0), HTML(value='')))"
      ]
     },
     "metadata": {},
     "output_type": "display_data"
    },
    {
     "name": "stdout",
     "output_type": "stream",
     "text": [
      "\n",
      "tensor(-7.6052e-06, device='cuda:5')\n",
      "tensor(-6.0751e-08, device='cuda:5')\n",
      "tensor(0.0002, device='cuda:5')\n",
      "tensor(0.0002, device='cuda:5')\n",
      "tensor(6.5715e-07, device='cuda:5')\n",
      "tensor(3.6832e-08, device='cuda:5')\n",
      "tensor(-3.4668e-05, device='cuda:5')\n",
      "tensor(-3.4668e-05, device='cuda:5')\n",
      "tensor(5.0745e-08, device='cuda:5')\n",
      "tensor(-1.7012e-07, device='cuda:5')\n",
      "tensor(-1.5356e-06, device='cuda:5')\n",
      "tensor(-1.5356e-06, device='cuda:5')\n",
      "tensor(-1.6084e-08, device='cuda:5')\n",
      "tensor(0., device='cuda:5')\n",
      "tensor(-5.8065e-07, device='cuda:5')\n",
      "tensor(-5.8065e-07, device='cuda:5')\n",
      "tensor(-1.9672e-06, device='cuda:5')\n",
      "tensor(-0.0002, device='cuda:5')\n",
      "tensor(-5.2118e-10, device='cuda:5')\n",
      "tensor(-1.3039e-09, device='cuda:5')\n"
     ]
    },
    {
     "data": {
      "application/vnd.jupyter.widget-view+json": {
       "model_id": "9b2247e2d4f74a4881ddee8131e9acbf",
       "version_major": 2,
       "version_minor": 0
      },
      "text/plain": [
       "HBox(children=(FloatProgress(value=0.0, max=40.0), HTML(value='')))"
      ]
     },
     "metadata": {},
     "output_type": "display_data"
    },
    {
     "name": "stdout",
     "output_type": "stream",
     "text": [
      "\n",
      "epoch time: 115.16472935676575\n",
      "mean loss train: 0.19727229536175728, mean loss val: 0.21376698913574219\n",
      "accuracy train: 0.94675, accuracy val: 0.9262\n",
      "---------------------------------------------------------------------------------------------------\n",
      "Epoch: 68, Learning Rate: 0.00025\n",
      "\n"
     ]
    },
    {
     "data": {
      "application/vnd.jupyter.widget-view+json": {
       "model_id": "96cd2f4456144e379a465a57f761b3e5",
       "version_major": 2,
       "version_minor": 0
      },
      "text/plain": [
       "HBox(children=(FloatProgress(value=0.0, max=625.0), HTML(value='')))"
      ]
     },
     "metadata": {},
     "output_type": "display_data"
    },
    {
     "name": "stdout",
     "output_type": "stream",
     "text": [
      "\n",
      "tensor(-3.5163e-06, device='cuda:5')\n",
      "tensor(5.3472e-08, device='cuda:5')\n",
      "tensor(1.9881e-05, device='cuda:5')\n",
      "tensor(1.9881e-05, device='cuda:5')\n",
      "tensor(-8.7196e-06, device='cuda:5')\n",
      "tensor(1.0986e-07, device='cuda:5')\n",
      "tensor(0.0001, device='cuda:5')\n",
      "tensor(0.0001, device='cuda:5')\n",
      "tensor(-2.1672e-08, device='cuda:5')\n",
      "tensor(3.5289e-07, device='cuda:5')\n",
      "tensor(-3.6550e-06, device='cuda:5')\n",
      "tensor(-3.6550e-06, device='cuda:5')\n",
      "tensor(2.2881e-09, device='cuda:5')\n",
      "tensor(0., device='cuda:5')\n",
      "tensor(2.6938e-06, device='cuda:5')\n",
      "tensor(2.6938e-06, device='cuda:5')\n",
      "tensor(4.0855e-07, device='cuda:5')\n",
      "tensor(-7.7083e-05, device='cuda:5')\n",
      "tensor(-1.5579e-11, device='cuda:5')\n",
      "tensor(-1.1642e-10, device='cuda:5')\n"
     ]
    },
    {
     "data": {
      "application/vnd.jupyter.widget-view+json": {
       "model_id": "88c1ebeaadfd46198cfb07142dc67bd0",
       "version_major": 2,
       "version_minor": 0
      },
      "text/plain": [
       "HBox(children=(FloatProgress(value=0.0, max=40.0), HTML(value='')))"
      ]
     },
     "metadata": {},
     "output_type": "display_data"
    },
    {
     "name": "stdout",
     "output_type": "stream",
     "text": [
      "\n",
      "epoch time: 111.98093175888062\n",
      "mean loss train: 0.19854610102176667, mean loss val: 0.24394128072261811\n",
      "accuracy train: 0.9471, accuracy val: 0.9236\n",
      "---------------------------------------------------------------------------------------------------\n",
      "Epoch: 69, Learning Rate: 0.00025\n",
      "\n"
     ]
    },
    {
     "data": {
      "application/vnd.jupyter.widget-view+json": {
       "model_id": "828d341552a2448eba76dfe495a58240",
       "version_major": 2,
       "version_minor": 0
      },
      "text/plain": [
       "HBox(children=(FloatProgress(value=0.0, max=625.0), HTML(value='')))"
      ]
     },
     "metadata": {},
     "output_type": "display_data"
    },
    {
     "name": "stdout",
     "output_type": "stream",
     "text": [
      "\n",
      "tensor(5.1234e-07, device='cuda:5')\n",
      "tensor(-1.7597e-09, device='cuda:5')\n",
      "tensor(1.4401e-06, device='cuda:5')\n",
      "tensor(1.4401e-06, device='cuda:5')\n",
      "tensor(-2.9615e-08, device='cuda:5')\n",
      "tensor(-6.0915e-09, device='cuda:5')\n",
      "tensor(-3.5251e-06, device='cuda:5')\n",
      "tensor(-3.5251e-06, device='cuda:5')\n",
      "tensor(2.5527e-09, device='cuda:5')\n",
      "tensor(1.3888e-08, device='cuda:5')\n",
      "tensor(-4.6013e-06, device='cuda:5')\n",
      "tensor(-4.6013e-06, device='cuda:5')\n",
      "tensor(-6.6535e-09, device='cuda:5')\n",
      "tensor(0., device='cuda:5')\n",
      "tensor(-1.7805e-07, device='cuda:5')\n",
      "tensor(-1.7805e-07, device='cuda:5')\n",
      "tensor(4.7452e-07, device='cuda:5')\n",
      "tensor(-8.6939e-05, device='cuda:5')\n",
      "tensor(-4.8662e-10, device='cuda:5')\n",
      "tensor(-1.0245e-09, device='cuda:5')\n"
     ]
    },
    {
     "data": {
      "application/vnd.jupyter.widget-view+json": {
       "model_id": "70832fa81e654c6a8ea033e92a6f42a7",
       "version_major": 2,
       "version_minor": 0
      },
      "text/plain": [
       "HBox(children=(FloatProgress(value=0.0, max=40.0), HTML(value='')))"
      ]
     },
     "metadata": {},
     "output_type": "display_data"
    },
    {
     "name": "stdout",
     "output_type": "stream",
     "text": [
      "\n",
      "epoch time: 113.73366808891296\n",
      "mean loss train: 0.19591441913843155, mean loss val: 0.21728286619186402\n",
      "accuracy train: 0.947675, accuracy val: 0.9254\n",
      "---------------------------------------------------------------------------------------------------\n",
      "Epoch: 70, Learning Rate: 0.00025\n",
      "\n"
     ]
    },
    {
     "data": {
      "application/vnd.jupyter.widget-view+json": {
       "model_id": "e43674b19a1f4a2a9897d79998192cdd",
       "version_major": 2,
       "version_minor": 0
      },
      "text/plain": [
       "HBox(children=(FloatProgress(value=0.0, max=625.0), HTML(value='')))"
      ]
     },
     "metadata": {},
     "output_type": "display_data"
    },
    {
     "name": "stdout",
     "output_type": "stream",
     "text": [
      "\n",
      "tensor(2.2621e-06, device='cuda:5')\n",
      "tensor(4.2170e-08, device='cuda:5')\n",
      "tensor(-2.4559e-05, device='cuda:5')\n",
      "tensor(-2.4559e-05, device='cuda:5')\n",
      "tensor(1.1553e-06, device='cuda:5')\n",
      "tensor(-6.3837e-08, device='cuda:5')\n",
      "tensor(-4.3153e-06, device='cuda:5')\n",
      "tensor(-4.3153e-06, device='cuda:5')\n",
      "tensor(-1.3899e-08, device='cuda:5')\n",
      "tensor(-2.3466e-08, device='cuda:5')\n",
      "tensor(3.5226e-06, device='cuda:5')\n",
      "tensor(3.5226e-06, device='cuda:5')\n",
      "tensor(2.3832e-09, device='cuda:5')\n",
      "tensor(0., device='cuda:5')\n",
      "tensor(-5.6682e-07, device='cuda:5')\n",
      "tensor(-5.6682e-07, device='cuda:5')\n",
      "tensor(1.1560e-06, device='cuda:5')\n",
      "tensor(8.0291e-05, device='cuda:5')\n",
      "tensor(-2.3028e-10, device='cuda:5')\n",
      "tensor(-4.6566e-10, device='cuda:5')\n"
     ]
    },
    {
     "data": {
      "application/vnd.jupyter.widget-view+json": {
       "model_id": "4c9f575fee7143f69d4d1169117539bd",
       "version_major": 2,
       "version_minor": 0
      },
      "text/plain": [
       "HBox(children=(FloatProgress(value=0.0, max=40.0), HTML(value='')))"
      ]
     },
     "metadata": {},
     "output_type": "display_data"
    },
    {
     "name": "stdout",
     "output_type": "stream",
     "text": [
      "\n",
      "epoch time: 114.97208666801453\n",
      "mean loss train: 0.19581837349534034, mean loss val: 0.2013912261724472\n",
      "accuracy train: 0.94775, accuracy val: 0.9245\n",
      "---------------------------------------------------------------------------------------------------\n",
      "Epoch: 71, Learning Rate: 0.00025\n",
      "\n"
     ]
    },
    {
     "data": {
      "application/vnd.jupyter.widget-view+json": {
       "model_id": "f93a6fb689d34f5fafaad4bf53dcc97b",
       "version_major": 2,
       "version_minor": 0
      },
      "text/plain": [
       "HBox(children=(FloatProgress(value=0.0, max=625.0), HTML(value='')))"
      ]
     },
     "metadata": {},
     "output_type": "display_data"
    },
    {
     "name": "stdout",
     "output_type": "stream",
     "text": [
      "\n",
      "tensor(3.3245e-06, device='cuda:5')\n",
      "tensor(-7.6349e-07, device='cuda:5')\n",
      "tensor(-0.0001, device='cuda:5')\n",
      "tensor(-0.0001, device='cuda:5')\n",
      "tensor(5.8784e-06, device='cuda:5')\n",
      "tensor(-1.9718e-09, device='cuda:5')\n",
      "tensor(9.0128e-05, device='cuda:5')\n",
      "tensor(9.0128e-05, device='cuda:5')\n",
      "tensor(1.7903e-07, device='cuda:5')\n",
      "tensor(6.0008e-07, device='cuda:5')\n",
      "tensor(-7.9550e-05, device='cuda:5')\n",
      "tensor(-7.9550e-05, device='cuda:5')\n",
      "tensor(-3.4181e-09, device='cuda:5')\n",
      "tensor(0., device='cuda:5')\n",
      "tensor(4.7469e-06, device='cuda:5')\n",
      "tensor(4.7469e-06, device='cuda:5')\n",
      "tensor(-7.6403e-07, device='cuda:5')\n",
      "tensor(-0.0004, device='cuda:5')\n",
      "tensor(-6.6938e-10, device='cuda:5')\n",
      "tensor(-1.7695e-09, device='cuda:5')\n"
     ]
    },
    {
     "data": {
      "application/vnd.jupyter.widget-view+json": {
       "model_id": "0821d4a0810f429fb4c9f5b5bdaabcf3",
       "version_major": 2,
       "version_minor": 0
      },
      "text/plain": [
       "HBox(children=(FloatProgress(value=0.0, max=40.0), HTML(value='')))"
      ]
     },
     "metadata": {},
     "output_type": "display_data"
    },
    {
     "name": "stdout",
     "output_type": "stream",
     "text": [
      "\n",
      "epoch time: 114.61567759513855\n",
      "mean loss train: 0.19787074514627456, mean loss val: 0.23063595299720765\n",
      "accuracy train: 0.946975, accuracy val: 0.9253\n",
      "---------------------------------------------------------------------------------------------------\n",
      "Epoch: 72, Learning Rate: 0.00025\n",
      "\n"
     ]
    },
    {
     "data": {
      "application/vnd.jupyter.widget-view+json": {
       "model_id": "27f20e4f93184c02b9ac9cbe5aedfce4",
       "version_major": 2,
       "version_minor": 0
      },
      "text/plain": [
       "HBox(children=(FloatProgress(value=0.0, max=625.0), HTML(value='')))"
      ]
     },
     "metadata": {},
     "output_type": "display_data"
    },
    {
     "name": "stdout",
     "output_type": "stream",
     "text": [
      "\n",
      "tensor(1.2804e-06, device='cuda:5')\n",
      "tensor(1.3280e-07, device='cuda:5')\n",
      "tensor(-0.0002, device='cuda:5')\n",
      "tensor(-0.0002, device='cuda:5')\n",
      "tensor(-2.0578e-06, device='cuda:5')\n",
      "tensor(6.3707e-08, device='cuda:5')\n",
      "tensor(8.3502e-06, device='cuda:5')\n",
      "tensor(8.3502e-06, device='cuda:5')\n",
      "tensor(4.8837e-08, device='cuda:5')\n",
      "tensor(6.3548e-07, device='cuda:5')\n",
      "tensor(6.6868e-05, device='cuda:5')\n",
      "tensor(6.6868e-05, device='cuda:5')\n",
      "tensor(-3.1553e-08, device='cuda:5')\n",
      "tensor(0., device='cuda:5')\n",
      "tensor(9.9414e-06, device='cuda:5')\n",
      "tensor(9.9414e-06, device='cuda:5')\n",
      "tensor(4.9467e-07, device='cuda:5')\n",
      "tensor(0.0002, device='cuda:5')\n",
      "tensor(-5.1870e-11, device='cuda:5')\n",
      "tensor(-9.3132e-11, device='cuda:5')\n"
     ]
    },
    {
     "data": {
      "application/vnd.jupyter.widget-view+json": {
       "model_id": "6ddb08ade15d48429c4b839a629e0356",
       "version_major": 2,
       "version_minor": 0
      },
      "text/plain": [
       "HBox(children=(FloatProgress(value=0.0, max=40.0), HTML(value='')))"
      ]
     },
     "metadata": {},
     "output_type": "display_data"
    },
    {
     "name": "stdout",
     "output_type": "stream",
     "text": [
      "\n",
      "epoch time: 113.7840633392334\n",
      "mean loss train: 0.1955575204014778, mean loss val: 0.23299053599834443\n",
      "accuracy train: 0.947675, accuracy val: 0.9246\n",
      "---------------------------------------------------------------------------------------------------\n",
      "Epoch: 73, Learning Rate: 0.00025\n",
      "\n"
     ]
    },
    {
     "data": {
      "application/vnd.jupyter.widget-view+json": {
       "model_id": "2f5adae0ef8f48e6a4021c38d0f97347",
       "version_major": 2,
       "version_minor": 0
      },
      "text/plain": [
       "HBox(children=(FloatProgress(value=0.0, max=625.0), HTML(value='')))"
      ]
     },
     "metadata": {},
     "output_type": "display_data"
    },
    {
     "name": "stdout",
     "output_type": "stream",
     "text": [
      "\n",
      "tensor(-2.1655e-07, device='cuda:5')\n",
      "tensor(1.0089e-07, device='cuda:5')\n",
      "tensor(2.0841e-05, device='cuda:5')\n",
      "tensor(2.0841e-05, device='cuda:5')\n",
      "tensor(1.7755e-06, device='cuda:5')\n",
      "tensor(2.8552e-08, device='cuda:5')\n",
      "tensor(2.0491e-05, device='cuda:5')\n",
      "tensor(2.0491e-05, device='cuda:5')\n",
      "tensor(-6.6405e-08, device='cuda:5')\n",
      "tensor(-1.5673e-07, device='cuda:5')\n",
      "tensor(-2.1210e-05, device='cuda:5')\n",
      "tensor(-2.1210e-05, device='cuda:5')\n",
      "tensor(1.5682e-09, device='cuda:5')\n",
      "tensor(0., device='cuda:5')\n",
      "tensor(1.5397e-06, device='cuda:5')\n",
      "tensor(1.5397e-06, device='cuda:5')\n",
      "tensor(5.3352e-07, device='cuda:5')\n",
      "tensor(-0.0002, device='cuda:5')\n",
      "tensor(-4.2386e-10, device='cuda:5')\n",
      "tensor(-1.0245e-09, device='cuda:5')\n"
     ]
    },
    {
     "data": {
      "application/vnd.jupyter.widget-view+json": {
       "model_id": "8aad0aa1d9ac44aaa8d9d938f55ebdbd",
       "version_major": 2,
       "version_minor": 0
      },
      "text/plain": [
       "HBox(children=(FloatProgress(value=0.0, max=40.0), HTML(value='')))"
      ]
     },
     "metadata": {},
     "output_type": "display_data"
    },
    {
     "name": "stdout",
     "output_type": "stream",
     "text": [
      "\n",
      "epoch time: 112.55251049995422\n",
      "mean loss train: 0.19651406391859055, mean loss val: 0.21301600782871247\n",
      "accuracy train: 0.947275, accuracy val: 0.9252\n",
      "---------------------------------------------------------------------------------------------------\n",
      "Epoch: 74, Learning Rate: 0.00025\n",
      "\n"
     ]
    },
    {
     "data": {
      "application/vnd.jupyter.widget-view+json": {
       "model_id": "2426052be2854c74bebf4a920999abc5",
       "version_major": 2,
       "version_minor": 0
      },
      "text/plain": [
       "HBox(children=(FloatProgress(value=0.0, max=625.0), HTML(value='')))"
      ]
     },
     "metadata": {},
     "output_type": "display_data"
    },
    {
     "name": "stdout",
     "output_type": "stream",
     "text": [
      "\n",
      "tensor(7.8751e-07, device='cuda:5')\n",
      "tensor(-1.0883e-08, device='cuda:5')\n",
      "tensor(1.1780e-05, device='cuda:5')\n",
      "tensor(1.1780e-05, device='cuda:5')\n",
      "tensor(2.9802e-07, device='cuda:5')\n",
      "tensor(2.4718e-08, device='cuda:5')\n",
      "tensor(7.9624e-06, device='cuda:5')\n",
      "tensor(7.9624e-06, device='cuda:5')\n",
      "tensor(-3.9787e-08, device='cuda:5')\n",
      "tensor(-3.8760e-08, device='cuda:5')\n",
      "tensor(-3.1418e-06, device='cuda:5')\n",
      "tensor(-3.1418e-06, device='cuda:5')\n",
      "tensor(-3.6369e-09, device='cuda:5')\n",
      "tensor(0., device='cuda:5')\n",
      "tensor(-2.1673e-06, device='cuda:5')\n",
      "tensor(-2.1673e-06, device='cuda:5')\n",
      "tensor(-3.7766e-07, device='cuda:5')\n",
      "tensor(7.4641e-05, device='cuda:5')\n",
      "tensor(4.3260e-10, device='cuda:5')\n",
      "tensor(1.3970e-09, device='cuda:5')\n"
     ]
    },
    {
     "data": {
      "application/vnd.jupyter.widget-view+json": {
       "model_id": "a99dde89c7ad46ab9764b5bd78c67b76",
       "version_major": 2,
       "version_minor": 0
      },
      "text/plain": [
       "HBox(children=(FloatProgress(value=0.0, max=40.0), HTML(value='')))"
      ]
     },
     "metadata": {},
     "output_type": "display_data"
    },
    {
     "name": "stdout",
     "output_type": "stream",
     "text": [
      "\n",
      "epoch time: 113.91123676300049\n",
      "mean loss train: 0.19822190864980221, mean loss val: 0.2137048681497574\n",
      "accuracy train: 0.9473, accuracy val: 0.9236\n",
      "---------------------------------------------------------------------------------------------------\n",
      "Epoch: 75, Learning Rate: 0.000125\n",
      "\n"
     ]
    },
    {
     "data": {
      "application/vnd.jupyter.widget-view+json": {
       "model_id": "cc7ea4d4fcb147d0be9c8a278b1c0af2",
       "version_major": 2,
       "version_minor": 0
      },
      "text/plain": [
       "HBox(children=(FloatProgress(value=0.0, max=625.0), HTML(value='')))"
      ]
     },
     "metadata": {},
     "output_type": "display_data"
    },
    {
     "name": "stdout",
     "output_type": "stream",
     "text": [
      "\n",
      "tensor(-6.0148e-07, device='cuda:5')\n",
      "tensor(8.9487e-08, device='cuda:5')\n",
      "tensor(-6.1219e-05, device='cuda:5')\n",
      "tensor(-6.1219e-05, device='cuda:5')\n",
      "tensor(6.0069e-07, device='cuda:5')\n",
      "tensor(-8.3387e-08, device='cuda:5')\n",
      "tensor(-5.3431e-06, device='cuda:5')\n",
      "tensor(-5.3431e-06, device='cuda:5')\n",
      "tensor(-2.7941e-08, device='cuda:5')\n",
      "tensor(1.5689e-07, device='cuda:5')\n",
      "tensor(-2.2310e-05, device='cuda:5')\n",
      "tensor(-2.2310e-05, device='cuda:5')\n",
      "tensor(-3.1186e-09, device='cuda:5')\n",
      "tensor(0., device='cuda:5')\n",
      "tensor(1.1641e-06, device='cuda:5')\n",
      "tensor(1.1641e-06, device='cuda:5')\n",
      "tensor(8.9414e-07, device='cuda:5')\n",
      "tensor(-0.0002, device='cuda:5')\n",
      "tensor(-3.6540e-10, device='cuda:5')\n",
      "tensor(-8.3819e-10, device='cuda:5')\n"
     ]
    },
    {
     "data": {
      "application/vnd.jupyter.widget-view+json": {
       "model_id": "b18600298ea14c57b1afb0f3035f5623",
       "version_major": 2,
       "version_minor": 0
      },
      "text/plain": [
       "HBox(children=(FloatProgress(value=0.0, max=40.0), HTML(value='')))"
      ]
     },
     "metadata": {},
     "output_type": "display_data"
    },
    {
     "name": "stdout",
     "output_type": "stream",
     "text": [
      "\n",
      "epoch time: 111.73925304412842\n",
      "mean loss train: 0.1944328550040722, mean loss val: 0.22792622404098511\n",
      "accuracy train: 0.9482, accuracy val: 0.927\n",
      "---------------------------------------------------------------------------------------------------\n",
      "Epoch: 76, Learning Rate: 0.000125\n",
      "\n"
     ]
    },
    {
     "data": {
      "application/vnd.jupyter.widget-view+json": {
       "model_id": "0d89c19f226a4411850e813900f7601c",
       "version_major": 2,
       "version_minor": 0
      },
      "text/plain": [
       "HBox(children=(FloatProgress(value=0.0, max=625.0), HTML(value='')))"
      ]
     },
     "metadata": {},
     "output_type": "display_data"
    },
    {
     "name": "stdout",
     "output_type": "stream",
     "text": [
      "\n",
      "tensor(-3.3481e-07, device='cuda:5')\n",
      "tensor(1.7707e-09, device='cuda:5')\n",
      "tensor(3.7215e-06, device='cuda:5')\n",
      "tensor(3.7215e-06, device='cuda:5')\n",
      "tensor(1.4322e-07, device='cuda:5')\n",
      "tensor(-1.5044e-09, device='cuda:5')\n",
      "tensor(-1.7937e-06, device='cuda:5')\n",
      "tensor(-1.7937e-06, device='cuda:5')\n",
      "tensor(-3.9371e-09, device='cuda:5')\n",
      "tensor(2.6937e-09, device='cuda:5')\n",
      "tensor(-2.0521e-06, device='cuda:5')\n",
      "tensor(-2.0521e-06, device='cuda:5')\n",
      "tensor(-1.0942e-08, device='cuda:5')\n",
      "tensor(0., device='cuda:5')\n",
      "tensor(3.5717e-07, device='cuda:5')\n",
      "tensor(3.5717e-07, device='cuda:5')\n",
      "tensor(3.9603e-07, device='cuda:5')\n",
      "tensor(-2.7452e-05, device='cuda:5')\n",
      "tensor(6.7861e-11, device='cuda:5')\n",
      "tensor(3.4925e-10, device='cuda:5')\n"
     ]
    },
    {
     "data": {
      "application/vnd.jupyter.widget-view+json": {
       "model_id": "8cc6e08ea5f24a5d80e1666a46e596ac",
       "version_major": 2,
       "version_minor": 0
      },
      "text/plain": [
       "HBox(children=(FloatProgress(value=0.0, max=40.0), HTML(value='')))"
      ]
     },
     "metadata": {},
     "output_type": "display_data"
    },
    {
     "name": "stdout",
     "output_type": "stream",
     "text": [
      "\n",
      "epoch time: 112.4959774017334\n",
      "mean loss train: 0.19279195995926857, mean loss val: 0.23806381919384004\n",
      "accuracy train: 0.948625, accuracy val: 0.9263\n",
      "---------------------------------------------------------------------------------------------------\n",
      "Epoch: 77, Learning Rate: 0.000125\n",
      "\n"
     ]
    },
    {
     "data": {
      "application/vnd.jupyter.widget-view+json": {
       "model_id": "903e7633e8914fa6b2c2acb11bdb5058",
       "version_major": 2,
       "version_minor": 0
      },
      "text/plain": [
       "HBox(children=(FloatProgress(value=0.0, max=625.0), HTML(value='')))"
      ]
     },
     "metadata": {},
     "output_type": "display_data"
    },
    {
     "name": "stdout",
     "output_type": "stream",
     "text": [
      "\n",
      "tensor(1.4586e-08, device='cuda:5')\n",
      "tensor(3.0209e-08, device='cuda:5')\n",
      "tensor(-7.4643e-06, device='cuda:5')\n",
      "tensor(-7.4643e-06, device='cuda:5')\n",
      "tensor(-7.9617e-08, device='cuda:5')\n",
      "tensor(1.1456e-08, device='cuda:5')\n",
      "tensor(-1.2717e-05, device='cuda:5')\n",
      "tensor(-1.2717e-05, device='cuda:5')\n",
      "tensor(1.5150e-08, device='cuda:5')\n",
      "tensor(-2.8355e-08, device='cuda:5')\n",
      "tensor(-2.7963e-06, device='cuda:5')\n",
      "tensor(-2.7963e-06, device='cuda:5')\n",
      "tensor(5.0943e-09, device='cuda:5')\n",
      "tensor(0., device='cuda:5')\n",
      "tensor(9.7048e-07, device='cuda:5')\n",
      "tensor(9.7048e-07, device='cuda:5')\n",
      "tensor(-8.3312e-08, device='cuda:5')\n",
      "tensor(9.0717e-05, device='cuda:5')\n",
      "tensor(1.3357e-10, device='cuda:5')\n",
      "tensor(1.3970e-10, device='cuda:5')\n"
     ]
    },
    {
     "data": {
      "application/vnd.jupyter.widget-view+json": {
       "model_id": "6cbf6b426e46497ab05a0d3b7e01c2d7",
       "version_major": 2,
       "version_minor": 0
      },
      "text/plain": [
       "HBox(children=(FloatProgress(value=0.0, max=40.0), HTML(value='')))"
      ]
     },
     "metadata": {},
     "output_type": "display_data"
    },
    {
     "name": "stdout",
     "output_type": "stream",
     "text": [
      "\n",
      "epoch time: 114.71013855934143\n",
      "mean loss train: 0.19311529134511948, mean loss val: 0.2323008457660675\n",
      "accuracy train: 0.94865, accuracy val: 0.9251\n",
      "---------------------------------------------------------------------------------------------------\n",
      "Epoch: 78, Learning Rate: 0.000125\n",
      "\n"
     ]
    },
    {
     "data": {
      "application/vnd.jupyter.widget-view+json": {
       "model_id": "f12fb4f5dbad4cafb5cb034f51bb11e3",
       "version_major": 2,
       "version_minor": 0
      },
      "text/plain": [
       "HBox(children=(FloatProgress(value=0.0, max=625.0), HTML(value='')))"
      ]
     },
     "metadata": {},
     "output_type": "display_data"
    },
    {
     "name": "stdout",
     "output_type": "stream",
     "text": [
      "\n",
      "tensor(-8.7208e-06, device='cuda:5')\n",
      "tensor(2.8549e-08, device='cuda:5')\n",
      "tensor(1.2216e-05, device='cuda:5')\n",
      "tensor(1.2216e-05, device='cuda:5')\n",
      "tensor(6.6714e-07, device='cuda:5')\n",
      "tensor(1.3306e-07, device='cuda:5')\n",
      "tensor(-8.6955e-05, device='cuda:5')\n",
      "tensor(-8.6955e-05, device='cuda:5')\n",
      "tensor(9.6574e-08, device='cuda:5')\n",
      "tensor(-2.9086e-07, device='cuda:5')\n",
      "tensor(8.7752e-05, device='cuda:5')\n",
      "tensor(8.7752e-05, device='cuda:5')\n",
      "tensor(4.6120e-08, device='cuda:5')\n",
      "tensor(0., device='cuda:5')\n",
      "tensor(8.0407e-06, device='cuda:5')\n",
      "tensor(8.0407e-06, device='cuda:5')\n",
      "tensor(9.1562e-07, device='cuda:5')\n",
      "tensor(0.0003, device='cuda:5')\n",
      "tensor(-7.4579e-12, device='cuda:5')\n",
      "tensor(-9.3132e-11, device='cuda:5')\n"
     ]
    },
    {
     "data": {
      "application/vnd.jupyter.widget-view+json": {
       "model_id": "dfdaadc3d5be4222b76928ffd1cf5bf4",
       "version_major": 2,
       "version_minor": 0
      },
      "text/plain": [
       "HBox(children=(FloatProgress(value=0.0, max=40.0), HTML(value='')))"
      ]
     },
     "metadata": {},
     "output_type": "display_data"
    },
    {
     "name": "stdout",
     "output_type": "stream",
     "text": [
      "\n",
      "epoch time: 112.15406012535095\n",
      "mean loss train: 0.19295061919093132, mean loss val: 0.2328525893688202\n",
      "accuracy train: 0.948575, accuracy val: 0.9275\n",
      "---------------------------------------------------------------------------------------------------\n",
      "Epoch: 79, Learning Rate: 0.000125\n",
      "\n"
     ]
    },
    {
     "data": {
      "application/vnd.jupyter.widget-view+json": {
       "model_id": "0f0dfd5f378e4060acab4b62010be7b7",
       "version_major": 2,
       "version_minor": 0
      },
      "text/plain": [
       "HBox(children=(FloatProgress(value=0.0, max=625.0), HTML(value='')))"
      ]
     },
     "metadata": {},
     "output_type": "display_data"
    },
    {
     "name": "stdout",
     "output_type": "stream",
     "text": [
      "\n",
      "tensor(-8.7374e-07, device='cuda:5')\n",
      "tensor(9.0900e-09, device='cuda:5')\n",
      "tensor(8.2634e-06, device='cuda:5')\n",
      "tensor(8.2634e-06, device='cuda:5')\n",
      "tensor(2.9055e-07, device='cuda:5')\n",
      "tensor(-4.4973e-09, device='cuda:5')\n",
      "tensor(-3.8991e-06, device='cuda:5')\n",
      "tensor(-3.8991e-06, device='cuda:5')\n",
      "tensor(-2.2059e-09, device='cuda:5')\n",
      "tensor(-2.4663e-08, device='cuda:5')\n",
      "tensor(-2.0791e-06, device='cuda:5')\n",
      "tensor(-2.0791e-06, device='cuda:5')\n",
      "tensor(-8.1558e-09, device='cuda:5')\n",
      "tensor(0., device='cuda:5')\n",
      "tensor(-1.9269e-06, device='cuda:5')\n",
      "tensor(-1.9269e-06, device='cuda:5')\n",
      "tensor(-4.7632e-07, device='cuda:5')\n",
      "tensor(9.5665e-06, device='cuda:5')\n",
      "tensor(-8.9861e-10, device='cuda:5')\n",
      "tensor(-2.0023e-09, device='cuda:5')\n"
     ]
    },
    {
     "data": {
      "application/vnd.jupyter.widget-view+json": {
       "model_id": "c68217f6caac40e29056a37e0b7952f2",
       "version_major": 2,
       "version_minor": 0
      },
      "text/plain": [
       "HBox(children=(FloatProgress(value=0.0, max=40.0), HTML(value='')))"
      ]
     },
     "metadata": {},
     "output_type": "display_data"
    },
    {
     "name": "stdout",
     "output_type": "stream",
     "text": [
      "\n",
      "epoch time: 113.28666067123413\n",
      "mean loss train: 0.19270432957410813, mean loss val: 0.24020091762542725\n",
      "accuracy train: 0.948825, accuracy val: 0.9246\n",
      "---------------------------------------------------------------------------------------------------\n",
      "Epoch: 80, Learning Rate: 0.000125\n",
      "\n"
     ]
    },
    {
     "data": {
      "application/vnd.jupyter.widget-view+json": {
       "model_id": "1e854a318c574df589e1b31905557460",
       "version_major": 2,
       "version_minor": 0
      },
      "text/plain": [
       "HBox(children=(FloatProgress(value=0.0, max=625.0), HTML(value='')))"
      ]
     },
     "metadata": {},
     "output_type": "display_data"
    },
    {
     "name": "stdout",
     "output_type": "stream",
     "text": [
      "\n",
      "tensor(-7.8990e-08, device='cuda:5')\n",
      "tensor(1.2358e-09, device='cuda:5')\n",
      "tensor(9.9148e-06, device='cuda:5')\n",
      "tensor(9.9148e-06, device='cuda:5')\n",
      "tensor(-8.8483e-08, device='cuda:5')\n",
      "tensor(-1.7264e-08, device='cuda:5')\n",
      "tensor(-3.6438e-06, device='cuda:5')\n",
      "tensor(-3.6438e-06, device='cuda:5')\n",
      "tensor(1.7343e-08, device='cuda:5')\n",
      "tensor(-1.0235e-07, device='cuda:5')\n",
      "tensor(-7.3706e-06, device='cuda:5')\n",
      "tensor(-7.3706e-06, device='cuda:5')\n",
      "tensor(-4.1511e-10, device='cuda:5')\n",
      "tensor(0., device='cuda:5')\n",
      "tensor(1.8284e-06, device='cuda:5')\n",
      "tensor(1.8284e-06, device='cuda:5')\n",
      "tensor(-2.1132e-06, device='cuda:5')\n",
      "tensor(-7.9234e-06, device='cuda:5')\n",
      "tensor(-6.0497e-12, device='cuda:5')\n",
      "tensor(-1.3970e-10, device='cuda:5')\n"
     ]
    },
    {
     "data": {
      "application/vnd.jupyter.widget-view+json": {
       "model_id": "efc0e47d8544414b8d08d6eda2d2811d",
       "version_major": 2,
       "version_minor": 0
      },
      "text/plain": [
       "HBox(children=(FloatProgress(value=0.0, max=40.0), HTML(value='')))"
      ]
     },
     "metadata": {},
     "output_type": "display_data"
    },
    {
     "name": "stdout",
     "output_type": "stream",
     "text": [
      "\n",
      "epoch time: 113.02952790260315\n",
      "mean loss train: 0.1941537635922432, mean loss val: 0.23468520526885986\n",
      "accuracy train: 0.948575, accuracy val: 0.9248\n",
      "---------------------------------------------------------------------------------------------------\n",
      "Epoch: 81, Learning Rate: 0.000125\n",
      "\n"
     ]
    },
    {
     "data": {
      "application/vnd.jupyter.widget-view+json": {
       "model_id": "e2154b7336cd44a09e271b5d383d4764",
       "version_major": 2,
       "version_minor": 0
      },
      "text/plain": [
       "HBox(children=(FloatProgress(value=0.0, max=625.0), HTML(value='')))"
      ]
     },
     "metadata": {},
     "output_type": "display_data"
    },
    {
     "name": "stdout",
     "output_type": "stream",
     "text": [
      "\n",
      "tensor(3.3748e-07, device='cuda:5')\n",
      "tensor(-2.4630e-09, device='cuda:5')\n",
      "tensor(-2.5224e-06, device='cuda:5')\n",
      "tensor(-2.5224e-06, device='cuda:5')\n",
      "tensor(4.3907e-08, device='cuda:5')\n",
      "tensor(4.1114e-09, device='cuda:5')\n",
      "tensor(-3.2035e-06, device='cuda:5')\n",
      "tensor(-3.2035e-06, device='cuda:5')\n",
      "tensor(1.2625e-09, device='cuda:5')\n",
      "tensor(3.7236e-08, device='cuda:5')\n",
      "tensor(-5.7911e-06, device='cuda:5')\n",
      "tensor(-5.7911e-06, device='cuda:5')\n",
      "tensor(-3.4651e-09, device='cuda:5')\n",
      "tensor(0., device='cuda:5')\n",
      "tensor(-4.8254e-07, device='cuda:5')\n",
      "tensor(-4.8254e-07, device='cuda:5')\n",
      "tensor(5.6365e-07, device='cuda:5')\n",
      "tensor(-7.8393e-05, device='cuda:5')\n",
      "tensor(2.2958e-10, device='cuda:5')\n",
      "tensor(4.6566e-10, device='cuda:5')\n"
     ]
    },
    {
     "data": {
      "application/vnd.jupyter.widget-view+json": {
       "model_id": "c57783f2e163438f88d78a8091d3cb0b",
       "version_major": 2,
       "version_minor": 0
      },
      "text/plain": [
       "HBox(children=(FloatProgress(value=0.0, max=40.0), HTML(value='')))"
      ]
     },
     "metadata": {},
     "output_type": "display_data"
    },
    {
     "name": "stdout",
     "output_type": "stream",
     "text": [
      "\n",
      "epoch time: 112.40381288528442\n",
      "mean loss train: 0.19438601886630058, mean loss val: 0.24266816086769105\n",
      "accuracy train: 0.948525, accuracy val: 0.9256\n",
      "---------------------------------------------------------------------------------------------------\n",
      "Epoch: 82, Learning Rate: 0.000125\n",
      "\n"
     ]
    },
    {
     "data": {
      "application/vnd.jupyter.widget-view+json": {
       "model_id": "a7032401bb5d42dcb808a8fd6db5dcdc",
       "version_major": 2,
       "version_minor": 0
      },
      "text/plain": [
       "HBox(children=(FloatProgress(value=0.0, max=625.0), HTML(value='')))"
      ]
     },
     "metadata": {},
     "output_type": "display_data"
    },
    {
     "name": "stdout",
     "output_type": "stream",
     "text": [
      "\n",
      "tensor(2.4747e-07, device='cuda:5')\n",
      "tensor(-4.0093e-08, device='cuda:5')\n",
      "tensor(2.1579e-05, device='cuda:5')\n",
      "tensor(2.1579e-05, device='cuda:5')\n",
      "tensor(-7.8152e-08, device='cuda:5')\n",
      "tensor(3.4070e-09, device='cuda:5')\n",
      "tensor(6.4044e-07, device='cuda:5')\n",
      "tensor(6.4044e-07, device='cuda:5')\n",
      "tensor(1.9289e-08, device='cuda:5')\n",
      "tensor(-2.0485e-08, device='cuda:5')\n",
      "tensor(-2.1793e-05, device='cuda:5')\n",
      "tensor(-2.1793e-05, device='cuda:5')\n",
      "tensor(-2.7079e-09, device='cuda:5')\n",
      "tensor(0., device='cuda:5')\n",
      "tensor(1.2642e-06, device='cuda:5')\n",
      "tensor(1.2642e-06, device='cuda:5')\n",
      "tensor(-1.7120e-06, device='cuda:5')\n",
      "tensor(-7.7185e-05, device='cuda:5')\n",
      "tensor(-3.4268e-10, device='cuda:5')\n",
      "tensor(-1.2107e-09, device='cuda:5')\n"
     ]
    },
    {
     "data": {
      "application/vnd.jupyter.widget-view+json": {
       "model_id": "bedb25c0adee4702892b9546462d440c",
       "version_major": 2,
       "version_minor": 0
      },
      "text/plain": [
       "HBox(children=(FloatProgress(value=0.0, max=40.0), HTML(value='')))"
      ]
     },
     "metadata": {},
     "output_type": "display_data"
    },
    {
     "name": "stdout",
     "output_type": "stream",
     "text": [
      "\n",
      "epoch time: 115.99735450744629\n",
      "mean loss train: 0.19249655829668044, mean loss val: 0.24592986495494842\n",
      "accuracy train: 0.948775, accuracy val: 0.9261\n",
      "---------------------------------------------------------------------------------------------------\n",
      "Epoch: 83, Learning Rate: 0.000125\n",
      "\n"
     ]
    },
    {
     "data": {
      "application/vnd.jupyter.widget-view+json": {
       "model_id": "9afe4682269c4ccf8609a6e7f1223f17",
       "version_major": 2,
       "version_minor": 0
      },
      "text/plain": [
       "HBox(children=(FloatProgress(value=0.0, max=625.0), HTML(value='')))"
      ]
     },
     "metadata": {},
     "output_type": "display_data"
    },
    {
     "name": "stdout",
     "output_type": "stream",
     "text": [
      "\n",
      "tensor(-1.7743e-05, device='cuda:5')\n",
      "tensor(3.3088e-07, device='cuda:5')\n",
      "tensor(-0.0008, device='cuda:5')\n",
      "tensor(-0.0008, device='cuda:5')\n",
      "tensor(3.6153e-06, device='cuda:5')\n",
      "tensor(-1.0531e-06, device='cuda:5')\n",
      "tensor(0.0001, device='cuda:5')\n",
      "tensor(0.0001, device='cuda:5')\n",
      "tensor(-4.1744e-07, device='cuda:5')\n",
      "tensor(1.0436e-06, device='cuda:5')\n",
      "tensor(0.0003, device='cuda:5')\n",
      "tensor(0.0003, device='cuda:5')\n",
      "tensor(-6.4993e-09, device='cuda:5')\n",
      "tensor(0., device='cuda:5')\n",
      "tensor(-1.1895e-05, device='cuda:5')\n",
      "tensor(-1.1895e-05, device='cuda:5')\n",
      "tensor(6.0345e-07, device='cuda:5')\n",
      "tensor(0.0003, device='cuda:5')\n",
      "tensor(-1.5528e-10, device='cuda:5')\n",
      "tensor(-6.5193e-10, device='cuda:5')\n"
     ]
    },
    {
     "data": {
      "application/vnd.jupyter.widget-view+json": {
       "model_id": "823d626477724318b87e7882f57a369d",
       "version_major": 2,
       "version_minor": 0
      },
      "text/plain": [
       "HBox(children=(FloatProgress(value=0.0, max=40.0), HTML(value='')))"
      ]
     },
     "metadata": {},
     "output_type": "display_data"
    },
    {
     "name": "stdout",
     "output_type": "stream",
     "text": [
      "\n",
      "epoch time: 115.0770308971405\n",
      "mean loss train: 0.19291147202849387, mean loss val: 0.26695023429393766\n",
      "accuracy train: 0.94895, accuracy val: 0.9235\n",
      "---------------------------------------------------------------------------------------------------\n",
      "Epoch: 84, Learning Rate: 0.000125\n",
      "\n"
     ]
    },
    {
     "data": {
      "application/vnd.jupyter.widget-view+json": {
       "model_id": "6b90bde231ee49849381a2c64e1b3133",
       "version_major": 2,
       "version_minor": 0
      },
      "text/plain": [
       "HBox(children=(FloatProgress(value=0.0, max=625.0), HTML(value='')))"
      ]
     },
     "metadata": {},
     "output_type": "display_data"
    },
    {
     "name": "stdout",
     "output_type": "stream",
     "text": [
      "\n",
      "tensor(-6.7591e-07, device='cuda:5')\n",
      "tensor(2.4184e-08, device='cuda:5')\n",
      "tensor(-8.8352e-05, device='cuda:5')\n",
      "tensor(-8.8352e-05, device='cuda:5')\n",
      "tensor(-1.2726e-06, device='cuda:5')\n",
      "tensor(1.3815e-08, device='cuda:5')\n",
      "tensor(5.8480e-05, device='cuda:5')\n",
      "tensor(5.8480e-05, device='cuda:5')\n",
      "tensor(3.1326e-08, device='cuda:5')\n",
      "tensor(1.4366e-07, device='cuda:5')\n",
      "tensor(1.8042e-05, device='cuda:5')\n",
      "tensor(1.8042e-05, device='cuda:5')\n",
      "tensor(1.7562e-08, device='cuda:5')\n",
      "tensor(0., device='cuda:5')\n",
      "tensor(-1.0100e-05, device='cuda:5')\n",
      "tensor(-1.0100e-05, device='cuda:5')\n",
      "tensor(-4.9192e-07, device='cuda:5')\n",
      "tensor(-0.0002, device='cuda:5')\n",
      "tensor(4.4676e-10, device='cuda:5')\n",
      "tensor(1.1176e-09, device='cuda:5')\n"
     ]
    },
    {
     "data": {
      "application/vnd.jupyter.widget-view+json": {
       "model_id": "71fe6505afc1402199c3066bd376bbb1",
       "version_major": 2,
       "version_minor": 0
      },
      "text/plain": [
       "HBox(children=(FloatProgress(value=0.0, max=40.0), HTML(value='')))"
      ]
     },
     "metadata": {},
     "output_type": "display_data"
    },
    {
     "name": "stdout",
     "output_type": "stream",
     "text": [
      "\n",
      "epoch time: 113.17768573760986\n",
      "mean loss train: 0.19241183111071586, mean loss val: 0.25340595939159394\n",
      "accuracy train: 0.948775, accuracy val: 0.9251\n",
      "---------------------------------------------------------------------------------------------------\n",
      "Epoch: 85, Learning Rate: 0.000125\n",
      "\n"
     ]
    },
    {
     "data": {
      "application/vnd.jupyter.widget-view+json": {
       "model_id": "859dee1b36aa4aa18ad864a75c429ed7",
       "version_major": 2,
       "version_minor": 0
      },
      "text/plain": [
       "HBox(children=(FloatProgress(value=0.0, max=625.0), HTML(value='')))"
      ]
     },
     "metadata": {},
     "output_type": "display_data"
    },
    {
     "name": "stdout",
     "output_type": "stream",
     "text": [
      "\n",
      "tensor(-2.6381e-07, device='cuda:5')\n",
      "tensor(3.0534e-11, device='cuda:5')\n",
      "tensor(3.1807e-05, device='cuda:5')\n",
      "tensor(3.1807e-05, device='cuda:5')\n",
      "tensor(-1.2112e-06, device='cuda:5')\n",
      "tensor(-5.1010e-08, device='cuda:5')\n",
      "tensor(3.7634e-05, device='cuda:5')\n",
      "tensor(3.7634e-05, device='cuda:5')\n",
      "tensor(5.7685e-08, device='cuda:5')\n",
      "tensor(7.5697e-08, device='cuda:5')\n",
      "tensor(-1.6604e-05, device='cuda:5')\n",
      "tensor(-1.6604e-05, device='cuda:5')\n",
      "tensor(-3.4926e-09, device='cuda:5')\n",
      "tensor(0., device='cuda:5')\n",
      "tensor(2.7603e-06, device='cuda:5')\n",
      "tensor(2.7603e-06, device='cuda:5')\n",
      "tensor(1.4336e-08, device='cuda:5')\n",
      "tensor(-3.0228e-05, device='cuda:5')\n",
      "tensor(-2.9534e-10, device='cuda:5')\n",
      "tensor(-5.5879e-10, device='cuda:5')\n"
     ]
    },
    {
     "data": {
      "application/vnd.jupyter.widget-view+json": {
       "model_id": "78085026084c4af6944fffb08d0ef7cf",
       "version_major": 2,
       "version_minor": 0
      },
      "text/plain": [
       "HBox(children=(FloatProgress(value=0.0, max=40.0), HTML(value='')))"
      ]
     },
     "metadata": {},
     "output_type": "display_data"
    },
    {
     "name": "stdout",
     "output_type": "stream",
     "text": [
      "\n",
      "epoch time: 114.05650544166565\n",
      "mean loss train: 0.1930114187180996, mean loss val: 0.24875233416557313\n",
      "accuracy train: 0.948825, accuracy val: 0.9258\n",
      "---------------------------------------------------------------------------------------------------\n",
      "Epoch: 86, Learning Rate: 0.000125\n",
      "\n"
     ]
    },
    {
     "data": {
      "application/vnd.jupyter.widget-view+json": {
       "model_id": "ce27f9a26fbf46efb39ee61b6a9b8e69",
       "version_major": 2,
       "version_minor": 0
      },
      "text/plain": [
       "HBox(children=(FloatProgress(value=0.0, max=625.0), HTML(value='')))"
      ]
     },
     "metadata": {},
     "output_type": "display_data"
    },
    {
     "name": "stdout",
     "output_type": "stream",
     "text": [
      "\n",
      "tensor(4.3040e-07, device='cuda:5')\n",
      "tensor(4.3918e-07, device='cuda:5')\n",
      "tensor(0.0002, device='cuda:5')\n",
      "tensor(0.0002, device='cuda:5')\n",
      "tensor(-5.9686e-06, device='cuda:5')\n",
      "tensor(-7.5059e-08, device='cuda:5')\n",
      "tensor(2.3385e-05, device='cuda:5')\n",
      "tensor(2.3385e-05, device='cuda:5')\n",
      "tensor(-1.6308e-07, device='cuda:5')\n",
      "tensor(1.9392e-07, device='cuda:5')\n",
      "tensor(8.9739e-05, device='cuda:5')\n",
      "tensor(8.9739e-05, device='cuda:5')\n",
      "tensor(1.3469e-08, device='cuda:5')\n",
      "tensor(0., device='cuda:5')\n",
      "tensor(-8.1157e-06, device='cuda:5')\n",
      "tensor(-8.1157e-06, device='cuda:5')\n",
      "tensor(-1.4300e-07, device='cuda:5')\n",
      "tensor(3.9228e-05, device='cuda:5')\n",
      "tensor(-1.6720e-10, device='cuda:5')\n",
      "tensor(-1.3970e-10, device='cuda:5')\n"
     ]
    },
    {
     "data": {
      "application/vnd.jupyter.widget-view+json": {
       "model_id": "4139c5cbd3214fa491ff25536502d302",
       "version_major": 2,
       "version_minor": 0
      },
      "text/plain": [
       "HBox(children=(FloatProgress(value=0.0, max=40.0), HTML(value='')))"
      ]
     },
     "metadata": {},
     "output_type": "display_data"
    },
    {
     "name": "stdout",
     "output_type": "stream",
     "text": [
      "\n",
      "epoch time: 112.57113194465637\n",
      "mean loss train: 0.19163845599293708, mean loss val: 0.24685894110202788\n",
      "accuracy train: 0.9491, accuracy val: 0.9248\n",
      "---------------------------------------------------------------------------------------------------\n",
      "Epoch: 87, Learning Rate: 0.000125\n",
      "\n"
     ]
    },
    {
     "data": {
      "application/vnd.jupyter.widget-view+json": {
       "model_id": "c169a9941bb04bf691c598d74a2c03f9",
       "version_major": 2,
       "version_minor": 0
      },
      "text/plain": [
       "HBox(children=(FloatProgress(value=0.0, max=625.0), HTML(value='')))"
      ]
     },
     "metadata": {},
     "output_type": "display_data"
    },
    {
     "name": "stdout",
     "output_type": "stream",
     "text": [
      "\n",
      "tensor(1.6605e-07, device='cuda:5')\n",
      "tensor(-1.2691e-08, device='cuda:5')\n",
      "tensor(-1.4362e-07, device='cuda:5')\n",
      "tensor(-1.4362e-07, device='cuda:5')\n",
      "tensor(3.1877e-08, device='cuda:5')\n",
      "tensor(9.2005e-09, device='cuda:5')\n",
      "tensor(-1.9082e-06, device='cuda:5')\n",
      "tensor(-1.9082e-06, device='cuda:5')\n",
      "tensor(-8.0764e-09, device='cuda:5')\n",
      "tensor(-2.6144e-08, device='cuda:5')\n",
      "tensor(-1.2809e-06, device='cuda:5')\n",
      "tensor(-1.2809e-06, device='cuda:5')\n",
      "tensor(1.0307e-08, device='cuda:5')\n",
      "tensor(0., device='cuda:5')\n",
      "tensor(-1.1118e-07, device='cuda:5')\n",
      "tensor(-1.1118e-07, device='cuda:5')\n",
      "tensor(3.8019e-07, device='cuda:5')\n",
      "tensor(2.1816e-05, device='cuda:5')\n",
      "tensor(2.8102e-11, device='cuda:5')\n",
      "tensor(-1.8626e-10, device='cuda:5')\n"
     ]
    },
    {
     "data": {
      "application/vnd.jupyter.widget-view+json": {
       "model_id": "269442926e2b46aa816e188f78a32a41",
       "version_major": 2,
       "version_minor": 0
      },
      "text/plain": [
       "HBox(children=(FloatProgress(value=0.0, max=40.0), HTML(value='')))"
      ]
     },
     "metadata": {},
     "output_type": "display_data"
    },
    {
     "name": "stdout",
     "output_type": "stream",
     "text": [
      "\n",
      "epoch time: 115.15824627876282\n",
      "mean loss train: 0.1942341329038143, mean loss val: 0.24693557472229005\n",
      "accuracy train: 0.949075, accuracy val: 0.9264\n",
      "---------------------------------------------------------------------------------------------------\n",
      "Epoch: 88, Learning Rate: 0.000125\n",
      "\n"
     ]
    },
    {
     "data": {
      "application/vnd.jupyter.widget-view+json": {
       "model_id": "48bfe64969c4430b97a144f22954857a",
       "version_major": 2,
       "version_minor": 0
      },
      "text/plain": [
       "HBox(children=(FloatProgress(value=0.0, max=625.0), HTML(value='')))"
      ]
     },
     "metadata": {},
     "output_type": "display_data"
    },
    {
     "name": "stdout",
     "output_type": "stream",
     "text": [
      "\n",
      "tensor(-1.3888e-08, device='cuda:5')\n",
      "tensor(1.0331e-08, device='cuda:5')\n",
      "tensor(-3.4158e-06, device='cuda:5')\n",
      "tensor(-3.4158e-06, device='cuda:5')\n",
      "tensor(3.5939e-08, device='cuda:5')\n",
      "tensor(3.2813e-08, device='cuda:5')\n",
      "tensor(-2.7709e-06, device='cuda:5')\n",
      "tensor(-2.7709e-06, device='cuda:5')\n",
      "tensor(2.8778e-09, device='cuda:5')\n",
      "tensor(2.2319e-08, device='cuda:5')\n",
      "tensor(-4.7105e-06, device='cuda:5')\n",
      "tensor(-4.7105e-06, device='cuda:5')\n",
      "tensor(-1.2008e-09, device='cuda:5')\n",
      "tensor(0., device='cuda:5')\n",
      "tensor(-4.2761e-07, device='cuda:5')\n",
      "tensor(-4.2761e-07, device='cuda:5')\n",
      "tensor(1.2787e-07, device='cuda:5')\n",
      "tensor(-8.4647e-05, device='cuda:5')\n",
      "tensor(-2.9977e-10, device='cuda:5')\n",
      "tensor(-1.1176e-09, device='cuda:5')\n"
     ]
    },
    {
     "data": {
      "application/vnd.jupyter.widget-view+json": {
       "model_id": "821958e81a234f53a8667feb89cdc646",
       "version_major": 2,
       "version_minor": 0
      },
      "text/plain": [
       "HBox(children=(FloatProgress(value=0.0, max=40.0), HTML(value='')))"
      ]
     },
     "metadata": {},
     "output_type": "display_data"
    },
    {
     "name": "stdout",
     "output_type": "stream",
     "text": [
      "\n",
      "epoch time: 114.65167617797852\n",
      "mean loss train: 0.1923170069515705, mean loss val: 0.25660061848163607\n",
      "accuracy train: 0.94875, accuracy val: 0.925\n",
      "---------------------------------------------------------------------------------------------------\n",
      "Epoch: 89, Learning Rate: 0.000125\n",
      "\n"
     ]
    },
    {
     "data": {
      "application/vnd.jupyter.widget-view+json": {
       "model_id": "1e0df06e05da4664ace799b1535dcfe4",
       "version_major": 2,
       "version_minor": 0
      },
      "text/plain": [
       "HBox(children=(FloatProgress(value=0.0, max=625.0), HTML(value='')))"
      ]
     },
     "metadata": {},
     "output_type": "display_data"
    },
    {
     "name": "stdout",
     "output_type": "stream",
     "text": [
      "\n",
      "tensor(1.2016e-06, device='cuda:5')\n",
      "tensor(5.1482e-08, device='cuda:5')\n",
      "tensor(-3.4486e-05, device='cuda:5')\n",
      "tensor(-3.4486e-05, device='cuda:5')\n",
      "tensor(9.8142e-07, device='cuda:5')\n",
      "tensor(-3.4935e-08, device='cuda:5')\n",
      "tensor(-1.4985e-05, device='cuda:5')\n",
      "tensor(-1.4985e-05, device='cuda:5')\n",
      "tensor(1.4667e-08, device='cuda:5')\n",
      "tensor(-4.1470e-09, device='cuda:5')\n",
      "tensor(-3.7874e-06, device='cuda:5')\n",
      "tensor(-3.7874e-06, device='cuda:5')\n",
      "tensor(6.2257e-09, device='cuda:5')\n",
      "tensor(0., device='cuda:5')\n",
      "tensor(7.8255e-07, device='cuda:5')\n",
      "tensor(7.8255e-07, device='cuda:5')\n",
      "tensor(2.1725e-07, device='cuda:5')\n",
      "tensor(-7.1850e-05, device='cuda:5')\n",
      "tensor(4.4240e-10, device='cuda:5')\n",
      "tensor(8.3819e-10, device='cuda:5')\n"
     ]
    },
    {
     "data": {
      "application/vnd.jupyter.widget-view+json": {
       "model_id": "0fa7b9e297544e40b732cb13fde0058c",
       "version_major": 2,
       "version_minor": 0
      },
      "text/plain": [
       "HBox(children=(FloatProgress(value=0.0, max=40.0), HTML(value='')))"
      ]
     },
     "metadata": {},
     "output_type": "display_data"
    },
    {
     "name": "stdout",
     "output_type": "stream",
     "text": [
      "\n",
      "epoch time: 115.43766450881958\n",
      "mean loss train: 0.19351100116968156, mean loss val: 0.2538813900709152\n",
      "accuracy train: 0.94875, accuracy val: 0.9257\n",
      "---------------------------------------------------------------------------------------------------\n",
      "Epoch: 90, Learning Rate: 0.000125\n",
      "\n"
     ]
    },
    {
     "data": {
      "application/vnd.jupyter.widget-view+json": {
       "model_id": "42ff329f446741c49c3c7cf77fbc9885",
       "version_major": 2,
       "version_minor": 0
      },
      "text/plain": [
       "HBox(children=(FloatProgress(value=0.0, max=625.0), HTML(value='')))"
      ]
     },
     "metadata": {},
     "output_type": "display_data"
    },
    {
     "name": "stdout",
     "output_type": "stream",
     "text": [
      "\n",
      "tensor(-1.9352e-07, device='cuda:5')\n",
      "tensor(-1.8352e-08, device='cuda:5')\n",
      "tensor(-8.0113e-06, device='cuda:5')\n",
      "tensor(-8.0113e-06, device='cuda:5')\n",
      "tensor(3.2793e-07, device='cuda:5')\n",
      "tensor(1.2736e-08, device='cuda:5')\n",
      "tensor(-3.7408e-06, device='cuda:5')\n",
      "tensor(-3.7408e-06, device='cuda:5')\n",
      "tensor(-7.6145e-09, device='cuda:5')\n",
      "tensor(-4.5515e-09, device='cuda:5')\n",
      "tensor(4.1527e-06, device='cuda:5')\n",
      "tensor(4.1527e-06, device='cuda:5')\n",
      "tensor(-7.6728e-09, device='cuda:5')\n",
      "tensor(0., device='cuda:5')\n",
      "tensor(4.9360e-07, device='cuda:5')\n",
      "tensor(4.9360e-07, device='cuda:5')\n",
      "tensor(7.2879e-07, device='cuda:5')\n",
      "tensor(4.8787e-06, device='cuda:5')\n",
      "tensor(-3.1134e-12, device='cuda:5')\n",
      "tensor(-1.8626e-10, device='cuda:5')\n"
     ]
    },
    {
     "data": {
      "application/vnd.jupyter.widget-view+json": {
       "model_id": "016bf3622e6c470fb2f24885fcbd2e5f",
       "version_major": 2,
       "version_minor": 0
      },
      "text/plain": [
       "HBox(children=(FloatProgress(value=0.0, max=40.0), HTML(value='')))"
      ]
     },
     "metadata": {},
     "output_type": "display_data"
    },
    {
     "name": "stdout",
     "output_type": "stream",
     "text": [
      "\n",
      "epoch time: 114.52819681167603\n",
      "mean loss train: 0.19368417557477952, mean loss val: 0.2737861522436142\n",
      "accuracy train: 0.949025, accuracy val: 0.9238\n",
      "---------------------------------------------------------------------------------------------------\n",
      "Epoch: 91, Learning Rate: 0.000125\n",
      "\n"
     ]
    },
    {
     "data": {
      "application/vnd.jupyter.widget-view+json": {
       "model_id": "9db547dec69c4e9ab1d06ea63091e009",
       "version_major": 2,
       "version_minor": 0
      },
      "text/plain": [
       "HBox(children=(FloatProgress(value=0.0, max=625.0), HTML(value='')))"
      ]
     },
     "metadata": {},
     "output_type": "display_data"
    },
    {
     "name": "stdout",
     "output_type": "stream",
     "text": [
      "\n",
      "tensor(6.5109e-07, device='cuda:5')\n",
      "tensor(-2.8077e-09, device='cuda:5')\n",
      "tensor(-1.3923e-05, device='cuda:5')\n",
      "tensor(-1.3923e-05, device='cuda:5')\n",
      "tensor(2.3794e-07, device='cuda:5')\n",
      "tensor(-1.5606e-08, device='cuda:5')\n",
      "tensor(7.6188e-07, device='cuda:5')\n",
      "tensor(7.6188e-07, device='cuda:5')\n",
      "tensor(1.4439e-09, device='cuda:5')\n",
      "tensor(5.2072e-09, device='cuda:5')\n",
      "tensor(-1.4974e-06, device='cuda:5')\n",
      "tensor(-1.4974e-06, device='cuda:5')\n",
      "tensor(-3.7859e-09, device='cuda:5')\n",
      "tensor(0., device='cuda:5')\n",
      "tensor(-2.3340e-07, device='cuda:5')\n",
      "tensor(-2.3340e-07, device='cuda:5')\n",
      "tensor(-8.0419e-08, device='cuda:5')\n",
      "tensor(-1.7375e-06, device='cuda:5')\n",
      "tensor(-8.6881e-11, device='cuda:5')\n",
      "tensor(-4.6566e-11, device='cuda:5')\n"
     ]
    },
    {
     "data": {
      "application/vnd.jupyter.widget-view+json": {
       "model_id": "d32f49c6b0014e0aa043a09322a33481",
       "version_major": 2,
       "version_minor": 0
      },
      "text/plain": [
       "HBox(children=(FloatProgress(value=0.0, max=40.0), HTML(value='')))"
      ]
     },
     "metadata": {},
     "output_type": "display_data"
    },
    {
     "name": "stdout",
     "output_type": "stream",
     "text": [
      "\n",
      "epoch time: 113.56801342964172\n",
      "mean loss train: 0.1926995544075966, mean loss val: 0.25510356884002683\n",
      "accuracy train: 0.94895, accuracy val: 0.9251\n",
      "---------------------------------------------------------------------------------------------------\n",
      "Epoch: 92, Learning Rate: 0.000125\n",
      "\n"
     ]
    },
    {
     "data": {
      "application/vnd.jupyter.widget-view+json": {
       "model_id": "a185dce7ebef41218e360e2f33fb44ed",
       "version_major": 2,
       "version_minor": 0
      },
      "text/plain": [
       "HBox(children=(FloatProgress(value=0.0, max=625.0), HTML(value='')))"
      ]
     },
     "metadata": {},
     "output_type": "display_data"
    },
    {
     "name": "stdout",
     "output_type": "stream",
     "text": [
      "\n",
      "tensor(3.0820e-08, device='cuda:5')\n",
      "tensor(1.7981e-09, device='cuda:5')\n",
      "tensor(-2.9521e-06, device='cuda:5')\n",
      "tensor(-2.9521e-06, device='cuda:5')\n",
      "tensor(-1.8012e-07, device='cuda:5')\n",
      "tensor(-1.7446e-08, device='cuda:5')\n",
      "tensor(-2.4018e-06, device='cuda:5')\n",
      "tensor(-2.4018e-06, device='cuda:5')\n",
      "tensor(2.4722e-10, device='cuda:5')\n",
      "tensor(2.4161e-08, device='cuda:5')\n",
      "tensor(1.7646e-07, device='cuda:5')\n",
      "tensor(1.7646e-07, device='cuda:5')\n",
      "tensor(-9.6378e-10, device='cuda:5')\n",
      "tensor(0., device='cuda:5')\n",
      "tensor(9.5703e-07, device='cuda:5')\n",
      "tensor(9.5703e-07, device='cuda:5')\n",
      "tensor(-6.5865e-07, device='cuda:5')\n",
      "tensor(6.3523e-05, device='cuda:5')\n",
      "tensor(1.9537e-10, device='cuda:5')\n",
      "tensor(2.7940e-10, device='cuda:5')\n"
     ]
    },
    {
     "data": {
      "application/vnd.jupyter.widget-view+json": {
       "model_id": "54bfa2e279c54185bcecfd046ee618a7",
       "version_major": 2,
       "version_minor": 0
      },
      "text/plain": [
       "HBox(children=(FloatProgress(value=0.0, max=40.0), HTML(value='')))"
      ]
     },
     "metadata": {},
     "output_type": "display_data"
    },
    {
     "name": "stdout",
     "output_type": "stream",
     "text": [
      "\n",
      "epoch time: 111.51143503189087\n",
      "mean loss train: 0.19147950248122214, mean loss val: 0.26158434431552885\n",
      "accuracy train: 0.94895, accuracy val: 0.9247\n",
      "---------------------------------------------------------------------------------------------------\n",
      "Epoch: 93, Learning Rate: 0.000125\n",
      "\n"
     ]
    },
    {
     "data": {
      "application/vnd.jupyter.widget-view+json": {
       "model_id": "0f00139b150a4a079e7ae91b6dcc2ed6",
       "version_major": 2,
       "version_minor": 0
      },
      "text/plain": [
       "HBox(children=(FloatProgress(value=0.0, max=625.0), HTML(value='')))"
      ]
     },
     "metadata": {},
     "output_type": "display_data"
    },
    {
     "name": "stdout",
     "output_type": "stream",
     "text": [
      "\n",
      "tensor(-9.7335e-05, device='cuda:5')\n",
      "tensor(1.0395e-06, device='cuda:5')\n",
      "tensor(0.0020, device='cuda:5')\n",
      "tensor(0.0020, device='cuda:5')\n",
      "tensor(-9.6273e-06, device='cuda:5')\n",
      "tensor(-3.9228e-07, device='cuda:5')\n",
      "tensor(-0.0007, device='cuda:5')\n",
      "tensor(-0.0007, device='cuda:5')\n",
      "tensor(2.1970e-08, device='cuda:5')\n",
      "tensor(1.9328e-07, device='cuda:5')\n",
      "tensor(-0.0001, device='cuda:5')\n",
      "tensor(-0.0001, device='cuda:5')\n",
      "tensor(2.0925e-08, device='cuda:5')\n",
      "tensor(0., device='cuda:5')\n",
      "tensor(1.5441e-05, device='cuda:5')\n",
      "tensor(1.5441e-05, device='cuda:5')\n",
      "tensor(2.3052e-07, device='cuda:5')\n",
      "tensor(0.0005, device='cuda:5')\n",
      "tensor(-5.2348e-11, device='cuda:5')\n",
      "tensor(9.3132e-11, device='cuda:5')\n"
     ]
    },
    {
     "data": {
      "application/vnd.jupyter.widget-view+json": {
       "model_id": "a99ff61afef6425a871f9195c618274f",
       "version_major": 2,
       "version_minor": 0
      },
      "text/plain": [
       "HBox(children=(FloatProgress(value=0.0, max=40.0), HTML(value='')))"
      ]
     },
     "metadata": {},
     "output_type": "display_data"
    },
    {
     "name": "stdout",
     "output_type": "stream",
     "text": [
      "\n",
      "epoch time: 112.95213603973389\n",
      "mean loss train: 0.1921943910241127, mean loss val: 0.2606901730775833\n",
      "accuracy train: 0.94875, accuracy val: 0.9233\n",
      "---------------------------------------------------------------------------------------------------\n",
      "Epoch: 94, Learning Rate: 0.000125\n",
      "\n"
     ]
    },
    {
     "data": {
      "application/vnd.jupyter.widget-view+json": {
       "model_id": "a05379a5d07b409d91fc7d3bd29a11e4",
       "version_major": 2,
       "version_minor": 0
      },
      "text/plain": [
       "HBox(children=(FloatProgress(value=0.0, max=625.0), HTML(value='')))"
      ]
     },
     "metadata": {},
     "output_type": "display_data"
    },
    {
     "name": "stdout",
     "output_type": "stream",
     "text": [
      "\n",
      "tensor(-4.6651e-08, device='cuda:5')\n",
      "tensor(-2.1806e-08, device='cuda:5')\n",
      "tensor(5.3876e-08, device='cuda:5')\n",
      "tensor(5.3876e-08, device='cuda:5')\n",
      "tensor(8.2738e-08, device='cuda:5')\n",
      "tensor(-1.1933e-08, device='cuda:5')\n",
      "tensor(3.0580e-06, device='cuda:5')\n",
      "tensor(3.0580e-06, device='cuda:5')\n",
      "tensor(-1.5468e-08, device='cuda:5')\n",
      "tensor(-6.2205e-08, device='cuda:5')\n",
      "tensor(-1.6356e-07, device='cuda:5')\n",
      "tensor(-1.6356e-07, device='cuda:5')\n",
      "tensor(-1.1262e-08, device='cuda:5')\n",
      "tensor(0., device='cuda:5')\n",
      "tensor(-1.1557e-06, device='cuda:5')\n",
      "tensor(-1.1557e-06, device='cuda:5')\n",
      "tensor(-2.1025e-08, device='cuda:5')\n",
      "tensor(-5.8332e-06, device='cuda:5')\n",
      "tensor(-4.0364e-10, device='cuda:5')\n",
      "tensor(-9.7789e-10, device='cuda:5')\n"
     ]
    },
    {
     "data": {
      "application/vnd.jupyter.widget-view+json": {
       "model_id": "6d23e82a744e411fb9cebd44b3d59798",
       "version_major": 2,
       "version_minor": 0
      },
      "text/plain": [
       "HBox(children=(FloatProgress(value=0.0, max=40.0), HTML(value='')))"
      ]
     },
     "metadata": {},
     "output_type": "display_data"
    },
    {
     "name": "stdout",
     "output_type": "stream",
     "text": [
      "\n",
      "epoch time: 114.73159909248352\n",
      "mean loss train: 0.19070335596203805, mean loss val: 0.2594261189699173\n",
      "accuracy train: 0.949025, accuracy val: 0.9256\n",
      "---------------------------------------------------------------------------------------------------\n",
      "Epoch: 95, Learning Rate: 0.000125\n",
      "\n"
     ]
    },
    {
     "data": {
      "application/vnd.jupyter.widget-view+json": {
       "model_id": "70af27fcc611439c95fb80a977ec5075",
       "version_major": 2,
       "version_minor": 0
      },
      "text/plain": [
       "HBox(children=(FloatProgress(value=0.0, max=625.0), HTML(value='')))"
      ]
     },
     "metadata": {},
     "output_type": "display_data"
    },
    {
     "name": "stdout",
     "output_type": "stream",
     "text": [
      "\n",
      "tensor(5.2428e-06, device='cuda:5')\n",
      "tensor(-5.2056e-08, device='cuda:5')\n",
      "tensor(0.0002, device='cuda:5')\n",
      "tensor(0.0002, device='cuda:5')\n",
      "tensor(-4.4052e-07, device='cuda:5')\n",
      "tensor(5.9688e-08, device='cuda:5')\n",
      "tensor(-1.2673e-05, device='cuda:5')\n",
      "tensor(-1.2673e-05, device='cuda:5')\n",
      "tensor(4.6987e-08, device='cuda:5')\n",
      "tensor(4.3159e-08, device='cuda:5')\n",
      "tensor(-4.3049e-05, device='cuda:5')\n",
      "tensor(-4.3049e-05, device='cuda:5')\n",
      "tensor(2.4027e-09, device='cuda:5')\n",
      "tensor(0., device='cuda:5')\n",
      "tensor(1.5013e-06, device='cuda:5')\n",
      "tensor(1.5013e-06, device='cuda:5')\n",
      "tensor(1.6844e-07, device='cuda:5')\n",
      "tensor(1.9039e-05, device='cuda:5')\n",
      "tensor(-1.0481e-10, device='cuda:5')\n",
      "tensor(0., device='cuda:5')\n"
     ]
    },
    {
     "data": {
      "application/vnd.jupyter.widget-view+json": {
       "model_id": "c030d587c04b4db49fc0de5b174182d4",
       "version_major": 2,
       "version_minor": 0
      },
      "text/plain": [
       "HBox(children=(FloatProgress(value=0.0, max=40.0), HTML(value='')))"
      ]
     },
     "metadata": {},
     "output_type": "display_data"
    },
    {
     "name": "stdout",
     "output_type": "stream",
     "text": [
      "\n",
      "epoch time: 114.99785113334656\n",
      "mean loss train: 0.19215550060272216, mean loss val: 0.267262784576416\n",
      "accuracy train: 0.949025, accuracy val: 0.9234\n",
      "---------------------------------------------------------------------------------------------------\n",
      "Epoch: 96, Learning Rate: 0.000125\n",
      "\n"
     ]
    },
    {
     "data": {
      "application/vnd.jupyter.widget-view+json": {
       "model_id": "71048ba9b566464b9863a2b25f7e8b4e",
       "version_major": 2,
       "version_minor": 0
      },
      "text/plain": [
       "HBox(children=(FloatProgress(value=0.0, max=625.0), HTML(value='')))"
      ]
     },
     "metadata": {},
     "output_type": "display_data"
    },
    {
     "name": "stdout",
     "output_type": "stream",
     "text": [
      "\n",
      "tensor(2.3980e-07, device='cuda:5')\n",
      "tensor(-8.5206e-09, device='cuda:5')\n",
      "tensor(-4.4661e-06, device='cuda:5')\n",
      "tensor(-4.4661e-06, device='cuda:5')\n",
      "tensor(-4.5503e-08, device='cuda:5')\n",
      "tensor(1.1622e-08, device='cuda:5')\n",
      "tensor(-3.6146e-06, device='cuda:5')\n",
      "tensor(-3.6146e-06, device='cuda:5')\n",
      "tensor(-4.0957e-10, device='cuda:5')\n",
      "tensor(-1.3778e-07, device='cuda:5')\n",
      "tensor(6.9329e-06, device='cuda:5')\n",
      "tensor(6.9329e-06, device='cuda:5')\n",
      "tensor(-2.9522e-09, device='cuda:5')\n",
      "tensor(0., device='cuda:5')\n",
      "tensor(-1.4265e-06, device='cuda:5')\n",
      "tensor(-1.4265e-06, device='cuda:5')\n",
      "tensor(-4.2413e-07, device='cuda:5')\n",
      "tensor(-1.3214e-05, device='cuda:5')\n",
      "tensor(3.7363e-11, device='cuda:5')\n",
      "tensor(4.6566e-10, device='cuda:5')\n"
     ]
    },
    {
     "data": {
      "application/vnd.jupyter.widget-view+json": {
       "model_id": "49fb4781e74a44bf938e49fe58de1eaa",
       "version_major": 2,
       "version_minor": 0
      },
      "text/plain": [
       "HBox(children=(FloatProgress(value=0.0, max=40.0), HTML(value='')))"
      ]
     },
     "metadata": {},
     "output_type": "display_data"
    },
    {
     "name": "stdout",
     "output_type": "stream",
     "text": [
      "\n",
      "epoch time: 113.74060130119324\n",
      "mean loss train: 0.19249179381728174, mean loss val: 0.26925526461601257\n",
      "accuracy train: 0.948925, accuracy val: 0.9251\n",
      "---------------------------------------------------------------------------------------------------\n",
      "Epoch: 97, Learning Rate: 0.000125\n",
      "\n"
     ]
    },
    {
     "data": {
      "application/vnd.jupyter.widget-view+json": {
       "model_id": "5ad3b27823d84503aa211abba674728d",
       "version_major": 2,
       "version_minor": 0
      },
      "text/plain": [
       "HBox(children=(FloatProgress(value=0.0, max=625.0), HTML(value='')))"
      ]
     },
     "metadata": {},
     "output_type": "display_data"
    },
    {
     "name": "stdout",
     "output_type": "stream",
     "text": [
      "\n",
      "tensor(1.0454e-07, device='cuda:5')\n",
      "tensor(1.6393e-08, device='cuda:5')\n",
      "tensor(1.1323e-05, device='cuda:5')\n",
      "tensor(1.1323e-05, device='cuda:5')\n",
      "tensor(3.1461e-07, device='cuda:5')\n",
      "tensor(4.3151e-08, device='cuda:5')\n",
      "tensor(6.7632e-06, device='cuda:5')\n",
      "tensor(6.7632e-06, device='cuda:5')\n",
      "tensor(4.4074e-09, device='cuda:5')\n",
      "tensor(3.2883e-09, device='cuda:5')\n",
      "tensor(-7.1562e-06, device='cuda:5')\n",
      "tensor(-7.1562e-06, device='cuda:5')\n",
      "tensor(-1.0285e-08, device='cuda:5')\n",
      "tensor(0., device='cuda:5')\n",
      "tensor(3.7006e-07, device='cuda:5')\n",
      "tensor(3.7006e-07, device='cuda:5')\n",
      "tensor(-1.6466e-07, device='cuda:5')\n",
      "tensor(-3.6665e-05, device='cuda:5')\n",
      "tensor(-2.2029e-10, device='cuda:5')\n",
      "tensor(-7.9162e-10, device='cuda:5')\n"
     ]
    },
    {
     "data": {
      "application/vnd.jupyter.widget-view+json": {
       "model_id": "a7f6674b058c4396aa6faf6b28b213c9",
       "version_major": 2,
       "version_minor": 0
      },
      "text/plain": [
       "HBox(children=(FloatProgress(value=0.0, max=40.0), HTML(value='')))"
      ]
     },
     "metadata": {},
     "output_type": "display_data"
    },
    {
     "name": "stdout",
     "output_type": "stream",
     "text": [
      "\n",
      "epoch time: 115.07014155387878\n",
      "mean loss train: 0.19357442402243613, mean loss val: 0.2564662788629532\n",
      "accuracy train: 0.948775, accuracy val: 0.9254\n",
      "---------------------------------------------------------------------------------------------------\n",
      "Epoch: 98, Learning Rate: 0.000125\n",
      "\n"
     ]
    },
    {
     "data": {
      "application/vnd.jupyter.widget-view+json": {
       "model_id": "074e6b742b08421888f921e51d5391a5",
       "version_major": 2,
       "version_minor": 0
      },
      "text/plain": [
       "HBox(children=(FloatProgress(value=0.0, max=625.0), HTML(value='')))"
      ]
     },
     "metadata": {},
     "output_type": "display_data"
    },
    {
     "name": "stdout",
     "output_type": "stream",
     "text": [
      "\n",
      "tensor(5.9801e-10, device='cuda:5')\n",
      "tensor(1.1458e-08, device='cuda:5')\n",
      "tensor(1.6153e-07, device='cuda:5')\n",
      "tensor(1.6153e-07, device='cuda:5')\n",
      "tensor(8.4904e-08, device='cuda:5')\n",
      "tensor(-7.7051e-10, device='cuda:5')\n",
      "tensor(7.4252e-07, device='cuda:5')\n",
      "tensor(7.4252e-07, device='cuda:5')\n",
      "tensor(-6.8640e-09, device='cuda:5')\n",
      "tensor(2.0559e-08, device='cuda:5')\n",
      "tensor(-2.0053e-06, device='cuda:5')\n",
      "tensor(-2.0053e-06, device='cuda:5')\n",
      "tensor(1.0131e-08, device='cuda:5')\n",
      "tensor(0., device='cuda:5')\n",
      "tensor(8.8920e-07, device='cuda:5')\n",
      "tensor(8.8920e-07, device='cuda:5')\n",
      "tensor(-1.4015e-07, device='cuda:5')\n",
      "tensor(0.0001, device='cuda:5')\n",
      "tensor(1.2104e-11, device='cuda:5')\n",
      "tensor(6.5193e-10, device='cuda:5')\n"
     ]
    },
    {
     "data": {
      "application/vnd.jupyter.widget-view+json": {
       "model_id": "e4a1b19f7e2b4144894b87e5a753cc3e",
       "version_major": 2,
       "version_minor": 0
      },
      "text/plain": [
       "HBox(children=(FloatProgress(value=0.0, max=40.0), HTML(value='')))"
      ]
     },
     "metadata": {},
     "output_type": "display_data"
    },
    {
     "name": "stdout",
     "output_type": "stream",
     "text": [
      "\n",
      "epoch time: 111.61937046051025\n",
      "mean loss train: 0.19121258307099342, mean loss val: 0.2617683702468872\n",
      "accuracy train: 0.94915, accuracy val: 0.9267\n",
      "---------------------------------------------------------------------------------------------------\n",
      "Epoch: 99, Learning Rate: 0.000125\n",
      "\n"
     ]
    },
    {
     "data": {
      "application/vnd.jupyter.widget-view+json": {
       "model_id": "38bf1ee0238e4a5598cf13cf87bd2f87",
       "version_major": 2,
       "version_minor": 0
      },
      "text/plain": [
       "HBox(children=(FloatProgress(value=0.0, max=625.0), HTML(value='')))"
      ]
     },
     "metadata": {},
     "output_type": "display_data"
    },
    {
     "name": "stdout",
     "output_type": "stream",
     "text": [
      "\n",
      "tensor(4.3319e-07, device='cuda:5')\n",
      "tensor(-1.8057e-08, device='cuda:5')\n",
      "tensor(-7.2493e-06, device='cuda:5')\n",
      "tensor(-7.2493e-06, device='cuda:5')\n",
      "tensor(-3.8309e-07, device='cuda:5')\n",
      "tensor(-4.4848e-09, device='cuda:5')\n",
      "tensor(-2.3495e-05, device='cuda:5')\n",
      "tensor(-2.3495e-05, device='cuda:5')\n",
      "tensor(2.5341e-08, device='cuda:5')\n",
      "tensor(-7.6766e-08, device='cuda:5')\n",
      "tensor(-1.4664e-05, device='cuda:5')\n",
      "tensor(-1.4664e-05, device='cuda:5')\n",
      "tensor(6.5720e-09, device='cuda:5')\n",
      "tensor(0., device='cuda:5')\n",
      "tensor(8.1556e-07, device='cuda:5')\n",
      "tensor(8.1556e-07, device='cuda:5')\n",
      "tensor(-4.5684e-07, device='cuda:5')\n",
      "tensor(4.0261e-05, device='cuda:5')\n",
      "tensor(2.8986e-10, device='cuda:5')\n",
      "tensor(3.7253e-10, device='cuda:5')\n"
     ]
    },
    {
     "data": {
      "application/vnd.jupyter.widget-view+json": {
       "model_id": "eb28af242f0e45c7aa9698a1537f829b",
       "version_major": 2,
       "version_minor": 0
      },
      "text/plain": [
       "HBox(children=(FloatProgress(value=0.0, max=40.0), HTML(value='')))"
      ]
     },
     "metadata": {},
     "output_type": "display_data"
    },
    {
     "name": "stdout",
     "output_type": "stream",
     "text": [
      "\n",
      "epoch time: 112.11716508865356\n",
      "mean loss train: 0.19219387510418892, mean loss val: 0.2633366003513336\n",
      "accuracy train: 0.9489, accuracy val: 0.9248\n",
      "---------------------------------------------------------------------------------------------------\n"
     ]
    }
   ],
   "source": [
    "loss_train_all, loss_val_all = [], []\n",
    "accuracy_train_all, accuracy_val_all = [], []\n",
    "\n",
    "for epoch in range(NUM_EPOCHS):\n",
    "\n",
    "    start = time.time()\n",
    "    print(f'Epoch: {epoch}, Learning Rate: {scheduler.get_last_lr()[0]}\\n')\n",
    "#     print(f'Epoch: {epoch}\\n')\n",
    "\n",
    "    loss_train_epoch, loss_val_epoch = 0, 0\n",
    "    correct_train_epoch, correct_val_epoch = 0, 0\n",
    "    n_train, n_val = 0, 0\n",
    "\n",
    "    model.train()\n",
    "    for (X_batch_train, X_batch_lengths_train, y_batch_train) in tqdm(train_dl):\n",
    "\n",
    "        X_batch_train, X_batch_lengths_train, y_batch_train =\\\n",
    "                    X_batch_train.to(device), X_batch_lengths_train.to(device), y_batch_train.to(device)\n",
    "\n",
    "        optimizer.zero_grad()\n",
    "        y_pred_train = model(X_batch_train, X_batch_lengths_train)\n",
    "        loss_train = criterion(y_pred_train, y_batch_train)\n",
    "        loss_train.backward()\n",
    "        optimizer.step()\n",
    "\n",
    "        loss_train_epoch += loss_train.item() * y_batch_train.size()[0]\n",
    "        correct_train_epoch += correct(y_pred_train, y_batch_train)\n",
    "        n_train += y_batch_train.size()[0]\n",
    "\n",
    "    scheduler.step()\n",
    "    model.eval()\n",
    "\n",
    "    with torch.no_grad():\n",
    "        \n",
    "        for item in model.parameters():\n",
    "            print(item.grad.mean())\n",
    "        \n",
    "        for (X_batch_val, X_batch_lengths_val, y_batch_val) in tqdm(val_dl):\n",
    "\n",
    "            X_batch_val, X_batch_lengths_val, y_batch_val =\\\n",
    "                    X_batch_val.to(device), X_batch_lengths_val.to(device), y_batch_val.to(device)\n",
    "\n",
    "            y_pred_val = model(X_batch_val, X_batch_lengths_val)\n",
    "            loss_val = criterion(y_pred_val, y_batch_val)\n",
    "            \n",
    "            loss_val_epoch += loss_val.item() * y_batch_val.size()[0]\n",
    "            correct_val_epoch += correct(y_pred_val, y_batch_val)\n",
    "            n_val += y_batch_val.size()[0]\n",
    "            \n",
    "\n",
    "    loss_mean_train_epoch = loss_train_epoch / n_train\n",
    "    loss_mean_val_epoch = loss_val_epoch / n_val\n",
    "\n",
    "    loss_train_all.append(loss_mean_train_epoch)\n",
    "    loss_val_all.append(loss_mean_val_epoch)\n",
    "\n",
    "    accuracy_train_epoch = correct_train_epoch / n_train\n",
    "    accuracy_val_epoch = correct_val_epoch / n_val\n",
    "\n",
    "    accuracy_train_all.append(accuracy_train_epoch)\n",
    "    accuracy_val_all.append(accuracy_val_epoch)\n",
    "\n",
    "    writer.add_scalars('LOSS per epoch', {\"train\": loss_mean_train_epoch, \"val\": loss_mean_val_epoch}, epoch)\n",
    "    writer.add_scalars('ACCURACY per epoch', {\"train\": accuracy_train_epoch, \"val\": accuracy_val_epoch}, epoch)\n",
    "    \n",
    "#     scheduler.step(loss_mean_val_epoch)\n",
    "    \n",
    "    end = time.time()\n",
    "    print(f\"epoch time: {end - start}\")  \n",
    "    print(f\"mean loss train: {loss_mean_train_epoch}, mean loss val: {loss_mean_val_epoch}\")\n",
    "    print(f\"accuracy train: {accuracy_train_epoch}, accuracy val: {accuracy_val_epoch}\")\n",
    "\n",
    "    print(\"---------------------------------------------------------------------------------------------------\")"
   ]
  },
  {
   "cell_type": "code",
   "execution_count": null,
   "metadata": {},
   "outputs": [],
   "source": []
  },
  {
   "cell_type": "code",
   "execution_count": null,
   "metadata": {},
   "outputs": [],
   "source": []
  },
  {
   "cell_type": "code",
   "execution_count": 78,
   "metadata": {},
   "outputs": [
    {
     "data": {
      "application/vnd.jupyter.widget-view+json": {
       "model_id": "23364bee4084417b84680df12dcec340",
       "version_major": 2,
       "version_minor": 0
      },
      "text/plain": [
       "HBox(children=(FloatProgress(value=0.0, max=40.0), HTML(value='')))"
      ]
     },
     "metadata": {},
     "output_type": "display_data"
    },
    {
     "name": "stdout",
     "output_type": "stream",
     "text": [
      "\n"
     ]
    },
    {
     "ename": "ValueError",
     "evalue": "too many values to unpack (expected 2)",
     "output_type": "error",
     "traceback": [
      "\u001b[0;31m---------------------------------------------------------------------------\u001b[0m",
      "\u001b[0;31mValueError\u001b[0m                                Traceback (most recent call last)",
      "\u001b[0;32m<ipython-input-78-3347df1628cb>\u001b[0m in \u001b[0;36m<module>\u001b[0;34m\u001b[0m\n\u001b[1;32m      5\u001b[0m \u001b[0;32mwith\u001b[0m \u001b[0mtorch\u001b[0m\u001b[0;34m.\u001b[0m\u001b[0mno_grad\u001b[0m\u001b[0;34m(\u001b[0m\u001b[0;34m)\u001b[0m\u001b[0;34m:\u001b[0m\u001b[0;34m\u001b[0m\u001b[0;34m\u001b[0m\u001b[0m\n\u001b[1;32m      6\u001b[0m \u001b[0;34m\u001b[0m\u001b[0m\n\u001b[0;32m----> 7\u001b[0;31m     \u001b[0;32mfor\u001b[0m \u001b[0;34m(\u001b[0m\u001b[0mX_batch_val\u001b[0m\u001b[0;34m,\u001b[0m \u001b[0my_batch_val\u001b[0m\u001b[0;34m)\u001b[0m \u001b[0;32min\u001b[0m \u001b[0mtqdm\u001b[0m\u001b[0;34m(\u001b[0m\u001b[0mval_dl\u001b[0m\u001b[0;34m)\u001b[0m\u001b[0;34m:\u001b[0m\u001b[0;34m\u001b[0m\u001b[0;34m\u001b[0m\u001b[0m\n\u001b[0m\u001b[1;32m      8\u001b[0m \u001b[0;34m\u001b[0m\u001b[0m\n\u001b[1;32m      9\u001b[0m         \u001b[0mX_batch_val\u001b[0m\u001b[0;34m,\u001b[0m \u001b[0my_batch_val\u001b[0m \u001b[0;34m=\u001b[0m \u001b[0mX_batch_val\u001b[0m\u001b[0;34m.\u001b[0m\u001b[0mto\u001b[0m\u001b[0;34m(\u001b[0m\u001b[0mdevice\u001b[0m\u001b[0;34m)\u001b[0m\u001b[0;34m,\u001b[0m \u001b[0my_batch_val\u001b[0m\u001b[0;34m.\u001b[0m\u001b[0mto\u001b[0m\u001b[0;34m(\u001b[0m\u001b[0mdevice\u001b[0m\u001b[0;34m)\u001b[0m\u001b[0;34m\u001b[0m\u001b[0;34m\u001b[0m\u001b[0m\n",
      "\u001b[0;31mValueError\u001b[0m: too many values to unpack (expected 2)"
     ]
    }
   ],
   "source": [
    "model.eval()\n",
    "\n",
    "y_ans_val, y_true_val = [], []\n",
    "\n",
    "with torch.no_grad():\n",
    "\n",
    "    for (X_batch_val, y_batch_val) in tqdm(val_dl):\n",
    "\n",
    "        X_batch_val, y_batch_val = X_batch_val.to(device), y_batch_val.to(device)\n",
    "\n",
    "        y_pred_val = model(X_batch_val)\n",
    "        \n",
    "        y_pred_prob = F.softmax(y_pred_val.cpu(), dim=-1)\n",
    "        y_pred_class = y_pred_prob.max(dim=-1)[1]\n",
    "       \n",
    "        y_ans_val += y_pred_class.tolist()\n",
    "        y_true_val += y_batch_val.tolist()"
   ]
  },
  {
   "cell_type": "code",
   "execution_count": null,
   "metadata": {},
   "outputs": [],
   "source": [
    "plt.figure(figsize=(15, 10))\n",
    "plt.title(\"FDR\")\n",
    "sns.heatmap(confusion_matrix(y_true_val, y_ans_val, normalize='pred'), annot=True, cmap=sns.cm.rocket_r)\n",
    "plt.xlabel('predicted class')\n",
    "plt.ylabel('true class')\n",
    "plt.show()"
   ]
  },
  {
   "cell_type": "code",
   "execution_count": null,
   "metadata": {},
   "outputs": [],
   "source": [
    "plt.figure(figsize=(20, 8))\n",
    "plt.title(\"loss\")\n",
    "plt.plot(np.arange(len(loss_train_all)), loss_train_all, '-o', marker='.', label='train')\n",
    "plt.plot(np.arange(len(loss_val_all)), loss_val_all, '-o', marker='.', label='val')\n",
    "plt.legend()\n",
    "plt.show()"
   ]
  },
  {
   "cell_type": "code",
   "execution_count": null,
   "metadata": {},
   "outputs": [],
   "source": [
    "plt.figure(figsize=(20, 8))\n",
    "plt.title(\"accuracy\")\n",
    "plt.plot(np.arange(len(accuracy_train_all)), accuracy_train_all, '-o', marker='.', label='train')\n",
    "plt.plot(np.arange(len(accuracy_val_all)), accuracy_val_all, '-o', marker='.', label='val')\n",
    "plt.legend()\n",
    "plt.show()"
   ]
  },
  {
   "cell_type": "markdown",
   "metadata": {},
   "source": [
    "# ----------------------------------------------------------------------------------------"
   ]
  },
  {
   "cell_type": "code",
   "execution_count": null,
   "metadata": {},
   "outputs": [],
   "source": []
  },
  {
   "cell_type": "code",
   "execution_count": null,
   "metadata": {},
   "outputs": [],
   "source": []
  }
 ],
 "metadata": {
  "kernelspec": {
   "display_name": "Python 3",
   "language": "python",
   "name": "python3"
  }
 },
 "nbformat": 4,
 "nbformat_minor": 4
}
