{
 "cells": [
  {
   "cell_type": "code",
   "execution_count": 3,
   "metadata": {},
   "outputs": [],
   "source": [
    "import torch\n",
    "from torch import nn"
   ]
  },
  {
   "cell_type": "code",
   "execution_count": 161,
   "metadata": {},
   "outputs": [],
   "source": [
    "input = torch.randn(10, 1, 2)"
   ]
  },
  {
   "cell_type": "code",
   "execution_count": 162,
   "metadata": {},
   "outputs": [],
   "source": [
    "# h0 = torch.randn(1, 1, 7)"
   ]
  },
  {
   "cell_type": "code",
   "execution_count": 163,
   "metadata": {},
   "outputs": [
    {
     "data": {
      "text/plain": [
       "tensor([[[ 0.4195,  0.9124]],\n",
       "\n",
       "        [[ 0.7521, -0.1618]],\n",
       "\n",
       "        [[-1.3284,  0.4656]],\n",
       "\n",
       "        [[-0.7981, -0.6390]],\n",
       "\n",
       "        [[-0.6949,  0.4304]],\n",
       "\n",
       "        [[-1.6280, -0.6473]],\n",
       "\n",
       "        [[-0.7926,  0.2752]],\n",
       "\n",
       "        [[ 0.2850,  1.2107]],\n",
       "\n",
       "        [[-1.0022, -1.0485]],\n",
       "\n",
       "        [[-1.2310,  0.1264]]])"
      ]
     },
     "execution_count": 163,
     "metadata": {},
     "output_type": "execute_result"
    }
   ],
   "source": [
    "input"
   ]
  },
  {
   "cell_type": "code",
   "execution_count": 187,
   "metadata": {},
   "outputs": [],
   "source": [
    "rnn = nn.RNN(input_size=2, hidden_size=2, num_layers=1)"
   ]
  },
  {
   "cell_type": "code",
   "execution_count": 188,
   "metadata": {},
   "outputs": [],
   "source": [
    "output, hn = rnn(input)"
   ]
  },
  {
   "cell_type": "code",
   "execution_count": 189,
   "metadata": {},
   "outputs": [
    {
     "data": {
      "text/plain": [
       "(torch.Size([10, 1, 2]), torch.Size([1, 1, 2]))"
      ]
     },
     "execution_count": 189,
     "metadata": {},
     "output_type": "execute_result"
    }
   ],
   "source": [
    "output.size(), hn.size()"
   ]
  },
  {
   "cell_type": "code",
   "execution_count": 190,
   "metadata": {},
   "outputs": [
    {
     "data": {
      "text/plain": [
       "(tensor([[[-0.7517,  0.1956]],\n",
       " \n",
       "         [[-0.6041, -0.3723]],\n",
       " \n",
       "         [[-0.8497, -0.0114]],\n",
       " \n",
       "         [[-0.6614, -0.4263]],\n",
       " \n",
       "         [[-0.7903, -0.0966]],\n",
       " \n",
       "         [[-0.7371, -0.3588]],\n",
       " \n",
       "         [[-0.7911, -0.1556]],\n",
       " \n",
       "         [[-0.8837,  0.0417]],\n",
       " \n",
       "         [[-0.5856, -0.5181]],\n",
       " \n",
       "         [[-0.7547, -0.1284]]], grad_fn=<StackBackward>),\n",
       " tensor([[[-0.7547, -0.1284]]], grad_fn=<StackBackward>))"
      ]
     },
     "execution_count": 190,
     "metadata": {},
     "output_type": "execute_result"
    }
   ],
   "source": [
    "output, hn"
   ]
  },
  {
   "cell_type": "code",
   "execution_count": 191,
   "metadata": {},
   "outputs": [
    {
     "data": {
      "text/plain": [
       "Parameter containing:\n",
       "tensor([-0.5808, -0.2812], requires_grad=True)"
      ]
     },
     "execution_count": 191,
     "metadata": {},
     "output_type": "execute_result"
    }
   ],
   "source": [
    "rnn.bias_ih_l0"
   ]
  },
  {
   "cell_type": "code",
   "execution_count": 192,
   "metadata": {},
   "outputs": [
    {
     "data": {
      "text/plain": [
       "Parameter containing:\n",
       "tensor([-0.0303,  0.2291], requires_grad=True)"
      ]
     },
     "execution_count": 192,
     "metadata": {},
     "output_type": "execute_result"
    }
   ],
   "source": [
    "rnn.bias_hh_l0"
   ]
  },
  {
   "cell_type": "code",
   "execution_count": 193,
   "metadata": {},
   "outputs": [
    {
     "data": {
      "text/plain": [
       "(torch.Size([2, 2]), torch.Size([10, 1, 2]))"
      ]
     },
     "execution_count": 193,
     "metadata": {},
     "output_type": "execute_result"
    }
   ],
   "source": [
    "rnn.weight_ih_l0.size(), input.size()"
   ]
  },
  {
   "cell_type": "code",
   "execution_count": 194,
   "metadata": {},
   "outputs": [
    {
     "data": {
      "text/plain": [
       "torch.Size([10, 1, 2])"
      ]
     },
     "execution_count": 194,
     "metadata": {},
     "output_type": "execute_result"
    }
   ],
   "source": [
    "output.size()"
   ]
  },
  {
   "cell_type": "code",
   "execution_count": 195,
   "metadata": {},
   "outputs": [
    {
     "data": {
      "text/plain": [
       "tensor([[[ 0.1073, -0.4730],\n",
       "         [-0.0349,  0.2852]],\n",
       "\n",
       "        [[ 0.1925,  0.0839],\n",
       "         [-0.0627, -0.0506]],\n",
       "\n",
       "        [[-0.3399, -0.2414],\n",
       "         [ 0.1107,  0.1455]],\n",
       "\n",
       "        [[-0.2042,  0.3312],\n",
       "         [ 0.0665, -0.1997]],\n",
       "\n",
       "        [[-0.1778, -0.2231],\n",
       "         [ 0.0579,  0.1345]],\n",
       "\n",
       "        [[-0.4166,  0.3355],\n",
       "         [ 0.1356, -0.2023]],\n",
       "\n",
       "        [[-0.2028, -0.1426],\n",
       "         [ 0.0660,  0.0860]],\n",
       "\n",
       "        [[ 0.0729, -0.6275],\n",
       "         [-0.0237,  0.3784]],\n",
       "\n",
       "        [[-0.2565,  0.5435],\n",
       "         [ 0.0835, -0.3277]],\n",
       "\n",
       "        [[-0.3150, -0.0655],\n",
       "         [ 0.1026,  0.0395]]], grad_fn=<MulBackward0>)"
      ]
     },
     "execution_count": 195,
     "metadata": {},
     "output_type": "execute_result"
    }
   ],
   "source": [
    "torch.mul(rnn.weight_ih_l0, input)"
   ]
  },
  {
   "cell_type": "code",
   "execution_count": 196,
   "metadata": {},
   "outputs": [
    {
     "data": {
      "text/plain": [
       "tensor([[[-0.2807,  0.0559],\n",
       "         [-0.2393, -0.0083]]], grad_fn=<MulBackward0>)"
      ]
     },
     "execution_count": 196,
     "metadata": {},
     "output_type": "execute_result"
    }
   ],
   "source": [
    "torch.mul(rnn.weight_hh_l0, hn)"
   ]
  },
  {
   "cell_type": "code",
   "execution_count": 144,
   "metadata": {},
   "outputs": [
    {
     "data": {
      "text/plain": [
       "torch.Size([2, 1, 3])"
      ]
     },
     "execution_count": 144,
     "metadata": {},
     "output_type": "execute_result"
    }
   ],
   "source": [
    "hn.shape"
   ]
  },
  {
   "cell_type": "code",
   "execution_count": 145,
   "metadata": {},
   "outputs": [
    {
     "data": {
      "text/plain": [
       "tensor([[[ 0.0434,  0.3390, -0.6478]],\n",
       "\n",
       "        [[-0.5405,  0.4320, -0.5389]]], grad_fn=<StackBackward>)"
      ]
     },
     "execution_count": 145,
     "metadata": {},
     "output_type": "execute_result"
    }
   ],
   "source": [
    "hn"
   ]
  },
  {
   "cell_type": "code",
   "execution_count": null,
   "metadata": {},
   "outputs": [],
   "source": []
  },
  {
   "cell_type": "code",
   "execution_count": null,
   "metadata": {},
   "outputs": [],
   "source": []
  },
  {
   "cell_type": "code",
   "execution_count": 44,
   "metadata": {},
   "outputs": [
    {
     "data": {
      "text/plain": [
       "(torch.Size([5, 3, 20]), torch.Size([2, 3, 20]))"
      ]
     },
     "execution_count": 44,
     "metadata": {},
     "output_type": "execute_result"
    }
   ],
   "source": [
    "output.size(), hn.size()"
   ]
  },
  {
   "cell_type": "code",
   "execution_count": 45,
   "metadata": {},
   "outputs": [
    {
     "data": {
      "text/plain": [
       "torch.Size([20, 20])"
      ]
     },
     "execution_count": 45,
     "metadata": {},
     "output_type": "execute_result"
    }
   ],
   "source": [
    "rnn.weight_hh_l0.size()"
   ]
  },
  {
   "cell_type": "code",
   "execution_count": 46,
   "metadata": {},
   "outputs": [
    {
     "data": {
      "text/plain": [
       "torch.Size([20, 20])"
      ]
     },
     "execution_count": 46,
     "metadata": {},
     "output_type": "execute_result"
    }
   ],
   "source": [
    "rnn.weight_hh_l1.size()"
   ]
  },
  {
   "cell_type": "code",
   "execution_count": 48,
   "metadata": {},
   "outputs": [
    {
     "data": {
      "text/plain": [
       "torch.Size([2, 3, 20])"
      ]
     },
     "execution_count": 48,
     "metadata": {},
     "output_type": "execute_result"
    }
   ],
   "source": [
    "hn.size()"
   ]
  },
  {
   "cell_type": "code",
   "execution_count": 53,
   "metadata": {},
   "outputs": [
    {
     "name": "stdout",
     "output_type": "stream",
     "text": [
      "weight_ih_l0\n",
      "weight_hh_l0\n",
      "bias_ih_l0\n",
      "bias_hh_l0\n",
      "weight_ih_l1\n",
      "weight_hh_l1\n",
      "bias_ih_l1\n",
      "bias_hh_l1\n"
     ]
    }
   ],
   "source": [
    "for item in rnn.named_parameters():\n",
    "    print(item[0])"
   ]
  },
  {
   "cell_type": "code",
   "execution_count": null,
   "metadata": {},
   "outputs": [],
   "source": []
  }
 ],
 "metadata": {
  "kernelspec": {
   "display_name": "Python 3",
   "language": "python",
   "name": "python3"
  },
  "language_info": {
   "codemirror_mode": {
    "name": "ipython",
    "version": 3
   },
   "file_extension": ".py",
   "mimetype": "text/x-python",
   "name": "python",
   "nbconvert_exporter": "python",
   "pygments_lexer": "ipython3",
   "version": "3.6.8"
  }
 },
 "nbformat": 4,
 "nbformat_minor": 4
}
